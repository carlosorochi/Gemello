{
 "cells": [
  {
   "cell_type": "code",
   "execution_count": 4,
   "metadata": {
    "collapsed": true
   },
   "outputs": [],
   "source": [
    "import pickle\n",
    "import pandas as pd"
   ]
  },
  {
   "cell_type": "code",
   "execution_count": 5,
   "metadata": {
    "collapsed": false
   },
   "outputs": [],
   "source": [
    "test_region = \"Austin\"\n",
    "train_region = \"SanDiego\"\n",
    "out_overall = pickle.load(open('../data/input/all_regions.pkl','r'))\n",
    "\n",
    "train_df = out_overall[train_region]\n",
    "test_df = out_overall[test_region]"
   ]
  },
  {
   "cell_type": "code",
   "execution_count": 6,
   "metadata": {
    "collapsed": false
   },
   "outputs": [],
   "source": [
    "from missingno import missingno\n",
    "import numpy as np"
   ]
  },
  {
   "cell_type": "code",
   "execution_count": 7,
   "metadata": {
    "collapsed": true
   },
   "outputs": [],
   "source": [
    "%matplotlib inline"
   ]
  },
  {
   "cell_type": "code",
   "execution_count": 8,
   "metadata": {
    "collapsed": false
   },
   "outputs": [],
   "source": [
    "start_month, end_month=1,13\n",
    "agg_features = np.hstack([['aggregate_'+str(month) for month in range(start_month, end_month)],\n",
    "                         ])\n",
    "md_features = ['area','house_num_rooms']\n",
    "features = {'md_agg':np.hstack([\n",
    "            agg_features,\n",
    "            md_features\n",
    "            ]).tolist()}"
   ]
  },
  {
   "cell_type": "code",
   "execution_count": 9,
   "metadata": {
    "collapsed": false
   },
   "outputs": [],
   "source": [
    "df = pd.concat([test_df[features['md_agg']], train_df[features['md_agg']]])"
   ]
  },
  {
   "cell_type": "code",
   "execution_count": 10,
   "metadata": {
    "collapsed": true
   },
   "outputs": [],
   "source": [
    "import calendar\n",
    "df = df.rename(columns={'aggregate_%d' %month: calendar.month_name[month] for month in range(1, 13)})"
   ]
  },
  {
   "cell_type": "code",
   "execution_count": 11,
   "metadata": {
    "collapsed": true
   },
   "outputs": [],
   "source": [
    "df = df.rename(columns={'area':'Area','house_num_rooms':'Num. rooms'})"
   ]
  },
  {
   "cell_type": "code",
   "execution_count": 12,
   "metadata": {
    "collapsed": false
   },
   "outputs": [
    {
     "name": "stderr",
     "output_type": "stream",
     "text": [
      "/Users/nipunbatra/anaconda/lib/python2.7/site-packages/matplotlib/__init__.py:872: UserWarning: text.fontsize is deprecated and replaced with font.size; please use the latter.\n",
      "  warnings.warn(self.msg_depr % (key, alt_key))\n"
     ]
    },
    {
     "data": {
      "image/png": "[encoded data removed]",
      "text/plain": [
       "<matplotlib.figure.Figure at 0x1147b2610>"
      ]
     },
     "metadata": {},
     "output_type": "display_data"
    },
    {
     "data": {
      "text/plain": [
       "<matplotlib.figure.Figure at 0x1091ab910>"
      ]
     },
     "metadata": {},
     "output_type": "display_data"
    }
   ],
   "source": [
    "a = missingno(df, figsize=(3.39,3), fontsize=9, filename='../results/spark.pdf')"
   ]
  },
  {
   "cell_type": "code",
   "execution_count": 13,
   "metadata": {
    "collapsed": false
   },
   "outputs": [],
   "source": [
    "import matplotlib.pyplot as plt\n",
    "a.savefig('../results/spark.png')"
   ]
  },
  {
   "cell_type": "code",
   "execution_count": 10,
   "metadata": {
    "collapsed": true
   },
   "outputs": [],
   "source": [
    "cols = df.columns"
   ]
  },
  {
   "cell_type": "code",
   "execution_count": 11,
   "metadata": {
    "collapsed": false
   },
   "outputs": [],
   "source": [
    "num = {col:len(df[col].dropna()) for col in cols}\n"
   ]
  },
  {
   "cell_type": "code",
   "execution_count": 12,
   "metadata": {
    "collapsed": true
   },
   "outputs": [],
   "source": [
    "import sys\n"
   ]
  },
  {
   "cell_type": "code",
   "execution_count": 13,
   "metadata": {
    "collapsed": false
   },
   "outputs": [],
   "source": [
    "sys.path.append('../code/')"
   ]
  },
  {
   "cell_type": "code",
   "execution_count": 17,
   "metadata": {
    "collapsed": true
   },
   "outputs": [],
   "source": [
    "from common_functions import latexify, format_axes, tableau20blind\n",
    "import matplotlib.pyplot as plt"
   ]
  },
  {
   "cell_type": "code",
   "execution_count": 15,
   "metadata": {
    "collapsed": false
   },
   "outputs": [
    {
     "name": "stderr",
     "output_type": "stream",
     "text": [
      "/Users/nipunbatra/anaconda/lib/python2.7/site-packages/matplotlib/__init__.py:872: UserWarning: axes.color_cycle is deprecated and replaced with axes.prop_cycle; please use the latter.\n",
      "  warnings.warn(self.msg_depr % (key, alt_key))\n",
      "/Users/nipunbatra/anaconda/lib/python2.7/site-packages/matplotlib/__init__.py:872: UserWarning: text.fontsize is deprecated and replaced with font.size; please use the latter.\n",
      "  warnings.warn(self.msg_depr % (key, alt_key))\n"
     ]
    }
   ],
   "source": [
    "latexify()"
   ]
  },
  {
   "cell_type": "code",
   "execution_count": 18,
   "metadata": {
    "collapsed": false
   },
   "outputs": [
    {
     "data": {
      "image/png": "[encoded data removed]",
      "text/plain": [
       "<matplotlib.figure.Figure at 0x117741990>"
      ]
     },
     "metadata": {},
     "output_type": "display_data"
    }
   ],
   "source": [
    "ax = pd.Series(num).ix[cols].plot(kind=\"bar\", color=tableau20blind[0])\n",
    "format_axes(ax)\n",
    "plt.xlabel(\"Feature\")\n",
    "plt.ylabel(\"Number of homes\")\n",
    "plt.tight_layout()\n",
    "plt.savefig(\"../results/features.png\",bbox_inches=\"tight\")\n",
    "plt.savefig(\"../results/features.pdf\",bbox_inches=\"tight\")"
   ]
  },
  {
   "cell_type": "code",
   "execution_count": 80,
   "metadata": {
    "collapsed": false
   },
   "outputs": [],
   "source": [
    "b = pd.Series(dd[train_region]['Cooling'])"
   ]
  },
  {
   "cell_type": "code",
   "execution_count": 81,
   "metadata": {
    "collapsed": false
   },
   "outputs": [],
   "source": [
    "from sklearn.linear_model import LinearRegression"
   ]
  },
  {
   "cell_type": "code",
   "execution_count": 82,
   "metadata": {
    "collapsed": true
   },
   "outputs": [],
   "source": [
    "clf = LinearRegression()"
   ]
  },
  {
   "cell_type": "code",
   "execution_count": 83,
   "metadata": {
    "collapsed": false
   },
   "outputs": [
    {
     "data": {
      "text/plain": [
       "LinearRegression(copy_X=True, fit_intercept=True, n_jobs=1, normalize=False)"
      ]
     },
     "execution_count": 83,
     "metadata": {},
     "output_type": "execute_result"
    }
   ],
   "source": [
    "clf.fit(a.values.reshape(12,1), b.values.reshape(12,))"
   ]
  },
  {
   "cell_type": "code",
   "execution_count": 84,
   "metadata": {
    "collapsed": false
   },
   "outputs": [
    {
     "data": {
      "text/plain": [
       "array([-0.46208592])"
      ]
     },
     "execution_count": 84,
     "metadata": {},
     "output_type": "execute_result"
    }
   ],
   "source": [
    "clf.coef_"
   ]
  },
  {
   "cell_type": "code",
   "execution_count": 85,
   "metadata": {
    "collapsed": false
   },
   "outputs": [
    {
     "data": {
      "text/plain": [
       "270.49793582944153"
      ]
     },
     "execution_count": 85,
     "metadata": {},
     "output_type": "execute_result"
    }
   ],
   "source": [
    "clf.intercept_"
   ]
  },
  {
   "cell_type": "code",
   "execution_count": 86,
   "metadata": {
    "collapsed": true
   },
   "outputs": [],
   "source": [
    "%matplotlib inline\n",
    "import matplotlib.pyplot as plt"
   ]
  },
  {
   "cell_type": "code",
   "execution_count": 87,
   "metadata": {
    "collapsed": false
   },
   "outputs": [
    {
     "data": {
      "text/plain": [
       "<matplotlib.collections.PathCollection at 0x117563210>"
      ]
     },
     "execution_count": 87,
     "metadata": {},
     "output_type": "execute_result"
    },
    {
     "data": {
      "image/png": "[encoded data removed]",
      "text/plain": [
       "<matplotlib.figure.Figure at 0x1173a4350>"
      ]
     },
     "metadata": {},
     "output_type": "display_data"
    }
   ],
   "source": [
    "plt.scatter(a,b)"
   ]
  },
  {
   "cell_type": "code",
   "execution_count": 88,
   "metadata": {
    "collapsed": true
   },
   "outputs": [],
   "source": [
    "baseline = a.min()"
   ]
  },
  {
   "cell_type": "code",
   "execution_count": 89,
   "metadata": {
    "collapsed": false
   },
   "outputs": [
    {
     "data": {
      "text/plain": [
       "44.138683319091797"
      ]
     },
     "execution_count": 89,
     "metadata": {},
     "output_type": "execute_result"
    }
   ],
   "source": [
    "baseline"
   ]
  },
  {
   "cell_type": "code",
   "execution_count": 90,
   "metadata": {
    "collapsed": false
   },
   "outputs": [
    {
     "data": {
      "text/plain": [
       "23.884716033935547"
      ]
     },
     "execution_count": 90,
     "metadata": {},
     "output_type": "execute_result"
    }
   ],
   "source": [
    "difference = a.max()-baseline\n",
    "difference"
   ]
  },
  {
   "cell_type": "code",
   "execution_count": 91,
   "metadata": {
    "collapsed": true
   },
   "outputs": [],
   "source": [
    "factor = difference/(b.max()-b.min())"
   ]
  },
  {
   "cell_type": "code",
   "execution_count": 92,
   "metadata": {
    "collapsed": false
   },
   "outputs": [
    {
     "data": {
      "text/plain": [
       "0.048546170800682006"
      ]
     },
     "execution_count": 92,
     "metadata": {},
     "output_type": "execute_result"
    }
   ],
   "source": [
    "factor"
   ]
  },
  {
   "cell_type": "code",
   "execution_count": 93,
   "metadata": {
    "collapsed": false
   },
   "outputs": [
    {
     "data": {
      "text/plain": [
       "0    -20.632123\n",
       "1      4.466248\n",
       "2      5.053311\n",
       "3      4.203697\n",
       "4     -0.787885\n",
       "5      8.801791\n",
       "6     10.193200\n",
       "7     13.103335\n",
       "8     21.872794\n",
       "9     13.124307\n",
       "10     4.909166\n",
       "11    -3.187955\n",
       "dtype: float64"
      ]
     },
     "execution_count": 93,
     "metadata": {},
     "output_type": "execute_result"
    }
   ],
   "source": [
    "(baseline + factor*b) - a"
   ]
  },
  {
   "cell_type": "code",
   "execution_count": 94,
   "metadata": {
    "collapsed": false
   },
   "outputs": [],
   "source": [
    "import numpy as np\n",
    "A = np.ones((12,2))\n",
    "A[:,0] = b.values"
   ]
  },
  {
   "cell_type": "code",
   "execution_count": 95,
   "metadata": {
    "collapsed": false
   },
   "outputs": [
    {
     "data": {
      "text/plain": [
       "array([[  67.,    1.],\n",
       "       [  92.,    1.],\n",
       "       [ 219.,    1.],\n",
       "       [ 183.,    1.],\n",
       "       [ 135.,    1.],\n",
       "       [ 272.,    1.],\n",
       "       [ 392.,    1.],\n",
       "       [ 478.,    1.],\n",
       "       [ 524.,    1.],\n",
       "       [ 451.,    1.],\n",
       "       [ 118.,    1.],\n",
       "       [  32.,    1.]])"
      ]
     },
     "execution_count": 95,
     "metadata": {},
     "output_type": "execute_result"
    }
   ],
   "source": [
    "A"
   ]
  },
  {
   "cell_type": "code",
   "execution_count": 96,
   "metadata": {
    "collapsed": false
   },
   "outputs": [
    {
     "data": {
      "text/plain": [
       "array([ 68.02339935,  44.13868332,  49.7169838 ,  48.81893539,\n",
       "        51.4803009 ,  48.5414505 ,  52.97558212,  54.24041748,\n",
       "        47.70408249,  52.90869904,  44.95796585,  48.88011551])"
      ]
     },
     "execution_count": 96,
     "metadata": {},
     "output_type": "execute_result"
    }
   ],
   "source": [
    "a.values"
   ]
  },
  {
   "cell_type": "code",
   "execution_count": 97,
   "metadata": {
    "collapsed": true
   },
   "outputs": [],
   "source": [
    "from scipy.optimize import nnls"
   ]
  },
  {
   "cell_type": "code",
   "execution_count": 58,
   "metadata": {
    "collapsed": false
   },
   "outputs": [
    {
     "data": {
      "text/plain": [
       "array([  0.02877937,  27.95756087])"
      ]
     },
     "execution_count": 58,
     "metadata": {},
     "output_type": "execute_result"
    }
   ],
   "source": [
    "nnls(A, a.values)[0]"
   ]
  },
  {
   "cell_type": "code",
   "execution_count": 98,
   "metadata": {
    "collapsed": false
   },
   "outputs": [
    {
     "data": {
      "text/plain": [
       "array([  0.        ,  51.03221798])"
      ]
     },
     "execution_count": 98,
     "metadata": {},
     "output_type": "execute_result"
    }
   ],
   "source": [
    "nnls(A, a.values)[0]"
   ]
  },
  {
   "cell_type": "code",
   "execution_count": 77,
   "metadata": {
    "collapsed": false
   },
   "outputs": [
    {
     "data": {
      "text/plain": [
       "0    NaN\n",
       "1    NaN\n",
       "2    NaN\n",
       "3    NaN\n",
       "4    NaN\n",
       "5    NaN\n",
       "6    NaN\n",
       "7    NaN\n",
       "8    NaN\n",
       "9    NaN\n",
       "10   NaN\n",
       "11   NaN\n",
       "Name: 527, dtype: float64"
      ]
     },
     "execution_count": 77,
     "metadata": {},
     "output_type": "execute_result"
    }
   ],
   "source": [
    "a"
   ]
  },
  {
   "cell_type": "code",
   "execution_count": 177,
   "metadata": {
    "collapsed": false
   },
   "outputs": [],
   "source": [
    "out = {}\n",
    "for home in train_df.index:\n",
    "    \n",
    "    a = train_df.ix[home][['fridge_%d' %month for month in range(1,13)]]\n",
    "    a = a.dropna()\n",
    "    \n",
    "    if len(a)<1:\n",
    "        continue\n",
    "    else:\n",
    "        a.index = [int(x[-1]) for x in a.index.str.split(\"_\")]\n",
    "        b = pd.Series(dd[train_region]['Cooling'])\n",
    "        b.index = range(1,13)\n",
    "        b = b.ix[a.index]\n",
    "        import numpy as np\n",
    "        A = np.ones((len(b),2))\n",
    "        A[:,0] = b.values\n",
    "        dd_factor = nnls(A, a.values)[0]\n",
    "        out[home] = {'baseline':dd_factor[1],'cdd':dd_factor[0]}\n",
    "        \n"
   ]
  },
  {
   "cell_type": "code",
   "execution_count": 178,
   "metadata": {
    "collapsed": false
   },
   "outputs": [
    {
     "data": {
      "text/plain": [
       "{203: {'baseline': 27.957560874390339, 'cdd': 0.028779374489510089},\n",
       " 1450: {'baseline': 51.032217979431145, 'cdd': 0.0},\n",
       " 1524: {'baseline': 48.400031922442494, 'cdd': 0.029877297836492726},\n",
       " 1731: {'baseline': 33.777273122717972, 'cdd': 0.034800893729134412},\n",
       " 3687: {'baseline': 70.417844189537917, 'cdd': 0.0},\n",
       " 3864: {'baseline': 24.379166591529614, 'cdd': 0.045061656246849303},\n",
       " 3938: {'baseline': 32.321743348807757, 'cdd': 0.029384676043138918},\n",
       " 4495: {'baseline': 17.976511873027135, 'cdd': 0.029817507481758276},\n",
       " 4934: {'baseline': 35.507634601084867, 'cdd': 0.034759510697650285},\n",
       " 5938: {'baseline': 27.869158302132295, 'cdd': 0.021374314472701859},\n",
       " 6377: {'baseline': 0.0, 'cdd': 0.62677138598997206},\n",
       " 6547: {'baseline': 41.427546620368972, 'cdd': 0.0},\n",
       " 7062: {'baseline': 26.251816925905697, 'cdd': 0.067048340844727605},\n",
       " 7114: {'baseline': 45.773849871435374, 'cdd': 0.014881450476219143},\n",
       " 8061: {'baseline': 44.467105876765082, 'cdd': 0.052145276521206402},\n",
       " 8342: {'baseline': 40.931293153135321, 'cdd': 0.035310534809039056},\n",
       " 8574: {'baseline': 0.0, 'cdd': 0.34767560816522852},\n",
       " 8733: {'baseline': 45.779155969619765, 'cdd': 0.0},\n",
       " 9213: {'baseline': 33.450222015380874, 'cdd': 0.0},\n",
       " 9585: {'baseline': 0.0, 'cdd': 0.33573210417334715},\n",
       " 9612: {'baseline': 46.323755224545813, 'cdd': 0.0},\n",
       " 9775: {'baseline': 43.950748028776886, 'cdd': 0.011386785471709548},\n",
       " 9836: {'baseline': 35.724963460649761, 'cdd': 0.0}}"
      ]
     },
     "execution_count": 178,
     "metadata": {},
     "output_type": "execute_result"
    }
   ],
   "source": [
    "out"
   ]
  },
  {
   "cell_type": "code",
   "execution_count": 179,
   "metadata": {
    "collapsed": false
   },
   "outputs": [],
   "source": [
    "import pickle\n",
    "pickle.dump(out, open('../data/input/SanDiego_fridge_dd_coef.pkl','w'))"
   ]
  },
  {
   "cell_type": "code",
   "execution_count": 131,
   "metadata": {
    "collapsed": false
   },
   "outputs": [
    {
     "data": {
      "text/plain": [
       "count    21.000000\n",
       "mean      0.090894\n",
       "std       0.078357\n",
       "min       0.000000\n",
       "25%       0.035885\n",
       "50%       0.064931\n",
       "75%       0.132155\n",
       "max       0.282409\n",
       "dtype: float64"
      ]
     },
     "execution_count": 131,
     "metadata": {},
     "output_type": "execute_result"
    }
   ],
   "source": [
    "(train_df['hvac_3']/train_df['aggregate_3']).dropna().describe()"
   ]
  },
  {
   "cell_type": "code",
   "execution_count": 136,
   "metadata": {
    "collapsed": false
   },
   "outputs": [],
   "source": [
    "te = pd.Series([(test_df['hvac_%d' %month]/test_df['aggregate_%d' %month]).dropna().mean() for month in range(1,13)])"
   ]
  },
  {
   "cell_type": "code",
   "execution_count": 137,
   "metadata": {
    "collapsed": false
   },
   "outputs": [],
   "source": [
    "tr = pd.Series([(train_df['hvac_%d' %month]/train_df['aggregate_%d' %month]).dropna().mean() for month in range(1,13)])"
   ]
  },
  {
   "cell_type": "code",
   "execution_count": 138,
   "metadata": {
    "collapsed": false
   },
   "outputs": [
    {
     "data": {
      "text/plain": [
       "0     12.880313\n",
       "1      2.611318\n",
       "2      0.883466\n",
       "3      4.047109\n",
       "4      7.522609\n",
       "5      3.131906\n",
       "6      1.938266\n",
       "7      1.438584\n",
       "8      1.156132\n",
       "9      1.300389\n",
       "10     7.364232\n",
       "11    21.962514\n",
       "dtype: float64"
      ]
     },
     "execution_count": 138,
     "metadata": {},
     "output_type": "execute_result"
    }
   ],
   "source": [
    "te/tr"
   ]
  },
  {
   "cell_type": "code",
   "execution_count": 150,
   "metadata": {
    "collapsed": false
   },
   "outputs": [],
   "source": [
    "dd_tr = pd.Series(dd[train_region]['Cooling'])\n",
    "dd_te = pd.Series(dd[test_region]['Cooling'])"
   ]
  },
  {
   "cell_type": "code",
   "execution_count": 142,
   "metadata": {
    "collapsed": false
   },
   "outputs": [
    {
     "data": {
      "text/plain": [
       "0     0.228438\n",
       "1     0.283133\n",
       "2     0.907258\n",
       "3     0.626712\n",
       "4     0.312785\n",
       "5     0.469775\n",
       "6     0.541436\n",
       "7     0.639893\n",
       "8     0.849271\n",
       "9     1.199468\n",
       "10    0.585253\n",
       "11    0.487500\n",
       "dtype: float64"
      ]
     },
     "execution_count": 142,
     "metadata": {},
     "output_type": "execute_result"
    }
   ],
   "source": [
    "dd_tr/dd_te"
   ]
  },
  {
   "cell_type": "code",
   "execution_count": 147,
   "metadata": {
    "collapsed": false
   },
   "outputs": [],
   "source": [
    "te_re = pd.Series([(test_df['hvac_%d' %month]).dropna().mean() for month in range(1,13)])"
   ]
  },
  {
   "cell_type": "code",
   "execution_count": 144,
   "metadata": {
    "collapsed": true
   },
   "outputs": [],
   "source": [
    "tr_re = pd.Series([(train_df['hvac_%d' %month]).dropna().mean() for month in range(1,13)])"
   ]
  },
  {
   "cell_type": "code",
   "execution_count": 145,
   "metadata": {
    "collapsed": false
   },
   "outputs": [
    {
     "data": {
      "text/plain": [
       "0       1.872984\n",
       "1       9.612234\n",
       "2      41.898885\n",
       "3      16.089301\n",
       "4      11.544653\n",
       "5      54.993461\n",
       "6     139.051996\n",
       "7     200.787931\n",
       "8     218.475030\n",
       "9     100.481623\n",
       "10      4.081113\n",
       "11      0.206767\n",
       "dtype: float64"
      ]
     },
     "execution_count": 145,
     "metadata": {},
     "output_type": "execute_result"
    }
   ],
   "source": [
    "tr_re"
   ]
  },
  {
   "cell_type": "code",
   "execution_count": 148,
   "metadata": {
    "collapsed": false
   },
   "outputs": [
    {
     "data": {
      "text/plain": [
       "0      52.150156\n",
       "1      40.880130\n",
       "2      48.165750\n",
       "3     117.801139\n",
       "4     204.009346\n",
       "5     397.867762\n",
       "6     621.342580\n",
       "7     687.226764\n",
       "8     482.024772\n",
       "9     241.425677\n",
       "10     45.617709\n",
       "11     34.335550\n",
       "dtype: float64"
      ]
     },
     "execution_count": 148,
     "metadata": {},
     "output_type": "execute_result"
    }
   ],
   "source": [
    "te_re"
   ]
  },
  {
   "cell_type": "code",
   "execution_count": 151,
   "metadata": {
    "collapsed": false
   },
   "outputs": [
    {
     "data": {
      "text/plain": [
       "0      67\n",
       "1      92\n",
       "2     219\n",
       "3     183\n",
       "4     135\n",
       "5     272\n",
       "6     392\n",
       "7     478\n",
       "8     524\n",
       "9     451\n",
       "10    118\n",
       "11     32\n",
       "dtype: int64"
      ]
     },
     "execution_count": 151,
     "metadata": {},
     "output_type": "execute_result"
    }
   ],
   "source": [
    "dd_tr"
   ]
  },
  {
   "cell_type": "code",
   "execution_count": 153,
   "metadata": {
    "collapsed": false
   },
   "outputs": [
    {
     "data": {
      "text/plain": [
       "0       0\n",
       "1      16\n",
       "2      97\n",
       "3     292\n",
       "4     438\n",
       "5     579\n",
       "6     724\n",
       "7     747\n",
       "8     617\n",
       "9     376\n",
       "10    122\n",
       "11     46\n",
       "dtype: int64"
      ]
     },
     "execution_count": 153,
     "metadata": {},
     "output_type": "execute_result"
    }
   ],
   "source": [
    "dd_te"
   ]
  },
  {
   "cell_type": "code",
   "execution_count": 154,
   "metadata": {
    "collapsed": false
   },
   "outputs": [
    {
     "data": {
      "text/plain": [
       "0     0.056387\n",
       "1     0.052821\n",
       "2     0.080302\n",
       "3     0.171690\n",
       "4     0.249276\n",
       "5     0.407293\n",
       "6     0.455714\n",
       "7     0.475609\n",
       "8     0.416599\n",
       "9     0.286289\n",
       "10    0.073315\n",
       "11    0.036751\n",
       "dtype: float64"
      ]
     },
     "execution_count": 154,
     "metadata": {},
     "output_type": "execute_result"
    }
   ],
   "source": [
    "te"
   ]
  },
  {
   "cell_type": "code",
   "execution_count": 159,
   "metadata": {
    "collapsed": false
   },
   "outputs": [
    {
     "data": {
      "text/plain": [
       "count    15.000000\n",
       "mean      4.081113\n",
       "std       8.103378\n",
       "min       0.000000\n",
       "25%       0.007233\n",
       "50%       0.041517\n",
       "75%       2.828808\n",
       "max      28.109400\n",
       "Name: hvac_11, dtype: float64"
      ]
     },
     "execution_count": 159,
     "metadata": {},
     "output_type": "execute_result"
    }
   ],
   "source": [
    "train_df['hvac_11'].dropna().describe()"
   ]
  },
  {
   "cell_type": "code",
   "execution_count": 160,
   "metadata": {
    "collapsed": false
   },
   "outputs": [
    {
     "data": {
      "text/plain": [
       "count    321.000000\n",
       "mean      45.617709\n",
       "std       52.136986\n",
       "min        0.000000\n",
       "25%       11.195600\n",
       "50%       29.063833\n",
       "75%       63.795082\n",
       "max      443.325623\n",
       "Name: hvac_11, dtype: float64"
      ]
     },
     "execution_count": 160,
     "metadata": {},
     "output_type": "execute_result"
    }
   ],
   "source": [
    "test_df['hvac_11'].dropna().describe()"
   ]
  },
  {
   "cell_type": "code",
   "execution_count": 161,
   "metadata": {
    "collapsed": true
   },
   "outputs": [],
   "source": [
    "store = pd.HDFStore('/Users/nipunbatra/wiki-all.h5')"
   ]
  },
  {
   "cell_type": "code",
   "execution_count": 172,
   "metadata": {
    "collapsed": false
   },
   "outputs": [],
   "source": [
    "d = store['203']['2015']"
   ]
  },
  {
   "cell_type": "code",
   "execution_count": 173,
   "metadata": {
    "collapsed": false
   },
   "outputs": [
    {
     "data": {
      "text/plain": [
       "2015-01-31 00:00:00-06:00     10.746192\n",
       "2015-02-28 00:00:00-06:00      8.304787\n",
       "2015-03-31 00:00:00-05:00     23.541351\n",
       "2015-04-30 00:00:00-05:00     17.433727\n",
       "2015-05-31 00:00:00-05:00     16.861671\n",
       "2015-06-30 00:00:00-05:00     40.123264\n",
       "2015-07-31 00:00:00-05:00     70.487862\n",
       "2015-08-31 00:00:00-05:00     80.439026\n",
       "2015-09-30 00:00:00-05:00    133.242264\n",
       "2015-10-31 00:00:00-05:00     38.258335\n",
       "2015-11-30 00:00:00-06:00     11.904202\n",
       "2015-12-31 00:00:00-06:00     24.224037\n",
       "Freq: M, Name: furnace1, dtype: float32"
      ]
     },
     "execution_count": 173,
     "metadata": {},
     "output_type": "execute_result"
    }
   ],
   "source": [
    "d['furnace1'].resample(\"1M\",how=\"mean\")"
   ]
  },
  {
   "cell_type": "code",
   "execution_count": 174,
   "metadata": {
    "collapsed": false
   },
   "outputs": [
    {
     "data": {
      "text/plain": [
       "2015-01-31 00:00:00-06:00      0.002688\n",
       "2015-02-28 00:00:00-06:00      0.004018\n",
       "2015-03-31 00:00:00-05:00     39.156132\n",
       "2015-04-30 00:00:00-05:00     27.293310\n",
       "2015-05-31 00:00:00-05:00     21.319757\n",
       "2015-06-30 00:00:00-05:00     94.795349\n",
       "2015-07-31 00:00:00-05:00    196.064606\n",
       "2015-08-31 00:00:00-05:00    232.893326\n",
       "2015-09-30 00:00:00-05:00    282.432892\n",
       "2015-10-31 00:00:00-05:00     96.910751\n",
       "2015-11-30 00:00:00-06:00      0.862140\n",
       "2015-12-31 00:00:00-06:00      3.816555\n",
       "Freq: M, Name: air1, dtype: float32"
      ]
     },
     "execution_count": 174,
     "metadata": {},
     "output_type": "execute_result"
    }
   ],
   "source": [
    "d['air1'].resample(\"1M\",how=\"mean\")"
   ]
  },
  {
   "cell_type": "code",
   "execution_count": 175,
   "metadata": {
    "collapsed": false
   },
   "outputs": [
    {
     "data": {
      "text/plain": [
       "{203: array([ 0.29190353,  0.        ]),\n",
       " 1450: array([ 0.9143589,  0.       ]),\n",
       " 1524: array([ 0.51203736,  0.        ]),\n",
       " 1731: array([ 0.45050533,  0.        ]),\n",
       " 2354: array([  7.71144214e-06,   0.00000000e+00]),\n",
       " 2606: array([ 0.56204333,  0.        ]),\n",
       " 3687: array([ 0.27879851,  0.        ]),\n",
       " 3864: array([ 0.32137313,  0.        ]),\n",
       " 3938: array([ 0.09568063,  0.        ]),\n",
       " 4495: array([ 0.01884794,  0.        ]),\n",
       " 4934: array([ 0.20995434,  0.        ]),\n",
       " 5938: array([ 0.19611778,  0.        ]),\n",
       " 6377: array([  3.80596994e-05,   0.00000000e+00]),\n",
       " 6547: array([ 0.16778239,  0.        ]),\n",
       " 7062: array([  1.73105309e-03,   1.79224783e+01]),\n",
       " 7114: array([ 0.42238318,  0.        ]),\n",
       " 8061: array([ 0.66379038,  0.        ]),\n",
       " 8342: array([ 0.01812899,  0.        ]),\n",
       " 8574: array([ 0.00041144,  0.        ]),\n",
       " 8733: array([ 0.47415678,  0.        ]),\n",
       " 9213: array([ 0.06268899,  0.        ]),\n",
       " 9585: array([ 0.02245,  0.     ]),\n",
       " 9612: array([  0.1361051 ,  13.46830365]),\n",
       " 9775: array([ 0.28508282,  0.        ]),\n",
       " 9836: array([ 0.03229456,  0.        ])}"
      ]
     },
     "execution_count": 175,
     "metadata": {},
     "output_type": "execute_result"
    }
   ],
   "source": [
    "out"
   ]
  },
  {
   "cell_type": "code",
   "execution_count": 176,
   "metadata": {
    "collapsed": false
   },
   "outputs": [
    {
     "data": {
      "text/plain": [
       "{203: 0.028779374489510089,\n",
       " 1450: 0.0,\n",
       " 1524: 0.029877297836492726,\n",
       " 1731: 0.034800893729134412,\n",
       " 3687: 0.0,\n",
       " 3864: 0.045061656246849303,\n",
       " 3938: 0.029384676043138918,\n",
       " 4495: 0.029817507481758276,\n",
       " 4934: 0.034759510697650285,\n",
       " 5938: 0.021374314472701859,\n",
       " 6377: 0.62677138598997206,\n",
       " 6547: 0.0,\n",
       " 7062: 0.067048340844727605,\n",
       " 7114: 0.014881450476219143,\n",
       " 8061: 0.052145276521206402,\n",
       " 8342: 0.035310534809039056,\n",
       " 8574: 0.34767560816522852,\n",
       " 8733: 0.0,\n",
       " 9213: 0.0,\n",
       " 9585: 0.33573210417334715,\n",
       " 9612: 0.0,\n",
       " 9775: 0.011386785471709548,\n",
       " 9836: 0.0}"
      ]
     },
     "execution_count": 176,
     "metadata": {},
     "output_type": "execute_result"
    }
   ],
   "source": [
    "pickle.load(open('../data/input/SanDiego_fridge_dd_coef.pkl','r'))"
   ]
  },
  {
   "cell_type": "code",
   "execution_count": 180,
   "metadata": {
    "collapsed": false
   },
   "outputs": [
    {
     "data": {
      "text/plain": [
       "{203: {'baseline': 27.957560874390339, 'cdd': 0.028779374489510089},\n",
       " 1450: {'baseline': 51.032217979431145, 'cdd': 0.0},\n",
       " 1524: {'baseline': 48.400031922442494, 'cdd': 0.029877297836492726},\n",
       " 1731: {'baseline': 33.777273122717972, 'cdd': 0.034800893729134412},\n",
       " 3687: {'baseline': 70.417844189537917, 'cdd': 0.0},\n",
       " 3864: {'baseline': 24.379166591529614, 'cdd': 0.045061656246849303},\n",
       " 3938: {'baseline': 32.321743348807757, 'cdd': 0.029384676043138918},\n",
       " 4495: {'baseline': 17.976511873027135, 'cdd': 0.029817507481758276},\n",
       " 4934: {'baseline': 35.507634601084867, 'cdd': 0.034759510697650285},\n",
       " 5938: {'baseline': 27.869158302132295, 'cdd': 0.021374314472701859},\n",
       " 6377: {'baseline': 0.0, 'cdd': 0.62677138598997206},\n",
       " 6547: {'baseline': 41.427546620368972, 'cdd': 0.0},\n",
       " 7062: {'baseline': 26.251816925905697, 'cdd': 0.067048340844727605},\n",
       " 7114: {'baseline': 45.773849871435374, 'cdd': 0.014881450476219143},\n",
       " 8061: {'baseline': 44.467105876765082, 'cdd': 0.052145276521206402},\n",
       " 8342: {'baseline': 40.931293153135321, 'cdd': 0.035310534809039056},\n",
       " 8574: {'baseline': 0.0, 'cdd': 0.34767560816522852},\n",
       " 8733: {'baseline': 45.779155969619765, 'cdd': 0.0},\n",
       " 9213: {'baseline': 33.450222015380874, 'cdd': 0.0},\n",
       " 9585: {'baseline': 0.0, 'cdd': 0.33573210417334715},\n",
       " 9612: {'baseline': 46.323755224545813, 'cdd': 0.0},\n",
       " 9775: {'baseline': 43.950748028776886, 'cdd': 0.011386785471709548},\n",
       " 9836: {'baseline': 35.724963460649761, 'cdd': 0.0}}"
      ]
     },
     "execution_count": 180,
     "metadata": {},
     "output_type": "execute_result"
    }
   ],
   "source": [
    "out"
   ]
  },
  {
   "cell_type": "code",
   "execution_count": 207,
   "metadata": {
    "collapsed": false
   },
   "outputs": [
    {
     "data": {
      "text/plain": [
       "count    15.000000\n",
       "mean      0.206767\n",
       "std       0.728940\n",
       "min       0.000000\n",
       "25%       0.000000\n",
       "50%       0.005883\n",
       "75%       0.026517\n",
       "max       2.839517\n",
       "Name: hvac_12, dtype: float64"
      ]
     },
     "execution_count": 207,
     "metadata": {},
     "output_type": "execute_result"
    }
   ],
   "source": [
    "train_df['hvac_12'].dropna().describe()"
   ]
  },
  {
   "cell_type": "code",
   "execution_count": 208,
   "metadata": {
    "collapsed": false
   },
   "outputs": [
    {
     "data": {
      "text/plain": [
       "count    313.000000\n",
       "mean      34.335550\n",
       "std       73.584854\n",
       "min        0.000000\n",
       "25%        0.419400\n",
       "50%        8.474133\n",
       "75%       29.565916\n",
       "max      506.951752\n",
       "Name: hvac_12, dtype: float64"
      ]
     },
     "execution_count": 208,
     "metadata": {},
     "output_type": "execute_result"
    }
   ],
   "source": [
    "test_df['hvac_12'].dropna().describe()"
   ]
  },
  {
   "cell_type": "code",
   "execution_count": 221,
   "metadata": {
    "collapsed": false
   },
   "outputs": [
    {
     "data": {
      "text/plain": [
       "3938    1.802800\n",
       "9775    3.436233\n",
       "Name: wm_12, dtype: float64"
      ]
     },
     "execution_count": 221,
     "metadata": {},
     "output_type": "execute_result"
    }
   ],
   "source": [
    "train_df['wm_12'].dropna()"
   ]
  },
  {
   "cell_type": "code",
   "execution_count": 223,
   "metadata": {
    "collapsed": false
   },
   "outputs": [
    {
     "data": {
      "text/plain": [
       "count    180.000000\n",
       "mean       4.775413\n",
       "std        8.976150\n",
       "min        0.000000\n",
       "25%        1.967563\n",
       "50%        3.283075\n",
       "75%        4.614083\n",
       "max      100.955681\n",
       "Name: wm_12, dtype: float64"
      ]
     },
     "execution_count": 223,
     "metadata": {},
     "output_type": "execute_result"
    }
   ],
   "source": [
    "test_df['wm_12'].dropna().describe()"
   ]
  },
  {
   "cell_type": "code",
   "execution_count": null,
   "metadata": {
    "collapsed": true
   },
   "outputs": [],
   "source": []
  }
 ],
 "metadata": {
  "kernelspec": {
   "display_name": "Python 2",
   "language": "python",
   "name": "python2"
  },
  "language_info": {
   "codemirror_mode": {
    "name": "ipython",
    "version": 2
   },
   "file_extension": ".py",
   "mimetype": "text/x-python",
   "name": "python",
   "nbconvert_exporter": "python",
   "pygments_lexer": "ipython2",
   "version": "2.7.11"
  }
 },
 "nbformat": 4,
 "nbformat_minor": 0
}
