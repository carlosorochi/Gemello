{
 "cells": [
  {
   "cell_type": "code",
   "execution_count": 43,
   "metadata": {
    "collapsed": true
   },
   "outputs": [],
   "source": [
    "import pandas as pd\n",
    "import numpy as np\n",
    "import pickle"
   ]
  },
  {
   "cell_type": "code",
   "execution_count": 74,
   "metadata": {
    "collapsed": false
   },
   "outputs": [],
   "source": [
    "#train_region = \"Austin\"\n",
    "#test_region = \"SanDiego\"\n",
    "test_region = \"Austin\"\n",
    "train_region = \"SanDiego\"\n",
    "out_overall = pickle.load(open('../data/input/all_regions.pkl','r'))\n",
    "\n",
    "train_df = out_overall[train_region]\n",
    "test_df = out_overall[test_region]\n",
    "#transform = \"DD\"\n",
    "k=3\n",
    "transformations = [\"None\",\"DD\",\"DD-percentage\",'median-aggregate',\"median-aggregate-percentage\",'regional','regional-percentage']\n",
    "#transformations = ['DD','None',\"DD-fridge\"]"
   ]
  },
  {
   "cell_type": "code",
   "execution_count": 75,
   "metadata": {
    "collapsed": false
   },
   "outputs": [
    {
     "name": "stdout",
     "output_type": "stream",
     "text": [
      "hvac 1 None\n",
      "hvac 2 None\n",
      "hvac 3 None\n",
      "hvac 4 None\n",
      "hvac 5 None\n",
      "hvac 6 None\n",
      "hvac 7 None\n",
      "hvac 8 None\n",
      "hvac 9 None\n",
      "hvac 10 None\n",
      "hvac 11 None\n",
      "hvac 12 None\n",
      "fridge 1 None\n",
      "fridge 2 None\n",
      "fridge 3 None\n",
      "fridge 4 None\n",
      "fridge 5 None\n",
      "fridge 6 None\n",
      "fridge 7 None\n",
      "fridge 8 None\n",
      "fridge 9 None\n",
      "fridge 10 None\n",
      "fridge 11 None\n",
      "fridge 12 None\n",
      "wm 1 None\n",
      "wm 2 None\n",
      "wm 3 None\n",
      "wm 4 None\n",
      "wm 5 None\n",
      "wm 6 None\n",
      "wm 7 None\n",
      "wm 8 None\n",
      "wm 9 None\n",
      "wm 10 None\n",
      "wm 11 None\n",
      "wm 12 None\n",
      "hvac 1 DD\n",
      "hvac 2 DD\n",
      "hvac 3 DD\n",
      "hvac 4 DD\n",
      "hvac 5 DD\n",
      "hvac 6 DD\n",
      "hvac 7 DD\n",
      "hvac 8 DD\n",
      "hvac 9 DD\n",
      "hvac 10 DD\n",
      "hvac 11 DD\n",
      "hvac 12 DD\n",
      "fridge 1 DD\n",
      "fridge 2 DD\n",
      "fridge 3 DD\n",
      "fridge 4 DD\n",
      "fridge 5 DD\n",
      "fridge 6 DD\n",
      "fridge 7 DD\n",
      "fridge 8 DD\n",
      "fridge 9 DD\n",
      "fridge 10 DD\n",
      "fridge 11 DD\n",
      "fridge 12 DD\n",
      "wm 1 DD\n",
      "wm 2 DD\n",
      "wm 3 DD\n",
      "wm 4 DD\n",
      "wm 5 DD\n",
      "wm 6 DD\n",
      "wm 7 DD\n",
      "wm 8 DD\n",
      "wm 9 DD\n",
      "wm 10 DD\n",
      "wm 11 DD\n",
      "wm 12 DD\n",
      "hvac 1 DD-percentage\n",
      "hvac 2 DD-percentage\n",
      "hvac 3 DD-percentage\n",
      "hvac 4 DD-percentage\n",
      "hvac 5 DD-percentage\n",
      "hvac 6 DD-percentage\n",
      "hvac 7 DD-percentage\n",
      "hvac 8 DD-percentage\n",
      "hvac 9 DD-percentage\n",
      "hvac 10 DD-percentage\n",
      "hvac 11 DD-percentage\n",
      "hvac 12 DD-percentage\n",
      "fridge 1 DD-percentage\n",
      "fridge 2 DD-percentage\n",
      "fridge 3 DD-percentage\n",
      "fridge 4 DD-percentage\n",
      "fridge 5 DD-percentage\n",
      "fridge 6 DD-percentage\n",
      "fridge 7 DD-percentage\n",
      "fridge 8 DD-percentage\n",
      "fridge 9 DD-percentage\n",
      "fridge 10 DD-percentage\n",
      "fridge 11 DD-percentage\n",
      "fridge 12 DD-percentage\n",
      "wm 1 DD-percentage\n",
      "wm 2 DD-percentage\n",
      "wm 3 DD-percentage\n",
      "wm 4 DD-percentage\n",
      "wm 5 DD-percentage\n",
      "wm 6 DD-percentage\n",
      "wm 7 DD-percentage\n",
      "wm 8 DD-percentage\n",
      "wm 9 DD-percentage\n",
      "wm 10 DD-percentage\n",
      "wm 11 DD-percentage\n",
      "wm 12 DD-percentage\n",
      "hvac 1 median-aggregate\n",
      "hvac 2 median-aggregate\n",
      "hvac 3 median-aggregate\n",
      "hvac 4 median-aggregate\n",
      "hvac 5 median-aggregate\n",
      "hvac 6 median-aggregate\n",
      "hvac 7 median-aggregate\n",
      "hvac 8 median-aggregate\n",
      "hvac 9 median-aggregate\n",
      "hvac 10 median-aggregate\n",
      "hvac 11 median-aggregate\n",
      "hvac 12 median-aggregate\n",
      "fridge 1 median-aggregate\n",
      "fridge 2 median-aggregate\n",
      "fridge 3 median-aggregate\n",
      "fridge 4 median-aggregate\n",
      "fridge 5 median-aggregate\n",
      "fridge 6 median-aggregate\n",
      "fridge 7 median-aggregate\n",
      "fridge 8 median-aggregate\n",
      "fridge 9 median-aggregate\n",
      "fridge 10 median-aggregate\n",
      "fridge 11 median-aggregate\n",
      "fridge 12 median-aggregate\n",
      "wm 1 median-aggregate\n",
      "wm 2 median-aggregate\n",
      "wm 3 median-aggregate\n",
      "wm 4 median-aggregate\n",
      "wm 5 median-aggregate\n",
      "wm 6 median-aggregate\n",
      "wm 7 median-aggregate\n",
      "wm 8 median-aggregate\n",
      "wm 9 median-aggregate\n",
      "wm 10 median-aggregate\n",
      "wm 11 median-aggregate\n",
      "wm 12 median-aggregate\n",
      "hvac 1 median-aggregate-percentage\n",
      "hvac 2 median-aggregate-percentage\n",
      "hvac 3 median-aggregate-percentage\n",
      "hvac 4 median-aggregate-percentage\n",
      "hvac 5 median-aggregate-percentage\n",
      "hvac 6 median-aggregate-percentage\n",
      "hvac 7 median-aggregate-percentage\n",
      "hvac 8 median-aggregate-percentage\n",
      "hvac 9 median-aggregate-percentage\n",
      "hvac 10 median-aggregate-percentage\n",
      "hvac 11 median-aggregate-percentage\n",
      "hvac 12 median-aggregate-percentage\n",
      "fridge 1 median-aggregate-percentage\n",
      "fridge 2 median-aggregate-percentage\n",
      "fridge 3 median-aggregate-percentage\n",
      "fridge 4 median-aggregate-percentage\n",
      "fridge 5 median-aggregate-percentage\n",
      "fridge 6 median-aggregate-percentage\n",
      "fridge 7 median-aggregate-percentage\n",
      "fridge 8 median-aggregate-percentage\n",
      "fridge 9 median-aggregate-percentage\n",
      "fridge 10 median-aggregate-percentage\n",
      "fridge 11 median-aggregate-percentage\n",
      "fridge 12 median-aggregate-percentage\n",
      "wm 1 median-aggregate-percentage\n",
      "wm 2 median-aggregate-percentage\n",
      "wm 3 median-aggregate-percentage\n",
      "wm 4 median-aggregate-percentage\n",
      "wm 5 median-aggregate-percentage\n",
      "wm 6 median-aggregate-percentage\n",
      "wm 7 median-aggregate-percentage\n",
      "wm 8 median-aggregate-percentage\n",
      "wm 9 median-aggregate-percentage\n",
      "wm 10 median-aggregate-percentage\n",
      "wm 11 median-aggregate-percentage\n",
      "wm 12 median-aggregate-percentage\n",
      "hvac 1 regional\n",
      "hvac 2 regional\n",
      "hvac 3 regional\n",
      "hvac 4 regional\n",
      "hvac 5 regional\n",
      "hvac 6 regional\n",
      "hvac 7 regional\n",
      "hvac 8 regional\n",
      "hvac 9 regional\n",
      "hvac 10 regional\n",
      "hvac 11 regional\n",
      "hvac 12 regional\n",
      "fridge 1 regional\n",
      "fridge 2 regional\n",
      "fridge 3 regional\n",
      "fridge 4 regional\n",
      "fridge 5 regional\n",
      "fridge 6 regional\n",
      "fridge 7 regional\n",
      "fridge 8 regional\n",
      "fridge 9 regional\n",
      "fridge 10 regional\n",
      "fridge 11 regional\n",
      "fridge 12 regional\n",
      "wm 1 regional\n",
      "wm 2 regional\n",
      "wm 3 regional\n",
      "wm 4 regional\n",
      "wm 5 regional\n",
      "wm 6 regional\n",
      "wm 7 regional\n",
      "wm 8 regional\n",
      "wm 9 regional\n",
      "wm 10 regional\n",
      "wm 11 regional\n",
      "wm 12 regional\n",
      "hvac 1 regional-percentage\n",
      "hvac 2 regional-percentage\n",
      "hvac 3 regional-percentage\n",
      "hvac 4 regional-percentage\n",
      "hvac 5 regional-percentage\n",
      "hvac 6 regional-percentage\n",
      "hvac 7 regional-percentage\n",
      "hvac 8 regional-percentage\n",
      "hvac 9 regional-percentage\n",
      "hvac 10 regional-percentage\n",
      "hvac 11 regional-percentage\n",
      "hvac 12 regional-percentage\n",
      "fridge 1 regional-percentage\n",
      "fridge 2 regional-percentage\n",
      "fridge 3 regional-percentage\n",
      "fridge 4 regional-percentage\n",
      "fridge 5 regional-percentage\n",
      "fridge 6 regional-percentage\n",
      "fridge 7 regional-percentage\n",
      "fridge 8 regional-percentage\n",
      "fridge 9 regional-percentage\n",
      "fridge 10 regional-percentage\n",
      "fridge 11 regional-percentage\n",
      "fridge 12 regional-percentage\n",
      "wm 1 regional-percentage\n",
      "wm 2 regional-percentage\n",
      "wm 3 regional-percentage\n",
      "wm 4 regional-percentage\n",
      "wm 5 regional-percentage\n",
      "wm 6 regional-percentage\n",
      "wm 7 regional-percentage\n",
      "wm 8 regional-percentage\n",
      "wm 9 regional-percentage\n",
      "wm 10 regional-percentage\n",
      "wm 11 regional-percentage\n",
      "wm 12 regional-percentage\n"
     ]
    }
   ],
   "source": [
    "out = {}\n",
    "for transform in transformations:\n",
    "    out[transform] = {}\n",
    "    #for appliance in [\"hvac\",\"fridge\",\"dr\",\"wm\"]:\n",
    "    for appliance in ['hvac','fridge','wm']:\n",
    "        out[transform][appliance] = {}\n",
    "        for month in range(1,13):\n",
    "            print appliance, month, transform\n",
    "            out[transform][appliance][month] = []\n",
    "            for test_home in test_df.index:\n",
    "                try:\n",
    "                    pred =  pickle.load(open('../data/output/ineq_cross/%s_%s_%s_%s_%d_%d_%d.pkl' %(train_region,\n",
    "                                                                                               test_region,\n",
    "                                                                                               transform,\n",
    "                                                                                               appliance,\n",
    "                                                                                               month,\n",
    "                                                                                               test_home,\n",
    "                                                                                               k),'r'))\n",
    "                    gt = test_df.ix[test_home]['%s_%d' %(appliance, month)]\n",
    "                    error = np.abs(gt-pred)\n",
    "                    percentage_error = error*100/gt\n",
    "                    if percentage_error>100:\n",
    "                        percentage_error=100\n",
    "                    percentage_accuracy = 100-percentage_error\n",
    "                    out[transform][appliance][month].append(percentage_accuracy)\n",
    "                except Exception, e:\n",
    "                    pass\n",
    "\n",
    "            \n"
   ]
  },
  {
   "cell_type": "code",
   "execution_count": 76,
   "metadata": {
    "collapsed": false
   },
   "outputs": [],
   "source": [
    "acc = {tr:{} for tr in transformations}\n",
    "\n",
    "#acc['Regional average']={}\n",
    "\n",
    "for transform in transformations:\n",
    "    #for appliance in [\"hvac\",\"fridge\",\"wm\"]:\n",
    "    for appliance in [\"hvac\",'fridge','wm']:    \n",
    "        acc[transform][appliance] = {}\n",
    "        for month in range(1,13):\n",
    "            acc[transform][appliance][month] = pd.Series(out[transform][appliance][month]).mean()"
   ]
  },
  {
   "cell_type": "code",
   "execution_count": 47,
   "metadata": {
    "collapsed": true
   },
   "outputs": [],
   "source": [
    "%matplotlib inline"
   ]
  },
  {
   "cell_type": "code",
   "execution_count": 77,
   "metadata": {
    "collapsed": false
   },
   "outputs": [
    {
     "data": {
      "text/plain": [
       "<matplotlib.axes._subplots.AxesSubplot at 0x11ebc48d0>"
      ]
     },
     "execution_count": 77,
     "metadata": {},
     "output_type": "execute_result"
    },
    {
     "data": {
      "image/png": "[encoded data removed]",
      "text/plain": [
       "<matplotlib.figure.Figure at 0x11ec125d0>"
      ]
     },
     "metadata": {},
     "output_type": "display_data"
    }
   ],
   "source": [
    "pd.DataFrame(acc['DD-percentage']).plot(kind='bar',rot=0)"
   ]
  },
  {
   "cell_type": "code",
   "execution_count": 70,
   "metadata": {
    "collapsed": false
   },
   "outputs": [
    {
     "data": {
      "text/plain": [
       "<matplotlib.axes._subplots.AxesSubplot at 0x1113aedd0>"
      ]
     },
     "execution_count": 70,
     "metadata": {},
     "output_type": "execute_result"
    },
    {
     "data": {
      "image/png": "[encoded data removed]",
      "text/plain": [
       "<matplotlib.figure.Figure at 0x11b387490>"
      ]
     },
     "metadata": {},
     "output_type": "display_data"
    }
   ],
   "source": [
    "pd.DataFrame(acc['None']).plot(kind='bar',rot=0)"
   ]
  },
  {
   "cell_type": "code",
   "execution_count": 49,
   "metadata": {
    "collapsed": false
   },
   "outputs": [
    {
     "data": {
      "text/plain": [
       "<matplotlib.axes._subplots.AxesSubplot at 0x117a38d50>"
      ]
     },
     "execution_count": 49,
     "metadata": {},
     "output_type": "execute_result"
    },
    {
     "data": {
      "image/png": "[encoded data removed]",
      "text/plain": [
       "<matplotlib.figure.Figure at 0x119003ed0>"
      ]
     },
     "metadata": {},
     "output_type": "display_data"
    }
   ],
   "source": [
    "pd.DataFrame(acc['DD-percentage']).plot(kind='bar',rot=0)"
   ]
  },
  {
   "cell_type": "code",
   "execution_count": 51,
   "metadata": {
    "collapsed": false
   },
   "outputs": [
    {
     "data": {
      "text/plain": [
       "<matplotlib.axes._subplots.AxesSubplot at 0x1112ca7d0>"
      ]
     },
     "execution_count": 51,
     "metadata": {},
     "output_type": "execute_result"
    },
    {
     "data": {
      "image/png": "[encoded data removed]",
      "text/plain": [
       "<matplotlib.figure.Figure at 0x119a73850>"
      ]
     },
     "metadata": {},
     "output_type": "display_data"
    }
   ],
   "source": [
    "pd.DataFrame(acc['median-aggregate']).plot(kind='bar',rot=0)"
   ]
  },
  {
   "cell_type": "code",
   "execution_count": 8,
   "metadata": {
    "collapsed": false
   },
   "outputs": [],
   "source": [
    "contri = {\n",
    "    'Austin':\n",
    "    {'Cooling':{'wm':0.01,\n",
    "    'hvac':0.29,\n",
    "    'fridge':0.09},\n",
    "    'Heating':\n",
    "    {'wm':.01,'hvac':0.07,'fridge':0.09}}\n",
    "    \n",
    "    ,\n",
    "    'SanDiego':\n",
    "    {'wm':0.01,\n",
    "    'hvac':.16,\n",
    "    'fridge':0.15}\n",
    "}"
   ]
  },
  {
   "cell_type": "code",
   "execution_count": 9,
   "metadata": {
    "collapsed": false
   },
   "outputs": [],
   "source": [
    "for appliance in [\"hvac\"]:\n",
    "    acc['Regional average'][appliance] = {}\n",
    "    for month in range(1,13):\n",
    "        acc['Regional average'][appliance][month] = []\n",
    "        for test_home in test_df.index:\n",
    "            try:\n",
    "                if month in range(3, 11):\n",
    "                    pred = test_df.ix[test_home]['aggregate_%d' %month]*contri[test_region]['Cooling'][appliance]\n",
    "                else:\n",
    "                    pred = test_df.ix[test_home]['aggregate_%d' %month]*contri[test_region]['Heating'][appliance]\n",
    "                gt = test_df.ix[test_home]['%s_%d' %(appliance, month)]\n",
    "                error = np.abs(gt-pred)\n",
    "                percentage_error = error*100/gt\n",
    "                if percentage_error>100:\n",
    "                    percentage_error=100\n",
    "                percentage_accuracy = 100-percentage_error\n",
    "                acc['Regional average'][appliance][month].append(percentage_accuracy)\n",
    "            except Exception, e:\n",
    "                print e\n",
    "                \n",
    "        acc['Regional average'][appliance][month] = pd.Series(acc['Regional average'][appliance][month]).mean()"
   ]
  },
  {
   "cell_type": "code",
   "execution_count": 52,
   "metadata": {
    "collapsed": false
   },
   "outputs": [
    {
     "ename": "KeyError",
     "evalue": "'Regional average'",
     "output_type": "error",
     "traceback": [
      "\u001b[0;31m---------------------------------------------------------------------------\u001b[0m",
      "\u001b[0;31mKeyError\u001b[0m                                  Traceback (most recent call last)",
      "\u001b[0;32m<ipython-input-52-1288e6fc55c9>\u001b[0m in \u001b[0;36m<module>\u001b[0;34m()\u001b[0m\n\u001b[1;32m      1\u001b[0m \u001b[0;34m\u001b[0m\u001b[0m\n\u001b[0;32m----> 2\u001b[0;31m \u001b[0mpd\u001b[0m\u001b[0;34m.\u001b[0m\u001b[0mDataFrame\u001b[0m\u001b[0;34m(\u001b[0m\u001b[0macc\u001b[0m\u001b[0;34m[\u001b[0m\u001b[0;34m'Regional average'\u001b[0m\u001b[0;34m]\u001b[0m\u001b[0;34m)\u001b[0m\u001b[0;34m.\u001b[0m\u001b[0mplot\u001b[0m\u001b[0;34m(\u001b[0m\u001b[0mkind\u001b[0m\u001b[0;34m=\u001b[0m\u001b[0;34m'bar'\u001b[0m\u001b[0;34m,\u001b[0m\u001b[0mrot\u001b[0m\u001b[0;34m=\u001b[0m\u001b[0;36m0\u001b[0m\u001b[0;34m)\u001b[0m\u001b[0;34m\u001b[0m\u001b[0m\n\u001b[0m",
      "\u001b[0;31mKeyError\u001b[0m: 'Regional average'"
     ]
    }
   ],
   "source": [
    "\n",
    "pd.DataFrame(acc['Regional average']).plot(kind='bar',rot=0)"
   ]
  },
  {
   "cell_type": "code",
   "execution_count": 298,
   "metadata": {
    "collapsed": false
   },
   "outputs": [
    {
     "ename": "KeyError",
     "evalue": "'hvac'",
     "output_type": "error",
     "traceback": [
      "\u001b[0;31m---------------------------------------------------------------------------\u001b[0m",
      "\u001b[0;31mKeyError\u001b[0m                                  Traceback (most recent call last)",
      "\u001b[0;32m<ipython-input-298-f69f049157f8>\u001b[0m in \u001b[0;36m<module>\u001b[0;34m()\u001b[0m\n\u001b[0;32m----> 1\u001b[0;31m \u001b[0mpd\u001b[0m\u001b[0;34m.\u001b[0m\u001b[0mDataFrame\u001b[0m\u001b[0;34m(\u001b[0m\u001b[0macc\u001b[0m\u001b[0;34m[\u001b[0m\u001b[0;34m'Regional average'\u001b[0m\u001b[0;34m]\u001b[0m\u001b[0;34m)\u001b[0m\u001b[0;34m[\u001b[0m\u001b[0;34m'hvac'\u001b[0m\u001b[0;34m]\u001b[0m\u001b[0;34m\u001b[0m\u001b[0m\n\u001b[0m",
      "\u001b[0;32m/Users/nipunbatra/anaconda/lib/python2.7/site-packages/pandas/core/frame.pyc\u001b[0m in \u001b[0;36m__getitem__\u001b[0;34m(self, key)\u001b[0m\n\u001b[1;32m   1967\u001b[0m             \u001b[0;32mreturn\u001b[0m \u001b[0mself\u001b[0m\u001b[0;34m.\u001b[0m\u001b[0m_getitem_multilevel\u001b[0m\u001b[0;34m(\u001b[0m\u001b[0mkey\u001b[0m\u001b[0;34m)\u001b[0m\u001b[0;34m\u001b[0m\u001b[0m\n\u001b[1;32m   1968\u001b[0m         \u001b[0;32melse\u001b[0m\u001b[0;34m:\u001b[0m\u001b[0;34m\u001b[0m\u001b[0m\n\u001b[0;32m-> 1969\u001b[0;31m             \u001b[0;32mreturn\u001b[0m \u001b[0mself\u001b[0m\u001b[0;34m.\u001b[0m\u001b[0m_getitem_column\u001b[0m\u001b[0;34m(\u001b[0m\u001b[0mkey\u001b[0m\u001b[0;34m)\u001b[0m\u001b[0;34m\u001b[0m\u001b[0m\n\u001b[0m\u001b[1;32m   1970\u001b[0m \u001b[0;34m\u001b[0m\u001b[0m\n\u001b[1;32m   1971\u001b[0m     \u001b[0;32mdef\u001b[0m \u001b[0m_getitem_column\u001b[0m\u001b[0;34m(\u001b[0m\u001b[0mself\u001b[0m\u001b[0;34m,\u001b[0m \u001b[0mkey\u001b[0m\u001b[0;34m)\u001b[0m\u001b[0;34m:\u001b[0m\u001b[0;34m\u001b[0m\u001b[0m\n",
      "\u001b[0;32m/Users/nipunbatra/anaconda/lib/python2.7/site-packages/pandas/core/frame.pyc\u001b[0m in \u001b[0;36m_getitem_column\u001b[0;34m(self, key)\u001b[0m\n\u001b[1;32m   1974\u001b[0m         \u001b[0;31m# get column\u001b[0m\u001b[0;34m\u001b[0m\u001b[0;34m\u001b[0m\u001b[0m\n\u001b[1;32m   1975\u001b[0m         \u001b[0;32mif\u001b[0m \u001b[0mself\u001b[0m\u001b[0;34m.\u001b[0m\u001b[0mcolumns\u001b[0m\u001b[0;34m.\u001b[0m\u001b[0mis_unique\u001b[0m\u001b[0;34m:\u001b[0m\u001b[0;34m\u001b[0m\u001b[0m\n\u001b[0;32m-> 1976\u001b[0;31m             \u001b[0;32mreturn\u001b[0m \u001b[0mself\u001b[0m\u001b[0;34m.\u001b[0m\u001b[0m_get_item_cache\u001b[0m\u001b[0;34m(\u001b[0m\u001b[0mkey\u001b[0m\u001b[0;34m)\u001b[0m\u001b[0;34m\u001b[0m\u001b[0m\n\u001b[0m\u001b[1;32m   1977\u001b[0m \u001b[0;34m\u001b[0m\u001b[0m\n\u001b[1;32m   1978\u001b[0m         \u001b[0;31m# duplicate columns & possible reduce dimensionality\u001b[0m\u001b[0;34m\u001b[0m\u001b[0;34m\u001b[0m\u001b[0m\n",
      "\u001b[0;32m/Users/nipunbatra/anaconda/lib/python2.7/site-packages/pandas/core/generic.pyc\u001b[0m in \u001b[0;36m_get_item_cache\u001b[0;34m(self, item)\u001b[0m\n\u001b[1;32m   1089\u001b[0m         \u001b[0mres\u001b[0m \u001b[0;34m=\u001b[0m \u001b[0mcache\u001b[0m\u001b[0;34m.\u001b[0m\u001b[0mget\u001b[0m\u001b[0;34m(\u001b[0m\u001b[0mitem\u001b[0m\u001b[0;34m)\u001b[0m\u001b[0;34m\u001b[0m\u001b[0m\n\u001b[1;32m   1090\u001b[0m         \u001b[0;32mif\u001b[0m \u001b[0mres\u001b[0m \u001b[0;32mis\u001b[0m \u001b[0mNone\u001b[0m\u001b[0;34m:\u001b[0m\u001b[0;34m\u001b[0m\u001b[0m\n\u001b[0;32m-> 1091\u001b[0;31m             \u001b[0mvalues\u001b[0m \u001b[0;34m=\u001b[0m \u001b[0mself\u001b[0m\u001b[0;34m.\u001b[0m\u001b[0m_data\u001b[0m\u001b[0;34m.\u001b[0m\u001b[0mget\u001b[0m\u001b[0;34m(\u001b[0m\u001b[0mitem\u001b[0m\u001b[0;34m)\u001b[0m\u001b[0;34m\u001b[0m\u001b[0m\n\u001b[0m\u001b[1;32m   1092\u001b[0m             \u001b[0mres\u001b[0m \u001b[0;34m=\u001b[0m \u001b[0mself\u001b[0m\u001b[0;34m.\u001b[0m\u001b[0m_box_item_values\u001b[0m\u001b[0;34m(\u001b[0m\u001b[0mitem\u001b[0m\u001b[0;34m,\u001b[0m \u001b[0mvalues\u001b[0m\u001b[0;34m)\u001b[0m\u001b[0;34m\u001b[0m\u001b[0m\n\u001b[1;32m   1093\u001b[0m             \u001b[0mcache\u001b[0m\u001b[0;34m[\u001b[0m\u001b[0mitem\u001b[0m\u001b[0;34m]\u001b[0m \u001b[0;34m=\u001b[0m \u001b[0mres\u001b[0m\u001b[0;34m\u001b[0m\u001b[0m\n",
      "\u001b[0;32m/Users/nipunbatra/anaconda/lib/python2.7/site-packages/pandas/core/internals.pyc\u001b[0m in \u001b[0;36mget\u001b[0;34m(self, item, fastpath)\u001b[0m\n\u001b[1;32m   3209\u001b[0m \u001b[0;34m\u001b[0m\u001b[0m\n\u001b[1;32m   3210\u001b[0m             \u001b[0;32mif\u001b[0m \u001b[0;32mnot\u001b[0m \u001b[0misnull\u001b[0m\u001b[0;34m(\u001b[0m\u001b[0mitem\u001b[0m\u001b[0;34m)\u001b[0m\u001b[0;34m:\u001b[0m\u001b[0;34m\u001b[0m\u001b[0m\n\u001b[0;32m-> 3211\u001b[0;31m                 \u001b[0mloc\u001b[0m \u001b[0;34m=\u001b[0m \u001b[0mself\u001b[0m\u001b[0;34m.\u001b[0m\u001b[0mitems\u001b[0m\u001b[0;34m.\u001b[0m\u001b[0mget_loc\u001b[0m\u001b[0;34m(\u001b[0m\u001b[0mitem\u001b[0m\u001b[0;34m)\u001b[0m\u001b[0;34m\u001b[0m\u001b[0m\n\u001b[0m\u001b[1;32m   3212\u001b[0m             \u001b[0;32melse\u001b[0m\u001b[0;34m:\u001b[0m\u001b[0;34m\u001b[0m\u001b[0m\n\u001b[1;32m   3213\u001b[0m                 \u001b[0mindexer\u001b[0m \u001b[0;34m=\u001b[0m \u001b[0mnp\u001b[0m\u001b[0;34m.\u001b[0m\u001b[0marange\u001b[0m\u001b[0;34m(\u001b[0m\u001b[0mlen\u001b[0m\u001b[0;34m(\u001b[0m\u001b[0mself\u001b[0m\u001b[0;34m.\u001b[0m\u001b[0mitems\u001b[0m\u001b[0;34m)\u001b[0m\u001b[0;34m)\u001b[0m\u001b[0;34m[\u001b[0m\u001b[0misnull\u001b[0m\u001b[0;34m(\u001b[0m\u001b[0mself\u001b[0m\u001b[0;34m.\u001b[0m\u001b[0mitems\u001b[0m\u001b[0;34m)\u001b[0m\u001b[0;34m]\u001b[0m\u001b[0;34m\u001b[0m\u001b[0m\n",
      "\u001b[0;32m/Users/nipunbatra/anaconda/lib/python2.7/site-packages/pandas/core/index.pyc\u001b[0m in \u001b[0;36mget_loc\u001b[0;34m(self, key, method, tolerance)\u001b[0m\n\u001b[1;32m   1757\u001b[0m                                  'backfill or nearest lookups')\n\u001b[1;32m   1758\u001b[0m             \u001b[0mkey\u001b[0m \u001b[0;34m=\u001b[0m \u001b[0m_values_from_object\u001b[0m\u001b[0;34m(\u001b[0m\u001b[0mkey\u001b[0m\u001b[0;34m)\u001b[0m\u001b[0;34m\u001b[0m\u001b[0m\n\u001b[0;32m-> 1759\u001b[0;31m             \u001b[0;32mreturn\u001b[0m \u001b[0mself\u001b[0m\u001b[0;34m.\u001b[0m\u001b[0m_engine\u001b[0m\u001b[0;34m.\u001b[0m\u001b[0mget_loc\u001b[0m\u001b[0;34m(\u001b[0m\u001b[0mkey\u001b[0m\u001b[0;34m)\u001b[0m\u001b[0;34m\u001b[0m\u001b[0m\n\u001b[0m\u001b[1;32m   1760\u001b[0m \u001b[0;34m\u001b[0m\u001b[0m\n\u001b[1;32m   1761\u001b[0m         indexer = self.get_indexer([key], method=method,\n",
      "\u001b[0;32mpandas/index.pyx\u001b[0m in \u001b[0;36mpandas.index.IndexEngine.get_loc (pandas/index.c:3979)\u001b[0;34m()\u001b[0m\n",
      "\u001b[0;32mpandas/index.pyx\u001b[0m in \u001b[0;36mpandas.index.IndexEngine.get_loc (pandas/index.c:3843)\u001b[0;34m()\u001b[0m\n",
      "\u001b[0;32mpandas/hashtable.pyx\u001b[0m in \u001b[0;36mpandas.hashtable.PyObjectHashTable.get_item (pandas/hashtable.c:12265)\u001b[0;34m()\u001b[0m\n",
      "\u001b[0;32mpandas/hashtable.pyx\u001b[0m in \u001b[0;36mpandas.hashtable.PyObjectHashTable.get_item (pandas/hashtable.c:12216)\u001b[0;34m()\u001b[0m\n",
      "\u001b[0;31mKeyError\u001b[0m: 'hvac'"
     ]
    }
   ],
   "source": [
    "pd.DataFrame(acc['Regional average'])['hvac']"
   ]
  },
  {
   "cell_type": "code",
   "execution_count": 55,
   "metadata": {
    "collapsed": false
   },
   "outputs": [
    {
     "data": {
      "text/plain": [
       "47.30150409459558"
      ]
     },
     "execution_count": 55,
     "metadata": {},
     "output_type": "execute_result"
    }
   ],
   "source": [
    "pd.DataFrame(acc['DD'])['wm'].mean()"
   ]
  },
  {
   "cell_type": "code",
   "execution_count": 312,
   "metadata": {
    "collapsed": false
   },
   "outputs": [
    {
     "data": {
      "text/plain": [
       "1      9.004367\n",
       "2     12.214557\n",
       "3      9.343678\n",
       "4     37.224065\n",
       "5     56.366262\n",
       "6     63.661751\n",
       "7     58.715236\n",
       "8     57.552838\n",
       "9     63.129069\n",
       "10    62.209776\n",
       "11    40.059458\n",
       "12    14.315241\n",
       "Name: hvac, dtype: float64"
      ]
     },
     "execution_count": 312,
     "metadata": {},
     "output_type": "execute_result"
    }
   ],
   "source": [
    "pd.DataFrame(acc['Regional average'])['hvac']"
   ]
  },
  {
   "cell_type": "code",
   "execution_count": 30,
   "metadata": {
    "collapsed": true
   },
   "outputs": [],
   "source": [
    "import matplotlib.pyplot as plt"
   ]
  },
  {
   "cell_type": "code",
   "execution_count": 8,
   "metadata": {
    "collapsed": false
   },
   "outputs": [
    {
     "data": {
      "text/plain": [
       "[]"
      ]
     },
     "execution_count": 8,
     "metadata": {},
     "output_type": "execute_result"
    }
   ],
   "source": [
    "acc['Regional average'].keys()"
   ]
  },
  {
   "cell_type": "code",
   "execution_count": 39,
   "metadata": {
    "collapsed": false
   },
   "outputs": [
    {
     "name": "stdout",
     "output_type": "stream",
     "text": [
      "DD-percentage\n",
      "None\n",
      "DD\n",
      "regional\n",
      "median-aggregate\n",
      "Regional average\n"
     ]
    },
    {
     "ename": "KeyError",
     "evalue": "'hvac'",
     "output_type": "error",
     "traceback": [
      "\u001b[0;31m---------------------------------------------------------------------------\u001b[0m",
      "\u001b[0;31mKeyError\u001b[0m                                  Traceback (most recent call last)",
      "\u001b[0;32m<ipython-input-39-5288067b1bd8>\u001b[0m in \u001b[0;36m<module>\u001b[0;34m()\u001b[0m\n\u001b[1;32m      1\u001b[0m \u001b[0;32mfor\u001b[0m \u001b[0mx\u001b[0m \u001b[0;32min\u001b[0m \u001b[0macc\u001b[0m\u001b[0;34m.\u001b[0m\u001b[0mkeys\u001b[0m\u001b[0;34m(\u001b[0m\u001b[0;34m)\u001b[0m\u001b[0;34m:\u001b[0m\u001b[0;34m\u001b[0m\u001b[0m\n\u001b[1;32m      2\u001b[0m     \u001b[0;32mprint\u001b[0m \u001b[0mx\u001b[0m\u001b[0;34m\u001b[0m\u001b[0m\n\u001b[0;32m----> 3\u001b[0;31m     \u001b[0macc\u001b[0m\u001b[0;34m[\u001b[0m\u001b[0mx\u001b[0m\u001b[0;34m]\u001b[0m\u001b[0;34m[\u001b[0m\u001b[0;34m'hvac'\u001b[0m\u001b[0;34m]\u001b[0m\u001b[0;34m\u001b[0m\u001b[0m\n\u001b[0m",
      "\u001b[0;31mKeyError\u001b[0m: 'hvac'"
     ]
    }
   ],
   "source": [
    "for x in acc.keys():\n",
    "    print x\n",
    "    acc[x]['hvac'] "
   ]
  },
  {
   "cell_type": "code",
   "execution_count": 32,
   "metadata": {
    "collapsed": false
   },
   "outputs": [
    {
     "data": {
      "text/plain": [
       "nan"
      ]
     },
     "execution_count": 32,
     "metadata": {},
     "output_type": "execute_result"
    }
   ],
   "source": [
    "pd.Series(acc['DD-percentage']['fridge']).ix[range(5, 11)].mean()"
   ]
  },
  {
   "cell_type": "code",
   "execution_count": 81,
   "metadata": {
    "collapsed": false
   },
   "outputs": [
    {
     "name": "stdout",
     "output_type": "stream",
     "text": [
      "hvac None                           30.140989\n",
      "DD                             36.937961\n",
      "DD-percentage                  42.148445\n",
      "median-aggregate               33.233835\n",
      "median-aggregate-percentage          NaN\n",
      "regional                       32.349203\n",
      "regional-percentage            35.732956\n",
      "dtype: float64\n",
      "fridge None                           67.690543\n",
      "DD                             68.776598\n",
      "DD-percentage                  46.435586\n",
      "median-aggregate               19.880803\n",
      "median-aggregate-percentage    22.502139\n",
      "regional                       69.439168\n",
      "regional-percentage            48.990562\n",
      "dtype: float64\n"
     ]
    },
    {
     "data": {
      "text/plain": [
       "<matplotlib.text.Text at 0x1209aa890>"
      ]
     },
     "execution_count": 81,
     "metadata": {},
     "output_type": "execute_result"
    },
    {
     "data": {
      "image/png": "[encoded data removed]",
      "text/plain": [
       "<matplotlib.figure.Figure at 0x11fed6810>"
      ]
     },
     "metadata": {},
     "output_type": "display_data"
    }
   ],
   "source": [
    "fig, ax = plt.subplots(nrows=3, sharex=True)\n",
    "#for i, appliance in enumerate([\"hvac\",\"fridge\",\"wm\"]):\n",
    "for i, appliance in enumerate([\"hvac\",\"fridge\"]):\n",
    "\n",
    "    ap_dict = {approach:acc[approach][appliance] for approach in acc.keys()}\n",
    "    df = pd.DataFrame(ap_dict)\n",
    "    df = df[transformations]\n",
    "    print appliance, df.mean()\n",
    "    df.plot(ax=ax[i], kind='bar', title=appliance, rot= 0, legend=False)\n",
    "plt.tight_layout()\n",
    "lgd=ax[0].legend(bbox_to_anchor=(0.5,2.2), loc='upper center', ncol=1)\n",
    "plt.xlabel(\"Month\")\n",
    "#plt.savefig('../results/dd_transform_sd_austin.png',bbox_extra_artists=(lgd,), bbox_inches='tight')"
   ]
  },
  {
   "cell_type": "code",
   "execution_count": 83,
   "metadata": {
    "collapsed": false
   },
   "outputs": [
    {
     "data": {
      "text/html": [
       "<div>\n",
       "<table border=\"1\" class=\"dataframe\">\n",
       "  <thead>\n",
       "    <tr style=\"text-align: right;\">\n",
       "      <th></th>\n",
       "      <th>None</th>\n",
       "      <th>DD</th>\n",
       "      <th>DD-percentage</th>\n",
       "      <th>median-aggregate</th>\n",
       "      <th>median-aggregate-percentage</th>\n",
       "      <th>regional</th>\n",
       "      <th>regional-percentage</th>\n",
       "    </tr>\n",
       "  </thead>\n",
       "  <tbody>\n",
       "    <tr>\n",
       "      <th>1</th>\n",
       "      <td>63.611197</td>\n",
       "      <td>66.214480</td>\n",
       "      <td>32.620817</td>\n",
       "      <td>16.829301</td>\n",
       "      <td>21.471928</td>\n",
       "      <td>66.185012</td>\n",
       "      <td>30.063173</td>\n",
       "    </tr>\n",
       "    <tr>\n",
       "      <th>2</th>\n",
       "      <td>65.165873</td>\n",
       "      <td>67.197807</td>\n",
       "      <td>39.543193</td>\n",
       "      <td>19.439422</td>\n",
       "      <td>18.520994</td>\n",
       "      <td>67.682467</td>\n",
       "      <td>32.982528</td>\n",
       "    </tr>\n",
       "    <tr>\n",
       "      <th>3</th>\n",
       "      <td>64.514709</td>\n",
       "      <td>66.533155</td>\n",
       "      <td>49.477466</td>\n",
       "      <td>31.769722</td>\n",
       "      <td>27.189475</td>\n",
       "      <td>67.078189</td>\n",
       "      <td>45.462417</td>\n",
       "    </tr>\n",
       "    <tr>\n",
       "      <th>4</th>\n",
       "      <td>68.870038</td>\n",
       "      <td>69.813710</td>\n",
       "      <td>43.574040</td>\n",
       "      <td>27.396115</td>\n",
       "      <td>22.254879</td>\n",
       "      <td>70.409045</td>\n",
       "      <td>43.364203</td>\n",
       "    </tr>\n",
       "    <tr>\n",
       "      <th>5</th>\n",
       "      <td>69.186515</td>\n",
       "      <td>69.648134</td>\n",
       "      <td>41.850456</td>\n",
       "      <td>14.762134</td>\n",
       "      <td>17.584822</td>\n",
       "      <td>70.423800</td>\n",
       "      <td>37.227543</td>\n",
       "    </tr>\n",
       "    <tr>\n",
       "      <th>6</th>\n",
       "      <td>68.229087</td>\n",
       "      <td>68.808620</td>\n",
       "      <td>42.563127</td>\n",
       "      <td>6.727932</td>\n",
       "      <td>9.115168</td>\n",
       "      <td>68.862352</td>\n",
       "      <td>44.621657</td>\n",
       "    </tr>\n",
       "    <tr>\n",
       "      <th>7</th>\n",
       "      <td>69.274223</td>\n",
       "      <td>70.129467</td>\n",
       "      <td>54.957922</td>\n",
       "      <td>8.985637</td>\n",
       "      <td>11.076205</td>\n",
       "      <td>71.050813</td>\n",
       "      <td>62.843729</td>\n",
       "    </tr>\n",
       "    <tr>\n",
       "      <th>8</th>\n",
       "      <td>67.007216</td>\n",
       "      <td>67.096235</td>\n",
       "      <td>57.880460</td>\n",
       "      <td>9.849101</td>\n",
       "      <td>15.795844</td>\n",
       "      <td>68.010314</td>\n",
       "      <td>68.323542</td>\n",
       "    </tr>\n",
       "    <tr>\n",
       "      <th>9</th>\n",
       "      <td>69.427105</td>\n",
       "      <td>69.914421</td>\n",
       "      <td>57.294676</td>\n",
       "      <td>36.634854</td>\n",
       "      <td>32.121147</td>\n",
       "      <td>70.131904</td>\n",
       "      <td>67.718817</td>\n",
       "    </tr>\n",
       "    <tr>\n",
       "      <th>10</th>\n",
       "      <td>67.605474</td>\n",
       "      <td>69.829017</td>\n",
       "      <td>45.355843</td>\n",
       "      <td>22.709108</td>\n",
       "      <td>28.305385</td>\n",
       "      <td>72.789899</td>\n",
       "      <td>65.565723</td>\n",
       "    </tr>\n",
       "    <tr>\n",
       "      <th>11</th>\n",
       "      <td>69.650999</td>\n",
       "      <td>70.047139</td>\n",
       "      <td>46.196341</td>\n",
       "      <td>22.167503</td>\n",
       "      <td>31.262520</td>\n",
       "      <td>70.120869</td>\n",
       "      <td>44.699081</td>\n",
       "    </tr>\n",
       "    <tr>\n",
       "      <th>12</th>\n",
       "      <td>69.744078</td>\n",
       "      <td>70.086995</td>\n",
       "      <td>45.912692</td>\n",
       "      <td>21.298813</td>\n",
       "      <td>35.327301</td>\n",
       "      <td>70.525350</td>\n",
       "      <td>45.014327</td>\n",
       "    </tr>\n",
       "  </tbody>\n",
       "</table>\n",
       "</div>"
      ],
      "text/plain": [
       "         None         DD  DD-percentage  median-aggregate  \\\n",
       "1   63.611197  66.214480      32.620817         16.829301   \n",
       "2   65.165873  67.197807      39.543193         19.439422   \n",
       "3   64.514709  66.533155      49.477466         31.769722   \n",
       "4   68.870038  69.813710      43.574040         27.396115   \n",
       "5   69.186515  69.648134      41.850456         14.762134   \n",
       "6   68.229087  68.808620      42.563127          6.727932   \n",
       "7   69.274223  70.129467      54.957922          8.985637   \n",
       "8   67.007216  67.096235      57.880460          9.849101   \n",
       "9   69.427105  69.914421      57.294676         36.634854   \n",
       "10  67.605474  69.829017      45.355843         22.709108   \n",
       "11  69.650999  70.047139      46.196341         22.167503   \n",
       "12  69.744078  70.086995      45.912692         21.298813   \n",
       "\n",
       "    median-aggregate-percentage   regional  regional-percentage  \n",
       "1                     21.471928  66.185012            30.063173  \n",
       "2                     18.520994  67.682467            32.982528  \n",
       "3                     27.189475  67.078189            45.462417  \n",
       "4                     22.254879  70.409045            43.364203  \n",
       "5                     17.584822  70.423800            37.227543  \n",
       "6                      9.115168  68.862352            44.621657  \n",
       "7                     11.076205  71.050813            62.843729  \n",
       "8                     15.795844  68.010314            68.323542  \n",
       "9                     32.121147  70.131904            67.718817  \n",
       "10                    28.305385  72.789899            65.565723  \n",
       "11                    31.262520  70.120869            44.699081  \n",
       "12                    35.327301  70.525350            45.014327  "
      ]
     },
     "execution_count": 83,
     "metadata": {},
     "output_type": "execute_result"
    }
   ],
   "source": [
    "df"
   ]
  },
  {
   "cell_type": "code",
   "execution_count": 375,
   "metadata": {
    "collapsed": false
   },
   "outputs": [
    {
     "data": {
      "image/png": "[encoded data removed]",
      "text/plain": [
       "<matplotlib.figure.Figure at 0x131f4a590>"
      ]
     },
     "metadata": {},
     "output_type": "display_data"
    }
   ],
   "source": [
    "df.plot(kind=\"bar\",rot=0)\n",
    "plt.xlabel(\"Month\")\n",
    "plt.ylabel(\"Accuracy\")\n",
    "lgd=plt.legend(bbox_to_anchor=(0.5,1.5), loc='upper center', ncol=1)\n",
    "plt.savefig('../results/dd_transform_sd_austin_hvac.png',bbox_extra_artists=(lgd,), bbox_inches='tight')"
   ]
  },
  {
   "cell_type": "code",
   "execution_count": 369,
   "metadata": {
    "collapsed": false
   },
   "outputs": [
    {
     "data": {
      "text/plain": [
       "DD                  55.167269\n",
       "None                42.738050\n",
       "median-aggregate    50.293532\n",
       "DD-percentage       63.868075\n",
       "regional            45.371368\n",
       "dtype: float64"
      ]
     },
     "execution_count": 369,
     "metadata": {},
     "output_type": "execute_result"
    }
   ],
   "source": [
    "df.ix[range(5,11)].mean()"
   ]
  },
  {
   "cell_type": "code",
   "execution_count": 157,
   "metadata": {
    "collapsed": false
   },
   "outputs": [
    {
     "data": {
      "image/png": "[encoded data removed]",
      "text/plain": [
       "<IPython.core.display.Image object>"
      ]
     },
     "execution_count": 157,
     "metadata": {},
     "output_type": "execute_result"
    }
   ],
   "source": [
    "from IPython.display import Image\n",
    "Image('../results/no_transform_sd_austin.png')"
   ]
  },
  {
   "cell_type": "code",
   "execution_count": 119,
   "metadata": {
    "collapsed": false
   },
   "outputs": [
    {
     "data": {
      "image/png": "[encoded data removed]",
      "text/plain": [
       "<matplotlib.figure.Figure at 0x11e717bd0>"
      ]
     },
     "metadata": {},
     "output_type": "display_data"
    }
   ],
   "source": [
    "fig, ax = plt.subplots(nrows=3, sharex=True)\n",
    "for i, appliance in enumerate([\"hvac\",\"fridge\",\"wm\"]):\n",
    "    ap_dict = {approach:acc[approach][appliance] for approach in acc.keys()}\n",
    "    df = pd.DataFrame(ap_dict)\n",
    "    df.plot(ax=ax[i], kind='bar', title=appliance, rot= 0, legend=False)\n",
    "plt.tight_layout()\n",
    "lgd=ax[0].legend(bbox_to_anchor=(0.5,2.2), loc='upper center', ncol=1)\n",
    "plt.xlabel(\"Month\")\n",
    "#\n",
    "\n",
    "#plt.savefig('../results/no_transform_sd_austin.png',bbox_extra_artists=(lgd,), bbox_inches='tight')"
   ]
  },
  {
   "cell_type": "code",
   "execution_count": 73,
   "metadata": {
    "collapsed": false
   },
   "outputs": [
    {
     "data": {
      "text/plain": [
       "{'Our approach': {1: 33.8734504582082,\n",
       "  2: 48.67136857405774,\n",
       "  3: 50.31158734130758,\n",
       "  4: 48.937788635189555,\n",
       "  5: 42.91586645201225,\n",
       "  6: 47.54102296541092,\n",
       "  7: 42.690949812235495,\n",
       "  8: 48.85646634271478,\n",
       "  9: 45.31713598166896,\n",
       "  10: 49.332064873332705,\n",
       "  11: 47.12320106158118,\n",
       "  12: 50.861510015694236},\n",
       " 'Regional average': {1: 33.8734504582082,\n",
       "  2: 48.67136857405774,\n",
       "  3: 50.31158734130758,\n",
       "  4: 48.937788635189555,\n",
       "  5: 42.91586645201225,\n",
       "  6: 47.54102296541092,\n",
       "  7: 42.690949812235495,\n",
       "  8: 48.85646634271478,\n",
       "  9: 45.31713598166896,\n",
       "  10: 49.332064873332705,\n",
       "  11: 47.12320106158118,\n",
       "  12: 50.861510015694236}}"
      ]
     },
     "execution_count": 73,
     "metadata": {},
     "output_type": "execute_result"
    }
   ],
   "source": [
    "ap_dict"
   ]
  },
  {
   "cell_type": "code",
   "execution_count": 77,
   "metadata": {
    "collapsed": false
   },
   "outputs": [
    {
     "data": {
      "text/plain": [
       "{'fridge': {1: [],\n",
       "  2: [],\n",
       "  3: [],\n",
       "  4: [],\n",
       "  5: [],\n",
       "  6: [],\n",
       "  7: [],\n",
       "  8: [],\n",
       "  9: [],\n",
       "  10: [],\n",
       "  11: [],\n",
       "  12: []},\n",
       " 'hvac': {1: [],\n",
       "  2: [],\n",
       "  3: [],\n",
       "  4: [],\n",
       "  5: [],\n",
       "  6: [],\n",
       "  7: [],\n",
       "  8: [],\n",
       "  9: [],\n",
       "  10: [],\n",
       "  11: [],\n",
       "  12: []},\n",
       " 'wm': {1: [],\n",
       "  2: [],\n",
       "  3: [],\n",
       "  4: [],\n",
       "  5: [],\n",
       "  6: [],\n",
       "  7: [],\n",
       "  8: [],\n",
       "  9: [],\n",
       "  10: [],\n",
       "  11: [],\n",
       "  12: []}}"
      ]
     },
     "execution_count": 77,
     "metadata": {},
     "output_type": "execute_result"
    }
   ],
   "source": [
    "acc['Regional average']"
   ]
  },
  {
   "cell_type": "code",
   "execution_count": 129,
   "metadata": {
    "collapsed": false
   },
   "outputs": [
    {
     "data": {
      "text/plain": [
       "218.4750300575705"
      ]
     },
     "execution_count": 129,
     "metadata": {},
     "output_type": "execute_result"
    }
   ],
   "source": [
    "train_df['hvac_9'].mean()"
   ]
  },
  {
   "cell_type": "code",
   "execution_count": 128,
   "metadata": {
    "collapsed": false
   },
   "outputs": [
    {
     "data": {
      "text/plain": [
       "482.0247721723813"
      ]
     },
     "execution_count": 128,
     "metadata": {},
     "output_type": "execute_result"
    }
   ],
   "source": [
    "test_df['hvac_9'].mean()"
   ]
  },
  {
   "cell_type": "code",
   "execution_count": 245,
   "metadata": {
    "collapsed": false
   },
   "outputs": [],
   "source": [
    "m = {}\n",
    "for transform in transformations:\n",
    "    m[transform] = {}\n",
    "    for appliance in [\"fridge\"]:\n",
    "       \n",
    "        for month in range(1,13):\n",
    "            m[transform][month]=[]\n",
    "            \n",
    "            out[transform][appliance][month] = []\n",
    "            for test_home in test_df.index:\n",
    "                try:\n",
    "                    pred =  pickle.load(open('../data/output/ineq_cross/%s_%s_%s_%s_%d_%d_%d.pkl' %(train_region,\n",
    "                                                                                               test_region,\n",
    "                                                                                               transform,\n",
    "                                                                                               appliance,\n",
    "                                                                                               month,\n",
    "                                                                                               test_home,\n",
    "                                                                                               k),'r'))\n",
    "                    gt = test_df.ix[test_home]['%s_%d' %(appliance, month)]\n",
    "                    error = np.abs(gt-pred)\n",
    "                    percentage_error = error*100/gt\n",
    "                    if percentage_error>100:\n",
    "                        percentage_error=100\n",
    "                    percentage_accuracy = 100-percentage_error\n",
    "                    #print appliance, month, transform, gt-pred\n",
    "                    m[transform][month].append(gt-pred)\n",
    "                except Exception, e:\n",
    "                    pass\n",
    "\n",
    "            \n"
   ]
  },
  {
   "cell_type": "code",
   "execution_count": 246,
   "metadata": {
    "collapsed": false
   },
   "outputs": [
    {
     "data": {
      "text/plain": [
       "count    299.000000\n",
       "mean       6.553594\n",
       "std       32.121251\n",
       "min      -57.424472\n",
       "25%       -9.852161\n",
       "50%        2.342088\n",
       "75%       14.932602\n",
       "max      328.898272\n",
       "dtype: float64"
      ]
     },
     "execution_count": 246,
     "metadata": {},
     "output_type": "execute_result"
    }
   ],
   "source": [
    "pd.Series(m['DD'][7]).describe()"
   ]
  },
  {
   "cell_type": "code",
   "execution_count": 247,
   "metadata": {
    "collapsed": false
   },
   "outputs": [],
   "source": [
    "a = {}\n",
    "for transform in transformations:\n",
    "    a[transform] = {}\n",
    "    for month in range(1,13):\n",
    "        a[transform][month] = pd.Series(m[transform][month]).mean()\n",
    "    \n",
    "    "
   ]
  },
  {
   "cell_type": "code",
   "execution_count": 250,
   "metadata": {
    "collapsed": false
   },
   "outputs": [
    {
     "data": {
      "text/plain": [
       "<matplotlib.text.Text at 0x1267dd1d0>"
      ]
     },
     "execution_count": 250,
     "metadata": {},
     "output_type": "execute_result"
    },
    {
     "data": {
      "image/png": "[encoded data removed]",
      "text/plain": [
       "<matplotlib.figure.Figure at 0x126b59a10>"
      ]
     },
     "metadata": {},
     "output_type": "display_data"
    }
   ],
   "source": [
    "pd.DataFrame(a)[['DD','None']].plot(kind=\"bar\",rot=0)\n",
    "plt.xlabel(\"Month\")\n",
    "plt.ylabel(\"GT-Pred (kWh)\")\n",
    "#plt.savefig('../results/transform_strategy_hvac.png')"
   ]
  },
  {
   "cell_type": "code",
   "execution_count": 243,
   "metadata": {
    "collapsed": false
   },
   "outputs": [
    {
     "data": {
      "text/plain": [
       "(36.504466090883525, 54.91064814108161)"
      ]
     },
     "execution_count": 243,
     "metadata": {},
     "output_type": "execute_result"
    }
   ],
   "source": [
    "train_df['fridge_11'].mean(), test_df['fridge_11'].mean()"
   ]
  },
  {
   "cell_type": "code",
   "execution_count": 233,
   "metadata": {
    "collapsed": false
   },
   "outputs": [
    {
     "data": {
      "text/plain": [
       "46.137905111303894"
      ]
     },
     "execution_count": 233,
     "metadata": {},
     "output_type": "execute_result"
    }
   ],
   "source": []
  },
  {
   "cell_type": "code",
   "execution_count": 347,
   "metadata": {
    "collapsed": false
   },
   "outputs": [
    {
     "name": "stdout",
     "output_type": "stream",
     "text": [
      "hvac 1 DD\n",
      "hvac 2 DD\n",
      "hvac 3 DD\n",
      "hvac 4 DD\n",
      "hvac 5 DD\n",
      "hvac 6 DD\n",
      "hvac 7 DD\n",
      "hvac 8 DD\n",
      "hvac 9 DD\n",
      "hvac 10 DD\n",
      "hvac 11 DD\n",
      "hvac 12 DD\n",
      "hvac 1 None\n",
      "hvac 2 None\n",
      "hvac 3 None\n",
      "hvac 4 None\n",
      "hvac 5 None\n",
      "hvac 6 None\n",
      "hvac 7 None\n",
      "hvac 8 None\n",
      "hvac 9 None\n",
      "hvac 10 None\n",
      "hvac 11 None\n",
      "hvac 12 None\n",
      "hvac 1 median-aggregate\n",
      "hvac 2 median-aggregate\n",
      "hvac 3 median-aggregate\n",
      "hvac 4 median-aggregate\n",
      "hvac 5 median-aggregate\n",
      "hvac 6 median-aggregate\n",
      "hvac 7 median-aggregate\n",
      "hvac 8 median-aggregate\n",
      "hvac 9 median-aggregate\n",
      "hvac 10 median-aggregate\n",
      "hvac 11 median-aggregate\n",
      "hvac 12 median-aggregate\n",
      "hvac 1 DD-percentage\n",
      "hvac 2 DD-percentage\n",
      "hvac 3 DD-percentage\n",
      "hvac 4 DD-percentage\n",
      "hvac 5 DD-percentage\n",
      "hvac 6 DD-percentage\n",
      "hvac 7 DD-percentage\n",
      "hvac 8 DD-percentage\n",
      "hvac 9 DD-percentage\n",
      "hvac 10 DD-percentage\n",
      "hvac 11 DD-percentage\n",
      "hvac 12 DD-percentage\n"
     ]
    }
   ],
   "source": [
    "out = {}\n",
    "for transform in transformations:\n",
    "    out[transform] = {}\n",
    "    #for appliance in [\"hvac\",\"fridge\",\"dr\",\"wm\"]:\n",
    "    for appliance in ['hvac']:\n",
    "        out[transform][appliance] = {}\n",
    "        for month in range(1,13):\n",
    "            print appliance, month, transform\n",
    "            out[transform][appliance][month] = []\n",
    "            for test_home in test_df.index:\n",
    "                try:\n",
    "                    pred =  pickle.load(open('../data/output/ineq_cross/%s_%s_%s_%s_%d_%d_%d.pkl' %(train_region,\n",
    "                                                                                               test_region,\n",
    "                                                                                               transform,\n",
    "                                                                                               appliance,\n",
    "                                                                                               month,\n",
    "                                                                                               test_home,\n",
    "                                                                                               k),'r'))\n",
    "                    gt = test_df.ix[test_home]['%s_%d' %(appliance, month)]\n",
    "                    error = np.abs(gt-pred)\n",
    "                    \n",
    "                    out[transform][appliance][month].append(error)\n",
    "                except Exception, e:\n",
    "                    pass\n",
    "\n",
    "            \n"
   ]
  },
  {
   "cell_type": "code",
   "execution_count": 348,
   "metadata": {
    "collapsed": false
   },
   "outputs": [],
   "source": [
    "acc = {tr:{} for tr in transformations}\n",
    "\n",
    "acc['Regional average']={}\n",
    "\n",
    "for transform in transformations:\n",
    "    #for appliance in [\"hvac\",\"fridge\",\"wm\"]:\n",
    "    for appliance in [\"hvac\"]:    \n",
    "        acc[transform][appliance] = {}\n",
    "        for month in range(1,13):\n",
    "            acc[transform][appliance][month] = pd.Series(out[transform][appliance][month]).median()"
   ]
  },
  {
   "cell_type": "code",
   "execution_count": 350,
   "metadata": {
    "collapsed": false
   },
   "outputs": [
    {
     "data": {
      "text/html": [
       "<div>\n",
       "<table border=\"1\" class=\"dataframe\">\n",
       "  <thead>\n",
       "    <tr style=\"text-align: right;\">\n",
       "      <th></th>\n",
       "      <th>DD</th>\n",
       "      <th>DD-percentage</th>\n",
       "      <th>None</th>\n",
       "      <th>Regional average</th>\n",
       "      <th>median-aggregate</th>\n",
       "    </tr>\n",
       "  </thead>\n",
       "  <tbody>\n",
       "    <tr>\n",
       "      <th>hvac</th>\n",
       "      <td>{1: 8.44147178069, 2: 57.656674514, 3: 44.0356...</td>\n",
       "      <td>{1: 12.0296812273, 2: 48.8202568568, 3: 44.856...</td>\n",
       "      <td>{1: 2.92191117009, 2: 16.5883969124, 3: 42.407...</td>\n",
       "      <td>NaN</td>\n",
       "      <td>{1: 1.22682088274, 2: 4.71549728458, 3: 40.347...</td>\n",
       "    </tr>\n",
       "  </tbody>\n",
       "</table>\n",
       "</div>"
      ],
      "text/plain": [
       "                                                     DD  \\\n",
       "hvac  {1: 8.44147178069, 2: 57.656674514, 3: 44.0356...   \n",
       "\n",
       "                                          DD-percentage  \\\n",
       "hvac  {1: 12.0296812273, 2: 48.8202568568, 3: 44.856...   \n",
       "\n",
       "                                                   None  Regional average  \\\n",
       "hvac  {1: 2.92191117009, 2: 16.5883969124, 3: 42.407...               NaN   \n",
       "\n",
       "                                       median-aggregate  \n",
       "hvac  {1: 1.22682088274, 2: 4.71549728458, 3: 40.347...  "
      ]
     },
     "execution_count": 350,
     "metadata": {},
     "output_type": "execute_result"
    }
   ],
   "source": []
  },
  {
   "cell_type": "code",
   "execution_count": 354,
   "metadata": {
    "collapsed": false
   },
   "outputs": [
    {
     "data": {
      "text/plain": [
       "1     12.029681\n",
       "2     48.820257\n",
       "3     44.856039\n",
       "4     55.901814\n",
       "5     92.348637\n",
       "6     81.464455\n",
       "7     82.482646\n",
       "8     79.634070\n",
       "9     71.332982\n",
       "10    68.626646\n",
       "11    19.807754\n",
       "12     7.320005\n",
       "dtype: float64"
      ]
     },
     "execution_count": 354,
     "metadata": {},
     "output_type": "execute_result"
    }
   ],
   "source": [
    "pd.Series(acc['DD-percentage']['hvac'])"
   ]
  },
  {
   "cell_type": "code",
   "execution_count": 355,
   "metadata": {
    "collapsed": false
   },
   "outputs": [
    {
     "data": {
      "text/plain": [
       "1       2.921911\n",
       "2      16.588397\n",
       "3      42.407613\n",
       "4      64.840691\n",
       "5     155.903642\n",
       "6     202.587438\n",
       "7     330.707652\n",
       "8     326.625814\n",
       "9     148.695028\n",
       "10     87.474467\n",
       "11     21.282795\n",
       "12      8.047367\n",
       "dtype: float64"
      ]
     },
     "execution_count": 355,
     "metadata": {},
     "output_type": "execute_result"
    }
   ],
   "source": [
    "pd.Series(acc['None']['hvac'])"
   ]
  },
  {
   "cell_type": "code",
   "execution_count": null,
   "metadata": {
    "collapsed": true
   },
   "outputs": [],
   "source": []
  }
 ],
 "metadata": {
  "kernelspec": {
   "display_name": "Python 2",
   "language": "python",
   "name": "python2"
  },
  "language_info": {
   "codemirror_mode": {
    "name": "ipython",
    "version": 2
   },
   "file_extension": ".py",
   "mimetype": "text/x-python",
   "name": "python",
   "nbconvert_exporter": "python",
   "pygments_lexer": "ipython2",
   "version": "2.7.11"
  }
 },
 "nbformat": 4,
 "nbformat_minor": 0
}
