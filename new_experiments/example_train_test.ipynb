{
 "cells": [
  {
   "cell_type": "code",
   "execution_count": 1,
   "metadata": {
    "collapsed": true
   },
   "outputs": [],
   "source": [
    "import pandas as pd"
   ]
  },
  {
   "cell_type": "code",
   "execution_count": 1,
   "metadata": {
    "collapsed": true
   },
   "outputs": [],
   "source": [
    "from train_test import *"
   ]
  },
  {
   "cell_type": "code",
   "execution_count": 2,
   "metadata": {
    "collapsed": true
   },
   "outputs": [],
   "source": [
    "train_region = \"San Diego\"\n",
    "test_region = \"Austin\"\n",
    "\n",
    "train_dataset_df = df_regions[train_region]\n",
    "test_dataset_df = df_regions[test_region]\n",
    "\n",
    "train_all_homes = home_regions[train_region]\n",
    "test_all_homes = home_regions[test_region]\n",
    "\n",
    "appliance=\"hvac\"\n"
   ]
  },
  {
   "cell_type": "code",
   "execution_count": null,
   "metadata": {
    "collapsed": false
   },
   "outputs": [
    {
     "name": "stdout",
     "output_type": "stream",
     "text": [
      "hvac\n",
      "26 26.9145828533\n",
      "59 55.2871099365\n",
      "94"
     ]
    }
   ],
   "source": [
    "from train_test import _find_accuracy\n",
    "\n",
    "acc = {}\n",
    "#for appliance in [\"hvac\",\"fridge\",\"dw\",\"mw\"]:\n",
    "for appliance in [\"hvac\"]:\n",
    "    if appliance in acc:\n",
    "        continue\n",
    "    else:\n",
    "        print appliance\n",
    "        acc[appliance] = {}\n",
    "        feature=\"Monthly\"\n",
    "        for home in test_all_homes[appliance][:]:\n",
    "            try:\n",
    "                pred, gt, out_df = _find_accuracy(train_dataset_df, test_dataset_df,\n",
    "                   train_all_homes, test_all_homes,\n",
    "                   home, appliance, feature=\"Monthly\")\n",
    "                acc[appliance][home]=out_df\n",
    "                print home, acc[appliance][home].mean()\n",
    "            except Exception, e:\n",
    "                print e\n",
    "\n"
   ]
  },
  {
   "cell_type": "code",
   "execution_count": 8,
   "metadata": {
    "collapsed": false
   },
   "outputs": [
    {
     "data": {
      "text/plain": [
       "7    93.702022\n",
       "8    54.651910\n",
       "9    22.742528\n",
       "Name: 1450, dtype: float64"
      ]
     },
     "execution_count": 8,
     "metadata": {},
     "output_type": "execute_result"
    }
   ],
   "source": [
    "acc"
   ]
  },
  {
   "cell_type": "code",
   "execution_count": null,
   "metadata": {
    "collapsed": true
   },
   "outputs": [],
   "source": []
  }
 ],
 "metadata": {
  "kernelspec": {
   "display_name": "Python 2",
   "language": "python",
   "name": "python2"
  },
  "language_info": {
   "codemirror_mode": {
    "name": "ipython",
    "version": 2
   },
   "file_extension": ".py",
   "mimetype": "text/x-python",
   "name": "python",
   "nbconvert_exporter": "python",
   "pygments_lexer": "ipython2",
   "version": "2.7.11"
  }
 },
 "nbformat": 4,
 "nbformat_minor": 0
}
