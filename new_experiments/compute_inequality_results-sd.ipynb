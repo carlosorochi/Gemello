{
 "cells": [
  {
   "cell_type": "code",
   "execution_count": 1,
   "metadata": {
    "collapsed": true
   },
   "outputs": [],
   "source": [
    "import pandas as pd\n",
    "import numpy as np\n",
    "import pickle"
   ]
  },
  {
   "cell_type": "code",
   "execution_count": 2,
   "metadata": {
    "collapsed": false
   },
   "outputs": [],
   "source": [
    "#train_region = \"Austin\"\n",
    "#test_region = \"SanDiego\"\n",
    "test_region = \"SanDiego\"\n",
    "train_region = \"Austin\"\n",
    "out_overall = pickle.load(open('../data/input/all_regions.pkl','r'))\n",
    "\n",
    "train_df = out_overall[train_region]\n",
    "test_df = out_overall[test_region]\n",
    "#transform = \"DD\"\n",
    "k=3\n",
    "transformations = [\"None\",\"DD\",\"DD-percentage\",'median-aggregate',\"median-aggregate-percentage\",'regional','regional-percentage']\n",
    "#transformations = ['DD','None',\"DD-fridge\"]"
   ]
  },
  {
   "cell_type": "code",
   "execution_count": 3,
   "metadata": {
    "collapsed": false
   },
   "outputs": [
    {
     "name": "stdout",
     "output_type": "stream",
     "text": [
      "hvac 1 None\n",
      "hvac 2 None\n",
      "hvac 3 None\n",
      "hvac 4 None\n",
      "hvac 5 None\n",
      "hvac 6 None\n",
      "hvac 7 None\n",
      "hvac 8 None\n",
      "hvac 9 None\n",
      "hvac 10 None\n",
      "hvac 11 None\n",
      "hvac 12 None\n",
      "fridge 1 None\n",
      "fridge 2 None\n",
      "fridge 3 None\n",
      "fridge 4 None\n",
      "fridge 5 None\n",
      "fridge 6 None\n",
      "fridge 7 None\n",
      "fridge 8 None\n",
      "fridge 9 None\n",
      "fridge 10 None\n",
      "fridge 11 None\n",
      "fridge 12 None\n",
      "wm 1 None\n",
      "wm 2 None\n",
      "wm 3 None\n",
      "wm 4 None\n",
      "wm 5 None\n",
      "wm 6 None\n",
      "wm 7 None\n",
      "wm 8 None\n",
      "wm 9 None\n",
      "wm 10 None\n",
      "wm 11 None\n",
      "wm 12 None\n",
      "hvac 1 DD\n",
      "hvac 2 DD\n",
      "hvac 3 DD\n",
      "hvac 4 DD\n",
      "hvac 5 DD\n",
      "hvac 6 DD\n",
      "hvac 7 DD\n",
      "hvac 8 DD\n",
      "hvac 9 DD\n",
      "hvac 10 DD\n",
      "hvac 11 DD\n",
      "hvac 12 DD\n",
      "fridge 1 DD\n",
      "fridge 2 DD\n",
      "fridge 3 DD\n",
      "fridge 4 DD\n",
      "fridge 5 DD\n",
      "fridge 6 DD\n",
      "fridge 7 DD\n",
      "fridge 8 DD\n",
      "fridge 9 DD\n",
      "fridge 10 DD\n",
      "fridge 11 DD\n",
      "fridge 12 DD\n",
      "wm 1 DD\n",
      "wm 2 DD\n",
      "wm 3 DD\n",
      "wm 4 DD\n",
      "wm 5 DD\n",
      "wm 6 DD\n",
      "wm 7 DD\n",
      "wm 8 DD\n",
      "wm 9 DD\n",
      "wm 10 DD\n",
      "wm 11 DD\n",
      "wm 12 DD\n",
      "hvac 1 DD-percentage\n",
      "hvac 2 DD-percentage\n",
      "hvac 3 DD-percentage\n",
      "hvac 4 DD-percentage\n",
      "hvac 5 DD-percentage\n",
      "hvac 6 DD-percentage\n",
      "hvac 7 DD-percentage\n",
      "hvac 8 DD-percentage\n",
      "hvac 9 DD-percentage\n",
      "hvac 10 DD-percentage\n",
      "hvac 11 DD-percentage\n",
      "hvac 12 DD-percentage\n",
      "fridge 1 DD-percentage\n",
      "fridge 2 DD-percentage\n",
      "fridge 3 DD-percentage\n",
      "fridge 4 DD-percentage\n",
      "fridge 5 DD-percentage\n",
      "fridge 6 DD-percentage\n",
      "fridge 7 DD-percentage\n",
      "fridge 8 DD-percentage\n",
      "fridge 9 DD-percentage\n",
      "fridge 10 DD-percentage\n",
      "fridge 11 DD-percentage\n",
      "fridge 12 DD-percentage\n",
      "wm 1 DD-percentage\n",
      "wm 2 DD-percentage\n",
      "wm 3 DD-percentage\n",
      "wm 4 DD-percentage\n",
      "wm 5 DD-percentage\n",
      "wm 6 DD-percentage\n",
      "wm 7 DD-percentage\n",
      "wm 8 DD-percentage\n",
      "wm 9 DD-percentage\n",
      "wm 10 DD-percentage\n",
      "wm 11 DD-percentage\n",
      "wm 12 DD-percentage\n",
      "hvac 1 median-aggregate\n",
      "hvac 2 median-aggregate\n",
      "hvac 3 median-aggregate\n",
      "hvac 4 median-aggregate\n",
      "hvac 5 median-aggregate\n",
      "hvac 6 median-aggregate\n",
      "hvac 7 median-aggregate\n",
      "hvac 8 median-aggregate\n",
      "hvac 9 median-aggregate\n",
      "hvac 10 median-aggregate\n",
      "hvac 11 median-aggregate\n",
      "hvac 12 median-aggregate\n",
      "fridge 1 median-aggregate\n",
      "fridge 2 median-aggregate\n",
      "fridge 3 median-aggregate\n",
      "fridge 4 median-aggregate\n",
      "fridge 5 median-aggregate\n",
      "fridge 6 median-aggregate\n",
      "fridge 7 median-aggregate\n",
      "fridge 8 median-aggregate\n",
      "fridge 9 median-aggregate\n",
      "fridge 10 median-aggregate\n",
      "fridge 11 median-aggregate\n",
      "fridge 12 median-aggregate\n",
      "wm 1 median-aggregate\n",
      "wm 2 median-aggregate\n",
      "wm 3 median-aggregate\n",
      "wm 4 median-aggregate\n",
      "wm 5 median-aggregate\n",
      "wm 6 median-aggregate\n",
      "wm 7 median-aggregate\n",
      "wm 8 median-aggregate\n",
      "wm 9 median-aggregate\n",
      "wm 10 median-aggregate\n",
      "wm 11 median-aggregate\n",
      "wm 12 median-aggregate\n",
      "hvac 1 median-aggregate-percentage\n",
      "hvac 2 median-aggregate-percentage\n",
      "hvac 3 median-aggregate-percentage\n",
      "hvac 4 median-aggregate-percentage\n",
      "hvac 5 median-aggregate-percentage\n",
      "hvac 6 median-aggregate-percentage\n",
      "hvac 7 median-aggregate-percentage\n",
      "hvac 8 median-aggregate-percentage\n",
      "hvac 9 median-aggregate-percentage\n",
      "hvac 10 median-aggregate-percentage\n",
      "hvac 11 median-aggregate-percentage\n",
      "hvac 12 median-aggregate-percentage\n",
      "fridge 1 median-aggregate-percentage\n",
      "fridge 2 median-aggregate-percentage\n",
      "fridge 3 median-aggregate-percentage\n",
      "fridge 4 median-aggregate-percentage\n",
      "fridge 5 median-aggregate-percentage\n",
      "fridge 6 median-aggregate-percentage\n",
      "fridge 7 median-aggregate-percentage\n",
      "fridge 8 median-aggregate-percentage\n",
      "fridge 9 median-aggregate-percentage\n",
      "fridge 10 median-aggregate-percentage\n",
      "fridge 11 median-aggregate-percentage\n",
      "fridge 12 median-aggregate-percentage\n",
      "wm 1 median-aggregate-percentage\n",
      "wm 2 median-aggregate-percentage\n",
      "wm 3 median-aggregate-percentage\n",
      "wm 4 median-aggregate-percentage\n",
      "wm 5 median-aggregate-percentage\n",
      "wm 6 median-aggregate-percentage\n",
      "wm 7 median-aggregate-percentage\n",
      "wm 8 median-aggregate-percentage\n",
      "wm 9 median-aggregate-percentage\n",
      "wm 10 median-aggregate-percentage\n",
      "wm 11 median-aggregate-percentage\n",
      "wm 12 median-aggregate-percentage\n",
      "hvac 1 regional\n",
      "hvac 2 regional\n",
      "hvac 3 regional\n",
      "hvac 4 regional\n",
      "hvac 5 regional\n",
      "hvac 6 regional\n",
      "hvac 7 regional\n",
      "hvac 8 regional\n",
      "hvac 9 regional\n",
      "hvac 10 regional\n",
      "hvac 11 regional\n",
      "hvac 12 regional\n",
      "fridge 1 regional\n",
      "fridge 2 regional\n",
      "fridge 3 regional\n",
      "fridge 4 regional\n",
      "fridge 5 regional\n",
      "fridge 6 regional\n",
      "fridge 7 regional\n",
      "fridge 8 regional\n",
      "fridge 9 regional\n",
      "fridge 10 regional\n",
      "fridge 11 regional\n",
      "fridge 12 regional\n",
      "wm 1 regional\n",
      "wm 2 regional\n",
      "wm 3 regional\n",
      "wm 4 regional\n",
      "wm 5 regional\n",
      "wm 6 regional\n",
      "wm 7 regional\n",
      "wm 8 regional\n",
      "wm 9 regional\n",
      "wm 10 regional\n",
      "wm 11 regional\n",
      "wm 12 regional\n",
      "hvac 1 regional-percentage\n",
      "hvac 2 regional-percentage\n",
      "hvac 3 regional-percentage\n",
      "hvac 4 regional-percentage\n",
      "hvac 5 regional-percentage\n",
      "hvac 6 regional-percentage\n",
      "hvac 7 regional-percentage\n",
      "hvac 8 regional-percentage\n",
      "hvac 9 regional-percentage\n",
      "hvac 10 regional-percentage\n",
      "hvac 11 regional-percentage\n",
      "hvac 12 regional-percentage\n",
      "fridge 1 regional-percentage\n",
      "fridge 2 regional-percentage\n",
      "fridge 3 regional-percentage\n",
      "fridge 4 regional-percentage\n",
      "fridge 5 regional-percentage\n",
      "fridge 6 regional-percentage\n",
      "fridge 7 regional-percentage\n",
      "fridge 8 regional-percentage\n",
      "fridge 9 regional-percentage\n",
      "fridge 10 regional-percentage\n",
      "fridge 11 regional-percentage\n",
      "fridge 12 regional-percentage\n",
      "wm 1 regional-percentage\n",
      "wm 2 regional-percentage\n",
      "wm 3 regional-percentage\n",
      "wm 4 regional-percentage\n",
      "wm 5 regional-percentage\n",
      "wm 6 regional-percentage\n",
      "wm 7 regional-percentage\n",
      "wm 8 regional-percentage\n",
      "wm 9 regional-percentage\n",
      "wm 10 regional-percentage\n",
      "wm 11 regional-percentage\n",
      "wm 12 regional-percentage\n"
     ]
    }
   ],
   "source": [
    "out = {}\n",
    "for transform in transformations:\n",
    "    out[transform] = {}\n",
    "    #for appliance in [\"hvac\",\"fridge\",\"dr\",\"wm\"]:\n",
    "    for appliance in ['hvac','fridge','wm']:\n",
    "        out[transform][appliance] = {}\n",
    "        for month in range(1,13):\n",
    "            print appliance, month, transform\n",
    "            out[transform][appliance][month] = []\n",
    "            for test_home in test_df.index:\n",
    "                try:\n",
    "                    pred =  pickle.load(open('../data/output/ineq_cross/%s_%s_%s_%s_%d_%d_%d.pkl' %(train_region,\n",
    "                                                                                               test_region,\n",
    "                                                                                               transform,\n",
    "                                                                                               appliance,\n",
    "                                                                                               month,\n",
    "                                                                                               test_home,\n",
    "                                                                                               k),'r'))\n",
    "                    gt = test_df.ix[test_home]['%s_%d' %(appliance, month)]\n",
    "                    error = np.abs(gt-pred)\n",
    "                    percentage_error = error*100/gt\n",
    "                    if percentage_error>100:\n",
    "                        percentage_error=100\n",
    "                    percentage_accuracy = 100-percentage_error\n",
    "                    out[transform][appliance][month].append(percentage_accuracy)\n",
    "                except Exception, e:\n",
    "                    pass\n",
    "\n",
    "            \n"
   ]
  },
  {
   "cell_type": "code",
   "execution_count": 4,
   "metadata": {
    "collapsed": false
   },
   "outputs": [],
   "source": [
    "acc = {tr:{} for tr in transformations}\n",
    "\n",
    "acc['Regional average']={}\n",
    "\n",
    "for transform in transformations:\n",
    "    for appliance in [\"hvac\",\"fridge\",\"wm\"]:\n",
    "    #for appliance in [\"hvac\"]:    \n",
    "        acc[transform][appliance] = {}\n",
    "        for month in range(1,13):\n",
    "            acc[transform][appliance][month] = pd.Series(out[transform][appliance][month]).mean()"
   ]
  },
  {
   "cell_type": "code",
   "execution_count": 5,
   "metadata": {
    "collapsed": true
   },
   "outputs": [],
   "source": [
    "%matplotlib inline"
   ]
  },
  {
   "cell_type": "code",
   "execution_count": 6,
   "metadata": {
    "collapsed": false
   },
   "outputs": [
    {
     "data": {
      "text/plain": [
       "<matplotlib.axes._subplots.AxesSubplot at 0x111ec9e50>"
      ]
     },
     "execution_count": 6,
     "metadata": {},
     "output_type": "execute_result"
    },
    {
     "data": {
      "image/png": "[encoded data removed]",
      "text/plain": [
       "<matplotlib.figure.Figure at 0x111ec9f90>"
      ]
     },
     "metadata": {},
     "output_type": "display_data"
    }
   ],
   "source": [
    "pd.DataFrame(acc['DD']).plot(kind='bar',rot=0)"
   ]
  },
  {
   "cell_type": "code",
   "execution_count": 7,
   "metadata": {
    "collapsed": false
   },
   "outputs": [
    {
     "data": {
      "text/plain": [
       "<matplotlib.axes._subplots.AxesSubplot at 0x1145265d0>"
      ]
     },
     "execution_count": 7,
     "metadata": {},
     "output_type": "execute_result"
    },
    {
     "data": {
      "image/png": "[encoded data removed]",
      "text/plain": [
       "<matplotlib.figure.Figure at 0x114558ed0>"
      ]
     },
     "metadata": {},
     "output_type": "display_data"
    }
   ],
   "source": [
    "pd.DataFrame(acc['None']).plot(kind='bar',rot=0)"
   ]
  },
  {
   "cell_type": "code",
   "execution_count": 362,
   "metadata": {
    "collapsed": false
   },
   "outputs": [
    {
     "data": {
      "text/plain": [
       "<matplotlib.axes._subplots.AxesSubplot at 0x12fdc05d0>"
      ]
     },
     "execution_count": 362,
     "metadata": {},
     "output_type": "execute_result"
    },
    {
     "data": {
      "image/png": "[encoded data removed]",
      "text/plain": [
       "<matplotlib.figure.Figure at 0x13080e910>"
      ]
     },
     "metadata": {},
     "output_type": "display_data"
    }
   ],
   "source": [
    "pd.DataFrame(acc['DD-percentage']).plot(kind='bar',rot=0)"
   ]
  },
  {
   "cell_type": "code",
   "execution_count": 307,
   "metadata": {
    "collapsed": false
   },
   "outputs": [
    {
     "data": {
      "text/plain": [
       "<matplotlib.axes._subplots.AxesSubplot at 0x129be0450>"
      ]
     },
     "execution_count": 307,
     "metadata": {},
     "output_type": "execute_result"
    },
    {
     "data": {
      "image/png": "[encoded data removed]",
      "text/plain": [
       "<matplotlib.figure.Figure at 0x12a2aa950>"
      ]
     },
     "metadata": {},
     "output_type": "display_data"
    }
   ],
   "source": [
    "pd.DataFrame(acc['median-aggregate']).plot(kind='bar',rot=0)"
   ]
  },
  {
   "cell_type": "code",
   "execution_count": 10,
   "metadata": {
    "collapsed": false
   },
   "outputs": [],
   "source": [
    "contri = {\n",
    "    'Austin':\n",
    "    {'Cooling':{'wm':0.01,\n",
    "    'hvac':0.29,\n",
    "    'fridge':0.09},\n",
    "    'Heating':\n",
    "    {'wm':.01,'hvac':0.07,'fridge':0.09}}\n",
    "    \n",
    "    ,\n",
    "    'SanDiego':{'Cooling':\n",
    "    {'wm':0.01,\n",
    "    'hvac':.10,\n",
    "    'fridge':0.15},\n",
    "    'Heating':\n",
    "    {'wm':.01,'hvac':0.06,'fridge':0.15}\n",
    "}\n",
    "    }"
   ]
  },
  {
   "cell_type": "code",
   "execution_count": 11,
   "metadata": {
    "collapsed": false
   },
   "outputs": [],
   "source": [
    "for appliance in [\"hvac\",'fridge','wm']:\n",
    "    acc['Regional average'][appliance] = {}\n",
    "    for month in range(1,13):\n",
    "        acc['Regional average'][appliance][month] = []\n",
    "        for test_home in test_df.index:\n",
    "            try:\n",
    "                if month in range(3, 11):\n",
    "                    pred = test_df.ix[test_home]['aggregate_%d' %month]*contri[test_region]['Cooling'][appliance]\n",
    "                else:\n",
    "                    pred = test_df.ix[test_home]['aggregate_%d' %month]*contri[test_region]['Heating'][appliance]\n",
    "                gt = test_df.ix[test_home]['%s_%d' %(appliance, month)]\n",
    "                error = np.abs(gt-pred)\n",
    "                percentage_error = error*100/gt\n",
    "                if percentage_error>100:\n",
    "                    percentage_error=100\n",
    "                percentage_accuracy = 100-percentage_error\n",
    "                acc['Regional average'][appliance][month].append(percentage_accuracy)\n",
    "            except Exception, e:\n",
    "                print e\n",
    "                \n",
    "        acc['Regional average'][appliance][month] = pd.Series(acc['Regional average'][appliance][month]).mean()"
   ]
  },
  {
   "cell_type": "code",
   "execution_count": 12,
   "metadata": {
    "collapsed": false
   },
   "outputs": [
    {
     "data": {
      "text/html": [
       "<div>\n",
       "<table border=\"1\" class=\"dataframe\">\n",
       "  <thead>\n",
       "    <tr style=\"text-align: right;\">\n",
       "      <th></th>\n",
       "      <th>fridge</th>\n",
       "      <th>hvac</th>\n",
       "      <th>wm</th>\n",
       "    </tr>\n",
       "  </thead>\n",
       "  <tbody>\n",
       "    <tr>\n",
       "      <th>1</th>\n",
       "      <td>67.914760</td>\n",
       "      <td>6.585757</td>\n",
       "      <td>36.438689</td>\n",
       "    </tr>\n",
       "    <tr>\n",
       "      <th>2</th>\n",
       "      <td>73.928192</td>\n",
       "      <td>9.677234</td>\n",
       "      <td>41.746606</td>\n",
       "    </tr>\n",
       "    <tr>\n",
       "      <th>3</th>\n",
       "      <td>75.873052</td>\n",
       "      <td>30.253865</td>\n",
       "      <td>42.463314</td>\n",
       "    </tr>\n",
       "    <tr>\n",
       "      <th>4</th>\n",
       "      <td>77.229816</td>\n",
       "      <td>10.922947</td>\n",
       "      <td>39.218859</td>\n",
       "    </tr>\n",
       "    <tr>\n",
       "      <th>5</th>\n",
       "      <td>76.714025</td>\n",
       "      <td>15.556790</td>\n",
       "      <td>37.725399</td>\n",
       "    </tr>\n",
       "    <tr>\n",
       "      <th>6</th>\n",
       "      <td>61.849311</td>\n",
       "      <td>27.389233</td>\n",
       "      <td>64.425856</td>\n",
       "    </tr>\n",
       "    <tr>\n",
       "      <th>7</th>\n",
       "      <td>76.740029</td>\n",
       "      <td>50.810152</td>\n",
       "      <td>28.063148</td>\n",
       "    </tr>\n",
       "    <tr>\n",
       "      <th>8</th>\n",
       "      <td>79.756209</td>\n",
       "      <td>69.427665</td>\n",
       "      <td>14.451171</td>\n",
       "    </tr>\n",
       "    <tr>\n",
       "      <th>9</th>\n",
       "      <td>70.545670</td>\n",
       "      <td>52.999977</td>\n",
       "      <td>57.356073</td>\n",
       "    </tr>\n",
       "    <tr>\n",
       "      <th>10</th>\n",
       "      <td>67.384917</td>\n",
       "      <td>56.536239</td>\n",
       "      <td>78.842687</td>\n",
       "    </tr>\n",
       "    <tr>\n",
       "      <th>11</th>\n",
       "      <td>71.327723</td>\n",
       "      <td>6.193074</td>\n",
       "      <td>86.960885</td>\n",
       "    </tr>\n",
       "    <tr>\n",
       "      <th>12</th>\n",
       "      <td>66.639611</td>\n",
       "      <td>4.036892</td>\n",
       "      <td>65.478793</td>\n",
       "    </tr>\n",
       "  </tbody>\n",
       "</table>\n",
       "</div>"
      ],
      "text/plain": [
       "       fridge       hvac         wm\n",
       "1   67.914760   6.585757  36.438689\n",
       "2   73.928192   9.677234  41.746606\n",
       "3   75.873052  30.253865  42.463314\n",
       "4   77.229816  10.922947  39.218859\n",
       "5   76.714025  15.556790  37.725399\n",
       "6   61.849311  27.389233  64.425856\n",
       "7   76.740029  50.810152  28.063148\n",
       "8   79.756209  69.427665  14.451171\n",
       "9   70.545670  52.999977  57.356073\n",
       "10  67.384917  56.536239  78.842687\n",
       "11  71.327723   6.193074  86.960885\n",
       "12  66.639611   4.036892  65.478793"
      ]
     },
     "execution_count": 12,
     "metadata": {},
     "output_type": "execute_result"
    }
   ],
   "source": [
    "pd.DataFrame(acc['DD'])"
   ]
  },
  {
   "cell_type": "code",
   "execution_count": 13,
   "metadata": {
    "collapsed": true
   },
   "outputs": [],
   "source": [
    "best_transform = {}\n",
    "for appliance in ['hvac','fridge','wm']:\n",
    "    best = 0\n",
    "    if appliance==\"hvac\":\n",
    "        start, stop=5, 11\n",
    "    else:\n",
    "        start, stop =1, 13\n",
    "    for transform in transformations:\n",
    "        if pd.DataFrame(acc[transform])[appliance][start:stop].mean()>best:\n",
    "            best = pd.DataFrame(acc[transform])[appliance][start:stop].mean()\n",
    "            best_transform[appliance] = transform\n",
    "\n",
    "        \n",
    "    \n",
    "    "
   ]
  },
  {
   "cell_type": "code",
   "execution_count": 35,
   "metadata": {
    "collapsed": false
   },
   "outputs": [
    {
     "data": {
      "text/plain": [
       "'SanDiego'"
      ]
     },
     "execution_count": 35,
     "metadata": {},
     "output_type": "execute_result"
    }
   ],
   "source": [
    "test_region"
   ]
  },
  {
   "cell_type": "code",
   "execution_count": 34,
   "metadata": {
    "collapsed": false
   },
   "outputs": [
    {
     "data": {
      "text/plain": [
       "{'fridge': 'DD', 'hvac': 'DD-percentage', 'wm': 'median-aggregate-percentage'}"
      ]
     },
     "execution_count": 34,
     "metadata": {},
     "output_type": "execute_result"
    }
   ],
   "source": [
    "best_transform"
   ]
  },
  {
   "cell_type": "code",
   "execution_count": 14,
   "metadata": {
    "collapsed": true
   },
   "outputs": [],
   "source": [
    "import pickle\n",
    "lbm_results = pickle.load(open('../data/output/lbm-main.pkl','r'))\n"
   ]
  },
  {
   "cell_type": "code",
   "execution_count": 15,
   "metadata": {
    "collapsed": false
   },
   "outputs": [],
   "source": [
    "results = {}\n",
    "results['Our approach'] = {}\n",
    "results['Regional average'] = {}\n",
    "results['NILM'] = {}\n",
    "\n",
    "for appliance in ['fridge','hvac','wm']:\n",
    "    if appliance==\"hvac\":\n",
    "        start, stop=5, 11\n",
    "    else:\n",
    "        start, stop =1, 13\n",
    "    results['Our approach'][appliance] = pd.Series(acc[best_transform[appliance]][appliance])[start:stop].mean()\n",
    "    results['Regional average'][appliance] = pd.Series(acc[\"Regional average\"][appliance])[start:stop].mean()\n",
    "    results['NILM'][appliance]  = lbm_results[test_region][appliance]"
   ]
  },
  {
   "cell_type": "code",
   "execution_count": 16,
   "metadata": {
    "collapsed": false
   },
   "outputs": [
    {
     "data": {
      "text/plain": [
       "{'NILM': {'fridge': 74.31222183197694,\n",
       "  'hvac': 15.479357912777836,\n",
       "  'wm': 22.748133580238104},\n",
       " 'Our approach': {'fridge': 72.54441415316452,\n",
       "  'hvac': 49.32986611506806,\n",
       "  'wm': 54.13657849554599},\n",
       " 'Regional average': {'fridge': 61.676223176823264,\n",
       "  'hvac': 27.117938295180366,\n",
       "  'wm': 64.43465974513465}}"
      ]
     },
     "execution_count": 16,
     "metadata": {},
     "output_type": "execute_result"
    }
   ],
   "source": [
    "results"
   ]
  },
  {
   "cell_type": "code",
   "execution_count": 18,
   "metadata": {
    "collapsed": false
   },
   "outputs": [],
   "source": [
    "\n",
    "result_df_sd = pd.DataFrame(results)"
   ]
  },
  {
   "cell_type": "code",
   "execution_count": 19,
   "metadata": {
    "collapsed": false
   },
   "outputs": [],
   "source": [
    "result_df_sd = result_df_sd[['Regional average','NILM','Our approach']]"
   ]
  },
  {
   "cell_type": "code",
   "execution_count": 20,
   "metadata": {
    "collapsed": false
   },
   "outputs": [],
   "source": [
    "result_df_sd.index = ['Fridge','HVAC','Washing\\nmachine']"
   ]
  },
  {
   "cell_type": "code",
   "execution_count": 22,
   "metadata": {
    "collapsed": true
   },
   "outputs": [],
   "source": [
    "import sys\n"
   ]
  },
  {
   "cell_type": "code",
   "execution_count": 23,
   "metadata": {
    "collapsed": true
   },
   "outputs": [],
   "source": [
    "sys.path.append('../code/')"
   ]
  },
  {
   "cell_type": "code",
   "execution_count": 24,
   "metadata": {
    "collapsed": true
   },
   "outputs": [],
   "source": [
    "from common_functions import latexify, format_axes, tableau20blind"
   ]
  },
  {
   "cell_type": "code",
   "execution_count": 25,
   "metadata": {
    "collapsed": false
   },
   "outputs": [
    {
     "name": "stderr",
     "output_type": "stream",
     "text": [
      "/Users/nipunbatra/anaconda/lib/python2.7/site-packages/matplotlib/__init__.py:872: UserWarning: axes.color_cycle is deprecated and replaced with axes.prop_cycle; please use the latter.\n",
      "  warnings.warn(self.msg_depr % (key, alt_key))\n",
      "/Users/nipunbatra/anaconda/lib/python2.7/site-packages/matplotlib/__init__.py:872: UserWarning: text.fontsize is deprecated and replaced with font.size; please use the latter.\n",
      "  warnings.warn(self.msg_depr % (key, alt_key))\n"
     ]
    }
   ],
   "source": [
    "latexify()"
   ]
  },
  {
   "cell_type": "code",
   "execution_count": 26,
   "metadata": {
    "collapsed": true
   },
   "outputs": [],
   "source": [
    "import matplotlib.pyplot as plt"
   ]
  },
  {
   "cell_type": "code",
   "execution_count": 33,
   "metadata": {
    "collapsed": false
   },
   "outputs": [
    {
     "data": {
      "image/png": "[encoded data removed]",
      "text/plain": [
       "<matplotlib.figure.Figure at 0x1151ac950>"
      ]
     },
     "metadata": {},
     "output_type": "display_data"
    }
   ],
   "source": [
    "ax = result_df_sd.plot(colors=tableau20blind[::2], kind=\"bar\",rot=0)\n",
    "ax.legend(loc=9)\n",
    "format_axes(ax)\n",
    "plt.ylabel(\"Energy Accuracy(\\%)\\n(Higher is better)\")\n",
    "plt.tight_layout()\n",
    "plt.ylim((0,90))\n",
    "plt.savefig('../results/main_austin_sd.pdf',bbox_inches=\"tight\")\n",
    "plt.savefig('../results/main_austin_sd.png',bbox_inches=\"tight\")"
   ]
  },
  {
   "cell_type": "code",
   "execution_count": 70,
   "metadata": {
    "collapsed": true
   },
   "outputs": [],
   "source": [
    "import matplotlib.pyplot as plt"
   ]
  },
  {
   "cell_type": "code",
   "execution_count": 372,
   "metadata": {
    "collapsed": false
   },
   "outputs": [
    {
     "data": {
      "text/plain": [
       "['hvac']"
      ]
     },
     "execution_count": 372,
     "metadata": {},
     "output_type": "execute_result"
    }
   ],
   "source": [
    "acc['Regional average'].keys()"
   ]
  },
  {
   "cell_type": "code",
   "execution_count": 374,
   "metadata": {
    "collapsed": false
   },
   "outputs": [
    {
     "data": {
      "text/plain": [
       "<matplotlib.text.Text at 0x1324c1890>"
      ]
     },
     "execution_count": 374,
     "metadata": {},
     "output_type": "execute_result"
    },
    {
     "data": {
      "image/png": "[encoded data removed]",
      "text/plain": [
       "<matplotlib.figure.Figure at 0x1315b54d0>"
      ]
     },
     "metadata": {},
     "output_type": "display_data"
    }
   ],
   "source": [
    "fig, ax = plt.subplots(nrows=3, sharex=True)\n",
    "#for i, appliance in enumerate([\"hvac\",\"fridge\",\"wm\"]):\n",
    "for i, appliance in enumerate([\"hvac\"]):\n",
    "\n",
    "    ap_dict = {approach:acc[approach][appliance] for approach in acc.keys()}\n",
    "    df = pd.DataFrame(ap_dict)\n",
    "    df = df[['None','DD-percentage','Regional average']]\n",
    "    df.plot(ax=ax[i], kind='bar', title=appliance, rot= 0, legend=False)\n",
    "plt.tight_layout()\n",
    "lgd=ax[0].legend(bbox_to_anchor=(0.5,2.2), loc='upper center', ncol=1)\n",
    "plt.xlabel(\"Month\")\n",
    "#plt.savefig('../results/dd_transform_sd_austin.png',bbox_extra_artists=(lgd,), bbox_inches='tight')"
   ]
  },
  {
   "cell_type": "code",
   "execution_count": 375,
   "metadata": {
    "collapsed": false
   },
   "outputs": [
    {
     "data": {
      "image/png": "[encoded data removed]",
      "text/plain": [
       "<matplotlib.figure.Figure at 0x131f4a590>"
      ]
     },
     "metadata": {},
     "output_type": "display_data"
    }
   ],
   "source": [
    "df.plot(kind=\"bar\",rot=0)\n",
    "plt.xlabel(\"Month\")\n",
    "plt.ylabel(\"Accuracy\")\n",
    "lgd=plt.legend(bbox_to_anchor=(0.5,1.5), loc='upper center', ncol=1)\n",
    "plt.savefig('../results/dd_transform_sd_austin_hvac.png',bbox_extra_artists=(lgd,), bbox_inches='tight')"
   ]
  },
  {
   "cell_type": "code",
   "execution_count": 369,
   "metadata": {
    "collapsed": false
   },
   "outputs": [
    {
     "data": {
      "text/plain": [
       "DD                  55.167269\n",
       "None                42.738050\n",
       "median-aggregate    50.293532\n",
       "DD-percentage       63.868075\n",
       "regional            45.371368\n",
       "dtype: float64"
      ]
     },
     "execution_count": 369,
     "metadata": {},
     "output_type": "execute_result"
    }
   ],
   "source": [
    "df.ix[range(5,11)].mean()"
   ]
  },
  {
   "cell_type": "code",
   "execution_count": 157,
   "metadata": {
    "collapsed": false
   },
   "outputs": [
    {
     "data": {
      "image/png": "[encoded data removed]",
      "text/plain": [
       "<IPython.core.display.Image object>"
      ]
     },
     "execution_count": 157,
     "metadata": {},
     "output_type": "execute_result"
    }
   ],
   "source": [
    "from IPython.display import Image\n",
    "Image('../results/no_transform_sd_austin.png')"
   ]
  },
  {
   "cell_type": "code",
   "execution_count": 119,
   "metadata": {
    "collapsed": false
   },
   "outputs": [
    {
     "data": {
      "image/png": "[encoded data removed]",
      "text/plain": [
       "<matplotlib.figure.Figure at 0x11e717bd0>"
      ]
     },
     "metadata": {},
     "output_type": "display_data"
    }
   ],
   "source": [
    "fig, ax = plt.subplots(nrows=3, sharex=True)\n",
    "for i, appliance in enumerate([\"hvac\",\"fridge\",\"wm\"]):\n",
    "    ap_dict = {approach:acc[approach][appliance] for approach in acc.keys()}\n",
    "    df = pd.DataFrame(ap_dict)\n",
    "    df.plot(ax=ax[i], kind='bar', title=appliance, rot= 0, legend=False)\n",
    "plt.tight_layout()\n",
    "lgd=ax[0].legend(bbox_to_anchor=(0.5,2.2), loc='upper center', ncol=1)\n",
    "plt.xlabel(\"Month\")\n",
    "#\n",
    "\n",
    "#plt.savefig('../results/no_transform_sd_austin.png',bbox_extra_artists=(lgd,), bbox_inches='tight')"
   ]
  },
  {
   "cell_type": "code",
   "execution_count": 73,
   "metadata": {
    "collapsed": false
   },
   "outputs": [
    {
     "data": {
      "text/plain": [
       "{'Our approach': {1: 33.8734504582082,\n",
       "  2: 48.67136857405774,\n",
       "  3: 50.31158734130758,\n",
       "  4: 48.937788635189555,\n",
       "  5: 42.91586645201225,\n",
       "  6: 47.54102296541092,\n",
       "  7: 42.690949812235495,\n",
       "  8: 48.85646634271478,\n",
       "  9: 45.31713598166896,\n",
       "  10: 49.332064873332705,\n",
       "  11: 47.12320106158118,\n",
       "  12: 50.861510015694236},\n",
       " 'Regional average': {1: 33.8734504582082,\n",
       "  2: 48.67136857405774,\n",
       "  3: 50.31158734130758,\n",
       "  4: 48.937788635189555,\n",
       "  5: 42.91586645201225,\n",
       "  6: 47.54102296541092,\n",
       "  7: 42.690949812235495,\n",
       "  8: 48.85646634271478,\n",
       "  9: 45.31713598166896,\n",
       "  10: 49.332064873332705,\n",
       "  11: 47.12320106158118,\n",
       "  12: 50.861510015694236}}"
      ]
     },
     "execution_count": 73,
     "metadata": {},
     "output_type": "execute_result"
    }
   ],
   "source": [
    "ap_dict"
   ]
  },
  {
   "cell_type": "code",
   "execution_count": 77,
   "metadata": {
    "collapsed": false
   },
   "outputs": [
    {
     "data": {
      "text/plain": [
       "{'fridge': {1: [],\n",
       "  2: [],\n",
       "  3: [],\n",
       "  4: [],\n",
       "  5: [],\n",
       "  6: [],\n",
       "  7: [],\n",
       "  8: [],\n",
       "  9: [],\n",
       "  10: [],\n",
       "  11: [],\n",
       "  12: []},\n",
       " 'hvac': {1: [],\n",
       "  2: [],\n",
       "  3: [],\n",
       "  4: [],\n",
       "  5: [],\n",
       "  6: [],\n",
       "  7: [],\n",
       "  8: [],\n",
       "  9: [],\n",
       "  10: [],\n",
       "  11: [],\n",
       "  12: []},\n",
       " 'wm': {1: [],\n",
       "  2: [],\n",
       "  3: [],\n",
       "  4: [],\n",
       "  5: [],\n",
       "  6: [],\n",
       "  7: [],\n",
       "  8: [],\n",
       "  9: [],\n",
       "  10: [],\n",
       "  11: [],\n",
       "  12: []}}"
      ]
     },
     "execution_count": 77,
     "metadata": {},
     "output_type": "execute_result"
    }
   ],
   "source": [
    "acc['Regional average']"
   ]
  },
  {
   "cell_type": "code",
   "execution_count": 129,
   "metadata": {
    "collapsed": false
   },
   "outputs": [
    {
     "data": {
      "text/plain": [
       "218.4750300575705"
      ]
     },
     "execution_count": 129,
     "metadata": {},
     "output_type": "execute_result"
    }
   ],
   "source": [
    "train_df['hvac_9'].mean()"
   ]
  },
  {
   "cell_type": "code",
   "execution_count": 128,
   "metadata": {
    "collapsed": false
   },
   "outputs": [
    {
     "data": {
      "text/plain": [
       "482.0247721723813"
      ]
     },
     "execution_count": 128,
     "metadata": {},
     "output_type": "execute_result"
    }
   ],
   "source": [
    "test_df['hvac_9'].mean()"
   ]
  },
  {
   "cell_type": "code",
   "execution_count": 245,
   "metadata": {
    "collapsed": false
   },
   "outputs": [],
   "source": [
    "m = {}\n",
    "for transform in transformations:\n",
    "    m[transform] = {}\n",
    "    for appliance in [\"fridge\"]:\n",
    "       \n",
    "        for month in range(1,13):\n",
    "            m[transform][month]=[]\n",
    "            \n",
    "            out[transform][appliance][month] = []\n",
    "            for test_home in test_df.index:\n",
    "                try:\n",
    "                    pred =  pickle.load(open('../data/output/ineq_cross/%s_%s_%s_%s_%d_%d_%d.pkl' %(train_region,\n",
    "                                                                                               test_region,\n",
    "                                                                                               transform,\n",
    "                                                                                               appliance,\n",
    "                                                                                               month,\n",
    "                                                                                               test_home,\n",
    "                                                                                               k),'r'))\n",
    "                    gt = test_df.ix[test_home]['%s_%d' %(appliance, month)]\n",
    "                    error = np.abs(gt-pred)\n",
    "                    percentage_error = error*100/gt\n",
    "                    if percentage_error>100:\n",
    "                        percentage_error=100\n",
    "                    percentage_accuracy = 100-percentage_error\n",
    "                    #print appliance, month, transform, gt-pred\n",
    "                    m[transform][month].append(gt-pred)\n",
    "                except Exception, e:\n",
    "                    pass\n",
    "\n",
    "            \n"
   ]
  },
  {
   "cell_type": "code",
   "execution_count": 246,
   "metadata": {
    "collapsed": false
   },
   "outputs": [
    {
     "data": {
      "text/plain": [
       "count    299.000000\n",
       "mean       6.553594\n",
       "std       32.121251\n",
       "min      -57.424472\n",
       "25%       -9.852161\n",
       "50%        2.342088\n",
       "75%       14.932602\n",
       "max      328.898272\n",
       "dtype: float64"
      ]
     },
     "execution_count": 246,
     "metadata": {},
     "output_type": "execute_result"
    }
   ],
   "source": [
    "pd.Series(m['DD'][7]).describe()"
   ]
  },
  {
   "cell_type": "code",
   "execution_count": 247,
   "metadata": {
    "collapsed": false
   },
   "outputs": [],
   "source": [
    "a = {}\n",
    "for transform in transformations:\n",
    "    a[transform] = {}\n",
    "    for month in range(1,13):\n",
    "        a[transform][month] = pd.Series(m[transform][month]).mean()\n",
    "    \n",
    "    "
   ]
  },
  {
   "cell_type": "code",
   "execution_count": 250,
   "metadata": {
    "collapsed": false
   },
   "outputs": [
    {
     "data": {
      "text/plain": [
       "<matplotlib.text.Text at 0x1267dd1d0>"
      ]
     },
     "execution_count": 250,
     "metadata": {},
     "output_type": "execute_result"
    },
    {
     "data": {
      "image/png": "[encoded data removed]",
      "text/plain": [
       "<matplotlib.figure.Figure at 0x126b59a10>"
      ]
     },
     "metadata": {},
     "output_type": "display_data"
    }
   ],
   "source": [
    "pd.DataFrame(a)[['DD','None']].plot(kind=\"bar\",rot=0)\n",
    "plt.xlabel(\"Month\")\n",
    "plt.ylabel(\"GT-Pred (kWh)\")\n",
    "#plt.savefig('../results/transform_strategy_hvac.png')"
   ]
  },
  {
   "cell_type": "code",
   "execution_count": 243,
   "metadata": {
    "collapsed": false
   },
   "outputs": [
    {
     "data": {
      "text/plain": [
       "(36.504466090883525, 54.91064814108161)"
      ]
     },
     "execution_count": 243,
     "metadata": {},
     "output_type": "execute_result"
    }
   ],
   "source": [
    "train_df['fridge_11'].mean(), test_df['fridge_11'].mean()"
   ]
  },
  {
   "cell_type": "code",
   "execution_count": 233,
   "metadata": {
    "collapsed": false
   },
   "outputs": [
    {
     "data": {
      "text/plain": [
       "46.137905111303894"
      ]
     },
     "execution_count": 233,
     "metadata": {},
     "output_type": "execute_result"
    }
   ],
   "source": []
  },
  {
   "cell_type": "code",
   "execution_count": 347,
   "metadata": {
    "collapsed": false
   },
   "outputs": [
    {
     "name": "stdout",
     "output_type": "stream",
     "text": [
      "hvac 1 DD\n",
      "hvac 2 DD\n",
      "hvac 3 DD\n",
      "hvac 4 DD\n",
      "hvac 5 DD\n",
      "hvac 6 DD\n",
      "hvac 7 DD\n",
      "hvac 8 DD\n",
      "hvac 9 DD\n",
      "hvac 10 DD\n",
      "hvac 11 DD\n",
      "hvac 12 DD\n",
      "hvac 1 None\n",
      "hvac 2 None\n",
      "hvac 3 None\n",
      "hvac 4 None\n",
      "hvac 5 None\n",
      "hvac 6 None\n",
      "hvac 7 None\n",
      "hvac 8 None\n",
      "hvac 9 None\n",
      "hvac 10 None\n",
      "hvac 11 None\n",
      "hvac 12 None\n",
      "hvac 1 median-aggregate\n",
      "hvac 2 median-aggregate\n",
      "hvac 3 median-aggregate\n",
      "hvac 4 median-aggregate\n",
      "hvac 5 median-aggregate\n",
      "hvac 6 median-aggregate\n",
      "hvac 7 median-aggregate\n",
      "hvac 8 median-aggregate\n",
      "hvac 9 median-aggregate\n",
      "hvac 10 median-aggregate\n",
      "hvac 11 median-aggregate\n",
      "hvac 12 median-aggregate\n",
      "hvac 1 DD-percentage\n",
      "hvac 2 DD-percentage\n",
      "hvac 3 DD-percentage\n",
      "hvac 4 DD-percentage\n",
      "hvac 5 DD-percentage\n",
      "hvac 6 DD-percentage\n",
      "hvac 7 DD-percentage\n",
      "hvac 8 DD-percentage\n",
      "hvac 9 DD-percentage\n",
      "hvac 10 DD-percentage\n",
      "hvac 11 DD-percentage\n",
      "hvac 12 DD-percentage\n"
     ]
    }
   ],
   "source": [
    "out = {}\n",
    "for transform in transformations:\n",
    "    out[transform] = {}\n",
    "    #for appliance in [\"hvac\",\"fridge\",\"dr\",\"wm\"]:\n",
    "    for appliance in ['hvac']:\n",
    "        out[transform][appliance] = {}\n",
    "        for month in range(1,13):\n",
    "            print appliance, month, transform\n",
    "            out[transform][appliance][month] = []\n",
    "            for test_home in test_df.index:\n",
    "                try:\n",
    "                    pred =  pickle.load(open('../data/output/ineq_cross/%s_%s_%s_%s_%d_%d_%d.pkl' %(train_region,\n",
    "                                                                                               test_region,\n",
    "                                                                                               transform,\n",
    "                                                                                               appliance,\n",
    "                                                                                               month,\n",
    "                                                                                               test_home,\n",
    "                                                                                               k),'r'))\n",
    "                    gt = test_df.ix[test_home]['%s_%d' %(appliance, month)]\n",
    "                    error = np.abs(gt-pred)\n",
    "                    \n",
    "                    out[transform][appliance][month].append(error)\n",
    "                except Exception, e:\n",
    "                    pass\n",
    "\n",
    "            \n"
   ]
  },
  {
   "cell_type": "code",
   "execution_count": 348,
   "metadata": {
    "collapsed": false
   },
   "outputs": [],
   "source": [
    "acc = {tr:{} for tr in transformations}\n",
    "\n",
    "acc['Regional average']={}\n",
    "\n",
    "for transform in transformations:\n",
    "    #for appliance in [\"hvac\",\"fridge\",\"wm\"]:\n",
    "    for appliance in [\"hvac\"]:    \n",
    "        acc[transform][appliance] = {}\n",
    "        for month in range(1,13):\n",
    "            acc[transform][appliance][month] = pd.Series(out[transform][appliance][month]).median()"
   ]
  },
  {
   "cell_type": "code",
   "execution_count": 350,
   "metadata": {
    "collapsed": false
   },
   "outputs": [
    {
     "data": {
      "text/html": [
       "<div>\n",
       "<table border=\"1\" class=\"dataframe\">\n",
       "  <thead>\n",
       "    <tr style=\"text-align: right;\">\n",
       "      <th></th>\n",
       "      <th>DD</th>\n",
       "      <th>DD-percentage</th>\n",
       "      <th>None</th>\n",
       "      <th>Regional average</th>\n",
       "      <th>median-aggregate</th>\n",
       "    </tr>\n",
       "  </thead>\n",
       "  <tbody>\n",
       "    <tr>\n",
       "      <th>hvac</th>\n",
       "      <td>{1: 8.44147178069, 2: 57.656674514, 3: 44.0356...</td>\n",
       "      <td>{1: 12.0296812273, 2: 48.8202568568, 3: 44.856...</td>\n",
       "      <td>{1: 2.92191117009, 2: 16.5883969124, 3: 42.407...</td>\n",
       "      <td>NaN</td>\n",
       "      <td>{1: 1.22682088274, 2: 4.71549728458, 3: 40.347...</td>\n",
       "    </tr>\n",
       "  </tbody>\n",
       "</table>\n",
       "</div>"
      ],
      "text/plain": [
       "                                                     DD  \\\n",
       "hvac  {1: 8.44147178069, 2: 57.656674514, 3: 44.0356...   \n",
       "\n",
       "                                          DD-percentage  \\\n",
       "hvac  {1: 12.0296812273, 2: 48.8202568568, 3: 44.856...   \n",
       "\n",
       "                                                   None  Regional average  \\\n",
       "hvac  {1: 2.92191117009, 2: 16.5883969124, 3: 42.407...               NaN   \n",
       "\n",
       "                                       median-aggregate  \n",
       "hvac  {1: 1.22682088274, 2: 4.71549728458, 3: 40.347...  "
      ]
     },
     "execution_count": 350,
     "metadata": {},
     "output_type": "execute_result"
    }
   ],
   "source": []
  },
  {
   "cell_type": "code",
   "execution_count": 354,
   "metadata": {
    "collapsed": false
   },
   "outputs": [
    {
     "data": {
      "text/plain": [
       "1     12.029681\n",
       "2     48.820257\n",
       "3     44.856039\n",
       "4     55.901814\n",
       "5     92.348637\n",
       "6     81.464455\n",
       "7     82.482646\n",
       "8     79.634070\n",
       "9     71.332982\n",
       "10    68.626646\n",
       "11    19.807754\n",
       "12     7.320005\n",
       "dtype: float64"
      ]
     },
     "execution_count": 354,
     "metadata": {},
     "output_type": "execute_result"
    }
   ],
   "source": [
    "pd.Series(acc['DD-percentage']['hvac'])"
   ]
  },
  {
   "cell_type": "code",
   "execution_count": 355,
   "metadata": {
    "collapsed": false
   },
   "outputs": [
    {
     "data": {
      "text/plain": [
       "1       2.921911\n",
       "2      16.588397\n",
       "3      42.407613\n",
       "4      64.840691\n",
       "5     155.903642\n",
       "6     202.587438\n",
       "7     330.707652\n",
       "8     326.625814\n",
       "9     148.695028\n",
       "10     87.474467\n",
       "11     21.282795\n",
       "12      8.047367\n",
       "dtype: float64"
      ]
     },
     "execution_count": 355,
     "metadata": {},
     "output_type": "execute_result"
    }
   ],
   "source": [
    "pd.Series(acc['None']['hvac'])"
   ]
  },
  {
   "cell_type": "code",
   "execution_count": null,
   "metadata": {
    "collapsed": true
   },
   "outputs": [],
   "source": []
  }
 ],
 "metadata": {
  "kernelspec": {
   "display_name": "Python 2",
   "language": "python",
   "name": "python2"
  },
  "language_info": {
   "codemirror_mode": {
    "name": "ipython",
    "version": 2
   },
   "file_extension": ".py",
   "mimetype": "text/x-python",
   "name": "python",
   "nbconvert_exporter": "python",
   "pygments_lexer": "ipython2",
   "version": "2.7.11"
  }
 },
 "nbformat": 4,
 "nbformat_minor": 0
}
