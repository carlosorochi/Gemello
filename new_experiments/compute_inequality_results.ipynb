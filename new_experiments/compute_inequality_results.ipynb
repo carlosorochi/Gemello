{
 "cells": [
  {
   "cell_type": "code",
   "execution_count": 3,
   "metadata": {
    "collapsed": true
   },
   "outputs": [],
   "source": [
    "import pandas as pd\n",
    "import numpy as np\n",
    "import pickle"
   ]
  },
  {
   "cell_type": "code",
   "execution_count": 9,
   "metadata": {
    "collapsed": false
   },
   "outputs": [],
   "source": [
    "train_region = \"SanDiego\"\n",
    "test_region = \"Austin\"\n",
    "out_overall = pickle.load(open('../data/input/all_regions.pkl','r'))\n",
    "\n",
    "train_df = out_overall[train_region]\n",
    "test_df = out_overall[test_region]\n",
    "transform = \"None\"\n",
    "k=3"
   ]
  },
  {
   "cell_type": "code",
   "execution_count": 24,
   "metadata": {
    "collapsed": false
   },
   "outputs": [
    {
     "name": "stdout",
     "output_type": "stream",
     "text": [
      "hvac 1\n",
      "hvac 2\n",
      "hvac 3\n",
      "hvac 4\n",
      "hvac 5\n",
      "hvac 6\n",
      "hvac 7\n",
      "hvac 8\n",
      "hvac 9\n",
      "hvac 10\n",
      "hvac 11\n",
      "hvac 12\n",
      "fridge 1\n",
      "fridge 2\n",
      "fridge 3\n",
      "fridge 4\n",
      "fridge 5\n",
      "fridge 6\n",
      "fridge 7\n",
      "fridge 8\n",
      "fridge 9\n",
      "fridge 10\n",
      "fridge 11\n",
      "fridge 12\n",
      "dr 1\n",
      "dr 2\n",
      "dr 3\n",
      "dr 4\n",
      "dr 5\n",
      "dr 6\n",
      "dr 7\n",
      "dr 8\n",
      "dr 9\n",
      "dr 10\n",
      "dr 11\n",
      "dr 12\n",
      "wm 1\n",
      "wm 2\n",
      "wm 3\n",
      "wm 4\n",
      "wm 5\n",
      "wm 6\n",
      "wm 7\n",
      "wm 8\n",
      "wm 9\n",
      "wm 10\n",
      "wm 11\n",
      "wm 12\n"
     ]
    }
   ],
   "source": [
    "out = {}\n",
    "for appliance in [\"hvac\",\"fridge\",\"dr\",\"wm\"]:\n",
    "    out[appliance] = {}\n",
    "    for month in range(1,13):\n",
    "        print appliance, month\n",
    "        out[appliance][month] = []\n",
    "        for test_home in test_df.index:\n",
    "            try:\n",
    "                pred =  pickle.load(open('../data/output/ineq_cross/%s_%s_%s_%s_%d_%d_%d.pkl' %(train_region,\n",
    "                                                                                           test_region,\n",
    "                                                                                           transform,\n",
    "                                                                                           appliance,\n",
    "                                                                                           month,\n",
    "                                                                                           test_home,\n",
    "                                                                                           k),'r'))\n",
    "                gt = test_df.ix[test_home]['%s_%d' %(appliance, month)]\n",
    "                error = np.abs(gt-pred)\n",
    "                percentage_error = error*100/gt\n",
    "                if percentage_error>100:\n",
    "                    percentage_error=100\n",
    "                percentage_accuracy = 100-percentage_error\n",
    "                out[appliance][month].append(percentage_accuracy)\n",
    "            except Exception, e:\n",
    "                pass\n",
    "                \n",
    "            \n"
   ]
  },
  {
   "cell_type": "code",
   "execution_count": 51,
   "metadata": {
    "collapsed": false
   },
   "outputs": [
    {
     "data": {
      "text/plain": [
       "count    159.000000\n",
       "mean      49.332065\n",
       "std       33.517734\n",
       "min        0.000000\n",
       "25%       19.829115\n",
       "50%       53.225231\n",
       "75%       78.631967\n",
       "max       99.968976\n",
       "dtype: float64"
      ]
     },
     "execution_count": 51,
     "metadata": {},
     "output_type": "execute_result"
    }
   ],
   "source": [
    "pd.Series(out['wm'][10]).describe()"
   ]
  },
  {
   "cell_type": "code",
   "execution_count": null,
   "metadata": {
    "collapsed": true
   },
   "outputs": [],
   "source": []
  }
 ],
 "metadata": {
  "kernelspec": {
   "display_name": "Python 2",
   "language": "python",
   "name": "python2"
  },
  "language_info": {
   "codemirror_mode": {
    "name": "ipython",
    "version": 2
   },
   "file_extension": ".py",
   "mimetype": "text/x-python",
   "name": "python",
   "nbconvert_exporter": "python",
   "pygments_lexer": "ipython2",
   "version": "2.7.11"
  }
 },
 "nbformat": 4,
 "nbformat_minor": 0
}
