{
 "cells": [
  {
   "cell_type": "code",
   "execution_count": 130,
   "metadata": {
    "collapsed": true
   },
   "outputs": [],
   "source": [
    "import pandas as pd\n",
    "import numpy as np\n",
    "import pickle"
   ]
  },
  {
   "cell_type": "code",
   "execution_count": 272,
   "metadata": {
    "collapsed": false
   },
   "outputs": [],
   "source": [
    "#train_region = \"Austin\"\n",
    "#test_region = \"SanDiego\"\n",
    "test_region = \"Austin\"\n",
    "train_region = \"SanDiego\"\n",
    "out_overall = pickle.load(open('../data/input/all_regions.pkl','r'))\n",
    "\n",
    "train_df = out_overall[train_region]\n",
    "test_df = out_overall[test_region]\n",
    "#transform = \"DD\"\n",
    "k=3\n",
    "transformations = [\"DD\",\"None\",'median-aggregate']\n",
    "transformations = ['DD','None',\"DD-fridge\"]"
   ]
  },
  {
   "cell_type": "code",
   "execution_count": 273,
   "metadata": {
    "collapsed": false
   },
   "outputs": [
    {
     "name": "stdout",
     "output_type": "stream",
     "text": [
      "fridge 1 DD\n",
      "fridge 2 DD\n",
      "fridge 3 DD\n",
      "fridge 4 DD\n",
      "fridge 5 DD\n",
      "fridge 6 DD\n",
      "fridge 7 DD\n",
      "fridge 8 DD\n",
      "fridge 9 DD\n",
      "fridge 10 DD\n",
      "fridge 11 DD\n",
      "fridge 12 DD\n",
      "fridge 1 None\n",
      "fridge 2 None\n",
      "fridge 3 None\n",
      "fridge 4 None\n",
      "fridge 5 None\n",
      "fridge 6 None\n",
      "fridge 7 None\n",
      "fridge 8 None\n",
      "fridge 9 None\n",
      "fridge 10 None\n",
      "fridge 11 None\n",
      "fridge 12 None\n",
      "fridge 1 DD-fridge\n",
      "fridge 2 DD-fridge\n",
      "fridge 3 DD-fridge\n",
      "fridge 4 DD-fridge\n",
      "fridge 5 DD-fridge\n",
      "fridge 6 DD-fridge\n",
      "fridge 7 DD-fridge\n",
      "fridge 8 DD-fridge\n",
      "fridge 9 DD-fridge\n",
      "fridge 10 DD-fridge\n",
      "fridge 11 DD-fridge\n",
      "fridge 12 DD-fridge\n"
     ]
    }
   ],
   "source": [
    "out = {}\n",
    "for transform in transformations:\n",
    "    out[transform] = {}\n",
    "    #for appliance in [\"hvac\",\"fridge\",\"dr\",\"wm\"]:\n",
    "    for appliance in ['fridge']:\n",
    "        out[transform][appliance] = {}\n",
    "        for month in range(1,13):\n",
    "            print appliance, month, transform\n",
    "            out[transform][appliance][month] = []\n",
    "            for test_home in test_df.index:\n",
    "                try:\n",
    "                    pred =  pickle.load(open('../data/output/ineq_cross/%s_%s_%s_%s_%d_%d_%d.pkl' %(train_region,\n",
    "                                                                                               test_region,\n",
    "                                                                                               transform,\n",
    "                                                                                               appliance,\n",
    "                                                                                               month,\n",
    "                                                                                               test_home,\n",
    "                                                                                               k),'r'))\n",
    "                    gt = test_df.ix[test_home]['%s_%d' %(appliance, month)]\n",
    "                    error = np.abs(gt-pred)\n",
    "                    percentage_error = error*100/gt\n",
    "                    if percentage_error>100:\n",
    "                        percentage_error=100\n",
    "                    percentage_accuracy = 100-percentage_error\n",
    "                    out[transform][appliance][month].append(percentage_accuracy)\n",
    "                except Exception, e:\n",
    "                    pass\n",
    "\n",
    "            \n"
   ]
  },
  {
   "cell_type": "code",
   "execution_count": 274,
   "metadata": {
    "collapsed": false
   },
   "outputs": [],
   "source": [
    "acc = {tr:{} for tr in transformations}\n",
    "\n",
    "acc['Regional average']={}"
   ]
  },
  {
   "cell_type": "code",
   "execution_count": 275,
   "metadata": {
    "collapsed": false
   },
   "outputs": [],
   "source": [
    "for transform in transformations:\n",
    "    #for appliance in [\"hvac\",\"fridge\",\"wm\"]:\n",
    "    for appliance in [\"fridge\"]:    \n",
    "        acc[transform][appliance] = {}\n",
    "        for month in range(1,13):\n",
    "            acc[transform][appliance][month] = pd.Series(out[transform][appliance][month]).mean()"
   ]
  },
  {
   "cell_type": "code",
   "execution_count": 276,
   "metadata": {
    "collapsed": true
   },
   "outputs": [],
   "source": [
    "%matplotlib inline"
   ]
  },
  {
   "cell_type": "code",
   "execution_count": 277,
   "metadata": {
    "collapsed": false
   },
   "outputs": [
    {
     "data": {
      "text/plain": [
       "<matplotlib.axes._subplots.AxesSubplot at 0x127d5ee10>"
      ]
     },
     "execution_count": 277,
     "metadata": {},
     "output_type": "execute_result"
    },
    {
     "data": {
      "image/png": "[encoded data removed]",
      "text/plain": [
       "<matplotlib.figure.Figure at 0x1288837d0>"
      ]
     },
     "metadata": {},
     "output_type": "display_data"
    }
   ],
   "source": [
    "pd.DataFrame(acc['DD']).plot(kind='bar',rot=0)"
   ]
  },
  {
   "cell_type": "code",
   "execution_count": 278,
   "metadata": {
    "collapsed": false
   },
   "outputs": [
    {
     "data": {
      "text/plain": [
       "<matplotlib.axes._subplots.AxesSubplot at 0x127d5e150>"
      ]
     },
     "execution_count": 278,
     "metadata": {},
     "output_type": "execute_result"
    },
    {
     "data": {
      "image/png": "[encoded data removed]",
      "text/plain": [
       "<matplotlib.figure.Figure at 0x12797fd10>"
      ]
     },
     "metadata": {},
     "output_type": "display_data"
    }
   ],
   "source": [
    "pd.DataFrame(acc['None']).plot(kind='bar',rot=0)"
   ]
  },
  {
   "cell_type": "code",
   "execution_count": 279,
   "metadata": {
    "collapsed": false
   },
   "outputs": [
    {
     "data": {
      "text/plain": [
       "<matplotlib.axes._subplots.AxesSubplot at 0x127987c90>"
      ]
     },
     "execution_count": 279,
     "metadata": {},
     "output_type": "execute_result"
    },
    {
     "data": {
      "image/png": "[encoded data removed]",
      "text/plain": [
       "<matplotlib.figure.Figure at 0x128f2ea50>"
      ]
     },
     "metadata": {},
     "output_type": "display_data"
    }
   ],
   "source": [
    "pd.DataFrame(acc['DD-fridge']).plot(kind='bar',rot=0)"
   ]
  },
  {
   "cell_type": "code",
   "execution_count": 194,
   "metadata": {
    "collapsed": false
   },
   "outputs": [
    {
     "data": {
      "text/plain": [
       "<matplotlib.axes._subplots.AxesSubplot at 0x121c0cc90>"
      ]
     },
     "execution_count": 194,
     "metadata": {},
     "output_type": "execute_result"
    },
    {
     "data": {
      "image/png": "[encoded data removed]",
      "text/plain": [
       "<matplotlib.figure.Figure at 0x1224de1d0>"
      ]
     },
     "metadata": {},
     "output_type": "display_data"
    }
   ],
   "source": [
    "pd.DataFrame(acc['median-aggregate']).plot(kind='bar',rot=0)"
   ]
  },
  {
   "cell_type": "code",
   "execution_count": 280,
   "metadata": {
    "collapsed": false
   },
   "outputs": [],
   "source": [
    "contri = {\n",
    "    'Austin':\n",
    "    {'Cooling':{'wm':0.01,\n",
    "    'hvac':0.29,\n",
    "    'fridge':0.09},\n",
    "    'Heating':\n",
    "    {'wm':.01,'hvac':0.07,'fridge':0.09}}\n",
    "    \n",
    "    ,\n",
    "    'SanDiego':\n",
    "    {'wm':0.01,\n",
    "    'hvac':.16,\n",
    "    'fridge':0.15}\n",
    "}"
   ]
  },
  {
   "cell_type": "code",
   "execution_count": 281,
   "metadata": {
    "collapsed": false
   },
   "outputs": [],
   "source": [
    "for appliance in [\"fridge\"]:\n",
    "    acc['Regional average'][appliance] = {}\n",
    "    for month in range(1,13):\n",
    "        acc['Regional average'][appliance][month] = []\n",
    "        for test_home in test_df.index:\n",
    "            try:\n",
    "                if month in range(3, 11):\n",
    "                    pred = test_df.ix[test_home]['aggregate_%d' %month]*contri[test_region]['Cooling'][appliance]\n",
    "                else:\n",
    "                    pred = test_df.ix[test_home]['aggregate_%d' %month]*contri[test_region]['Heating'][appliance]\n",
    "                gt = test_df.ix[test_home]['%s_%d' %(appliance, month)]\n",
    "                error = np.abs(gt-pred)\n",
    "                percentage_error = error*100/gt\n",
    "                if percentage_error>100:\n",
    "                    percentage_error=100\n",
    "                percentage_accuracy = 100-percentage_error\n",
    "                acc['Regional average'][appliance][month].append(percentage_accuracy)\n",
    "            except Exception, e:\n",
    "                print e\n",
    "                \n",
    "        acc['Regional average'][appliance][month] = pd.Series(acc['Regional average'][appliance][month]).mean()"
   ]
  },
  {
   "cell_type": "code",
   "execution_count": 268,
   "metadata": {
    "collapsed": false
   },
   "outputs": [
    {
     "data": {
      "text/plain": [
       "<matplotlib.axes._subplots.AxesSubplot at 0x127346890>"
      ]
     },
     "execution_count": 268,
     "metadata": {},
     "output_type": "execute_result"
    },
    {
     "data": {
      "image/png": "[encoded data removed]",
      "text/plain": [
       "<matplotlib.figure.Figure at 0x127d57690>"
      ]
     },
     "metadata": {},
     "output_type": "display_data"
    }
   ],
   "source": [
    "\n",
    "pd.DataFrame(acc['Regional average']).plot(kind='bar',rot=0)"
   ]
  },
  {
   "cell_type": "code",
   "execution_count": 269,
   "metadata": {
    "collapsed": false
   },
   "outputs": [
    {
     "data": {
      "text/plain": [
       "1      9.004367\n",
       "2     12.214557\n",
       "3      9.343678\n",
       "4     37.224065\n",
       "5     56.366262\n",
       "6     63.661751\n",
       "7     58.715236\n",
       "8     57.552838\n",
       "9     63.129069\n",
       "10    62.209776\n",
       "11    40.059458\n",
       "12    14.315241\n",
       "Name: hvac, dtype: float64"
      ]
     },
     "execution_count": 269,
     "metadata": {},
     "output_type": "execute_result"
    }
   ],
   "source": [
    "pd.DataFrame(acc['Regional average'])['hvac']"
   ]
  },
  {
   "cell_type": "code",
   "execution_count": 271,
   "metadata": {
    "collapsed": false
   },
   "outputs": [
    {
     "data": {
      "text/plain": [
       "1     12.087329\n",
       "2     10.004737\n",
       "3     23.409922\n",
       "4     31.805008\n",
       "5     33.801143\n",
       "6     56.314415\n",
       "7     63.602969\n",
       "8     64.282721\n",
       "9     61.703113\n",
       "10    51.299250\n",
       "11    29.067867\n",
       "12     5.877054\n",
       "Name: hvac, dtype: float64"
      ]
     },
     "execution_count": 271,
     "metadata": {},
     "output_type": "execute_result"
    }
   ],
   "source": [
    "pd.DataFrame(acc['DD'])['hvac']"
   ]
  },
  {
   "cell_type": "code",
   "execution_count": 261,
   "metadata": {
    "collapsed": false
   },
   "outputs": [
    {
     "data": {
      "text/plain": [
       "1      9.004367\n",
       "2     12.214557\n",
       "3      9.343678\n",
       "4     37.224065\n",
       "5     56.366262\n",
       "6     63.661751\n",
       "7     58.715236\n",
       "8     57.552838\n",
       "9     63.129069\n",
       "10    62.209776\n",
       "11    40.059458\n",
       "12    14.315241\n",
       "Name: hvac, dtype: float64"
      ]
     },
     "execution_count": 261,
     "metadata": {},
     "output_type": "execute_result"
    }
   ],
   "source": [
    "pd.DataFrame(acc['Regional average'])['hvac']"
   ]
  },
  {
   "cell_type": "code",
   "execution_count": 70,
   "metadata": {
    "collapsed": true
   },
   "outputs": [],
   "source": [
    "import matplotlib.pyplot as plt"
   ]
  },
  {
   "cell_type": "code",
   "execution_count": 154,
   "metadata": {
    "collapsed": false
   },
   "outputs": [
    {
     "data": {
      "text/plain": [
       "[]"
      ]
     },
     "execution_count": 154,
     "metadata": {},
     "output_type": "execute_result"
    }
   ],
   "source": [
    "acc['Regional average'].keys()"
   ]
  },
  {
   "cell_type": "code",
   "execution_count": 283,
   "metadata": {
    "collapsed": false
   },
   "outputs": [
    {
     "data": {
      "text/plain": [
       "<matplotlib.text.Text at 0x1299707d0>"
      ]
     },
     "execution_count": 283,
     "metadata": {},
     "output_type": "execute_result"
    },
    {
     "data": {
      "image/png": "[encoded data removed]",
      "text/plain": [
       "<matplotlib.figure.Figure at 0x12935f890>"
      ]
     },
     "metadata": {},
     "output_type": "display_data"
    }
   ],
   "source": [
    "fig, ax = plt.subplots(nrows=3, sharex=True)\n",
    "#for i, appliance in enumerate([\"hvac\",\"fridge\",\"wm\"]):\n",
    "for i, appliance in enumerate([\"fridge\"]):\n",
    "\n",
    "    ap_dict = {approach:acc[approach][appliance] for approach in acc.keys()}\n",
    "    df = pd.DataFrame(ap_dict)\n",
    "    df = df[['None','DD','Regional average','DD-fridge']]\n",
    "    df.plot(ax=ax[i], kind='bar', title=appliance, rot= 0, legend=False)\n",
    "plt.tight_layout()\n",
    "lgd=ax[0].legend(bbox_to_anchor=(0.5,2.2), loc='upper center', ncol=1)\n",
    "plt.xlabel(\"Month\")\n",
    "#plt.savefig('../results/dd_transform_sd_austin.png',bbox_extra_artists=(lgd,), bbox_inches='tight')"
   ]
  },
  {
   "cell_type": "code",
   "execution_count": 287,
   "metadata": {
    "collapsed": false
   },
   "outputs": [
    {
     "data": {
      "text/plain": [
       "68.77659836635122"
      ]
     },
     "execution_count": 287,
     "metadata": {},
     "output_type": "execute_result"
    }
   ],
   "source": [
    "pd.Series(acc['DD']['fridge']).mean()"
   ]
  },
  {
   "cell_type": "code",
   "execution_count": 157,
   "metadata": {
    "collapsed": false
   },
   "outputs": [
    {
     "data": {
      "image/png": "[encoded data removed]",
      "text/plain": [
       "<IPython.core.display.Image object>"
      ]
     },
     "execution_count": 157,
     "metadata": {},
     "output_type": "execute_result"
    }
   ],
   "source": [
    "from IPython.display import Image\n",
    "Image('../results/no_transform_sd_austin.png')"
   ]
  },
  {
   "cell_type": "code",
   "execution_count": 119,
   "metadata": {
    "collapsed": false
   },
   "outputs": [
    {
     "data": {
      "image/png": "[encoded data removed]",
      "text/plain": [
       "<matplotlib.figure.Figure at 0x11e717bd0>"
      ]
     },
     "metadata": {},
     "output_type": "display_data"
    }
   ],
   "source": [
    "fig, ax = plt.subplots(nrows=3, sharex=True)\n",
    "for i, appliance in enumerate([\"hvac\",\"fridge\",\"wm\"]):\n",
    "    ap_dict = {approach:acc[approach][appliance] for approach in acc.keys()}\n",
    "    df = pd.DataFrame(ap_dict)\n",
    "    df.plot(ax=ax[i], kind='bar', title=appliance, rot= 0, legend=False)\n",
    "plt.tight_layout()\n",
    "lgd=ax[0].legend(bbox_to_anchor=(0.5,2.2), loc='upper center', ncol=1)\n",
    "plt.xlabel(\"Month\")\n",
    "#\n",
    "\n",
    "#plt.savefig('../results/no_transform_sd_austin.png',bbox_extra_artists=(lgd,), bbox_inches='tight')"
   ]
  },
  {
   "cell_type": "code",
   "execution_count": 73,
   "metadata": {
    "collapsed": false
   },
   "outputs": [
    {
     "data": {
      "text/plain": [
       "{'Our approach': {1: 33.8734504582082,\n",
       "  2: 48.67136857405774,\n",
       "  3: 50.31158734130758,\n",
       "  4: 48.937788635189555,\n",
       "  5: 42.91586645201225,\n",
       "  6: 47.54102296541092,\n",
       "  7: 42.690949812235495,\n",
       "  8: 48.85646634271478,\n",
       "  9: 45.31713598166896,\n",
       "  10: 49.332064873332705,\n",
       "  11: 47.12320106158118,\n",
       "  12: 50.861510015694236},\n",
       " 'Regional average': {1: 33.8734504582082,\n",
       "  2: 48.67136857405774,\n",
       "  3: 50.31158734130758,\n",
       "  4: 48.937788635189555,\n",
       "  5: 42.91586645201225,\n",
       "  6: 47.54102296541092,\n",
       "  7: 42.690949812235495,\n",
       "  8: 48.85646634271478,\n",
       "  9: 45.31713598166896,\n",
       "  10: 49.332064873332705,\n",
       "  11: 47.12320106158118,\n",
       "  12: 50.861510015694236}}"
      ]
     },
     "execution_count": 73,
     "metadata": {},
     "output_type": "execute_result"
    }
   ],
   "source": [
    "ap_dict"
   ]
  },
  {
   "cell_type": "code",
   "execution_count": 77,
   "metadata": {
    "collapsed": false
   },
   "outputs": [
    {
     "data": {
      "text/plain": [
       "{'fridge': {1: [],\n",
       "  2: [],\n",
       "  3: [],\n",
       "  4: [],\n",
       "  5: [],\n",
       "  6: [],\n",
       "  7: [],\n",
       "  8: [],\n",
       "  9: [],\n",
       "  10: [],\n",
       "  11: [],\n",
       "  12: []},\n",
       " 'hvac': {1: [],\n",
       "  2: [],\n",
       "  3: [],\n",
       "  4: [],\n",
       "  5: [],\n",
       "  6: [],\n",
       "  7: [],\n",
       "  8: [],\n",
       "  9: [],\n",
       "  10: [],\n",
       "  11: [],\n",
       "  12: []},\n",
       " 'wm': {1: [],\n",
       "  2: [],\n",
       "  3: [],\n",
       "  4: [],\n",
       "  5: [],\n",
       "  6: [],\n",
       "  7: [],\n",
       "  8: [],\n",
       "  9: [],\n",
       "  10: [],\n",
       "  11: [],\n",
       "  12: []}}"
      ]
     },
     "execution_count": 77,
     "metadata": {},
     "output_type": "execute_result"
    }
   ],
   "source": [
    "acc['Regional average']"
   ]
  },
  {
   "cell_type": "code",
   "execution_count": 129,
   "metadata": {
    "collapsed": false
   },
   "outputs": [
    {
     "data": {
      "text/plain": [
       "218.4750300575705"
      ]
     },
     "execution_count": 129,
     "metadata": {},
     "output_type": "execute_result"
    }
   ],
   "source": [
    "train_df['hvac_9'].mean()"
   ]
  },
  {
   "cell_type": "code",
   "execution_count": 128,
   "metadata": {
    "collapsed": false
   },
   "outputs": [
    {
     "data": {
      "text/plain": [
       "482.0247721723813"
      ]
     },
     "execution_count": 128,
     "metadata": {},
     "output_type": "execute_result"
    }
   ],
   "source": [
    "test_df['hvac_9'].mean()"
   ]
  },
  {
   "cell_type": "code",
   "execution_count": 245,
   "metadata": {
    "collapsed": false
   },
   "outputs": [],
   "source": [
    "m = {}\n",
    "for transform in transformations:\n",
    "    m[transform] = {}\n",
    "    for appliance in [\"fridge\"]:\n",
    "       \n",
    "        for month in range(1,13):\n",
    "            m[transform][month]=[]\n",
    "            \n",
    "            out[transform][appliance][month] = []\n",
    "            for test_home in test_df.index:\n",
    "                try:\n",
    "                    pred =  pickle.load(open('../data/output/ineq_cross/%s_%s_%s_%s_%d_%d_%d.pkl' %(train_region,\n",
    "                                                                                               test_region,\n",
    "                                                                                               transform,\n",
    "                                                                                               appliance,\n",
    "                                                                                               month,\n",
    "                                                                                               test_home,\n",
    "                                                                                               k),'r'))\n",
    "                    gt = test_df.ix[test_home]['%s_%d' %(appliance, month)]\n",
    "                    error = np.abs(gt-pred)\n",
    "                    percentage_error = error*100/gt\n",
    "                    if percentage_error>100:\n",
    "                        percentage_error=100\n",
    "                    percentage_accuracy = 100-percentage_error\n",
    "                    #print appliance, month, transform, gt-pred\n",
    "                    m[transform][month].append(gt-pred)\n",
    "                except Exception, e:\n",
    "                    pass\n",
    "\n",
    "            \n"
   ]
  },
  {
   "cell_type": "code",
   "execution_count": 246,
   "metadata": {
    "collapsed": false
   },
   "outputs": [
    {
     "data": {
      "text/plain": [
       "count    299.000000\n",
       "mean       6.553594\n",
       "std       32.121251\n",
       "min      -57.424472\n",
       "25%       -9.852161\n",
       "50%        2.342088\n",
       "75%       14.932602\n",
       "max      328.898272\n",
       "dtype: float64"
      ]
     },
     "execution_count": 246,
     "metadata": {},
     "output_type": "execute_result"
    }
   ],
   "source": [
    "pd.Series(m['DD'][7]).describe()"
   ]
  },
  {
   "cell_type": "code",
   "execution_count": 247,
   "metadata": {
    "collapsed": false
   },
   "outputs": [],
   "source": [
    "a = {}\n",
    "for transform in transformations:\n",
    "    a[transform] = {}\n",
    "    for month in range(1,13):\n",
    "        a[transform][month] = pd.Series(m[transform][month]).mean()\n",
    "    \n",
    "    "
   ]
  },
  {
   "cell_type": "code",
   "execution_count": 250,
   "metadata": {
    "collapsed": false
   },
   "outputs": [
    {
     "data": {
      "text/plain": [
       "<matplotlib.text.Text at 0x1267dd1d0>"
      ]
     },
     "execution_count": 250,
     "metadata": {},
     "output_type": "execute_result"
    },
    {
     "data": {
      "image/png": "[encoded data removed]",
      "text/plain": [
       "<matplotlib.figure.Figure at 0x126b59a10>"
      ]
     },
     "metadata": {},
     "output_type": "display_data"
    }
   ],
   "source": [
    "pd.DataFrame(a)[['DD','None']].plot(kind=\"bar\",rot=0)\n",
    "plt.xlabel(\"Month\")\n",
    "plt.ylabel(\"GT-Pred (kWh)\")\n",
    "#plt.savefig('../results/transform_strategy_hvac.png')"
   ]
  },
  {
   "cell_type": "code",
   "execution_count": 243,
   "metadata": {
    "collapsed": false
   },
   "outputs": [
    {
     "data": {
      "text/plain": [
       "(36.504466090883525, 54.91064814108161)"
      ]
     },
     "execution_count": 243,
     "metadata": {},
     "output_type": "execute_result"
    }
   ],
   "source": [
    "train_df['fridge_11'].mean(), test_df['fridge_11'].mean()"
   ]
  },
  {
   "cell_type": "code",
   "execution_count": 233,
   "metadata": {
    "collapsed": false
   },
   "outputs": [
    {
     "data": {
      "text/plain": [
       "46.137905111303894"
      ]
     },
     "execution_count": 233,
     "metadata": {},
     "output_type": "execute_result"
    }
   ],
   "source": []
  },
  {
   "cell_type": "code",
   "execution_count": null,
   "metadata": {
    "collapsed": true
   },
   "outputs": [],
   "source": []
  }
 ],
 "metadata": {
  "kernelspec": {
   "display_name": "Python 2",
   "language": "python",
   "name": "python2"
  },
  "language_info": {
   "codemirror_mode": {
    "name": "ipython",
    "version": 2
   },
   "file_extension": ".py",
   "mimetype": "text/x-python",
   "name": "python",
   "nbconvert_exporter": "python",
   "pygments_lexer": "ipython2",
   "version": "2.7.11"
  }
 },
 "nbformat": 4,
 "nbformat_minor": 0
}
