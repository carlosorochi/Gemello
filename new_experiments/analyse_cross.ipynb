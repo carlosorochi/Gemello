{
 "cells": [
  {
   "cell_type": "code",
   "execution_count": 1,
   "metadata": {
    "collapsed": true
   },
   "outputs": [],
   "source": [
    "import pandas as pd\n",
    "import numpy as np\n",
    "train_r"
   ]
  },
  {
   "cell_type": "code",
   "execution_count": 92,
   "metadata": {
    "collapsed": true
   },
   "outputs": [],
   "source": [
    "train_region = \"SanDiego\"\n",
    "test_region = \"Austin\"\n",
    "appliance = \"hvac\"\n",
    "feature = \"Monthly\"\n",
    "strategy_list = [\"None\",\"CDD\",\"median-aggregate\"][:]\n",
    "import glob"
   ]
  },
  {
   "cell_type": "code",
   "execution_count": 108,
   "metadata": {
    "collapsed": false
   },
   "outputs": [],
   "source": [
    "out = {}\n",
    "for train_region in [\"SanDiego\"]:\n",
    "    for strategy in strategy_list:\n",
    "        try:\n",
    "            directory = '../data/output/cross/%s_%s_%s_%s_%s/' % (train_region, \n",
    "                                                                    test_region,\n",
    "                                                                     strategy,\n",
    "                                                                    appliance,\n",
    "\n",
    "                                                                   feature)\n",
    "            home_files = glob.glob(directory+\"*.csv\")\n",
    "            out[strategy] = {}\n",
    "            homes = []\n",
    "            for home_file in home_files:\n",
    "                home = int(home_file.split(\"/\")[-1][:-4])\n",
    "                homes.append(home)\n",
    "                df = pd.read_csv(home_file, index_col=0, header=None).squeeze()\n",
    "                df.index.name = \"Month\"\n",
    "                out[strategy][home]=df\n",
    "        except:\n",
    "            pass"
   ]
  },
  {
   "cell_type": "code",
   "execution_count": 109,
   "metadata": {
    "collapsed": false
   },
   "outputs": [],
   "source": [
    "acc={strategy:pd.DataFrame(out[strategy]).mean(axis=1) for strategy in strategy_list}\n",
    "\n",
    "\n"
   ]
  },
  {
   "cell_type": "code",
   "execution_count": 110,
   "metadata": {
    "collapsed": true
   },
   "outputs": [],
   "source": [
    "%matplotlib inline"
   ]
  },
  {
   "cell_type": "code",
   "execution_count": 111,
   "metadata": {
    "collapsed": false
   },
   "outputs": [
    {
     "data": {
      "text/plain": [
       "<matplotlib.axes._subplots.AxesSubplot at 0x11583b890>"
      ]
     },
     "execution_count": 111,
     "metadata": {},
     "output_type": "execute_result"
    },
    {
     "data": {
      "image/png": "[encoded data removed]",
      "text/plain": [
       "<matplotlib.figure.Figure at 0x11574c2d0>"
      ]
     },
     "metadata": {},
     "output_type": "display_data"
    }
   ],
   "source": [
    "pd.DataFrame(acc).plot(kind=\"bar\",rot=0)"
   ]
  },
  {
   "cell_type": "code",
   "execution_count": 97,
   "metadata": {
    "collapsed": false
   },
   "outputs": [
    {
     "data": {
      "text/plain": [
       "{'CDD': Month\n",
       " 7    71.054210\n",
       " 8    70.592257\n",
       " 9    58.666374\n",
       " dtype: float64, 'None': Month\n",
       " 7    82.005931\n",
       " 8    67.586248\n",
       " 9    67.772089\n",
       " dtype: float64, 'median-aggregate': Month\n",
       " 7    58.593951\n",
       " 8    66.618140\n",
       " 9    69.847450\n",
       " dtype: float64}"
      ]
     },
     "execution_count": 97,
     "metadata": {},
     "output_type": "execute_result"
    }
   ],
   "source": [
    "acc"
   ]
  },
  {
   "cell_type": "code",
   "execution_count": 102,
   "metadata": {
    "collapsed": false
   },
   "outputs": [
    {
     "data": {
      "text/plain": [
       "'../data/output/cross/Austin_Austin_median-aggregate_hvac_Monthly/'"
      ]
     },
     "execution_count": 102,
     "metadata": {},
     "output_type": "execute_result"
    }
   ],
   "source": [
    "directory"
   ]
  },
  {
   "cell_type": "code",
   "execution_count": 103,
   "metadata": {
    "collapsed": false
   },
   "outputs": [
    {
     "data": {
      "text/plain": [
       "{'CDD': {}, 'None': {26: Month\n",
       "  7    74.822046\n",
       "  8    76.152687\n",
       "  9    75.905163\n",
       "  Name: 1, dtype: float64, 59: Month\n",
       "  7    12.833763\n",
       "  8    67.929869\n",
       "  9    38.081134\n",
       "  Name: 1, dtype: float64, 94: Month\n",
       "  7    0.228539\n",
       "  8    7.310815\n",
       "  9    0.000000\n",
       "  Name: 1, dtype: float64, 135: Month\n",
       "  7    78.377452\n",
       "  8    82.711176\n",
       "  9    84.962831\n",
       "  Name: 1, dtype: float64, 222: Month\n",
       "  7    82.983607\n",
       "  8    95.566267\n",
       "  9    93.279658\n",
       "  Name: 1, dtype: float64, 370: Month\n",
       "  7    83.781438\n",
       "  8    86.185420\n",
       "  9    98.379818\n",
       "  Name: 1, dtype: float64, 410: Month\n",
       "  7    97.251491\n",
       "  8    90.857532\n",
       "  9    99.561482\n",
       "  Name: 1, dtype: float64, 545: Month\n",
       "  7    80.114388\n",
       "  8    94.033583\n",
       "  9    74.376470\n",
       "  Name: 1, dtype: float64, 624: Month\n",
       "  7    94.109148\n",
       "  8    74.337688\n",
       "  9    65.064377\n",
       "  Name: 1, dtype: float64, 661: Month\n",
       "  7    88.225507\n",
       "  8    94.544013\n",
       "  9    97.059678\n",
       "  Name: 1, dtype: float64, 871: Month\n",
       "  7    64.403418\n",
       "  8    72.127189\n",
       "  9    52.214919\n",
       "  Name: 1, dtype: float64, 936: Month\n",
       "  7    85.845495\n",
       "  8    89.247027\n",
       "  9    79.969468\n",
       "  Name: 1, dtype: float64, 1169: Month\n",
       "  7    73.219805\n",
       "  8    43.415988\n",
       "  9    87.192044\n",
       "  Name: 1, dtype: float64, 1283: Month\n",
       "  7    84.289235\n",
       "  8    72.701222\n",
       "  9    65.139607\n",
       "  Name: 1, dtype: float64, 1334: Month\n",
       "  7     3.344703\n",
       "  8    24.897284\n",
       "  9    74.485752\n",
       "  Name: 1, dtype: float64, 1500: Month\n",
       "  7    81.788426\n",
       "  8    89.126645\n",
       "  9    90.398499\n",
       "  Name: 1, dtype: float64, 1642: Month\n",
       "  7    52.453662\n",
       "  8    59.047858\n",
       "  9    69.517758\n",
       "  Name: 1, dtype: float64, 1700: Month\n",
       "  7    9.330797\n",
       "  8    0.000000\n",
       "  9    3.079356\n",
       "  Name: 1, dtype: float64, 1953: Month\n",
       "  7    93.664977\n",
       "  8    80.203156\n",
       "  9    91.464994\n",
       "  Name: 1, dtype: float64, 2156: Month\n",
       "  7    80.285740\n",
       "  8    90.800576\n",
       "  9    96.286607\n",
       "  Name: 1, dtype: float64, 2242: Month\n",
       "  7    94.285604\n",
       "  8    97.341439\n",
       "  9    85.114485\n",
       "  Name: 1, dtype: float64, 2378: Month\n",
       "  7    79.214384\n",
       "  8    97.582407\n",
       "  9    38.493084\n",
       "  Name: 1, dtype: float64, 2470: Month\n",
       "  7    93.646929\n",
       "  8    90.359539\n",
       "  9    99.810983\n",
       "  Name: 1, dtype: float64, 2814: Month\n",
       "  7    98.603510\n",
       "  8    94.623473\n",
       "  9    89.255996\n",
       "  Name: 1, dtype: float64, 2953: Month\n",
       "  7    77.936983\n",
       "  8    90.579810\n",
       "  9    83.493900\n",
       "  Name: 1, dtype: float64, 3299: Month\n",
       "  7     0.000000\n",
       "  8    25.808059\n",
       "  9    92.081644\n",
       "  Name: 1, dtype: float64, 3367: Month\n",
       "  7    82.737352\n",
       "  8    75.079053\n",
       "  9    78.119465\n",
       "  Name: 1, dtype: float64, 3443: Month\n",
       "  7    93.324286\n",
       "  8    73.811116\n",
       "  9    80.570737\n",
       "  Name: 1, dtype: float64, 3456: Month\n",
       "  7    82.792214\n",
       "  8    85.453334\n",
       "  9    78.269070\n",
       "  Name: 1, dtype: float64, 3482: Month\n",
       "  7    86.517142\n",
       "  8    71.315043\n",
       "  9    98.619671\n",
       "  Name: 1, dtype: float64, 3652: Month\n",
       "  7    83.869485\n",
       "  8    72.906284\n",
       "  9    75.640437\n",
       "  Name: 1, dtype: float64, 3723: Month\n",
       "  7    74.493476\n",
       "  8    87.053175\n",
       "  9    85.188711\n",
       "  Name: 1, dtype: float64, 3736: Month\n",
       "  7    82.917803\n",
       "  8    71.435452\n",
       "  9    62.128121\n",
       "  Name: 1, dtype: float64, 3778: Month\n",
       "  7    77.728246\n",
       "  8    71.431846\n",
       "  9    95.725512\n",
       "  Name: 1, dtype: float64, 3829: Month\n",
       "  7    86.093443\n",
       "  8    96.315203\n",
       "  9    87.160062\n",
       "  Name: 1, dtype: float64, 3893: Month\n",
       "  7    96.999647\n",
       "  8    68.410012\n",
       "  9    56.715956\n",
       "  Name: 1, dtype: float64, 3967: Month\n",
       "  7    89.045615\n",
       "  8    97.104021\n",
       "  9    81.211728\n",
       "  Name: 1, dtype: float64, 4000: Month\n",
       "  7    33.780240\n",
       "  8    41.519485\n",
       "  9    37.047817\n",
       "  Name: 1, dtype: float64, 4298: Month\n",
       "  7    68.382117\n",
       "  8    91.253625\n",
       "  9    62.644896\n",
       "  Name: 1, dtype: float64, 4342: Month\n",
       "  7    66.654911\n",
       "  8    67.321843\n",
       "  9    72.647741\n",
       "  Name: 1, dtype: float64, 4505: Month\n",
       "  7    96.897975\n",
       "  8    94.815060\n",
       "  9    83.003230\n",
       "  Name: 1, dtype: float64, 4767: Month\n",
       "  7    68.729787\n",
       "  8    88.457318\n",
       "  9    74.023030\n",
       "  Name: 1, dtype: float64, 4874: Month\n",
       "  7    80.580559\n",
       "  8    78.254569\n",
       "  9    79.638252\n",
       "  Name: 1, dtype: float64, 4922: Month\n",
       "  7    68.828270\n",
       "  8    83.252630\n",
       "  9    76.184991\n",
       "  Name: 1, dtype: float64, 4957: Month\n",
       "  7    22.633781\n",
       "  8    20.505897\n",
       "  9    24.253603\n",
       "  Name: 1, dtype: float64, 4998: Month\n",
       "  7    94.036010\n",
       "  8    87.041211\n",
       "  9    96.649478\n",
       "  Name: 1, dtype: float64, 5026: Month\n",
       "  7    49.138704\n",
       "  8    39.542279\n",
       "  9    35.670574\n",
       "  Name: 1, dtype: float64, 5209: Month\n",
       "  7    0.000000\n",
       "  8    0.000000\n",
       "  9    5.446385\n",
       "  Name: 1, dtype: float64, 5218: Month\n",
       "  7    15.05821\n",
       "  8     0.00000\n",
       "  9    47.51455\n",
       "  Name: 1, dtype: float64, 5357: Month\n",
       "  7    58.692158\n",
       "  8    68.408333\n",
       "  9    70.163603\n",
       "  Name: 1, dtype: float64, 5673: Month\n",
       "  7    96.157160\n",
       "  8    93.475657\n",
       "  9    83.395252\n",
       "  Name: 1, dtype: float64, 5677: Month\n",
       "  7    82.617299\n",
       "  8    80.809649\n",
       "  9    68.597414\n",
       "  Name: 1, dtype: float64, 5746: Month\n",
       "  7    99.484391\n",
       "  8    92.158924\n",
       "  9    93.389557\n",
       "  Name: 1, dtype: float64, 5785: Month\n",
       "  7    91.436674\n",
       "  8    89.092959\n",
       "  9    98.205865\n",
       "  Name: 1, dtype: float64, 5814: Month\n",
       "  7    83.872868\n",
       "  8    81.095182\n",
       "  9    87.655441\n",
       "  Name: 1, dtype: float64, 6072: Month\n",
       "  7    75.068025\n",
       "  8    72.748415\n",
       "  9    43.452215\n",
       "  Name: 1, dtype: float64, 6139: Month\n",
       "  7    84.667354\n",
       "  8    79.691417\n",
       "  9    57.995356\n",
       "  Name: 1, dtype: float64, 6636: Month\n",
       "  7    70.637208\n",
       "  8    68.454386\n",
       "  9    77.879811\n",
       "  Name: 1, dtype: float64, 6692: Month\n",
       "  7    67.012957\n",
       "  8    64.731329\n",
       "  9    57.434661\n",
       "  Name: 1, dtype: float64, 6910: Month\n",
       "  7    83.237326\n",
       "  8    43.882289\n",
       "  9    70.645994\n",
       "  Name: 1, dtype: float64, 7319: Month\n",
       "  7    96.884330\n",
       "  8    81.062872\n",
       "  9    82.598505\n",
       "  Name: 1, dtype: float64, 7390: Month\n",
       "  7    80.179773\n",
       "  8    91.376005\n",
       "  9    73.720276\n",
       "  Name: 1, dtype: float64, 7731: Month\n",
       "  7    90.208282\n",
       "  8    94.777340\n",
       "  9    90.150341\n",
       "  Name: 1, dtype: float64, 7769: Month\n",
       "  7    87.188871\n",
       "  8    79.884713\n",
       "  9    87.686454\n",
       "  Name: 1, dtype: float64, 7866: Month\n",
       "  7    85.542857\n",
       "  8    76.707513\n",
       "  9    95.766694\n",
       "  Name: 1, dtype: float64, 8142: Month\n",
       "  7    87.746547\n",
       "  8    84.565546\n",
       "  9    88.949969\n",
       "  Name: 1, dtype: float64, 8236: Month\n",
       "  7    83.657278\n",
       "  8    76.673783\n",
       "  9    73.672213\n",
       "  Name: 1, dtype: float64, 9215: Month\n",
       "  7    73.703196\n",
       "  8    82.827588\n",
       "  9    70.416989\n",
       "  Name: 1, dtype: float64, 9578: Month\n",
       "  7    58.043674\n",
       "  8    61.435857\n",
       "  9    60.805869\n",
       "  Name: 1, dtype: float64, 9609: Month\n",
       "  7    71.799128\n",
       "  8    65.017226\n",
       "  9    57.661377\n",
       "  Name: 1, dtype: float64, 9647: Month\n",
       "  7    32.665038\n",
       "  8    11.513512\n",
       "  9    38.490352\n",
       "  Name: 1, dtype: float64, 9912: Month\n",
       "  7    40.012231\n",
       "  8    82.615931\n",
       "  9    97.522079\n",
       "  Name: 1, dtype: float64, 9922: Month\n",
       "  7    76.038954\n",
       "  8    67.323594\n",
       "  9     0.000000\n",
       "  Name: 1, dtype: float64, 9931: Month\n",
       "  7    64.152273\n",
       "  8    72.538353\n",
       "  9    63.092119\n",
       "  Name: 1, dtype: float64, 9982: Month\n",
       "  7    96.249407\n",
       "  8    90.625876\n",
       "  9    87.330535\n",
       "  Name: 1, dtype: float64}, 'median-aggregate': {}}"
      ]
     },
     "execution_count": 103,
     "metadata": {},
     "output_type": "execute_result"
    }
   ],
   "source": [
    "out"
   ]
  },
  {
   "cell_type": "code",
   "execution_count": 107,
   "metadata": {
    "collapsed": false
   },
   "outputs": [
    {
     "data": {
      "text/html": [
       "<div>\n",
       "<table border=\"1\" class=\"dataframe\">\n",
       "  <thead>\n",
       "    <tr style=\"text-align: right;\">\n",
       "      <th>Month</th>\n",
       "      <th>7</th>\n",
       "      <th>8</th>\n",
       "      <th>9</th>\n",
       "    </tr>\n",
       "  </thead>\n",
       "  <tbody>\n",
       "    <tr>\n",
       "      <th>count</th>\n",
       "      <td>75.000000</td>\n",
       "      <td>75.000000</td>\n",
       "      <td>75.000000</td>\n",
       "    </tr>\n",
       "    <tr>\n",
       "      <th>mean</th>\n",
       "      <td>71.776474</td>\n",
       "      <td>72.043512</td>\n",
       "      <td>71.672302</td>\n",
       "    </tr>\n",
       "    <tr>\n",
       "      <th>std</th>\n",
       "      <td>26.389427</td>\n",
       "      <td>25.097198</td>\n",
       "      <td>24.315080</td>\n",
       "    </tr>\n",
       "    <tr>\n",
       "      <th>min</th>\n",
       "      <td>0.000000</td>\n",
       "      <td>0.000000</td>\n",
       "      <td>0.000000</td>\n",
       "    </tr>\n",
       "    <tr>\n",
       "      <th>25%</th>\n",
       "      <td>67.697537</td>\n",
       "      <td>68.169101</td>\n",
       "      <td>62.386509</td>\n",
       "    </tr>\n",
       "    <tr>\n",
       "      <th>50%</th>\n",
       "      <td>80.580559</td>\n",
       "      <td>79.691417</td>\n",
       "      <td>77.879811</td>\n",
       "    </tr>\n",
       "    <tr>\n",
       "      <th>75%</th>\n",
       "      <td>87.467709</td>\n",
       "      <td>89.803283</td>\n",
       "      <td>88.318212</td>\n",
       "    </tr>\n",
       "    <tr>\n",
       "      <th>max</th>\n",
       "      <td>99.484391</td>\n",
       "      <td>97.582407</td>\n",
       "      <td>99.810983</td>\n",
       "    </tr>\n",
       "  </tbody>\n",
       "</table>\n",
       "</div>"
      ],
      "text/plain": [
       "Month          7          8          9\n",
       "count  75.000000  75.000000  75.000000\n",
       "mean   71.776474  72.043512  71.672302\n",
       "std    26.389427  25.097198  24.315080\n",
       "min     0.000000   0.000000   0.000000\n",
       "25%    67.697537  68.169101  62.386509\n",
       "50%    80.580559  79.691417  77.879811\n",
       "75%    87.467709  89.803283  88.318212\n",
       "max    99.484391  97.582407  99.810983"
      ]
     },
     "execution_count": 107,
     "metadata": {},
     "output_type": "execute_result"
    }
   ],
   "source": [
    "pd.DataFrame(out[\"None\"]).T.describe()"
   ]
  },
  {
   "cell_type": "code",
   "execution_count": null,
   "metadata": {
    "collapsed": true
   },
   "outputs": [],
   "source": []
  }
 ],
 "metadata": {
  "kernelspec": {
   "display_name": "Python 2",
   "language": "python",
   "name": "python2"
  },
  "language_info": {
   "codemirror_mode": {
    "name": "ipython",
    "version": 2
   },
   "file_extension": ".py",
   "mimetype": "text/x-python",
   "name": "python",
   "nbconvert_exporter": "python",
   "pygments_lexer": "ipython2",
   "version": "2.7.11"
  }
 },
 "nbformat": 4,
 "nbformat_minor": 0
}
