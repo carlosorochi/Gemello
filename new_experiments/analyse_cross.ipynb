{
 "cells": [
  {
   "cell_type": "code",
   "execution_count": 1,
   "metadata": {
    "collapsed": true
   },
   "outputs": [],
   "source": [
    "import pandas as pd\n",
    "import numpy as np\n",
    "train_r"
   ]
  },
  {
   "cell_type": "code",
   "execution_count": 74,
   "metadata": {
    "collapsed": true
   },
   "outputs": [],
   "source": [
    "train_region = \"SanDiego\"\n",
    "test_region = \"Austin\"\n",
    "appliance = \"hvac\"\n",
    "feature = \"Monthly\"\n",
    "strategy_list = [\"None\",\"CDD\",\"median-aggregate\"][:]\n",
    "import glob"
   ]
  },
  {
   "cell_type": "code",
   "execution_count": 87,
   "metadata": {
    "collapsed": false
   },
   "outputs": [],
   "source": [
    "out = {}\n",
    "for strategy in strategy_list:\n",
    "    directory = '../data/output/cross/%s_%s_%s_%s_%s/' % (train_region, \n",
    "                                                            test_region,\n",
    "                                                             strategy,\n",
    "                                                            appliance,\n",
    "                                                            \n",
    "                                                           feature)\n",
    "    home_files = glob.glob(directory+\"*.csv\")\n",
    "    out[strategy] = {}\n",
    "    homes = []\n",
    "    for home_file in home_files:\n",
    "        home = int(home_file.split(\"/\")[-1][:-4])\n",
    "        homes.append(home)\n",
    "        df = pd.read_csv(home_file, index_col=0, header=None).squeeze()\n",
    "        df.index.name = \"Month\"\n",
    "        out[strategy][home]=df"
   ]
  },
  {
   "cell_type": "code",
   "execution_count": 88,
   "metadata": {
    "collapsed": false
   },
   "outputs": [],
   "source": [
    "acc={strategy:pd.DataFrame(out[strategy]).mean(axis=1) for strategy in strategy_list}\n",
    "\n",
    "\n"
   ]
  },
  {
   "cell_type": "code",
   "execution_count": 89,
   "metadata": {
    "collapsed": true
   },
   "outputs": [],
   "source": [
    "%matplotlib inline"
   ]
  },
  {
   "cell_type": "code",
   "execution_count": 90,
   "metadata": {
    "collapsed": false
   },
   "outputs": [
    {
     "data": {
      "text/plain": [
       "<matplotlib.axes._subplots.AxesSubplot at 0x112778f90>"
      ]
     },
     "execution_count": 90,
     "metadata": {},
     "output_type": "execute_result"
    },
    {
     "data": {
      "image/png": "[encoded data removed]",
      "text/plain": [
       "<matplotlib.figure.Figure at 0x115671050>"
      ]
     },
     "metadata": {},
     "output_type": "display_data"
    }
   ],
   "source": [
    "pd.DataFrame(acc).plot(kind=\"bar\",rot=0)"
   ]
  },
  {
   "cell_type": "code",
   "execution_count": 91,
   "metadata": {
    "collapsed": false
   },
   "outputs": [
    {
     "data": {
      "text/plain": [
       "{'CDD': Month\n",
       " 7    71.054210\n",
       " 8    70.592257\n",
       " 9    58.666374\n",
       " dtype: float64, 'None': Month\n",
       " 7    82.005931\n",
       " 8    67.586248\n",
       " 9    67.772089\n",
       " dtype: float64, 'median-aggregate': Month\n",
       " 7    58.593951\n",
       " 8    66.618140\n",
       " 9    69.847450\n",
       " dtype: float64}"
      ]
     },
     "execution_count": 91,
     "metadata": {},
     "output_type": "execute_result"
    }
   ],
   "source": [
    "acc"
   ]
  },
  {
   "cell_type": "code",
   "execution_count": null,
   "metadata": {
    "collapsed": true
   },
   "outputs": [],
   "source": []
  }
 ],
 "metadata": {
  "kernelspec": {
   "display_name": "Python 2",
   "language": "python",
   "name": "python2"
  },
  "language_info": {
   "codemirror_mode": {
    "name": "ipython",
    "version": 2
   },
   "file_extension": ".py",
   "mimetype": "text/x-python",
   "name": "python",
   "nbconvert_exporter": "python",
   "pygments_lexer": "ipython2",
   "version": "2.7.11"
  }
 },
 "nbformat": 4,
 "nbformat_minor": 0
}
