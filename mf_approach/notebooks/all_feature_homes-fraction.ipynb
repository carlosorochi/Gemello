{
 "cells": [
  {
   "cell_type": "code",
   "execution_count": 1,
   "metadata": {
    "collapsed": true
   },
   "outputs": [],
   "source": [
    "import pickle\n",
    "import pandas as pd\n",
    "import sys\n",
    "import numpy as np"
   ]
  },
  {
   "cell_type": "code",
   "execution_count": 3,
   "metadata": {
    "collapsed": false
   },
   "outputs": [],
   "source": [
    "sys.path.append(\"../../code/\")\n",
    "sys.path.append(\"../code/\")\n",
    "\n",
    "\n",
    "from common_functions import tableau20blind, format_axes, latexify\n",
    "from regional_average_contribution import contribution"
   ]
  },
  {
   "cell_type": "code",
   "execution_count": 4,
   "metadata": {
    "collapsed": true
   },
   "outputs": [],
   "source": [
    "out_overall = pickle.load(open('../../data/input/all_regions.pkl', 'r'))"
   ]
  },
  {
   "cell_type": "code",
   "execution_count": 5,
   "metadata": {
    "collapsed": false
   },
   "outputs": [],
   "source": [
    "mf_pred = pickle.load(open('../data/mf_pred_subset_homes.pkl','r'))\n",
    "knn_results = pickle.load(open('../data/knn_pred_subset_homes.pkl','r'))"
   ]
  },
  {
   "cell_type": "code",
   "execution_count": 6,
   "metadata": {
    "collapsed": true
   },
   "outputs": [],
   "source": [
    "from sklearn.metrics import mean_squared_error"
   ]
  },
  {
   "cell_type": "code",
   "execution_count": 7,
   "metadata": {
    "collapsed": true
   },
   "outputs": [],
   "source": [
    "thresholds = {'fridge':10,'hvac':100,'dw':0.5,'mw':0.5,'oven':0.5,'wm':0.5}"
   ]
  },
  {
   "cell_type": "code",
   "execution_count": 9,
   "metadata": {
    "collapsed": true
   },
   "outputs": [],
   "source": [
    "def compute_rmse_fraction(appliance, pred_df):\n",
    "    region = \"Austin\"\n",
    "    df = out_overall[region]\n",
    "    #pred_df = mf_pred[appliance][appliance_feature][latent_factors]\n",
    "    gt_df = df[pred_df.columns].ix[pred_df.index]\n",
    "    \n",
    "    if appliance==\"hvac\":\n",
    "        start, stop=5,11\n",
    "    else:\n",
    "        start, stop=1,13\n",
    "    aggregate_df = df.ix[pred_df.index][['aggregate_%d' %month for month in range(start, stop)]]\n",
    "\n",
    "    aggregate_df.columns = gt_df.columns\n",
    "    \n",
    "    # Ignoring homes which have some errors\n",
    "    if appliance in thresholds:\n",
    "        a = gt_df[gt_df<thresholds[appliance]].sum(axis=1)\n",
    "        homes_ignore = a[a>0].index\n",
    "        gt_df_index = [x for x in gt_df.index if x not in homes_ignore]\n",
    "        gt_df = gt_df.ix[gt_df_index]\n",
    "    \n",
    "    a=(aggregate_df<300).sum(axis=1)\n",
    "    homes_agrgegate_ignore = a[a>0]\n",
    "    gt_df_index = [x for x in gt_df.index if x not in homes_agrgegate_ignore]\n",
    "    gt_df = gt_df.ix[gt_df_index]\n",
    "    \n",
    "    \n",
    "    gt_fraction = gt_df.div(aggregate_df)*100\n",
    "    pred_fraction = pred_df.div(aggregate_df)*100\n",
    "    \n",
    "    pred_fraction = pred_fraction.dropna()\n",
    "    gt_fraction = gt_fraction.dropna()\n",
    "    common_index = np.intersect1d(gt_fraction.index, pred_fraction.index)\n",
    "    pred_fraction = pred_fraction.ix[common_index]\n",
    "    gt_fraction = gt_fraction.ix[common_index]\n",
    "    \n",
    "    #print (gt_fraction>1000).sum().sum()\n",
    "    #e = (pred_fraction>1000).sum(axis=1)\n",
    "    #print e[e>0]\n",
    "\n",
    "    rms = np.sqrt(mean_squared_error(pred_fraction,gt_fraction))\n",
    "    return rms"
   ]
  },
  {
   "cell_type": "code",
   "execution_count": 9,
   "metadata": {
    "collapsed": true
   },
   "outputs": [],
   "source": [
    "def compute_rmse_fraction(appliance, pred_df):\n",
    "    region = \"Austin\"\n",
    "    df = out_overall[region]\n",
    "    #pred_df = mf_pred[appliance][appliance_feature][latent_factors]\n",
    "    gt_df = df[pred_df.columns].ix[pred_df.index]\n",
    "    if appliance==\"hvac\":\n",
    "        start, stop=5,11\n",
    "    else:\n",
    "        start, stop=1,13\n",
    "    aggregate_df = df.ix[pred_df.index][['aggregate_%d' %month for month in range(start, stop)]]\n",
    "    \n",
    "    # Ignoring homes which have some errors\n",
    "    if appliance in thresholds:\n",
    "        a = gt_df[gt_df<thresholds[appliance]].sum(axis=1)\n",
    "        homes_ignore = a[a>0].index\n",
    "        gt_df_index = [x for x in gt_df.index if x not in homes_ignore]\n",
    "        gt_df = gt_df.ix[gt_df_index]\n",
    "    \n",
    "    a=(aggregate_df<300).sum(axis=1)\n",
    "    homes_agrgegate_ignore = a[a>0]\n",
    "    gt_df_index = [x for x in gt_df.index if x not in homes_agrgegate_ignore]\n",
    "    gt_df = gt_df.ix[gt_df_index]\n",
    "    \n",
    "\n",
    "    aggregate_df.columns = gt_df.columns\n",
    "    gt_fraction = gt_df.div(aggregate_df)*100\n",
    "    pred_fraction = pred_df.div(aggregate_df)*100\n",
    "    \n",
    "    pred_df = pred_df.dropna()\n",
    "    gt_df = gt_df.dropna()\n",
    "    common_index = np.intersect1d(gt_df.index, pred_df.index)\n",
    "    pred_df = pred_df.ix[common_index]\n",
    "    gt_df = gt_df.ix[common_index]\n",
    "\n",
    "\n",
    "    rms = np.sqrt(mean_squared_error(pred_df,gt_df))\n",
    "    return rms"
   ]
  },
  {
   "cell_type": "code",
   "execution_count": 10,
   "metadata": {
    "collapsed": true
   },
   "outputs": [],
   "source": [
    "result = {'MF-105 homes, feature':{},'MF-516 homes':{},'MF-516 homes, feature':{},'KNN':{},'MF-105 homes':{},'FHMM':{},'LBM':{},\"RA\":{}}\n",
    "#result = {'MF':{},'KNN':{},'FHMM':{},'LBM':{},\"RA\":{}}"
   ]
  },
  {
   "cell_type": "markdown",
   "metadata": {},
   "source": [
    "## Computing for KNN"
   ]
  },
  {
   "cell_type": "code",
   "execution_count": 11,
   "metadata": {
    "collapsed": false
   },
   "outputs": [
    {
     "name": "stdout",
     "output_type": "stream",
     "text": [
      "0 hvac\n",
      "0 wm\n",
      "0 fridge\n",
      "0 mw\n",
      "0 oven\n",
      "0 dw\n"
     ]
    }
   ],
   "source": [
    "for appliance, appliance_df in knn_results.iteritems():\n",
    "    \n",
    "    pred_df = appliance_df\n",
    "    if appliance==\"hvac\":\n",
    "        start, stop=5, 11\n",
    "    else:\n",
    "        start, stop=1, 13\n",
    "    pred_df.columns = [appliance+\"_\"+str(x) for x in range(start, stop)]\n",
    "    print pred_df.isnull().sum().sum(), appliance\n",
    "    rmse_fraction = compute_rmse_fraction(appliance, pred_df)\n",
    "    \n",
    "\n",
    "    #rms = np.sqrt(mean_squared_error(gt_df, pred_df))\n",
    "    result['KNN'][appliance]=rmse_fraction"
   ]
  },
  {
   "cell_type": "code",
   "execution_count": 12,
   "metadata": {
    "collapsed": false
   },
   "outputs": [
    {
     "data": {
      "text/plain": [
       "8.169439936742776"
      ]
     },
     "execution_count": 12,
     "metadata": {},
     "output_type": "execute_result"
    }
   ],
   "source": [
    "pred_df.median().mean()"
   ]
  },
  {
   "cell_type": "code",
   "execution_count": 13,
   "metadata": {
    "collapsed": false
   },
   "outputs": [
    {
     "name": "stdout",
     "output_type": "stream",
     "text": [
      "hvac\n",
      "wm\n",
      "fridge\n",
      "mw\n",
      "oven\n",
      "dw\n",
      "{'hvac': ('None', 8, 11.726771530318491), 'wm': ('None', 1, 0.48608145514962425), 'fridge': ('None', 3, 3.7386486226163234), 'mw': ('None', 3, 0.62327295992340415), 'oven': ('None', 1, 1.0888817822127712), 'dw': ('None', 7, 1.0269521688013372)}\n"
     ]
    }
   ],
   "source": [
    "best_combination = {}\n",
    "for appliance, appliance_struct in mf_pred.iteritems():\n",
    "    print appliance\n",
    "    best_appliance=1000\n",
    "    for latent_factors, appliance_df in appliance_struct['None'].iteritems():\n",
    "        try:\n",
    "            region = \"Austin\"\n",
    "            df = out_overall[region]\n",
    "            pred_df = mf_pred[appliance]['None'][latent_factors]\n",
    "            rms = compute_rmse_fraction(appliance, pred_df)\n",
    "\n",
    "            if rms<best_appliance:\n",
    "                best_appliance=rms\n",
    "                best_combination[appliance]=('None', latent_factors, rms)\n",
    "        except Exception, e:\n",
    "            print e\n",
    "    result['MF-105 homes'][appliance]=best_appliance\n",
    "            \n",
    "print best_combination"
   ]
  },
  {
   "cell_type": "code",
   "execution_count": 17,
   "metadata": {
    "collapsed": false
   },
   "outputs": [
    {
     "name": "stdout",
     "output_type": "stream",
     "text": [
      "hvac\n",
      "wm\n",
      "fridge\n",
      "mw\n",
      "oven\n",
      "dw\n",
      "{'hvac': ('None', 8, 11.726771530318491), 'wm': ('None', 1, 0.48608145514962425), 'fridge': ('None', 3, 3.7386486226163234), 'mw': ('None', 3, 0.62327295992340415), 'oven': ('None', 1, 1.0888817822127712), 'dw': ('None', 7, 1.0269521688013372)}\n"
     ]
    }
   ],
   "source": [
    "best_combination = {}\n",
    "mf_pred_full = pickle.load(open('../data/mf_pred_all_homes.pkl','r'))\n",
    "\n",
    "for appliance, appliance_struct in mf_pred_full.iteritems():\n",
    "    print appliance\n",
    "    best_appliance=1000\n",
    "    for latent_factors, appliance_df in appliance_struct['None'].iteritems():\n",
    "        try:\n",
    "            region = \"Austin\"\n",
    "            df = out_overall[region]\n",
    "            pred_df = mf_pred_full[appliance]['None'][latent_factors]\n",
    "            pdcopy = pred_df.copy()\n",
    "            pred_df = pred_df.ix[mf_pred[appliance]['None'][latent_factors].index]\n",
    "            rms = compute_rmse_fraction(appliance, pred_df)\n",
    "\n",
    "            if rms<best_appliance:\n",
    "                best_appliance=rms\n",
    "                best_combination[appliance]=('None', latent_factors, rms)\n",
    "        except Exception, e:\n",
    "            print e\n",
    "    result['MF-516 homes'][appliance]=best_appliance\n",
    "            \n",
    "print best_combination"
   ]
  },
  {
   "cell_type": "code",
   "execution_count": 19,
   "metadata": {
    "collapsed": false
   },
   "outputs": [
    {
     "data": {
      "text/html": [
       "<div>\n",
       "<table border=\"1\" class=\"dataframe\">\n",
       "  <thead>\n",
       "    <tr style=\"text-align: right;\">\n",
       "      <th></th>\n",
       "      <th>dw_1</th>\n",
       "      <th>dw_2</th>\n",
       "      <th>dw_3</th>\n",
       "      <th>dw_4</th>\n",
       "      <th>dw_5</th>\n",
       "      <th>dw_6</th>\n",
       "      <th>dw_7</th>\n",
       "      <th>dw_8</th>\n",
       "      <th>dw_9</th>\n",
       "      <th>dw_10</th>\n",
       "      <th>dw_11</th>\n",
       "      <th>dw_12</th>\n",
       "    </tr>\n",
       "  </thead>\n",
       "  <tbody>\n",
       "    <tr>\n",
       "      <th>count</th>\n",
       "      <td>59.000000</td>\n",
       "      <td>59.000000</td>\n",
       "      <td>59.000000</td>\n",
       "      <td>59.000000</td>\n",
       "      <td>59.000000</td>\n",
       "      <td>59.000000</td>\n",
       "      <td>59.000000</td>\n",
       "      <td>59.000000</td>\n",
       "      <td>59.000000</td>\n",
       "      <td>59.000000</td>\n",
       "      <td>59.000000</td>\n",
       "      <td>59.000000</td>\n",
       "    </tr>\n",
       "    <tr>\n",
       "      <th>mean</th>\n",
       "      <td>12.169383</td>\n",
       "      <td>10.831409</td>\n",
       "      <td>11.170653</td>\n",
       "      <td>10.695790</td>\n",
       "      <td>10.494531</td>\n",
       "      <td>10.182010</td>\n",
       "      <td>9.881152</td>\n",
       "      <td>9.770499</td>\n",
       "      <td>10.284919</td>\n",
       "      <td>10.468115</td>\n",
       "      <td>10.642150</td>\n",
       "      <td>11.555231</td>\n",
       "    </tr>\n",
       "    <tr>\n",
       "      <th>std</th>\n",
       "      <td>7.929086</td>\n",
       "      <td>7.489090</td>\n",
       "      <td>8.305626</td>\n",
       "      <td>8.026819</td>\n",
       "      <td>7.648642</td>\n",
       "      <td>8.433778</td>\n",
       "      <td>7.438281</td>\n",
       "      <td>7.067330</td>\n",
       "      <td>6.785032</td>\n",
       "      <td>7.012353</td>\n",
       "      <td>6.970627</td>\n",
       "      <td>8.872568</td>\n",
       "    </tr>\n",
       "    <tr>\n",
       "      <th>min</th>\n",
       "      <td>2.255196</td>\n",
       "      <td>1.914210</td>\n",
       "      <td>2.353613</td>\n",
       "      <td>1.924769</td>\n",
       "      <td>1.808461</td>\n",
       "      <td>2.010669</td>\n",
       "      <td>1.857449</td>\n",
       "      <td>1.743961</td>\n",
       "      <td>1.645882</td>\n",
       "      <td>1.692829</td>\n",
       "      <td>1.814516</td>\n",
       "      <td>2.021505</td>\n",
       "    </tr>\n",
       "    <tr>\n",
       "      <th>25%</th>\n",
       "      <td>7.152304</td>\n",
       "      <td>6.456247</td>\n",
       "      <td>6.368408</td>\n",
       "      <td>5.974809</td>\n",
       "      <td>5.890456</td>\n",
       "      <td>5.902722</td>\n",
       "      <td>5.758194</td>\n",
       "      <td>5.608049</td>\n",
       "      <td>5.999232</td>\n",
       "      <td>6.284830</td>\n",
       "      <td>6.361626</td>\n",
       "      <td>6.325349</td>\n",
       "    </tr>\n",
       "    <tr>\n",
       "      <th>50%</th>\n",
       "      <td>9.426303</td>\n",
       "      <td>8.936610</td>\n",
       "      <td>9.421339</td>\n",
       "      <td>8.130770</td>\n",
       "      <td>8.473115</td>\n",
       "      <td>7.789584</td>\n",
       "      <td>7.385081</td>\n",
       "      <td>7.877597</td>\n",
       "      <td>8.444760</td>\n",
       "      <td>8.222845</td>\n",
       "      <td>8.432047</td>\n",
       "      <td>9.592737</td>\n",
       "    </tr>\n",
       "    <tr>\n",
       "      <th>75%</th>\n",
       "      <td>14.124195</td>\n",
       "      <td>12.217910</td>\n",
       "      <td>12.667689</td>\n",
       "      <td>12.103517</td>\n",
       "      <td>12.038230</td>\n",
       "      <td>11.513118</td>\n",
       "      <td>11.126772</td>\n",
       "      <td>10.766045</td>\n",
       "      <td>11.787584</td>\n",
       "      <td>11.866559</td>\n",
       "      <td>12.507610</td>\n",
       "      <td>13.105073</td>\n",
       "    </tr>\n",
       "    <tr>\n",
       "      <th>max</th>\n",
       "      <td>46.310546</td>\n",
       "      <td>43.985913</td>\n",
       "      <td>50.152392</td>\n",
       "      <td>48.347564</td>\n",
       "      <td>45.834026</td>\n",
       "      <td>58.299890</td>\n",
       "      <td>46.244636</td>\n",
       "      <td>39.288605</td>\n",
       "      <td>38.436275</td>\n",
       "      <td>37.714881</td>\n",
       "      <td>37.831637</td>\n",
       "      <td>58.892021</td>\n",
       "    </tr>\n",
       "  </tbody>\n",
       "</table>\n",
       "</div>"
      ],
      "text/plain": [
       "0           dw_1       dw_2       dw_3       dw_4       dw_5       dw_6  \\\n",
       "count  59.000000  59.000000  59.000000  59.000000  59.000000  59.000000   \n",
       "mean   12.169383  10.831409  11.170653  10.695790  10.494531  10.182010   \n",
       "std     7.929086   7.489090   8.305626   8.026819   7.648642   8.433778   \n",
       "min     2.255196   1.914210   2.353613   1.924769   1.808461   2.010669   \n",
       "25%     7.152304   6.456247   6.368408   5.974809   5.890456   5.902722   \n",
       "50%     9.426303   8.936610   9.421339   8.130770   8.473115   7.789584   \n",
       "75%    14.124195  12.217910  12.667689  12.103517  12.038230  11.513118   \n",
       "max    46.310546  43.985913  50.152392  48.347564  45.834026  58.299890   \n",
       "\n",
       "0           dw_7       dw_8       dw_9      dw_10      dw_11      dw_12  \n",
       "count  59.000000  59.000000  59.000000  59.000000  59.000000  59.000000  \n",
       "mean    9.881152   9.770499  10.284919  10.468115  10.642150  11.555231  \n",
       "std     7.438281   7.067330   6.785032   7.012353   6.970627   8.872568  \n",
       "min     1.857449   1.743961   1.645882   1.692829   1.814516   2.021505  \n",
       "25%     5.758194   5.608049   5.999232   6.284830   6.361626   6.325349  \n",
       "50%     7.385081   7.877597   8.444760   8.222845   8.432047   9.592737  \n",
       "75%    11.126772  10.766045  11.787584  11.866559  12.507610  13.105073  \n",
       "max    46.244636  39.288605  38.436275  37.714881  37.831637  58.892021  "
      ]
     },
     "execution_count": 19,
     "metadata": {},
     "output_type": "execute_result"
    }
   ],
   "source": [
    "pred_df.describe()"
   ]
  },
  {
   "cell_type": "code",
   "execution_count": 24,
   "metadata": {
    "collapsed": false
   },
   "outputs": [
    {
     "data": {
      "text/html": [
       "<div>\n",
       "<table border=\"1\" class=\"dataframe\">\n",
       "  <thead>\n",
       "    <tr style=\"text-align: right;\">\n",
       "      <th></th>\n",
       "      <th>hvac_5</th>\n",
       "      <th>hvac_6</th>\n",
       "      <th>hvac_7</th>\n",
       "      <th>hvac_8</th>\n",
       "      <th>hvac_9</th>\n",
       "      <th>hvac_10</th>\n",
       "    </tr>\n",
       "  </thead>\n",
       "  <tbody>\n",
       "    <tr>\n",
       "      <th>26</th>\n",
       "      <td>221.993839</td>\n",
       "      <td>436.243879</td>\n",
       "      <td>637.848849</td>\n",
       "      <td>692.471808</td>\n",
       "      <td>489.021022</td>\n",
       "      <td>244.141367</td>\n",
       "    </tr>\n",
       "    <tr>\n",
       "      <th>59</th>\n",
       "      <td>191.917861</td>\n",
       "      <td>377.218334</td>\n",
       "      <td>551.096355</td>\n",
       "      <td>598.051122</td>\n",
       "      <td>422.806829</td>\n",
       "      <td>211.407143</td>\n",
       "    </tr>\n",
       "    <tr>\n",
       "      <th>94</th>\n",
       "      <td>67.422739</td>\n",
       "      <td>132.547763</td>\n",
       "      <td>193.764976</td>\n",
       "      <td>210.422584</td>\n",
       "      <td>148.579064</td>\n",
       "      <td>74.263260</td>\n",
       "    </tr>\n",
       "    <tr>\n",
       "      <th>101</th>\n",
       "      <td>107.527845</td>\n",
       "      <td>211.439812</td>\n",
       "      <td>309.115172</td>\n",
       "      <td>335.709212</td>\n",
       "      <td>237.031295</td>\n",
       "      <td>118.455750</td>\n",
       "    </tr>\n",
       "    <tr>\n",
       "      <th>222</th>\n",
       "      <td>483.421523</td>\n",
       "      <td>951.042682</td>\n",
       "      <td>1393.539247</td>\n",
       "      <td>1513.798159</td>\n",
       "      <td>1067.724064</td>\n",
       "      <td>531.708026</td>\n",
       "    </tr>\n",
       "  </tbody>\n",
       "</table>\n",
       "</div>"
      ],
      "text/plain": [
       "0        hvac_5      hvac_6       hvac_7       hvac_8       hvac_9     hvac_10\n",
       "26   221.993839  436.243879   637.848849   692.471808   489.021022  244.141367\n",
       "59   191.917861  377.218334   551.096355   598.051122   422.806829  211.407143\n",
       "94    67.422739  132.547763   193.764976   210.422584   148.579064   74.263260\n",
       "101  107.527845  211.439812   309.115172   335.709212   237.031295  118.455750\n",
       "222  483.421523  951.042682  1393.539247  1513.798159  1067.724064  531.708026"
      ]
     },
     "execution_count": 24,
     "metadata": {},
     "output_type": "execute_result"
    }
   ],
   "source": [
    "mf_pred['hvac']['None'][1].head()"
   ]
  },
  {
   "cell_type": "code",
   "execution_count": 27,
   "metadata": {
    "collapsed": false
   },
   "outputs": [
    {
     "data": {
      "text/html": [
       "<div>\n",
       "<table border=\"1\" class=\"dataframe\">\n",
       "  <thead>\n",
       "    <tr style=\"text-align: right;\">\n",
       "      <th></th>\n",
       "      <th>hvac_5</th>\n",
       "      <th>hvac_6</th>\n",
       "      <th>hvac_7</th>\n",
       "      <th>hvac_8</th>\n",
       "      <th>hvac_9</th>\n",
       "      <th>hvac_10</th>\n",
       "    </tr>\n",
       "  </thead>\n",
       "  <tbody>\n",
       "    <tr>\n",
       "      <th>26</th>\n",
       "      <td>221.993839</td>\n",
       "      <td>436.243879</td>\n",
       "      <td>637.848849</td>\n",
       "      <td>692.471808</td>\n",
       "      <td>489.021022</td>\n",
       "      <td>244.141367</td>\n",
       "    </tr>\n",
       "    <tr>\n",
       "      <th>59</th>\n",
       "      <td>191.917861</td>\n",
       "      <td>377.218334</td>\n",
       "      <td>551.096355</td>\n",
       "      <td>598.051122</td>\n",
       "      <td>422.806829</td>\n",
       "      <td>211.407143</td>\n",
       "    </tr>\n",
       "    <tr>\n",
       "      <th>77</th>\n",
       "      <td>191.901703</td>\n",
       "      <td>377.352084</td>\n",
       "      <td>551.879991</td>\n",
       "      <td>599.295403</td>\n",
       "      <td>423.198359</td>\n",
       "      <td>211.515511</td>\n",
       "    </tr>\n",
       "    <tr>\n",
       "      <th>86</th>\n",
       "      <td>231.327714</td>\n",
       "      <td>454.681305</td>\n",
       "      <td>664.177712</td>\n",
       "      <td>721.070430</td>\n",
       "      <td>509.231026</td>\n",
       "      <td>254.588275</td>\n",
       "    </tr>\n",
       "    <tr>\n",
       "      <th>93</th>\n",
       "      <td>178.427370</td>\n",
       "      <td>350.767673</td>\n",
       "      <td>512.716780</td>\n",
       "      <td>556.676238</td>\n",
       "      <td>393.115398</td>\n",
       "      <td>196.527793</td>\n",
       "    </tr>\n",
       "    <tr>\n",
       "      <th>94</th>\n",
       "      <td>67.422739</td>\n",
       "      <td>132.547763</td>\n",
       "      <td>193.764976</td>\n",
       "      <td>210.422584</td>\n",
       "      <td>148.579064</td>\n",
       "      <td>74.263260</td>\n",
       "    </tr>\n",
       "    <tr>\n",
       "      <th>101</th>\n",
       "      <td>107.527845</td>\n",
       "      <td>211.439812</td>\n",
       "      <td>309.115172</td>\n",
       "      <td>335.709212</td>\n",
       "      <td>237.031295</td>\n",
       "      <td>118.455750</td>\n",
       "    </tr>\n",
       "    <tr>\n",
       "      <th>114</th>\n",
       "      <td>186.930846</td>\n",
       "      <td>367.299856</td>\n",
       "      <td>536.861571</td>\n",
       "      <td>583.025964</td>\n",
       "      <td>411.776877</td>\n",
       "      <td>205.827719</td>\n",
       "    </tr>\n",
       "    <tr>\n",
       "      <th>115</th>\n",
       "      <td>61.194311</td>\n",
       "      <td>120.305695</td>\n",
       "      <td>175.871634</td>\n",
       "      <td>191.000376</td>\n",
       "      <td>134.863896</td>\n",
       "      <td>67.418029</td>\n",
       "    </tr>\n",
       "    <tr>\n",
       "      <th>121</th>\n",
       "      <td>187.695494</td>\n",
       "      <td>369.543424</td>\n",
       "      <td>540.020567</td>\n",
       "      <td>586.552188</td>\n",
       "      <td>413.954628</td>\n",
       "      <td>206.787908</td>\n",
       "    </tr>\n",
       "    <tr>\n",
       "      <th>130</th>\n",
       "      <td>89.625881</td>\n",
       "      <td>176.232922</td>\n",
       "      <td>257.664563</td>\n",
       "      <td>279.819200</td>\n",
       "      <td>197.538919</td>\n",
       "      <td>98.715924</td>\n",
       "    </tr>\n",
       "    <tr>\n",
       "      <th>160</th>\n",
       "      <td>87.952109</td>\n",
       "      <td>172.846951</td>\n",
       "      <td>252.683554</td>\n",
       "      <td>274.393116</td>\n",
       "      <td>193.725945</td>\n",
       "      <td>96.858136</td>\n",
       "    </tr>\n",
       "    <tr>\n",
       "      <th>187</th>\n",
       "      <td>267.557092</td>\n",
       "      <td>525.345846</td>\n",
       "      <td>768.852916</td>\n",
       "      <td>834.160005</td>\n",
       "      <td>588.880674</td>\n",
       "      <td>293.986255</td>\n",
       "    </tr>\n",
       "    <tr>\n",
       "      <th>222</th>\n",
       "      <td>483.421523</td>\n",
       "      <td>951.042682</td>\n",
       "      <td>1393.539247</td>\n",
       "      <td>1513.798159</td>\n",
       "      <td>1067.724064</td>\n",
       "      <td>531.708026</td>\n",
       "    </tr>\n",
       "    <tr>\n",
       "      <th>267</th>\n",
       "      <td>52.945539</td>\n",
       "      <td>104.085853</td>\n",
       "      <td>152.157017</td>\n",
       "      <td>165.244338</td>\n",
       "      <td>116.678355</td>\n",
       "      <td>58.318297</td>\n",
       "    </tr>\n",
       "    <tr>\n",
       "      <th>364</th>\n",
       "      <td>193.090472</td>\n",
       "      <td>379.461422</td>\n",
       "      <td>554.842802</td>\n",
       "      <td>602.438994</td>\n",
       "      <td>425.270819</td>\n",
       "      <td>212.417614</td>\n",
       "    </tr>\n",
       "    <tr>\n",
       "      <th>410</th>\n",
       "      <td>133.610345</td>\n",
       "      <td>262.517236</td>\n",
       "      <td>383.601218</td>\n",
       "      <td>416.647735</td>\n",
       "      <td>294.197036</td>\n",
       "      <td>147.125711</td>\n",
       "    </tr>\n",
       "    <tr>\n",
       "      <th>434</th>\n",
       "      <td>279.596349</td>\n",
       "      <td>549.612570</td>\n",
       "      <td>803.579542</td>\n",
       "      <td>872.164084</td>\n",
       "      <td>615.481971</td>\n",
       "      <td>307.495807</td>\n",
       "    </tr>\n",
       "    <tr>\n",
       "      <th>436</th>\n",
       "      <td>56.194742</td>\n",
       "      <td>110.473969</td>\n",
       "      <td>161.504054</td>\n",
       "      <td>175.389902</td>\n",
       "      <td>123.838336</td>\n",
       "      <td>61.897423</td>\n",
       "    </tr>\n",
       "    <tr>\n",
       "      <th>457</th>\n",
       "      <td>46.001212</td>\n",
       "      <td>90.437983</td>\n",
       "      <td>132.211468</td>\n",
       "      <td>143.577180</td>\n",
       "      <td>101.375360</td>\n",
       "      <td>50.667153</td>\n",
       "    </tr>\n",
       "  </tbody>\n",
       "</table>\n",
       "</div>"
      ],
      "text/plain": [
       "0        hvac_5      hvac_6       hvac_7       hvac_8       hvac_9     hvac_10\n",
       "26   221.993839  436.243879   637.848849   692.471808   489.021022  244.141367\n",
       "59   191.917861  377.218334   551.096355   598.051122   422.806829  211.407143\n",
       "77   191.901703  377.352084   551.879991   599.295403   423.198359  211.515511\n",
       "86   231.327714  454.681305   664.177712   721.070430   509.231026  254.588275\n",
       "93   178.427370  350.767673   512.716780   556.676238   393.115398  196.527793\n",
       "94    67.422739  132.547763   193.764976   210.422584   148.579064   74.263260\n",
       "101  107.527845  211.439812   309.115172   335.709212   237.031295  118.455750\n",
       "114  186.930846  367.299856   536.861571   583.025964   411.776877  205.827719\n",
       "115   61.194311  120.305695   175.871634   191.000376   134.863896   67.418029\n",
       "121  187.695494  369.543424   540.020567   586.552188   413.954628  206.787908\n",
       "130   89.625881  176.232922   257.664563   279.819200   197.538919   98.715924\n",
       "160   87.952109  172.846951   252.683554   274.393116   193.725945   96.858136\n",
       "187  267.557092  525.345846   768.852916   834.160005   588.880674  293.986255\n",
       "222  483.421523  951.042682  1393.539247  1513.798159  1067.724064  531.708026\n",
       "267   52.945539  104.085853   152.157017   165.244338   116.678355   58.318297\n",
       "364  193.090472  379.461422   554.842802   602.438994   425.270819  212.417614\n",
       "410  133.610345  262.517236   383.601218   416.647735   294.197036  147.125711\n",
       "434  279.596349  549.612570   803.579542   872.164084   615.481971  307.495807\n",
       "436   56.194742  110.473969   161.504054   175.389902   123.838336   61.897423\n",
       "457   46.001212   90.437983   132.211468   143.577180   101.375360   50.667153"
      ]
     },
     "execution_count": 27,
     "metadata": {},
     "output_type": "execute_result"
    }
   ],
   "source": [
    "mf_pred_full['hvac']['None'][1].head(20)"
   ]
  },
  {
   "cell_type": "code",
   "execution_count": 42,
   "metadata": {
    "collapsed": false
   },
   "outputs": [
    {
     "name": "stdout",
     "output_type": "stream",
     "text": [
      "hvac\n",
      "wm\n",
      "fridge\n",
      "mw\n",
      "oven\n",
      "dw\n",
      "{'hvac': ('None', 8, 11.726771530318491), 'wm': ('area_rooms', 2, 0.48588674916520552), 'fridge': ('occ_area', 6, 3.5439775801215556), 'mw': ('area', 3, 0.61803497791511286), 'oven': ('occ_area', 2, 1.0210719937671571), 'dw': ('occ', 2, 0.93710343672086849)}\n"
     ]
    }
   ],
   "source": [
    "best_combination = {}\n",
    "for appliance, appliance_struct in mf_pred.iteritems():\n",
    "    print appliance\n",
    "    best_appliance=1000\n",
    "    for appliance_feature, appliance_feature_struct in appliance_struct.iteritems():\n",
    "        for latent_factors, appliance_df in appliance_struct[appliance_feature].iteritems():\n",
    "            try:\n",
    "                region = \"Austin\"\n",
    "                df = out_overall[region]\n",
    "                pred_df = mf_pred[appliance][appliance_feature][latent_factors]\n",
    "                if 8419 in pred_df.index:\n",
    "                    pass\n",
    "                    #pred_df = pred_df.drop(8419)\n",
    "                \n",
    "                rms = compute_rmse_fraction(appliance, pred_df)\n",
    "\n",
    "                if rms<best_appliance:\n",
    "\n",
    "                    best_appliance=rms\n",
    "                    best_combination[appliance]=(appliance_feature, latent_factors, rms)\n",
    "            except:\n",
    "                pass\n",
    "    result['MF-105 homes, feature'][appliance]=best_appliance\n",
    "            \n",
    "print best_combination"
   ]
  },
  {
   "cell_type": "code",
   "execution_count": 43,
   "metadata": {
    "collapsed": false
   },
   "outputs": [
    {
     "name": "stdout",
     "output_type": "stream",
     "text": [
      "hvac\n",
      "wm\n",
      "fridge\n",
      "mw\n",
      "oven\n",
      "dw\n",
      "{'hvac': ('None', 8, 11.726771530318491), 'wm': ('area_rooms', 2, 0.48588674916520552), 'fridge': ('occ', 6, 3.5998891080357986), 'mw': ('occ', 2, 0.61234072872378198), 'oven': ('occ_area', 2, 1.0210719937671571), 'dw': ('occ_area', 2, 0.93735010995377077)}\n"
     ]
    }
   ],
   "source": [
    "best_combination = {}\n",
    "for appliance, appliance_struct in mf_pred_full.iteritems():\n",
    "    print appliance\n",
    "    best_appliance=1000\n",
    "    for appliance_feature, appliance_feature_struct in appliance_struct.iteritems():\n",
    "        for latent_factors, appliance_df in appliance_struct[appliance_feature].iteritems():\n",
    "            try:\n",
    "                region = \"Austin\"\n",
    "                df = out_overall[region]\n",
    "                pred_df = mf_pred_full[appliance][appliance_feature][latent_factors]\n",
    "                pred_df = pred_df.ix[mf_pred[appliance][appliance_feature][latent_factors].index]\n",
    "                \n",
    "                rms = compute_rmse_fraction(appliance, pred_df)\n",
    "\n",
    "                if rms<best_appliance:\n",
    "\n",
    "                    best_appliance=rms\n",
    "                    best_combination[appliance]=(appliance_feature, latent_factors, rms)\n",
    "            except:\n",
    "                pass\n",
    "    result['MF-516 homes, feature'][appliance]=best_appliance\n",
    "            \n",
    "print best_combination"
   ]
  },
  {
   "cell_type": "code",
   "execution_count": 44,
   "metadata": {
    "collapsed": true
   },
   "outputs": [],
   "source": [
    "def get_fhmm(appliance):\n",
    "    count = 0\n",
    "    for test_region in [\"Austin\"]:\n",
    "        out = {}\n",
    "        test_df = out_overall[test_region]\n",
    "        test_df=test_df[(test_df.full_agg_available==1)&(test_df.md_available==1)]\n",
    "        \n",
    "        if appliance==\"hvac\":\n",
    "            start, stop=5, 11\n",
    "        else:\n",
    "            start, stop=1, 13\n",
    "        out[appliance] = {}\n",
    "        test_df_appliance=test_df.ix[test_df[['%s_%d' %(appliance,month) for month in range(start,stop)]].dropna().index]\n",
    "        for test_home in test_df_appliance.index:\n",
    "            try:\n",
    "                #print test_home\n",
    "                pred_df = pd.read_csv(\"/Users/nipunbatra/wiki-15min-fhmm-out/%s_%d.csv\" %(test_region, test_home),index_col=0)\n",
    "                pred_df_appliance = pred_df[appliance].ix[start:stop-1]\n",
    "                gt_df_appliance = test_df.ix[test_home][['%s_%d' %(appliance, month) for month in range(start, stop)]]\n",
    "                gt_df_appliance.index = pred_df_appliance.index\n",
    "                error = ((pred_df_appliance-gt_df_appliance).abs()*100/gt_df_appliance)\n",
    "                #error[error>100]=100\n",
    "                #acc = 100-error\n",
    "                out[appliance][test_home]=pred_df_appliance\n",
    "            except:\n",
    "                pass\n",
    "    return pd.DataFrame(out[appliance]).T"
   ]
  },
  {
   "cell_type": "code",
   "execution_count": null,
   "metadata": {
    "collapsed": true
   },
   "outputs": [],
   "source": []
  },
  {
   "cell_type": "code",
   "execution_count": 45,
   "metadata": {
    "collapsed": true
   },
   "outputs": [],
   "source": [
    "lbm_pred_df = pickle.load(open('../data/lbm_15_Austin.pkl'))\n",
    "def get_lbm(appliance, region):\n",
    "    if appliance==\"hvac\":\n",
    "        start, stop=5, 11\n",
    "    else:\n",
    "        start, stop=1, 13\n",
    "    test_df = out_overall[region]\n",
    "    test_df=test_df[(test_df.full_agg_available==1)&(test_df.md_available==1)]\n",
    "    pred_df = lbm_pred_df[['%s_%d' %(appliance,month) for month in range(start,stop)]]\n",
    "\n",
    "    test_df_appliance=test_df.ix[test_df[['%s_%d' %(appliance,month) for month in range(start,stop)]].dropna().index]\n",
    "    gt_df = test_df_appliance[['%s_%d' %(appliance, month) for month in range(start, stop)]]\n",
    "    gt_df.columns = pred_df.columns\n",
    "    error = (gt_df-pred_df).abs().div(gt_df).mul(100)\n",
    "    return pred_df"
   ]
  },
  {
   "cell_type": "code",
   "execution_count": 46,
   "metadata": {
    "collapsed": false
   },
   "outputs": [],
   "source": [
    "for appliance in knn_results.keys():\n",
    "    try:\n",
    "    \n",
    "        pred_df = get_fhmm(appliance)\n",
    "        pred_df.columns = [appliance+\"_\"+str(x) for x in pred_df.columns]\n",
    "        rmse_fraction = compute_rmse_fraction(appliance, pred_df)\n",
    "\n",
    "\n",
    "        #rms = np.sqrt(mean_squared_error(gt_df, pred_df))\n",
    "        result['FHMM'][appliance]=rmse_fraction\n",
    "        pred_df = get_lbm(appliance,'Austin')\n",
    "        #pred_df.columns = [appliance+\"_\"+str(x) for x in pred_df.columns]\n",
    "        rmse_fraction = compute_rmse_fraction(appliance, pred_df)\n",
    "\n",
    "\n",
    "        #rms = np.sqrt(mean_squared_error(gt_df, pred_df))\n",
    "        result['LBM'][appliance]=rmse_fraction\n",
    "\n",
    "        pred_df = get_regional_average(appliance,'Austin')\n",
    "        #pred_df.columns = [appliance+\"_\"+str(x) for x in pred_df.columns]\n",
    "        rmse_fraction = compute_rmse_fraction(appliance, pred_df)\n",
    "\n",
    "\n",
    "        #rms = np.sqrt(mean_squared_error(gt_df, pred_df))\n",
    "        result['RA'][appliance]=rmse_fraction\n",
    "    except:\n",
    "        pass"
   ]
  },
  {
   "cell_type": "code",
   "execution_count": 47,
   "metadata": {
    "collapsed": true
   },
   "outputs": [],
   "source": [
    "def get_regional_average(appliance, test_region='Austin'):\n",
    "    try:\n",
    "        contri_austin_appliance = contribution[test_region]['Cooling'][appliance]\n",
    "        if appliance==\"hvac\":\n",
    "            start, stop=5, 11\n",
    "        else:\n",
    "            start, stop=1, 13\n",
    "        test_df = out_overall[test_region]\n",
    "        test_df=test_df[(test_df.full_agg_available==1)&(test_df.md_available==1)]\n",
    "\n",
    "        test_df_appliance=test_df.ix[test_df[['%s_%d' %(appliance,month) for month in range(start,stop)]].dropna().index]\n",
    "        pred_df = test_df_appliance[['aggregate_%d' %month for month in range(start, stop)]]*contri_austin_appliance\n",
    "        pred_df.columns = ['%s_%d' %(appliance, month) for month in range(start, stop)]\n",
    "        gt_df = test_df_appliance[['%s_%d' %(appliance, month) for month in range(start, stop)]]\n",
    "        gt_df.columns = pred_df.columns\n",
    "        error = (gt_df-pred_df).abs().div(gt_df).mul(100)\n",
    "        return pred_df\n",
    "    except:\n",
    "        return np.NaN"
   ]
  },
  {
   "cell_type": "code",
   "execution_count": 72,
   "metadata": {
    "collapsed": true
   },
   "outputs": [],
   "source": [
    "pd.set_option('precision',5)"
   ]
  },
  {
   "cell_type": "code",
   "execution_count": 73,
   "metadata": {
    "collapsed": false
   },
   "outputs": [],
   "source": [
    "results_df = pd.DataFrame(result)"
   ]
  },
  {
   "cell_type": "code",
   "execution_count": 74,
   "metadata": {
    "collapsed": false
   },
   "outputs": [
    {
     "data": {
      "text/plain": [
       "{'dw': ('occ_area', 2, 0.93735010995377077),\n",
       " 'fridge': ('occ', 6, 3.5998891080357986),\n",
       " 'hvac': ('None', 8, 11.726771530318491),\n",
       " 'mw': ('occ', 2, 0.61234072872378198),\n",
       " 'oven': ('occ_area', 2, 1.0210719937671571),\n",
       " 'wm': ('area_rooms', 2, 0.48588674916520552)}"
      ]
     },
     "execution_count": 74,
     "metadata": {},
     "output_type": "execute_result"
    }
   ],
   "source": [
    "best_combination"
   ]
  },
  {
   "cell_type": "code",
   "execution_count": 75,
   "metadata": {
    "collapsed": true
   },
   "outputs": [],
   "source": [
    "map_appliance = {'fridge':'Fridge','dw':'Dish washer','mw':'Microwave','hvac':'HVAC','oven':'Oven','wm':'Washing machine'}"
   ]
  },
  {
   "cell_type": "code",
   "execution_count": 76,
   "metadata": {
    "collapsed": false
   },
   "outputs": [],
   "source": [
    "#results_df[results_df>100]=100\n",
    "#results_df=results_df.fillna(100)\n",
    "results_df.index = [map_appliance[appliance] for appliance in results_df.index]\n",
    "#results_df.plot(kind='bar', colors=tableau20blind[::2])"
   ]
  },
  {
   "cell_type": "code",
   "execution_count": 77,
   "metadata": {
    "collapsed": false
   },
   "outputs": [],
   "source": [
    "results_df = results_df.ix[['HVAC','Fridge','Oven','Dish washer','Washing machine','Microwave']]"
   ]
  },
  {
   "cell_type": "code",
   "execution_count": 78,
   "metadata": {
    "collapsed": false
   },
   "outputs": [],
   "source": [
    "results_df_complete = results_df.copy()\n",
    "results_df_complete.to_latex(\"../results/105-homes-complete.txt\")"
   ]
  },
  {
   "cell_type": "code",
   "execution_count": 79,
   "metadata": {
    "collapsed": false
   },
   "outputs": [
    {
     "data": {
      "text/html": [
       "<div>\n",
       "<table border=\"1\" class=\"dataframe\">\n",
       "  <thead>\n",
       "    <tr style=\"text-align: right;\">\n",
       "      <th></th>\n",
       "      <th>FHMM</th>\n",
       "      <th>KNN</th>\n",
       "      <th>LBM</th>\n",
       "      <th>MF-105 homes</th>\n",
       "      <th>MF-105 homes, feature</th>\n",
       "      <th>MF-516 homes</th>\n",
       "      <th>MF-516 homes, feature</th>\n",
       "      <th>RA</th>\n",
       "    </tr>\n",
       "  </thead>\n",
       "  <tbody>\n",
       "    <tr>\n",
       "      <th>HVAC</th>\n",
       "      <td>15.25937</td>\n",
       "      <td>12.61822</td>\n",
       "      <td>29.37438</td>\n",
       "      <td>11.72677</td>\n",
       "      <td>11.72677</td>\n",
       "      <td>11.72677</td>\n",
       "      <td>11.72677</td>\n",
       "      <td>17.44209</td>\n",
       "    </tr>\n",
       "    <tr>\n",
       "      <th>Fridge</th>\n",
       "      <td>4.48070</td>\n",
       "      <td>4.37191</td>\n",
       "      <td>2.68618</td>\n",
       "      <td>3.73865</td>\n",
       "      <td>3.54398</td>\n",
       "      <td>3.73865</td>\n",
       "      <td>3.59989</td>\n",
       "      <td>4.61885</td>\n",
       "    </tr>\n",
       "    <tr>\n",
       "      <th>Oven</th>\n",
       "      <td>34.08839</td>\n",
       "      <td>1.07158</td>\n",
       "      <td>3.83552</td>\n",
       "      <td>1.08888</td>\n",
       "      <td>1.02107</td>\n",
       "      <td>1.08888</td>\n",
       "      <td>1.02107</td>\n",
       "      <td>NaN</td>\n",
       "    </tr>\n",
       "    <tr>\n",
       "      <th>Dish washer</th>\n",
       "      <td>12.99469</td>\n",
       "      <td>1.05495</td>\n",
       "      <td>1.74313</td>\n",
       "      <td>1.02695</td>\n",
       "      <td>0.93710</td>\n",
       "      <td>1.02695</td>\n",
       "      <td>0.93735</td>\n",
       "      <td>1.21552</td>\n",
       "    </tr>\n",
       "    <tr>\n",
       "      <th>Washing machine</th>\n",
       "      <td>3.97675</td>\n",
       "      <td>0.50354</td>\n",
       "      <td>13.28896</td>\n",
       "      <td>0.48608</td>\n",
       "      <td>0.48589</td>\n",
       "      <td>0.48608</td>\n",
       "      <td>0.48589</td>\n",
       "      <td>0.70509</td>\n",
       "    </tr>\n",
       "    <tr>\n",
       "      <th>Microwave</th>\n",
       "      <td>6.31778</td>\n",
       "      <td>0.87106</td>\n",
       "      <td>1.00778</td>\n",
       "      <td>0.62327</td>\n",
       "      <td>0.61803</td>\n",
       "      <td>0.62327</td>\n",
       "      <td>0.61234</td>\n",
       "      <td>NaN</td>\n",
       "    </tr>\n",
       "  </tbody>\n",
       "</table>\n",
       "</div>"
      ],
      "text/plain": [
       "                     FHMM       KNN       LBM  MF-105 homes  \\\n",
       "HVAC             15.25937  12.61822  29.37438      11.72677   \n",
       "Fridge            4.48070   4.37191   2.68618       3.73865   \n",
       "Oven             34.08839   1.07158   3.83552       1.08888   \n",
       "Dish washer      12.99469   1.05495   1.74313       1.02695   \n",
       "Washing machine   3.97675   0.50354  13.28896       0.48608   \n",
       "Microwave         6.31778   0.87106   1.00778       0.62327   \n",
       "\n",
       "                 MF-105 homes, feature  MF-516 homes  MF-516 homes, feature  \\\n",
       "HVAC                          11.72677      11.72677               11.72677   \n",
       "Fridge                         3.54398       3.73865                3.59989   \n",
       "Oven                           1.02107       1.08888                1.02107   \n",
       "Dish washer                    0.93710       1.02695                0.93735   \n",
       "Washing machine                0.48589       0.48608                0.48589   \n",
       "Microwave                      0.61803       0.62327                0.61234   \n",
       "\n",
       "                       RA  \n",
       "HVAC             17.44209  \n",
       "Fridge            4.61885  \n",
       "Oven                  NaN  \n",
       "Dish washer       1.21552  \n",
       "Washing machine   0.70509  \n",
       "Microwave             NaN  "
      ]
     },
     "execution_count": 79,
     "metadata": {},
     "output_type": "execute_result"
    }
   ],
   "source": [
    "results_df_complete"
   ]
  },
  {
   "cell_type": "code",
   "execution_count": 70,
   "metadata": {
    "collapsed": false
   },
   "outputs": [
    {
     "name": "stdout",
     "output_type": "stream",
     "text": [
      "\\begin{tabular}{lrrrrrrrr}\r\n",
      "\\toprule\r\n",
      "{} &   FHMM &    KNN &    LBM &  MF-105 homes &  MF-105 homes, feature &  MF-516 homes &  MF-516 homes, feature &     RA \\\\\r\n",
      "\\midrule\r\n",
      "HVAC            &  15.26 &  12.62 &  29.37 &         11.73 &                  11.73 &         11.73 &                  11.73 &  17.44 \\\\\r\n",
      "Fridge          &   4.48 &   4.37 &   2.69 &          3.74 &                   3.54 &          3.74 &                   3.60 &   4.62 \\\\\r\n",
      "Oven            &  34.09 &   1.07 &   3.84 &          1.09 &                   1.02 &          1.09 &                   1.02 &    NaN \\\\\r\n",
      "Dish washer     &  12.99 &   1.05 &   1.74 &          1.03 &                   0.94 &          1.03 &                   0.94 &   1.22 \\\\\r\n",
      "Washing machine &   3.98 &   0.50 &  13.29 &          0.49 &                   0.49 &          0.49 &                   0.49 &   0.71 \\\\\r\n",
      "Microwave       &   6.32 &   0.87 &   1.01 &          0.62 &                   0.62 &          0.62 &                   0.61 &    NaN \\\\\r\n",
      "\\bottomrule\r\n",
      "\\end{tabular}\r\n"
     ]
    }
   ],
   "source": [
    "!cat ../results/105-homes-complete.txt"
   ]
  },
  {
   "cell_type": "code",
   "execution_count": 93,
   "metadata": {
    "collapsed": false
   },
   "outputs": [
    {
     "data": {
      "image/png": "[encoded data removed]",
      "text/plain": [
       "<matplotlib.figure.Figure at 0x119915650>"
      ]
     },
     "metadata": {},
     "output_type": "display_data"
    }
   ],
   "source": [
    "import matplotlib.pyplot as plt\n",
    "results_df.plot(kind='bar',rot=0, colors=tableau20blind[::2])\n",
    "lgd = plt.legend(loc='right', bbox_to_anchor=(1.8, 0.5))\n",
    "plt.ylabel(\"Energy error\\n(Lower is better)\");\n",
    "plt.title(\"Results over 105 homes having all features\")\n",
    "plt.savefig(\"../results/subset.pdf\",bbox_extra_artists=(lgd,), bbox_inches='tight')\n",
    "plt.savefig(\"../results/subset.png\",bbox_extra_artists=(lgd,), bbox_inches='tight')"
   ]
  },
  {
   "cell_type": "markdown",
   "metadata": {},
   "source": [
    "Comparing MF with and without homes containing those features"
   ]
  },
  {
   "cell_type": "code",
   "execution_count": 23,
   "metadata": {
    "collapsed": false
   },
   "outputs": [
    {
     "data": {
      "text/plain": [
       "{'dw': ('occ', 1, 47.696584280069516),\n",
       " 'fridge': ('occ_area', 2, 24.91311995551921),\n",
       " 'hvac': ('rooms', 8, 21.29756141099046),\n",
       " 'mw': ('occ', 2, 41.60195238757644),\n",
       " 'oven': ('area_rooms', 8, 48.164684764512515),\n",
       " 'wm': ('occ_rooms', 3, 43.7072363087808)}"
      ]
     },
     "execution_count": 23,
     "metadata": {},
     "output_type": "execute_result"
    }
   ],
   "source": [
    "best_combination"
   ]
  },
  {
   "cell_type": "code",
   "execution_count": 31,
   "metadata": {
    "collapsed": false
   },
   "outputs": [
    {
     "data": {
      "text/html": [
       "<div>\n",
       "<table border=\"1\" class=\"dataframe\">\n",
       "  <thead>\n",
       "    <tr style=\"text-align: right;\">\n",
       "      <th></th>\n",
       "      <th>KNN</th>\n",
       "      <th>MF</th>\n",
       "    </tr>\n",
       "  </thead>\n",
       "  <tbody>\n",
       "    <tr>\n",
       "      <th>dw</th>\n",
       "      <td>55.305178</td>\n",
       "      <td>47.696584</td>\n",
       "    </tr>\n",
       "    <tr>\n",
       "      <th>fridge</th>\n",
       "      <td>30.453563</td>\n",
       "      <td>24.913120</td>\n",
       "    </tr>\n",
       "    <tr>\n",
       "      <th>hvac</th>\n",
       "      <td>27.268441</td>\n",
       "      <td>21.297561</td>\n",
       "    </tr>\n",
       "    <tr>\n",
       "      <th>mw</th>\n",
       "      <td>49.199756</td>\n",
       "      <td>41.601952</td>\n",
       "    </tr>\n",
       "    <tr>\n",
       "      <th>oven</th>\n",
       "      <td>51.708601</td>\n",
       "      <td>48.164685</td>\n",
       "    </tr>\n",
       "    <tr>\n",
       "      <th>wm</th>\n",
       "      <td>43.735111</td>\n",
       "      <td>43.707236</td>\n",
       "    </tr>\n",
       "  </tbody>\n",
       "</table>\n",
       "</div>"
      ],
      "text/plain": [
       "              KNN         MF\n",
       "dw      55.305178  47.696584\n",
       "fridge  30.453563  24.913120\n",
       "hvac    27.268441  21.297561\n",
       "mw      49.199756  41.601952\n",
       "oven    51.708601  48.164685\n",
       "wm      43.735111  43.707236"
      ]
     },
     "execution_count": 31,
     "metadata": {},
     "output_type": "execute_result"
    }
   ],
   "source": [
    "pd.DataFrame(results)"
   ]
  },
  {
   "cell_type": "code",
   "execution_count": 100,
   "metadata": {
    "collapsed": false
   },
   "outputs": [
    {
     "name": "stdout",
     "output_type": "stream",
     "text": [
      "fridge 57.3978457853\n",
      "hvac 55.0774075892\n",
      "dw 51.1713352881\n",
      "mw 57.3493816955\n",
      "wm 53.9492074301\n",
      "oven 55.2763277251\n"
     ]
    }
   ],
   "source": [
    "for appliance in ['fridge','hvac','dw','mw','wm','oven']:\n",
    "    mf_best = mf_pred[appliance][best_combination[appliance][0]][best_combination[appliance][1]]\n",
    "    knn_best = knn_results[appliance]\n",
    "    mf_best.columns = knn_best.columns\n",
    "    common_index = np.intersect1d(mf_best.index, knn_best.index)\n",
    "    mf_best = mf_best.ix[common_index]\n",
    "    knn_best = knn_best.ix[common_index]\n",
    "    knn_best_copy = knn_best.copy()\n",
    "    mf_best_copy = mf_best.copy()\n",
    "    max_two = (mf_best_copy.where(mf_best_copy > knn_best_copy, knn_best_copy).fillna(mf_best_copy))\n",
    "    print appliance,100*((-mf_best+knn_best)/max_two).unstack().std()"
   ]
  },
  {
   "cell_type": "code",
   "execution_count": null,
   "metadata": {
    "collapsed": true
   },
   "outputs": [],
   "source": [
    "Calculating win/loss"
   ]
  },
  {
   "cell_type": "code",
   "execution_count": 97,
   "metadata": {
    "collapsed": false
   },
   "outputs": [
    {
     "name": "stdout",
     "output_type": "stream",
     "text": [
      "fridge\n",
      "hvac\n",
      "dw\n",
      "mw\n",
      "wm\n",
      "oven\n"
     ]
    }
   ],
   "source": [
    "o = {}\n",
    "for appliance in ['fridge','hvac','dw','mw','wm','oven']:\n",
    "    print appliance\n",
    "    mf_best_pred = mf_pred[appliance][best_combination[appliance][0]][best_combination[appliance][1]]\n",
    "    knn_best_pred = knn_results[appliance]\n",
    "    mf_best_pred.columns = knn_best_pred.columns\n",
    "    common_index = np.intersect1d(mf_best_pred.index, knn_best_pred.index)\n",
    "    region = \"Austin\"\n",
    "    df = out_overall[region]\n",
    "    pred_df = mf_pred[appliance][appliance_feature][latent_factors]\n",
    "    gt_df = df[pred_df.columns].ix[pred_df.index]\n",
    "    mf_best_pred = mf_best_pred.ix[common_index]\n",
    "    knn_best_pred = knn_best_pred.ix[common_index]\n",
    "    error_mf = (gt_df-mf_best_pred).abs()\n",
    "    error_knn = (gt_df-knn_best_pred).abs()\n",
    "    win = (error_knn>error_mf).sum().sum()\n",
    "    loss = (error_knn<error_mf).sum().sum()\n",
    "   \n",
    "    o[appliance]={'win':win, \"loss\":loss, \"win/loss\":win*1./loss,\"win/(win_loss)\":win*1./(win+loss)} "
   ]
  },
  {
   "cell_type": "code",
   "execution_count": 98,
   "metadata": {
    "collapsed": false
   },
   "outputs": [
    {
     "data": {
      "text/html": [
       "<div>\n",
       "<table border=\"1\" class=\"dataframe\">\n",
       "  <thead>\n",
       "    <tr style=\"text-align: right;\">\n",
       "      <th></th>\n",
       "      <th>loss</th>\n",
       "      <th>win</th>\n",
       "      <th>win/(win_loss)</th>\n",
       "      <th>win/loss</th>\n",
       "    </tr>\n",
       "  </thead>\n",
       "  <tbody>\n",
       "    <tr>\n",
       "      <th>dw</th>\n",
       "      <td>288</td>\n",
       "      <td>408</td>\n",
       "      <td>0.586207</td>\n",
       "      <td>1.416667</td>\n",
       "    </tr>\n",
       "    <tr>\n",
       "      <th>fridge</th>\n",
       "      <td>423</td>\n",
       "      <td>393</td>\n",
       "      <td>0.481618</td>\n",
       "      <td>0.929078</td>\n",
       "    </tr>\n",
       "    <tr>\n",
       "      <th>hvac</th>\n",
       "      <td>277</td>\n",
       "      <td>293</td>\n",
       "      <td>0.514035</td>\n",
       "      <td>1.057762</td>\n",
       "    </tr>\n",
       "    <tr>\n",
       "      <th>mw</th>\n",
       "      <td>249</td>\n",
       "      <td>315</td>\n",
       "      <td>0.558511</td>\n",
       "      <td>1.265060</td>\n",
       "    </tr>\n",
       "    <tr>\n",
       "      <th>oven</th>\n",
       "      <td>179</td>\n",
       "      <td>181</td>\n",
       "      <td>0.502778</td>\n",
       "      <td>1.011173</td>\n",
       "    </tr>\n",
       "    <tr>\n",
       "      <th>wm</th>\n",
       "      <td>358</td>\n",
       "      <td>338</td>\n",
       "      <td>0.485632</td>\n",
       "      <td>0.944134</td>\n",
       "    </tr>\n",
       "  </tbody>\n",
       "</table>\n",
       "</div>"
      ],
      "text/plain": [
       "        loss  win  win/(win_loss)  win/loss\n",
       "dw       288  408        0.586207  1.416667\n",
       "fridge   423  393        0.481618  0.929078\n",
       "hvac     277  293        0.514035  1.057762\n",
       "mw       249  315        0.558511  1.265060\n",
       "oven     179  181        0.502778  1.011173\n",
       "wm       358  338        0.485632  0.944134"
      ]
     },
     "execution_count": 98,
     "metadata": {},
     "output_type": "execute_result"
    }
   ],
   "source": [
    "pd.DataFrame(o).T"
   ]
  },
  {
   "cell_type": "code",
   "execution_count": 92,
   "metadata": {
    "collapsed": false
   },
   "outputs": [
    {
     "data": {
      "text/plain": [
       "(Index([u'hvac_5', u'hvac_6', u'hvac_7', u'hvac_8', u'hvac_9', u'hvac_10'], dtype='object'),\n",
       " Index([u'hvac_5', u'hvac_6', u'hvac_7', u'hvac_8', u'hvac_9', u'hvac_10'], dtype='object'))"
      ]
     },
     "execution_count": 92,
     "metadata": {},
     "output_type": "execute_result"
    }
   ],
   "source": [
    "knn_best_pred.columns, mf_best_pred.columns"
   ]
  },
  {
   "cell_type": "code",
   "execution_count": 118,
   "metadata": {
    "collapsed": false
   },
   "outputs": [
    {
     "data": {
      "text/plain": [
       "51.70860070119945"
      ]
     },
     "execution_count": 118,
     "metadata": {},
     "output_type": "execute_result"
    }
   ],
   "source": [
    "knn_best.median().mean()"
   ]
  },
  {
   "cell_type": "code",
   "execution_count": 119,
   "metadata": {
    "collapsed": false
   },
   "outputs": [
    {
     "data": {
      "text/plain": [
       "'oven'"
      ]
     },
     "execution_count": 119,
     "metadata": {},
     "output_type": "execute_result"
    }
   ],
   "source": [
    "appliance"
   ]
  },
  {
   "cell_type": "code",
   "execution_count": 112,
   "metadata": {
    "collapsed": false
   },
   "outputs": [
    {
     "data": {
      "text/plain": [
       "59       0\n",
       "457     11\n",
       "499     11\n",
       "954     11\n",
       "2907    11\n",
       "3510    10\n",
       "3893     0\n",
       "4856    11\n",
       "5718    11\n",
       "8419     0\n",
       "dtype: int64"
      ]
     },
     "execution_count": 112,
     "metadata": {},
     "output_type": "execute_result"
    }
   ],
   "source": [
    "a=(gt_df>10).sum(axis=1)\n",
    "a[a<12]"
   ]
  },
  {
   "cell_type": "code",
   "execution_count": null,
   "metadata": {
    "collapsed": true
   },
   "outputs": [],
   "source": []
  }
 ],
 "metadata": {
  "kernelspec": {
   "display_name": "Python 2",
   "language": "python",
   "name": "python2"
  },
  "language_info": {
   "codemirror_mode": {
    "name": "ipython",
    "version": 2
   },
   "file_extension": ".py",
   "mimetype": "text/x-python",
   "name": "python",
   "nbconvert_exporter": "python",
   "pygments_lexer": "ipython2",
   "version": "2.7.11"
  }
 },
 "nbformat": 4,
 "nbformat_minor": 0
}
