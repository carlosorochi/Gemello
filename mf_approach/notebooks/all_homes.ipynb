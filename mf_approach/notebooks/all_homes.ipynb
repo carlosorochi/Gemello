{
 "cells": [
  {
   "cell_type": "code",
   "execution_count": 1,
   "metadata": {
    "collapsed": true
   },
   "outputs": [],
   "source": [
    "import pickle\n",
    "import pandas as pd\n",
    "import sys\n",
    "import numpy as np"
   ]
  },
  {
   "cell_type": "code",
   "execution_count": 2,
   "metadata": {
    "collapsed": false
   },
   "outputs": [
    {
     "name": "stdout",
     "output_type": "stream",
     "text": [
      "all_homes.ipynb\r\n"
     ]
    }
   ],
   "source": [
    "!ls"
   ]
  },
  {
   "cell_type": "code",
   "execution_count": 3,
   "metadata": {
    "collapsed": false
   },
   "outputs": [],
   "source": [
    "sys.path.append(\"../../code/\")\n",
    "sys.path.append(\"../code/\")\n",
    "\n",
    "\n",
    "from common_functions import tableau20blind, format_axes, latexify\n",
    "from regional_average_contribution import contribution"
   ]
  },
  {
   "cell_type": "code",
   "execution_count": 4,
   "metadata": {
    "collapsed": true
   },
   "outputs": [],
   "source": [
    "out_overall = pickle.load(open('../../data/input/all_regions.pkl', 'r'))\n"
   ]
  },
  {
   "cell_type": "code",
   "execution_count": 5,
   "metadata": {
    "collapsed": true
   },
   "outputs": [],
   "source": [
    "# Initialising results\n",
    "results = {'KNN':{},'MF':{},'FHMM':{},'LBM':{},'RA':{}}"
   ]
  },
  {
   "cell_type": "code",
   "execution_count": 6,
   "metadata": {
    "collapsed": true
   },
   "outputs": [],
   "source": [
    "# Loading KNN results\n",
    "knn_results = pickle.load(open('../data/knn_all_homes.pkl','r'))\n",
    "for appliance, appliance_df in knn_results.iteritems():\n",
    "    results['KNN'][appliance] = appliance_df.median().mean()"
   ]
  },
  {
   "cell_type": "code",
   "execution_count": 7,
   "metadata": {
    "collapsed": false
   },
   "outputs": [],
   "source": [
    "# Loading MF results and finding the best\n",
    "mf_results = pickle.load(open('../data/mf_all_homes.pkl','r'))\n",
    "best_combination = {}\n",
    "for appliance, appliance_struct in mf_results.iteritems():\n",
    "    best_appliance=1000\n",
    "    for appliance_feature, appliance_feature_struct in appliance_struct.iteritems():\n",
    "        for latent_factors, appliance_df in appliance_feature_struct.iteritems():\n",
    "            pred = appliance_df.median().mean()\n",
    "            if pred<best_appliance:\n",
    "                best_appliance=pred\n",
    "                best_combination[appliance]=(appliance_feature, latent_factors, pred)\n",
    "                results['MF'][appliance] = pred"
   ]
  },
  {
   "cell_type": "code",
   "execution_count": 8,
   "metadata": {
    "collapsed": true
   },
   "outputs": [],
   "source": [
    "def get_fhmm(appliance):\n",
    "    count = 0\n",
    "    for test_region in [\"Austin\"]:\n",
    "        out = {}\n",
    "        test_df = out_overall[test_region]\n",
    "        #test_df=test_df[(test_df.full_agg_available==1)&(test_df.md_available==1)]\n",
    "        \n",
    "        if appliance==\"hvac\":\n",
    "            start, stop=5, 11\n",
    "        else:\n",
    "            start, stop=1, 13\n",
    "        out[appliance] = {}\n",
    "        test_df_appliance=test_df.ix[test_df[['%s_%d' %(appliance,month) for month in range(start,stop)]].dropna().index]\n",
    "        for test_home in test_df_appliance.index:\n",
    "            try:\n",
    "                #print test_home\n",
    "                pred_df = pd.read_csv(\"/Users/nipunbatra/wiki-15min-fhmm-out/%s_%d.csv\" %(test_region, test_home),index_col=0)\n",
    "                pred_df_appliance = pred_df[appliance].ix[start:stop-1]\n",
    "                gt_df_appliance = test_df.ix[test_home][['%s_%d' %(appliance, month) for month in range(start, stop)]]\n",
    "                gt_df_appliance.index = pred_df_appliance.index\n",
    "                error = ((pred_df_appliance-gt_df_appliance).abs()*100/gt_df_appliance)\n",
    "                #error[error>100]=100\n",
    "                #acc = 100-error\n",
    "                out[appliance][test_home]=error\n",
    "            except:\n",
    "                pass\n",
    "    return pd.DataFrame(out[appliance]).T.median().mean()"
   ]
  },
  {
   "cell_type": "code",
   "execution_count": 9,
   "metadata": {
    "collapsed": false
   },
   "outputs": [],
   "source": [
    "lbm_pred_df = pickle.load(open('../data/lbm_15_Austin.pkl'))"
   ]
  },
  {
   "cell_type": "code",
   "execution_count": 10,
   "metadata": {
    "collapsed": false
   },
   "outputs": [],
   "source": [
    "def get_lbm(appliance, region):\n",
    "    if appliance==\"hvac\":\n",
    "        start, stop=5, 11\n",
    "    else:\n",
    "        start, stop=1, 13\n",
    "    test_df = out_overall[region]\n",
    "    #test_df=test_df[(test_df.full_agg_available==1)&(test_df.md_available==1)]\n",
    "    pred_df = lbm_pred_df[['%s_%d' %(appliance,month) for month in range(start,stop)]]\n",
    "\n",
    "    test_df_appliance=test_df.ix[test_df[['%s_%d' %(appliance,month) for month in range(start,stop)]].dropna().index]\n",
    "    gt_df = test_df_appliance[['%s_%d' %(appliance, month) for month in range(start, stop)]]\n",
    "    gt_df.columns = pred_df.columns\n",
    "    error = (gt_df-pred_df).abs().div(gt_df).mul(100)\n",
    "    return error.median().mean()"
   ]
  },
  {
   "cell_type": "code",
   "execution_count": 11,
   "metadata": {
    "collapsed": true
   },
   "outputs": [],
   "source": [
    "def get_regional_average(appliance, test_region='Austin'):\n",
    "    try:\n",
    "        contri_austin_appliance = contribution[test_region]['Cooling'][appliance]\n",
    "        if appliance==\"hvac\":\n",
    "            start, stop=5, 11\n",
    "        else:\n",
    "            start, stop=1, 13\n",
    "        test_df = out_overall[test_region]\n",
    "        test_df=test_df[(test_df.full_agg_available==1)&(test_df.md_available==1)]\n",
    "\n",
    "        test_df_appliance=test_df.ix[test_df[['%s_%d' %(appliance,month) for month in range(start,stop)]].dropna().index]\n",
    "        pred_df = test_df_appliance[['aggregate_%d' %month for month in range(start, stop)]]*contri_austin_appliance\n",
    "        gt_df = test_df_appliance[['%s_%d' %(appliance, month) for month in range(start, stop)]]\n",
    "        gt_df.columns = pred_df.columns\n",
    "        error = (gt_df-pred_df).abs().div(gt_df).mul(100)\n",
    "        return error.median().mean()\n",
    "    except:\n",
    "        return np.NaN"
   ]
  },
  {
   "cell_type": "code",
   "execution_count": 12,
   "metadata": {
    "collapsed": false
   },
   "outputs": [
    {
     "name": "stdout",
     "output_type": "stream",
     "text": [
      "fridge\n",
      "dw\n",
      "mw\n",
      "oven\n",
      "hvac\n",
      "wm\n"
     ]
    }
   ],
   "source": [
    "for appliance in ['fridge','dw','mw','oven','hvac','wm']:\n",
    "    print appliance\n",
    "    results['FHMM'][appliance]=get_fhmm(appliance)\n",
    "    results['LBM'][appliance] = get_lbm(appliance, \"Austin\")\n",
    "    results['RA'][appliance] = get_regional_average(appliance)"
   ]
  },
  {
   "cell_type": "code",
   "execution_count": 67,
   "metadata": {
    "collapsed": false
   },
   "outputs": [],
   "source": [
    "%matplotlib inline\n",
    "results_df = pd.DataFrame(results)"
   ]
  },
  {
   "cell_type": "code",
   "execution_count": 68,
   "metadata": {
    "collapsed": false
   },
   "outputs": [
    {
     "data": {
      "text/html": [
       "<div>\n",
       "<table border=\"1\" class=\"dataframe\">\n",
       "  <thead>\n",
       "    <tr style=\"text-align: right;\">\n",
       "      <th></th>\n",
       "      <th>FHMM</th>\n",
       "      <th>KNN</th>\n",
       "      <th>LBM</th>\n",
       "      <th>MF</th>\n",
       "      <th>RA</th>\n",
       "    </tr>\n",
       "  </thead>\n",
       "  <tbody>\n",
       "    <tr>\n",
       "      <th>dw</th>\n",
       "      <td>1381.644002</td>\n",
       "      <td>52.700411</td>\n",
       "      <td>97.950250</td>\n",
       "      <td>46.081924</td>\n",
       "      <td>137.596039</td>\n",
       "    </tr>\n",
       "    <tr>\n",
       "      <th>fridge</th>\n",
       "      <td>35.694620</td>\n",
       "      <td>24.149983</td>\n",
       "      <td>19.604440</td>\n",
       "      <td>28.802623</td>\n",
       "      <td>49.693072</td>\n",
       "    </tr>\n",
       "    <tr>\n",
       "      <th>hvac</th>\n",
       "      <td>30.407670</td>\n",
       "      <td>25.236728</td>\n",
       "      <td>63.435324</td>\n",
       "      <td>22.589278</td>\n",
       "      <td>34.578255</td>\n",
       "    </tr>\n",
       "    <tr>\n",
       "      <th>mw</th>\n",
       "      <td>822.226612</td>\n",
       "      <td>59.344624</td>\n",
       "      <td>93.421598</td>\n",
       "      <td>52.009452</td>\n",
       "      <td>NaN</td>\n",
       "    </tr>\n",
       "    <tr>\n",
       "      <th>oven</th>\n",
       "      <td>3063.765939</td>\n",
       "      <td>50.354162</td>\n",
       "      <td>235.460335</td>\n",
       "      <td>45.006192</td>\n",
       "      <td>NaN</td>\n",
       "    </tr>\n",
       "    <tr>\n",
       "      <th>wm</th>\n",
       "      <td>944.352849</td>\n",
       "      <td>53.511891</td>\n",
       "      <td>2616.246376</td>\n",
       "      <td>50.545587</td>\n",
       "      <td>168.871129</td>\n",
       "    </tr>\n",
       "  </tbody>\n",
       "</table>\n",
       "</div>"
      ],
      "text/plain": [
       "               FHMM        KNN          LBM         MF          RA\n",
       "dw      1381.644002  52.700411    97.950250  46.081924  137.596039\n",
       "fridge    35.694620  24.149983    19.604440  28.802623   49.693072\n",
       "hvac      30.407670  25.236728    63.435324  22.589278   34.578255\n",
       "mw       822.226612  59.344624    93.421598  52.009452         NaN\n",
       "oven    3063.765939  50.354162   235.460335  45.006192         NaN\n",
       "wm       944.352849  53.511891  2616.246376  50.545587  168.871129"
      ]
     },
     "execution_count": 68,
     "metadata": {},
     "output_type": "execute_result"
    }
   ],
   "source": [
    "results_df"
   ]
  },
  {
   "cell_type": "code",
   "execution_count": 69,
   "metadata": {
    "collapsed": true
   },
   "outputs": [],
   "source": [
    "map_appliance = {'fridge':'Fridge','dw':'Dish\\nwasher','mw':'Microwave','hvac':'HVAC','oven':'Oven','wm':'Washing\\nmachine'}"
   ]
  },
  {
   "cell_type": "code",
   "execution_count": 70,
   "metadata": {
    "collapsed": false
   },
   "outputs": [],
   "source": [
    "#results_df[results_df>100]=100\n",
    "#results_df=results_df.fillna(100)\n",
    "results_df.index = [map_appliance[appliance] for appliance in results_df.index]\n",
    "#results_df.plot(kind='bar', colors=tableau20blind[::2])"
   ]
  },
  {
   "cell_type": "code",
   "execution_count": 71,
   "metadata": {
    "collapsed": false
   },
   "outputs": [],
   "source": [
    "results_df = results_df.ix[['HVAC','Fridge','Oven','Dish\\nwasher','Washing\\nmachine','Microwave']]"
   ]
  },
  {
   "cell_type": "code",
   "execution_count": 72,
   "metadata": {
    "collapsed": false
   },
   "outputs": [],
   "source": [
    "results_df = results_df[['FHMM','LBM','RA','KNN','MF']]"
   ]
  },
  {
   "cell_type": "code",
   "execution_count": 73,
   "metadata": {
    "collapsed": false
   },
   "outputs": [
    {
     "data": {
      "text/plain": [
       "<matplotlib.axes._subplots.AxesSubplot at 0x11bdb3750>"
      ]
     },
     "execution_count": 73,
     "metadata": {},
     "output_type": "execute_result"
    },
    {
     "data": {
      "image/png": "[encoded data removed]",
      "text/plain": [
       "<matplotlib.figure.Figure at 0x11bd07490>"
      ]
     },
     "metadata": {},
     "output_type": "display_data"
    }
   ],
   "source": [
    "results_df.plot(kind='bar',rot=0, colors=tableau20blind[::2])"
   ]
  },
  {
   "cell_type": "code",
   "execution_count": 76,
   "metadata": {
    "collapsed": false
   },
   "outputs": [],
   "source": [
    "pd.set_option('precision',1)"
   ]
  },
  {
   "cell_type": "code",
   "execution_count": 77,
   "metadata": {
    "collapsed": false
   },
   "outputs": [
    {
     "data": {
      "text/html": [
       "<div>\n",
       "<table border=\"1\" class=\"dataframe\">\n",
       "  <thead>\n",
       "    <tr style=\"text-align: right;\">\n",
       "      <th></th>\n",
       "      <th>FHMM</th>\n",
       "      <th>LBM</th>\n",
       "      <th>RA</th>\n",
       "      <th>KNN</th>\n",
       "      <th>MF</th>\n",
       "    </tr>\n",
       "  </thead>\n",
       "  <tbody>\n",
       "    <tr>\n",
       "      <th>HVAC</th>\n",
       "      <td>30.4</td>\n",
       "      <td>63.4</td>\n",
       "      <td>34.6</td>\n",
       "      <td>25.2</td>\n",
       "      <td>22.6</td>\n",
       "    </tr>\n",
       "    <tr>\n",
       "      <th>Fridge</th>\n",
       "      <td>35.7</td>\n",
       "      <td>19.6</td>\n",
       "      <td>49.7</td>\n",
       "      <td>24.1</td>\n",
       "      <td>28.8</td>\n",
       "    </tr>\n",
       "    <tr>\n",
       "      <th>Oven</th>\n",
       "      <td>3063.8</td>\n",
       "      <td>235.5</td>\n",
       "      <td>NaN</td>\n",
       "      <td>50.4</td>\n",
       "      <td>45.0</td>\n",
       "    </tr>\n",
       "    <tr>\n",
       "      <th>Dish\\nwasher</th>\n",
       "      <td>1381.6</td>\n",
       "      <td>98.0</td>\n",
       "      <td>137.6</td>\n",
       "      <td>52.7</td>\n",
       "      <td>46.1</td>\n",
       "    </tr>\n",
       "    <tr>\n",
       "      <th>Washing\\nmachine</th>\n",
       "      <td>944.4</td>\n",
       "      <td>2616.2</td>\n",
       "      <td>168.9</td>\n",
       "      <td>53.5</td>\n",
       "      <td>50.5</td>\n",
       "    </tr>\n",
       "    <tr>\n",
       "      <th>Microwave</th>\n",
       "      <td>822.2</td>\n",
       "      <td>93.4</td>\n",
       "      <td>NaN</td>\n",
       "      <td>59.3</td>\n",
       "      <td>52.0</td>\n",
       "    </tr>\n",
       "  </tbody>\n",
       "</table>\n",
       "</div>"
      ],
      "text/plain": [
       "                    FHMM     LBM     RA   KNN    MF\n",
       "HVAC                30.4    63.4   34.6  25.2  22.6\n",
       "Fridge              35.7    19.6   49.7  24.1  28.8\n",
       "Oven              3063.8   235.5    NaN  50.4  45.0\n",
       "Dish\\nwasher      1381.6    98.0  137.6  52.7  46.1\n",
       "Washing\\nmachine   944.4  2616.2  168.9  53.5  50.5\n",
       "Microwave          822.2    93.4    NaN  59.3  52.0"
      ]
     },
     "execution_count": 77,
     "metadata": {},
     "output_type": "execute_result"
    }
   ],
   "source": [
    "results_df"
   ]
  },
  {
   "cell_type": "code",
   "execution_count": 78,
   "metadata": {
    "collapsed": false
   },
   "outputs": [
    {
     "ename": "NameError",
     "evalue": "name 'df' is not defined",
     "output_type": "error",
     "traceback": [
      "\u001b[0;31m---------------------------------------------------------------------------\u001b[0m",
      "\u001b[0;31mNameError\u001b[0m                                 Traceback (most recent call last)",
      "\u001b[0;32m<ipython-input-78-6a4642092433>\u001b[0m in \u001b[0;36m<module>\u001b[0;34m()\u001b[0m\n\u001b[0;32m----> 1\u001b[0;31m \u001b[0mdf\u001b[0m\u001b[0;34m.\u001b[0m\u001b[0mcolumns\u001b[0m\u001b[0;34m\u001b[0m\u001b[0m\n\u001b[0m",
      "\u001b[0;31mNameError\u001b[0m: name 'df' is not defined"
     ]
    }
   ],
   "source": []
  },
  {
   "cell_type": "code",
   "execution_count": null,
   "metadata": {
    "collapsed": true
   },
   "outputs": [],
   "source": []
  }
 ],
 "metadata": {
  "kernelspec": {
   "display_name": "Python 2",
   "language": "python",
   "name": "python2"
  },
  "language_info": {
   "codemirror_mode": {
    "name": "ipython",
    "version": 2
   },
   "file_extension": ".py",
   "mimetype": "text/x-python",
   "name": "python",
   "nbconvert_exporter": "python",
   "pygments_lexer": "ipython2",
   "version": "2.7.11"
  }
 },
 "nbformat": 4,
 "nbformat_minor": 0
}
