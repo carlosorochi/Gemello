{
 "cells": [
  {
   "cell_type": "code",
   "execution_count": null,
   "metadata": {
    "collapsed": true
   },
   "outputs": [],
   "source": []
  },
  {
   "cell_type": "code",
   "execution_count": 1,
   "metadata": {
    "collapsed": false
   },
   "outputs": [
    {
     "name": "stderr",
     "output_type": "stream",
     "text": [
      "Vendor:  Continuum Analytics, Inc.\n",
      "Package: mkl\n",
      "Message: trial mode expires in 26 days\n"
     ]
    }
   ],
   "source": [
    "import datetime\n",
    "\n",
    "import numpy as np\n",
    "import pandas as pd\n",
    "\n",
    "from sklearn.feature_selection import SelectKBest\n",
    "from sklearn.feature_selection import chi2, f_regression\n",
    "import matplotlib.pyplot as plt\n",
    "import os\n",
    "\n",
    "\n",
    "\n",
    "\n",
    "\n",
    "\n",
    "store = pd.HDFStore(\"/Users/nipunbatra/Downloads/wiki-temp.h5\")\n",
    "\n",
    "a = store.keys()\n",
    "def num_from_key(key):\n",
    "    return int(key[1:])\n",
    "\n",
    "def key_from_num(num):\n",
    "    return \"/\"+str(num)\n",
    "\n",
    "\n",
    "ids = map(num_from_key, a)\n",
    "\n",
    "cols = ['house_square_feet', \"total_annual_income\", \"number_floors\",'sex_males', 'sex_females', 'house_num_rooms', 'year_house_constructed']\n",
    "from copy import deepcopy\n",
    "cols_plus_data_id = deepcopy(cols)\n",
    "cols_plus_data_id.insert(0, \"dataid\")"
   ]
  },
  {
   "cell_type": "code",
   "execution_count": 2,
   "metadata": {
    "collapsed": false
   },
   "outputs": [],
   "source": [
    "ds_path = \"/Users/nipunbatra/wikienergy-2013_ipsn.h5\""
   ]
  },
  {
   "cell_type": "code",
   "execution_count": 3,
   "metadata": {
    "collapsed": true
   },
   "outputs": [],
   "source": [
    "from nilmtk import *"
   ]
  },
  {
   "cell_type": "code",
   "execution_count": 4,
   "metadata": {
    "collapsed": false
   },
   "outputs": [],
   "source": [
    "ds = DataSet(ds_path)"
   ]
  },
  {
   "cell_type": "code",
   "execution_count": 5,
   "metadata": {
    "collapsed": false
   },
   "outputs": [],
   "source": [
    "original_name_dict = {b.metadata['original_name']:b.identifier.instance for b in ds.buildings.values()}\n",
    "original_name_map = pd.Series(original_name_dict)\n",
    "reverse_name_map = pd.Series({v:k for k,v in original_name_dict.iteritems() })"
   ]
  },
  {
   "cell_type": "code",
   "execution_count": 6,
   "metadata": {
    "collapsed": false
   },
   "outputs": [
    {
     "data": {
      "text/plain": [
       "1"
      ]
     },
     "execution_count": 6,
     "metadata": {},
     "output_type": "execute_result"
    }
   ],
   "source": [
    "original_name_map[94]"
   ]
  },
  {
   "cell_type": "code",
   "execution_count": 7,
   "metadata": {
    "collapsed": true
   },
   "outputs": [],
   "source": [
    "train = DataSet(ds_path)\n",
    "test = DataSet(ds_path)"
   ]
  },
  {
   "cell_type": "code",
   "execution_count": 8,
   "metadata": {
    "collapsed": true
   },
   "outputs": [],
   "source": [
    "from nilmtk.disaggregate import FHMM"
   ]
  },
  {
   "cell_type": "code",
   "execution_count": 9,
   "metadata": {
    "collapsed": true
   },
   "outputs": [],
   "source": [
    "def find_specific_appliance(appliance_name, appliance_instance, list_of_elecs):\n",
    "    for elec_name in list_of_elecs:\n",
    "        appl = elec_name.appliances[0]\n",
    "        if (appl.identifier.type, appl.identifier.instance) == (appliance_name, appliance_instance):\n",
    "            return elec_name"
   ]
  },
  {
   "cell_type": "code",
   "execution_count": 10,
   "metadata": {
    "collapsed": true
   },
   "outputs": [],
   "source": [
    "import datetime\n",
    "\n",
    "import numpy as np\n",
    "import pandas as pd\n",
    "\n",
    "from sklearn.feature_selection import SelectKBest\n",
    "from sklearn.feature_selection import chi2, f_regression\n",
    "import matplotlib.pyplot as plt\n",
    "import os\n",
    "\n",
    "#START, STOP = '2013-07-01', '2013-07-31'\n",
    "\n",
    "\n",
    "from nilmtk.disaggregate.hart_85 import *\n",
    "from nilmtk.feature_detectors.steady_states import *\n",
    "\n",
    "\n",
    "\n",
    "store = pd.HDFStore(\"/Users/nipunbatra/Downloads/wiki-temp.h5\")\n",
    "\n",
    "a = store.keys()\n",
    "def num_from_key(key):\n",
    "    return int(key[1:])\n",
    "\n",
    "def key_from_num(num):\n",
    "    return \"/\"+str(num)\n",
    "\n",
    "\n",
    "\n",
    "dw_homes = [  94,  370,  545,  624, 1697, 2156, 2242, 2470, 2814, 2829, 3367,\n",
    "            3723, 3967, 4031, 4767, 4957, 5357, 6072, 6121, 6139, 6636, 6910,\n",
    "            7769, 7800, 9934]\n",
    "\n",
    "\n",
    "\n",
    "\n",
    "\n",
    "from nilmtk import *\n",
    "ds_path = \"/Users/nipunbatra/wikienergy-2013_ipsn.h5\"\n",
    "\n",
    "ds = DataSet(ds_path)\n",
    "\n",
    "original_name_dict = {b.metadata['original_name']:b.identifier.instance for b in ds.buildings.values()}\n",
    "original_name_map = pd.Series(original_name_dict)\n",
    "reverse_name_map = pd.Series({v:k for k,v in original_name_dict.iteritems() })\n",
    "\n",
    "train = DataSet(ds_path)\n",
    "test = DataSet(ds_path)\n",
    "\n",
    "\n",
    "\n",
    "from nilmtk.disaggregate import FHMM\n",
    "\n",
    "def find_specific_appliance(appliance_name, appliance_instance, list_of_elecs):\n",
    "    for elec_name in list_of_elecs:\n",
    "        appl = elec_name.appliances[0]\n",
    "        if (appl.identifier.type, appl.identifier.instance) == (appliance_name, appliance_instance):\n",
    "            return elec_name\n",
    "\n"
   ]
  },
  {
   "cell_type": "code",
   "execution_count": 11,
   "metadata": {
    "collapsed": true
   },
   "outputs": [],
   "source": [
    "out = {}\n",
    "\n",
    "months_start_stop = {\n",
    "    1: ('2013-01-01', '2013-01-31'),\n",
    "    2: ('2013-02-01', '2013-02-28'),\n",
    "    3: ('2013-03-01', '2013-03-31'),\n",
    "    4: ('2013-04-01', '2013-04-30'),\n",
    "    5: ('2013-05-01', '2013-05-31'),\n",
    "    6: ('2013-06-01', '2013-06-30'),\n",
    "    7: ('2013-07-01', '2013-07-31'),\n",
    "    8: ('2013-08-01', '2013-08-31'),\n",
    "    9: ('2013-09-01', '2013-09-30'),\n",
    "    10: ('2013-10-01', '2013-10-31'),\n",
    "    11: ('2013-11-01', '2013-11-30'),\n",
    "    12: ('2013-12-01', '2013-12-31')\n",
    "}"
   ]
  },
  {
   "cell_type": "code",
   "execution_count": 12,
   "metadata": {
    "collapsed": true
   },
   "outputs": [],
   "source": [
    "train = DataSet(ds_path)\n",
    "train.set_window(start=\"2013-01-01\", end=\"2013-01-30\")\n",
    "fhmm_out = {}\n",
    "hart_out = {}"
   ]
  },
  {
   "cell_type": "code",
   "execution_count": 24,
   "metadata": {
    "collapsed": false
   },
   "outputs": [],
   "source": [
    "\n",
    "for id_home in dw_homes[:]:\n",
    "    if id_home in fhmm_out or id_home in hart_out:\n",
    "        continue\n",
    "    \n",
    "    fhmm_out[id_home] = {}\n",
    "    hart_out[id_home] = {}\n",
    "\n",
    "\n",
    "\n",
    "    # Train on Hart\n",
    "    train_power_df = store[key_from_num(id_home)][\"2013-07-01\":\"2013-07-15\"]['use']\n",
    "    train_overall_survey_df = store[key_from_num(id_home)][\"2013-07-01\":\"2013-07-15\"]\n",
    "    hvac_df = train_overall_survey_df['dishwasher1']\n",
    "    \n",
    "    \"\"\"\n",
    "    ss_total, tr_total = find_steady_states(pd.DataFrame({\"power\":train_power_df}))\n",
    "\n",
    "    from nilmtk.disaggregate import Hart85\n",
    "    from nilmtk.disaggregate.hart_85 import hart85_means_shift_cluster\n",
    "    from nilmtk.disaggregate import FHMM\n",
    "    \n",
    "    h = Hart85()\n",
    "    h.transients = deepcopy(tr_total)\n",
    "    pair_df = h.pair(buffer_size=20,\n",
    "      min_tolerance=100, percent_tolerance=0.035,\n",
    "      large_transition=1000)\n",
    "    h.centroids = hart85_means_shift_cluster(pair_df, cols=[('power','active')])\n",
    "    d = (h.centroids - hvac_df[hvac_df>1000].mean()).abs()\n",
    "    ac_num = d[('power','active')].argmin()\n",
    "    ac_identifier_tuple = ('unknown', ac_num)\n",
    "    \"\"\"\n",
    "\n",
    "    # Train FHMM\n",
    "    b_id = original_name_map[id_home]\n",
    "    train_elec = train.buildings[b_id].elec\n",
    "\n",
    "    top_5_train_elec = train_elec.submeters().select_top_k(k=4)\n",
    "    hvac_elec_train = train_elec[('dish washer', 1)]\n",
    "    if hvac_elec_train not in top_5_train_elec.meters:\n",
    "        top_5_train_elec.meters.append(hvac_elec_train)\n",
    "    fhmm = FHMM()\n",
    "    fhmm.train(top_5_train_elec)\n",
    "    ac_instance=1\n",
    "    \n",
    "    \n",
    "    for month in range(1, 13):\n",
    "        print \"*\"*80\n",
    "        print month\n",
    "        print \"*\"*80\n",
    "        test = DataSet(ds_path)\n",
    "        test.set_window(start=months_start_stop[month][0], end=months_start_stop[month][1])\n",
    "        print id_home\n",
    "        print \"--\"*80\n",
    "        try:\n",
    "            \n",
    "            overall_survey_df = store[key_from_num(id_home)][months_start_stop[month][0]:months_start_stop[month][1]]\n",
    "            power_df = overall_survey_df['use']\n",
    "\n",
    "\n",
    "            \n",
    "\n",
    "            if power_df.sum()>0 and hvac_df.sum()>0:\n",
    "                pdf = pd.DataFrame({\"power\":power_df})\n",
    "\n",
    "                \n",
    "                #pred_df_ac_hart = h.disaggregate_chunk(pdf, {}, h.transients)[[ac_num]].squeeze()\n",
    "                \n",
    "\n",
    "                \n",
    "\n",
    "\n",
    "                \n",
    "                test_elec = test.buildings[b_id].elec\n",
    "                test_mains = test_elec.mains()\n",
    "                test_mains_df = test_mains.load().next()\n",
    "                ac_elec_train = train_elec[('dish washer', 1)]\n",
    "                ac_elec_test = test_elec[('dish washer', 1)]\n",
    "                \n",
    "                pred_df_fhmm = fhmm.disaggregate_chunk(test_mains_df)\n",
    "                pred_df_ac_fhmm = pred_df_fhmm[[find_specific_appliance('dish washer',\n",
    "                                                                  ac_instance,\n",
    "                                                                  pred_df_fhmm.columns.tolist())]]\n",
    "                pred_ser_ac = pred_df_ac_fhmm.squeeze()\n",
    "                pred_ser_ac.name = \"FHMM\"\n",
    "\n",
    "                fhmm_out[id_home][month] = pred_ser_ac.sum()\n",
    "                #hart_out[id_home][month] = pred_df_ac_hart.sum()\n",
    "               \n",
    "\n",
    "\n",
    "\n",
    "\n",
    "\n",
    "        except Exception, e:\n",
    "            print e, e.message\n",
    "            pass\n",
    "\n",
    "\n",
    "    #pred_df = pd.DataFrame(out)\n"
   ]
  },
  {
   "cell_type": "code",
   "execution_count": 14,
   "metadata": {
    "collapsed": false
   },
   "outputs": [
    {
     "data": {
      "text/html": [
       "<div>\n",
       "<table border=\"1\" class=\"dataframe\">\n",
       "  <thead>\n",
       "    <tr>\n",
       "      <th></th>\n",
       "      <th>power</th>\n",
       "    </tr>\n",
       "    <tr>\n",
       "      <th></th>\n",
       "      <th>active</th>\n",
       "    </tr>\n",
       "  </thead>\n",
       "  <tbody>\n",
       "    <tr>\n",
       "      <th>count</th>\n",
       "      <td>41760.000000</td>\n",
       "    </tr>\n",
       "    <tr>\n",
       "      <th>mean</th>\n",
       "      <td>6.976389</td>\n",
       "    </tr>\n",
       "    <tr>\n",
       "      <th>std</th>\n",
       "      <td>92.604973</td>\n",
       "    </tr>\n",
       "    <tr>\n",
       "      <th>min</th>\n",
       "      <td>0.000000</td>\n",
       "    </tr>\n",
       "    <tr>\n",
       "      <th>25%</th>\n",
       "      <td>0.000000</td>\n",
       "    </tr>\n",
       "    <tr>\n",
       "      <th>50%</th>\n",
       "      <td>0.000000</td>\n",
       "    </tr>\n",
       "    <tr>\n",
       "      <th>75%</th>\n",
       "      <td>0.000000</td>\n",
       "    </tr>\n",
       "    <tr>\n",
       "      <th>max</th>\n",
       "      <td>1394.000000</td>\n",
       "    </tr>\n",
       "  </tbody>\n",
       "</table>\n",
       "</div>"
      ],
      "text/plain": [
       "              power\n",
       "             active\n",
       "count  41760.000000\n",
       "mean       6.976389\n",
       "std       92.604973\n",
       "min        0.000000\n",
       "25%        0.000000\n",
       "50%        0.000000\n",
       "75%        0.000000\n",
       "max     1394.000000"
      ]
     },
     "execution_count": 14,
     "metadata": {},
     "output_type": "execute_result"
    }
   ],
   "source": [
    "train_elec['dish washer'].load().next().describe()"
   ]
  },
  {
   "cell_type": "code",
   "execution_count": 24,
   "metadata": {
    "collapsed": false
   },
   "outputs": [
    {
     "data": {
      "text/plain": [
       "[Appliance(type='fridge', instance=1),\n",
       " Appliance(type='dish washer', instance=1),\n",
       " Appliance(type='washing machine', instance=1),\n",
       " Appliance(type='spin dryer', instance=1),\n",
       " Appliance(type='electric furnace', instance=1),\n",
       " Appliance(type='sockets', instance=1),\n",
       " Appliance(type='waste disposal unit', instance=1),\n",
       " Appliance(type='air conditioner', instance=1)]"
      ]
     },
     "execution_count": 24,
     "metadata": {},
     "output_type": "execute_result"
    }
   ],
   "source": [
    "train_elec.appliances"
   ]
  },
  {
   "cell_type": "code",
   "execution_count": 27,
   "metadata": {
    "collapsed": false
   },
   "outputs": [
    {
     "data": {
      "text/html": [
       "<div>\n",
       "<table border=\"1\" class=\"dataframe\">\n",
       "  <thead>\n",
       "    <tr style=\"text-align: right;\">\n",
       "      <th></th>\n",
       "      <th>1</th>\n",
       "      <th>2</th>\n",
       "      <th>3</th>\n",
       "      <th>4</th>\n",
       "      <th>5</th>\n",
       "      <th>6</th>\n",
       "      <th>7</th>\n",
       "      <th>8</th>\n",
       "      <th>9</th>\n",
       "      <th>10</th>\n",
       "      <th>11</th>\n",
       "      <th>12</th>\n",
       "    </tr>\n",
       "  </thead>\n",
       "  <tbody>\n",
       "    <tr>\n",
       "      <th>94</th>\n",
       "      <td>97.381134</td>\n",
       "      <td>33.734732</td>\n",
       "      <td>31.081321</td>\n",
       "      <td>31.044686</td>\n",
       "      <td>40.068014</td>\n",
       "      <td>55.573561</td>\n",
       "      <td>63.476130</td>\n",
       "      <td>36.880395</td>\n",
       "      <td>57.389858</td>\n",
       "      <td>31.931440</td>\n",
       "      <td>36.151333</td>\n",
       "      <td>35.866481</td>\n",
       "    </tr>\n",
       "    <tr>\n",
       "      <th>370</th>\n",
       "      <td>273.949798</td>\n",
       "      <td>209.701970</td>\n",
       "      <td>195.245816</td>\n",
       "      <td>229.351692</td>\n",
       "      <td>288.552390</td>\n",
       "      <td>258.018894</td>\n",
       "      <td>199.381338</td>\n",
       "      <td>266.330908</td>\n",
       "      <td>258.719498</td>\n",
       "      <td>227.027758</td>\n",
       "      <td>249.113274</td>\n",
       "      <td>198.848082</td>\n",
       "    </tr>\n",
       "    <tr>\n",
       "      <th>624</th>\n",
       "      <td>43.286046</td>\n",
       "      <td>11.703361</td>\n",
       "      <td>11.332506</td>\n",
       "      <td>11.958123</td>\n",
       "      <td>20.069231</td>\n",
       "      <td>54.184984</td>\n",
       "      <td>82.965066</td>\n",
       "      <td>74.823528</td>\n",
       "      <td>51.752437</td>\n",
       "      <td>25.461512</td>\n",
       "      <td>34.333999</td>\n",
       "      <td>85.830569</td>\n",
       "    </tr>\n",
       "    <tr>\n",
       "      <th>2156</th>\n",
       "      <td>115.725868</td>\n",
       "      <td>104.527169</td>\n",
       "      <td>117.949077</td>\n",
       "      <td>118.723648</td>\n",
       "      <td>121.387463</td>\n",
       "      <td>112.013952</td>\n",
       "      <td>116.799061</td>\n",
       "      <td>116.102945</td>\n",
       "      <td>119.261681</td>\n",
       "      <td>122.057637</td>\n",
       "      <td>114.051045</td>\n",
       "      <td>107.154145</td>\n",
       "    </tr>\n",
       "    <tr>\n",
       "      <th>2242</th>\n",
       "      <td>265.915564</td>\n",
       "      <td>163.513582</td>\n",
       "      <td>198.229928</td>\n",
       "      <td>201.909918</td>\n",
       "      <td>265.775688</td>\n",
       "      <td>467.641678</td>\n",
       "      <td>419.480202</td>\n",
       "      <td>452.413622</td>\n",
       "      <td>333.016876</td>\n",
       "      <td>182.467358</td>\n",
       "      <td>201.779698</td>\n",
       "      <td>270.367932</td>\n",
       "    </tr>\n",
       "    <tr>\n",
       "      <th>2470</th>\n",
       "      <td>9.606683</td>\n",
       "      <td>8.417788</td>\n",
       "      <td>8.781996</td>\n",
       "      <td>8.745310</td>\n",
       "      <td>9.268349</td>\n",
       "      <td>8.978601</td>\n",
       "      <td>9.091770</td>\n",
       "      <td>8.834662</td>\n",
       "      <td>8.232573</td>\n",
       "      <td>8.937325</td>\n",
       "      <td>8.633824</td>\n",
       "      <td>9.957733</td>\n",
       "    </tr>\n",
       "    <tr>\n",
       "      <th>2814</th>\n",
       "      <td>148.267353</td>\n",
       "      <td>129.695533</td>\n",
       "      <td>171.381777</td>\n",
       "      <td>183.457778</td>\n",
       "      <td>208.985250</td>\n",
       "      <td>266.176837</td>\n",
       "      <td>278.736420</td>\n",
       "      <td>275.527585</td>\n",
       "      <td>226.909999</td>\n",
       "      <td>193.807157</td>\n",
       "      <td>173.414433</td>\n",
       "      <td>209.218796</td>\n",
       "    </tr>\n",
       "    <tr>\n",
       "      <th>3367</th>\n",
       "      <td>0.000000</td>\n",
       "      <td>0.000000</td>\n",
       "      <td>0.000000</td>\n",
       "      <td>0.000000</td>\n",
       "      <td>0.000000</td>\n",
       "      <td>0.000000</td>\n",
       "      <td>0.000000</td>\n",
       "      <td>0.000000</td>\n",
       "      <td>0.000000</td>\n",
       "      <td>0.000000</td>\n",
       "      <td>0.000000</td>\n",
       "      <td>0.000000</td>\n",
       "    </tr>\n",
       "    <tr>\n",
       "      <th>3723</th>\n",
       "      <td>45.532800</td>\n",
       "      <td>40.979520</td>\n",
       "      <td>45.468506</td>\n",
       "      <td>44.015040</td>\n",
       "      <td>45.532800</td>\n",
       "      <td>44.015040</td>\n",
       "      <td>45.532800</td>\n",
       "      <td>45.532800</td>\n",
       "      <td>44.015040</td>\n",
       "      <td>45.532800</td>\n",
       "      <td>43.950746</td>\n",
       "      <td>45.532800</td>\n",
       "    </tr>\n",
       "    <tr>\n",
       "      <th>3967</th>\n",
       "      <td>18.126488</td>\n",
       "      <td>16.528352</td>\n",
       "      <td>16.362330</td>\n",
       "      <td>16.455949</td>\n",
       "      <td>15.529143</td>\n",
       "      <td>15.443123</td>\n",
       "      <td>15.291551</td>\n",
       "      <td>16.897473</td>\n",
       "      <td>15.364923</td>\n",
       "      <td>15.019143</td>\n",
       "      <td>13.427144</td>\n",
       "      <td>16.648355</td>\n",
       "    </tr>\n",
       "    <tr>\n",
       "      <th>4767</th>\n",
       "      <td>0.000000</td>\n",
       "      <td>0.000000</td>\n",
       "      <td>0.000000</td>\n",
       "      <td>81.035923</td>\n",
       "      <td>126.027834</td>\n",
       "      <td>155.484873</td>\n",
       "      <td>179.683506</td>\n",
       "      <td>197.307644</td>\n",
       "      <td>159.578507</td>\n",
       "      <td>216.334435</td>\n",
       "      <td>143.586097</td>\n",
       "      <td>185.213385</td>\n",
       "    </tr>\n",
       "    <tr>\n",
       "      <th>5357</th>\n",
       "      <td>326.255296</td>\n",
       "      <td>268.816172</td>\n",
       "      <td>287.915468</td>\n",
       "      <td>310.472428</td>\n",
       "      <td>254.887800</td>\n",
       "      <td>274.069988</td>\n",
       "      <td>308.246448</td>\n",
       "      <td>304.339168</td>\n",
       "      <td>307.487228</td>\n",
       "      <td>292.033208</td>\n",
       "      <td>288.176588</td>\n",
       "      <td>312.790412</td>\n",
       "    </tr>\n",
       "    <tr>\n",
       "      <th>7769</th>\n",
       "      <td>52.863421</td>\n",
       "      <td>37.522774</td>\n",
       "      <td>39.815785</td>\n",
       "      <td>44.012949</td>\n",
       "      <td>86.296658</td>\n",
       "      <td>131.243570</td>\n",
       "      <td>125.199730</td>\n",
       "      <td>134.330940</td>\n",
       "      <td>125.229769</td>\n",
       "      <td>59.724247</td>\n",
       "      <td>37.467626</td>\n",
       "      <td>51.127143</td>\n",
       "    </tr>\n",
       "  </tbody>\n",
       "</table>\n",
       "</div>"
      ],
      "text/plain": [
       "              1           2           3           4           5           6   \\\n",
       "94     97.381134   33.734732   31.081321   31.044686   40.068014   55.573561   \n",
       "370   273.949798  209.701970  195.245816  229.351692  288.552390  258.018894   \n",
       "624    43.286046   11.703361   11.332506   11.958123   20.069231   54.184984   \n",
       "2156  115.725868  104.527169  117.949077  118.723648  121.387463  112.013952   \n",
       "2242  265.915564  163.513582  198.229928  201.909918  265.775688  467.641678   \n",
       "2470    9.606683    8.417788    8.781996    8.745310    9.268349    8.978601   \n",
       "2814  148.267353  129.695533  171.381777  183.457778  208.985250  266.176837   \n",
       "3367    0.000000    0.000000    0.000000    0.000000    0.000000    0.000000   \n",
       "3723   45.532800   40.979520   45.468506   44.015040   45.532800   44.015040   \n",
       "3967   18.126488   16.528352   16.362330   16.455949   15.529143   15.443123   \n",
       "4767    0.000000    0.000000    0.000000   81.035923  126.027834  155.484873   \n",
       "5357  326.255296  268.816172  287.915468  310.472428  254.887800  274.069988   \n",
       "7769   52.863421   37.522774   39.815785   44.012949   86.296658  131.243570   \n",
       "\n",
       "              7           8           9           10          11          12  \n",
       "94     63.476130   36.880395   57.389858   31.931440   36.151333   35.866481  \n",
       "370   199.381338  266.330908  258.719498  227.027758  249.113274  198.848082  \n",
       "624    82.965066   74.823528   51.752437   25.461512   34.333999   85.830569  \n",
       "2156  116.799061  116.102945  119.261681  122.057637  114.051045  107.154145  \n",
       "2242  419.480202  452.413622  333.016876  182.467358  201.779698  270.367932  \n",
       "2470    9.091770    8.834662    8.232573    8.937325    8.633824    9.957733  \n",
       "2814  278.736420  275.527585  226.909999  193.807157  173.414433  209.218796  \n",
       "3367    0.000000    0.000000    0.000000    0.000000    0.000000    0.000000  \n",
       "3723   45.532800   45.532800   44.015040   45.532800   43.950746   45.532800  \n",
       "3967   15.291551   16.897473   15.364923   15.019143   13.427144   16.648355  \n",
       "4767  179.683506  197.307644  159.578507  216.334435  143.586097  185.213385  \n",
       "5357  308.246448  304.339168  307.487228  292.033208  288.176588  312.790412  \n",
       "7769  125.199730  134.330940  125.229769   59.724247   37.467626   51.127143  "
      ]
     },
     "execution_count": 27,
     "metadata": {},
     "output_type": "execute_result"
    }
   ],
   "source": [
    "pd.DataFrame(fhmm_out).T.mul(.000017).dropna()"
   ]
  },
  {
   "cell_type": "code",
   "execution_count": 28,
   "metadata": {
    "collapsed": false
   },
   "outputs": [],
   "source": [
    "pd.DataFrame(fhmm_out).T.mul(.000017).dropna().to_csv(\"/Users/nipunbatra/git/monthly-disaggregation/fhmm_disag_dw.csv\")\n",
    "#pd.DataFrame(hart_out).T"
   ]
  },
  {
   "cell_type": "code",
   "execution_count": 29,
   "metadata": {
    "collapsed": false
   },
   "outputs": [],
   "source": [
    "df_dw = pd.DataFrame(fhmm_out).T.mul(.000017)"
   ]
  },
  {
   "cell_type": "code",
   "execution_count": 32,
   "metadata": {
    "collapsed": false
   },
   "outputs": [],
   "source": [
    "df_dw = df_dw.dropna()"
   ]
  },
  {
   "cell_type": "code",
   "execution_count": 34,
   "metadata": {
    "collapsed": true
   },
   "outputs": [],
   "source": [
    "df = pd.read_csv(\"../main_df.csv\", index_col=0)"
   ]
  },
  {
   "cell_type": "code",
   "execution_count": 40,
   "metadata": {
    "collapsed": false
   },
   "outputs": [],
   "source": [
    "gt_dw = df.ix[df_dw.index][['dw_%d' %i for i in range(1, 13)]].T"
   ]
  },
  {
   "cell_type": "code",
   "execution_count": 42,
   "metadata": {
    "collapsed": false
   },
   "outputs": [],
   "source": [
    "gt_dw.index = range(1,13)"
   ]
  },
  {
   "cell_type": "code",
   "execution_count": 44,
   "metadata": {
    "collapsed": false
   },
   "outputs": [
    {
     "data": {
      "text/html": [
       "<div>\n",
       "<table border=\"1\" class=\"dataframe\">\n",
       "  <thead>\n",
       "    <tr style=\"text-align: right;\">\n",
       "      <th></th>\n",
       "      <th>94</th>\n",
       "      <th>370</th>\n",
       "      <th>624</th>\n",
       "      <th>2156</th>\n",
       "      <th>2242</th>\n",
       "      <th>2470</th>\n",
       "      <th>2814</th>\n",
       "      <th>3367</th>\n",
       "      <th>3723</th>\n",
       "      <th>3967</th>\n",
       "      <th>4767</th>\n",
       "      <th>5357</th>\n",
       "      <th>7769</th>\n",
       "    </tr>\n",
       "  </thead>\n",
       "  <tbody>\n",
       "    <tr>\n",
       "      <th>1</th>\n",
       "      <td>4.952780</td>\n",
       "      <td>17.213707</td>\n",
       "      <td>22.189878</td>\n",
       "      <td>4.201601</td>\n",
       "      <td>25.609072</td>\n",
       "      <td>0.012835</td>\n",
       "      <td>13.460243</td>\n",
       "      <td>0.090423</td>\n",
       "      <td>47.050560</td>\n",
       "      <td>0.089641</td>\n",
       "      <td>9.560256</td>\n",
       "      <td>17.411774</td>\n",
       "      <td>7.622239</td>\n",
       "    </tr>\n",
       "    <tr>\n",
       "      <th>2</th>\n",
       "      <td>1.057893</td>\n",
       "      <td>20.517046</td>\n",
       "      <td>21.830500</td>\n",
       "      <td>2.965667</td>\n",
       "      <td>16.899548</td>\n",
       "      <td>0.018445</td>\n",
       "      <td>10.403151</td>\n",
       "      <td>0.049351</td>\n",
       "      <td>42.497280</td>\n",
       "      <td>0.070652</td>\n",
       "      <td>5.350920</td>\n",
       "      <td>18.347319</td>\n",
       "      <td>6.115223</td>\n",
       "    </tr>\n",
       "    <tr>\n",
       "      <th>3</th>\n",
       "      <td>1.950852</td>\n",
       "      <td>15.906662</td>\n",
       "      <td>18.257030</td>\n",
       "      <td>6.010877</td>\n",
       "      <td>23.375969</td>\n",
       "      <td>0.017663</td>\n",
       "      <td>18.655682</td>\n",
       "      <td>0.064906</td>\n",
       "      <td>46.986267</td>\n",
       "      <td>0.097257</td>\n",
       "      <td>7.360626</td>\n",
       "      <td>19.521049</td>\n",
       "      <td>7.295720</td>\n",
       "    </tr>\n",
       "    <tr>\n",
       "      <th>4</th>\n",
       "      <td>3.959691</td>\n",
       "      <td>12.860926</td>\n",
       "      <td>22.835896</td>\n",
       "      <td>3.437706</td>\n",
       "      <td>16.558443</td>\n",
       "      <td>0.018819</td>\n",
       "      <td>11.837610</td>\n",
       "      <td>0.086241</td>\n",
       "      <td>45.532803</td>\n",
       "      <td>0.072743</td>\n",
       "      <td>5.700151</td>\n",
       "      <td>18.193995</td>\n",
       "      <td>6.182985</td>\n",
       "    </tr>\n",
       "    <tr>\n",
       "      <th>5</th>\n",
       "      <td>4.389723</td>\n",
       "      <td>26.143587</td>\n",
       "      <td>20.888189</td>\n",
       "      <td>3.560072</td>\n",
       "      <td>19.654873</td>\n",
       "      <td>0.012189</td>\n",
       "      <td>11.864521</td>\n",
       "      <td>0.244341</td>\n",
       "      <td>35.810143</td>\n",
       "      <td>0.048807</td>\n",
       "      <td>9.052568</td>\n",
       "      <td>16.497515</td>\n",
       "      <td>6.195429</td>\n",
       "    </tr>\n",
       "  </tbody>\n",
       "</table>\n",
       "</div>"
      ],
      "text/plain": [
       "       94         370        624       2156       2242      2470       2814  \\\n",
       "1  4.952780  17.213707  22.189878  4.201601  25.609072  0.012835  13.460243   \n",
       "2  1.057893  20.517046  21.830500  2.965667  16.899548  0.018445  10.403151   \n",
       "3  1.950852  15.906662  18.257030  6.010877  23.375969  0.017663  18.655682   \n",
       "4  3.959691  12.860926  22.835896  3.437706  16.558443  0.018819  11.837610   \n",
       "5  4.389723  26.143587  20.888189  3.560072  19.654873  0.012189  11.864521   \n",
       "\n",
       "       3367       3723      3967      4767       5357      7769  \n",
       "1  0.090423  47.050560  0.089641  9.560256  17.411774  7.622239  \n",
       "2  0.049351  42.497280  0.070652  5.350920  18.347319  6.115223  \n",
       "3  0.064906  46.986267  0.097257  7.360626  19.521049  7.295720  \n",
       "4  0.086241  45.532803  0.072743  5.700151  18.193995  6.182985  \n",
       "5  0.244341  35.810143  0.048807  9.052568  16.497515  6.195429  "
      ]
     },
     "execution_count": 44,
     "metadata": {},
     "output_type": "execute_result"
    }
   ],
   "source": [
    "gt_dw.head()"
   ]
  },
  {
   "cell_type": "code",
   "execution_count": 46,
   "metadata": {
    "collapsed": false
   },
   "outputs": [],
   "source": [
    "df_dw = df_dw.T"
   ]
  },
  {
   "cell_type": "code",
   "execution_count": 47,
   "metadata": {
    "collapsed": false
   },
   "outputs": [
    {
     "data": {
      "text/html": [
       "<div>\n",
       "<table border=\"1\" class=\"dataframe\">\n",
       "  <thead>\n",
       "    <tr style=\"text-align: right;\">\n",
       "      <th></th>\n",
       "      <th>94</th>\n",
       "      <th>370</th>\n",
       "      <th>624</th>\n",
       "      <th>2156</th>\n",
       "      <th>2242</th>\n",
       "      <th>2470</th>\n",
       "      <th>2814</th>\n",
       "      <th>3367</th>\n",
       "      <th>3723</th>\n",
       "      <th>3967</th>\n",
       "      <th>4767</th>\n",
       "      <th>5357</th>\n",
       "      <th>7769</th>\n",
       "    </tr>\n",
       "  </thead>\n",
       "  <tbody>\n",
       "    <tr>\n",
       "      <th>1</th>\n",
       "      <td>97.381134</td>\n",
       "      <td>273.949798</td>\n",
       "      <td>43.286046</td>\n",
       "      <td>115.725868</td>\n",
       "      <td>265.915564</td>\n",
       "      <td>9.606683</td>\n",
       "      <td>148.267353</td>\n",
       "      <td>0</td>\n",
       "      <td>45.532800</td>\n",
       "      <td>18.126488</td>\n",
       "      <td>0.000000</td>\n",
       "      <td>326.255296</td>\n",
       "      <td>52.863421</td>\n",
       "    </tr>\n",
       "    <tr>\n",
       "      <th>2</th>\n",
       "      <td>33.734732</td>\n",
       "      <td>209.701970</td>\n",
       "      <td>11.703361</td>\n",
       "      <td>104.527169</td>\n",
       "      <td>163.513582</td>\n",
       "      <td>8.417788</td>\n",
       "      <td>129.695533</td>\n",
       "      <td>0</td>\n",
       "      <td>40.979520</td>\n",
       "      <td>16.528352</td>\n",
       "      <td>0.000000</td>\n",
       "      <td>268.816172</td>\n",
       "      <td>37.522774</td>\n",
       "    </tr>\n",
       "    <tr>\n",
       "      <th>3</th>\n",
       "      <td>31.081321</td>\n",
       "      <td>195.245816</td>\n",
       "      <td>11.332506</td>\n",
       "      <td>117.949077</td>\n",
       "      <td>198.229928</td>\n",
       "      <td>8.781996</td>\n",
       "      <td>171.381777</td>\n",
       "      <td>0</td>\n",
       "      <td>45.468506</td>\n",
       "      <td>16.362330</td>\n",
       "      <td>0.000000</td>\n",
       "      <td>287.915468</td>\n",
       "      <td>39.815785</td>\n",
       "    </tr>\n",
       "    <tr>\n",
       "      <th>4</th>\n",
       "      <td>31.044686</td>\n",
       "      <td>229.351692</td>\n",
       "      <td>11.958123</td>\n",
       "      <td>118.723648</td>\n",
       "      <td>201.909918</td>\n",
       "      <td>8.745310</td>\n",
       "      <td>183.457778</td>\n",
       "      <td>0</td>\n",
       "      <td>44.015040</td>\n",
       "      <td>16.455949</td>\n",
       "      <td>81.035923</td>\n",
       "      <td>310.472428</td>\n",
       "      <td>44.012949</td>\n",
       "    </tr>\n",
       "    <tr>\n",
       "      <th>5</th>\n",
       "      <td>40.068014</td>\n",
       "      <td>288.552390</td>\n",
       "      <td>20.069231</td>\n",
       "      <td>121.387463</td>\n",
       "      <td>265.775688</td>\n",
       "      <td>9.268349</td>\n",
       "      <td>208.985250</td>\n",
       "      <td>0</td>\n",
       "      <td>45.532800</td>\n",
       "      <td>15.529143</td>\n",
       "      <td>126.027834</td>\n",
       "      <td>254.887800</td>\n",
       "      <td>86.296658</td>\n",
       "    </tr>\n",
       "  </tbody>\n",
       "</table>\n",
       "</div>"
      ],
      "text/plain": [
       "        94          370        624         2156        2242      2470  \\\n",
       "1  97.381134  273.949798  43.286046  115.725868  265.915564  9.606683   \n",
       "2  33.734732  209.701970  11.703361  104.527169  163.513582  8.417788   \n",
       "3  31.081321  195.245816  11.332506  117.949077  198.229928  8.781996   \n",
       "4  31.044686  229.351692  11.958123  118.723648  201.909918  8.745310   \n",
       "5  40.068014  288.552390  20.069231  121.387463  265.775688  9.268349   \n",
       "\n",
       "         2814  3367       3723       3967        4767        5357       7769  \n",
       "1  148.267353     0  45.532800  18.126488    0.000000  326.255296  52.863421  \n",
       "2  129.695533     0  40.979520  16.528352    0.000000  268.816172  37.522774  \n",
       "3  171.381777     0  45.468506  16.362330    0.000000  287.915468  39.815785  \n",
       "4  183.457778     0  44.015040  16.455949   81.035923  310.472428  44.012949  \n",
       "5  208.985250     0  45.532800  15.529143  126.027834  254.887800  86.296658  "
      ]
     },
     "execution_count": 47,
     "metadata": {},
     "output_type": "execute_result"
    }
   ],
   "source": [
    "df_dw.head()"
   ]
  },
  {
   "cell_type": "code",
   "execution_count": 48,
   "metadata": {
    "collapsed": true
   },
   "outputs": [],
   "source": [
    "o = {}\n",
    "for month in range(1, 13):\n",
    "    temp_df = pd.DataFrame({\"pred\":df_dw.ix[month],'gt':gt_dw.ix[month]})\n",
    "    o[month] = 100*np.abs(temp_df['gt']-temp_df['pred'])/(temp_df['gt'])"
   ]
  },
  {
   "cell_type": "code",
   "execution_count": 54,
   "metadata": {
    "collapsed": false
   },
   "outputs": [
    {
     "data": {
      "text/plain": [
       "1421.8934917870881"
      ]
     },
     "execution_count": 54,
     "metadata": {},
     "output_type": "execute_result"
    }
   ],
   "source": [
    "pd.DataFrame(o).median().mean()"
   ]
  },
  {
   "cell_type": "code",
   "execution_count": null,
   "metadata": {
    "collapsed": true
   },
   "outputs": [],
   "source": []
  }
 ],
 "metadata": {
  "kernelspec": {
   "display_name": "Python 2",
   "language": "python",
   "name": "python2"
  },
  "language_info": {
   "codemirror_mode": {
    "name": "ipython",
    "version": 2
   },
   "file_extension": ".py",
   "mimetype": "text/x-python",
   "name": "python",
   "nbconvert_exporter": "python",
   "pygments_lexer": "ipython2",
   "version": "2.7.10"
  }
 },
 "nbformat": 4,
 "nbformat_minor": 0
}
