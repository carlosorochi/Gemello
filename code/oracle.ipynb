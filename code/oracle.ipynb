{
 "cells": [
  {
   "cell_type": "code",
   "execution_count": 1,
   "metadata": {
    "collapsed": false
   },
   "outputs": [
    {
     "name": "stderr",
     "output_type": "stream",
     "text": [
      "Vendor:  Continuum Analytics, Inc.\n",
      "Package: mkl\n",
      "Message: trial mode expires in 30 days\n"
     ]
    }
   ],
   "source": [
    "import pandas as pd"
   ]
  },
  {
   "cell_type": "code",
   "execution_count": 2,
   "metadata": {
    "collapsed": true
   },
   "outputs": [],
   "source": [
    "from create_df import read_df\n",
    "df, dfc, all_homes, appliance_min, national_average = read_df()"
   ]
  },
  {
   "cell_type": "code",
   "execution_count": 3,
   "metadata": {
    "collapsed": true
   },
   "outputs": [],
   "source": [
    "run all_functions.py\n"
   ]
  },
  {
   "cell_type": "code",
   "execution_count": 4,
   "metadata": {
    "collapsed": true
   },
   "outputs": [],
   "source": [
    "run features.py"
   ]
  },
  {
   "cell_type": "code",
   "execution_count": 27,
   "metadata": {
    "collapsed": false
   },
   "outputs": [
    {
     "name": "stdout",
     "output_type": "stream",
     "text": [
      "hvac\n",
      "light\n",
      "wm\n",
      "fridge\n",
      "dw\n",
      "dr\n"
     ]
    }
   ],
   "source": [
    "from itertools import combinations\n",
    "out = {}\n",
    "for appliance in [\"wm\",\"dw\",\"hvac\",\"fridge\",\"light\",\"dr\"]:\n",
    "    out[appliance] = {}\n",
    "    for home in all_homes[appliance]:\n",
    "        out[appliance][home] = {\"best_prediction_array\":{}, \"best_score\":1e7, \"optimal_subset\":{}}\n",
    "\n",
    "\n",
    "\n",
    "\n",
    "\n",
    "\n",
    "appliance_columns = {'fridge':[\"fridge_%d\" % i for i in range(1, 13)],\n",
    "                     'hvac':[\"hvac_%d\" % i for i in range(1, 13)],\n",
    "                     \"light\":[\"light_%d\" % i for i in range(1, 13)],\n",
    "                     \"dw\":[\"dw_%d\" % i for i in range(1, 13)],\n",
    "                     \"wm\":[\"wm_%d\" % i for i in range(1, 13)],\n",
    "                     \"dr\":[\"dr_%d\" % i for i in range(1, 13)]}\n",
    "\n",
    "errors_dict = {}\n",
    "for appliance in appliance_columns.keys():\n",
    "    print appliance\n",
    "    errors_dict[appliance] = {}\n",
    "    for max_length in range(1, 3):\n",
    "        errors_dict[appliance][max_length] = {}\n",
    "        all_combinations = combinations(all_homes[appliance], max_length)\n",
    "        for train_homes in all_combinations:\n",
    "\n",
    "            test_homes = np.setdiff1d(all_homes[appliance],train_homes)\n",
    "            for home in test_homes:\n",
    "                pred_home = np.mean(df.ix[list(train_homes)][appliance_columns[appliance]])\n",
    "                gt_home = df.ix[home][appliance_columns[appliance]]\n",
    "                if appliance is \"hvac\":\n",
    "                    error = np.mean(100*(gt_home-pred_home).abs().div(gt_home)[4:9])\n",
    "                else:\n",
    "                    error = np.mean(100*(gt_home-pred_home).abs().div(gt_home))\n",
    "                if error<out[appliance][home]['best_score']:\n",
    "                    if appliance is \"hvac\":\n",
    "                        errors_dict[appliance][max_length][home] = 100*(gt_home-pred_home).abs().div(gt_home)[4:9]\n",
    "                    else:\n",
    "                        errors_dict[appliance][max_length][home] = 100*(gt_home-pred_home).abs().div(gt_home)\n",
    "                    out[appliance][home]['best_score'] = error\n",
    "                    out[appliance][home]['optimal_subset'] = train_homes\n",
    "                    out[appliance][home]['best_prediction_array'] = pred_home\n",
    "\n",
    "#pd.DataFrame(errors_dict).median(axis=1).mean()\n"
   ]
  },
  {
   "cell_type": "code",
   "execution_count": 30,
   "metadata": {
    "collapsed": false
   },
   "outputs": [
    {
     "data": {
      "text/plain": [
       "{'dr': 64.885914164535222,\n",
       " 'dw': 61.017474093337341,\n",
       " 'fridge': 91.888765437104055,\n",
       " 'hvac': 93.195959529260662,\n",
       " 'light': 77.810755698772141,\n",
       " 'wm': 80.183453230991176}"
      ]
     },
     "execution_count": 30,
     "metadata": {},
     "output_type": "execute_result"
    }
   ],
   "source": [
    "(100-pd.Series({f:pd.DataFrame(errors_dict[f][2]).mean().mean() for f in appliance_columns.keys()})).to_dict()"
   ]
  },
  {
   "cell_type": "code",
   "execution_count": 34,
   "metadata": {
    "collapsed": true
   },
   "outputs": [],
   "source": [
    "%matplotlib inline\n",
    "import matplotlib.pyplot as plt"
   ]
  },
  {
   "cell_type": "code",
   "execution_count": 37,
   "metadata": {
    "collapsed": true
   },
   "outputs": [],
   "source": [
    "appliance_name_mapping = {\"dr\": \"Dryer\", \"wm\": \"Washing\\nmachine\",\n",
    "                          \"fridge\":\"Fridge\",\"light\":\"Lights\",\n",
    "                          \"hvac\":\"HVAC\",\"dw\":\"Dish\\nwasher\"}"
   ]
  },
  {
   "cell_type": "code",
   "execution_count": 41,
   "metadata": {
    "collapsed": false
   },
   "outputs": [],
   "source": [
    "sen = pd.DataFrame(out)"
   ]
  },
  {
   "cell_type": "code",
   "execution_count": 43,
   "metadata": {
    "collapsed": false
   },
   "outputs": [],
   "source": [
    "sen = sen.rename(columns=appliance_name_mapping).T"
   ]
  },
  {
   "cell_type": "code",
   "execution_count": 44,
   "metadata": {
    "collapsed": false
   },
   "outputs": [
    {
     "data": {
      "text/html": [
       "<div>\n",
       "<table border=\"1\" class=\"dataframe\">\n",
       "  <thead>\n",
       "    <tr style=\"text-align: right;\">\n",
       "      <th></th>\n",
       "      <th>All</th>\n",
       "      <th>Monthly</th>\n",
       "      <th>Monthly+Static</th>\n",
       "      <th>Static</th>\n",
       "    </tr>\n",
       "  </thead>\n",
       "  <tbody>\n",
       "    <tr>\n",
       "      <th>Dryer</th>\n",
       "      <td>41.500556</td>\n",
       "      <td>39.344495</td>\n",
       "      <td>41.720212</td>\n",
       "      <td>38.444273</td>\n",
       "    </tr>\n",
       "    <tr>\n",
       "      <th>Dish\\nwasher</th>\n",
       "      <td>46.288463</td>\n",
       "      <td>42.587760</td>\n",
       "      <td>42.077928</td>\n",
       "      <td>38.623122</td>\n",
       "    </tr>\n",
       "    <tr>\n",
       "      <th>Fridge</th>\n",
       "      <td>81.597182</td>\n",
       "      <td>77.740660</td>\n",
       "      <td>78.442603</td>\n",
       "      <td>75.182587</td>\n",
       "    </tr>\n",
       "    <tr>\n",
       "      <th>HVAC</th>\n",
       "      <td>79.283312</td>\n",
       "      <td>79.208159</td>\n",
       "      <td>79.208159</td>\n",
       "      <td>71.783518</td>\n",
       "    </tr>\n",
       "    <tr>\n",
       "      <th>Lights</th>\n",
       "      <td>53.255072</td>\n",
       "      <td>47.066094</td>\n",
       "      <td>49.605087</td>\n",
       "      <td>48.235812</td>\n",
       "    </tr>\n",
       "    <tr>\n",
       "      <th>Washing\\nmachine</th>\n",
       "      <td>66.398906</td>\n",
       "      <td>64.363110</td>\n",
       "      <td>64.504250</td>\n",
       "      <td>60.045676</td>\n",
       "    </tr>\n",
       "  </tbody>\n",
       "</table>\n",
       "</div>"
      ],
      "text/plain": [
       "                        All    Monthly  Monthly+Static     Static\n",
       "Dryer             41.500556  39.344495       41.720212  38.444273\n",
       "Dish\\nwasher      46.288463  42.587760       42.077928  38.623122\n",
       "Fridge            81.597182  77.740660       78.442603  75.182587\n",
       "HVAC              79.283312  79.208159       79.208159  71.783518\n",
       "Lights            53.255072  47.066094       49.605087  48.235812\n",
       "Washing\\nmachine  66.398906  64.363110       64.504250  60.045676"
      ]
     },
     "execution_count": 44,
     "metadata": {},
     "output_type": "execute_result"
    }
   ],
   "source": [
    "sen"
   ]
  },
  {
   "cell_type": "code",
   "execution_count": 45,
   "metadata": {
    "collapsed": false
   },
   "outputs": [
    {
     "name": "stderr",
     "output_type": "stream",
     "text": [
      "/Users/nipunbatra/anaconda/lib/python2.7/site-packages/matplotlib/__init__.py:872: UserWarning: axes.color_cycle is deprecated and replaced with axes.prop_cycle; please use the latter.\n",
      "  warnings.warn(self.msg_depr % (key, alt_key))\n",
      "/Users/nipunbatra/anaconda/lib/python2.7/site-packages/matplotlib/__init__.py:872: UserWarning: text.fontsize is deprecated and replaced with font.size; please use the latter.\n",
      "  warnings.warn(self.msg_depr % (key, alt_key))\n"
     ]
    }
   ],
   "source": [
    "from common_functions import latexify, format_axes\n",
    "latexify()\n",
    "\n",
    "tableau20blind =  [(31, 119, 180), (174, 199, 232), (255, 127, 14), (255, 187, 120),  \n",
    "             (44, 160, 44), (152, 223, 138), (214, 39, 40), (255, 152, 150),  \n",
    "             (148, 103, 189), (197, 176, 213), (140, 86, 75), (196, 156, 148),  \n",
    "             (227, 119, 194), (247, 182, 210), (127, 127, 127), (199, 199, 199),  \n",
    "             (188, 189, 34), (219, 219, 141), (23, 190, 207), (158, 218, 229)]\n",
    "  \n",
    "# Rescale to values between 0 and 1\n",
    "for i in range(len(tableau20blind)):  \n",
    "    r, g, b = tableau20blind[i]  \n",
    "    tableau20blind[i] = (r / 255., g / 255., b / 255.)"
   ]
  },
  {
   "cell_type": "code",
   "execution_count": 3,
   "metadata": {
    "collapsed": true
   },
   "outputs": [],
   "source": [
    "import matplotlib.pyplot as plt"
   ]
  },
  {
   "cell_type": "code",
   "execution_count": 4,
   "metadata": {
    "collapsed": true
   },
   "outputs": [],
   "source": [
    "%matplotlib inline"
   ]
  },
  {
   "cell_type": "code",
   "execution_count": 54,
   "metadata": {
    "collapsed": false
   },
   "outputs": [
    {
     "data": {
      "text/plain": [
       "<matplotlib.axes._subplots.AxesSubplot at 0x11ad66250>"
      ]
     },
     "execution_count": 54,
     "metadata": {},
     "output_type": "execute_result"
    },
    {
     "data": {
      "image/png": "[encoded data removed]",
      "text/plain": [
       "<matplotlib.figure.Figure at 0x114f0fe10>"
      ]
     },
     "metadata": {},
     "output_type": "display_data"
    }
   ],
   "source": [
    "sen.ix[['HVAC','Fridge','Washing\\nmachine',\n",
    "                                    'Lights','Dryer','Dish\\nwasher']].plot(kind=\"bar\",rot=0, colors=tableau20blind[::2])\n",
    "format_axes(plt.gca())"
   ]
  },
  {
   "cell_type": "code",
   "execution_count": null,
   "metadata": {
    "collapsed": true
   },
   "outputs": [],
   "source": []
  }
 ],
 "metadata": {
  "kernelspec": {
   "display_name": "Python 2",
   "language": "python",
   "name": "python2"
  },
  "language_info": {
   "codemirror_mode": {
    "name": "ipython",
    "version": 2
   },
   "file_extension": ".py",
   "mimetype": "text/x-python",
   "name": "python",
   "nbconvert_exporter": "python",
   "pygments_lexer": "ipython2",
   "version": "2.7.11"
  }
 },
 "nbformat": 4,
 "nbformat_minor": 0
}
