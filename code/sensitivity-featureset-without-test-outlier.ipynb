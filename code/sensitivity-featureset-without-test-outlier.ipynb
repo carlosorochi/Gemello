{
 "cells": [
  {
   "cell_type": "markdown",
   "metadata": {},
   "source": [
    "### Load data set with features"
   ]
  },
  {
   "cell_type": "code",
   "execution_count": 1,
   "metadata": {
    "collapsed": false
   },
   "outputs": [
    {
     "name": "stderr",
     "output_type": "stream",
     "text": [
      "Vendor:  Continuum Analytics, Inc.\n",
      "Package: mkl\n",
      "Message: trial mode expires in 30 days\n"
     ]
    }
   ],
   "source": [
    "from create_df import read_df\n",
    "df, dfc, all_homes, appliance_min, national_average = read_df()"
   ]
  },
  {
   "cell_type": "code",
   "execution_count": 2,
   "metadata": {
    "collapsed": false
   },
   "outputs": [],
   "source": [
    "import numpy as np\n",
    "import matplotlib.pyplot as plt\n",
    "%matplotlib inline\n"
   ]
  },
  {
   "cell_type": "code",
   "execution_count": 3,
   "metadata": {
    "collapsed": false
   },
   "outputs": [],
   "source": [
    "run all_functions.py"
   ]
  },
  {
   "cell_type": "code",
   "execution_count": 4,
   "metadata": {
    "collapsed": false
   },
   "outputs": [],
   "source": [
    "run features.py"
   ]
  },
  {
   "cell_type": "code",
   "execution_count": 5,
   "metadata": {
    "collapsed": true
   },
   "outputs": [],
   "source": [
    "import json"
   ]
  },
  {
   "cell_type": "code",
   "execution_count": 6,
   "metadata": {
    "collapsed": false
   },
   "outputs": [
    {
     "data": {
      "text/plain": [
       "(40, 43, 18, 15)"
      ]
     },
     "execution_count": 6,
     "metadata": {},
     "output_type": "execute_result"
    }
   ],
   "source": [
    "len(feature_map['15 min AMI']), len(feature_map['All']), len(feature_map['Monthly+Static']), len(feature_map['Monthly'])"
   ]
  },
  {
   "cell_type": "markdown",
   "metadata": {},
   "source": [
    "#### First round of CV, finding optimal features maximising median accuracy"
   ]
  },
  {
   "cell_type": "code",
   "execution_count": 7,
   "metadata": {
    "collapsed": false
   },
   "outputs": [
    {
     "name": "stdout",
     "output_type": "stream",
     "text": [
      "%%%%%%%%%%%%%%%%%%%%%%%%%%%%%%%%%%%%%%%%\n",
      "hvac\n",
      "%%%%%%%%%%%%%%%%%%%%%%%%%%%%%%%%%%%%%%%%\n",
      "********************\n",
      "Monthly\n",
      "********************\n",
      "include: aggregate_5 -> feature_subset: ['aggregate_5']. Accuracy: 77.7576037951\n",
      "include: aggregate_7 -> feature_subset: ['aggregate_5', 'aggregate_7']. Accuracy: 78.6794696401\n",
      "include: aggregate_9 -> feature_subset: ['aggregate_5', 'aggregate_7', 'aggregate_9']. Accuracy: 80.3322403758\n",
      "include: aggregate_12 -> feature_subset: ['aggregate_5', 'aggregate_7', 'aggregate_9', 'aggregate_12']. Accuracy: 80.1110824723\n",
      "include: aggregate_10 -> feature_subset: ['aggregate_5', 'aggregate_7', 'aggregate_9', 'aggregate_12', 'aggregate_10']. Accuracy: 79.9786206651\n",
      "include: difference_min_max -> feature_subset: ['aggregate_5', 'aggregate_7', 'aggregate_9', 'aggregate_12', 'aggregate_10', 'difference_min_max']. Accuracy: 80.0580878598\n",
      "include: aggregate_8 -> feature_subset: ['aggregate_5', 'aggregate_7', 'aggregate_9', 'aggregate_12', 'aggregate_10', 'difference_min_max', 'aggregate_8']. Accuracy: 79.6739956223\n",
      "include: aggregate_7 -> feature_subset: ['aggregate_7']. Accuracy: 78.9173325554\n",
      "include: aggregate_9 -> feature_subset: ['aggregate_7', 'aggregate_9']. Accuracy: 79.6346841555\n",
      "include: aggregate_12 -> feature_subset: ['aggregate_7', 'aggregate_9', 'aggregate_12']. Accuracy: 80.1758558848\n",
      "include: aggregate_5 -> feature_subset: ['aggregate_7', 'aggregate_9', 'aggregate_12', 'aggregate_5']. Accuracy: 81.0019818828\n",
      "include: aggregate_6 -> feature_subset: ['aggregate_7', 'aggregate_9', 'aggregate_12', 'aggregate_5', 'aggregate_6']. Accuracy: 80.847836502\n",
      "include: aggregate_8 -> feature_subset: ['aggregate_7', 'aggregate_9', 'aggregate_12', 'aggregate_5', 'aggregate_6', 'aggregate_8']. Accuracy: 81.6954316418\n",
      "include: aggregate_10 -> feature_subset: ['aggregate_7', 'aggregate_9', 'aggregate_12', 'aggregate_5', 'aggregate_6', 'aggregate_8', 'aggregate_10']. Accuracy: 82.1598652254\n",
      "include: aggregate_7 -> feature_subset: ['aggregate_7']. Accuracy: 80.7585417852\n",
      "include: aggregate_4 -> feature_subset: ['aggregate_7', 'aggregate_4']. Accuracy: 81.0086301541\n",
      "include: aggregate_8 -> feature_subset: ['aggregate_7', 'aggregate_4', 'aggregate_8']. Accuracy: 80.5452740161\n",
      "include: aggregate_3 -> feature_subset: ['aggregate_7', 'aggregate_4', 'aggregate_8', 'aggregate_3']. Accuracy: 80.8651074166\n",
      "include: aggregate_5 -> feature_subset: ['aggregate_7', 'aggregate_4', 'aggregate_8', 'aggregate_3', 'aggregate_5']. Accuracy: 80.9254111177\n",
      "include: aggregate_2 -> feature_subset: ['aggregate_7', 'aggregate_4', 'aggregate_8', 'aggregate_3', 'aggregate_5', 'aggregate_2']. Accuracy: 81.2809673803\n",
      "include: aggregate_9 -> feature_subset: ['aggregate_7', 'aggregate_4', 'aggregate_8', 'aggregate_3', 'aggregate_5', 'aggregate_2', 'aggregate_9']. Accuracy: 80.8394119023\n",
      "include: aggregate_7 -> feature_subset: ['aggregate_7']. Accuracy: 80.5960025189\n",
      "include: aggregate_2 -> feature_subset: ['aggregate_7', 'aggregate_2']. Accuracy: 81.6618956599\n",
      "include: aggregate_3 -> feature_subset: ['aggregate_7', 'aggregate_2', 'aggregate_3']. Accuracy: 81.7900098319\n",
      "include: aggregate_8 -> feature_subset: ['aggregate_7', 'aggregate_2', 'aggregate_3', 'aggregate_8']. Accuracy: 81.2610338084\n",
      "include: aggregate_5 -> feature_subset: ['aggregate_7', 'aggregate_2', 'aggregate_3', 'aggregate_8', 'aggregate_5']. Accuracy: 81.8249065424\n",
      "include: difference_min_max -> feature_subset: ['aggregate_7', 'aggregate_2', 'aggregate_3', 'aggregate_8', 'aggregate_5', 'difference_min_max']. Accuracy: 81.6366866149\n",
      "include: aggregate_4 -> feature_subset: ['aggregate_7', 'aggregate_2', 'aggregate_3', 'aggregate_8', 'aggregate_5', 'difference_min_max', 'aggregate_4']. Accuracy: 81.6062853796\n",
      "include: aggregate_8 -> feature_subset: ['aggregate_8']. Accuracy: 80.8846886333\n",
      "include: aggregate_12 -> feature_subset: ['aggregate_8', 'aggregate_12']. Accuracy: 80.9608029964\n",
      "include: aggregate_7 -> feature_subset: ['aggregate_8', 'aggregate_12', 'aggregate_7']. Accuracy: 81.5553461692\n",
      "include: aggregate_10 -> feature_subset: ['aggregate_8', 'aggregate_12', 'aggregate_7', 'aggregate_10']. Accuracy: 81.3678459427\n",
      "include: difference_min_max -> feature_subset: ['aggregate_8', 'aggregate_12', 'aggregate_7', 'aggregate_10', 'difference_min_max']. Accuracy: 81.8812270155\n",
      "include: aggregate_1 -> feature_subset: ['aggregate_8', 'aggregate_12', 'aggregate_7', 'aggregate_10', 'difference_min_max', 'aggregate_1']. Accuracy: 81.8486852038\n",
      "include: aggregate_11 -> feature_subset: ['aggregate_8', 'aggregate_12', 'aggregate_7', 'aggregate_10', 'difference_min_max', 'aggregate_1', 'aggregate_11']. Accuracy: 81.8301418059\n",
      "include: aggregate_8 -> feature_subset: ['aggregate_8']. Accuracy: 80.3738003094\n",
      "include: aggregate_7 -> feature_subset: ['aggregate_8', 'aggregate_7']. Accuracy: 80.7463026554\n",
      "include: aggregate_12 -> feature_subset: ['aggregate_8', 'aggregate_7', 'aggregate_12']. Accuracy: 81.4869922846\n",
      "include: aggregate_10 -> feature_subset: ['aggregate_8', 'aggregate_7', 'aggregate_12', 'aggregate_10']. Accuracy: 81.6699187183\n",
      "include: aggregate_9 -> feature_subset: ['aggregate_8', 'aggregate_7', 'aggregate_12', 'aggregate_10', 'aggregate_9']. Accuracy: 81.8202164322\n",
      "include: aggregate_11 -> feature_subset: ['aggregate_8', 'aggregate_7', 'aggregate_12', 'aggregate_10', 'aggregate_9', 'aggregate_11']. Accuracy: 81.6296906922\n",
      "include: difference_min_max -> feature_subset: ['aggregate_8', 'aggregate_7', 'aggregate_12', 'aggregate_10', 'aggregate_9', 'aggregate_11', 'difference_min_max']. Accuracy: 81.4743653973\n",
      "2 ['aggregate_7', 'aggregate_9', 'aggregate_12', 'aggregate_5', 'aggregate_6', 'aggregate_8', 'aggregate_10'] 82.1598652254\n",
      "--------------------------------------------------------------------------------\n",
      "********************\n",
      "Static\n",
      "********************\n",
      "include: area -> feature_subset: ['area']. Accuracy: 71.8814456079\n",
      "include: total_occupants -> feature_subset: ['area', 'total_occupants']. Accuracy: 69.6316465805\n",
      "include: num_rooms -> feature_subset: ['area', 'total_occupants', 'num_rooms']. Accuracy: 65.3084800655\n",
      "include: area -> feature_subset: ['area']. Accuracy: 76.5104353206\n",
      "include: total_occupants -> feature_subset: ['area', 'total_occupants']. Accuracy: 73.2108844504\n",
      "include: num_rooms -> feature_subset: ['area', 'total_occupants', 'num_rooms']. Accuracy: 74.0639000545\n",
      "include: area -> feature_subset: ['area']. Accuracy: 77.659966492\n",
      "include: total_occupants -> feature_subset: ['area', 'total_occupants']. Accuracy: 74.6891755338\n",
      "include: num_rooms -> feature_subset: ['area', 'total_occupants', 'num_rooms']. Accuracy: 74.9106158139\n",
      "include: area -> feature_subset: ['area']. Accuracy: 77.0619255479\n",
      "include: num_rooms -> feature_subset: ['area', 'num_rooms']. Accuracy: 75.1192133802\n",
      "include: total_occupants -> feature_subset: ['area', 'num_rooms', 'total_occupants']. Accuracy: 74.7939741763\n",
      "include: area -> feature_subset: ['area']. Accuracy: 77.885608181\n",
      "include: total_occupants -> feature_subset: ['area', 'total_occupants']. Accuracy: 75.6846849594\n",
      "include: num_rooms -> feature_subset: ['area', 'total_occupants', 'num_rooms']. Accuracy: 74.7178100933\n",
      "include: area -> feature_subset: ['area']. Accuracy: 77.6672154409\n",
      "include: total_occupants -> feature_subset: ['area', 'total_occupants']. Accuracy: 75.8291026932\n",
      "include: num_rooms -> feature_subset: ['area', 'total_occupants', 'num_rooms']. Accuracy: 74.8685840514\n",
      "5 ['area'] 77.885608181\n",
      "--------------------------------------------------------------------------------\n",
      "%%%%%%%%%%%%%%%%%%%%%%%%%%%%%%%%%%%%%%%%\n",
      "light\n",
      "%%%%%%%%%%%%%%%%%%%%%%%%%%%%%%%%%%%%%%%%\n",
      "********************\n",
      "Monthly\n",
      "********************\n",
      "include: ratio_min_max -> feature_subset: ['ratio_min_max']. Accuracy: 37.402884348\n",
      "include: aggregate_6 -> feature_subset: ['ratio_min_max', 'aggregate_6']. Accuracy: 37.6126000511\n",
      "include: ratio_difference_min_max -> feature_subset: ['ratio_min_max', 'aggregate_6', 'ratio_difference_min_max']. Accuracy: 39.2993456146\n",
      "include: difference_min_max -> feature_subset: ['ratio_min_max', 'aggregate_6', 'ratio_difference_min_max', 'difference_min_max']. Accuracy: 37.6126000511\n",
      "include: aggregate_7 -> feature_subset: ['ratio_min_max', 'aggregate_6', 'ratio_difference_min_max', 'difference_min_max', 'aggregate_7']. Accuracy: 37.0985909993\n",
      "include: aggregate_2 -> feature_subset: ['ratio_min_max', 'aggregate_6', 'ratio_difference_min_max', 'difference_min_max', 'aggregate_7', 'aggregate_2']. Accuracy: 37.2230608383\n",
      "include: aggregate_4 -> feature_subset: ['ratio_min_max', 'aggregate_6', 'ratio_difference_min_max', 'difference_min_max', 'aggregate_7', 'aggregate_2', 'aggregate_4']. Accuracy: 35.445220821\n",
      "include: difference_min_max -> feature_subset: ['difference_min_max']. Accuracy: 43.1026088681\n",
      "include: aggregate_8 -> feature_subset: ['difference_min_max', 'aggregate_8']. Accuracy: 46.5443161076\n",
      "include: aggregate_4 -> feature_subset: ['difference_min_max', 'aggregate_8', 'aggregate_4']. Accuracy: 47.0660939582\n",
      "include: aggregate_2 -> feature_subset: ['difference_min_max', 'aggregate_8', 'aggregate_4', 'aggregate_2']. Accuracy: 45.9141079248\n",
      "include: aggregate_7 -> feature_subset: ['difference_min_max', 'aggregate_8', 'aggregate_4', 'aggregate_2', 'aggregate_7']. Accuracy: 45.4744839559\n",
      "include: aggregate_5 -> feature_subset: ['difference_min_max', 'aggregate_8', 'aggregate_4', 'aggregate_2', 'aggregate_7', 'aggregate_5']. Accuracy: 44.6723831475\n",
      "include: ratio_min_max -> feature_subset: ['difference_min_max', 'aggregate_8', 'aggregate_4', 'aggregate_2', 'aggregate_7', 'aggregate_5', 'ratio_min_max']. Accuracy: 45.683584073\n",
      "include: difference_min_max -> feature_subset: ['difference_min_max']. Accuracy: 45.1076018025\n",
      "include: aggregate_5 -> feature_subset: ['difference_min_max', 'aggregate_5']. Accuracy: 45.0327944043\n",
      "include: aggregate_2 -> feature_subset: ['difference_min_max', 'aggregate_5', 'aggregate_2']. Accuracy: 45.0129985229\n",
      "include: aggregate_6 -> feature_subset: ['difference_min_max', 'aggregate_5', 'aggregate_2', 'aggregate_6']. Accuracy: 45.5340662448\n",
      "include: aggregate_8 -> feature_subset: ['difference_min_max', 'aggregate_5', 'aggregate_2', 'aggregate_6', 'aggregate_8']. Accuracy: 46.2814199623\n",
      "include: aggregate_4 -> feature_subset: ['difference_min_max', 'aggregate_5', 'aggregate_2', 'aggregate_6', 'aggregate_8', 'aggregate_4']. Accuracy: 46.4563182639\n",
      "include: aggregate_10 -> feature_subset: ['difference_min_max', 'aggregate_5', 'aggregate_2', 'aggregate_6', 'aggregate_8', 'aggregate_4', 'aggregate_10']. Accuracy: 46.0652659402\n",
      "include: aggregate_1 -> feature_subset: ['aggregate_1']. Accuracy: 44.4028207676\n",
      "include: aggregate_10 -> feature_subset: ['aggregate_1', 'aggregate_10']. Accuracy: 45.6491360759\n",
      "include: aggregate_2 -> feature_subset: ['aggregate_1', 'aggregate_10', 'aggregate_2']. Accuracy: 44.1663015913\n",
      "include: aggregate_5 -> feature_subset: ['aggregate_1', 'aggregate_10', 'aggregate_2', 'aggregate_5']. Accuracy: 43.802806787\n",
      "include: aggregate_8 -> feature_subset: ['aggregate_1', 'aggregate_10', 'aggregate_2', 'aggregate_5', 'aggregate_8']. Accuracy: 43.3725459218\n",
      "include: aggregate_6 -> feature_subset: ['aggregate_1', 'aggregate_10', 'aggregate_2', 'aggregate_5', 'aggregate_8', 'aggregate_6']. Accuracy: 42.5942053378\n",
      "include: aggregate_4 -> feature_subset: ['aggregate_1', 'aggregate_10', 'aggregate_2', 'aggregate_5', 'aggregate_8', 'aggregate_6', 'aggregate_4']. Accuracy: 42.5942053378\n",
      "include: aggregate_6 -> feature_subset: ['aggregate_6']. Accuracy: 44.7366828458\n",
      "include: aggregate_9 -> feature_subset: ['aggregate_6', 'aggregate_9']. Accuracy: 43.9441512537\n",
      "include: aggregate_10 -> feature_subset: ['aggregate_6', 'aggregate_9', 'aggregate_10']. Accuracy: 44.4444663613\n",
      "include: aggregate_5 -> feature_subset: ['aggregate_6', 'aggregate_9', 'aggregate_10', 'aggregate_5']. Accuracy: 45.3238102559\n",
      "include: aggregate_8 -> feature_subset: ['aggregate_6', 'aggregate_9', 'aggregate_10', 'aggregate_5', 'aggregate_8']. Accuracy: 45.054092634\n",
      "include: ratio_min_max -> feature_subset: ['aggregate_6', 'aggregate_9', 'aggregate_10', 'aggregate_5', 'aggregate_8', 'ratio_min_max']. Accuracy: 43.9789510657\n",
      "include: ratio_difference_min_max -> feature_subset: ['aggregate_6', 'aggregate_9', 'aggregate_10', 'aggregate_5', 'aggregate_8', 'ratio_min_max', 'ratio_difference_min_max']. Accuracy: 43.3207370917\n",
      "include: aggregate_1 -> feature_subset: ['aggregate_1']. Accuracy: 44.0416580237\n",
      "include: aggregate_2 -> feature_subset: ['aggregate_1', 'aggregate_2']. Accuracy: 43.3885756569\n",
      "include: aggregate_11 -> feature_subset: ['aggregate_1', 'aggregate_2', 'aggregate_11']. Accuracy: 43.6360254606\n",
      "include: aggregate_4 -> feature_subset: ['aggregate_1', 'aggregate_2', 'aggregate_11', 'aggregate_4']. Accuracy: 43.5656345905\n",
      "include: aggregate_10 -> feature_subset: ['aggregate_1', 'aggregate_2', 'aggregate_11', 'aggregate_4', 'aggregate_10']. Accuracy: 43.5656345905\n",
      "include: aggregate_3 -> feature_subset: ['aggregate_1', 'aggregate_2', 'aggregate_11', 'aggregate_4', 'aggregate_10', 'aggregate_3']. Accuracy: 43.5611794532\n",
      "include: aggregate_5 -> feature_subset: ['aggregate_1', 'aggregate_2', 'aggregate_11', 'aggregate_4', 'aggregate_10', 'aggregate_3', 'aggregate_5']. Accuracy: 42.5808371231\n",
      "2 ['difference_min_max', 'aggregate_8', 'aggregate_4'] 47.0660939582\n",
      "--------------------------------------------------------------------------------\n",
      "********************\n",
      "Static\n",
      "********************\n",
      "include: area -> feature_subset: ['area']. Accuracy: 39.2978069578\n",
      "include: total_occupants -> feature_subset: ['area', 'total_occupants']. Accuracy: 39.5440189376\n",
      "include: num_rooms -> feature_subset: ['area', 'total_occupants', 'num_rooms']. Accuracy: 37.5138013018\n",
      "include: area -> feature_subset: ['area']. Accuracy: 46.7698955637\n",
      "include: total_occupants -> feature_subset: ['area', 'total_occupants']. Accuracy: 41.2156315588\n",
      "include: num_rooms -> feature_subset: ['area', 'total_occupants', 'num_rooms']. Accuracy: 34.9387759632\n",
      "include: area -> feature_subset: ['area']. Accuracy: 45.0769206445\n",
      "include: total_occupants -> feature_subset: ['area', 'total_occupants']. Accuracy: 45.3853028894\n",
      "include: num_rooms -> feature_subset: ['area', 'total_occupants', 'num_rooms']. Accuracy: 38.5978940946\n",
      "include: area -> feature_subset: ['area']. Accuracy: 46.0963067182\n",
      "include: total_occupants -> feature_subset: ['area', 'total_occupants']. Accuracy: 42.4623762452\n",
      "include: num_rooms -> feature_subset: ['area', 'total_occupants', 'num_rooms']. Accuracy: 39.1584806429\n",
      "include: area -> feature_subset: ['area']. Accuracy: 47.9160262705\n",
      "include: num_rooms -> feature_subset: ['area', 'num_rooms']. Accuracy: 43.6012506578\n",
      "include: total_occupants -> feature_subset: ['area', 'num_rooms', 'total_occupants']. Accuracy: 36.3573863406\n",
      "include: area -> feature_subset: ['area']. Accuracy: 48.2358117152\n",
      "include: num_rooms -> feature_subset: ['area', 'num_rooms']. Accuracy: 44.8491629236\n",
      "include: total_occupants -> feature_subset: ['area', 'num_rooms', 'total_occupants']. Accuracy: 36.6097385772\n",
      "6 ['area'] 48.2358117152\n",
      "--------------------------------------------------------------------------------\n",
      "%%%%%%%%%%%%%%%%%%%%%%%%%%%%%%%%%%%%%%%%\n",
      "fridge\n",
      "%%%%%%%%%%%%%%%%%%%%%%%%%%%%%%%%%%%%%%%%\n",
      "********************\n",
      "Monthly\n",
      "********************\n",
      "include: ratio_min_max -> feature_subset: ['ratio_min_max']. Accuracy: 74.8515895951\n",
      "include: difference_min_max -> feature_subset: ['ratio_min_max', 'difference_min_max']. Accuracy: 77.6801839105\n",
      "include: aggregate_2 -> feature_subset: ['ratio_min_max', 'difference_min_max', 'aggregate_2']. Accuracy: 77.7406596177\n",
      "include: ratio_difference_min_max -> feature_subset: ['ratio_min_max', 'difference_min_max', 'aggregate_2', 'ratio_difference_min_max']. Accuracy: 77.6606515071\n",
      "include: aggregate_11 -> feature_subset: ['ratio_min_max', 'difference_min_max', 'aggregate_2', 'ratio_difference_min_max', 'aggregate_11']. Accuracy: 77.4977627681\n",
      "include: aggregate_4 -> feature_subset: ['ratio_min_max', 'difference_min_max', 'aggregate_2', 'ratio_difference_min_max', 'aggregate_11', 'aggregate_4']. Accuracy: 77.5087776707\n",
      "include: aggregate_1 -> feature_subset: ['ratio_min_max', 'difference_min_max', 'aggregate_2', 'ratio_difference_min_max', 'aggregate_11', 'aggregate_4', 'aggregate_1']. Accuracy: 76.1524724475\n",
      "include: aggregate_3 -> feature_subset: ['aggregate_3']. Accuracy: 73.4371098616\n",
      "include: ratio_min_max -> feature_subset: ['aggregate_3', 'ratio_min_max']. Accuracy: 75.3466314495\n",
      "include: aggregate_4 -> feature_subset: ['aggregate_3', 'ratio_min_max', 'aggregate_4']. Accuracy: 76.2605221327\n",
      "include: aggregate_7 -> feature_subset: ['aggregate_3', 'ratio_min_max', 'aggregate_4', 'aggregate_7']. Accuracy: 76.1551361032\n",
      "include: ratio_difference_min_max -> feature_subset: ['aggregate_3', 'ratio_min_max', 'aggregate_4', 'aggregate_7', 'ratio_difference_min_max']. Accuracy: 76.9655947482\n",
      "include: aggregate_2 -> feature_subset: ['aggregate_3', 'ratio_min_max', 'aggregate_4', 'aggregate_7', 'ratio_difference_min_max', 'aggregate_2']. Accuracy: 77.0695625783\n",
      "include: aggregate_5 -> feature_subset: ['aggregate_3', 'ratio_min_max', 'aggregate_4', 'aggregate_7', 'ratio_difference_min_max', 'aggregate_2', 'aggregate_5']. Accuracy: 76.8758994222\n",
      "include: ratio_min_max -> feature_subset: ['ratio_min_max']. Accuracy: 75.6372441909\n",
      "include: aggregate_4 -> feature_subset: ['ratio_min_max', 'aggregate_4']. Accuracy: 76.9832611729\n",
      "include: aggregate_3 -> feature_subset: ['ratio_min_max', 'aggregate_4', 'aggregate_3']. Accuracy: 76.6674501128\n",
      "include: ratio_difference_min_max -> feature_subset: ['ratio_min_max', 'aggregate_4', 'aggregate_3', 'ratio_difference_min_max']. Accuracy: 77.3053269385\n",
      "include: aggregate_7 -> feature_subset: ['ratio_min_max', 'aggregate_4', 'aggregate_3', 'ratio_difference_min_max', 'aggregate_7']. Accuracy: 77.0937498773\n",
      "include: aggregate_1 -> feature_subset: ['ratio_min_max', 'aggregate_4', 'aggregate_3', 'ratio_difference_min_max', 'aggregate_7', 'aggregate_1']. Accuracy: 77.0937498773\n",
      "include: aggregate_9 -> feature_subset: ['ratio_min_max', 'aggregate_4', 'aggregate_3', 'ratio_difference_min_max', 'aggregate_7', 'aggregate_1', 'aggregate_9']. Accuracy: 77.3857237548\n",
      "include: ratio_min_max -> feature_subset: ['ratio_min_max']. Accuracy: 75.4774566316\n",
      "include: aggregate_3 -> feature_subset: ['ratio_min_max', 'aggregate_3']. Accuracy: 77.1891557165\n",
      "include: ratio_difference_min_max -> feature_subset: ['ratio_min_max', 'aggregate_3', 'ratio_difference_min_max']. Accuracy: 77.548402666\n",
      "include: aggregate_1 -> feature_subset: ['ratio_min_max', 'aggregate_3', 'ratio_difference_min_max', 'aggregate_1']. Accuracy: 77.3615735038\n",
      "include: aggregate_5 -> feature_subset: ['ratio_min_max', 'aggregate_3', 'ratio_difference_min_max', 'aggregate_1', 'aggregate_5']. Accuracy: 76.7544027263\n",
      "include: aggregate_2 -> feature_subset: ['ratio_min_max', 'aggregate_3', 'ratio_difference_min_max', 'aggregate_1', 'aggregate_5', 'aggregate_2']. Accuracy: 76.8579349893\n",
      "include: aggregate_4 -> feature_subset: ['ratio_min_max', 'aggregate_3', 'ratio_difference_min_max', 'aggregate_1', 'aggregate_5', 'aggregate_2', 'aggregate_4']. Accuracy: 76.7787582778\n",
      "include: ratio_min_max -> feature_subset: ['ratio_min_max']. Accuracy: 74.343478091\n",
      "include: aggregate_5 -> feature_subset: ['ratio_min_max', 'aggregate_5']. Accuracy: 75.7706282282\n",
      "include: aggregate_4 -> feature_subset: ['ratio_min_max', 'aggregate_5', 'aggregate_4']. Accuracy: 76.2488989296\n",
      "include: ratio_difference_min_max -> feature_subset: ['ratio_min_max', 'aggregate_5', 'aggregate_4', 'ratio_difference_min_max']. Accuracy: 75.9097888446\n",
      "include: aggregate_3 -> feature_subset: ['ratio_min_max', 'aggregate_5', 'aggregate_4', 'ratio_difference_min_max', 'aggregate_3']. Accuracy: 75.8735463028\n",
      "include: aggregate_2 -> feature_subset: ['ratio_min_max', 'aggregate_5', 'aggregate_4', 'ratio_difference_min_max', 'aggregate_3', 'aggregate_2']. Accuracy: 75.4140635169\n",
      "include: aggregate_1 -> feature_subset: ['ratio_min_max', 'aggregate_5', 'aggregate_4', 'ratio_difference_min_max', 'aggregate_3', 'aggregate_2', 'aggregate_1']. Accuracy: 75.308074456\n",
      "include: ratio_min_max -> feature_subset: ['ratio_min_max']. Accuracy: 73.6662954233\n",
      "include: aggregate_12 -> feature_subset: ['ratio_min_max', 'aggregate_12']. Accuracy: 74.5560593989\n",
      "include: aggregate_10 -> feature_subset: ['ratio_min_max', 'aggregate_12', 'aggregate_10']. Accuracy: 74.0825780487\n",
      "include: aggregate_11 -> feature_subset: ['ratio_min_max', 'aggregate_12', 'aggregate_10', 'aggregate_11']. Accuracy: 74.0987771492\n",
      "include: aggregate_1 -> feature_subset: ['ratio_min_max', 'aggregate_12', 'aggregate_10', 'aggregate_11', 'aggregate_1']. Accuracy: 73.8477274454\n",
      "include: aggregate_7 -> feature_subset: ['ratio_min_max', 'aggregate_12', 'aggregate_10', 'aggregate_11', 'aggregate_1', 'aggregate_7']. Accuracy: 73.3607850779\n",
      "include: aggregate_4 -> feature_subset: ['ratio_min_max', 'aggregate_12', 'aggregate_10', 'aggregate_11', 'aggregate_1', 'aggregate_7', 'aggregate_4']. Accuracy: 73.6101977432\n",
      "1 ['ratio_min_max', 'difference_min_max', 'aggregate_2'] 77.7406596177\n",
      "--------------------------------------------------------------------------------\n",
      "********************\n",
      "Static\n",
      "********************\n",
      "include: total_occupants -> feature_subset: ['total_occupants']. Accuracy: 70.6445977111\n",
      "include: area -> feature_subset: ['total_occupants', 'area']. Accuracy: 68.3954229427\n",
      "include: num_rooms -> feature_subset: ['total_occupants', 'area', 'num_rooms']. Accuracy: 73.5860808788\n",
      "include: total_occupants -> feature_subset: ['total_occupants']. Accuracy: 73.2485572045\n",
      "include: num_rooms -> feature_subset: ['total_occupants', 'num_rooms']. Accuracy: 72.3809063513\n",
      "include: area -> feature_subset: ['total_occupants', 'num_rooms', 'area']. Accuracy: 73.1620463468\n",
      "include: total_occupants -> feature_subset: ['total_occupants']. Accuracy: 74.2618034722\n",
      "include: num_rooms -> feature_subset: ['total_occupants', 'num_rooms']. Accuracy: 72.4663850297\n",
      "include: area -> feature_subset: ['total_occupants', 'num_rooms', 'area']. Accuracy: 72.9687282165\n",
      "include: total_occupants -> feature_subset: ['total_occupants']. Accuracy: 75.0810203503\n",
      "include: num_rooms -> feature_subset: ['total_occupants', 'num_rooms']. Accuracy: 73.7446164631\n",
      "include: area -> feature_subset: ['total_occupants', 'num_rooms', 'area']. Accuracy: 71.8167200977\n",
      "include: total_occupants -> feature_subset: ['total_occupants']. Accuracy: 74.6471221855\n",
      "include: num_rooms -> feature_subset: ['total_occupants', 'num_rooms']. Accuracy: 73.2166457181\n",
      "include: area -> feature_subset: ['total_occupants', 'num_rooms', 'area']. Accuracy: 71.6814477471\n",
      "include: total_occupants -> feature_subset: ['total_occupants']. Accuracy: 75.1825873305\n",
      "include: num_rooms -> feature_subset: ['total_occupants', 'num_rooms']. Accuracy: 74.5810446741\n",
      "include: area -> feature_subset: ['total_occupants', 'num_rooms', 'area']. Accuracy: 73.3858838739\n",
      "6 ['total_occupants'] 75.1825873305\n",
      "--------------------------------------------------------------------------------\n",
      "%%%%%%%%%%%%%%%%%%%%%%%%%%%%%%%%%%%%%%%%\n",
      "dr\n",
      "%%%%%%%%%%%%%%%%%%%%%%%%%%%%%%%%%%%%%%%%\n",
      "********************\n",
      "Monthly\n",
      "********************\n",
      "include: aggregate_1 -> feature_subset: ['aggregate_1']. Accuracy: 37.4943331857\n",
      "include: aggregate_8 -> feature_subset: ['aggregate_1', 'aggregate_8']. Accuracy: 37.7378046684\n",
      "include: aggregate_9 -> feature_subset: ['aggregate_1', 'aggregate_8', 'aggregate_9']. Accuracy: 40.6960634518\n",
      "include: difference_min_max -> feature_subset: ['aggregate_1', 'aggregate_8', 'aggregate_9', 'difference_min_max']. Accuracy: 41.2481345381\n",
      "include: aggregate_3 -> feature_subset: ['aggregate_1', 'aggregate_8', 'aggregate_9', 'difference_min_max', 'aggregate_3']. Accuracy: 41.6510850505\n",
      "include: aggregate_11 -> feature_subset: ['aggregate_1', 'aggregate_8', 'aggregate_9', 'difference_min_max', 'aggregate_3', 'aggregate_11']. Accuracy: 41.748641205\n",
      "include: aggregate_2 -> feature_subset: ['aggregate_1', 'aggregate_8', 'aggregate_9', 'difference_min_max', 'aggregate_3', 'aggregate_11', 'aggregate_2']. Accuracy: 41.7803028624\n",
      "include: aggregate_12 -> feature_subset: ['aggregate_12']. Accuracy: 41.4273510137\n",
      "include: ratio_min_max -> feature_subset: ['aggregate_12', 'ratio_min_max']. Accuracy: 42.9228726553\n",
      "include: aggregate_10 -> feature_subset: ['aggregate_12', 'ratio_min_max', 'aggregate_10']. Accuracy: 41.0681018081\n",
      "include: aggregate_3 -> feature_subset: ['aggregate_12', 'ratio_min_max', 'aggregate_10', 'aggregate_3']. Accuracy: 41.5323308133\n",
      "include: aggregate_2 -> feature_subset: ['aggregate_12', 'ratio_min_max', 'aggregate_10', 'aggregate_3', 'aggregate_2']. Accuracy: 40.8910981225\n",
      "include: aggregate_5 -> feature_subset: ['aggregate_12', 'ratio_min_max', 'aggregate_10', 'aggregate_3', 'aggregate_2', 'aggregate_5']. Accuracy: 41.2611350834\n",
      "include: aggregate_1 -> feature_subset: ['aggregate_12', 'ratio_min_max', 'aggregate_10', 'aggregate_3', 'aggregate_2', 'aggregate_5', 'aggregate_1']. Accuracy: 39.2816216214\n",
      "include: aggregate_10 -> feature_subset: ['aggregate_10']. Accuracy: 41.9446800911\n",
      "include: aggregate_1 -> feature_subset: ['aggregate_10', 'aggregate_1']. Accuracy: 42.4518473025\n",
      "include: aggregate_12 -> feature_subset: ['aggregate_10', 'aggregate_1', 'aggregate_12']. Accuracy: 42.1969483237\n",
      "include: aggregate_7 -> feature_subset: ['aggregate_10', 'aggregate_1', 'aggregate_12', 'aggregate_7']. Accuracy: 41.9293870452\n",
      "include: aggregate_5 -> feature_subset: ['aggregate_10', 'aggregate_1', 'aggregate_12', 'aggregate_7', 'aggregate_5']. Accuracy: 42.1989432931\n",
      "include: aggregate_4 -> feature_subset: ['aggregate_10', 'aggregate_1', 'aggregate_12', 'aggregate_7', 'aggregate_5', 'aggregate_4']. Accuracy: 42.0088176862\n",
      "include: aggregate_11 -> feature_subset: ['aggregate_10', 'aggregate_1', 'aggregate_12', 'aggregate_7', 'aggregate_5', 'aggregate_4', 'aggregate_11']. Accuracy: 42.1405427237\n",
      "include: aggregate_10 -> feature_subset: ['aggregate_10']. Accuracy: 43.1497609133\n",
      "include: aggregate_12 -> feature_subset: ['aggregate_10', 'aggregate_12']. Accuracy: 42.6764647669\n",
      "include: aggregate_7 -> feature_subset: ['aggregate_10', 'aggregate_12', 'aggregate_7']. Accuracy: 42.8421264231\n",
      "include: aggregate_11 -> feature_subset: ['aggregate_10', 'aggregate_12', 'aggregate_7', 'aggregate_11']. Accuracy: 42.7593766022\n",
      "include: aggregate_4 -> feature_subset: ['aggregate_10', 'aggregate_12', 'aggregate_7', 'aggregate_11', 'aggregate_4']. Accuracy: 42.9388742459\n",
      "include: aggregate_5 -> feature_subset: ['aggregate_10', 'aggregate_12', 'aggregate_7', 'aggregate_11', 'aggregate_4', 'aggregate_5']. Accuracy: 41.9501451422\n",
      "include: difference_min_max -> feature_subset: ['aggregate_10', 'aggregate_12', 'aggregate_7', 'aggregate_11', 'aggregate_4', 'aggregate_5', 'difference_min_max']. Accuracy: 41.9029671987\n",
      "include: aggregate_12 -> feature_subset: ['aggregate_12']. Accuracy: 43.3577649553\n",
      "include: aggregate_10 -> feature_subset: ['aggregate_12', 'aggregate_10']. Accuracy: 44.0687466658\n",
      "include: aggregate_2 -> feature_subset: ['aggregate_12', 'aggregate_10', 'aggregate_2']. Accuracy: 43.8411897948\n",
      "include: aggregate_11 -> feature_subset: ['aggregate_12', 'aggregate_10', 'aggregate_2', 'aggregate_11']. Accuracy: 42.9244772976\n",
      "include: aggregate_3 -> feature_subset: ['aggregate_12', 'aggregate_10', 'aggregate_2', 'aggregate_11', 'aggregate_3']. Accuracy: 43.1700094307\n",
      "include: aggregate_1 -> feature_subset: ['aggregate_12', 'aggregate_10', 'aggregate_2', 'aggregate_11', 'aggregate_3', 'aggregate_1']. Accuracy: 42.4575131382\n",
      "include: aggregate_4 -> feature_subset: ['aggregate_12', 'aggregate_10', 'aggregate_2', 'aggregate_11', 'aggregate_3', 'aggregate_1', 'aggregate_4']. Accuracy: 42.4620394154\n",
      "include: aggregate_10 -> feature_subset: ['aggregate_10']. Accuracy: 43.900832513\n",
      "include: aggregate_12 -> feature_subset: ['aggregate_10', 'aggregate_12']. Accuracy: 44.0496366225\n",
      "include: aggregate_11 -> feature_subset: ['aggregate_10', 'aggregate_12', 'aggregate_11']. Accuracy: 43.7575248096\n",
      "include: aggregate_3 -> feature_subset: ['aggregate_10', 'aggregate_12', 'aggregate_11', 'aggregate_3']. Accuracy: 43.5011034628\n",
      "include: aggregate_1 -> feature_subset: ['aggregate_10', 'aggregate_12', 'aggregate_11', 'aggregate_3', 'aggregate_1']. Accuracy: 43.6377449976\n",
      "include: aggregate_4 -> feature_subset: ['aggregate_10', 'aggregate_12', 'aggregate_11', 'aggregate_3', 'aggregate_1', 'aggregate_4']. Accuracy: 43.2849807838\n",
      "include: aggregate_2 -> feature_subset: ['aggregate_10', 'aggregate_12', 'aggregate_11', 'aggregate_3', 'aggregate_1', 'aggregate_4', 'aggregate_2']. Accuracy: 43.1158579406\n",
      "5 ['aggregate_12', 'aggregate_10'] 44.0687466658\n",
      "--------------------------------------------------------------------------------\n",
      "********************\n",
      "Static\n",
      "********************\n",
      "include: num_rooms -> feature_subset: ['num_rooms']. Accuracy: 32.5063381339\n",
      "include: total_occupants -> feature_subset: ['num_rooms', 'total_occupants']. Accuracy: 36.6530495911\n",
      "include: area -> feature_subset: ['num_rooms', 'total_occupants', 'area']. Accuracy: 35.4695404299\n",
      "include: num_rooms -> feature_subset: ['num_rooms']. Accuracy: 41.3625906843\n",
      "include: total_occupants -> feature_subset: ['num_rooms', 'total_occupants']. Accuracy: 41.5113108433\n",
      "include: area -> feature_subset: ['num_rooms', 'total_occupants', 'area']. Accuracy: 36.0070271996\n",
      "include: total_occupants -> feature_subset: ['total_occupants']. Accuracy: 43.1134556685\n",
      "include: num_rooms -> feature_subset: ['total_occupants', 'num_rooms']. Accuracy: 40.8891832559\n",
      "include: area -> feature_subset: ['total_occupants', 'num_rooms', 'area']. Accuracy: 41.0556512721\n",
      "include: total_occupants -> feature_subset: ['total_occupants']. Accuracy: 42.4617848315\n",
      "include: num_rooms -> feature_subset: ['total_occupants', 'num_rooms']. Accuracy: 42.0676379463\n",
      "include: area -> feature_subset: ['total_occupants', 'num_rooms', 'area']. Accuracy: 41.6328280602\n",
      "include: total_occupants -> feature_subset: ['total_occupants']. Accuracy: 41.8616317405\n",
      "include: num_rooms -> feature_subset: ['total_occupants', 'num_rooms']. Accuracy: 42.6873586684\n",
      "include: area -> feature_subset: ['total_occupants', 'num_rooms', 'area']. Accuracy: 42.3619121373\n",
      "include: num_rooms -> feature_subset: ['num_rooms']. Accuracy: 41.9573980484\n",
      "include: total_occupants -> feature_subset: ['num_rooms', 'total_occupants']. Accuracy: 42.4573001458\n",
      "include: area -> feature_subset: ['num_rooms', 'total_occupants', 'area']. Accuracy: 42.1027272832\n",
      "3 ['total_occupants'] 43.1134556685\n",
      "--------------------------------------------------------------------------------\n",
      "%%%%%%%%%%%%%%%%%%%%%%%%%%%%%%%%%%%%%%%%\n",
      "wm\n",
      "%%%%%%%%%%%%%%%%%%%%%%%%%%%%%%%%%%%%%%%%\n",
      "********************\n",
      "Monthly\n",
      "********************\n",
      "include: aggregate_11 -> feature_subset: ['aggregate_11']. Accuracy: 62.2737488854\n",
      "include: aggregate_10 -> feature_subset: ['aggregate_11', 'aggregate_10']. Accuracy: 64.3631097671\n",
      "include: aggregate_2 -> feature_subset: ['aggregate_11', 'aggregate_10', 'aggregate_2']. Accuracy: 63.5350135975\n",
      "include: aggregate_5 -> feature_subset: ['aggregate_11', 'aggregate_10', 'aggregate_2', 'aggregate_5']. Accuracy: 63.3544464562\n",
      "include: aggregate_4 -> feature_subset: ['aggregate_11', 'aggregate_10', 'aggregate_2', 'aggregate_5', 'aggregate_4']. Accuracy: 63.6322309931\n",
      "include: aggregate_3 -> feature_subset: ['aggregate_11', 'aggregate_10', 'aggregate_2', 'aggregate_5', 'aggregate_4', 'aggregate_3']. Accuracy: 63.6188924688\n",
      "include: aggregate_1 -> feature_subset: ['aggregate_11', 'aggregate_10', 'aggregate_2', 'aggregate_5', 'aggregate_4', 'aggregate_3', 'aggregate_1']. Accuracy: 61.3057294474\n",
      "include: aggregate_11 -> feature_subset: ['aggregate_11']. Accuracy: 62.4903952668\n",
      "include: aggregate_5 -> feature_subset: ['aggregate_11', 'aggregate_5']. Accuracy: 63.1870245507\n",
      "include: aggregate_10 -> feature_subset: ['aggregate_11', 'aggregate_5', 'aggregate_10']. Accuracy: 63.1907380119\n",
      "include: aggregate_4 -> feature_subset: ['aggregate_11', 'aggregate_5', 'aggregate_10', 'aggregate_4']. Accuracy: 63.6268350408\n",
      "include: aggregate_2 -> feature_subset: ['aggregate_11', 'aggregate_5', 'aggregate_10', 'aggregate_4', 'aggregate_2']. Accuracy: 62.5064853014\n",
      "include: aggregate_12 -> feature_subset: ['aggregate_11', 'aggregate_5', 'aggregate_10', 'aggregate_4', 'aggregate_2', 'aggregate_12']. Accuracy: 60.8637772323\n",
      "include: aggregate_7 -> feature_subset: ['aggregate_11', 'aggregate_5', 'aggregate_10', 'aggregate_4', 'aggregate_2', 'aggregate_12', 'aggregate_7']. Accuracy: 61.9112295442\n",
      "include: aggregate_10 -> feature_subset: ['aggregate_10']. Accuracy: 59.7634242029\n",
      "include: aggregate_11 -> feature_subset: ['aggregate_10', 'aggregate_11']. Accuracy: 59.1769108581\n",
      "include: aggregate_7 -> feature_subset: ['aggregate_10', 'aggregate_11', 'aggregate_7']. Accuracy: 60.7770079169\n",
      "include: aggregate_1 -> feature_subset: ['aggregate_10', 'aggregate_11', 'aggregate_7', 'aggregate_1']. Accuracy: 61.1993994174\n",
      "include: aggregate_4 -> feature_subset: ['aggregate_10', 'aggregate_11', 'aggregate_7', 'aggregate_1', 'aggregate_4']. Accuracy: 61.0167966732\n",
      "include: aggregate_3 -> feature_subset: ['aggregate_10', 'aggregate_11', 'aggregate_7', 'aggregate_1', 'aggregate_4', 'aggregate_3']. Accuracy: 61.1151408425\n",
      "include: aggregate_2 -> feature_subset: ['aggregate_10', 'aggregate_11', 'aggregate_7', 'aggregate_1', 'aggregate_4', 'aggregate_3', 'aggregate_2']. Accuracy: 61.1210253887\n",
      "include: aggregate_7 -> feature_subset: ['aggregate_7']. Accuracy: 60.2151535945\n",
      "include: aggregate_1 -> feature_subset: ['aggregate_7', 'aggregate_1']. Accuracy: 59.9473652468\n",
      "include: aggregate_10 -> feature_subset: ['aggregate_7', 'aggregate_1', 'aggregate_10']. Accuracy: 59.8466761751\n",
      "include: aggregate_2 -> feature_subset: ['aggregate_7', 'aggregate_1', 'aggregate_10', 'aggregate_2']. Accuracy: 59.6770946216\n",
      "include: aggregate_11 -> feature_subset: ['aggregate_7', 'aggregate_1', 'aggregate_10', 'aggregate_2', 'aggregate_11']. Accuracy: 59.4177320277\n",
      "include: difference_min_max -> feature_subset: ['aggregate_7', 'aggregate_1', 'aggregate_10', 'aggregate_2', 'aggregate_11', 'difference_min_max']. Accuracy: 59.6990334619\n",
      "include: aggregate_6 -> feature_subset: ['aggregate_7', 'aggregate_1', 'aggregate_10', 'aggregate_2', 'aggregate_11', 'difference_min_max', 'aggregate_6']. Accuracy: 60.2329579493\n",
      "include: aggregate_7 -> feature_subset: ['aggregate_7']. Accuracy: 59.1801184501\n",
      "include: aggregate_12 -> feature_subset: ['aggregate_7', 'aggregate_12']. Accuracy: 59.7045696813\n",
      "include: aggregate_9 -> feature_subset: ['aggregate_7', 'aggregate_12', 'aggregate_9']. Accuracy: 59.4478698298\n",
      "include: aggregate_8 -> feature_subset: ['aggregate_7', 'aggregate_12', 'aggregate_9', 'aggregate_8']. Accuracy: 59.5649440822\n",
      "include: difference_min_max -> feature_subset: ['aggregate_7', 'aggregate_12', 'aggregate_9', 'aggregate_8', 'difference_min_max']. Accuracy: 59.2808678808\n",
      "include: aggregate_5 -> feature_subset: ['aggregate_7', 'aggregate_12', 'aggregate_9', 'aggregate_8', 'difference_min_max', 'aggregate_5']. Accuracy: 59.3703459094\n",
      "include: aggregate_6 -> feature_subset: ['aggregate_7', 'aggregate_12', 'aggregate_9', 'aggregate_8', 'difference_min_max', 'aggregate_5', 'aggregate_6']. Accuracy: 59.2538935435\n",
      "include: aggregate_7 -> feature_subset: ['aggregate_7']. Accuracy: 58.9846783114\n",
      "include: aggregate_8 -> feature_subset: ['aggregate_7', 'aggregate_8']. Accuracy: 59.7335960279\n",
      "include: aggregate_2 -> feature_subset: ['aggregate_7', 'aggregate_8', 'aggregate_2']. Accuracy: 59.5888620435\n",
      "include: difference_min_max -> feature_subset: ['aggregate_7', 'aggregate_8', 'aggregate_2', 'difference_min_max']. Accuracy: 59.2978301021\n",
      "include: aggregate_12 -> feature_subset: ['aggregate_7', 'aggregate_8', 'aggregate_2', 'difference_min_max', 'aggregate_12']. Accuracy: 59.4013819198\n",
      "include: aggregate_10 -> feature_subset: ['aggregate_7', 'aggregate_8', 'aggregate_2', 'difference_min_max', 'aggregate_12', 'aggregate_10']. Accuracy: 59.3084417785\n",
      "include: aggregate_9 -> feature_subset: ['aggregate_7', 'aggregate_8', 'aggregate_2', 'difference_min_max', 'aggregate_12', 'aggregate_10', 'aggregate_9']. Accuracy: 59.2447673772\n",
      "1 ['aggregate_11', 'aggregate_10'] 64.3631097671\n",
      "--------------------------------------------------------------------------------\n",
      "********************\n",
      "Static\n",
      "********************\n",
      "include: area -> feature_subset: ['area']. Accuracy: 56.5832514859\n",
      "include: total_occupants -> feature_subset: ['area', 'total_occupants']. Accuracy: 56.6678069792\n",
      "include: num_rooms -> feature_subset: ['area', 'total_occupants', 'num_rooms']. Accuracy: 51.976611189\n",
      "include: area -> feature_subset: ['area']. Accuracy: 58.7501994915\n",
      "include: num_rooms -> feature_subset: ['area', 'num_rooms']. Accuracy: 56.0266936884\n",
      "include: total_occupants -> feature_subset: ['area', 'num_rooms', 'total_occupants']. Accuracy: 52.4954062702\n",
      "include: area -> feature_subset: ['area']. Accuracy: 57.8338697316\n",
      "include: num_rooms -> feature_subset: ['area', 'num_rooms']. Accuracy: 55.9544299921\n",
      "include: total_occupants -> feature_subset: ['area', 'num_rooms', 'total_occupants']. Accuracy: 54.3329998335\n",
      "include: area -> feature_subset: ['area']. Accuracy: 58.5224084003\n",
      "include: num_rooms -> feature_subset: ['area', 'num_rooms']. Accuracy: 57.0553467722\n",
      "include: total_occupants -> feature_subset: ['area', 'num_rooms', 'total_occupants']. Accuracy: 55.5868662234\n",
      "include: area -> feature_subset: ['area']. Accuracy: 59.5734659992\n",
      "include: total_occupants -> feature_subset: ['area', 'total_occupants']. Accuracy: 57.8335186059\n",
      "include: num_rooms -> feature_subset: ['area', 'total_occupants', 'num_rooms']. Accuracy: 56.1504374541\n",
      "include: area -> feature_subset: ['area']. Accuracy: 60.0456763106\n",
      "include: total_occupants -> feature_subset: ['area', 'total_occupants']. Accuracy: 58.421270905\n",
      "include: num_rooms -> feature_subset: ['area', 'total_occupants', 'num_rooms']. Accuracy: 56.3915840799\n",
      "6 ['area'] 60.0456763106\n",
      "--------------------------------------------------------------------------------\n",
      "%%%%%%%%%%%%%%%%%%%%%%%%%%%%%%%%%%%%%%%%\n",
      "dw\n",
      "%%%%%%%%%%%%%%%%%%%%%%%%%%%%%%%%%%%%%%%%\n",
      "********************\n",
      "Monthly\n",
      "********************\n",
      "include: aggregate_6 -> feature_subset: ['aggregate_6']. Accuracy: 40.5501576357\n",
      "include: aggregate_9 -> feature_subset: ['aggregate_6', 'aggregate_9']. Accuracy: 39.0047346403\n",
      "include: aggregate_8 -> feature_subset: ['aggregate_6', 'aggregate_9', 'aggregate_8']. Accuracy: 41.2554894787\n",
      "include: difference_min_max -> feature_subset: ['aggregate_6', 'aggregate_9', 'aggregate_8', 'difference_min_max']. Accuracy: 41.104565612\n",
      "include: aggregate_4 -> feature_subset: ['aggregate_6', 'aggregate_9', 'aggregate_8', 'difference_min_max', 'aggregate_4']. Accuracy: 40.1882550737\n",
      "include: aggregate_5 -> feature_subset: ['aggregate_6', 'aggregate_9', 'aggregate_8', 'difference_min_max', 'aggregate_4', 'aggregate_5']. Accuracy: 39.3992720609\n",
      "include: aggregate_11 -> feature_subset: ['aggregate_6', 'aggregate_9', 'aggregate_8', 'difference_min_max', 'aggregate_4', 'aggregate_5', 'aggregate_11']. Accuracy: 38.7677143557\n",
      "include: aggregate_5 -> feature_subset: ['aggregate_5']. Accuracy: 41.1515767396\n",
      "include: aggregate_1 -> feature_subset: ['aggregate_5', 'aggregate_1']. Accuracy: 41.2285940255\n",
      "include: aggregate_12 -> feature_subset: ['aggregate_5', 'aggregate_1', 'aggregate_12']. Accuracy: 41.5339216546\n",
      "include: aggregate_9 -> feature_subset: ['aggregate_5', 'aggregate_1', 'aggregate_12', 'aggregate_9']. Accuracy: 40.5433961025\n",
      "include: aggregate_11 -> feature_subset: ['aggregate_5', 'aggregate_1', 'aggregate_12', 'aggregate_9', 'aggregate_11']. Accuracy: 41.1016025022\n",
      "include: aggregate_2 -> feature_subset: ['aggregate_5', 'aggregate_1', 'aggregate_12', 'aggregate_9', 'aggregate_11', 'aggregate_2']. Accuracy: 41.1714610597\n",
      "include: aggregate_4 -> feature_subset: ['aggregate_5', 'aggregate_1', 'aggregate_12', 'aggregate_9', 'aggregate_11', 'aggregate_2', 'aggregate_4']. Accuracy: 40.834906741\n",
      "include: aggregate_8 -> feature_subset: ['aggregate_8']. Accuracy: 41.8858849741\n",
      "include: aggregate_6 -> feature_subset: ['aggregate_8', 'aggregate_6']. Accuracy: 41.8717154844\n",
      "include: aggregate_12 -> feature_subset: ['aggregate_8', 'aggregate_6', 'aggregate_12']. Accuracy: 42.2331786584\n",
      "include: aggregate_2 -> feature_subset: ['aggregate_8', 'aggregate_6', 'aggregate_12', 'aggregate_2']. Accuracy: 41.845344787\n",
      "include: aggregate_5 -> feature_subset: ['aggregate_8', 'aggregate_6', 'aggregate_12', 'aggregate_2', 'aggregate_5']. Accuracy: 41.8277141061\n",
      "include: aggregate_1 -> feature_subset: ['aggregate_8', 'aggregate_6', 'aggregate_12', 'aggregate_2', 'aggregate_5', 'aggregate_1']. Accuracy: 41.670147571\n",
      "include: difference_min_max -> feature_subset: ['aggregate_8', 'aggregate_6', 'aggregate_12', 'aggregate_2', 'aggregate_5', 'aggregate_1', 'difference_min_max']. Accuracy: 40.8302722925\n",
      "include: aggregate_10 -> feature_subset: ['aggregate_10']. Accuracy: 43.3985622703\n",
      "include: aggregate_8 -> feature_subset: ['aggregate_10', 'aggregate_8']. Accuracy: 41.6365889774\n",
      "include: aggregate_6 -> feature_subset: ['aggregate_10', 'aggregate_8', 'aggregate_6']. Accuracy: 40.9800113906\n",
      "include: aggregate_11 -> feature_subset: ['aggregate_10', 'aggregate_8', 'aggregate_6', 'aggregate_11']. Accuracy: 41.4590668979\n",
      "include: aggregate_7 -> feature_subset: ['aggregate_10', 'aggregate_8', 'aggregate_6', 'aggregate_11', 'aggregate_7']. Accuracy: 41.3584134975\n",
      "include: aggregate_4 -> feature_subset: ['aggregate_10', 'aggregate_8', 'aggregate_6', 'aggregate_11', 'aggregate_7', 'aggregate_4']. Accuracy: 41.3457814979\n",
      "include: aggregate_9 -> feature_subset: ['aggregate_10', 'aggregate_8', 'aggregate_6', 'aggregate_11', 'aggregate_7', 'aggregate_4', 'aggregate_9']. Accuracy: 41.2528694966\n",
      "include: aggregate_10 -> feature_subset: ['aggregate_10']. Accuracy: 43.4635520342\n",
      "include: aggregate_8 -> feature_subset: ['aggregate_10', 'aggregate_8']. Accuracy: 41.2196373072\n",
      "include: aggregate_6 -> feature_subset: ['aggregate_10', 'aggregate_8', 'aggregate_6']. Accuracy: 41.3649685174\n",
      "include: aggregate_9 -> feature_subset: ['aggregate_10', 'aggregate_8', 'aggregate_6', 'aggregate_9']. Accuracy: 42.1119952491\n",
      "include: aggregate_11 -> feature_subset: ['aggregate_10', 'aggregate_8', 'aggregate_6', 'aggregate_9', 'aggregate_11']. Accuracy: 42.0381442872\n",
      "include: difference_min_max -> feature_subset: ['aggregate_10', 'aggregate_8', 'aggregate_6', 'aggregate_9', 'aggregate_11', 'difference_min_max']. Accuracy: 41.7169391596\n",
      "include: aggregate_5 -> feature_subset: ['aggregate_10', 'aggregate_8', 'aggregate_6', 'aggregate_9', 'aggregate_11', 'difference_min_max', 'aggregate_5']. Accuracy: 41.9153464843\n",
      "include: aggregate_10 -> feature_subset: ['aggregate_10']. Accuracy: 42.0236288109\n",
      "include: aggregate_8 -> feature_subset: ['aggregate_10', 'aggregate_8']. Accuracy: 41.0527020337\n",
      "include: aggregate_9 -> feature_subset: ['aggregate_10', 'aggregate_8', 'aggregate_9']. Accuracy: 40.8356546012\n",
      "include: aggregate_6 -> feature_subset: ['aggregate_10', 'aggregate_8', 'aggregate_9', 'aggregate_6']. Accuracy: 41.0286399718\n",
      "include: ratio_min_max -> feature_subset: ['aggregate_10', 'aggregate_8', 'aggregate_9', 'aggregate_6', 'ratio_min_max']. Accuracy: 41.4198324973\n",
      "include: aggregate_7 -> feature_subset: ['aggregate_10', 'aggregate_8', 'aggregate_9', 'aggregate_6', 'ratio_min_max', 'aggregate_7']. Accuracy: 41.2079031214\n",
      "include: aggregate_2 -> feature_subset: ['aggregate_10', 'aggregate_8', 'aggregate_9', 'aggregate_6', 'ratio_min_max', 'aggregate_7', 'aggregate_2']. Accuracy: 41.2481587456\n",
      "5 ['aggregate_10'] 43.4635520342\n",
      "--------------------------------------------------------------------------------\n",
      "********************\n",
      "Static\n",
      "********************\n",
      "include: area -> feature_subset: ['area']. Accuracy: 33.1664479757\n",
      "include: total_occupants -> feature_subset: ['area', 'total_occupants']. Accuracy: 30.1069768809\n",
      "include: num_rooms -> feature_subset: ['area', 'total_occupants', 'num_rooms']. Accuracy: 27.1837203034\n",
      "include: area -> feature_subset: ['area']. Accuracy: 35.105864132\n",
      "include: num_rooms -> feature_subset: ['area', 'num_rooms']. Accuracy: 35.0905020017\n",
      "include: total_occupants -> feature_subset: ['area', 'num_rooms', 'total_occupants']. Accuracy: 32.5404945004\n",
      "include: area -> feature_subset: ['area']. Accuracy: 36.0880492788\n",
      "include: num_rooms -> feature_subset: ['area', 'num_rooms']. Accuracy: 35.7460198935\n",
      "include: total_occupants -> feature_subset: ['area', 'num_rooms', 'total_occupants']. Accuracy: 36.1198025498\n",
      "include: area -> feature_subset: ['area']. Accuracy: 38.1961659032\n",
      "include: total_occupants -> feature_subset: ['area', 'total_occupants']. Accuracy: 37.7958366723\n",
      "include: num_rooms -> feature_subset: ['area', 'total_occupants', 'num_rooms']. Accuracy: 34.9461195764\n",
      "include: area -> feature_subset: ['area']. Accuracy: 38.2861880436\n",
      "include: total_occupants -> feature_subset: ['area', 'total_occupants']. Accuracy: 39.2571694628\n",
      "include: num_rooms -> feature_subset: ['area', 'total_occupants', 'num_rooms']. Accuracy: 35.4346045274\n",
      "include: area -> feature_subset: ['area']. Accuracy: 37.1327532271\n",
      "include: total_occupants -> feature_subset: ['area', 'total_occupants']. Accuracy: 38.5554555163\n",
      "include: num_rooms -> feature_subset: ['area', 'total_occupants', 'num_rooms']. Accuracy: 36.524026594\n",
      "5 ['area', 'total_occupants'] 39.2571694628\n",
      "--------------------------------------------------------------------------------\n"
     ]
    }
   ],
   "source": [
    "out_mean, optimal_dict_mean = find_optimal_features(df, dfc, all_homes, appliance_min, national_average, \n",
    "                                                        [\"hvac\",\"light\",\"fridge\",\"dr\",\"wm\",\"dw\"],\n",
    "                                                        {\"Static\":feature_map[\"Static\"],\n",
    "                                                        'Monthly':feature_map['Monthly']},\n",
    "                          NUM_NEIGHBOURS_MAX=7, F_length_max=7, metric=\"mean\",\n",
    "                          train_outlier=True, test_outlier=False, outlier_features=None, outlier_fraction=0.1,\n",
    "                     print_steps=True)"
   ]
  },
  {
   "cell_type": "code",
   "execution_count": 11,
   "metadata": {
    "collapsed": false
   },
   "outputs": [
    {
     "name": "stdout",
     "output_type": "stream",
     "text": [
      "fridge\n",
      "dw\n",
      "dr\n",
      "hvac\n",
      "light\n",
      "wm\n"
     ]
    }
   ],
   "source": [
    "optimal_all_mean = json.load(open(\"without-test-optimal_dict.json\",\"r\"))\n",
    "\n",
    "s = {}\n",
    "for appliance in ['fridge','dw','dr','hvac','light','wm']:\n",
    "    print appliance\n",
    "    s[appliance] = {}\n",
    "    for feature in [\"All\",'Monthly','Static']:\n",
    "        s[appliance][feature] = {}\n",
    "        if feature==\"All\":\n",
    "            k=optimal_all_mean[appliance]['All']['k']\n",
    "            f=optimal_all_mean[appliance]['All']['f']\n",
    "            \n",
    "        else:\n",
    "            k=optimal_dict_mean[appliance][feature]['k']\n",
    "            f=optimal_dict_mean[appliance][feature]['f']\n",
    "            \n",
    "            \n",
    "        temp = create_predictions(df, dfc, all_homes, appliance_min,\n",
    "                                          national_average, appliance=appliance, \n",
    "                                          feature=f,\n",
    "                                          NUM_NEIGHBOURS=k, train_outlier=True, test_outlier=False,\n",
    "                                          outlier_features=None, outlier_fraction=0.1)\n",
    "\n",
    "\n",
    "        errors = {}\n",
    "        if appliance ==\"hvac\":\n",
    "            start_month, end_month = 5, 11\n",
    "        else:\n",
    "            start_month, end_month = 1, 13\n",
    "        for i in range(start_month, end_month):\n",
    "            errors[i] = percentage_error(temp[i][\"gt\"], temp[i][\"pred\"])\n",
    "        error_df = pd.DataFrame(errors)\n",
    "        accur_df = 100-error_df\n",
    "        accur_df[accur_df<0]=0\n",
    "        tdf = accur_df\n",
    "        if appliance ==\"hvac\":\n",
    "            for home in [624, 1953, 6636, 6836, 7769, 9922]:\n",
    "                tdf.loc[home, 5]=np.NaN\n",
    "                tdf.loc[home, 10]=np.NaN\n",
    "\n",
    "        s[appliance][feature] = tdf.dropna().mean().mean()\n",
    "            "
   ]
  },
  {
   "cell_type": "code",
   "execution_count": 12,
   "metadata": {
    "collapsed": true
   },
   "outputs": [],
   "source": [
    "appliance_name_mapping = {\"dr\": \"Dryer\", \"wm\": \"Washing\\nmachine\",\n",
    "                          \"fridge\":\"Fridge\",\"light\":\"Lights\",\n",
    "                          \"hvac\":\"HVAC\",\"dw\":\"Dish\\nwasher\"}"
   ]
  },
  {
   "cell_type": "code",
   "execution_count": 13,
   "metadata": {
    "collapsed": false
   },
   "outputs": [],
   "source": [
    "import matplotlib.pyplot as plt\n",
    "%matplotlib inline"
   ]
  },
  {
   "cell_type": "code",
   "execution_count": 14,
   "metadata": {
    "collapsed": true
   },
   "outputs": [],
   "source": [
    "sen = pd.DataFrame(s)"
   ]
  },
  {
   "cell_type": "code",
   "execution_count": 15,
   "metadata": {
    "collapsed": false
   },
   "outputs": [
    {
     "data": {
      "text/html": [
       "<div>\n",
       "<table border=\"1\" class=\"dataframe\">\n",
       "  <thead>\n",
       "    <tr style=\"text-align: right;\">\n",
       "      <th></th>\n",
       "      <th>dr</th>\n",
       "      <th>dw</th>\n",
       "      <th>fridge</th>\n",
       "      <th>hvac</th>\n",
       "      <th>light</th>\n",
       "      <th>wm</th>\n",
       "    </tr>\n",
       "  </thead>\n",
       "  <tbody>\n",
       "    <tr>\n",
       "      <th>All</th>\n",
       "      <td>47.722867</td>\n",
       "      <td>44.929176</td>\n",
       "      <td>81.121122</td>\n",
       "      <td>82.183540</td>\n",
       "      <td>49.873465</td>\n",
       "      <td>65.535383</td>\n",
       "    </tr>\n",
       "    <tr>\n",
       "      <th>Monthly</th>\n",
       "      <td>44.068747</td>\n",
       "      <td>43.463552</td>\n",
       "      <td>77.740660</td>\n",
       "      <td>82.159865</td>\n",
       "      <td>47.066094</td>\n",
       "      <td>64.363110</td>\n",
       "    </tr>\n",
       "    <tr>\n",
       "      <th>Static</th>\n",
       "      <td>43.113456</td>\n",
       "      <td>39.257169</td>\n",
       "      <td>75.182587</td>\n",
       "      <td>77.885608</td>\n",
       "      <td>48.235812</td>\n",
       "      <td>60.045676</td>\n",
       "    </tr>\n",
       "  </tbody>\n",
       "</table>\n",
       "</div>"
      ],
      "text/plain": [
       "                dr         dw     fridge       hvac      light         wm\n",
       "All      47.722867  44.929176  81.121122  82.183540  49.873465  65.535383\n",
       "Monthly  44.068747  43.463552  77.740660  82.159865  47.066094  64.363110\n",
       "Static   43.113456  39.257169  75.182587  77.885608  48.235812  60.045676"
      ]
     },
     "execution_count": 15,
     "metadata": {},
     "output_type": "execute_result"
    }
   ],
   "source": [
    "sen"
   ]
  },
  {
   "cell_type": "code",
   "execution_count": 16,
   "metadata": {
    "collapsed": true
   },
   "outputs": [],
   "source": [
    "sen = sen.rename(columns=appliance_name_mapping).T"
   ]
  },
  {
   "cell_type": "code",
   "execution_count": 17,
   "metadata": {
    "collapsed": false
   },
   "outputs": [
    {
     "name": "stderr",
     "output_type": "stream",
     "text": [
      "/Users/nipunbatra/anaconda/lib/python2.7/site-packages/matplotlib/__init__.py:872: UserWarning: axes.color_cycle is deprecated and replaced with axes.prop_cycle; please use the latter.\n",
      "  warnings.warn(self.msg_depr % (key, alt_key))\n",
      "/Users/nipunbatra/anaconda/lib/python2.7/site-packages/matplotlib/__init__.py:872: UserWarning: text.fontsize is deprecated and replaced with font.size; please use the latter.\n",
      "  warnings.warn(self.msg_depr % (key, alt_key))\n"
     ]
    }
   ],
   "source": [
    "from common_functions import latexify, format_axes\n",
    "latexify()\n",
    "\n",
    "tableau20blind =  [(31, 119, 180), (174, 199, 232), (255, 127, 14), (255, 187, 120),  \n",
    "             (44, 160, 44), (152, 223, 138), (214, 39, 40), (255, 152, 150),  \n",
    "             (148, 103, 189), (197, 176, 213), (140, 86, 75), (196, 156, 148),  \n",
    "             (227, 119, 194), (247, 182, 210), (127, 127, 127), (199, 199, 199),  \n",
    "             (188, 189, 34), (219, 219, 141), (23, 190, 207), (158, 218, 229)]\n",
    "  \n",
    "# Rescale to values between 0 and 1\n",
    "for i in range(len(tableau20blind)):  \n",
    "    r, g, b = tableau20blind[i]  \n",
    "    tableau20blind[i] = (r / 255., g / 255., b / 255.)"
   ]
  },
  {
   "cell_type": "code",
   "execution_count": 18,
   "metadata": {
    "collapsed": false
   },
   "outputs": [
    {
     "name": "stderr",
     "output_type": "stream",
     "text": [
      "/Users/nipunbatra/anaconda/lib/python2.7/site-packages/pandas/tools/plotting.py:856: UserWarning: 'colors' is being deprecated. Please use 'color'instead of 'colors'\n",
      "  warnings.warn((\"'colors' is being deprecated. Please use 'color'\"\n"
     ]
    },
    {
     "data": {
      "image/png": "[encoded data removed]",
      "text/plain": [
       "<matplotlib.figure.Figure at 0x1124cc910>"
      ]
     },
     "metadata": {},
     "output_type": "display_data"
    }
   ],
   "source": [
    "sen[['Static','Monthly','All']].ix[['HVAC','Fridge','Washing\\nmachine',\n",
    "                                    'Lights','Dryer','Dish\\nwasher']].plot(kind=\"bar\",rot=0, colors=tableau20blind)\n",
    "plt.ylim((0, 100));\n",
    "plt.ylabel(\"Energy accuracy(\\%)\\n(Higher is better)\");\n",
    "plt.tight_layout()\n",
    "format_axes(plt.gca())\n",
    "plt.savefig(\"/Users/nipunbatra/git/monthly-disaggregation/results/features_sensitivity.pdf\",bbox_inches=\"tight\")\n",
    "plt.savefig(\"/Users/nipunbatra/git/monthly-disaggregation/results/features_sensitivity.png\",bbox_inches=\"tight\")"
   ]
  },
  {
   "cell_type": "code",
   "execution_count": null,
   "metadata": {
    "collapsed": true
   },
   "outputs": [],
   "source": []
  },
  {
   "cell_type": "code",
   "execution_count": null,
   "metadata": {
    "collapsed": true
   },
   "outputs": [],
   "source": []
  }
 ],
 "metadata": {
  "kernelspec": {
   "display_name": "Python 2",
   "language": "python",
   "name": "python2"
  },
  "language_info": {
   "codemirror_mode": {
    "name": "ipython",
    "version": 2
   },
   "file_extension": ".py",
   "mimetype": "text/x-python",
   "name": "python",
   "nbconvert_exporter": "python",
   "pygments_lexer": "ipython2",
   "version": "2.7.11"
  }
 },
 "nbformat": 4,
 "nbformat_minor": 0
}
