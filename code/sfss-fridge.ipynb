{
 "cells": [
  {
   "cell_type": "code",
   "execution_count": 1,
   "metadata": {
    "collapsed": false
   },
   "outputs": [
    {
     "name": "stdout",
     "output_type": "stream",
     "text": [
      "fridge 30\n",
      "hvac 44\n",
      "dr 32\n",
      "light 21\n",
      "dw 28\n",
      "wm 26\n"
     ]
    },
    {
     "name": "stderr",
     "output_type": "stream",
     "text": [
      "Vendor:  Continuum Analytics, Inc.\n",
      "Package: mkl\n",
      "Message: trial mode expires in 29 days\n"
     ]
    }
   ],
   "source": [
    "__author__ = 'nipunbatra'\n",
    "\n",
    "import pandas as pd\n",
    "import os\n",
    "import numpy as np\n",
    "from sklearn.ensemble import RandomForestRegressor\n",
    "from sklearn.neighbors import KNeighborsRegressor\n",
    "\n",
    "df = pd.read_csv(\"../main_15min_decomposition_12_daily_weekly_cluster_diff_frac_temp_weekday_hvac_energy_fft.csv\",index_col=0)\n",
    "dfc = df.copy()\n",
    "\n",
    "df = df.drop(871)\n",
    "df = df.drop(1169)\n",
    "\n",
    "\n",
    "\n",
    "w=df[['aggregate_%d' %i for i in range(1,13)]]\n",
    "\n",
    "df = df.ix[w[w>0].dropna().index]\n",
    "\n",
    "\"\"\"\n",
    "features_individual = {#'fraction':[\"fraction_%d\" % i for i in range(1, 25)],\n",
    "                       'area': 'area',\n",
    "                       'autocorr':'autocorr',\n",
    "                       'month': [\"aggregate_%d\" % i for i in range(1, 13)],\n",
    "                       'occupants': 'total_occupants',\n",
    "                       'rooms': 'num_rooms',\n",
    "                       #'seasonal_daily':['stdev_seasonal_daily','max_seasonal_daily'],\n",
    "                       #'trend_daily':['stdev_trend_daily','max_trend_daily'],\n",
    "                       'seasonal_weekly':['stdev_seasonal_weekly','max_seasonal_weekly'],\n",
    "                       'trend_weekly':['stdev_trend_weekly','max_trend_weekly'],}\n",
    "                       #'disag_fridge':'disag_fridge'}\n",
    "                       #'mins_hvac':'mins_hvac',}\n",
    "                       #'month_extract':['variance','ratio_min_max', 'difference_min_max',\n",
    "                        #                'ratio_difference_min_max']}\n",
    "\n",
    "\"\"\"\n",
    "features_individual = {'fraction':[\"fraction_%d\" % i for i in range(1, 25)],\n",
    "                       'area': 'area',\n",
    "                       'autocorr':'autocorr',\n",
    "                       'month': [\"aggregate_%d\" % i for i in range(1, 13)],\n",
    "                       'occupants': 'total_occupants',\n",
    "                       'rooms': 'num_rooms',\n",
    "                       'seasonal_12':['stdev_seasonal_12','max_seasonal_12'],\n",
    "                       'trend_12':['stdev_trend_12','max_trend_12'],\n",
    "\n",
    "                       'seasonal_daily':['stdev_seasonal_daily','max_seasonal_daily'],\n",
    "                       'trend_daily':['stdev_trend_daily','max_trend_daily'],\n",
    "                       'seasonal_weekly':['stdev_seasonal_weekly','max_seasonal_weekly'],\n",
    "                       'trend_weekly':['stdev_trend_weekly','max_trend_weekly'],\n",
    "                       'cluster_big':'cluster_big',\n",
    "                       'cluster_small':'cluster_small',\n",
    "                       'diff':['lt_500','bet_500_1000','gt_1000'],\n",
    "                       'temp':'temperature_corr',\n",
    "                       'week':[\"fraction_%d\" % i for i in range(1, 8)],\n",
    "                       #'disag_fridge':'disag_fridge'}\n",
    "                       'mins_hvac':'mins_hvac',\n",
    "                       'month_extract':['variance','ratio_min_max', 'difference_min_max',\n",
    "                                        'ratio_difference_min_max']}\n",
    "\n",
    "### Monthly ONLY\n",
    "\"\"\"\n",
    "features_individual = {#'fraction':[\"fraction_%d\" % i for i in range(1, 25)],\n",
    "                       'area': 'area',\n",
    "                       #'autocorr':'autocorr',\n",
    "                       'month': [\"aggregate_%d\" % i for i in range(1, 13)],\n",
    "                       'occupants': 'total_occupants',\n",
    "                       'rooms': 'num_rooms',\n",
    "                       #'seasonal_12':['stdev_seasonal_12','max_seasonal_12'],\n",
    "                       #'trend_12':['stdev_trend_12','max_trend_12'],\n",
    "                       #'seasonal_daily':['stdev_seasonal_daily','max_seasonal_daily'],\n",
    "                       #'trend_daily':['stdev_trend_daily','max_trend_daily'],\n",
    "                       #'seasonal_weekly':['stdev_seasonal_weekly','max_seasonal_weekly'],\n",
    "                       #'trend_weekly':['stdev_trend_weekly','max_trend_weekly'],}\n",
    "                       #'disag_fridge':'disag_fridge'}\n",
    "                       #'mins_hvac':'mins_hvac',\n",
    "                       #'cluster_big':'cluster_big',\n",
    "                       #'diff':['lt_500','bet_500_1000','gt_1000'],\n",
    "                       'temp':'temperature_corr',\n",
    "                       'month_extract':['variance','ratio_min_max', 'difference_min_max',\n",
    "                                        'ratio_difference_min_max']}\n",
    "\n",
    "\n",
    "\"\"\"\n",
    "\n",
    "from itertools import combinations\n",
    "features_dict = {}\n",
    "for feature_size in range(1,max(4,len(features_individual))):\n",
    "    combinations_size_n = list(combinations(features_individual.keys(), feature_size))\n",
    "    for com in combinations_size_n:\n",
    "        features_dict[com] = np.hstack([features_individual[x] for x in com]).tolist()\n",
    "\n",
    "\n",
    "\n",
    "hvac_fhmm_pred = pd.read_csv(\"../fhmm_disag_new.csv\", index_col=0)\n",
    "fridge_fhmm_pred = pd.read_csv(\"../fridge_fhmm.csv\", index_col=0)\n",
    "appliance_fhmm = {'fridge': fridge_fhmm_pred,\n",
    "                  'hvac': hvac_fhmm_pred}\n",
    "\n",
    "national_average = {\"fridge\": 0.07, \"hvac\": 0.18, 'wm': 0.01, 'furnace': 0.09, 'dw': 0.02, 'dr': 0.04, 'light': .11}\n",
    "\n",
    "\n",
    "def scale_0_1(ser, minimum=None, maximum=None):\n",
    "    if minimum is not None:\n",
    "        pass\n",
    "    else:\n",
    "        minimum = ser.min()\n",
    "        maximum = ser.max()\n",
    "    return (ser-minimum).div(maximum-minimum)\n",
    "\n",
    "#Normalising features\n",
    "max_aggregate = df[[\"aggregate_%d\" % i for i in range(1, 13)]].max().max()\n",
    "min_aggregate = df[[\"aggregate_%d\" % i for i in range(1, 13)]].min().min()\n",
    "df[[\"aggregate_%d\" % i for i in range(1, 13)]] = scale_0_1(df[[\"aggregate_%d\" % i for i in range(1, 13)]], min_aggregate, max_aggregate)\n",
    "\n",
    "\n",
    "max_weekly = df[[\"daily_usage_%d\" % i for i in range(1, 8)]].max().max()\n",
    "min_weekly = df[[\"daily_usage_%d\" % i for i in range(1, 8)]].min().min()\n",
    "df[[\"daily_usage_%d\" % i for i in range(1, 8)]] = scale_0_1(df[[\"daily_usage_%d\" % i for i in range(1, 8)]], min_weekly, max_weekly)\n",
    "\n",
    "df['area'] = scale_0_1(df['area'])\n",
    "\n",
    "df['num_rooms'] = scale_0_1(df['num_rooms'])\n",
    "df['total_occupants'] = scale_0_1(df['total_occupants'])\n",
    "df['mins_hvac'] =  scale_0_1(df['mins_hvac'])\n",
    "\n",
    "# Adding new feature\n",
    "aa = df[[\"aggregate_%d\" % i for i in range(1, 13)]].copy()\n",
    "df['variance'] = df[[\"aggregate_%d\" % i for i in range(1, 13)]].var(axis=1)\n",
    "df['ratio_min_max'] = aa.min(axis=1)/aa.max(axis=1)\n",
    "\n",
    "\n",
    "df['difference_min_max'] = aa.max(axis=1)-aa.min(axis=1)\n",
    "df['ratio_difference_min_max'] = (aa.max(axis=1)-aa.min(axis=1)).div(aa.max(axis=1))\n",
    "\n",
    "\n",
    "for col in [\"stdev_trend_12\",\"stdev_seasonal_12\",\"max_seasonal_12\",\"max_trend_12\",\n",
    "            \"stdev_trend_daily\",\"stdev_seasonal_daily\",\"max_seasonal_daily\",\"max_trend_daily\",\n",
    "            \"stdev_trend_weekly\",\"stdev_seasonal_weekly\",\"max_seasonal_weekly\",\"max_trend_weekly\",\"disag_fridge\",\n",
    "            'stdev_trend','stdev_seasonal','max_seasonal','max_trend',\n",
    "            'cluster_small','cluster_big', 'temperature_corr', 'variance',\n",
    "            'ratio_min_max','ratio_difference_min_max','seasonal_energy_5','seasonal_energy_6',\n",
    "            'seasonal_energy_7','seasonal_energy_8','seasonal_energy_9','seasonal_energy_10',\n",
    "           'fft_1','fft_2','fft_3','fft_4','fft_5']:\n",
    "    if col in df.columns:\n",
    "\n",
    "        df[col] = scale_0_1(df[col])\n",
    "\n",
    "\n",
    "\n",
    "dfs = {}\n",
    "total = features_dict.values()[np.array(map(len, features_dict.values())).argmax()]\n",
    "for appliance in ['fridge','hvac','dr','light','dw','wm']:\n",
    "    temp=df.ix[df[['%s_%d' %(appliance, i) for i in range(1,13)]].dropna().index]\n",
    "    dfs[appliance] =temp.ix[temp[total].dropna().index]\n",
    "    print appliance, len(dfs[appliance])\n",
    "\n",
    "appliance_min = {'fridge':5,'hvac':5,'wm':0,'dw':0,'dr':0,'light':0}\n",
    "\n",
    "all_homes = {\n",
    "    'dw':[  94,  370,  545,  624, 2156, 2242, 2814, 2829, 3723,\n",
    "            4767, 5357,6636, 6910, 7769, 9934],\n",
    "    'wm':[  94,  370,  545,  624, 2156, 2242, 2814, 3367, 3456, 3723, 3967,\n",
    "            5357, 7769, 9654, 9922, 9934],\n",
    "    'hvac':[  26,   94,  370,  410,  545,  624, 1283, 1642, 1953, 2129,\n",
    "            2156, 2242, 2470, 2814, 2829,  3367, 3456, 3723,\n",
    "            3967, 4767, 5218, 5357, 5371, 5746, 5785, 5814, 6072,\n",
    "            6636, 6836, 6910, 7731, 7769, 7866, 9609, 9654, 9922, 9933, 9934],\n",
    "    'fridge':[  94,  370,  410,  545,  624, 1953, 2156, 2242, 2814, 2829, 3367,\n",
    "            3456, 3723, 3967, 4767, 5357, 5371, 6072, 6636, 6910, 7769, 7866],\n",
    "    'light':df.index.tolist(),\n",
    "        #[ 624, 1334, 2814, 2925, 2986, 3367, 3456, 3482, 3723, 3967, 4732,\n",
    "        #    4767, 5814, 5817, 6072, 6266, 6910, 7016, 7429, 7731, 7769, 7866,\n",
    "        #    8317, 8626, 9052, 9654, 9922],\n",
    "    'dr':[  94,  370,  410, 2156, 2242, 2814, 3456, 3723, 4767,\n",
    "            5785, 5814, 6072, 6636, 6836, 7731, 7769, 7866, 9654, 9922,\n",
    "            9933, 9982]\n",
    "}\n",
    "\n",
    "all_homes = {appliance:dfs[appliance].index for appliance in dfs.keys()}\n",
    "\n",
    "all_homes['fridge'] = np.array(np.setdiff1d(all_homes['fridge'], [2233, 5746, 7016]))\n",
    "all_homes['hvac'] = np.array(np.setdiff1d(all_homes['hvac'], [252, 2925, 2986, 3482, 4732, 5439, 6266,\n",
    "                                                              8626, 1800, 2233, 5817, 7016, 7429, 8317,\n",
    "                                                              9052, 9982]))\n",
    "\n",
    "all_homes['dw'] =  np.array(np.setdiff1d(all_homes['dw'],[2233, 7016]))\n",
    "\n",
    "all_homes['wm'] = np.array([  94,  370,  545,  624, 2156, 2242, 2470, 2814, 3367, 3456, 3723,\n",
    "            3967, 5357, 7769, 9654, 9922, 9934])\n",
    "\n",
    "all_homes['light']=[624, 1334, 3367, 3456, 3723, 5814, 6072, 6910, 7769, 7866, 9654,\n",
    "            9922]\n",
    "\n",
    "def create_predictions(appliance=\"hvac\", feature=['num_rooms', 'total_occupants'],k=2, weights='uniform'):\n",
    "    \n",
    "   \n",
    "    out_month = {}\n",
    "    gt_month = {}\n",
    "    overall_dfs = {}\n",
    "    df_pred_copy = df.copy()\n",
    "    #df_pred_copy = dfs[appliance].copy()\n",
    "    df_pred_copy = df_pred_copy.ix[all_homes[appliance]]\n",
    "    for i, month in enumerate([\"%s_%d\" %(appliance,i) for i in range(1,13)]):\n",
    "        y = df_pred_copy[month]\n",
    "        y2 = y.dropna()\n",
    "        y3 = y2[y2>appliance_min[appliance]].dropna()\n",
    "        df3 = df_pred_copy[feature].ix[y3.index].dropna()\n",
    "        \n",
    "        #df3 = df.ix[y3.index].dropna()\n",
    "        y3 = y3.ix[df3.index]\n",
    "        #df3 = df3.ix[appliance_fhmm[appliance].index].dropna()\n",
    "        #y3 = y3.ix[df3.index]\n",
    "        from sklearn.cross_validation import LeaveOneOut\n",
    "        from sklearn.neighbors import RadiusNeighborsRegressor\n",
    "        #clf = RadiusNeighborsRegressor(radius=k)\n",
    "        clf = KNeighborsRegressor(n_neighbors=k, weights=weights)\n",
    "        #clf = KNeighborsRegressor(n_neighbors=k, weights = 'distance' )\n",
    "        loo = LeaveOneOut(len(df3))\n",
    "        out_pred = []\n",
    "\n",
    "        for train, test in loo:\n",
    "            #clf.fit(preprocessing.normalize(df3[feature_columns[feature]].values[train]), y3.values[train])\n",
    "            clf.fit(df3[feature].values[train], y3.values[train])\n",
    "            #out_pred.append(clf.predict(preprocessing.normalize(df3[feature_columns[feature]].values[test])))\n",
    "            out_pred.append(clf.predict(df3[feature].values[test]))\n",
    "\n",
    "        out_pred = np.hstack(out_pred)\n",
    "\n",
    "        out_month[i+1] = out_pred\n",
    "        gt_month[i+1] = y3.values\n",
    "        overall_dfs[i+1] = pd.DataFrame({\"gt\":y3.values, \"pred\":out_pred,\n",
    "                                              \"gt_total\":dfc.ix[y3.index][\"aggregate_\"+str(i+1)].values}, index=y3.index)\n",
    "        overall_dfs[i+1][\"national average\"] = overall_dfs[i+1][\"gt_total\"]*national_average[appliance]\n",
    "    return overall_dfs\n",
    "\n",
    "def percentage_error(gt, pred):\n",
    "    return 100*np.abs(gt-pred)/(gt)\n",
    "\n",
    "\n",
    "\n",
    "\n",
    "def compute_metrics(df):\n",
    "    temp = df[df.gt_total>0.0]\n",
    "    temp = temp[temp.gt>temp.gt_total]\n",
    "    return {\"Percentage error in appliance energy\":np.median(percentage_error(df[\"gt\"], df[\"pred\"]))\n",
    "            }\n",
    "\n"
   ]
  },
  {
   "cell_type": "code",
   "execution_count": 2,
   "metadata": {
    "collapsed": false
   },
   "outputs": [],
   "source": [
    "def criterion_function(feature_set):\n",
    "    \n",
    "    \n",
    "    temp = create_predictions(appliance, feature_set, k)\n",
    "    errors = {}\n",
    "    for i in range(1, 13):\n",
    "        errors[i] = percentage_error(temp[i][\"gt\"], temp[i][\"pred\"])\n",
    "    error_df = pd.DataFrame(errors)\n",
    "    accur_df = 100-error_df\n",
    "    accur_df[accur_df<0]=0\n",
    "   \n",
    "    if appliance is \"hvac\":\n",
    "         tdf = accur_df[range(5, 11)]\n",
    "    else:\n",
    "        tdf = accur_df\n",
    "    #print tdf.dropna().median().mean(), feature_set\n",
    "    return tdf.dropna().median().mean()"
   ]
  },
  {
   "cell_type": "code",
   "execution_count": 3,
   "metadata": {
    "collapsed": true
   },
   "outputs": [],
   "source": [
    "def seq_forw_select(features, max_k, criterion_func, print_steps=False):\n",
    "    \"\"\"\n",
    "    Implementation of a Sequential Forward Selection algorithm.\n",
    "    \n",
    "    Keyword Arguments:\n",
    "        features (list): The feature space as a list of features.\n",
    "        max_k: Termination criterion; the size of the returned feature subset.\n",
    "        criterion_func (function): Function that is used to evaluate the\n",
    "            performance of the feature subset.\n",
    "        print_steps (bool): Prints the algorithm procedure if True.\n",
    "    \n",
    "    Returns the selected feature subset, a list of features of length max_k.\n",
    "\n",
    "    \"\"\"\n",
    "\n",
    "    # Initialization\n",
    "    feat_sub = []\n",
    "    k = 0\n",
    "    d = len(features)\n",
    "    if max_k > d:\n",
    "        max_k = d\n",
    "\n",
    "    while True:\n",
    "\n",
    "        # Inclusion step\n",
    "        \n",
    "        crit_func_max = criterion_func(feat_sub + [features[0]])\n",
    "        best_feat = features[0]\n",
    "        for x in features[1:]:\n",
    "            crit_func_eval = criterion_func(feat_sub + [x])\n",
    "            if crit_func_eval > crit_func_max:\n",
    "                crit_func_max = crit_func_eval\n",
    "                best_feat = x\n",
    "        feat_sub.append(best_feat)\n",
    "        if print_steps:\n",
    "            print('include: {} -> feature_subset: {}. Accuracy: {}'.format(best_feat, feat_sub, crit_func_max))\n",
    "        features.remove(best_feat)\n",
    "\n",
    "        # Termination condition\n",
    "        k = len(feat_sub)\n",
    "        if k == max_k:\n",
    "            break\n",
    "\n",
    "    return feat_sub"
   ]
  },
  {
   "cell_type": "code",
   "execution_count": 4,
   "metadata": {
    "collapsed": true
   },
   "outputs": [],
   "source": [
    "a = np.hstack([[\"aggregate_%d\" %i for i in range(1,13)],\n",
    "            [\"fraction_%d\" %i for i in range(1,25)],\n",
    "         \"autocorr\",\n",
    "         \"max_seasonal_12\",\n",
    "        \"stdev_seasonal_12\",\n",
    "        \"max_trend_12\",\n",
    "        \"stdev_trend_12\",\n",
    "        \"max_seasonal_daily\",\n",
    "        \"stdev_seasonal_daily\",\n",
    "        \"max_trend_daily\",\n",
    "        \"stdev_trend_daily\",\n",
    "         \"max_seasonal_weekly\",\n",
    "        \"stdev_seasonal_weekly\",\n",
    "        \"max_trend_weekly\",\n",
    "        \"stdev_trend_weekly\",\n",
    "        \"disag_fridge\",\n",
    "        \"cluster_small\",\n",
    "        \"cluster_big\",\n",
    "        \"lt_500\",\n",
    "        \"bet_500_1000\",\n",
    "        \"gt_1000\",\n",
    "        \"temperature_corr\",\n",
    "         [\"daily_usage_%d\" %i for i in range(1,8)],\n",
    "        \"area\",\n",
    "        \"num_rooms\",\n",
    "        \"mins_hvac\",\n",
    "        \"total_occupants\",\n",
    "               ['variance','ratio_min_max', 'difference_min_max',\n",
    "                                        'ratio_difference_min_max'],\n",
    "               [\"seasonal_energy_%d\" %i for i in range(5,11)],\n",
    "        [\"fft_%d\" %i for i in range(1, 6)]\n",
    "\n",
    "           ])"
   ]
  },
  {
   "cell_type": "code",
   "execution_count": 5,
   "metadata": {
    "collapsed": true
   },
   "outputs": [],
   "source": [
    "only_month = np.hstack([[\"aggregate_%d\" %i for i in range(1,13)],\n",
    "            [\"fraction_%d\" %i for i in range(1,25)],\n",
    "         \"autocorr\",\n",
    "         \"max_seasonal_12\",\n",
    "        \"stdev_seasonal_12\",\n",
    "        \"max_trend_12\",\n",
    "        \"stdev_trend_12\",\n",
    "        \"max_seasonal_daily\",\n",
    "        \"stdev_seasonal_daily\",\n",
    "        \"max_trend_daily\",\n",
    "        \"stdev_trend_daily\",\n",
    "         \"max_seasonal_weekly\",\n",
    "        \"stdev_seasonal_weekly\",\n",
    "        \"max_trend_weekly\",\n",
    "        \"stdev_trend_weekly\",\n",
    "        \"disag_fridge\",\n",
    "        \"cluster_small\",\n",
    "        \"cluster_big\",\n",
    "        \"lt_500\",\n",
    "        \"bet_500_1000\",\n",
    "        \"gt_1000\",\n",
    "        \"temperature_corr\",\n",
    "         [\"daily_usage_%d\" %i for i in range(1,8)],\n",
    "        ['variance','ratio_min_max', 'difference_min_max',\n",
    "                                        'ratio_difference_min_max']\n",
    "\n",
    "           ])"
   ]
  },
  {
   "cell_type": "code",
   "execution_count": 10,
   "metadata": {
    "collapsed": true
   },
   "outputs": [],
   "source": [
    "hvac_all_features = a.tolist()\n",
    "#hvac_all_features = [x for x in hvac_all_features if 'daily_usage' not in x]\n",
    "hvac_all_features = [x for x in hvac_all_features if 'stdev_trend' not in x]\n",
    "hvac_all_features = [x for x in hvac_all_features if 'stdev_seasonal' not in x]"
   ]
  },
  {
   "cell_type": "code",
   "execution_count": 11,
   "metadata": {
    "collapsed": false
   },
   "outputs": [
    {
     "data": {
      "text/plain": [
       "(82, 76)"
      ]
     },
     "execution_count": 11,
     "metadata": {},
     "output_type": "execute_result"
    }
   ],
   "source": [
    "len(a), len(hvac_all_features)"
   ]
  },
  {
   "cell_type": "code",
   "execution_count": 13,
   "metadata": {
    "collapsed": false
   },
   "outputs": [
    {
     "name": "stdout",
     "output_type": "stream",
     "text": [
      "********************\n",
      "fridge\n",
      "********************\n",
      "++++++++++++++++++++\n",
      "2\n",
      "include: max_seasonal_weekly -> feature_subset: ['max_seasonal_weekly']. Accuracy: 79.6552437212\n",
      "include: fft_3 -> feature_subset: ['max_seasonal_weekly', 'fft_3']. Accuracy: 82.0850099505\n",
      "include: cluster_small -> feature_subset: ['max_seasonal_weekly', 'fft_3', 'cluster_small']. Accuracy: 84.2407871648\n",
      "include: max_trend_12 -> feature_subset: ['max_seasonal_weekly', 'fft_3', 'cluster_small', 'max_trend_12']. Accuracy: 85.7051809441\n",
      "include: max_trend_daily -> feature_subset: ['max_seasonal_weekly', 'fft_3', 'cluster_small', 'max_trend_12', 'max_trend_daily']. Accuracy: 86.5876418515\n",
      "include: gt_1000 -> feature_subset: ['max_seasonal_weekly', 'fft_3', 'cluster_small', 'max_trend_12', 'max_trend_daily', 'gt_1000']. Accuracy: 86.2271739595\n",
      "include: difference_min_max -> feature_subset: ['max_seasonal_weekly', 'fft_3', 'cluster_small', 'max_trend_12', 'max_trend_daily', 'gt_1000', 'difference_min_max']. Accuracy: 85.9364598028\n",
      "include: fraction_9 -> feature_subset: ['max_seasonal_weekly', 'fft_3', 'cluster_small', 'max_trend_12', 'max_trend_daily', 'gt_1000', 'difference_min_max', 'fraction_9']. Accuracy: 86.4559456461\n",
      "include: fft_4 -> feature_subset: ['max_seasonal_weekly', 'fft_3', 'cluster_small', 'max_trend_12', 'max_trend_daily', 'gt_1000', 'difference_min_max', 'fraction_9', 'fft_4']. Accuracy: 86.7647881684\n",
      "include: max_seasonal_daily -> feature_subset: ['max_seasonal_weekly', 'fft_3', 'cluster_small', 'max_trend_12', 'max_trend_daily', 'gt_1000', 'difference_min_max', 'fraction_9', 'fft_4', 'max_seasonal_daily']. Accuracy: 86.7890219662\n",
      "include: lt_500 -> feature_subset: ['max_seasonal_weekly', 'fft_3', 'cluster_small', 'max_trend_12', 'max_trend_daily', 'gt_1000', 'difference_min_max', 'fraction_9', 'fft_4', 'max_seasonal_daily', 'lt_500']. Accuracy: 86.5211537149\n",
      "include: fft_1 -> feature_subset: ['max_seasonal_weekly', 'fft_3', 'cluster_small', 'max_trend_12', 'max_trend_daily', 'gt_1000', 'difference_min_max', 'fraction_9', 'fft_4', 'max_seasonal_daily', 'lt_500', 'fft_1']. Accuracy: 86.7880257482\n",
      "include: fraction_7 -> feature_subset: ['max_seasonal_weekly', 'fft_3', 'cluster_small', 'max_trend_12', 'max_trend_daily', 'gt_1000', 'difference_min_max', 'fraction_9', 'fft_4', 'max_seasonal_daily', 'lt_500', 'fft_1', 'fraction_7']. Accuracy: 86.2189284033\n",
      "include: fraction_17 -> feature_subset: ['max_seasonal_weekly', 'fft_3', 'cluster_small', 'max_trend_12', 'max_trend_daily', 'gt_1000', 'difference_min_max', 'fraction_9', 'fft_4', 'max_seasonal_daily', 'lt_500', 'fft_1', 'fraction_7', 'fraction_17']. Accuracy: 87.6863381396\n",
      "include: fraction_14 -> feature_subset: ['max_seasonal_weekly', 'fft_3', 'cluster_small', 'max_trend_12', 'max_trend_daily', 'gt_1000', 'difference_min_max', 'fraction_9', 'fft_4', 'max_seasonal_daily', 'lt_500', 'fft_1', 'fraction_7', 'fraction_17', 'fraction_14']. Accuracy: 87.8181761867\n"
     ]
    }
   ],
   "source": [
    "#for appliance in [\"fridge\",\"wm\",\"light\",\"dr\",\"dw\"]:\n",
    "for appliance in [\"fridge\"]:\n",
    "    print \"*\"*20\n",
    "    print appliance\n",
    "    print \"*\"*20\n",
    "    for k in range(2, 3):\n",
    "        print \"+\"*20\n",
    "        print k\n",
    "        best=seq_forw_select(features=hvac_all_features, max_k=15,\n",
    "                      criterion_func=criterion_function, print_steps=True)\n",
    "        \n",
    "        "
   ]
  },
  {
   "cell_type": "code",
   "execution_count": 14,
   "metadata": {
    "collapsed": false
   },
   "outputs": [
    {
     "name": "stdout",
     "output_type": "stream",
     "text": [
      "********************\n",
      "fridge\n",
      "********************\n",
      "++++++++++++++++++++\n",
      "3\n",
      "include: fraction_15 -> feature_subset: ['fraction_15']. Accuracy: 75.8464582903\n",
      "include: daily_usage_5 -> feature_subset: ['fraction_15', 'daily_usage_5']. Accuracy: 79.6204449633\n",
      "include: fraction_20 -> feature_subset: ['fraction_15', 'daily_usage_5', 'fraction_20']. Accuracy: 81.6690437364\n",
      "include: cluster_big -> feature_subset: ['fraction_15', 'daily_usage_5', 'fraction_20', 'cluster_big']. Accuracy: 84.8969992789\n",
      "include: daily_usage_2 -> feature_subset: ['fraction_15', 'daily_usage_5', 'fraction_20', 'cluster_big', 'daily_usage_2']. Accuracy: 85.0411764805\n",
      "include: ratio_difference_min_max -> feature_subset: ['fraction_15', 'daily_usage_5', 'fraction_20', 'cluster_big', 'daily_usage_2', 'ratio_difference_min_max']. Accuracy: 85.6420427314\n",
      "include: disag_fridge -> feature_subset: ['fraction_15', 'daily_usage_5', 'fraction_20', 'cluster_big', 'daily_usage_2', 'ratio_difference_min_max', 'disag_fridge']. Accuracy: 85.9635926281\n",
      "include: fraction_12 -> feature_subset: ['fraction_15', 'daily_usage_5', 'fraction_20', 'cluster_big', 'daily_usage_2', 'ratio_difference_min_max', 'disag_fridge', 'fraction_12']. Accuracy: 85.9238739681\n",
      "include: fraction_19 -> feature_subset: ['fraction_15', 'daily_usage_5', 'fraction_20', 'cluster_big', 'daily_usage_2', 'ratio_difference_min_max', 'disag_fridge', 'fraction_12', 'fraction_19']. Accuracy: 86.0801302508\n",
      "include: aggregate_9 -> feature_subset: ['fraction_15', 'daily_usage_5', 'fraction_20', 'cluster_big', 'daily_usage_2', 'ratio_difference_min_max', 'disag_fridge', 'fraction_12', 'fraction_19', 'aggregate_9']. Accuracy: 86.4074889605\n",
      "include: seasonal_energy_5 -> feature_subset: ['fraction_15', 'daily_usage_5', 'fraction_20', 'cluster_big', 'daily_usage_2', 'ratio_difference_min_max', 'disag_fridge', 'fraction_12', 'fraction_19', 'aggregate_9', 'seasonal_energy_5']. Accuracy: 86.3769855737\n",
      "include: fraction_21 -> feature_subset: ['fraction_15', 'daily_usage_5', 'fraction_20', 'cluster_big', 'daily_usage_2', 'ratio_difference_min_max', 'disag_fridge', 'fraction_12', 'fraction_19', 'aggregate_9', 'seasonal_energy_5', 'fraction_21']. Accuracy: 86.8432746028\n",
      "include: mins_hvac -> feature_subset: ['fraction_15', 'daily_usage_5', 'fraction_20', 'cluster_big', 'daily_usage_2', 'ratio_difference_min_max', 'disag_fridge', 'fraction_12', 'fraction_19', 'aggregate_9', 'seasonal_energy_5', 'fraction_21', 'mins_hvac']. Accuracy: 87.001897419\n",
      "include: fraction_16 -> feature_subset: ['fraction_15', 'daily_usage_5', 'fraction_20', 'cluster_big', 'daily_usage_2', 'ratio_difference_min_max', 'disag_fridge', 'fraction_12', 'fraction_19', 'aggregate_9', 'seasonal_energy_5', 'fraction_21', 'mins_hvac', 'fraction_16']. Accuracy: 87.0950564685\n",
      "include: variance -> feature_subset: ['fraction_15', 'daily_usage_5', 'fraction_20', 'cluster_big', 'daily_usage_2', 'ratio_difference_min_max', 'disag_fridge', 'fraction_12', 'fraction_19', 'aggregate_9', 'seasonal_energy_5', 'fraction_21', 'mins_hvac', 'fraction_16', 'variance']. Accuracy: 86.5532949957\n"
     ]
    }
   ],
   "source": [
    "#for appliance in [\"fridge\",\"wm\",\"light\",\"dr\",\"dw\"]:\n",
    "for appliance in [\"fridge\"]:\n",
    "    print \"*\"*20\n",
    "    print appliance\n",
    "    print \"*\"*20\n",
    "    for k in range(3, 4):\n",
    "        print \"+\"*20\n",
    "        print k\n",
    "        best=seq_forw_select(features=hvac_all_features, max_k=15,\n",
    "                      criterion_func=criterion_function, print_steps=True)"
   ]
  },
  {
   "cell_type": "code",
   "execution_count": 15,
   "metadata": {
    "collapsed": false
   },
   "outputs": [
    {
     "name": "stdout",
     "output_type": "stream",
     "text": [
      "********************\n",
      "fridge\n",
      "********************\n",
      "++++++++++++++++++++\n",
      "4\n",
      "include: aggregate_7 -> feature_subset: ['aggregate_7']. Accuracy: 77.8575622742\n",
      "include: fraction_18 -> feature_subset: ['aggregate_7', 'fraction_18']. Accuracy: 82.2524312449\n",
      "include: max_trend_weekly -> feature_subset: ['aggregate_7', 'fraction_18', 'max_trend_weekly']. Accuracy: 83.7667263631\n",
      "include: fft_2 -> feature_subset: ['aggregate_7', 'fraction_18', 'max_trend_weekly', 'fft_2']. Accuracy: 85.31543423\n",
      "include: fraction_8 -> feature_subset: ['aggregate_7', 'fraction_18', 'max_trend_weekly', 'fft_2', 'fraction_8']. Accuracy: 86.6675506181\n",
      "include: autocorr -> feature_subset: ['aggregate_7', 'fraction_18', 'max_trend_weekly', 'fft_2', 'fraction_8', 'autocorr']. Accuracy: 86.7351635135\n",
      "include: daily_usage_7 -> feature_subset: ['aggregate_7', 'fraction_18', 'max_trend_weekly', 'fft_2', 'fraction_8', 'autocorr', 'daily_usage_7']. Accuracy: 86.0246733939\n",
      "include: aggregate_10 -> feature_subset: ['aggregate_7', 'fraction_18', 'max_trend_weekly', 'fft_2', 'fraction_8', 'autocorr', 'daily_usage_7', 'aggregate_10']. Accuracy: 85.7799622307\n",
      "include: aggregate_5 -> feature_subset: ['aggregate_7', 'fraction_18', 'max_trend_weekly', 'fft_2', 'fraction_8', 'autocorr', 'daily_usage_7', 'aggregate_10', 'aggregate_5']. Accuracy: 85.259343918\n",
      "include: fraction_22 -> feature_subset: ['aggregate_7', 'fraction_18', 'max_trend_weekly', 'fft_2', 'fraction_8', 'autocorr', 'daily_usage_7', 'aggregate_10', 'aggregate_5', 'fraction_22']. Accuracy: 85.1262345124\n",
      "include: fraction_13 -> feature_subset: ['aggregate_7', 'fraction_18', 'max_trend_weekly', 'fft_2', 'fraction_8', 'autocorr', 'daily_usage_7', 'aggregate_10', 'aggregate_5', 'fraction_22', 'fraction_13']. Accuracy: 87.5009618168\n",
      "include: daily_usage_6 -> feature_subset: ['aggregate_7', 'fraction_18', 'max_trend_weekly', 'fft_2', 'fraction_8', 'autocorr', 'daily_usage_7', 'aggregate_10', 'aggregate_5', 'fraction_22', 'fraction_13', 'daily_usage_6']. Accuracy: 87.7566354459\n",
      "include: fraction_10 -> feature_subset: ['aggregate_7', 'fraction_18', 'max_trend_weekly', 'fft_2', 'fraction_8', 'autocorr', 'daily_usage_7', 'aggregate_10', 'aggregate_5', 'fraction_22', 'fraction_13', 'daily_usage_6', 'fraction_10']. Accuracy: 87.6754104564\n",
      "include: seasonal_energy_6 -> feature_subset: ['aggregate_7', 'fraction_18', 'max_trend_weekly', 'fft_2', 'fraction_8', 'autocorr', 'daily_usage_7', 'aggregate_10', 'aggregate_5', 'fraction_22', 'fraction_13', 'daily_usage_6', 'fraction_10', 'seasonal_energy_6']. Accuracy: 87.1307577845\n",
      "include: fraction_23 -> feature_subset: ['aggregate_7', 'fraction_18', 'max_trend_weekly', 'fft_2', 'fraction_8', 'autocorr', 'daily_usage_7', 'aggregate_10', 'aggregate_5', 'fraction_22', 'fraction_13', 'daily_usage_6', 'fraction_10', 'seasonal_energy_6', 'fraction_23']. Accuracy: 86.921152144\n"
     ]
    }
   ],
   "source": [
    "#for appliance in [\"fridge\",\"wm\",\"light\",\"dr\",\"dw\"]:\n",
    "for appliance in [\"fridge\"]:\n",
    "    print \"*\"*20\n",
    "    print appliance\n",
    "    print \"*\"*20\n",
    "    for k in range(4, 5):\n",
    "        print \"+\"*20\n",
    "        print k\n",
    "        best=seq_forw_select(features=hvac_all_features, max_k=15,\n",
    "                      criterion_func=criterion_function, print_steps=True)"
   ]
  },
  {
   "cell_type": "code",
   "execution_count": 193,
   "metadata": {
    "collapsed": false
   },
   "outputs": [
    {
     "name": "stdout",
     "output_type": "stream",
     "text": [
      "********************\n",
      "dw\n",
      "********************\n",
      "++++++++++++++++++++\n",
      "2\n",
      "include: fraction_20 -> feature_subset: ['fraction_20']. Accuracy: 37.9745715506\n",
      "include: fraction_10 -> feature_subset: ['fraction_20', 'fraction_10']. Accuracy: 48.369931148\n",
      "include: bet_500_1000 -> feature_subset: ['fraction_20', 'fraction_10', 'bet_500_1000']. Accuracy: 48.7570496946\n",
      "include: fraction_24 -> feature_subset: ['fraction_20', 'fraction_10', 'bet_500_1000', 'fraction_24']. Accuracy: 43.3610871897\n",
      "include: difference_min_max -> feature_subset: ['fraction_20', 'fraction_10', 'bet_500_1000', 'fraction_24', 'difference_min_max']. Accuracy: 54.3902038479\n",
      "include: gt_1000 -> feature_subset: ['fraction_20', 'fraction_10', 'bet_500_1000', 'fraction_24', 'difference_min_max', 'gt_1000']. Accuracy: 54.4627947696\n",
      "include: variance -> feature_subset: ['fraction_20', 'fraction_10', 'bet_500_1000', 'fraction_24', 'difference_min_max', 'gt_1000', 'variance']. Accuracy: 54.4627947696\n",
      "include: fraction_18 -> feature_subset: ['fraction_20', 'fraction_10', 'bet_500_1000', 'fraction_24', 'difference_min_max', 'gt_1000', 'variance', 'fraction_18']. Accuracy: 48.2836870524\n",
      "include: cluster_small -> feature_subset: ['fraction_20', 'fraction_10', 'bet_500_1000', 'fraction_24', 'difference_min_max', 'gt_1000', 'variance', 'fraction_18', 'cluster_small']. Accuracy: 50.4587263529\n",
      "include: daily_usage_2 -> feature_subset: ['fraction_20', 'fraction_10', 'bet_500_1000', 'fraction_24', 'difference_min_max', 'gt_1000', 'variance', 'fraction_18', 'cluster_small', 'daily_usage_2']. Accuracy: 45.9820562867\n",
      "++++++++++++++++++++\n",
      "3\n",
      "include: aggregate_5 -> feature_subset: ['aggregate_5']. Accuracy: 36.450896118\n",
      "include: fraction_20 -> feature_subset: ['aggregate_5', 'fraction_20']. Accuracy: 41.3642037196\n",
      "include: daily_usage_5 -> feature_subset: ['aggregate_5', 'fraction_20', 'daily_usage_5']. Accuracy: 44.7373102046\n",
      "include: total_occupants -> feature_subset: ['aggregate_5', 'fraction_20', 'daily_usage_5', 'total_occupants']. Accuracy: 47.2097264136\n",
      "include: daily_usage_2 -> feature_subset: ['aggregate_5', 'fraction_20', 'daily_usage_5', 'total_occupants', 'daily_usage_2']. Accuracy: 49.2995706327\n",
      "include: daily_usage_4 -> feature_subset: ['aggregate_5', 'fraction_20', 'daily_usage_5', 'total_occupants', 'daily_usage_2', 'daily_usage_4']. Accuracy: 52.0539490285\n",
      "include: aggregate_3 -> feature_subset: ['aggregate_5', 'fraction_20', 'daily_usage_5', 'total_occupants', 'daily_usage_2', 'daily_usage_4', 'aggregate_3']. Accuracy: 52.429830602\n",
      "include: daily_usage_3 -> feature_subset: ['aggregate_5', 'fraction_20', 'daily_usage_5', 'total_occupants', 'daily_usage_2', 'daily_usage_4', 'aggregate_3', 'daily_usage_3']. Accuracy: 53.1765111594\n",
      "include: aggregate_2 -> feature_subset: ['aggregate_5', 'fraction_20', 'daily_usage_5', 'total_occupants', 'daily_usage_2', 'daily_usage_4', 'aggregate_3', 'daily_usage_3', 'aggregate_2']. Accuracy: 53.1765111594\n",
      "include: bet_500_1000 -> feature_subset: ['aggregate_5', 'fraction_20', 'daily_usage_5', 'total_occupants', 'daily_usage_2', 'daily_usage_4', 'aggregate_3', 'daily_usage_3', 'aggregate_2', 'bet_500_1000']. Accuracy: 53.1765111594\n",
      "++++++++++++++++++++\n",
      "4\n",
      "include: mins_hvac -> feature_subset: ['mins_hvac']. Accuracy: 48.5492126724\n",
      "include: variance -> feature_subset: ['mins_hvac', 'variance']. Accuracy: 48.5492126724\n",
      "include: aggregate_1 -> feature_subset: ['mins_hvac', 'variance', 'aggregate_1']. Accuracy: 48.0186286636\n",
      "include: aggregate_2 -> feature_subset: ['mins_hvac', 'variance', 'aggregate_1', 'aggregate_2']. Accuracy: 50.2412049895\n",
      "include: lt_500 -> feature_subset: ['mins_hvac', 'variance', 'aggregate_1', 'aggregate_2', 'lt_500']. Accuracy: 51.8791252462\n",
      "include: aggregate_11 -> feature_subset: ['mins_hvac', 'variance', 'aggregate_1', 'aggregate_2', 'lt_500', 'aggregate_11']. Accuracy: 53.3059083012\n",
      "include: cluster_small -> feature_subset: ['mins_hvac', 'variance', 'aggregate_1', 'aggregate_2', 'lt_500', 'aggregate_11', 'cluster_small']. Accuracy: 51.958396341\n"
     ]
    },
    {
     "ename": "KeyboardInterrupt",
     "evalue": "",
     "output_type": "error",
     "traceback": [
      "\u001b[0;31m---------------------------------------------------------------------------\u001b[0m",
      "\u001b[0;31mKeyboardInterrupt\u001b[0m                         Traceback (most recent call last)",
      "\u001b[0;32m<ipython-input-193-659068cdb88e>\u001b[0m in \u001b[0;36m<module>\u001b[0;34m()\u001b[0m\n\u001b[1;32m      7\u001b[0m         \u001b[0;32mprint\u001b[0m \u001b[0mk\u001b[0m\u001b[0;34m\u001b[0m\u001b[0m\n\u001b[1;32m      8\u001b[0m         best=seq_forw_select(features=a.tolist(), max_k=10,\n\u001b[0;32m----> 9\u001b[0;31m                       criterion_func=criterion_function, print_steps=True)\n\u001b[0m",
      "\u001b[0;32m<ipython-input-3-5e6634faf1e9>\u001b[0m in \u001b[0;36mseq_forw_select\u001b[0;34m(features, max_k, criterion_func, print_steps)\u001b[0m\n\u001b[1;32m     28\u001b[0m         \u001b[0mbest_feat\u001b[0m \u001b[0;34m=\u001b[0m \u001b[0mfeatures\u001b[0m\u001b[0;34m[\u001b[0m\u001b[0;36m0\u001b[0m\u001b[0;34m]\u001b[0m\u001b[0;34m\u001b[0m\u001b[0m\n\u001b[1;32m     29\u001b[0m         \u001b[0;32mfor\u001b[0m \u001b[0mx\u001b[0m \u001b[0;32min\u001b[0m \u001b[0mfeatures\u001b[0m\u001b[0;34m[\u001b[0m\u001b[0;36m1\u001b[0m\u001b[0;34m:\u001b[0m\u001b[0;34m]\u001b[0m\u001b[0;34m:\u001b[0m\u001b[0;34m\u001b[0m\u001b[0m\n\u001b[0;32m---> 30\u001b[0;31m             \u001b[0mcrit_func_eval\u001b[0m \u001b[0;34m=\u001b[0m \u001b[0mcriterion_func\u001b[0m\u001b[0;34m(\u001b[0m\u001b[0mfeat_sub\u001b[0m \u001b[0;34m+\u001b[0m \u001b[0;34m[\u001b[0m\u001b[0mx\u001b[0m\u001b[0;34m]\u001b[0m\u001b[0;34m)\u001b[0m\u001b[0;34m\u001b[0m\u001b[0m\n\u001b[0m\u001b[1;32m     31\u001b[0m             \u001b[0;32mif\u001b[0m \u001b[0mcrit_func_eval\u001b[0m \u001b[0;34m>\u001b[0m \u001b[0mcrit_func_max\u001b[0m\u001b[0;34m:\u001b[0m\u001b[0;34m\u001b[0m\u001b[0m\n\u001b[1;32m     32\u001b[0m                 \u001b[0mcrit_func_max\u001b[0m \u001b[0;34m=\u001b[0m \u001b[0mcrit_func_eval\u001b[0m\u001b[0;34m\u001b[0m\u001b[0m\n",
      "\u001b[0;32m<ipython-input-2-b58d486e6a4f>\u001b[0m in \u001b[0;36mcriterion_function\u001b[0;34m(feature_set)\u001b[0m\n\u001b[1;32m      2\u001b[0m \u001b[0;34m\u001b[0m\u001b[0m\n\u001b[1;32m      3\u001b[0m \u001b[0;34m\u001b[0m\u001b[0m\n\u001b[0;32m----> 4\u001b[0;31m     \u001b[0mtemp\u001b[0m \u001b[0;34m=\u001b[0m \u001b[0mcreate_predictions\u001b[0m\u001b[0;34m(\u001b[0m\u001b[0mappliance\u001b[0m\u001b[0;34m,\u001b[0m \u001b[0mfeature_set\u001b[0m\u001b[0;34m,\u001b[0m \u001b[0mk\u001b[0m\u001b[0;34m)\u001b[0m\u001b[0;34m\u001b[0m\u001b[0m\n\u001b[0m\u001b[1;32m      5\u001b[0m     \u001b[0merrors\u001b[0m \u001b[0;34m=\u001b[0m \u001b[0;34m{\u001b[0m\u001b[0;34m}\u001b[0m\u001b[0;34m\u001b[0m\u001b[0m\n\u001b[1;32m      6\u001b[0m     \u001b[0;32mfor\u001b[0m \u001b[0mi\u001b[0m \u001b[0;32min\u001b[0m \u001b[0mrange\u001b[0m\u001b[0;34m(\u001b[0m\u001b[0;36m1\u001b[0m\u001b[0;34m,\u001b[0m \u001b[0;36m13\u001b[0m\u001b[0;34m)\u001b[0m\u001b[0;34m:\u001b[0m\u001b[0;34m\u001b[0m\u001b[0m\n",
      "\u001b[0;32m<ipython-input-192-4f77ff24bbde>\u001b[0m in \u001b[0;36mcreate_predictions\u001b[0;34m(appliance, feature, k, weights)\u001b[0m\n\u001b[1;32m    203\u001b[0m         \u001b[0;32mfor\u001b[0m \u001b[0mtrain\u001b[0m\u001b[0;34m,\u001b[0m \u001b[0mtest\u001b[0m \u001b[0;32min\u001b[0m \u001b[0mloo\u001b[0m\u001b[0;34m:\u001b[0m\u001b[0;34m\u001b[0m\u001b[0m\n\u001b[1;32m    204\u001b[0m             \u001b[0;31m#clf.fit(preprocessing.normalize(df3[feature_columns[feature]].values[train]), y3.values[train])\u001b[0m\u001b[0;34m\u001b[0m\u001b[0;34m\u001b[0m\u001b[0m\n\u001b[0;32m--> 205\u001b[0;31m             \u001b[0mclf\u001b[0m\u001b[0;34m.\u001b[0m\u001b[0mfit\u001b[0m\u001b[0;34m(\u001b[0m\u001b[0mdf3\u001b[0m\u001b[0;34m[\u001b[0m\u001b[0mfeature\u001b[0m\u001b[0;34m]\u001b[0m\u001b[0;34m.\u001b[0m\u001b[0mvalues\u001b[0m\u001b[0;34m[\u001b[0m\u001b[0mtrain\u001b[0m\u001b[0;34m]\u001b[0m\u001b[0;34m,\u001b[0m \u001b[0my3\u001b[0m\u001b[0;34m.\u001b[0m\u001b[0mvalues\u001b[0m\u001b[0;34m[\u001b[0m\u001b[0mtrain\u001b[0m\u001b[0;34m]\u001b[0m\u001b[0;34m)\u001b[0m\u001b[0;34m\u001b[0m\u001b[0m\n\u001b[0m\u001b[1;32m    206\u001b[0m             \u001b[0;31m#out_pred.append(clf.predict(preprocessing.normalize(df3[feature_columns[feature]].values[test])))\u001b[0m\u001b[0;34m\u001b[0m\u001b[0;34m\u001b[0m\u001b[0m\n\u001b[1;32m    207\u001b[0m             \u001b[0mout_pred\u001b[0m\u001b[0;34m.\u001b[0m\u001b[0mappend\u001b[0m\u001b[0;34m(\u001b[0m\u001b[0mclf\u001b[0m\u001b[0;34m.\u001b[0m\u001b[0mpredict\u001b[0m\u001b[0;34m(\u001b[0m\u001b[0mdf3\u001b[0m\u001b[0;34m[\u001b[0m\u001b[0mfeature\u001b[0m\u001b[0;34m]\u001b[0m\u001b[0;34m.\u001b[0m\u001b[0mvalues\u001b[0m\u001b[0;34m[\u001b[0m\u001b[0mtest\u001b[0m\u001b[0;34m]\u001b[0m\u001b[0;34m)\u001b[0m\u001b[0;34m)\u001b[0m\u001b[0;34m\u001b[0m\u001b[0m\n",
      "\u001b[0;32m/Users/nipunbatra/anaconda/lib/python2.7/site-packages/pandas/core/frame.pyc\u001b[0m in \u001b[0;36m__getitem__\u001b[0;34m(self, key)\u001b[0m\n\u001b[1;32m   1789\u001b[0m         \u001b[0;32mif\u001b[0m \u001b[0misinstance\u001b[0m\u001b[0;34m(\u001b[0m\u001b[0mkey\u001b[0m\u001b[0;34m,\u001b[0m \u001b[0;34m(\u001b[0m\u001b[0mSeries\u001b[0m\u001b[0;34m,\u001b[0m \u001b[0mnp\u001b[0m\u001b[0;34m.\u001b[0m\u001b[0mndarray\u001b[0m\u001b[0;34m,\u001b[0m \u001b[0mIndex\u001b[0m\u001b[0;34m,\u001b[0m \u001b[0mlist\u001b[0m\u001b[0;34m)\u001b[0m\u001b[0;34m)\u001b[0m\u001b[0;34m:\u001b[0m\u001b[0;34m\u001b[0m\u001b[0m\n\u001b[1;32m   1790\u001b[0m             \u001b[0;31m# either boolean or fancy integer index\u001b[0m\u001b[0;34m\u001b[0m\u001b[0;34m\u001b[0m\u001b[0m\n\u001b[0;32m-> 1791\u001b[0;31m             \u001b[0;32mreturn\u001b[0m \u001b[0mself\u001b[0m\u001b[0;34m.\u001b[0m\u001b[0m_getitem_array\u001b[0m\u001b[0;34m(\u001b[0m\u001b[0mkey\u001b[0m\u001b[0;34m)\u001b[0m\u001b[0;34m\u001b[0m\u001b[0m\n\u001b[0m\u001b[1;32m   1792\u001b[0m         \u001b[0;32melif\u001b[0m \u001b[0misinstance\u001b[0m\u001b[0;34m(\u001b[0m\u001b[0mkey\u001b[0m\u001b[0;34m,\u001b[0m \u001b[0mDataFrame\u001b[0m\u001b[0;34m)\u001b[0m\u001b[0;34m:\u001b[0m\u001b[0;34m\u001b[0m\u001b[0m\n\u001b[1;32m   1793\u001b[0m             \u001b[0;32mreturn\u001b[0m \u001b[0mself\u001b[0m\u001b[0;34m.\u001b[0m\u001b[0m_getitem_frame\u001b[0m\u001b[0;34m(\u001b[0m\u001b[0mkey\u001b[0m\u001b[0;34m)\u001b[0m\u001b[0;34m\u001b[0m\u001b[0m\n",
      "\u001b[0;32m/Users/nipunbatra/anaconda/lib/python2.7/site-packages/pandas/core/frame.pyc\u001b[0m in \u001b[0;36m_getitem_array\u001b[0;34m(self, key)\u001b[0m\n\u001b[1;32m   1833\u001b[0m             \u001b[0;32mreturn\u001b[0m \u001b[0mself\u001b[0m\u001b[0;34m.\u001b[0m\u001b[0mtake\u001b[0m\u001b[0;34m(\u001b[0m\u001b[0mindexer\u001b[0m\u001b[0;34m,\u001b[0m \u001b[0maxis\u001b[0m\u001b[0;34m=\u001b[0m\u001b[0;36m0\u001b[0m\u001b[0;34m,\u001b[0m \u001b[0mconvert\u001b[0m\u001b[0;34m=\u001b[0m\u001b[0mFalse\u001b[0m\u001b[0;34m)\u001b[0m\u001b[0;34m\u001b[0m\u001b[0m\n\u001b[1;32m   1834\u001b[0m         \u001b[0;32melse\u001b[0m\u001b[0;34m:\u001b[0m\u001b[0;34m\u001b[0m\u001b[0m\n\u001b[0;32m-> 1835\u001b[0;31m             \u001b[0mindexer\u001b[0m \u001b[0;34m=\u001b[0m \u001b[0mself\u001b[0m\u001b[0;34m.\u001b[0m\u001b[0mix\u001b[0m\u001b[0;34m.\u001b[0m\u001b[0m_convert_to_indexer\u001b[0m\u001b[0;34m(\u001b[0m\u001b[0mkey\u001b[0m\u001b[0;34m,\u001b[0m \u001b[0maxis\u001b[0m\u001b[0;34m=\u001b[0m\u001b[0;36m1\u001b[0m\u001b[0;34m)\u001b[0m\u001b[0;34m\u001b[0m\u001b[0m\n\u001b[0m\u001b[1;32m   1836\u001b[0m             \u001b[0;32mreturn\u001b[0m \u001b[0mself\u001b[0m\u001b[0;34m.\u001b[0m\u001b[0mtake\u001b[0m\u001b[0;34m(\u001b[0m\u001b[0mindexer\u001b[0m\u001b[0;34m,\u001b[0m \u001b[0maxis\u001b[0m\u001b[0;34m=\u001b[0m\u001b[0;36m1\u001b[0m\u001b[0;34m,\u001b[0m \u001b[0mconvert\u001b[0m\u001b[0;34m=\u001b[0m\u001b[0mTrue\u001b[0m\u001b[0;34m)\u001b[0m\u001b[0;34m\u001b[0m\u001b[0m\n\u001b[1;32m   1837\u001b[0m \u001b[0;34m\u001b[0m\u001b[0m\n",
      "\u001b[0;32m/Users/nipunbatra/anaconda/lib/python2.7/site-packages/pandas/core/indexing.pyc\u001b[0m in \u001b[0;36m_convert_to_indexer\u001b[0;34m(self, obj, axis, is_setter)\u001b[0m\n\u001b[1;32m   1100\u001b[0m                     \u001b[0;31m# unique index\u001b[0m\u001b[0;34m\u001b[0m\u001b[0;34m\u001b[0m\u001b[0m\n\u001b[1;32m   1101\u001b[0m                     \u001b[0;32mif\u001b[0m \u001b[0mlabels\u001b[0m\u001b[0;34m.\u001b[0m\u001b[0mis_unique\u001b[0m\u001b[0;34m:\u001b[0m\u001b[0;34m\u001b[0m\u001b[0m\n\u001b[0;32m-> 1102\u001b[0;31m                         \u001b[0mindexer\u001b[0m \u001b[0;34m=\u001b[0m \u001b[0mcheck\u001b[0m \u001b[0;34m=\u001b[0m \u001b[0mlabels\u001b[0m\u001b[0;34m.\u001b[0m\u001b[0mget_indexer\u001b[0m\u001b[0;34m(\u001b[0m\u001b[0mobjarr\u001b[0m\u001b[0;34m)\u001b[0m\u001b[0;34m\u001b[0m\u001b[0m\n\u001b[0m\u001b[1;32m   1103\u001b[0m \u001b[0;34m\u001b[0m\u001b[0m\n\u001b[1;32m   1104\u001b[0m                     \u001b[0;31m# non-unique (dups)\u001b[0m\u001b[0;34m\u001b[0m\u001b[0;34m\u001b[0m\u001b[0m\n",
      "\u001b[0;32m/Users/nipunbatra/anaconda/lib/python2.7/site-packages/pandas/core/index.pyc\u001b[0m in \u001b[0;36mget_indexer\u001b[0;34m(self, target, method, limit)\u001b[0m\n\u001b[1;32m   1673\u001b[0m         \"\"\"\n\u001b[1;32m   1674\u001b[0m         \u001b[0mmethod\u001b[0m \u001b[0;34m=\u001b[0m \u001b[0mcom\u001b[0m\u001b[0;34m.\u001b[0m\u001b[0m_clean_reindex_fill_method\u001b[0m\u001b[0;34m(\u001b[0m\u001b[0mmethod\u001b[0m\u001b[0;34m)\u001b[0m\u001b[0;34m\u001b[0m\u001b[0m\n\u001b[0;32m-> 1675\u001b[0;31m         \u001b[0mtarget\u001b[0m \u001b[0;34m=\u001b[0m \u001b[0m_ensure_index\u001b[0m\u001b[0;34m(\u001b[0m\u001b[0mtarget\u001b[0m\u001b[0;34m)\u001b[0m\u001b[0;34m\u001b[0m\u001b[0m\n\u001b[0m\u001b[1;32m   1676\u001b[0m \u001b[0;34m\u001b[0m\u001b[0m\n\u001b[1;32m   1677\u001b[0m         \u001b[0mpself\u001b[0m\u001b[0;34m,\u001b[0m \u001b[0mptarget\u001b[0m \u001b[0;34m=\u001b[0m \u001b[0mself\u001b[0m\u001b[0;34m.\u001b[0m\u001b[0m_possibly_promote\u001b[0m\u001b[0;34m(\u001b[0m\u001b[0mtarget\u001b[0m\u001b[0;34m)\u001b[0m\u001b[0;34m\u001b[0m\u001b[0m\n",
      "\u001b[0;32m/Users/nipunbatra/anaconda/lib/python2.7/site-packages/pandas/core/index.pyc\u001b[0m in \u001b[0;36m_ensure_index\u001b[0;34m(index_like, copy)\u001b[0m\n\u001b[1;32m   5702\u001b[0m             \u001b[0mindex_like\u001b[0m \u001b[0;34m=\u001b[0m \u001b[0mcopy\u001b[0m\u001b[0;34m(\u001b[0m\u001b[0mindex_like\u001b[0m\u001b[0;34m)\u001b[0m\u001b[0;34m\u001b[0m\u001b[0m\n\u001b[1;32m   5703\u001b[0m \u001b[0;34m\u001b[0m\u001b[0m\n\u001b[0;32m-> 5704\u001b[0;31m     \u001b[0;32mreturn\u001b[0m \u001b[0mIndex\u001b[0m\u001b[0;34m(\u001b[0m\u001b[0mindex_like\u001b[0m\u001b[0;34m)\u001b[0m\u001b[0;34m\u001b[0m\u001b[0m\n\u001b[0m\u001b[1;32m   5705\u001b[0m \u001b[0;34m\u001b[0m\u001b[0m\n\u001b[1;32m   5706\u001b[0m \u001b[0;34m\u001b[0m\u001b[0m\n",
      "\u001b[0;32m/Users/nipunbatra/anaconda/lib/python2.7/site-packages/pandas/core/index.pyc\u001b[0m in \u001b[0;36m__new__\u001b[0;34m(cls, data, dtype, copy, name, fastpath, tupleize_cols, **kwargs)\u001b[0m\n\u001b[1;32m    180\u001b[0m \u001b[0;34m\u001b[0m\u001b[0m\n\u001b[1;32m    181\u001b[0m         \u001b[0;32mif\u001b[0m \u001b[0mdtype\u001b[0m \u001b[0;32mis\u001b[0m \u001b[0mNone\u001b[0m\u001b[0;34m:\u001b[0m\u001b[0;34m\u001b[0m\u001b[0m\n\u001b[0;32m--> 182\u001b[0;31m             \u001b[0minferred\u001b[0m \u001b[0;34m=\u001b[0m \u001b[0mlib\u001b[0m\u001b[0;34m.\u001b[0m\u001b[0minfer_dtype\u001b[0m\u001b[0;34m(\u001b[0m\u001b[0msubarr\u001b[0m\u001b[0;34m)\u001b[0m\u001b[0;34m\u001b[0m\u001b[0m\n\u001b[0m\u001b[1;32m    183\u001b[0m             \u001b[0;32mif\u001b[0m \u001b[0minferred\u001b[0m \u001b[0;34m==\u001b[0m \u001b[0;34m'integer'\u001b[0m\u001b[0;34m:\u001b[0m\u001b[0;34m\u001b[0m\u001b[0m\n\u001b[1;32m    184\u001b[0m                 \u001b[0;32mreturn\u001b[0m \u001b[0mInt64Index\u001b[0m\u001b[0;34m(\u001b[0m\u001b[0msubarr\u001b[0m\u001b[0;34m.\u001b[0m\u001b[0mastype\u001b[0m\u001b[0;34m(\u001b[0m\u001b[0;34m'i8'\u001b[0m\u001b[0;34m)\u001b[0m\u001b[0;34m,\u001b[0m \u001b[0mcopy\u001b[0m\u001b[0;34m=\u001b[0m\u001b[0mcopy\u001b[0m\u001b[0;34m,\u001b[0m \u001b[0mname\u001b[0m\u001b[0;34m=\u001b[0m\u001b[0mname\u001b[0m\u001b[0;34m)\u001b[0m\u001b[0;34m\u001b[0m\u001b[0m\n",
      "\u001b[0;31mKeyboardInterrupt\u001b[0m: "
     ]
    }
   ],
   "source": [
    "for appliance in [\"dw\"]:\n",
    "    print \"*\"*20\n",
    "    print appliance\n",
    "    print \"*\"*20\n",
    "    for k in range(2, 8):\n",
    "        print \"+\"*20\n",
    "        print k\n",
    "        best=seq_forw_select(features=a.tolist(), max_k=10,\n",
    "                      criterion_func=criterion_function, print_steps=True)"
   ]
  },
  {
   "cell_type": "code",
   "execution_count": 34,
   "metadata": {
    "collapsed": true
   },
   "outputs": [],
   "source": [
    "feature = ['aggregate_6']"
   ]
  },
  {
   "cell_type": "code",
   "execution_count": 35,
   "metadata": {
    "collapsed": true
   },
   "outputs": [],
   "source": [
    "k=2"
   ]
  },
  {
   "cell_type": "code",
   "execution_count": 36,
   "metadata": {
    "collapsed": false
   },
   "outputs": [],
   "source": [
    "temp = create_predictions('hvac',feature, 2)"
   ]
  },
  {
   "cell_type": "code",
   "execution_count": 37,
   "metadata": {
    "collapsed": true
   },
   "outputs": [],
   "source": [
    "errors = {}\n",
    "for i in range(1, 13):\n",
    "    errors[i] = percentage_error(temp[i][\"gt\"], temp[i][\"pred\"])\n",
    "error_df = pd.DataFrame(errors)\n",
    "accur_df = 100-error_df\n",
    "accur_df[accur_df<0]=0"
   ]
  },
  {
   "cell_type": "code",
   "execution_count": 41,
   "metadata": {
    "collapsed": false
   },
   "outputs": [
    {
     "data": {
      "text/plain": [
       "26      86.845173\n",
       "94       0.000000\n",
       "370     91.996613\n",
       "410     88.233508\n",
       "545     87.317882\n",
       "624     79.884665\n",
       "1283    53.382392\n",
       "1642    66.330533\n",
       "1953    37.442531\n",
       "2129    81.827711\n",
       "2156    92.281127\n",
       "2242    89.182654\n",
       "2814    85.355460\n",
       "3367    95.282843\n",
       "3456    89.575884\n",
       "3723    62.121045\n",
       "3967    63.494987\n",
       "4767    83.689384\n",
       "5357    65.107652\n",
       "5371    75.323792\n",
       "5746    81.594823\n",
       "5785    82.401045\n",
       "5814    91.611564\n",
       "6072    28.117228\n",
       "6636    88.060260\n",
       "6836    30.974716\n",
       "6910    88.852455\n",
       "7731    86.889797\n",
       "7769    69.660017\n",
       "7866    87.366189\n",
       "9654    67.677484\n",
       "9922    55.043710\n",
       "9933    73.257491\n",
       "9934    29.893828\n",
       "dtype: float64"
      ]
     },
     "execution_count": 41,
     "metadata": {},
     "output_type": "execute_result"
    }
   ],
   "source": [
    "accur_df[range(5, 11)].dropna().mean(axis=1)"
   ]
  },
  {
   "cell_type": "code",
   "execution_count": 38,
   "metadata": {
    "collapsed": false
   },
   "outputs": [
    {
     "data": {
      "text/plain": [
       "80.639355246026469"
      ]
     },
     "execution_count": 38,
     "metadata": {},
     "output_type": "execute_result"
    }
   ],
   "source": [
    "accur_df[range(5, 11)].dropna().median().mean()"
   ]
  },
  {
   "cell_type": "code",
   "execution_count": 12,
   "metadata": {
    "collapsed": false
   },
   "outputs": [
    {
     "data": {
      "text/plain": [
       "5"
      ]
     },
     "execution_count": 12,
     "metadata": {},
     "output_type": "execute_result"
    }
   ],
   "source": [
    "len(accur_df.dropna().mean(axis=1).index)"
   ]
  },
  {
   "cell_type": "code",
   "execution_count": 13,
   "metadata": {
    "collapsed": false
   },
   "outputs": [
    {
     "data": {
      "text/plain": [
       "45.621964788405982"
      ]
     },
     "execution_count": 13,
     "metadata": {},
     "output_type": "execute_result"
    }
   ],
   "source": [
    "accur_df.dropna().median().mean()"
   ]
  },
  {
   "cell_type": "code",
   "execution_count": 14,
   "metadata": {
    "collapsed": false
   },
   "outputs": [
    {
     "data": {
      "text/plain": [
       "Int64Index([2156, 2242, 5357, 9922, 9934], dtype='int64')"
      ]
     },
     "execution_count": 14,
     "metadata": {},
     "output_type": "execute_result"
    }
   ],
   "source": [
    "accur_df.dropna().mean(axis=1).index"
   ]
  },
  {
   "cell_type": "code",
   "execution_count": 116,
   "metadata": {
    "collapsed": false
   },
   "outputs": [
    {
     "data": {
      "text/plain": [
       "array([  94,  370,  545,  624, 2156, 2242, 2470, 2814, 3367, 3456, 3723,\n",
       "       3967, 5357, 7769, 9654, 9922, 9934])"
      ]
     },
     "execution_count": 116,
     "metadata": {},
     "output_type": "execute_result"
    }
   ],
   "source": [
    "all_homes[\"wm\"]"
   ]
  },
  {
   "cell_type": "code",
   "execution_count": 191,
   "metadata": {
    "collapsed": false
   },
   "outputs": [
    {
     "data": {
      "text/plain": [
       "624     66.338298\n",
       "1334    60.475478\n",
       "3367    40.194637\n",
       "3456    75.321789\n",
       "3723    59.460502\n",
       "5814     8.401583\n",
       "6072    52.053419\n",
       "6910    10.204015\n",
       "7769    42.333597\n",
       "7866     0.000000\n",
       "9654     3.394330\n",
       "9922    74.324162\n",
       "dtype: float64"
      ]
     },
     "execution_count": 191,
     "metadata": {},
     "output_type": "execute_result"
    }
   ],
   "source": [
    "accur_df.dropna().mean(axis=1)"
   ]
  },
  {
   "cell_type": "code",
   "execution_count": 16,
   "metadata": {
    "collapsed": true
   },
   "outputs": [],
   "source": [
    "%matplotlib inline"
   ]
  },
  {
   "cell_type": "code",
   "execution_count": 22,
   "metadata": {
    "collapsed": false
   },
   "outputs": [
    {
     "data": {
      "text/html": [
       "<div>\n",
       "<table border=\"1\" class=\"dataframe\">\n",
       "  <thead>\n",
       "    <tr style=\"text-align: right;\">\n",
       "      <th></th>\n",
       "      <th>fft_5</th>\n",
       "      <th>hvac_6</th>\n",
       "    </tr>\n",
       "  </thead>\n",
       "  <tbody>\n",
       "    <tr>\n",
       "      <th>fft_5</th>\n",
       "      <td>1.000000</td>\n",
       "      <td>0.118956</td>\n",
       "    </tr>\n",
       "    <tr>\n",
       "      <th>hvac_6</th>\n",
       "      <td>0.118956</td>\n",
       "      <td>1.000000</td>\n",
       "    </tr>\n",
       "  </tbody>\n",
       "</table>\n",
       "</div>"
      ],
      "text/plain": [
       "           fft_5    hvac_6\n",
       "fft_5   1.000000  0.118956\n",
       "hvac_6  0.118956  1.000000"
      ]
     },
     "execution_count": 22,
     "metadata": {},
     "output_type": "execute_result"
    },
    {
     "data": {
      "image/png": "[encoded data removed]",
      "text/plain": [
       "<matplotlib.figure.Figure at 0x162a803d0>"
      ]
     },
     "metadata": {},
     "output_type": "display_data"
    }
   ],
   "source": [
    "m=6\n",
    "wm = 'hvac_%d' %m\n",
    "feature_plot=\"fft_5\"\n",
    "df.ix[all_homes[\"hvac\"]][[feature_plot,wm]].plot(kind=\"scatter\", x=feature_plot,y=wm)\n",
    "df.ix[all_homes[\"hvac\"]][[feature_plot,wm]].corr()"
   ]
  },
  {
   "cell_type": "code",
   "execution_count": 133,
   "metadata": {
    "collapsed": true
   },
   "outputs": [],
   "source": [
    "temp = create_predictions('wm',['area'],1)\n",
    "errors = {}\n",
    "for i in range(1, 13):\n",
    "    errors[i] = percentage_error(temp[i][\"gt\"], temp[i][\"pred\"])\n",
    "error_df = pd.DataFrame(errors)\n",
    "accur_df = 100-error_df\n",
    "accur_df[accur_df<0]=0"
   ]
  },
  {
   "cell_type": "code",
   "execution_count": 136,
   "metadata": {
    "collapsed": false
   },
   "outputs": [
    {
     "data": {
      "text/plain": [
       "1     75.396849\n",
       "2     54.210730\n",
       "3     70.017919\n",
       "4     76.092595\n",
       "5     67.051359\n",
       "6     72.371640\n",
       "7     61.919578\n",
       "8     52.771398\n",
       "9     49.699680\n",
       "10    49.753408\n",
       "11    51.554367\n",
       "12    57.104109\n",
       "dtype: float64"
      ]
     },
     "execution_count": 136,
     "metadata": {},
     "output_type": "execute_result"
    }
   ],
   "source": [
    "accur_df.dropna().median()"
   ]
  },
  {
   "cell_type": "code",
   "execution_count": 272,
   "metadata": {
    "collapsed": false
   },
   "outputs": [
    {
     "data": {
      "text/plain": [
       "array([  94,  370,  545,  624, 1642, 2156, 2242, 2470, 2814, 2829, 3367,\n",
       "       3456, 3723, 3967, 4767, 5357, 6072, 6636, 6910, 7769, 7850, 9922,\n",
       "       9934])"
      ]
     },
     "execution_count": 272,
     "metadata": {},
     "output_type": "execute_result"
    }
   ],
   "source": [
    "all_homes['dw']"
   ]
  },
  {
   "cell_type": "code",
   "execution_count": 318,
   "metadata": {
    "collapsed": false
   },
   "outputs": [
    {
     "name": "stdout",
     "output_type": "stream",
     "text": [
      "94\n",
      "370\n",
      "545\n",
      "624\n",
      "1642\n",
      "2156\n",
      "2242\n",
      "2470\n",
      "2814\n",
      "2829\n",
      "3367\n",
      "3456\n",
      "3723\n",
      "3967\n",
      "4767\n",
      "5357\n",
      "6072\n",
      "6636\n",
      "6910\n",
      "7769\n",
      "7850\n",
      "9922\n",
      "9934\n"
     ]
    }
   ],
   "source": [
    "st = pd.HDFStore(\"/Users/nipunbatra/Downloads/wiki-temp.h5\")\n",
    "out_dw = {}\n",
    "for home in all_homes['dw']:\n",
    "    a = st['/%d' %home]['2013']['dishwasher1'].resample(\"15T\")\n",
    "    print home\n",
    "    out_dw[home] = {'bet_500_1000':len(a.diff().abs()[(a.diff().abs()>500) & (a.diff().abs()<1000)]),\n",
    "                    'gt_1000':len(a.diff().abs()[(a.diff().abs()>1000)])}"
   ]
  },
  {
   "cell_type": "code",
   "execution_count": 313,
   "metadata": {
    "collapsed": false
   },
   "outputs": [
    {
     "data": {
      "text/plain": [
       "94      0.114616\n",
       "370     0.108364\n",
       "545     0.168227\n",
       "624     0.135370\n",
       "1642    0.116700\n",
       "2156    0.136198\n",
       "2242    0.120325\n",
       "2470    0.094376\n",
       "2814    0.102279\n",
       "2829    0.065801\n",
       "3367    0.134742\n",
       "3456    0.129175\n",
       "3723    0.119355\n",
       "3967    0.105681\n",
       "4767    0.147731\n",
       "5357    0.180274\n",
       "6072    0.088638\n",
       "6636    0.026292\n",
       "6910    0.053754\n",
       "7769    0.070911\n",
       "7850    0.075657\n",
       "9922    0.090751\n",
       "9934    0.208136\n",
       "Name: bet_500_1000, dtype: float64"
      ]
     },
     "execution_count": 313,
     "metadata": {},
     "output_type": "execute_result"
    }
   ],
   "source": [
    "df.ix[all_homes['dw']].bet_500_1000"
   ]
  },
  {
   "cell_type": "code",
   "execution_count": 319,
   "metadata": {
    "collapsed": false
   },
   "outputs": [
    {
     "ename": "TypeError",
     "evalue": "float() argument must be a string or a number",
     "output_type": "error",
     "traceback": [
      "\u001b[0;31m---------------------------------------------------------------------------\u001b[0m",
      "\u001b[0;31mTypeError\u001b[0m                                 Traceback (most recent call last)",
      "\u001b[0;32m<ipython-input-319-d56449781a7f>\u001b[0m in \u001b[0;36m<module>\u001b[0;34m()\u001b[0m\n\u001b[1;32m      1\u001b[0m \u001b[0;32mimport\u001b[0m \u001b[0mmatplotlib\u001b[0m\u001b[0;34m.\u001b[0m\u001b[0mpyplot\u001b[0m \u001b[0;32mas\u001b[0m \u001b[0mplt\u001b[0m\u001b[0;34m\u001b[0m\u001b[0m\n\u001b[1;32m      2\u001b[0m \u001b[0mplt\u001b[0m\u001b[0;34m.\u001b[0m\u001b[0mstyle\u001b[0m\u001b[0;34m.\u001b[0m\u001b[0muse\u001b[0m\u001b[0;34m(\u001b[0m\u001b[0;34m'fivethirtyeight'\u001b[0m\u001b[0;34m)\u001b[0m\u001b[0;34m\u001b[0m\u001b[0m\n\u001b[0;32m----> 3\u001b[0;31m \u001b[0mplt\u001b[0m\u001b[0;34m.\u001b[0m\u001b[0mscatter\u001b[0m\u001b[0;34m(\u001b[0m\u001b[0mpd\u001b[0m\u001b[0;34m.\u001b[0m\u001b[0mSeries\u001b[0m\u001b[0;34m(\u001b[0m\u001b[0mout_dw\u001b[0m\u001b[0;34m)\u001b[0m\u001b[0;34m,\u001b[0m \u001b[0mdf\u001b[0m\u001b[0;34m.\u001b[0m\u001b[0mix\u001b[0m\u001b[0;34m[\u001b[0m\u001b[0mall_homes\u001b[0m\u001b[0;34m[\u001b[0m\u001b[0;34m'dw'\u001b[0m\u001b[0;34m]\u001b[0m\u001b[0;34m]\u001b[0m\u001b[0;34m.\u001b[0m\u001b[0mbet_500_1000\u001b[0m\u001b[0;34m)\u001b[0m\u001b[0;34m\u001b[0m\u001b[0m\n\u001b[0m\u001b[1;32m      4\u001b[0m \u001b[0;31m#.corr(df.ix[all_homes['dw']].bet_500_1000)\u001b[0m\u001b[0;34m\u001b[0m\u001b[0;34m\u001b[0m\u001b[0m\n",
      "\u001b[0;32m/Users/nipunbatra/anaconda/lib/python2.7/site-packages/matplotlib/pyplot.pyc\u001b[0m in \u001b[0;36mscatter\u001b[0;34m(x, y, s, c, marker, cmap, norm, vmin, vmax, alpha, linewidths, verts, hold, **kwargs)\u001b[0m\n\u001b[1;32m   3198\u001b[0m         ret = ax.scatter(x, y, s=s, c=c, marker=marker, cmap=cmap, norm=norm,\n\u001b[1;32m   3199\u001b[0m                          \u001b[0mvmin\u001b[0m\u001b[0;34m=\u001b[0m\u001b[0mvmin\u001b[0m\u001b[0;34m,\u001b[0m \u001b[0mvmax\u001b[0m\u001b[0;34m=\u001b[0m\u001b[0mvmax\u001b[0m\u001b[0;34m,\u001b[0m \u001b[0malpha\u001b[0m\u001b[0;34m=\u001b[0m\u001b[0malpha\u001b[0m\u001b[0;34m,\u001b[0m\u001b[0;34m\u001b[0m\u001b[0m\n\u001b[0;32m-> 3200\u001b[0;31m                          linewidths=linewidths, verts=verts, **kwargs)\n\u001b[0m\u001b[1;32m   3201\u001b[0m         \u001b[0mdraw_if_interactive\u001b[0m\u001b[0;34m(\u001b[0m\u001b[0;34m)\u001b[0m\u001b[0;34m\u001b[0m\u001b[0m\n\u001b[1;32m   3202\u001b[0m     \u001b[0;32mfinally\u001b[0m\u001b[0;34m:\u001b[0m\u001b[0;34m\u001b[0m\u001b[0m\n",
      "\u001b[0;32m/Users/nipunbatra/anaconda/lib/python2.7/site-packages/matplotlib/axes/_axes.pyc\u001b[0m in \u001b[0;36mscatter\u001b[0;34m(self, x, y, s, c, marker, cmap, norm, vmin, vmax, alpha, linewidths, verts, **kwargs)\u001b[0m\n\u001b[1;32m   3672\u001b[0m             \u001b[0mself\u001b[0m\u001b[0;34m.\u001b[0m\u001b[0mset_ymargin\u001b[0m\u001b[0;34m(\u001b[0m\u001b[0;36m0.05\u001b[0m\u001b[0;34m)\u001b[0m\u001b[0;34m\u001b[0m\u001b[0m\n\u001b[1;32m   3673\u001b[0m \u001b[0;34m\u001b[0m\u001b[0m\n\u001b[0;32m-> 3674\u001b[0;31m         \u001b[0mself\u001b[0m\u001b[0;34m.\u001b[0m\u001b[0madd_collection\u001b[0m\u001b[0;34m(\u001b[0m\u001b[0mcollection\u001b[0m\u001b[0;34m)\u001b[0m\u001b[0;34m\u001b[0m\u001b[0m\n\u001b[0m\u001b[1;32m   3675\u001b[0m         \u001b[0mself\u001b[0m\u001b[0;34m.\u001b[0m\u001b[0mautoscale_view\u001b[0m\u001b[0;34m(\u001b[0m\u001b[0;34m)\u001b[0m\u001b[0;34m\u001b[0m\u001b[0m\n\u001b[1;32m   3676\u001b[0m \u001b[0;34m\u001b[0m\u001b[0m\n",
      "\u001b[0;32m/Users/nipunbatra/anaconda/lib/python2.7/site-packages/matplotlib/axes/_base.pyc\u001b[0m in \u001b[0;36madd_collection\u001b[0;34m(self, collection, autolim)\u001b[0m\n\u001b[1;32m   1475\u001b[0m \u001b[0;34m\u001b[0m\u001b[0m\n\u001b[1;32m   1476\u001b[0m         \u001b[0;32mif\u001b[0m \u001b[0mautolim\u001b[0m\u001b[0;34m:\u001b[0m\u001b[0;34m\u001b[0m\u001b[0m\n\u001b[0;32m-> 1477\u001b[0;31m             \u001b[0mself\u001b[0m\u001b[0;34m.\u001b[0m\u001b[0mupdate_datalim\u001b[0m\u001b[0;34m(\u001b[0m\u001b[0mcollection\u001b[0m\u001b[0;34m.\u001b[0m\u001b[0mget_datalim\u001b[0m\u001b[0;34m(\u001b[0m\u001b[0mself\u001b[0m\u001b[0;34m.\u001b[0m\u001b[0mtransData\u001b[0m\u001b[0;34m)\u001b[0m\u001b[0;34m)\u001b[0m\u001b[0;34m\u001b[0m\u001b[0m\n\u001b[0m\u001b[1;32m   1478\u001b[0m \u001b[0;34m\u001b[0m\u001b[0m\n\u001b[1;32m   1479\u001b[0m         \u001b[0mcollection\u001b[0m\u001b[0;34m.\u001b[0m\u001b[0m_remove_method\u001b[0m \u001b[0;34m=\u001b[0m \u001b[0;32mlambda\u001b[0m \u001b[0mh\u001b[0m\u001b[0;34m:\u001b[0m \u001b[0mself\u001b[0m\u001b[0;34m.\u001b[0m\u001b[0mcollections\u001b[0m\u001b[0;34m.\u001b[0m\u001b[0mremove\u001b[0m\u001b[0;34m(\u001b[0m\u001b[0mh\u001b[0m\u001b[0;34m)\u001b[0m\u001b[0;34m\u001b[0m\u001b[0m\n",
      "\u001b[0;32m/Users/nipunbatra/anaconda/lib/python2.7/site-packages/matplotlib/collections.pyc\u001b[0m in \u001b[0;36mget_datalim\u001b[0;34m(self, transData)\u001b[0m\n\u001b[1;32m    190\u001b[0m             \u001b[0mtransOffset\u001b[0m \u001b[0;34m=\u001b[0m \u001b[0mtransOffset\u001b[0m\u001b[0;34m.\u001b[0m\u001b[0mget_affine\u001b[0m\u001b[0;34m(\u001b[0m\u001b[0;34m)\u001b[0m\u001b[0;34m\u001b[0m\u001b[0m\n\u001b[1;32m    191\u001b[0m \u001b[0;34m\u001b[0m\u001b[0m\n\u001b[0;32m--> 192\u001b[0;31m         \u001b[0moffsets\u001b[0m \u001b[0;34m=\u001b[0m \u001b[0mnp\u001b[0m\u001b[0;34m.\u001b[0m\u001b[0masanyarray\u001b[0m\u001b[0;34m(\u001b[0m\u001b[0moffsets\u001b[0m\u001b[0;34m,\u001b[0m \u001b[0mnp\u001b[0m\u001b[0;34m.\u001b[0m\u001b[0mfloat_\u001b[0m\u001b[0;34m)\u001b[0m\u001b[0;34m\u001b[0m\u001b[0m\n\u001b[0m\u001b[1;32m    193\u001b[0m         \u001b[0;32mif\u001b[0m \u001b[0mnp\u001b[0m\u001b[0;34m.\u001b[0m\u001b[0mma\u001b[0m\u001b[0;34m.\u001b[0m\u001b[0misMaskedArray\u001b[0m\u001b[0;34m(\u001b[0m\u001b[0moffsets\u001b[0m\u001b[0;34m)\u001b[0m\u001b[0;34m:\u001b[0m\u001b[0;34m\u001b[0m\u001b[0m\n\u001b[1;32m    194\u001b[0m             \u001b[0moffsets\u001b[0m \u001b[0;34m=\u001b[0m \u001b[0moffsets\u001b[0m\u001b[0;34m.\u001b[0m\u001b[0mfilled\u001b[0m\u001b[0;34m(\u001b[0m\u001b[0mnp\u001b[0m\u001b[0;34m.\u001b[0m\u001b[0mnan\u001b[0m\u001b[0;34m)\u001b[0m\u001b[0;34m\u001b[0m\u001b[0m\n",
      "\u001b[0;32m/Users/nipunbatra/anaconda/lib/python2.7/site-packages/numpy/core/numeric.pyc\u001b[0m in \u001b[0;36masanyarray\u001b[0;34m(a, dtype, order)\u001b[0m\n\u001b[1;32m    523\u001b[0m \u001b[0;34m\u001b[0m\u001b[0m\n\u001b[1;32m    524\u001b[0m     \"\"\"\n\u001b[0;32m--> 525\u001b[0;31m     \u001b[0;32mreturn\u001b[0m \u001b[0marray\u001b[0m\u001b[0;34m(\u001b[0m\u001b[0ma\u001b[0m\u001b[0;34m,\u001b[0m \u001b[0mdtype\u001b[0m\u001b[0;34m,\u001b[0m \u001b[0mcopy\u001b[0m\u001b[0;34m=\u001b[0m\u001b[0mFalse\u001b[0m\u001b[0;34m,\u001b[0m \u001b[0morder\u001b[0m\u001b[0;34m=\u001b[0m\u001b[0morder\u001b[0m\u001b[0;34m,\u001b[0m \u001b[0msubok\u001b[0m\u001b[0;34m=\u001b[0m\u001b[0mTrue\u001b[0m\u001b[0;34m)\u001b[0m\u001b[0;34m\u001b[0m\u001b[0m\n\u001b[0m\u001b[1;32m    526\u001b[0m \u001b[0;34m\u001b[0m\u001b[0m\n\u001b[1;32m    527\u001b[0m \u001b[0;32mdef\u001b[0m \u001b[0mascontiguousarray\u001b[0m\u001b[0;34m(\u001b[0m\u001b[0ma\u001b[0m\u001b[0;34m,\u001b[0m \u001b[0mdtype\u001b[0m\u001b[0;34m=\u001b[0m\u001b[0mNone\u001b[0m\u001b[0;34m)\u001b[0m\u001b[0;34m:\u001b[0m\u001b[0;34m\u001b[0m\u001b[0m\n",
      "\u001b[0;31mTypeError\u001b[0m: float() argument must be a string or a number"
     ]
    },
    {
     "ename": "TypeError",
     "evalue": "float() argument must be a string or a number",
     "output_type": "error",
     "traceback": [
      "\u001b[0;31m---------------------------------------------------------------------------\u001b[0m",
      "\u001b[0;31mTypeError\u001b[0m                                 Traceback (most recent call last)",
      "\u001b[0;32m/Users/nipunbatra/anaconda/lib/python2.7/site-packages/IPython/core/formatters.pyc\u001b[0m in \u001b[0;36m__call__\u001b[0;34m(self, obj)\u001b[0m\n\u001b[1;32m    328\u001b[0m                 \u001b[0;32mpass\u001b[0m\u001b[0;34m\u001b[0m\u001b[0m\n\u001b[1;32m    329\u001b[0m             \u001b[0;32melse\u001b[0m\u001b[0;34m:\u001b[0m\u001b[0;34m\u001b[0m\u001b[0m\n\u001b[0;32m--> 330\u001b[0;31m                 \u001b[0;32mreturn\u001b[0m \u001b[0mprinter\u001b[0m\u001b[0;34m(\u001b[0m\u001b[0mobj\u001b[0m\u001b[0;34m)\u001b[0m\u001b[0;34m\u001b[0m\u001b[0m\n\u001b[0m\u001b[1;32m    331\u001b[0m             \u001b[0;31m# Finally look for special method names\u001b[0m\u001b[0;34m\u001b[0m\u001b[0;34m\u001b[0m\u001b[0m\n\u001b[1;32m    332\u001b[0m             \u001b[0mmethod\u001b[0m \u001b[0;34m=\u001b[0m \u001b[0m_safe_get_formatter_method\u001b[0m\u001b[0;34m(\u001b[0m\u001b[0mobj\u001b[0m\u001b[0;34m,\u001b[0m \u001b[0mself\u001b[0m\u001b[0;34m.\u001b[0m\u001b[0mprint_method\u001b[0m\u001b[0;34m)\u001b[0m\u001b[0;34m\u001b[0m\u001b[0m\n",
      "\u001b[0;32m/Users/nipunbatra/anaconda/lib/python2.7/site-packages/IPython/core/pylabtools.pyc\u001b[0m in \u001b[0;36m<lambda>\u001b[0;34m(fig)\u001b[0m\n\u001b[1;32m    205\u001b[0m \u001b[0;34m\u001b[0m\u001b[0m\n\u001b[1;32m    206\u001b[0m     \u001b[0;32mif\u001b[0m \u001b[0;34m'png'\u001b[0m \u001b[0;32min\u001b[0m \u001b[0mformats\u001b[0m\u001b[0;34m:\u001b[0m\u001b[0;34m\u001b[0m\u001b[0m\n\u001b[0;32m--> 207\u001b[0;31m         \u001b[0mpng_formatter\u001b[0m\u001b[0;34m.\u001b[0m\u001b[0mfor_type\u001b[0m\u001b[0;34m(\u001b[0m\u001b[0mFigure\u001b[0m\u001b[0;34m,\u001b[0m \u001b[0;32mlambda\u001b[0m \u001b[0mfig\u001b[0m\u001b[0;34m:\u001b[0m \u001b[0mprint_figure\u001b[0m\u001b[0;34m(\u001b[0m\u001b[0mfig\u001b[0m\u001b[0;34m,\u001b[0m \u001b[0;34m'png'\u001b[0m\u001b[0;34m,\u001b[0m \u001b[0;34m**\u001b[0m\u001b[0mkwargs\u001b[0m\u001b[0;34m)\u001b[0m\u001b[0;34m)\u001b[0m\u001b[0;34m\u001b[0m\u001b[0m\n\u001b[0m\u001b[1;32m    208\u001b[0m     \u001b[0;32mif\u001b[0m \u001b[0;34m'retina'\u001b[0m \u001b[0;32min\u001b[0m \u001b[0mformats\u001b[0m \u001b[0;32mor\u001b[0m \u001b[0;34m'png2x'\u001b[0m \u001b[0;32min\u001b[0m \u001b[0mformats\u001b[0m\u001b[0;34m:\u001b[0m\u001b[0;34m\u001b[0m\u001b[0m\n\u001b[1;32m    209\u001b[0m         \u001b[0mpng_formatter\u001b[0m\u001b[0;34m.\u001b[0m\u001b[0mfor_type\u001b[0m\u001b[0;34m(\u001b[0m\u001b[0mFigure\u001b[0m\u001b[0;34m,\u001b[0m \u001b[0;32mlambda\u001b[0m \u001b[0mfig\u001b[0m\u001b[0;34m:\u001b[0m \u001b[0mretina_figure\u001b[0m\u001b[0;34m(\u001b[0m\u001b[0mfig\u001b[0m\u001b[0;34m,\u001b[0m \u001b[0;34m**\u001b[0m\u001b[0mkwargs\u001b[0m\u001b[0;34m)\u001b[0m\u001b[0;34m)\u001b[0m\u001b[0;34m\u001b[0m\u001b[0m\n",
      "\u001b[0;32m/Users/nipunbatra/anaconda/lib/python2.7/site-packages/IPython/core/pylabtools.pyc\u001b[0m in \u001b[0;36mprint_figure\u001b[0;34m(fig, fmt, bbox_inches, **kwargs)\u001b[0m\n\u001b[1;32m    115\u001b[0m \u001b[0;34m\u001b[0m\u001b[0m\n\u001b[1;32m    116\u001b[0m     \u001b[0mbytes_io\u001b[0m \u001b[0;34m=\u001b[0m \u001b[0mBytesIO\u001b[0m\u001b[0;34m(\u001b[0m\u001b[0;34m)\u001b[0m\u001b[0;34m\u001b[0m\u001b[0m\n\u001b[0;32m--> 117\u001b[0;31m     \u001b[0mfig\u001b[0m\u001b[0;34m.\u001b[0m\u001b[0mcanvas\u001b[0m\u001b[0;34m.\u001b[0m\u001b[0mprint_figure\u001b[0m\u001b[0;34m(\u001b[0m\u001b[0mbytes_io\u001b[0m\u001b[0;34m,\u001b[0m \u001b[0;34m**\u001b[0m\u001b[0mkw\u001b[0m\u001b[0;34m)\u001b[0m\u001b[0;34m\u001b[0m\u001b[0m\n\u001b[0m\u001b[1;32m    118\u001b[0m     \u001b[0mdata\u001b[0m \u001b[0;34m=\u001b[0m \u001b[0mbytes_io\u001b[0m\u001b[0;34m.\u001b[0m\u001b[0mgetvalue\u001b[0m\u001b[0;34m(\u001b[0m\u001b[0;34m)\u001b[0m\u001b[0;34m\u001b[0m\u001b[0m\n\u001b[1;32m    119\u001b[0m     \u001b[0;32mif\u001b[0m \u001b[0mfmt\u001b[0m \u001b[0;34m==\u001b[0m \u001b[0;34m'svg'\u001b[0m\u001b[0;34m:\u001b[0m\u001b[0;34m\u001b[0m\u001b[0m\n",
      "\u001b[0;32m/Users/nipunbatra/anaconda/lib/python2.7/site-packages/matplotlib/backend_bases.pyc\u001b[0m in \u001b[0;36mprint_figure\u001b[0;34m(self, filename, dpi, facecolor, edgecolor, orientation, format, **kwargs)\u001b[0m\n\u001b[1;32m   2156\u001b[0m                     \u001b[0morientation\u001b[0m\u001b[0;34m=\u001b[0m\u001b[0morientation\u001b[0m\u001b[0;34m,\u001b[0m\u001b[0;34m\u001b[0m\u001b[0m\n\u001b[1;32m   2157\u001b[0m                     \u001b[0mdryrun\u001b[0m\u001b[0;34m=\u001b[0m\u001b[0mTrue\u001b[0m\u001b[0;34m,\u001b[0m\u001b[0;34m\u001b[0m\u001b[0m\n\u001b[0;32m-> 2158\u001b[0;31m                     **kwargs)\n\u001b[0m\u001b[1;32m   2159\u001b[0m                 \u001b[0mrenderer\u001b[0m \u001b[0;34m=\u001b[0m \u001b[0mself\u001b[0m\u001b[0;34m.\u001b[0m\u001b[0mfigure\u001b[0m\u001b[0;34m.\u001b[0m\u001b[0m_cachedRenderer\u001b[0m\u001b[0;34m\u001b[0m\u001b[0m\n\u001b[1;32m   2160\u001b[0m                 \u001b[0mbbox_inches\u001b[0m \u001b[0;34m=\u001b[0m \u001b[0mself\u001b[0m\u001b[0;34m.\u001b[0m\u001b[0mfigure\u001b[0m\u001b[0;34m.\u001b[0m\u001b[0mget_tightbbox\u001b[0m\u001b[0;34m(\u001b[0m\u001b[0mrenderer\u001b[0m\u001b[0;34m)\u001b[0m\u001b[0;34m\u001b[0m\u001b[0m\n",
      "\u001b[0;32m/Users/nipunbatra/anaconda/lib/python2.7/site-packages/matplotlib/backends/backend_agg.pyc\u001b[0m in \u001b[0;36mprint_png\u001b[0;34m(self, filename_or_obj, *args, **kwargs)\u001b[0m\n\u001b[1;32m    519\u001b[0m \u001b[0;34m\u001b[0m\u001b[0m\n\u001b[1;32m    520\u001b[0m     \u001b[0;32mdef\u001b[0m \u001b[0mprint_png\u001b[0m\u001b[0;34m(\u001b[0m\u001b[0mself\u001b[0m\u001b[0;34m,\u001b[0m \u001b[0mfilename_or_obj\u001b[0m\u001b[0;34m,\u001b[0m \u001b[0;34m*\u001b[0m\u001b[0margs\u001b[0m\u001b[0;34m,\u001b[0m \u001b[0;34m**\u001b[0m\u001b[0mkwargs\u001b[0m\u001b[0;34m)\u001b[0m\u001b[0;34m:\u001b[0m\u001b[0;34m\u001b[0m\u001b[0m\n\u001b[0;32m--> 521\u001b[0;31m         \u001b[0mFigureCanvasAgg\u001b[0m\u001b[0;34m.\u001b[0m\u001b[0mdraw\u001b[0m\u001b[0;34m(\u001b[0m\u001b[0mself\u001b[0m\u001b[0;34m)\u001b[0m\u001b[0;34m\u001b[0m\u001b[0m\n\u001b[0m\u001b[1;32m    522\u001b[0m         \u001b[0mrenderer\u001b[0m \u001b[0;34m=\u001b[0m \u001b[0mself\u001b[0m\u001b[0;34m.\u001b[0m\u001b[0mget_renderer\u001b[0m\u001b[0;34m(\u001b[0m\u001b[0;34m)\u001b[0m\u001b[0;34m\u001b[0m\u001b[0m\n\u001b[1;32m    523\u001b[0m         \u001b[0moriginal_dpi\u001b[0m \u001b[0;34m=\u001b[0m \u001b[0mrenderer\u001b[0m\u001b[0;34m.\u001b[0m\u001b[0mdpi\u001b[0m\u001b[0;34m\u001b[0m\u001b[0m\n",
      "\u001b[0;32m/Users/nipunbatra/anaconda/lib/python2.7/site-packages/matplotlib/backends/backend_agg.pyc\u001b[0m in \u001b[0;36mdraw\u001b[0;34m(self)\u001b[0m\n\u001b[1;32m    467\u001b[0m \u001b[0;34m\u001b[0m\u001b[0m\n\u001b[1;32m    468\u001b[0m         \u001b[0;32mtry\u001b[0m\u001b[0;34m:\u001b[0m\u001b[0;34m\u001b[0m\u001b[0m\n\u001b[0;32m--> 469\u001b[0;31m             \u001b[0mself\u001b[0m\u001b[0;34m.\u001b[0m\u001b[0mfigure\u001b[0m\u001b[0;34m.\u001b[0m\u001b[0mdraw\u001b[0m\u001b[0;34m(\u001b[0m\u001b[0mself\u001b[0m\u001b[0;34m.\u001b[0m\u001b[0mrenderer\u001b[0m\u001b[0;34m)\u001b[0m\u001b[0;34m\u001b[0m\u001b[0m\n\u001b[0m\u001b[1;32m    470\u001b[0m         \u001b[0;32mfinally\u001b[0m\u001b[0;34m:\u001b[0m\u001b[0;34m\u001b[0m\u001b[0m\n\u001b[1;32m    471\u001b[0m             \u001b[0mRendererAgg\u001b[0m\u001b[0;34m.\u001b[0m\u001b[0mlock\u001b[0m\u001b[0;34m.\u001b[0m\u001b[0mrelease\u001b[0m\u001b[0;34m(\u001b[0m\u001b[0;34m)\u001b[0m\u001b[0;34m\u001b[0m\u001b[0m\n",
      "\u001b[0;32m/Users/nipunbatra/anaconda/lib/python2.7/site-packages/matplotlib/artist.pyc\u001b[0m in \u001b[0;36mdraw_wrapper\u001b[0;34m(artist, renderer, *args, **kwargs)\u001b[0m\n\u001b[1;32m     57\u001b[0m     \u001b[0;32mdef\u001b[0m \u001b[0mdraw_wrapper\u001b[0m\u001b[0;34m(\u001b[0m\u001b[0martist\u001b[0m\u001b[0;34m,\u001b[0m \u001b[0mrenderer\u001b[0m\u001b[0;34m,\u001b[0m \u001b[0;34m*\u001b[0m\u001b[0margs\u001b[0m\u001b[0;34m,\u001b[0m \u001b[0;34m**\u001b[0m\u001b[0mkwargs\u001b[0m\u001b[0;34m)\u001b[0m\u001b[0;34m:\u001b[0m\u001b[0;34m\u001b[0m\u001b[0m\n\u001b[1;32m     58\u001b[0m         \u001b[0mbefore\u001b[0m\u001b[0;34m(\u001b[0m\u001b[0martist\u001b[0m\u001b[0;34m,\u001b[0m \u001b[0mrenderer\u001b[0m\u001b[0;34m)\u001b[0m\u001b[0;34m\u001b[0m\u001b[0m\n\u001b[0;32m---> 59\u001b[0;31m         \u001b[0mdraw\u001b[0m\u001b[0;34m(\u001b[0m\u001b[0martist\u001b[0m\u001b[0;34m,\u001b[0m \u001b[0mrenderer\u001b[0m\u001b[0;34m,\u001b[0m \u001b[0;34m*\u001b[0m\u001b[0margs\u001b[0m\u001b[0;34m,\u001b[0m \u001b[0;34m**\u001b[0m\u001b[0mkwargs\u001b[0m\u001b[0;34m)\u001b[0m\u001b[0;34m\u001b[0m\u001b[0m\n\u001b[0m\u001b[1;32m     60\u001b[0m         \u001b[0mafter\u001b[0m\u001b[0;34m(\u001b[0m\u001b[0martist\u001b[0m\u001b[0;34m,\u001b[0m \u001b[0mrenderer\u001b[0m\u001b[0;34m)\u001b[0m\u001b[0;34m\u001b[0m\u001b[0m\n\u001b[1;32m     61\u001b[0m \u001b[0;34m\u001b[0m\u001b[0m\n",
      "\u001b[0;32m/Users/nipunbatra/anaconda/lib/python2.7/site-packages/matplotlib/figure.pyc\u001b[0m in \u001b[0;36mdraw\u001b[0;34m(self, renderer)\u001b[0m\n\u001b[1;32m   1083\u001b[0m         \u001b[0mdsu\u001b[0m\u001b[0;34m.\u001b[0m\u001b[0msort\u001b[0m\u001b[0;34m(\u001b[0m\u001b[0mkey\u001b[0m\u001b[0;34m=\u001b[0m\u001b[0mitemgetter\u001b[0m\u001b[0;34m(\u001b[0m\u001b[0;36m0\u001b[0m\u001b[0;34m)\u001b[0m\u001b[0;34m)\u001b[0m\u001b[0;34m\u001b[0m\u001b[0m\n\u001b[1;32m   1084\u001b[0m         \u001b[0;32mfor\u001b[0m \u001b[0mzorder\u001b[0m\u001b[0;34m,\u001b[0m \u001b[0ma\u001b[0m\u001b[0;34m,\u001b[0m \u001b[0mfunc\u001b[0m\u001b[0;34m,\u001b[0m \u001b[0margs\u001b[0m \u001b[0;32min\u001b[0m \u001b[0mdsu\u001b[0m\u001b[0;34m:\u001b[0m\u001b[0;34m\u001b[0m\u001b[0m\n\u001b[0;32m-> 1085\u001b[0;31m             \u001b[0mfunc\u001b[0m\u001b[0;34m(\u001b[0m\u001b[0;34m*\u001b[0m\u001b[0margs\u001b[0m\u001b[0;34m)\u001b[0m\u001b[0;34m\u001b[0m\u001b[0m\n\u001b[0m\u001b[1;32m   1086\u001b[0m \u001b[0;34m\u001b[0m\u001b[0m\n\u001b[1;32m   1087\u001b[0m         \u001b[0mrenderer\u001b[0m\u001b[0;34m.\u001b[0m\u001b[0mclose_group\u001b[0m\u001b[0;34m(\u001b[0m\u001b[0;34m'figure'\u001b[0m\u001b[0;34m)\u001b[0m\u001b[0;34m\u001b[0m\u001b[0m\n",
      "\u001b[0;32m/Users/nipunbatra/anaconda/lib/python2.7/site-packages/matplotlib/artist.pyc\u001b[0m in \u001b[0;36mdraw_wrapper\u001b[0;34m(artist, renderer, *args, **kwargs)\u001b[0m\n\u001b[1;32m     57\u001b[0m     \u001b[0;32mdef\u001b[0m \u001b[0mdraw_wrapper\u001b[0m\u001b[0;34m(\u001b[0m\u001b[0martist\u001b[0m\u001b[0;34m,\u001b[0m \u001b[0mrenderer\u001b[0m\u001b[0;34m,\u001b[0m \u001b[0;34m*\u001b[0m\u001b[0margs\u001b[0m\u001b[0;34m,\u001b[0m \u001b[0;34m**\u001b[0m\u001b[0mkwargs\u001b[0m\u001b[0;34m)\u001b[0m\u001b[0;34m:\u001b[0m\u001b[0;34m\u001b[0m\u001b[0m\n\u001b[1;32m     58\u001b[0m         \u001b[0mbefore\u001b[0m\u001b[0;34m(\u001b[0m\u001b[0martist\u001b[0m\u001b[0;34m,\u001b[0m \u001b[0mrenderer\u001b[0m\u001b[0;34m)\u001b[0m\u001b[0;34m\u001b[0m\u001b[0m\n\u001b[0;32m---> 59\u001b[0;31m         \u001b[0mdraw\u001b[0m\u001b[0;34m(\u001b[0m\u001b[0martist\u001b[0m\u001b[0;34m,\u001b[0m \u001b[0mrenderer\u001b[0m\u001b[0;34m,\u001b[0m \u001b[0;34m*\u001b[0m\u001b[0margs\u001b[0m\u001b[0;34m,\u001b[0m \u001b[0;34m**\u001b[0m\u001b[0mkwargs\u001b[0m\u001b[0;34m)\u001b[0m\u001b[0;34m\u001b[0m\u001b[0m\n\u001b[0m\u001b[1;32m     60\u001b[0m         \u001b[0mafter\u001b[0m\u001b[0;34m(\u001b[0m\u001b[0martist\u001b[0m\u001b[0;34m,\u001b[0m \u001b[0mrenderer\u001b[0m\u001b[0;34m)\u001b[0m\u001b[0;34m\u001b[0m\u001b[0m\n\u001b[1;32m     61\u001b[0m \u001b[0;34m\u001b[0m\u001b[0m\n",
      "\u001b[0;32m/Users/nipunbatra/anaconda/lib/python2.7/site-packages/matplotlib/axes/_base.pyc\u001b[0m in \u001b[0;36mdraw\u001b[0;34m(self, renderer, inframe)\u001b[0m\n\u001b[1;32m   2108\u001b[0m \u001b[0;34m\u001b[0m\u001b[0m\n\u001b[1;32m   2109\u001b[0m         \u001b[0;32mfor\u001b[0m \u001b[0mzorder\u001b[0m\u001b[0;34m,\u001b[0m \u001b[0ma\u001b[0m \u001b[0;32min\u001b[0m \u001b[0mdsu\u001b[0m\u001b[0;34m:\u001b[0m\u001b[0;34m\u001b[0m\u001b[0m\n\u001b[0;32m-> 2110\u001b[0;31m             \u001b[0ma\u001b[0m\u001b[0;34m.\u001b[0m\u001b[0mdraw\u001b[0m\u001b[0;34m(\u001b[0m\u001b[0mrenderer\u001b[0m\u001b[0;34m)\u001b[0m\u001b[0;34m\u001b[0m\u001b[0m\n\u001b[0m\u001b[1;32m   2111\u001b[0m \u001b[0;34m\u001b[0m\u001b[0m\n\u001b[1;32m   2112\u001b[0m         \u001b[0mrenderer\u001b[0m\u001b[0;34m.\u001b[0m\u001b[0mclose_group\u001b[0m\u001b[0;34m(\u001b[0m\u001b[0;34m'axes'\u001b[0m\u001b[0;34m)\u001b[0m\u001b[0;34m\u001b[0m\u001b[0m\n",
      "\u001b[0;32m/Users/nipunbatra/anaconda/lib/python2.7/site-packages/matplotlib/artist.pyc\u001b[0m in \u001b[0;36mdraw_wrapper\u001b[0;34m(artist, renderer, *args, **kwargs)\u001b[0m\n\u001b[1;32m     57\u001b[0m     \u001b[0;32mdef\u001b[0m \u001b[0mdraw_wrapper\u001b[0m\u001b[0;34m(\u001b[0m\u001b[0martist\u001b[0m\u001b[0;34m,\u001b[0m \u001b[0mrenderer\u001b[0m\u001b[0;34m,\u001b[0m \u001b[0;34m*\u001b[0m\u001b[0margs\u001b[0m\u001b[0;34m,\u001b[0m \u001b[0;34m**\u001b[0m\u001b[0mkwargs\u001b[0m\u001b[0;34m)\u001b[0m\u001b[0;34m:\u001b[0m\u001b[0;34m\u001b[0m\u001b[0m\n\u001b[1;32m     58\u001b[0m         \u001b[0mbefore\u001b[0m\u001b[0;34m(\u001b[0m\u001b[0martist\u001b[0m\u001b[0;34m,\u001b[0m \u001b[0mrenderer\u001b[0m\u001b[0;34m)\u001b[0m\u001b[0;34m\u001b[0m\u001b[0m\n\u001b[0;32m---> 59\u001b[0;31m         \u001b[0mdraw\u001b[0m\u001b[0;34m(\u001b[0m\u001b[0martist\u001b[0m\u001b[0;34m,\u001b[0m \u001b[0mrenderer\u001b[0m\u001b[0;34m,\u001b[0m \u001b[0;34m*\u001b[0m\u001b[0margs\u001b[0m\u001b[0;34m,\u001b[0m \u001b[0;34m**\u001b[0m\u001b[0mkwargs\u001b[0m\u001b[0;34m)\u001b[0m\u001b[0;34m\u001b[0m\u001b[0m\n\u001b[0m\u001b[1;32m     60\u001b[0m         \u001b[0mafter\u001b[0m\u001b[0;34m(\u001b[0m\u001b[0martist\u001b[0m\u001b[0;34m,\u001b[0m \u001b[0mrenderer\u001b[0m\u001b[0;34m)\u001b[0m\u001b[0;34m\u001b[0m\u001b[0m\n\u001b[1;32m     61\u001b[0m \u001b[0;34m\u001b[0m\u001b[0m\n",
      "\u001b[0;32m/Users/nipunbatra/anaconda/lib/python2.7/site-packages/matplotlib/collections.pyc\u001b[0m in \u001b[0;36mdraw\u001b[0;34m(self, renderer)\u001b[0m\n\u001b[1;32m    770\u001b[0m     \u001b[0;32mdef\u001b[0m \u001b[0mdraw\u001b[0m\u001b[0;34m(\u001b[0m\u001b[0mself\u001b[0m\u001b[0;34m,\u001b[0m \u001b[0mrenderer\u001b[0m\u001b[0;34m)\u001b[0m\u001b[0;34m:\u001b[0m\u001b[0;34m\u001b[0m\u001b[0m\n\u001b[1;32m    771\u001b[0m         \u001b[0mself\u001b[0m\u001b[0;34m.\u001b[0m\u001b[0mset_sizes\u001b[0m\u001b[0;34m(\u001b[0m\u001b[0mself\u001b[0m\u001b[0;34m.\u001b[0m\u001b[0m_sizes\u001b[0m\u001b[0;34m,\u001b[0m \u001b[0mself\u001b[0m\u001b[0;34m.\u001b[0m\u001b[0mfigure\u001b[0m\u001b[0;34m.\u001b[0m\u001b[0mdpi\u001b[0m\u001b[0;34m)\u001b[0m\u001b[0;34m\u001b[0m\u001b[0m\n\u001b[0;32m--> 772\u001b[0;31m         \u001b[0mCollection\u001b[0m\u001b[0;34m.\u001b[0m\u001b[0mdraw\u001b[0m\u001b[0;34m(\u001b[0m\u001b[0mself\u001b[0m\u001b[0;34m,\u001b[0m \u001b[0mrenderer\u001b[0m\u001b[0;34m)\u001b[0m\u001b[0;34m\u001b[0m\u001b[0m\n\u001b[0m\u001b[1;32m    773\u001b[0m \u001b[0;34m\u001b[0m\u001b[0m\n\u001b[1;32m    774\u001b[0m \u001b[0;34m\u001b[0m\u001b[0m\n",
      "\u001b[0;32m/Users/nipunbatra/anaconda/lib/python2.7/site-packages/matplotlib/artist.pyc\u001b[0m in \u001b[0;36mdraw_wrapper\u001b[0;34m(artist, renderer, *args, **kwargs)\u001b[0m\n\u001b[1;32m     57\u001b[0m     \u001b[0;32mdef\u001b[0m \u001b[0mdraw_wrapper\u001b[0m\u001b[0;34m(\u001b[0m\u001b[0martist\u001b[0m\u001b[0;34m,\u001b[0m \u001b[0mrenderer\u001b[0m\u001b[0;34m,\u001b[0m \u001b[0;34m*\u001b[0m\u001b[0margs\u001b[0m\u001b[0;34m,\u001b[0m \u001b[0;34m**\u001b[0m\u001b[0mkwargs\u001b[0m\u001b[0;34m)\u001b[0m\u001b[0;34m:\u001b[0m\u001b[0;34m\u001b[0m\u001b[0m\n\u001b[1;32m     58\u001b[0m         \u001b[0mbefore\u001b[0m\u001b[0;34m(\u001b[0m\u001b[0martist\u001b[0m\u001b[0;34m,\u001b[0m \u001b[0mrenderer\u001b[0m\u001b[0;34m)\u001b[0m\u001b[0;34m\u001b[0m\u001b[0m\n\u001b[0;32m---> 59\u001b[0;31m         \u001b[0mdraw\u001b[0m\u001b[0;34m(\u001b[0m\u001b[0martist\u001b[0m\u001b[0;34m,\u001b[0m \u001b[0mrenderer\u001b[0m\u001b[0;34m,\u001b[0m \u001b[0;34m*\u001b[0m\u001b[0margs\u001b[0m\u001b[0;34m,\u001b[0m \u001b[0;34m**\u001b[0m\u001b[0mkwargs\u001b[0m\u001b[0;34m)\u001b[0m\u001b[0;34m\u001b[0m\u001b[0m\n\u001b[0m\u001b[1;32m     60\u001b[0m         \u001b[0mafter\u001b[0m\u001b[0;34m(\u001b[0m\u001b[0martist\u001b[0m\u001b[0;34m,\u001b[0m \u001b[0mrenderer\u001b[0m\u001b[0;34m)\u001b[0m\u001b[0;34m\u001b[0m\u001b[0m\n\u001b[1;32m     61\u001b[0m \u001b[0;34m\u001b[0m\u001b[0m\n",
      "\u001b[0;32m/Users/nipunbatra/anaconda/lib/python2.7/site-packages/matplotlib/collections.pyc\u001b[0m in \u001b[0;36mdraw\u001b[0;34m(self, renderer)\u001b[0m\n\u001b[1;32m    259\u001b[0m         \u001b[0mself\u001b[0m\u001b[0;34m.\u001b[0m\u001b[0mupdate_scalarmappable\u001b[0m\u001b[0;34m(\u001b[0m\u001b[0;34m)\u001b[0m\u001b[0;34m\u001b[0m\u001b[0m\n\u001b[1;32m    260\u001b[0m \u001b[0;34m\u001b[0m\u001b[0m\n\u001b[0;32m--> 261\u001b[0;31m         \u001b[0mtransform\u001b[0m\u001b[0;34m,\u001b[0m \u001b[0mtransOffset\u001b[0m\u001b[0;34m,\u001b[0m \u001b[0moffsets\u001b[0m\u001b[0;34m,\u001b[0m \u001b[0mpaths\u001b[0m \u001b[0;34m=\u001b[0m \u001b[0mself\u001b[0m\u001b[0;34m.\u001b[0m\u001b[0m_prepare_points\u001b[0m\u001b[0;34m(\u001b[0m\u001b[0;34m)\u001b[0m\u001b[0;34m\u001b[0m\u001b[0m\n\u001b[0m\u001b[1;32m    262\u001b[0m \u001b[0;34m\u001b[0m\u001b[0m\n\u001b[1;32m    263\u001b[0m         \u001b[0mgc\u001b[0m \u001b[0;34m=\u001b[0m \u001b[0mrenderer\u001b[0m\u001b[0;34m.\u001b[0m\u001b[0mnew_gc\u001b[0m\u001b[0;34m(\u001b[0m\u001b[0;34m)\u001b[0m\u001b[0;34m\u001b[0m\u001b[0m\n",
      "\u001b[0;32m/Users/nipunbatra/anaconda/lib/python2.7/site-packages/matplotlib/collections.pyc\u001b[0m in \u001b[0;36m_prepare_points\u001b[0;34m(self)\u001b[0m\n\u001b[1;32m    232\u001b[0m                 \u001b[0moffsets\u001b[0m \u001b[0;34m=\u001b[0m \u001b[0mlist\u001b[0m\u001b[0;34m(\u001b[0m\u001b[0mzip\u001b[0m\u001b[0;34m(\u001b[0m\u001b[0mxs\u001b[0m\u001b[0;34m,\u001b[0m \u001b[0mys\u001b[0m\u001b[0;34m)\u001b[0m\u001b[0;34m)\u001b[0m\u001b[0;34m\u001b[0m\u001b[0m\n\u001b[1;32m    233\u001b[0m \u001b[0;34m\u001b[0m\u001b[0m\n\u001b[0;32m--> 234\u001b[0;31m         \u001b[0moffsets\u001b[0m \u001b[0;34m=\u001b[0m \u001b[0mnp\u001b[0m\u001b[0;34m.\u001b[0m\u001b[0masanyarray\u001b[0m\u001b[0;34m(\u001b[0m\u001b[0moffsets\u001b[0m\u001b[0;34m,\u001b[0m \u001b[0mnp\u001b[0m\u001b[0;34m.\u001b[0m\u001b[0mfloat_\u001b[0m\u001b[0;34m)\u001b[0m\u001b[0;34m\u001b[0m\u001b[0m\n\u001b[0m\u001b[1;32m    235\u001b[0m         \u001b[0moffsets\u001b[0m\u001b[0;34m.\u001b[0m\u001b[0mshape\u001b[0m \u001b[0;34m=\u001b[0m \u001b[0;34m(\u001b[0m\u001b[0;34m-\u001b[0m\u001b[0;36m1\u001b[0m\u001b[0;34m,\u001b[0m \u001b[0;36m2\u001b[0m\u001b[0;34m)\u001b[0m             \u001b[0;31m# Make it Nx2\u001b[0m\u001b[0;34m\u001b[0m\u001b[0m\n\u001b[1;32m    236\u001b[0m \u001b[0;34m\u001b[0m\u001b[0m\n",
      "\u001b[0;32m/Users/nipunbatra/anaconda/lib/python2.7/site-packages/numpy/core/numeric.pyc\u001b[0m in \u001b[0;36masanyarray\u001b[0;34m(a, dtype, order)\u001b[0m\n\u001b[1;32m    523\u001b[0m \u001b[0;34m\u001b[0m\u001b[0m\n\u001b[1;32m    524\u001b[0m     \"\"\"\n\u001b[0;32m--> 525\u001b[0;31m     \u001b[0;32mreturn\u001b[0m \u001b[0marray\u001b[0m\u001b[0;34m(\u001b[0m\u001b[0ma\u001b[0m\u001b[0;34m,\u001b[0m \u001b[0mdtype\u001b[0m\u001b[0;34m,\u001b[0m \u001b[0mcopy\u001b[0m\u001b[0;34m=\u001b[0m\u001b[0mFalse\u001b[0m\u001b[0;34m,\u001b[0m \u001b[0morder\u001b[0m\u001b[0;34m=\u001b[0m\u001b[0morder\u001b[0m\u001b[0;34m,\u001b[0m \u001b[0msubok\u001b[0m\u001b[0;34m=\u001b[0m\u001b[0mTrue\u001b[0m\u001b[0;34m)\u001b[0m\u001b[0;34m\u001b[0m\u001b[0m\n\u001b[0m\u001b[1;32m    526\u001b[0m \u001b[0;34m\u001b[0m\u001b[0m\n\u001b[1;32m    527\u001b[0m \u001b[0;32mdef\u001b[0m \u001b[0mascontiguousarray\u001b[0m\u001b[0;34m(\u001b[0m\u001b[0ma\u001b[0m\u001b[0;34m,\u001b[0m \u001b[0mdtype\u001b[0m\u001b[0;34m=\u001b[0m\u001b[0mNone\u001b[0m\u001b[0;34m)\u001b[0m\u001b[0;34m:\u001b[0m\u001b[0;34m\u001b[0m\u001b[0m\n",
      "\u001b[0;31mTypeError\u001b[0m: float() argument must be a string or a number"
     ]
    },
    {
     "data": {
      "text/plain": [
       "<matplotlib.figure.Figure at 0x11c8e9650>"
      ]
     },
     "metadata": {},
     "output_type": "display_data"
    }
   ],
   "source": [
    "import matplotlib.pyplot as plt\n",
    "plt.style.use('fivethirtyeight')\n",
    "plt.scatter(pd.Series(out_dw), df.ix[all_homes['dw']].bet_500_1000)\n",
    "#.corr(df.ix[all_homes['dw']].bet_500_1000)"
   ]
  },
  {
   "cell_type": "code",
   "execution_count": 339,
   "metadata": {
    "collapsed": false
   },
   "outputs": [
    {
     "ename": "KeyError",
     "evalue": "'bet_500_1000'",
     "output_type": "error",
     "traceback": [
      "\u001b[0;31m---------------------------------------------------------------------------\u001b[0m",
      "\u001b[0;31mKeyError\u001b[0m                                  Traceback (most recent call last)",
      "\u001b[0;32m<ipython-input-339-5d55ec1a7607>\u001b[0m in \u001b[0;36m<module>\u001b[0;34m()\u001b[0m\n\u001b[0;32m----> 1\u001b[0;31m \u001b[0mpd\u001b[0m\u001b[0;34m.\u001b[0m\u001b[0mSeries\u001b[0m\u001b[0;34m(\u001b[0m\u001b[0mout_dw\u001b[0m\u001b[0;34m[\u001b[0m\u001b[0;34m'bet_500_1000'\u001b[0m\u001b[0;34m]\u001b[0m\u001b[0;34m)\u001b[0m\u001b[0;34m.\u001b[0m\u001b[0mcorr\u001b[0m\u001b[0;34m(\u001b[0m\u001b[0mdf\u001b[0m\u001b[0;34m.\u001b[0m\u001b[0mix\u001b[0m\u001b[0;34m[\u001b[0m\u001b[0mall_homes\u001b[0m\u001b[0;34m[\u001b[0m\u001b[0;34m'dw'\u001b[0m\u001b[0;34m]\u001b[0m\u001b[0;34m]\u001b[0m\u001b[0;34m.\u001b[0m\u001b[0mbet_500_1000\u001b[0m\u001b[0;34m)\u001b[0m\u001b[0;34m\u001b[0m\u001b[0m\n\u001b[0m",
      "\u001b[0;31mKeyError\u001b[0m: 'bet_500_1000'"
     ]
    }
   ],
   "source": [
    "pd.Series(out_dw['bet_500_1000']).corr(df.ix[all_homes['dw']].bet_500_1000)"
   ]
  },
  {
   "cell_type": "code",
   "execution_count": 340,
   "metadata": {
    "collapsed": false
   },
   "outputs": [
    {
     "data": {
      "text/plain": [
       "bet_500_1000    0.631211\n",
       "gt_1000         0.273902\n",
       "dtype: float64"
      ]
     },
     "execution_count": 340,
     "metadata": {},
     "output_type": "execute_result"
    }
   ],
   "source": [
    "pd.DataFrame(out_dw).T.corrwith(df.ix[all_homes['dw']].bet_500_1000)"
   ]
  },
  {
   "cell_type": "code",
   "execution_count": 350,
   "metadata": {
    "collapsed": false
   },
   "outputs": [
    {
     "data": {
      "image/png": "[encoded data removed]",
      "text/plain": [
       "<matplotlib.figure.Figure at 0x116888d50>"
      ]
     },
     "metadata": {},
     "output_type": "display_data"
    }
   ],
   "source": [
    "plt.scatter(df.ix[all_homes['dw']].bet_500_1000, pd.DataFrame(out_dw).T['bet_500_1000'])\n",
    "plt.xlabel(\"Fraction of step changes in \\naggregate between 500 and 1000W\")\n",
    "plt.ylabel(\"#Step changes in Dish washer \\nstream between 500 and 1000W\")\n",
    "plt.title(df.ix[all_homes['dw']].bet_500_1000.corr(pd.DataFrame(out_dw).T['bet_500_1000']))\n",
    "plt.tight_layout()\n",
    "plt.savefig(\"/Users/nipunbatra/git/monthly-disaggregation/figures/new/dw_aggregate_step_changes.png\")"
   ]
  },
  {
   "cell_type": "code",
   "execution_count": 338,
   "metadata": {
    "collapsed": false
   },
   "outputs": [
    {
     "data": {
      "text/plain": [
       "94       4.389723\n",
       "370     26.143587\n",
       "545     18.027090\n",
       "624     20.888189\n",
       "1642     0.000000\n",
       "2156     3.560072\n",
       "2242    19.654873\n",
       "2470     0.012189\n",
       "2814    11.864521\n",
       "2829     7.631028\n",
       "3367     0.244341\n",
       "3456     0.835023\n",
       "3723    35.810143\n",
       "3967     0.048807\n",
       "4767     9.052568\n",
       "5357    16.497515\n",
       "6072     0.008568\n",
       "6636     1.574064\n",
       "6910    13.312785\n",
       "7769     6.195429\n",
       "7850     0.000000\n",
       "9922     0.722194\n",
       "9934    41.853798\n",
       "Name: dw_5, dtype: float64"
      ]
     },
     "execution_count": 338,
     "metadata": {},
     "output_type": "execute_result"
    }
   ],
   "source": [
    "df.ix[all_homes['dw']]['dw_5']"
   ]
  },
  {
   "cell_type": "code",
   "execution_count": null,
   "metadata": {
    "collapsed": true
   },
   "outputs": [],
   "source": []
  }
 ],
 "metadata": {
  "kernelspec": {
   "display_name": "Python 2",
   "language": "python",
   "name": "python2"
  },
  "language_info": {
   "codemirror_mode": {
    "name": "ipython",
    "version": 2
   },
   "file_extension": ".py",
   "mimetype": "text/x-python",
   "name": "python",
   "nbconvert_exporter": "python",
   "pygments_lexer": "ipython2",
   "version": "2.7.11"
  }
 },
 "nbformat": 4,
 "nbformat_minor": 0
}
