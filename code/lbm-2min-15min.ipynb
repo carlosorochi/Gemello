{
 "cells": [
  {
   "cell_type": "code",
   "execution_count": 1,
   "metadata": {
    "collapsed": false
   },
   "outputs": [
    {
     "name": "stderr",
     "output_type": "stream",
     "text": [
      "Vendor:  Continuum Analytics, Inc.\n",
      "Package: mkl\n",
      "Message: trial mode expires in 28 days\n"
     ]
    }
   ],
   "source": [
    "from create_df import read_df\n",
    "df, dfc, all_homes, appliance_min, national_average = read_df()"
   ]
  },
  {
   "cell_type": "code",
   "execution_count": 2,
   "metadata": {
    "collapsed": false
   },
   "outputs": [],
   "source": [
    "import nilmtk\n",
    "import pandas as pd\n",
    "import numpy as np\n",
    "import matplotlib.pyplot as plt\n",
    "from collections import OrderedDict\n",
    "import warnings"
   ]
  },
  {
   "cell_type": "code",
   "execution_count": 3,
   "metadata": {
    "collapsed": true
   },
   "outputs": [],
   "source": [
    "warnings.filterwarnings(\"ignore\")"
   ]
  },
  {
   "cell_type": "code",
   "execution_count": 4,
   "metadata": {
    "collapsed": true
   },
   "outputs": [],
   "source": [
    "from nilmtk import *\n",
    "import os\n",
    "import nilmtk"
   ]
  },
  {
   "cell_type": "code",
   "execution_count": 5,
   "metadata": {
    "collapsed": false
   },
   "outputs": [],
   "source": [
    "ds = DataSet(\"/Users/nipunbatra/wikienergy-2013_ipsn.h5\")"
   ]
  },
  {
   "cell_type": "code",
   "execution_count": 6,
   "metadata": {
    "collapsed": true
   },
   "outputs": [],
   "source": [
    "st = pd.HDFStore(\"/Users/nipunbatra/Downloads/wiki-temp.h5\")"
   ]
  },
  {
   "cell_type": "code",
   "execution_count": 9,
   "metadata": {
    "collapsed": true
   },
   "outputs": [],
   "source": [
    "all_homes_all_appliance=[26.0,\n",
    " 94.0,\n",
    " 370.0,\n",
    " 410.0,\n",
    " 545.0,\n",
    " 624.0,\n",
    " 1283.0,\n",
    " 1334.0,\n",
    " 1642.0,\n",
    " 1953.0,\n",
    " 2129.0,\n",
    " 2156.0,\n",
    " 2242.0,\n",
    " 2470.0,\n",
    " 2814.0,\n",
    " 3367.0,\n",
    " 3456.0,\n",
    " 3482.0,\n",
    " 3723.0,\n",
    " 3967.0,\n",
    " 4732.0,\n",
    " 4767.0,\n",
    " 5357.0,\n",
    " 5371.0,\n",
    " 5746.0,\n",
    " 5785.0,\n",
    " 5814.0,\n",
    " 6072.0,\n",
    " 6636.0,\n",
    " 6836.0,\n",
    " 6910.0,\n",
    " 7016.0,\n",
    " 7731.0,\n",
    " 7769.0,\n",
    " 7866.0,\n",
    " 8317.0,\n",
    " 9052.0,\n",
    " 9609.0,\n",
    " 9654.0,\n",
    " 9922.0,\n",
    " 9933.0,\n",
    " 9934.0,\n",
    " 9982.0]"
   ]
  },
  {
   "cell_type": "code",
   "execution_count": 12,
   "metadata": {
    "collapsed": false
   },
   "outputs": [
    {
     "name": "stdout",
     "output_type": "stream",
     "text": [
      "26.0\n",
      "94.0\n",
      "370.0\n",
      "410.0\n",
      "545.0\n",
      "624.0\n",
      "1283.0\n",
      "1334.0\n",
      "1642.0\n",
      "1953.0\n",
      "2129.0\n",
      "2156.0\n",
      "2242.0\n",
      "2470.0\n",
      "2814.0\n",
      "3367.0\n",
      "3456.0\n",
      "3482.0\n",
      "3723.0\n",
      "3967.0\n",
      "4732.0\n",
      "4767.0\n",
      "5357.0\n",
      "5371.0\n",
      "5746.0\n",
      "5785.0\n",
      "5814.0\n",
      "6072.0\n",
      "6636.0\n",
      "6836.0\n",
      "6910.0\n",
      "7016.0\n",
      "7731.0\n",
      "7769.0\n",
      "7866.0\n",
      "8317.0\n",
      "9052.0\n",
      "9609.0\n",
      "9654.0\n",
      "9922.0\n",
      "9933.0\n",
      "9934.0\n",
      "9982.0\n"
     ]
    }
   ],
   "source": [
    "st_out = pd.HDFStore(\"../fhmm_lbm-2-15.h5\")\n",
    "\n",
    "for home in all_homes_all_appliance[:]:\n",
    "    print home\n",
    "    try:\n",
    "        pred = pd.read_csv(\"/Users/nipunbatra/git/monthly-disaggregation/lbm-2min/%d.csv\" %home, index_col=0)\n",
    "        pred.index = pd.to_datetime(pred.index)\n",
    "        pred = pred['2013']\n",
    "        pred = pred.resample(\"1M\", how=\"sum\").mul(0.000017).mul(2)\n",
    "        pred.index = range(1, 13)\n",
    "        pred = pred[['hvac','dw','dr','fridge','wm','light']]\n",
    "        \n",
    "        st_out['%d' %home] = pred\n",
    "    except Exception, e:\n",
    "        print e\n",
    "    \n",
    "    "
   ]
  },
  {
   "cell_type": "code",
   "execution_count": 25,
   "metadata": {
    "collapsed": false
   },
   "outputs": [
    {
     "name": "stdout",
     "output_type": "stream",
     "text": [
      "hvac 2\n",
      "fridge 2\n",
      "dw 2\n",
      "wm 2\n",
      "light 2\n",
      "dr 2\n",
      "hvac 15\n",
      "fridge 15\n",
      "dw 15\n",
      "wm 15\n",
      "light 15\n",
      "dr 15\n"
     ]
    }
   ],
   "source": [
    "lbm_accur = {}\n",
    "stores  = {2:pd.HDFStore(\"../fhmm_lbm-2-15.h5\"), 15:pd.HDFStore(\"../fhmm_lbm.h5\")}\n",
    "\n",
    "for freq in [2, 15]:\n",
    "    lbm_accur[freq] = {}\n",
    "    for appliance in [\"hvac\",\"fridge\",\"dw\",\"wm\",\"light\",\"dr\"]:\n",
    "        print appliance, freq\n",
    "\n",
    "        if appliance ==\"hvac\":\n",
    "            start, end = 5, 11\n",
    "        else:\n",
    "            start, end = 1, 13\n",
    "        out_ap = {}\n",
    "        accuracies = {}\n",
    "        for home in all_homes[appliance][:]:\n",
    "            out_ap[home] = {}\n",
    "            pred = stores[freq]['/%d' %home][appliance]\n",
    "            for month in range(start, end):\n",
    "                out_ap[home][month] = {}\n",
    "                gt = df.ix[home]['%s_%d' %(appliance, month)]\n",
    "                out_ap[home][month]['gt'] = gt\n",
    "                out_ap[home][month]['pred'] = pred.ix[month]\n",
    "            a = pd.DataFrame(out_ap[home]).T\n",
    "            e = (a['gt']-a['pred']).abs().div(a['gt'])*100\n",
    "            accur = 100-e\n",
    "            accur[accur<0] = 0\n",
    "            accuracies[home] = accur\n",
    "        lbm_accur[freq][appliance] = pd.DataFrame(accuracies).mean().mean()"
   ]
  },
  {
   "cell_type": "code",
   "execution_count": 34,
   "metadata": {
    "collapsed": true
   },
   "outputs": [],
   "source": [
    "appliance_name_map = {\"fridge\":\"Fridge\",\"hvac\":\"HVAC\",\"wm\":\"Washing\\nmachine\",\n",
    "                      \"dr\":\"Dryer\",\"dw\":\"Dish\\nwasher\",\"light\":\"Lights\"}"
   ]
  },
  {
   "cell_type": "code",
   "execution_count": 60,
   "metadata": {
    "collapsed": false
   },
   "outputs": [],
   "source": [
    "%matplotlib inline\n",
    "d = pd.DataFrame(lbm_accur).T"
   ]
  },
  {
   "cell_type": "code",
   "execution_count": 61,
   "metadata": {
    "collapsed": false
   },
   "outputs": [],
   "source": [
    "d = d.rename(columns=appliance_name_map)"
   ]
  },
  {
   "cell_type": "code",
   "execution_count": 62,
   "metadata": {
    "collapsed": false
   },
   "outputs": [
    {
     "data": {
      "text/html": [
       "<div>\n",
       "<table border=\"1\" class=\"dataframe\">\n",
       "  <thead>\n",
       "    <tr style=\"text-align: right;\">\n",
       "      <th></th>\n",
       "      <th>Dryer</th>\n",
       "      <th>Dish\n",
       "washer</th>\n",
       "      <th>Fridge</th>\n",
       "      <th>HVAC</th>\n",
       "      <th>Lights</th>\n",
       "      <th>Washing\n",
       "machine</th>\n",
       "    </tr>\n",
       "  </thead>\n",
       "  <tbody>\n",
       "    <tr>\n",
       "      <th>2</th>\n",
       "      <td>21.063574</td>\n",
       "      <td>24.062129</td>\n",
       "      <td>65.982432</td>\n",
       "      <td>59.983497</td>\n",
       "      <td>41.735498</td>\n",
       "      <td>30.771890</td>\n",
       "    </tr>\n",
       "    <tr>\n",
       "      <th>15</th>\n",
       "      <td>5.940615</td>\n",
       "      <td>16.495110</td>\n",
       "      <td>71.822239</td>\n",
       "      <td>55.722782</td>\n",
       "      <td>11.290612</td>\n",
       "      <td>29.972193</td>\n",
       "    </tr>\n",
       "  </tbody>\n",
       "</table>\n",
       "</div>"
      ],
      "text/plain": [
       "        Dryer  Dish\\nwasher     Fridge       HVAC     Lights  Washing\\nmachine\n",
       "2   21.063574     24.062129  65.982432  59.983497  41.735498         30.771890\n",
       "15   5.940615     16.495110  71.822239  55.722782  11.290612         29.972193"
      ]
     },
     "execution_count": 62,
     "metadata": {},
     "output_type": "execute_result"
    }
   ],
   "source": [
    "d"
   ]
  },
  {
   "cell_type": "code",
   "execution_count": 63,
   "metadata": {
    "collapsed": true
   },
   "outputs": [],
   "source": [
    "d =d.T.ix[['HVAC','Fridge','Washing\\nmachine','Lights','Dryer','Dish\\nwasher']].T"
   ]
  },
  {
   "cell_type": "code",
   "execution_count": 64,
   "metadata": {
    "collapsed": false
   },
   "outputs": [
    {
     "data": {
      "text/html": [
       "<div>\n",
       "<table border=\"1\" class=\"dataframe\">\n",
       "  <thead>\n",
       "    <tr style=\"text-align: right;\">\n",
       "      <th></th>\n",
       "      <th>HVAC</th>\n",
       "      <th>Fridge</th>\n",
       "      <th>Washing\n",
       "machine</th>\n",
       "      <th>Lights</th>\n",
       "      <th>Dryer</th>\n",
       "      <th>Dish\n",
       "washer</th>\n",
       "    </tr>\n",
       "  </thead>\n",
       "  <tbody>\n",
       "    <tr>\n",
       "      <th>2</th>\n",
       "      <td>59.983497</td>\n",
       "      <td>65.982432</td>\n",
       "      <td>30.771890</td>\n",
       "      <td>41.735498</td>\n",
       "      <td>21.063574</td>\n",
       "      <td>24.062129</td>\n",
       "    </tr>\n",
       "    <tr>\n",
       "      <th>15</th>\n",
       "      <td>55.722782</td>\n",
       "      <td>71.822239</td>\n",
       "      <td>29.972193</td>\n",
       "      <td>11.290612</td>\n",
       "      <td>5.940615</td>\n",
       "      <td>16.495110</td>\n",
       "    </tr>\n",
       "  </tbody>\n",
       "</table>\n",
       "</div>"
      ],
      "text/plain": [
       "         HVAC     Fridge  Washing\\nmachine     Lights      Dryer  Dish\\nwasher\n",
       "2   59.983497  65.982432         30.771890  41.735498  21.063574     24.062129\n",
       "15  55.722782  71.822239         29.972193  11.290612   5.940615     16.495110"
      ]
     },
     "execution_count": 64,
     "metadata": {},
     "output_type": "execute_result"
    }
   ],
   "source": [
    "d"
   ]
  },
  {
   "cell_type": "code",
   "execution_count": 65,
   "metadata": {
    "collapsed": true
   },
   "outputs": [],
   "source": [
    "d.index = ['LBM (2 min)', 'LBM (15 min)']"
   ]
  },
  {
   "cell_type": "code",
   "execution_count": 66,
   "metadata": {
    "collapsed": false
   },
   "outputs": [
    {
     "data": {
      "text/html": [
       "<div>\n",
       "<table border=\"1\" class=\"dataframe\">\n",
       "  <thead>\n",
       "    <tr style=\"text-align: right;\">\n",
       "      <th></th>\n",
       "      <th>HVAC</th>\n",
       "      <th>Fridge</th>\n",
       "      <th>Washing\n",
       "machine</th>\n",
       "      <th>Lights</th>\n",
       "      <th>Dryer</th>\n",
       "      <th>Dish\n",
       "washer</th>\n",
       "    </tr>\n",
       "  </thead>\n",
       "  <tbody>\n",
       "    <tr>\n",
       "      <th>LBM (2 min)</th>\n",
       "      <td>59.983497</td>\n",
       "      <td>65.982432</td>\n",
       "      <td>30.771890</td>\n",
       "      <td>41.735498</td>\n",
       "      <td>21.063574</td>\n",
       "      <td>24.062129</td>\n",
       "    </tr>\n",
       "    <tr>\n",
       "      <th>LBM (15 min)</th>\n",
       "      <td>55.722782</td>\n",
       "      <td>71.822239</td>\n",
       "      <td>29.972193</td>\n",
       "      <td>11.290612</td>\n",
       "      <td>5.940615</td>\n",
       "      <td>16.495110</td>\n",
       "    </tr>\n",
       "  </tbody>\n",
       "</table>\n",
       "</div>"
      ],
      "text/plain": [
       "                   HVAC     Fridge  Washing\\nmachine     Lights      Dryer  \\\n",
       "LBM (2 min)   59.983497  65.982432         30.771890  41.735498  21.063574   \n",
       "LBM (15 min)  55.722782  71.822239         29.972193  11.290612   5.940615   \n",
       "\n",
       "              Dish\\nwasher  \n",
       "LBM (2 min)      24.062129  \n",
       "LBM (15 min)     16.495110  "
      ]
     },
     "execution_count": 66,
     "metadata": {},
     "output_type": "execute_result"
    }
   ],
   "source": [
    "d"
   ]
  },
  {
   "cell_type": "code",
   "execution_count": 67,
   "metadata": {
    "collapsed": true
   },
   "outputs": [],
   "source": [
    "d.loc['N-NILM'] = pd.Series({'Dish\\nwasher': 42.587760336179386,\n",
    " 'Dryer': 39.344495390193956,\n",
    " 'Fridge': 77.740659617682567,\n",
    " 'HVAC': 79.208158885529826,\n",
    " 'Lights': 47.066093958195509,\n",
    " 'Washing\\nmachine': 64.363109767113215})"
   ]
  },
  {
   "cell_type": "code",
   "execution_count": 78,
   "metadata": {
    "collapsed": false
   },
   "outputs": [
    {
     "data": {
      "text/plain": [
       "HVAC                59.983497\n",
       "Fridge              65.982432\n",
       "Washing\\nmachine    30.771890\n",
       "Lights              41.735498\n",
       "Dryer               21.063574\n",
       "Dish\\nwasher        24.062129\n",
       "Name: LBM (2 min), dtype: float64"
      ]
     },
     "execution_count": 78,
     "metadata": {},
     "output_type": "execute_result"
    }
   ],
   "source": [
    "d.ix[0]"
   ]
  },
  {
   "cell_type": "code",
   "execution_count": 69,
   "metadata": {
    "collapsed": true
   },
   "outputs": [],
   "source": [
    "from common_functions import latexify, tableau20blind, format_axes"
   ]
  },
  {
   "cell_type": "code",
   "execution_count": 70,
   "metadata": {
    "collapsed": true
   },
   "outputs": [],
   "source": [
    "latexify()"
   ]
  },
  {
   "cell_type": "code",
   "execution_count": 77,
   "metadata": {
    "collapsed": false
   },
   "outputs": [
    {
     "data": {
      "image/png": "[encoded data removed]",
      "text/plain": [
       "<matplotlib.figure.Figure at 0x13d6d4b10>"
      ]
     },
     "metadata": {},
     "output_type": "display_data"
    }
   ],
   "source": [
    "d.ix[['LBM (15 min)', 'LBM (2 min)', 'N-NILM']].T.plot(kind=\"bar\", \n",
    "                                                       colors=[tableau20blind[2],tableau20blind[3],tableau20blind[6]]\n",
    "                                                       , rot=0)\n",
    "format_axes(plt.gca())\n",
    "plt.ylim((0,100))\n",
    "plt.ylabel(\"Energy Accuracy(\\%)\\n(Higher is better)\");\n",
    "plt.tight_layout()\n",
    "plt.savefig(\"/Users/nipunbatra/git/monthly-disaggregation/results/lbm-time.pdf\",bbox_inches=\"tight\")\n",
    "plt.savefig(\"/Users/nipunbatra/git/monthly-disaggregation/results/lbm-time.png\",bbox_inches=\"tight\")"
   ]
  },
  {
   "cell_type": "code",
   "execution_count": null,
   "metadata": {
    "collapsed": true
   },
   "outputs": [],
   "source": []
  }
 ],
 "metadata": {
  "kernelspec": {
   "display_name": "Python 2",
   "language": "python",
   "name": "python2"
  },
  "language_info": {
   "codemirror_mode": {
    "name": "ipython",
    "version": 2
   },
   "file_extension": ".py",
   "mimetype": "text/x-python",
   "name": "python",
   "nbconvert_exporter": "python",
   "pygments_lexer": "ipython2",
   "version": "2.7.11"
  }
 },
 "nbformat": 4,
 "nbformat_minor": 0
}
