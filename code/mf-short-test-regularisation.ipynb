{
 "cells": [
  {
   "cell_type": "code",
   "execution_count": 1,
   "metadata": {
    "collapsed": false
   },
   "outputs": [],
   "source": [
    "from matrix_factorisation import nmf_features, transform, transform_2, preprocess, get_static_features"
   ]
  },
  {
   "cell_type": "code",
   "execution_count": 2,
   "metadata": {
    "collapsed": true
   },
   "outputs": [],
   "source": [
    "import cvxpy as cvx\n",
    "import numpy as np\n",
    "import pandas as pd"
   ]
  },
  {
   "cell_type": "code",
   "execution_count": 3,
   "metadata": {
    "collapsed": true
   },
   "outputs": [],
   "source": [
    "import  os\n",
    "\n",
    "import numpy as np\n",
    "import pandas as pd\n",
    "import pickle\n",
    "from features import feature_map"
   ]
  },
  {
   "cell_type": "code",
   "execution_count": 4,
   "metadata": {
    "collapsed": true
   },
   "outputs": [],
   "source": [
    "import  os\n",
    "\n",
    "import numpy as np\n",
    "import pandas as pd\n",
    "\n",
    "\n",
    "from create_df_larger import read_df_larger\n",
    "df, dfc, all_homes, appliance_min, national_average = read_df_larger()\n",
    "\n",
    "df = df.rename(columns={'house_num_rooms':'num_rooms',\n",
    "                        'num_occupants':'total_occupants',\n",
    "                        'difference_ratio_min_max':'ratio_difference_min_max'})\n",
    "K_min, K_max = 1,6\n",
    "F_min, F_max=1,8\n",
    "\n",
    "from all_functions import *\n",
    "from features_larger import *"
   ]
  },
  {
   "cell_type": "code",
   "execution_count": 5,
   "metadata": {
    "collapsed": true
   },
   "outputs": [],
   "source": [
    "import itertools\n",
    "feature_combinations = [['None']]\n",
    "for l in range(1,4):\n",
    "    for a in itertools.combinations(['occ','area','rooms'], l):\n",
    "        feature_combinations.append(list(a))"
   ]
  },
  {
   "cell_type": "code",
   "execution_count": null,
   "metadata": {
    "collapsed": false
   },
   "outputs": [],
   "source": [
    "#out_overall = {}\n",
    "#error_overall = {}\n",
    "appliance=\"fridge\"\n",
    "for constant in [0.01, 0.1, 1, 10, 100]:\n",
    "#for appliance in ['fridge']:\n",
    "#for appliance in ['fridge','hvac','mw','wm']:\n",
    "\n",
    "    out = {}\n",
    "    error = {}\n",
    "    print appliance\n",
    "    if appliance==\"hvac\":\n",
    "        start, end = 5,11\n",
    "    else:\n",
    "        start, end=1,13\n",
    "    X_matrix, X_normalised, col_max, col_min, appliance_cols, aggregate_cols = preprocess(df, dfc, appliance)\n",
    "    static_features= get_static_features(dfc, X_normalised)\n",
    "    \n",
    "    \n",
    "    \n",
    "    for feature_comb in np.array(feature_combinations)[:2]:\n",
    "        out[tuple(feature_comb)]={}\n",
    "        error[tuple(feature_comb)]={}\n",
    "        \n",
    "        if 'None' in feature_comb:\n",
    "            idx_user=None\n",
    "            data_user=None\n",
    "        else:\n",
    "            idx_user = {}\n",
    "            data_user = {}\n",
    "            dictionary_static = {}\n",
    "            for feature in feature_comb:\n",
    "                dictionary_static[feature]=static_features[feature]\n",
    "            static_features_df = pd.DataFrame(dictionary_static, index=range(len(X_normalised.index)))\n",
    "\n",
    "\n",
    "            for fe in static_features_df.columns:\n",
    "                idx_user[fe]=np.where(static_features_df[fe].notnull())[0]\n",
    "                data_user[fe]=static_features_df[fe].dropna().values\n",
    "            \n",
    "        for lat in range(2,3):\n",
    "            \n",
    "            if lat<len(feature_comb):\n",
    "                continue\n",
    "            out[tuple(feature_comb)][lat]={}\n",
    "\n",
    "\n",
    "            for home in X_normalised.index:\n",
    "                print home\n",
    "\n",
    "                X_home = X_normalised.copy()\n",
    "                for month in range(start, end):\n",
    "                    X_home.loc[home, '%s_%d' %(appliance, month)] = np.NAN\n",
    "                mask = X_home.notnull().values\n",
    "                # Ensure repeatably random problem data.\n",
    "                A = X_home.copy()\n",
    "                #X, Y, res = nmf_features(A, lat, constant, True, idx_user, data_user, 10)\n",
    "                X, Y, res = nmf_features(A, lat, constant, False, idx_user, data_user, 10)\n",
    "\n",
    "\n",
    "                pred_df = pd.DataFrame(Y*X)\n",
    "                pred_df.columns = X_normalised.columns\n",
    "                pred_df.index = X_normalised.index\n",
    "                out[tuple(feature_comb)][lat][home] = transform_2(pred_df.ix[home], appliance, col_max, col_min)[appliance_cols]\n",
    "\n",
    "            # Evaluation\n",
    "\n",
    "            gt = X_matrix[appliance_cols]\n",
    "\n",
    "            pr = pd.DataFrame(out[tuple(feature_comb)][lat]).T\n",
    "\n",
    "            error_df = (pr-gt).abs()\n",
    "            error[tuple(feature_comb)][lat] = error_df.div(gt).mul(100).median().mean()\n",
    "            print error[tuple(feature_comb)][lat], feature_comb, lat\n",
    "    out_overall[constant]=out\n",
    "    error_overall[constant]=error"
   ]
  },
  {
   "cell_type": "code",
   "execution_count": 8,
   "metadata": {
    "collapsed": false
   },
   "outputs": [
    {
     "data": {
      "text/plain": [
       "{('None',): {}}"
      ]
     },
     "execution_count": 8,
     "metadata": {},
     "output_type": "execute_result"
    }
   ],
   "source": [
    "error"
   ]
  },
  {
   "cell_type": "code",
   "execution_count": 13,
   "metadata": {
    "collapsed": false
   },
   "outputs": [
    {
     "data": {
      "text/plain": [
       "7.0987166464351361"
      ]
     },
     "execution_count": 13,
     "metadata": {},
     "output_type": "execute_result"
    }
   ],
   "source": [
    "cvx.Minimize(cvx.norm(A.values[mask] - (Y*X)[mask], 'fro')).value"
   ]
  },
  {
   "cell_type": "code",
   "execution_count": 17,
   "metadata": {
    "collapsed": false
   },
   "outputs": [
    {
     "data": {
      "text/html": [
       "<div>\n",
       "<table border=\"1\" class=\"dataframe\">\n",
       "  <thead>\n",
       "    <tr style=\"text-align: right;\">\n",
       "      <th></th>\n",
       "      <th>0</th>\n",
       "      <th>1</th>\n",
       "      <th>2</th>\n",
       "      <th>3</th>\n",
       "      <th>4</th>\n",
       "      <th>5</th>\n",
       "      <th>6</th>\n",
       "      <th>7</th>\n",
       "      <th>8</th>\n",
       "      <th>9</th>\n",
       "      <th>...</th>\n",
       "      <th>14</th>\n",
       "      <th>15</th>\n",
       "      <th>16</th>\n",
       "      <th>17</th>\n",
       "      <th>18</th>\n",
       "      <th>19</th>\n",
       "      <th>20</th>\n",
       "      <th>21</th>\n",
       "      <th>22</th>\n",
       "      <th>23</th>\n",
       "    </tr>\n",
       "  </thead>\n",
       "  <tbody>\n",
       "    <tr>\n",
       "      <th>count</th>\n",
       "      <td>5.900000e+01</td>\n",
       "      <td>5.900000e+01</td>\n",
       "      <td>5.900000e+01</td>\n",
       "      <td>5.900000e+01</td>\n",
       "      <td>5.900000e+01</td>\n",
       "      <td>5.900000e+01</td>\n",
       "      <td>5.900000e+01</td>\n",
       "      <td>5.900000e+01</td>\n",
       "      <td>5.900000e+01</td>\n",
       "      <td>5.900000e+01</td>\n",
       "      <td>...</td>\n",
       "      <td>5.900000e+01</td>\n",
       "      <td>5.900000e+01</td>\n",
       "      <td>5.900000e+01</td>\n",
       "      <td>5.900000e+01</td>\n",
       "      <td>5.900000e+01</td>\n",
       "      <td>5.900000e+01</td>\n",
       "      <td>5.900000e+01</td>\n",
       "      <td>5.900000e+01</td>\n",
       "      <td>5.900000e+01</td>\n",
       "      <td>5.900000e+01</td>\n",
       "    </tr>\n",
       "    <tr>\n",
       "      <th>mean</th>\n",
       "      <td>2.981428e-11</td>\n",
       "      <td>2.586719e-11</td>\n",
       "      <td>2.703074e-11</td>\n",
       "      <td>2.530747e-11</td>\n",
       "      <td>2.366780e-11</td>\n",
       "      <td>2.027923e-11</td>\n",
       "      <td>2.143374e-11</td>\n",
       "      <td>2.307231e-11</td>\n",
       "      <td>2.471422e-11</td>\n",
       "      <td>2.345270e-11</td>\n",
       "      <td>...</td>\n",
       "      <td>2.004286e-09</td>\n",
       "      <td>2.187871e-09</td>\n",
       "      <td>2.543484e-09</td>\n",
       "      <td>3.041165e-09</td>\n",
       "      <td>3.872563e-09</td>\n",
       "      <td>4.180616e-09</td>\n",
       "      <td>3.377031e-09</td>\n",
       "      <td>2.648475e-09</td>\n",
       "      <td>1.864858e-09</td>\n",
       "      <td>1.997312e-09</td>\n",
       "    </tr>\n",
       "    <tr>\n",
       "      <th>std</th>\n",
       "      <td>1.614637e-11</td>\n",
       "      <td>1.400876e-11</td>\n",
       "      <td>1.463890e-11</td>\n",
       "      <td>1.370564e-11</td>\n",
       "      <td>1.281765e-11</td>\n",
       "      <td>1.098252e-11</td>\n",
       "      <td>1.160776e-11</td>\n",
       "      <td>1.249515e-11</td>\n",
       "      <td>1.338435e-11</td>\n",
       "      <td>1.270116e-11</td>\n",
       "      <td>...</td>\n",
       "      <td>1.085451e-09</td>\n",
       "      <td>1.184874e-09</td>\n",
       "      <td>1.377461e-09</td>\n",
       "      <td>1.646988e-09</td>\n",
       "      <td>2.097244e-09</td>\n",
       "      <td>2.264075e-09</td>\n",
       "      <td>1.828881e-09</td>\n",
       "      <td>1.434321e-09</td>\n",
       "      <td>1.009942e-09</td>\n",
       "      <td>1.081674e-09</td>\n",
       "    </tr>\n",
       "    <tr>\n",
       "      <th>min</th>\n",
       "      <td>8.667420e-12</td>\n",
       "      <td>7.519947e-12</td>\n",
       "      <td>7.858204e-12</td>\n",
       "      <td>7.357228e-12</td>\n",
       "      <td>6.880552e-12</td>\n",
       "      <td>5.895449e-12</td>\n",
       "      <td>6.231080e-12</td>\n",
       "      <td>6.707435e-12</td>\n",
       "      <td>7.184761e-12</td>\n",
       "      <td>6.818021e-12</td>\n",
       "      <td>...</td>\n",
       "      <td>5.826735e-10</td>\n",
       "      <td>6.360441e-10</td>\n",
       "      <td>7.394255e-10</td>\n",
       "      <td>8.841082e-10</td>\n",
       "      <td>1.125807e-09</td>\n",
       "      <td>1.215362e-09</td>\n",
       "      <td>9.817491e-10</td>\n",
       "      <td>7.699478e-10</td>\n",
       "      <td>5.421397e-10</td>\n",
       "      <td>5.806458e-10</td>\n",
       "    </tr>\n",
       "    <tr>\n",
       "      <th>25%</th>\n",
       "      <td>1.929457e-11</td>\n",
       "      <td>1.674018e-11</td>\n",
       "      <td>1.749318e-11</td>\n",
       "      <td>1.637795e-11</td>\n",
       "      <td>1.531682e-11</td>\n",
       "      <td>1.312388e-11</td>\n",
       "      <td>1.387103e-11</td>\n",
       "      <td>1.493144e-11</td>\n",
       "      <td>1.599402e-11</td>\n",
       "      <td>1.517762e-11</td>\n",
       "      <td>...</td>\n",
       "      <td>1.297091e-09</td>\n",
       "      <td>1.415900e-09</td>\n",
       "      <td>1.646038e-09</td>\n",
       "      <td>1.968116e-09</td>\n",
       "      <td>2.506163e-09</td>\n",
       "      <td>2.705522e-09</td>\n",
       "      <td>2.185475e-09</td>\n",
       "      <td>1.713983e-09</td>\n",
       "      <td>1.206859e-09</td>\n",
       "      <td>1.292578e-09</td>\n",
       "    </tr>\n",
       "    <tr>\n",
       "      <th>50%</th>\n",
       "      <td>2.611114e-11</td>\n",
       "      <td>2.265430e-11</td>\n",
       "      <td>2.367333e-11</td>\n",
       "      <td>2.216410e-11</td>\n",
       "      <td>2.072809e-11</td>\n",
       "      <td>1.776040e-11</td>\n",
       "      <td>1.877151e-11</td>\n",
       "      <td>2.020656e-11</td>\n",
       "      <td>2.164454e-11</td>\n",
       "      <td>2.053971e-11</td>\n",
       "      <td>...</td>\n",
       "      <td>1.755340e-09</td>\n",
       "      <td>1.916122e-09</td>\n",
       "      <td>2.227565e-09</td>\n",
       "      <td>2.663431e-09</td>\n",
       "      <td>3.391563e-09</td>\n",
       "      <td>3.661353e-09</td>\n",
       "      <td>2.957580e-09</td>\n",
       "      <td>2.319515e-09</td>\n",
       "      <td>1.633229e-09</td>\n",
       "      <td>1.749231e-09</td>\n",
       "    </tr>\n",
       "    <tr>\n",
       "      <th>75%</th>\n",
       "      <td>3.502905e-11</td>\n",
       "      <td>3.039159e-11</td>\n",
       "      <td>3.175864e-11</td>\n",
       "      <td>2.973396e-11</td>\n",
       "      <td>2.780750e-11</td>\n",
       "      <td>2.382624e-11</td>\n",
       "      <td>2.518268e-11</td>\n",
       "      <td>2.710785e-11</td>\n",
       "      <td>2.903695e-11</td>\n",
       "      <td>2.755478e-11</td>\n",
       "      <td>...</td>\n",
       "      <td>2.354853e-09</td>\n",
       "      <td>2.570548e-09</td>\n",
       "      <td>2.988360e-09</td>\n",
       "      <td>3.573091e-09</td>\n",
       "      <td>4.549907e-09</td>\n",
       "      <td>4.911841e-09</td>\n",
       "      <td>3.967702e-09</td>\n",
       "      <td>3.111715e-09</td>\n",
       "      <td>2.191038e-09</td>\n",
       "      <td>2.346658e-09</td>\n",
       "    </tr>\n",
       "    <tr>\n",
       "      <th>max</th>\n",
       "      <td>7.622241e-11</td>\n",
       "      <td>6.613139e-11</td>\n",
       "      <td>6.910607e-11</td>\n",
       "      <td>6.470042e-11</td>\n",
       "      <td>6.050847e-11</td>\n",
       "      <td>5.184535e-11</td>\n",
       "      <td>5.479693e-11</td>\n",
       "      <td>5.898605e-11</td>\n",
       "      <td>6.318372e-11</td>\n",
       "      <td>5.995856e-11</td>\n",
       "      <td>...</td>\n",
       "      <td>5.124106e-09</td>\n",
       "      <td>5.593454e-09</td>\n",
       "      <td>6.502603e-09</td>\n",
       "      <td>7.774963e-09</td>\n",
       "      <td>9.900493e-09</td>\n",
       "      <td>1.068805e-08</td>\n",
       "      <td>8.633629e-09</td>\n",
       "      <td>6.771021e-09</td>\n",
       "      <td>4.767647e-09</td>\n",
       "      <td>5.106274e-09</td>\n",
       "    </tr>\n",
       "  </tbody>\n",
       "</table>\n",
       "<p>8 rows × 24 columns</p>\n",
       "</div>"
      ],
      "text/plain": [
       "                 0             1             2             3             4   \\\n",
       "count  5.900000e+01  5.900000e+01  5.900000e+01  5.900000e+01  5.900000e+01   \n",
       "mean   2.981428e-11  2.586719e-11  2.703074e-11  2.530747e-11  2.366780e-11   \n",
       "std    1.614637e-11  1.400876e-11  1.463890e-11  1.370564e-11  1.281765e-11   \n",
       "min    8.667420e-12  7.519947e-12  7.858204e-12  7.357228e-12  6.880552e-12   \n",
       "25%    1.929457e-11  1.674018e-11  1.749318e-11  1.637795e-11  1.531682e-11   \n",
       "50%    2.611114e-11  2.265430e-11  2.367333e-11  2.216410e-11  2.072809e-11   \n",
       "75%    3.502905e-11  3.039159e-11  3.175864e-11  2.973396e-11  2.780750e-11   \n",
       "max    7.622241e-11  6.613139e-11  6.910607e-11  6.470042e-11  6.050847e-11   \n",
       "\n",
       "                 5             6             7             8             9   \\\n",
       "count  5.900000e+01  5.900000e+01  5.900000e+01  5.900000e+01  5.900000e+01   \n",
       "mean   2.027923e-11  2.143374e-11  2.307231e-11  2.471422e-11  2.345270e-11   \n",
       "std    1.098252e-11  1.160776e-11  1.249515e-11  1.338435e-11  1.270116e-11   \n",
       "min    5.895449e-12  6.231080e-12  6.707435e-12  7.184761e-12  6.818021e-12   \n",
       "25%    1.312388e-11  1.387103e-11  1.493144e-11  1.599402e-11  1.517762e-11   \n",
       "50%    1.776040e-11  1.877151e-11  2.020656e-11  2.164454e-11  2.053971e-11   \n",
       "75%    2.382624e-11  2.518268e-11  2.710785e-11  2.903695e-11  2.755478e-11   \n",
       "max    5.184535e-11  5.479693e-11  5.898605e-11  6.318372e-11  5.995856e-11   \n",
       "\n",
       "           ...                 14            15            16            17  \\\n",
       "count      ...       5.900000e+01  5.900000e+01  5.900000e+01  5.900000e+01   \n",
       "mean       ...       2.004286e-09  2.187871e-09  2.543484e-09  3.041165e-09   \n",
       "std        ...       1.085451e-09  1.184874e-09  1.377461e-09  1.646988e-09   \n",
       "min        ...       5.826735e-10  6.360441e-10  7.394255e-10  8.841082e-10   \n",
       "25%        ...       1.297091e-09  1.415900e-09  1.646038e-09  1.968116e-09   \n",
       "50%        ...       1.755340e-09  1.916122e-09  2.227565e-09  2.663431e-09   \n",
       "75%        ...       2.354853e-09  2.570548e-09  2.988360e-09  3.573091e-09   \n",
       "max        ...       5.124106e-09  5.593454e-09  6.502603e-09  7.774963e-09   \n",
       "\n",
       "                 18            19            20            21            22  \\\n",
       "count  5.900000e+01  5.900000e+01  5.900000e+01  5.900000e+01  5.900000e+01   \n",
       "mean   3.872563e-09  4.180616e-09  3.377031e-09  2.648475e-09  1.864858e-09   \n",
       "std    2.097244e-09  2.264075e-09  1.828881e-09  1.434321e-09  1.009942e-09   \n",
       "min    1.125807e-09  1.215362e-09  9.817491e-10  7.699478e-10  5.421397e-10   \n",
       "25%    2.506163e-09  2.705522e-09  2.185475e-09  1.713983e-09  1.206859e-09   \n",
       "50%    3.391563e-09  3.661353e-09  2.957580e-09  2.319515e-09  1.633229e-09   \n",
       "75%    4.549907e-09  4.911841e-09  3.967702e-09  3.111715e-09  2.191038e-09   \n",
       "max    9.900493e-09  1.068805e-08  8.633629e-09  6.771021e-09  4.767647e-09   \n",
       "\n",
       "                 23  \n",
       "count  5.900000e+01  \n",
       "mean   1.997312e-09  \n",
       "std    1.081674e-09  \n",
       "min    5.806458e-10  \n",
       "25%    1.292578e-09  \n",
       "50%    1.749231e-09  \n",
       "75%    2.346658e-09  \n",
       "max    5.106274e-09  \n",
       "\n",
       "[8 rows x 24 columns]"
      ]
     },
     "execution_count": 17,
     "metadata": {},
     "output_type": "execute_result"
    }
   ],
   "source": [
    "pd.DataFrame(Y*X).describe()"
   ]
  },
  {
   "cell_type": "code",
   "execution_count": 7,
   "metadata": {
    "collapsed": false
   },
   "outputs": [
    {
     "data": {
      "text/plain": [
       "48.568681550176741"
      ]
     },
     "execution_count": 7,
     "metadata": {},
     "output_type": "execute_result"
    }
   ],
   "source": [
    "%matplotlib inline\n",
    "pd.DataFrame(error).T.min().min()"
   ]
  },
  {
   "cell_type": "code",
   "execution_count": 7,
   "metadata": {
    "collapsed": false
   },
   "outputs": [
    {
     "data": {
      "text/plain": [
       "Index([u'fridge_1', u'fridge_2', u'fridge_3', u'fridge_4', u'fridge_5',\n",
       "       u'fridge_6', u'fridge_7', u'fridge_8', u'fridge_9', u'fridge_10',\n",
       "       u'fridge_11', u'fridge_12', u'aggregate_1', u'aggregate_2',\n",
       "       u'aggregate_3', u'aggregate_4', u'aggregate_5', u'aggregate_6',\n",
       "       u'aggregate_7', u'aggregate_8', u'aggregate_9', u'aggregate_10',\n",
       "       u'aggregate_11', u'aggregate_12'],\n",
       "      dtype='object')"
      ]
     },
     "execution_count": 7,
     "metadata": {},
     "output_type": "execute_result"
    }
   ],
   "source": [
    "X_matrix.columns"
   ]
  },
  {
   "cell_type": "code",
   "execution_count": 26,
   "metadata": {
    "collapsed": false
   },
   "outputs": [
    {
     "data": {
      "text/plain": [
       "[['None'],\n",
       " ['occ'],\n",
       " ['area'],\n",
       " ['rooms'],\n",
       " ['occ', 'area'],\n",
       " ['occ', 'rooms'],\n",
       " ['area', 'rooms'],\n",
       " ['occ', 'area', 'rooms']]"
      ]
     },
     "execution_count": 26,
     "metadata": {},
     "output_type": "execute_result"
    }
   ],
   "source": [
    "feature_combinations"
   ]
  },
  {
   "cell_type": "code",
   "execution_count": null,
   "metadata": {
    "collapsed": true
   },
   "outputs": [],
   "source": []
  }
 ],
 "metadata": {
  "kernelspec": {
   "display_name": "Python 2",
   "language": "python",
   "name": "python2"
  },
  "language_info": {
   "codemirror_mode": {
    "name": "ipython",
    "version": 2
   },
   "file_extension": ".py",
   "mimetype": "text/x-python",
   "name": "python",
   "nbconvert_exporter": "python",
   "pygments_lexer": "ipython2",
   "version": "2.7.11"
  }
 },
 "nbformat": 4,
 "nbformat_minor": 0
}
