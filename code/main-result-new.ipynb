{
 "cells": [
  {
   "cell_type": "markdown",
   "metadata": {},
   "source": [
    "This notebook produces the main result for Gemello. This notebook has already computed the result for Latent bayesian melding and FHMM and stored in a Pandas.Panel. We just pull the data from that Panel. Additionally, this notebook computes the main result. "
   ]
  },
  {
   "cell_type": "code",
   "execution_count": 36,
   "metadata": {
    "collapsed": false
   },
   "outputs": [],
   "source": [
    "import pandas as pd\n",
    "import numpy as np\n",
    "import matplotlib.pyplot as plt\n",
    "%matplotlib inline"
   ]
  },
  {
   "cell_type": "code",
   "execution_count": 37,
   "metadata": {
    "collapsed": false
   },
   "outputs": [
    {
     "name": "stdout",
     "output_type": "stream",
     "text": [
      "-rw-r--r--  1 nipunbatra  staff   436K Feb  9 18:57 accuracy.h5\r\n"
     ]
    }
   ],
   "source": [
    "!ls -lah accuracy.h5"
   ]
  },
  {
   "cell_type": "code",
   "execution_count": 38,
   "metadata": {
    "collapsed": false
   },
   "outputs": [],
   "source": [
    "accuracy_store = pd.HDFStore(\"accuracy.h5\")"
   ]
  },
  {
   "cell_type": "code",
   "execution_count": 39,
   "metadata": {
    "collapsed": false
   },
   "outputs": [
    {
     "data": {
      "text/plain": [
       "<class 'pandas.io.pytables.HDFStore'>\n",
       "File path: accuracy.h5\n",
       "/FHMM                        wide_table   (typ->appendable,nrows->510,ncols->6,indexers->[major_axis,minor_axis])\n",
       "/LBM                         wide_table   (typ->appendable,nrows->510,ncols->6,indexers->[major_axis,minor_axis])\n",
       "/N-NILM                      wide_table   (typ->appendable,nrows->445,ncols->6,indexers->[major_axis,minor_axis])\n",
       "/Regional average            wide_table   (typ->appendable,nrows->445,ncols->6,indexers->[major_axis,minor_axis])"
      ]
     },
     "execution_count": 39,
     "metadata": {},
     "output_type": "execute_result"
    }
   ],
   "source": [
    "accuracy_store"
   ]
  },
  {
   "cell_type": "code",
   "execution_count": 40,
   "metadata": {
    "collapsed": true
   },
   "outputs": [],
   "source": [
    "appliance_name_map = {\"fridge\":\"Fridge\",\"hvac\":\"HVAC\",\"wm\":\"Washing\\nmachine\",\n",
    "                      \"dr\":\"Dryer\",\"dw\":\"Dish\\nwasher\",\"light\":\"Lights\"}"
   ]
  },
  {
   "cell_type": "markdown",
   "metadata": {},
   "source": [
    "Now, producing the main result for Gemello. The main computation had been done by FILL THIS UP."
   ]
  },
  {
   "cell_type": "markdown",
   "metadata": {},
   "source": [
    "#### ACCURACY on the train set for Gemello"
   ]
  },
  {
   "cell_type": "code",
   "execution_count": 41,
   "metadata": {
    "collapsed": false
   },
   "outputs": [
    {
     "ename": "NameError",
     "evalue": "name 'all_homes' is not defined",
     "output_type": "error",
     "traceback": [
      "\u001b[0;31m---------------------------------------------------------------------------\u001b[0m",
      "\u001b[0;31mNameError\u001b[0m                                 Traceback (most recent call last)",
      "\u001b[0;32m<ipython-input-41-80b0371039fa>\u001b[0m in \u001b[0;36m<module>\u001b[0;34m()\u001b[0m\n\u001b[1;32m     13\u001b[0m \u001b[0;34m\u001b[0m\u001b[0m\n\u001b[1;32m     14\u001b[0m         \u001b[0mout\u001b[0m\u001b[0;34m[\u001b[0m\u001b[0mfeature\u001b[0m\u001b[0;34m]\u001b[0m\u001b[0;34m[\u001b[0m\u001b[0mappliance\u001b[0m\u001b[0;34m]\u001b[0m \u001b[0;34m=\u001b[0m \u001b[0;34m{\u001b[0m\u001b[0;34m}\u001b[0m\u001b[0;34m\u001b[0m\u001b[0m\n\u001b[0;32m---> 15\u001b[0;31m         \u001b[0;32mfor\u001b[0m \u001b[0mhome\u001b[0m \u001b[0;32min\u001b[0m \u001b[0mall_homes\u001b[0m\u001b[0;34m[\u001b[0m\u001b[0mappliance\u001b[0m\u001b[0;34m]\u001b[0m\u001b[0;34m:\u001b[0m\u001b[0;34m\u001b[0m\u001b[0m\n\u001b[0m\u001b[1;32m     16\u001b[0m             \u001b[0;32mtry\u001b[0m\u001b[0;34m:\u001b[0m\u001b[0;34m\u001b[0m\u001b[0m\n\u001b[1;32m     17\u001b[0m                 \u001b[0mj\u001b[0m \u001b[0;34m=\u001b[0m \u001b[0mjson\u001b[0m\u001b[0;34m.\u001b[0m\u001b[0mload\u001b[0m\u001b[0;34m(\u001b[0m\u001b[0mopen\u001b[0m\u001b[0;34m(\u001b[0m\u001b[0;34m\"../main-out-new/%s_%s_%d.json\"\u001b[0m \u001b[0;34m%\u001b[0m\u001b[0;34m(\u001b[0m\u001b[0mappliance\u001b[0m\u001b[0;34m,\u001b[0m \u001b[0mfeature\u001b[0m\u001b[0;34m,\u001b[0m \u001b[0mhome\u001b[0m\u001b[0;34m)\u001b[0m\u001b[0;34m,\u001b[0m\u001b[0;34m'r'\u001b[0m\u001b[0;34m)\u001b[0m\u001b[0;34m)\u001b[0m\u001b[0;34m\u001b[0m\u001b[0m\n",
      "\u001b[0;31mNameError\u001b[0m: name 'all_homes' is not defined"
     ]
    }
   ],
   "source": [
    "import json\n",
    "appliances = [\"dr\",\"hvac\",\"wm\",\"dw\",\"fridge\",\"light\"]\n",
    "features = [\"Static\", \"Monthly\", \"Monthly+Static\"]\n",
    "\n",
    "out={}\n",
    "means = {}\n",
    "sems = {}\n",
    "for feature in features:\n",
    "    out[feature]={}\n",
    "    means[feature]={}\n",
    "    sems[feature]={}\n",
    "    for appliance in appliances:\n",
    "    \n",
    "        out[feature][appliance] = {}\n",
    "        for home in all_homes[appliance]:\n",
    "            try:\n",
    "                j = json.load(open(\"../main-out-new/%s_%s_%d.json\" %(appliance, feature, home),'r'))\n",
    "                out[feature][appliance][int(home)] = j['accuracy']\n",
    "            except:\n",
    "                pass\n",
    "                                     \n",
    "train_df = pd.DataFrame({k:pd.DataFrame(out[k]).mean() for k in features})\n"
   ]
  },
  {
   "cell_type": "code",
   "execution_count": 26,
   "metadata": {
    "collapsed": false
   },
   "outputs": [],
   "source": [
    "means = {}\n",
    "sems = {}\n",
    "for approach in [\"FHMM\",\"LBM\"]:\n",
    "\n",
    "    fr = accuracy_store[approach]\n",
    "    means[approach]={}\n",
    "    sems[approach] = {}\n",
    "\n",
    "    for appliance in ['hvac','fridge','dw','dr','light','wm']:\n",
    "        if appliance==\"hvac\":\n",
    "            start, stop=5, 11\n",
    "        else:\n",
    "            start, stop=1, 13\n",
    "        \n",
    "        temp = fr[appliance]\n",
    "        if approach=='N-NILM':\n",
    "            temp=temp.T\n",
    "        means[approach][appliance_name_map[appliance]] = temp.ix[range(start,stop)].mean().mean()\n",
    "        sems[approach][appliance_name_map[appliance]] = temp.ix[range(start,stop)].mean().sem()"
   ]
  },
  {
   "cell_type": "code",
   "execution_count": 27,
   "metadata": {
    "collapsed": true
   },
   "outputs": [],
   "source": [
    "APPROACH=\"Gemello\""
   ]
  },
  {
   "cell_type": "code",
   "execution_count": 28,
   "metadata": {
    "collapsed": false
   },
   "outputs": [],
   "source": [
    "means.update({APPROACH: {'Dish\\nwasher': 27.333401871684234,\n",
    " 'Dryer': 33.052222078385938,\n",
    " 'Fridge': 68.541552745826976,\n",
    " 'HVAC': 76.239355252614146,\n",
    " 'Lights': 42.757293980395275,\n",
    " 'Washing\\nmachine': 57.272795296939734} })"
   ]
  },
  {
   "cell_type": "code",
   "execution_count": 29,
   "metadata": {
    "collapsed": false
   },
   "outputs": [],
   "source": [
    "sems.update({APPROACH:{'Dish\\nwasher': 4.4952334747643938,\n",
    " 'Dryer': 5.486932783231973,\n",
    " 'Fridge': 4.3774018060910178,\n",
    " 'HVAC': 2.4278829051111015,\n",
    " 'Lights': 6.6281736354818035,\n",
    " 'Washing\\nmachine': 6.9256405458935992} })"
   ]
  },
  {
   "cell_type": "code",
   "execution_count": 30,
   "metadata": {
    "collapsed": true
   },
   "outputs": [],
   "source": [
    "main_df = pd.DataFrame(means)\n",
    "se = pd.DataFrame(sems)"
   ]
  },
  {
   "cell_type": "code",
   "execution_count": 31,
   "metadata": {
    "collapsed": false
   },
   "outputs": [
    {
     "data": {
      "text/html": [
       "<div>\n",
       "<table border=\"1\" class=\"dataframe\">\n",
       "  <thead>\n",
       "    <tr style=\"text-align: right;\">\n",
       "      <th></th>\n",
       "      <th>FHMM</th>\n",
       "      <th>Gemello</th>\n",
       "      <th>LBM</th>\n",
       "    </tr>\n",
       "  </thead>\n",
       "  <tbody>\n",
       "    <tr>\n",
       "      <th>Dish\\nwasher</th>\n",
       "      <td>0.430750</td>\n",
       "      <td>27.333402</td>\n",
       "      <td>16.495110</td>\n",
       "    </tr>\n",
       "    <tr>\n",
       "      <th>Dryer</th>\n",
       "      <td>10.529382</td>\n",
       "      <td>33.052222</td>\n",
       "      <td>5.940615</td>\n",
       "    </tr>\n",
       "    <tr>\n",
       "      <th>Fridge</th>\n",
       "      <td>38.975759</td>\n",
       "      <td>68.541553</td>\n",
       "      <td>71.822239</td>\n",
       "    </tr>\n",
       "    <tr>\n",
       "      <th>HVAC</th>\n",
       "      <td>61.039103</td>\n",
       "      <td>76.239355</td>\n",
       "      <td>55.722782</td>\n",
       "    </tr>\n",
       "    <tr>\n",
       "      <th>Lights</th>\n",
       "      <td>33.414945</td>\n",
       "      <td>42.757294</td>\n",
       "      <td>11.290612</td>\n",
       "    </tr>\n",
       "    <tr>\n",
       "      <th>Washing\\nmachine</th>\n",
       "      <td>0.130659</td>\n",
       "      <td>57.272795</td>\n",
       "      <td>29.972193</td>\n",
       "    </tr>\n",
       "  </tbody>\n",
       "</table>\n",
       "</div>"
      ],
      "text/plain": [
       "                       FHMM    Gemello        LBM\n",
       "Dish\\nwasher       0.430750  27.333402  16.495110\n",
       "Dryer             10.529382  33.052222   5.940615\n",
       "Fridge            38.975759  68.541553  71.822239\n",
       "HVAC              61.039103  76.239355  55.722782\n",
       "Lights            33.414945  42.757294  11.290612\n",
       "Washing\\nmachine   0.130659  57.272795  29.972193"
      ]
     },
     "execution_count": 31,
     "metadata": {},
     "output_type": "execute_result"
    }
   ],
   "source": [
    "main_df"
   ]
  },
  {
   "cell_type": "code",
   "execution_count": 32,
   "metadata": {
    "collapsed": false
   },
   "outputs": [],
   "source": [
    "main_df = main_df.ix[['HVAC','Fridge','Washing\\nmachine','Lights','Dryer','Dish\\nwasher']]\n",
    "se_df =se.ix[['HVAC','Fridge','Washing\\nmachine','Lights','Dryer','Dish\\nwasher']]"
   ]
  },
  {
   "cell_type": "code",
   "execution_count": 33,
   "metadata": {
    "collapsed": true
   },
   "outputs": [],
   "source": [
    "from common_functions import latexify, format_axes"
   ]
  },
  {
   "cell_type": "code",
   "execution_count": 34,
   "metadata": {
    "collapsed": false
   },
   "outputs": [],
   "source": [
    "main_df = main_df[[\"FHMM\",\"LBM\",APPROACH]]"
   ]
  },
  {
   "cell_type": "code",
   "execution_count": 35,
   "metadata": {
    "collapsed": false
   },
   "outputs": [
    {
     "data": {
      "image/png": "[encoded data removed]",
      "text/plain": [
       "<matplotlib.figure.Figure at 0x112d28e90>"
      ]
     },
     "metadata": {},
     "output_type": "display_data"
    }
   ],
   "source": [
    "#latexify(columns=2, fig_height=2.6)\n",
    "latexify(columns=1)\n",
    "\n",
    "tableau20blind =  [(31, 119, 180), (174, 199, 232), (255, 127, 14), (255, 187, 120),  \n",
    "             (44, 160, 44), (152, 223, 138), (214, 39, 40), (255, 152, 150),  \n",
    "             (148, 103, 189), (197, 176, 213), (140, 86, 75), (196, 156, 148),  \n",
    "             (227, 119, 194), (247, 182, 210), (127, 127, 127), (199, 199, 199),  \n",
    "             (188, 189, 34), (219, 219, 141), (23, 190, 207), (158, 218, 229)]\n",
    "  \n",
    "# Rescale to values between 0 and 1\n",
    "for i in range(len(tableau20blind)):  \n",
    "    r, g, b = tableau20blind[i]  \n",
    "    tableau20blind[i] = (r / 255., g / 255., b / 255.)\n",
    "\n",
    "main_df.plot(kind=\"bar\",yerr=se_df,rot=0, colors=tableau20blind[::2])\n",
    "plt.ylim((0,100))\n",
    "plt.ylabel(\"Energy Accuracy(\\%)\\n(Higher is better)\");\n",
    "format_axes(plt.gca())\n",
    "\"\"\"\n",
    "ax = plt.gca()\n",
    "for p in ax.patches:\n",
    "    if p.get_height()<20:\n",
    "        color=\"black\"\n",
    "        offset=5\n",
    "    else:\n",
    "        color=\"black\"\n",
    "        offset=-15\n",
    "    ax.annotate(str(int(round(p.get_height(),0))), (p.get_x(), p.get_height() +offset), color=color, fontsize=6)\n",
    "\"\"\"\n",
    "\n",
    "plt.tight_layout()\n",
    "plt.savefig(\"/Users/nipunbatra/git/monthly-disaggregation/results/main_new.pdf\",bbox_inches=\"tight\")\n",
    "plt.savefig(\"/Users/nipunbatra/git/monthly-disaggregation/results/main_new.png\",bbox_inches=\"tight\")"
   ]
  },
  {
   "cell_type": "code",
   "execution_count": 22,
   "metadata": {
    "collapsed": false
   },
   "outputs": [
    {
     "data": {
      "text/html": [
       "<div>\n",
       "<table border=\"1\" class=\"dataframe\">\n",
       "  <thead>\n",
       "    <tr style=\"text-align: right;\">\n",
       "      <th></th>\n",
       "      <th>FHMM</th>\n",
       "      <th>LBM</th>\n",
       "      <th>Regional average</th>\n",
       "      <th>N-NILM</th>\n",
       "    </tr>\n",
       "  </thead>\n",
       "  <tbody>\n",
       "    <tr>\n",
       "      <th>HVAC</th>\n",
       "      <td>61.039103</td>\n",
       "      <td>55.722782</td>\n",
       "      <td>48.698197</td>\n",
       "      <td>NaN</td>\n",
       "    </tr>\n",
       "    <tr>\n",
       "      <th>Fridge</th>\n",
       "      <td>38.975759</td>\n",
       "      <td>71.822239</td>\n",
       "      <td>50.157783</td>\n",
       "      <td>NaN</td>\n",
       "    </tr>\n",
       "    <tr>\n",
       "      <th>Washing\\nmachine</th>\n",
       "      <td>0.130659</td>\n",
       "      <td>29.972193</td>\n",
       "      <td>27.360420</td>\n",
       "      <td>NaN</td>\n",
       "    </tr>\n",
       "    <tr>\n",
       "      <th>Lights</th>\n",
       "      <td>33.414945</td>\n",
       "      <td>11.290612</td>\n",
       "      <td>43.866968</td>\n",
       "      <td>NaN</td>\n",
       "    </tr>\n",
       "    <tr>\n",
       "      <th>Dryer</th>\n",
       "      <td>10.529382</td>\n",
       "      <td>5.940615</td>\n",
       "      <td>39.250599</td>\n",
       "      <td>NaN</td>\n",
       "    </tr>\n",
       "    <tr>\n",
       "      <th>Dish\\nwasher</th>\n",
       "      <td>0.430750</td>\n",
       "      <td>16.495110</td>\n",
       "      <td>25.787515</td>\n",
       "      <td>NaN</td>\n",
       "    </tr>\n",
       "  </tbody>\n",
       "</table>\n",
       "</div>"
      ],
      "text/plain": [
       "                       FHMM        LBM  Regional average  N-NILM\n",
       "HVAC              61.039103  55.722782         48.698197     NaN\n",
       "Fridge            38.975759  71.822239         50.157783     NaN\n",
       "Washing\\nmachine   0.130659  29.972193         27.360420     NaN\n",
       "Lights            33.414945  11.290612         43.866968     NaN\n",
       "Dryer             10.529382   5.940615         39.250599     NaN\n",
       "Dish\\nwasher       0.430750  16.495110         25.787515     NaN"
      ]
     },
     "execution_count": 22,
     "metadata": {},
     "output_type": "execute_result"
    }
   ],
   "source": [
    "main_df[[\"FHMM\",\"LBM\",\"Regional average\",\"N-NILM\"]]"
   ]
  },
  {
   "cell_type": "code",
   "execution_count": 13,
   "metadata": {
    "collapsed": false
   },
   "outputs": [
    {
     "data": {
      "text/html": [
       "<div>\n",
       "<table border=\"1\" class=\"dataframe\">\n",
       "  <thead>\n",
       "    <tr style=\"text-align: right;\">\n",
       "      <th></th>\n",
       "      <th>FHMM</th>\n",
       "      <th>LBM</th>\n",
       "      <th>Regional average</th>\n",
       "      <th>N-NILM</th>\n",
       "    </tr>\n",
       "  </thead>\n",
       "  <tbody>\n",
       "    <tr>\n",
       "      <th>HVAC</th>\n",
       "      <td>61.039103</td>\n",
       "      <td>55.722782</td>\n",
       "      <td>48.698197</td>\n",
       "      <td>79.247215</td>\n",
       "    </tr>\n",
       "    <tr>\n",
       "      <th>Fridge</th>\n",
       "      <td>38.975759</td>\n",
       "      <td>71.822239</td>\n",
       "      <td>50.157783</td>\n",
       "      <td>81.121122</td>\n",
       "    </tr>\n",
       "    <tr>\n",
       "      <th>Washing\\nmachine</th>\n",
       "      <td>0.130659</td>\n",
       "      <td>29.972193</td>\n",
       "      <td>27.360420</td>\n",
       "      <td>65.535383</td>\n",
       "    </tr>\n",
       "    <tr>\n",
       "      <th>Lights</th>\n",
       "      <td>33.414945</td>\n",
       "      <td>11.290612</td>\n",
       "      <td>43.866968</td>\n",
       "      <td>49.873465</td>\n",
       "    </tr>\n",
       "    <tr>\n",
       "      <th>Dryer</th>\n",
       "      <td>10.529382</td>\n",
       "      <td>5.940615</td>\n",
       "      <td>39.250599</td>\n",
       "      <td>41.278503</td>\n",
       "    </tr>\n",
       "    <tr>\n",
       "      <th>Dish\\nwasher</th>\n",
       "      <td>0.430750</td>\n",
       "      <td>16.495110</td>\n",
       "      <td>25.787515</td>\n",
       "      <td>44.113923</td>\n",
       "    </tr>\n",
       "  </tbody>\n",
       "</table>\n",
       "</div>"
      ],
      "text/plain": [
       "                       FHMM        LBM  Regional average     N-NILM\n",
       "HVAC              61.039103  55.722782         48.698197  79.247215\n",
       "Fridge            38.975759  71.822239         50.157783  81.121122\n",
       "Washing\\nmachine   0.130659  29.972193         27.360420  65.535383\n",
       "Lights            33.414945  11.290612         43.866968  49.873465\n",
       "Dryer             10.529382   5.940615         39.250599  41.278503\n",
       "Dish\\nwasher       0.430750  16.495110         25.787515  44.113923"
      ]
     },
     "execution_count": 13,
     "metadata": {},
     "output_type": "execute_result"
    }
   ],
   "source": [
    "main_df[[\"FHMM\",\"LBM\",\"Regional average\",\"N-NILM\"]]"
   ]
  },
  {
   "cell_type": "code",
   "execution_count": 33,
   "metadata": {
    "collapsed": false
   },
   "outputs": [
    {
     "data": {
      "text/plain": [
       "{'Dish\\nwasher': 42.587760336179386,\n",
       " 'Dryer': 39.344495390193956,\n",
       " 'Fridge': 77.740659617682567,\n",
       " 'HVAC': 79.208158885529826,\n",
       " 'Lights': 47.066093958195509,\n",
       " 'Washing\\nmachine': 64.363109767113215}"
      ]
     },
     "execution_count": 33,
     "metadata": {},
     "output_type": "execute_result"
    }
   ],
   "source": [
    "main_df['N-NILM'].to_dict()"
   ]
  },
  {
   "cell_type": "code",
   "execution_count": null,
   "metadata": {
    "collapsed": true
   },
   "outputs": [],
   "source": []
  }
 ],
 "metadata": {
  "kernelspec": {
   "display_name": "Python 2",
   "language": "python",
   "name": "python2"
  },
  "language_info": {
   "codemirror_mode": {
    "name": "ipython",
    "version": 2
   },
   "file_extension": ".py",
   "mimetype": "text/x-python",
   "name": "python",
   "nbconvert_exporter": "python",
   "pygments_lexer": "ipython2",
   "version": "2.7.11"
  }
 },
 "nbformat": 4,
 "nbformat_minor": 0
}
