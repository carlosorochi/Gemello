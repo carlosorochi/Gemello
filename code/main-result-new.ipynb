{
 "cells": [
  {
   "cell_type": "code",
   "execution_count": 1,
   "metadata": {
    "collapsed": false
   },
   "outputs": [
    {
     "name": "stderr",
     "output_type": "stream",
     "text": [
      "Vendor:  Continuum Analytics, Inc.\n",
      "Package: mkl\n",
      "Message: trial mode expires in 27 days\n"
     ]
    }
   ],
   "source": [
    "import pandas as pd\n",
    "import numpy as np\n",
    "import matplotlib.pyplot as plt\n",
    "%matplotlib inline"
   ]
  },
  {
   "cell_type": "code",
   "execution_count": 2,
   "metadata": {
    "collapsed": false
   },
   "outputs": [
    {
     "name": "stdout",
     "output_type": "stream",
     "text": [
      "-rw-r--r--  1 nipunbatra  staff   436K Feb  9 18:57 accuracy.h5\r\n"
     ]
    }
   ],
   "source": [
    "!ls -lah accuracy.h5"
   ]
  },
  {
   "cell_type": "code",
   "execution_count": 3,
   "metadata": {
    "collapsed": false
   },
   "outputs": [],
   "source": [
    "accuracy_store = pd.HDFStore(\"accuracy.h5\")"
   ]
  },
  {
   "cell_type": "code",
   "execution_count": 4,
   "metadata": {
    "collapsed": false
   },
   "outputs": [
    {
     "data": {
      "text/plain": [
       "<class 'pandas.io.pytables.HDFStore'>\n",
       "File path: accuracy.h5\n",
       "/FHMM                        wide_table   (typ->appendable,nrows->510,ncols->6,indexers->[major_axis,minor_axis])\n",
       "/LBM                         wide_table   (typ->appendable,nrows->510,ncols->6,indexers->[major_axis,minor_axis])\n",
       "/N-NILM                      wide_table   (typ->appendable,nrows->445,ncols->6,indexers->[major_axis,minor_axis])\n",
       "/Regional average            wide_table   (typ->appendable,nrows->445,ncols->6,indexers->[major_axis,minor_axis])"
      ]
     },
     "execution_count": 4,
     "metadata": {},
     "output_type": "execute_result"
    }
   ],
   "source": [
    "accuracy_store"
   ]
  },
  {
   "cell_type": "code",
   "execution_count": 5,
   "metadata": {
    "collapsed": true
   },
   "outputs": [],
   "source": [
    "appliance_name_map = {\"fridge\":\"Fridge\",\"hvac\":\"HVAC\",\"wm\":\"Washing\\nmachine\",\n",
    "                      \"dr\":\"Dryer\",\"dw\":\"Dish\\nwasher\",\"light\":\"Lights\"}"
   ]
  },
  {
   "cell_type": "code",
   "execution_count": 6,
   "metadata": {
    "collapsed": false
   },
   "outputs": [],
   "source": [
    "means = {}\n",
    "sems = {}\n",
    "for approach in [\"FHMM\",\"LBM\",\"Regional average\"]:\n",
    "\n",
    "    fr = accuracy_store[approach]\n",
    "    means[approach]={}\n",
    "    sems[approach] = {}\n",
    "\n",
    "    for appliance in ['hvac','fridge','dw','dr','light','wm']:\n",
    "        if appliance==\"hvac\":\n",
    "            start, stop=5, 11\n",
    "        else:\n",
    "            start, stop=1, 13\n",
    "        \n",
    "        temp = fr[appliance]\n",
    "        if approach=='N-NILM':\n",
    "            temp=temp.T\n",
    "        means[approach][appliance_name_map[appliance]] = temp.ix[range(start,stop)].mean().mean()\n",
    "        sems[approach][appliance_name_map[appliance]] = temp.ix[range(start,stop)].mean().sem()"
   ]
  },
  {
   "cell_type": "code",
   "execution_count": 9,
   "metadata": {
    "collapsed": false
   },
   "outputs": [],
   "source": [
    "means.update({'Monthly': {'Dish\\nwasher': 29.169291054455144,\n",
    "  'Dryer': 24.951011987440005,\n",
    "  'Fridge': 61.757673717407251,\n",
    "  'HVAC': 76.143031845961161,\n",
    "  'Lights': 35.627955106556719,\n",
    "  'Washing\\nmachine': 54.554866768606814},\n",
    " 'Monthly+Static': {'Dish\\nwasher': 24.017064829039292,\n",
    "  'Dryer': 28.651722320265737,\n",
    "  'Fridge': 57.947869764926182,\n",
    "  'HVAC': 76.143031845961161,\n",
    "  'Lights': 38.768641121571484,\n",
    "  'Washing\\nmachine': 62.421305603111819},\n",
    " 'Static': {'Dish\\nwasher': 28.747569755420134,\n",
    "  'Dryer': 30.935076869219358,\n",
    "  'Fridge': 73.113062734067483,\n",
    "  'HVAC': 68.740471268207727,\n",
    "  'Lights': 41.767522778285652,\n",
    "  'Washing\\nmachine': 62.331207742483151}})"
   ]
  },
  {
   "cell_type": "code",
   "execution_count": 12,
   "metadata": {
    "collapsed": false
   },
   "outputs": [],
   "source": [
    "sems.update({'Monthly': {'Dish\\nwasher': 5.0486501970422735,\n",
    "  'Dryer': 4.3008469146891262,\n",
    "  'Fridge': 5.2951149109882572,\n",
    "  'HVAC': 2.5380801360738494,\n",
    "  'Lights': 7.7189348186510038,\n",
    "  'Washing\\nmachine': 3.9344491106124657},\n",
    " 'Monthly+Static': {'Dish\\nwasher': 4.2399191465673844,\n",
    "  'Dryer': 11.406071664924617,\n",
    "  'Fridge': 6.0255440629389261,\n",
    "  'HVAC': 2.5380801360738494,\n",
    "  'Lights': 6.9886383020427552,\n",
    "  'Washing\\nmachine': 4.1452900266919013},\n",
    " 'Static': {'Dish\\nwasher': 5.0507321083010632,\n",
    "  'Dryer': 5.4946897655763047,\n",
    "  'Fridge': 4.5028981879442798,\n",
    "  'HVAC': 3.9978955442942898,\n",
    "  'Lights': 7.8426887326991954,\n",
    "  'Washing\\nmachine': 5.8650743105905487}})"
   ]
  },
  {
   "cell_type": "code",
   "execution_count": 13,
   "metadata": {
    "collapsed": true
   },
   "outputs": [],
   "source": [
    "main_df = pd.DataFrame(means)\n",
    "se = pd.DataFrame(sems)"
   ]
  },
  {
   "cell_type": "code",
   "execution_count": 14,
   "metadata": {
    "collapsed": false
   },
   "outputs": [
    {
     "data": {
      "text/html": [
       "<div>\n",
       "<table border=\"1\" class=\"dataframe\">\n",
       "  <thead>\n",
       "    <tr style=\"text-align: right;\">\n",
       "      <th></th>\n",
       "      <th>FHMM</th>\n",
       "      <th>LBM</th>\n",
       "      <th>Monthly</th>\n",
       "      <th>Monthly+Static</th>\n",
       "      <th>Regional average</th>\n",
       "      <th>Static</th>\n",
       "    </tr>\n",
       "  </thead>\n",
       "  <tbody>\n",
       "    <tr>\n",
       "      <th>Dish\\nwasher</th>\n",
       "      <td>0.430750</td>\n",
       "      <td>16.495110</td>\n",
       "      <td>29.169291</td>\n",
       "      <td>24.017065</td>\n",
       "      <td>25.787515</td>\n",
       "      <td>28.747570</td>\n",
       "    </tr>\n",
       "    <tr>\n",
       "      <th>Dryer</th>\n",
       "      <td>10.529382</td>\n",
       "      <td>5.940615</td>\n",
       "      <td>24.951012</td>\n",
       "      <td>28.651722</td>\n",
       "      <td>39.250599</td>\n",
       "      <td>30.935077</td>\n",
       "    </tr>\n",
       "    <tr>\n",
       "      <th>Fridge</th>\n",
       "      <td>38.975759</td>\n",
       "      <td>71.822239</td>\n",
       "      <td>61.757674</td>\n",
       "      <td>57.947870</td>\n",
       "      <td>50.157783</td>\n",
       "      <td>73.113063</td>\n",
       "    </tr>\n",
       "    <tr>\n",
       "      <th>HVAC</th>\n",
       "      <td>61.039103</td>\n",
       "      <td>55.722782</td>\n",
       "      <td>76.143032</td>\n",
       "      <td>76.143032</td>\n",
       "      <td>48.698197</td>\n",
       "      <td>68.740471</td>\n",
       "    </tr>\n",
       "    <tr>\n",
       "      <th>Lights</th>\n",
       "      <td>33.414945</td>\n",
       "      <td>11.290612</td>\n",
       "      <td>35.627955</td>\n",
       "      <td>38.768641</td>\n",
       "      <td>43.866968</td>\n",
       "      <td>41.767523</td>\n",
       "    </tr>\n",
       "    <tr>\n",
       "      <th>Washing\\nmachine</th>\n",
       "      <td>0.130659</td>\n",
       "      <td>29.972193</td>\n",
       "      <td>54.554867</td>\n",
       "      <td>62.421306</td>\n",
       "      <td>27.360420</td>\n",
       "      <td>62.331208</td>\n",
       "    </tr>\n",
       "  </tbody>\n",
       "</table>\n",
       "</div>"
      ],
      "text/plain": [
       "                       FHMM        LBM    Monthly  Monthly+Static  \\\n",
       "Dish\\nwasher       0.430750  16.495110  29.169291       24.017065   \n",
       "Dryer             10.529382   5.940615  24.951012       28.651722   \n",
       "Fridge            38.975759  71.822239  61.757674       57.947870   \n",
       "HVAC              61.039103  55.722782  76.143032       76.143032   \n",
       "Lights            33.414945  11.290612  35.627955       38.768641   \n",
       "Washing\\nmachine   0.130659  29.972193  54.554867       62.421306   \n",
       "\n",
       "                  Regional average     Static  \n",
       "Dish\\nwasher             25.787515  28.747570  \n",
       "Dryer                    39.250599  30.935077  \n",
       "Fridge                   50.157783  73.113063  \n",
       "HVAC                     48.698197  68.740471  \n",
       "Lights                   43.866968  41.767523  \n",
       "Washing\\nmachine         27.360420  62.331208  "
      ]
     },
     "execution_count": 14,
     "metadata": {},
     "output_type": "execute_result"
    }
   ],
   "source": [
    "main_df"
   ]
  },
  {
   "cell_type": "code",
   "execution_count": 15,
   "metadata": {
    "collapsed": false
   },
   "outputs": [],
   "source": [
    "main_df = main_df.ix[['HVAC','Fridge','Washing\\nmachine','Lights','Dryer','Dish\\nwasher']]\n",
    "se_df =se.ix[['HVAC','Fridge','Washing\\nmachine','Lights','Dryer','Dish\\nwasher']]"
   ]
  },
  {
   "cell_type": "code",
   "execution_count": 16,
   "metadata": {
    "collapsed": true
   },
   "outputs": [],
   "source": [
    "from common_functions import latexify, format_axes"
   ]
  },
  {
   "cell_type": "code",
   "execution_count": 19,
   "metadata": {
    "collapsed": false
   },
   "outputs": [],
   "source": [
    "main_df = main_df[[\"FHMM\",\"LBM\",\"Regional average\",\"Static\",\"Monthly\",\"Monthly+Static\"]]"
   ]
  },
  {
   "cell_type": "code",
   "execution_count": 20,
   "metadata": {
    "collapsed": false
   },
   "outputs": [
    {
     "name": "stderr",
     "output_type": "stream",
     "text": [
      "/Users/nipunbatra/anaconda/lib/python2.7/site-packages/pandas/tools/plotting.py:856: UserWarning: 'colors' is being deprecated. Please use 'color'instead of 'colors'\n",
      "  warnings.warn((\"'colors' is being deprecated. Please use 'color'\"\n"
     ]
    },
    {
     "data": {
      "image/png": "[encoded data removed]",
      "text/plain": [
       "<matplotlib.figure.Figure at 0x112fa4450>"
      ]
     },
     "metadata": {},
     "output_type": "display_data"
    }
   ],
   "source": [
    "latexify(columns=2, fig_height=2.6)\n",
    "\n",
    "tableau20blind =  [(31, 119, 180), (174, 199, 232), (255, 127, 14), (255, 187, 120),  \n",
    "             (44, 160, 44), (152, 223, 138), (214, 39, 40), (255, 152, 150),  \n",
    "             (148, 103, 189), (197, 176, 213), (140, 86, 75), (196, 156, 148),  \n",
    "             (227, 119, 194), (247, 182, 210), (127, 127, 127), (199, 199, 199),  \n",
    "             (188, 189, 34), (219, 219, 141), (23, 190, 207), (158, 218, 229)]\n",
    "  \n",
    "# Rescale to values between 0 and 1\n",
    "for i in range(len(tableau20blind)):  \n",
    "    r, g, b = tableau20blind[i]  \n",
    "    tableau20blind[i] = (r / 255., g / 255., b / 255.)\n",
    "\n",
    "main_df.plot(kind=\"bar\",yerr=se_df,rot=0, colors=tableau20blind[::2])\n",
    "plt.ylim((0,100))\n",
    "plt.ylabel(\"Energy Accuracy(\\%)\\n(Higher is better)\");\n",
    "format_axes(plt.gca())\n",
    "\"\"\"\n",
    "ax = plt.gca()\n",
    "for p in ax.patches:\n",
    "    if p.get_height()<20:\n",
    "        color=\"black\"\n",
    "        offset=5\n",
    "    else:\n",
    "        color=\"black\"\n",
    "        offset=-15\n",
    "    ax.annotate(str(int(round(p.get_height(),0))), (p.get_x(), p.get_height() +offset), color=color, fontsize=6)\n",
    "\"\"\"\n",
    "\n",
    "plt.tight_layout()\n",
    "plt.savefig(\"/Users/nipunbatra/git/monthly-disaggregation/results/main_new.pdf\",bbox_inches=\"tight\")\n",
    "plt.savefig(\"/Users/nipunbatra/git/monthly-disaggregation/results/main_new.png\",bbox_inches=\"tight\")"
   ]
  },
  {
   "cell_type": "code",
   "execution_count": 22,
   "metadata": {
    "collapsed": false
   },
   "outputs": [
    {
     "data": {
      "text/html": [
       "<div>\n",
       "<table border=\"1\" class=\"dataframe\">\n",
       "  <thead>\n",
       "    <tr style=\"text-align: right;\">\n",
       "      <th></th>\n",
       "      <th>FHMM</th>\n",
       "      <th>LBM</th>\n",
       "      <th>Regional average</th>\n",
       "      <th>N-NILM</th>\n",
       "    </tr>\n",
       "  </thead>\n",
       "  <tbody>\n",
       "    <tr>\n",
       "      <th>HVAC</th>\n",
       "      <td>61.039103</td>\n",
       "      <td>55.722782</td>\n",
       "      <td>48.698197</td>\n",
       "      <td>NaN</td>\n",
       "    </tr>\n",
       "    <tr>\n",
       "      <th>Fridge</th>\n",
       "      <td>38.975759</td>\n",
       "      <td>71.822239</td>\n",
       "      <td>50.157783</td>\n",
       "      <td>NaN</td>\n",
       "    </tr>\n",
       "    <tr>\n",
       "      <th>Washing\\nmachine</th>\n",
       "      <td>0.130659</td>\n",
       "      <td>29.972193</td>\n",
       "      <td>27.360420</td>\n",
       "      <td>NaN</td>\n",
       "    </tr>\n",
       "    <tr>\n",
       "      <th>Lights</th>\n",
       "      <td>33.414945</td>\n",
       "      <td>11.290612</td>\n",
       "      <td>43.866968</td>\n",
       "      <td>NaN</td>\n",
       "    </tr>\n",
       "    <tr>\n",
       "      <th>Dryer</th>\n",
       "      <td>10.529382</td>\n",
       "      <td>5.940615</td>\n",
       "      <td>39.250599</td>\n",
       "      <td>NaN</td>\n",
       "    </tr>\n",
       "    <tr>\n",
       "      <th>Dish\\nwasher</th>\n",
       "      <td>0.430750</td>\n",
       "      <td>16.495110</td>\n",
       "      <td>25.787515</td>\n",
       "      <td>NaN</td>\n",
       "    </tr>\n",
       "  </tbody>\n",
       "</table>\n",
       "</div>"
      ],
      "text/plain": [
       "                       FHMM        LBM  Regional average  N-NILM\n",
       "HVAC              61.039103  55.722782         48.698197     NaN\n",
       "Fridge            38.975759  71.822239         50.157783     NaN\n",
       "Washing\\nmachine   0.130659  29.972193         27.360420     NaN\n",
       "Lights            33.414945  11.290612         43.866968     NaN\n",
       "Dryer             10.529382   5.940615         39.250599     NaN\n",
       "Dish\\nwasher       0.430750  16.495110         25.787515     NaN"
      ]
     },
     "execution_count": 22,
     "metadata": {},
     "output_type": "execute_result"
    }
   ],
   "source": [
    "main_df[[\"FHMM\",\"LBM\",\"Regional average\",\"N-NILM\"]]"
   ]
  },
  {
   "cell_type": "code",
   "execution_count": 13,
   "metadata": {
    "collapsed": false
   },
   "outputs": [
    {
     "data": {
      "text/html": [
       "<div>\n",
       "<table border=\"1\" class=\"dataframe\">\n",
       "  <thead>\n",
       "    <tr style=\"text-align: right;\">\n",
       "      <th></th>\n",
       "      <th>FHMM</th>\n",
       "      <th>LBM</th>\n",
       "      <th>Regional average</th>\n",
       "      <th>N-NILM</th>\n",
       "    </tr>\n",
       "  </thead>\n",
       "  <tbody>\n",
       "    <tr>\n",
       "      <th>HVAC</th>\n",
       "      <td>61.039103</td>\n",
       "      <td>55.722782</td>\n",
       "      <td>48.698197</td>\n",
       "      <td>79.247215</td>\n",
       "    </tr>\n",
       "    <tr>\n",
       "      <th>Fridge</th>\n",
       "      <td>38.975759</td>\n",
       "      <td>71.822239</td>\n",
       "      <td>50.157783</td>\n",
       "      <td>81.121122</td>\n",
       "    </tr>\n",
       "    <tr>\n",
       "      <th>Washing\\nmachine</th>\n",
       "      <td>0.130659</td>\n",
       "      <td>29.972193</td>\n",
       "      <td>27.360420</td>\n",
       "      <td>65.535383</td>\n",
       "    </tr>\n",
       "    <tr>\n",
       "      <th>Lights</th>\n",
       "      <td>33.414945</td>\n",
       "      <td>11.290612</td>\n",
       "      <td>43.866968</td>\n",
       "      <td>49.873465</td>\n",
       "    </tr>\n",
       "    <tr>\n",
       "      <th>Dryer</th>\n",
       "      <td>10.529382</td>\n",
       "      <td>5.940615</td>\n",
       "      <td>39.250599</td>\n",
       "      <td>41.278503</td>\n",
       "    </tr>\n",
       "    <tr>\n",
       "      <th>Dish\\nwasher</th>\n",
       "      <td>0.430750</td>\n",
       "      <td>16.495110</td>\n",
       "      <td>25.787515</td>\n",
       "      <td>44.113923</td>\n",
       "    </tr>\n",
       "  </tbody>\n",
       "</table>\n",
       "</div>"
      ],
      "text/plain": [
       "                       FHMM        LBM  Regional average     N-NILM\n",
       "HVAC              61.039103  55.722782         48.698197  79.247215\n",
       "Fridge            38.975759  71.822239         50.157783  81.121122\n",
       "Washing\\nmachine   0.130659  29.972193         27.360420  65.535383\n",
       "Lights            33.414945  11.290612         43.866968  49.873465\n",
       "Dryer             10.529382   5.940615         39.250599  41.278503\n",
       "Dish\\nwasher       0.430750  16.495110         25.787515  44.113923"
      ]
     },
     "execution_count": 13,
     "metadata": {},
     "output_type": "execute_result"
    }
   ],
   "source": [
    "main_df[[\"FHMM\",\"LBM\",\"Regional average\",\"N-NILM\"]]"
   ]
  },
  {
   "cell_type": "code",
   "execution_count": 33,
   "metadata": {
    "collapsed": false
   },
   "outputs": [
    {
     "data": {
      "text/plain": [
       "{'Dish\\nwasher': 42.587760336179386,\n",
       " 'Dryer': 39.344495390193956,\n",
       " 'Fridge': 77.740659617682567,\n",
       " 'HVAC': 79.208158885529826,\n",
       " 'Lights': 47.066093958195509,\n",
       " 'Washing\\nmachine': 64.363109767113215}"
      ]
     },
     "execution_count": 33,
     "metadata": {},
     "output_type": "execute_result"
    }
   ],
   "source": [
    "main_df['N-NILM'].to_dict()"
   ]
  },
  {
   "cell_type": "code",
   "execution_count": null,
   "metadata": {
    "collapsed": true
   },
   "outputs": [],
   "source": []
  }
 ],
 "metadata": {
  "kernelspec": {
   "display_name": "Python 2",
   "language": "python",
   "name": "python2"
  },
  "language_info": {
   "codemirror_mode": {
    "name": "ipython",
    "version": 2
   },
   "file_extension": ".py",
   "mimetype": "text/x-python",
   "name": "python",
   "nbconvert_exporter": "python",
   "pygments_lexer": "ipython2",
   "version": "2.7.11"
  }
 },
 "nbformat": 4,
 "nbformat_minor": 0
}
