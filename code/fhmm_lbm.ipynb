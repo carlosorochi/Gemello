{
 "cells": [
  {
   "cell_type": "code",
   "execution_count": 1,
   "metadata": {
    "collapsed": false
   },
   "outputs": [
    {
     "name": "stderr",
     "output_type": "stream",
     "text": [
      "Vendor:  Continuum Analytics, Inc.\n",
      "Package: mkl\n",
      "Message: trial mode expires in 20 days\n"
     ]
    }
   ],
   "source": [
    "from hmmlearn import hmm"
   ]
  },
  {
   "cell_type": "code",
   "execution_count": 2,
   "metadata": {
    "collapsed": true
   },
   "outputs": [],
   "source": [
    "from create_df import read_df\n",
    "df, dfc, all_homes, appliance_min, national_average = read_df()"
   ]
  },
  {
   "cell_type": "code",
   "execution_count": 3,
   "metadata": {
    "collapsed": false
   },
   "outputs": [],
   "source": [
    "import nilmtk\n",
    "import pandas as pd\n",
    "import numpy as np\n",
    "import matplotlib.pyplot as plt\n",
    "from collections import OrderedDict\n",
    "import warnings"
   ]
  },
  {
   "cell_type": "code",
   "execution_count": 4,
   "metadata": {
    "collapsed": true
   },
   "outputs": [],
   "source": [
    "warnings.filterwarnings(\"ignore\")"
   ]
  },
  {
   "cell_type": "code",
   "execution_count": 5,
   "metadata": {
    "collapsed": true
   },
   "outputs": [],
   "source": [
    "from nilmtk import *\n",
    "import os\n",
    "import nilmtk"
   ]
  },
  {
   "cell_type": "code",
   "execution_count": 6,
   "metadata": {
    "collapsed": false
   },
   "outputs": [],
   "source": [
    "ds = DataSet(\"/Users/nipunbatra/wikienergy-2013_ipsn.h5\")"
   ]
  },
  {
   "cell_type": "code",
   "execution_count": 7,
   "metadata": {
    "collapsed": true
   },
   "outputs": [],
   "source": [
    "st = pd.HDFStore(\"/Users/nipunbatra/Downloads/wiki-temp.h5\")"
   ]
  },
  {
   "cell_type": "code",
   "execution_count": 8,
   "metadata": {
    "collapsed": true
   },
   "outputs": [],
   "source": [
    "b = ds.buildings[2]"
   ]
  },
  {
   "cell_type": "code",
   "execution_count": 9,
   "metadata": {
    "collapsed": false
   },
   "outputs": [
    {
     "data": {
      "text/plain": [
       "{'dataset': 'Dataport', 'instance': 2, 'original_name': 370}"
      ]
     },
     "execution_count": 9,
     "metadata": {},
     "output_type": "execute_result"
    }
   ],
   "source": [
    "b.metadata"
   ]
  },
  {
   "cell_type": "code",
   "execution_count": 10,
   "metadata": {
    "collapsed": false
   },
   "outputs": [],
   "source": [
    "e = ds.buildings[2].elec"
   ]
  },
  {
   "cell_type": "code",
   "execution_count": 82,
   "metadata": {
    "collapsed": false
   },
   "outputs": [
    {
     "name": "stdout",
     "output_type": "stream",
     "text": [
      "dish washer training\n",
      "Loading data for meter ElecMeterID(instance=1, building=1, dataset='Dataport')     \n",
      "Done loading data all meters for this chunk.\n",
      "Loading data for meter ElecMeterID(instance=3, building=2, dataset='Dataport')     \n",
      "Done loading data all meters for this chunk.\n",
      "Loading data for meter ElecMeterID(instance=1, building=3, dataset='Dataport')     \n",
      "Done loading data all meters for this chunk.\n",
      "Loading data for meter ElecMeterID(instance=3, building=4, dataset='Dataport')     \n",
      "Done loading data all meters for this chunk.\n",
      "Loading data for meter ElecMeterID(instance=1, building=5, dataset='Dataport')     \n",
      "Done loading data all meters for this chunk.\n",
      "Loading data for meter ElecMeterID(instance=2, building=6, dataset='Dataport')     \n",
      "Done loading data all meters for this chunk.\n",
      "Loading data for meter ElecMeterID(instance=1, building=7, dataset='Dataport')     \n",
      "Done loading data all meters for this chunk.\n",
      "Loading data for meter ElecMeterID(instance=1, building=8, dataset='Dataport')     \n",
      "Done loading data all meters for this chunk.\n",
      "Loading data for meter ElecMeterID(instance=1, building=9, dataset='Dataport')     \n",
      "Done loading data all meters for this chunk.\n",
      "Loading data for meter ElecMeterID(instance=1, building=10, dataset='Dataport')     \n",
      "Done loading data all meters for this chunk.\n",
      "Loading data for meter ElecMeterID(instance=1, building=11, dataset='Dataport')     \n",
      "Done loading data all meters for this chunk.\n",
      "Loading data for meter ElecMeterID(instance=2, building=12, dataset='Dataport')     \n",
      "Done loading data all meters for this chunk.\n",
      "Loading data for meter ElecMeterID(instance=2, building=13, dataset='Dataport')     \n",
      "Done loading data all meters for this chunk.\n",
      "Loading data for meter ElecMeterID(instance=1, building=14, dataset='Dataport')     \n",
      "Done loading data all meters for this chunk.\n",
      "Loading data for meter ElecMeterID(instance=1, building=15, dataset='Dataport')     \n",
      "Done loading data all meters for this chunk.\n",
      "Loading data for meter ElecMeterID(instance=3, building=16, dataset='Dataport')     \n",
      "Done loading data all meters for this chunk.\n",
      "Loading data for meter ElecMeterID(instance=1, building=17, dataset='Dataport')     \n",
      "Done loading data all meters for this chunk.\n",
      "Loading data for meter ElecMeterID(instance=1, building=18, dataset='Dataport')     \n",
      "Done loading data all meters for this chunk.\n",
      "Loading data for meter ElecMeterID(instance=1, building=19, dataset='Dataport')     \n",
      "Done loading data all meters for this chunk.\n",
      "Loading data for meter ElecMeterID(instance=3, building=21, dataset='Dataport')     \n",
      "Done loading data all meters for this chunk.\n",
      "Loading data for meter ElecMeterID(instance=2, building=22, dataset='Dataport')     \n",
      "Done loading data all meters for this chunk.\n",
      "Loading data for meter ElecMeterID(instance=1, building=23, dataset='Dataport')     \n",
      "Done loading data all meters for this chunk.\n",
      "Loading data for meter ElecMeterID(instance=3, building=24, dataset='Dataport')     \n",
      "Done loading data all meters for this chunk.\n",
      "Loading data for meter ElecMeterID(instance=3, building=25, dataset='Dataport')     \n",
      "Done loading data all meters for this chunk.\n",
      "Means for dish washer are\n",
      "[[  10.45827857]\n",
      " [ 566.15028847]]\n"
     ]
    }
   ],
   "source": [
    "#models = {}\n",
    "\n",
    "#for appliance in [\"air conditioner\", \"fridge\", \"spin dryer\", \n",
    "#                  \"dish washer\", \"washing machine\", \"light\"]:\n",
    "for appliance in [ \"dish washer\"]:\n",
    "    print appliance, \"training\"\n",
    "    o = []\n",
    "    for building_num in range(1, len(ds.buildings)):\n",
    "        \n",
    "        building = ds.buildings[building_num]\n",
    "        elec = building.elec\n",
    "        try:\n",
    "            dft = elec.select_using_appliances(type=appliance).load(cols=[('power','active')], sample_period=900).next().squeeze()\n",
    "            appl_power = dft.dropna().values.reshape(-1,1)\n",
    "            activation = (dft>10).sum()*1.0/len(df)\n",
    "            if appliance in [\"washer dryer\", \"dishwasher\"]:\n",
    "                o.append(appl_power)\n",
    "                \n",
    "            else:\n",
    "                if activation>0.05:\n",
    "                    o.append(appl_power)\n",
    "        except:\n",
    "            pass\n",
    "    \n",
    "    if len(o)>1:\n",
    "        o = np.array(o)\n",
    "        mod = hmm.GaussianHMM(2, \"full\")\n",
    "        mod.fit(o)\n",
    "        models[appliance] = mod\n",
    "        print \"Means for %s are\" %appliance\n",
    "        print mod.means_\n",
    "    else:\n",
    "        print \"Not enough samples for %s\" %appliance"
   ]
  },
  {
   "cell_type": "code",
   "execution_count": 83,
   "metadata": {
    "collapsed": false
   },
   "outputs": [],
   "source": [
    "from nilmtk.disaggregate.fhmm_exact import sort_learnt_parameters"
   ]
  },
  {
   "cell_type": "code",
   "execution_count": 84,
   "metadata": {
    "collapsed": false
   },
   "outputs": [],
   "source": [
    "new_learnt_models = OrderedDict()\n",
    "for appliance, appliance_model in models.iteritems():\n",
    "    startprob, means, covars, transmat = sort_learnt_parameters(\n",
    "                    appliance_model.startprob_, appliance_model.means_,\n",
    "                    appliance_model.covars_, appliance_model.transmat_)\n",
    "    new_learnt_models[appliance] = hmm.GaussianHMM(\n",
    "                startprob.size, \"full\", startprob, transmat)\n",
    "    new_learnt_models[appliance].means_ = means\n",
    "    new_learnt_models[appliance].covars_ = covars"
   ]
  },
  {
   "cell_type": "code",
   "execution_count": 85,
   "metadata": {
    "collapsed": true
   },
   "outputs": [],
   "source": [
    "from nilmtk.disaggregate.fhmm_exact import create_combined_hmm"
   ]
  },
  {
   "cell_type": "code",
   "execution_count": 86,
   "metadata": {
    "collapsed": false
   },
   "outputs": [],
   "source": [
    "learnt_model_combined = create_combined_hmm(new_learnt_models)"
   ]
  },
  {
   "cell_type": "code",
   "execution_count": 87,
   "metadata": {
    "collapsed": false
   },
   "outputs": [],
   "source": [
    "from nilmtk.disaggregate.fhmm_exact import FHMM"
   ]
  },
  {
   "cell_type": "code",
   "execution_count": 88,
   "metadata": {
    "collapsed": false
   },
   "outputs": [],
   "source": [
    "f = FHMM()"
   ]
  },
  {
   "cell_type": "code",
   "execution_count": 89,
   "metadata": {
    "collapsed": false
   },
   "outputs": [],
   "source": [
    "f.model = learnt_model_combined\n",
    "f.individual = new_learnt_models"
   ]
  },
  {
   "cell_type": "code",
   "execution_count": 90,
   "metadata": {
    "collapsed": true
   },
   "outputs": [],
   "source": [
    "import pickle"
   ]
  },
  {
   "cell_type": "code",
   "execution_count": 91,
   "metadata": {
    "collapsed": true
   },
   "outputs": [],
   "source": [
    "pickle.dump(f, open( \"../fhmm_model_all.p\", \"wb\" ))"
   ]
  },
  {
   "cell_type": "code",
   "execution_count": 8,
   "metadata": {
    "collapsed": true
   },
   "outputs": [],
   "source": [
    "all_homes_all_appliance = []\n",
    "for appliance in [\"fridge\",\"hvac\",\"dr\",\"dw\",\"wm\",\"light\"]:\n",
    "    all_homes_all_appliance = np.union1d(all_homes_all_appliance, all_homes[appliance])"
   ]
  },
  {
   "cell_type": "code",
   "execution_count": 14,
   "metadata": {
    "collapsed": false
   },
   "outputs": [
    {
     "data": {
      "text/plain": [
       "43"
      ]
     },
     "execution_count": 14,
     "metadata": {},
     "output_type": "execute_result"
    }
   ],
   "source": [
    "len(all_homes_all_appliance)"
   ]
  },
  {
   "cell_type": "code",
   "execution_count": 136,
   "metadata": {
    "collapsed": false
   },
   "outputs": [
    {
     "name": "stdout",
     "output_type": "stream",
     "text": [
      "26.0\n",
      "94.0\n",
      "370.0\n",
      "410.0\n",
      "545.0\n",
      "624.0\n",
      "1283.0\n",
      "1334.0\n",
      "1642.0\n",
      "1953.0\n",
      "2129.0\n",
      "2156.0\n",
      "2242.0\n",
      "2470.0\n",
      "2814.0\n",
      "3367.0\n",
      "3456.0\n",
      "3482.0\n",
      "3723.0\n",
      "3967.0\n",
      "4732.0\n",
      "4767.0\n",
      "5357.0\n",
      "5371.0\n",
      "5746.0\n",
      "5785.0\n",
      "5814.0\n",
      "6072.0\n",
      "6636.0\n",
      "6836.0\n",
      "6910.0\n",
      "7016.0\n",
      "7731.0\n",
      "7769.0\n",
      "7866.0\n",
      "8317.0\n",
      "9052.0\n",
      "9609.0\n",
      "9654.0\n",
      "9922.0\n",
      "9933.0\n",
      "9934.0\n",
      "9982.0\n"
     ]
    }
   ],
   "source": [
    "st_out = pd.HDFStore(\"../fhmm_out.h5\")\n",
    "for home in all_homes_all_appliance[:]:\n",
    "    print home\n",
    "    try:\n",
    "        mains_df = st['/%d' %home][['use']]['2013'].resample(\"15T\")\n",
    "        pred = f.disaggregate_chunk(mains_df).resample(\"1M\", how=\"sum\").mul(0.000017).mul(15)\n",
    "        pred.index = range(1, 13)\n",
    "        pred = pred.rename(columns={'air conditioner':'hvac','dish washer':'dw',\n",
    "                                    'spin dryer':'dr','washing machine':'wm'})\n",
    "        st_out['%d' %home] = pred\n",
    "    except:\n",
    "        pass\n",
    "    \n"
   ]
  },
  {
   "cell_type": "code",
   "execution_count": 171,
   "metadata": {
    "collapsed": false
   },
   "outputs": [
    {
     "name": "stdout",
     "output_type": "stream",
     "text": [
      "hvac\n",
      "fridge\n",
      "dw\n",
      "wm\n",
      "light\n",
      "dr\n"
     ]
    }
   ],
   "source": [
    "fhmm_accur = {}\n",
    "for appliance in [\"hvac\",\"fridge\",\"dw\",\"wm\",\"light\",\"dr\"]:\n",
    "    print appliance\n",
    "    \n",
    "    if appliance ==\"hvac\":\n",
    "        start, end = 5, 11\n",
    "    else:\n",
    "        start, end = 1, 13\n",
    "    out_ap = {}\n",
    "    accuracies = {}\n",
    "    for home in all_homes[appliance][:]:\n",
    "        out_ap[home] = {}\n",
    "        pred = st_out['/%d' %home][appliance]\n",
    "        for month in range(start, end):\n",
    "            out_ap[home][month] = {}\n",
    "            gt = df.ix[home]['%s_%d' %(appliance, month)]\n",
    "            out_ap[home][month]['gt'] = gt\n",
    "            out_ap[home][month]['pred'] = pred.ix[month]\n",
    "        a = pd.DataFrame(out_ap[home]).T\n",
    "        e = (a['gt']-a['pred']).abs().div(a['gt'])*100\n",
    "        accur = 100-e\n",
    "        accur[accur<0] = 0\n",
    "        accuracies[home] = accur\n",
    "    fhmm_accur[appliance] = pd.DataFrame(accuracies).T.mean().mean()"
   ]
  },
  {
   "cell_type": "code",
   "execution_count": 173,
   "metadata": {
    "collapsed": false
   },
   "outputs": [
    {
     "data": {
      "text/plain": [
       "dr        25.153495\n",
       "dw         0.910221\n",
       "fridge    36.026096\n",
       "hvac      63.142434\n",
       "light     42.775984\n",
       "wm         1.988979\n",
       "dtype: float64"
      ]
     },
     "execution_count": 173,
     "metadata": {},
     "output_type": "execute_result"
    }
   ],
   "source": [
    "pd.Series(fhmm_accur)\n",
    "        "
   ]
  },
  {
   "cell_type": "code",
   "execution_count": 170,
   "metadata": {
    "collapsed": false
   },
   "outputs": [
    {
     "data": {
      "text/plain": [
       "dr        11.410384\n",
       "dw         0.000000\n",
       "fridge    28.341138\n",
       "hvac      64.629633\n",
       "light     44.348418\n",
       "wm         0.000000\n",
       "dtype: float64"
      ]
     },
     "execution_count": 170,
     "metadata": {},
     "output_type": "execute_result"
    }
   ],
   "source": [
    "pd.Series(fhmm_accur)\n"
   ]
  },
  {
   "cell_type": "code",
   "execution_count": 18,
   "metadata": {
    "collapsed": false
   },
   "outputs": [
    {
     "name": "stdout",
     "output_type": "stream",
     "text": [
      "26.0\n",
      "94.0\n",
      "370.0\n",
      "410.0\n",
      "545.0\n",
      "624.0\n",
      "1283.0\n",
      "1334.0\n",
      "1642.0\n",
      "1953.0\n",
      "2129.0\n",
      "2156.0\n",
      "2242.0\n",
      "2470.0\n",
      "2814.0\n",
      "3367.0\n",
      "3456.0\n",
      "3482.0\n",
      "3723.0\n",
      "3967.0\n",
      "4732.0\n",
      "4767.0\n",
      "5357.0\n",
      "5371.0\n",
      "5746.0\n",
      "5785.0\n",
      "5814.0\n",
      "6072.0\n",
      "6636.0\n",
      "6836.0\n",
      "6910.0\n",
      "7016.0\n",
      "7731.0\n",
      "7769.0\n",
      "7866.0\n",
      "8317.0\n",
      "9052.0\n",
      "9609.0\n",
      "9654.0\n",
      "9922.0\n",
      "9933.0\n",
      "9934.0\n",
      "9982.0\n"
     ]
    }
   ],
   "source": [
    "st_out = pd.HDFStore(\"../fhmm_lbm.h5\")\n",
    "\n",
    "for home in all_homes_all_appliance[:]:\n",
    "    print home\n",
    "    try:\n",
    "        pred = pd.read_csv(\"/Users/nipunbatra/Dropbox/Public/notebooks/misc/%d.csv\" %home, index_col=0)\n",
    "        pred.index = pd.to_datetime(pred.index)\n",
    "        pred = pred['2013']\n",
    "        pred = pred.resample(\"1M\", how=\"sum\").mul(0.000017).mul(15)\n",
    "        pred.index = range(1, 13)\n",
    "        pred = pred[['hvac','dw','dr','fridge','wm','light']]\n",
    "        \n",
    "        st_out['%d' %home] = pred\n",
    "    except Exception, e:\n",
    "        print e\n",
    "    \n",
    "    "
   ]
  },
  {
   "cell_type": "code",
   "execution_count": 23,
   "metadata": {
    "collapsed": false
   },
   "outputs": [
    {
     "name": "stdout",
     "output_type": "stream",
     "text": [
      "hvac\n",
      "fridge\n",
      "dw\n",
      "wm\n",
      "light\n",
      "dr\n"
     ]
    }
   ],
   "source": [
    "lbm_accur = {}\n",
    "for appliance in [\"hvac\",\"fridge\",\"dw\",\"wm\",\"light\",\"dr\"]:\n",
    "    print appliance\n",
    "    \n",
    "    if appliance ==\"hvac\":\n",
    "        start, end = 5, 11\n",
    "    else:\n",
    "        start, end = 1, 13\n",
    "    out_ap = {}\n",
    "    accuracies = {}\n",
    "    for home in all_homes[appliance][:]:\n",
    "        out_ap[home] = {}\n",
    "        pred = st_out['/%d' %home][appliance]\n",
    "        for month in range(start, end):\n",
    "            out_ap[home][month] = {}\n",
    "            gt = df.ix[home]['%s_%d' %(appliance, month)]\n",
    "            out_ap[home][month]['gt'] = gt\n",
    "            out_ap[home][month]['pred'] = pred.ix[month]\n",
    "        a = pd.DataFrame(out_ap[home]).T\n",
    "        e = (a['gt']-a['pred']).abs().div(a['gt'])*100\n",
    "        accur = 100-e\n",
    "        accur[accur<0] = 0\n",
    "        accuracies[home] = accur\n",
    "    lbm_accur[appliance] = pd.DataFrame(accuracies)"
   ]
  },
  {
   "cell_type": "code",
   "execution_count": 31,
   "metadata": {
    "collapsed": true
   },
   "outputs": [],
   "source": [
    "%matplotlib inline"
   ]
  },
  {
   "cell_type": "code",
   "execution_count": 34,
   "metadata": {
    "collapsed": false
   },
   "outputs": [
    {
     "data": {
      "text/plain": [
       "<matplotlib.axes._subplots.AxesSubplot at 0x1247aab90>"
      ]
     },
     "execution_count": 34,
     "metadata": {},
     "output_type": "execute_result"
    },
    {
     "data": {
      "image/png": "[encoded data removed]",
      "text/plain": [
       "<matplotlib.figure.Figure at 0x131564d50>"
      ]
     },
     "metadata": {},
     "output_type": "display_data"
    }
   ],
   "source": [
    "lbm_accur['wm'].mean().plot(kind=\"box\")"
   ]
  },
  {
   "cell_type": "code",
   "execution_count": 67,
   "metadata": {
    "collapsed": true
   },
   "outputs": [],
   "source": [
    "lbm = LatentBayesianMelding()"
   ]
  },
  {
   "cell_type": "code",
   "execution_count": 68,
   "metadata": {
    "collapsed": false
   },
   "outputs": [
    {
     "name": "stdout",
     "output_type": "stream",
     "text": [
      "The trained meter: hvac\n",
      "The trained meter: fridge\n",
      "The trained meter: dr\n",
      "The trained meter: dw\n",
      "The trained meter: wm\n",
      "The trained meter: light\n"
     ]
    }
   ],
   "source": [
    "meterlist = ['hvac','fridge','dr','dw','wm','light']\n",
    "individual_model = lbm.import_model(meterlist,'/Users/nipunbatra/Desktop/lbn.json')\n"
   ]
  },
  {
   "cell_type": "code",
   "execution_count": 71,
   "metadata": {
    "collapsed": false
   },
   "outputs": [
    {
     "name": "stdout",
     "output_type": "stream",
     "text": [
      "3723\n",
      "----------------------------------------------------------------------------------------------------\n",
      "*************Iteration: 1*****************\n",
      "Employing the Mosek solver to solve the problem:\n",
      "\n",
      "Declaring variables and constraints...\n",
      "\n",
      "\n",
      " Solving the problem ...\n",
      "\n",
      "+++++++++++++++optimization status+++++++++++++++++++\n",
      "Number of variables:2802592\n",
      "Number of constraints:1786656\n",
      "Primal solution status:SolutionStatus.Optimal\n",
      "Primal value:6537610.57551\n",
      "Dual solution status:SolutionStatus.Optimal\n",
      "Dual value:6537610.6094\n",
      "Accepted solution status:AccSolutionStatus.Anything\n",
      "+++++++++++++++optimization status+++++++++++++++++++\n",
      "Solving this problem took '569.297924042' seconds\n",
      "\n",
      " log(datalikelihood*prior)=-265855.344863\n",
      "\n",
      "*************Iteration: 2*****************\n",
      "Employing the Mosek solver to solve the problem:\n",
      "\n",
      "Declaring variables and constraints...\n",
      "\n",
      "\n",
      " Solving the problem ...\n",
      "\n",
      "+++++++++++++++optimization status+++++++++++++++++++\n",
      "Number of variables:2802592\n",
      "Number of constraints:1786656\n",
      "Primal solution status:SolutionStatus.NearOptimal\n",
      "Primal value:73910.8878871\n",
      "Dual solution status:SolutionStatus.NearOptimal\n",
      "Dual value:73910.8181939\n",
      "Accepted solution status:AccSolutionStatus.Anything\n",
      "+++++++++++++++optimization status+++++++++++++++++++\n",
      "Solving this problem took '567.155404091' seconds\n",
      "\n",
      " log(datalikelihood*prior)=-155346.459902\n",
      "\n"
     ]
    }
   ],
   "source": [
    "st_out = pd.HDFStore(\"../lbn_out.h5\")\n",
    "#for home in all_homes_all_appliance[:1]:\n",
    "for home in [3723]:\n",
    "    print home\n",
    "    try:\n",
    "        mains_df = st['/%d' %home]['use']['2013'].resample(\"15T\").astype('float64').dropna()\n",
    "        pred = lbm.disaggregate_chunk(mains_df)['inferred appliance energy']\n",
    "        pred = pred.resample(\"1M\", how=\"sum\").mul(0.000017).mul(15)\n",
    "        pred.index = range(1, 13)\n",
    "        \n",
    "        st_out['%d' %home] = pred\n",
    "    except Exception, e:\n",
    "        print e"
   ]
  },
  {
   "cell_type": "code",
   "execution_count": 31,
   "metadata": {
    "collapsed": false
   },
   "outputs": [
    {
     "name": "stdout",
     "output_type": "stream",
     "text": [
      "26.0\n",
      "----------------------------------------------------------------------------------------------------\n",
      "*************Iteration: 1*****************\n",
      "Employing the Mosek solver to solve the problem:\n",
      "\n",
      "Declaring variables and constraints...\n",
      "\n",
      "\n",
      " Solving the problem ...\n",
      "\n",
      "+++++++++++++++optimization status+++++++++++++++++++\n",
      "Number of variables:2798757\n",
      "Number of constraints:1784208\n",
      "Primal solution status:SolutionStatus.Optimal\n",
      "Primal value:1.3630996243e+11\n",
      "Dual solution status:SolutionStatus.Optimal\n",
      "Dual value:1.36309962432e+11\n",
      "Accepted solution status:AccSolutionStatus.Anything\n",
      "+++++++++++++++optimization status+++++++++++++++++++\n",
      "Solving this problem took '574.833842993' seconds\n",
      "\n",
      " log(datalikelihood*prior)=-64359053.573\n",
      "\n",
      "*************Iteration: 2*****************\n",
      "Employing the Mosek solver to solve the problem:\n",
      "\n",
      "Declaring variables and constraints...\n",
      "\n",
      "\n",
      " Solving the problem ...\n",
      "\n",
      "+++++++++++++++optimization status+++++++++++++++++++\n",
      "Number of variables:2798757\n",
      "Number of constraints:1784208\n",
      "Primal solution status:SolutionStatus.Optimal\n",
      "Primal value:62893.9880997\n",
      "Dual solution status:SolutionStatus.Optimal\n",
      "Dual value:62870.1051422\n",
      "Accepted solution status:AccSolutionStatus.Anything\n",
      "+++++++++++++++optimization status+++++++++++++++++++\n",
      "Solving this problem took '560.681334972' seconds\n",
      "\n",
      " log(datalikelihood*prior)=-4928340.37829\n",
      "\n"
     ]
    }
   ],
   "source": [
    "st_out = pd.HDFStore(\"../lbn_out.h5\")\n",
    "for home in all_homes_all_appliance[:1]:\n",
    "    print home\n",
    "    try:\n",
    "        mains_df = st['/%d' %home]['use']['2013'].resample(\"15T\").astype('float64').dropna()\n",
    "        pred = lbm.disaggregate_chunk(mains_df)['inferred appliance energy']\n",
    "        #pred = pred.resample(\"1M\", how=\"sum\").mul(0.000017).mul(15)\n",
    "        #pred.index = range(1, 13)\n",
    "        \n",
    "        st_out['%d' %home] = pred\n",
    "    except Exception, e:\n",
    "        print e"
   ]
  },
  {
   "cell_type": "code",
   "execution_count": 27,
   "metadata": {
    "collapsed": false
   },
   "outputs": [],
   "source": [
    "mains_df = st['/%d' %home]['use']['2013'].resample(\"15T\").astype('float64').dropna()"
   ]
  },
  {
   "cell_type": "code",
   "execution_count": 30,
   "metadata": {
    "collapsed": false
   },
   "outputs": [
    {
     "data": {
      "text/plain": [
       "56"
      ]
     },
     "execution_count": 30,
     "metadata": {},
     "output_type": "execute_result"
    }
   ],
   "source": [
    "mains_df.isnull().sum()"
   ]
  },
  {
   "cell_type": "code",
   "execution_count": 24,
   "metadata": {
    "collapsed": true
   },
   "outputs": [],
   "source": [
    "%matplotlib inline"
   ]
  },
  {
   "cell_type": "code",
   "execution_count": 69,
   "metadata": {
    "collapsed": false
   },
   "outputs": [
    {
     "data": {
      "text/plain": [
       "{'dr': Int64Index([  94,  370,  410,  624, 1283, 2156, 2242, 2814, 3367, 3456, 3482,\n",
       "             3723, 3967, 4732, 4767, 5746, 5785, 5814, 6072, 6636, 6836, 7016,\n",
       "             7731, 7769, 7866, 8317, 9052, 9654, 9922, 9933, 9934, 9982],\n",
       "            dtype='int64'),\n",
       " 'dw': array([  26,   94,  370,  545,  624, 1334, 1642, 2156, 2242, 2814, 3367,\n",
       "        3456, 3482, 3723, 3967, 4767, 5357, 5746, 6072, 6636, 6836, 6910,\n",
       "        7769, 9922, 9934, 9982]),\n",
       " 'fridge': array([  94,  370,  410,  545,  624, 1953, 2156, 2242, 2814, 3367, 3456,\n",
       "        3723, 3967, 4767, 5357, 5371, 6072, 6636, 6910, 7769, 7866]),\n",
       " 'hvac': array([  26,  370,  410,  545,  624, 1283, 1642, 1953, 2129, 2156, 2242,\n",
       "        2814, 3367, 3456, 3723, 3967, 4767, 5357, 5371, 5746, 5785, 5814,\n",
       "        6072, 6636, 6836, 6910, 7731, 7769, 7866, 9654, 9922, 9933, 9934]),\n",
       " 'light': [624,\n",
       "  1334,\n",
       "  2470,\n",
       "  3367,\n",
       "  3456,\n",
       "  3723,\n",
       "  5814,\n",
       "  6072,\n",
       "  6910,\n",
       "  7769,\n",
       "  7866,\n",
       "  9609,\n",
       "  9654,\n",
       "  9922],\n",
       " 'wm': array([  94,  370,  545,  624, 2156, 2242, 2470, 2814, 3367, 3456, 3723,\n",
       "        3967, 5357, 7769, 9654, 9922, 9934])}"
      ]
     },
     "execution_count": 69,
     "metadata": {},
     "output_type": "execute_result"
    }
   ],
   "source": [
    "all_homes"
   ]
  },
  {
   "cell_type": "code",
   "execution_count": 72,
   "metadata": {
    "collapsed": false
   },
   "outputs": [
    {
     "data": {
      "text/html": [
       "<div>\n",
       "<table border=\"1\" class=\"dataframe\">\n",
       "  <thead>\n",
       "    <tr style=\"text-align: right;\">\n",
       "      <th></th>\n",
       "      <th>hvac</th>\n",
       "      <th>fridge</th>\n",
       "      <th>dr</th>\n",
       "      <th>dw</th>\n",
       "      <th>wm</th>\n",
       "      <th>light</th>\n",
       "      <th>inferred mains</th>\n",
       "      <th>mains</th>\n",
       "    </tr>\n",
       "  </thead>\n",
       "  <tbody>\n",
       "    <tr>\n",
       "      <th>1</th>\n",
       "      <td>2.075334</td>\n",
       "      <td>0.081192</td>\n",
       "      <td>0.631526</td>\n",
       "      <td>0.000234</td>\n",
       "      <td>0.000010</td>\n",
       "      <td>0.035137</td>\n",
       "      <td>2.823433</td>\n",
       "      <td>541.252681</td>\n",
       "    </tr>\n",
       "    <tr>\n",
       "      <th>2</th>\n",
       "      <td>1.521923</td>\n",
       "      <td>0.078441</td>\n",
       "      <td>0.530816</td>\n",
       "      <td>0.000199</td>\n",
       "      <td>0.000009</td>\n",
       "      <td>0.045339</td>\n",
       "      <td>2.176725</td>\n",
       "      <td>484.536295</td>\n",
       "    </tr>\n",
       "    <tr>\n",
       "      <th>3</th>\n",
       "      <td>2.077225</td>\n",
       "      <td>0.088123</td>\n",
       "      <td>0.628409</td>\n",
       "      <td>0.000232</td>\n",
       "      <td>0.000010</td>\n",
       "      <td>0.052969</td>\n",
       "      <td>2.846967</td>\n",
       "      <td>515.117968</td>\n",
       "    </tr>\n",
       "    <tr>\n",
       "      <th>4</th>\n",
       "      <td>2.028914</td>\n",
       "      <td>0.081727</td>\n",
       "      <td>0.600235</td>\n",
       "      <td>0.000222</td>\n",
       "      <td>0.000009</td>\n",
       "      <td>0.045559</td>\n",
       "      <td>2.756666</td>\n",
       "      <td>482.072451</td>\n",
       "    </tr>\n",
       "    <tr>\n",
       "      <th>5</th>\n",
       "      <td>1.273544</td>\n",
       "      <td>0.087758</td>\n",
       "      <td>0.499462</td>\n",
       "      <td>0.000183</td>\n",
       "      <td>0.000009</td>\n",
       "      <td>0.029258</td>\n",
       "      <td>1.890215</td>\n",
       "      <td>725.896277</td>\n",
       "    </tr>\n",
       "    <tr>\n",
       "      <th>6</th>\n",
       "      <td>0.866553</td>\n",
       "      <td>0.149311</td>\n",
       "      <td>0.434272</td>\n",
       "      <td>0.000158</td>\n",
       "      <td>0.000009</td>\n",
       "      <td>0.044714</td>\n",
       "      <td>1.495016</td>\n",
       "      <td>1358.322966</td>\n",
       "    </tr>\n",
       "    <tr>\n",
       "      <th>7</th>\n",
       "      <td>1.147455</td>\n",
       "      <td>0.169087</td>\n",
       "      <td>0.479262</td>\n",
       "      <td>0.000174</td>\n",
       "      <td>0.000009</td>\n",
       "      <td>0.061758</td>\n",
       "      <td>1.857746</td>\n",
       "      <td>1033.511226</td>\n",
       "    </tr>\n",
       "    <tr>\n",
       "      <th>8</th>\n",
       "      <td>0.821832</td>\n",
       "      <td>0.175474</td>\n",
       "      <td>0.414704</td>\n",
       "      <td>0.000151</td>\n",
       "      <td>0.000009</td>\n",
       "      <td>0.070377</td>\n",
       "      <td>1.482547</td>\n",
       "      <td>1508.695582</td>\n",
       "    </tr>\n",
       "    <tr>\n",
       "      <th>9</th>\n",
       "      <td>0.784201</td>\n",
       "      <td>0.172887</td>\n",
       "      <td>0.398410</td>\n",
       "      <td>0.000145</td>\n",
       "      <td>0.000008</td>\n",
       "      <td>0.073070</td>\n",
       "      <td>1.428720</td>\n",
       "      <td>1365.374109</td>\n",
       "    </tr>\n",
       "    <tr>\n",
       "      <th>10</th>\n",
       "      <td>1.740631</td>\n",
       "      <td>0.180482</td>\n",
       "      <td>0.537853</td>\n",
       "      <td>0.000194</td>\n",
       "      <td>0.000009</td>\n",
       "      <td>0.079099</td>\n",
       "      <td>2.538269</td>\n",
       "      <td>1028.600811</td>\n",
       "    </tr>\n",
       "    <tr>\n",
       "      <th>11</th>\n",
       "      <td>2.015218</td>\n",
       "      <td>0.172513</td>\n",
       "      <td>0.565908</td>\n",
       "      <td>0.000202</td>\n",
       "      <td>0.000009</td>\n",
       "      <td>0.079128</td>\n",
       "      <td>2.832979</td>\n",
       "      <td>768.261244</td>\n",
       "    </tr>\n",
       "    <tr>\n",
       "      <th>12</th>\n",
       "      <td>2.092841</td>\n",
       "      <td>0.346475</td>\n",
       "      <td>0.608339</td>\n",
       "      <td>0.000220</td>\n",
       "      <td>0.000010</td>\n",
       "      <td>0.134005</td>\n",
       "      <td>3.181889</td>\n",
       "      <td>903.043078</td>\n",
       "    </tr>\n",
       "  </tbody>\n",
       "</table>\n",
       "</div>"
      ],
      "text/plain": [
       "        hvac    fridge        dr        dw        wm     light  \\\n",
       "1   2.075334  0.081192  0.631526  0.000234  0.000010  0.035137   \n",
       "2   1.521923  0.078441  0.530816  0.000199  0.000009  0.045339   \n",
       "3   2.077225  0.088123  0.628409  0.000232  0.000010  0.052969   \n",
       "4   2.028914  0.081727  0.600235  0.000222  0.000009  0.045559   \n",
       "5   1.273544  0.087758  0.499462  0.000183  0.000009  0.029258   \n",
       "6   0.866553  0.149311  0.434272  0.000158  0.000009  0.044714   \n",
       "7   1.147455  0.169087  0.479262  0.000174  0.000009  0.061758   \n",
       "8   0.821832  0.175474  0.414704  0.000151  0.000009  0.070377   \n",
       "9   0.784201  0.172887  0.398410  0.000145  0.000008  0.073070   \n",
       "10  1.740631  0.180482  0.537853  0.000194  0.000009  0.079099   \n",
       "11  2.015218  0.172513  0.565908  0.000202  0.000009  0.079128   \n",
       "12  2.092841  0.346475  0.608339  0.000220  0.000010  0.134005   \n",
       "\n",
       "    inferred mains        mains  \n",
       "1         2.823433   541.252681  \n",
       "2         2.176725   484.536295  \n",
       "3         2.846967   515.117968  \n",
       "4         2.756666   482.072451  \n",
       "5         1.890215   725.896277  \n",
       "6         1.495016  1358.322966  \n",
       "7         1.857746  1033.511226  \n",
       "8         1.482547  1508.695582  \n",
       "9         1.428720  1365.374109  \n",
       "10        2.538269  1028.600811  \n",
       "11        2.832979   768.261244  \n",
       "12        3.181889   903.043078  "
      ]
     },
     "execution_count": 72,
     "metadata": {},
     "output_type": "execute_result"
    }
   ],
   "source": [
    "pred"
   ]
  },
  {
   "cell_type": "code",
   "execution_count": 33,
   "metadata": {
    "collapsed": true
   },
   "outputs": [],
   "source": [
    "pred = pred.resample(\"1M\", how=\"sum\").mul(0.000017).mul(15)\n",
    "pred.index = range(1, 13)"
   ]
  },
  {
   "cell_type": "code",
   "execution_count": 34,
   "metadata": {
    "collapsed": false
   },
   "outputs": [
    {
     "data": {
      "text/html": [
       "<div>\n",
       "<table border=\"1\" class=\"dataframe\">\n",
       "  <thead>\n",
       "    <tr style=\"text-align: right;\">\n",
       "      <th></th>\n",
       "      <th>hvac</th>\n",
       "      <th>fridge</th>\n",
       "      <th>dr</th>\n",
       "      <th>dw</th>\n",
       "      <th>wm</th>\n",
       "      <th>light</th>\n",
       "      <th>inferred mains</th>\n",
       "      <th>mains</th>\n",
       "    </tr>\n",
       "  </thead>\n",
       "  <tbody>\n",
       "    <tr>\n",
       "      <th>1</th>\n",
       "      <td>0.646548</td>\n",
       "      <td>108.136715</td>\n",
       "      <td>0.553805</td>\n",
       "      <td>0.069589</td>\n",
       "      <td>0.023172</td>\n",
       "      <td>0.038275</td>\n",
       "      <td>109.468105</td>\n",
       "      <td>534.915914</td>\n",
       "    </tr>\n",
       "    <tr>\n",
       "      <th>2</th>\n",
       "      <td>0.595282</td>\n",
       "      <td>111.916720</td>\n",
       "      <td>0.547823</td>\n",
       "      <td>0.063200</td>\n",
       "      <td>0.020964</td>\n",
       "      <td>0.034633</td>\n",
       "      <td>113.178623</td>\n",
       "      <td>408.059619</td>\n",
       "    </tr>\n",
       "    <tr>\n",
       "      <th>3</th>\n",
       "      <td>0.646566</td>\n",
       "      <td>107.493156</td>\n",
       "      <td>0.550758</td>\n",
       "      <td>0.069694</td>\n",
       "      <td>0.023194</td>\n",
       "      <td>0.038323</td>\n",
       "      <td>108.821691</td>\n",
       "      <td>401.911399</td>\n",
       "    </tr>\n",
       "    <tr>\n",
       "      <th>4</th>\n",
       "      <td>0.617789</td>\n",
       "      <td>100.082804</td>\n",
       "      <td>0.530757</td>\n",
       "      <td>0.067015</td>\n",
       "      <td>0.022375</td>\n",
       "      <td>0.036865</td>\n",
       "      <td>101.357605</td>\n",
       "      <td>501.315431</td>\n",
       "    </tr>\n",
       "    <tr>\n",
       "      <th>5</th>\n",
       "      <td>0.639847</td>\n",
       "      <td>107.788677</td>\n",
       "      <td>0.522146</td>\n",
       "      <td>0.069608</td>\n",
       "      <td>0.023217</td>\n",
       "      <td>0.038398</td>\n",
       "      <td>109.081892</td>\n",
       "      <td>972.204364</td>\n",
       "    </tr>\n",
       "    <tr>\n",
       "      <th>6</th>\n",
       "      <td>0.628541</td>\n",
       "      <td>129.137553</td>\n",
       "      <td>0.518679</td>\n",
       "      <td>0.067912</td>\n",
       "      <td>0.022595</td>\n",
       "      <td>0.037552</td>\n",
       "      <td>130.412833</td>\n",
       "      <td>1459.766217</td>\n",
       "    </tr>\n",
       "    <tr>\n",
       "      <th>7</th>\n",
       "      <td>0.655617</td>\n",
       "      <td>141.617232</td>\n",
       "      <td>0.558128</td>\n",
       "      <td>0.070498</td>\n",
       "      <td>0.023405</td>\n",
       "      <td>0.038977</td>\n",
       "      <td>142.963857</td>\n",
       "      <td>1376.049360</td>\n",
       "    </tr>\n",
       "    <tr>\n",
       "      <th>8</th>\n",
       "      <td>0.642024</td>\n",
       "      <td>142.451768</td>\n",
       "      <td>0.505541</td>\n",
       "      <td>0.070405</td>\n",
       "      <td>0.023463</td>\n",
       "      <td>0.039150</td>\n",
       "      <td>143.732351</td>\n",
       "      <td>1734.195534</td>\n",
       "    </tr>\n",
       "    <tr>\n",
       "      <th>9</th>\n",
       "      <td>0.624123</td>\n",
       "      <td>133.038099</td>\n",
       "      <td>0.521399</td>\n",
       "      <td>0.067879</td>\n",
       "      <td>0.022592</td>\n",
       "      <td>0.037554</td>\n",
       "      <td>134.311646</td>\n",
       "      <td>1435.453361</td>\n",
       "    </tr>\n",
       "    <tr>\n",
       "      <th>10</th>\n",
       "      <td>0.630863</td>\n",
       "      <td>134.300396</td>\n",
       "      <td>0.499349</td>\n",
       "      <td>0.069575</td>\n",
       "      <td>0.023248</td>\n",
       "      <td>0.038524</td>\n",
       "      <td>135.561955</td>\n",
       "      <td>1043.317743</td>\n",
       "    </tr>\n",
       "    <tr>\n",
       "      <th>11</th>\n",
       "      <td>0.592391</td>\n",
       "      <td>128.792999</td>\n",
       "      <td>0.475630</td>\n",
       "      <td>0.065856</td>\n",
       "      <td>0.022046</td>\n",
       "      <td>0.036434</td>\n",
       "      <td>129.985356</td>\n",
       "      <td>737.735564</td>\n",
       "    </tr>\n",
       "    <tr>\n",
       "      <th>12</th>\n",
       "      <td>0.617624</td>\n",
       "      <td>140.461949</td>\n",
       "      <td>0.501483</td>\n",
       "      <td>0.069514</td>\n",
       "      <td>0.023298</td>\n",
       "      <td>0.038720</td>\n",
       "      <td>141.712588</td>\n",
       "      <td>813.220229</td>\n",
       "    </tr>\n",
       "  </tbody>\n",
       "</table>\n",
       "</div>"
      ],
      "text/plain": [
       "        hvac      fridge        dr        dw        wm     light  \\\n",
       "1   0.646548  108.136715  0.553805  0.069589  0.023172  0.038275   \n",
       "2   0.595282  111.916720  0.547823  0.063200  0.020964  0.034633   \n",
       "3   0.646566  107.493156  0.550758  0.069694  0.023194  0.038323   \n",
       "4   0.617789  100.082804  0.530757  0.067015  0.022375  0.036865   \n",
       "5   0.639847  107.788677  0.522146  0.069608  0.023217  0.038398   \n",
       "6   0.628541  129.137553  0.518679  0.067912  0.022595  0.037552   \n",
       "7   0.655617  141.617232  0.558128  0.070498  0.023405  0.038977   \n",
       "8   0.642024  142.451768  0.505541  0.070405  0.023463  0.039150   \n",
       "9   0.624123  133.038099  0.521399  0.067879  0.022592  0.037554   \n",
       "10  0.630863  134.300396  0.499349  0.069575  0.023248  0.038524   \n",
       "11  0.592391  128.792999  0.475630  0.065856  0.022046  0.036434   \n",
       "12  0.617624  140.461949  0.501483  0.069514  0.023298  0.038720   \n",
       "\n",
       "    inferred mains        mains  \n",
       "1       109.468105   534.915914  \n",
       "2       113.178623   408.059619  \n",
       "3       108.821691   401.911399  \n",
       "4       101.357605   501.315431  \n",
       "5       109.081892   972.204364  \n",
       "6       130.412833  1459.766217  \n",
       "7       142.963857  1376.049360  \n",
       "8       143.732351  1734.195534  \n",
       "9       134.311646  1435.453361  \n",
       "10      135.561955  1043.317743  \n",
       "11      129.985356   737.735564  \n",
       "12      141.712588   813.220229  "
      ]
     },
     "execution_count": 34,
     "metadata": {},
     "output_type": "execute_result"
    }
   ],
   "source": [
    "pred"
   ]
  },
  {
   "cell_type": "code",
   "execution_count": 57,
   "metadata": {
    "collapsed": false
   },
   "outputs": [],
   "source": [
    "appliance=\"dw\"\n",
    "month=3\n",
    "home=26\n",
    "gt = df.ix[home]['%s_%d' %(appliance, month)]"
   ]
  },
  {
   "cell_type": "code",
   "execution_count": 58,
   "metadata": {
    "collapsed": false
   },
   "outputs": [
    {
     "data": {
      "text/plain": [
       "0.0"
      ]
     },
     "execution_count": 58,
     "metadata": {},
     "output_type": "execute_result"
    }
   ],
   "source": [
    "gt"
   ]
  },
  {
   "cell_type": "code",
   "execution_count": 50,
   "metadata": {
    "collapsed": false
   },
   "outputs": [
    {
     "data": {
      "text/plain": [
       "array([  26,   94,  370,  545,  624, 1334, 1642, 2156, 2242, 2814, 3367,\n",
       "       3456, 3482, 3723, 3967, 4767, 5357, 5746, 6072, 6636, 6836, 6910,\n",
       "       7769, 9922, 9934, 9982])"
      ]
     },
     "execution_count": 50,
     "metadata": {},
     "output_type": "execute_result"
    }
   ],
   "source": [
    "all_homes['dw']"
   ]
  },
  {
   "cell_type": "code",
   "execution_count": 65,
   "metadata": {
    "collapsed": false
   },
   "outputs": [
    {
     "data": {
      "text/plain": [
       "4.389723300930001"
      ]
     },
     "execution_count": 65,
     "metadata": {},
     "output_type": "execute_result"
    }
   ],
   "source": [
    "df.ix[94]['dw_5']"
   ]
  },
  {
   "cell_type": "code",
   "execution_count": null,
   "metadata": {
    "collapsed": true
   },
   "outputs": [],
   "source": []
  }
 ],
 "metadata": {
  "kernelspec": {
   "display_name": "Python 2",
   "language": "python",
   "name": "python2"
  },
  "language_info": {
   "codemirror_mode": {
    "name": "ipython",
    "version": 2
   },
   "file_extension": ".py",
   "mimetype": "text/x-python",
   "name": "python",
   "nbconvert_exporter": "python",
   "pygments_lexer": "ipython2",
   "version": "2.7.11"
  }
 },
 "nbformat": 4,
 "nbformat_minor": 0
}
