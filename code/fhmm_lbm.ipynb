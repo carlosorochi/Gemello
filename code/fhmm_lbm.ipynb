{
 "cells": [
  {
   "cell_type": "code",
   "execution_count": 1,
   "metadata": {
    "collapsed": false
   },
   "outputs": [
    {
     "name": "stderr",
     "output_type": "stream",
     "text": [
      "Vendor:  Continuum Analytics, Inc.\n",
      "Package: mkl\n",
      "Message: trial mode expires in 20 days\n"
     ]
    }
   ],
   "source": [
    "from hmmlearn import hmm"
   ]
  },
  {
   "cell_type": "code",
   "execution_count": 2,
   "metadata": {
    "collapsed": true
   },
   "outputs": [],
   "source": [
    "from create_df import read_df\n",
    "df, dfc, all_homes, appliance_min, national_average = read_df()"
   ]
  },
  {
   "cell_type": "code",
   "execution_count": 3,
   "metadata": {
    "collapsed": false
   },
   "outputs": [],
   "source": [
    "import nilmtk\n",
    "import pandas as pd\n",
    "import numpy as np\n",
    "import matplotlib.pyplot as plt\n",
    "from collections import OrderedDict\n",
    "import warnings"
   ]
  },
  {
   "cell_type": "code",
   "execution_count": 4,
   "metadata": {
    "collapsed": true
   },
   "outputs": [],
   "source": [
    "warnings.filterwarnings(\"ignore\")"
   ]
  },
  {
   "cell_type": "code",
   "execution_count": 5,
   "metadata": {
    "collapsed": true
   },
   "outputs": [],
   "source": [
    "from nilmtk import *\n",
    "import os\n",
    "import nilmtk"
   ]
  },
  {
   "cell_type": "code",
   "execution_count": 6,
   "metadata": {
    "collapsed": false
   },
   "outputs": [],
   "source": [
    "ds = DataSet(\"/Users/nipunbatra/wikienergy-2013_ipsn.h5\")"
   ]
  },
  {
   "cell_type": "code",
   "execution_count": 7,
   "metadata": {
    "collapsed": true
   },
   "outputs": [],
   "source": [
    "st = pd.HDFStore(\"/Users/nipunbatra/Downloads/wiki-temp.h5\")"
   ]
  },
  {
   "cell_type": "code",
   "execution_count": 8,
   "metadata": {
    "collapsed": true
   },
   "outputs": [],
   "source": [
    "b = ds.buildings[2]"
   ]
  },
  {
   "cell_type": "code",
   "execution_count": 9,
   "metadata": {
    "collapsed": false
   },
   "outputs": [
    {
     "data": {
      "text/plain": [
       "{'dataset': 'Dataport', 'instance': 2, 'original_name': 370}"
      ]
     },
     "execution_count": 9,
     "metadata": {},
     "output_type": "execute_result"
    }
   ],
   "source": [
    "b.metadata"
   ]
  },
  {
   "cell_type": "code",
   "execution_count": 10,
   "metadata": {
    "collapsed": false
   },
   "outputs": [],
   "source": [
    "e = ds.buildings[2].elec"
   ]
  },
  {
   "cell_type": "code",
   "execution_count": 82,
   "metadata": {
    "collapsed": false
   },
   "outputs": [
    {
     "name": "stdout",
     "output_type": "stream",
     "text": [
      "dish washer training\n",
      "Loading data for meter ElecMeterID(instance=1, building=1, dataset='Dataport')     \n",
      "Done loading data all meters for this chunk.\n",
      "Loading data for meter ElecMeterID(instance=3, building=2, dataset='Dataport')     \n",
      "Done loading data all meters for this chunk.\n",
      "Loading data for meter ElecMeterID(instance=1, building=3, dataset='Dataport')     \n",
      "Done loading data all meters for this chunk.\n",
      "Loading data for meter ElecMeterID(instance=3, building=4, dataset='Dataport')     \n",
      "Done loading data all meters for this chunk.\n",
      "Loading data for meter ElecMeterID(instance=1, building=5, dataset='Dataport')     \n",
      "Done loading data all meters for this chunk.\n",
      "Loading data for meter ElecMeterID(instance=2, building=6, dataset='Dataport')     \n",
      "Done loading data all meters for this chunk.\n",
      "Loading data for meter ElecMeterID(instance=1, building=7, dataset='Dataport')     \n",
      "Done loading data all meters for this chunk.\n",
      "Loading data for meter ElecMeterID(instance=1, building=8, dataset='Dataport')     \n",
      "Done loading data all meters for this chunk.\n",
      "Loading data for meter ElecMeterID(instance=1, building=9, dataset='Dataport')     \n",
      "Done loading data all meters for this chunk.\n",
      "Loading data for meter ElecMeterID(instance=1, building=10, dataset='Dataport')     \n",
      "Done loading data all meters for this chunk.\n",
      "Loading data for meter ElecMeterID(instance=1, building=11, dataset='Dataport')     \n",
      "Done loading data all meters for this chunk.\n",
      "Loading data for meter ElecMeterID(instance=2, building=12, dataset='Dataport')     \n",
      "Done loading data all meters for this chunk.\n",
      "Loading data for meter ElecMeterID(instance=2, building=13, dataset='Dataport')     \n",
      "Done loading data all meters for this chunk.\n",
      "Loading data for meter ElecMeterID(instance=1, building=14, dataset='Dataport')     \n",
      "Done loading data all meters for this chunk.\n",
      "Loading data for meter ElecMeterID(instance=1, building=15, dataset='Dataport')     \n",
      "Done loading data all meters for this chunk.\n",
      "Loading data for meter ElecMeterID(instance=3, building=16, dataset='Dataport')     \n",
      "Done loading data all meters for this chunk.\n",
      "Loading data for meter ElecMeterID(instance=1, building=17, dataset='Dataport')     \n",
      "Done loading data all meters for this chunk.\n",
      "Loading data for meter ElecMeterID(instance=1, building=18, dataset='Dataport')     \n",
      "Done loading data all meters for this chunk.\n",
      "Loading data for meter ElecMeterID(instance=1, building=19, dataset='Dataport')     \n",
      "Done loading data all meters for this chunk.\n",
      "Loading data for meter ElecMeterID(instance=3, building=21, dataset='Dataport')     \n",
      "Done loading data all meters for this chunk.\n",
      "Loading data for meter ElecMeterID(instance=2, building=22, dataset='Dataport')     \n",
      "Done loading data all meters for this chunk.\n",
      "Loading data for meter ElecMeterID(instance=1, building=23, dataset='Dataport')     \n",
      "Done loading data all meters for this chunk.\n",
      "Loading data for meter ElecMeterID(instance=3, building=24, dataset='Dataport')     \n",
      "Done loading data all meters for this chunk.\n",
      "Loading data for meter ElecMeterID(instance=3, building=25, dataset='Dataport')     \n",
      "Done loading data all meters for this chunk.\n",
      "Means for dish washer are\n",
      "[[  10.45827857]\n",
      " [ 566.15028847]]\n"
     ]
    }
   ],
   "source": [
    "#models = {}\n",
    "\n",
    "#for appliance in [\"air conditioner\", \"fridge\", \"spin dryer\", \n",
    "#                  \"dish washer\", \"washing machine\", \"light\"]:\n",
    "for appliance in [ \"dish washer\"]:\n",
    "    print appliance, \"training\"\n",
    "    o = []\n",
    "    for building_num in range(1, len(ds.buildings)):\n",
    "        \n",
    "        building = ds.buildings[building_num]\n",
    "        elec = building.elec\n",
    "        try:\n",
    "            dft = elec.select_using_appliances(type=appliance).load(cols=[('power','active')], sample_period=900).next().squeeze()\n",
    "            appl_power = dft.dropna().values.reshape(-1,1)\n",
    "            activation = (dft>10).sum()*1.0/len(df)\n",
    "            if appliance in [\"washer dryer\", \"dishwasher\"]:\n",
    "                o.append(appl_power)\n",
    "                \n",
    "            else:\n",
    "                if activation>0.05:\n",
    "                    o.append(appl_power)\n",
    "        except:\n",
    "            pass\n",
    "    \n",
    "    if len(o)>1:\n",
    "        o = np.array(o)\n",
    "        mod = hmm.GaussianHMM(2, \"full\")\n",
    "        mod.fit(o)\n",
    "        models[appliance] = mod\n",
    "        print \"Means for %s are\" %appliance\n",
    "        print mod.means_\n",
    "    else:\n",
    "        print \"Not enough samples for %s\" %appliance"
   ]
  },
  {
   "cell_type": "code",
   "execution_count": 83,
   "metadata": {
    "collapsed": false
   },
   "outputs": [],
   "source": [
    "from nilmtk.disaggregate.fhmm_exact import sort_learnt_parameters"
   ]
  },
  {
   "cell_type": "code",
   "execution_count": 84,
   "metadata": {
    "collapsed": false
   },
   "outputs": [],
   "source": [
    "new_learnt_models = OrderedDict()\n",
    "for appliance, appliance_model in models.iteritems():\n",
    "    startprob, means, covars, transmat = sort_learnt_parameters(\n",
    "                    appliance_model.startprob_, appliance_model.means_,\n",
    "                    appliance_model.covars_, appliance_model.transmat_)\n",
    "    new_learnt_models[appliance] = hmm.GaussianHMM(\n",
    "                startprob.size, \"full\", startprob, transmat)\n",
    "    new_learnt_models[appliance].means_ = means\n",
    "    new_learnt_models[appliance].covars_ = covars"
   ]
  },
  {
   "cell_type": "code",
   "execution_count": 85,
   "metadata": {
    "collapsed": true
   },
   "outputs": [],
   "source": [
    "from nilmtk.disaggregate.fhmm_exact import create_combined_hmm"
   ]
  },
  {
   "cell_type": "code",
   "execution_count": 86,
   "metadata": {
    "collapsed": false
   },
   "outputs": [],
   "source": [
    "learnt_model_combined = create_combined_hmm(new_learnt_models)"
   ]
  },
  {
   "cell_type": "code",
   "execution_count": 87,
   "metadata": {
    "collapsed": false
   },
   "outputs": [],
   "source": [
    "from nilmtk.disaggregate.fhmm_exact import FHMM"
   ]
  },
  {
   "cell_type": "code",
   "execution_count": 88,
   "metadata": {
    "collapsed": false
   },
   "outputs": [],
   "source": [
    "f = FHMM()"
   ]
  },
  {
   "cell_type": "code",
   "execution_count": 89,
   "metadata": {
    "collapsed": false
   },
   "outputs": [],
   "source": [
    "f.model = learnt_model_combined\n",
    "f.individual = new_learnt_models"
   ]
  },
  {
   "cell_type": "code",
   "execution_count": 90,
   "metadata": {
    "collapsed": true
   },
   "outputs": [],
   "source": [
    "import pickle"
   ]
  },
  {
   "cell_type": "code",
   "execution_count": 91,
   "metadata": {
    "collapsed": true
   },
   "outputs": [],
   "source": [
    "pickle.dump(f, open( \"../fhmm_model_all.p\", \"wb\" ))"
   ]
  },
  {
   "cell_type": "code",
   "execution_count": 8,
   "metadata": {
    "collapsed": true
   },
   "outputs": [],
   "source": [
    "all_homes_all_appliance = []\n",
    "for appliance in [\"fridge\",\"hvac\",\"dr\",\"dw\",\"wm\",\"light\"]:\n",
    "    all_homes_all_appliance = np.union1d(all_homes_all_appliance, all_homes[appliance])"
   ]
  },
  {
   "cell_type": "code",
   "execution_count": 14,
   "metadata": {
    "collapsed": false
   },
   "outputs": [
    {
     "data": {
      "text/plain": [
       "43"
      ]
     },
     "execution_count": 14,
     "metadata": {},
     "output_type": "execute_result"
    }
   ],
   "source": [
    "len(all_homes_all_appliance)"
   ]
  },
  {
   "cell_type": "code",
   "execution_count": 136,
   "metadata": {
    "collapsed": false
   },
   "outputs": [
    {
     "name": "stdout",
     "output_type": "stream",
     "text": [
      "26.0\n",
      "94.0\n",
      "370.0\n",
      "410.0\n",
      "545.0\n",
      "624.0\n",
      "1283.0\n",
      "1334.0\n",
      "1642.0\n",
      "1953.0\n",
      "2129.0\n",
      "2156.0\n",
      "2242.0\n",
      "2470.0\n",
      "2814.0\n",
      "3367.0\n",
      "3456.0\n",
      "3482.0\n",
      "3723.0\n",
      "3967.0\n",
      "4732.0\n",
      "4767.0\n",
      "5357.0\n",
      "5371.0\n",
      "5746.0\n",
      "5785.0\n",
      "5814.0\n",
      "6072.0\n",
      "6636.0\n",
      "6836.0\n",
      "6910.0\n",
      "7016.0\n",
      "7731.0\n",
      "7769.0\n",
      "7866.0\n",
      "8317.0\n",
      "9052.0\n",
      "9609.0\n",
      "9654.0\n",
      "9922.0\n",
      "9933.0\n",
      "9934.0\n",
      "9982.0\n"
     ]
    }
   ],
   "source": [
    "st_out = pd.HDFStore(\"../fhmm_out.h5\")\n",
    "for home in all_homes_all_appliance[:]:\n",
    "    print home\n",
    "    try:\n",
    "        mains_df = st['/%d' %home][['use']]['2013'].resample(\"15T\")\n",
    "        pred = f.disaggregate_chunk(mains_df).resample(\"1M\", how=\"sum\").mul(0.000017).mul(15)\n",
    "        pred.index = range(1, 13)\n",
    "        pred = pred.rename(columns={'air conditioner':'hvac','dish washer':'dw',\n",
    "                                    'spin dryer':'dr','washing machine':'wm'})\n",
    "        st_out['%d' %home] = pred\n",
    "    except:\n",
    "        pass\n",
    "    \n"
   ]
  },
  {
   "cell_type": "code",
   "execution_count": 48,
   "metadata": {
    "collapsed": false
   },
   "outputs": [
    {
     "name": "stdout",
     "output_type": "stream",
     "text": [
      "hvac\n",
      "fridge\n",
      "dw\n",
      "wm\n",
      "light\n",
      "dr\n"
     ]
    }
   ],
   "source": [
    "st_out = pd.HDFStore(\"../fhmm_out.h5\")\n",
    "fhmm_accur = {}\n",
    "for appliance in [\"hvac\",\"fridge\",\"dw\",\"wm\",\"light\",\"dr\"]:\n",
    "    print appliance\n",
    "    \n",
    "    if appliance ==\"hvac\":\n",
    "        start, end = 5, 11\n",
    "    else:\n",
    "        start, end = 1, 13\n",
    "    out_ap = {}\n",
    "    accuracies = {}\n",
    "    for home in all_homes[appliance][:]:\n",
    "        out_ap[home] = {}\n",
    "        pred = st_out['/%d' %home][appliance]\n",
    "        for month in range(start, end):\n",
    "            out_ap[home][month] = {}\n",
    "            gt = df.ix[home]['%s_%d' %(appliance, month)]\n",
    "            out_ap[home][month]['gt'] = gt\n",
    "            out_ap[home][month]['pred'] = pred.ix[month]\n",
    "        a = pd.DataFrame(out_ap[home]).T\n",
    "        e = (a['gt']-a['pred']).abs().div(a['gt'])*100\n",
    "        accur = 100-e\n",
    "        accur[accur<0] = 0\n",
    "        accuracies[home] = accur\n",
    "    fhmm_accur[appliance] = pd.DataFrame(accuracies)"
   ]
  },
  {
   "cell_type": "code",
   "execution_count": 51,
   "metadata": {
    "collapsed": true
   },
   "outputs": [],
   "source": [
    "accuracy_store = pd.HDFStore(\"accuracy_store.h5\")"
   ]
  },
  {
   "cell_type": "code",
   "execution_count": 52,
   "metadata": {
    "collapsed": false
   },
   "outputs": [],
   "source": [
    "accuracy_store[\"FHMM\"] = pd.Panel(fhmm_accur)"
   ]
  },
  {
   "cell_type": "code",
   "execution_count": 18,
   "metadata": {
    "collapsed": false
   },
   "outputs": [
    {
     "name": "stdout",
     "output_type": "stream",
     "text": [
      "26.0\n",
      "94.0\n",
      "370.0\n",
      "410.0\n",
      "545.0\n",
      "624.0\n",
      "1283.0\n",
      "1334.0\n",
      "1642.0\n",
      "1953.0\n",
      "2129.0\n",
      "2156.0\n",
      "2242.0\n",
      "2470.0\n",
      "2814.0\n",
      "3367.0\n",
      "3456.0\n",
      "3482.0\n",
      "3723.0\n",
      "3967.0\n",
      "4732.0\n",
      "4767.0\n",
      "5357.0\n",
      "5371.0\n",
      "5746.0\n",
      "5785.0\n",
      "5814.0\n",
      "6072.0\n",
      "6636.0\n",
      "6836.0\n",
      "6910.0\n",
      "7016.0\n",
      "7731.0\n",
      "7769.0\n",
      "7866.0\n",
      "8317.0\n",
      "9052.0\n",
      "9609.0\n",
      "9654.0\n",
      "9922.0\n",
      "9933.0\n",
      "9934.0\n",
      "9982.0\n"
     ]
    }
   ],
   "source": [
    "st_out = pd.HDFStore(\"../fhmm_lbm.h5\")\n",
    "\n",
    "for home in all_homes_all_appliance[:]:\n",
    "    print home\n",
    "    try:\n",
    "        pred = pd.read_csv(\"/Users/nipunbatra/Dropbox/Public/notebooks/misc/%d.csv\" %home, index_col=0)\n",
    "        pred.index = pd.to_datetime(pred.index)\n",
    "        pred = pred['2013']\n",
    "        pred = pred.resample(\"1M\", how=\"sum\").mul(0.000017).mul(15)\n",
    "        pred.index = range(1, 13)\n",
    "        pred = pred[['hvac','dw','dr','fridge','wm','light']]\n",
    "        \n",
    "        st_out['%d' %home] = pred\n",
    "    except Exception, e:\n",
    "        print e\n",
    "    \n",
    "    "
   ]
  },
  {
   "cell_type": "code",
   "execution_count": 53,
   "metadata": {
    "collapsed": false
   },
   "outputs": [
    {
     "name": "stdout",
     "output_type": "stream",
     "text": [
      "hvac\n",
      "fridge\n",
      "dw\n",
      "wm\n",
      "light\n",
      "dr\n"
     ]
    }
   ],
   "source": [
    "st_out = pd.HDFStore(\"../fhmm_lbm.h5\")\n",
    "lbm_accur = {}\n",
    "for appliance in [\"hvac\",\"fridge\",\"dw\",\"wm\",\"light\",\"dr\"]:\n",
    "    print appliance\n",
    "    \n",
    "    if appliance ==\"hvac\":\n",
    "        start, end = 5, 11\n",
    "    else:\n",
    "        start, end = 1, 13\n",
    "    out_ap = {}\n",
    "    accuracies = {}\n",
    "    for home in all_homes[appliance][:]:\n",
    "        out_ap[home] = {}\n",
    "        pred = st_out['/%d' %home][appliance]\n",
    "        for month in range(start, end):\n",
    "            out_ap[home][month] = {}\n",
    "            gt = df.ix[home]['%s_%d' %(appliance, month)]\n",
    "            out_ap[home][month]['gt'] = gt\n",
    "            out_ap[home][month]['pred'] = pred.ix[month]\n",
    "        a = pd.DataFrame(out_ap[home]).T\n",
    "        e = (a['gt']-a['pred']).abs().div(a['gt'])*100\n",
    "        accur = 100-e\n",
    "        accur[accur<0] = 0\n",
    "        accuracies[home] = accur\n",
    "    lbm_accur[appliance] = pd.DataFrame(accuracies)"
   ]
  },
  {
   "cell_type": "code",
   "execution_count": 54,
   "metadata": {
    "collapsed": false
   },
   "outputs": [],
   "source": [
    "accuracy_store[\"LBM\"] = pd.Panel(lbm_accur)"
   ]
  }
 ],
 "metadata": {
  "kernelspec": {
   "display_name": "Python 2",
   "language": "python",
   "name": "python2"
  },
  "language_info": {
   "codemirror_mode": {
    "name": "ipython",
    "version": 2
   },
   "file_extension": ".py",
   "mimetype": "text/x-python",
   "name": "python",
   "nbconvert_exporter": "python",
   "pygments_lexer": "ipython2",
   "version": "2.7.11"
  }
 },
 "nbformat": 4,
 "nbformat_minor": 0
}
