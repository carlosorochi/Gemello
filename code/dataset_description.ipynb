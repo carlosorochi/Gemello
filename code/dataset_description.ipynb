{
 "cells": [
  {
   "cell_type": "markdown",
   "metadata": {},
   "source": [
    "The purpose of this notebook is to show the distribution of homes on various features."
   ]
  },
  {
   "cell_type": "code",
   "execution_count": 1,
   "metadata": {
    "collapsed": false
   },
   "outputs": [
    {
     "name": "stderr",
     "output_type": "stream",
     "text": [
      "Vendor:  Continuum Analytics, Inc.\n",
      "Package: mkl\n",
      "Message: trial mode expires in 30 days\n"
     ]
    }
   ],
   "source": [
    "import pandas as pd\n",
    "import os\n",
    "import numpy as np\n",
    "import matplotlib.pyplot as plt\n",
    "import warnings\n",
    "warnings.filterwarnings('ignore')"
   ]
  },
  {
   "cell_type": "code",
   "execution_count": 2,
   "metadata": {
    "collapsed": false
   },
   "outputs": [],
   "source": [
    "from create_df import read_df\n",
    "df, dfc, all_homes, appliance_min, national_average = read_df()"
   ]
  },
  {
   "cell_type": "code",
   "execution_count": 3,
   "metadata": {
    "collapsed": false
   },
   "outputs": [
    {
     "data": {
      "text/plain": [
       "(57, 166)"
      ]
     },
     "execution_count": 3,
     "metadata": {},
     "output_type": "execute_result"
    }
   ],
   "source": [
    "#Homes, Features\n",
    "df.shape\n"
   ]
  },
  {
   "cell_type": "code",
   "execution_count": 4,
   "metadata": {
    "collapsed": false
   },
   "outputs": [],
   "source": [
    "from common_functions import latexify, format_axes\n",
    "latexify()"
   ]
  },
  {
   "cell_type": "code",
   "execution_count": 5,
   "metadata": {
    "collapsed": true
   },
   "outputs": [],
   "source": [
    "%matplotlib inline"
   ]
  },
  {
   "cell_type": "code",
   "execution_count": 38,
   "metadata": {
    "collapsed": false
   },
   "outputs": [
    {
     "data": {
      "image/png": "[encoded data removed]",
      "text/plain": [
       "<matplotlib.figure.Figure at 0x157911b50>"
      ]
     },
     "metadata": {},
     "output_type": "display_data"
    }
   ],
   "source": [
    "latexify(columns=1, fig_height=2)\n",
    "fig, ax = plt.subplots(ncols=2, nrows=2)\n",
    "dfc[['aggregate_%d' %i for i in range(1, 13)]].sum(axis=1).hist(bins=15, ax=ax[0,0])\n",
    "ax[0,0].set_xlabel(\"Annual Energy Use (kWh)\")\n",
    "#ax[0,0].set_ylabel(\"Number of homes\");\n",
    "\n",
    "dfc.area.hist(ax=ax[0,1])\n",
    "ax[0,1].set_xlabel(\"Area (sq.ft.)\")\n",
    "\n",
    "dfc.num_rooms.hist(ax=ax[1,0])\n",
    "ax[1,0].set_xlabel(\"Number of rooms\")\n",
    "\n",
    "dfc.total_occupants.hist(ax=ax[1,1])\n",
    "ax[1,1].set_xlabel(\"Number of occupants\")\n",
    "\n",
    "for i in range(0,2):\n",
    "    for j in range(0,2):\n",
    "        a = ax[i,j]\n",
    "        a.set_xticks(a.get_xticks()[::2])\n",
    "        a.set_yticks(a.get_yticks()[::2])\n",
    "        a.grid(False)\n",
    "        format_axes(a)\n",
    "\n",
    "\n",
    "plt.tight_layout()\n",
    "fig.text(0.004, 0.5, \"Number of homes\", ha='center', va='center', rotation='vertical')\n",
    "\n",
    "plt.savefig(\"/Users/nipunbatra/git/monthly-disaggregation/results/dataset.pdf\",bbox_inches=\"tight\")\n",
    "plt.savefig(\"/Users/nipunbatra/git/monthly-disaggregation/results/dataset.png\",bbox_inches=\"tight\")"
   ]
  },
  {
   "cell_type": "code",
   "execution_count": 28,
   "metadata": {
    "collapsed": false
   },
   "outputs": [
    {
     "data": {
      "text/plain": [
       "array([<matplotlib.axes._subplots.AxesSubplot object at 0x12770e910>,\n",
       "       <matplotlib.axes._subplots.AxesSubplot object at 0x142f4c490>], dtype=object)"
      ]
     },
     "execution_count": 28,
     "metadata": {},
     "output_type": "execute_result"
    }
   ],
   "source": [
    "ax[0]"
   ]
  },
  {
   "cell_type": "code",
   "execution_count": 42,
   "metadata": {
    "collapsed": false
   },
   "outputs": [
    {
     "data": {
      "image/png": "[encoded data removed]",
      "text/plain": [
       "<matplotlib.figure.Figure at 0x14e7d2e10>"
      ]
     },
     "metadata": {},
     "output_type": "display_data"
    }
   ],
   "source": [
    "latexify()\n",
    "dfc[['aggregate_%d' %i for i in range(1, 13)]].sum(axis=1).hist(bins=15)\n",
    "plt.xlabel(\"Annual Energy Use (kWh)\")\n",
    "plt.ylabel(\"Number of homes\");\n",
    "ax = plt.gca()\n",
    "plt.grid(False)\n",
    "format_axes(ax)\n",
    "plt.savefig(\"/Users/nipunbatra/git/monthly-disaggregation/results/description_energy.pdf\",bbox_inches=\"tight\")\n",
    "plt.savefig(\"/Users/nipunbatra/git/monthly-disaggregation/results/description_energy.png\",bbox_inches=\"tight\")"
   ]
  },
  {
   "cell_type": "code",
   "execution_count": 43,
   "metadata": {
    "collapsed": false
   },
   "outputs": [
    {
     "data": {
      "image/png": "[encoded data removed]",
      "text/plain": [
       "<matplotlib.figure.Figure at 0x11deb32d0>"
      ]
     },
     "metadata": {},
     "output_type": "display_data"
    }
   ],
   "source": [
    "dfc.area.hist()\n",
    "plt.xlabel(\"Area (sq.ft.)\")\n",
    "plt.ylabel(\"Number of homes\");\n",
    "format_axes(plt.gca())\n",
    "plt.grid(False)\n",
    "plt.savefig(\"/Users/nipunbatra/git/monthly-disaggregation/results/description_area.pdf\",bbox_inches=\"tight\")\n",
    "plt.savefig(\"/Users/nipunbatra/git/monthly-disaggregation/results/description_areapng\",bbox_inches=\"tight\")"
   ]
  },
  {
   "cell_type": "code",
   "execution_count": 44,
   "metadata": {
    "collapsed": false
   },
   "outputs": [
    {
     "data": {
      "image/png": "[encoded data removed]",
      "text/plain": [
       "<matplotlib.figure.Figure at 0x14eb37110>"
      ]
     },
     "metadata": {},
     "output_type": "display_data"
    }
   ],
   "source": [
    "dfc.num_rooms.hist()\n",
    "plt.xlabel(\"Number of rooms\")\n",
    "plt.ylabel(\"Number of homes\");\n",
    "format_axes(plt.gca())\n",
    "plt.grid(False)\n",
    "plt.savefig(\"/Users/nipunbatra/git/monthly-disaggregation/results/description_num_rooms.pdf\",bbox_inches=\"tight\")\n",
    "plt.savefig(\"/Users/nipunbatra/git/monthly-disaggregation/results/description_num_rooms.png\",bbox_inches=\"tight\")"
   ]
  },
  {
   "cell_type": "code",
   "execution_count": 45,
   "metadata": {
    "collapsed": false
   },
   "outputs": [
    {
     "data": {
      "image/png": "[encoded data removed]",
      "text/plain": [
       "<matplotlib.figure.Figure at 0x1155ecd10>"
      ]
     },
     "metadata": {},
     "output_type": "display_data"
    }
   ],
   "source": [
    "dfc.total_occupants.hist()\n",
    "plt.xlabel(\"Number of occupants\")\n",
    "plt.ylabel(\"Number of homes\");\n",
    "format_axes(plt.gca())\n",
    "plt.grid(False)\n",
    "plt.savefig(\"/Users/nipunbatra/git/monthly-disaggregation/results/description_num_occupants.pdf\",bbox_inches=\"tight\")\n",
    "plt.savefig(\"/Users/nipunbatra/git/monthly-disaggregation/results/description_num_occupants.png\",bbox_inches=\"tight\")"
   ]
  },
  {
   "cell_type": "code",
   "execution_count": 23,
   "metadata": {
    "collapsed": false
   },
   "outputs": [],
   "source": [
    "out = {}\n",
    "appliance_name_map = {\"fridge\":\"Fridge\",\"hvac\":\"HVAC\",\"wm\":\"Washing\\nmachine\",\n",
    "                      \"dr\":\"Dryer\",\"dw\":\"Dish\\nwasher\",\"light\":\"Lights\"}\n",
    "for month in range(1, 13):\n",
    "    out[month] = {}\n",
    "    appliances = [\"fridge\",\"hvac\",\"dr\",\"dw\",\"wm\",\"light\"]\n",
    "    for appliance in appliances[:]:\n",
    "        prop = dfc[\"%s_%d\" %(appliance, month)].fillna(0).div(dfc[\"aggregate_%d\" %month])\n",
    "        prop = prop.replace([np.inf, -np.inf], np.nan)\n",
    "        prop = prop.dropna()\n",
    "        out[month][appliance_name_map[appliance]] = prop[prop>0].mean()"
   ]
  },
  {
   "cell_type": "code",
   "execution_count": 39,
   "metadata": {
    "collapsed": true
   },
   "outputs": [],
   "source": [
    "tableau20blind =  [(31, 119, 180), (174, 199, 232), (255, 127, 14), (255, 187, 120),  \n",
    "             (44, 160, 44), (152, 223, 138), (214, 39, 40), (255, 152, 150),  \n",
    "             (148, 103, 189), (197, 176, 213), (140, 86, 75), (196, 156, 148),  \n",
    "             (227, 119, 194), (247, 182, 210), (127, 127, 127), (199, 199, 199),  \n",
    "             (188, 189, 34), (219, 219, 141), (23, 190, 207), (158, 218, 229)]\n",
    "  \n",
    "# Rescale to values between 0 and 1\n",
    "for i in range(len(tableau20blind)):  \n",
    "    r, g, b = tableau20blind[i]  \n",
    "    tableau20blind[i] = (r / 255., g / 255., b / 255.)"
   ]
  },
  {
   "cell_type": "code",
   "execution_count": 49,
   "metadata": {
    "collapsed": false
   },
   "outputs": [
    {
     "data": {
      "image/png": "[encoded data removed]",
      "text/plain": [
       "<matplotlib.figure.Figure at 0x15c72b550>"
      ]
     },
     "metadata": {},
     "output_type": "display_data"
    }
   ],
   "source": [
    "latexify(fig_height=2.4)\n",
    "pd.DataFrame(out).T.plot(kind=\"barh\",stacked=True, rot=0, colors=tableau20blind[::2]).legend(loc='upper left',\n",
    "                                                                bbox_to_anchor=(0, 1.35), ncol=3,\n",
    "                                                              )\n",
    "plt.ylabel(\"Month of year\")\n",
    "plt.xlabel(\"Proportion of energy\");\n",
    "format_axes(plt.gca())\n",
    "plt.tight_layout()\n",
    "plt.savefig(\"/Users/nipunbatra/git/monthly-disaggregation/results/proportion_energy.pdf\",bbox_inches=\"tight\")\n",
    "plt.savefig(\"/Users/nipunbatra/git/monthly-disaggregation/results/proportion_energy.png\",bbox_inches=\"tight\")"
   ]
  },
  {
   "cell_type": "code",
   "execution_count": 38,
   "metadata": {
    "collapsed": true
   },
   "outputs": [],
   "source": [
    "units = {}\n",
    "for month in range(1, 13):\n",
    "    units[month] = {}\n",
    "    appliances = [\"fridge\",\"hvac\",\"dr\",\"dw\",\"wm\",\"light\"]\n",
    "    for appliance in appliances[:]:\n",
    "        a = df[\"%s_%d\" %(appliance, month)].fillna(0)\n",
    "        units[month][appliance] = a[a>0].mean()"
   ]
  },
  {
   "cell_type": "code",
   "execution_count": 40,
   "metadata": {
    "collapsed": false
   },
   "outputs": [
    {
     "data": {
      "image/png": "[encoded data removed]",
      "text/plain": [
       "<matplotlib.figure.Figure at 0x115056890>"
      ]
     },
     "metadata": {},
     "output_type": "display_data"
    }
   ],
   "source": [
    "latexify(fig_height=2.6)\n",
    "pd.DataFrame(units).T.plot(kind=\"bar\",stacked=True, rot=0).legend(loc='upper left', bbox_to_anchor=(0, 1.2), ncol=3)\n",
    "plt.xlabel(\"Month of year\")\n",
    "plt.ylabel(\"Energy (kWh)\");\n",
    "format_axes(plt.gca())\n",
    "plt.tight_layout()\n",
    "plt.savefig(\"/Users/nipunbatra/git/monthly-disaggregation/results/appliance_energy.pdf\",bbox_inches=\"tight\")\n",
    "plt.savefig(\"/Users/nipunbatra/git/monthly-disaggregation/results/appliance_energy.png\",bbox_inches=\"tight\")"
   ]
  }
 ],
 "metadata": {
  "kernelspec": {
   "display_name": "Python 2",
   "language": "python",
   "name": "python2"
  },
  "language_info": {
   "codemirror_mode": {
    "name": "ipython",
    "version": 2
   },
   "file_extension": ".py",
   "mimetype": "text/x-python",
   "name": "python",
   "nbconvert_exporter": "python",
   "pygments_lexer": "ipython2",
   "version": "2.7.11"
  }
 },
 "nbformat": 4,
 "nbformat_minor": 0
}
