{
 "cells": [
  {
   "cell_type": "code",
   "execution_count": 1,
   "metadata": {
    "collapsed": false
   },
   "outputs": [
    {
     "name": "stderr",
     "output_type": "stream",
     "text": [
      "Vendor:  Continuum Analytics, Inc.\n",
      "Package: mkl\n",
      "Message: trial mode expires in 30 days\n"
     ]
    }
   ],
   "source": [
    "import pandas as pd\n",
    "import numpy as np\n",
    "import matplotlib.pyplot as plt\n",
    "%matplotlib inline"
   ]
  },
  {
   "cell_type": "code",
   "execution_count": 2,
   "metadata": {
    "collapsed": false
   },
   "outputs": [
    {
     "name": "stdout",
     "output_type": "stream",
     "text": [
      "-rw-r--r--  1 nipunbatra  staff   370K Feb  5 11:41 accuracy.h5\r\n"
     ]
    }
   ],
   "source": [
    "!ls -lah accuracy.h5"
   ]
  },
  {
   "cell_type": "code",
   "execution_count": 3,
   "metadata": {
    "collapsed": false
   },
   "outputs": [],
   "source": [
    "accuracy_store = pd.HDFStore(\"accuracy.h5\")"
   ]
  },
  {
   "cell_type": "code",
   "execution_count": 4,
   "metadata": {
    "collapsed": false
   },
   "outputs": [
    {
     "data": {
      "text/plain": [
       "<class 'pandas.io.pytables.HDFStore'>\n",
       "File path: accuracy.h5\n",
       "/FHMM                        wide_table   (typ->appendable,nrows->510,ncols->6,indexers->[major_axis,minor_axis])\n",
       "/LBM                         wide_table   (typ->appendable,nrows->510,ncols->6,indexers->[major_axis,minor_axis])\n",
       "/N-NILM                      wide_table   (typ->appendable,nrows->420,ncols->6,indexers->[major_axis,minor_axis])\n",
       "/Regional average            wide_table   (typ->appendable,nrows->445,ncols->6,indexers->[major_axis,minor_axis])"
      ]
     },
     "execution_count": 4,
     "metadata": {},
     "output_type": "execute_result"
    }
   ],
   "source": [
    "accuracy_store"
   ]
  },
  {
   "cell_type": "code",
   "execution_count": 5,
   "metadata": {
    "collapsed": true
   },
   "outputs": [],
   "source": [
    "appliance_name_map = {\"fridge\":\"Fridge\",\"hvac\":\"HVAC\",\"wm\":\"Washing\\nmachine\",\n",
    "                      \"dr\":\"Dryer\",\"dw\":\"Dish\\nwasher\",\"light\":\"Lights\"}"
   ]
  },
  {
   "cell_type": "code",
   "execution_count": 6,
   "metadata": {
    "collapsed": false
   },
   "outputs": [],
   "source": [
    "means = {}\n",
    "sems = {}\n",
    "for approach in [\"FHMM\",\"LBM\",\"Regional average\",\"N-NILM\"]:\n",
    "\n",
    "    fr = accuracy_store[approach]\n",
    "    means[approach]={}\n",
    "    sems[approach] = {}\n",
    "\n",
    "    for appliance in ['hvac','fridge','dw','dr','light','wm']:\n",
    "        if appliance==\"hvac\":\n",
    "            start, stop=5, 11\n",
    "        else:\n",
    "            start, stop=1, 13\n",
    "        temp = fr[appliance]\n",
    "        \n",
    "        means[approach][appliance_name_map[appliance]] = temp.ix[range(start,stop)].mean().mean()\n",
    "        sems[approach][appliance_name_map[appliance]] = temp.ix[range(start,stop)].mean().sem()"
   ]
  },
  {
   "cell_type": "code",
   "execution_count": 7,
   "metadata": {
    "collapsed": true
   },
   "outputs": [],
   "source": [
    "main_df = pd.DataFrame(means)\n",
    "se = pd.DataFrame(sems)"
   ]
  },
  {
   "cell_type": "code",
   "execution_count": 8,
   "metadata": {
    "collapsed": false
   },
   "outputs": [],
   "source": [
    "main_df = main_df.ix[['HVAC','Fridge','Washing\\nmachine','Lights','Dryer','Dish\\nwasher']]\n",
    "se_df =se.ix[['HVAC','Fridge','Washing\\nmachine','Lights','Dryer','Dish\\nwasher']]"
   ]
  },
  {
   "cell_type": "code",
   "execution_count": 10,
   "metadata": {
    "collapsed": true
   },
   "outputs": [],
   "source": [
    "from common_functions import latexify, format_axes"
   ]
  },
  {
   "cell_type": "code",
   "execution_count": 20,
   "metadata": {
    "collapsed": false
   },
   "outputs": [
    {
     "data": {
      "image/png": "[encoded data removed]",
      "text/plain": [
       "<matplotlib.figure.Figure at 0x118834510>"
      ]
     },
     "metadata": {},
     "output_type": "display_data"
    }
   ],
   "source": [
    "latexify(columns=2, fig_height=3)\n",
    "\n",
    "tableau20blind =  [(31, 119, 180), (174, 199, 232), (255, 127, 14), (255, 187, 120),  \n",
    "             (44, 160, 44), (152, 223, 138), (214, 39, 40), (255, 152, 150),  \n",
    "             (148, 103, 189), (197, 176, 213), (140, 86, 75), (196, 156, 148),  \n",
    "             (227, 119, 194), (247, 182, 210), (127, 127, 127), (199, 199, 199),  \n",
    "             (188, 189, 34), (219, 219, 141), (23, 190, 207), (158, 218, 229)]\n",
    "  \n",
    "# Rescale to values between 0 and 1\n",
    "for i in range(len(tableau20blind)):  \n",
    "    r, g, b = tableau20blind[i]  \n",
    "    tableau20blind[i] = (r / 255., g / 255., b / 255.)\n",
    "\n",
    "main_df[[\"FHMM\",\"LBM\",\"Regional average\",\"N-NILM\"]].plot(kind=\"bar\",yerr=se_df,rot=0, colors=tableau20blind)\n",
    "plt.ylim((0,100))\n",
    "plt.ylabel(\"Energy Accuracy(\\%)\\n(Higher is better)\");\n",
    "format_axes(plt.gca())\n",
    "ax = plt.gca()\n",
    "#for p in ax.patches:\n",
    "#    ax.annotate(str(int(round(p.get_height(),0))), (p.get_x() * 1.005, p.get_height() * 1.1))\n",
    "plt.tight_layout()\n",
    "plt.savefig(\"/Users/nipunbatra/git/monthly-disaggregation/results/main.pdf\",bbox_inches=\"tight\")\n",
    "plt.savefig(\"/Users/nipunbatra/git/monthly-disaggregation/results/main.png\",bbox_inches=\"tight\")"
   ]
  },
  {
   "cell_type": "code",
   "execution_count": 18,
   "metadata": {
    "collapsed": false
   },
   "outputs": [
    {
     "data": {
      "text/html": [
       "<div>\n",
       "<table border=\"1\" class=\"dataframe\">\n",
       "  <thead>\n",
       "    <tr style=\"text-align: right;\">\n",
       "      <th></th>\n",
       "      <th>FHMM</th>\n",
       "      <th>LBM</th>\n",
       "      <th>Regional average</th>\n",
       "      <th>N-NILM</th>\n",
       "    </tr>\n",
       "  </thead>\n",
       "  <tbody>\n",
       "    <tr>\n",
       "      <th>HVAC</th>\n",
       "      <td>61.039103</td>\n",
       "      <td>55.722782</td>\n",
       "      <td>48.698197</td>\n",
       "      <td>79.075470</td>\n",
       "    </tr>\n",
       "    <tr>\n",
       "      <th>Fridge</th>\n",
       "      <td>38.975759</td>\n",
       "      <td>71.822239</td>\n",
       "      <td>50.157783</td>\n",
       "      <td>79.253608</td>\n",
       "    </tr>\n",
       "    <tr>\n",
       "      <th>Washing\\nmachine</th>\n",
       "      <td>0.130659</td>\n",
       "      <td>29.972193</td>\n",
       "      <td>27.360420</td>\n",
       "      <td>66.443781</td>\n",
       "    </tr>\n",
       "    <tr>\n",
       "      <th>Lights</th>\n",
       "      <td>33.414945</td>\n",
       "      <td>11.290612</td>\n",
       "      <td>43.866968</td>\n",
       "      <td>49.357385</td>\n",
       "    </tr>\n",
       "    <tr>\n",
       "      <th>Dryer</th>\n",
       "      <td>10.529382</td>\n",
       "      <td>5.940615</td>\n",
       "      <td>39.250599</td>\n",
       "      <td>42.786897</td>\n",
       "    </tr>\n",
       "    <tr>\n",
       "      <th>Dish\\nwasher</th>\n",
       "      <td>0.430750</td>\n",
       "      <td>16.495110</td>\n",
       "      <td>25.787515</td>\n",
       "      <td>43.469454</td>\n",
       "    </tr>\n",
       "  </tbody>\n",
       "</table>\n",
       "</div>"
      ],
      "text/plain": [
       "                       FHMM        LBM  Regional average     N-NILM\n",
       "HVAC              61.039103  55.722782         48.698197  79.075470\n",
       "Fridge            38.975759  71.822239         50.157783  79.253608\n",
       "Washing\\nmachine   0.130659  29.972193         27.360420  66.443781\n",
       "Lights            33.414945  11.290612         43.866968  49.357385\n",
       "Dryer             10.529382   5.940615         39.250599  42.786897\n",
       "Dish\\nwasher       0.430750  16.495110         25.787515  43.469454"
      ]
     },
     "execution_count": 18,
     "metadata": {},
     "output_type": "execute_result"
    }
   ],
   "source": [
    "main_df[[\"FHMM\",\"LBM\",\"Regional average\",\"N-NILM\"]]"
   ]
  }
 ],
 "metadata": {
  "kernelspec": {
   "display_name": "Python 2",
   "language": "python",
   "name": "python2"
  },
  "language_info": {
   "codemirror_mode": {
    "name": "ipython",
    "version": 2
   },
   "file_extension": ".py",
   "mimetype": "text/x-python",
   "name": "python",
   "nbconvert_exporter": "python",
   "pygments_lexer": "ipython2",
   "version": "2.7.11"
  }
 },
 "nbformat": 4,
 "nbformat_minor": 0
}
