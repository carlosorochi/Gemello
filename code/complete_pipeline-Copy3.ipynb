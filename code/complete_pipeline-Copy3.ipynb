{
 "cells": [
  {
   "cell_type": "markdown",
   "metadata": {},
   "source": [
    "### Load data set with features"
   ]
  },
  {
   "cell_type": "code",
   "execution_count": 1,
   "metadata": {
    "collapsed": false
   },
   "outputs": [
    {
     "name": "stderr",
     "output_type": "stream",
     "text": [
      "Vendor:  Continuum Analytics, Inc.\n",
      "Package: mkl\n",
      "Message: trial mode expires in 23 days\n"
     ]
    }
   ],
   "source": [
    "from create_df import read_df\n",
    "df, dfc, all_homes, appliance_min, national_average = read_df()"
   ]
  },
  {
   "cell_type": "code",
   "execution_count": 2,
   "metadata": {
    "collapsed": false
   },
   "outputs": [],
   "source": [
    "import numpy as np\n",
    "import matplotlib.pyplot as plt\n",
    "%matplotlib inline\n",
    "plt.style.use('fivethirtyeight')"
   ]
  },
  {
   "cell_type": "code",
   "execution_count": 3,
   "metadata": {
    "collapsed": false
   },
   "outputs": [],
   "source": [
    "run all_functions.py"
   ]
  },
  {
   "cell_type": "code",
   "execution_count": 4,
   "metadata": {
    "collapsed": false
   },
   "outputs": [],
   "source": [
    "run features.py"
   ]
  },
  {
   "cell_type": "code",
   "execution_count": 6,
   "metadata": {
    "collapsed": false
   },
   "outputs": [],
   "source": [
    "from numba import autojit\n",
    "fof = autojit(find_optimal_features)"
   ]
  },
  {
   "cell_type": "code",
   "execution_count": 12,
   "metadata": {
    "collapsed": false
   },
   "outputs": [
    {
     "name": "stdout",
     "output_type": "stream",
     "text": [
      "%%%%%%%%%%%%%%%%%%%%%%%%%%%%%%%%%%%%%%%%\n",
      "dr\n",
      "%%%%%%%%%%%%%%%%%%%%%%%%%%%%%%%%%%%%%%%%\n",
      "********************\n",
      "All\n",
      "********************\n",
      "include: max_seasonal_weekly -> feature_subset: ['max_seasonal_weekly']. Accuracy: 39.2899122597\n",
      "include: total_occupants -> feature_subset: ['max_seasonal_weekly', 'total_occupants']. Accuracy: 43.4755511825\n",
      "include: aggregate_6 -> feature_subset: ['max_seasonal_weekly', 'total_occupants', 'aggregate_6']. Accuracy: 44.9639229676\n",
      "include: aggregate_12 -> feature_subset: ['max_seasonal_weekly', 'total_occupants', 'aggregate_6', 'aggregate_12']. Accuracy: 45.6314002183\n",
      "include: seasonal_energy_5 -> feature_subset: ['max_seasonal_weekly', 'total_occupants', 'aggregate_6', 'aggregate_12', 'seasonal_energy_5']. Accuracy: 46.4802308338\n",
      "include: aggregate_11 -> feature_subset: ['max_seasonal_weekly', 'total_occupants', 'aggregate_6', 'aggregate_12', 'seasonal_energy_5', 'aggregate_11']. Accuracy: 46.4802308338\n",
      "include: aggregate_2 -> feature_subset: ['max_seasonal_weekly', 'total_occupants', 'aggregate_6', 'aggregate_12', 'seasonal_energy_5', 'aggregate_11', 'aggregate_2']. Accuracy: 46.4802308338\n",
      "include: total_occupants -> feature_subset: ['total_occupants']. Accuracy: 41.3076681839\n",
      "include: seasonal_energy_6 -> feature_subset: ['total_occupants', 'seasonal_energy_6']. Accuracy: 43.8274457212\n",
      "include: fft_4 -> feature_subset: ['total_occupants', 'seasonal_energy_6', 'fft_4']. Accuracy: 44.346621185\n",
      "include: aggregate_1 -> feature_subset: ['total_occupants', 'seasonal_energy_6', 'fft_4', 'aggregate_1']. Accuracy: 46.3239701452\n",
      "include: disag_fridge -> feature_subset: ['total_occupants', 'seasonal_energy_6', 'fft_4', 'aggregate_1', 'disag_fridge']. Accuracy: 46.9865974578\n",
      "include: aggregate_3 -> feature_subset: ['total_occupants', 'seasonal_energy_6', 'fft_4', 'aggregate_1', 'disag_fridge', 'aggregate_3']. Accuracy: 47.3744447142\n",
      "include: gt_1000 -> feature_subset: ['total_occupants', 'seasonal_energy_6', 'fft_4', 'aggregate_1', 'disag_fridge', 'aggregate_3', 'gt_1000']. Accuracy: 47.4062604784\n",
      "include: total_occupants -> feature_subset: ['total_occupants']. Accuracy: 42.118723526\n",
      "include: seasonal_energy_8 -> feature_subset: ['total_occupants', 'seasonal_energy_8']. Accuracy: 43.4580897731\n",
      "include: max_seasonal_daily -> feature_subset: ['total_occupants', 'seasonal_energy_8', 'max_seasonal_daily']. Accuracy: 44.7951822922\n",
      "include: aggregate_1 -> feature_subset: ['total_occupants', 'seasonal_energy_8', 'max_seasonal_daily', 'aggregate_1']. Accuracy: 44.8091260643\n",
      "include: fft_4 -> feature_subset: ['total_occupants', 'seasonal_energy_8', 'max_seasonal_daily', 'aggregate_1', 'fft_4']. Accuracy: 44.8431400983\n",
      "include: seasonal_energy_7 -> feature_subset: ['total_occupants', 'seasonal_energy_8', 'max_seasonal_daily', 'aggregate_1', 'fft_4', 'seasonal_energy_7']. Accuracy: 45.7031683339\n",
      "include: aggregate_11 -> feature_subset: ['total_occupants', 'seasonal_energy_8', 'max_seasonal_daily', 'aggregate_1', 'fft_4', 'seasonal_energy_7', 'aggregate_11']. Accuracy: 45.2733675871\n",
      "include: cluster_big -> feature_subset: ['cluster_big']. Accuracy: 42.489235868\n",
      "include: disag_fridge -> feature_subset: ['cluster_big', 'disag_fridge']. Accuracy: 42.1522073968\n",
      "include: total_occupants -> feature_subset: ['cluster_big', 'disag_fridge', 'total_occupants']. Accuracy: 42.3860652012\n",
      "include: aggregate_12 -> feature_subset: ['cluster_big', 'disag_fridge', 'total_occupants', 'aggregate_12']. Accuracy: 43.4298417085\n",
      "include: gt_1000 -> feature_subset: ['cluster_big', 'disag_fridge', 'total_occupants', 'aggregate_12', 'gt_1000']. Accuracy: 43.8898581959\n",
      "include: lt_500 -> feature_subset: ['cluster_big', 'disag_fridge', 'total_occupants', 'aggregate_12', 'gt_1000', 'lt_500']. Accuracy: 43.5367823557\n",
      "include: num_rooms -> feature_subset: ['cluster_big', 'disag_fridge', 'total_occupants', 'aggregate_12', 'gt_1000', 'lt_500', 'num_rooms']. Accuracy: 42.9408085899\n",
      "include: disag_fridge -> feature_subset: ['disag_fridge']. Accuracy: 43.4854752763\n",
      "include: lt_500 -> feature_subset: ['disag_fridge', 'lt_500']. Accuracy: 43.6890691804\n",
      "include: aggregate_1 -> feature_subset: ['disag_fridge', 'lt_500', 'aggregate_1']. Accuracy: 43.8918804464\n",
      "include: bet_500_1000 -> feature_subset: ['disag_fridge', 'lt_500', 'aggregate_1', 'bet_500_1000']. Accuracy: 43.7535938876\n",
      "include: ratio_difference_min_max -> feature_subset: ['disag_fridge', 'lt_500', 'aggregate_1', 'bet_500_1000', 'ratio_difference_min_max']. Accuracy: 43.8158243039\n",
      "include: total_occupants -> feature_subset: ['disag_fridge', 'lt_500', 'aggregate_1', 'bet_500_1000', 'ratio_difference_min_max', 'total_occupants']. Accuracy: 43.5290048232\n",
      "include: max_seasonal_daily -> feature_subset: ['disag_fridge', 'lt_500', 'aggregate_1', 'bet_500_1000', 'ratio_difference_min_max', 'total_occupants', 'max_seasonal_daily']. Accuracy: 43.8374805596\n",
      "include: disag_fridge -> feature_subset: ['disag_fridge']. Accuracy: 43.0636154875\n",
      "include: seasonal_energy_7 -> feature_subset: ['disag_fridge', 'seasonal_energy_7']. Accuracy: 43.3498595608\n",
      "include: total_occupants -> feature_subset: ['disag_fridge', 'seasonal_energy_7', 'total_occupants']. Accuracy: 44.0348531393\n",
      "include: aggregate_10 -> feature_subset: ['disag_fridge', 'seasonal_energy_7', 'total_occupants', 'aggregate_10']. Accuracy: 45.0514370962\n",
      "include: aggregate_2 -> feature_subset: ['disag_fridge', 'seasonal_energy_7', 'total_occupants', 'aggregate_10', 'aggregate_2']. Accuracy: 45.6348272774\n",
      "include: aggregate_3 -> feature_subset: ['disag_fridge', 'seasonal_energy_7', 'total_occupants', 'aggregate_10', 'aggregate_2', 'aggregate_3']. Accuracy: 44.8450482552\n",
      "include: lt_500 -> feature_subset: ['disag_fridge', 'seasonal_energy_7', 'total_occupants', 'aggregate_10', 'aggregate_2', 'aggregate_3', 'lt_500']. Accuracy: 44.4560371892\n",
      "2 ['total_occupants', 'seasonal_energy_6', 'fft_4', 'aggregate_1', 'disag_fridge', 'aggregate_3', 'gt_1000'] 47.4062604784\n",
      "--------------------------------------------------------------------------------\n"
     ]
    },
    {
     "data": {
      "text/plain": [
       "({'dr': {'All': {1: {'accuracy': 46.480230833784702,\n",
       "     'f': ['max_seasonal_weekly',\n",
       "      'total_occupants',\n",
       "      'aggregate_6',\n",
       "      'aggregate_12',\n",
       "      'seasonal_energy_5']},\n",
       "    2: {'accuracy': 47.406260478373888,\n",
       "     'f': ['total_occupants',\n",
       "      'seasonal_energy_6',\n",
       "      'fft_4',\n",
       "      'aggregate_1',\n",
       "      'disag_fridge',\n",
       "      'aggregate_3',\n",
       "      'gt_1000']},\n",
       "    3: {'accuracy': 45.273367587084117,\n",
       "     'f': ['total_occupants',\n",
       "      'seasonal_energy_8',\n",
       "      'max_seasonal_daily',\n",
       "      'aggregate_1',\n",
       "      'fft_4',\n",
       "      'seasonal_energy_7',\n",
       "      'aggregate_11']},\n",
       "    4: {'accuracy': 43.132764272023316,\n",
       "     'f': ['cluster_big',\n",
       "      'disag_fridge',\n",
       "      'total_occupants',\n",
       "      'aggregate_12',\n",
       "      'gt_1000']},\n",
       "    5: {'accuracy': 43.891880446445406,\n",
       "     'f': ['disag_fridge', 'lt_500', 'aggregate_1']},\n",
       "    6: {'accuracy': 45.05143709615988,\n",
       "     'f': ['disag_fridge',\n",
       "      'seasonal_energy_7',\n",
       "      'total_occupants',\n",
       "      'aggregate_10']}}}},\n",
       " {'dr': {'All': {'accuracy': 47.406260478373888,\n",
       "    'f': ['total_occupants',\n",
       "     'seasonal_energy_6',\n",
       "     'fft_4',\n",
       "     'aggregate_1',\n",
       "     'disag_fridge',\n",
       "     'aggregate_3',\n",
       "     'gt_1000'],\n",
       "    'k': 2}}})"
      ]
     },
     "execution_count": 12,
     "metadata": {},
     "output_type": "execute_result"
    }
   ],
   "source": [
    "f=['max_seasonal_weekly', 'total_occupants', 'aggregate_6', 'aggregate_12', 'seasonal_energy_5']\n",
    "find_optimal_features(df, dfc, all_homes, appliance_min, national_average, [\"dr\"], {\"All\":feature_map[\"All\"]},\n",
    "                          NUM_NEIGHBOURS_MAX=7, F_length_max=7, metric=\"mean\",\n",
    "                          train_outlier=True, test_outlier=True, outlier_features=f, outlier_fraction=0.1,\n",
    "                     print_steps=True)"
   ]
  },
  {
   "cell_type": "code",
   "execution_count": null,
   "metadata": {
    "collapsed": true
   },
   "outputs": [],
   "source": [
    "find_outlier_test_homes(df,all_homes,  \"light\", optimal_dict['light']['All']['f'], outliers_fraction=0.1)"
   ]
  },
  {
   "cell_type": "code",
   "execution_count": 1,
   "metadata": {
    "collapsed": false
   },
   "outputs": [
    {
     "ename": "NameError",
     "evalue": "name 'find_outlier_test_homes' is not defined",
     "output_type": "error",
     "traceback": [
      "\u001b[0;31m---------------------------------------------------------------------------\u001b[0m",
      "\u001b[0;31mNameError\u001b[0m                                 Traceback (most recent call last)",
      "\u001b[0;32m<ipython-input-1-1fa794ca00af>\u001b[0m in \u001b[0;36m<module>\u001b[0;34m()\u001b[0m\n\u001b[0;32m----> 1\u001b[0;31m \u001b[0mfind_outlier_test_homes\u001b[0m\u001b[0;34m(\u001b[0m\u001b[0mdf\u001b[0m\u001b[0;34m,\u001b[0m\u001b[0mall_homes\u001b[0m\u001b[0;34m,\u001b[0m  \u001b[0;34m\"light\"\u001b[0m\u001b[0;34m,\u001b[0m \u001b[0;34m[\u001b[0m\u001b[0;34m'area'\u001b[0m\u001b[0;34m,\u001b[0m \u001b[0;34m'aggregate_3'\u001b[0m\u001b[0;34m,\u001b[0m \u001b[0;34m'aggregate_7'\u001b[0m\u001b[0;34m]\u001b[0m\u001b[0;34m,\u001b[0m \u001b[0moutliers_fraction\u001b[0m\u001b[0;34m=\u001b[0m\u001b[0;36m0.1\u001b[0m\u001b[0;34m)\u001b[0m\u001b[0;34m\u001b[0m\u001b[0m\n\u001b[0m",
      "\u001b[0;31mNameError\u001b[0m: name 'find_outlier_test_homes' is not defined"
     ]
    }
   ],
   "source": [
    "find_outlier_test_homes(df,all_homes,  \"light\", ['area', 'aggregate_3', 'aggregate_7'], outliers_fraction=0.1)"
   ]
  },
  {
   "cell_type": "code",
   "execution_count": null,
   "metadata": {
    "collapsed": true
   },
   "outputs": [],
   "source": [
    "criterion_function(df, dfc, all_homes, appliance_min, national_average,\n",
    "                       appliance=\"light\", feature=f, NUM_NEIGHBOURS=3,\n",
    "                       train_outlier=True, test_outlier=True, outlier_features=f, outlier_fraction=0.1,\n",
    "                       metric=\"mean\")"
   ]
  },
  {
   "cell_type": "code",
   "execution_count": null,
   "metadata": {
    "collapsed": true
   },
   "outputs": [],
   "source": [
    "criterion_function(df, dfc, all_homes, appliance_min, national_average,\n",
    "                       appliance=\"light\", feature=f, NUM_NEIGHBOURS=3,\n",
    "                       train_outlier=True, test_outlier=True, outlier_features=f, outlier_fraction=0.1,\n",
    "                       metric=\"median\")"
   ]
  },
  {
   "cell_type": "code",
   "execution_count": 3,
   "metadata": {
    "collapsed": true
   },
   "outputs": [],
   "source": [
    "def find_precision_recall_outlier():\n",
    "    out = {}\n",
    "    for appliance in all_homes.keys():\n",
    "        true_outliers = all_true_outliers(df, all_homes, appliance, outlier_fraction=0.1)\n",
    "        pred = find_outlier_test_homes(df,all_homes, appliance, optimal_dict[appliance]['All']['f'], outliers_fraction=0.1)\n",
    "        intersection = np.intersect1d(true_outliers, pred)\n",
    "        precision = len(intersection)*1./len(pred)\n",
    "        recall = len(intersection)*1./len(true_outliers)\n",
    "        out[appliance] = {\"precision\":precision, \"recall\":recall}\n",
    "    return out\n"
   ]
  },
  {
   "cell_type": "code",
   "execution_count": 235,
   "metadata": {
    "collapsed": false
   },
   "outputs": [
    {
     "name": "stdout",
     "output_type": "stream",
     "text": [
      "%%%%%%%%%%%%%%%%%%%%%%%%%%%%%%%%%%%%%%%%\n",
      "dr\n",
      "%%%%%%%%%%%%%%%%%%%%%%%%%%%%%%%%%%%%%%%%\n",
      "********************\n",
      "All\n",
      "********************\n"
     ]
    },
    {
     "ename": "KeyError",
     "evalue": "\"['fraction_8' 'bet_500_1000' 'fraction_11' 'max_seasonal_12' 'aggregate_11'\\n 'num_rooms' 'max_seasonal_daily'] not in index\"",
     "output_type": "error",
     "traceback": [
      "\u001b[0;31m---------------------------------------------------------------------------\u001b[0m",
      "\u001b[0;31mKeyError\u001b[0m                                  Traceback (most recent call last)",
      "\u001b[0;32m<ipython-input-235-77370971a726>\u001b[0m in \u001b[0;36m<module>\u001b[0;34m()\u001b[0m\n\u001b[1;32m      8\u001b[0m  \u001b[0;34m'num_rooms'\u001b[0m\u001b[0;34m,\u001b[0m\u001b[0;34m\u001b[0m\u001b[0m\n\u001b[1;32m      9\u001b[0m  'max_seasonal_daily'], outlier_fraction=0.1,\n\u001b[0;32m---> 10\u001b[0;31m                           print_steps=True)\n\u001b[0m",
      "\u001b[0;32m/Users/nipunbatra/git/monthly-disaggregation/code/all_functions.py\u001b[0m in \u001b[0;36mfind_optimal_features\u001b[0;34m(df, dfc, all_homes, appliance_min, national_average, appliance_list, feature_map, NUM_NEIGHBOURS_MAX, F_length_max, metric, train_outlier, test_outlier, outlier_features, outlier_fraction, print_steps)\u001b[0m\n\u001b[1;32m    263\u001b[0m             \u001b[0;32mfor\u001b[0m \u001b[0mNUM_NEIGHBOURS\u001b[0m \u001b[0;32min\u001b[0m \u001b[0mrange\u001b[0m\u001b[0;34m(\u001b[0m\u001b[0;36m1\u001b[0m\u001b[0;34m,\u001b[0m \u001b[0mNUM_NEIGHBOURS_MAX\u001b[0m\u001b[0;34m)\u001b[0m\u001b[0;34m:\u001b[0m\u001b[0;34m\u001b[0m\u001b[0m\n\u001b[1;32m    264\u001b[0m                 \u001b[0mftc\u001b[0m \u001b[0;34m=\u001b[0m \u001b[0mdeepcopy\u001b[0m\u001b[0;34m(\u001b[0m\u001b[0mft\u001b[0m\u001b[0;34m)\u001b[0m\u001b[0;34m\u001b[0m\u001b[0m\n\u001b[0;32m--> 265\u001b[0;31m                 \u001b[0mout\u001b[0m\u001b[0;34m[\u001b[0m\u001b[0mappliance\u001b[0m\u001b[0;34m]\u001b[0m\u001b[0;34m[\u001b[0m\u001b[0mfeature_name\u001b[0m\u001b[0;34m]\u001b[0m\u001b[0;34m[\u001b[0m\u001b[0mNUM_NEIGHBOURS\u001b[0m\u001b[0;34m]\u001b[0m \u001b[0;34m=\u001b[0m \u001b[0;34m{\u001b[0m\u001b[0;34m}\u001b[0m\u001b[0;34m\u001b[0m\u001b[0m\n\u001b[0m\u001b[1;32m    266\u001b[0m \u001b[0;34m\u001b[0m\u001b[0m\n\u001b[1;32m    267\u001b[0m                 best = seq_forw_select(df, dfc, all_homes, appliance_min, national_average,\n",
      "\u001b[0;32m/Users/nipunbatra/git/monthly-disaggregation/code/all_functions.py\u001b[0m in \u001b[0;36mseq_forw_select\u001b[0;34m(df, dfc, all_homes, appliance_min, national_average, appliance, features, NUM_NEIGHBOURS, train_outlier, test_outlier, outlier_features, outlier_fraction, metric, max_k, criterion_func, print_steps)\u001b[0m\n\u001b[1;32m    160\u001b[0m         \u001b[0mmax_k\u001b[0m \u001b[0;34m=\u001b[0m \u001b[0md\u001b[0m\u001b[0;34m\u001b[0m\u001b[0m\n\u001b[1;32m    161\u001b[0m     \u001b[0;32mwhile\u001b[0m \u001b[0mTrue\u001b[0m\u001b[0;34m:\u001b[0m\u001b[0;34m\u001b[0m\u001b[0m\n\u001b[0;32m--> 162\u001b[0;31m \u001b[0;34m\u001b[0m\u001b[0m\n\u001b[0m\u001b[1;32m    163\u001b[0m         \u001b[0;31m# Inclusion step\u001b[0m\u001b[0;34m\u001b[0m\u001b[0;34m\u001b[0m\u001b[0m\n\u001b[1;32m    164\u001b[0m \u001b[0;34m\u001b[0m\u001b[0m\n",
      "\u001b[0;32m/Users/nipunbatra/git/monthly-disaggregation/code/all_functions.py\u001b[0m in \u001b[0;36mcriterion_function\u001b[0;34m(df, dfc, all_homes, appliance_min, national_average, appliance, feature, NUM_NEIGHBOURS, train_outlier, test_outlier, outlier_features, outlier_fraction, metric)\u001b[0m\n\u001b[1;32m    109\u001b[0m                        metric=\"median\"):\n\u001b[1;32m    110\u001b[0m \u001b[0;34m\u001b[0m\u001b[0m\n\u001b[0;32m--> 111\u001b[0;31m     temp = create_predictions(df, dfc, all_homes, appliance_min, national_average,\n\u001b[0m\u001b[1;32m    112\u001b[0m                               \u001b[0mappliance\u001b[0m\u001b[0;34m,\u001b[0m \u001b[0mfeature\u001b[0m\u001b[0;34m,\u001b[0m \u001b[0mNUM_NEIGHBOURS\u001b[0m\u001b[0;34m,\u001b[0m \u001b[0mtrain_outlier\u001b[0m\u001b[0;34m,\u001b[0m \u001b[0mtest_outlier\u001b[0m\u001b[0;34m,\u001b[0m \u001b[0moutlier_features\u001b[0m\u001b[0;34m,\u001b[0m\u001b[0;34m\u001b[0m\u001b[0m\n\u001b[1;32m    113\u001b[0m                               outlier_fraction)\n",
      "\u001b[0;32m/Users/nipunbatra/git/monthly-disaggregation/code/all_functions.py\u001b[0m in \u001b[0;36mcreate_predictions\u001b[0;34m(df, dfc, all_homes, appliance_min, national_average, appliance, feature, NUM_NEIGHBOURS, train_outlier, test_outlier, outlier_features, outlier_fraction)\u001b[0m\n\u001b[1;32m     30\u001b[0m         \u001b[0;32melse\u001b[0m\u001b[0;34m:\u001b[0m\u001b[0;34m\u001b[0m\u001b[0m\n\u001b[1;32m     31\u001b[0m             outlier_test_homes = find_outlier_test_homes(df,all_homes,  appliance,\n\u001b[0;32m---> 32\u001b[0;31m                                                          outlier_features, outliers_fraction=0.1)\n\u001b[0m\u001b[1;32m     33\u001b[0m \u001b[0;34m\u001b[0m\u001b[0m\n\u001b[1;32m     34\u001b[0m \u001b[0;34m\u001b[0m\u001b[0m\n",
      "\u001b[0;32m/Users/nipunbatra/git/monthly-disaggregation/code/all_functions.py\u001b[0m in \u001b[0;36mfind_outlier_test_homes\u001b[0;34m(df, all_homes, appliance, outlier_features, outliers_fraction)\u001b[0m\n\u001b[1;32m    295\u001b[0m     \u001b[0;32mreturn\u001b[0m \u001b[0mout\u001b[0m\u001b[0;34m,\u001b[0m \u001b[0moptimal_dict\u001b[0m\u001b[0;34m\u001b[0m\u001b[0m\n\u001b[1;32m    296\u001b[0m \u001b[0;34m\u001b[0m\u001b[0m\n\u001b[0;32m--> 297\u001b[0;31m \u001b[0;32mdef\u001b[0m \u001b[0mfind_outlier_test_homes\u001b[0m\u001b[0;34m(\u001b[0m\u001b[0mdf\u001b[0m\u001b[0;34m,\u001b[0m\u001b[0mall_homes\u001b[0m\u001b[0;34m,\u001b[0m  \u001b[0mappliance\u001b[0m\u001b[0;34m,\u001b[0m \u001b[0moutlier_features\u001b[0m\u001b[0;34m,\u001b[0m \u001b[0moutliers_fraction\u001b[0m\u001b[0;34m=\u001b[0m\u001b[0;36m0.1\u001b[0m\u001b[0;34m)\u001b[0m\u001b[0;34m:\u001b[0m\u001b[0;34m\u001b[0m\u001b[0m\n\u001b[0m\u001b[1;32m    298\u001b[0m     \u001b[0;32mfrom\u001b[0m \u001b[0mscipy\u001b[0m \u001b[0;32mimport\u001b[0m \u001b[0mstats\u001b[0m\u001b[0;34m\u001b[0m\u001b[0m\n\u001b[1;32m    299\u001b[0m \u001b[0;34m\u001b[0m\u001b[0m\n",
      "\u001b[0;32m/Users/nipunbatra/anaconda/lib/python2.7/site-packages/pandas/core/frame.pyc\u001b[0m in \u001b[0;36m__getitem__\u001b[0;34m(self, key)\u001b[0m\n\u001b[1;32m   1789\u001b[0m         \u001b[0;32mif\u001b[0m \u001b[0misinstance\u001b[0m\u001b[0;34m(\u001b[0m\u001b[0mkey\u001b[0m\u001b[0;34m,\u001b[0m \u001b[0;34m(\u001b[0m\u001b[0mSeries\u001b[0m\u001b[0;34m,\u001b[0m \u001b[0mnp\u001b[0m\u001b[0;34m.\u001b[0m\u001b[0mndarray\u001b[0m\u001b[0;34m,\u001b[0m \u001b[0mIndex\u001b[0m\u001b[0;34m,\u001b[0m \u001b[0mlist\u001b[0m\u001b[0;34m)\u001b[0m\u001b[0;34m)\u001b[0m\u001b[0;34m:\u001b[0m\u001b[0;34m\u001b[0m\u001b[0m\n\u001b[1;32m   1790\u001b[0m             \u001b[0;31m# either boolean or fancy integer index\u001b[0m\u001b[0;34m\u001b[0m\u001b[0;34m\u001b[0m\u001b[0m\n\u001b[0;32m-> 1791\u001b[0;31m             \u001b[0;32mreturn\u001b[0m \u001b[0mself\u001b[0m\u001b[0;34m.\u001b[0m\u001b[0m_getitem_array\u001b[0m\u001b[0;34m(\u001b[0m\u001b[0mkey\u001b[0m\u001b[0;34m)\u001b[0m\u001b[0;34m\u001b[0m\u001b[0m\n\u001b[0m\u001b[1;32m   1792\u001b[0m         \u001b[0;32melif\u001b[0m \u001b[0misinstance\u001b[0m\u001b[0;34m(\u001b[0m\u001b[0mkey\u001b[0m\u001b[0;34m,\u001b[0m \u001b[0mDataFrame\u001b[0m\u001b[0;34m)\u001b[0m\u001b[0;34m:\u001b[0m\u001b[0;34m\u001b[0m\u001b[0m\n\u001b[1;32m   1793\u001b[0m             \u001b[0;32mreturn\u001b[0m \u001b[0mself\u001b[0m\u001b[0;34m.\u001b[0m\u001b[0m_getitem_frame\u001b[0m\u001b[0;34m(\u001b[0m\u001b[0mkey\u001b[0m\u001b[0;34m)\u001b[0m\u001b[0;34m\u001b[0m\u001b[0m\n",
      "\u001b[0;32m/Users/nipunbatra/anaconda/lib/python2.7/site-packages/pandas/core/frame.pyc\u001b[0m in \u001b[0;36m_getitem_array\u001b[0;34m(self, key)\u001b[0m\n\u001b[1;32m   1833\u001b[0m             \u001b[0;32mreturn\u001b[0m \u001b[0mself\u001b[0m\u001b[0;34m.\u001b[0m\u001b[0mtake\u001b[0m\u001b[0;34m(\u001b[0m\u001b[0mindexer\u001b[0m\u001b[0;34m,\u001b[0m \u001b[0maxis\u001b[0m\u001b[0;34m=\u001b[0m\u001b[0;36m0\u001b[0m\u001b[0;34m,\u001b[0m \u001b[0mconvert\u001b[0m\u001b[0;34m=\u001b[0m\u001b[0mFalse\u001b[0m\u001b[0;34m)\u001b[0m\u001b[0;34m\u001b[0m\u001b[0m\n\u001b[1;32m   1834\u001b[0m         \u001b[0;32melse\u001b[0m\u001b[0;34m:\u001b[0m\u001b[0;34m\u001b[0m\u001b[0m\n\u001b[0;32m-> 1835\u001b[0;31m             \u001b[0mindexer\u001b[0m \u001b[0;34m=\u001b[0m \u001b[0mself\u001b[0m\u001b[0;34m.\u001b[0m\u001b[0mix\u001b[0m\u001b[0;34m.\u001b[0m\u001b[0m_convert_to_indexer\u001b[0m\u001b[0;34m(\u001b[0m\u001b[0mkey\u001b[0m\u001b[0;34m,\u001b[0m \u001b[0maxis\u001b[0m\u001b[0;34m=\u001b[0m\u001b[0;36m1\u001b[0m\u001b[0;34m)\u001b[0m\u001b[0;34m\u001b[0m\u001b[0m\n\u001b[0m\u001b[1;32m   1836\u001b[0m             \u001b[0;32mreturn\u001b[0m \u001b[0mself\u001b[0m\u001b[0;34m.\u001b[0m\u001b[0mtake\u001b[0m\u001b[0;34m(\u001b[0m\u001b[0mindexer\u001b[0m\u001b[0;34m,\u001b[0m \u001b[0maxis\u001b[0m\u001b[0;34m=\u001b[0m\u001b[0;36m1\u001b[0m\u001b[0;34m,\u001b[0m \u001b[0mconvert\u001b[0m\u001b[0;34m=\u001b[0m\u001b[0mTrue\u001b[0m\u001b[0;34m)\u001b[0m\u001b[0;34m\u001b[0m\u001b[0m\n\u001b[1;32m   1837\u001b[0m \u001b[0;34m\u001b[0m\u001b[0m\n",
      "\u001b[0;32m/Users/nipunbatra/anaconda/lib/python2.7/site-packages/pandas/core/indexing.pyc\u001b[0m in \u001b[0;36m_convert_to_indexer\u001b[0;34m(self, obj, axis, is_setter)\u001b[0m\n\u001b[1;32m   1110\u001b[0m                 \u001b[0mmask\u001b[0m \u001b[0;34m=\u001b[0m \u001b[0mcheck\u001b[0m \u001b[0;34m==\u001b[0m \u001b[0;34m-\u001b[0m\u001b[0;36m1\u001b[0m\u001b[0;34m\u001b[0m\u001b[0m\n\u001b[1;32m   1111\u001b[0m                 \u001b[0;32mif\u001b[0m \u001b[0mmask\u001b[0m\u001b[0;34m.\u001b[0m\u001b[0many\u001b[0m\u001b[0;34m(\u001b[0m\u001b[0;34m)\u001b[0m\u001b[0;34m:\u001b[0m\u001b[0;34m\u001b[0m\u001b[0m\n\u001b[0;32m-> 1112\u001b[0;31m                     \u001b[0;32mraise\u001b[0m \u001b[0mKeyError\u001b[0m\u001b[0;34m(\u001b[0m\u001b[0;34m'%s not in index'\u001b[0m \u001b[0;34m%\u001b[0m \u001b[0mobjarr\u001b[0m\u001b[0;34m[\u001b[0m\u001b[0mmask\u001b[0m\u001b[0;34m]\u001b[0m\u001b[0;34m)\u001b[0m\u001b[0;34m\u001b[0m\u001b[0m\n\u001b[0m\u001b[1;32m   1113\u001b[0m \u001b[0;34m\u001b[0m\u001b[0m\n\u001b[1;32m   1114\u001b[0m                 \u001b[0;32mreturn\u001b[0m \u001b[0m_values_from_object\u001b[0m\u001b[0;34m(\u001b[0m\u001b[0mindexer\u001b[0m\u001b[0;34m)\u001b[0m\u001b[0;34m\u001b[0m\u001b[0m\n",
      "\u001b[0;31mKeyError\u001b[0m: \"['fraction_8' 'bet_500_1000' 'fraction_11' 'max_seasonal_12' 'aggregate_11'\\n 'num_rooms' 'max_seasonal_daily'] not in index\""
     ]
    }
   ],
   "source": [
    "find_optimal_features(df, dfc, all_homes, appliance_min, national_average, [\"dr\"], {\"All\":feature_map['All']},\n",
    "                          NUM_NEIGHBOURS_MAX=7, F_length_max=7, metric=\"mean\",\n",
    "                          train_outlier=True, test_outlier=True, outlier_features=['fraction_8',\n",
    " 'bet_500_1000',\n",
    " 'fraction_11',\n",
    " 'max_seasonal_12',\n",
    " 'aggregate_11',\n",
    " 'num_rooms',\n",
    " 'max_seasonal_daily'], outlier_fraction=0.1,\n",
    "                          print_steps=True)"
   ]
  },
  {
   "cell_type": "code",
   "execution_count": 234,
   "metadata": {
    "collapsed": false
   },
   "outputs": [
    {
     "data": {
      "text/plain": [
       "['fraction_8',\n",
       " 'bet_500_1000',\n",
       " 'fraction_11',\n",
       " 'max_seasonal_12',\n",
       " 'aggregate_11',\n",
       " 'num_rooms',\n",
       " 'max_seasonal_daily']"
      ]
     },
     "execution_count": 234,
     "metadata": {},
     "output_type": "execute_result"
    }
   ],
   "source": [
    "[str(x).replace(\"\\n\",\"\") for x in optimal_dict['dr']['All']['f']]"
   ]
  },
  {
   "cell_type": "code",
   "execution_count": 246,
   "metadata": {
    "collapsed": false
   },
   "outputs": [
    {
     "name": "stdout",
     "output_type": "stream",
     "text": [
      "%%%%%%%%%%%%%%%%%%%%%%%%%%%%%%%%%%%%%%%%\n",
      "light\n",
      "%%%%%%%%%%%%%%%%%%%%%%%%%%%%%%%%%%%%%%%%\n",
      "********************\n",
      "All\n",
      "********************\n",
      "include: bet_500_1000 -> feature_subset: ['bet_500_1000']. Accuracy: 47.4764389822\n",
      "include: autocorr -> feature_subset: ['bet_500_1000', 'autocorr']. Accuracy: 47.471735883\n",
      "include: ratio_min_max -> feature_subset: ['bet_500_1000', 'autocorr', 'ratio_min_max']. Accuracy: 43.1353158143\n",
      "include: cluster_big -> feature_subset: ['bet_500_1000', 'autocorr', 'ratio_min_max', 'cluster_big']. Accuracy: 44.3530534463\n",
      "include: aggregate_2 -> feature_subset: ['bet_500_1000', 'autocorr', 'ratio_min_max', 'cluster_big', 'aggregate_2']. Accuracy: 47.9414011308\n",
      "include: ratio_difference_min_max -> feature_subset: ['bet_500_1000', 'autocorr', 'ratio_min_max', 'cluster_big', 'aggregate_2', 'ratio_difference_min_max']. Accuracy: 51.5270836852\n",
      "include: fft_2 -> feature_subset: ['bet_500_1000', 'autocorr', 'ratio_min_max', 'cluster_big', 'aggregate_2', 'ratio_difference_min_max', 'fft_2']. Accuracy: 52.1189945502\n",
      "include: area -> feature_subset: ['area']. Accuracy: 50.1520977049\n",
      "include: aggregate_7 -> feature_subset: ['area', 'aggregate_7']. Accuracy: 54.7920820598\n",
      "include: bet_500_1000 -> feature_subset: ['area', 'aggregate_7', 'bet_500_1000']. Accuracy: 54.7920820598\n",
      "include: aggregate_5 -> feature_subset: ['area', 'aggregate_7', 'bet_500_1000', 'aggregate_5']. Accuracy: 53.8941853366\n",
      "include: gt_1000 -> feature_subset: ['area', 'aggregate_7', 'bet_500_1000', 'aggregate_5', 'gt_1000']. Accuracy: 54.7983517463\n",
      "include: aggregate_2 -> feature_subset: ['area', 'aggregate_7', 'bet_500_1000', 'aggregate_5', 'gt_1000', 'aggregate_2']. Accuracy: 54.7983517463\n",
      "include: disag_fridge -> feature_subset: ['area', 'aggregate_7', 'bet_500_1000', 'aggregate_5', 'gt_1000', 'aggregate_2', 'disag_fridge']. Accuracy: 53.2314280616\n",
      "include: area -> feature_subset: ['area']. Accuracy: 50.2927499654\n",
      "include: aggregate_3 -> feature_subset: ['area', 'aggregate_3']. Accuracy: 52.9268672806\n",
      "include: aggregate_7 -> feature_subset: ['area', 'aggregate_3', 'aggregate_7']. Accuracy: 54.1043807472\n",
      "include: lt_500 -> feature_subset: ['area', 'aggregate_3', 'aggregate_7', 'lt_500']. Accuracy: 55.4366263372\n",
      "include: bet_500_1000 -> feature_subset: ['area', 'aggregate_3', 'aggregate_7', 'lt_500', 'bet_500_1000']. Accuracy: 55.4366263372\n",
      "include: aggregate_5 -> feature_subset: ['area', 'aggregate_3', 'aggregate_7', 'lt_500', 'bet_500_1000', 'aggregate_5']. Accuracy: 56.0888948512\n",
      "include: gt_1000 -> feature_subset: ['area', 'aggregate_3', 'aggregate_7', 'lt_500', 'bet_500_1000', 'aggregate_5', 'gt_1000']. Accuracy: 55.4366263372\n",
      "include: area -> feature_subset: ['area']. Accuracy: 48.3942589166\n",
      "include: aggregate_3 -> feature_subset: ['area', 'aggregate_3']. Accuracy: 54.9378528615\n",
      "include: aggregate_10 -> feature_subset: ['area', 'aggregate_3', 'aggregate_10']. Accuracy: 55.5323402249\n",
      "include: bet_500_1000 -> feature_subset: ['area', 'aggregate_3', 'aggregate_10', 'bet_500_1000']. Accuracy: 55.7299766587\n",
      "include: lt_500 -> feature_subset: ['area', 'aggregate_3', 'aggregate_10', 'bet_500_1000', 'lt_500']. Accuracy: 54.7168021143\n",
      "include: aggregate_1 -> feature_subset: ['area', 'aggregate_3', 'aggregate_10', 'bet_500_1000', 'lt_500', 'aggregate_1']. Accuracy: 54.5063281197\n",
      "include: gt_1000 -> feature_subset: ['area', 'aggregate_3', 'aggregate_10', 'bet_500_1000', 'lt_500', 'aggregate_1', 'gt_1000']. Accuracy: 53.0022677394\n",
      "include: area -> feature_subset: ['area']. Accuracy: 53.3342896679\n",
      "include: bet_500_1000 -> feature_subset: ['area', 'bet_500_1000']. Accuracy: 54.9676176607\n",
      "include: aggregate_6 -> feature_subset: ['area', 'bet_500_1000', 'aggregate_6']. Accuracy: 54.4166245784\n",
      "include: aggregate_10 -> feature_subset: ['area', 'bet_500_1000', 'aggregate_6', 'aggregate_10']. Accuracy: 54.8336214613\n",
      "include: lt_500 -> feature_subset: ['area', 'bet_500_1000', 'aggregate_6', 'aggregate_10', 'lt_500']. Accuracy: 54.0299331565\n",
      "include: aggregate_5 -> feature_subset: ['area', 'bet_500_1000', 'aggregate_6', 'aggregate_10', 'lt_500', 'aggregate_5']. Accuracy: 55.3303315985\n",
      "include: aggregate_9 -> feature_subset: ['area', 'bet_500_1000', 'aggregate_6', 'aggregate_10', 'lt_500', 'aggregate_5', 'aggregate_9']. Accuracy: 53.4282871149\n",
      "include: area -> feature_subset: ['area']. Accuracy: 52.7797930665\n",
      "include: bet_500_1000 -> feature_subset: ['area', 'bet_500_1000']. Accuracy: 53.1572186086\n",
      "include: aggregate_9 -> feature_subset: ['area', 'bet_500_1000', 'aggregate_9']. Accuracy: 54.0475814663\n",
      "include: aggregate_5 -> feature_subset: ['area', 'bet_500_1000', 'aggregate_9', 'aggregate_5']. Accuracy: 52.4041486049\n",
      "include: lt_500 -> feature_subset: ['area', 'bet_500_1000', 'aggregate_9', 'aggregate_5', 'lt_500']. Accuracy: 52.1973879448\n",
      "include: aggregate_6 -> feature_subset: ['area', 'bet_500_1000', 'aggregate_9', 'aggregate_5', 'lt_500', 'aggregate_6']. Accuracy: 50.792029857\n",
      "include: aggregate_10 -> feature_subset: ['area', 'bet_500_1000', 'aggregate_9', 'aggregate_5', 'lt_500', 'aggregate_6', 'aggregate_10']. Accuracy: 50.735569024\n",
      "3 ['area', 'aggregate_3', 'aggregate_7', 'lt_500', 'bet_500_1000', 'aggregate_5'] 56.0888948512\n",
      "--------------------------------------------------------------------------------\n",
      "%%%%%%%%%%%%%%%%%%%%%%%%%%%%%%%%%%%%%%%%\n",
      "dw\n",
      "%%%%%%%%%%%%%%%%%%%%%%%%%%%%%%%%%%%%%%%%\n",
      "********************\n",
      "All\n",
      "********************\n",
      "include: aggregate_6 -> feature_subset: ['aggregate_6']. Accuracy: 40.5332385363\n",
      "include: temperature_corr -> feature_subset: ['aggregate_6', 'temperature_corr']. Accuracy: 41.1182521845\n",
      "include: fft_2 -> feature_subset: ['aggregate_6', 'temperature_corr', 'fft_2']. Accuracy: 44.6400306688\n",
      "include: total_occupants -> feature_subset: ['aggregate_6', 'temperature_corr', 'fft_2', 'total_occupants']. Accuracy: 47.0535939974\n",
      "include: aggregate_10 -> feature_subset: ['aggregate_6', 'temperature_corr', 'fft_2', 'total_occupants', 'aggregate_10']. Accuracy: 47.9036432125\n",
      "include: aggregate_1 -> feature_subset: ['aggregate_6', 'temperature_corr', 'fft_2', 'total_occupants', 'aggregate_10', 'aggregate_1']. Accuracy: 48.3398925665\n",
      "include: fft_4 -> feature_subset: ['aggregate_6', 'temperature_corr', 'fft_2', 'total_occupants', 'aggregate_10', 'aggregate_1', 'fft_4']. Accuracy: 49.0836005336\n",
      "include: temperature_corr -> feature_subset: ['temperature_corr']. Accuracy: 42.7165397666\n",
      "include: fft_2 -> feature_subset: ['temperature_corr', 'fft_2']. Accuracy: 48.6017118755\n",
      "include: fft_1 -> feature_subset: ['temperature_corr', 'fft_2', 'fft_1']. Accuracy: 51.7851885104\n",
      "include: aggregate_9 -> feature_subset: ['temperature_corr', 'fft_2', 'fft_1', 'aggregate_9']. Accuracy: 51.8891223044\n",
      "include: aggregate_5 -> feature_subset: ['temperature_corr', 'fft_2', 'fft_1', 'aggregate_9', 'aggregate_5']. Accuracy: 52.2455594696\n",
      "include: difference_min_max -> feature_subset: ['temperature_corr', 'fft_2', 'fft_1', 'aggregate_9', 'aggregate_5', 'difference_min_max']. Accuracy: 54.545307917\n",
      "include: aggregate_4 -> feature_subset: ['temperature_corr', 'fft_2', 'fft_1', 'aggregate_9', 'aggregate_5', 'difference_min_max', 'aggregate_4']. Accuracy: 50.9704690487\n",
      "include: aggregate_8 -> feature_subset: ['aggregate_8']. Accuracy: 43.0950300096\n",
      "include: aggregate_6 -> feature_subset: ['aggregate_8', 'aggregate_6']. Accuracy: 43.8088961784\n",
      "include: temperature_corr -> feature_subset: ['aggregate_8', 'aggregate_6', 'temperature_corr']. Accuracy: 46.4241759984\n",
      "include: aggregate_1 -> feature_subset: ['aggregate_8', 'aggregate_6', 'temperature_corr', 'aggregate_1']. Accuracy: 48.3819171213\n",
      "include: bet_500_1000 -> feature_subset: ['aggregate_8', 'aggregate_6', 'temperature_corr', 'aggregate_1', 'bet_500_1000']. Accuracy: 48.3819171213\n",
      "include: gt_1000 -> feature_subset: ['aggregate_8', 'aggregate_6', 'temperature_corr', 'aggregate_1', 'bet_500_1000', 'gt_1000']. Accuracy: 46.2156896492\n",
      "include: autocorr -> feature_subset: ['aggregate_8', 'aggregate_6', 'temperature_corr', 'aggregate_1', 'bet_500_1000', 'gt_1000', 'autocorr']. Accuracy: 43.8545676151\n",
      "include: aggregate_12 -> feature_subset: ['aggregate_12']. Accuracy: 45.3430286833\n",
      "include: aggregate_1 -> feature_subset: ['aggregate_12', 'aggregate_1']. Accuracy: 46.2547392063\n",
      "include: bet_500_1000 -> feature_subset: ['aggregate_12', 'aggregate_1', 'bet_500_1000']. Accuracy: 45.5394235104\n",
      "include: fft_2 -> feature_subset: ['aggregate_12', 'aggregate_1', 'bet_500_1000', 'fft_2']. Accuracy: 43.7968113212\n",
      "include: lt_500 -> feature_subset: ['aggregate_12', 'aggregate_1', 'bet_500_1000', 'fft_2', 'lt_500']. Accuracy: 45.2734584151\n",
      "include: aggregate_3 -> feature_subset: ['aggregate_12', 'aggregate_1', 'bet_500_1000', 'fft_2', 'lt_500', 'aggregate_3']. Accuracy: 44.890188154\n",
      "include: temperature_corr -> feature_subset: ['aggregate_12', 'aggregate_1', 'bet_500_1000', 'fft_2', 'lt_500', 'aggregate_3', 'temperature_corr']. Accuracy: 44.2534963129\n",
      "include: aggregate_10 -> feature_subset: ['aggregate_10']. Accuracy: 46.0135885135\n",
      "include: fft_2 -> feature_subset: ['aggregate_10', 'fft_2']. Accuracy: 44.4388932034\n",
      "include: aggregate_6 -> feature_subset: ['aggregate_10', 'fft_2', 'aggregate_6']. Accuracy: 44.753917057\n",
      "include: aggregate_12 -> feature_subset: ['aggregate_10', 'fft_2', 'aggregate_6', 'aggregate_12']. Accuracy: 45.5871138499\n",
      "include: bet_500_1000 -> feature_subset: ['aggregate_10', 'fft_2', 'aggregate_6', 'aggregate_12', 'bet_500_1000']. Accuracy: 45.5871138499\n",
      "include: aggregate_9 -> feature_subset: ['aggregate_10', 'fft_2', 'aggregate_6', 'aggregate_12', 'bet_500_1000', 'aggregate_9']. Accuracy: 44.7941511209\n",
      "include: max_seasonal_daily -> feature_subset: ['aggregate_10', 'fft_2', 'aggregate_6', 'aggregate_12', 'bet_500_1000', 'aggregate_9', 'max_seasonal_daily']. Accuracy: 44.9356536004\n",
      "include: aggregate_6 -> feature_subset: ['aggregate_6']. Accuracy: 44.0185990697\n",
      "include: cluster_small -> feature_subset: ['aggregate_6', 'cluster_small']. Accuracy: 46.3132281855\n",
      "include: difference_min_max -> feature_subset: ['aggregate_6', 'cluster_small', 'difference_min_max']. Accuracy: 45.9925695436\n",
      "include: aggregate_3 -> feature_subset: ['aggregate_6', 'cluster_small', 'difference_min_max', 'aggregate_3']. Accuracy: 48.4569610945\n",
      "include: bet_500_1000 -> feature_subset: ['aggregate_6', 'cluster_small', 'difference_min_max', 'aggregate_3', 'bet_500_1000']. Accuracy: 48.4569610945\n",
      "include: max_seasonal_daily -> feature_subset: ['aggregate_6', 'cluster_small', 'difference_min_max', 'aggregate_3', 'bet_500_1000', 'max_seasonal_daily']. Accuracy: 45.3252256886\n",
      "include: fft_3 -> feature_subset: ['aggregate_6', 'cluster_small', 'difference_min_max', 'aggregate_3', 'bet_500_1000', 'max_seasonal_daily', 'fft_3']. Accuracy: 44.616293782\n",
      "2 ['temperature_corr', 'fft_2', 'fft_1', 'aggregate_9', 'aggregate_5', 'difference_min_max'] 54.545307917\n",
      "--------------------------------------------------------------------------------\n"
     ]
    },
    {
     "data": {
      "text/plain": [
       "({'dw': {'All': {1: {'accuracy': 49.08360053355657,\n",
       "     'f': ['aggregate_6',\n",
       "      'temperature_corr',\n",
       "      'fft_2',\n",
       "      'total_occupants',\n",
       "      'aggregate_10',\n",
       "      'aggregate_1',\n",
       "      'fft_4']},\n",
       "    2: {'accuracy': 54.545307916951202,\n",
       "     'f': ['temperature_corr',\n",
       "      'fft_2',\n",
       "      'fft_1',\n",
       "      'aggregate_9',\n",
       "      'aggregate_5',\n",
       "      'difference_min_max']},\n",
       "    3: {'accuracy': 48.381917121314224,\n",
       "     'f': ['aggregate_8', 'aggregate_6', 'temperature_corr', 'aggregate_1']},\n",
       "    4: {'accuracy': 46.25473920631466, 'f': ['aggregate_12', 'aggregate_1']},\n",
       "    5: {'accuracy': 46.013588513502761, 'f': ['aggregate_10']},\n",
       "    6: {'accuracy': 48.456961094497039,\n",
       "     'f': ['aggregate_6',\n",
       "      'cluster_small',\n",
       "      'difference_min_max',\n",
       "      'aggregate_3']}}},\n",
       "  'light': {'All': {1: {'accuracy': 52.118994550225388,\n",
       "     'f': ['bet_500_1000',\n",
       "      'autocorr',\n",
       "      'ratio_min_max',\n",
       "      'cluster_big',\n",
       "      'aggregate_2',\n",
       "      'ratio_difference_min_max',\n",
       "      'fft_2']},\n",
       "    2: {'accuracy': 54.798351746325437,\n",
       "     'f': ['area', 'aggregate_7', 'bet_500_1000', 'aggregate_5', 'gt_1000']},\n",
       "    3: {'accuracy': 56.088894851220459,\n",
       "     'f': ['area',\n",
       "      'aggregate_3',\n",
       "      'aggregate_7',\n",
       "      'lt_500',\n",
       "      'bet_500_1000',\n",
       "      'aggregate_5']},\n",
       "    4: {'accuracy': 55.729976658743603,\n",
       "     'f': ['area', 'aggregate_3', 'aggregate_10', 'bet_500_1000']},\n",
       "    5: {'accuracy': 55.330331598490481,\n",
       "     'f': ['area',\n",
       "      'bet_500_1000',\n",
       "      'aggregate_6',\n",
       "      'aggregate_10',\n",
       "      'lt_500',\n",
       "      'aggregate_5']},\n",
       "    6: {'accuracy': 54.047581466267893,\n",
       "     'f': ['area', 'bet_500_1000', 'aggregate_9']}}}},\n",
       " {'dw': {'All': {'accuracy': 54.545307916951202,\n",
       "    'f': ['temperature_corr',\n",
       "     'fft_2',\n",
       "     'fft_1',\n",
       "     'aggregate_9',\n",
       "     'aggregate_5',\n",
       "     'difference_min_max'],\n",
       "    'k': 2}},\n",
       "  'light': {'All': {'accuracy': 56.088894851220459,\n",
       "    'f': ['area',\n",
       "     'aggregate_3',\n",
       "     'aggregate_7',\n",
       "     'lt_500',\n",
       "     'bet_500_1000',\n",
       "     'aggregate_5'],\n",
       "    'k': 3}}})"
      ]
     },
     "execution_count": 246,
     "metadata": {},
     "output_type": "execute_result"
    }
   ],
   "source": [
    "find_optimal_features(df, dfc, all_homes, appliance_min, national_average, [\"light\",\"dw\"], {\"All\":feature_map[\"All\"]},\n",
    "                          NUM_NEIGHBOURS_MAX=7, F_length_max=7, metric=\"median\",\n",
    "                          train_outlier=True, test_outlier=False, outlier_features=[u'gt_1000',\n",
    "  u'fft_3',\n",
    "  u'fraction_8',\n",
    "  u'lt_500',\n",
    "  u'seasonal_energy_10',\n",
    "  u'fraction_16'], outlier_fraction=0.1,\n",
    "                          print_steps=True)"
   ]
  },
  {
   "cell_type": "code",
   "execution_count": null,
   "metadata": {
    "collapsed": true
   },
   "outputs": [],
   "source": [
    "f = ['temperature_corr',\n",
    "     'fft_2',\n",
    "     'fft_1',\n",
    "     'aggregate_9',\n",
    "     'aggregate_5',\n",
    "     'difference_min_max']"
   ]
  },
  {
   "cell_type": "code",
   "execution_count": 247,
   "metadata": {
    "collapsed": false
   },
   "outputs": [],
   "source": [
    "  f=  ['area',\n",
    "     'aggregate_3',\n",
    "     'aggregate_7',\n",
    "     'lt_500',\n",
    "     'bet_500_1000',\n",
    "     'aggregate_5']"
   ]
  },
  {
   "cell_type": "code",
   "execution_count": null,
   "metadata": {
    "collapsed": false
   },
   "outputs": [
    {
     "name": "stdout",
     "output_type": "stream",
     "text": [
      "%%%%%%%%%%%%%%%%%%%%%%%%%%%%%%%%%%%%%%%%\n",
      "light\n",
      "%%%%%%%%%%%%%%%%%%%%%%%%%%%%%%%%%%%%%%%%\n",
      "********************\n",
      "All\n",
      "********************\n",
      "include: bet_500_1000 -> feature_subset: ['bet_500_1000']. Accuracy: 41.6764063549"
     ]
    }
   ],
   "source": [
    "find_optimal_features(df, dfc, all_homes, appliance_min, national_average, [\"light\"], {\"All\":feature_map[\"All\"]},\n",
    "                          NUM_NEIGHBOURS_MAX=7, F_length_max=7, metric=\"mean\",\n",
    "                          train_outlier=True, test_outlier=True, outlier_features=f, outlier_fraction=0.1,\n",
    "                          print_steps=True)"
   ]
  },
  {
   "cell_type": "code",
   "execution_count": null,
   "metadata": {
    "collapsed": true
   },
   "outputs": [],
   "source": [
    "find_optimal_features(df, dfc, all_homes, appliance_min, national_average, [\"dw\"], {\"All\":feature_map[\"All\"]},\n",
    "                          NUM_NEIGHBOURS_MAX=7, F_length_max=7, metric=\"mean\",\n",
    "                          train_outlier=True, test_outlier=True, outlier_features=f, outlier_fraction=0.1,\n",
    "                          print_steps=True)"
   ]
  }
 ],
 "metadata": {
  "kernelspec": {
   "display_name": "Python 2",
   "language": "python",
   "name": "python2"
  },
  "language_info": {
   "codemirror_mode": {
    "name": "ipython",
    "version": 2
   },
   "file_extension": ".py",
   "mimetype": "text/x-python",
   "name": "python",
   "nbconvert_exporter": "python",
   "pygments_lexer": "ipython2",
   "version": "2.7.11"
  }
 },
 "nbformat": 4,
 "nbformat_minor": 0
}
