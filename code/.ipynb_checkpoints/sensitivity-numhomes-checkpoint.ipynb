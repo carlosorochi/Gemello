{
 "cells": [
  {
   "cell_type": "markdown",
   "metadata": {},
   "source": [
    "### Load data set with features"
   ]
  },
  {
   "cell_type": "code",
   "execution_count": 5,
   "metadata": {
    "collapsed": false
   },
   "outputs": [
    {
     "name": "stderr",
     "output_type": "stream",
     "text": [
      "Vendor:  Continuum Analytics, Inc.\n",
      "Package: mkl\n",
      "Message: trial mode expires in 30 days\n"
     ]
    }
   ],
   "source": [
    "from create_df import read_df\n",
    "df, dfc, all_homes, appliance_min, national_average = read_df()"
   ]
  },
  {
   "cell_type": "code",
   "execution_count": 1,
   "metadata": {
    "collapsed": false
   },
   "outputs": [
    {
     "name": "stderr",
     "output_type": "stream",
     "text": [
      "Vendor:  Continuum Analytics, Inc.\n",
      "Package: mkl\n",
      "Message: trial mode expires in 30 days\n"
     ]
    }
   ],
   "source": [
    "import numpy as np\n",
    "import pandas as pd\n",
    "import matplotlib.pyplot as plt\n",
    "%matplotlib inline\n"
   ]
  },
  {
   "cell_type": "code",
   "execution_count": 10,
   "metadata": {
    "collapsed": false
   },
   "outputs": [],
   "source": [
    "run all_functions.py"
   ]
  },
  {
   "cell_type": "code",
   "execution_count": 11,
   "metadata": {
    "collapsed": false
   },
   "outputs": [],
   "source": [
    "run features.py"
   ]
  },
  {
   "cell_type": "code",
   "execution_count": 5,
   "metadata": {
    "collapsed": true
   },
   "outputs": [],
   "source": [
    "import json"
   ]
  },
  {
   "cell_type": "code",
   "execution_count": 13,
   "metadata": {
    "collapsed": false
   },
   "outputs": [],
   "source": [
    "def create_predictions_size(df, dfc, all_homes, appliance_min, national_average, appliance=\"hvac\", feature=['num_rooms', 'total_occupants'], NUM_NEIGHBOURS=2,\n",
    "                       train_outlier=True, test_outlier=False, outlier_features=None, outlier_fraction=0.1, size=10):\n",
    "\n",
    "\n",
    "\n",
    "\n",
    "    out_month = {}\n",
    "    gt_month = {}\n",
    "    overall_dfs = {}\n",
    "    df_pred_copy = df.copy()\n",
    "    #df_pred_copy = dfs[appliance].copy()\n",
    "    df_pred_copy = df_pred_copy.ix[all_homes[appliance]]\n",
    "    if appliance==\"hvac\":\n",
    "        start_month, end_month = 5, 11\n",
    "    else:\n",
    "        start_month, end_month = 1, 13\n",
    "\n",
    "    if test_outlier:\n",
    "        # We now need to remove the test outlier homes\n",
    "        if outlier_features is None:\n",
    "            print(\"Cannot proceeed further\")\n",
    "            raise\n",
    "        else:\n",
    "            outlier_test_homes = find_outlier_test_homes(df,all_homes,  appliance,\n",
    "                                                         outlier_features, outliers_fraction=0.1)\n",
    "\n",
    "\n",
    "    for month_num in range(start_month, end_month):\n",
    "        month_appliance = \"%s_%d\" %(appliance, month_num)\n",
    "        y = df_pred_copy[month_appliance]\n",
    "        y2 = y.dropna()\n",
    "        y3 = y2[y2>appliance_min[appliance]].dropna()\n",
    "        df3 = df_pred_copy[feature].ix[y3.index].dropna()\n",
    "\n",
    "        #df3 = df.ix[y3.index].dropna()\n",
    "        y3 = y3.ix[df3.index]\n",
    "        #df3 = df3.ix[appliance_fhmm[appliance].index].dropna()\n",
    "        #y3 = y3.ix[df3.index]\n",
    "        from sklearn.cross_validation import LeaveOneOut\n",
    "        from sklearn.neighbors import RadiusNeighborsRegressor\n",
    "        #clf = RadiusNeighborsRegressor(radius=k)\n",
    "        clf = KNeighborsRegressor(n_neighbors=NUM_NEIGHBOURS)\n",
    "        #clf = KNeighborsRegressor(n_neighbors=k, weights = 'distance' )\n",
    "        loo = LeaveOneOut(len(df3))\n",
    "        out_pred = []\n",
    "\n",
    "\n",
    "        for train, test in loo:\n",
    "            if test_outlier:\n",
    "                test_home_num = y3.index.values[test]\n",
    "\n",
    "                if test_home_num in outlier_test_homes:\n",
    "                    continue\n",
    "\n",
    "\n",
    "            if train_outlier:\n",
    "                outlier_homes, inlier_homes = find_outlier_train(y3.ix[y3.index.values[train]])\n",
    "\n",
    "            else:\n",
    "                inlier_homes = deepcopy(y3.ix[y3.index.values[train]])\n",
    "            #clf.fit(preprocessing.normalize(df3[feature_columns[feature]].values[train]), y3.values[train])\n",
    "\n",
    "            if size>=len(inlier_homes):\n",
    "                indices_random = range(len(inlier_homes))\n",
    "            else:\n",
    "                total_size = len(inlier_homes)\n",
    "                indices_random = np.random.choice(total_size, size)\n",
    "            \n",
    "            clf.fit(df3[feature].ix[inlier_homes.index].values[indices_random], inlier_homes.values[indices_random])\n",
    "            #out_pred.append(clf.predict(preprocessing.normalize(df3[feature_columns[feature]].values[test])))\n",
    "            out_pred.append(clf.predict(df3[feature].values[test]))\n",
    "\n",
    "        out_pred = np.hstack(out_pred)\n",
    "\n",
    "        out_month[month_num] = out_pred\n",
    "\n",
    "        if test_outlier:\n",
    "            non_test_outlier_index = np.setdiff1d(y3.index.values, np.array(outlier_test_homes))\n",
    "            gt_month[month_num] = y3.ix[non_test_outlier_index].values\n",
    "            overall_dfs[month_num] = pd.DataFrame({\"gt\":y3.ix[non_test_outlier_index].values, \"pred\":out_pred,\n",
    "                                                  \"gt_total\":dfc.ix[non_test_outlier_index][\"aggregate_\"+str(month_num)].values}, index=non_test_outlier_index)\n",
    "            overall_dfs[month_num][\"national average\"] = overall_dfs[month_num][\"gt_total\"]*national_average[appliance]\n",
    "        else:\n",
    "            gt_month[month_num] = y3.values\n",
    "            overall_dfs[month_num] = pd.DataFrame({\"gt\":y3.values, \"pred\":out_pred,\n",
    "                                                  \"gt_total\":dfc.ix[y3.index][\"aggregate_\"+str(month_num)].values}, index=y3.index)\n",
    "            overall_dfs[month_num][\"national average\"] = overall_dfs[month_num][\"gt_total\"]*national_average[appliance]\n",
    "\n",
    "\n",
    "\n",
    "    return overall_dfs"
   ]
  },
  {
   "cell_type": "code",
   "execution_count": 2,
   "metadata": {
    "collapsed": false
   },
   "outputs": [],
   "source": [
    "import json\n",
    "\n",
    "optimal_dict_median_overall = json.load(open(\"optimal_dict_cv1.json\",'r'))\n",
    "optimal_dict_mean_overall = json.load(open(\"optimal_cv2.json\",'r'))\n"
   ]
  },
  {
   "cell_type": "code",
   "execution_count": 3,
   "metadata": {
    "collapsed": false
   },
   "outputs": [
    {
     "data": {
      "text/plain": [
       "{u'accuracy': 46.67661515555978,\n",
       " u'f': [u'disag_fridge', u'aggregate_12', u'total_occupants', u'fft_2'],\n",
       " u'k': 5}"
      ]
     },
     "execution_count": 3,
     "metadata": {},
     "output_type": "execute_result"
    }
   ],
   "source": [
    "optimal_dict_mean_overall['dr']['All']['dr']['All']\n"
   ]
  },
  {
   "cell_type": "code",
   "execution_count": 44,
   "metadata": {
    "collapsed": false
   },
   "outputs": [
    {
     "data": {
      "text/plain": [
       "26"
      ]
     },
     "execution_count": 44,
     "metadata": {},
     "output_type": "execute_result"
    }
   ],
   "source": [
    "len(all_homes['dw'])"
   ]
  },
  {
   "cell_type": "code",
   "execution_count": 54,
   "metadata": {
    "collapsed": false
   },
   "outputs": [
    {
     "name": "stdout",
     "output_type": "stream",
     "text": [
      "********************\n",
      "hvac\n",
      "Round 0 of 5\n",
      "Round 1 of 5\n",
      "Round 2 of 5\n",
      "Round 3 of 5\n",
      "Round 4 of 5\n",
      "********************\n",
      "light\n",
      "Round 0 of 5\n",
      "Round 1 of 5\n",
      "Round 2 of 5\n",
      "Round 3 of 5\n",
      "Round 4 of 5\n",
      "********************\n",
      "wm\n",
      "Round 0 of 5\n",
      "Round 1 of 5\n",
      "Round 2 of 5\n",
      "Round 3 of 5\n",
      "Round 4 of 5\n",
      "********************\n",
      "fridge\n",
      "Round 0 of 5\n",
      "Round 1 of 5\n",
      "Round 2 of 5\n",
      "Round 3 of 5\n",
      "Round 4 of 5\n",
      "********************\n",
      "dw\n",
      "Round 0 of 5\n",
      "Round 1 of 5\n",
      "Round 2 of 5\n",
      "Round 3 of 5\n",
      "Round 4 of 5\n",
      "********************\n",
      "dr\n",
      "Round 0 of 5\n",
      "Round 1 of 5\n",
      "Round 2 of 5\n",
      "Round 3 of 5\n",
      "Round 4 of 5\n"
     ]
    }
   ],
   "source": [
    "np.random.seed(0)\n",
    "import sys\n",
    "NUM_ROUNDS= 5\n",
    "out_appliance = {}\n",
    "for appliance_name in optimal_dict_median_overall.iterkeys():\n",
    "    print \"*\"*20\n",
    "    print appliance_name\n",
    "    optimal_k = optimal_dict_mean_overall[appliance_name]['All'][appliance_name]['All']['k']\n",
    "    optimal_f = optimal_dict_mean_overall[appliance_name]['All'][appliance_name]['All']['f']\n",
    "    train_outlier_f  = optimal_dict_median_overall[appliance_name]['All']['f']\n",
    "    \n",
    "    out_appliance[appliance_name] = {}\n",
    "    for random_seed in range(NUM_ROUNDS):\n",
    "        \n",
    "        print \"Round\", random_seed, \"of\", NUM_ROUNDS\n",
    "        sys.stdout.flush()\n",
    "        out_appliance[appliance_name][random_seed]={}\n",
    "        for size in range(optimal_k, 34):\n",
    "            \n",
    "            try:\n",
    "                temp = create_predictions_size(df, dfc, all_homes, appliance_min,\n",
    "                                          national_average, appliance=appliance_name, \n",
    "                                          feature=optimal_f,\n",
    "                                          NUM_NEIGHBOURS=optimal_k, train_outlier=True, test_outlier=True,\n",
    "                                          outlier_features=train_outlier_f, outlier_fraction=0.1, size=size)\n",
    "\n",
    "\n",
    "                errors = {}\n",
    "                if appliance_name ==\"hvac\":\n",
    "                    start_month, end_month = 5, 11\n",
    "                else:\n",
    "                    start_month, end_month = 1, 13\n",
    "                for i in range(start_month, end_month):\n",
    "                    errors[i] = percentage_error(temp[i][\"gt\"], temp[i][\"pred\"])\n",
    "                error_df = pd.DataFrame(errors)\n",
    "                accur_df = 100-error_df\n",
    "                accur_df[accur_df<0]=0\n",
    "                tdf = accur_df\n",
    "                if appliance_name ==\"hvac\":\n",
    "                    for home in [624, 1953, 6636, 6836, 7769, 9922]:\n",
    "                        tdf.loc[home, 5]=np.NaN\n",
    "                        tdf.loc[home, 10]=np.NaN\n",
    "    \n",
    "                out_appliance[appliance_name][random_seed][size] = tdf.dropna().mean().mean()\n",
    "                \n",
    "            except Exception, e:\n",
    "                print e\n",
    "                print \"pass\", size\n",
    "                pass\n"
   ]
  },
  {
   "cell_type": "code",
   "execution_count": 55,
   "metadata": {
    "collapsed": true
   },
   "outputs": [],
   "source": [
    "output = {}\n",
    "for appliance_name, appliance_results in out_appliance.iteritems():\n",
    "    output[appliance_name] = pd.Series(appliance_results[0])\n",
    "    tot = len(appliance_results)\n",
    "    for i in range(1, tot):\n",
    "        output[appliance_name] = output[appliance_name] + pd.Series(appliance_results[i])\n",
    "\n",
    "output_df = pd.DataFrame(output)\n",
    "output_df = output_df.div(tot)"
   ]
  },
  {
   "cell_type": "code",
   "execution_count": 2,
   "metadata": {
    "collapsed": false
   },
   "outputs": [],
   "source": [
    "#output_df.to_csv(\"sensitivity_num_homes.csv\")\n",
    "output_df = pd.read_csv(\"sensitivity_num_homes.csv\", index_col=0)"
   ]
  },
  {
   "cell_type": "code",
   "execution_count": 3,
   "metadata": {
    "collapsed": true
   },
   "outputs": [],
   "source": [
    "%matplotlib inline\n",
    "import matplotlib.pyplot as plt"
   ]
  },
  {
   "cell_type": "code",
   "execution_count": 4,
   "metadata": {
    "collapsed": true
   },
   "outputs": [],
   "source": [
    "from common_functions import latexify, format_axes"
   ]
  },
  {
   "cell_type": "code",
   "execution_count": 5,
   "metadata": {
    "collapsed": false
   },
   "outputs": [
    {
     "name": "stderr",
     "output_type": "stream",
     "text": [
      "/Users/nipunbatra/anaconda/lib/python2.7/site-packages/matplotlib/__init__.py:872: UserWarning: axes.color_cycle is deprecated and replaced with axes.prop_cycle; please use the latter.\n",
      "  warnings.warn(self.msg_depr % (key, alt_key))\n",
      "/Users/nipunbatra/anaconda/lib/python2.7/site-packages/matplotlib/__init__.py:872: UserWarning: text.fontsize is deprecated and replaced with font.size; please use the latter.\n",
      "  warnings.warn(self.msg_depr % (key, alt_key))\n"
     ]
    }
   ],
   "source": [
    "latexify()"
   ]
  },
  {
   "cell_type": "code",
   "execution_count": 10,
   "metadata": {
    "collapsed": false
   },
   "outputs": [],
   "source": [
    "tableau20blind = [(0, 107, 164), (255, 128, 14), (171, 171, 171), (89, 89, 89),\n",
    "             (95, 158, 209), (200, 82, 0), (137, 137, 137), (163, 200, 236),\n",
    "             (255, 188, 121), (207, 207, 207)]\n",
    "  \n",
    "# Rescale to values between 0 and 1\n",
    "for i in range(len(tableau20blind)):  \n",
    "    r, g, b = tableau20blind[i]  \n",
    "    tableau20blind[i] = (r / 255., g / 255., b / 255.)"
   ]
  },
  {
   "cell_type": "code",
   "execution_count": 16,
   "metadata": {
    "collapsed": false
   },
   "outputs": [
    {
     "data": {
      "image/png": "[encoded data removed]",
      "text/plain": [
       "<matplotlib.figure.Figure at 0x115f52150>"
      ]
     },
     "metadata": {},
     "output_type": "display_data"
    }
   ],
   "source": [
    "appliance_name_mapping = {\"dr\": \"Dryer\", \"wm\": \"Washing machine\",\n",
    "                          \"fridge\":\"Fridge\",\"light\":\"Lighting\",\n",
    "                          \"hvac\":\"HVAC\",\"dw\":\"Dish washer\"}\n",
    "\n",
    "normalised_output = {}\n",
    "fig, ax = plt.subplots(1,1)\n",
    "for i, appliance_name in enumerate(output_df.columns):\n",
    "    temp = output_df[appliance_name].dropna()\n",
    "    temp.index= np.linspace(0, 1, len(output_df[appliance_name].dropna()))\n",
    "    normalised_output[appliance_name] = temp\n",
    "    pd.Series(normalised_output[appliance_name]).plot(ax=ax, label=appliance_name_mapping[appliance_name], \n",
    "                                                      color=tableau20blind[i])\n",
    "plt.xlim((0.1,1.))\n",
    "plt.ylim((0, 100))\n",
    "plt.legend(loc='center left', bbox_to_anchor=(1, 0.5), ncol=1)\n",
    "plt.xlabel(\"Proportion of homes in traning set\")\n",
    "plt.ylabel(\"Accuracy\")\n",
    "format_axes(plt.gca())\n",
    "plt.tight_layout()\n",
    "plt.savefig(\"/Users/nipunbatra/git/monthly-disaggregation/results/sensitivity_num_homes.png\",bbox_inches=\"tight\")\n",
    "plt.savefig(\"/Users/nipunbatra/git/monthly-disaggregation/results/sensitivity_num_homes.pdf\",bbox_inches=\"tight\")"
   ]
  },
  {
   "cell_type": "code",
   "execution_count": 50,
   "metadata": {
    "collapsed": true
   },
   "outputs": [],
   "source": [
    "normalised_output_df = pd.DataFrame(normalised_output)"
   ]
  },
  {
   "cell_type": "code",
   "execution_count": null,
   "metadata": {
    "collapsed": true
   },
   "outputs": [],
   "source": []
  }
 ],
 "metadata": {
  "kernelspec": {
   "display_name": "Python 2",
   "language": "python",
   "name": "python2"
  },
  "language_info": {
   "codemirror_mode": {
    "name": "ipython",
    "version": 2
   },
   "file_extension": ".py",
   "mimetype": "text/x-python",
   "name": "python",
   "nbconvert_exporter": "python",
   "pygments_lexer": "ipython2",
   "version": "2.7.11"
  }
 },
 "nbformat": 4,
 "nbformat_minor": 0
}
