{
 "cells": [
  {
   "cell_type": "code",
   "execution_count": 1,
   "metadata": {
    "collapsed": false
   },
   "outputs": [
    {
     "name": "stdout",
     "output_type": "stream",
     "text": [
      "fridge 30\n",
      "hvac 44\n",
      "dr 32\n",
      "light 21\n",
      "dw 28\n",
      "wm 26\n"
     ]
    },
    {
     "name": "stderr",
     "output_type": "stream",
     "text": [
      "Vendor:  Continuum Analytics, Inc.\n",
      "Package: mkl\n",
      "Message: trial mode expires in 26 days\n"
     ]
    }
   ],
   "source": [
    "__author__ = 'nipunbatra'\n",
    "\n",
    "import pandas as pd\n",
    "import os\n",
    "import numpy as np\n",
    "from sklearn.ensemble import RandomForestRegressor\n",
    "from sklearn.neighbors import KNeighborsRegressor\n",
    "\n",
    "df = pd.read_csv(\"../main_15min_decomposition_12_daily_weekly_cluster_diff_frac_temp_weekday_hvac_energy_fft.csv\",index_col=0)\n",
    "dfc = df.copy()\n",
    "\n",
    "df = df.drop(871)\n",
    "df = df.drop(1169)\n",
    "\n",
    "\n",
    "\n",
    "w=df[['aggregate_%d' %i for i in range(1,13)]]\n",
    "\n",
    "df = df.ix[w[w>0].dropna().index]\n",
    "\n",
    "\"\"\"\n",
    "features_individual = {#'fraction':[\"fraction_%d\" % i for i in range(1, 25)],\n",
    "                       'area': 'area',\n",
    "                       'autocorr':'autocorr',\n",
    "                       'month': [\"aggregate_%d\" % i for i in range(1, 13)],\n",
    "                       'occupants': 'total_occupants',\n",
    "                       'rooms': 'num_rooms',\n",
    "                       #'seasonal_daily':['stdev_seasonal_daily','max_seasonal_daily'],\n",
    "                       #'trend_daily':['stdev_trend_daily','max_trend_daily'],\n",
    "                       'seasonal_weekly':['stdev_seasonal_weekly','max_seasonal_weekly'],\n",
    "                       'trend_weekly':['stdev_trend_weekly','max_trend_weekly'],}\n",
    "                       #'disag_fridge':'disag_fridge'}\n",
    "                       #'mins_hvac':'mins_hvac',}\n",
    "                       #'month_extract':['variance','ratio_min_max', 'difference_min_max',\n",
    "                        #                'ratio_difference_min_max']}\n",
    "\n",
    "\"\"\"\n",
    "features_individual = {'fraction':[\"fraction_%d\" % i for i in range(1, 25)],\n",
    "                       'area': 'area',\n",
    "                       'autocorr':'autocorr',\n",
    "                       'month': [\"aggregate_%d\" % i for i in range(1, 13)],\n",
    "                       'occupants': 'total_occupants',\n",
    "                       'rooms': 'num_rooms',\n",
    "                       'seasonal_12':['stdev_seasonal_12','max_seasonal_12'],\n",
    "                       'trend_12':['stdev_trend_12','max_trend_12'],\n",
    "\n",
    "                       'seasonal_daily':['stdev_seasonal_daily','max_seasonal_daily'],\n",
    "                       'trend_daily':['stdev_trend_daily','max_trend_daily'],\n",
    "                       'seasonal_weekly':['stdev_seasonal_weekly','max_seasonal_weekly'],\n",
    "                       'trend_weekly':['stdev_trend_weekly','max_trend_weekly'],\n",
    "                       'cluster_big':'cluster_big',\n",
    "                       'cluster_small':'cluster_small',\n",
    "                       'diff':['lt_500','bet_500_1000','gt_1000'],\n",
    "                       'temp':'temperature_corr',\n",
    "                       'week':[\"fraction_%d\" % i for i in range(1, 8)],\n",
    "                       #'disag_fridge':'disag_fridge'}\n",
    "                       'mins_hvac':'mins_hvac',\n",
    "                       'month_extract':['variance','ratio_min_max', 'difference_min_max',\n",
    "                                        'ratio_difference_min_max']}\n",
    "\n",
    "### Monthly ONLY\n",
    "\"\"\"\n",
    "features_individual = {#'fraction':[\"fraction_%d\" % i for i in range(1, 25)],\n",
    "                       'area': 'area',\n",
    "                       #'autocorr':'autocorr',\n",
    "                       'month': [\"aggregate_%d\" % i for i in range(1, 13)],\n",
    "                       'occupants': 'total_occupants',\n",
    "                       'rooms': 'num_rooms',\n",
    "                       #'seasonal_12':['stdev_seasonal_12','max_seasonal_12'],\n",
    "                       #'trend_12':['stdev_trend_12','max_trend_12'],\n",
    "                       #'seasonal_daily':['stdev_seasonal_daily','max_seasonal_daily'],\n",
    "                       #'trend_daily':['stdev_trend_daily','max_trend_daily'],\n",
    "                       #'seasonal_weekly':['stdev_seasonal_weekly','max_seasonal_weekly'],\n",
    "                       #'trend_weekly':['stdev_trend_weekly','max_trend_weekly'],}\n",
    "                       #'disag_fridge':'disag_fridge'}\n",
    "                       #'mins_hvac':'mins_hvac',\n",
    "                       #'cluster_big':'cluster_big',\n",
    "                       #'diff':['lt_500','bet_500_1000','gt_1000'],\n",
    "                       'temp':'temperature_corr',\n",
    "                       'month_extract':['variance','ratio_min_max', 'difference_min_max',\n",
    "                                        'ratio_difference_min_max']}\n",
    "\n",
    "\n",
    "\"\"\"\n",
    "\n",
    "from itertools import combinations\n",
    "features_dict = {}\n",
    "for feature_size in range(1,max(4,len(features_individual))):\n",
    "    combinations_size_n = list(combinations(features_individual.keys(), feature_size))\n",
    "    for com in combinations_size_n:\n",
    "        features_dict[com] = np.hstack([features_individual[x] for x in com]).tolist()\n",
    "\n",
    "\n",
    "\n",
    "hvac_fhmm_pred = pd.read_csv(\"../fhmm_disag_new.csv\", index_col=0)\n",
    "fridge_fhmm_pred = pd.read_csv(\"../fridge_fhmm.csv\", index_col=0)\n",
    "appliance_fhmm = {'fridge': fridge_fhmm_pred,\n",
    "                  'hvac': hvac_fhmm_pred}\n",
    "\n",
    "national_average = {\"fridge\": 0.07, \"hvac\": 0.18, 'wm': 0.01, 'furnace': 0.09, 'dw': 0.02, 'dr': 0.04, 'light': .11}\n",
    "\n",
    "\n",
    "def scale_0_1(ser, minimum=None, maximum=None):\n",
    "    if minimum is not None:\n",
    "        pass\n",
    "    else:\n",
    "        minimum = ser.min()\n",
    "        maximum = ser.max()\n",
    "    return (ser-minimum).div(maximum-minimum)\n",
    "\n",
    "#Normalising features\n",
    "max_aggregate = df[[\"aggregate_%d\" % i for i in range(1, 13)]].max().max()\n",
    "min_aggregate = df[[\"aggregate_%d\" % i for i in range(1, 13)]].min().min()\n",
    "df[[\"aggregate_%d\" % i for i in range(1, 13)]] = scale_0_1(df[[\"aggregate_%d\" % i for i in range(1, 13)]], min_aggregate, max_aggregate)\n",
    "\n",
    "\n",
    "max_weekly = df[[\"daily_usage_%d\" % i for i in range(1, 8)]].max().max()\n",
    "min_weekly = df[[\"daily_usage_%d\" % i for i in range(1, 8)]].min().min()\n",
    "df[[\"daily_usage_%d\" % i for i in range(1, 8)]] = scale_0_1(df[[\"daily_usage_%d\" % i for i in range(1, 8)]], min_weekly, max_weekly)\n",
    "\n",
    "df['area'] = scale_0_1(df['area'])\n",
    "\n",
    "df['num_rooms'] = scale_0_1(df['num_rooms'])\n",
    "df['total_occupants'] = scale_0_1(df['total_occupants'])\n",
    "df['mins_hvac'] =  scale_0_1(df['mins_hvac'])\n",
    "\n",
    "# Adding new feature\n",
    "aa = df[[\"aggregate_%d\" % i for i in range(1, 13)]].copy()\n",
    "df['variance'] = df[[\"aggregate_%d\" % i for i in range(1, 13)]].var(axis=1)\n",
    "df['ratio_min_max'] = aa.min(axis=1)/aa.max(axis=1)\n",
    "\n",
    "\n",
    "df['difference_min_max'] = aa.max(axis=1)-aa.min(axis=1)\n",
    "df['ratio_difference_min_max'] = (aa.max(axis=1)-aa.min(axis=1)).div(aa.max(axis=1))\n",
    "\n",
    "\n",
    "for col in [\"stdev_trend_12\",\"stdev_seasonal_12\",\"max_seasonal_12\",\"max_trend_12\",\n",
    "            \"stdev_trend_daily\",\"stdev_seasonal_daily\",\"max_seasonal_daily\",\"max_trend_daily\",\n",
    "            \"stdev_trend_weekly\",\"stdev_seasonal_weekly\",\"max_seasonal_weekly\",\"max_trend_weekly\",\"disag_fridge\",\n",
    "            'stdev_trend','stdev_seasonal','max_seasonal','max_trend',\n",
    "            'cluster_small','cluster_big', 'temperature_corr', 'variance',\n",
    "            'ratio_min_max','ratio_difference_min_max','seasonal_energy_5','seasonal_energy_6',\n",
    "            'seasonal_energy_7','seasonal_energy_8','seasonal_energy_9','seasonal_energy_10',\n",
    "           'fft_1','fft_2','fft_3','fft_4','fft_5']:\n",
    "    if col in df.columns:\n",
    "\n",
    "        df[col] = scale_0_1(df[col])\n",
    "\n",
    "\n",
    "\n",
    "dfs = {}\n",
    "total = features_dict.values()[np.array(map(len, features_dict.values())).argmax()]\n",
    "for appliance in ['fridge','hvac','dr','light','dw','wm']:\n",
    "    temp=df.ix[df[['%s_%d' %(appliance, i) for i in range(1,13)]].dropna().index]\n",
    "    dfs[appliance] =temp.ix[temp[total].dropna().index]\n",
    "    print appliance, len(dfs[appliance])\n",
    "\n",
    "appliance_min = {'fridge':5,'hvac':5,'wm':0,'dw':0,'dr':0,'light':0}\n",
    "\n",
    "all_homes = {\n",
    "    'dw':[  94,  370,  545,  624, 2156, 2242, 2814, 2829, 3723,\n",
    "            4767, 5357,6636, 6910, 7769, 9934],\n",
    "    'wm':[  94,  370,  545,  624, 2156, 2242, 2814, 3367, 3456, 3723, 3967,\n",
    "            5357, 7769, 9654, 9922, 9934],\n",
    "    'hvac':[  26,   94,  370,  410,  545,  624, 1283, 1642, 1953, 2129,\n",
    "            2156, 2242, 2470, 2814, 2829,  3367, 3456, 3723,\n",
    "            3967, 4767, 5218, 5357, 5371, 5746, 5785, 5814, 6072,\n",
    "            6636, 6836, 6910, 7731, 7769, 7866, 9609, 9654, 9922, 9933, 9934],\n",
    "    'fridge':[  94,  370,  410,  545,  624, 1953, 2156, 2242, 2814, 2829, 3367,\n",
    "            3456, 3723, 3967, 4767, 5357, 5371, 6072, 6636, 6910, 7769, 7866],\n",
    "    'light':df.index.tolist(),\n",
    "        #[ 624, 1334, 2814, 2925, 2986, 3367, 3456, 3482, 3723, 3967, 4732,\n",
    "        #    4767, 5814, 5817, 6072, 6266, 6910, 7016, 7429, 7731, 7769, 7866,\n",
    "        #    8317, 8626, 9052, 9654, 9922],\n",
    "    'dr':[  94,  370,  410, 2156, 2242, 2814, 3456, 3723, 4767,\n",
    "            5785, 5814, 6072, 6636, 6836, 7731, 7769, 7866, 9654, 9922,\n",
    "            9933, 9982]\n",
    "}\n",
    "\n",
    "all_homes = {appliance:dfs[appliance].index for appliance in dfs.keys()}\n",
    "\n",
    "all_homes['fridge'] = np.array(np.setdiff1d(all_homes['fridge'], [2233, 5746, 7016]))\n",
    "all_homes['hvac'] = np.array(np.setdiff1d(all_homes['hvac'], [252, 2925, 2986, 3482, 4732, 5439, 6266,\n",
    "                                                              8626, 1800, 2233, 5817, 7016, 7429, 8317,\n",
    "                                                              9052, 9982]))\n",
    "\n",
    "all_homes['dw'] =  np.array(np.setdiff1d(all_homes['dw'],[2233, 7016]))\n",
    "\n",
    "all_homes['wm'] = np.array([  94,  370,  545,  624, 2156, 2242, 2470, 2814, 3367, 3456, 3723,\n",
    "            3967, 5357, 7769, 9654, 9922, 9934])\n",
    "\n",
    "all_homes['light']=[624, 1334, 3367, 3456, 3723, 5814, 6072, 6910, 7769, 7866, 9654,\n",
    "            9922]"
   ]
  },
  {
   "cell_type": "code",
   "execution_count": 2,
   "metadata": {
    "collapsed": true
   },
   "outputs": [],
   "source": [
    "import numpy as np\n",
    "import matplotlib.pyplot as plt\n",
    "%matplotlib inline\n",
    "plt.style.use('fivethirtyeight')"
   ]
  },
  {
   "cell_type": "code",
   "execution_count": 3,
   "metadata": {
    "collapsed": false
   },
   "outputs": [],
   "source": [
    "def create_predictions(appliance=\"hvac\", feature=['num_rooms', 'total_occupants'],k=2, weights='uniform'):\n",
    "    \n",
    "   \n",
    "    out_month = {}\n",
    "    gt_month = {}\n",
    "    overall_dfs = {}\n",
    "    df_pred_copy = df.copy()\n",
    "    #df_pred_copy = dfs[appliance].copy()\n",
    "    df_pred_copy = df_pred_copy.ix[all_homes[appliance]]\n",
    "    for i, month in enumerate([\"%s_%d\" %(appliance,i) for i in range(1,13)]):\n",
    "        y = df_pred_copy[month]\n",
    "        y2 = y.dropna()\n",
    "        y3 = y2[y2>appliance_min[appliance]].dropna()\n",
    "        df3 = df_pred_copy[feature].ix[y3.index].dropna()\n",
    "        \n",
    "        #df3 = df.ix[y3.index].dropna()\n",
    "        y3 = y3.ix[df3.index]\n",
    "        #df3 = df3.ix[appliance_fhmm[appliance].index].dropna()\n",
    "        #y3 = y3.ix[df3.index]\n",
    "        from sklearn.cross_validation import LeaveOneOut\n",
    "        from sklearn.neighbors import RadiusNeighborsRegressor\n",
    "        #clf = RadiusNeighborsRegressor(radius=k)\n",
    "        clf = KNeighborsRegressor(n_neighbors=k, weights=weights)\n",
    "        #clf = KNeighborsRegressor(n_neighbors=k, weights = 'distance' )\n",
    "        loo = LeaveOneOut(len(df3))\n",
    "        out_pred = []\n",
    "\n",
    "        for train, test in loo:\n",
    "            #clf.fit(preprocessing.normalize(df3[feature_columns[feature]].values[train]), y3.values[train])\n",
    "            clf.fit(df3[feature].values[train], y3.values[train])\n",
    "            #out_pred.append(clf.predict(preprocessing.normalize(df3[feature_columns[feature]].values[test])))\n",
    "            out_pred.append(clf.predict(df3[feature].values[test]))\n",
    "\n",
    "        out_pred = np.hstack(out_pred)\n",
    "\n",
    "        out_month[i+1] = out_pred\n",
    "        gt_month[i+1] = y3.values\n",
    "        overall_dfs[i+1] = pd.DataFrame({\"gt\":y3.values, \"pred\":out_pred,\n",
    "                                              \"gt_total\":dfc.ix[y3.index][\"aggregate_\"+str(i+1)].values}, index=y3.index)\n",
    "        overall_dfs[i+1][\"national average\"] = overall_dfs[i+1][\"gt_total\"]*national_average[appliance]\n",
    "    return overall_dfs\n",
    "\n",
    "def percentage_error(gt, pred):\n",
    "    return 100*np.abs(gt-pred)/(gt)\n",
    "\n",
    "\n",
    "\n",
    "\n",
    "def compute_metrics(df):\n",
    "    temp = df[df.gt_total>0.0]\n",
    "    temp = temp[temp.gt>temp.gt_total]\n",
    "    return {\"Percentage error in appliance energy\":np.median(percentage_error(df[\"gt\"], df[\"pred\"]))\n",
    "            }"
   ]
  },
  {
   "cell_type": "code",
   "execution_count": 4,
   "metadata": {
    "collapsed": false
   },
   "outputs": [],
   "source": [
    "def criterion_function(feature_set):\n",
    "    global k\n",
    "    \n",
    "    \n",
    "    temp = create_predictions(appliance, feature_set, k=k)\n",
    "    errors = {}\n",
    "    for i in range(1, 13):\n",
    "        errors[i] = percentage_error(temp[i][\"gt\"], temp[i][\"pred\"])\n",
    "    error_df = pd.DataFrame(errors)\n",
    "    accur_df = 100-error_df\n",
    "    accur_df[accur_df<0]=0\n",
    "   \n",
    "    if appliance is \"hvac\":\n",
    "         tdf = accur_df[range(5, 11)]\n",
    "    else:\n",
    "        tdf = accur_df\n",
    "    #print tdf.dropna().median().mean(), feature_set\n",
    "    return tdf.dropna().median().mean()"
   ]
  },
  {
   "cell_type": "code",
   "execution_count": 11,
   "metadata": {
    "collapsed": true
   },
   "outputs": [],
   "source": [
    "def seq_forw_select(features, max_k, criterion_func, print_steps=False):\n",
    "    \"\"\"\n",
    "    Implementation of a Sequential Forward Selection algorithm.\n",
    "    \n",
    "    Keyword Arguments:\n",
    "        features (list): The feature space as a list of features.\n",
    "        max_k: Termination criterion; the size of the returned feature subset.\n",
    "        criterion_func (function): Function that is used to evaluate the\n",
    "            performance of the feature subset.\n",
    "        print_steps (bool): Prints the algorithm procedure if True.\n",
    "    \n",
    "    Returns the selected feature subset, a list of features of length max_k.\n",
    "\n",
    "    \"\"\"\n",
    "\n",
    "    # Initialization\n",
    "    feat_sub = []\n",
    "    k = 0\n",
    "    d = len(features)\n",
    "    if max_k > d:\n",
    "        max_k = d\n",
    "\n",
    "    while True:\n",
    "\n",
    "        # Inclusion step\n",
    "        \n",
    "        crit_func_max = criterion_func(feat_sub + [features[0]])\n",
    "        best_feat = features[0]\n",
    "        for x in features[1:]:\n",
    "            crit_func_eval = criterion_func(feat_sub + [x])\n",
    "            if crit_func_eval > crit_func_max:\n",
    "                crit_func_max = crit_func_eval\n",
    "                best_feat = x\n",
    "        feat_sub.append(best_feat)\n",
    "        if print_steps:\n",
    "            print('include: {} -> feature_subset: {}. Accuracy: {}'.format(best_feat, feat_sub, crit_func_max))\n",
    "        features.remove(best_feat)\n",
    "\n",
    "        # Termination condition\n",
    "        k = len(feat_sub)\n",
    "        if k == max_k:\n",
    "            break\n",
    "\n",
    "    return feat_sub"
   ]
  },
  {
   "cell_type": "code",
   "execution_count": 6,
   "metadata": {
    "collapsed": true
   },
   "outputs": [],
   "source": [
    "all_features = np.hstack([[\"aggregate_%d\" %i for i in range(1,13)],\n",
    "            [\"fraction_%d\" %i for i in range(1,25)],\n",
    "         \"autocorr\",\n",
    "         \"max_seasonal_12\",\n",
    "       \n",
    "        \"max_trend_12\",\n",
    "        \n",
    "        \"max_seasonal_daily\",\n",
    "        \n",
    "        \"max_trend_daily\",\n",
    "        \n",
    "         \"max_seasonal_weekly\",\n",
    "        \n",
    "        \"max_trend_weekly\",\n",
    "        \n",
    "        \"disag_fridge\",\n",
    "        \"cluster_small\",\n",
    "        \"cluster_big\",\n",
    "        \"lt_500\",\n",
    "        \"bet_500_1000\",\n",
    "        \"gt_1000\",\n",
    "        \"temperature_corr\",\n",
    "         [\"daily_usage_%d\" %i for i in range(1,8)],\n",
    "        \"area\",\n",
    "        \"num_rooms\",\n",
    "        \"mins_hvac\",\n",
    "        \"total_occupants\",\n",
    "               ['ratio_min_max', 'difference_min_max',\n",
    "                                        'ratio_difference_min_max'],\n",
    "               [\"seasonal_energy_%d\" %i for i in range(5,11)],\n",
    "        [\"fft_%d\" %i for i in range(1, 6)]\n",
    "\n",
    "           ])\n",
    "\n",
    "ami_features = np.hstack([[\"aggregate_%d\" %i for i in range(1,13)],\n",
    "            [\"fraction_%d\" %i for i in range(1,25)],\n",
    "         \"autocorr\",\n",
    "         \"max_seasonal_12\",\n",
    "       \n",
    "        \"max_trend_12\",\n",
    "       \n",
    "        \"max_seasonal_daily\",\n",
    "       \n",
    "        \"max_trend_daily\",\n",
    "        \n",
    "         \"max_seasonal_weekly\",\n",
    "        \n",
    "        \"max_trend_weekly\",\n",
    "        \n",
    "        \"disag_fridge\",\n",
    "        \"cluster_small\",\n",
    "        \"cluster_big\",\n",
    "        \"lt_500\",\n",
    "        \"bet_500_1000\",\n",
    "        \"gt_1000\",\n",
    "        \"temperature_corr\",\n",
    "         [\"daily_usage_%d\" %i for i in range(1,8)],\n",
    "        ['ratio_min_max', 'difference_min_max',\n",
    "                                        'ratio_difference_min_max'],\n",
    "               [\"seasonal_energy_%d\" %i for i in range(5,11)],\n",
    "        [\"fft_%d\" %i for i in range(1, 6)]\n",
    "\n",
    "           ])\n",
    "\n",
    "only_monthly_features =  np.hstack([[\"aggregate_%d\" %i for i in range(1,13)],\n",
    "                                    ['ratio_min_max', 'difference_min_max',\n",
    "                                        'ratio_difference_min_max']])\n",
    "\n",
    "monthly_plus_static_features = np.hstack([[\"aggregate_%d\" %i for i in range(1,13)],\n",
    "            \n",
    "        \"area\",\n",
    "        \"num_rooms\",\n",
    "        \"mins_hvac\",\n",
    "        \"total_occupants\",\n",
    "               ['ratio_min_max', 'difference_min_max',\n",
    "                                        'ratio_difference_min_max'],\n",
    "               ])\n"
   ]
  },
  {
   "cell_type": "code",
   "execution_count": null,
   "metadata": {
    "collapsed": false
   },
   "outputs": [],
   "source": []
  },
  {
   "cell_type": "code",
   "execution_count": 62,
   "metadata": {
    "collapsed": false
   },
   "outputs": [],
   "source": [
    "hvac_all_features = all_features.tolist()\n",
    "def remove_hvac_features(fe):\n",
    "\n",
    "    hvac_all_features = [x for x in fe if 'daily_usage' not in x]\n",
    "    hvac_all_features = [x for x in hvac_all_features if 'stdev_trend' not in x]\n",
    "    hvac_all_features = [x for x in hvac_all_features if 'stdev_seasonal' not in x]\n",
    "    hvac_all_features = [x for x in hvac_all_features if 'variance' not in x]\n",
    "    hvac_all_features = [x for x in hvac_all_features if 'mins_hvac' not in x]\n",
    "    hvac_all_features = [x for x in hvac_all_features if 'fraction' not in x]\n",
    "    return hvac_all_features\n"
   ]
  },
  {
   "cell_type": "code",
   "execution_count": null,
   "metadata": {
    "collapsed": false
   },
   "outputs": [],
   "source": [
    "ft"
   ]
  },
  {
   "cell_type": "code",
   "execution_count": 64,
   "metadata": {
    "collapsed": false
   },
   "outputs": [
    {
     "name": "stdout",
     "output_type": "stream",
     "text": [
      "%%%%%%%%%%%%%%%%%%%%%%%%%%%%%%%%%%%%%%%%\n",
      "hvac\n",
      "%%%%%%%%%%%%%%%%%%%%%%%%%%%%%%%%%%%%%%%%\n",
      "********************\n",
      "Monthly\n",
      "********************\n",
      "6 ['aggregate_7', 'aggregate_11', 'aggregate_8', 'aggregate_12'] 86.4240223694\n",
      "--------------------------------------------------------------------------------\n",
      "********************\n",
      "All\n",
      "********************\n",
      "6 ['aggregate_7', 'aggregate_11', 'aggregate_8', 'aggregate_12'] 86.4240223694\n",
      "--------------------------------------------------------------------------------\n",
      "********************\n",
      "15 min AMI\n",
      "********************\n",
      "6 ['aggregate_7', 'aggregate_11', 'aggregate_8', 'aggregate_12'] 86.4240223694\n",
      "--------------------------------------------------------------------------------\n",
      "********************\n",
      "Monthly+Static\n",
      "********************\n",
      "6 ['aggregate_7', 'aggregate_11', 'aggregate_8', 'aggregate_12'] 86.4240223694\n",
      "--------------------------------------------------------------------------------\n"
     ]
    },
    {
     "name": "stderr",
     "output_type": "stream",
     "text": [
      "<ipython-input-64-69a66f9d889e>:29: SyntaxWarning: name 'k' is assigned to before global declaration\n",
      "  global k\n"
     ]
    }
   ],
   "source": [
    "from copy import deepcopy\n",
    "\n",
    "out = {}\n",
    "optimal_dict = {}\n",
    "for appliance in [\"hvac\"]:\n",
    "    feature_map = {\n",
    "    \"15 min AMI\": remove_hvac_features(ami_features.tolist()),\n",
    "    \"Monthly\": remove_hvac_features(only_monthly_features.tolist()),\n",
    "    \"Monthly+Static\":remove_hvac_features(monthly_plus_static_features.tolist()),\n",
    "    \"All\":remove_hvac_features(all_features.tolist())\n",
    "    }\n",
    "\n",
    "    print \"%\"*40\n",
    "    print appliance\n",
    "    print \"%\"*40\n",
    "    out[appliance] = {}\n",
    "    optimal_dict[appliance] = {}\n",
    "    for feature_name, ft in deepcopy(feature_map).items():\n",
    "        \n",
    "        best_overall_f = []\n",
    "        best_overall_accur = 0\n",
    "        best_k=-1\n",
    "        out[appliance][feature_name] = {}\n",
    "        optimal_dict[appliance][feature_name] = {}\n",
    "        print \"*\"*20\n",
    "        print feature_name\n",
    "        print \"*\"*20\n",
    "        for k in range(1, 7):\n",
    "            global k\n",
    "            ftc = deepcopy(ft)\n",
    "            out[appliance][feature_name][k] = {}\n",
    "            \n",
    "            best=seq_forw_select(features=ftc, max_k=8,\n",
    "                          criterion_func=criterion_function, print_steps=False)\n",
    "            \n",
    "            \n",
    "            best_accur = 0.0\n",
    "            best_f = []\n",
    "            for i in range(1, len(best)):\n",
    "                if criterion_function(best[:i])>best_accur:\n",
    "                    best_accur = criterion_function(best[:i])\n",
    "                    best_f = best[:i]\n",
    "            out[appliance][feature_name][k][\"f\"] = best_f\n",
    "            out[appliance][feature_name][k][\"accuracy\"]=best_accur\n",
    "\n",
    "            if best_accur>best_overall_accur:\n",
    "                best_overall_f = best_f\n",
    "                best_overall_accur = best_accur\n",
    "                best_k = k\n",
    "       \n",
    "        print best_k, best_overall_f, best_overall_accur\n",
    "        print \"-\"*80\n",
    "\n",
    "        optimal_dict[appliance][feature_name] = {\"accuracy\":best_overall_accur, \"f\":best_overall_f,\"k\":best_k}       "
   ]
  },
  {
   "cell_type": "code",
   "execution_count": null,
   "metadata": {
    "collapsed": false
   },
   "outputs": [],
   "source": [
    "map(len, feature_map.values())"
   ]
  },
  {
   "cell_type": "code",
   "execution_count": 63,
   "metadata": {
    "collapsed": false
   },
   "outputs": [
    {
     "name": "stdout",
     "output_type": "stream",
     "text": [
      "{\"hvac\": {\"Monthly\": {\"1\": {\"accuracy\": 82.267100092164398, \"f\": [\"aggregate_5\", \"aggregate_7\", \"aggregate_4\", \"aggregate_3\"]}, \"2\": {\"accuracy\": 85.414235440491211, \"f\": [\"aggregate_7\", \"aggregate_9\", \"aggregate_12\", \"aggregate_5\"]}, \"3\": {\"accuracy\": 85.129610344195854, \"f\": [\"aggregate_7\", \"aggregate_5\", \"aggregate_3\"]}, \"4\": {\"accuracy\": 85.662417454734609, \"f\": [\"aggregate_7\", \"aggregate_6\", \"aggregate_11\"]}, \"5\": {\"accuracy\": 85.272819356503916, \"f\": [\"aggregate_7\", \"aggregate_11\", \"aggregate_1\", \"difference_min_max\", \"aggregate_10\"]}, \"6\": {\"accuracy\": 86.424022369359406, \"f\": [\"aggregate_7\", \"aggregate_11\", \"aggregate_8\", \"aggregate_12\"]}}, \"All\": {\"1\": {\"accuracy\": 83.283166337616493, \"f\": [\"aggregate_5\", \"daily_usage_1\", \"daily_usage_4\", \"daily_usage_6\"]}, \"2\": {\"accuracy\": 84.54986955323362, \"f\": [\"aggregate_7\", \"seasonal_energy_8\", \"max_trend_weekly\", \"aggregate_5\", \"seasonal_energy_7\"]}, \"3\": {\"accuracy\": 85.49928240834879, \"f\": [\"aggregate_7\", \"daily_usage_3\", \"aggregate_5\", \"daily_usage_2\", \"aggregate_1\", \"aggregate_6\", \"daily_usage_4\"]}, \"4\": {\"accuracy\": 85.689383148053494, \"f\": [\"aggregate_7\", \"daily_usage_3\", \"daily_usage_1\", \"aggregate_5\", \"aggregate_3\", \"daily_usage_4\", \"aggregate_1\"]}, \"5\": {\"accuracy\": 85.461772623401998, \"f\": [\"aggregate_7\", \"daily_usage_3\", \"bet_500_1000\", \"gt_1000\", \"aggregate_8\", \"difference_min_max\", \"aggregate_12\"]}, \"6\": {\"accuracy\": 86.463370085906362, \"f\": [\"aggregate_7\", \"aggregate_11\", \"aggregate_8\", \"aggregate_12\", \"daily_usage_3\"]}}, \"15 min AMI\": {\"1\": {\"accuracy\": 83.283166337616493, \"f\": [\"aggregate_5\", \"daily_usage_1\", \"daily_usage_4\", \"daily_usage_6\"]}, \"2\": {\"accuracy\": 84.54986955323362, \"f\": [\"aggregate_7\", \"seasonal_energy_8\", \"max_trend_weekly\", \"aggregate_5\", \"seasonal_energy_7\"]}, \"3\": {\"accuracy\": 85.49928240834879, \"f\": [\"aggregate_7\", \"daily_usage_3\", \"aggregate_5\", \"daily_usage_2\", \"aggregate_1\", \"aggregate_6\", \"daily_usage_4\"]}, \"4\": {\"accuracy\": 85.689383148053494, \"f\": [\"aggregate_7\", \"daily_usage_3\", \"daily_usage_1\", \"aggregate_5\", \"aggregate_3\", \"daily_usage_4\", \"aggregate_1\"]}, \"5\": {\"accuracy\": 85.461772623401998, \"f\": [\"aggregate_7\", \"daily_usage_3\", \"bet_500_1000\", \"gt_1000\", \"aggregate_8\", \"difference_min_max\", \"aggregate_12\"]}, \"6\": {\"accuracy\": 86.463370085906362, \"f\": [\"aggregate_7\", \"aggregate_11\", \"aggregate_8\", \"aggregate_12\", \"daily_usage_3\"]}}, \"Monthly+Static\": {\"1\": {\"accuracy\": 82.267100092164398, \"f\": [\"aggregate_5\", \"aggregate_7\", \"aggregate_4\", \"aggregate_3\"]}, \"2\": {\"accuracy\": 85.414235440491211, \"f\": [\"aggregate_7\", \"aggregate_9\", \"aggregate_12\", \"aggregate_5\"]}, \"3\": {\"accuracy\": 85.129610344195854, \"f\": [\"aggregate_7\", \"aggregate_5\", \"aggregate_3\"]}, \"4\": {\"accuracy\": 85.662417454734609, \"f\": [\"aggregate_7\", \"aggregate_6\", \"aggregate_11\"]}, \"5\": {\"accuracy\": 85.272819356503916, \"f\": [\"aggregate_7\", \"aggregate_11\", \"aggregate_1\", \"difference_min_max\", \"aggregate_10\"]}, \"6\": {\"accuracy\": 86.424022369359406, \"f\": [\"aggregate_7\", \"aggregate_11\", \"aggregate_8\", \"aggregate_12\"]}}}, \"light\": {\"Monthly\": {\"1\": {\"accuracy\": 31.438947937429244, \"f\": [\"aggregate_9\"]}, \"2\": {\"accuracy\": 53.976512164980761, \"f\": [\"difference_min_max\", \"aggregate_11\", \"ratio_min_max\", \"aggregate_2\", \"ratio_difference_min_max\"]}, \"3\": {\"accuracy\": 54.121890620081153, \"f\": [\"aggregate_1\", \"aggregate_5\", \"ratio_min_max\", \"aggregate_8\", \"aggregate_7\"]}, \"4\": {\"accuracy\": 54.344332062440714, \"f\": [\"aggregate_1\", \"aggregate_2\", \"difference_min_max\", \"aggregate_5\", \"aggregate_8\", \"ratio_min_max\", \"aggregate_6\"]}, \"5\": {\"accuracy\": 45.251203801612803, \"f\": [\"aggregate_1\"]}, \"6\": {\"accuracy\": 43.511013270424606, \"f\": [\"aggregate_12\"]}}, \"All\": {\"1\": {\"accuracy\": 51.813773439859567, \"f\": [\"lt_500\", \"fraction_7\", \"fraction_3\", \"fraction_8\"]}, \"2\": {\"accuracy\": 63.218927056093456, \"f\": [\"difference_min_max\", \"bet_500_1000\", \"aggregate_7\", \"fraction_20\", \"fraction_23\", \"fraction_14\", \"aggregate_5\"]}, \"3\": {\"accuracy\": 60.675073128903328, \"f\": [\"daily_usage_4\", \"fraction_11\", \"bet_500_1000\", \"aggregate_3\", \"fraction_21\", \"daily_usage_5\"]}, \"4\": {\"accuracy\": 57.214660011526369, \"f\": [\"aggregate_1\", \"autocorr\", \"bet_500_1000\", \"gt_1000\", \"daily_usage_5\", \"fraction_20\", \"disag_fridge\"]}, \"5\": {\"accuracy\": 64.852755528966512, \"f\": [\"fraction_20\", \"aggregate_12\", \"disag_fridge\", \"fraction_14\", \"fraction_11\", \"aggregate_1\"]}, \"6\": {\"accuracy\": 57.20697695035124, \"f\": [\"fraction_20\", \"daily_usage_2\"]}}, \"15 min AMI\": {\"1\": {\"accuracy\": 51.813773439859567, \"f\": [\"lt_500\", \"fraction_7\", \"fraction_3\", \"fraction_8\"]}, \"2\": {\"accuracy\": 63.218927056093456, \"f\": [\"difference_min_max\", \"bet_500_1000\", \"aggregate_7\", \"fraction_20\", \"fraction_23\", \"fraction_14\", \"aggregate_5\"]}, \"3\": {\"accuracy\": 60.675073128903328, \"f\": [\"daily_usage_4\", \"fraction_11\", \"bet_500_1000\", \"aggregate_3\", \"fraction_21\", \"daily_usage_5\"]}, \"4\": {\"accuracy\": 57.214660011526369, \"f\": [\"aggregate_1\", \"autocorr\", \"bet_500_1000\", \"gt_1000\", \"daily_usage_5\", \"fraction_20\", \"disag_fridge\"]}, \"5\": {\"accuracy\": 64.852755528966512, \"f\": [\"fraction_20\", \"aggregate_12\", \"disag_fridge\", \"fraction_14\", \"fraction_11\", \"aggregate_1\"]}, \"6\": {\"accuracy\": 57.20697695035124, \"f\": [\"fraction_20\", \"daily_usage_2\"]}}, \"Monthly+Static\": {\"1\": {\"accuracy\": 37.193251560490978, \"f\": [\"aggregate_9\", \"difference_min_max\", \"ratio_min_max\", \"num_rooms\"]}, \"2\": {\"accuracy\": 53.976512164980761, \"f\": [\"difference_min_max\", \"aggregate_11\", \"ratio_min_max\", \"aggregate_2\", \"ratio_difference_min_max\"]}, \"3\": {\"accuracy\": 54.121890620081153, \"f\": [\"aggregate_1\", \"aggregate_5\", \"ratio_min_max\", \"aggregate_8\", \"aggregate_7\"]}, \"4\": {\"accuracy\": 54.344332062440714, \"f\": [\"aggregate_1\", \"aggregate_2\", \"difference_min_max\", \"aggregate_5\", \"aggregate_8\", \"ratio_min_max\", \"aggregate_6\"]}, \"5\": {\"accuracy\": 47.901838243688239, \"f\": [\"area\", \"aggregate_9\"]}, \"6\": {\"accuracy\": 47.944802681321839, \"f\": [\"aggregate_12\", \"aggregate_5\", \"area\", \"aggregate_6\", \"aggregate_1\", \"aggregate_2\", \"total_occupants\"]}}}, \"wm\": {\"Monthly\": {\"1\": {\"accuracy\": 71.583530163055556, \"f\": [\"aggregate_11\", \"aggregate_10\"]}, \"2\": {\"accuracy\": 72.765281855976468, \"f\": [\"aggregate_11\", \"aggregate_10\", \"aggregate_2\", \"aggregate_5\", \"aggregate_7\"]}, \"3\": {\"accuracy\": 71.232095999108836, \"f\": [\"aggregate_11\", \"aggregate_2\"]}, \"4\": {\"accuracy\": 67.63625986555455, \"f\": [\"aggregate_11\", \"aggregate_2\"]}, \"5\": {\"accuracy\": 66.82577778037394, \"f\": [\"aggregate_1\"]}, \"6\": {\"accuracy\": 67.478156287042935, \"f\": [\"aggregate_2\", \"aggregate_7\", \"aggregate_1\", \"difference_min_max\", \"aggregate_4\", \"aggregate_6\"]}}, \"All\": {\"1\": {\"accuracy\": 73.893094631425072, \"f\": [\"mins_hvac\", \"fraction_14\", \"fraction_11\", \"daily_usage_1\", \"aggregate_3\"]}, \"2\": {\"accuracy\": 74.276703188300772, \"f\": [\"daily_usage_1\", \"aggregate_11\", \"aggregate_10\", \"bet_500_1000\", \"aggregate_4\"]}, \"3\": {\"accuracy\": 73.683313941567548, \"f\": [\"daily_usage_3\", \"seasonal_energy_8\", \"fft_5\", \"fraction_5\", \"aggregate_7\"]}, \"4\": {\"accuracy\": 70.919318985353115, \"f\": [\"total_occupants\", \"cluster_small\", \"ratio_min_max\", \"aggregate_2\"]}, \"5\": {\"accuracy\": 72.218594475632955, \"f\": [\"fraction_23\", \"fraction_17\", \"area\", \"fraction_8\", \"mins_hvac\"]}, \"6\": {\"accuracy\": 72.92975487426115, \"f\": [\"fraction_21\", \"fraction_1\", \"fraction_8\"]}}, \"15 min AMI\": {\"1\": {\"accuracy\": 73.374228004601278, \"f\": [\"daily_usage_3\", \"max_seasonal_weekly\", \"aggregate_2\"]}, \"2\": {\"accuracy\": 74.276703188300772, \"f\": [\"daily_usage_1\", \"aggregate_11\", \"aggregate_10\", \"bet_500_1000\", \"aggregate_4\"]}, \"3\": {\"accuracy\": 73.683313941567548, \"f\": [\"daily_usage_3\", \"seasonal_energy_8\", \"fft_5\", \"fraction_5\", \"aggregate_7\"]}, \"4\": {\"accuracy\": 70.97233867976334, \"f\": [\"aggregate_11\", \"fraction_2\", \"fraction_22\", \"fraction_1\", \"fraction_11\"]}, \"5\": {\"accuracy\": 74.401788746441085, \"f\": [\"fraction_23\", \"fraction_17\", \"fraction_24\", \"ratio_min_max\", \"cluster_big\", \"aggregate_2\", \"fraction_16\"]}, \"6\": {\"accuracy\": 72.92975487426115, \"f\": [\"fraction_21\", \"fraction_1\", \"fraction_8\"]}}, \"Monthly+Static\": {\"1\": {\"accuracy\": 67.582193410113078, \"f\": [\"mins_hvac\", \"aggregate_11\", \"aggregate_5\", \"aggregate_4\", \"ratio_min_max\"]}, \"2\": {\"accuracy\": 72.277403686281801, \"f\": [\"aggregate_11\", \"aggregate_10\"]}, \"3\": {\"accuracy\": 71.398085984575843, \"f\": [\"aggregate_11\", \"aggregate_2\", \"aggregate_1\", \"area\"]}, \"4\": {\"accuracy\": 67.921739656742204, \"f\": [\"total_occupants\"]}, \"5\": {\"accuracy\": 69.76742294778002, \"f\": [\"aggregate_1\", \"aggregate_2\", \"area\", \"aggregate_4\"]}, \"6\": {\"accuracy\": 70.316834328353778, \"f\": [\"aggregate_2\", \"area\", \"mins_hvac\", \"aggregate_12\", \"aggregate_1\"]}}}, \"fridge\": {\"Monthly\": {\"1\": {\"accuracy\": 81.947777749608932, \"f\": [\"aggregate_1\", \"ratio_min_max\", \"aggregate_3\", \"aggregate_4\", \"aggregate_12\", \"ratio_difference_min_max\"]}, \"2\": {\"accuracy\": 79.115802025200665, \"f\": [\"aggregate_9\", \"difference_min_max\"]}, \"3\": {\"accuracy\": 78.158064119620704, \"f\": [\"aggregate_7\", \"difference_min_max\", \"aggregate_9\"]}, \"4\": {\"accuracy\": 79.21228410313843, \"f\": [\"aggregate_7\", \"difference_min_max\"]}, \"5\": {\"accuracy\": 79.430074864753678, \"f\": [\"aggregate_7\", \"difference_min_max\", \"ratio_min_max\"]}, \"6\": {\"accuracy\": 77.764986325943923, \"f\": [\"difference_min_max\", \"aggregate_7\"]}}, \"All\": {\"1\": {\"accuracy\": 86.334667898545945, \"f\": [\"aggregate_1\", \"fraction_11\", \"aggregate_3\", \"max_seasonal_12\", \"aggregate_12\", \"aggregate_4\"]}, \"2\": {\"accuracy\": 87.0826401457212, \"f\": [\"max_seasonal_weekly\", \"fft_3\", \"cluster_small\", \"max_trend_12\", \"max_trend_daily\", \"aggregate_1\"]}, \"3\": {\"accuracy\": 87.068839475085994, \"f\": [\"total_occupants\", \"daily_usage_1\", \"daily_usage_2\", \"bet_500_1000\", \"gt_1000\", \"fraction_19\", \"aggregate_8\"]}, \"4\": {\"accuracy\": 89.08356420196985, \"f\": [\"gt_1000\", \"fft_3\", \"fraction_8\", \"lt_500\", \"bet_500_1000\", \"seasonal_energy_10\", \"fraction_16\"]}, \"5\": {\"accuracy\": 86.351738557878733, \"f\": [\"seasonal_energy_6\", \"fraction_15\", \"fft_4\", \"fraction_16\", \"max_seasonal_12\", \"fraction_14\", \"aggregate_3\"]}, \"6\": {\"accuracy\": 86.443007625920089, \"f\": [\"max_seasonal_12\", \"fraction_9\", \"fraction_14\", \"fft_3\", \"cluster_big\", \"ratio_min_max\", \"fft_4\"]}}, \"15 min AMI\": {\"1\": {\"accuracy\": 86.334667898545945, \"f\": [\"aggregate_1\", \"fraction_11\", \"aggregate_3\", \"max_seasonal_12\", \"aggregate_12\", \"aggregate_4\"]}, \"2\": {\"accuracy\": 87.0826401457212, \"f\": [\"max_seasonal_weekly\", \"fft_3\", \"cluster_small\", \"max_trend_12\", \"max_trend_daily\", \"aggregate_1\"]}, \"3\": {\"accuracy\": 85.708456511608759, \"f\": [\"daily_usage_1\", \"fraction_20\", \"seasonal_energy_5\", \"aggregate_4\", \"aggregate_2\", \"aggregate_1\"]}, \"4\": {\"accuracy\": 89.08356420196985, \"f\": [\"gt_1000\", \"fft_3\", \"fraction_8\", \"lt_500\", \"bet_500_1000\", \"seasonal_energy_10\", \"fraction_16\"]}, \"5\": {\"accuracy\": 86.351738557878733, \"f\": [\"seasonal_energy_6\", \"fraction_15\", \"fft_4\", \"fraction_16\", \"max_seasonal_12\", \"fraction_14\", \"aggregate_3\"]}, \"6\": {\"accuracy\": 86.443007625920089, \"f\": [\"max_seasonal_12\", \"fraction_9\", \"fraction_14\", \"fft_3\", \"cluster_big\", \"ratio_min_max\", \"fft_4\"]}}, \"Monthly+Static\": {\"1\": {\"accuracy\": 85.794804289910232, \"f\": [\"aggregate_1\", \"ratio_min_max\", \"aggregate_3\", \"total_occupants\", \"aggregate_11\", \"ratio_difference_min_max\"]}, \"2\": {\"accuracy\": 82.565517046537977, \"f\": [\"total_occupants\", \"aggregate_7\", \"aggregate_9\", \"aggregate_12\", \"aggregate_5\", \"aggregate_3\", \"aggregate_2\"]}, \"3\": {\"accuracy\": 81.834411374340121, \"f\": [\"total_occupants\", \"area\", \"aggregate_6\", \"mins_hvac\", \"aggregate_5\", \"aggregate_3\"]}, \"4\": {\"accuracy\": 83.909342861121686, \"f\": [\"total_occupants\", \"aggregate_7\", \"ratio_min_max\", \"aggregate_2\"]}, \"5\": {\"accuracy\": 82.498246793685652, \"f\": [\"total_occupants\", \"aggregate_6\", \"aggregate_2\", \"aggregate_3\", \"ratio_min_max\", \"aggregate_9\", \"aggregate_11\"]}, \"6\": {\"accuracy\": 78.256395676574286, \"f\": [\"total_occupants\"]}}}, \"dw\": {\"Monthly\": {\"1\": {\"accuracy\": 36.34284385187663, \"f\": [\"aggregate_5\", \"aggregate_12\", \"aggregate_10\", \"aggregate_6\", \"aggregate_2\"]}, \"2\": {\"accuracy\": 38.569355004112808, \"f\": [\"aggregate_12\", \"aggregate_11\"]}, \"3\": {\"accuracy\": 38.854165672955425, \"f\": [\"aggregate_5\"]}, \"4\": {\"accuracy\": 45.356873909323326, \"f\": [\"aggregate_5\"]}, \"5\": {\"accuracy\": 47.886487233052982, \"f\": [\"aggregate_10\", \"aggregate_1\", \"aggregate_2\", \"ratio_min_max\", \"aggregate_11\"]}, \"6\": {\"accuracy\": 45.984897253137156, \"f\": [\"aggregate_10\", \"aggregate_2\", \"aggregate_1\", \"aggregate_3\", \"ratio_min_max\", \"aggregate_12\"]}}, \"All\": {\"1\": {\"accuracy\": 49.901591817605855, \"f\": [\"max_trend_daily\", \"fft_1\", \"fraction_13\", \"fraction_14\", \"aggregate_12\", \"aggregate_2\"]}, \"2\": {\"accuracy\": 54.787611923729592, \"f\": [\"aggregate_12\", \"bet_500_1000\", \"fft_2\", \"fraction_18\", \"temperature_corr\", \"fraction_24\", \"ratio_min_max\"]}, \"3\": {\"accuracy\": 49.601868952912213, \"f\": [\"fraction_16\", \"fraction_19\", \"fraction_24\", \"aggregate_8\", \"aggregate_1\"]}, \"4\": {\"accuracy\": 58.412902793355876, \"f\": [\"mins_hvac\", \"fraction_19\", \"fraction_9\", \"bet_500_1000\", \"aggregate_5\", \"fraction_15\", \"gt_1000\"]}, \"5\": {\"accuracy\": 54.26014692375373, \"f\": [\"fraction_19\", \"mins_hvac\", \"fraction_8\", \"aggregate_2\"]}, \"6\": {\"accuracy\": 57.20790180410404, \"f\": [\"aggregate_10\", \"fraction_3\", \"daily_usage_6\", \"autocorr\"]}}, \"15 min AMI\": {\"1\": {\"accuracy\": 49.901591817605855, \"f\": [\"max_trend_daily\", \"fft_1\", \"fraction_13\", \"fraction_14\", \"aggregate_12\", \"aggregate_2\"]}, \"2\": {\"accuracy\": 54.787611923729592, \"f\": [\"aggregate_12\", \"bet_500_1000\", \"fft_2\", \"fraction_18\", \"temperature_corr\", \"fraction_24\", \"ratio_min_max\"]}, \"3\": {\"accuracy\": 49.601868952912213, \"f\": [\"fraction_16\", \"fraction_19\", \"fraction_24\", \"aggregate_8\", \"aggregate_1\"]}, \"4\": {\"accuracy\": 57.972322607297123, \"f\": [\"fraction_17\", \"fraction_19\", \"aggregate_9\", \"fraction_18\", \"gt_1000\", \"fraction_14\", \"fft_3\"]}, \"5\": {\"accuracy\": 53.772658343611305, \"f\": [\"fraction_19\", \"fraction_17\", \"aggregate_7\", \"daily_usage_6\", \"fraction_14\", \"fraction_18\"]}, \"6\": {\"accuracy\": 57.20790180410404, \"f\": [\"aggregate_10\", \"fraction_3\", \"daily_usage_6\", \"autocorr\"]}}, \"Monthly+Static\": {\"1\": {\"accuracy\": 36.639989559015198, \"f\": [\"aggregate_5\", \"total_occupants\", \"aggregate_12\", \"aggregate_10\", \"aggregate_11\", \"mins_hvac\", \"difference_min_max\"]}, \"2\": {\"accuracy\": 45.987713830554782, \"f\": [\"aggregate_12\", \"aggregate_11\", \"ratio_min_max\", \"total_occupants\", \"aggregate_10\", \"aggregate_3\"]}, \"3\": {\"accuracy\": 50.696069938852638, \"f\": [\"aggregate_5\", \"total_occupants\", \"aggregate_11\", \"aggregate_10\", \"aggregate_4\"]}, \"4\": {\"accuracy\": 57.346590575876739, \"f\": [\"mins_hvac\", \"total_occupants\", \"aggregate_12\", \"aggregate_2\", \"aggregate_5\"]}, \"5\": {\"accuracy\": 58.059561966783555, \"f\": [\"mins_hvac\", \"aggregate_12\", \"total_occupants\", \"aggregate_5\", \"aggregate_1\"]}, \"6\": {\"accuracy\": 54.32582768385754, \"f\": [\"aggregate_10\", \"aggregate_2\", \"aggregate_1\", \"total_occupants\", \"aggregate_12\", \"mins_hvac\"]}}}, \"dr\": {\"Monthly\": {\"1\": {\"accuracy\": 43.474266066592065, \"f\": [\"aggregate_1\", \"aggregate_7\", \"aggregate_8\", \"aggregate_5\", \"aggregate_2\", \"difference_min_max\", \"aggregate_12\"]}, \"2\": {\"accuracy\": 50.794881911775853, \"f\": [\"aggregate_12\", \"aggregate_1\", \"aggregate_7\", \"aggregate_9\", \"aggregate_11\"]}, \"3\": {\"accuracy\": 55.733436393947095, \"f\": [\"aggregate_7\", \"aggregate_4\", \"aggregate_2\", \"aggregate_12\", \"aggregate_9\", \"aggregate_5\", \"aggregate_3\"]}, \"4\": {\"accuracy\": 55.795686526597471, \"f\": [\"aggregate_8\", \"aggregate_7\", \"aggregate_9\", \"aggregate_4\", \"aggregate_10\", \"aggregate_2\", \"aggregate_5\"]}, \"5\": {\"accuracy\": 51.23262029651454, \"f\": [\"ratio_min_max\", \"aggregate_12\"]}, \"6\": {\"accuracy\": 53.371037113581941, \"f\": [\"ratio_min_max\", \"ratio_difference_min_max\", \"aggregate_11\"]}}, \"All\": {\"1\": {\"accuracy\": 53.493429068871826, \"f\": [\"daily_usage_7\", \"seasonal_energy_7\", \"total_occupants\", \"aggregate_7\", \"ratio_min_max\", \"daily_usage_2\", \"ratio_difference_min_max\"]}, \"2\": {\"accuracy\": 53.777128437338881, \"f\": [\"lt_500\", \"fraction_9\", \"bet_500_1000\", \"fraction_17\", \"max_seasonal_12\", \"fraction_18\", \"fraction_15\"]}, \"3\": {\"accuracy\": 60.120973776884796, \"f\": [\"fraction_17\", \"fraction_8\", \"fraction_11\", \"bet_500_1000\"]}, \"4\": {\"accuracy\": 61.10359492209966, \"f\": [\"seasonal_energy_5\", \"fft_4\", \"seasonal_energy_6\", \"aggregate_10\", \"aggregate_11\", \"gt_1000\", \"seasonal_energy_7\"]}, \"5\": {\"accuracy\": 61.342075449112464, \"f\": [\"fraction_8\", \"bet_500_1000\", \"fraction_11\", \"max_seasonal_12\", \"aggregate_11\", \"num_rooms\", \"max_seasonal_daily\"]}, \"6\": {\"accuracy\": 60.665762661580196, \"f\": [\"fraction_8\", \"num_rooms\", \"aggregate_1\", \"bet_500_1000\", \"fraction_11\", \"max_seasonal_12\", \"max_seasonal_daily\"]}}, \"15 min AMI\": {\"1\": {\"accuracy\": 51.542872447400185, \"f\": [\"daily_usage_7\", \"seasonal_energy_7\", \"daily_usage_4\", \"seasonal_energy_6\", \"aggregate_6\"]}, \"2\": {\"accuracy\": 53.777128437338881, \"f\": [\"lt_500\", \"fraction_9\", \"bet_500_1000\", \"fraction_17\", \"max_seasonal_12\", \"fraction_18\", \"fraction_15\"]}, \"3\": {\"accuracy\": 60.120973776884796, \"f\": [\"fraction_17\", \"fraction_8\", \"fraction_11\", \"bet_500_1000\"]}, \"4\": {\"accuracy\": 61.10359492209966, \"f\": [\"seasonal_energy_5\", \"fft_4\", \"seasonal_energy_6\", \"aggregate_10\", \"aggregate_11\", \"gt_1000\", \"seasonal_energy_7\"]}, \"5\": {\"accuracy\": 61.023894854320417, \"f\": [\"fraction_8\", \"bet_500_1000\", \"fraction_11\", \"max_seasonal_12\", \"aggregate_11\"]}, \"6\": {\"accuracy\": 61.043507470135637, \"f\": [\"fraction_8\", \"fraction_11\", \"max_seasonal_12\", \"aggregate_10\", \"seasonal_energy_7\", \"max_seasonal_daily\", \"fraction_9\"]}}, \"Monthly+Static\": {\"1\": {\"accuracy\": 48.975224948818664, \"f\": [\"aggregate_1\", \"num_rooms\", \"aggregate_6\", \"aggregate_5\", \"total_occupants\", \"aggregate_9\", \"aggregate_3\"]}, \"2\": {\"accuracy\": 50.667656571794033, \"f\": [\"aggregate_12\", \"num_rooms\", \"aggregate_1\", \"aggregate_10\"]}, \"3\": {\"accuracy\": 57.681619759490303, \"f\": [\"total_occupants\", \"aggregate_10\", \"num_rooms\", \"aggregate_12\", \"ratio_min_max\", \"aggregate_11\", \"aggregate_4\"]}, \"4\": {\"accuracy\": 59.726613995013253, \"f\": [\"total_occupants\", \"aggregate_10\", \"aggregate_12\", \"num_rooms\", \"aggregate_2\"]}, \"5\": {\"accuracy\": 59.575639214034219, \"f\": [\"ratio_min_max\", \"aggregate_12\", \"total_occupants\", \"num_rooms\", \"mins_hvac\", \"aggregate_3\"]}, \"6\": {\"accuracy\": 57.046821492678703, \"f\": [\"ratio_min_max\", \"total_occupants\", \"aggregate_11\"]}}}}"
     ]
    }
   ],
   "source": [
    "!head out.json"
   ]
  },
  {
   "cell_type": "code",
   "execution_count": 39,
   "metadata": {
    "collapsed": true
   },
   "outputs": [],
   "source": [
    "oracle = pd.Series({'dw':64, 'fridge':94,'light':100, 'wm':77, 'dr': 64, 'hvac':95 }).to_dict()\n"
   ]
  },
  {
   "cell_type": "code",
   "execution_count": 40,
   "metadata": {
    "collapsed": false
   },
   "outputs": [],
   "source": [
    "accur_df = {}\n",
    "for appliance in ['hvac','fridge','wm','dr','dw','light']:\n",
    "    accur_df[appliance] = pd.DataFrame(optimal_dict[appliance]).ix['accuracy'].to_dict()\n",
    "    accur_df[appliance][\"Oracle\"] = oracle[appliance]"
   ]
  },
  {
   "cell_type": "code",
   "execution_count": 54,
   "metadata": {
    "collapsed": false
   },
   "outputs": [
    {
     "data": {
      "text/plain": [
       "86.424022369359406"
      ]
     },
     "execution_count": 54,
     "metadata": {},
     "output_type": "execute_result"
    }
   ],
   "source": [
    "appliance=\"hvac\"\n",
    "k=6\n",
    "criterion_function(['aggregate_7', 'aggregate_11', 'aggregate_8', 'aggregate_12'])"
   ]
  },
  {
   "cell_type": "code",
   "execution_count": 56,
   "metadata": {
    "collapsed": true
   },
   "outputs": [],
   "source": [
    "import json"
   ]
  },
  {
   "cell_type": "code",
   "execution_count": 57,
   "metadata": {
    "collapsed": false
   },
   "outputs": [],
   "source": [
    "json.dump(optimal_dict, open(\"optimal_dict.json\", 'w'))"
   ]
  },
  {
   "cell_type": "code",
   "execution_count": 58,
   "metadata": {
    "collapsed": true
   },
   "outputs": [],
   "source": [
    "json.dump(out, open(\"out.json\", 'w'))"
   ]
  },
  {
   "cell_type": "code",
   "execution_count": 60,
   "metadata": {
    "collapsed": false
   },
   "outputs": [
    {
     "data": {
      "text/plain": [
       "{'15 min AMI': {1: {'accuracy': 83.283166337616493,\n",
       "   'f': ['aggregate_5', 'daily_usage_1', 'daily_usage_4', 'daily_usage_6']},\n",
       "  2: {'accuracy': 84.54986955323362,\n",
       "   'f': ['aggregate_7',\n",
       "    'seasonal_energy_8',\n",
       "    'max_trend_weekly',\n",
       "    'aggregate_5',\n",
       "    'seasonal_energy_7']},\n",
       "  3: {'accuracy': 85.49928240834879,\n",
       "   'f': ['aggregate_7',\n",
       "    'daily_usage_3',\n",
       "    'aggregate_5',\n",
       "    'daily_usage_2',\n",
       "    'aggregate_1',\n",
       "    'aggregate_6',\n",
       "    'daily_usage_4']},\n",
       "  4: {'accuracy': 85.689383148053494,\n",
       "   'f': ['aggregate_7',\n",
       "    'daily_usage_3',\n",
       "    'daily_usage_1',\n",
       "    'aggregate_5',\n",
       "    'aggregate_3',\n",
       "    'daily_usage_4',\n",
       "    'aggregate_1']},\n",
       "  5: {'accuracy': 85.461772623401998,\n",
       "   'f': ['aggregate_7',\n",
       "    'daily_usage_3',\n",
       "    'bet_500_1000',\n",
       "    'gt_1000',\n",
       "    'aggregate_8',\n",
       "    'difference_min_max',\n",
       "    'aggregate_12']},\n",
       "  6: {'accuracy': 86.463370085906362,\n",
       "   'f': ['aggregate_7',\n",
       "    'aggregate_11',\n",
       "    'aggregate_8',\n",
       "    'aggregate_12',\n",
       "    'daily_usage_3']}},\n",
       " 'All': {1: {'accuracy': 83.283166337616493,\n",
       "   'f': ['aggregate_5', 'daily_usage_1', 'daily_usage_4', 'daily_usage_6']},\n",
       "  2: {'accuracy': 84.54986955323362,\n",
       "   'f': ['aggregate_7',\n",
       "    'seasonal_energy_8',\n",
       "    'max_trend_weekly',\n",
       "    'aggregate_5',\n",
       "    'seasonal_energy_7']},\n",
       "  3: {'accuracy': 85.49928240834879,\n",
       "   'f': ['aggregate_7',\n",
       "    'daily_usage_3',\n",
       "    'aggregate_5',\n",
       "    'daily_usage_2',\n",
       "    'aggregate_1',\n",
       "    'aggregate_6',\n",
       "    'daily_usage_4']},\n",
       "  4: {'accuracy': 85.689383148053494,\n",
       "   'f': ['aggregate_7',\n",
       "    'daily_usage_3',\n",
       "    'daily_usage_1',\n",
       "    'aggregate_5',\n",
       "    'aggregate_3',\n",
       "    'daily_usage_4',\n",
       "    'aggregate_1']},\n",
       "  5: {'accuracy': 85.461772623401998,\n",
       "   'f': ['aggregate_7',\n",
       "    'daily_usage_3',\n",
       "    'bet_500_1000',\n",
       "    'gt_1000',\n",
       "    'aggregate_8',\n",
       "    'difference_min_max',\n",
       "    'aggregate_12']},\n",
       "  6: {'accuracy': 86.463370085906362,\n",
       "   'f': ['aggregate_7',\n",
       "    'aggregate_11',\n",
       "    'aggregate_8',\n",
       "    'aggregate_12',\n",
       "    'daily_usage_3']}},\n",
       " 'Monthly': {1: {'accuracy': 82.267100092164398,\n",
       "   'f': ['aggregate_5', 'aggregate_7', 'aggregate_4', 'aggregate_3']},\n",
       "  2: {'accuracy': 85.414235440491211,\n",
       "   'f': ['aggregate_7', 'aggregate_9', 'aggregate_12', 'aggregate_5']},\n",
       "  3: {'accuracy': 85.129610344195854,\n",
       "   'f': ['aggregate_7', 'aggregate_5', 'aggregate_3']},\n",
       "  4: {'accuracy': 85.662417454734609,\n",
       "   'f': ['aggregate_7', 'aggregate_6', 'aggregate_11']},\n",
       "  5: {'accuracy': 85.272819356503916,\n",
       "   'f': ['aggregate_7',\n",
       "    'aggregate_11',\n",
       "    'aggregate_1',\n",
       "    'difference_min_max',\n",
       "    'aggregate_10']},\n",
       "  6: {'accuracy': 86.424022369359406,\n",
       "   'f': ['aggregate_7', 'aggregate_11', 'aggregate_8', 'aggregate_12']}},\n",
       " 'Monthly+Static': {1: {'accuracy': 82.267100092164398,\n",
       "   'f': ['aggregate_5', 'aggregate_7', 'aggregate_4', 'aggregate_3']},\n",
       "  2: {'accuracy': 85.414235440491211,\n",
       "   'f': ['aggregate_7', 'aggregate_9', 'aggregate_12', 'aggregate_5']},\n",
       "  3: {'accuracy': 85.129610344195854,\n",
       "   'f': ['aggregate_7', 'aggregate_5', 'aggregate_3']},\n",
       "  4: {'accuracy': 85.662417454734609,\n",
       "   'f': ['aggregate_7', 'aggregate_6', 'aggregate_11']},\n",
       "  5: {'accuracy': 85.272819356503916,\n",
       "   'f': ['aggregate_7',\n",
       "    'aggregate_11',\n",
       "    'aggregate_1',\n",
       "    'difference_min_max',\n",
       "    'aggregate_10']},\n",
       "  6: {'accuracy': 86.424022369359406,\n",
       "   'f': ['aggregate_7', 'aggregate_11', 'aggregate_8', 'aggregate_12']}}}"
      ]
     },
     "execution_count": 60,
     "metadata": {},
     "output_type": "execute_result"
    }
   ],
   "source": [
    "out['hvac']"
   ]
  },
  {
   "cell_type": "code",
   "execution_count": 50,
   "metadata": {
    "collapsed": false
   },
   "outputs": [
    {
     "data": {
      "text/plain": [
       "<matplotlib.legend.Legend at 0x16548acd0>"
      ]
     },
     "execution_count": 50,
     "metadata": {},
     "output_type": "execute_result"
    },
    {
     "data": {
      "image/png": "[encoded data removed]",
      "text/plain": [
       "<matplotlib.figure.Figure at 0x1654b2c90>"
      ]
     },
     "metadata": {},
     "output_type": "display_data"
    }
   ],
   "source": [
    "pd.DataFrame(accur_df)[['hvac','fridge','wm','dr','dw','light']].T.plot(figsize=(12,4), kind=\"bar\", rot=0).legend(loc='center left', bbox_to_anchor=(1, 0.5))\n",
    "#ax = plt.gca()\n",
    "#for p in ax.patches:\n",
    "#    ax.annotate(str(p.get_height()), (p.get_x() * 1.005, p.get_height() * 1.005))"
   ]
  },
  {
   "cell_type": "code",
   "execution_count": null,
   "metadata": {
    "collapsed": false
   },
   "outputs": [],
   "source": [
    "out"
   ]
  },
  {
   "cell_type": "code",
   "execution_count": null,
   "metadata": {
    "collapsed": false
   },
   "outputs": [],
   "source": [
    "#for appliance in [\"fridge\",\"wm\",\"light\",\"dr\",\"dw\"]:\n",
    "for appliance in [\"wm\"]:\n",
    "    print \"*\"*20\n",
    "    print appliance\n",
    "    print \"*\"*20\n",
    "    for k in range(4, 5):\n",
    "        print \"+\"*20\n",
    "        print k\n",
    "        best=seq_forw_select(features=a.tolist(), max_k=15,\n",
    "                      criterion_func=criterion_function, print_steps=True)\n",
    "        \n",
    "        "
   ]
  },
  {
   "cell_type": "code",
   "execution_count": null,
   "metadata": {
    "collapsed": false
   },
   "outputs": [],
   "source": [
    "temp=create_predictions('wm',['daily_usage_1', 'aggregate_11', 'aggregate_10', 'bet_500_1000', 'aggregate_4'],k=4)"
   ]
  },
  {
   "cell_type": "code",
   "execution_count": null,
   "metadata": {
    "collapsed": false
   },
   "outputs": [],
   "source": [
    "errors = {}\n",
    "for i in range(1, 13):\n",
    "    errors[i] = percentage_error(temp[i][\"gt\"], temp[i][\"pred\"])\n",
    "error_df = pd.DataFrame(errors)\n",
    "accur_df = 100-error_df\n",
    "accur_df[accur_df<0]=0"
   ]
  },
  {
   "cell_type": "code",
   "execution_count": null,
   "metadata": {
    "collapsed": false
   },
   "outputs": [],
   "source": [
    "accur_df.dropna().median().mean()"
   ]
  },
  {
   "cell_type": "code",
   "execution_count": null,
   "metadata": {
    "collapsed": false
   },
   "outputs": [],
   "source": [
    "accur_df[range(5, 11)].dropna().median().mean()"
   ]
  },
  {
   "cell_type": "code",
   "execution_count": null,
   "metadata": {
    "collapsed": true
   },
   "outputs": [],
   "source": [
    "home = 1334\n",
    "train_df = df.ix[all_homes[\"hvac\"]].drop(home)\n",
    "test_df = df.ix[home]\n",
    "appliance=\"hvac\"\n",
    "month=9\n",
    "\n",
    "def create_predictions_linear(appliance=\"hvac\", feature=['num_rooms', 'total_occupants'] ):\n",
    "    \n",
    "   \n",
    "    out_month = {}\n",
    "    gt_month = {}\n",
    "    overall_dfs = {}\n",
    "    df_pred_copy = df.copy()\n",
    "    #df_pred_copy = dfs[appliance].copy()\n",
    "    df_pred_copy = df_pred_copy.ix[all_homes[appliance]]\n",
    "    for i, month in enumerate([\"%s_%d\" %(appliance,i) for i in range(1,13)]):\n",
    "        y = df_pred_copy[month]\n",
    "        y2 = y.dropna()\n",
    "        y3 = y2[y2>appliance_min[appliance]].dropna()\n",
    "        df3 = df_pred_copy[feature].ix[y3.index].dropna()\n",
    "        \n",
    "        #df3 = df.ix[y3.index].dropna()\n",
    "        y3 = y3.ix[df3.index]\n",
    "        #df3 = df3.ix[appliance_fhmm[appliance].index].dropna()\n",
    "        #y3 = y3.ix[df3.index]\n",
    "        from sklearn.cross_validation import LeaveOneOut\n",
    "        from sklearn.neighbors import RadiusNeighborsRegressor\n",
    "        from sklearn.linear_model import LinearRegression\n",
    "        clf = LinearRegression()\n",
    "        #clf = RadiusNeighborsRegressor(radius=k)\n",
    "        #clf = KNeighborsRegressor(n_neighbors=k, weights=weights)\n",
    "        #clf = KNeighborsRegressor(n_neighbors=k, weights = 'distance' )\n",
    "        loo = LeaveOneOut(len(df3))\n",
    "        out_pred = []\n",
    "\n",
    "        for train, test in loo:\n",
    "            #clf.fit(preprocessing.normalize(df3[feature_columns[feature]].values[train]), y3.values[train])\n",
    "            clf.fit(df3[feature].values[train], y3.values[train])\n",
    "            #out_pred.append(clf.predict(preprocessing.normalize(df3[feature_columns[feature]].values[test])))\n",
    "            out_pred.append(clf.predict(df3[feature].values[test]))\n",
    "\n",
    "        out_pred = np.hstack(out_pred)\n",
    "\n",
    "        out_month[i+1] = out_pred\n",
    "        gt_month[i+1] = y3.values\n",
    "        overall_dfs[i+1] = pd.DataFrame({\"gt\":y3.values, \"pred\":out_pred,\n",
    "                                              \"gt_total\":dfc.ix[y3.index][\"aggregate_\"+str(i+1)].values}, index=y3.index)\n",
    "        overall_dfs[i+1][\"national average\"] = overall_dfs[i+1][\"gt_total\"]*national_average[appliance]\n",
    "    return overall_dfs\n",
    "\n",
    "def predict_linear(features):\n",
    "    from sklearn.linear_model import LinearRegression\n",
    "    l = LinearRegression()\n",
    "    l.fit(train_df[features], train_df[\"%s_%d\" %(appliance, month)])\n",
    "    pred = l.predict(test_df[features])\n",
    "    gt = test_df[\"%s_%d\" %(appliance, month)]\n",
    "    error = np.abs(pred-gt)/gt\n",
    "    error_percentage = 100*error\n",
    "    accur = 100-error_percentage\n",
    "    if accur<0:\n",
    "        accur=0\n",
    "    return accur\n"
   ]
  },
  {
   "cell_type": "code",
   "execution_count": null,
   "metadata": {
    "collapsed": false
   },
   "outputs": [],
   "source": [
    "hvac_all_features"
   ]
  },
  {
   "cell_type": "code",
   "execution_count": null,
   "metadata": {
    "collapsed": true
   },
   "outputs": [],
   "source": [
    "import warnings\n",
    "warnings.filterwarnings('ignore')"
   ]
  },
  {
   "cell_type": "code",
   "execution_count": null,
   "metadata": {
    "collapsed": false
   },
   "outputs": [],
   "source": [
    "best=seq_forw_select(features=a.tolist(), max_k=15,\n",
    "                      criterion_func=predict_linear, print_steps=True)"
   ]
  },
  {
   "cell_type": "code",
   "execution_count": null,
   "metadata": {
    "collapsed": false
   },
   "outputs": [],
   "source": [
    "for appliance in [\"dw\"]:\n",
    "    print \"*\"*20\n",
    "    print appliance\n",
    "    print \"*\"*20\n",
    "    for k in range(2, 8):\n",
    "        print \"+\"*20\n",
    "        print k\n",
    "        best=seq_forw_select(features=a.tolist(), max_k=10,\n",
    "                      criterion_func=criterion_function, print_steps=True)"
   ]
  },
  {
   "cell_type": "code",
   "execution_count": null,
   "metadata": {
    "collapsed": true
   },
   "outputs": [],
   "source": [
    "feature = ['aggregate_6']"
   ]
  },
  {
   "cell_type": "code",
   "execution_count": null,
   "metadata": {
    "collapsed": true
   },
   "outputs": [],
   "source": [
    "k=2"
   ]
  },
  {
   "cell_type": "code",
   "execution_count": null,
   "metadata": {
    "collapsed": false
   },
   "outputs": [],
   "source": [
    "temp = create_predictions('hvac',feature, 2)"
   ]
  },
  {
   "cell_type": "code",
   "execution_count": null,
   "metadata": {
    "collapsed": true
   },
   "outputs": [],
   "source": [
    "errors = {}\n",
    "for i in range(1, 13):\n",
    "    errors[i] = percentage_error(temp[i][\"gt\"], temp[i][\"pred\"])\n",
    "error_df = pd.DataFrame(errors)\n",
    "accur_df = 100-error_df\n",
    "accur_df[accur_df<0]=0"
   ]
  },
  {
   "cell_type": "code",
   "execution_count": null,
   "metadata": {
    "collapsed": false
   },
   "outputs": [],
   "source": [
    "accur_df[range(5, 11)].dropna().mean(axis=1)"
   ]
  },
  {
   "cell_type": "code",
   "execution_count": null,
   "metadata": {
    "collapsed": true
   },
   "outputs": [],
   "source": [
    "def criterion_function_lin(feature_set):\n",
    "    \n",
    "    \n",
    "    temp = create_predictions_lin(appliance, feature_set, month)\n",
    "    errors = {}\n",
    "    for i in range(1, 13):\n",
    "        errors[i] = percentage_error(temp[i][\"gt\"], temp[i][\"pred\"])\n",
    "    error_df = pd.DataFrame(errors)\n",
    "    accur_df = 100-error_df\n",
    "    accur_df[accur_df<0]=0\n",
    "   \n",
    "    if appliance is \"hvac\":\n",
    "         tdf = accur_df[range(5, 11)]\n",
    "    else:\n",
    "        tdf = accur_df\n",
    "    #print tdf.dropna().median().mean(), feature_set\n",
    "    return tdf.dropna().median().mean()"
   ]
  },
  {
   "cell_type": "code",
   "execution_count": null,
   "metadata": {
    "collapsed": false
   },
   "outputs": [],
   "source": [
    "accur_df[range(5, 11)].dropna().median().mean()"
   ]
  },
  {
   "cell_type": "code",
   "execution_count": null,
   "metadata": {
    "collapsed": false
   },
   "outputs": [],
   "source": [
    "len(accur_df.dropna().mean(axis=1).index)"
   ]
  },
  {
   "cell_type": "code",
   "execution_count": null,
   "metadata": {
    "collapsed": false
   },
   "outputs": [],
   "source": [
    "accur_df.dropna().median().mean()"
   ]
  },
  {
   "cell_type": "code",
   "execution_count": null,
   "metadata": {
    "collapsed": false
   },
   "outputs": [],
   "source": [
    "accur_df.dropna().mean(axis=1).index"
   ]
  },
  {
   "cell_type": "code",
   "execution_count": null,
   "metadata": {
    "collapsed": false
   },
   "outputs": [],
   "source": [
    "all_homes[\"wm\"]"
   ]
  },
  {
   "cell_type": "code",
   "execution_count": null,
   "metadata": {
    "collapsed": false
   },
   "outputs": [],
   "source": [
    "accur_df.dropna().mean(axis=1)"
   ]
  },
  {
   "cell_type": "code",
   "execution_count": null,
   "metadata": {
    "collapsed": true
   },
   "outputs": [],
   "source": [
    "%matplotlib inline"
   ]
  },
  {
   "cell_type": "code",
   "execution_count": null,
   "metadata": {
    "collapsed": false
   },
   "outputs": [],
   "source": [
    "m=6\n",
    "wm = 'hvac_%d' %m\n",
    "feature_plot=\"fft_5\"\n",
    "df.ix[all_homes[\"hvac\"]][[feature_plot,wm]].plot(kind=\"scatter\", x=feature_plot,y=wm)\n",
    "df.ix[all_homes[\"hvac\"]][[feature_plot,wm]].corr()"
   ]
  },
  {
   "cell_type": "code",
   "execution_count": null,
   "metadata": {
    "collapsed": true
   },
   "outputs": [],
   "source": [
    "temp = create_predictions('wm',['area'],1)\n",
    "errors = {}\n",
    "for i in range(1, 13):\n",
    "    errors[i] = percentage_error(temp[i][\"gt\"], temp[i][\"pred\"])\n",
    "error_df = pd.DataFrame(errors)\n",
    "accur_df = 100-error_df\n",
    "accur_df[accur_df<0]=0"
   ]
  },
  {
   "cell_type": "code",
   "execution_count": null,
   "metadata": {
    "collapsed": false
   },
   "outputs": [],
   "source": [
    "accur_df.dropna().median()"
   ]
  },
  {
   "cell_type": "code",
   "execution_count": null,
   "metadata": {
    "collapsed": false
   },
   "outputs": [],
   "source": [
    "all_homes['dw']"
   ]
  },
  {
   "cell_type": "code",
   "execution_count": null,
   "metadata": {
    "collapsed": false
   },
   "outputs": [],
   "source": [
    "st = pd.HDFStore(\"/Users/nipunbatra/Downloads/wiki-temp.h5\")\n",
    "out_dw = {}\n",
    "for home in all_homes['dw']:\n",
    "    a = st['/%d' %home]['2013']['dishwasher1'].resample(\"15T\")\n",
    "    print home\n",
    "    out_dw[home] = {'bet_500_1000':len(a.diff().abs()[(a.diff().abs()>500) & (a.diff().abs()<1000)]),\n",
    "                    'gt_1000':len(a.diff().abs()[(a.diff().abs()>1000)])}"
   ]
  },
  {
   "cell_type": "code",
   "execution_count": null,
   "metadata": {
    "collapsed": false
   },
   "outputs": [],
   "source": [
    "df.ix[all_homes['dw']].bet_500_1000"
   ]
  },
  {
   "cell_type": "code",
   "execution_count": null,
   "metadata": {
    "collapsed": false
   },
   "outputs": [],
   "source": [
    "import matplotlib.pyplot as plt\n",
    "plt.style.use('fivethirtyeight')\n",
    "plt.scatter(pd.Series(out_dw), df.ix[all_homes['dw']].bet_500_1000)\n",
    "#.corr(df.ix[all_homes['dw']].bet_500_1000)"
   ]
  },
  {
   "cell_type": "code",
   "execution_count": null,
   "metadata": {
    "collapsed": false
   },
   "outputs": [],
   "source": [
    "pd.Series(out_dw['bet_500_1000']).corr(df.ix[all_homes['dw']].bet_500_1000)"
   ]
  },
  {
   "cell_type": "code",
   "execution_count": null,
   "metadata": {
    "collapsed": false
   },
   "outputs": [],
   "source": [
    "pd.DataFrame(out_dw).T.corrwith(df.ix[all_homes['dw']].bet_500_1000)"
   ]
  },
  {
   "cell_type": "code",
   "execution_count": null,
   "metadata": {
    "collapsed": false
   },
   "outputs": [],
   "source": [
    "plt.scatter(df.ix[all_homes['dw']].bet_500_1000, pd.DataFrame(out_dw).T['bet_500_1000'])\n",
    "plt.xlabel(\"Fraction of step changes in \\naggregate between 500 and 1000W\")\n",
    "plt.ylabel(\"#Step changes in Dish washer \\nstream between 500 and 1000W\")\n",
    "plt.title(df.ix[all_homes['dw']].bet_500_1000.corr(pd.DataFrame(out_dw).T['bet_500_1000']))\n",
    "plt.tight_layout()\n",
    "plt.savefig(\"/Users/nipunbatra/git/monthly-disaggregation/figures/new/dw_aggregate_step_changes.png\")"
   ]
  },
  {
   "cell_type": "code",
   "execution_count": null,
   "metadata": {
    "collapsed": false
   },
   "outputs": [],
   "source": [
    "df.ix[all_homes['dw']]['dw_5']"
   ]
  },
  {
   "cell_type": "code",
   "execution_count": null,
   "metadata": {
    "collapsed": true
   },
   "outputs": [],
   "source": []
  }
 ],
 "metadata": {
  "kernelspec": {
   "display_name": "Python 2",
   "language": "python",
   "name": "python2"
  },
  "language_info": {
   "codemirror_mode": {
    "name": "ipython",
    "version": 2
   },
   "file_extension": ".py",
   "mimetype": "text/x-python",
   "name": "python",
   "nbconvert_exporter": "python",
   "pygments_lexer": "ipython2",
   "version": "2.7.11"
  }
 },
 "nbformat": 4,
 "nbformat_minor": 0
}
