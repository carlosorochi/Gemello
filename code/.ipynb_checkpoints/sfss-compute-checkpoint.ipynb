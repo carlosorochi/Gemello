{
 "cells": [
  {
   "cell_type": "code",
   "execution_count": 223,
   "metadata": {
    "collapsed": false
   },
   "outputs": [],
   "source": [
    "run create_df.py"
   ]
  },
  {
   "cell_type": "code",
   "execution_count": 2,
   "metadata": {
    "collapsed": true
   },
   "outputs": [],
   "source": [
    "import numpy as np\n",
    "import matplotlib.pyplot as plt\n",
    "%matplotlib inline\n",
    "plt.style.use('fivethirtyeight')"
   ]
  },
  {
   "cell_type": "code",
   "execution_count": 203,
   "metadata": {
    "collapsed": false
   },
   "outputs": [],
   "source": [
    "def create_predictions(appliance=\"hvac\", feature=['num_rooms', 'total_occupants'],k=2, weights='uniform',train_outlier=True):\n",
    "    \n",
    "   \n",
    "    out_month = {}\n",
    "    gt_month = {}\n",
    "    overall_dfs = {}\n",
    "    df_pred_copy = df.copy()\n",
    "    #df_pred_copy = dfs[appliance].copy()\n",
    "    df_pred_copy = df_pred_copy.ix[all_homes[appliance]]\n",
    "    if appliance==\"hvac\":\n",
    "        start_month, end_month = 5, 11\n",
    "    else:\n",
    "        start_month, end_month = 1, 13\n",
    "    for month_num in range(start_month, end_month):\n",
    "        month_appliance = \"%s_%d\" %(appliance, month_num)\n",
    "        y = df_pred_copy[month_appliance]\n",
    "        y2 = y.dropna()\n",
    "        y3 = y2[y2>appliance_min[appliance]].dropna()\n",
    "        df3 = df_pred_copy[feature].ix[y3.index].dropna()\n",
    "        \n",
    "        #df3 = df.ix[y3.index].dropna()\n",
    "        y3 = y3.ix[df3.index]\n",
    "        #df3 = df3.ix[appliance_fhmm[appliance].index].dropna()\n",
    "        #y3 = y3.ix[df3.index]\n",
    "        from sklearn.cross_validation import LeaveOneOut\n",
    "        from sklearn.neighbors import RadiusNeighborsRegressor\n",
    "        #clf = RadiusNeighborsRegressor(radius=k)\n",
    "        clf = KNeighborsRegressor(n_neighbors=k, weights=weights)\n",
    "        #clf = KNeighborsRegressor(n_neighbors=k, weights = 'distance' )\n",
    "        loo = LeaveOneOut(len(df3))\n",
    "        out_pred = []\n",
    "\n",
    "        for train, test in loo:\n",
    "            if train_outlier:\n",
    "                outlier_homes, inlier_homes = find_outlier_train(y3.ix[y3.index.values[train]])\n",
    "                \n",
    "            else:\n",
    "                inlier_homes = deepcopy(y3.ix[y3.index.values[train]])\n",
    "            #clf.fit(preprocessing.normalize(df3[feature_columns[feature]].values[train]), y3.values[train])\n",
    "            \n",
    "            clf.fit(df3[feature].ix[inlier_homes.index], inlier_homes.values)\n",
    "            #out_pred.append(clf.predict(preprocessing.normalize(df3[feature_columns[feature]].values[test])))\n",
    "            out_pred.append(clf.predict(df3[feature].values[test]))\n",
    "\n",
    "        out_pred = np.hstack(out_pred)\n",
    "\n",
    "        out_month[month_num] = out_pred\n",
    "        gt_month[month_num] = y3.values\n",
    "        overall_dfs[month_num] = pd.DataFrame({\"gt\":y3.values, \"pred\":out_pred,\n",
    "                                              \"gt_total\":dfc.ix[y3.index][\"aggregate_\"+str(month_num)].values}, index=y3.index)\n",
    "        overall_dfs[month_num][\"national average\"] = overall_dfs[month_num][\"gt_total\"]*national_average[appliance]\n",
    "    return overall_dfs\n",
    "\n",
    "def percentage_error(gt, pred):\n",
    "    return 100*np.abs(gt-pred)/(gt)\n",
    "\n",
    "\n",
    "\n",
    "\n",
    "def compute_metrics(df):\n",
    "    temp = df[df.gt_total>0.0]\n",
    "    temp = temp[temp.gt>temp.gt_total]\n",
    "    return {\"Percentage error in appliance energy\":np.median(percentage_error(df[\"gt\"], df[\"pred\"]))\n",
    "            }"
   ]
  },
  {
   "cell_type": "code",
   "execution_count": 206,
   "metadata": {
    "collapsed": false
   },
   "outputs": [],
   "source": [
    "def criterion_function(feature_set):\n",
    "    global k\n",
    "    \n",
    "    \n",
    "    temp = create_predictions(appliance, feature_set, k=k)\n",
    "    errors = {}\n",
    "    if appliance ==\"hvac\":\n",
    "        start_month, end_month = 5, 11\n",
    "    else:\n",
    "        start_month, end_month = 1, 13\n",
    "    for i in range(start_month, end_month):\n",
    "        errors[i] = percentage_error(temp[i][\"gt\"], temp[i][\"pred\"])\n",
    "    error_df = pd.DataFrame(errors)\n",
    "    accur_df = 100-error_df\n",
    "    accur_df[accur_df<0]=0\n",
    "   \n",
    "    tdf = accur_df\n",
    "    #print tdf.dropna().median().mean(), feature_set\n",
    "    return tdf.dropna().median().mean()"
   ]
  },
  {
   "cell_type": "code",
   "execution_count": 171,
   "metadata": {
    "collapsed": true
   },
   "outputs": [],
   "source": [
    "def seq_forw_select(features, max_k, criterion_func, print_steps=False):\n",
    "    \"\"\"\n",
    "    Implementation of a Sequential Forward Selection algorithm.\n",
    "    \n",
    "    Keyword Arguments:\n",
    "        features (list): The feature space as a list of features.\n",
    "        max_k: Termination criterion; the size of the returned feature subset.\n",
    "        criterion_func (function): Function that is used to evaluate the\n",
    "            performance of the feature subset.\n",
    "        print_steps (bool): Prints the algorithm procedure if True.\n",
    "    \n",
    "    Returns the selected feature subset, a list of features of length max_k.\n",
    "\n",
    "    \"\"\"\n",
    "\n",
    "    # Initialization\n",
    "    feat_sub = []\n",
    "    k = 0\n",
    "    d = len(features)\n",
    "    if max_k > d:\n",
    "        max_k = d\n",
    "\n",
    "    while True:\n",
    "\n",
    "        # Inclusion step\n",
    "        \n",
    "        crit_func_max = criterion_func(feat_sub + [features[0]])\n",
    "        best_feat = features[0]\n",
    "        for x in features[1:]:\n",
    "            crit_func_eval = criterion_func(feat_sub + [x])\n",
    "            if crit_func_eval > crit_func_max:\n",
    "                crit_func_max = crit_func_eval\n",
    "                best_feat = x\n",
    "        feat_sub.append(best_feat)\n",
    "        if print_steps:\n",
    "            print('include: {} -> feature_subset: {}. Accuracy: {}'.format(best_feat, feat_sub, crit_func_max))\n",
    "        features.remove(best_feat)\n",
    "\n",
    "        # Termination condition\n",
    "        k = len(feat_sub)\n",
    "        if k == max_k:\n",
    "            break\n",
    "\n",
    "    return feat_sub"
   ]
  },
  {
   "cell_type": "code",
   "execution_count": 6,
   "metadata": {
    "collapsed": true
   },
   "outputs": [],
   "source": [
    "all_features = np.hstack([[\"aggregate_%d\" %i for i in range(1,13)],\n",
    "            [\"fraction_%d\" %i for i in range(1,25)],\n",
    "         \"autocorr\",\n",
    "         \"max_seasonal_12\",\n",
    "       \n",
    "        \"max_trend_12\",\n",
    "        \n",
    "        \"max_seasonal_daily\",\n",
    "        \n",
    "        \"max_trend_daily\",\n",
    "        \n",
    "         \"max_seasonal_weekly\",\n",
    "        \n",
    "        \"max_trend_weekly\",\n",
    "        \n",
    "        \"disag_fridge\",\n",
    "        \"cluster_small\",\n",
    "        \"cluster_big\",\n",
    "        \"lt_500\",\n",
    "        \"bet_500_1000\",\n",
    "        \"gt_1000\",\n",
    "        \"temperature_corr\",\n",
    "         [\"daily_usage_%d\" %i for i in range(1,8)],\n",
    "        \"area\",\n",
    "        \"num_rooms\",\n",
    "        \"mins_hvac\",\n",
    "        \"total_occupants\",\n",
    "               ['ratio_min_max', 'difference_min_max',\n",
    "                                        'ratio_difference_min_max'],\n",
    "               [\"seasonal_energy_%d\" %i for i in range(5,11)],\n",
    "        [\"fft_%d\" %i for i in range(1, 6)]\n",
    "\n",
    "           ])\n",
    "\n",
    "ami_features = np.hstack([[\"aggregate_%d\" %i for i in range(1,13)],\n",
    "            [\"fraction_%d\" %i for i in range(1,25)],\n",
    "         \"autocorr\",\n",
    "         \"max_seasonal_12\",\n",
    "       \n",
    "        \"max_trend_12\",\n",
    "       \n",
    "        \"max_seasonal_daily\",\n",
    "       \n",
    "        \"max_trend_daily\",\n",
    "        \n",
    "         \"max_seasonal_weekly\",\n",
    "        \n",
    "        \"max_trend_weekly\",\n",
    "        \n",
    "        \"disag_fridge\",\n",
    "        \"cluster_small\",\n",
    "        \"cluster_big\",\n",
    "        \"lt_500\",\n",
    "        \"bet_500_1000\",\n",
    "        \"gt_1000\",\n",
    "        \"temperature_corr\",\n",
    "         [\"daily_usage_%d\" %i for i in range(1,8)],\n",
    "        ['ratio_min_max', 'difference_min_max',\n",
    "                                        'ratio_difference_min_max'],\n",
    "               [\"seasonal_energy_%d\" %i for i in range(5,11)],\n",
    "        [\"fft_%d\" %i for i in range(1, 6)]\n",
    "\n",
    "           ])\n",
    "\n",
    "only_monthly_features =  np.hstack([[\"aggregate_%d\" %i for i in range(1,13)],\n",
    "                                    ['ratio_min_max', 'difference_min_max',\n",
    "                                        'ratio_difference_min_max']])\n",
    "\n",
    "monthly_plus_static_features = np.hstack([[\"aggregate_%d\" %i for i in range(1,13)],\n",
    "            \n",
    "        \"area\",\n",
    "        \"num_rooms\",\n",
    "        \"mins_hvac\",\n",
    "        \"total_occupants\",\n",
    "               ['ratio_min_max', 'difference_min_max',\n",
    "                                        'ratio_difference_min_max'],\n",
    "               ])\n"
   ]
  },
  {
   "cell_type": "code",
   "execution_count": null,
   "metadata": {
    "collapsed": false
   },
   "outputs": [],
   "source": []
  },
  {
   "cell_type": "code",
   "execution_count": 62,
   "metadata": {
    "collapsed": false
   },
   "outputs": [],
   "source": [
    "hvac_all_features = all_features.tolist()\n",
    "def remove_hvac_features(fe):\n",
    "\n",
    "    hvac_all_features = [x for x in fe if 'daily_usage' not in x]\n",
    "    hvac_all_features = [x for x in hvac_all_features if 'stdev_trend' not in x]\n",
    "    hvac_all_features = [x for x in hvac_all_features if 'stdev_seasonal' not in x]\n",
    "    hvac_all_features = [x for x in hvac_all_features if 'variance' not in x]\n",
    "    hvac_all_features = [x for x in hvac_all_features if 'mins_hvac' not in x]\n",
    "    hvac_all_features = [x for x in hvac_all_features if 'fraction' not in x]\n",
    "    return hvac_all_features\n"
   ]
  },
  {
   "cell_type": "code",
   "execution_count": 70,
   "metadata": {
    "collapsed": false
   },
   "outputs": [],
   "source": [
    "def is_normal(a):\n",
    "    from scipy.stats import mstats\n",
    "\n",
    "    #Check for normality\n",
    "    z,pval = mstats.normaltest(a)\n",
    "    if(pval < 0.05):\n",
    "        return False\n",
    "    else:\n",
    "        return True"
   ]
  },
  {
   "cell_type": "code",
   "execution_count": 224,
   "metadata": {
    "collapsed": false
   },
   "outputs": [],
   "source": [
    "temp = create_predictions('hvac',feature, 2, train_outlier=True)\n"
   ]
  },
  {
   "cell_type": "code",
   "execution_count": 197,
   "metadata": {
    "collapsed": false
   },
   "outputs": [
    {
     "name": "stdout",
     "output_type": "stream",
     "text": [
      "5     65.834942\n",
      "6     69.310131\n",
      "7     82.625690\n",
      "8     81.838858\n",
      "9     76.577590\n",
      "10    67.296672\n",
      "dtype: float64 5     77.666759\n",
      "6     76.627787\n",
      "7     86.822457\n",
      "8     88.296033\n",
      "9     80.254296\n",
      "10    75.659580\n",
      "dtype: float64\n",
      "5     63.943428\n",
      "6     70.671203\n",
      "7     80.554923\n",
      "8     82.040330\n",
      "9     72.596268\n",
      "10    66.295968\n",
      "dtype: float64 5     77.666759\n",
      "6     77.519374\n",
      "7     86.822457\n",
      "8     88.632442\n",
      "9     80.254296\n",
      "10    75.659580\n",
      "dtype: float64\n"
     ]
    }
   ],
   "source": [
    "appliance=\"hvac\"\n",
    "feature = ['aggregate_7', 'aggregate_11', 'aggregate_8', 'aggregate_12']\n",
    "k=4\n",
    "temp = create_predictions(appliance,feature, 2)\n",
    "\n",
    "errors = {}\n",
    "if appliance==\"hvac\":\n",
    "    month_start, month_end = 5, 11\n",
    "else:\n",
    "    month_start, month_end = 1, 13\n",
    "for i in range(month_start, month_end):\n",
    "    errors[i] = percentage_error(temp[i][\"gt\"], temp[i][\"pred\"])\n",
    "error_df = pd.DataFrame(errors)\n",
    "accur_df = 100-error_df\n",
    "accur_df[accur_df<0]=0\n",
    "\n",
    "print accur_df.mean(), accur_df.median()\n",
    "\n",
    "temp = create_predictions('hvac',feature, 2, train_outlier=True)\n",
    "\n",
    "errors = {}\n",
    "for i in range(month_start, month_end):\n",
    "    errors[i] = percentage_error(temp[i][\"gt\"], temp[i][\"pred\"])\n",
    "error_df = pd.DataFrame(errors)\n",
    "accur_df = 100-error_df\n",
    "accur_df[accur_df<0]=0\n",
    "\n",
    "print accur_df.mean(), accur_df.median()"
   ]
  },
  {
   "cell_type": "code",
   "execution_count": 200,
   "metadata": {
    "collapsed": false
   },
   "outputs": [
    {
     "data": {
      "text/plain": [
       "72.683686861897783"
      ]
     },
     "execution_count": 200,
     "metadata": {},
     "output_type": "execute_result"
    }
   ],
   "source": [
    "accur_df.mean().mean()"
   ]
  },
  {
   "cell_type": "code",
   "execution_count": 188,
   "metadata": {
    "collapsed": true
   },
   "outputs": [],
   "source": [
    "temp = create_predictions('hvac',feature, 2)\n"
   ]
  },
  {
   "cell_type": "code",
   "execution_count": 187,
   "metadata": {
    "collapsed": false
   },
   "outputs": [],
   "source": [
    "def find_outlier_train(ser, outliers_fraction=0.1, min_units=0.2):\n",
    "    # Returns outlier, inliers\n",
    "    \n",
    "    X = ser[ser>min_units].reshape(-1,1)\n",
    "    is_normal_data = is_normal(ser)\n",
    "    # FOR NOW only using Robust estimator of Covariance\n",
    "    is_normal_data = True\n",
    "    if is_normal_data:\n",
    "        # Use robust estimator of covariance\n",
    "        from sklearn.covariance import EllipticEnvelope\n",
    "        clf = EllipticEnvelope(contamination=.1)\n",
    "    else:\n",
    "        #Data is not normally distributed, use OneClassSVM based outlier detection\n",
    "        from sklearn import svm\n",
    "        clf = svm.OneClassSVM(nu=0.95 * outliers_fraction + 0.05,\n",
    "                                     kernel=\"rbf\", gamma=0.1)\n",
    "    from scipy import stats\n",
    "\n",
    "    clf.fit(X)\n",
    "    y_pred = clf.decision_function(X).ravel()\n",
    "    threshold = stats.scoreatpercentile(y_pred,\n",
    "                                        100 * outliers_fraction)\n",
    "    y_pred = y_pred > threshold\n",
    "    return ser[ser>min_units][~y_pred], ser[ser>min_units][y_pred]\n",
    "    "
   ]
  },
  {
   "cell_type": "code",
   "execution_count": 154,
   "metadata": {
    "collapsed": false
   },
   "outputs": [
    {
     "data": {
      "text/plain": [
       "26       624.465027\n",
       "94       118.666191\n",
       "370      815.937805\n",
       "410      459.637848\n",
       "545      955.640015\n",
       "624      315.469696\n",
       "1283     506.097961\n",
       "1642     502.067932\n",
       "1953     638.533630\n",
       "2129     789.619019\n",
       "2156     608.746460\n",
       "2242    1240.620972\n",
       "2814     779.891052\n",
       "3367     824.413208\n",
       "3456     452.101501\n",
       "3723     496.093384\n",
       "3967    1085.205322\n",
       "4767     579.574158\n",
       "5357    1293.008301\n",
       "5371     694.897278\n",
       "5746     672.633423\n",
       "5785     645.109009\n",
       "5814     490.392944\n",
       "6072     426.044128\n",
       "6636     808.978149\n",
       "6836     236.286148\n",
       "6910     546.732971\n",
       "7731     603.789978\n",
       "7769     292.214630\n",
       "7866     609.718201\n",
       "9654     300.643097\n",
       "9922     533.029419\n",
       "9933     420.507721\n",
       "9934     283.543427\n",
       "Name: hvac_6, dtype: float64"
      ]
     },
     "execution_count": 154,
     "metadata": {},
     "output_type": "execute_result"
    }
   ],
   "source": [
    "test_df = df.ix[all_homes['hvac']]['hvac_6']\n",
    "test_df[test_df>0.2]"
   ]
  },
  {
   "cell_type": "code",
   "execution_count": 155,
   "metadata": {
    "collapsed": false
   },
   "outputs": [
    {
     "name": "stdout",
     "output_type": "stream",
     "text": [
      "True\n"
     ]
    },
    {
     "data": {
      "text/plain": [
       "94       118.666191\n",
       "2242    1240.620972\n",
       "3967    1085.205322\n",
       "5357    1293.008301\n",
       "Name: hvac_6, dtype: float64"
      ]
     },
     "execution_count": 155,
     "metadata": {},
     "output_type": "execute_result"
    }
   ],
   "source": [
    "find_outlier_train(test_df)[0]"
   ]
  },
  {
   "cell_type": "code",
   "execution_count": 312,
   "metadata": {
    "collapsed": true
   },
   "outputs": [],
   "source": [
    "feature_map = {\n",
    "    \"15 min AMI\": remove_hvac_features(ami_features.tolist()),\n",
    "    \"Monthly\": remove_hvac_features(only_monthly_features.tolist()),\n",
    "    \"Monthly+Static\":remove_hvac_features(monthly_plus_static_features.tolist()),\n",
    "    \"All\":remove_hvac_features(all_features.tolist())\n",
    "    }"
   ]
  },
  {
   "cell_type": "code",
   "execution_count": 314,
   "metadata": {
    "collapsed": false
   },
   "outputs": [
    {
     "name": "stdout",
     "output_type": "stream",
     "text": [
      "%%%%%%%%%%%%%%%%%%%%%%%%%%%%%%%%%%%%%%%%\n",
      "hvac\n",
      "%%%%%%%%%%%%%%%%%%%%%%%%%%%%%%%%%%%%%%%%\n",
      "********************\n",
      "15 min AMI\n",
      "********************\n",
      "include: aggregate_5 -> feature_subset: ['aggregate_5']. Accuracy: 79.5261042888\n",
      "include: seasonal_energy_5 -> feature_subset: ['aggregate_5', 'seasonal_energy_5']. Accuracy: 81.0155202653\n",
      "include: gt_1000 -> feature_subset: ['aggregate_5', 'seasonal_energy_5', 'gt_1000']. Accuracy: 84.8447669458\n",
      "include: seasonal_energy_9 -> feature_subset: ['aggregate_5', 'seasonal_energy_5', 'gt_1000', 'seasonal_energy_9']. Accuracy: 84.8861152769\n",
      "include: aggregate_3 -> feature_subset: ['aggregate_5', 'seasonal_energy_5', 'gt_1000', 'seasonal_energy_9', 'aggregate_3']. Accuracy: 84.394684597\n"
     ]
    },
    {
     "name": "stderr",
     "output_type": "stream",
     "text": [
      "<ipython-input-314-8e212f68f738>:24: SyntaxWarning: name 'k' is assigned to before global declaration\n",
      "  global k\n"
     ]
    },
    {
     "ename": "KeyboardInterrupt",
     "evalue": "",
     "output_type": "error",
     "traceback": [
      "\u001b[0;31m---------------------------------------------------------------------------\u001b[0m",
      "\u001b[0;31mKeyboardInterrupt\u001b[0m                         Traceback (most recent call last)",
      "\u001b[0;32m<ipython-input-314-8e212f68f738>\u001b[0m in \u001b[0;36m<module>\u001b[0;34m()\u001b[0m\n\u001b[1;32m     27\u001b[0m \u001b[0;34m\u001b[0m\u001b[0m\n\u001b[1;32m     28\u001b[0m             best=seq_forw_select(features=ftc, max_k=6,\n\u001b[0;32m---> 29\u001b[0;31m                           criterion_func=criterion_function, print_steps=True)\n\u001b[0m\u001b[1;32m     30\u001b[0m \u001b[0;34m\u001b[0m\u001b[0m\n\u001b[1;32m     31\u001b[0m \u001b[0;34m\u001b[0m\u001b[0m\n",
      "\u001b[0;32m<ipython-input-171-5e6634faf1e9>\u001b[0m in \u001b[0;36mseq_forw_select\u001b[0;34m(features, max_k, criterion_func, print_steps)\u001b[0m\n\u001b[1;32m     28\u001b[0m         \u001b[0mbest_feat\u001b[0m \u001b[0;34m=\u001b[0m \u001b[0mfeatures\u001b[0m\u001b[0;34m[\u001b[0m\u001b[0;36m0\u001b[0m\u001b[0;34m]\u001b[0m\u001b[0;34m\u001b[0m\u001b[0m\n\u001b[1;32m     29\u001b[0m         \u001b[0;32mfor\u001b[0m \u001b[0mx\u001b[0m \u001b[0;32min\u001b[0m \u001b[0mfeatures\u001b[0m\u001b[0;34m[\u001b[0m\u001b[0;36m1\u001b[0m\u001b[0;34m:\u001b[0m\u001b[0;34m]\u001b[0m\u001b[0;34m:\u001b[0m\u001b[0;34m\u001b[0m\u001b[0m\n\u001b[0;32m---> 30\u001b[0;31m             \u001b[0mcrit_func_eval\u001b[0m \u001b[0;34m=\u001b[0m \u001b[0mcriterion_func\u001b[0m\u001b[0;34m(\u001b[0m\u001b[0mfeat_sub\u001b[0m \u001b[0;34m+\u001b[0m \u001b[0;34m[\u001b[0m\u001b[0mx\u001b[0m\u001b[0;34m]\u001b[0m\u001b[0;34m)\u001b[0m\u001b[0;34m\u001b[0m\u001b[0m\n\u001b[0m\u001b[1;32m     31\u001b[0m             \u001b[0;32mif\u001b[0m \u001b[0mcrit_func_eval\u001b[0m \u001b[0;34m>\u001b[0m \u001b[0mcrit_func_max\u001b[0m\u001b[0;34m:\u001b[0m\u001b[0;34m\u001b[0m\u001b[0m\n\u001b[1;32m     32\u001b[0m                 \u001b[0mcrit_func_max\u001b[0m \u001b[0;34m=\u001b[0m \u001b[0mcrit_func_eval\u001b[0m\u001b[0;34m\u001b[0m\u001b[0m\n",
      "\u001b[0;32m<ipython-input-206-d4073be03c73>\u001b[0m in \u001b[0;36mcriterion_function\u001b[0;34m(feature_set)\u001b[0m\n\u001b[1;32m      3\u001b[0m \u001b[0;34m\u001b[0m\u001b[0m\n\u001b[1;32m      4\u001b[0m \u001b[0;34m\u001b[0m\u001b[0m\n\u001b[0;32m----> 5\u001b[0;31m     \u001b[0mtemp\u001b[0m \u001b[0;34m=\u001b[0m \u001b[0mcreate_predictions\u001b[0m\u001b[0;34m(\u001b[0m\u001b[0mappliance\u001b[0m\u001b[0;34m,\u001b[0m \u001b[0mfeature_set\u001b[0m\u001b[0;34m,\u001b[0m \u001b[0mk\u001b[0m\u001b[0;34m=\u001b[0m\u001b[0mk\u001b[0m\u001b[0;34m)\u001b[0m\u001b[0;34m\u001b[0m\u001b[0m\n\u001b[0m\u001b[1;32m      6\u001b[0m     \u001b[0merrors\u001b[0m \u001b[0;34m=\u001b[0m \u001b[0;34m{\u001b[0m\u001b[0;34m}\u001b[0m\u001b[0;34m\u001b[0m\u001b[0m\n\u001b[1;32m      7\u001b[0m     \u001b[0;32mif\u001b[0m \u001b[0mappliance\u001b[0m \u001b[0;34m==\u001b[0m\u001b[0;34m\"hvac\"\u001b[0m\u001b[0;34m:\u001b[0m\u001b[0;34m\u001b[0m\u001b[0m\n",
      "\u001b[0;32m<ipython-input-203-79766ac16a74>\u001b[0m in \u001b[0;36mcreate_predictions\u001b[0;34m(appliance, feature, k, weights, train_outlier)\u001b[0m\n\u001b[1;32m     39\u001b[0m             \u001b[0;31m#clf.fit(preprocessing.normalize(df3[feature_columns[feature]].values[train]), y3.values[train])\u001b[0m\u001b[0;34m\u001b[0m\u001b[0;34m\u001b[0m\u001b[0m\n\u001b[1;32m     40\u001b[0m \u001b[0;34m\u001b[0m\u001b[0m\n\u001b[0;32m---> 41\u001b[0;31m             \u001b[0mclf\u001b[0m\u001b[0;34m.\u001b[0m\u001b[0mfit\u001b[0m\u001b[0;34m(\u001b[0m\u001b[0mdf3\u001b[0m\u001b[0;34m[\u001b[0m\u001b[0mfeature\u001b[0m\u001b[0;34m]\u001b[0m\u001b[0;34m.\u001b[0m\u001b[0mix\u001b[0m\u001b[0;34m[\u001b[0m\u001b[0minlier_homes\u001b[0m\u001b[0;34m.\u001b[0m\u001b[0mindex\u001b[0m\u001b[0;34m]\u001b[0m\u001b[0;34m,\u001b[0m \u001b[0minlier_homes\u001b[0m\u001b[0;34m.\u001b[0m\u001b[0mvalues\u001b[0m\u001b[0;34m)\u001b[0m\u001b[0;34m\u001b[0m\u001b[0m\n\u001b[0m\u001b[1;32m     42\u001b[0m             \u001b[0;31m#out_pred.append(clf.predict(preprocessing.normalize(df3[feature_columns[feature]].values[test])))\u001b[0m\u001b[0;34m\u001b[0m\u001b[0;34m\u001b[0m\u001b[0m\n\u001b[1;32m     43\u001b[0m             \u001b[0mout_pred\u001b[0m\u001b[0;34m.\u001b[0m\u001b[0mappend\u001b[0m\u001b[0;34m(\u001b[0m\u001b[0mclf\u001b[0m\u001b[0;34m.\u001b[0m\u001b[0mpredict\u001b[0m\u001b[0;34m(\u001b[0m\u001b[0mdf3\u001b[0m\u001b[0;34m[\u001b[0m\u001b[0mfeature\u001b[0m\u001b[0;34m]\u001b[0m\u001b[0;34m.\u001b[0m\u001b[0mvalues\u001b[0m\u001b[0;34m[\u001b[0m\u001b[0mtest\u001b[0m\u001b[0;34m]\u001b[0m\u001b[0;34m)\u001b[0m\u001b[0;34m)\u001b[0m\u001b[0;34m\u001b[0m\u001b[0m\n",
      "\u001b[0;32m/Users/nipunbatra/anaconda/lib/python2.7/site-packages/pandas/core/frame.pyc\u001b[0m in \u001b[0;36m__getitem__\u001b[0;34m(self, key)\u001b[0m\n\u001b[1;32m   1789\u001b[0m         \u001b[0;32mif\u001b[0m \u001b[0misinstance\u001b[0m\u001b[0;34m(\u001b[0m\u001b[0mkey\u001b[0m\u001b[0;34m,\u001b[0m \u001b[0;34m(\u001b[0m\u001b[0mSeries\u001b[0m\u001b[0;34m,\u001b[0m \u001b[0mnp\u001b[0m\u001b[0;34m.\u001b[0m\u001b[0mndarray\u001b[0m\u001b[0;34m,\u001b[0m \u001b[0mIndex\u001b[0m\u001b[0;34m,\u001b[0m \u001b[0mlist\u001b[0m\u001b[0;34m)\u001b[0m\u001b[0;34m)\u001b[0m\u001b[0;34m:\u001b[0m\u001b[0;34m\u001b[0m\u001b[0m\n\u001b[1;32m   1790\u001b[0m             \u001b[0;31m# either boolean or fancy integer index\u001b[0m\u001b[0;34m\u001b[0m\u001b[0;34m\u001b[0m\u001b[0m\n\u001b[0;32m-> 1791\u001b[0;31m             \u001b[0;32mreturn\u001b[0m \u001b[0mself\u001b[0m\u001b[0;34m.\u001b[0m\u001b[0m_getitem_array\u001b[0m\u001b[0;34m(\u001b[0m\u001b[0mkey\u001b[0m\u001b[0;34m)\u001b[0m\u001b[0;34m\u001b[0m\u001b[0m\n\u001b[0m\u001b[1;32m   1792\u001b[0m         \u001b[0;32melif\u001b[0m \u001b[0misinstance\u001b[0m\u001b[0;34m(\u001b[0m\u001b[0mkey\u001b[0m\u001b[0;34m,\u001b[0m \u001b[0mDataFrame\u001b[0m\u001b[0;34m)\u001b[0m\u001b[0;34m:\u001b[0m\u001b[0;34m\u001b[0m\u001b[0m\n\u001b[1;32m   1793\u001b[0m             \u001b[0;32mreturn\u001b[0m \u001b[0mself\u001b[0m\u001b[0;34m.\u001b[0m\u001b[0m_getitem_frame\u001b[0m\u001b[0;34m(\u001b[0m\u001b[0mkey\u001b[0m\u001b[0;34m)\u001b[0m\u001b[0;34m\u001b[0m\u001b[0m\n",
      "\u001b[0;32m/Users/nipunbatra/anaconda/lib/python2.7/site-packages/pandas/core/frame.pyc\u001b[0m in \u001b[0;36m_getitem_array\u001b[0;34m(self, key)\u001b[0m\n\u001b[1;32m   1833\u001b[0m             \u001b[0;32mreturn\u001b[0m \u001b[0mself\u001b[0m\u001b[0;34m.\u001b[0m\u001b[0mtake\u001b[0m\u001b[0;34m(\u001b[0m\u001b[0mindexer\u001b[0m\u001b[0;34m,\u001b[0m \u001b[0maxis\u001b[0m\u001b[0;34m=\u001b[0m\u001b[0;36m0\u001b[0m\u001b[0;34m,\u001b[0m \u001b[0mconvert\u001b[0m\u001b[0;34m=\u001b[0m\u001b[0mFalse\u001b[0m\u001b[0;34m)\u001b[0m\u001b[0;34m\u001b[0m\u001b[0m\n\u001b[1;32m   1834\u001b[0m         \u001b[0;32melse\u001b[0m\u001b[0;34m:\u001b[0m\u001b[0;34m\u001b[0m\u001b[0m\n\u001b[0;32m-> 1835\u001b[0;31m             \u001b[0mindexer\u001b[0m \u001b[0;34m=\u001b[0m \u001b[0mself\u001b[0m\u001b[0;34m.\u001b[0m\u001b[0mix\u001b[0m\u001b[0;34m.\u001b[0m\u001b[0m_convert_to_indexer\u001b[0m\u001b[0;34m(\u001b[0m\u001b[0mkey\u001b[0m\u001b[0;34m,\u001b[0m \u001b[0maxis\u001b[0m\u001b[0;34m=\u001b[0m\u001b[0;36m1\u001b[0m\u001b[0;34m)\u001b[0m\u001b[0;34m\u001b[0m\u001b[0m\n\u001b[0m\u001b[1;32m   1836\u001b[0m             \u001b[0;32mreturn\u001b[0m \u001b[0mself\u001b[0m\u001b[0;34m.\u001b[0m\u001b[0mtake\u001b[0m\u001b[0;34m(\u001b[0m\u001b[0mindexer\u001b[0m\u001b[0;34m,\u001b[0m \u001b[0maxis\u001b[0m\u001b[0;34m=\u001b[0m\u001b[0;36m1\u001b[0m\u001b[0;34m,\u001b[0m \u001b[0mconvert\u001b[0m\u001b[0;34m=\u001b[0m\u001b[0mTrue\u001b[0m\u001b[0;34m)\u001b[0m\u001b[0;34m\u001b[0m\u001b[0m\n\u001b[1;32m   1837\u001b[0m \u001b[0;34m\u001b[0m\u001b[0m\n",
      "\u001b[0;32m/Users/nipunbatra/anaconda/lib/python2.7/site-packages/pandas/core/indexing.pyc\u001b[0m in \u001b[0;36m_convert_to_indexer\u001b[0;34m(self, obj, axis, is_setter)\u001b[0m\n\u001b[1;32m   1076\u001b[0m                     \u001b[0mobjarr\u001b[0m \u001b[0;34m=\u001b[0m \u001b[0mobj\u001b[0m\u001b[0;34m.\u001b[0m\u001b[0mvalues\u001b[0m\u001b[0;34m\u001b[0m\u001b[0m\n\u001b[1;32m   1077\u001b[0m                 \u001b[0;32melse\u001b[0m\u001b[0;34m:\u001b[0m\u001b[0;34m\u001b[0m\u001b[0m\n\u001b[0;32m-> 1078\u001b[0;31m                     \u001b[0mobjarr\u001b[0m \u001b[0;34m=\u001b[0m \u001b[0m_asarray_tuplesafe\u001b[0m\u001b[0;34m(\u001b[0m\u001b[0mobj\u001b[0m\u001b[0;34m)\u001b[0m\u001b[0;34m\u001b[0m\u001b[0m\n\u001b[0m\u001b[1;32m   1079\u001b[0m \u001b[0;34m\u001b[0m\u001b[0m\n\u001b[1;32m   1080\u001b[0m                 \u001b[0;31m# The index may want to handle a list indexer differently\u001b[0m\u001b[0;34m\u001b[0m\u001b[0;34m\u001b[0m\u001b[0m\n",
      "\u001b[0;32m/Users/nipunbatra/anaconda/lib/python2.7/site-packages/pandas/core/common.pyc\u001b[0m in \u001b[0;36m_asarray_tuplesafe\u001b[0;34m(values, dtype)\u001b[0m\n\u001b[1;32m   2360\u001b[0m \u001b[0;34m\u001b[0m\u001b[0m\n\u001b[1;32m   2361\u001b[0m     \u001b[0;32mif\u001b[0m \u001b[0missubclass\u001b[0m\u001b[0;34m(\u001b[0m\u001b[0mresult\u001b[0m\u001b[0;34m.\u001b[0m\u001b[0mdtype\u001b[0m\u001b[0;34m.\u001b[0m\u001b[0mtype\u001b[0m\u001b[0;34m,\u001b[0m \u001b[0mcompat\u001b[0m\u001b[0;34m.\u001b[0m\u001b[0mstring_types\u001b[0m\u001b[0;34m)\u001b[0m\u001b[0;34m:\u001b[0m\u001b[0;34m\u001b[0m\u001b[0m\n\u001b[0;32m-> 2362\u001b[0;31m         \u001b[0mresult\u001b[0m \u001b[0;34m=\u001b[0m \u001b[0mnp\u001b[0m\u001b[0;34m.\u001b[0m\u001b[0masarray\u001b[0m\u001b[0;34m(\u001b[0m\u001b[0mvalues\u001b[0m\u001b[0;34m,\u001b[0m \u001b[0mdtype\u001b[0m\u001b[0;34m=\u001b[0m\u001b[0mobject\u001b[0m\u001b[0;34m)\u001b[0m\u001b[0;34m\u001b[0m\u001b[0m\n\u001b[0m\u001b[1;32m   2363\u001b[0m \u001b[0;34m\u001b[0m\u001b[0m\n\u001b[1;32m   2364\u001b[0m     \u001b[0;32mif\u001b[0m \u001b[0mresult\u001b[0m\u001b[0;34m.\u001b[0m\u001b[0mndim\u001b[0m \u001b[0;34m==\u001b[0m \u001b[0;36m2\u001b[0m\u001b[0;34m:\u001b[0m\u001b[0;34m\u001b[0m\u001b[0m\n",
      "\u001b[0;32m/Users/nipunbatra/anaconda/lib/python2.7/site-packages/numpy/core/numeric.pyc\u001b[0m in \u001b[0;36masarray\u001b[0;34m(a, dtype, order)\u001b[0m\n\u001b[1;32m    472\u001b[0m \u001b[0;34m\u001b[0m\u001b[0m\n\u001b[1;32m    473\u001b[0m     \"\"\"\n\u001b[0;32m--> 474\u001b[0;31m     \u001b[0;32mreturn\u001b[0m \u001b[0marray\u001b[0m\u001b[0;34m(\u001b[0m\u001b[0ma\u001b[0m\u001b[0;34m,\u001b[0m \u001b[0mdtype\u001b[0m\u001b[0;34m,\u001b[0m \u001b[0mcopy\u001b[0m\u001b[0;34m=\u001b[0m\u001b[0mFalse\u001b[0m\u001b[0;34m,\u001b[0m \u001b[0morder\u001b[0m\u001b[0;34m=\u001b[0m\u001b[0morder\u001b[0m\u001b[0;34m)\u001b[0m\u001b[0;34m\u001b[0m\u001b[0m\n\u001b[0m\u001b[1;32m    475\u001b[0m \u001b[0;34m\u001b[0m\u001b[0m\n\u001b[1;32m    476\u001b[0m \u001b[0;32mdef\u001b[0m \u001b[0masanyarray\u001b[0m\u001b[0;34m(\u001b[0m\u001b[0ma\u001b[0m\u001b[0;34m,\u001b[0m \u001b[0mdtype\u001b[0m\u001b[0;34m=\u001b[0m\u001b[0mNone\u001b[0m\u001b[0;34m,\u001b[0m \u001b[0morder\u001b[0m\u001b[0;34m=\u001b[0m\u001b[0mNone\u001b[0m\u001b[0;34m)\u001b[0m\u001b[0;34m:\u001b[0m\u001b[0;34m\u001b[0m\u001b[0m\n",
      "\u001b[0;31mKeyboardInterrupt\u001b[0m: "
     ]
    }
   ],
   "source": [
    "from copy import deepcopy\n",
    "\n",
    "out = {}\n",
    "optimal_dict = {}\n",
    "for appliance in [\"hvac\"]:\n",
    "    \n",
    "    fmap = deepcopy(feature_map)\n",
    "    print \"%\"*40\n",
    "    print appliance\n",
    "    print \"%\"*40\n",
    "    out[appliance] = {}\n",
    "    optimal_dict[appliance] = {}\n",
    "    for feature_name, ft in deepcopy(fmap).items()[2:3]:\n",
    "        \n",
    "        best_overall_f = []\n",
    "        best_overall_accur = 0\n",
    "        best_k=-1\n",
    "        out[appliance][feature_name] = {}\n",
    "        optimal_dict[appliance][feature_name] = {}\n",
    "        print \"*\"*20\n",
    "        print feature_name\n",
    "        print \"*\"*20\n",
    "        for k in range(1, 2):\n",
    "            global k\n",
    "            ftc = deepcopy(ft)\n",
    "            out[appliance][feature_name][k] = {}\n",
    "            \n",
    "            best=seq_forw_select(features=ftc, max_k=6,\n",
    "                          criterion_func=criterion_function, print_steps=True)\n",
    "            \n",
    "            \n",
    "            best_accur = 0.0\n",
    "            best_f = []\n",
    "            for i in range(1, len(best)+1):\n",
    "                now_accur = criterion_function(best[:i])\n",
    "                if now_accur>best_accur:\n",
    "                    best_accur = now_accur\n",
    "                    best_f = best[:i]\n",
    "            out[appliance][feature_name][k][\"f\"] = best_f\n",
    "            out[appliance][feature_name][k][\"accuracy\"]=best_accur\n",
    "\n",
    "            if best_accur>best_overall_accur:\n",
    "                best_overall_f = best_f\n",
    "                best_overall_accur = best_accur\n",
    "                best_k = k\n",
    "       \n",
    "        print best_k, best_overall_f, best_overall_accur\n",
    "        print \"-\"*80\n",
    "\n",
    "        optimal_dict[appliance][feature_name] = {\"accuracy\":best_overall_accur, \"f\":best_overall_f,\"k\":best_k}       "
   ]
  },
  {
   "cell_type": "code",
   "execution_count": 302,
   "metadata": {
    "collapsed": false
   },
   "outputs": [
    {
     "data": {
      "text/plain": [
       "{'hvac': {'All': {1: {'accuracy': 81.015520265316056,\n",
       "    'f': ['aggregate_5', 'seasonal_energy_5']}}}}"
      ]
     },
     "execution_count": 302,
     "metadata": {},
     "output_type": "execute_result"
    }
   ],
   "source": [
    "out"
   ]
  },
  {
   "cell_type": "code",
   "execution_count": 210,
   "metadata": {
    "collapsed": false
   },
   "outputs": [
    {
     "ename": "ValueError",
     "evalue": "No JSON object could be decoded",
     "output_type": "error",
     "traceback": [
      "\u001b[0;31m---------------------------------------------------------------------------\u001b[0m",
      "\u001b[0;31mValueError\u001b[0m                                Traceback (most recent call last)",
      "\u001b[0;32m<ipython-input-210-c60fd66c1254>\u001b[0m in \u001b[0;36m<module>\u001b[0;34m()\u001b[0m\n\u001b[0;32m----> 1\u001b[0;31m \u001b[0moptimal_dict\u001b[0m \u001b[0;34m=\u001b[0m \u001b[0mjson\u001b[0m\u001b[0;34m.\u001b[0m\u001b[0mloads\u001b[0m\u001b[0;34m(\u001b[0m\u001b[0;34m'optimal_dict.json'\u001b[0m\u001b[0;34m)\u001b[0m\u001b[0;34m\u001b[0m\u001b[0m\n\u001b[0m",
      "\u001b[0;32m/Users/nipunbatra/anaconda/lib/python2.7/json/__init__.pyc\u001b[0m in \u001b[0;36mloads\u001b[0;34m(s, encoding, cls, object_hook, parse_float, parse_int, parse_constant, object_pairs_hook, **kw)\u001b[0m\n\u001b[1;32m    337\u001b[0m             \u001b[0mparse_int\u001b[0m \u001b[0;32mis\u001b[0m \u001b[0mNone\u001b[0m \u001b[0;32mand\u001b[0m \u001b[0mparse_float\u001b[0m \u001b[0;32mis\u001b[0m \u001b[0mNone\u001b[0m \u001b[0;32mand\u001b[0m\u001b[0;34m\u001b[0m\u001b[0m\n\u001b[1;32m    338\u001b[0m             parse_constant is None and object_pairs_hook is None and not kw):\n\u001b[0;32m--> 339\u001b[0;31m         \u001b[0;32mreturn\u001b[0m \u001b[0m_default_decoder\u001b[0m\u001b[0;34m.\u001b[0m\u001b[0mdecode\u001b[0m\u001b[0;34m(\u001b[0m\u001b[0ms\u001b[0m\u001b[0;34m)\u001b[0m\u001b[0;34m\u001b[0m\u001b[0m\n\u001b[0m\u001b[1;32m    340\u001b[0m     \u001b[0;32mif\u001b[0m \u001b[0mcls\u001b[0m \u001b[0;32mis\u001b[0m \u001b[0mNone\u001b[0m\u001b[0;34m:\u001b[0m\u001b[0;34m\u001b[0m\u001b[0m\n\u001b[1;32m    341\u001b[0m         \u001b[0mcls\u001b[0m \u001b[0;34m=\u001b[0m \u001b[0mJSONDecoder\u001b[0m\u001b[0;34m\u001b[0m\u001b[0m\n",
      "\u001b[0;32m/Users/nipunbatra/anaconda/lib/python2.7/json/decoder.pyc\u001b[0m in \u001b[0;36mdecode\u001b[0;34m(self, s, _w)\u001b[0m\n\u001b[1;32m    362\u001b[0m \u001b[0;34m\u001b[0m\u001b[0m\n\u001b[1;32m    363\u001b[0m         \"\"\"\n\u001b[0;32m--> 364\u001b[0;31m         \u001b[0mobj\u001b[0m\u001b[0;34m,\u001b[0m \u001b[0mend\u001b[0m \u001b[0;34m=\u001b[0m \u001b[0mself\u001b[0m\u001b[0;34m.\u001b[0m\u001b[0mraw_decode\u001b[0m\u001b[0;34m(\u001b[0m\u001b[0ms\u001b[0m\u001b[0;34m,\u001b[0m \u001b[0midx\u001b[0m\u001b[0;34m=\u001b[0m\u001b[0m_w\u001b[0m\u001b[0;34m(\u001b[0m\u001b[0ms\u001b[0m\u001b[0;34m,\u001b[0m \u001b[0;36m0\u001b[0m\u001b[0;34m)\u001b[0m\u001b[0;34m.\u001b[0m\u001b[0mend\u001b[0m\u001b[0;34m(\u001b[0m\u001b[0;34m)\u001b[0m\u001b[0;34m)\u001b[0m\u001b[0;34m\u001b[0m\u001b[0m\n\u001b[0m\u001b[1;32m    365\u001b[0m         \u001b[0mend\u001b[0m \u001b[0;34m=\u001b[0m \u001b[0m_w\u001b[0m\u001b[0;34m(\u001b[0m\u001b[0ms\u001b[0m\u001b[0;34m,\u001b[0m \u001b[0mend\u001b[0m\u001b[0;34m)\u001b[0m\u001b[0;34m.\u001b[0m\u001b[0mend\u001b[0m\u001b[0;34m(\u001b[0m\u001b[0;34m)\u001b[0m\u001b[0;34m\u001b[0m\u001b[0m\n\u001b[1;32m    366\u001b[0m         \u001b[0;32mif\u001b[0m \u001b[0mend\u001b[0m \u001b[0;34m!=\u001b[0m \u001b[0mlen\u001b[0m\u001b[0;34m(\u001b[0m\u001b[0ms\u001b[0m\u001b[0;34m)\u001b[0m\u001b[0;34m:\u001b[0m\u001b[0;34m\u001b[0m\u001b[0m\n",
      "\u001b[0;32m/Users/nipunbatra/anaconda/lib/python2.7/json/decoder.pyc\u001b[0m in \u001b[0;36mraw_decode\u001b[0;34m(self, s, idx)\u001b[0m\n\u001b[1;32m    380\u001b[0m             \u001b[0mobj\u001b[0m\u001b[0;34m,\u001b[0m \u001b[0mend\u001b[0m \u001b[0;34m=\u001b[0m \u001b[0mself\u001b[0m\u001b[0;34m.\u001b[0m\u001b[0mscan_once\u001b[0m\u001b[0;34m(\u001b[0m\u001b[0ms\u001b[0m\u001b[0;34m,\u001b[0m \u001b[0midx\u001b[0m\u001b[0;34m)\u001b[0m\u001b[0;34m\u001b[0m\u001b[0m\n\u001b[1;32m    381\u001b[0m         \u001b[0;32mexcept\u001b[0m \u001b[0mStopIteration\u001b[0m\u001b[0;34m:\u001b[0m\u001b[0;34m\u001b[0m\u001b[0m\n\u001b[0;32m--> 382\u001b[0;31m             \u001b[0;32mraise\u001b[0m \u001b[0mValueError\u001b[0m\u001b[0;34m(\u001b[0m\u001b[0;34m\"No JSON object could be decoded\"\u001b[0m\u001b[0;34m)\u001b[0m\u001b[0;34m\u001b[0m\u001b[0m\n\u001b[0m\u001b[1;32m    383\u001b[0m         \u001b[0;32mreturn\u001b[0m \u001b[0mobj\u001b[0m\u001b[0;34m,\u001b[0m \u001b[0mend\u001b[0m\u001b[0;34m\u001b[0m\u001b[0m\n",
      "\u001b[0;31mValueError\u001b[0m: No JSON object could be decoded"
     ]
    }
   ],
   "source": [
    "optimal_dict = json.loads('optimal_dict.json')"
   ]
  },
  {
   "cell_type": "code",
   "execution_count": 316,
   "metadata": {
    "collapsed": false
   },
   "outputs": [],
   "source": [
    "from scipy import stats\n",
    "\n",
    "from sklearn import svm\n",
    "from sklearn.covariance import EllipticEnvelope\n",
    "clf = EllipticEnvelope(contamination=.1)\n",
    "outliers_fraction = 0.2\n",
    "X = df.ix[all_homes[\"hvac\"]][['aggregate_5', 'seasonal_energy_5', 'gt_1000', 'seasonal_energy_9']].values\n",
    "clf.fit(X)\n",
    "y_pred = clf.decision_function(X).ravel()\n",
    "threshold = stats.scoreatpercentile(y_pred,\n",
    "                                    100 * outliers_fraction)\n",
    "y_pred = y_pred > threshold"
   ]
  },
  {
   "cell_type": "code",
   "execution_count": 317,
   "metadata": {
    "collapsed": false
   },
   "outputs": [],
   "source": [
    "o = np.array([])\n",
    "for month in 5, 11:\n",
    "    o = np.union1d(o, find_outlier_train(df.ix[all_homes[\"hvac\"]][\"hvac_%d\" %month], outliers_fraction=0.1)[0].index)"
   ]
  },
  {
   "cell_type": "code",
   "execution_count": 318,
   "metadata": {
    "collapsed": false
   },
   "outputs": [
    {
     "data": {
      "text/plain": [
       "array([  545.,   624.,  2156.,  2242.,  5357.,  6836.,  9934.])"
      ]
     },
     "execution_count": 318,
     "metadata": {},
     "output_type": "execute_result"
    }
   ],
   "source": [
    "o"
   ]
  },
  {
   "cell_type": "code",
   "execution_count": 319,
   "metadata": {
    "collapsed": false
   },
   "outputs": [
    {
     "data": {
      "text/html": [
       "<div>\n",
       "<table border=\"1\" class=\"dataframe\">\n",
       "  <thead>\n",
       "    <tr style=\"text-align: right;\">\n",
       "      <th></th>\n",
       "      <th>seasonal_energy_5</th>\n",
       "      <th>hvac_10</th>\n",
       "    </tr>\n",
       "  </thead>\n",
       "  <tbody>\n",
       "    <tr>\n",
       "      <th>2129</th>\n",
       "      <td>0.364065</td>\n",
       "      <td>297.439880</td>\n",
       "    </tr>\n",
       "    <tr>\n",
       "      <th>2156</th>\n",
       "      <td>0.396154</td>\n",
       "      <td>191.167175</td>\n",
       "    </tr>\n",
       "    <tr>\n",
       "      <th>2242</th>\n",
       "      <td>0.684878</td>\n",
       "      <td>288.066376</td>\n",
       "    </tr>\n",
       "    <tr>\n",
       "      <th>5357</th>\n",
       "      <td>1.000000</td>\n",
       "      <td>532.721130</td>\n",
       "    </tr>\n",
       "    <tr>\n",
       "      <th>5371</th>\n",
       "      <td>0.268735</td>\n",
       "      <td>143.417282</td>\n",
       "    </tr>\n",
       "    <tr>\n",
       "      <th>9922</th>\n",
       "      <td>0.599594</td>\n",
       "      <td>91.391029</td>\n",
       "    </tr>\n",
       "    <tr>\n",
       "      <th>9933</th>\n",
       "      <td>0.286266</td>\n",
       "      <td>138.267075</td>\n",
       "    </tr>\n",
       "  </tbody>\n",
       "</table>\n",
       "</div>"
      ],
      "text/plain": [
       "      seasonal_energy_5     hvac_10\n",
       "2129           0.364065  297.439880\n",
       "2156           0.396154  191.167175\n",
       "2242           0.684878  288.066376\n",
       "5357           1.000000  532.721130\n",
       "5371           0.268735  143.417282\n",
       "9922           0.599594   91.391029\n",
       "9933           0.286266  138.267075"
      ]
     },
     "execution_count": 319,
     "metadata": {},
     "output_type": "execute_result"
    }
   ],
   "source": [
    "df.ix[all_homes[\"hvac\"]][['seasonal_energy_5','hvac_10']][~y_pred]"
   ]
  },
  {
   "cell_type": "code",
   "execution_count": 241,
   "metadata": {
    "collapsed": false
   },
   "outputs": [
    {
     "data": {
      "text/html": [
       "<div>\n",
       "<table border=\"1\" class=\"dataframe\">\n",
       "  <thead>\n",
       "    <tr style=\"text-align: right;\">\n",
       "      <th></th>\n",
       "      <th>aggregate_7</th>\n",
       "      <th>aggregate_11</th>\n",
       "      <th>aggregate_8</th>\n",
       "      <th>aggregate_12</th>\n",
       "    </tr>\n",
       "  </thead>\n",
       "  <tbody>\n",
       "    <tr>\n",
       "      <th>370</th>\n",
       "      <td>0.631348</td>\n",
       "      <td>0.285494</td>\n",
       "      <td>0.880712</td>\n",
       "      <td>0.214279</td>\n",
       "    </tr>\n",
       "    <tr>\n",
       "      <th>545</th>\n",
       "      <td>0.576113</td>\n",
       "      <td>0.147880</td>\n",
       "      <td>0.720570</td>\n",
       "      <td>0.227779</td>\n",
       "    </tr>\n",
       "    <tr>\n",
       "      <th>5357</th>\n",
       "      <td>0.936827</td>\n",
       "      <td>0.710344</td>\n",
       "      <td>0.955660</td>\n",
       "      <td>0.966905</td>\n",
       "    </tr>\n",
       "    <tr>\n",
       "      <th>9922</th>\n",
       "      <td>0.895846</td>\n",
       "      <td>0.538284</td>\n",
       "      <td>0.852934</td>\n",
       "      <td>0.546946</td>\n",
       "    </tr>\n",
       "  </tbody>\n",
       "</table>\n",
       "</div>"
      ],
      "text/plain": [
       "      aggregate_7  aggregate_11  aggregate_8  aggregate_12\n",
       "370      0.631348      0.285494     0.880712      0.214279\n",
       "545      0.576113      0.147880     0.720570      0.227779\n",
       "5357     0.936827      0.710344     0.955660      0.966905\n",
       "9922     0.895846      0.538284     0.852934      0.546946"
      ]
     },
     "execution_count": 241,
     "metadata": {},
     "output_type": "execute_result"
    }
   ],
   "source": [
    "df.ix[all_homes[\"hvac\"]][json.load(open(\"optimal_dict.json\", 'r'))['hvac']['Monthly']['f']][~y_pred]"
   ]
  },
  {
   "cell_type": "code",
   "execution_count": 245,
   "metadata": {
    "collapsed": false
   },
   "outputs": [
    {
     "data": {
      "text/plain": [
       "333.76809692400002"
      ]
     },
     "execution_count": 245,
     "metadata": {},
     "output_type": "execute_result"
    }
   ],
   "source": [
    "df.ix[all_homes[\"hvac\"]].ix[370]['hvac_10']"
   ]
  },
  {
   "cell_type": "code",
   "execution_count": 39,
   "metadata": {
    "collapsed": true
   },
   "outputs": [],
   "source": [
    "oracle = pd.Series({'dw':64, 'fridge':94,'light':100, 'wm':77, 'dr': 64, 'hvac':95 }).to_dict()\n"
   ]
  },
  {
   "cell_type": "code",
   "execution_count": 40,
   "metadata": {
    "collapsed": false
   },
   "outputs": [],
   "source": [
    "accur_df = {}\n",
    "for appliance in ['hvac','fridge','wm','dr','dw','light']:\n",
    "    accur_df[appliance] = pd.DataFrame(optimal_dict[appliance]).ix['accuracy'].to_dict()\n",
    "    accur_df[appliance][\"Oracle\"] = oracle[appliance]"
   ]
  },
  {
   "cell_type": "code",
   "execution_count": 54,
   "metadata": {
    "collapsed": false
   },
   "outputs": [
    {
     "data": {
      "text/plain": [
       "86.424022369359406"
      ]
     },
     "execution_count": 54,
     "metadata": {},
     "output_type": "execute_result"
    }
   ],
   "source": [
    "appliance=\"hvac\"\n",
    "k=6\n",
    "criterion_function(['aggregate_7', 'aggregate_11', 'aggregate_8', 'aggregate_12'])"
   ]
  },
  {
   "cell_type": "code",
   "execution_count": 56,
   "metadata": {
    "collapsed": true
   },
   "outputs": [],
   "source": [
    "import json"
   ]
  },
  {
   "cell_type": "code",
   "execution_count": 57,
   "metadata": {
    "collapsed": false
   },
   "outputs": [],
   "source": [
    "json.dump(optimal_dict, open(\"optimal_dict.json\", 'w'))"
   ]
  },
  {
   "cell_type": "code",
   "execution_count": 58,
   "metadata": {
    "collapsed": true
   },
   "outputs": [],
   "source": [
    "json.dump(out, open(\"out.json\", 'w'))"
   ]
  },
  {
   "cell_type": "code",
   "execution_count": 60,
   "metadata": {
    "collapsed": false
   },
   "outputs": [
    {
     "data": {
      "text/plain": [
       "{'15 min AMI': {1: {'accuracy': 83.283166337616493,\n",
       "   'f': ['aggregate_5', 'daily_usage_1', 'daily_usage_4', 'daily_usage_6']},\n",
       "  2: {'accuracy': 84.54986955323362,\n",
       "   'f': ['aggregate_7',\n",
       "    'seasonal_energy_8',\n",
       "    'max_trend_weekly',\n",
       "    'aggregate_5',\n",
       "    'seasonal_energy_7']},\n",
       "  3: {'accuracy': 85.49928240834879,\n",
       "   'f': ['aggregate_7',\n",
       "    'daily_usage_3',\n",
       "    'aggregate_5',\n",
       "    'daily_usage_2',\n",
       "    'aggregate_1',\n",
       "    'aggregate_6',\n",
       "    'daily_usage_4']},\n",
       "  4: {'accuracy': 85.689383148053494,\n",
       "   'f': ['aggregate_7',\n",
       "    'daily_usage_3',\n",
       "    'daily_usage_1',\n",
       "    'aggregate_5',\n",
       "    'aggregate_3',\n",
       "    'daily_usage_4',\n",
       "    'aggregate_1']},\n",
       "  5: {'accuracy': 85.461772623401998,\n",
       "   'f': ['aggregate_7',\n",
       "    'daily_usage_3',\n",
       "    'bet_500_1000',\n",
       "    'gt_1000',\n",
       "    'aggregate_8',\n",
       "    'difference_min_max',\n",
       "    'aggregate_12']},\n",
       "  6: {'accuracy': 86.463370085906362,\n",
       "   'f': ['aggregate_7',\n",
       "    'aggregate_11',\n",
       "    'aggregate_8',\n",
       "    'aggregate_12',\n",
       "    'daily_usage_3']}},\n",
       " 'All': {1: {'accuracy': 83.283166337616493,\n",
       "   'f': ['aggregate_5', 'daily_usage_1', 'daily_usage_4', 'daily_usage_6']},\n",
       "  2: {'accuracy': 84.54986955323362,\n",
       "   'f': ['aggregate_7',\n",
       "    'seasonal_energy_8',\n",
       "    'max_trend_weekly',\n",
       "    'aggregate_5',\n",
       "    'seasonal_energy_7']},\n",
       "  3: {'accuracy': 85.49928240834879,\n",
       "   'f': ['aggregate_7',\n",
       "    'daily_usage_3',\n",
       "    'aggregate_5',\n",
       "    'daily_usage_2',\n",
       "    'aggregate_1',\n",
       "    'aggregate_6',\n",
       "    'daily_usage_4']},\n",
       "  4: {'accuracy': 85.689383148053494,\n",
       "   'f': ['aggregate_7',\n",
       "    'daily_usage_3',\n",
       "    'daily_usage_1',\n",
       "    'aggregate_5',\n",
       "    'aggregate_3',\n",
       "    'daily_usage_4',\n",
       "    'aggregate_1']},\n",
       "  5: {'accuracy': 85.461772623401998,\n",
       "   'f': ['aggregate_7',\n",
       "    'daily_usage_3',\n",
       "    'bet_500_1000',\n",
       "    'gt_1000',\n",
       "    'aggregate_8',\n",
       "    'difference_min_max',\n",
       "    'aggregate_12']},\n",
       "  6: {'accuracy': 86.463370085906362,\n",
       "   'f': ['aggregate_7',\n",
       "    'aggregate_11',\n",
       "    'aggregate_8',\n",
       "    'aggregate_12',\n",
       "    'daily_usage_3']}},\n",
       " 'Monthly': {1: {'accuracy': 82.267100092164398,\n",
       "   'f': ['aggregate_5', 'aggregate_7', 'aggregate_4', 'aggregate_3']},\n",
       "  2: {'accuracy': 85.414235440491211,\n",
       "   'f': ['aggregate_7', 'aggregate_9', 'aggregate_12', 'aggregate_5']},\n",
       "  3: {'accuracy': 85.129610344195854,\n",
       "   'f': ['aggregate_7', 'aggregate_5', 'aggregate_3']},\n",
       "  4: {'accuracy': 85.662417454734609,\n",
       "   'f': ['aggregate_7', 'aggregate_6', 'aggregate_11']},\n",
       "  5: {'accuracy': 85.272819356503916,\n",
       "   'f': ['aggregate_7',\n",
       "    'aggregate_11',\n",
       "    'aggregate_1',\n",
       "    'difference_min_max',\n",
       "    'aggregate_10']},\n",
       "  6: {'accuracy': 86.424022369359406,\n",
       "   'f': ['aggregate_7', 'aggregate_11', 'aggregate_8', 'aggregate_12']}},\n",
       " 'Monthly+Static': {1: {'accuracy': 82.267100092164398,\n",
       "   'f': ['aggregate_5', 'aggregate_7', 'aggregate_4', 'aggregate_3']},\n",
       "  2: {'accuracy': 85.414235440491211,\n",
       "   'f': ['aggregate_7', 'aggregate_9', 'aggregate_12', 'aggregate_5']},\n",
       "  3: {'accuracy': 85.129610344195854,\n",
       "   'f': ['aggregate_7', 'aggregate_5', 'aggregate_3']},\n",
       "  4: {'accuracy': 85.662417454734609,\n",
       "   'f': ['aggregate_7', 'aggregate_6', 'aggregate_11']},\n",
       "  5: {'accuracy': 85.272819356503916,\n",
       "   'f': ['aggregate_7',\n",
       "    'aggregate_11',\n",
       "    'aggregate_1',\n",
       "    'difference_min_max',\n",
       "    'aggregate_10']},\n",
       "  6: {'accuracy': 86.424022369359406,\n",
       "   'f': ['aggregate_7', 'aggregate_11', 'aggregate_8', 'aggregate_12']}}}"
      ]
     },
     "execution_count": 60,
     "metadata": {},
     "output_type": "execute_result"
    }
   ],
   "source": [
    "out['hvac']"
   ]
  },
  {
   "cell_type": "code",
   "execution_count": 65,
   "metadata": {
    "collapsed": false
   },
   "outputs": [
    {
     "data": {
      "text/html": [
       "<div>\n",
       "<table border=\"1\" class=\"dataframe\">\n",
       "  <thead>\n",
       "    <tr style=\"text-align: right;\">\n",
       "      <th></th>\n",
       "      <th>dr</th>\n",
       "      <th>dw</th>\n",
       "      <th>fridge</th>\n",
       "      <th>hvac</th>\n",
       "      <th>light</th>\n",
       "      <th>wm</th>\n",
       "    </tr>\n",
       "  </thead>\n",
       "  <tbody>\n",
       "    <tr>\n",
       "      <th>15 min AMI</th>\n",
       "      <td>61.103595</td>\n",
       "      <td>57.972323</td>\n",
       "      <td>89.083564</td>\n",
       "      <td>86.463370</td>\n",
       "      <td>64.852756</td>\n",
       "      <td>74.401789</td>\n",
       "    </tr>\n",
       "    <tr>\n",
       "      <th>All</th>\n",
       "      <td>61.342075</td>\n",
       "      <td>58.412903</td>\n",
       "      <td>89.083564</td>\n",
       "      <td>86.463370</td>\n",
       "      <td>64.852756</td>\n",
       "      <td>74.276703</td>\n",
       "    </tr>\n",
       "    <tr>\n",
       "      <th>Monthly</th>\n",
       "      <td>55.795687</td>\n",
       "      <td>47.886487</td>\n",
       "      <td>81.947778</td>\n",
       "      <td>86.424022</td>\n",
       "      <td>54.344332</td>\n",
       "      <td>72.765282</td>\n",
       "    </tr>\n",
       "    <tr>\n",
       "      <th>Monthly+Static</th>\n",
       "      <td>59.726614</td>\n",
       "      <td>58.059562</td>\n",
       "      <td>85.794804</td>\n",
       "      <td>86.424022</td>\n",
       "      <td>54.344332</td>\n",
       "      <td>72.277404</td>\n",
       "    </tr>\n",
       "    <tr>\n",
       "      <th>Oracle</th>\n",
       "      <td>64.000000</td>\n",
       "      <td>64.000000</td>\n",
       "      <td>94.000000</td>\n",
       "      <td>95.000000</td>\n",
       "      <td>100.000000</td>\n",
       "      <td>77.000000</td>\n",
       "    </tr>\n",
       "  </tbody>\n",
       "</table>\n",
       "</div>"
      ],
      "text/plain": [
       "                       dr         dw     fridge       hvac       light  \\\n",
       "15 min AMI      61.103595  57.972323  89.083564  86.463370   64.852756   \n",
       "All             61.342075  58.412903  89.083564  86.463370   64.852756   \n",
       "Monthly         55.795687  47.886487  81.947778  86.424022   54.344332   \n",
       "Monthly+Static  59.726614  58.059562  85.794804  86.424022   54.344332   \n",
       "Oracle          64.000000  64.000000  94.000000  95.000000  100.000000   \n",
       "\n",
       "                       wm  \n",
       "15 min AMI      74.401789  \n",
       "All             74.276703  \n",
       "Monthly         72.765282  \n",
       "Monthly+Static  72.277404  \n",
       "Oracle          77.000000  "
      ]
     },
     "execution_count": 65,
     "metadata": {},
     "output_type": "execute_result"
    }
   ],
   "source": [
    "pd.DataFrame(accur_df)"
   ]
  },
  {
   "cell_type": "code",
   "execution_count": 50,
   "metadata": {
    "collapsed": false
   },
   "outputs": [
    {
     "data": {
      "text/plain": [
       "<matplotlib.legend.Legend at 0x16548acd0>"
      ]
     },
     "execution_count": 50,
     "metadata": {},
     "output_type": "execute_result"
    },
    {
     "data": {
      "image/png": "[encoded data removed]",
      "text/plain": [
       "<matplotlib.figure.Figure at 0x1654b2c90>"
      ]
     },
     "metadata": {},
     "output_type": "display_data"
    }
   ],
   "source": [
    "pd.DataFrame(accur_df)[['hvac','fridge','wm','dr','dw','light']].T.plot(figsize=(12,4), kind=\"bar\", rot=0).legend(loc='center left', bbox_to_anchor=(1, 0.5))\n",
    "#ax = plt.gca()\n",
    "#for p in ax.patches:\n",
    "#    ax.annotate(str(p.get_height()), (p.get_x() * 1.005, p.get_height() * 1.005))"
   ]
  },
  {
   "cell_type": "code",
   "execution_count": null,
   "metadata": {
    "collapsed": false
   },
   "outputs": [],
   "source": [
    "out"
   ]
  },
  {
   "cell_type": "code",
   "execution_count": null,
   "metadata": {
    "collapsed": false
   },
   "outputs": [],
   "source": [
    "#for appliance in [\"fridge\",\"wm\",\"light\",\"dr\",\"dw\"]:\n",
    "for appliance in [\"wm\"]:\n",
    "    print \"*\"*20\n",
    "    print appliance\n",
    "    print \"*\"*20\n",
    "    for k in range(4, 5):\n",
    "        print \"+\"*20\n",
    "        print k\n",
    "        best=seq_forw_select(features=a.tolist(), max_k=15,\n",
    "                      criterion_func=criterion_function, print_steps=True)\n",
    "        \n",
    "        "
   ]
  },
  {
   "cell_type": "code",
   "execution_count": null,
   "metadata": {
    "collapsed": false
   },
   "outputs": [],
   "source": [
    "temp=create_predictions('wm',['daily_usage_1', 'aggregate_11', 'aggregate_10', 'bet_500_1000', 'aggregate_4'],k=4)"
   ]
  },
  {
   "cell_type": "code",
   "execution_count": null,
   "metadata": {
    "collapsed": false
   },
   "outputs": [],
   "source": [
    "errors = {}\n",
    "for i in range(1, 13):\n",
    "    errors[i] = percentage_error(temp[i][\"gt\"], temp[i][\"pred\"])\n",
    "error_df = pd.DataFrame(errors)\n",
    "accur_df = 100-error_df\n",
    "accur_df[accur_df<0]=0"
   ]
  },
  {
   "cell_type": "code",
   "execution_count": null,
   "metadata": {
    "collapsed": false
   },
   "outputs": [],
   "source": [
    "accur_df.dropna().median().mean()"
   ]
  },
  {
   "cell_type": "code",
   "execution_count": null,
   "metadata": {
    "collapsed": false
   },
   "outputs": [],
   "source": [
    "accur_df[range(5, 11)].dropna().median().mean()"
   ]
  },
  {
   "cell_type": "code",
   "execution_count": null,
   "metadata": {
    "collapsed": true
   },
   "outputs": [],
   "source": [
    "home = 1334\n",
    "train_df = df.ix[all_homes[\"hvac\"]].drop(home)\n",
    "test_df = df.ix[home]\n",
    "appliance=\"hvac\"\n",
    "month=9\n",
    "\n",
    "def create_predictions_linear(appliance=\"hvac\", feature=['num_rooms', 'total_occupants'] ):\n",
    "    \n",
    "   \n",
    "    out_month = {}\n",
    "    gt_month = {}\n",
    "    overall_dfs = {}\n",
    "    df_pred_copy = df.copy()\n",
    "    #df_pred_copy = dfs[appliance].copy()\n",
    "    df_pred_copy = df_pred_copy.ix[all_homes[appliance]]\n",
    "    for i, month in enumerate([\"%s_%d\" %(appliance,i) for i in range(1,13)]):\n",
    "        y = df_pred_copy[month]\n",
    "        y2 = y.dropna()\n",
    "        y3 = y2[y2>appliance_min[appliance]].dropna()\n",
    "        df3 = df_pred_copy[feature].ix[y3.index].dropna()\n",
    "        \n",
    "        #df3 = df.ix[y3.index].dropna()\n",
    "        y3 = y3.ix[df3.index]\n",
    "        #df3 = df3.ix[appliance_fhmm[appliance].index].dropna()\n",
    "        #y3 = y3.ix[df3.index]\n",
    "        from sklearn.cross_validation import LeaveOneOut\n",
    "        from sklearn.neighbors import RadiusNeighborsRegressor\n",
    "        from sklearn.linear_model import LinearRegression\n",
    "        clf = LinearRegression()\n",
    "        #clf = RadiusNeighborsRegressor(radius=k)\n",
    "        #clf = KNeighborsRegressor(n_neighbors=k, weights=weights)\n",
    "        #clf = KNeighborsRegressor(n_neighbors=k, weights = 'distance' )\n",
    "        loo = LeaveOneOut(len(df3))\n",
    "        out_pred = []\n",
    "\n",
    "        for train, test in loo:\n",
    "            #clf.fit(preprocessing.normalize(df3[feature_columns[feature]].values[train]), y3.values[train])\n",
    "            clf.fit(df3[feature].values[train], y3.values[train])\n",
    "            #out_pred.append(clf.predict(preprocessing.normalize(df3[feature_columns[feature]].values[test])))\n",
    "            out_pred.append(clf.predict(df3[feature].values[test]))\n",
    "\n",
    "        out_pred = np.hstack(out_pred)\n",
    "\n",
    "        out_month[i+1] = out_pred\n",
    "        gt_month[i+1] = y3.values\n",
    "        overall_dfs[i+1] = pd.DataFrame({\"gt\":y3.values, \"pred\":out_pred,\n",
    "                                              \"gt_total\":dfc.ix[y3.index][\"aggregate_\"+str(i+1)].values}, index=y3.index)\n",
    "        overall_dfs[i+1][\"national average\"] = overall_dfs[i+1][\"gt_total\"]*national_average[appliance]\n",
    "    return overall_dfs\n",
    "\n",
    "def predict_linear(features):\n",
    "    from sklearn.linear_model import LinearRegression\n",
    "    l = LinearRegression()\n",
    "    l.fit(train_df[features], train_df[\"%s_%d\" %(appliance, month)])\n",
    "    pred = l.predict(test_df[features])\n",
    "    gt = test_df[\"%s_%d\" %(appliance, month)]\n",
    "    error = np.abs(pred-gt)/gt\n",
    "    error_percentage = 100*error\n",
    "    accur = 100-error_percentage\n",
    "    if accur<0:\n",
    "        accur=0\n",
    "    return accur\n"
   ]
  },
  {
   "cell_type": "code",
   "execution_count": null,
   "metadata": {
    "collapsed": false
   },
   "outputs": [],
   "source": [
    "hvac_all_features"
   ]
  },
  {
   "cell_type": "code",
   "execution_count": null,
   "metadata": {
    "collapsed": true
   },
   "outputs": [],
   "source": [
    "import warnings\n",
    "warnings.filterwarnings('ignore')"
   ]
  },
  {
   "cell_type": "code",
   "execution_count": null,
   "metadata": {
    "collapsed": false
   },
   "outputs": [],
   "source": [
    "best=seq_forw_select(features=a.tolist(), max_k=15,\n",
    "                      criterion_func=predict_linear, print_steps=True)"
   ]
  },
  {
   "cell_type": "code",
   "execution_count": null,
   "metadata": {
    "collapsed": false
   },
   "outputs": [],
   "source": [
    "for appliance in [\"dw\"]:\n",
    "    print \"*\"*20\n",
    "    print appliance\n",
    "    print \"*\"*20\n",
    "    for k in range(2, 8):\n",
    "        print \"+\"*20\n",
    "        print k\n",
    "        best=seq_forw_select(features=a.tolist(), max_k=10,\n",
    "                      criterion_func=criterion_function, print_steps=True)"
   ]
  },
  {
   "cell_type": "code",
   "execution_count": null,
   "metadata": {
    "collapsed": false
   },
   "outputs": [],
   "source": [
    "accur_df[range(5, 11)].dropna().mean(axis=1)"
   ]
  },
  {
   "cell_type": "code",
   "execution_count": null,
   "metadata": {
    "collapsed": true
   },
   "outputs": [],
   "source": [
    "def criterion_function_lin(feature_set):\n",
    "    \n",
    "    \n",
    "    temp = create_predictions_lin(appliance, feature_set, month)\n",
    "    errors = {}\n",
    "    for i in range(1, 13):\n",
    "        errors[i] = percentage_error(temp[i][\"gt\"], temp[i][\"pred\"])\n",
    "    error_df = pd.DataFrame(errors)\n",
    "    accur_df = 100-error_df\n",
    "    accur_df[accur_df<0]=0\n",
    "   \n",
    "    if appliance is \"hvac\":\n",
    "         tdf = accur_df[range(5, 11)]\n",
    "    else:\n",
    "        tdf = accur_df\n",
    "    #print tdf.dropna().median().mean(), feature_set\n",
    "    return tdf.dropna().median().mean()"
   ]
  },
  {
   "cell_type": "code",
   "execution_count": null,
   "metadata": {
    "collapsed": false
   },
   "outputs": [],
   "source": [
    "accur_df[range(5, 11)].dropna().median().mean()"
   ]
  },
  {
   "cell_type": "code",
   "execution_count": null,
   "metadata": {
    "collapsed": false
   },
   "outputs": [],
   "source": [
    "len(accur_df.dropna().mean(axis=1).index)"
   ]
  },
  {
   "cell_type": "code",
   "execution_count": null,
   "metadata": {
    "collapsed": false
   },
   "outputs": [],
   "source": [
    "accur_df.dropna().median().mean()"
   ]
  },
  {
   "cell_type": "code",
   "execution_count": null,
   "metadata": {
    "collapsed": false
   },
   "outputs": [],
   "source": [
    "accur_df.dropna().mean(axis=1).index"
   ]
  },
  {
   "cell_type": "code",
   "execution_count": null,
   "metadata": {
    "collapsed": false
   },
   "outputs": [],
   "source": [
    "all_homes[\"wm\"]"
   ]
  },
  {
   "cell_type": "code",
   "execution_count": null,
   "metadata": {
    "collapsed": false
   },
   "outputs": [],
   "source": [
    "accur_df.dropna().mean(axis=1)"
   ]
  },
  {
   "cell_type": "code",
   "execution_count": null,
   "metadata": {
    "collapsed": true
   },
   "outputs": [],
   "source": [
    "%matplotlib inline"
   ]
  },
  {
   "cell_type": "code",
   "execution_count": null,
   "metadata": {
    "collapsed": false
   },
   "outputs": [],
   "source": [
    "m=6\n",
    "wm = 'hvac_%d' %m\n",
    "feature_plot=\"fft_5\"\n",
    "df.ix[all_homes[\"hvac\"]][[feature_plot,wm]].plot(kind=\"scatter\", x=feature_plot,y=wm)\n",
    "df.ix[all_homes[\"hvac\"]][[feature_plot,wm]].corr()"
   ]
  },
  {
   "cell_type": "code",
   "execution_count": null,
   "metadata": {
    "collapsed": true
   },
   "outputs": [],
   "source": [
    "temp = create_predictions('wm',['area'],1)\n",
    "errors = {}\n",
    "for i in range(1, 13):\n",
    "    errors[i] = percentage_error(temp[i][\"gt\"], temp[i][\"pred\"])\n",
    "error_df = pd.DataFrame(errors)\n",
    "accur_df = 100-error_df\n",
    "accur_df[accur_df<0]=0"
   ]
  },
  {
   "cell_type": "code",
   "execution_count": null,
   "metadata": {
    "collapsed": false
   },
   "outputs": [],
   "source": [
    "accur_df.dropna().median()"
   ]
  },
  {
   "cell_type": "code",
   "execution_count": null,
   "metadata": {
    "collapsed": false
   },
   "outputs": [],
   "source": [
    "all_homes['dw']"
   ]
  },
  {
   "cell_type": "code",
   "execution_count": null,
   "metadata": {
    "collapsed": false
   },
   "outputs": [],
   "source": [
    "st = pd.HDFStore(\"/Users/nipunbatra/Downloads/wiki-temp.h5\")\n",
    "out_dw = {}\n",
    "for home in all_homes['dw']:\n",
    "    a = st['/%d' %home]['2013']['dishwasher1'].resample(\"15T\")\n",
    "    print home\n",
    "    out_dw[home] = {'bet_500_1000':len(a.diff().abs()[(a.diff().abs()>500) & (a.diff().abs()<1000)]),\n",
    "                    'gt_1000':len(a.diff().abs()[(a.diff().abs()>1000)])}"
   ]
  },
  {
   "cell_type": "code",
   "execution_count": null,
   "metadata": {
    "collapsed": false
   },
   "outputs": [],
   "source": [
    "df.ix[all_homes['dw']].bet_500_1000"
   ]
  },
  {
   "cell_type": "code",
   "execution_count": null,
   "metadata": {
    "collapsed": false
   },
   "outputs": [],
   "source": [
    "import matplotlib.pyplot as plt\n",
    "plt.style.use('fivethirtyeight')\n",
    "plt.scatter(pd.Series(out_dw), df.ix[all_homes['dw']].bet_500_1000)\n",
    "#.corr(df.ix[all_homes['dw']].bet_500_1000)"
   ]
  },
  {
   "cell_type": "code",
   "execution_count": null,
   "metadata": {
    "collapsed": false
   },
   "outputs": [],
   "source": [
    "pd.Series(out_dw['bet_500_1000']).corr(df.ix[all_homes['dw']].bet_500_1000)"
   ]
  },
  {
   "cell_type": "code",
   "execution_count": null,
   "metadata": {
    "collapsed": false
   },
   "outputs": [],
   "source": [
    "pd.DataFrame(out_dw).T.corrwith(df.ix[all_homes['dw']].bet_500_1000)"
   ]
  },
  {
   "cell_type": "code",
   "execution_count": null,
   "metadata": {
    "collapsed": false
   },
   "outputs": [],
   "source": [
    "plt.scatter(df.ix[all_homes['dw']].bet_500_1000, pd.DataFrame(out_dw).T['bet_500_1000'])\n",
    "plt.xlabel(\"Fraction of step changes in \\naggregate between 500 and 1000W\")\n",
    "plt.ylabel(\"#Step changes in Dish washer \\nstream between 500 and 1000W\")\n",
    "plt.title(df.ix[all_homes['dw']].bet_500_1000.corr(pd.DataFrame(out_dw).T['bet_500_1000']))\n",
    "plt.tight_layout()\n",
    "plt.savefig(\"/Users/nipunbatra/git/monthly-disaggregation/figures/new/dw_aggregate_step_changes.png\")"
   ]
  },
  {
   "cell_type": "code",
   "execution_count": null,
   "metadata": {
    "collapsed": false
   },
   "outputs": [],
   "source": [
    "df.ix[all_homes['dw']]['dw_5']"
   ]
  },
  {
   "cell_type": "code",
   "execution_count": null,
   "metadata": {
    "collapsed": true
   },
   "outputs": [],
   "source": []
  }
 ],
 "metadata": {
  "kernelspec": {
   "display_name": "Python 2",
   "language": "python",
   "name": "python2"
  },
  "language_info": {
   "codemirror_mode": {
    "name": "ipython",
    "version": 2
   },
   "file_extension": ".py",
   "mimetype": "text/x-python",
   "name": "python",
   "nbconvert_exporter": "python",
   "pygments_lexer": "ipython2",
   "version": "2.7.11"
  }
 },
 "nbformat": 4,
 "nbformat_minor": 0
}
