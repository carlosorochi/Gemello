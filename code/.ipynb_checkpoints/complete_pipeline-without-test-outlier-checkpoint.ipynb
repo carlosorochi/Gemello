{
 "cells": [
  {
   "cell_type": "markdown",
   "metadata": {},
   "source": [
    "### Load data set with features"
   ]
  },
  {
   "cell_type": "code",
   "execution_count": 28,
   "metadata": {
    "collapsed": false
   },
   "outputs": [],
   "source": [
    "from create_df import read_df\n",
    "df, dfc, all_homes, appliance_min, national_average = read_df()"
   ]
  },
  {
   "cell_type": "code",
   "execution_count": 29,
   "metadata": {
    "collapsed": false
   },
   "outputs": [],
   "source": [
    "import numpy as np\n",
    "import matplotlib.pyplot as plt\n",
    "%matplotlib inline\n"
   ]
  },
  {
   "cell_type": "code",
   "execution_count": 30,
   "metadata": {
    "collapsed": false
   },
   "outputs": [],
   "source": [
    "run all_functions.py"
   ]
  },
  {
   "cell_type": "code",
   "execution_count": 31,
   "metadata": {
    "collapsed": false
   },
   "outputs": [],
   "source": [
    "run features.py"
   ]
  },
  {
   "cell_type": "code",
   "execution_count": 32,
   "metadata": {
    "collapsed": true
   },
   "outputs": [],
   "source": [
    "import json"
   ]
  },
  {
   "cell_type": "markdown",
   "metadata": {},
   "source": [
    "#### First round of CV, finding optimal features maximising median accuracy"
   ]
  },
  {
   "cell_type": "code",
   "execution_count": 33,
   "metadata": {
    "collapsed": false
   },
   "outputs": [
    {
     "name": "stdout",
     "output_type": "stream",
     "text": [
      "%%%%%%%%%%%%%%%%%%%%%%%%%%%%%%%%%%%%%%%%\n",
      "hvac\n",
      "%%%%%%%%%%%%%%%%%%%%%%%%%%%%%%%%%%%%%%%%\n",
      "********************\n",
      "All\n",
      "********************\n",
      "include: aggregate_5 -> feature_subset: ['aggregate_5']. Accuracy: 75.9382086743\n",
      "include: seasonal_energy_7 -> feature_subset: ['aggregate_5', 'seasonal_energy_7']. Accuracy: 77.947170504\n",
      "include: gt_1000 -> feature_subset: ['aggregate_5', 'seasonal_energy_7', 'gt_1000']. Accuracy: 79.1785146\n",
      "include: seasonal_energy_10 -> feature_subset: ['aggregate_5', 'seasonal_energy_7', 'gt_1000', 'seasonal_energy_10']. Accuracy: 78.3271328843\n",
      "include: aggregate_3 -> feature_subset: ['aggregate_5', 'seasonal_energy_7', 'gt_1000', 'seasonal_energy_10', 'aggregate_3']. Accuracy: 78.5679996885\n",
      "include: aggregate_4 -> feature_subset: ['aggregate_5', 'seasonal_energy_7', 'gt_1000', 'seasonal_energy_10', 'aggregate_3', 'aggregate_4']. Accuracy: 78.1515006747\n",
      "include: seasonal_energy_5 -> feature_subset: ['aggregate_5', 'seasonal_energy_7', 'gt_1000', 'seasonal_energy_10', 'aggregate_3', 'aggregate_4', 'seasonal_energy_5']. Accuracy: 78.3398283678\n",
      "include: aggregate_7 -> feature_subset: ['aggregate_7']. Accuracy: 77.298267728\n",
      "include: seasonal_energy_8 -> feature_subset: ['aggregate_7', 'seasonal_energy_8']. Accuracy: 78.47336609\n",
      "include: aggregate_5 -> feature_subset: ['aggregate_7', 'seasonal_energy_8', 'aggregate_5']. Accuracy: 78.4432188369\n",
      "include: aggregate_9 -> feature_subset: ['aggregate_7', 'seasonal_energy_8', 'aggregate_5', 'aggregate_9']. Accuracy: 78.8053101905\n",
      "include: aggregate_11 -> feature_subset: ['aggregate_7', 'seasonal_energy_8', 'aggregate_5', 'aggregate_9', 'aggregate_11']. Accuracy: 79.370308251\n",
      "include: bet_500_1000 -> feature_subset: ['aggregate_7', 'seasonal_energy_8', 'aggregate_5', 'aggregate_9', 'aggregate_11', 'bet_500_1000']. Accuracy: 79.7086462385\n",
      "include: aggregate_6 -> feature_subset: ['aggregate_7', 'seasonal_energy_8', 'aggregate_5', 'aggregate_9', 'aggregate_11', 'bet_500_1000', 'aggregate_6']. Accuracy: 79.6943512755\n",
      "include: aggregate_7 -> feature_subset: ['aggregate_7']. Accuracy: 78.6578997462\n",
      "include: aggregate_5 -> feature_subset: ['aggregate_7', 'aggregate_5']. Accuracy: 79.1833996903\n",
      "include: aggregate_8 -> feature_subset: ['aggregate_7', 'aggregate_5', 'aggregate_8']. Accuracy: 79.7810580332\n",
      "include: difference_min_max -> feature_subset: ['aggregate_7', 'aggregate_5', 'aggregate_8', 'difference_min_max']. Accuracy: 79.6302236324\n",
      "include: aggregate_3 -> feature_subset: ['aggregate_7', 'aggregate_5', 'aggregate_8', 'difference_min_max', 'aggregate_3']. Accuracy: 79.0411558398\n",
      "include: disag_fridge -> feature_subset: ['aggregate_7', 'aggregate_5', 'aggregate_8', 'difference_min_max', 'aggregate_3', 'disag_fridge']. Accuracy: 79.3883182303\n",
      "include: aggregate_9 -> feature_subset: ['aggregate_7', 'aggregate_5', 'aggregate_8', 'difference_min_max', 'aggregate_3', 'disag_fridge', 'aggregate_9']. Accuracy: 79.3671175054\n",
      "include: aggregate_7 -> feature_subset: ['aggregate_7']. Accuracy: 78.3702938211\n",
      "include: aggregate_2 -> feature_subset: ['aggregate_7', 'aggregate_2']. Accuracy: 79.1557680396\n",
      "include: aggregate_8 -> feature_subset: ['aggregate_7', 'aggregate_2', 'aggregate_8']. Accuracy: 79.6358263269\n",
      "include: aggregate_4 -> feature_subset: ['aggregate_7', 'aggregate_2', 'aggregate_8', 'aggregate_4']. Accuracy: 79.5216221839\n",
      "include: aggregate_5 -> feature_subset: ['aggregate_7', 'aggregate_2', 'aggregate_8', 'aggregate_4', 'aggregate_5']. Accuracy: 79.5251878086\n",
      "include: aggregate_3 -> feature_subset: ['aggregate_7', 'aggregate_2', 'aggregate_8', 'aggregate_4', 'aggregate_5', 'aggregate_3']. Accuracy: 79.636476329\n",
      "include: difference_min_max -> feature_subset: ['aggregate_7', 'aggregate_2', 'aggregate_8', 'aggregate_4', 'aggregate_5', 'aggregate_3', 'difference_min_max']. Accuracy: 79.6061135658\n",
      "include: aggregate_8 -> feature_subset: ['aggregate_8']. Accuracy: 78.7860708532\n",
      "include: lt_500 -> feature_subset: ['aggregate_8', 'lt_500']. Accuracy: 79.1007834469\n",
      "include: aggregate_5 -> feature_subset: ['aggregate_8', 'lt_500', 'aggregate_5']. Accuracy: 79.2003889624\n",
      "include: aggregate_11 -> feature_subset: ['aggregate_8', 'lt_500', 'aggregate_5', 'aggregate_11']. Accuracy: 79.35223565\n",
      "include: difference_min_max -> feature_subset: ['aggregate_8', 'lt_500', 'aggregate_5', 'aggregate_11', 'difference_min_max']. Accuracy: 79.3028879496\n",
      "include: aggregate_4 -> feature_subset: ['aggregate_8', 'lt_500', 'aggregate_5', 'aggregate_11', 'difference_min_max', 'aggregate_4']. Accuracy: 79.4661796266\n",
      "include: aggregate_10 -> feature_subset: ['aggregate_8', 'lt_500', 'aggregate_5', 'aggregate_11', 'difference_min_max', 'aggregate_4', 'aggregate_10']. Accuracy: 79.4130068814\n",
      "include: aggregate_8 -> feature_subset: ['aggregate_8']. Accuracy: 77.9512276639\n",
      "include: gt_1000 -> feature_subset: ['aggregate_8', 'gt_1000']. Accuracy: 78.519630561\n",
      "include: aggregate_2 -> feature_subset: ['aggregate_8', 'gt_1000', 'aggregate_2']. Accuracy: 78.900215933\n",
      "include: difference_min_max -> feature_subset: ['aggregate_8', 'gt_1000', 'aggregate_2', 'difference_min_max']. Accuracy: 78.8454779814\n",
      "include: aggregate_10 -> feature_subset: ['aggregate_8', 'gt_1000', 'aggregate_2', 'difference_min_max', 'aggregate_10']. Accuracy: 79.0849234274\n",
      "include: aggregate_7 -> feature_subset: ['aggregate_8', 'gt_1000', 'aggregate_2', 'difference_min_max', 'aggregate_10', 'aggregate_7']. Accuracy: 79.2986754514\n",
      "include: aggregate_11 -> feature_subset: ['aggregate_8', 'gt_1000', 'aggregate_2', 'difference_min_max', 'aggregate_10', 'aggregate_7', 'aggregate_11']. Accuracy: 79.4289870593\n",
      "3 ['aggregate_7', 'aggregate_5', 'aggregate_8'] 79.7810580332\n",
      "--------------------------------------------------------------------------------\n",
      "%%%%%%%%%%%%%%%%%%%%%%%%%%%%%%%%%%%%%%%%\n",
      "light\n",
      "%%%%%%%%%%%%%%%%%%%%%%%%%%%%%%%%%%%%%%%%\n",
      "********************\n",
      "All\n",
      "********************\n",
      "include: bet_500_1000 -> feature_subset: ['bet_500_1000']. Accuracy: 45.6538762014\n",
      "include: autocorr -> feature_subset: ['bet_500_1000', 'autocorr']. Accuracy: 45.0994720037\n",
      "include: temperature_corr -> feature_subset: ['bet_500_1000', 'autocorr', 'temperature_corr']. Accuracy: 41.6619760024\n",
      "include: aggregate_6 -> feature_subset: ['bet_500_1000', 'autocorr', 'temperature_corr', 'aggregate_6']. Accuracy: 40.4676978434\n",
      "include: lt_500 -> feature_subset: ['bet_500_1000', 'autocorr', 'temperature_corr', 'aggregate_6', 'lt_500']. Accuracy: 42.5071977813\n",
      "include: fft_1 -> feature_subset: ['bet_500_1000', 'autocorr', 'temperature_corr', 'aggregate_6', 'lt_500', 'fft_1']. Accuracy: 42.0829692649\n",
      "include: area -> feature_subset: ['bet_500_1000', 'autocorr', 'temperature_corr', 'aggregate_6', 'lt_500', 'fft_1', 'area']. Accuracy: 42.8497853745\n",
      "include: area -> feature_subset: ['area']. Accuracy: 46.7698955637\n",
      "include: aggregate_7 -> feature_subset: ['area', 'aggregate_7']. Accuracy: 49.3745299759\n",
      "include: bet_500_1000 -> feature_subset: ['area', 'aggregate_7', 'bet_500_1000']. Accuracy: 49.3745299759\n",
      "include: aggregate_5 -> feature_subset: ['area', 'aggregate_7', 'bet_500_1000', 'aggregate_5']. Accuracy: 48.8290761038\n",
      "include: gt_1000 -> feature_subset: ['area', 'aggregate_7', 'bet_500_1000', 'aggregate_5', 'gt_1000']. Accuracy: 49.114270126\n",
      "include: aggregate_2 -> feature_subset: ['area', 'aggregate_7', 'bet_500_1000', 'aggregate_5', 'gt_1000', 'aggregate_2']. Accuracy: 49.114270126\n",
      "include: disag_fridge -> feature_subset: ['area', 'aggregate_7', 'bet_500_1000', 'aggregate_5', 'gt_1000', 'aggregate_2', 'disag_fridge']. Accuracy: 48.9404412761\n",
      "include: lt_500 -> feature_subset: ['lt_500']. Accuracy: 45.6247436808\n",
      "include: bet_500_1000 -> feature_subset: ['lt_500', 'bet_500_1000']. Accuracy: 46.3769151545\n",
      "include: temperature_corr -> feature_subset: ['lt_500', 'bet_500_1000', 'temperature_corr']. Accuracy: 46.1060146701\n",
      "include: aggregate_3 -> feature_subset: ['lt_500', 'bet_500_1000', 'temperature_corr', 'aggregate_3']. Accuracy: 46.1536204252\n",
      "include: max_seasonal_daily -> feature_subset: ['lt_500', 'bet_500_1000', 'temperature_corr', 'aggregate_3', 'max_seasonal_daily']. Accuracy: 46.5193414484\n",
      "include: aggregate_1 -> feature_subset: ['lt_500', 'bet_500_1000', 'temperature_corr', 'aggregate_3', 'max_seasonal_daily', 'aggregate_1']. Accuracy: 46.1749449527\n",
      "include: area -> feature_subset: ['lt_500', 'bet_500_1000', 'temperature_corr', 'aggregate_3', 'max_seasonal_daily', 'aggregate_1', 'area']. Accuracy: 45.8145518856\n",
      "include: area -> feature_subset: ['area']. Accuracy: 46.0963067182\n",
      "include: aggregate_11 -> feature_subset: ['area', 'aggregate_11']. Accuracy: 49.0294064294\n",
      "include: aggregate_2 -> feature_subset: ['area', 'aggregate_11', 'aggregate_2']. Accuracy: 49.6050872725\n",
      "include: bet_500_1000 -> feature_subset: ['area', 'aggregate_11', 'aggregate_2', 'bet_500_1000']. Accuracy: 49.5815397434\n",
      "include: aggregate_5 -> feature_subset: ['area', 'aggregate_11', 'aggregate_2', 'bet_500_1000', 'aggregate_5']. Accuracy: 48.5265034665\n",
      "include: lt_500 -> feature_subset: ['area', 'aggregate_11', 'aggregate_2', 'bet_500_1000', 'aggregate_5', 'lt_500']. Accuracy: 49.4516907102\n",
      "include: aggregate_7 -> feature_subset: ['area', 'aggregate_11', 'aggregate_2', 'bet_500_1000', 'aggregate_5', 'lt_500', 'aggregate_7']. Accuracy: 48.9277655835\n",
      "include: area -> feature_subset: ['area']. Accuracy: 47.9160262705\n",
      "include: aggregate_6 -> feature_subset: ['area', 'aggregate_6']. Accuracy: 49.2426608223\n",
      "include: lt_500 -> feature_subset: ['area', 'aggregate_6', 'lt_500']. Accuracy: 49.5640439301\n",
      "include: bet_500_1000 -> feature_subset: ['area', 'aggregate_6', 'lt_500', 'bet_500_1000']. Accuracy: 49.1780516751\n",
      "include: aggregate_10 -> feature_subset: ['area', 'aggregate_6', 'lt_500', 'bet_500_1000', 'aggregate_10']. Accuracy: 49.665010727\n",
      "include: aggregate_5 -> feature_subset: ['area', 'aggregate_6', 'lt_500', 'bet_500_1000', 'aggregate_10', 'aggregate_5']. Accuracy: 49.8734651062\n",
      "include: aggregate_9 -> feature_subset: ['area', 'aggregate_6', 'lt_500', 'bet_500_1000', 'aggregate_10', 'aggregate_5', 'aggregate_9']. Accuracy: 48.8629604733\n",
      "include: area -> feature_subset: ['area']. Accuracy: 48.2358117152\n",
      "include: aggregate_5 -> feature_subset: ['area', 'aggregate_5']. Accuracy: 48.9142292934\n",
      "include: bet_500_1000 -> feature_subset: ['area', 'aggregate_5', 'bet_500_1000']. Accuracy: 49.1421395645\n",
      "include: aggregate_6 -> feature_subset: ['area', 'aggregate_5', 'bet_500_1000', 'aggregate_6']. Accuracy: 49.3016903804\n",
      "include: aggregate_10 -> feature_subset: ['area', 'aggregate_5', 'bet_500_1000', 'aggregate_6', 'aggregate_10']. Accuracy: 49.1584365469\n",
      "include: cluster_small -> feature_subset: ['area', 'aggregate_5', 'bet_500_1000', 'aggregate_6', 'aggregate_10', 'cluster_small']. Accuracy: 48.9194067698\n",
      "include: aggregate_2 -> feature_subset: ['area', 'aggregate_5', 'bet_500_1000', 'aggregate_6', 'aggregate_10', 'cluster_small', 'aggregate_2']. Accuracy: 47.9460957852\n",
      "5 ['area', 'aggregate_6', 'lt_500', 'bet_500_1000', 'aggregate_10', 'aggregate_5'] 49.8734651062\n",
      "--------------------------------------------------------------------------------\n",
      "%%%%%%%%%%%%%%%%%%%%%%%%%%%%%%%%%%%%%%%%\n",
      "fridge\n",
      "%%%%%%%%%%%%%%%%%%%%%%%%%%%%%%%%%%%%%%%%\n",
      "********************\n",
      "All\n",
      "********************\n",
      "include: ratio_min_max -> feature_subset: ['ratio_min_max']. Accuracy: 74.8515895951\n",
      "include: difference_min_max -> feature_subset: ['ratio_min_max', 'difference_min_max']. Accuracy: 77.6801839105\n",
      "include: aggregate_2 -> feature_subset: ['ratio_min_max', 'difference_min_max', 'aggregate_2']. Accuracy: 77.7406596177\n",
      "include: ratio_difference_min_max -> feature_subset: ['ratio_min_max', 'difference_min_max', 'aggregate_2', 'ratio_difference_min_max']. Accuracy: 77.6606515071\n",
      "include: total_occupants -> feature_subset: ['ratio_min_max', 'difference_min_max', 'aggregate_2', 'ratio_difference_min_max', 'total_occupants']. Accuracy: 78.1755598861\n",
      "include: autocorr -> feature_subset: ['ratio_min_max', 'difference_min_max', 'aggregate_2', 'ratio_difference_min_max', 'total_occupants', 'autocorr']. Accuracy: 78.6249925625\n",
      "include: aggregate_4 -> feature_subset: ['ratio_min_max', 'difference_min_max', 'aggregate_2', 'ratio_difference_min_max', 'total_occupants', 'autocorr', 'aggregate_4']. Accuracy: 78.9686916339\n",
      "include: disag_fridge -> feature_subset: ['disag_fridge']. Accuracy: 75.2101770403\n",
      "include: fft_3 -> feature_subset: ['disag_fridge', 'fft_3']. Accuracy: 77.1770434938\n",
      "include: max_trend_12 -> feature_subset: ['disag_fridge', 'fft_3', 'max_trend_12']. Accuracy: 78.8182631963\n",
      "include: aggregate_2 -> feature_subset: ['disag_fridge', 'fft_3', 'max_trend_12', 'aggregate_2']. Accuracy: 79.8614762418\n",
      "include: aggregate_1 -> feature_subset: ['disag_fridge', 'fft_3', 'max_trend_12', 'aggregate_2', 'aggregate_1']. Accuracy: 79.8614762418\n",
      "include: aggregate_3 -> feature_subset: ['disag_fridge', 'fft_3', 'max_trend_12', 'aggregate_2', 'aggregate_1', 'aggregate_3']. Accuracy: 79.9034331281\n",
      "include: gt_1000 -> feature_subset: ['disag_fridge', 'fft_3', 'max_trend_12', 'aggregate_2', 'aggregate_1', 'aggregate_3', 'gt_1000']. Accuracy: 79.9034331281\n",
      "include: ratio_min_max -> feature_subset: ['ratio_min_max']. Accuracy: 75.6372441909\n",
      "include: gt_1000 -> feature_subset: ['ratio_min_max', 'gt_1000']. Accuracy: 77.5103163401\n",
      "include: max_seasonal_12 -> feature_subset: ['ratio_min_max', 'gt_1000', 'max_seasonal_12']. Accuracy: 77.7896593551\n",
      "include: aggregate_2 -> feature_subset: ['ratio_min_max', 'gt_1000', 'max_seasonal_12', 'aggregate_2']. Accuracy: 78.2955008538\n",
      "include: aggregate_4 -> feature_subset: ['ratio_min_max', 'gt_1000', 'max_seasonal_12', 'aggregate_2', 'aggregate_4']. Accuracy: 77.6325896587\n",
      "include: aggregate_3 -> feature_subset: ['ratio_min_max', 'gt_1000', 'max_seasonal_12', 'aggregate_2', 'aggregate_4', 'aggregate_3']. Accuracy: 78.4302651111\n",
      "include: aggregate_1 -> feature_subset: ['ratio_min_max', 'gt_1000', 'max_seasonal_12', 'aggregate_2', 'aggregate_4', 'aggregate_3', 'aggregate_1']. Accuracy: 78.1555427724\n",
      "include: fft_3 -> feature_subset: ['fft_3']. Accuracy: 76.2247763393\n",
      "include: max_trend_daily -> feature_subset: ['fft_3', 'max_trend_daily']. Accuracy: 78.6201469928\n",
      "include: cluster_small -> feature_subset: ['fft_3', 'max_trend_daily', 'cluster_small']. Accuracy: 79.0703471112\n",
      "include: max_seasonal_daily -> feature_subset: ['fft_3', 'max_trend_daily', 'cluster_small', 'max_seasonal_daily']. Accuracy: 79.5795880676\n",
      "include: ratio_min_max -> feature_subset: ['fft_3', 'max_trend_daily', 'cluster_small', 'max_seasonal_daily', 'ratio_min_max']. Accuracy: 80.4766722637\n",
      "include: difference_min_max -> feature_subset: ['fft_3', 'max_trend_daily', 'cluster_small', 'max_seasonal_daily', 'ratio_min_max', 'difference_min_max']. Accuracy: 81.0033382447\n",
      "include: aggregate_1 -> feature_subset: ['fft_3', 'max_trend_daily', 'cluster_small', 'max_seasonal_daily', 'ratio_min_max', 'difference_min_max', 'aggregate_1']. Accuracy: 81.1211222051\n",
      "include: fft_3 -> feature_subset: ['fft_3']. Accuracy: 77.7466948589\n",
      "include: max_trend_12 -> feature_subset: ['fft_3', 'max_trend_12']. Accuracy: 78.454544699\n",
      "include: gt_1000 -> feature_subset: ['fft_3', 'max_trend_12', 'gt_1000']. Accuracy: 78.7344360177\n",
      "include: max_seasonal_12 -> feature_subset: ['fft_3', 'max_trend_12', 'gt_1000', 'max_seasonal_12']. Accuracy: 79.0811319206\n",
      "include: max_seasonal_daily -> feature_subset: ['fft_3', 'max_trend_12', 'gt_1000', 'max_seasonal_12', 'max_seasonal_daily']. Accuracy: 78.9533587268\n",
      "include: lt_500 -> feature_subset: ['fft_3', 'max_trend_12', 'gt_1000', 'max_seasonal_12', 'max_seasonal_daily', 'lt_500']. Accuracy: 79.0017993356\n",
      "include: cluster_big -> feature_subset: ['fft_3', 'max_trend_12', 'gt_1000', 'max_seasonal_12', 'max_seasonal_daily', 'lt_500', 'cluster_big']. Accuracy: 79.1178793735\n",
      "include: fft_3 -> feature_subset: ['fft_3']. Accuracy: 77.7398354699\n",
      "include: max_seasonal_12 -> feature_subset: ['fft_3', 'max_seasonal_12']. Accuracy: 78.243905725\n",
      "include: aggregate_2 -> feature_subset: ['fft_3', 'max_seasonal_12', 'aggregate_2']. Accuracy: 78.5626018565\n",
      "include: gt_1000 -> feature_subset: ['fft_3', 'max_seasonal_12', 'aggregate_2', 'gt_1000']. Accuracy: 77.9457217229\n",
      "include: ratio_min_max -> feature_subset: ['fft_3', 'max_seasonal_12', 'aggregate_2', 'gt_1000', 'ratio_min_max']. Accuracy: 77.8141345303\n",
      "include: aggregate_4 -> feature_subset: ['fft_3', 'max_seasonal_12', 'aggregate_2', 'gt_1000', 'ratio_min_max', 'aggregate_4']. Accuracy: 77.6026918848\n",
      "include: aggregate_1 -> feature_subset: ['fft_3', 'max_seasonal_12', 'aggregate_2', 'gt_1000', 'ratio_min_max', 'aggregate_4', 'aggregate_1']. Accuracy: 77.7863922723\n",
      "4 ['fft_3', 'max_trend_daily', 'cluster_small', 'max_seasonal_daily', 'ratio_min_max', 'difference_min_max', 'aggregate_1'] 81.1211222051\n",
      "--------------------------------------------------------------------------------\n",
      "%%%%%%%%%%%%%%%%%%%%%%%%%%%%%%%%%%%%%%%%\n",
      "dr\n",
      "%%%%%%%%%%%%%%%%%%%%%%%%%%%%%%%%%%%%%%%%\n",
      "********************\n",
      "All\n",
      "********************\n",
      "include: seasonal_energy_8 -> feature_subset: ['seasonal_energy_8']. Accuracy: 39.1235634222\n",
      "include: difference_min_max -> feature_subset: ['seasonal_energy_8', 'difference_min_max']. Accuracy: 42.5171468247\n",
      "include: seasonal_energy_5 -> feature_subset: ['seasonal_energy_8', 'difference_min_max', 'seasonal_energy_5']. Accuracy: 42.4795619334\n",
      "include: seasonal_energy_6 -> feature_subset: ['seasonal_energy_8', 'difference_min_max', 'seasonal_energy_5', 'seasonal_energy_6']. Accuracy: 42.7255670992\n",
      "include: aggregate_12 -> feature_subset: ['seasonal_energy_8', 'difference_min_max', 'seasonal_energy_5', 'seasonal_energy_6', 'aggregate_12']. Accuracy: 41.3959723065\n",
      "include: seasonal_energy_7 -> feature_subset: ['seasonal_energy_8', 'difference_min_max', 'seasonal_energy_5', 'seasonal_energy_6', 'aggregate_12', 'seasonal_energy_7']. Accuracy: 42.9689826711\n",
      "include: seasonal_energy_9 -> feature_subset: ['seasonal_energy_8', 'difference_min_max', 'seasonal_energy_5', 'seasonal_energy_6', 'aggregate_12', 'seasonal_energy_7', 'seasonal_energy_9']. Accuracy: 42.9689826711\n",
      "include: max_seasonal_12 -> feature_subset: ['max_seasonal_12']. Accuracy: 39.9625174146\n",
      "include: aggregate_12 -> feature_subset: ['max_seasonal_12', 'aggregate_12']. Accuracy: 41.4749307544\n",
      "include: total_occupants -> feature_subset: ['max_seasonal_12', 'aggregate_12', 'total_occupants']. Accuracy: 41.7210864205\n",
      "include: aggregate_10 -> feature_subset: ['max_seasonal_12', 'aggregate_12', 'total_occupants', 'aggregate_10']. Accuracy: 41.5173142565\n",
      "include: aggregate_1 -> feature_subset: ['max_seasonal_12', 'aggregate_12', 'total_occupants', 'aggregate_10', 'aggregate_1']. Accuracy: 41.7860337858\n",
      "include: aggregate_3 -> feature_subset: ['max_seasonal_12', 'aggregate_12', 'total_occupants', 'aggregate_10', 'aggregate_1', 'aggregate_3']. Accuracy: 41.7885964942\n",
      "include: fft_4 -> feature_subset: ['max_seasonal_12', 'aggregate_12', 'total_occupants', 'aggregate_10', 'aggregate_1', 'aggregate_3', 'fft_4']. Accuracy: 42.7690333147\n",
      "include: cluster_big -> feature_subset: ['cluster_big']. Accuracy: 40.8673953759\n",
      "include: aggregate_1 -> feature_subset: ['cluster_big', 'aggregate_1']. Accuracy: 41.6468621413\n",
      "include: gt_1000 -> feature_subset: ['cluster_big', 'aggregate_1', 'gt_1000']. Accuracy: 40.1580953171\n",
      "include: aggregate_3 -> feature_subset: ['cluster_big', 'aggregate_1', 'gt_1000', 'aggregate_3']. Accuracy: 40.1927105744\n",
      "include: total_occupants -> feature_subset: ['cluster_big', 'aggregate_1', 'gt_1000', 'aggregate_3', 'total_occupants']. Accuracy: 39.3161951062\n",
      "include: num_rooms -> feature_subset: ['cluster_big', 'aggregate_1', 'gt_1000', 'aggregate_3', 'total_occupants', 'num_rooms']. Accuracy: 40.1804415237\n",
      "include: max_trend_12 -> feature_subset: ['cluster_big', 'aggregate_1', 'gt_1000', 'aggregate_3', 'total_occupants', 'num_rooms', 'max_trend_12']. Accuracy: 42.1236063671\n",
      "include: cluster_big -> feature_subset: ['cluster_big']. Accuracy: 41.2578863123\n",
      "include: disag_fridge -> feature_subset: ['cluster_big', 'disag_fridge']. Accuracy: 40.8501506399\n",
      "include: max_trend_12 -> feature_subset: ['cluster_big', 'disag_fridge', 'max_trend_12']. Accuracy: 41.3634032768\n",
      "include: lt_500 -> feature_subset: ['cluster_big', 'disag_fridge', 'max_trend_12', 'lt_500']. Accuracy: 41.595263935\n",
      "include: aggregate_12 -> feature_subset: ['cluster_big', 'disag_fridge', 'max_trend_12', 'lt_500', 'aggregate_12']. Accuracy: 41.6564813747\n",
      "include: ratio_min_max -> feature_subset: ['cluster_big', 'disag_fridge', 'max_trend_12', 'lt_500', 'aggregate_12', 'ratio_min_max']. Accuracy: 41.6340309893\n",
      "include: gt_1000 -> feature_subset: ['cluster_big', 'disag_fridge', 'max_trend_12', 'lt_500', 'aggregate_12', 'ratio_min_max', 'gt_1000']. Accuracy: 41.8814246544\n",
      "include: disag_fridge -> feature_subset: ['disag_fridge']. Accuracy: 41.9007496803\n",
      "include: aggregate_12 -> feature_subset: ['disag_fridge', 'aggregate_12']. Accuracy: 41.8542934472\n",
      "include: total_occupants -> feature_subset: ['disag_fridge', 'aggregate_12', 'total_occupants']. Accuracy: 42.6826963291\n",
      "include: lt_500 -> feature_subset: ['disag_fridge', 'aggregate_12', 'total_occupants', 'lt_500']. Accuracy: 43.6763587786\n",
      "include: aggregate_4 -> feature_subset: ['disag_fridge', 'aggregate_12', 'total_occupants', 'lt_500', 'aggregate_4']. Accuracy: 43.4062912252\n",
      "include: autocorr -> feature_subset: ['disag_fridge', 'aggregate_12', 'total_occupants', 'lt_500', 'aggregate_4', 'autocorr']. Accuracy: 43.2008498817\n",
      "include: bet_500_1000 -> feature_subset: ['disag_fridge', 'aggregate_12', 'total_occupants', 'lt_500', 'aggregate_4', 'autocorr', 'bet_500_1000']. Accuracy: 43.0542845915\n",
      "include: disag_fridge -> feature_subset: ['disag_fridge']. Accuracy: 41.456164827\n",
      "include: autocorr -> feature_subset: ['disag_fridge', 'autocorr']. Accuracy: 41.9998073769\n",
      "include: bet_500_1000 -> feature_subset: ['disag_fridge', 'autocorr', 'bet_500_1000']. Accuracy: 42.5006705264\n",
      "include: lt_500 -> feature_subset: ['disag_fridge', 'autocorr', 'bet_500_1000', 'lt_500']. Accuracy: 42.4330700531\n",
      "include: aggregate_2 -> feature_subset: ['disag_fridge', 'autocorr', 'bet_500_1000', 'lt_500', 'aggregate_2']. Accuracy: 42.3975817189\n",
      "include: aggregate_12 -> feature_subset: ['disag_fridge', 'autocorr', 'bet_500_1000', 'lt_500', 'aggregate_2', 'aggregate_12']. Accuracy: 42.3280761099\n",
      "include: total_occupants -> feature_subset: ['disag_fridge', 'autocorr', 'bet_500_1000', 'lt_500', 'aggregate_2', 'aggregate_12', 'total_occupants']. Accuracy: 42.8170607687\n",
      "5 ['disag_fridge', 'aggregate_12', 'total_occupants', 'lt_500'] 43.6763587786\n",
      "--------------------------------------------------------------------------------\n",
      "%%%%%%%%%%%%%%%%%%%%%%%%%%%%%%%%%%%%%%%%\n",
      "wm\n",
      "%%%%%%%%%%%%%%%%%%%%%%%%%%%%%%%%%%%%%%%%\n",
      "********************\n",
      "All\n",
      "********************\n",
      "include: aggregate_11 -> feature_subset: ['aggregate_11']. Accuracy: 62.2737488854\n",
      "include: aggregate_10 -> feature_subset: ['aggregate_11', 'aggregate_10']. Accuracy: 64.3631097671\n",
      "include: bet_500_1000 -> feature_subset: ['aggregate_11', 'aggregate_10', 'bet_500_1000']. Accuracy: 64.1395984658\n",
      "include: area -> feature_subset: ['aggregate_11', 'aggregate_10', 'bet_500_1000', 'area']. Accuracy: 64.4147381989\n",
      "include: aggregate_3 -> feature_subset: ['aggregate_11', 'aggregate_10', 'bet_500_1000', 'area', 'aggregate_3']. Accuracy: 65.5353832212\n",
      "include: aggregate_4 -> feature_subset: ['aggregate_11', 'aggregate_10', 'bet_500_1000', 'area', 'aggregate_3', 'aggregate_4']. Accuracy: 65.5353832212\n",
      "include: aggregate_5 -> feature_subset: ['aggregate_11', 'aggregate_10', 'bet_500_1000', 'area', 'aggregate_3', 'aggregate_4', 'aggregate_5']. Accuracy: 64.9540348181\n",
      "include: cluster_big -> feature_subset: ['cluster_big']. Accuracy: 63.5222826826\n",
      "include: bet_500_1000 -> feature_subset: ['cluster_big', 'bet_500_1000']. Accuracy: 63.6442159597\n",
      "include: aggregate_4 -> feature_subset: ['cluster_big', 'bet_500_1000', 'aggregate_4']. Accuracy: 63.97231494\n",
      "include: gt_1000 -> feature_subset: ['cluster_big', 'bet_500_1000', 'aggregate_4', 'gt_1000']. Accuracy: 64.1775935694\n",
      "include: area -> feature_subset: ['cluster_big', 'bet_500_1000', 'aggregate_4', 'gt_1000', 'area']. Accuracy: 64.1182830958\n",
      "include: disag_fridge -> feature_subset: ['cluster_big', 'bet_500_1000', 'aggregate_4', 'gt_1000', 'area', 'disag_fridge']. Accuracy: 65.2909136723\n",
      "include: aggregate_12 -> feature_subset: ['cluster_big', 'bet_500_1000', 'aggregate_4', 'gt_1000', 'area', 'disag_fridge', 'aggregate_12']. Accuracy: 65.3583066937\n",
      "include: cluster_big -> feature_subset: ['cluster_big']. Accuracy: 60.9240161976\n",
      "include: area -> feature_subset: ['cluster_big', 'area']. Accuracy: 62.7925520404\n",
      "include: max_trend_daily -> feature_subset: ['cluster_big', 'area', 'max_trend_daily']. Accuracy: 63.4496759937\n",
      "include: aggregate_4 -> feature_subset: ['cluster_big', 'area', 'max_trend_daily', 'aggregate_4']. Accuracy: 64.1540898382\n",
      "include: autocorr -> feature_subset: ['cluster_big', 'area', 'max_trend_daily', 'aggregate_4', 'autocorr']. Accuracy: 64.290400661\n",
      "include: aggregate_12 -> feature_subset: ['cluster_big', 'area', 'max_trend_daily', 'aggregate_4', 'autocorr', 'aggregate_12']. Accuracy: 64.3925978386\n",
      "include: gt_1000 -> feature_subset: ['cluster_big', 'area', 'max_trend_daily', 'aggregate_4', 'autocorr', 'aggregate_12', 'gt_1000']. Accuracy: 64.0911935597\n",
      "include: aggregate_7 -> feature_subset: ['aggregate_7']. Accuracy: 60.2151535945\n",
      "include: area -> feature_subset: ['aggregate_7', 'area']. Accuracy: 60.9335067287\n",
      "include: aggregate_4 -> feature_subset: ['aggregate_7', 'area', 'aggregate_4']. Accuracy: 62.324581292\n",
      "include: bet_500_1000 -> feature_subset: ['aggregate_7', 'area', 'aggregate_4', 'bet_500_1000']. Accuracy: 62.2644365367\n",
      "include: max_trend_daily -> feature_subset: ['aggregate_7', 'area', 'aggregate_4', 'bet_500_1000', 'max_trend_daily']. Accuracy: 62.2292596683\n",
      "include: gt_1000 -> feature_subset: ['aggregate_7', 'area', 'aggregate_4', 'bet_500_1000', 'max_trend_daily', 'gt_1000']. Accuracy: 62.0787421338\n",
      "include: autocorr -> feature_subset: ['aggregate_7', 'area', 'aggregate_4', 'bet_500_1000', 'max_trend_daily', 'gt_1000', 'autocorr']. Accuracy: 62.1532308451\n",
      "include: area -> feature_subset: ['area']. Accuracy: 59.5734659992\n",
      "include: max_trend_daily -> feature_subset: ['area', 'max_trend_daily']. Accuracy: 62.0094669826\n",
      "include: aggregate_2 -> feature_subset: ['area', 'max_trend_daily', 'aggregate_2']. Accuracy: 62.2766871438\n",
      "include: bet_500_1000 -> feature_subset: ['area', 'max_trend_daily', 'aggregate_2', 'bet_500_1000']. Accuracy: 62.0907733906\n",
      "include: fft_1 -> feature_subset: ['area', 'max_trend_daily', 'aggregate_2', 'bet_500_1000', 'fft_1']. Accuracy: 61.8961279893\n",
      "include: autocorr -> feature_subset: ['area', 'max_trend_daily', 'aggregate_2', 'bet_500_1000', 'fft_1', 'autocorr']. Accuracy: 61.8772259266\n",
      "include: aggregate_1 -> feature_subset: ['area', 'max_trend_daily', 'aggregate_2', 'bet_500_1000', 'fft_1', 'autocorr', 'aggregate_1']. Accuracy: 61.6803372584\n",
      "include: area -> feature_subset: ['area']. Accuracy: 60.0456763106\n",
      "include: aggregate_10 -> feature_subset: ['area', 'aggregate_10']. Accuracy: 60.3432930849\n",
      "include: aggregate_2 -> feature_subset: ['area', 'aggregate_10', 'aggregate_2']. Accuracy: 60.5241932361\n",
      "include: bet_500_1000 -> feature_subset: ['area', 'aggregate_10', 'aggregate_2', 'bet_500_1000']. Accuracy: 60.5326178383\n",
      "include: autocorr -> feature_subset: ['area', 'aggregate_10', 'aggregate_2', 'bet_500_1000', 'autocorr']. Accuracy: 60.1378729269\n",
      "include: difference_min_max -> feature_subset: ['area', 'aggregate_10', 'aggregate_2', 'bet_500_1000', 'autocorr', 'difference_min_max']. Accuracy: 60.3281445607\n",
      "include: total_occupants -> feature_subset: ['area', 'aggregate_10', 'aggregate_2', 'bet_500_1000', 'autocorr', 'difference_min_max', 'total_occupants']. Accuracy: 60.7150327848\n",
      "1 ['aggregate_11', 'aggregate_10', 'bet_500_1000', 'area', 'aggregate_3'] 65.5353832212\n",
      "--------------------------------------------------------------------------------\n",
      "%%%%%%%%%%%%%%%%%%%%%%%%%%%%%%%%%%%%%%%%\n",
      "dw\n",
      "%%%%%%%%%%%%%%%%%%%%%%%%%%%%%%%%%%%%%%%%\n",
      "********************\n",
      "All\n",
      "********************\n",
      "include: aggregate_10 -> feature_subset: ['aggregate_10']. Accuracy: 38.8618417403\n",
      "include: total_occupants -> feature_subset: ['aggregate_10', 'total_occupants']. Accuracy: 39.6918563919\n",
      "include: bet_500_1000 -> feature_subset: ['aggregate_10', 'total_occupants', 'bet_500_1000']. Accuracy: 40.2439056768\n",
      "include: aggregate_9 -> feature_subset: ['aggregate_10', 'total_occupants', 'bet_500_1000', 'aggregate_9']. Accuracy: 39.5521264282\n",
      "include: max_seasonal_daily -> feature_subset: ['aggregate_10', 'total_occupants', 'bet_500_1000', 'aggregate_9', 'max_seasonal_daily']. Accuracy: 40.5546644098\n",
      "include: disag_fridge -> feature_subset: ['aggregate_10', 'total_occupants', 'bet_500_1000', 'aggregate_9', 'max_seasonal_daily', 'disag_fridge']. Accuracy: 40.5343066768\n",
      "include: aggregate_5 -> feature_subset: ['aggregate_10', 'total_occupants', 'bet_500_1000', 'aggregate_9', 'max_seasonal_daily', 'disag_fridge', 'aggregate_5']. Accuracy: 41.5750026262\n",
      "include: temperature_corr -> feature_subset: ['temperature_corr']. Accuracy: 41.1292977378\n",
      "include: fft_2 -> feature_subset: ['temperature_corr', 'fft_2']. Accuracy: 41.7056342367\n",
      "include: aggregate_6 -> feature_subset: ['temperature_corr', 'fft_2', 'aggregate_6']. Accuracy: 44.4094713125\n",
      "include: total_occupants -> feature_subset: ['temperature_corr', 'fft_2', 'aggregate_6', 'total_occupants']. Accuracy: 45.0947810764\n",
      "include: aggregate_5 -> feature_subset: ['temperature_corr', 'fft_2', 'aggregate_6', 'total_occupants', 'aggregate_5']. Accuracy: 45.0772552444\n",
      "include: bet_500_1000 -> feature_subset: ['temperature_corr', 'fft_2', 'aggregate_6', 'total_occupants', 'aggregate_5', 'bet_500_1000']. Accuracy: 45.2988668851\n",
      "include: aggregate_2 -> feature_subset: ['temperature_corr', 'fft_2', 'aggregate_6', 'total_occupants', 'aggregate_5', 'bet_500_1000', 'aggregate_2']. Accuracy: 45.2195728378\n",
      "include: aggregate_10 -> feature_subset: ['aggregate_10']. Accuracy: 41.7922439686\n",
      "include: fft_5 -> feature_subset: ['aggregate_10', 'fft_5']. Accuracy: 43.0028855407\n",
      "include: aggregate_9 -> feature_subset: ['aggregate_10', 'fft_5', 'aggregate_9']. Accuracy: 42.0418659899\n",
      "include: fft_2 -> feature_subset: ['aggregate_10', 'fft_5', 'aggregate_9', 'fft_2']. Accuracy: 42.6643482941\n",
      "include: max_seasonal_daily -> feature_subset: ['aggregate_10', 'fft_5', 'aggregate_9', 'fft_2', 'max_seasonal_daily']. Accuracy: 44.0509510902\n",
      "include: bet_500_1000 -> feature_subset: ['aggregate_10', 'fft_5', 'aggregate_9', 'fft_2', 'max_seasonal_daily', 'bet_500_1000']. Accuracy: 43.5925584116\n",
      "include: max_trend_12 -> feature_subset: ['aggregate_10', 'fft_5', 'aggregate_9', 'fft_2', 'max_seasonal_daily', 'bet_500_1000', 'max_trend_12']. Accuracy: 42.6874275743\n",
      "include: aggregate_10 -> feature_subset: ['aggregate_10']. Accuracy: 43.5021527866\n",
      "include: total_occupants -> feature_subset: ['aggregate_10', 'total_occupants']. Accuracy: 43.1774280398\n",
      "include: aggregate_6 -> feature_subset: ['aggregate_10', 'total_occupants', 'aggregate_6']. Accuracy: 42.4715411443\n",
      "include: aggregate_9 -> feature_subset: ['aggregate_10', 'total_occupants', 'aggregate_6', 'aggregate_9']. Accuracy: 44.310816817\n",
      "include: fft_2 -> feature_subset: ['aggregate_10', 'total_occupants', 'aggregate_6', 'aggregate_9', 'fft_2']. Accuracy: 44.290885347\n",
      "include: lt_500 -> feature_subset: ['aggregate_10', 'total_occupants', 'aggregate_6', 'aggregate_9', 'fft_2', 'lt_500']. Accuracy: 44.2658204735\n",
      "include: gt_1000 -> feature_subset: ['aggregate_10', 'total_occupants', 'aggregate_6', 'aggregate_9', 'fft_2', 'lt_500', 'gt_1000']. Accuracy: 43.8238056419\n",
      "include: aggregate_10 -> feature_subset: ['aggregate_10']. Accuracy: 43.219854932\n",
      "include: total_occupants -> feature_subset: ['aggregate_10', 'total_occupants']. Accuracy: 42.1382434105\n",
      "include: lt_500 -> feature_subset: ['aggregate_10', 'total_occupants', 'lt_500']. Accuracy: 41.6209500191\n",
      "include: aggregate_8 -> feature_subset: ['aggregate_10', 'total_occupants', 'lt_500', 'aggregate_8']. Accuracy: 41.0821735137\n",
      "include: difference_min_max -> feature_subset: ['aggregate_10', 'total_occupants', 'lt_500', 'aggregate_8', 'difference_min_max']. Accuracy: 42.2823252335\n",
      "include: aggregate_6 -> feature_subset: ['aggregate_10', 'total_occupants', 'lt_500', 'aggregate_8', 'difference_min_max', 'aggregate_6']. Accuracy: 42.2333509449\n",
      "include: aggregate_9 -> feature_subset: ['aggregate_10', 'total_occupants', 'lt_500', 'aggregate_8', 'difference_min_max', 'aggregate_6', 'aggregate_9']. Accuracy: 42.493538758\n",
      "include: aggregate_10 -> feature_subset: ['aggregate_10']. Accuracy: 41.9398532193\n",
      "include: aggregate_6 -> feature_subset: ['aggregate_10', 'aggregate_6']. Accuracy: 40.9134635239\n",
      "include: cluster_small -> feature_subset: ['aggregate_10', 'aggregate_6', 'cluster_small']. Accuracy: 41.9155926154\n",
      "include: aggregate_8 -> feature_subset: ['aggregate_10', 'aggregate_6', 'cluster_small', 'aggregate_8']. Accuracy: 42.0758447915\n",
      "include: gt_1000 -> feature_subset: ['aggregate_10', 'aggregate_6', 'cluster_small', 'aggregate_8', 'gt_1000']. Accuracy: 42.1192772854\n",
      "include: bet_500_1000 -> feature_subset: ['aggregate_10', 'aggregate_6', 'cluster_small', 'aggregate_8', 'gt_1000', 'bet_500_1000']. Accuracy: 41.6109861424\n",
      "include: difference_min_max -> feature_subset: ['aggregate_10', 'aggregate_6', 'cluster_small', 'aggregate_8', 'gt_1000', 'bet_500_1000', 'difference_min_max']. Accuracy: 41.5240064447\n",
      "2 ['temperature_corr', 'fft_2', 'aggregate_6', 'total_occupants', 'aggregate_5', 'bet_500_1000'] 45.2988668851\n",
      "--------------------------------------------------------------------------------\n"
     ]
    }
   ],
   "source": [
    "out_mean, optimal_dict_mean = find_optimal_features(df, dfc, all_homes, appliance_min, national_average, \n",
    "                                                        [\"hvac\",\"light\",\"fridge\",\"dr\",\"wm\",\"dw\"],\n",
    "                                                    {\"All\":feature_map[\"Monthly+Static\"]},\n",
    "                          NUM_NEIGHBOURS_MAX=7, F_length_max=7, metric=\"mean\",\n",
    "                          train_outlier=True, test_outlier=False, outlier_features=None, outlier_fraction=0.1,\n",
    "                     print_steps=True)"
   ]
  },
  {
   "cell_type": "code",
   "execution_count": 34,
   "metadata": {
    "collapsed": false
   },
   "outputs": [],
   "source": [
    "import json\n",
    "json.dump(optimal_dict_mean, open(\"without-test-optimal_dict.json\",\"w\"))\n",
    "json.dump(out_mean, open(\"without-test-out.json\",\"w\"))\n"
   ]
  },
  {
   "cell_type": "markdown",
   "metadata": {},
   "source": [
    "### Storing the predictions in pd.Panel"
   ]
  },
  {
   "cell_type": "code",
   "execution_count": 35,
   "metadata": {
    "collapsed": false
   },
   "outputs": [
    {
     "name": "stdout",
     "output_type": "stream",
     "text": [
      "fridge\n",
      "hvac\n",
      "dw\n",
      "dr\n",
      "wm\n",
      "light\n"
     ]
    }
   ],
   "source": [
    "predictions = {}\n",
    "for appliance in [\"fridge\",\"hvac\",\"dw\",\"dr\",\"wm\",\"light\"]:\n",
    "    print appliance\n",
    "    best_feature = optimal_dict_mean[appliance][\"All\"]['f']\n",
    "    best_k = optimal_dict_mean[appliance][\"All\"]['k']\n",
    "    temp= create_predictions(df, dfc, all_homes, appliance_min, \n",
    "                                              national_average, appliance=appliance,\n",
    "                                                feature=best_feature, NUM_NEIGHBOURS=best_k,\n",
    "                                                   train_outlier=True, test_outlier=False, \n",
    "                                                outlier_features=None,\n",
    "                                                outlier_fraction=0.1)\n",
    "    errors = {}\n",
    "    if appliance ==\"hvac\":\n",
    "        start_month, end_month = 5, 11\n",
    "    else:\n",
    "        start_month, end_month = 1, 13\n",
    "    for i in range(start_month, end_month):\n",
    "        errors[i] = percentage_error(temp[i][\"gt\"], temp[i][\"pred\"])\n",
    "        error_df = pd.DataFrame(errors)\n",
    "        accur_df = 100-error_df\n",
    "        accur_df[accur_df<0]=0\n",
    "\n",
    "    tdf = accur_df\n",
    "    if appliance ==\"hvac\":\n",
    "        for home in [624, 1953, 6636, 6836, 7769, 9922]:\n",
    "            tdf.loc[home, 5]=np.NaN\n",
    "            tdf.loc[home, 10]=np.NaN\n",
    "            \n",
    "    predictions[appliance]=tdf.T"
   ]
  },
  {
   "cell_type": "code",
   "execution_count": 36,
   "metadata": {
    "collapsed": false
   },
   "outputs": [],
   "source": [
    "p = pd.Panel(predictions)"
   ]
  },
  {
   "cell_type": "code",
   "execution_count": 42,
   "metadata": {
    "collapsed": false
   },
   "outputs": [
    {
     "data": {
      "text/plain": [
       "79.247215196566259"
      ]
     },
     "execution_count": 42,
     "metadata": {},
     "output_type": "execute_result"
    }
   ],
   "source": [
    "predictions[\"hvac\"].mean().mean()"
   ]
  },
  {
   "cell_type": "code",
   "execution_count": 37,
   "metadata": {
    "collapsed": false
   },
   "outputs": [],
   "source": [
    "accuracy_store = pd.HDFStore(\"accuracy.h5\")"
   ]
  },
  {
   "cell_type": "code",
   "execution_count": 38,
   "metadata": {
    "collapsed": false
   },
   "outputs": [],
   "source": [
    "accuracy_store.append(\"N-NILM\", p)"
   ]
  },
  {
   "cell_type": "code",
   "execution_count": 39,
   "metadata": {
    "collapsed": true
   },
   "outputs": [],
   "source": [
    "accuracy_store.close()"
   ]
  },
  {
   "cell_type": "code",
   "execution_count": 23,
   "metadata": {
    "collapsed": true
   },
   "outputs": [],
   "source": [
    "appliance=\"fridge\"\n",
    "best_feature = optimal_dict_mean[appliance][\"All\"]['f']\n",
    "best_k = optimal_dict_mean[appliance][\"All\"]['k']\n",
    "temp= create_predictions(df, dfc, all_homes, appliance_min, \n",
    "                                          national_average, appliance=appliance,\n",
    "                                            feature=best_feature, NUM_NEIGHBOURS=best_k,\n",
    "                                               train_outlier=True, test_outlier=False, \n",
    "                                            outlier_features=None,\n",
    "                                            outlier_fraction=0.1)\n",
    "errors = {}\n",
    "if appliance ==\"hvac\":\n",
    "    start_month, end_month = 5, 11\n",
    "else:\n",
    "    start_month, end_month = 1, 13\n",
    "for i in range(start_month, end_month):\n",
    "    errors[i] = percentage_error(temp[i][\"gt\"], temp[i][\"pred\"])\n",
    "    error_df = pd.DataFrame(errors)\n",
    "    accur_df = 100-error_df\n",
    "    accur_df[accur_df<0]=0\n",
    "\n",
    "tdf = accur_df\n",
    "if appliance ==\"hvac\":\n",
    "    for home in [624, 1953, 6636, 6836, 7769, 9922]:\n",
    "        tdf.loc[home, 5]=np.NaN\n",
    "        tdf.loc[home, 10]=np.NaN\n",
    "\n"
   ]
  },
  {
   "cell_type": "code",
   "execution_count": 27,
   "metadata": {
    "collapsed": false
   },
   "outputs": [
    {
     "data": {
      "text/plain": [
       "0"
      ]
     },
     "execution_count": 27,
     "metadata": {},
     "output_type": "execute_result"
    }
   ],
   "source": [
    "tdf.isnull().sum().sum()"
   ]
  },
  {
   "cell_type": "code",
   "execution_count": null,
   "metadata": {
    "collapsed": true
   },
   "outputs": [],
   "source": []
  }
 ],
 "metadata": {
  "kernelspec": {
   "display_name": "Python 2",
   "language": "python",
   "name": "python2"
  },
  "language_info": {
   "codemirror_mode": {
    "name": "ipython",
    "version": 2
   },
   "file_extension": ".py",
   "mimetype": "text/x-python",
   "name": "python",
   "nbconvert_exporter": "python",
   "pygments_lexer": "ipython2",
   "version": "2.7.11"
  }
 },
 "nbformat": 4,
 "nbformat_minor": 0
}
