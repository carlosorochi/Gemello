{
 "cells": [
  {
   "cell_type": "markdown",
   "metadata": {},
   "source": [
    "### Load data set with features"
   ]
  },
  {
   "cell_type": "code",
   "execution_count": 35,
   "metadata": {
    "collapsed": false
   },
   "outputs": [],
   "source": [
    "from create_df import read_df\n",
    "df, dfc, all_homes, appliance_min, national_average = read_df()"
   ]
  },
  {
   "cell_type": "code",
   "execution_count": 36,
   "metadata": {
    "collapsed": false
   },
   "outputs": [],
   "source": [
    "import numpy as np\n",
    "import pandas as pd\n",
    "import matplotlib.pyplot as plt\n",
    "%matplotlib inline\n"
   ]
  },
  {
   "cell_type": "code",
   "execution_count": 42,
   "metadata": {
    "collapsed": false
   },
   "outputs": [],
   "source": [
    "run all_functions.py"
   ]
  },
  {
   "cell_type": "code",
   "execution_count": 43,
   "metadata": {
    "collapsed": false
   },
   "outputs": [],
   "source": [
    "run features.py"
   ]
  },
  {
   "cell_type": "code",
   "execution_count": 44,
   "metadata": {
    "collapsed": true
   },
   "outputs": [],
   "source": [
    "import json"
   ]
  },
  {
   "cell_type": "code",
   "execution_count": 96,
   "metadata": {
    "collapsed": true
   },
   "outputs": [],
   "source": [
    "from sklearn.cross_validation import KFold\n"
   ]
  },
  {
   "cell_type": "code",
   "execution_count": 106,
   "metadata": {
    "collapsed": false
   },
   "outputs": [
    {
     "name": "stdout",
     "output_type": "stream",
     "text": [
      "375\n",
      "414\n",
      "412\n",
      "383\n"
     ]
    }
   ],
   "source": [
    "num_homes=10\n",
    "total_homes = len(df.ix[all_homes['hvac']])\n",
    "folds = np.ceil(total_homes*1./num_homes)\n",
    "                  \n",
    "kf = KFold(len(df.ix[all_homes['hvac']]), n_folds=folds, shuffle=True, random_state=2)\n",
    "for train, test in kf:\n",
    "    print sum(train)"
   ]
  },
  {
   "cell_type": "code",
   "execution_count": 116,
   "metadata": {
    "collapsed": false
   },
   "outputs": [
    {
     "name": "stdout",
     "output_type": "stream",
     "text": [
      "NUM HOME 10\n",
      "%%%%%%%%%%%%%%%%%%%%%%%%%%%%%%%%%%%%%%%%\n",
      "hvac\n",
      "%%%%%%%%%%%%%%%%%%%%%%%%%%%%%%%%%%%%%%%%\n",
      "********************\n",
      "All\n",
      "********************\n",
      "1 ['disag_fridge'] 74.6369603935\n",
      "--------------------------------------------------------------------------------\n",
      "hvac 10 0 5\n",
      "hvac 10 0 6\n",
      "hvac 10 0 7\n",
      "hvac 10 0 8\n",
      "hvac 10 0 9\n",
      "hvac 10 0 10\n",
      "%%%%%%%%%%%%%%%%%%%%%%%%%%%%%%%%%%%%%%%%\n",
      "hvac\n",
      "%%%%%%%%%%%%%%%%%%%%%%%%%%%%%%%%%%%%%%%%\n",
      "********************\n",
      "All\n",
      "********************\n",
      "1 ['aggregate_9'] 78.1263282361\n",
      "--------------------------------------------------------------------------------\n",
      "hvac 10 0 5\n"
     ]
    },
    {
     "ename": "TypeError",
     "evalue": "'numpy.float64' object does not support item assignment",
     "output_type": "error",
     "traceback": [
      "\u001b[0;31m---------------------------------------------------------------------------\u001b[0m",
      "\u001b[0;31mTypeError\u001b[0m                                 Traceback (most recent call last)",
      "\u001b[0;32m<ipython-input-116-38c618c6f595>\u001b[0m in \u001b[0;36m<module>\u001b[0;34m()\u001b[0m\n\u001b[1;32m     48\u001b[0m                     \u001b[0maccur\u001b[0m \u001b[0;34m=\u001b[0m \u001b[0;36m100\u001b[0m\u001b[0;34m-\u001b[0m\u001b[0;34m(\u001b[0m\u001b[0mpred\u001b[0m\u001b[0;34m-\u001b[0m\u001b[0mgt\u001b[0m\u001b[0;34m)\u001b[0m\u001b[0;34m.\u001b[0m\u001b[0mabs\u001b[0m\u001b[0;34m(\u001b[0m\u001b[0;34m)\u001b[0m\u001b[0;34m.\u001b[0m\u001b[0mdiv\u001b[0m\u001b[0;34m(\u001b[0m\u001b[0mgt\u001b[0m\u001b[0;34m)\u001b[0m\u001b[0;34m.\u001b[0m\u001b[0mmul\u001b[0m\u001b[0;34m(\u001b[0m\u001b[0;36m100\u001b[0m\u001b[0;34m)\u001b[0m\u001b[0;34m\u001b[0m\u001b[0m\n\u001b[1;32m     49\u001b[0m                     \u001b[0maccur\u001b[0m\u001b[0;34m[\u001b[0m\u001b[0maccur\u001b[0m\u001b[0;34m<\u001b[0m\u001b[0;36m0\u001b[0m\u001b[0;34m]\u001b[0m\u001b[0;34m=\u001b[0m\u001b[0;36m0\u001b[0m\u001b[0;34m\u001b[0m\u001b[0m\n\u001b[0;32m---> 50\u001b[0;31m                     \u001b[0mo\u001b[0m\u001b[0;34m[\u001b[0m\u001b[0mappliance\u001b[0m\u001b[0;34m]\u001b[0m\u001b[0;34m[\u001b[0m\u001b[0mnum_homes\u001b[0m\u001b[0;34m]\u001b[0m\u001b[0;34m[\u001b[0m\u001b[0mrandom_seed\u001b[0m\u001b[0;34m]\u001b[0m\u001b[0;34m[\u001b[0m\u001b[0mmonth\u001b[0m\u001b[0;34m]\u001b[0m\u001b[0;34m=\u001b[0m\u001b[0maccur\u001b[0m\u001b[0;34m.\u001b[0m\u001b[0mmean\u001b[0m\u001b[0;34m(\u001b[0m\u001b[0;34m)\u001b[0m\u001b[0;34m.\u001b[0m\u001b[0mmean\u001b[0m\u001b[0;34m(\u001b[0m\u001b[0;34m)\u001b[0m\u001b[0;34m\u001b[0m\u001b[0m\n\u001b[0m\u001b[1;32m     51\u001b[0m                 \u001b[0mo\u001b[0m\u001b[0;34m[\u001b[0m\u001b[0mappliance\u001b[0m\u001b[0;34m]\u001b[0m\u001b[0;34m[\u001b[0m\u001b[0mnum_homes\u001b[0m\u001b[0;34m]\u001b[0m\u001b[0;34m[\u001b[0m\u001b[0mrandom_seed\u001b[0m\u001b[0;34m]\u001b[0m \u001b[0;34m=\u001b[0m \u001b[0mpd\u001b[0m\u001b[0;34m.\u001b[0m\u001b[0mSeries\u001b[0m\u001b[0;34m(\u001b[0m\u001b[0mo\u001b[0m\u001b[0;34m[\u001b[0m\u001b[0mappliance\u001b[0m\u001b[0;34m]\u001b[0m\u001b[0;34m[\u001b[0m\u001b[0mnum_homes\u001b[0m\u001b[0;34m]\u001b[0m\u001b[0;34m[\u001b[0m\u001b[0mrandom_seed\u001b[0m\u001b[0;34m]\u001b[0m\u001b[0;34m[\u001b[0m\u001b[0mmonth\u001b[0m\u001b[0;34m]\u001b[0m\u001b[0;34m)\u001b[0m\u001b[0;34m.\u001b[0m\u001b[0mmean\u001b[0m\u001b[0;34m(\u001b[0m\u001b[0;34m)\u001b[0m\u001b[0;34m\u001b[0m\u001b[0m\n\u001b[1;32m     52\u001b[0m \u001b[0;34m\u001b[0m\u001b[0m\n",
      "\u001b[0;31mTypeError\u001b[0m: 'numpy.float64' object does not support item assignment"
     ]
    }
   ],
   "source": [
    "import sys\n",
    "\n",
    "from sklearn.neighbors import KNeighborsRegressor\n",
    "from sklearn.cross_validation import KFold\n",
    "\n",
    "o = {}\n",
    "for appliance in [\"hvac\"]:\n",
    "    o[appliance] = {}\n",
    "    appliance_df = df.ix[all_homes[appliance]]\n",
    "    if appliance==\"hvac\":\n",
    "        start, stop=5, 11\n",
    "    else:\n",
    "        start, stop=1, 13\n",
    "    for num_homes in [10]:\n",
    "        print \"NUM HOME\", num_homes\n",
    "        o[appliance][num_homes] = {}\n",
    "        \n",
    "        total_homes = len(appliance_df)\n",
    "        folds = np.ceil(total_homes*1./num_homes)\n",
    "        \n",
    "        for random_seed in range(1):\n",
    "            o[appliance][num_homes][random_seed] = {}\n",
    "            kf = KFold(total_homes, n_folds=folds, shuffle=True, random_state=random_seed)\n",
    "        \n",
    "            for train, test in kf:\n",
    "                train_homes = appliance_df.index.values[train]\n",
    "                test_homes = appliance_df.index.values[train]\n",
    "                all_home_appliance = deepcopy(all_homes)\n",
    "                all_home_appliance[appliance] = train_homes\n",
    "                _, optimal_dict = find_optimal_features(df.ix[train_homes], dfc.ix[train_homes],\n",
    "                                                            all_home_appliance, appliance_min, \n",
    "                                                            national_average, [appliance], \n",
    "                                                             {\"All\":feature_map[\"Monthly\"]},\n",
    "                                                              NUM_NEIGHBOURS_MAX=2, F_length_max=1, metric=\"mean\",\n",
    "                                                              train_outlier=True, test_outlier=False, outlier_features=None, outlier_fraction=0.1,\n",
    "                                                              print_steps=False)\n",
    "                f = optimal_dict[appliance]['All']['f']\n",
    "                k = optimal_dict[appliance]['All']['k']\n",
    "                for month in range(start, stop):   \n",
    "                \n",
    "                    print appliance, num_homes, random_seed, month\n",
    "                    sys.stdout.flush()\n",
    "\n",
    "                    clf = KNeighborsRegressor(n_neighbors=k)\n",
    "                    clf.fit(df.ix[train_homes][f], df.ix[train_homes]['%s_%d' %(appliance, month)])\n",
    "                    pred = pd.Series(clf.predict(df.ix[test_homes][f]), index=test_homes)\n",
    "                    gt = df.ix[test_homes]['%s_%d' %(appliance, month)]\n",
    "                    accur = 100-(pred-gt).abs().div(gt).mul(100)\n",
    "                    accur[accur<0]=0\n",
    "                    o[appliance][num_homes][random_seed][month]=accur.mean().mean()\n",
    "                o[appliance][num_homes][random_seed] = pd.Series(o[appliance][num_homes][random_seed][month]).mean()\n",
    "                \n",
    "            "
   ]
  },
  {
   "cell_type": "code",
   "execution_count": null,
   "metadata": {
    "collapsed": false
   },
   "outputs": [
    {
     "name": "stdout",
     "output_type": "stream",
     "text": [
      "%%%%%%%%%%%%%%%%%%%%%%%%%%%%%%%%%%%%%%%%\n",
      "hvac\n",
      "%%%%%%%%%%%%%%%%%%%%%%%%%%%%%%%%%%%%%%%%\n",
      "********************\n",
      "All\n",
      "********************\n",
      "2 ['aggregate_8', 'aggregate_5', 'aggregate_11'] 80.0891783422\n",
      "--------------------------------------------------------------------------------\n",
      "hvac 10 0 5\n",
      "hvac 10 0 6\n",
      "hvac 10 0 7\n",
      "hvac 10 0 8\n",
      "hvac 10 0 9\n",
      "hvac 10 0 10\n"
     ]
    }
   ],
   "source": [
    "import sys\n",
    "\n",
    "from sklearn.neighbors import KNeighborsRegressor\n",
    "o = {}\n",
    "for appliance in [\"hvac\",\"fridge\",\"light\",\"dw\",\"dr\",\"wm\"]:\n",
    "    o[appliance] = {}\n",
    "    if appliance==\"hvac\":\n",
    "        start, stop=5, 11\n",
    "    else:\n",
    "        start, stop=1, 13\n",
    "    for num_homes in [10]:\n",
    "        o[appliance][num_homes] = {}\n",
    "        for random_seed in range(10):\n",
    "            o[appliance][num_homes][random_seed] = {}\n",
    "            a,optimal_dict,train_homes = find_optimal_features_subset(df, dfc, all_homes, appliance_min, \n",
    "                                                                          national_average, [appliance], \n",
    "                                 {\"All\":feature_map[\"Monthly\"]},\n",
    "                              NUM_NEIGHBOURS_MAX=7, F_length_max=6, metric=\"mean\",\n",
    "                              train_outlier=True, test_outlier=False, outlier_features=None, outlier_fraction=0.1,\n",
    "                              print_steps=False,random_seed=random_seed, num_homes=num_homes)\n",
    "            f = optimal_dict[appliance]['All']['f']\n",
    "            k = optimal_dict[appliance]['All']['k']\n",
    "            for month in range(start, stop):   \n",
    "                \n",
    "                print appliance, num_homes, random_seed, month\n",
    "                sys.stdout.flush()\n",
    "                \n",
    "                clf = KNeighborsRegressor(n_neighbors=k)\n",
    "                clf.fit(df.ix[train_homes][f], df.ix[train_homes]['%s_%d' %(appliance, month)])\n",
    "                test_homes = np.setdiff1d(all_homes[appliance], train_homes)\n",
    "                pred = pd.Series(clf.predict(df.ix[test_homes][f]), index=test_homes)\n",
    "                gt = df.ix[test_homes]['%s_%d' %(appliance, month)]\n",
    "                accur = 100-(pred-gt).abs().div(gt).mul(100)\n",
    "                accur[accur<0]=0\n",
    "                o[appliance][num_homes][random_seed][month]=accur.mean().mean()\n",
    "            o[appliance][num_homes][random_seed] = pd.Series(o[appliance][num_homes][random_seed][month]).mean()\n",
    "        o[appliance][num_homes] = o[appliance][num_homes].values()\n",
    "                \n",
    "            "
   ]
  },
  {
   "cell_type": "code",
   "execution_count": 161,
   "metadata": {
    "collapsed": false
   },
   "outputs": [
    {
     "data": {
      "text/plain": [
       "<matplotlib.axes._subplots.AxesSubplot at 0x14b2f25d0>"
      ]
     },
     "execution_count": 161,
     "metadata": {},
     "output_type": "execute_result"
    },
    {
     "data": {
      "image/png": "[encoded data removed]",
      "text/plain": [
       "<matplotlib.figure.Figure at 0x14b402610>"
      ]
     },
     "metadata": {},
     "output_type": "display_data"
    }
   ],
   "source": [
    "pd.Series(o[appliance][10]).plot(kind=\"box\",label=\"HVAC\")"
   ]
  },
  {
   "cell_type": "code",
   "execution_count": 127,
   "metadata": {
    "collapsed": false
   },
   "outputs": [
    {
     "data": {
      "text/plain": [
       "{10: {0: 64.048430850862133},\n",
       " 15: {0: 59.832796095091076},\n",
       " 20: {0: 64.752953520276307}}"
      ]
     },
     "execution_count": 127,
     "metadata": {},
     "output_type": "execute_result"
    }
   ],
   "source": [
    "o[appliance]"
   ]
  },
  {
   "cell_type": "code",
   "execution_count": 120,
   "metadata": {
    "collapsed": false
   },
   "outputs": [
    {
     "data": {
      "text/plain": [
       "{10: {0: 64.650257340519772},\n",
       " 15: {0: 59.832796095091076},\n",
       " 20: {0: 70.596354522818601}}"
      ]
     },
     "execution_count": 120,
     "metadata": {},
     "output_type": "execute_result"
    }
   ],
   "source": [
    "o[appliance]"
   ]
  },
  {
   "cell_type": "code",
   "execution_count": 118,
   "metadata": {
    "collapsed": false
   },
   "outputs": [
    {
     "data": {
      "text/plain": [
       "{10: {0: 56.181039909549369},\n",
       " 11: {0: 53.839262737242692},\n",
       " 15: {0: 57.109780976630304},\n",
       " 20: {0: 51.969433707156547}}"
      ]
     },
     "execution_count": 118,
     "metadata": {},
     "output_type": "execute_result"
    }
   ],
   "source": [
    "o[appliance]"
   ]
  },
  {
   "cell_type": "code",
   "execution_count": 125,
   "metadata": {
    "collapsed": false
   },
   "outputs": [
    {
     "data": {
      "text/plain": [
       "15"
      ]
     },
     "execution_count": 125,
     "metadata": {},
     "output_type": "execute_result"
    }
   ],
   "source": [
    "len(feature_map[\"Monthly\"])"
   ]
  },
  {
   "cell_type": "code",
   "execution_count": 55,
   "metadata": {
    "collapsed": true
   },
   "outputs": [],
   "source": [
    "output = {}\n",
    "for appliance_name, appliance_results in out_appliance.iteritems():\n",
    "    output[appliance_name] = pd.Series(appliance_results[0])\n",
    "    tot = len(appliance_results)\n",
    "    for i in range(1, tot):\n",
    "        output[appliance_name] = output[appliance_name] + pd.Series(appliance_results[i])\n",
    "\n",
    "output_df = pd.DataFrame(output)\n",
    "output_df = output_df.div(tot)"
   ]
  },
  {
   "cell_type": "code",
   "execution_count": 2,
   "metadata": {
    "collapsed": false
   },
   "outputs": [],
   "source": [
    "#output_df.to_csv(\"sensitivity_num_homes.csv\")\n",
    "output_df = pd.read_csv(\"sensitivity_num_homes.csv\", index_col=0)"
   ]
  },
  {
   "cell_type": "code",
   "execution_count": 3,
   "metadata": {
    "collapsed": true
   },
   "outputs": [],
   "source": [
    "%matplotlib inline\n",
    "import matplotlib.pyplot as plt"
   ]
  },
  {
   "cell_type": "code",
   "execution_count": 4,
   "metadata": {
    "collapsed": true
   },
   "outputs": [],
   "source": [
    "from common_functions import latexify, format_axes"
   ]
  },
  {
   "cell_type": "code",
   "execution_count": 5,
   "metadata": {
    "collapsed": false
   },
   "outputs": [
    {
     "name": "stderr",
     "output_type": "stream",
     "text": [
      "/Users/nipunbatra/anaconda/lib/python2.7/site-packages/matplotlib/__init__.py:872: UserWarning: axes.color_cycle is deprecated and replaced with axes.prop_cycle; please use the latter.\n",
      "  warnings.warn(self.msg_depr % (key, alt_key))\n",
      "/Users/nipunbatra/anaconda/lib/python2.7/site-packages/matplotlib/__init__.py:872: UserWarning: text.fontsize is deprecated and replaced with font.size; please use the latter.\n",
      "  warnings.warn(self.msg_depr % (key, alt_key))\n"
     ]
    }
   ],
   "source": [
    "latexify()"
   ]
  },
  {
   "cell_type": "code",
   "execution_count": 33,
   "metadata": {
    "collapsed": false
   },
   "outputs": [],
   "source": [
    "tableau20blind =  [(31, 119, 180), (174, 199, 232), (255, 127, 14), (255, 187, 120),  \n",
    "             (44, 160, 44), (152, 223, 138), (214, 39, 40), (255, 152, 150),  \n",
    "             (148, 103, 189), (197, 176, 213), (140, 86, 75), (196, 156, 148),  \n",
    "             (227, 119, 194), (247, 182, 210), (127, 127, 127), (199, 199, 199),  \n",
    "             (188, 189, 34), (219, 219, 141), (23, 190, 207), (158, 218, 229)]\n",
    "  \n",
    "# Rescale to values between 0 and 1\n",
    "for i in range(len(tableau20blind)):  \n",
    "    r, g, b = tableau20blind[i]  \n",
    "    tableau20blind[i] = (r / 255., g / 255., b / 255.)\n",
    "    \n",
    "markers = ['o','^','*','v','.','d']"
   ]
  },
  {
   "cell_type": "code",
   "execution_count": 35,
   "metadata": {
    "collapsed": false
   },
   "outputs": [
    {
     "data": {
      "image/png": "[encoded data removed]",
      "text/plain": [
       "<matplotlib.figure.Figure at 0x115098710>"
      ]
     },
     "metadata": {},
     "output_type": "display_data"
    }
   ],
   "source": [
    "appliance_name_mapping = {\"dr\": \"Dryer\", \"wm\": \"Washing machine\",\n",
    "                          \"fridge\":\"Fridge\",\"light\":\"Lighting\",\n",
    "                          \"hvac\":\"HVAC\",\"dw\":\"Dish washer\"}\n",
    "\n",
    "normalised_output = {}\n",
    "fig, ax = plt.subplots(1,1)\n",
    "for i, appliance_name in enumerate(output_df.columns):\n",
    "    temp = output_df[appliance_name].dropna()\n",
    "    temp.index= np.linspace(0, 1, len(output_df[appliance_name].dropna()))\n",
    "    normalised_output[appliance_name] = temp\n",
    "    pd.Series(normalised_output[appliance_name]).plot(ax=ax, label=appliance_name_mapping[appliance_name], \n",
    "                                                      color=tableau20blind[i*2])\n",
    "plt.xlim((0.1,1.))\n",
    "plt.ylim((0, 100))\n",
    "plt.legend(loc='center left', bbox_to_anchor=(0, 1.1), ncol=2)\n",
    "plt.xlabel(\"Proportion of homes in traning set\")\n",
    "plt.ylabel(\"Accuracy\")\n",
    "format_axes(plt.gca())\n",
    "plt.tight_layout()\n",
    "plt.savefig(\"/Users/nipunbatra/git/monthly-disaggregation/results/sensitivity_num_homes.png\",bbox_inches=\"tight\")\n",
    "plt.savefig(\"/Users/nipunbatra/git/monthly-disaggregation/results/sensitivity_num_homes.pdf\",bbox_inches=\"tight\")"
   ]
  },
  {
   "cell_type": "code",
   "execution_count": 50,
   "metadata": {
    "collapsed": true
   },
   "outputs": [],
   "source": [
    "normalised_output_df = pd.DataFrame(normalised_output)"
   ]
  },
  {
   "cell_type": "code",
   "execution_count": null,
   "metadata": {
    "collapsed": true
   },
   "outputs": [],
   "source": []
  }
 ],
 "metadata": {
  "kernelspec": {
   "display_name": "Python 2",
   "language": "python",
   "name": "python2"
  },
  "language_info": {
   "codemirror_mode": {
    "name": "ipython",
    "version": 2
   },
   "file_extension": ".py",
   "mimetype": "text/x-python",
   "name": "python",
   "nbconvert_exporter": "python",
   "pygments_lexer": "ipython2",
   "version": "2.7.11"
  }
 },
 "nbformat": 4,
 "nbformat_minor": 0
}
