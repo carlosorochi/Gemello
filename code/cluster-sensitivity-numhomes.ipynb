{
 "cells": [
  {
   "cell_type": "code",
   "execution_count": 1,
   "metadata": {},
   "outputs": [
    {
     "name": "stderr",
     "output_type": "stream",
     "text": [
      "Vendor:  Continuum Analytics, Inc.\n",
      "Package: mkl\n",
      "Message: trial mode expires in 30 days\n"
     ]
    }
   ],
   "source": [
    "import pandas as pd"
   ]
  },
  {
   "cell_type": "code",
   "execution_count": 2,
   "metadata": {},
   "outputs": [],
   "source": [
    "appliances = [\"hvac\",\"dr\"]\n",
    "out = {}\n",
    "count=0\n",
    "for appliance in appliances:\n",
    "    out[appliance]={}\n",
    "    for feature in [\"Monthly\",\"Static\", \"Monthly+Static\"]:\n",
    "        out[appliance][feature]={}\n",
    "        for num_homes in range(7, 28, 3):\n",
    "            out[appliance][feature][num_homes] = {}\n",
    "            t = []\n",
    "            for start_seed in range(0, 100, 1):\n",
    "                stop_seed = start_seed+1\n",
    "                try:\n",
    "                    t.append(pd.read_csv(\"../sensitivity-data/%s_%d_%d_%d_%s.csv\" %(appliance, \n",
    "                                                                               num_homes, \n",
    "                                                                               start_seed, \n",
    "                                                                              stop_seed,\n",
    "                                                                              feature), index_col=0))\n",
    "                except:\n",
    "                    count=count+1\n",
    "            out[appliance][feature][num_homes] = pd.concat(t)"
   ]
  },
  {
   "cell_type": "code",
   "execution_count": 3,
   "metadata": {},
   "outputs": [],
   "source": [
    "import matplotlib.pyplot as plt"
   ]
  },
  {
   "cell_type": "code",
   "execution_count": 4,
   "metadata": {},
   "outputs": [],
   "source": [
    "%matplotlib inline"
   ]
  },
  {
   "cell_type": "code",
   "execution_count": 5,
   "metadata": {},
   "outputs": [],
   "source": [
    "means = {}\n",
    "sems = {}\n",
    "for appliance in [\"hvac\",\"dr\"]:\n",
    "    means[appliance] = {}\n",
    "    sems[appliance] = {}\n",
    "    for feature in [\"Monthly\",\"Static\", \"Monthly+Static\"]:\n",
    "        means[appliance][feature] ={}\n",
    "        sems[appliance][feature] ={}\n",
    "        for num_homes in range(7, 28, 3):\n",
    "            means[appliance][feature][num_homes] = out[appliance][feature][num_homes].mean(axis=1).mean()\n",
    "            sems[appliance][feature][num_homes] = out[appliance][feature][num_homes].mean(axis=1).sem()"
   ]
  },
  {
   "cell_type": "code",
   "execution_count": 6,
   "metadata": {},
   "outputs": [],
   "source": [
    "from common_functions import latexify, format_axes"
   ]
  },
  {
   "cell_type": "code",
   "execution_count": 7,
   "metadata": {},
   "outputs": [
    {
     "name": "stderr",
     "output_type": "stream",
     "text": [
      "/Users/nipunbatra/anaconda/lib/python2.7/site-packages/matplotlib/__init__.py:872: UserWarning: axes.color_cycle is deprecated and replaced with axes.prop_cycle; please use the latter.\n",
      "  warnings.warn(self.msg_depr % (key, alt_key))\n",
      "/Users/nipunbatra/anaconda/lib/python2.7/site-packages/matplotlib/__init__.py:872: UserWarning: text.fontsize is deprecated and replaced with font.size; please use the latter.\n",
      "  warnings.warn(self.msg_depr % (key, alt_key))\n"
     ]
    }
   ],
   "source": [
    "latexify()"
   ]
  },
  {
   "cell_type": "code",
   "execution_count": 29,
   "metadata": {},
   "outputs": [
    {
     "data": {
      "image/png": "[encoded data removed]"
     },
     "output_type": "display_data",
     "metadata": {}
    }
   ],
   "source": [
    "tableau20blind =  [(31, 119, 180), (174, 199, 232), (255, 127, 14), (255, 187, 120),  \n",
    "             (44, 160, 44), (152, 223, 138), (214, 39, 40), (255, 152, 150),  \n",
    "             (148, 103, 189), (197, 176, 213), (140, 86, 75), (196, 156, 148),  \n",
    "             (227, 119, 194), (247, 182, 210), (127, 127, 127), (199, 199, 199),  \n",
    "             (188, 189, 34), (219, 219, 141), (23, 190, 207), (158, 218, 229)]\n",
    "  \n",
    "# Rescale to values between 0 and 1\n",
    "for i in range(len(tableau20blind)):  \n",
    "    r, g, b = tableau20blind[i]  \n",
    "    tableau20blind[i] = (r / 255., g / 255., b / 255.)\n",
    "pd.DataFrame(means[\"hvac\"]).T.plot(kind='bar',rot=0, colors=tableau20blind)\n",
    "plt.ylim((0, 80))\n",
    "format_axes(plt.gca())\n",
    "plt.legend(loc=3, title=\"Num homes\")\n",
    "plt.ylabel(\"Accuracy\")\n",
    "plt.savefig(\"/Users/nipunbatra/git/monthly-disaggregation/results/sensitivity-num-homes.pdf\", bbox_inches=\"tight\")\n",
    "plt.savefig(\"/Users/nipunbatra/git/monthly-disaggregation/results/sensitivity-num-homes.png\", bbox_inches=\"tight\")"
   ]
  },
  {
   "cell_type": "code",
   "execution_count": 19,
   "metadata": {},
   "outputs": [
    {
     "data": {
      "image/png": "[encoded data removed]"
     },
     "output_type": "display_data",
     "metadata": {}
    }
   ],
   "source": [
    "latexify(fig_height=1.8)\n",
    "tableau20blind =  [(31, 119, 180), (174, 199, 232), (255, 127, 14), (255, 187, 120),  \n",
    "             (44, 160, 44), (152, 223, 138), (214, 39, 40), (255, 152, 150),  \n",
    "             (148, 103, 189), (197, 176, 213), (140, 86, 75), (196, 156, 148),  \n",
    "             (227, 119, 194), (247, 182, 210), (127, 127, 127), (199, 199, 199),  \n",
    "             (188, 189, 34), (219, 219, 141), (23, 190, 207), (158, 218, 229)]\n",
    "  \n",
    "# Rescale to values between 0 and 1\n",
    "for i in range(len(tableau20blind)):  \n",
    "    r, g, b = tableau20blind[i]  \n",
    "    tableau20blind[i] = (r / 255., g / 255., b / 255.)\n",
    "\n",
    "means_df = pd.DataFrame(means[\"hvac\"])\n",
    "sems_df = pd.DataFrame(sems[\"hvac\"])\n",
    "for i, feature in enumerate([\"Static\", \"Monthly\"]):\n",
    "    plt.errorbar(means_df[feature].index, means_df[feature].values, \n",
    "                 yerr=sems_df[feature].values, label=feature, color=tableau20blind[i*2])\n",
    "#.plot(kind='line',rot=0, colors=tableau20blind[::2])\n",
    "plt.ylim((0, 80))\n",
    "format_axes(plt.gca())\n",
    "plt.legend(loc=4, title=\"Feature\")\n",
    "plt.ylim((62, 78))\n",
    "plt.xlim((5, 27))\n",
    "plt.ylabel(\"Energy Accuracy (\\%)\\n(Higher is better)\")\n",
    "plt.xlabel(\"Number of submetered homes\")\n",
    "plt.savefig(\"/Users/nipunbatra/git/monthly-disaggregation/results/sensitivity-num-homes.pdf\", bbox_inches=\"tight\")\n",
    "plt.savefig(\"/Users/nipunbatra/git/monthly-disaggregation/results/sensitivity-num-homes.png\", bbox_inches=\"tight\")"
   ]
  },
  {
   "cell_type": "code",
   "execution_count": 73,
   "metadata": {},
   "outputs": [
    {
     "data": {
      "text/plain": [
       "{7: 0.94894521834191836,\n",
       " 10: 0.9214855050810854,\n",
       " 13: 0.84390457635734284,\n",
       " 16: 0.83272470986922309,\n",
       " 19: 0.74885620023534805,\n",
       " 22: 0.7162143530268883,\n",
       " 25: 0.75442630344736339}"
      ]
     },
     "execution_count": 73,
     "output_type": "execute_result",
     "metadata": {}
    }
   ],
   "source": [
    "sems['hvac']['Monthly']"
   ]
  },
  {
   "cell_type": "code",
   "execution_count": 30,
   "metadata": {},
   "outputs": [
    {
     "data": {
      "text/html": [
       "<div>\n",
       "<table border=\"1\" class=\"dataframe\">\n",
       "  <thead>\n",
       "    <tr style=\"text-align: right;\">\n",
       "      <th></th>\n",
       "      <th>Monthly</th>\n",
       "      <th>Monthly+Static</th>\n",
       "      <th>Static</th>\n",
       "    </tr>\n",
       "  </thead>\n",
       "  <tbody>\n",
       "    <tr>\n",
       "      <th>7</th>\n",
       "      <td>69.317539</td>\n",
       "      <td>68.125346</td>\n",
       "      <td>63.959098</td>\n",
       "    </tr>\n",
       "    <tr>\n",
       "      <th>10</th>\n",
       "      <td>71.401634</td>\n",
       "      <td>71.374832</td>\n",
       "      <td>65.891212</td>\n",
       "    </tr>\n",
       "    <tr>\n",
       "      <th>13</th>\n",
       "      <td>71.907825</td>\n",
       "      <td>71.489441</td>\n",
       "      <td>67.218963</td>\n",
       "    </tr>\n",
       "    <tr>\n",
       "      <th>16</th>\n",
       "      <td>73.308370</td>\n",
       "      <td>72.864106</td>\n",
       "      <td>68.859176</td>\n",
       "    </tr>\n",
       "    <tr>\n",
       "      <th>19</th>\n",
       "      <td>74.827401</td>\n",
       "      <td>74.627267</td>\n",
       "      <td>69.365677</td>\n",
       "    </tr>\n",
       "    <tr>\n",
       "      <th>22</th>\n",
       "      <td>74.950223</td>\n",
       "      <td>74.610141</td>\n",
       "      <td>69.429724</td>\n",
       "    </tr>\n",
       "    <tr>\n",
       "      <th>25</th>\n",
       "      <td>75.904993</td>\n",
       "      <td>75.397690</td>\n",
       "      <td>70.063741</td>\n",
       "    </tr>\n",
       "  </tbody>\n",
       "</table>\n",
       "</div>"
      ]
     },
     "output_type": "execute_result",
     "metadata": {}
    }
   ],
   "source": [
    "pd.DataFrame(means[\"hvac\"])"
   ]
  },
  {
   "cell_type": "code",
   "execution_count": null,
   "metadata": {},
   "outputs": [],
   "source": [
    ""
   ]
  }
 ],
 "metadata": {
  "kernelspec": {
   "display_name": "Python 2",
   "language": "python",
   "name": "python2"
  },
  "language_info": {
   "codemirror_mode": {
    "name": "ipython",
    "version": 2.0
   },
   "file_extension": ".py",
   "mimetype": "text/x-python",
   "name": "python",
   "nbconvert_exporter": "python",
   "pygments_lexer": "ipython2",
   "version": "2.7.11"
  }
 },
 "nbformat": 4,
 "nbformat_minor": 0
}