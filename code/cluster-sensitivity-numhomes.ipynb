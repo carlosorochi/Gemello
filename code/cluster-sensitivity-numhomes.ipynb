{
 "cells": [
  {
   "cell_type": "code",
   "execution_count": 20,
   "metadata": {
    "collapsed": false
   },
   "outputs": [],
   "source": [
    "import pandas as pd"
   ]
  },
  {
   "cell_type": "code",
   "execution_count": 115,
   "metadata": {
    "collapsed": true
   },
   "outputs": [],
   "source": [
    "appliance_homes={\"hvac\":33,\"fridge\":21,\"dr\":26,\"wm\":16,\"dw\":32,\"light\":12}"
   ]
  },
  {
   "cell_type": "code",
   "execution_count": 127,
   "metadata": {
    "collapsed": false
   },
   "outputs": [],
   "source": [
    "appliances = [\"hvac\",\"fridge\",\"dr\"]\n",
    "out = {}\n",
    "count=0\n",
    "for appliance in appliances:\n",
    "    out[appliance]={}\n",
    "    for feature in [\"Monthly\",\"Static\", \"Monthly+Static\"]:\n",
    "        out[appliance][feature]={}\n",
    "        appliance_max =appliance_homes[appliance]\n",
    "        for num_homes in range(7, appliance_max, 2):\n",
    "            out[appliance][feature][num_homes] = {}\n",
    "            t = []\n",
    "            for start_seed in range(0, 100, 1):\n",
    "                stop_seed = start_seed+1\n",
    "                try:\n",
    "                    t.append(pd.read_csv(\"../sensitivity-data-new/%s_%d_%d_%d_%s.csv\" %(appliance, \n",
    "                                                                               num_homes, \n",
    "                                                                               start_seed, \n",
    "                                                                              stop_seed,\n",
    "                                                                              feature), index_col=0,header=None, names=['a'] ))\n",
    "                except:\n",
    "                    count=count+1\n",
    "            out[appliance][feature][num_homes] = pd.concat(t)"
   ]
  },
  {
   "cell_type": "code",
   "execution_count": 128,
   "metadata": {
    "collapsed": true
   },
   "outputs": [],
   "source": [
    "import matplotlib.pyplot as plt"
   ]
  },
  {
   "cell_type": "code",
   "execution_count": 129,
   "metadata": {
    "collapsed": true
   },
   "outputs": [],
   "source": [
    "%matplotlib inline"
   ]
  },
  {
   "cell_type": "code",
   "execution_count": 130,
   "metadata": {
    "collapsed": false
   },
   "outputs": [],
   "source": [
    "means = {}\n",
    "sems = {}\n",
    "for appliance in [\"hvac\",\"fridge\",\"dr\"]:\n",
    "    means[appliance] = {}\n",
    "    sems[appliance] = {}\n",
    "    for feature in [\"Monthly\",\"Static\", \"Monthly+Static\"]:\n",
    "        means[appliance][feature] ={}\n",
    "        sems[appliance][feature] ={}\n",
    "        appliance_max =appliance_homes[appliance]\n",
    "        for num_homes in range(7, appliance_max, 2):\n",
    "            means[appliance][feature][num_homes] = out[appliance][feature][num_homes].mean(axis=1).mean()\n",
    "            sems[appliance][feature][num_homes] = out[appliance][feature][num_homes].mean(axis=1).sem()"
   ]
  },
  {
   "cell_type": "code",
   "execution_count": 36,
   "metadata": {
    "collapsed": true
   },
   "outputs": [],
   "source": [
    "from common_functions import latexify, format_axes"
   ]
  },
  {
   "cell_type": "code",
   "execution_count": 37,
   "metadata": {
    "collapsed": false
   },
   "outputs": [],
   "source": [
    "latexify()"
   ]
  },
  {
   "cell_type": "code",
   "execution_count": 29,
   "metadata": {
    "collapsed": false
   },
   "outputs": [
    {
     "data": {
      "image/png": "[encoded data removed]"
     },
     "metadata": {},
     "output_type": "display_data"
    }
   ],
   "source": [
    "tableau20blind =  [(31, 119, 180), (174, 199, 232), (255, 127, 14), (255, 187, 120),  \n",
    "             (44, 160, 44), (152, 223, 138), (214, 39, 40), (255, 152, 150),  \n",
    "             (148, 103, 189), (197, 176, 213), (140, 86, 75), (196, 156, 148),  \n",
    "             (227, 119, 194), (247, 182, 210), (127, 127, 127), (199, 199, 199),  \n",
    "             (188, 189, 34), (219, 219, 141), (23, 190, 207), (158, 218, 229)]\n",
    "  \n",
    "# Rescale to values between 0 and 1\n",
    "for i in range(len(tableau20blind)):  \n",
    "    r, g, b = tableau20blind[i]  \n",
    "    tableau20blind[i] = (r / 255., g / 255., b / 255.)\n",
    "pd.DataFrame(means[\"hvac\"]).T.plot(kind='bar',rot=0, colors=tableau20blind)\n",
    "plt.ylim((0, 80))\n",
    "format_axes(plt.gca())\n",
    "plt.legend(loc=3, title=\"Num homes\")\n",
    "plt.ylabel(\"Accuracy\")\n",
    "plt.savefig(\"/Users/nipunbatra/git/monthly-disaggregation/results/sensitivity-num-homes.pdf\", bbox_inches=\"tight\")\n",
    "plt.savefig(\"/Users/nipunbatra/git/monthly-disaggregation/results/sensitivity-num-homes.png\", bbox_inches=\"tight\")"
   ]
  },
  {
   "cell_type": "code",
   "execution_count": 79,
   "metadata": {
    "collapsed": false
   },
   "outputs": [
    {
     "data": {
      "text/html": [
       "<div>\n",
       "<table border=\"1\" class=\"dataframe\">\n",
       "  <thead>\n",
       "    <tr style=\"text-align: right;\">\n",
       "      <th></th>\n",
       "      <th>Monthly</th>\n",
       "      <th>Monthly+Static</th>\n",
       "      <th>Static</th>\n",
       "    </tr>\n",
       "  </thead>\n",
       "  <tbody>\n",
       "    <tr>\n",
       "      <th>7</th>\n",
       "      <td>25.936079</td>\n",
       "      <td>25.943477</td>\n",
       "      <td>27.151478</td>\n",
       "    </tr>\n",
       "    <tr>\n",
       "      <th>9</th>\n",
       "      <td>26.685064</td>\n",
       "      <td>27.100271</td>\n",
       "      <td>28.557357</td>\n",
       "    </tr>\n",
       "    <tr>\n",
       "      <th>11</th>\n",
       "      <td>27.407248</td>\n",
       "      <td>27.527753</td>\n",
       "      <td>28.975400</td>\n",
       "    </tr>\n",
       "    <tr>\n",
       "      <th>13</th>\n",
       "      <td>27.142758</td>\n",
       "      <td>28.603932</td>\n",
       "      <td>28.966423</td>\n",
       "    </tr>\n",
       "    <tr>\n",
       "      <th>15</th>\n",
       "      <td>27.599754</td>\n",
       "      <td>28.715838</td>\n",
       "      <td>29.398895</td>\n",
       "    </tr>\n",
       "    <tr>\n",
       "      <th>17</th>\n",
       "      <td>27.574940</td>\n",
       "      <td>29.279419</td>\n",
       "      <td>28.659488</td>\n",
       "    </tr>\n",
       "    <tr>\n",
       "      <th>19</th>\n",
       "      <td>28.274172</td>\n",
       "      <td>29.397587</td>\n",
       "      <td>30.722613</td>\n",
       "    </tr>\n",
       "    <tr>\n",
       "      <th>21</th>\n",
       "      <td>28.028443</td>\n",
       "      <td>30.303305</td>\n",
       "      <td>30.744679</td>\n",
       "    </tr>\n",
       "    <tr>\n",
       "      <th>23</th>\n",
       "      <td>29.004356</td>\n",
       "      <td>29.546032</td>\n",
       "      <td>29.800958</td>\n",
       "    </tr>\n",
       "    <tr>\n",
       "      <th>25</th>\n",
       "      <td>29.461681</td>\n",
       "      <td>28.145256</td>\n",
       "      <td>31.245398</td>\n",
       "    </tr>\n",
       "  </tbody>\n",
       "</table>\n",
       "</div>"
      ],
      "text/plain": [
       "      Monthly  Monthly+Static     Static\n",
       "7   25.936079       25.943477  27.151478\n",
       "9   26.685064       27.100271  28.557357\n",
       "11  27.407248       27.527753  28.975400\n",
       "13  27.142758       28.603932  28.966423\n",
       "15  27.599754       28.715838  29.398895\n",
       "17  27.574940       29.279419  28.659488\n",
       "19  28.274172       29.397587  30.722613\n",
       "21  28.028443       30.303305  30.744679\n",
       "23  29.004356       29.546032  29.800958\n",
       "25  29.461681       28.145256  31.245398"
      ]
     },
     "execution_count": 79,
     "metadata": {},
     "output_type": "execute_result"
    }
   ],
   "source": [
    "means_df"
   ]
  },
  {
   "cell_type": "code",
   "execution_count": 111,
   "metadata": {
    "collapsed": false
   },
   "outputs": [
    {
     "data": {
      "text/plain": [
       "<matplotlib.text.Text at 0x11c310f10>"
      ]
     },
     "execution_count": 111,
     "metadata": {},
     "output_type": "execute_result"
    },
    {
     "data": {
      "image/png": "[encoded data removed]",
      "text/plain": [
       "<matplotlib.figure.Figure at 0x11c349e50>"
      ]
     },
     "metadata": {},
     "output_type": "display_data"
    }
   ],
   "source": [
    "latexify(fig_height=1.8)\n",
    "tableau20blind =  [(31, 119, 180), (174, 199, 232), (255, 127, 14), (255, 187, 120),  \n",
    "             (44, 160, 44), (152, 223, 138), (214, 39, 40), (255, 152, 150),  \n",
    "             (148, 103, 189), (197, 176, 213), (140, 86, 75), (196, 156, 148),  \n",
    "             (227, 119, 194), (247, 182, 210), (127, 127, 127), (199, 199, 199),  \n",
    "             (188, 189, 34), (219, 219, 141), (23, 190, 207), (158, 218, 229)]\n",
    "  \n",
    "# Rescale to values between 0 and 1\n",
    "for i in range(len(tableau20blind)):  \n",
    "    r, g, b = tableau20blind[i]  \n",
    "    tableau20blind[i] = (r / 255., g / 255., b / 255.)\n",
    "\n",
    "means_df = pd.DataFrame(means[\"fridge\"])\n",
    "sems_df = pd.DataFrame(sems[\"fridge\"])\n",
    "for i, feature in enumerate([\"Static\", \"Monthly\",\"Monthly+Static\"]):\n",
    "    plt.errorbar(means_df[feature].index, means_df[feature].values, \n",
    "                 yerr=sems_df[feature].values, label=feature, color=tableau20blind[i*2])\n",
    "#.plot(kind='line',rot=0, colors=tableau20blind[::2])\n",
    "plt.ylim((0, 80))\n",
    "format_axes(plt.gca())\n",
    "plt.legend(loc=4)\n",
    "#plt.ylim((62, 78))\n",
    "plt.ylim((50, 70))\n",
    "plt.xlim((5, appliance_max))\n",
    "plt.ylabel(\"Energy Accuracy (\\%)\\n(Higher is better)\")\n",
    "plt.xlabel(\"Number of submetered homes\")\n",
    "#plt.savefig(\"/Users/nipunbatra/git/monthly-disaggregation/results/sensitivity-num-homes-hvac.pdf\", bbox_inches=\"tight\")\n",
    "#plt.savefig(\"/Users/nipunbatra/git/monthly-disaggregation/results/sensitivity-num-homes-hvac.png\", bbox_inches=\"tight\")"
   ]
  },
  {
   "cell_type": "code",
   "execution_count": 92,
   "metadata": {
    "collapsed": false
   },
   "outputs": [
    {
     "data": {
      "text/plain": [
       "{7: 0.45185100806773892,\n",
       " 9: 0.4455127877814557,\n",
       " 11: 0.41592129134635147,\n",
       " 13: 0.45073338132316965,\n",
       " 15: 0.37668280706990787,\n",
       " 17: 0.37915446091409583,\n",
       " 19: 0.43539880015088689,\n",
       " 21: 0.44014443035207079,\n",
       " 23: 0.4940711332199797,\n",
       " 25: 0.51427364000010312,\n",
       " 27: 0.61350635409438314,\n",
       " 29: 0.74613069314412717,\n",
       " 31: 0.99494621148957096}"
      ]
     },
     "execution_count": 92,
     "metadata": {},
     "output_type": "execute_result"
    }
   ],
   "source": [
    "sems['hvac']['Monthly']"
   ]
  },
  {
   "cell_type": "code",
   "execution_count": 94,
   "metadata": {
    "collapsed": true
   },
   "outputs": [],
   "source": [
    "to_use_feature = {'dr': 'Monthly+Static',\n",
    " 'dw': 'Monthly+Static',\n",
    " 'fridge': 'Monthly+Static',\n",
    " 'hvac': 'Monthly',\n",
    " 'light': 'Static',\n",
    " 'wm': 'Static'}"
   ]
  },
  {
   "cell_type": "code",
   "execution_count": 103,
   "metadata": {
    "collapsed": true
   },
   "outputs": [],
   "source": [
    "appliance_name_map = {\"fridge\":\"Fridge\",\"hvac\":\"HVAC\",\"wm\":\"Washing\\nmachine\",\n",
    "                      \"dr\":\"Dryer\",\"dw\":\"Dish\\nwasher\",\"light\":\"Lights\"}"
   ]
  },
  {
   "cell_type": "code",
   "execution_count": 134,
   "metadata": {
    "collapsed": false
   },
   "outputs": [
    {
     "data": {
      "text/plain": [
       "<matplotlib.text.Text at 0x11b5b6d90>"
      ]
     },
     "execution_count": 134,
     "metadata": {},
     "output_type": "execute_result"
    },
    {
     "data": {
      "image/png": "[encoded data removed]",
      "text/plain": [
       "<matplotlib.figure.Figure at 0x1178d68d0>"
      ]
     },
     "metadata": {},
     "output_type": "display_data"
    }
   ],
   "source": [
    "latexify(fig_height=2)\n",
    "tableau20blind =  [(31, 119, 180), (174, 199, 232), (255, 127, 14), (255, 187, 120),  \n",
    "             (44, 160, 44), (152, 223, 138), (214, 39, 40), (255, 152, 150),  \n",
    "             (148, 103, 189), (197, 176, 213), (140, 86, 75), (196, 156, 148),  \n",
    "             (227, 119, 194), (247, 182, 210), (127, 127, 127), (199, 199, 199),  \n",
    "             (188, 189, 34), (219, 219, 141), (23, 190, 207), (158, 218, 229)]\n",
    "  \n",
    "# Rescale to values between 0 and 1\n",
    "for i in range(len(tableau20blind)):  \n",
    "    r, g, b = tableau20blind[i]  \n",
    "    tableau20blind[i] = (r / 255., g / 255., b / 255.)\n",
    "\n",
    "for i, appliance in enumerate([\"fridge\",\"hvac\"]):\n",
    "    means_df = pd.DataFrame(means[appliance])\n",
    "    sems_df = pd.DataFrame(sems[appliance])\n",
    "    feature = to_use_feature[appliance]\n",
    "    plt.errorbar(means_df[feature].index, means_df[feature].values, marker='.',\n",
    "                 yerr=sems_df[feature].values, label=appliance_name_map[appliance], color=tableau20blind[i*2])\n",
    "#.plot(kind='line',rot=0, colors=tableau20blind[::2])\n",
    "plt.ylim((0, 80))\n",
    "format_axes(plt.gca())\n",
    "plt.legend(loc=4)\n",
    "#plt.ylim((62, 78))\n",
    "plt.ylim((55, 80))\n",
    "plt.xlim((5, 33))\n",
    "plt.ylabel(\"Energy Accuracy (\\%)\\n(Higher is better)\")\n",
    "plt.xlabel(\"Number of submetered homes\")\n",
    "#plt.savefig(\"/Users/nipunbatra/git/monthly-disaggregation/results/sensitivity-num-homes.pdf\", bbox_inches=\"tight\")\n",
    "#plt.savefig(\"/Users/nipunbatra/git/monthly-disaggregation/results/sensitivity-num-homes.png\", bbox_inches=\"tight\")"
   ]
  },
  {
   "cell_type": "code",
   "execution_count": null,
   "metadata": {
    "collapsed": true
   },
   "outputs": [],
   "source": []
  }
 ],
 "metadata": {
  "kernelspec": {
   "display_name": "Python 2",
   "language": "python",
   "name": "python2"
  },
  "language_info": {
   "codemirror_mode": {
    "name": "ipython",
    "version": 2
   },
   "file_extension": ".py",
   "mimetype": "text/x-python",
   "name": "python",
   "nbconvert_exporter": "python",
   "pygments_lexer": "ipython2",
   "version": "2.7.11"
  }
 },
 "nbformat": 4,
 "nbformat_minor": 0
}
