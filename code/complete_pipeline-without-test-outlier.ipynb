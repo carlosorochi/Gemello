{
 "cells": [
  {
   "cell_type": "markdown",
   "metadata": {},
   "source": [
    "### Load data set with features"
   ]
  },
  {
   "cell_type": "code",
   "execution_count": 1,
   "metadata": {
    "collapsed": false
   },
   "outputs": [
    {
     "name": "stderr",
     "output_type": "stream",
     "text": [
      "Vendor:  Continuum Analytics, Inc.\n",
      "Package: mkl\n",
      "Message: trial mode expires in 30 days\n"
     ]
    }
   ],
   "source": [
    "from create_df import read_df\n",
    "df, dfc, all_homes, appliance_min, national_average = read_df()"
   ]
  },
  {
   "cell_type": "code",
   "execution_count": 2,
   "metadata": {
    "collapsed": false
   },
   "outputs": [],
   "source": [
    "import numpy as np\n",
    "import matplotlib.pyplot as plt\n",
    "%matplotlib inline\n"
   ]
  },
  {
   "cell_type": "code",
   "execution_count": 3,
   "metadata": {
    "collapsed": false
   },
   "outputs": [],
   "source": [
    "run all_functions.py"
   ]
  },
  {
   "cell_type": "code",
   "execution_count": 4,
   "metadata": {
    "collapsed": false
   },
   "outputs": [],
   "source": [
    "run features.py"
   ]
  },
  {
   "cell_type": "code",
   "execution_count": 5,
   "metadata": {
    "collapsed": true
   },
   "outputs": [],
   "source": [
    "import json"
   ]
  },
  {
   "cell_type": "markdown",
   "metadata": {},
   "source": [
    "#### First round of CV, finding optimal features maximising median accuracy"
   ]
  },
  {
   "cell_type": "code",
   "execution_count": 7,
   "metadata": {
    "collapsed": false
   },
   "outputs": [
    {
     "name": "stdout",
     "output_type": "stream",
     "text": [
      "%%%%%%%%%%%%%%%%%%%%%%%%%%%%%%%%%%%%%%%%\n",
      "hvac\n",
      "%%%%%%%%%%%%%%%%%%%%%%%%%%%%%%%%%%%%%%%%\n",
      "********************\n",
      "All\n",
      "********************\n",
      "include: aggregate_5 -> feature_subset: ['aggregate_5']. Accuracy: 77.7576037951\n",
      "include: seasonal_energy_7 -> feature_subset: ['aggregate_5', 'seasonal_energy_7']. Accuracy: 79.5358240671\n",
      "include: gt_1000 -> feature_subset: ['aggregate_5', 'seasonal_energy_7', 'gt_1000']. Accuracy: 80.9630398559\n",
      "include: seasonal_energy_6 -> feature_subset: ['aggregate_5', 'seasonal_energy_7', 'gt_1000', 'seasonal_energy_6']. Accuracy: 79.9160770052\n",
      "include: aggregate_3 -> feature_subset: ['aggregate_5', 'seasonal_energy_7', 'gt_1000', 'seasonal_energy_6', 'aggregate_3']. Accuracy: 80.4263591792\n",
      "include: seasonal_energy_9 -> feature_subset: ['aggregate_5', 'seasonal_energy_7', 'gt_1000', 'seasonal_energy_6', 'aggregate_3', 'seasonal_energy_9']. Accuracy: 80.7720803417\n",
      "include: lt_500 -> feature_subset: ['aggregate_5', 'seasonal_energy_7', 'gt_1000', 'seasonal_energy_6', 'aggregate_3', 'seasonal_energy_9', 'lt_500']. Accuracy: 79.9272329003\n",
      "include: aggregate_7 -> feature_subset: ['aggregate_7']. Accuracy: 78.9173325554\n",
      "include: seasonal_energy_8 -> feature_subset: ['aggregate_7', 'seasonal_energy_8']. Accuracy: 80.2735112586\n",
      "include: aggregate_12 -> feature_subset: ['aggregate_7', 'seasonal_energy_8', 'aggregate_12']. Accuracy: 81.0679951946\n",
      "include: aggregate_4 -> feature_subset: ['aggregate_7', 'seasonal_energy_8', 'aggregate_12', 'aggregate_4']. Accuracy: 81.3156764016\n",
      "include: bet_500_1000 -> feature_subset: ['aggregate_7', 'seasonal_energy_8', 'aggregate_12', 'aggregate_4', 'bet_500_1000']. Accuracy: 81.179391221\n",
      "include: aggregate_5 -> feature_subset: ['aggregate_7', 'seasonal_energy_8', 'aggregate_12', 'aggregate_4', 'bet_500_1000', 'aggregate_5']. Accuracy: 81.8529279993\n",
      "include: aggregate_10 -> feature_subset: ['aggregate_7', 'seasonal_energy_8', 'aggregate_12', 'aggregate_4', 'bet_500_1000', 'aggregate_5', 'aggregate_10']. Accuracy: 81.0806342402\n",
      "include: aggregate_7 -> feature_subset: ['aggregate_7']. Accuracy: 80.7585417852\n",
      "include: aggregate_4 -> feature_subset: ['aggregate_7', 'aggregate_4']. Accuracy: 81.0086301541\n",
      "include: seasonal_energy_5 -> feature_subset: ['aggregate_7', 'aggregate_4', 'seasonal_energy_5']. Accuracy: 80.6713420475\n",
      "include: seasonal_energy_8 -> feature_subset: ['aggregate_7', 'aggregate_4', 'seasonal_energy_5', 'seasonal_energy_8']. Accuracy: 80.9005247919\n",
      "include: aggregate_3 -> feature_subset: ['aggregate_7', 'aggregate_4', 'seasonal_energy_5', 'seasonal_energy_8', 'aggregate_3']. Accuracy: 80.7402216407\n",
      "include: fft_1 -> feature_subset: ['aggregate_7', 'aggregate_4', 'seasonal_energy_5', 'seasonal_energy_8', 'aggregate_3', 'fft_1']. Accuracy: 80.653347198\n",
      "include: aggregate_10 -> feature_subset: ['aggregate_7', 'aggregate_4', 'seasonal_energy_5', 'seasonal_energy_8', 'aggregate_3', 'fft_1', 'aggregate_10']. Accuracy: 81.3328403643\n",
      "include: aggregate_7 -> feature_subset: ['aggregate_7']. Accuracy: 80.5960025189\n",
      "include: aggregate_2 -> feature_subset: ['aggregate_7', 'aggregate_2']. Accuracy: 81.6618956599\n",
      "include: aggregate_3 -> feature_subset: ['aggregate_7', 'aggregate_2', 'aggregate_3']. Accuracy: 81.7900098319\n",
      "include: aggregate_8 -> feature_subset: ['aggregate_7', 'aggregate_2', 'aggregate_3', 'aggregate_8']. Accuracy: 81.2610338084\n",
      "include: aggregate_5 -> feature_subset: ['aggregate_7', 'aggregate_2', 'aggregate_3', 'aggregate_8', 'aggregate_5']. Accuracy: 81.8249065424\n",
      "include: difference_min_max -> feature_subset: ['aggregate_7', 'aggregate_2', 'aggregate_3', 'aggregate_8', 'aggregate_5', 'difference_min_max']. Accuracy: 81.6366866149\n",
      "include: aggregate_4 -> feature_subset: ['aggregate_7', 'aggregate_2', 'aggregate_3', 'aggregate_8', 'aggregate_5', 'difference_min_max', 'aggregate_4']. Accuracy: 81.6062853796\n",
      "include: aggregate_8 -> feature_subset: ['aggregate_8']. Accuracy: 80.8846886333\n",
      "include: bet_500_1000 -> feature_subset: ['aggregate_8', 'bet_500_1000']. Accuracy: 81.2151720021\n",
      "include: disag_fridge -> feature_subset: ['aggregate_8', 'bet_500_1000', 'disag_fridge']. Accuracy: 80.9805665959\n",
      "include: aggregate_10 -> feature_subset: ['aggregate_8', 'bet_500_1000', 'disag_fridge', 'aggregate_10']. Accuracy: 81.5529447391\n",
      "include: aggregate_4 -> feature_subset: ['aggregate_8', 'bet_500_1000', 'disag_fridge', 'aggregate_10', 'aggregate_4']. Accuracy: 82.1835400547\n",
      "include: aggregate_9 -> feature_subset: ['aggregate_8', 'bet_500_1000', 'disag_fridge', 'aggregate_10', 'aggregate_4', 'aggregate_9']. Accuracy: 81.7127341833\n",
      "include: aggregate_2 -> feature_subset: ['aggregate_8', 'bet_500_1000', 'disag_fridge', 'aggregate_10', 'aggregate_4', 'aggregate_9', 'aggregate_2']. Accuracy: 81.2008750932\n",
      "include: aggregate_8 -> feature_subset: ['aggregate_8']. Accuracy: 80.3738003094\n",
      "include: gt_1000 -> feature_subset: ['aggregate_8', 'gt_1000']. Accuracy: 80.9839590552\n",
      "include: aggregate_2 -> feature_subset: ['aggregate_8', 'gt_1000', 'aggregate_2']. Accuracy: 81.3895865459\n",
      "include: difference_min_max -> feature_subset: ['aggregate_8', 'gt_1000', 'aggregate_2', 'difference_min_max']. Accuracy: 81.3977282181\n",
      "include: aggregate_10 -> feature_subset: ['aggregate_8', 'gt_1000', 'aggregate_2', 'difference_min_max', 'aggregate_10']. Accuracy: 81.5446116046\n",
      "include: aggregate_7 -> feature_subset: ['aggregate_8', 'gt_1000', 'aggregate_2', 'difference_min_max', 'aggregate_10', 'aggregate_7']. Accuracy: 81.8135749894\n",
      "include: aggregate_11 -> feature_subset: ['aggregate_8', 'gt_1000', 'aggregate_2', 'difference_min_max', 'aggregate_10', 'aggregate_7', 'aggregate_11']. Accuracy: 81.9489137315\n",
      "5 ['aggregate_8', 'bet_500_1000', 'disag_fridge', 'aggregate_10', 'aggregate_4'] 82.1835400547\n",
      "--------------------------------------------------------------------------------\n",
      "%%%%%%%%%%%%%%%%%%%%%%%%%%%%%%%%%%%%%%%%\n",
      "light\n",
      "%%%%%%%%%%%%%%%%%%%%%%%%%%%%%%%%%%%%%%%%\n",
      "********************\n",
      "All\n",
      "********************\n",
      "include: bet_500_1000 -> feature_subset: ['bet_500_1000']. Accuracy: 45.6538762014\n",
      "include: autocorr -> feature_subset: ['bet_500_1000', 'autocorr']. Accuracy: 45.0994720037\n",
      "include: temperature_corr -> feature_subset: ['bet_500_1000', 'autocorr', 'temperature_corr']. Accuracy: 41.6619760024\n",
      "include: aggregate_6 -> feature_subset: ['bet_500_1000', 'autocorr', 'temperature_corr', 'aggregate_6']. Accuracy: 40.4676978434\n",
      "include: lt_500 -> feature_subset: ['bet_500_1000', 'autocorr', 'temperature_corr', 'aggregate_6', 'lt_500']. Accuracy: 42.5071977813\n",
      "include: fft_1 -> feature_subset: ['bet_500_1000', 'autocorr', 'temperature_corr', 'aggregate_6', 'lt_500', 'fft_1']. Accuracy: 42.0829692649\n",
      "include: area -> feature_subset: ['bet_500_1000', 'autocorr', 'temperature_corr', 'aggregate_6', 'lt_500', 'fft_1', 'area']. Accuracy: 42.8497853745\n",
      "include: area -> feature_subset: ['area']. Accuracy: 46.7698955637\n",
      "include: aggregate_7 -> feature_subset: ['area', 'aggregate_7']. Accuracy: 49.3745299759\n",
      "include: bet_500_1000 -> feature_subset: ['area', 'aggregate_7', 'bet_500_1000']. Accuracy: 49.3745299759\n",
      "include: aggregate_5 -> feature_subset: ['area', 'aggregate_7', 'bet_500_1000', 'aggregate_5']. Accuracy: 48.8290761038\n",
      "include: gt_1000 -> feature_subset: ['area', 'aggregate_7', 'bet_500_1000', 'aggregate_5', 'gt_1000']. Accuracy: 49.114270126\n",
      "include: aggregate_2 -> feature_subset: ['area', 'aggregate_7', 'bet_500_1000', 'aggregate_5', 'gt_1000', 'aggregate_2']. Accuracy: 49.114270126\n",
      "include: disag_fridge -> feature_subset: ['area', 'aggregate_7', 'bet_500_1000', 'aggregate_5', 'gt_1000', 'aggregate_2', 'disag_fridge']. Accuracy: 48.9404412761\n",
      "include: lt_500 -> feature_subset: ['lt_500']. Accuracy: 45.6247436808\n",
      "include: bet_500_1000 -> feature_subset: ['lt_500', 'bet_500_1000']. Accuracy: 46.3769151545\n",
      "include: temperature_corr -> feature_subset: ['lt_500', 'bet_500_1000', 'temperature_corr']. Accuracy: 46.1060146701\n",
      "include: aggregate_3 -> feature_subset: ['lt_500', 'bet_500_1000', 'temperature_corr', 'aggregate_3']. Accuracy: 46.1536204252\n",
      "include: max_seasonal_daily -> feature_subset: ['lt_500', 'bet_500_1000', 'temperature_corr', 'aggregate_3', 'max_seasonal_daily']. Accuracy: 46.5193414484\n",
      "include: aggregate_1 -> feature_subset: ['lt_500', 'bet_500_1000', 'temperature_corr', 'aggregate_3', 'max_seasonal_daily', 'aggregate_1']. Accuracy: 46.1749449527\n",
      "include: area -> feature_subset: ['lt_500', 'bet_500_1000', 'temperature_corr', 'aggregate_3', 'max_seasonal_daily', 'aggregate_1', 'area']. Accuracy: 45.8145518856\n",
      "include: area -> feature_subset: ['area']. Accuracy: 46.0963067182\n",
      "include: aggregate_11 -> feature_subset: ['area', 'aggregate_11']. Accuracy: 49.0294064294\n",
      "include: aggregate_2 -> feature_subset: ['area', 'aggregate_11', 'aggregate_2']. Accuracy: 49.6050872725\n",
      "include: bet_500_1000 -> feature_subset: ['area', 'aggregate_11', 'aggregate_2', 'bet_500_1000']. Accuracy: 49.5815397434\n",
      "include: aggregate_5 -> feature_subset: ['area', 'aggregate_11', 'aggregate_2', 'bet_500_1000', 'aggregate_5']. Accuracy: 48.5265034665\n",
      "include: lt_500 -> feature_subset: ['area', 'aggregate_11', 'aggregate_2', 'bet_500_1000', 'aggregate_5', 'lt_500']. Accuracy: 49.4516907102\n",
      "include: aggregate_7 -> feature_subset: ['area', 'aggregate_11', 'aggregate_2', 'bet_500_1000', 'aggregate_5', 'lt_500', 'aggregate_7']. Accuracy: 48.9277655835\n",
      "include: area -> feature_subset: ['area']. Accuracy: 47.9160262705\n",
      "include: aggregate_6 -> feature_subset: ['area', 'aggregate_6']. Accuracy: 49.2426608223\n",
      "include: lt_500 -> feature_subset: ['area', 'aggregate_6', 'lt_500']. Accuracy: 49.5640439301\n",
      "include: bet_500_1000 -> feature_subset: ['area', 'aggregate_6', 'lt_500', 'bet_500_1000']. Accuracy: 49.1780516751\n",
      "include: aggregate_10 -> feature_subset: ['area', 'aggregate_6', 'lt_500', 'bet_500_1000', 'aggregate_10']. Accuracy: 49.665010727\n",
      "include: aggregate_5 -> feature_subset: ['area', 'aggregate_6', 'lt_500', 'bet_500_1000', 'aggregate_10', 'aggregate_5']. Accuracy: 49.8734651062\n",
      "include: aggregate_9 -> feature_subset: ['area', 'aggregate_6', 'lt_500', 'bet_500_1000', 'aggregate_10', 'aggregate_5', 'aggregate_9']. Accuracy: 48.8629604733\n",
      "include: area -> feature_subset: ['area']. Accuracy: 48.2358117152\n",
      "include: aggregate_5 -> feature_subset: ['area', 'aggregate_5']. Accuracy: 48.9142292934\n",
      "include: bet_500_1000 -> feature_subset: ['area', 'aggregate_5', 'bet_500_1000']. Accuracy: 49.1421395645\n",
      "include: aggregate_6 -> feature_subset: ['area', 'aggregate_5', 'bet_500_1000', 'aggregate_6']. Accuracy: 49.3016903804\n",
      "include: aggregate_10 -> feature_subset: ['area', 'aggregate_5', 'bet_500_1000', 'aggregate_6', 'aggregate_10']. Accuracy: 49.1584365469\n",
      "include: cluster_small -> feature_subset: ['area', 'aggregate_5', 'bet_500_1000', 'aggregate_6', 'aggregate_10', 'cluster_small']. Accuracy: 48.9194067698\n",
      "include: aggregate_2 -> feature_subset: ['area', 'aggregate_5', 'bet_500_1000', 'aggregate_6', 'aggregate_10', 'cluster_small', 'aggregate_2']. Accuracy: 47.9460957852\n",
      "5 ['area', 'aggregate_6', 'lt_500', 'bet_500_1000', 'aggregate_10', 'aggregate_5'] 49.8734651062\n",
      "--------------------------------------------------------------------------------\n",
      "%%%%%%%%%%%%%%%%%%%%%%%%%%%%%%%%%%%%%%%%\n",
      "fridge\n",
      "%%%%%%%%%%%%%%%%%%%%%%%%%%%%%%%%%%%%%%%%\n",
      "********************\n",
      "All\n",
      "********************\n",
      "include: ratio_min_max -> feature_subset: ['ratio_min_max']. Accuracy: 74.8515895951\n",
      "include: difference_min_max -> feature_subset: ['ratio_min_max', 'difference_min_max']. Accuracy: 77.6801839105\n",
      "include: aggregate_2 -> feature_subset: ['ratio_min_max', 'difference_min_max', 'aggregate_2']. Accuracy: 77.7406596177\n",
      "include: ratio_difference_min_max -> feature_subset: ['ratio_min_max', 'difference_min_max', 'aggregate_2', 'ratio_difference_min_max']. Accuracy: 77.6606515071\n",
      "include: total_occupants -> feature_subset: ['ratio_min_max', 'difference_min_max', 'aggregate_2', 'ratio_difference_min_max', 'total_occupants']. Accuracy: 78.1755598861\n",
      "include: autocorr -> feature_subset: ['ratio_min_max', 'difference_min_max', 'aggregate_2', 'ratio_difference_min_max', 'total_occupants', 'autocorr']. Accuracy: 78.6249925625\n",
      "include: aggregate_4 -> feature_subset: ['ratio_min_max', 'difference_min_max', 'aggregate_2', 'ratio_difference_min_max', 'total_occupants', 'autocorr', 'aggregate_4']. Accuracy: 78.9686916339\n",
      "include: disag_fridge -> feature_subset: ['disag_fridge']. Accuracy: 75.2101770403\n",
      "include: fft_3 -> feature_subset: ['disag_fridge', 'fft_3']. Accuracy: 77.1770434938\n",
      "include: max_trend_12 -> feature_subset: ['disag_fridge', 'fft_3', 'max_trend_12']. Accuracy: 78.8182631963\n",
      "include: aggregate_2 -> feature_subset: ['disag_fridge', 'fft_3', 'max_trend_12', 'aggregate_2']. Accuracy: 79.8614762418\n",
      "include: aggregate_1 -> feature_subset: ['disag_fridge', 'fft_3', 'max_trend_12', 'aggregate_2', 'aggregate_1']. Accuracy: 79.8614762418\n",
      "include: aggregate_3 -> feature_subset: ['disag_fridge', 'fft_3', 'max_trend_12', 'aggregate_2', 'aggregate_1', 'aggregate_3']. Accuracy: 79.9034331281\n",
      "include: gt_1000 -> feature_subset: ['disag_fridge', 'fft_3', 'max_trend_12', 'aggregate_2', 'aggregate_1', 'aggregate_3', 'gt_1000']. Accuracy: 79.9034331281\n",
      "include: ratio_min_max -> feature_subset: ['ratio_min_max']. Accuracy: 75.6372441909\n",
      "include: gt_1000 -> feature_subset: ['ratio_min_max', 'gt_1000']. Accuracy: 77.5103163401\n",
      "include: max_seasonal_12 -> feature_subset: ['ratio_min_max', 'gt_1000', 'max_seasonal_12']. Accuracy: 77.7896593551\n",
      "include: aggregate_2 -> feature_subset: ['ratio_min_max', 'gt_1000', 'max_seasonal_12', 'aggregate_2']. Accuracy: 78.2955008538\n",
      "include: aggregate_4 -> feature_subset: ['ratio_min_max', 'gt_1000', 'max_seasonal_12', 'aggregate_2', 'aggregate_4']. Accuracy: 77.6325896587\n",
      "include: aggregate_3 -> feature_subset: ['ratio_min_max', 'gt_1000', 'max_seasonal_12', 'aggregate_2', 'aggregate_4', 'aggregate_3']. Accuracy: 78.4302651111\n",
      "include: aggregate_1 -> feature_subset: ['ratio_min_max', 'gt_1000', 'max_seasonal_12', 'aggregate_2', 'aggregate_4', 'aggregate_3', 'aggregate_1']. Accuracy: 78.1555427724\n",
      "include: fft_3 -> feature_subset: ['fft_3']. Accuracy: 76.2247763393\n",
      "include: max_trend_daily -> feature_subset: ['fft_3', 'max_trend_daily']. Accuracy: 78.6201469928\n",
      "include: cluster_small -> feature_subset: ['fft_3', 'max_trend_daily', 'cluster_small']. Accuracy: 79.0703471112\n",
      "include: max_seasonal_daily -> feature_subset: ['fft_3', 'max_trend_daily', 'cluster_small', 'max_seasonal_daily']. Accuracy: 79.5795880676\n",
      "include: ratio_min_max -> feature_subset: ['fft_3', 'max_trend_daily', 'cluster_small', 'max_seasonal_daily', 'ratio_min_max']. Accuracy: 80.4766722637\n",
      "include: difference_min_max -> feature_subset: ['fft_3', 'max_trend_daily', 'cluster_small', 'max_seasonal_daily', 'ratio_min_max', 'difference_min_max']. Accuracy: 81.0033382447\n",
      "include: aggregate_1 -> feature_subset: ['fft_3', 'max_trend_daily', 'cluster_small', 'max_seasonal_daily', 'ratio_min_max', 'difference_min_max', 'aggregate_1']. Accuracy: 81.1211222051\n",
      "include: fft_3 -> feature_subset: ['fft_3']. Accuracy: 77.7466948589\n",
      "include: max_trend_12 -> feature_subset: ['fft_3', 'max_trend_12']. Accuracy: 78.454544699\n",
      "include: gt_1000 -> feature_subset: ['fft_3', 'max_trend_12', 'gt_1000']. Accuracy: 78.7344360177\n",
      "include: max_seasonal_12 -> feature_subset: ['fft_3', 'max_trend_12', 'gt_1000', 'max_seasonal_12']. Accuracy: 79.0811319206\n",
      "include: max_seasonal_daily -> feature_subset: ['fft_3', 'max_trend_12', 'gt_1000', 'max_seasonal_12', 'max_seasonal_daily']. Accuracy: 78.9533587268\n",
      "include: lt_500 -> feature_subset: ['fft_3', 'max_trend_12', 'gt_1000', 'max_seasonal_12', 'max_seasonal_daily', 'lt_500']. Accuracy: 79.0017993356\n",
      "include: cluster_big -> feature_subset: ['fft_3', 'max_trend_12', 'gt_1000', 'max_seasonal_12', 'max_seasonal_daily', 'lt_500', 'cluster_big']. Accuracy: 79.1178793735\n",
      "include: fft_3 -> feature_subset: ['fft_3']. Accuracy: 77.7398354699\n",
      "include: max_seasonal_12 -> feature_subset: ['fft_3', 'max_seasonal_12']. Accuracy: 78.243905725\n",
      "include: aggregate_2 -> feature_subset: ['fft_3', 'max_seasonal_12', 'aggregate_2']. Accuracy: 78.5626018565\n",
      "include: gt_1000 -> feature_subset: ['fft_3', 'max_seasonal_12', 'aggregate_2', 'gt_1000']. Accuracy: 77.9457217229\n",
      "include: ratio_min_max -> feature_subset: ['fft_3', 'max_seasonal_12', 'aggregate_2', 'gt_1000', 'ratio_min_max']. Accuracy: 77.8141345303\n",
      "include: aggregate_4 -> feature_subset: ['fft_3', 'max_seasonal_12', 'aggregate_2', 'gt_1000', 'ratio_min_max', 'aggregate_4']. Accuracy: 77.6026918848\n",
      "include: aggregate_1 -> feature_subset: ['fft_3', 'max_seasonal_12', 'aggregate_2', 'gt_1000', 'ratio_min_max', 'aggregate_4', 'aggregate_1']. Accuracy: 77.7863922723\n",
      "4 ['fft_3', 'max_trend_daily', 'cluster_small', 'max_seasonal_daily', 'ratio_min_max', 'difference_min_max', 'aggregate_1'] 81.1211222051\n",
      "--------------------------------------------------------------------------------\n",
      "%%%%%%%%%%%%%%%%%%%%%%%%%%%%%%%%%%%%%%%%\n",
      "dr\n",
      "%%%%%%%%%%%%%%%%%%%%%%%%%%%%%%%%%%%%%%%%\n",
      "********************\n",
      "All\n",
      "********************\n",
      "include: max_seasonal_12 -> feature_subset: ['max_seasonal_12']. Accuracy: 40.7788665047\n",
      "include: lt_500 -> feature_subset: ['max_seasonal_12', 'lt_500']. Accuracy: 41.976949563\n",
      "include: ratio_min_max -> feature_subset: ['max_seasonal_12', 'lt_500', 'ratio_min_max']. Accuracy: 39.9734417761\n",
      "include: seasonal_energy_5 -> feature_subset: ['max_seasonal_12', 'lt_500', 'ratio_min_max', 'seasonal_energy_5']. Accuracy: 40.828405044\n",
      "include: aggregate_12 -> feature_subset: ['max_seasonal_12', 'lt_500', 'ratio_min_max', 'seasonal_energy_5', 'aggregate_12']. Accuracy: 42.0858928616\n",
      "include: bet_500_1000 -> feature_subset: ['max_seasonal_12', 'lt_500', 'ratio_min_max', 'seasonal_energy_5', 'aggregate_12', 'bet_500_1000']. Accuracy: 44.7838507936\n",
      "include: autocorr -> feature_subset: ['max_seasonal_12', 'lt_500', 'ratio_min_max', 'seasonal_energy_5', 'aggregate_12', 'bet_500_1000', 'autocorr']. Accuracy: 44.8097228583\n",
      "include: max_seasonal_12 -> feature_subset: ['max_seasonal_12']. Accuracy: 42.3101220974\n",
      "include: aggregate_12 -> feature_subset: ['max_seasonal_12', 'aggregate_12']. Accuracy: 43.641684677\n",
      "include: total_occupants -> feature_subset: ['max_seasonal_12', 'aggregate_12', 'total_occupants']. Accuracy: 44.1895966977\n",
      "include: aggregate_10 -> feature_subset: ['max_seasonal_12', 'aggregate_12', 'total_occupants', 'aggregate_10']. Accuracy: 44.0194652572\n",
      "include: aggregate_1 -> feature_subset: ['max_seasonal_12', 'aggregate_12', 'total_occupants', 'aggregate_10', 'aggregate_1']. Accuracy: 44.2534384766\n",
      "include: aggregate_3 -> feature_subset: ['max_seasonal_12', 'aggregate_12', 'total_occupants', 'aggregate_10', 'aggregate_1', 'aggregate_3']. Accuracy: 44.2140567718\n",
      "include: fft_4 -> feature_subset: ['max_seasonal_12', 'aggregate_12', 'total_occupants', 'aggregate_10', 'aggregate_1', 'aggregate_3', 'fft_4']. Accuracy: 44.8098265009\n",
      "include: total_occupants -> feature_subset: ['total_occupants']. Accuracy: 43.1134556685\n",
      "include: max_seasonal_12 -> feature_subset: ['total_occupants', 'max_seasonal_12']. Accuracy: 43.9362627519\n",
      "include: aggregate_12 -> feature_subset: ['total_occupants', 'max_seasonal_12', 'aggregate_12']. Accuracy: 46.12507886\n",
      "include: num_rooms -> feature_subset: ['total_occupants', 'max_seasonal_12', 'aggregate_12', 'num_rooms']. Accuracy: 47.2021596967\n",
      "include: aggregate_4 -> feature_subset: ['total_occupants', 'max_seasonal_12', 'aggregate_12', 'num_rooms', 'aggregate_4']. Accuracy: 47.0071375081\n",
      "include: max_seasonal_daily -> feature_subset: ['total_occupants', 'max_seasonal_12', 'aggregate_12', 'num_rooms', 'aggregate_4', 'max_seasonal_daily']. Accuracy: 47.1493569945\n",
      "include: bet_500_1000 -> feature_subset: ['total_occupants', 'max_seasonal_12', 'aggregate_12', 'num_rooms', 'aggregate_4', 'max_seasonal_daily', 'bet_500_1000']. Accuracy: 47.722866617\n",
      "include: max_seasonal_12 -> feature_subset: ['max_seasonal_12']. Accuracy: 43.321217415\n",
      "include: total_occupants -> feature_subset: ['max_seasonal_12', 'total_occupants']. Accuracy: 43.8928449795\n",
      "include: aggregate_12 -> feature_subset: ['max_seasonal_12', 'total_occupants', 'aggregate_12']. Accuracy: 46.2083413742\n",
      "include: seasonal_energy_5 -> feature_subset: ['max_seasonal_12', 'total_occupants', 'aggregate_12', 'seasonal_energy_5']. Accuracy: 46.761247757\n",
      "include: num_rooms -> feature_subset: ['max_seasonal_12', 'total_occupants', 'aggregate_12', 'seasonal_energy_5', 'num_rooms']. Accuracy: 46.5021941773\n",
      "include: ratio_min_max -> feature_subset: ['max_seasonal_12', 'total_occupants', 'aggregate_12', 'seasonal_energy_5', 'num_rooms', 'ratio_min_max']. Accuracy: 46.5773074104\n",
      "include: gt_1000 -> feature_subset: ['max_seasonal_12', 'total_occupants', 'aggregate_12', 'seasonal_energy_5', 'num_rooms', 'ratio_min_max', 'gt_1000']. Accuracy: 46.7133731315\n",
      "include: disag_fridge -> feature_subset: ['disag_fridge']. Accuracy: 44.3453488693\n",
      "include: aggregate_12 -> feature_subset: ['disag_fridge', 'aggregate_12']. Accuracy: 44.1774458908\n",
      "include: total_occupants -> feature_subset: ['disag_fridge', 'aggregate_12', 'total_occupants']. Accuracy: 45.1770255178\n",
      "include: lt_500 -> feature_subset: ['disag_fridge', 'aggregate_12', 'total_occupants', 'lt_500']. Accuracy: 46.1999950063\n",
      "include: aggregate_4 -> feature_subset: ['disag_fridge', 'aggregate_12', 'total_occupants', 'lt_500', 'aggregate_4']. Accuracy: 45.9311283607\n",
      "include: autocorr -> feature_subset: ['disag_fridge', 'aggregate_12', 'total_occupants', 'lt_500', 'aggregate_4', 'autocorr']. Accuracy: 45.7288973297\n",
      "include: bet_500_1000 -> feature_subset: ['disag_fridge', 'aggregate_12', 'total_occupants', 'lt_500', 'aggregate_4', 'autocorr', 'bet_500_1000']. Accuracy: 45.5721178536\n",
      "include: aggregate_10 -> feature_subset: ['aggregate_10']. Accuracy: 43.900832513\n",
      "include: total_occupants -> feature_subset: ['aggregate_10', 'total_occupants']. Accuracy: 44.7218103236\n",
      "include: aggregate_12 -> feature_subset: ['aggregate_10', 'total_occupants', 'aggregate_12']. Accuracy: 45.931848943\n",
      "include: lt_500 -> feature_subset: ['aggregate_10', 'total_occupants', 'aggregate_12', 'lt_500']. Accuracy: 46.1673379307\n",
      "include: aggregate_11 -> feature_subset: ['aggregate_10', 'total_occupants', 'aggregate_12', 'lt_500', 'aggregate_11']. Accuracy: 46.0801876469\n",
      "include: aggregate_1 -> feature_subset: ['aggregate_10', 'total_occupants', 'aggregate_12', 'lt_500', 'aggregate_11', 'aggregate_1']. Accuracy: 46.1665104588\n",
      "include: bet_500_1000 -> feature_subset: ['aggregate_10', 'total_occupants', 'aggregate_12', 'lt_500', 'aggregate_11', 'aggregate_1', 'bet_500_1000']. Accuracy: 45.8937058781\n",
      "3 ['total_occupants', 'max_seasonal_12', 'aggregate_12', 'num_rooms', 'aggregate_4', 'max_seasonal_daily', 'bet_500_1000'] 47.722866617\n",
      "--------------------------------------------------------------------------------\n",
      "%%%%%%%%%%%%%%%%%%%%%%%%%%%%%%%%%%%%%%%%\n",
      "wm\n",
      "%%%%%%%%%%%%%%%%%%%%%%%%%%%%%%%%%%%%%%%%\n",
      "********************\n",
      "All\n",
      "********************\n",
      "include: aggregate_11 -> feature_subset: ['aggregate_11']. Accuracy: 62.2737488854\n",
      "include: aggregate_10 -> feature_subset: ['aggregate_11', 'aggregate_10']. Accuracy: 64.3631097671\n",
      "include: bet_500_1000 -> feature_subset: ['aggregate_11', 'aggregate_10', 'bet_500_1000']. Accuracy: 64.1395984658\n",
      "include: area -> feature_subset: ['aggregate_11', 'aggregate_10', 'bet_500_1000', 'area']. Accuracy: 64.4147381989\n",
      "include: aggregate_3 -> feature_subset: ['aggregate_11', 'aggregate_10', 'bet_500_1000', 'area', 'aggregate_3']. Accuracy: 65.5353832212\n",
      "include: aggregate_4 -> feature_subset: ['aggregate_11', 'aggregate_10', 'bet_500_1000', 'area', 'aggregate_3', 'aggregate_4']. Accuracy: 65.5353832212\n",
      "include: aggregate_5 -> feature_subset: ['aggregate_11', 'aggregate_10', 'bet_500_1000', 'area', 'aggregate_3', 'aggregate_4', 'aggregate_5']. Accuracy: 64.9540348181\n",
      "include: cluster_big -> feature_subset: ['cluster_big']. Accuracy: 63.5222826826\n",
      "include: bet_500_1000 -> feature_subset: ['cluster_big', 'bet_500_1000']. Accuracy: 63.6442159597\n",
      "include: aggregate_4 -> feature_subset: ['cluster_big', 'bet_500_1000', 'aggregate_4']. Accuracy: 63.97231494\n",
      "include: gt_1000 -> feature_subset: ['cluster_big', 'bet_500_1000', 'aggregate_4', 'gt_1000']. Accuracy: 64.1775935694\n",
      "include: area -> feature_subset: ['cluster_big', 'bet_500_1000', 'aggregate_4', 'gt_1000', 'area']. Accuracy: 64.1182830958\n",
      "include: disag_fridge -> feature_subset: ['cluster_big', 'bet_500_1000', 'aggregate_4', 'gt_1000', 'area', 'disag_fridge']. Accuracy: 65.2909136723\n",
      "include: aggregate_12 -> feature_subset: ['cluster_big', 'bet_500_1000', 'aggregate_4', 'gt_1000', 'area', 'disag_fridge', 'aggregate_12']. Accuracy: 65.3583066937\n",
      "include: cluster_big -> feature_subset: ['cluster_big']. Accuracy: 60.9240161976\n",
      "include: area -> feature_subset: ['cluster_big', 'area']. Accuracy: 62.7925520404\n",
      "include: max_trend_daily -> feature_subset: ['cluster_big', 'area', 'max_trend_daily']. Accuracy: 63.4496759937\n",
      "include: aggregate_4 -> feature_subset: ['cluster_big', 'area', 'max_trend_daily', 'aggregate_4']. Accuracy: 64.1540898382\n",
      "include: autocorr -> feature_subset: ['cluster_big', 'area', 'max_trend_daily', 'aggregate_4', 'autocorr']. Accuracy: 64.290400661\n",
      "include: aggregate_12 -> feature_subset: ['cluster_big', 'area', 'max_trend_daily', 'aggregate_4', 'autocorr', 'aggregate_12']. Accuracy: 64.3925978386\n",
      "include: gt_1000 -> feature_subset: ['cluster_big', 'area', 'max_trend_daily', 'aggregate_4', 'autocorr', 'aggregate_12', 'gt_1000']. Accuracy: 64.0911935597\n",
      "include: aggregate_7 -> feature_subset: ['aggregate_7']. Accuracy: 60.2151535945\n",
      "include: area -> feature_subset: ['aggregate_7', 'area']. Accuracy: 60.9335067287\n",
      "include: aggregate_4 -> feature_subset: ['aggregate_7', 'area', 'aggregate_4']. Accuracy: 62.324581292\n",
      "include: bet_500_1000 -> feature_subset: ['aggregate_7', 'area', 'aggregate_4', 'bet_500_1000']. Accuracy: 62.2644365367\n",
      "include: max_trend_daily -> feature_subset: ['aggregate_7', 'area', 'aggregate_4', 'bet_500_1000', 'max_trend_daily']. Accuracy: 62.2292596683\n",
      "include: gt_1000 -> feature_subset: ['aggregate_7', 'area', 'aggregate_4', 'bet_500_1000', 'max_trend_daily', 'gt_1000']. Accuracy: 62.0787421338\n",
      "include: autocorr -> feature_subset: ['aggregate_7', 'area', 'aggregate_4', 'bet_500_1000', 'max_trend_daily', 'gt_1000', 'autocorr']. Accuracy: 62.1532308451\n",
      "include: area -> feature_subset: ['area']. Accuracy: 59.5734659992\n",
      "include: max_trend_daily -> feature_subset: ['area', 'max_trend_daily']. Accuracy: 62.0094669826\n",
      "include: aggregate_2 -> feature_subset: ['area', 'max_trend_daily', 'aggregate_2']. Accuracy: 62.2766871438\n",
      "include: bet_500_1000 -> feature_subset: ['area', 'max_trend_daily', 'aggregate_2', 'bet_500_1000']. Accuracy: 62.0907733906\n",
      "include: fft_1 -> feature_subset: ['area', 'max_trend_daily', 'aggregate_2', 'bet_500_1000', 'fft_1']. Accuracy: 61.8961279893\n",
      "include: autocorr -> feature_subset: ['area', 'max_trend_daily', 'aggregate_2', 'bet_500_1000', 'fft_1', 'autocorr']. Accuracy: 61.8772259266\n",
      "include: aggregate_1 -> feature_subset: ['area', 'max_trend_daily', 'aggregate_2', 'bet_500_1000', 'fft_1', 'autocorr', 'aggregate_1']. Accuracy: 61.6803372584\n",
      "include: area -> feature_subset: ['area']. Accuracy: 60.0456763106\n",
      "include: aggregate_10 -> feature_subset: ['area', 'aggregate_10']. Accuracy: 60.3432930849\n",
      "include: aggregate_2 -> feature_subset: ['area', 'aggregate_10', 'aggregate_2']. Accuracy: 60.5241932361\n",
      "include: bet_500_1000 -> feature_subset: ['area', 'aggregate_10', 'aggregate_2', 'bet_500_1000']. Accuracy: 60.5326178383\n",
      "include: autocorr -> feature_subset: ['area', 'aggregate_10', 'aggregate_2', 'bet_500_1000', 'autocorr']. Accuracy: 60.1378729269\n",
      "include: difference_min_max -> feature_subset: ['area', 'aggregate_10', 'aggregate_2', 'bet_500_1000', 'autocorr', 'difference_min_max']. Accuracy: 60.3281445607\n",
      "include: total_occupants -> feature_subset: ['area', 'aggregate_10', 'aggregate_2', 'bet_500_1000', 'autocorr', 'difference_min_max', 'total_occupants']. Accuracy: 60.7150327848\n",
      "1 ['aggregate_11', 'aggregate_10', 'bet_500_1000', 'area', 'aggregate_3'] 65.5353832212\n",
      "--------------------------------------------------------------------------------\n",
      "%%%%%%%%%%%%%%%%%%%%%%%%%%%%%%%%%%%%%%%%\n",
      "dw\n",
      "%%%%%%%%%%%%%%%%%%%%%%%%%%%%%%%%%%%%%%%%\n",
      "********************\n",
      "All\n",
      "********************\n",
      "include: aggregate_6 -> feature_subset: ['aggregate_6']. Accuracy: 40.5501576357\n",
      "include: area -> feature_subset: ['aggregate_6', 'area']. Accuracy: 40.7525144179\n",
      "include: seasonal_energy_5 -> feature_subset: ['aggregate_6', 'area', 'seasonal_energy_5']. Accuracy: 41.6296559716\n",
      "include: max_trend_12 -> feature_subset: ['aggregate_6', 'area', 'seasonal_energy_5', 'max_trend_12']. Accuracy: 42.1761242443\n",
      "include: autocorr -> feature_subset: ['aggregate_6', 'area', 'seasonal_energy_5', 'max_trend_12', 'autocorr']. Accuracy: 42.1989374544\n",
      "include: max_trend_daily -> feature_subset: ['aggregate_6', 'area', 'seasonal_energy_5', 'max_trend_12', 'autocorr', 'max_trend_daily']. Accuracy: 42.6414605464\n",
      "include: bet_500_1000 -> feature_subset: ['aggregate_6', 'area', 'seasonal_energy_5', 'max_trend_12', 'autocorr', 'max_trend_daily', 'bet_500_1000']. Accuracy: 42.5530148579\n",
      "include: aggregate_5 -> feature_subset: ['aggregate_5']. Accuracy: 41.1515767396\n",
      "include: lt_500 -> feature_subset: ['aggregate_5', 'lt_500']. Accuracy: 42.88028835\n",
      "include: aggregate_6 -> feature_subset: ['aggregate_5', 'lt_500', 'aggregate_6']. Accuracy: 42.282737946\n",
      "include: bet_500_1000 -> feature_subset: ['aggregate_5', 'lt_500', 'aggregate_6', 'bet_500_1000']. Accuracy: 42.4119654097\n",
      "include: aggregate_9 -> feature_subset: ['aggregate_5', 'lt_500', 'aggregate_6', 'bet_500_1000', 'aggregate_9']. Accuracy: 42.5936983387\n",
      "include: fft_2 -> feature_subset: ['aggregate_5', 'lt_500', 'aggregate_6', 'bet_500_1000', 'aggregate_9', 'fft_2']. Accuracy: 43.2393049547\n",
      "include: cluster_small -> feature_subset: ['aggregate_5', 'lt_500', 'aggregate_6', 'bet_500_1000', 'aggregate_9', 'fft_2', 'cluster_small']. Accuracy: 44.2720223476\n",
      "include: aggregate_8 -> feature_subset: ['aggregate_8']. Accuracy: 41.8858849741\n",
      "include: total_occupants -> feature_subset: ['aggregate_8', 'total_occupants']. Accuracy: 42.7315846916\n",
      "include: aggregate_6 -> feature_subset: ['aggregate_8', 'total_occupants', 'aggregate_6']. Accuracy: 43.7034520413\n",
      "include: aggregate_12 -> feature_subset: ['aggregate_8', 'total_occupants', 'aggregate_6', 'aggregate_12']. Accuracy: 44.5448808413\n",
      "include: bet_500_1000 -> feature_subset: ['aggregate_8', 'total_occupants', 'aggregate_6', 'aggregate_12', 'bet_500_1000']. Accuracy: 44.6697394483\n",
      "include: area -> feature_subset: ['aggregate_8', 'total_occupants', 'aggregate_6', 'aggregate_12', 'bet_500_1000', 'area']. Accuracy: 43.6863214326\n",
      "include: aggregate_4 -> feature_subset: ['aggregate_8', 'total_occupants', 'aggregate_6', 'aggregate_12', 'bet_500_1000', 'area', 'aggregate_4']. Accuracy: 43.414622046\n",
      "include: aggregate_10 -> feature_subset: ['aggregate_10']. Accuracy: 43.3985622703\n",
      "include: total_occupants -> feature_subset: ['aggregate_10', 'total_occupants']. Accuracy: 43.5310170054\n",
      "include: aggregate_6 -> feature_subset: ['aggregate_10', 'total_occupants', 'aggregate_6']. Accuracy: 44.1876884166\n",
      "include: aggregate_9 -> feature_subset: ['aggregate_10', 'total_occupants', 'aggregate_6', 'aggregate_9']. Accuracy: 44.9291755124\n",
      "include: bet_500_1000 -> feature_subset: ['aggregate_10', 'total_occupants', 'aggregate_6', 'aggregate_9', 'bet_500_1000']. Accuracy: 44.660183768\n",
      "include: aggregate_8 -> feature_subset: ['aggregate_10', 'total_occupants', 'aggregate_6', 'aggregate_9', 'bet_500_1000', 'aggregate_8']. Accuracy: 44.3112666354\n",
      "include: fft_5 -> feature_subset: ['aggregate_10', 'total_occupants', 'aggregate_6', 'aggregate_9', 'bet_500_1000', 'aggregate_8', 'fft_5']. Accuracy: 43.459041589\n",
      "include: aggregate_10 -> feature_subset: ['aggregate_10']. Accuracy: 43.4635520342\n",
      "include: total_occupants -> feature_subset: ['aggregate_10', 'total_occupants']. Accuracy: 42.7594733546\n",
      "include: aggregate_6 -> feature_subset: ['aggregate_10', 'total_occupants', 'aggregate_6']. Accuracy: 42.3225980413\n",
      "include: difference_min_max -> feature_subset: ['aggregate_10', 'total_occupants', 'aggregate_6', 'difference_min_max']. Accuracy: 43.3810644818\n",
      "include: aggregate_2 -> feature_subset: ['aggregate_10', 'total_occupants', 'aggregate_6', 'difference_min_max', 'aggregate_2']. Accuracy: 43.6223922905\n",
      "include: gt_1000 -> feature_subset: ['aggregate_10', 'total_occupants', 'aggregate_6', 'difference_min_max', 'aggregate_2', 'gt_1000']. Accuracy: 43.8761021822\n",
      "include: aggregate_1 -> feature_subset: ['aggregate_10', 'total_occupants', 'aggregate_6', 'difference_min_max', 'aggregate_2', 'gt_1000', 'aggregate_1']. Accuracy: 43.4506571032\n",
      "include: aggregate_10 -> feature_subset: ['aggregate_10']. Accuracy: 42.0236288109\n",
      "include: total_occupants -> feature_subset: ['aggregate_10', 'total_occupants']. Accuracy: 41.0673283216\n",
      "include: aggregate_6 -> feature_subset: ['aggregate_10', 'total_occupants', 'aggregate_6']. Accuracy: 41.6295751986\n",
      "include: bet_500_1000 -> feature_subset: ['aggregate_10', 'total_occupants', 'aggregate_6', 'bet_500_1000']. Accuracy: 42.5049569333\n",
      "include: difference_min_max -> feature_subset: ['aggregate_10', 'total_occupants', 'aggregate_6', 'bet_500_1000', 'difference_min_max']. Accuracy: 42.1209085405\n",
      "include: fft_2 -> feature_subset: ['aggregate_10', 'total_occupants', 'aggregate_6', 'bet_500_1000', 'difference_min_max', 'fft_2']. Accuracy: 42.3232739223\n",
      "include: aggregate_8 -> feature_subset: ['aggregate_10', 'total_occupants', 'aggregate_6', 'bet_500_1000', 'difference_min_max', 'fft_2', 'aggregate_8']. Accuracy: 42.7225181883\n",
      "4 ['aggregate_10', 'total_occupants', 'aggregate_6', 'aggregate_9'] 44.9291755124\n",
      "--------------------------------------------------------------------------------\n"
     ]
    }
   ],
   "source": [
    "out_mean, optimal_dict_mean = find_optimal_features(df, dfc, all_homes, appliance_min, national_average, \n",
    "                                                        [\"hvac\",\"light\",\"fridge\",\"dr\",\"wm\",\"dw\"], {\"All\":feature_map[\"All\"]},\n",
    "                          NUM_NEIGHBOURS_MAX=7, F_length_max=7, metric=\"mean\",\n",
    "                          train_outlier=True, test_outlier=False, outlier_features=None, outlier_fraction=0.1,\n",
    "                     print_steps=True)"
   ]
  },
  {
   "cell_type": "code",
   "execution_count": 9,
   "metadata": {
    "collapsed": false
   },
   "outputs": [],
   "source": [
    "import json\n",
    "json.dump(optimal_dict_mean, open(\"without-test-optimal_dict.json\",\"w\"))\n",
    "json.dump(out_mean, open(\"without-test-out.json\",\"w\"))\n"
   ]
  },
  {
   "cell_type": "markdown",
   "metadata": {},
   "source": [
    "### Storing the predictions in pd.Panel"
   ]
  },
  {
   "cell_type": "code",
   "execution_count": 11,
   "metadata": {
    "collapsed": false
   },
   "outputs": [
    {
     "name": "stdout",
     "output_type": "stream",
     "text": [
      "fridge\n",
      "hvac\n",
      "dw\n",
      "dr\n",
      "wm\n",
      "light\n"
     ]
    }
   ],
   "source": [
    "predictions = {}\n",
    "for appliance in [\"fridge\",\"hvac\",\"dw\",\"dr\",\"wm\",\"light\"]:\n",
    "    print appliance\n",
    "    best_feature = optimal_dict_mean[appliance][\"All\"]['f']\n",
    "    best_k = optimal_dict_mean[appliance][\"All\"]['k']\n",
    "    temp= create_predictions(df, dfc, all_homes, appliance_min, \n",
    "                                              national_average, appliance=appliance,\n",
    "                                                feature=best_feature, NUM_NEIGHBOURS=best_k,\n",
    "                                                   train_outlier=True, test_outlier=False, \n",
    "                                                outlier_features=None,\n",
    "                                                outlier_fraction=0.1)\n",
    "    errors = {}\n",
    "    if appliance ==\"hvac\":\n",
    "        start_month, end_month = 5, 11\n",
    "    else:\n",
    "        start_month, end_month = 1, 13\n",
    "    for i in range(start_month, end_month):\n",
    "        errors[i] = percentage_error(temp[i][\"gt\"], temp[i][\"pred\"])\n",
    "        error_df = pd.DataFrame(errors)\n",
    "        accur_df = 100-error_df\n",
    "        accur_df[accur_df<0]=0\n",
    "\n",
    "    tdf = accur_df\n",
    "    if appliance ==\"hvac\":\n",
    "        for home in [624, 1953, 6636, 6836, 7769, 9922]:\n",
    "            tdf.loc[home, 5]=np.NaN\n",
    "            tdf.loc[home, 10]=np.NaN\n",
    "            \n",
    "    predictions[appliance]=tdf.T"
   ]
  },
  {
   "cell_type": "code",
   "execution_count": 12,
   "metadata": {
    "collapsed": false
   },
   "outputs": [],
   "source": [
    "p = pd.Panel(predictions)"
   ]
  },
  {
   "cell_type": "code",
   "execution_count": 13,
   "metadata": {
    "collapsed": false
   },
   "outputs": [],
   "source": [
    "accuracy_store = pd.HDFStore(\"accuracy.h5\")"
   ]
  },
  {
   "cell_type": "code",
   "execution_count": 14,
   "metadata": {
    "collapsed": false
   },
   "outputs": [],
   "source": [
    "accuracy_store.append(\"N-NILM\", p)"
   ]
  },
  {
   "cell_type": "code",
   "execution_count": 15,
   "metadata": {
    "collapsed": true
   },
   "outputs": [],
   "source": [
    "accuracy_store.close()"
   ]
  },
  {
   "cell_type": "code",
   "execution_count": 16,
   "metadata": {
    "collapsed": true
   },
   "outputs": [],
   "source": [
    "appliance=\"hvac\"\n",
    "best_feature = optimal_dict_mean[appliance][\"All\"]['f']\n",
    "best_k = optimal_dict_mean[appliance][\"All\"]['k']\n",
    "temp= create_predictions(df, dfc, all_homes, appliance_min, \n",
    "                                          national_average, appliance=appliance,\n",
    "                                            feature=best_feature, NUM_NEIGHBOURS=best_k,\n",
    "                                               train_outlier=True, test_outlier=False, \n",
    "                                            outlier_features=None,\n",
    "                                            outlier_fraction=0.1)\n",
    "errors = {}\n",
    "if appliance ==\"hvac\":\n",
    "    start_month, end_month = 5, 11\n",
    "else:\n",
    "    start_month, end_month = 1, 13\n",
    "for i in range(start_month, end_month):\n",
    "    errors[i] = percentage_error(temp[i][\"gt\"], temp[i][\"pred\"])\n",
    "    error_df = pd.DataFrame(errors)\n",
    "    accur_df = 100-error_df\n",
    "    accur_df[accur_df<0]=0\n",
    "\n",
    "tdf = accur_df\n",
    "if appliance ==\"hvac\":\n",
    "    for home in [624, 1953, 6636, 6836, 7769, 9922]:\n",
    "        tdf.loc[home, 5]=np.NaN\n",
    "        tdf.loc[home, 10]=np.NaN\n",
    "\n"
   ]
  },
  {
   "cell_type": "code",
   "execution_count": 21,
   "metadata": {
    "collapsed": false
   },
   "outputs": [
    {
     "data": {
      "text/plain": [
       "79.78658674478605"
      ]
     },
     "execution_count": 21,
     "metadata": {},
     "output_type": "execute_result"
    }
   ],
   "source": [
    "tdf.mean().mean()"
   ]
  },
  {
   "cell_type": "code",
   "execution_count": null,
   "metadata": {
    "collapsed": true
   },
   "outputs": [],
   "source": []
  }
 ],
 "metadata": {
  "kernelspec": {
   "display_name": "Python 2",
   "language": "python",
   "name": "python2"
  },
  "language_info": {
   "codemirror_mode": {
    "name": "ipython",
    "version": 2
   },
   "file_extension": ".py",
   "mimetype": "text/x-python",
   "name": "python",
   "nbconvert_exporter": "python",
   "pygments_lexer": "ipython2",
   "version": "2.7.11"
  }
 },
 "nbformat": 4,
 "nbformat_minor": 0
}
