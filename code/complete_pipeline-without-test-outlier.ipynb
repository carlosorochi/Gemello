{
 "cells": [
  {
   "cell_type": "markdown",
   "metadata": {},
   "source": [
    "### Load data set with features"
   ]
  },
  {
   "cell_type": "code",
   "execution_count": 1,
   "metadata": {
    "collapsed": false
   },
   "outputs": [
    {
     "name": "stderr",
     "output_type": "stream",
     "text": [
      "Vendor:  Continuum Analytics, Inc.\n",
      "Package: mkl\n",
      "Message: trial mode expires in 28 days\n"
     ]
    }
   ],
   "source": [
    "from create_df import read_df\n",
    "df, dfc, all_homes, appliance_min, national_average = read_df()"
   ]
  },
  {
   "cell_type": "code",
   "execution_count": 2,
   "metadata": {
    "collapsed": false
   },
   "outputs": [],
   "source": [
    "import numpy as np\n",
    "import matplotlib.pyplot as plt\n",
    "%matplotlib inline\n"
   ]
  },
  {
   "cell_type": "code",
   "execution_count": 3,
   "metadata": {
    "collapsed": false
   },
   "outputs": [],
   "source": [
    "run all_functions.py"
   ]
  },
  {
   "cell_type": "code",
   "execution_count": 4,
   "metadata": {
    "collapsed": false
   },
   "outputs": [],
   "source": [
    "run features.py"
   ]
  },
  {
   "cell_type": "code",
   "execution_count": null,
   "metadata": {
    "collapsed": true
   },
   "outputs": [],
   "source": [
    "import json"
   ]
  },
  {
   "cell_type": "markdown",
   "metadata": {},
   "source": [
    "#### First round of CV, finding optimal features maximising median accuracy"
   ]
  },
  {
   "cell_type": "code",
   "execution_count": null,
   "metadata": {
    "collapsed": false
   },
   "outputs": [
    {
     "name": "stdout",
     "output_type": "stream",
     "text": [
      "%%%%%%%%%%%%%%%%%%%%%%%%%%%%%%%%%%%%%%%%\n",
      "hvac\n",
      "%%%%%%%%%%%%%%%%%%%%%%%%%%%%%%%%%%%%%%%%\n",
      "********************\n",
      "All\n",
      "********************\n",
      "include: aggregate_5 -> feature_subset: ['aggregate_5']. Accuracy: 75.9382086743\n",
      "include: aggregate_7 -> feature_subset: ['aggregate_5', 'aggregate_7']. Accuracy: 77.5116843787"
     ]
    }
   ],
   "source": [
    "out_mean, optimal_dict_mean = find_optimal_features(df, dfc, all_homes, appliance_min, national_average, \n",
    "                                                        [\"hvac\",\"light\",\"fridge\",\"dr\",\"wm\",\"dw\"],\n",
    "                                                    {\"All\":feature_map[\"Monthly+Static\"]},\n",
    "                          NUM_NEIGHBOURS_MAX=7, F_length_max=7, metric=\"mean\",\n",
    "                          train_outlier=True, test_outlier=False, outlier_features=None, outlier_fraction=0.1,\n",
    "                     print_steps=True)"
   ]
  },
  {
   "cell_type": "code",
   "execution_count": 34,
   "metadata": {
    "collapsed": false
   },
   "outputs": [],
   "source": [
    "import json\n",
    "json.dump(optimal_dict_mean, open(\"without-test-optimal_dict.json\",\"w\"))\n",
    "json.dump(out_mean, open(\"without-test-out.json\",\"w\"))"
   ]
  },
  {
   "cell_type": "markdown",
   "metadata": {},
   "source": [
    "### Storing the predictions in pd.Panel"
   ]
  },
  {
   "cell_type": "code",
   "execution_count": 35,
   "metadata": {
    "collapsed": false
   },
   "outputs": [
    {
     "name": "stdout",
     "output_type": "stream",
     "text": [
      "fridge\n",
      "hvac\n",
      "dw\n",
      "dr\n",
      "wm\n",
      "light\n"
     ]
    }
   ],
   "source": [
    "predictions = {}\n",
    "for appliance in [\"fridge\",\"hvac\",\"dw\",\"dr\",\"wm\",\"light\"]:\n",
    "    print appliance\n",
    "    best_feature = optimal_dict_mean[appliance][\"All\"]['f']\n",
    "    best_k = optimal_dict_mean[appliance][\"All\"]['k']\n",
    "    temp= create_predictions(df, dfc, all_homes, appliance_min, \n",
    "                                              national_average, appliance=appliance,\n",
    "                                                feature=best_feature, NUM_NEIGHBOURS=best_k,\n",
    "                                                   train_outlier=True, test_outlier=False, \n",
    "                                                outlier_features=None,\n",
    "                                                outlier_fraction=0.1)\n",
    "    errors = {}\n",
    "    if appliance ==\"hvac\":\n",
    "        start_month, end_month = 5, 11\n",
    "    else:\n",
    "        start_month, end_month = 1, 13\n",
    "    for i in range(start_month, end_month):\n",
    "        errors[i] = percentage_error(temp[i][\"gt\"], temp[i][\"pred\"])\n",
    "        error_df = pd.DataFrame(errors)\n",
    "        accur_df = 100-error_df\n",
    "        accur_df[accur_df<0]=0\n",
    "\n",
    "    tdf = accur_df\n",
    "    if appliance ==\"hvac\":\n",
    "        for home in [624, 1953, 6636, 6836, 7769, 9922]:\n",
    "            tdf.loc[home, 5]=np.NaN\n",
    "            tdf.loc[home, 10]=np.NaN\n",
    "            \n",
    "    predictions[appliance]=tdf.T"
   ]
  },
  {
   "cell_type": "code",
   "execution_count": 36,
   "metadata": {
    "collapsed": false
   },
   "outputs": [],
   "source": [
    "p = pd.Panel(predictions)"
   ]
  },
  {
   "cell_type": "code",
   "execution_count": 42,
   "metadata": {
    "collapsed": false
   },
   "outputs": [
    {
     "data": {
      "text/plain": [
       "79.247215196566259"
      ]
     },
     "execution_count": 42,
     "metadata": {},
     "output_type": "execute_result"
    }
   ],
   "source": [
    "predictions[\"hvac\"].mean().mean()"
   ]
  },
  {
   "cell_type": "code",
   "execution_count": 37,
   "metadata": {
    "collapsed": false
   },
   "outputs": [],
   "source": [
    "accuracy_store = pd.HDFStore(\"accuracy.h5\")"
   ]
  },
  {
   "cell_type": "code",
   "execution_count": 38,
   "metadata": {
    "collapsed": false
   },
   "outputs": [],
   "source": [
    "accuracy_store.append(\"N-NILM\", p)"
   ]
  },
  {
   "cell_type": "code",
   "execution_count": 39,
   "metadata": {
    "collapsed": true
   },
   "outputs": [],
   "source": [
    "accuracy_store.close()"
   ]
  },
  {
   "cell_type": "code",
   "execution_count": 23,
   "metadata": {
    "collapsed": true
   },
   "outputs": [],
   "source": [
    "appliance=\"fridge\"\n",
    "best_feature = optimal_dict_mean[appliance][\"All\"]['f']\n",
    "best_k = optimal_dict_mean[appliance][\"All\"]['k']\n",
    "temp= create_predictions(df, dfc, all_homes, appliance_min, \n",
    "                                          national_average, appliance=appliance,\n",
    "                                            feature=best_feature, NUM_NEIGHBOURS=best_k,\n",
    "                                               train_outlier=True, test_outlier=False, \n",
    "                                            outlier_features=None,\n",
    "                                            outlier_fraction=0.1)\n",
    "errors = {}\n",
    "if appliance ==\"hvac\":\n",
    "    start_month, end_month = 5, 11\n",
    "else:\n",
    "    start_month, end_month = 1, 13\n",
    "for i in range(start_month, end_month):\n",
    "    errors[i] = percentage_error(temp[i][\"gt\"], temp[i][\"pred\"])\n",
    "    error_df = pd.DataFrame(errors)\n",
    "    accur_df = 100-error_df\n",
    "    accur_df[accur_df<0]=0\n",
    "\n",
    "tdf = accur_df\n",
    "if appliance ==\"hvac\":\n",
    "    for home in [624, 1953, 6636, 6836, 7769, 9922]:\n",
    "        tdf.loc[home, 5]=np.NaN\n",
    "        tdf.loc[home, 10]=np.NaN\n",
    "\n"
   ]
  },
  {
   "cell_type": "code",
   "execution_count": 27,
   "metadata": {
    "collapsed": false
   },
   "outputs": [
    {
     "data": {
      "text/plain": [
       "0"
      ]
     },
     "execution_count": 27,
     "metadata": {},
     "output_type": "execute_result"
    }
   ],
   "source": [
    "tdf.isnull().sum().sum()"
   ]
  },
  {
   "cell_type": "code",
   "execution_count": null,
   "metadata": {
    "collapsed": true
   },
   "outputs": [],
   "source": []
  }
 ],
 "metadata": {
  "kernelspec": {
   "display_name": "Python 2",
   "language": "python",
   "name": "python2"
  },
  "language_info": {
   "codemirror_mode": {
    "name": "ipython",
    "version": 2
   },
   "file_extension": ".py",
   "mimetype": "text/x-python",
   "name": "python",
   "nbconvert_exporter": "python",
   "pygments_lexer": "ipython2",
   "version": "2.7.11"
  }
 },
 "nbformat": 4,
 "nbformat_minor": 0
}
