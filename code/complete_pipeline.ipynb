{
 "cells": [
  {
   "cell_type": "markdown",
   "metadata": {},
   "source": [
    "### Load data set with features"
   ]
  },
  {
   "cell_type": "code",
   "execution_count": 196,
   "metadata": {
    "collapsed": false
   },
   "outputs": [],
   "source": [
    "from create_df import read_df\n",
    "df, dfc, all_homes, appliance_min, national_average = read_df()"
   ]
  },
  {
   "cell_type": "code",
   "execution_count": 197,
   "metadata": {
    "collapsed": false
   },
   "outputs": [],
   "source": [
    "import numpy as np\n",
    "import matplotlib.pyplot as plt\n",
    "%matplotlib inline\n",
    "plt.style.use('fivethirtyeight')"
   ]
  },
  {
   "cell_type": "code",
   "execution_count": 232,
   "metadata": {
    "collapsed": false
   },
   "outputs": [
    {
     "name": "stderr",
     "output_type": "stream",
     "text": [
      "/Users/nipunbatra/git/monthly-disaggregation/code/all_functions.py:260: SyntaxWarning: name 'k' is assigned to before global declaration\n",
      "  global k\n"
     ]
    }
   ],
   "source": [
    "run all_functions.py"
   ]
  },
  {
   "cell_type": "code",
   "execution_count": 230,
   "metadata": {
    "collapsed": false
   },
   "outputs": [],
   "source": [
    "run features.py"
   ]
  },
  {
   "cell_type": "code",
   "execution_count": 200,
   "metadata": {
    "collapsed": true
   },
   "outputs": [],
   "source": [
    "import json"
   ]
  },
  {
   "cell_type": "code",
   "execution_count": 201,
   "metadata": {
    "collapsed": true
   },
   "outputs": [],
   "source": [
    "optimal_dict= json.load(open(\"optimal_dict.json\",\"r\"))"
   ]
  },
  {
   "cell_type": "code",
   "execution_count": 209,
   "metadata": {
    "collapsed": false
   },
   "outputs": [
    {
     "data": {
      "text/plain": [
       "83.117444159888763"
      ]
     },
     "execution_count": 209,
     "metadata": {},
     "output_type": "execute_result"
    }
   ],
   "source": [
    "criterion_function(df, dfc, all_homes, appliance_min, national_average,\n",
    "                       appliance=\"hvac\", feature=optimal_dict['hvac']['All']['f'],k=4,\n",
    "                       train_outlier=True, test_outlier=True, outlier_features=optimal_dict['hvac']['All']['f'], outlier_fraction=0.1,\n",
    "                       metric=\"median\")"
   ]
  },
  {
   "cell_type": "code",
   "execution_count": null,
   "metadata": {
    "collapsed": false
   },
   "outputs": [],
   "source": [
    "monthly_plus_static_features"
   ]
  },
  {
   "cell_type": "code",
   "execution_count": null,
   "metadata": {
    "collapsed": false
   },
   "outputs": [],
   "source": [
    "seq_forw_select(df, dfc, all_homes, appliance_min, national_average,\n",
    "                        appliance=\"hvac\", features=all_features[:].tolist(),NUM_NEIGHBOURS=2,\n",
    "                        train_outlier=True, test_outlier=True, outlier_features=['aggregate_8'], outlier_fraction=0.1,\n",
    "                        metric=\"mean\",\n",
    "                        max_k=3, criterion_func=criterion_function, print_steps=True)"
   ]
  },
  {
   "cell_type": "code",
   "execution_count": 224,
   "metadata": {
    "collapsed": false
   },
   "outputs": [
    {
     "name": "stdout",
     "output_type": "stream",
     "text": [
      "hvac\n",
      "['aggregate_1']\n",
      "33\n"
     ]
    }
   ],
   "source": [
    "a,b,c=create_predictions(df, dfc, all_homes, appliance_min, national_average, appliance=\"hvac\", feature=['aggregate_1'],k=2,\n",
    "                       train_outlier=True, test_outlier=False, outlier_features=None, outlier_fraction=0.1)"
   ]
  },
  {
   "cell_type": "code",
   "execution_count": 227,
   "metadata": {
    "collapsed": false
   },
   "outputs": [
    {
     "data": {
      "text/plain": [
       "KNeighborsRegressor(algorithm='auto', leaf_size=30, metric='minkowski',\n",
       "          metric_params=None, n_jobs=1, n_neighbors=2, p=2,\n",
       "          weights='uniform')"
      ]
     },
     "execution_count": 227,
     "metadata": {},
     "output_type": "execute_result"
    }
   ],
   "source": [
    "c.fit(a,b)"
   ]
  },
  {
   "cell_type": "code",
   "execution_count": 228,
   "metadata": {
    "collapsed": false
   },
   "outputs": [
    {
     "data": {
      "text/plain": [
       "array([ 309.95834351,  154.66885376,  213.17845535,  323.51126099,\n",
       "        218.49311829,  173.08065033,  309.95834351,  298.95755005,\n",
       "        297.45372009,  298.95755005,  202.71150207,  266.0319519 ,\n",
       "        329.93756103,  326.75569153,  266.0319519 ,  329.93756103,\n",
       "        209.85571289,  165.06554413,  193.99334717,  202.71150207,\n",
       "        277.00565338,  218.49311829,  124.00513458,  154.66885376,\n",
       "        165.06554413,  204.01132584,  193.99334717,  204.01132584])"
      ]
     },
     "execution_count": 228,
     "metadata": {},
     "output_type": "execute_result"
    }
   ],
   "source": [
    "c.predict(a)"
   ]
  },
  {
   "cell_type": "code",
   "execution_count": 229,
   "metadata": {
    "collapsed": false
   },
   "outputs": [
    {
     "data": {
      "text/plain": [
       "array([ 275.581604  ,  145.88465881,   78.73975372,  371.44091797,\n",
       "        185.52867127,  112.34846497,  344.33508301,  307.73428345,\n",
       "        280.61193848,  290.18081665,  171.61016846,  184.44674683,\n",
       "        314.29550171,  307.93176269,  347.61715698,  345.57962036,\n",
       "        231.59886169,  199.98657227,  188.11256409,  233.81283569,\n",
       "        246.07954407,  251.45756531,   84.55722046,  163.45304871,\n",
       "        130.14451599,   97.66996002,  199.87413025,  310.35269165])"
      ]
     },
     "execution_count": 229,
     "metadata": {},
     "output_type": "execute_result"
    }
   ],
   "source": [
    "b"
   ]
  },
  {
   "cell_type": "code",
   "execution_count": 114,
   "metadata": {
    "collapsed": false
   },
   "outputs": [],
   "source": [
    "temp = create_predictions(df, dfc, all_homes, appliance_min, national_average, appliance=\"hvac\",feature=['seasonal_energy_8'],\n",
    "                          k=3, test_outlier=False, outlier_features=['seasonal_energy_8'])\n",
    "errors = {}\n",
    "if appliance ==\"hvac\":\n",
    "    start_month, end_month = 5, 11\n",
    "else:\n",
    "    start_month, end_month = 1, 13\n",
    "for i in range(start_month, end_month):\n",
    "    errors[i] = percentage_error(temp[i][\"gt\"], temp[i][\"pred\"])\n",
    "error_df = pd.DataFrame(errors)\n",
    "accur_df = 100-error_df\n",
    "accur_df[accur_df<0]=0"
   ]
  },
  {
   "cell_type": "code",
   "execution_count": 115,
   "metadata": {
    "collapsed": false
   },
   "outputs": [
    {
     "name": "stdout",
     "output_type": "stream",
     "text": [
      "72.9696966674\n",
      "79.7508667304\n"
     ]
    }
   ],
   "source": [
    "print accur_df.mean().mean()\n",
    "print accur_df.median().mean()\n"
   ]
  },
  {
   "cell_type": "code",
   "execution_count": 100,
   "metadata": {
    "collapsed": false
   },
   "outputs": [],
   "source": [
    "appliance='hvac'"
   ]
  },
  {
   "cell_type": "code",
   "execution_count": 101,
   "metadata": {
    "collapsed": true
   },
   "outputs": [],
   "source": []
  },
  {
   "cell_type": "code",
   "execution_count": 104,
   "metadata": {
    "collapsed": false
   },
   "outputs": [
    {
     "data": {
      "text/plain": [
       "60.526389859059002"
      ]
     },
     "execution_count": 104,
     "metadata": {},
     "output_type": "execute_result"
    }
   ],
   "source": [
    "accur_df.mean().mean()"
   ]
  },
  {
   "cell_type": "code",
   "execution_count": null,
   "metadata": {
    "collapsed": true
   },
   "outputs": [],
   "source": [
    "find_optimal_features(df, dfc, all_homes, appliance_min, national_average, [\"hvac\"], {\"t\":['aggregate_1','aggregate_2','aggregate_3']},\n",
    "                          NUM_NEIGHBOURS_MAX=2, F_length_max=2, metric=\"median\",\n",
    "                          train_outlier=True, test_outlier=True, outlier_features=['seasonal_energy_8'], outlier_fraction=0.1)"
   ]
  }
 ],
 "metadata": {
  "kernelspec": {
   "display_name": "Python 2",
   "language": "python",
   "name": "python2"
  },
  "language_info": {
   "codemirror_mode": {
    "name": "ipython",
    "version": 2
   },
   "file_extension": ".py",
   "mimetype": "text/x-python",
   "name": "python",
   "nbconvert_exporter": "python",
   "pygments_lexer": "ipython2",
   "version": "2.7.11"
  }
 },
 "nbformat": 4,
 "nbformat_minor": 0
}
