{
 "cells": [
  {
   "cell_type": "markdown",
   "metadata": {},
   "source": [
    "### Load data set with features"
   ]
  },
  {
   "cell_type": "code",
   "execution_count": 1,
   "metadata": {
    "collapsed": false
   },
   "outputs": [
    {
     "name": "stderr",
     "output_type": "stream",
     "text": [
      "Vendor:  Continuum Analytics, Inc.\n",
      "Package: mkl\n",
      "Message: trial mode expires in 20 days\n"
     ]
    }
   ],
   "source": [
    "from create_df import read_df\n",
    "df, dfc, all_homes, appliance_min, national_average = read_df()"
   ]
  },
  {
   "cell_type": "code",
   "execution_count": 2,
   "metadata": {
    "collapsed": false
   },
   "outputs": [],
   "source": [
    "import numpy as np\n",
    "import matplotlib.pyplot as plt\n",
    "%matplotlib inline\n",
    "plt.style.use('fivethirtyeight')"
   ]
  },
  {
   "cell_type": "code",
   "execution_count": 3,
   "metadata": {
    "collapsed": false
   },
   "outputs": [],
   "source": [
    "run all_functions.py"
   ]
  },
  {
   "cell_type": "code",
   "execution_count": 4,
   "metadata": {
    "collapsed": false
   },
   "outputs": [],
   "source": [
    "run features.py"
   ]
  },
  {
   "cell_type": "code",
   "execution_count": 5,
   "metadata": {
    "collapsed": true
   },
   "outputs": [],
   "source": [
    "import json"
   ]
  },
  {
   "cell_type": "markdown",
   "metadata": {},
   "source": [
    "#### First round of CV, finding optimal features maximising median accuracy"
   ]
  },
  {
   "cell_type": "code",
   "execution_count": 7,
   "metadata": {
    "collapsed": false
   },
   "outputs": [
    {
     "name": "stdout",
     "output_type": "stream",
     "text": [
      "%%%%%%%%%%%%%%%%%%%%%%%%%%%%%%%%%%%%%%%%\n",
      "hvac\n",
      "%%%%%%%%%%%%%%%%%%%%%%%%%%%%%%%%%%%%%%%%\n",
      "********************\n",
      "All\n",
      "********************\n",
      "include: aggregate_5 -> feature_subset: ['aggregate_5']. Accuracy: 81.5093101239\n",
      "include: seasonal_energy_5 -> feature_subset: ['aggregate_5', 'seasonal_energy_5']. Accuracy: 84.0200083767\n",
      "include: gt_1000 -> feature_subset: ['aggregate_5', 'seasonal_energy_5', 'gt_1000']. Accuracy: 86.4613257867\n",
      "include: seasonal_energy_8 -> feature_subset: ['aggregate_5', 'seasonal_energy_5', 'gt_1000', 'seasonal_energy_8']. Accuracy: 86.786292743\n",
      "include: aggregate_3 -> feature_subset: ['aggregate_5', 'seasonal_energy_5', 'gt_1000', 'seasonal_energy_8', 'aggregate_3']. Accuracy: 86.7656903574\n",
      "include: seasonal_energy_6 -> feature_subset: ['aggregate_5', 'seasonal_energy_5', 'gt_1000', 'seasonal_energy_8', 'aggregate_3', 'seasonal_energy_6']. Accuracy: 86.7656903574\n",
      "include: seasonal_energy_9 -> feature_subset: ['aggregate_5', 'seasonal_energy_5', 'gt_1000', 'seasonal_energy_8', 'aggregate_3', 'seasonal_energy_6', 'seasonal_energy_9']. Accuracy: 86.7856977509\n",
      "include: aggregate_7 -> feature_subset: ['aggregate_7']. Accuracy: 83.590349584\n",
      "include: seasonal_energy_8 -> feature_subset: ['aggregate_7', 'seasonal_energy_8']. Accuracy: 85.5299750887\n",
      "include: aggregate_12 -> feature_subset: ['aggregate_7', 'seasonal_energy_8', 'aggregate_12']. Accuracy: 85.8084165361\n",
      "include: aggregate_4 -> feature_subset: ['aggregate_7', 'seasonal_energy_8', 'aggregate_12', 'aggregate_4']. Accuracy: 86.6870326118\n",
      "include: bet_500_1000 -> feature_subset: ['aggregate_7', 'seasonal_energy_8', 'aggregate_12', 'aggregate_4', 'bet_500_1000']. Accuracy: 87.064326965\n",
      "include: aggregate_5 -> feature_subset: ['aggregate_7', 'seasonal_energy_8', 'aggregate_12', 'aggregate_4', 'bet_500_1000', 'aggregate_5']. Accuracy: 87.0917352953\n",
      "include: aggregate_6 -> feature_subset: ['aggregate_7', 'seasonal_energy_8', 'aggregate_12', 'aggregate_4', 'bet_500_1000', 'aggregate_5', 'aggregate_6']. Accuracy: 86.2702899685\n",
      "include: aggregate_7 -> feature_subset: ['aggregate_7']. Accuracy: 86.1845369235\n",
      "include: bet_500_1000 -> feature_subset: ['aggregate_7', 'bet_500_1000']. Accuracy: 86.5535005364\n",
      "include: aggregate_2 -> feature_subset: ['aggregate_7', 'bet_500_1000', 'aggregate_2']. Accuracy: 86.2969298905\n",
      "include: aggregate_5 -> feature_subset: ['aggregate_7', 'bet_500_1000', 'aggregate_2', 'aggregate_5']. Accuracy: 86.3309441845\n",
      "include: aggregate_3 -> feature_subset: ['aggregate_7', 'bet_500_1000', 'aggregate_2', 'aggregate_5', 'aggregate_3']. Accuracy: 87.4565980106\n",
      "include: aggregate_4 -> feature_subset: ['aggregate_7', 'bet_500_1000', 'aggregate_2', 'aggregate_5', 'aggregate_3', 'aggregate_4']. Accuracy: 86.225232123\n",
      "include: aggregate_9 -> feature_subset: ['aggregate_7', 'bet_500_1000', 'aggregate_2', 'aggregate_5', 'aggregate_3', 'aggregate_4', 'aggregate_9']. Accuracy: 86.6042014712\n",
      "include: aggregate_7 -> feature_subset: ['aggregate_7']. Accuracy: 85.1778832019\n",
      "include: aggregate_2 -> feature_subset: ['aggregate_7', 'aggregate_2']. Accuracy: 86.5739332456\n",
      "include: aggregate_3 -> feature_subset: ['aggregate_7', 'aggregate_2', 'aggregate_3']. Accuracy: 86.3642414969\n",
      "include: aggregate_5 -> feature_subset: ['aggregate_7', 'aggregate_2', 'aggregate_3', 'aggregate_5']. Accuracy: 86.3846101353\n",
      "include: aggregate_10 -> feature_subset: ['aggregate_7', 'aggregate_2', 'aggregate_3', 'aggregate_5', 'aggregate_10']. Accuracy: 86.2329557547\n",
      "include: aggregate_12 -> feature_subset: ['aggregate_7', 'aggregate_2', 'aggregate_3', 'aggregate_5', 'aggregate_10', 'aggregate_12']. Accuracy: 86.3080023195\n",
      "include: lt_500 -> feature_subset: ['aggregate_7', 'aggregate_2', 'aggregate_3', 'aggregate_5', 'aggregate_10', 'aggregate_12', 'lt_500']. Accuracy: 86.6036053639\n",
      "include: aggregate_7 -> feature_subset: ['aggregate_7']. Accuracy: 85.1699458651\n",
      "include: aggregate_12 -> feature_subset: ['aggregate_7', 'aggregate_12']. Accuracy: 86.3033493532\n",
      "include: aggregate_5 -> feature_subset: ['aggregate_7', 'aggregate_12', 'aggregate_5']. Accuracy: 86.5078258303\n",
      "include: aggregate_11 -> feature_subset: ['aggregate_7', 'aggregate_12', 'aggregate_5', 'aggregate_11']. Accuracy: 86.3452792936\n",
      "include: difference_min_max -> feature_subset: ['aggregate_7', 'aggregate_12', 'aggregate_5', 'aggregate_11', 'difference_min_max']. Accuracy: 86.897344544\n",
      "include: aggregate_3 -> feature_subset: ['aggregate_7', 'aggregate_12', 'aggregate_5', 'aggregate_11', 'difference_min_max', 'aggregate_3']. Accuracy: 86.786910736\n",
      "include: seasonal_energy_7 -> feature_subset: ['aggregate_7', 'aggregate_12', 'aggregate_5', 'aggregate_11', 'difference_min_max', 'aggregate_3', 'seasonal_energy_7']. Accuracy: 86.4558145213\n",
      "include: aggregate_7 -> feature_subset: ['aggregate_7']. Accuracy: 84.7922354677\n",
      "include: aggregate_11 -> feature_subset: ['aggregate_7', 'aggregate_11']. Accuracy: 85.1807911519\n",
      "include: aggregate_4 -> feature_subset: ['aggregate_7', 'aggregate_11', 'aggregate_4']. Accuracy: 86.3333500615\n",
      "include: gt_1000 -> feature_subset: ['aggregate_7', 'aggregate_11', 'aggregate_4', 'gt_1000']. Accuracy: 85.9286483453\n",
      "include: aggregate_9 -> feature_subset: ['aggregate_7', 'aggregate_11', 'aggregate_4', 'gt_1000', 'aggregate_9']. Accuracy: 85.9701049384\n",
      "include: aggregate_5 -> feature_subset: ['aggregate_7', 'aggregate_11', 'aggregate_4', 'gt_1000', 'aggregate_9', 'aggregate_5']. Accuracy: 86.5725856867\n",
      "include: aggregate_1 -> feature_subset: ['aggregate_7', 'aggregate_11', 'aggregate_4', 'gt_1000', 'aggregate_9', 'aggregate_5', 'aggregate_1']. Accuracy: 86.3926402023\n",
      "3 ['aggregate_7', 'bet_500_1000', 'aggregate_2', 'aggregate_5', 'aggregate_3'] 87.4565980106\n",
      "--------------------------------------------------------------------------------\n",
      "%%%%%%%%%%%%%%%%%%%%%%%%%%%%%%%%%%%%%%%%\n",
      "light\n",
      "%%%%%%%%%%%%%%%%%%%%%%%%%%%%%%%%%%%%%%%%\n",
      "********************\n",
      "All\n",
      "********************\n",
      "include: bet_500_1000 -> feature_subset: ['bet_500_1000']. Accuracy: 47.4764389822\n",
      "include: autocorr -> feature_subset: ['bet_500_1000', 'autocorr']. Accuracy: 47.471735883\n",
      "include: ratio_min_max -> feature_subset: ['bet_500_1000', 'autocorr', 'ratio_min_max']. Accuracy: 43.1353158143\n",
      "include: cluster_big -> feature_subset: ['bet_500_1000', 'autocorr', 'ratio_min_max', 'cluster_big']. Accuracy: 44.3530534463\n",
      "include: aggregate_2 -> feature_subset: ['bet_500_1000', 'autocorr', 'ratio_min_max', 'cluster_big', 'aggregate_2']. Accuracy: 47.9414011308\n",
      "include: ratio_difference_min_max -> feature_subset: ['bet_500_1000', 'autocorr', 'ratio_min_max', 'cluster_big', 'aggregate_2', 'ratio_difference_min_max']. Accuracy: 51.5270836852\n",
      "include: fft_2 -> feature_subset: ['bet_500_1000', 'autocorr', 'ratio_min_max', 'cluster_big', 'aggregate_2', 'ratio_difference_min_max', 'fft_2']. Accuracy: 52.1189945502\n",
      "include: area -> feature_subset: ['area']. Accuracy: 50.1520977049\n",
      "include: aggregate_7 -> feature_subset: ['area', 'aggregate_7']. Accuracy: 54.7920820598\n",
      "include: bet_500_1000 -> feature_subset: ['area', 'aggregate_7', 'bet_500_1000']. Accuracy: 54.7920820598\n",
      "include: aggregate_5 -> feature_subset: ['area', 'aggregate_7', 'bet_500_1000', 'aggregate_5']. Accuracy: 53.8941853366\n",
      "include: gt_1000 -> feature_subset: ['area', 'aggregate_7', 'bet_500_1000', 'aggregate_5', 'gt_1000']. Accuracy: 54.7983517463\n",
      "include: aggregate_2 -> feature_subset: ['area', 'aggregate_7', 'bet_500_1000', 'aggregate_5', 'gt_1000', 'aggregate_2']. Accuracy: 54.7983517463\n",
      "include: disag_fridge -> feature_subset: ['area', 'aggregate_7', 'bet_500_1000', 'aggregate_5', 'gt_1000', 'aggregate_2', 'disag_fridge']. Accuracy: 53.2314280616\n",
      "include: area -> feature_subset: ['area']. Accuracy: 50.2927499654\n",
      "include: aggregate_3 -> feature_subset: ['area', 'aggregate_3']. Accuracy: 52.9268672806\n",
      "include: aggregate_7 -> feature_subset: ['area', 'aggregate_3', 'aggregate_7']. Accuracy: 54.1043807472\n",
      "include: lt_500 -> feature_subset: ['area', 'aggregate_3', 'aggregate_7', 'lt_500']. Accuracy: 55.4366263372\n",
      "include: bet_500_1000 -> feature_subset: ['area', 'aggregate_3', 'aggregate_7', 'lt_500', 'bet_500_1000']. Accuracy: 55.4366263372\n",
      "include: aggregate_5 -> feature_subset: ['area', 'aggregate_3', 'aggregate_7', 'lt_500', 'bet_500_1000', 'aggregate_5']. Accuracy: 56.0888948512\n",
      "include: gt_1000 -> feature_subset: ['area', 'aggregate_3', 'aggregate_7', 'lt_500', 'bet_500_1000', 'aggregate_5', 'gt_1000']. Accuracy: 55.4366263372\n",
      "include: area -> feature_subset: ['area']. Accuracy: 48.3942589166\n",
      "include: aggregate_3 -> feature_subset: ['area', 'aggregate_3']. Accuracy: 54.9378528615\n",
      "include: aggregate_10 -> feature_subset: ['area', 'aggregate_3', 'aggregate_10']. Accuracy: 55.5323402249\n",
      "include: bet_500_1000 -> feature_subset: ['area', 'aggregate_3', 'aggregate_10', 'bet_500_1000']. Accuracy: 55.7299766587\n",
      "include: lt_500 -> feature_subset: ['area', 'aggregate_3', 'aggregate_10', 'bet_500_1000', 'lt_500']. Accuracy: 54.7168021143\n",
      "include: aggregate_1 -> feature_subset: ['area', 'aggregate_3', 'aggregate_10', 'bet_500_1000', 'lt_500', 'aggregate_1']. Accuracy: 54.5063281197\n",
      "include: gt_1000 -> feature_subset: ['area', 'aggregate_3', 'aggregate_10', 'bet_500_1000', 'lt_500', 'aggregate_1', 'gt_1000']. Accuracy: 53.0022677394\n",
      "include: area -> feature_subset: ['area']. Accuracy: 53.3342896679\n",
      "include: bet_500_1000 -> feature_subset: ['area', 'bet_500_1000']. Accuracy: 54.9676176607\n",
      "include: aggregate_6 -> feature_subset: ['area', 'bet_500_1000', 'aggregate_6']. Accuracy: 54.4166245784\n",
      "include: aggregate_10 -> feature_subset: ['area', 'bet_500_1000', 'aggregate_6', 'aggregate_10']. Accuracy: 54.8336214613\n",
      "include: lt_500 -> feature_subset: ['area', 'bet_500_1000', 'aggregate_6', 'aggregate_10', 'lt_500']. Accuracy: 54.0299331565\n",
      "include: aggregate_5 -> feature_subset: ['area', 'bet_500_1000', 'aggregate_6', 'aggregate_10', 'lt_500', 'aggregate_5']. Accuracy: 55.3303315985\n",
      "include: aggregate_9 -> feature_subset: ['area', 'bet_500_1000', 'aggregate_6', 'aggregate_10', 'lt_500', 'aggregate_5', 'aggregate_9']. Accuracy: 53.4282871149\n",
      "include: area -> feature_subset: ['area']. Accuracy: 52.7797930665\n",
      "include: bet_500_1000 -> feature_subset: ['area', 'bet_500_1000']. Accuracy: 53.1572186086\n",
      "include: aggregate_9 -> feature_subset: ['area', 'bet_500_1000', 'aggregate_9']. Accuracy: 54.0475814663\n",
      "include: aggregate_5 -> feature_subset: ['area', 'bet_500_1000', 'aggregate_9', 'aggregate_5']. Accuracy: 52.4041486049\n",
      "include: lt_500 -> feature_subset: ['area', 'bet_500_1000', 'aggregate_9', 'aggregate_5', 'lt_500']. Accuracy: 52.1973879448\n",
      "include: aggregate_6 -> feature_subset: ['area', 'bet_500_1000', 'aggregate_9', 'aggregate_5', 'lt_500', 'aggregate_6']. Accuracy: 50.792029857\n",
      "include: aggregate_10 -> feature_subset: ['area', 'bet_500_1000', 'aggregate_9', 'aggregate_5', 'lt_500', 'aggregate_6', 'aggregate_10']. Accuracy: 50.735569024\n",
      "3 ['area', 'aggregate_3', 'aggregate_7', 'lt_500', 'bet_500_1000', 'aggregate_5'] 56.0888948512\n",
      "--------------------------------------------------------------------------------\n",
      "%%%%%%%%%%%%%%%%%%%%%%%%%%%%%%%%%%%%%%%%\n",
      "fridge\n",
      "%%%%%%%%%%%%%%%%%%%%%%%%%%%%%%%%%%%%%%%%\n",
      "********************\n",
      "All\n",
      "********************\n",
      "include: aggregate_1 -> feature_subset: ['aggregate_1']. Accuracy: 82.9378147592\n",
      "include: aggregate_12 -> feature_subset: ['aggregate_1', 'aggregate_12']. Accuracy: 83.9147983659\n",
      "include: max_seasonal_12 -> feature_subset: ['aggregate_1', 'aggregate_12', 'max_seasonal_12']. Accuracy: 83.7653727441\n",
      "include: total_occupants -> feature_subset: ['aggregate_1', 'aggregate_12', 'max_seasonal_12', 'total_occupants']. Accuracy: 84.7112425397\n",
      "include: aggregate_11 -> feature_subset: ['aggregate_1', 'aggregate_12', 'max_seasonal_12', 'total_occupants', 'aggregate_11']. Accuracy: 86.2239916954\n",
      "include: aggregate_4 -> feature_subset: ['aggregate_1', 'aggregate_12', 'max_seasonal_12', 'total_occupants', 'aggregate_11', 'aggregate_4']. Accuracy: 86.3336802379\n",
      "include: gt_1000 -> feature_subset: ['aggregate_1', 'aggregate_12', 'max_seasonal_12', 'total_occupants', 'aggregate_11', 'aggregate_4', 'gt_1000']. Accuracy: 86.246363142\n",
      "include: aggregate_1 -> feature_subset: ['aggregate_1']. Accuracy: 79.3343407098\n",
      "include: ratio_min_max -> feature_subset: ['aggregate_1', 'ratio_min_max']. Accuracy: 83.0459774938\n",
      "include: max_seasonal_12 -> feature_subset: ['aggregate_1', 'ratio_min_max', 'max_seasonal_12']. Accuracy: 85.8045627152\n",
      "include: temperature_corr -> feature_subset: ['aggregate_1', 'ratio_min_max', 'max_seasonal_12', 'temperature_corr']. Accuracy: 86.0712035945\n",
      "include: aggregate_2 -> feature_subset: ['aggregate_1', 'ratio_min_max', 'max_seasonal_12', 'temperature_corr', 'aggregate_2']. Accuracy: 87.1566524213\n",
      "include: fft_1 -> feature_subset: ['aggregate_1', 'ratio_min_max', 'max_seasonal_12', 'temperature_corr', 'aggregate_2', 'fft_1']. Accuracy: 87.3743194087\n",
      "include: gt_1000 -> feature_subset: ['aggregate_1', 'ratio_min_max', 'max_seasonal_12', 'temperature_corr', 'aggregate_2', 'fft_1', 'gt_1000']. Accuracy: 87.6985262481\n",
      "include: ratio_min_max -> feature_subset: ['ratio_min_max']. Accuracy: 81.6090661864\n",
      "include: max_seasonal_12 -> feature_subset: ['ratio_min_max', 'max_seasonal_12']. Accuracy: 84.4181865391\n",
      "include: gt_1000 -> feature_subset: ['ratio_min_max', 'max_seasonal_12', 'gt_1000']. Accuracy: 85.7098555171\n",
      "include: aggregate_2 -> feature_subset: ['ratio_min_max', 'max_seasonal_12', 'gt_1000', 'aggregate_2']. Accuracy: 85.7707837727\n",
      "include: ratio_difference_min_max -> feature_subset: ['ratio_min_max', 'max_seasonal_12', 'gt_1000', 'aggregate_2', 'ratio_difference_min_max']. Accuracy: 85.6883532117\n",
      "include: temperature_corr -> feature_subset: ['ratio_min_max', 'max_seasonal_12', 'gt_1000', 'aggregate_2', 'ratio_difference_min_max', 'temperature_corr']. Accuracy: 86.6950862574\n",
      "include: aggregate_9 -> feature_subset: ['ratio_min_max', 'max_seasonal_12', 'gt_1000', 'aggregate_2', 'ratio_difference_min_max', 'temperature_corr', 'aggregate_9']. Accuracy: 86.9696054457\n",
      "include: max_seasonal_daily -> feature_subset: ['max_seasonal_daily']. Accuracy: 83.3417532571\n",
      "include: lt_500 -> feature_subset: ['max_seasonal_daily', 'lt_500']. Accuracy: 83.9985022403\n",
      "include: aggregate_4 -> feature_subset: ['max_seasonal_daily', 'lt_500', 'aggregate_4']. Accuracy: 86.4875931142\n",
      "include: gt_1000 -> feature_subset: ['max_seasonal_daily', 'lt_500', 'aggregate_4', 'gt_1000']. Accuracy: 86.0918712699\n",
      "include: temperature_corr -> feature_subset: ['max_seasonal_daily', 'lt_500', 'aggregate_4', 'gt_1000', 'temperature_corr']. Accuracy: 86.0319498879\n",
      "include: bet_500_1000 -> feature_subset: ['max_seasonal_daily', 'lt_500', 'aggregate_4', 'gt_1000', 'temperature_corr', 'bet_500_1000']. Accuracy: 85.6911452712\n",
      "include: aggregate_10 -> feature_subset: ['max_seasonal_daily', 'lt_500', 'aggregate_4', 'gt_1000', 'temperature_corr', 'bet_500_1000', 'aggregate_10']. Accuracy: 85.6802497715\n",
      "include: max_seasonal_daily -> feature_subset: ['max_seasonal_daily']. Accuracy: 82.9786263581\n",
      "include: aggregate_4 -> feature_subset: ['max_seasonal_daily', 'aggregate_4']. Accuracy: 84.6619678308\n",
      "include: aggregate_5 -> feature_subset: ['max_seasonal_daily', 'aggregate_4', 'aggregate_5']. Accuracy: 84.8149647016\n",
      "include: max_seasonal_12 -> feature_subset: ['max_seasonal_daily', 'aggregate_4', 'aggregate_5', 'max_seasonal_12']. Accuracy: 85.3304885808\n",
      "include: temperature_corr -> feature_subset: ['max_seasonal_daily', 'aggregate_4', 'aggregate_5', 'max_seasonal_12', 'temperature_corr']. Accuracy: 85.3528951648\n",
      "include: max_trend_daily -> feature_subset: ['max_seasonal_daily', 'aggregate_4', 'aggregate_5', 'max_seasonal_12', 'temperature_corr', 'max_trend_daily']. Accuracy: 86.3846717667\n",
      "include: max_trend_12 -> feature_subset: ['max_seasonal_daily', 'aggregate_4', 'aggregate_5', 'max_seasonal_12', 'temperature_corr', 'max_trend_daily', 'max_trend_12']. Accuracy: 87.5343664809\n",
      "include: max_seasonal_daily -> feature_subset: ['max_seasonal_daily']. Accuracy: 82.8774342475\n",
      "include: aggregate_3 -> feature_subset: ['max_seasonal_daily', 'aggregate_3']. Accuracy: 84.2227401903\n",
      "include: seasonal_energy_10 -> feature_subset: ['max_seasonal_daily', 'aggregate_3', 'seasonal_energy_10']. Accuracy: 83.8377286532\n",
      "include: gt_1000 -> feature_subset: ['max_seasonal_daily', 'aggregate_3', 'seasonal_energy_10', 'gt_1000']. Accuracy: 83.6685280144\n",
      "include: cluster_big -> feature_subset: ['max_seasonal_daily', 'aggregate_3', 'seasonal_energy_10', 'gt_1000', 'cluster_big']. Accuracy: 83.7054771025\n",
      "include: fft_3 -> feature_subset: ['max_seasonal_daily', 'aggregate_3', 'seasonal_energy_10', 'gt_1000', 'cluster_big', 'fft_3']. Accuracy: 85.309990551\n",
      "include: ratio_min_max -> feature_subset: ['max_seasonal_daily', 'aggregate_3', 'seasonal_energy_10', 'gt_1000', 'cluster_big', 'fft_3', 'ratio_min_max']. Accuracy: 86.7244966765\n",
      "2 ['aggregate_1', 'ratio_min_max', 'max_seasonal_12', 'temperature_corr', 'aggregate_2', 'fft_1', 'gt_1000'] 87.6985262481\n",
      "--------------------------------------------------------------------------------\n",
      "%%%%%%%%%%%%%%%%%%%%%%%%%%%%%%%%%%%%%%%%\n",
      "dr\n",
      "%%%%%%%%%%%%%%%%%%%%%%%%%%%%%%%%%%%%%%%%\n",
      "********************\n",
      "All\n",
      "********************\n",
      "include: max_seasonal_weekly -> feature_subset: ['max_seasonal_weekly']. Accuracy: 41.097823315\n",
      "include: total_occupants -> feature_subset: ['max_seasonal_weekly', 'total_occupants']. Accuracy: 47.1562329966\n",
      "include: aggregate_6 -> feature_subset: ['max_seasonal_weekly', 'total_occupants', 'aggregate_6']. Accuracy: 50.1010769829\n",
      "include: aggregate_12 -> feature_subset: ['max_seasonal_weekly', 'total_occupants', 'aggregate_6', 'aggregate_12']. Accuracy: 49.0208390754\n",
      "include: seasonal_energy_5 -> feature_subset: ['max_seasonal_weekly', 'total_occupants', 'aggregate_6', 'aggregate_12', 'seasonal_energy_5']. Accuracy: 52.1868105398\n",
      "include: aggregate_11 -> feature_subset: ['max_seasonal_weekly', 'total_occupants', 'aggregate_6', 'aggregate_12', 'seasonal_energy_5', 'aggregate_11']. Accuracy: 52.1868105398\n",
      "include: aggregate_2 -> feature_subset: ['max_seasonal_weekly', 'total_occupants', 'aggregate_6', 'aggregate_12', 'seasonal_energy_5', 'aggregate_11', 'aggregate_2']. Accuracy: 51.7264176886\n",
      "include: max_seasonal_12 -> feature_subset: ['max_seasonal_12']. Accuracy: 44.0711443742\n",
      "include: aggregate_12 -> feature_subset: ['max_seasonal_12', 'aggregate_12']. Accuracy: 48.7470085537\n",
      "include: total_occupants -> feature_subset: ['max_seasonal_12', 'aggregate_12', 'total_occupants']. Accuracy: 48.587463824\n",
      "include: aggregate_1 -> feature_subset: ['max_seasonal_12', 'aggregate_12', 'total_occupants', 'aggregate_1']. Accuracy: 48.9654949082\n",
      "include: aggregate_2 -> feature_subset: ['max_seasonal_12', 'aggregate_12', 'total_occupants', 'aggregate_1', 'aggregate_2']. Accuracy: 49.1286676417\n",
      "include: aggregate_5 -> feature_subset: ['max_seasonal_12', 'aggregate_12', 'total_occupants', 'aggregate_1', 'aggregate_2', 'aggregate_5']. Accuracy: 48.4461020872\n",
      "include: aggregate_4 -> feature_subset: ['max_seasonal_12', 'aggregate_12', 'total_occupants', 'aggregate_1', 'aggregate_2', 'aggregate_5', 'aggregate_4']. Accuracy: 48.4369166382\n",
      "include: total_occupants -> feature_subset: ['total_occupants']. Accuracy: 48.0852732004\n",
      "include: seasonal_energy_8 -> feature_subset: ['total_occupants', 'seasonal_energy_8']. Accuracy: 48.2569752704\n",
      "include: max_seasonal_daily -> feature_subset: ['total_occupants', 'seasonal_energy_8', 'max_seasonal_daily']. Accuracy: 50.8637985174\n",
      "include: fft_2 -> feature_subset: ['total_occupants', 'seasonal_energy_8', 'max_seasonal_daily', 'fft_2']. Accuracy: 51.8048475869\n",
      "include: aggregate_1 -> feature_subset: ['total_occupants', 'seasonal_energy_8', 'max_seasonal_daily', 'fft_2', 'aggregate_1']. Accuracy: 51.5422539598\n",
      "include: gt_1000 -> feature_subset: ['total_occupants', 'seasonal_energy_8', 'max_seasonal_daily', 'fft_2', 'aggregate_1', 'gt_1000']. Accuracy: 51.3720131042\n",
      "include: aggregate_11 -> feature_subset: ['total_occupants', 'seasonal_energy_8', 'max_seasonal_daily', 'fft_2', 'aggregate_1', 'gt_1000', 'aggregate_11']. Accuracy: 50.8932106831\n",
      "include: max_seasonal_12 -> feature_subset: ['max_seasonal_12']. Accuracy: 50.5090417359\n",
      "include: total_occupants -> feature_subset: ['max_seasonal_12', 'total_occupants']. Accuracy: 48.9763154676\n",
      "include: aggregate_12 -> feature_subset: ['max_seasonal_12', 'total_occupants', 'aggregate_12']. Accuracy: 52.3848169209\n",
      "include: num_rooms -> feature_subset: ['max_seasonal_12', 'total_occupants', 'aggregate_12', 'num_rooms']. Accuracy: 54.2253590453\n",
      "include: aggregate_4 -> feature_subset: ['max_seasonal_12', 'total_occupants', 'aggregate_12', 'num_rooms', 'aggregate_4']. Accuracy: 54.6875543296\n",
      "include: bet_500_1000 -> feature_subset: ['max_seasonal_12', 'total_occupants', 'aggregate_12', 'num_rooms', 'aggregate_4', 'bet_500_1000']. Accuracy: 54.6707059363\n",
      "include: aggregate_2 -> feature_subset: ['max_seasonal_12', 'total_occupants', 'aggregate_12', 'num_rooms', 'aggregate_4', 'bet_500_1000', 'aggregate_2']. Accuracy: 54.1993257143\n",
      "include: aggregate_10 -> feature_subset: ['aggregate_10']. Accuracy: 48.7968483158\n",
      "include: total_occupants -> feature_subset: ['aggregate_10', 'total_occupants']. Accuracy: 49.2471274664\n",
      "include: aggregate_12 -> feature_subset: ['aggregate_10', 'total_occupants', 'aggregate_12']. Accuracy: 51.8467750547\n",
      "include: num_rooms -> feature_subset: ['aggregate_10', 'total_occupants', 'aggregate_12', 'num_rooms']. Accuracy: 52.3919282688\n",
      "include: aggregate_1 -> feature_subset: ['aggregate_10', 'total_occupants', 'aggregate_12', 'num_rooms', 'aggregate_1']. Accuracy: 53.3432980258\n",
      "include: bet_500_1000 -> feature_subset: ['aggregate_10', 'total_occupants', 'aggregate_12', 'num_rooms', 'aggregate_1', 'bet_500_1000']. Accuracy: 52.7447717563\n",
      "include: fft_3 -> feature_subset: ['aggregate_10', 'total_occupants', 'aggregate_12', 'num_rooms', 'aggregate_1', 'bet_500_1000', 'fft_3']. Accuracy: 53.52419175\n",
      "include: aggregate_10 -> feature_subset: ['aggregate_10']. Accuracy: 49.4103530807\n",
      "include: total_occupants -> feature_subset: ['aggregate_10', 'total_occupants']. Accuracy: 49.3884911692\n",
      "include: aggregate_12 -> feature_subset: ['aggregate_10', 'total_occupants', 'aggregate_12']. Accuracy: 50.2300113303\n",
      "include: lt_500 -> feature_subset: ['aggregate_10', 'total_occupants', 'aggregate_12', 'lt_500']. Accuracy: 50.9480183635\n",
      "include: aggregate_11 -> feature_subset: ['aggregate_10', 'total_occupants', 'aggregate_12', 'lt_500', 'aggregate_11']. Accuracy: 51.5886687864\n",
      "include: gt_1000 -> feature_subset: ['aggregate_10', 'total_occupants', 'aggregate_12', 'lt_500', 'aggregate_11', 'gt_1000']. Accuracy: 51.1431475704\n",
      "include: aggregate_1 -> feature_subset: ['aggregate_10', 'total_occupants', 'aggregate_12', 'lt_500', 'aggregate_11', 'gt_1000', 'aggregate_1']. Accuracy: 51.9292536027\n",
      "4 ['max_seasonal_12', 'total_occupants', 'aggregate_12', 'num_rooms', 'aggregate_4'] 54.6875543296\n",
      "--------------------------------------------------------------------------------\n",
      "%%%%%%%%%%%%%%%%%%%%%%%%%%%%%%%%%%%%%%%%\n",
      "wm\n",
      "%%%%%%%%%%%%%%%%%%%%%%%%%%%%%%%%%%%%%%%%\n",
      "********************\n",
      "All\n",
      "********************\n",
      "include: aggregate_11 -> feature_subset: ['aggregate_11']. Accuracy: 67.5527072411\n",
      "include: aggregate_10 -> feature_subset: ['aggregate_11', 'aggregate_10']. Accuracy: 70.9106734562\n",
      "include: area -> feature_subset: ['aggregate_11', 'aggregate_10', 'area']. Accuracy: 70.9965933992\n",
      "include: aggregate_3 -> feature_subset: ['aggregate_11', 'aggregate_10', 'area', 'aggregate_3']. Accuracy: 73.1429870397\n",
      "include: aggregate_4 -> feature_subset: ['aggregate_11', 'aggregate_10', 'area', 'aggregate_3', 'aggregate_4']. Accuracy: 73.1429870397\n",
      "include: gt_1000 -> feature_subset: ['aggregate_11', 'aggregate_10', 'area', 'aggregate_3', 'aggregate_4', 'gt_1000']. Accuracy: 72.5653298402\n",
      "include: bet_500_1000 -> feature_subset: ['aggregate_11', 'aggregate_10', 'area', 'aggregate_3', 'aggregate_4', 'gt_1000', 'bet_500_1000']. Accuracy: 72.830427544\n",
      "include: cluster_big -> feature_subset: ['cluster_big']. Accuracy: 69.9029148682\n",
      "include: aggregate_6 -> feature_subset: ['cluster_big', 'aggregate_6']. Accuracy: 72.5179039107\n",
      "include: gt_1000 -> feature_subset: ['cluster_big', 'aggregate_6', 'gt_1000']. Accuracy: 72.2416862215\n",
      "include: fft_1 -> feature_subset: ['cluster_big', 'aggregate_6', 'gt_1000', 'fft_1']. Accuracy: 70.2409624116\n",
      "include: max_seasonal_daily -> feature_subset: ['cluster_big', 'aggregate_6', 'gt_1000', 'fft_1', 'max_seasonal_daily']. Accuracy: 68.9745504061\n",
      "include: fft_5 -> feature_subset: ['cluster_big', 'aggregate_6', 'gt_1000', 'fft_1', 'max_seasonal_daily', 'fft_5']. Accuracy: 68.8886264117\n",
      "include: autocorr -> feature_subset: ['cluster_big', 'aggregate_6', 'gt_1000', 'fft_1', 'max_seasonal_daily', 'fft_5', 'autocorr']. Accuracy: 70.0422075759\n",
      "include: cluster_big -> feature_subset: ['cluster_big']. Accuracy: 70.2284331797\n",
      "include: max_seasonal_weekly -> feature_subset: ['cluster_big', 'max_seasonal_weekly']. Accuracy: 70.2499887455\n",
      "include: gt_1000 -> feature_subset: ['cluster_big', 'max_seasonal_weekly', 'gt_1000']. Accuracy: 71.6493953726\n",
      "include: bet_500_1000 -> feature_subset: ['cluster_big', 'max_seasonal_weekly', 'gt_1000', 'bet_500_1000']. Accuracy: 70.2088900105\n",
      "include: lt_500 -> feature_subset: ['cluster_big', 'max_seasonal_weekly', 'gt_1000', 'bet_500_1000', 'lt_500']. Accuracy: 70.0296252892\n",
      "include: area -> feature_subset: ['cluster_big', 'max_seasonal_weekly', 'gt_1000', 'bet_500_1000', 'lt_500', 'area']. Accuracy: 68.9018847946\n",
      "include: fft_5 -> feature_subset: ['cluster_big', 'max_seasonal_weekly', 'gt_1000', 'bet_500_1000', 'lt_500', 'area', 'fft_5']. Accuracy: 70.041554502\n",
      "include: aggregate_7 -> feature_subset: ['aggregate_7']. Accuracy: 68.5375815194\n",
      "include: disag_fridge -> feature_subset: ['aggregate_7', 'disag_fridge']. Accuracy: 69.6563610056\n",
      "include: aggregate_11 -> feature_subset: ['aggregate_7', 'disag_fridge', 'aggregate_11']. Accuracy: 70.3906413809\n",
      "include: fft_5 -> feature_subset: ['aggregate_7', 'disag_fridge', 'aggregate_11', 'fft_5']. Accuracy: 70.1447011885\n",
      "include: aggregate_9 -> feature_subset: ['aggregate_7', 'disag_fridge', 'aggregate_11', 'fft_5', 'aggregate_9']. Accuracy: 71.1643196537\n",
      "include: fft_1 -> feature_subset: ['aggregate_7', 'disag_fridge', 'aggregate_11', 'fft_5', 'aggregate_9', 'fft_1']. Accuracy: 71.5437993869\n",
      "include: aggregate_1 -> feature_subset: ['aggregate_7', 'disag_fridge', 'aggregate_11', 'fft_5', 'aggregate_9', 'fft_1', 'aggregate_1']. Accuracy: 71.5437993869\n",
      "include: area -> feature_subset: ['area']. Accuracy: 67.9686698824\n",
      "include: max_trend_daily -> feature_subset: ['area', 'max_trend_daily']. Accuracy: 70.7379821793\n",
      "include: bet_500_1000 -> feature_subset: ['area', 'max_trend_daily', 'bet_500_1000']. Accuracy: 70.7379821793\n",
      "include: fft_1 -> feature_subset: ['area', 'max_trend_daily', 'bet_500_1000', 'fft_1']. Accuracy: 70.4730228166\n",
      "include: aggregate_10 -> feature_subset: ['area', 'max_trend_daily', 'bet_500_1000', 'fft_1', 'aggregate_10']. Accuracy: 71.008664352\n",
      "include: difference_min_max -> feature_subset: ['area', 'max_trend_daily', 'bet_500_1000', 'fft_1', 'aggregate_10', 'difference_min_max']. Accuracy: 69.8484842211\n",
      "include: aggregate_12 -> feature_subset: ['area', 'max_trend_daily', 'bet_500_1000', 'fft_1', 'aggregate_10', 'difference_min_max', 'aggregate_12']. Accuracy: 69.444832113\n",
      "include: area -> feature_subset: ['area']. Accuracy: 68.4383003155\n",
      "include: max_trend_daily -> feature_subset: ['area', 'max_trend_daily']. Accuracy: 69.1822531167\n",
      "include: aggregate_11 -> feature_subset: ['area', 'max_trend_daily', 'aggregate_11']. Accuracy: 69.5904210919\n",
      "include: aggregate_12 -> feature_subset: ['area', 'max_trend_daily', 'aggregate_11', 'aggregate_12']. Accuracy: 69.9354195981\n",
      "include: total_occupants -> feature_subset: ['area', 'max_trend_daily', 'aggregate_11', 'aggregate_12', 'total_occupants']. Accuracy: 70.3164830518\n",
      "include: aggregate_1 -> feature_subset: ['area', 'max_trend_daily', 'aggregate_11', 'aggregate_12', 'total_occupants', 'aggregate_1']. Accuracy: 71.0426047423\n",
      "include: gt_1000 -> feature_subset: ['area', 'max_trend_daily', 'aggregate_11', 'aggregate_12', 'total_occupants', 'aggregate_1', 'gt_1000']. Accuracy: 71.0835938466\n",
      "1 ['aggregate_11', 'aggregate_10', 'area', 'aggregate_3'] 73.1429870397\n",
      "--------------------------------------------------------------------------------\n",
      "%%%%%%%%%%%%%%%%%%%%%%%%%%%%%%%%%%%%%%%%\n",
      "dw\n",
      "%%%%%%%%%%%%%%%%%%%%%%%%%%%%%%%%%%%%%%%%\n",
      "********************\n",
      "All\n",
      "********************\n",
      "include: aggregate_6 -> feature_subset: ['aggregate_6']. Accuracy: 40.5332385363\n",
      "include: temperature_corr -> feature_subset: ['aggregate_6', 'temperature_corr']. Accuracy: 41.1182521845\n",
      "include: fft_2 -> feature_subset: ['aggregate_6', 'temperature_corr', 'fft_2']. Accuracy: 44.6400306688\n",
      "include: total_occupants -> feature_subset: ['aggregate_6', 'temperature_corr', 'fft_2', 'total_occupants']. Accuracy: 47.0535939974\n",
      "include: aggregate_10 -> feature_subset: ['aggregate_6', 'temperature_corr', 'fft_2', 'total_occupants', 'aggregate_10']. Accuracy: 47.9036432125\n",
      "include: aggregate_1 -> feature_subset: ['aggregate_6', 'temperature_corr', 'fft_2', 'total_occupants', 'aggregate_10', 'aggregate_1']. Accuracy: 48.3398925665\n",
      "include: fft_4 -> feature_subset: ['aggregate_6', 'temperature_corr', 'fft_2', 'total_occupants', 'aggregate_10', 'aggregate_1', 'fft_4']. Accuracy: 49.0836005336\n",
      "include: temperature_corr -> feature_subset: ['temperature_corr']. Accuracy: 42.7165397666\n",
      "include: fft_2 -> feature_subset: ['temperature_corr', 'fft_2']. Accuracy: 48.6017118755\n",
      "include: fft_1 -> feature_subset: ['temperature_corr', 'fft_2', 'fft_1']. Accuracy: 51.7851885104\n",
      "include: aggregate_9 -> feature_subset: ['temperature_corr', 'fft_2', 'fft_1', 'aggregate_9']. Accuracy: 51.8891223044\n",
      "include: aggregate_5 -> feature_subset: ['temperature_corr', 'fft_2', 'fft_1', 'aggregate_9', 'aggregate_5']. Accuracy: 52.2455594696\n",
      "include: difference_min_max -> feature_subset: ['temperature_corr', 'fft_2', 'fft_1', 'aggregate_9', 'aggregate_5', 'difference_min_max']. Accuracy: 54.545307917\n",
      "include: aggregate_4 -> feature_subset: ['temperature_corr', 'fft_2', 'fft_1', 'aggregate_9', 'aggregate_5', 'difference_min_max', 'aggregate_4']. Accuracy: 50.9704690487\n",
      "include: aggregate_8 -> feature_subset: ['aggregate_8']. Accuracy: 43.0950300096\n",
      "include: aggregate_6 -> feature_subset: ['aggregate_8', 'aggregate_6']. Accuracy: 43.8088961784\n",
      "include: temperature_corr -> feature_subset: ['aggregate_8', 'aggregate_6', 'temperature_corr']. Accuracy: 46.4241759984\n",
      "include: aggregate_1 -> feature_subset: ['aggregate_8', 'aggregate_6', 'temperature_corr', 'aggregate_1']. Accuracy: 48.3819171213\n",
      "include: bet_500_1000 -> feature_subset: ['aggregate_8', 'aggregate_6', 'temperature_corr', 'aggregate_1', 'bet_500_1000']. Accuracy: 48.3819171213\n",
      "include: gt_1000 -> feature_subset: ['aggregate_8', 'aggregate_6', 'temperature_corr', 'aggregate_1', 'bet_500_1000', 'gt_1000']. Accuracy: 46.2156896492\n",
      "include: autocorr -> feature_subset: ['aggregate_8', 'aggregate_6', 'temperature_corr', 'aggregate_1', 'bet_500_1000', 'gt_1000', 'autocorr']. Accuracy: 43.8545676151\n",
      "include: aggregate_12 -> feature_subset: ['aggregate_12']. Accuracy: 45.3430286833\n",
      "include: aggregate_1 -> feature_subset: ['aggregate_12', 'aggregate_1']. Accuracy: 46.2547392063\n",
      "include: bet_500_1000 -> feature_subset: ['aggregate_12', 'aggregate_1', 'bet_500_1000']. Accuracy: 45.5394235104\n",
      "include: fft_2 -> feature_subset: ['aggregate_12', 'aggregate_1', 'bet_500_1000', 'fft_2']. Accuracy: 43.7968113212\n",
      "include: lt_500 -> feature_subset: ['aggregate_12', 'aggregate_1', 'bet_500_1000', 'fft_2', 'lt_500']. Accuracy: 45.2734584151\n",
      "include: aggregate_3 -> feature_subset: ['aggregate_12', 'aggregate_1', 'bet_500_1000', 'fft_2', 'lt_500', 'aggregate_3']. Accuracy: 44.890188154\n",
      "include: temperature_corr -> feature_subset: ['aggregate_12', 'aggregate_1', 'bet_500_1000', 'fft_2', 'lt_500', 'aggregate_3', 'temperature_corr']. Accuracy: 44.2534963129\n",
      "include: aggregate_10 -> feature_subset: ['aggregate_10']. Accuracy: 46.0135885135\n",
      "include: fft_2 -> feature_subset: ['aggregate_10', 'fft_2']. Accuracy: 44.4388932034\n",
      "include: aggregate_6 -> feature_subset: ['aggregate_10', 'fft_2', 'aggregate_6']. Accuracy: 44.753917057\n",
      "include: aggregate_12 -> feature_subset: ['aggregate_10', 'fft_2', 'aggregate_6', 'aggregate_12']. Accuracy: 45.5871138499\n",
      "include: bet_500_1000 -> feature_subset: ['aggregate_10', 'fft_2', 'aggregate_6', 'aggregate_12', 'bet_500_1000']. Accuracy: 45.5871138499\n",
      "include: aggregate_9 -> feature_subset: ['aggregate_10', 'fft_2', 'aggregate_6', 'aggregate_12', 'bet_500_1000', 'aggregate_9']. Accuracy: 44.7941511209\n",
      "include: max_seasonal_daily -> feature_subset: ['aggregate_10', 'fft_2', 'aggregate_6', 'aggregate_12', 'bet_500_1000', 'aggregate_9', 'max_seasonal_daily']. Accuracy: 44.9356536004\n",
      "include: aggregate_6 -> feature_subset: ['aggregate_6']. Accuracy: 44.0185990697\n",
      "include: cluster_small -> feature_subset: ['aggregate_6', 'cluster_small']. Accuracy: 46.3132281855\n",
      "include: difference_min_max -> feature_subset: ['aggregate_6', 'cluster_small', 'difference_min_max']. Accuracy: 45.9925695436\n",
      "include: aggregate_3 -> feature_subset: ['aggregate_6', 'cluster_small', 'difference_min_max', 'aggregate_3']. Accuracy: 48.4569610945\n",
      "include: bet_500_1000 -> feature_subset: ['aggregate_6', 'cluster_small', 'difference_min_max', 'aggregate_3', 'bet_500_1000']. Accuracy: 48.4569610945\n",
      "include: max_seasonal_daily -> feature_subset: ['aggregate_6', 'cluster_small', 'difference_min_max', 'aggregate_3', 'bet_500_1000', 'max_seasonal_daily']. Accuracy: 45.3252256886\n",
      "include: fft_3 -> feature_subset: ['aggregate_6', 'cluster_small', 'difference_min_max', 'aggregate_3', 'bet_500_1000', 'max_seasonal_daily', 'fft_3']. Accuracy: 44.616293782\n",
      "2 ['temperature_corr', 'fft_2', 'fft_1', 'aggregate_9', 'aggregate_5', 'difference_min_max'] 54.545307917\n",
      "--------------------------------------------------------------------------------\n"
     ]
    }
   ],
   "source": [
    "out_median, optimal_dict_median = find_optimal_features(df, dfc, all_homes, appliance_min, national_average, \n",
    "                                                        [\"hvac\",\"light\",\"fridge\",\"dr\",\"wm\",\"dw\"], {\"All\":feature_map[\"All\"]},\n",
    "                          NUM_NEIGHBOURS_MAX=7, F_length_max=7, metric=\"median\",\n",
    "                          train_outlier=True, test_outlier=False, outlier_features=None, outlier_fraction=0.1,\n",
    "                     print_steps=True)"
   ]
  },
  {
   "cell_type": "code",
   "execution_count": 10,
   "metadata": {
    "collapsed": false
   },
   "outputs": [],
   "source": [
    "import json\n",
    "json.dump(optimal_dict_median, open(\"optimal_dict_cv1.json\",\"w\"))\n",
    "json.dump(out_median, open(\"out_cv1.json\",\"w\"))\n"
   ]
  },
  {
   "cell_type": "markdown",
   "metadata": {},
   "source": [
    "### Second round of cross validation- Maximising mean accuracy after removing test outlier"
   ]
  },
  {
   "cell_type": "code",
   "execution_count": null,
   "metadata": {
    "collapsed": false
   },
   "outputs": [
    {
     "name": "stdout",
     "output_type": "stream",
     "text": [
      "%%%%%%%%%%%%%%%%%%%%%%%%%%%%%%%%%%%%%%%%\n",
      "fridge\n",
      "%%%%%%%%%%%%%%%%%%%%%%%%%%%%%%%%%%%%%%%%\n",
      "********************\n",
      "All\n",
      "********************\n",
      "include: aggregate_9 -> feature_subset: ['aggregate_9']. Accuracy: 73.5329848207"
     ]
    }
   ],
   "source": [
    "out_cv2 = {}\n",
    "optimal_cv2 = {}\n",
    "for appliance in [\"fridge\",\"hvac\",\"dw\",\"dr\",\"wm\",\"light\"]:\n",
    "    out_cv2[appliance] = {}\n",
    "    optimal_cv2[appliance] = {}\n",
    "    o, opt = find_optimal_features(df, dfc, all_homes, appliance_min, national_average, \n",
    "                                                            [appliance], {\"All\":feature_map[\"All\"]},\n",
    "                              NUM_NEIGHBOURS_MAX=7, F_length_max=7, metric=\"mean\",\n",
    "                              train_outlier=True, test_outlier=True, outlier_features=\n",
    "                                   optimal_dict_median[appliance][\"All\"][\"f\"], outlier_fraction=0.1,\n",
    "                         print_steps=True)\n",
    "    out_cv2[appliance][\"All\"]=o\n",
    "    optimal_cv2[appliance][\"All\"]=opt\n",
    "    "
   ]
  },
  {
   "cell_type": "markdown",
   "metadata": {},
   "source": [
    "### Sensitivity analysis on varying proportion of homes in the train set"
   ]
  },
  {
   "cell_type": "code",
   "execution_count": null,
   "metadata": {
    "collapsed": true
   },
   "outputs": [],
   "source": [
    "for appliance in [\"fridge\",\"hvac\",\"dw\",\"dr\",\"wm\",\"light\"]:\n",
    "    o, opt = find_optimal_features(df, dfc, all_homes, appliance_min, national_average, \n",
    "                                                            [appliance], {\"All\":feature_map[\"All\"]},\n",
    "                              NUM_NEIGHBOURS_MAX=7, F_length_max=7, metric=\"median\",\n",
    "                              train_outlier=True, test_outlier=True, outlier_features=\n",
    "                                   optimal_dict_median[appliance][\"All\"][\"f\"], outlier_fraction=0.1,\n",
    "                         print_steps=True)"
   ]
  },
  {
   "cell_type": "code",
   "execution_count": 16,
   "metadata": {
    "collapsed": false
   },
   "outputs": [
    {
     "data": {
      "text/plain": [
       "84.335716436338075"
      ]
     },
     "execution_count": 16,
     "metadata": {},
     "output_type": "execute_result"
    }
   ],
   "source": [
    "criterion_function(df, dfc, all_homes, appliance_min, national_average,\n",
    "                       appliance=\"hvac\", feature=optimal_dict['hvac']['All']['f'],NUM_NEIGHBOURS=4,\n",
    "                       train_outlier=True, test_outlier=True, outlier_features=optimal_dict['hvac']['All']['f'], outlier_fraction=0.1,\n",
    "                       metric=\"mean\")"
   ]
  },
  {
   "cell_type": "code",
   "execution_count": 182,
   "metadata": {
    "collapsed": false
   },
   "outputs": [
    {
     "name": "stdout",
     "output_type": "stream",
     "text": [
      "624 month\n",
      "5     False\n",
      "6      True\n",
      "7      True\n",
      "8      True\n",
      "9      True\n",
      "10    False\n",
      "Name: ON, dtype: bool\n",
      "1953 month\n",
      "5     False\n",
      "6      True\n",
      "7      True\n",
      "8      True\n",
      "9      True\n",
      "10    False\n",
      "Name: ON, dtype: bool\n",
      "6636 month\n",
      "5     False\n",
      "6      True\n",
      "7      True\n",
      "8      True\n",
      "9      True\n",
      "10    False\n",
      "Name: ON, dtype: bool\n",
      "6836 month\n",
      "5     False\n",
      "6      True\n",
      "7      True\n",
      "8      True\n",
      "9      True\n",
      "10    False\n",
      "Name: ON, dtype: bool\n",
      "7769 month\n",
      "5     False\n",
      "6      True\n",
      "7      True\n",
      "8      True\n",
      "9      True\n",
      "10    False\n",
      "Name: ON, dtype: bool\n",
      "9922 month\n",
      "5     False\n",
      "6      True\n",
      "7      True\n",
      "8      True\n",
      "9      True\n",
      "10    False\n",
      "Name: ON, dtype: bool\n"
     ]
    }
   ],
   "source": [
    "l = {}\n",
    "for home in all_homes['hvac']:\n",
    "\n",
    "    df = st['/%d' %home][['air1']]['2013-5-1':'2013-10-31'].resample(\"15T\")\n",
    "    df_day = df.resample(\"1D\")\n",
    "    df_day['month'] = df_day.index.month\n",
    "    df_day['ON'] = df_day['air1']>100\n",
    "    l[home] = (df_day.groupby(\"month\").sum()>15)[\"ON\"].sum()\n",
    "    if l[home]<=4:\n",
    "        print home, (df_day.groupby(\"month\").sum()>15)[\"ON\"]\n",
    "    \n"
   ]
  },
  {
   "cell_type": "code",
   "execution_count": 174,
   "metadata": {
    "collapsed": false
   },
   "outputs": [
    {
     "data": {
      "text/plain": [
       "<matplotlib.axes._subplots.AxesSubplot at 0x12497b7d0>"
      ]
     },
     "execution_count": 174,
     "metadata": {},
     "output_type": "execute_result"
    },
    {
     "data": {
      "image/png": "[encoded data removed]",
      "text/plain": [
       "<matplotlib.figure.Figure at 0x130f63110>"
      ]
     },
     "metadata": {},
     "output_type": "display_data"
    }
   ],
   "source": [
    "df.plot()"
   ]
  },
  {
   "cell_type": "code",
   "execution_count": 167,
   "metadata": {
    "collapsed": false
   },
   "outputs": [],
   "source": [
    "l_ser = pd.Series(l)"
   ]
  },
  {
   "cell_type": "code",
   "execution_count": 184,
   "metadata": {
    "collapsed": false
   },
   "outputs": [
    {
     "data": {
      "text/plain": [
       "Int64Index([624, 1953, 6636, 6836, 7769, 9922], dtype='int64')"
      ]
     },
     "execution_count": 184,
     "metadata": {},
     "output_type": "execute_result"
    }
   ],
   "source": [
    "l_ser[l_ser<=4].index"
   ]
  },
  {
   "cell_type": "code",
   "execution_count": 208,
   "metadata": {
    "collapsed": false
   },
   "outputs": [],
   "source": [
    "accur_df.loc[9922,10]=np.NaN"
   ]
  },
  {
   "cell_type": "code",
   "execution_count": 209,
   "metadata": {
    "collapsed": false
   },
   "outputs": [
    {
     "data": {
      "text/plain": [
       "75.130302760504165"
      ]
     },
     "execution_count": 209,
     "metadata": {},
     "output_type": "execute_result"
    }
   ],
   "source": [
    "accur_df.mean().mean()"
   ]
  },
  {
   "cell_type": "code",
   "execution_count": 157,
   "metadata": {
    "collapsed": false
   },
   "outputs": [
    {
     "data": {
      "text/plain": [
       "(-0.1, 1.1)"
      ]
     },
     "execution_count": 157,
     "metadata": {},
     "output_type": "execute_result"
    },
    {
     "data": {
      "image/png": "[encoded data removed]",
      "text/plain": [
       "<matplotlib.figure.Figure at 0x13f8fc750>"
      ]
     },
     "metadata": {},
     "output_type": "display_data"
    }
   ],
   "source": [
    "fig, ax = plt.subplots(nrows=2, sharex=True)\n",
    "df[['air1']].plot(ax=ax[0])\n",
    "df_day['ON'].plot(ax=ax[1])\n",
    "ax[1].set_ylim((-0.1,1.1))\n",
    "\n"
   ]
  },
  {
   "cell_type": "code",
   "execution_count": 158,
   "metadata": {
    "collapsed": false
   },
   "outputs": [
    {
     "data": {
      "text/plain": [
       "<matplotlib.axes._subplots.AxesSubplot at 0x130b51810>"
      ]
     },
     "execution_count": 158,
     "metadata": {},
     "output_type": "execute_result"
    },
    {
     "data": {
      "image/png": "[encoded data removed]",
      "text/plain": [
       "<matplotlib.figure.Figure at 0x11af23110>"
      ]
     },
     "metadata": {},
     "output_type": "display_data"
    }
   ],
   "source": [
    "df['air1'].plot(figsize=(20,5))"
   ]
  },
  {
   "cell_type": "code",
   "execution_count": 95,
   "metadata": {
    "collapsed": true
   },
   "outputs": [],
   "source": [
    "accur_df.ix[9934][6]=np.NaN"
   ]
  },
  {
   "cell_type": "code",
   "execution_count": 98,
   "metadata": {
    "collapsed": false
   },
   "outputs": [
    {
     "data": {
      "text/plain": [
       "73.244231127354681"
      ]
     },
     "execution_count": 98,
     "metadata": {},
     "output_type": "execute_result"
    }
   ],
   "source": [
    "accur_df.mean(axis=1).mean()"
   ]
  },
  {
   "cell_type": "code",
   "execution_count": null,
   "metadata": {
    "collapsed": true
   },
   "outputs": [],
   "source": [
    "find_optimal_features(df, dfc, all_homes, appliance_min, national_average, [\"light\"], {\"All\":feature_map[\"All\"]},\n",
    "                          NUM_NEIGHBOURS_MAX=7, F_length_max=7, metric=\"median\",\n",
    "                          train_outlier=True, test_outlier=False, outlier_features=optimal_dict['light']['All']['f'], outlier_fraction=0.1,\n",
    "                     print_steps=True)"
   ]
  },
  {
   "cell_type": "code",
   "execution_count": null,
   "metadata": {
    "collapsed": true
   },
   "outputs": [],
   "source": [
    "find_outlier_test_homes(df,all_homes,  \"light\", optimal_dict['light']['All']['f'], outliers_fraction=0.1)"
   ]
  },
  {
   "cell_type": "code",
   "execution_count": 1,
   "metadata": {
    "collapsed": false
   },
   "outputs": [
    {
     "ename": "NameError",
     "evalue": "name 'find_outlier_test_homes' is not defined",
     "output_type": "error",
     "traceback": [
      "\u001b[0;31m---------------------------------------------------------------------------\u001b[0m",
      "\u001b[0;31mNameError\u001b[0m                                 Traceback (most recent call last)",
      "\u001b[0;32m<ipython-input-1-1fa794ca00af>\u001b[0m in \u001b[0;36m<module>\u001b[0;34m()\u001b[0m\n\u001b[0;32m----> 1\u001b[0;31m \u001b[0mfind_outlier_test_homes\u001b[0m\u001b[0;34m(\u001b[0m\u001b[0mdf\u001b[0m\u001b[0;34m,\u001b[0m\u001b[0mall_homes\u001b[0m\u001b[0;34m,\u001b[0m  \u001b[0;34m\"light\"\u001b[0m\u001b[0;34m,\u001b[0m \u001b[0;34m[\u001b[0m\u001b[0;34m'area'\u001b[0m\u001b[0;34m,\u001b[0m \u001b[0;34m'aggregate_3'\u001b[0m\u001b[0;34m,\u001b[0m \u001b[0;34m'aggregate_7'\u001b[0m\u001b[0;34m]\u001b[0m\u001b[0;34m,\u001b[0m \u001b[0moutliers_fraction\u001b[0m\u001b[0;34m=\u001b[0m\u001b[0;36m0.1\u001b[0m\u001b[0;34m)\u001b[0m\u001b[0;34m\u001b[0m\u001b[0m\n\u001b[0m",
      "\u001b[0;31mNameError\u001b[0m: name 'find_outlier_test_homes' is not defined"
     ]
    }
   ],
   "source": [
    "find_outlier_test_homes(df,all_homes,  \"light\", ['area', 'aggregate_3', 'aggregate_7'], outliers_fraction=0.1)"
   ]
  },
  {
   "cell_type": "code",
   "execution_count": null,
   "metadata": {
    "collapsed": true
   },
   "outputs": [],
   "source": [
    "criterion_function(df, dfc, all_homes, appliance_min, national_average,\n",
    "                       appliance=\"light\", feature=f, NUM_NEIGHBOURS=3,\n",
    "                       train_outlier=True, test_outlier=True, outlier_features=f, outlier_fraction=0.1,\n",
    "                       metric=\"mean\")"
   ]
  },
  {
   "cell_type": "code",
   "execution_count": null,
   "metadata": {
    "collapsed": true
   },
   "outputs": [],
   "source": [
    "criterion_function(df, dfc, all_homes, appliance_min, national_average,\n",
    "                       appliance=\"light\", feature=f, NUM_NEIGHBOURS=3,\n",
    "                       train_outlier=True, test_outlier=True, outlier_features=f, outlier_fraction=0.1,\n",
    "                       metric=\"median\")"
   ]
  },
  {
   "cell_type": "code",
   "execution_count": 3,
   "metadata": {
    "collapsed": true
   },
   "outputs": [],
   "source": [
    "def find_precision_recall_outlier():\n",
    "    out = {}\n",
    "    for appliance in all_homes.keys():\n",
    "        true_outliers = all_true_outliers(df, all_homes, appliance, outlier_fraction=0.1)\n",
    "        pred = find_outlier_test_homes(df,all_homes, appliance, optimal_dict[appliance]['All']['f'], outliers_fraction=0.1)\n",
    "        intersection = np.intersect1d(true_outliers, pred)\n",
    "        precision = len(intersection)*1./len(pred)\n",
    "        recall = len(intersection)*1./len(true_outliers)\n",
    "        out[appliance] = {\"precision\":precision, \"recall\":recall}\n",
    "    return out\n"
   ]
  },
  {
   "cell_type": "code",
   "execution_count": 235,
   "metadata": {
    "collapsed": false
   },
   "outputs": [
    {
     "name": "stdout",
     "output_type": "stream",
     "text": [
      "%%%%%%%%%%%%%%%%%%%%%%%%%%%%%%%%%%%%%%%%\n",
      "dr\n",
      "%%%%%%%%%%%%%%%%%%%%%%%%%%%%%%%%%%%%%%%%\n",
      "********************\n",
      "All\n",
      "********************\n"
     ]
    },
    {
     "ename": "KeyError",
     "evalue": "\"['fraction_8' 'bet_500_1000' 'fraction_11' 'max_seasonal_12' 'aggregate_11'\\n 'num_rooms' 'max_seasonal_daily'] not in index\"",
     "output_type": "error",
     "traceback": [
      "\u001b[0;31m---------------------------------------------------------------------------\u001b[0m",
      "\u001b[0;31mKeyError\u001b[0m                                  Traceback (most recent call last)",
      "\u001b[0;32m<ipython-input-235-77370971a726>\u001b[0m in \u001b[0;36m<module>\u001b[0;34m()\u001b[0m\n\u001b[1;32m      8\u001b[0m  \u001b[0;34m'num_rooms'\u001b[0m\u001b[0;34m,\u001b[0m\u001b[0;34m\u001b[0m\u001b[0m\n\u001b[1;32m      9\u001b[0m  'max_seasonal_daily'], outlier_fraction=0.1,\n\u001b[0;32m---> 10\u001b[0;31m                           print_steps=True)\n\u001b[0m",
      "\u001b[0;32m/Users/nipunbatra/git/monthly-disaggregation/code/all_functions.py\u001b[0m in \u001b[0;36mfind_optimal_features\u001b[0;34m(df, dfc, all_homes, appliance_min, national_average, appliance_list, feature_map, NUM_NEIGHBOURS_MAX, F_length_max, metric, train_outlier, test_outlier, outlier_features, outlier_fraction, print_steps)\u001b[0m\n\u001b[1;32m    263\u001b[0m             \u001b[0;32mfor\u001b[0m \u001b[0mNUM_NEIGHBOURS\u001b[0m \u001b[0;32min\u001b[0m \u001b[0mrange\u001b[0m\u001b[0;34m(\u001b[0m\u001b[0;36m1\u001b[0m\u001b[0;34m,\u001b[0m \u001b[0mNUM_NEIGHBOURS_MAX\u001b[0m\u001b[0;34m)\u001b[0m\u001b[0;34m:\u001b[0m\u001b[0;34m\u001b[0m\u001b[0m\n\u001b[1;32m    264\u001b[0m                 \u001b[0mftc\u001b[0m \u001b[0;34m=\u001b[0m \u001b[0mdeepcopy\u001b[0m\u001b[0;34m(\u001b[0m\u001b[0mft\u001b[0m\u001b[0;34m)\u001b[0m\u001b[0;34m\u001b[0m\u001b[0m\n\u001b[0;32m--> 265\u001b[0;31m                 \u001b[0mout\u001b[0m\u001b[0;34m[\u001b[0m\u001b[0mappliance\u001b[0m\u001b[0;34m]\u001b[0m\u001b[0;34m[\u001b[0m\u001b[0mfeature_name\u001b[0m\u001b[0;34m]\u001b[0m\u001b[0;34m[\u001b[0m\u001b[0mNUM_NEIGHBOURS\u001b[0m\u001b[0;34m]\u001b[0m \u001b[0;34m=\u001b[0m \u001b[0;34m{\u001b[0m\u001b[0;34m}\u001b[0m\u001b[0;34m\u001b[0m\u001b[0m\n\u001b[0m\u001b[1;32m    266\u001b[0m \u001b[0;34m\u001b[0m\u001b[0m\n\u001b[1;32m    267\u001b[0m                 best = seq_forw_select(df, dfc, all_homes, appliance_min, national_average,\n",
      "\u001b[0;32m/Users/nipunbatra/git/monthly-disaggregation/code/all_functions.py\u001b[0m in \u001b[0;36mseq_forw_select\u001b[0;34m(df, dfc, all_homes, appliance_min, national_average, appliance, features, NUM_NEIGHBOURS, train_outlier, test_outlier, outlier_features, outlier_fraction, metric, max_k, criterion_func, print_steps)\u001b[0m\n\u001b[1;32m    160\u001b[0m         \u001b[0mmax_k\u001b[0m \u001b[0;34m=\u001b[0m \u001b[0md\u001b[0m\u001b[0;34m\u001b[0m\u001b[0m\n\u001b[1;32m    161\u001b[0m     \u001b[0;32mwhile\u001b[0m \u001b[0mTrue\u001b[0m\u001b[0;34m:\u001b[0m\u001b[0;34m\u001b[0m\u001b[0m\n\u001b[0;32m--> 162\u001b[0;31m \u001b[0;34m\u001b[0m\u001b[0m\n\u001b[0m\u001b[1;32m    163\u001b[0m         \u001b[0;31m# Inclusion step\u001b[0m\u001b[0;34m\u001b[0m\u001b[0;34m\u001b[0m\u001b[0m\n\u001b[1;32m    164\u001b[0m \u001b[0;34m\u001b[0m\u001b[0m\n",
      "\u001b[0;32m/Users/nipunbatra/git/monthly-disaggregation/code/all_functions.py\u001b[0m in \u001b[0;36mcriterion_function\u001b[0;34m(df, dfc, all_homes, appliance_min, national_average, appliance, feature, NUM_NEIGHBOURS, train_outlier, test_outlier, outlier_features, outlier_fraction, metric)\u001b[0m\n\u001b[1;32m    109\u001b[0m                        metric=\"median\"):\n\u001b[1;32m    110\u001b[0m \u001b[0;34m\u001b[0m\u001b[0m\n\u001b[0;32m--> 111\u001b[0;31m     temp = create_predictions(df, dfc, all_homes, appliance_min, national_average,\n\u001b[0m\u001b[1;32m    112\u001b[0m                               \u001b[0mappliance\u001b[0m\u001b[0;34m,\u001b[0m \u001b[0mfeature\u001b[0m\u001b[0;34m,\u001b[0m \u001b[0mNUM_NEIGHBOURS\u001b[0m\u001b[0;34m,\u001b[0m \u001b[0mtrain_outlier\u001b[0m\u001b[0;34m,\u001b[0m \u001b[0mtest_outlier\u001b[0m\u001b[0;34m,\u001b[0m \u001b[0moutlier_features\u001b[0m\u001b[0;34m,\u001b[0m\u001b[0;34m\u001b[0m\u001b[0m\n\u001b[1;32m    113\u001b[0m                               outlier_fraction)\n",
      "\u001b[0;32m/Users/nipunbatra/git/monthly-disaggregation/code/all_functions.py\u001b[0m in \u001b[0;36mcreate_predictions\u001b[0;34m(df, dfc, all_homes, appliance_min, national_average, appliance, feature, NUM_NEIGHBOURS, train_outlier, test_outlier, outlier_features, outlier_fraction)\u001b[0m\n\u001b[1;32m     30\u001b[0m         \u001b[0;32melse\u001b[0m\u001b[0;34m:\u001b[0m\u001b[0;34m\u001b[0m\u001b[0m\n\u001b[1;32m     31\u001b[0m             outlier_test_homes = find_outlier_test_homes(df,all_homes,  appliance,\n\u001b[0;32m---> 32\u001b[0;31m                                                          outlier_features, outliers_fraction=0.1)\n\u001b[0m\u001b[1;32m     33\u001b[0m \u001b[0;34m\u001b[0m\u001b[0m\n\u001b[1;32m     34\u001b[0m \u001b[0;34m\u001b[0m\u001b[0m\n",
      "\u001b[0;32m/Users/nipunbatra/git/monthly-disaggregation/code/all_functions.py\u001b[0m in \u001b[0;36mfind_outlier_test_homes\u001b[0;34m(df, all_homes, appliance, outlier_features, outliers_fraction)\u001b[0m\n\u001b[1;32m    295\u001b[0m     \u001b[0;32mreturn\u001b[0m \u001b[0mout\u001b[0m\u001b[0;34m,\u001b[0m \u001b[0moptimal_dict\u001b[0m\u001b[0;34m\u001b[0m\u001b[0m\n\u001b[1;32m    296\u001b[0m \u001b[0;34m\u001b[0m\u001b[0m\n\u001b[0;32m--> 297\u001b[0;31m \u001b[0;32mdef\u001b[0m \u001b[0mfind_outlier_test_homes\u001b[0m\u001b[0;34m(\u001b[0m\u001b[0mdf\u001b[0m\u001b[0;34m,\u001b[0m\u001b[0mall_homes\u001b[0m\u001b[0;34m,\u001b[0m  \u001b[0mappliance\u001b[0m\u001b[0;34m,\u001b[0m \u001b[0moutlier_features\u001b[0m\u001b[0;34m,\u001b[0m \u001b[0moutliers_fraction\u001b[0m\u001b[0;34m=\u001b[0m\u001b[0;36m0.1\u001b[0m\u001b[0;34m)\u001b[0m\u001b[0;34m:\u001b[0m\u001b[0;34m\u001b[0m\u001b[0m\n\u001b[0m\u001b[1;32m    298\u001b[0m     \u001b[0;32mfrom\u001b[0m \u001b[0mscipy\u001b[0m \u001b[0;32mimport\u001b[0m \u001b[0mstats\u001b[0m\u001b[0;34m\u001b[0m\u001b[0m\n\u001b[1;32m    299\u001b[0m \u001b[0;34m\u001b[0m\u001b[0m\n",
      "\u001b[0;32m/Users/nipunbatra/anaconda/lib/python2.7/site-packages/pandas/core/frame.pyc\u001b[0m in \u001b[0;36m__getitem__\u001b[0;34m(self, key)\u001b[0m\n\u001b[1;32m   1789\u001b[0m         \u001b[0;32mif\u001b[0m \u001b[0misinstance\u001b[0m\u001b[0;34m(\u001b[0m\u001b[0mkey\u001b[0m\u001b[0;34m,\u001b[0m \u001b[0;34m(\u001b[0m\u001b[0mSeries\u001b[0m\u001b[0;34m,\u001b[0m \u001b[0mnp\u001b[0m\u001b[0;34m.\u001b[0m\u001b[0mndarray\u001b[0m\u001b[0;34m,\u001b[0m \u001b[0mIndex\u001b[0m\u001b[0;34m,\u001b[0m \u001b[0mlist\u001b[0m\u001b[0;34m)\u001b[0m\u001b[0;34m)\u001b[0m\u001b[0;34m:\u001b[0m\u001b[0;34m\u001b[0m\u001b[0m\n\u001b[1;32m   1790\u001b[0m             \u001b[0;31m# either boolean or fancy integer index\u001b[0m\u001b[0;34m\u001b[0m\u001b[0;34m\u001b[0m\u001b[0m\n\u001b[0;32m-> 1791\u001b[0;31m             \u001b[0;32mreturn\u001b[0m \u001b[0mself\u001b[0m\u001b[0;34m.\u001b[0m\u001b[0m_getitem_array\u001b[0m\u001b[0;34m(\u001b[0m\u001b[0mkey\u001b[0m\u001b[0;34m)\u001b[0m\u001b[0;34m\u001b[0m\u001b[0m\n\u001b[0m\u001b[1;32m   1792\u001b[0m         \u001b[0;32melif\u001b[0m \u001b[0misinstance\u001b[0m\u001b[0;34m(\u001b[0m\u001b[0mkey\u001b[0m\u001b[0;34m,\u001b[0m \u001b[0mDataFrame\u001b[0m\u001b[0;34m)\u001b[0m\u001b[0;34m:\u001b[0m\u001b[0;34m\u001b[0m\u001b[0m\n\u001b[1;32m   1793\u001b[0m             \u001b[0;32mreturn\u001b[0m \u001b[0mself\u001b[0m\u001b[0;34m.\u001b[0m\u001b[0m_getitem_frame\u001b[0m\u001b[0;34m(\u001b[0m\u001b[0mkey\u001b[0m\u001b[0;34m)\u001b[0m\u001b[0;34m\u001b[0m\u001b[0m\n",
      "\u001b[0;32m/Users/nipunbatra/anaconda/lib/python2.7/site-packages/pandas/core/frame.pyc\u001b[0m in \u001b[0;36m_getitem_array\u001b[0;34m(self, key)\u001b[0m\n\u001b[1;32m   1833\u001b[0m             \u001b[0;32mreturn\u001b[0m \u001b[0mself\u001b[0m\u001b[0;34m.\u001b[0m\u001b[0mtake\u001b[0m\u001b[0;34m(\u001b[0m\u001b[0mindexer\u001b[0m\u001b[0;34m,\u001b[0m \u001b[0maxis\u001b[0m\u001b[0;34m=\u001b[0m\u001b[0;36m0\u001b[0m\u001b[0;34m,\u001b[0m \u001b[0mconvert\u001b[0m\u001b[0;34m=\u001b[0m\u001b[0mFalse\u001b[0m\u001b[0;34m)\u001b[0m\u001b[0;34m\u001b[0m\u001b[0m\n\u001b[1;32m   1834\u001b[0m         \u001b[0;32melse\u001b[0m\u001b[0;34m:\u001b[0m\u001b[0;34m\u001b[0m\u001b[0m\n\u001b[0;32m-> 1835\u001b[0;31m             \u001b[0mindexer\u001b[0m \u001b[0;34m=\u001b[0m \u001b[0mself\u001b[0m\u001b[0;34m.\u001b[0m\u001b[0mix\u001b[0m\u001b[0;34m.\u001b[0m\u001b[0m_convert_to_indexer\u001b[0m\u001b[0;34m(\u001b[0m\u001b[0mkey\u001b[0m\u001b[0;34m,\u001b[0m \u001b[0maxis\u001b[0m\u001b[0;34m=\u001b[0m\u001b[0;36m1\u001b[0m\u001b[0;34m)\u001b[0m\u001b[0;34m\u001b[0m\u001b[0m\n\u001b[0m\u001b[1;32m   1836\u001b[0m             \u001b[0;32mreturn\u001b[0m \u001b[0mself\u001b[0m\u001b[0;34m.\u001b[0m\u001b[0mtake\u001b[0m\u001b[0;34m(\u001b[0m\u001b[0mindexer\u001b[0m\u001b[0;34m,\u001b[0m \u001b[0maxis\u001b[0m\u001b[0;34m=\u001b[0m\u001b[0;36m1\u001b[0m\u001b[0;34m,\u001b[0m \u001b[0mconvert\u001b[0m\u001b[0;34m=\u001b[0m\u001b[0mTrue\u001b[0m\u001b[0;34m)\u001b[0m\u001b[0;34m\u001b[0m\u001b[0m\n\u001b[1;32m   1837\u001b[0m \u001b[0;34m\u001b[0m\u001b[0m\n",
      "\u001b[0;32m/Users/nipunbatra/anaconda/lib/python2.7/site-packages/pandas/core/indexing.pyc\u001b[0m in \u001b[0;36m_convert_to_indexer\u001b[0;34m(self, obj, axis, is_setter)\u001b[0m\n\u001b[1;32m   1110\u001b[0m                 \u001b[0mmask\u001b[0m \u001b[0;34m=\u001b[0m \u001b[0mcheck\u001b[0m \u001b[0;34m==\u001b[0m \u001b[0;34m-\u001b[0m\u001b[0;36m1\u001b[0m\u001b[0;34m\u001b[0m\u001b[0m\n\u001b[1;32m   1111\u001b[0m                 \u001b[0;32mif\u001b[0m \u001b[0mmask\u001b[0m\u001b[0;34m.\u001b[0m\u001b[0many\u001b[0m\u001b[0;34m(\u001b[0m\u001b[0;34m)\u001b[0m\u001b[0;34m:\u001b[0m\u001b[0;34m\u001b[0m\u001b[0m\n\u001b[0;32m-> 1112\u001b[0;31m                     \u001b[0;32mraise\u001b[0m \u001b[0mKeyError\u001b[0m\u001b[0;34m(\u001b[0m\u001b[0;34m'%s not in index'\u001b[0m \u001b[0;34m%\u001b[0m \u001b[0mobjarr\u001b[0m\u001b[0;34m[\u001b[0m\u001b[0mmask\u001b[0m\u001b[0;34m]\u001b[0m\u001b[0;34m)\u001b[0m\u001b[0;34m\u001b[0m\u001b[0m\n\u001b[0m\u001b[1;32m   1113\u001b[0m \u001b[0;34m\u001b[0m\u001b[0m\n\u001b[1;32m   1114\u001b[0m                 \u001b[0;32mreturn\u001b[0m \u001b[0m_values_from_object\u001b[0m\u001b[0;34m(\u001b[0m\u001b[0mindexer\u001b[0m\u001b[0;34m)\u001b[0m\u001b[0;34m\u001b[0m\u001b[0m\n",
      "\u001b[0;31mKeyError\u001b[0m: \"['fraction_8' 'bet_500_1000' 'fraction_11' 'max_seasonal_12' 'aggregate_11'\\n 'num_rooms' 'max_seasonal_daily'] not in index\""
     ]
    }
   ],
   "source": [
    "find_optimal_features(df, dfc, all_homes, appliance_min, national_average, [\"dr\"], {\"All\":feature_map['All']},\n",
    "                          NUM_NEIGHBOURS_MAX=7, F_length_max=7, metric=\"mean\",\n",
    "                          train_outlier=True, test_outlier=True, outlier_features=['fraction_8',\n",
    " 'bet_500_1000',\n",
    " 'fraction_11',\n",
    " 'max_seasonal_12',\n",
    " 'aggregate_11',\n",
    " 'num_rooms',\n",
    " 'max_seasonal_daily'], outlier_fraction=0.1,\n",
    "                          print_steps=True)"
   ]
  },
  {
   "cell_type": "code",
   "execution_count": 234,
   "metadata": {
    "collapsed": false
   },
   "outputs": [
    {
     "data": {
      "text/plain": [
       "['fraction_8',\n",
       " 'bet_500_1000',\n",
       " 'fraction_11',\n",
       " 'max_seasonal_12',\n",
       " 'aggregate_11',\n",
       " 'num_rooms',\n",
       " 'max_seasonal_daily']"
      ]
     },
     "execution_count": 234,
     "metadata": {},
     "output_type": "execute_result"
    }
   ],
   "source": [
    "[str(x).replace(\"\\n\",\"\") for x in optimal_dict['dr']['All']['f']]"
   ]
  },
  {
   "cell_type": "code",
   "execution_count": 246,
   "metadata": {
    "collapsed": false
   },
   "outputs": [
    {
     "name": "stdout",
     "output_type": "stream",
     "text": [
      "%%%%%%%%%%%%%%%%%%%%%%%%%%%%%%%%%%%%%%%%\n",
      "light\n",
      "%%%%%%%%%%%%%%%%%%%%%%%%%%%%%%%%%%%%%%%%\n",
      "********************\n",
      "All\n",
      "********************\n",
      "include: bet_500_1000 -> feature_subset: ['bet_500_1000']. Accuracy: 47.4764389822\n",
      "include: autocorr -> feature_subset: ['bet_500_1000', 'autocorr']. Accuracy: 47.471735883\n",
      "include: ratio_min_max -> feature_subset: ['bet_500_1000', 'autocorr', 'ratio_min_max']. Accuracy: 43.1353158143\n",
      "include: cluster_big -> feature_subset: ['bet_500_1000', 'autocorr', 'ratio_min_max', 'cluster_big']. Accuracy: 44.3530534463\n",
      "include: aggregate_2 -> feature_subset: ['bet_500_1000', 'autocorr', 'ratio_min_max', 'cluster_big', 'aggregate_2']. Accuracy: 47.9414011308\n",
      "include: ratio_difference_min_max -> feature_subset: ['bet_500_1000', 'autocorr', 'ratio_min_max', 'cluster_big', 'aggregate_2', 'ratio_difference_min_max']. Accuracy: 51.5270836852\n",
      "include: fft_2 -> feature_subset: ['bet_500_1000', 'autocorr', 'ratio_min_max', 'cluster_big', 'aggregate_2', 'ratio_difference_min_max', 'fft_2']. Accuracy: 52.1189945502\n",
      "include: area -> feature_subset: ['area']. Accuracy: 50.1520977049\n",
      "include: aggregate_7 -> feature_subset: ['area', 'aggregate_7']. Accuracy: 54.7920820598\n",
      "include: bet_500_1000 -> feature_subset: ['area', 'aggregate_7', 'bet_500_1000']. Accuracy: 54.7920820598\n",
      "include: aggregate_5 -> feature_subset: ['area', 'aggregate_7', 'bet_500_1000', 'aggregate_5']. Accuracy: 53.8941853366\n",
      "include: gt_1000 -> feature_subset: ['area', 'aggregate_7', 'bet_500_1000', 'aggregate_5', 'gt_1000']. Accuracy: 54.7983517463\n",
      "include: aggregate_2 -> feature_subset: ['area', 'aggregate_7', 'bet_500_1000', 'aggregate_5', 'gt_1000', 'aggregate_2']. Accuracy: 54.7983517463\n",
      "include: disag_fridge -> feature_subset: ['area', 'aggregate_7', 'bet_500_1000', 'aggregate_5', 'gt_1000', 'aggregate_2', 'disag_fridge']. Accuracy: 53.2314280616\n",
      "include: area -> feature_subset: ['area']. Accuracy: 50.2927499654\n",
      "include: aggregate_3 -> feature_subset: ['area', 'aggregate_3']. Accuracy: 52.9268672806\n",
      "include: aggregate_7 -> feature_subset: ['area', 'aggregate_3', 'aggregate_7']. Accuracy: 54.1043807472\n",
      "include: lt_500 -> feature_subset: ['area', 'aggregate_3', 'aggregate_7', 'lt_500']. Accuracy: 55.4366263372\n",
      "include: bet_500_1000 -> feature_subset: ['area', 'aggregate_3', 'aggregate_7', 'lt_500', 'bet_500_1000']. Accuracy: 55.4366263372\n",
      "include: aggregate_5 -> feature_subset: ['area', 'aggregate_3', 'aggregate_7', 'lt_500', 'bet_500_1000', 'aggregate_5']. Accuracy: 56.0888948512\n",
      "include: gt_1000 -> feature_subset: ['area', 'aggregate_3', 'aggregate_7', 'lt_500', 'bet_500_1000', 'aggregate_5', 'gt_1000']. Accuracy: 55.4366263372\n",
      "include: area -> feature_subset: ['area']. Accuracy: 48.3942589166\n",
      "include: aggregate_3 -> feature_subset: ['area', 'aggregate_3']. Accuracy: 54.9378528615\n",
      "include: aggregate_10 -> feature_subset: ['area', 'aggregate_3', 'aggregate_10']. Accuracy: 55.5323402249\n",
      "include: bet_500_1000 -> feature_subset: ['area', 'aggregate_3', 'aggregate_10', 'bet_500_1000']. Accuracy: 55.7299766587\n",
      "include: lt_500 -> feature_subset: ['area', 'aggregate_3', 'aggregate_10', 'bet_500_1000', 'lt_500']. Accuracy: 54.7168021143\n",
      "include: aggregate_1 -> feature_subset: ['area', 'aggregate_3', 'aggregate_10', 'bet_500_1000', 'lt_500', 'aggregate_1']. Accuracy: 54.5063281197\n",
      "include: gt_1000 -> feature_subset: ['area', 'aggregate_3', 'aggregate_10', 'bet_500_1000', 'lt_500', 'aggregate_1', 'gt_1000']. Accuracy: 53.0022677394\n",
      "include: area -> feature_subset: ['area']. Accuracy: 53.3342896679\n",
      "include: bet_500_1000 -> feature_subset: ['area', 'bet_500_1000']. Accuracy: 54.9676176607\n",
      "include: aggregate_6 -> feature_subset: ['area', 'bet_500_1000', 'aggregate_6']. Accuracy: 54.4166245784\n",
      "include: aggregate_10 -> feature_subset: ['area', 'bet_500_1000', 'aggregate_6', 'aggregate_10']. Accuracy: 54.8336214613\n",
      "include: lt_500 -> feature_subset: ['area', 'bet_500_1000', 'aggregate_6', 'aggregate_10', 'lt_500']. Accuracy: 54.0299331565\n",
      "include: aggregate_5 -> feature_subset: ['area', 'bet_500_1000', 'aggregate_6', 'aggregate_10', 'lt_500', 'aggregate_5']. Accuracy: 55.3303315985\n",
      "include: aggregate_9 -> feature_subset: ['area', 'bet_500_1000', 'aggregate_6', 'aggregate_10', 'lt_500', 'aggregate_5', 'aggregate_9']. Accuracy: 53.4282871149\n",
      "include: area -> feature_subset: ['area']. Accuracy: 52.7797930665\n",
      "include: bet_500_1000 -> feature_subset: ['area', 'bet_500_1000']. Accuracy: 53.1572186086\n",
      "include: aggregate_9 -> feature_subset: ['area', 'bet_500_1000', 'aggregate_9']. Accuracy: 54.0475814663\n",
      "include: aggregate_5 -> feature_subset: ['area', 'bet_500_1000', 'aggregate_9', 'aggregate_5']. Accuracy: 52.4041486049\n",
      "include: lt_500 -> feature_subset: ['area', 'bet_500_1000', 'aggregate_9', 'aggregate_5', 'lt_500']. Accuracy: 52.1973879448\n",
      "include: aggregate_6 -> feature_subset: ['area', 'bet_500_1000', 'aggregate_9', 'aggregate_5', 'lt_500', 'aggregate_6']. Accuracy: 50.792029857\n",
      "include: aggregate_10 -> feature_subset: ['area', 'bet_500_1000', 'aggregate_9', 'aggregate_5', 'lt_500', 'aggregate_6', 'aggregate_10']. Accuracy: 50.735569024\n",
      "3 ['area', 'aggregate_3', 'aggregate_7', 'lt_500', 'bet_500_1000', 'aggregate_5'] 56.0888948512\n",
      "--------------------------------------------------------------------------------\n",
      "%%%%%%%%%%%%%%%%%%%%%%%%%%%%%%%%%%%%%%%%\n",
      "dw\n",
      "%%%%%%%%%%%%%%%%%%%%%%%%%%%%%%%%%%%%%%%%\n",
      "********************\n",
      "All\n",
      "********************\n",
      "include: aggregate_6 -> feature_subset: ['aggregate_6']. Accuracy: 40.5332385363\n",
      "include: temperature_corr -> feature_subset: ['aggregate_6', 'temperature_corr']. Accuracy: 41.1182521845\n",
      "include: fft_2 -> feature_subset: ['aggregate_6', 'temperature_corr', 'fft_2']. Accuracy: 44.6400306688\n",
      "include: total_occupants -> feature_subset: ['aggregate_6', 'temperature_corr', 'fft_2', 'total_occupants']. Accuracy: 47.0535939974\n",
      "include: aggregate_10 -> feature_subset: ['aggregate_6', 'temperature_corr', 'fft_2', 'total_occupants', 'aggregate_10']. Accuracy: 47.9036432125\n",
      "include: aggregate_1 -> feature_subset: ['aggregate_6', 'temperature_corr', 'fft_2', 'total_occupants', 'aggregate_10', 'aggregate_1']. Accuracy: 48.3398925665\n",
      "include: fft_4 -> feature_subset: ['aggregate_6', 'temperature_corr', 'fft_2', 'total_occupants', 'aggregate_10', 'aggregate_1', 'fft_4']. Accuracy: 49.0836005336\n",
      "include: temperature_corr -> feature_subset: ['temperature_corr']. Accuracy: 42.7165397666\n",
      "include: fft_2 -> feature_subset: ['temperature_corr', 'fft_2']. Accuracy: 48.6017118755\n",
      "include: fft_1 -> feature_subset: ['temperature_corr', 'fft_2', 'fft_1']. Accuracy: 51.7851885104\n",
      "include: aggregate_9 -> feature_subset: ['temperature_corr', 'fft_2', 'fft_1', 'aggregate_9']. Accuracy: 51.8891223044\n",
      "include: aggregate_5 -> feature_subset: ['temperature_corr', 'fft_2', 'fft_1', 'aggregate_9', 'aggregate_5']. Accuracy: 52.2455594696\n",
      "include: difference_min_max -> feature_subset: ['temperature_corr', 'fft_2', 'fft_1', 'aggregate_9', 'aggregate_5', 'difference_min_max']. Accuracy: 54.545307917\n",
      "include: aggregate_4 -> feature_subset: ['temperature_corr', 'fft_2', 'fft_1', 'aggregate_9', 'aggregate_5', 'difference_min_max', 'aggregate_4']. Accuracy: 50.9704690487\n",
      "include: aggregate_8 -> feature_subset: ['aggregate_8']. Accuracy: 43.0950300096\n",
      "include: aggregate_6 -> feature_subset: ['aggregate_8', 'aggregate_6']. Accuracy: 43.8088961784\n",
      "include: temperature_corr -> feature_subset: ['aggregate_8', 'aggregate_6', 'temperature_corr']. Accuracy: 46.4241759984\n",
      "include: aggregate_1 -> feature_subset: ['aggregate_8', 'aggregate_6', 'temperature_corr', 'aggregate_1']. Accuracy: 48.3819171213\n",
      "include: bet_500_1000 -> feature_subset: ['aggregate_8', 'aggregate_6', 'temperature_corr', 'aggregate_1', 'bet_500_1000']. Accuracy: 48.3819171213\n",
      "include: gt_1000 -> feature_subset: ['aggregate_8', 'aggregate_6', 'temperature_corr', 'aggregate_1', 'bet_500_1000', 'gt_1000']. Accuracy: 46.2156896492\n",
      "include: autocorr -> feature_subset: ['aggregate_8', 'aggregate_6', 'temperature_corr', 'aggregate_1', 'bet_500_1000', 'gt_1000', 'autocorr']. Accuracy: 43.8545676151\n",
      "include: aggregate_12 -> feature_subset: ['aggregate_12']. Accuracy: 45.3430286833\n",
      "include: aggregate_1 -> feature_subset: ['aggregate_12', 'aggregate_1']. Accuracy: 46.2547392063\n",
      "include: bet_500_1000 -> feature_subset: ['aggregate_12', 'aggregate_1', 'bet_500_1000']. Accuracy: 45.5394235104\n",
      "include: fft_2 -> feature_subset: ['aggregate_12', 'aggregate_1', 'bet_500_1000', 'fft_2']. Accuracy: 43.7968113212\n",
      "include: lt_500 -> feature_subset: ['aggregate_12', 'aggregate_1', 'bet_500_1000', 'fft_2', 'lt_500']. Accuracy: 45.2734584151\n",
      "include: aggregate_3 -> feature_subset: ['aggregate_12', 'aggregate_1', 'bet_500_1000', 'fft_2', 'lt_500', 'aggregate_3']. Accuracy: 44.890188154\n",
      "include: temperature_corr -> feature_subset: ['aggregate_12', 'aggregate_1', 'bet_500_1000', 'fft_2', 'lt_500', 'aggregate_3', 'temperature_corr']. Accuracy: 44.2534963129\n",
      "include: aggregate_10 -> feature_subset: ['aggregate_10']. Accuracy: 46.0135885135\n",
      "include: fft_2 -> feature_subset: ['aggregate_10', 'fft_2']. Accuracy: 44.4388932034\n",
      "include: aggregate_6 -> feature_subset: ['aggregate_10', 'fft_2', 'aggregate_6']. Accuracy: 44.753917057\n",
      "include: aggregate_12 -> feature_subset: ['aggregate_10', 'fft_2', 'aggregate_6', 'aggregate_12']. Accuracy: 45.5871138499\n",
      "include: bet_500_1000 -> feature_subset: ['aggregate_10', 'fft_2', 'aggregate_6', 'aggregate_12', 'bet_500_1000']. Accuracy: 45.5871138499\n",
      "include: aggregate_9 -> feature_subset: ['aggregate_10', 'fft_2', 'aggregate_6', 'aggregate_12', 'bet_500_1000', 'aggregate_9']. Accuracy: 44.7941511209\n",
      "include: max_seasonal_daily -> feature_subset: ['aggregate_10', 'fft_2', 'aggregate_6', 'aggregate_12', 'bet_500_1000', 'aggregate_9', 'max_seasonal_daily']. Accuracy: 44.9356536004\n",
      "include: aggregate_6 -> feature_subset: ['aggregate_6']. Accuracy: 44.0185990697\n",
      "include: cluster_small -> feature_subset: ['aggregate_6', 'cluster_small']. Accuracy: 46.3132281855\n",
      "include: difference_min_max -> feature_subset: ['aggregate_6', 'cluster_small', 'difference_min_max']. Accuracy: 45.9925695436\n",
      "include: aggregate_3 -> feature_subset: ['aggregate_6', 'cluster_small', 'difference_min_max', 'aggregate_3']. Accuracy: 48.4569610945\n",
      "include: bet_500_1000 -> feature_subset: ['aggregate_6', 'cluster_small', 'difference_min_max', 'aggregate_3', 'bet_500_1000']. Accuracy: 48.4569610945\n",
      "include: max_seasonal_daily -> feature_subset: ['aggregate_6', 'cluster_small', 'difference_min_max', 'aggregate_3', 'bet_500_1000', 'max_seasonal_daily']. Accuracy: 45.3252256886\n",
      "include: fft_3 -> feature_subset: ['aggregate_6', 'cluster_small', 'difference_min_max', 'aggregate_3', 'bet_500_1000', 'max_seasonal_daily', 'fft_3']. Accuracy: 44.616293782\n",
      "2 ['temperature_corr', 'fft_2', 'fft_1', 'aggregate_9', 'aggregate_5', 'difference_min_max'] 54.545307917\n",
      "--------------------------------------------------------------------------------\n"
     ]
    },
    {
     "data": {
      "text/plain": [
       "({'dw': {'All': {1: {'accuracy': 49.08360053355657,\n",
       "     'f': ['aggregate_6',\n",
       "      'temperature_corr',\n",
       "      'fft_2',\n",
       "      'total_occupants',\n",
       "      'aggregate_10',\n",
       "      'aggregate_1',\n",
       "      'fft_4']},\n",
       "    2: {'accuracy': 54.545307916951202,\n",
       "     'f': ['temperature_corr',\n",
       "      'fft_2',\n",
       "      'fft_1',\n",
       "      'aggregate_9',\n",
       "      'aggregate_5',\n",
       "      'difference_min_max']},\n",
       "    3: {'accuracy': 48.381917121314224,\n",
       "     'f': ['aggregate_8', 'aggregate_6', 'temperature_corr', 'aggregate_1']},\n",
       "    4: {'accuracy': 46.25473920631466, 'f': ['aggregate_12', 'aggregate_1']},\n",
       "    5: {'accuracy': 46.013588513502761, 'f': ['aggregate_10']},\n",
       "    6: {'accuracy': 48.456961094497039,\n",
       "     'f': ['aggregate_6',\n",
       "      'cluster_small',\n",
       "      'difference_min_max',\n",
       "      'aggregate_3']}}},\n",
       "  'light': {'All': {1: {'accuracy': 52.118994550225388,\n",
       "     'f': ['bet_500_1000',\n",
       "      'autocorr',\n",
       "      'ratio_min_max',\n",
       "      'cluster_big',\n",
       "      'aggregate_2',\n",
       "      'ratio_difference_min_max',\n",
       "      'fft_2']},\n",
       "    2: {'accuracy': 54.798351746325437,\n",
       "     'f': ['area', 'aggregate_7', 'bet_500_1000', 'aggregate_5', 'gt_1000']},\n",
       "    3: {'accuracy': 56.088894851220459,\n",
       "     'f': ['area',\n",
       "      'aggregate_3',\n",
       "      'aggregate_7',\n",
       "      'lt_500',\n",
       "      'bet_500_1000',\n",
       "      'aggregate_5']},\n",
       "    4: {'accuracy': 55.729976658743603,\n",
       "     'f': ['area', 'aggregate_3', 'aggregate_10', 'bet_500_1000']},\n",
       "    5: {'accuracy': 55.330331598490481,\n",
       "     'f': ['area',\n",
       "      'bet_500_1000',\n",
       "      'aggregate_6',\n",
       "      'aggregate_10',\n",
       "      'lt_500',\n",
       "      'aggregate_5']},\n",
       "    6: {'accuracy': 54.047581466267893,\n",
       "     'f': ['area', 'bet_500_1000', 'aggregate_9']}}}},\n",
       " {'dw': {'All': {'accuracy': 54.545307916951202,\n",
       "    'f': ['temperature_corr',\n",
       "     'fft_2',\n",
       "     'fft_1',\n",
       "     'aggregate_9',\n",
       "     'aggregate_5',\n",
       "     'difference_min_max'],\n",
       "    'k': 2}},\n",
       "  'light': {'All': {'accuracy': 56.088894851220459,\n",
       "    'f': ['area',\n",
       "     'aggregate_3',\n",
       "     'aggregate_7',\n",
       "     'lt_500',\n",
       "     'bet_500_1000',\n",
       "     'aggregate_5'],\n",
       "    'k': 3}}})"
      ]
     },
     "execution_count": 246,
     "metadata": {},
     "output_type": "execute_result"
    }
   ],
   "source": [
    "find_optimal_features(df, dfc, all_homes, appliance_min, national_average, [\"light\",\"dw\"], {\"All\":feature_map[\"All\"]},\n",
    "                          NUM_NEIGHBOURS_MAX=7, F_length_max=7, metric=\"median\",\n",
    "                          train_outlier=True, test_outlier=False, outlier_features=[u'gt_1000',\n",
    "  u'fft_3',\n",
    "  u'fraction_8',\n",
    "  u'lt_500',\n",
    "  u'seasonal_energy_10',\n",
    "  u'fraction_16'], outlier_fraction=0.1,\n",
    "                          print_steps=True)"
   ]
  },
  {
   "cell_type": "code",
   "execution_count": null,
   "metadata": {
    "collapsed": true
   },
   "outputs": [],
   "source": [
    "f = ['temperature_corr',\n",
    "     'fft_2',\n",
    "     'fft_1',\n",
    "     'aggregate_9',\n",
    "     'aggregate_5',\n",
    "     'difference_min_max']"
   ]
  },
  {
   "cell_type": "code",
   "execution_count": 247,
   "metadata": {
    "collapsed": false
   },
   "outputs": [],
   "source": [
    "  f=  ['area',\n",
    "     'aggregate_3',\n",
    "     'aggregate_7',\n",
    "     'lt_500',\n",
    "     'bet_500_1000',\n",
    "     'aggregate_5']"
   ]
  },
  {
   "cell_type": "code",
   "execution_count": 249,
   "metadata": {
    "collapsed": false
   },
   "outputs": [
    {
     "name": "stdout",
     "output_type": "stream",
     "text": [
      "%%%%%%%%%%%%%%%%%%%%%%%%%%%%%%%%%%%%%%%%\n",
      "light\n",
      "%%%%%%%%%%%%%%%%%%%%%%%%%%%%%%%%%%%%%%%%\n",
      "********************\n",
      "All\n",
      "********************\n",
      "include: bet_500_1000 -> feature_subset: ['bet_500_1000']. Accuracy: 41.6764063549\n",
      "include: lt_500 -> feature_subset: ['bet_500_1000', 'lt_500']. Accuracy: 42.5612872267\n",
      "include: gt_1000 -> feature_subset: ['bet_500_1000', 'lt_500', 'gt_1000']. Accuracy: 40.4497080584\n",
      "include: aggregate_9 -> feature_subset: ['bet_500_1000', 'lt_500', 'gt_1000', 'aggregate_9']. Accuracy: 40.3836220304\n",
      "include: max_seasonal_weekly -> feature_subset: ['bet_500_1000', 'lt_500', 'gt_1000', 'aggregate_9', 'max_seasonal_weekly']. Accuracy: 40.2489284632\n",
      "include: aggregate_8 -> feature_subset: ['bet_500_1000', 'lt_500', 'gt_1000', 'aggregate_9', 'max_seasonal_weekly', 'aggregate_8']. Accuracy: 43.4506844008\n",
      "include: aggregate_5 -> feature_subset: ['bet_500_1000', 'lt_500', 'gt_1000', 'aggregate_9', 'max_seasonal_weekly', 'aggregate_8', 'aggregate_5']. Accuracy: 43.7406119555\n",
      "include: area -> feature_subset: ['area']. Accuracy: 45.321900524\n",
      "include: aggregate_7 -> feature_subset: ['area', 'aggregate_7']. Accuracy: 49.3573847857\n",
      "include: bet_500_1000 -> feature_subset: ['area', 'aggregate_7', 'bet_500_1000']. Accuracy: 49.3573847857\n",
      "include: aggregate_5 -> feature_subset: ['area', 'aggregate_7', 'bet_500_1000', 'aggregate_5']. Accuracy: 48.7210219349\n",
      "include: gt_1000 -> feature_subset: ['area', 'aggregate_7', 'bet_500_1000', 'aggregate_5', 'gt_1000']. Accuracy: 49.0537482941\n",
      "include: aggregate_2 -> feature_subset: ['area', 'aggregate_7', 'bet_500_1000', 'aggregate_5', 'gt_1000', 'aggregate_2']. Accuracy: 49.0537482941\n",
      "include: aggregate_9 -> feature_subset: ['area', 'aggregate_7', 'bet_500_1000', 'aggregate_5', 'gt_1000', 'aggregate_2', 'aggregate_9']. Accuracy: 46.8149912834\n",
      "include: area -> feature_subset: ['area']. Accuracy: 44.242528659\n",
      "include: aggregate_4 -> feature_subset: ['area', 'aggregate_4']. Accuracy: 45.9574231761\n",
      "include: aggregate_11 -> feature_subset: ['area', 'aggregate_4', 'aggregate_11']. Accuracy: 46.2057949144\n",
      "include: gt_1000 -> feature_subset: ['area', 'aggregate_4', 'aggregate_11', 'gt_1000']. Accuracy: 46.4265861252\n",
      "include: lt_500 -> feature_subset: ['area', 'aggregate_4', 'aggregate_11', 'gt_1000', 'lt_500']. Accuracy: 46.7293720413\n",
      "include: aggregate_1 -> feature_subset: ['area', 'aggregate_4', 'aggregate_11', 'gt_1000', 'lt_500', 'aggregate_1']. Accuracy: 46.7293720413\n",
      "include: bet_500_1000 -> feature_subset: ['area', 'aggregate_4', 'aggregate_11', 'gt_1000', 'lt_500', 'aggregate_1', 'bet_500_1000']. Accuracy: 46.7293720413\n",
      "include: bet_500_1000 -> feature_subset: ['bet_500_1000']. Accuracy: 45.4440922665\n",
      "include: aggregate_1 -> feature_subset: ['bet_500_1000', 'aggregate_1']. Accuracy: 45.8017263595\n",
      "include: area -> feature_subset: ['bet_500_1000', 'aggregate_1', 'area']. Accuracy: 45.5597090382\n",
      "include: lt_500 -> feature_subset: ['bet_500_1000', 'aggregate_1', 'area', 'lt_500']. Accuracy: 47.5175371855\n",
      "include: aggregate_5 -> feature_subset: ['bet_500_1000', 'aggregate_1', 'area', 'lt_500', 'aggregate_5']. Accuracy: 47.4410300251\n",
      "include: gt_1000 -> feature_subset: ['bet_500_1000', 'aggregate_1', 'area', 'lt_500', 'aggregate_5', 'gt_1000']. Accuracy: 47.2585201416\n",
      "include: aggregate_10 -> feature_subset: ['bet_500_1000', 'aggregate_1', 'area', 'lt_500', 'aggregate_5', 'gt_1000', 'aggregate_10']. Accuracy: 46.8394734086\n",
      "include: area -> feature_subset: ['area']. Accuracy: 45.7274267871\n",
      "include: bet_500_1000 -> feature_subset: ['area', 'bet_500_1000']. Accuracy: 46.777238091\n",
      "include: aggregate_10 -> feature_subset: ['area', 'bet_500_1000', 'aggregate_10']. Accuracy: 46.7698121063\n",
      "include: aggregate_6 -> feature_subset: ['area', 'bet_500_1000', 'aggregate_10', 'aggregate_6']. Accuracy: 47.0259430896\n",
      "include: lt_500 -> feature_subset: ['area', 'bet_500_1000', 'aggregate_10', 'aggregate_6', 'lt_500']. Accuracy: 46.9310984167\n",
      "include: aggregate_5 -> feature_subset: ['area', 'bet_500_1000', 'aggregate_10', 'aggregate_6', 'lt_500', 'aggregate_5']. Accuracy: 47.2672457246\n",
      "include: aggregate_9 -> feature_subset: ['area', 'bet_500_1000', 'aggregate_10', 'aggregate_6', 'lt_500', 'aggregate_5', 'aggregate_9']. Accuracy: 46.0073340558\n",
      "include: area -> feature_subset: ['area']. Accuracy: 45.9350532185\n",
      "include: bet_500_1000 -> feature_subset: ['area', 'bet_500_1000']. Accuracy: 46.5758184284\n",
      "include: aggregate_5 -> feature_subset: ['area', 'bet_500_1000', 'aggregate_5']. Accuracy: 46.9924357092\n",
      "include: aggregate_6 -> feature_subset: ['area', 'bet_500_1000', 'aggregate_5', 'aggregate_6']. Accuracy: 46.6353221941\n",
      "include: max_seasonal_12 -> feature_subset: ['area', 'bet_500_1000', 'aggregate_5', 'aggregate_6', 'max_seasonal_12']. Accuracy: 46.3801188207\n",
      "include: cluster_small -> feature_subset: ['area', 'bet_500_1000', 'aggregate_5', 'aggregate_6', 'max_seasonal_12', 'cluster_small']. Accuracy: 45.5751010368\n",
      "include: aggregate_10 -> feature_subset: ['area', 'bet_500_1000', 'aggregate_5', 'aggregate_6', 'max_seasonal_12', 'cluster_small', 'aggregate_10']. Accuracy: 44.8507008672\n",
      "2 ['area', 'aggregate_7'] 49.3573847857\n",
      "--------------------------------------------------------------------------------\n"
     ]
    },
    {
     "data": {
      "text/plain": [
       "({'light': {'All': {1: {'accuracy': 43.740611955463265,\n",
       "     'f': ['bet_500_1000',\n",
       "      'lt_500',\n",
       "      'gt_1000',\n",
       "      'aggregate_9',\n",
       "      'max_seasonal_weekly',\n",
       "      'aggregate_8',\n",
       "      'aggregate_5']},\n",
       "    2: {'accuracy': 49.357384785663463, 'f': ['area', 'aggregate_7']},\n",
       "    3: {'accuracy': 46.729372041290013,\n",
       "     'f': ['area', 'aggregate_4', 'aggregate_11', 'gt_1000', 'lt_500']},\n",
       "    4: {'accuracy': 47.517537185516822,\n",
       "     'f': ['bet_500_1000', 'aggregate_1', 'area', 'lt_500']},\n",
       "    5: {'accuracy': 47.267245724579425,\n",
       "     'f': ['area',\n",
       "      'bet_500_1000',\n",
       "      'aggregate_10',\n",
       "      'aggregate_6',\n",
       "      'lt_500',\n",
       "      'aggregate_5']},\n",
       "    6: {'accuracy': 46.992435709214028,\n",
       "     'f': ['area', 'bet_500_1000', 'aggregate_5']}}}},\n",
       " {'light': {'All': {'accuracy': 49.357384785663463,\n",
       "    'f': ['area', 'aggregate_7'],\n",
       "    'k': 2}}})"
      ]
     },
     "execution_count": 249,
     "metadata": {},
     "output_type": "execute_result"
    }
   ],
   "source": [
    "find_optimal_features(df, dfc, all_homes, appliance_min, national_average, [\"light\"], {\"All\":feature_map[\"All\"]},\n",
    "                          NUM_NEIGHBOURS_MAX=7, F_length_max=7, metric=\"mean\",\n",
    "                          train_outlier=True, test_outlier=True, outlier_features=f, outlier_fraction=0.1,\n",
    "                          print_steps=True)"
   ]
  },
  {
   "cell_type": "code",
   "execution_count": 251,
   "metadata": {
    "collapsed": false
   },
   "outputs": [
    {
     "name": "stdout",
     "output_type": "stream",
     "text": [
      "%%%%%%%%%%%%%%%%%%%%%%%%%%%%%%%%%%%%%%%%\n",
      "wm\n",
      "%%%%%%%%%%%%%%%%%%%%%%%%%%%%%%%%%%%%%%%%\n",
      "********************\n",
      "All\n",
      "********************\n",
      "include: aggregate_11 -> feature_subset: ['aggregate_11']. Accuracy: 62.243938091\n",
      "include: aggregate_10 -> feature_subset: ['aggregate_11', 'aggregate_10']. Accuracy: 63.2406997486\n",
      "include: aggregate_2 -> feature_subset: ['aggregate_11', 'aggregate_10', 'aggregate_2']. Accuracy: 63.8675085828\n",
      "include: aggregate_1 -> feature_subset: ['aggregate_11', 'aggregate_10', 'aggregate_2', 'aggregate_1']. Accuracy: 63.5709843968\n",
      "include: area -> feature_subset: ['aggregate_11', 'aggregate_10', 'aggregate_2', 'aggregate_1', 'area']. Accuracy: 63.3386403869\n",
      "include: aggregate_3 -> feature_subset: ['aggregate_11', 'aggregate_10', 'aggregate_2', 'aggregate_1', 'area', 'aggregate_3']. Accuracy: 64.5409072898\n",
      "include: lt_500 -> feature_subset: ['aggregate_11', 'aggregate_10', 'aggregate_2', 'aggregate_1', 'area', 'aggregate_3', 'lt_500']. Accuracy: 64.5409072898\n",
      "include: cluster_big -> feature_subset: ['cluster_big']. Accuracy: 63.2830845047\n",
      "include: difference_min_max -> feature_subset: ['cluster_big', 'difference_min_max']. Accuracy: 63.427347934\n",
      "include: area -> feature_subset: ['cluster_big', 'difference_min_max', 'area']. Accuracy: 65.2600659158\n",
      "include: bet_500_1000 -> feature_subset: ['cluster_big', 'difference_min_max', 'area', 'bet_500_1000']. Accuracy: 65.8677597744\n",
      "include: ratio_min_max -> feature_subset: ['cluster_big', 'difference_min_max', 'area', 'bet_500_1000', 'ratio_min_max']. Accuracy: 66.0314973284\n",
      "include: aggregate_2 -> feature_subset: ['cluster_big', 'difference_min_max', 'area', 'bet_500_1000', 'ratio_min_max', 'aggregate_2']. Accuracy: 66.2775959765\n",
      "include: aggregate_4 -> feature_subset: ['cluster_big', 'difference_min_max', 'area', 'bet_500_1000', 'ratio_min_max', 'aggregate_2', 'aggregate_4']. Accuracy: 66.4437811861\n",
      "include: cluster_big -> feature_subset: ['cluster_big']. Accuracy: 60.4186431175\n",
      "include: area -> feature_subset: ['cluster_big', 'area']. Accuracy: 61.5509112241\n",
      "include: max_trend_daily -> feature_subset: ['cluster_big', 'area', 'max_trend_daily']. Accuracy: 62.7567492402\n",
      "include: aggregate_4 -> feature_subset: ['cluster_big', 'area', 'max_trend_daily', 'aggregate_4']. Accuracy: 63.650455377\n",
      "include: autocorr -> feature_subset: ['cluster_big', 'area', 'max_trend_daily', 'aggregate_4', 'autocorr']. Accuracy: 63.7866664645\n",
      "include: bet_500_1000 -> feature_subset: ['cluster_big', 'area', 'max_trend_daily', 'aggregate_4', 'autocorr', 'bet_500_1000']. Accuracy: 63.880719029\n",
      "include: aggregate_11 -> feature_subset: ['cluster_big', 'area', 'max_trend_daily', 'aggregate_4', 'autocorr', 'bet_500_1000', 'aggregate_11']. Accuracy: 63.6599910333\n",
      "include: aggregate_7 -> feature_subset: ['aggregate_7']. Accuracy: 58.785764668\n",
      "include: area -> feature_subset: ['aggregate_7', 'area']. Accuracy: 59.6692711046\n",
      "include: aggregate_4 -> feature_subset: ['aggregate_7', 'area', 'aggregate_4']. Accuracy: 61.2039801188\n",
      "include: bet_500_1000 -> feature_subset: ['aggregate_7', 'area', 'aggregate_4', 'bet_500_1000']. Accuracy: 61.1358160628\n",
      "include: max_trend_daily -> feature_subset: ['aggregate_7', 'area', 'aggregate_4', 'bet_500_1000', 'max_trend_daily']. Accuracy: 61.0959489452\n",
      "include: aggregate_2 -> feature_subset: ['aggregate_7', 'area', 'aggregate_4', 'bet_500_1000', 'max_trend_daily', 'aggregate_2']. Accuracy: 61.0877826044\n",
      "include: aggregate_1 -> feature_subset: ['aggregate_7', 'area', 'aggregate_4', 'bet_500_1000', 'max_trend_daily', 'aggregate_2', 'aggregate_1']. Accuracy: 61.2381255413\n",
      "include: area -> feature_subset: ['area']. Accuracy: 58.252067376\n",
      "include: max_trend_daily -> feature_subset: ['area', 'max_trend_daily']. Accuracy: 60.9440048789\n",
      "include: aggregate_2 -> feature_subset: ['area', 'max_trend_daily', 'aggregate_2']. Accuracy: 61.211057386\n",
      "include: bet_500_1000 -> feature_subset: ['area', 'max_trend_daily', 'aggregate_2', 'bet_500_1000']. Accuracy: 61.0003551323\n",
      "include: fft_1 -> feature_subset: ['area', 'max_trend_daily', 'aggregate_2', 'bet_500_1000', 'fft_1']. Accuracy: 60.7797570109\n"
     ]
    },
    {
     "ename": "KeyboardInterrupt",
     "evalue": "",
     "output_type": "error",
     "traceback": [
      "\u001b[0;31m---------------------------------------------------------------------------\u001b[0m",
      "\u001b[0;31mKeyboardInterrupt\u001b[0m                         Traceback (most recent call last)",
      "\u001b[0;32m<ipython-input-251-f8eaebd33887>\u001b[0m in \u001b[0;36m<module>\u001b[0;34m()\u001b[0m\n\u001b[1;32m      3\u001b[0m                           \u001b[0mNUM_NEIGHBOURS_MAX\u001b[0m\u001b[0;34m=\u001b[0m\u001b[0;36m7\u001b[0m\u001b[0;34m,\u001b[0m \u001b[0mF_length_max\u001b[0m\u001b[0;34m=\u001b[0m\u001b[0;36m7\u001b[0m\u001b[0;34m,\u001b[0m \u001b[0mmetric\u001b[0m\u001b[0;34m=\u001b[0m\u001b[0;34m\"mean\"\u001b[0m\u001b[0;34m,\u001b[0m\u001b[0;34m\u001b[0m\u001b[0m\n\u001b[1;32m      4\u001b[0m                           \u001b[0mtrain_outlier\u001b[0m\u001b[0;34m=\u001b[0m\u001b[0mTrue\u001b[0m\u001b[0;34m,\u001b[0m \u001b[0mtest_outlier\u001b[0m\u001b[0;34m=\u001b[0m\u001b[0mTrue\u001b[0m\u001b[0;34m,\u001b[0m \u001b[0moutlier_features\u001b[0m\u001b[0;34m=\u001b[0m\u001b[0mf\u001b[0m\u001b[0;34m,\u001b[0m \u001b[0moutlier_fraction\u001b[0m\u001b[0;34m=\u001b[0m\u001b[0;36m0.1\u001b[0m\u001b[0;34m,\u001b[0m\u001b[0;34m\u001b[0m\u001b[0m\n\u001b[0;32m----> 5\u001b[0;31m                           print_steps=True)\n\u001b[0m",
      "\u001b[0;32m/Users/nipunbatra/git/monthly-disaggregation/code/all_functions.py\u001b[0m in \u001b[0;36mfind_optimal_features\u001b[0;34m(df, dfc, all_homes, appliance_min, national_average, appliance_list, feature_map, NUM_NEIGHBOURS_MAX, F_length_max, metric, train_outlier, test_outlier, outlier_features, outlier_fraction, print_steps)\u001b[0m\n\u001b[1;32m    269\u001b[0m                     \u001b[0mtrain_outlier\u001b[0m\u001b[0;34m,\u001b[0m \u001b[0mtest_outlier\u001b[0m\u001b[0;34m,\u001b[0m \u001b[0moutlier_features\u001b[0m\u001b[0;34m,\u001b[0m \u001b[0moutlier_fraction\u001b[0m\u001b[0;34m,\u001b[0m\u001b[0;34m\u001b[0m\u001b[0m\n\u001b[1;32m    270\u001b[0m                     \u001b[0mmetric\u001b[0m\u001b[0;34m,\u001b[0m\u001b[0;34m\u001b[0m\u001b[0m\n\u001b[0;32m--> 271\u001b[0;31m                     F_length_max, criterion_function, print_steps)\n\u001b[0m\u001b[1;32m    272\u001b[0m \u001b[0;34m\u001b[0m\u001b[0m\n\u001b[1;32m    273\u001b[0m                 \u001b[0mbest_accur\u001b[0m \u001b[0;34m=\u001b[0m \u001b[0;36m0.0\u001b[0m\u001b[0;34m\u001b[0m\u001b[0m\n",
      "\u001b[0;32m/Users/nipunbatra/git/monthly-disaggregation/code/all_functions.py\u001b[0m in \u001b[0;36mseq_forw_select\u001b[0;34m(df, dfc, all_homes, appliance_min, national_average, appliance, features, NUM_NEIGHBOURS, train_outlier, test_outlier, outlier_features, outlier_fraction, metric, max_k, criterion_func, print_steps)\u001b[0m\n\u001b[1;32m    173\u001b[0m                                             \u001b[0mappliance\u001b[0m\u001b[0;34m,\u001b[0m \u001b[0mfeat_sub\u001b[0m \u001b[0;34m+\u001b[0m \u001b[0;34m[\u001b[0m\u001b[0mx\u001b[0m\u001b[0;34m]\u001b[0m\u001b[0;34m,\u001b[0m \u001b[0mNUM_NEIGHBOURS\u001b[0m\u001b[0;34m,\u001b[0m\u001b[0;34m\u001b[0m\u001b[0m\n\u001b[1;32m    174\u001b[0m                                             \u001b[0mtrain_outlier\u001b[0m\u001b[0;34m,\u001b[0m \u001b[0mtest_outlier\u001b[0m\u001b[0;34m,\u001b[0m \u001b[0moutlier_features\u001b[0m\u001b[0;34m,\u001b[0m \u001b[0moutlier_fraction\u001b[0m\u001b[0;34m,\u001b[0m\u001b[0;34m\u001b[0m\u001b[0m\n\u001b[0;32m--> 175\u001b[0;31m                                             metric)\n\u001b[0m\u001b[1;32m    176\u001b[0m             \u001b[0;32mif\u001b[0m \u001b[0mcrit_func_eval\u001b[0m \u001b[0;34m>\u001b[0m \u001b[0mcrit_func_max\u001b[0m\u001b[0;34m:\u001b[0m\u001b[0;34m\u001b[0m\u001b[0m\n\u001b[1;32m    177\u001b[0m                 \u001b[0mcrit_func_max\u001b[0m \u001b[0;34m=\u001b[0m \u001b[0mcrit_func_eval\u001b[0m\u001b[0;34m\u001b[0m\u001b[0m\n",
      "\u001b[0;32m/Users/nipunbatra/git/monthly-disaggregation/code/all_functions.py\u001b[0m in \u001b[0;36mcriterion_function\u001b[0;34m(df, dfc, all_homes, appliance_min, national_average, appliance, feature, NUM_NEIGHBOURS, train_outlier, test_outlier, outlier_features, outlier_fraction, metric)\u001b[0m\n\u001b[1;32m    111\u001b[0m     temp = create_predictions(df, dfc, all_homes, appliance_min, national_average,\n\u001b[1;32m    112\u001b[0m                               \u001b[0mappliance\u001b[0m\u001b[0;34m,\u001b[0m \u001b[0mfeature\u001b[0m\u001b[0;34m,\u001b[0m \u001b[0mNUM_NEIGHBOURS\u001b[0m\u001b[0;34m,\u001b[0m \u001b[0mtrain_outlier\u001b[0m\u001b[0;34m,\u001b[0m \u001b[0mtest_outlier\u001b[0m\u001b[0;34m,\u001b[0m \u001b[0moutlier_features\u001b[0m\u001b[0;34m,\u001b[0m\u001b[0;34m\u001b[0m\u001b[0m\n\u001b[0;32m--> 113\u001b[0;31m                               outlier_fraction)\n\u001b[0m\u001b[1;32m    114\u001b[0m     \u001b[0merrors\u001b[0m \u001b[0;34m=\u001b[0m \u001b[0;34m{\u001b[0m\u001b[0;34m}\u001b[0m\u001b[0;34m\u001b[0m\u001b[0m\n\u001b[1;32m    115\u001b[0m     \u001b[0;32mif\u001b[0m \u001b[0mappliance\u001b[0m \u001b[0;34m==\u001b[0m\u001b[0;34m\"hvac\"\u001b[0m\u001b[0;34m:\u001b[0m\u001b[0;34m\u001b[0m\u001b[0m\n",
      "\u001b[0;32m/Users/nipunbatra/git/monthly-disaggregation/code/all_functions.py\u001b[0m in \u001b[0;36mcreate_predictions\u001b[0;34m(df, dfc, all_homes, appliance_min, national_average, appliance, feature, NUM_NEIGHBOURS, train_outlier, test_outlier, outlier_features, outlier_fraction)\u001b[0m\n\u001b[1;32m     62\u001b[0m \u001b[0;34m\u001b[0m\u001b[0m\n\u001b[1;32m     63\u001b[0m             \u001b[0;32mif\u001b[0m \u001b[0mtrain_outlier\u001b[0m\u001b[0;34m:\u001b[0m\u001b[0;34m\u001b[0m\u001b[0m\n\u001b[0;32m---> 64\u001b[0;31m                 \u001b[0moutlier_homes\u001b[0m\u001b[0;34m,\u001b[0m \u001b[0minlier_homes\u001b[0m \u001b[0;34m=\u001b[0m \u001b[0mfind_outlier_train\u001b[0m\u001b[0;34m(\u001b[0m\u001b[0my3\u001b[0m\u001b[0;34m.\u001b[0m\u001b[0mix\u001b[0m\u001b[0;34m[\u001b[0m\u001b[0my3\u001b[0m\u001b[0;34m.\u001b[0m\u001b[0mindex\u001b[0m\u001b[0;34m.\u001b[0m\u001b[0mvalues\u001b[0m\u001b[0;34m[\u001b[0m\u001b[0mtrain\u001b[0m\u001b[0;34m]\u001b[0m\u001b[0;34m]\u001b[0m\u001b[0;34m)\u001b[0m\u001b[0;34m\u001b[0m\u001b[0m\n\u001b[0m\u001b[1;32m     65\u001b[0m \u001b[0;34m\u001b[0m\u001b[0m\n\u001b[1;32m     66\u001b[0m             \u001b[0;32melse\u001b[0m\u001b[0;34m:\u001b[0m\u001b[0;34m\u001b[0m\u001b[0m\n",
      "\u001b[0;32m/Users/nipunbatra/git/monthly-disaggregation/code/all_functions.py\u001b[0m in \u001b[0;36mfind_outlier_train\u001b[0;34m(ser, outliers_fraction, min_units)\u001b[0m\n\u001b[1;32m    217\u001b[0m     \u001b[0;32mfrom\u001b[0m \u001b[0mscipy\u001b[0m \u001b[0;32mimport\u001b[0m \u001b[0mstats\u001b[0m\u001b[0;34m\u001b[0m\u001b[0m\n\u001b[1;32m    218\u001b[0m \u001b[0;34m\u001b[0m\u001b[0m\n\u001b[0;32m--> 219\u001b[0;31m     \u001b[0mclf\u001b[0m\u001b[0;34m.\u001b[0m\u001b[0mfit\u001b[0m\u001b[0;34m(\u001b[0m\u001b[0mX\u001b[0m\u001b[0;34m)\u001b[0m\u001b[0;34m\u001b[0m\u001b[0m\n\u001b[0m\u001b[1;32m    220\u001b[0m     \u001b[0my_pred\u001b[0m \u001b[0;34m=\u001b[0m \u001b[0mclf\u001b[0m\u001b[0;34m.\u001b[0m\u001b[0mdecision_function\u001b[0m\u001b[0;34m(\u001b[0m\u001b[0mX\u001b[0m\u001b[0;34m)\u001b[0m\u001b[0;34m.\u001b[0m\u001b[0mravel\u001b[0m\u001b[0;34m(\u001b[0m\u001b[0;34m)\u001b[0m\u001b[0;34m\u001b[0m\u001b[0m\n\u001b[1;32m    221\u001b[0m     threshold = stats.scoreatpercentile(y_pred,\n",
      "\u001b[0;32m/Users/nipunbatra/anaconda/lib/python2.7/site-packages/sklearn/covariance/outlier_detection.pyc\u001b[0m in \u001b[0;36mfit\u001b[0;34m(self, X, y)\u001b[0m\n\u001b[1;32m    185\u001b[0m \u001b[0;34m\u001b[0m\u001b[0m\n\u001b[1;32m    186\u001b[0m     \u001b[0;32mdef\u001b[0m \u001b[0mfit\u001b[0m\u001b[0;34m(\u001b[0m\u001b[0mself\u001b[0m\u001b[0;34m,\u001b[0m \u001b[0mX\u001b[0m\u001b[0;34m,\u001b[0m \u001b[0my\u001b[0m\u001b[0;34m=\u001b[0m\u001b[0mNone\u001b[0m\u001b[0;34m)\u001b[0m\u001b[0;34m:\u001b[0m\u001b[0;34m\u001b[0m\u001b[0m\n\u001b[0;32m--> 187\u001b[0;31m         \u001b[0mMinCovDet\u001b[0m\u001b[0;34m.\u001b[0m\u001b[0mfit\u001b[0m\u001b[0;34m(\u001b[0m\u001b[0mself\u001b[0m\u001b[0;34m,\u001b[0m \u001b[0mX\u001b[0m\u001b[0;34m)\u001b[0m\u001b[0;34m\u001b[0m\u001b[0m\n\u001b[0m\u001b[1;32m    188\u001b[0m         self.threshold_ = sp.stats.scoreatpercentile(\n\u001b[1;32m    189\u001b[0m             self.dist_, 100. * (1. - self.contamination))\n",
      "\u001b[0;32m/Users/nipunbatra/anaconda/lib/python2.7/site-packages/sklearn/covariance/robust_covariance.pyc\u001b[0m in \u001b[0;36mfit\u001b[0;34m(self, X, y)\u001b[0m\n\u001b[1;32m    632\u001b[0m         \u001b[0mself\u001b[0m\u001b[0;34m.\u001b[0m\u001b[0mdist_\u001b[0m \u001b[0;34m=\u001b[0m \u001b[0mraw_dist\u001b[0m\u001b[0;34m\u001b[0m\u001b[0m\n\u001b[1;32m    633\u001b[0m         \u001b[0;31m# obtain consistency at normal models\u001b[0m\u001b[0;34m\u001b[0m\u001b[0;34m\u001b[0m\u001b[0m\n\u001b[0;32m--> 634\u001b[0;31m         \u001b[0mself\u001b[0m\u001b[0;34m.\u001b[0m\u001b[0mcorrect_covariance\u001b[0m\u001b[0;34m(\u001b[0m\u001b[0mX\u001b[0m\u001b[0;34m)\u001b[0m\u001b[0;34m\u001b[0m\u001b[0m\n\u001b[0m\u001b[1;32m    635\u001b[0m         \u001b[0;31m# re-weight estimator\u001b[0m\u001b[0;34m\u001b[0m\u001b[0;34m\u001b[0m\u001b[0m\n\u001b[1;32m    636\u001b[0m         \u001b[0mself\u001b[0m\u001b[0;34m.\u001b[0m\u001b[0mreweight_covariance\u001b[0m\u001b[0;34m(\u001b[0m\u001b[0mX\u001b[0m\u001b[0;34m)\u001b[0m\u001b[0;34m\u001b[0m\u001b[0m\n",
      "\u001b[0;32m/Users/nipunbatra/anaconda/lib/python2.7/site-packages/sklearn/covariance/robust_covariance.pyc\u001b[0m in \u001b[0;36mcorrect_covariance\u001b[0;34m(self, data)\u001b[0m\n\u001b[1;32m    657\u001b[0m \u001b[0;34m\u001b[0m\u001b[0m\n\u001b[1;32m    658\u001b[0m         \"\"\"\n\u001b[0;32m--> 659\u001b[0;31m         \u001b[0mcorrection\u001b[0m \u001b[0;34m=\u001b[0m \u001b[0mnp\u001b[0m\u001b[0;34m.\u001b[0m\u001b[0mmedian\u001b[0m\u001b[0;34m(\u001b[0m\u001b[0mself\u001b[0m\u001b[0;34m.\u001b[0m\u001b[0mdist_\u001b[0m\u001b[0;34m)\u001b[0m \u001b[0;34m/\u001b[0m \u001b[0mchi2\u001b[0m\u001b[0;34m(\u001b[0m\u001b[0mdata\u001b[0m\u001b[0;34m.\u001b[0m\u001b[0mshape\u001b[0m\u001b[0;34m[\u001b[0m\u001b[0;36m1\u001b[0m\u001b[0;34m]\u001b[0m\u001b[0;34m)\u001b[0m\u001b[0;34m.\u001b[0m\u001b[0misf\u001b[0m\u001b[0;34m(\u001b[0m\u001b[0;36m0.5\u001b[0m\u001b[0;34m)\u001b[0m\u001b[0;34m\u001b[0m\u001b[0m\n\u001b[0m\u001b[1;32m    660\u001b[0m         \u001b[0mcovariance_corrected\u001b[0m \u001b[0;34m=\u001b[0m \u001b[0mself\u001b[0m\u001b[0;34m.\u001b[0m\u001b[0mraw_covariance_\u001b[0m \u001b[0;34m*\u001b[0m \u001b[0mcorrection\u001b[0m\u001b[0;34m\u001b[0m\u001b[0m\n\u001b[1;32m    661\u001b[0m         \u001b[0mself\u001b[0m\u001b[0;34m.\u001b[0m\u001b[0mdist_\u001b[0m \u001b[0;34m/=\u001b[0m \u001b[0mcorrection\u001b[0m\u001b[0;34m\u001b[0m\u001b[0m\n",
      "\u001b[0;32m/Users/nipunbatra/anaconda/lib/python2.7/site-packages/scipy/stats/_distn_infrastructure.pyc\u001b[0m in \u001b[0;36m__call__\u001b[0;34m(self, *args, **kwds)\u001b[0m\n\u001b[1;32m    795\u001b[0m \u001b[0;34m\u001b[0m\u001b[0m\n\u001b[1;32m    796\u001b[0m     \u001b[0;32mdef\u001b[0m \u001b[0m__call__\u001b[0m\u001b[0;34m(\u001b[0m\u001b[0mself\u001b[0m\u001b[0;34m,\u001b[0m \u001b[0;34m*\u001b[0m\u001b[0margs\u001b[0m\u001b[0;34m,\u001b[0m \u001b[0;34m**\u001b[0m\u001b[0mkwds\u001b[0m\u001b[0;34m)\u001b[0m\u001b[0;34m:\u001b[0m\u001b[0;34m\u001b[0m\u001b[0m\n\u001b[0;32m--> 797\u001b[0;31m         \u001b[0;32mreturn\u001b[0m \u001b[0mself\u001b[0m\u001b[0;34m.\u001b[0m\u001b[0mfreeze\u001b[0m\u001b[0;34m(\u001b[0m\u001b[0;34m*\u001b[0m\u001b[0margs\u001b[0m\u001b[0;34m,\u001b[0m \u001b[0;34m**\u001b[0m\u001b[0mkwds\u001b[0m\u001b[0;34m)\u001b[0m\u001b[0;34m\u001b[0m\u001b[0m\n\u001b[0m\u001b[1;32m    798\u001b[0m     \u001b[0m__call__\u001b[0m\u001b[0;34m.\u001b[0m\u001b[0m__doc__\u001b[0m \u001b[0;34m=\u001b[0m \u001b[0mfreeze\u001b[0m\u001b[0;34m.\u001b[0m\u001b[0m__doc__\u001b[0m\u001b[0;34m\u001b[0m\u001b[0m\n\u001b[1;32m    799\u001b[0m \u001b[0;34m\u001b[0m\u001b[0m\n",
      "\u001b[0;32m/Users/nipunbatra/anaconda/lib/python2.7/site-packages/scipy/stats/_distn_infrastructure.pyc\u001b[0m in \u001b[0;36mfreeze\u001b[0;34m(self, *args, **kwds)\u001b[0m\n\u001b[1;32m    792\u001b[0m \u001b[0;34m\u001b[0m\u001b[0m\n\u001b[1;32m    793\u001b[0m         \"\"\"\n\u001b[0;32m--> 794\u001b[0;31m         \u001b[0;32mreturn\u001b[0m \u001b[0mrv_frozen\u001b[0m\u001b[0;34m(\u001b[0m\u001b[0mself\u001b[0m\u001b[0;34m,\u001b[0m \u001b[0;34m*\u001b[0m\u001b[0margs\u001b[0m\u001b[0;34m,\u001b[0m \u001b[0;34m**\u001b[0m\u001b[0mkwds\u001b[0m\u001b[0;34m)\u001b[0m\u001b[0;34m\u001b[0m\u001b[0m\n\u001b[0m\u001b[1;32m    795\u001b[0m \u001b[0;34m\u001b[0m\u001b[0m\n\u001b[1;32m    796\u001b[0m     \u001b[0;32mdef\u001b[0m \u001b[0m__call__\u001b[0m\u001b[0;34m(\u001b[0m\u001b[0mself\u001b[0m\u001b[0;34m,\u001b[0m \u001b[0;34m*\u001b[0m\u001b[0margs\u001b[0m\u001b[0;34m,\u001b[0m \u001b[0;34m**\u001b[0m\u001b[0mkwds\u001b[0m\u001b[0;34m)\u001b[0m\u001b[0;34m:\u001b[0m\u001b[0;34m\u001b[0m\u001b[0m\n",
      "\u001b[0;32m/Users/nipunbatra/anaconda/lib/python2.7/site-packages/scipy/stats/_distn_infrastructure.pyc\u001b[0m in \u001b[0;36m__init__\u001b[0;34m(self, dist, *args, **kwds)\u001b[0m\n\u001b[1;32m    428\u001b[0m \u001b[0;34m\u001b[0m\u001b[0m\n\u001b[1;32m    429\u001b[0m         \u001b[0;31m# create a new instance\u001b[0m\u001b[0;34m\u001b[0m\u001b[0;34m\u001b[0m\u001b[0m\n\u001b[0;32m--> 430\u001b[0;31m         \u001b[0mself\u001b[0m\u001b[0;34m.\u001b[0m\u001b[0mdist\u001b[0m \u001b[0;34m=\u001b[0m \u001b[0mdist\u001b[0m\u001b[0;34m.\u001b[0m\u001b[0m__class__\u001b[0m\u001b[0;34m(\u001b[0m\u001b[0;34m**\u001b[0m\u001b[0mdist\u001b[0m\u001b[0;34m.\u001b[0m\u001b[0m_ctor_param\u001b[0m\u001b[0;34m)\u001b[0m\u001b[0;34m\u001b[0m\u001b[0m\n\u001b[0m\u001b[1;32m    431\u001b[0m \u001b[0;34m\u001b[0m\u001b[0m\n\u001b[1;32m    432\u001b[0m         \u001b[0;31m# a, b may be set in _argcheck, depending on *args, **kwds. Ouch.\u001b[0m\u001b[0;34m\u001b[0m\u001b[0;34m\u001b[0m\u001b[0m\n",
      "\u001b[0;32m/Users/nipunbatra/anaconda/lib/python2.7/site-packages/scipy/stats/_distn_infrastructure.pyc\u001b[0m in \u001b[0;36m__init__\u001b[0;34m(self, momtype, a, b, xtol, badvalue, name, longname, shapes, extradoc, seed)\u001b[0m\n\u001b[1;32m   1503\u001b[0m             \u001b[0;32melse\u001b[0m\u001b[0;34m:\u001b[0m\u001b[0;34m\u001b[0m\u001b[0m\n\u001b[1;32m   1504\u001b[0m                 \u001b[0mdct\u001b[0m \u001b[0;34m=\u001b[0m \u001b[0mdict\u001b[0m\u001b[0;34m(\u001b[0m\u001b[0mdistcont\u001b[0m\u001b[0;34m)\u001b[0m\u001b[0;34m\u001b[0m\u001b[0m\n\u001b[0;32m-> 1505\u001b[0;31m                 \u001b[0mself\u001b[0m\u001b[0;34m.\u001b[0m\u001b[0m_construct_doc\u001b[0m\u001b[0;34m(\u001b[0m\u001b[0mdocdict\u001b[0m\u001b[0;34m,\u001b[0m \u001b[0mdct\u001b[0m\u001b[0;34m.\u001b[0m\u001b[0mget\u001b[0m\u001b[0;34m(\u001b[0m\u001b[0mself\u001b[0m\u001b[0;34m.\u001b[0m\u001b[0mname\u001b[0m\u001b[0;34m)\u001b[0m\u001b[0;34m)\u001b[0m\u001b[0;34m\u001b[0m\u001b[0m\n\u001b[0m\u001b[1;32m   1506\u001b[0m \u001b[0;34m\u001b[0m\u001b[0m\n\u001b[1;32m   1507\u001b[0m     \u001b[0;32mdef\u001b[0m \u001b[0m_ppf_to_solve\u001b[0m\u001b[0;34m(\u001b[0m\u001b[0mself\u001b[0m\u001b[0;34m,\u001b[0m \u001b[0mx\u001b[0m\u001b[0;34m,\u001b[0m \u001b[0mq\u001b[0m\u001b[0;34m,\u001b[0m \u001b[0;34m*\u001b[0m\u001b[0margs\u001b[0m\u001b[0;34m)\u001b[0m\u001b[0;34m:\u001b[0m\u001b[0;34m\u001b[0m\u001b[0m\n",
      "\u001b[0;32m/Users/nipunbatra/anaconda/lib/python2.7/site-packages/scipy/stats/_distn_infrastructure.pyc\u001b[0m in \u001b[0;36m_construct_doc\u001b[0;34m(self, docdict, shapes_vals)\u001b[0m\n\u001b[1;32m    758\u001b[0m                 \u001b[0;31m# necessary because we use %(shapes)s in two forms (w w/o \", \")\u001b[0m\u001b[0;34m\u001b[0m\u001b[0;34m\u001b[0m\u001b[0m\n\u001b[1;32m    759\u001b[0m                 \u001b[0mself\u001b[0m\u001b[0;34m.\u001b[0m\u001b[0m__doc__\u001b[0m \u001b[0;34m=\u001b[0m \u001b[0mself\u001b[0m\u001b[0;34m.\u001b[0m\u001b[0m__doc__\u001b[0m\u001b[0;34m.\u001b[0m\u001b[0mreplace\u001b[0m\u001b[0;34m(\u001b[0m\u001b[0;34m\"%(shapes)s, \"\u001b[0m\u001b[0;34m,\u001b[0m \u001b[0;34m\"\"\u001b[0m\u001b[0;34m)\u001b[0m\u001b[0;34m\u001b[0m\u001b[0m\n\u001b[0;32m--> 760\u001b[0;31m             \u001b[0mself\u001b[0m\u001b[0;34m.\u001b[0m\u001b[0m__doc__\u001b[0m \u001b[0;34m=\u001b[0m \u001b[0mdoccer\u001b[0m\u001b[0;34m.\u001b[0m\u001b[0mdocformat\u001b[0m\u001b[0;34m(\u001b[0m\u001b[0mself\u001b[0m\u001b[0;34m.\u001b[0m\u001b[0m__doc__\u001b[0m\u001b[0;34m,\u001b[0m \u001b[0mtempdict\u001b[0m\u001b[0;34m)\u001b[0m\u001b[0;34m\u001b[0m\u001b[0m\n\u001b[0m\u001b[1;32m    761\u001b[0m \u001b[0;34m\u001b[0m\u001b[0m\n\u001b[1;32m    762\u001b[0m         \u001b[0;31m# correct for empty shapes\u001b[0m\u001b[0;34m\u001b[0m\u001b[0;34m\u001b[0m\u001b[0m\n",
      "\u001b[0;32m/Users/nipunbatra/anaconda/lib/python2.7/site-packages/scipy/misc/doccer.pyc\u001b[0m in \u001b[0;36mdocformat\u001b[0;34m(docstring, docdict)\u001b[0m\n\u001b[1;32m     58\u001b[0m     \u001b[0mindented\u001b[0m \u001b[0;34m=\u001b[0m \u001b[0;34m{\u001b[0m\u001b[0;34m}\u001b[0m\u001b[0;34m\u001b[0m\u001b[0m\n\u001b[1;32m     59\u001b[0m     \u001b[0;32mfor\u001b[0m \u001b[0mname\u001b[0m\u001b[0;34m,\u001b[0m \u001b[0mdstr\u001b[0m \u001b[0;32min\u001b[0m \u001b[0mdocdict\u001b[0m\u001b[0;34m.\u001b[0m\u001b[0mitems\u001b[0m\u001b[0;34m(\u001b[0m\u001b[0;34m)\u001b[0m\u001b[0;34m:\u001b[0m\u001b[0;34m\u001b[0m\u001b[0m\n\u001b[0;32m---> 60\u001b[0;31m         \u001b[0mlines\u001b[0m \u001b[0;34m=\u001b[0m \u001b[0mdstr\u001b[0m\u001b[0;34m.\u001b[0m\u001b[0mexpandtabs\u001b[0m\u001b[0;34m(\u001b[0m\u001b[0;34m)\u001b[0m\u001b[0;34m.\u001b[0m\u001b[0msplitlines\u001b[0m\u001b[0;34m(\u001b[0m\u001b[0;34m)\u001b[0m\u001b[0;34m\u001b[0m\u001b[0m\n\u001b[0m\u001b[1;32m     61\u001b[0m         \u001b[0;32mtry\u001b[0m\u001b[0;34m:\u001b[0m\u001b[0;34m\u001b[0m\u001b[0m\n\u001b[1;32m     62\u001b[0m             \u001b[0mnewlines\u001b[0m \u001b[0;34m=\u001b[0m \u001b[0;34m[\u001b[0m\u001b[0mlines\u001b[0m\u001b[0;34m[\u001b[0m\u001b[0;36m0\u001b[0m\u001b[0;34m]\u001b[0m\u001b[0;34m]\u001b[0m\u001b[0;34m\u001b[0m\u001b[0m\n",
      "\u001b[0;31mKeyboardInterrupt\u001b[0m: "
     ]
    }
   ],
   "source": [
    "f = ['aggregate_11', 'aggregate_10', 'area', 'aggregate_3']\n",
    "find_optimal_features(df, dfc, all_homes, appliance_min, national_average, [\"wm\"], {\"All\":feature_map[\"All\"]},\n",
    "                          NUM_NEIGHBOURS_MAX=7, F_length_max=7, metric=\"mean\",\n",
    "                          train_outlier=True, test_outlier=True, outlier_features=f, outlier_fraction=0.1,\n",
    "                          print_steps=True)"
   ]
  },
  {
   "cell_type": "code",
   "execution_count": 254,
   "metadata": {
    "collapsed": false
   },
   "outputs": [
    {
     "name": "stderr",
     "output_type": "stream",
     "text": [
      "/Users/nipunbatra/anaconda/lib/python2.7/site-packages/scipy/stats/mstats_basic.py:1670: UserWarning: kurtosistest only valid for n>=20 ... continuing anyway, n=16\n",
      "  np.min(n))\n",
      "/Users/nipunbatra/anaconda/lib/python2.7/site-packages/scipy/stats/mstats_basic.py:1670: UserWarning: kurtosistest only valid for n>=20 ... continuing anyway, n=15\n",
      "  np.min(n))\n"
     ]
    },
    {
     "name": "stdout",
     "output_type": "stream",
     "text": [
      "%%%%%%%%%%%%%%%%%%%%%%%%%%%%%%%%%%%%%%%%\n",
      "wm\n",
      "%%%%%%%%%%%%%%%%%%%%%%%%%%%%%%%%%%%%%%%%\n",
      "********************\n",
      "All\n",
      "********************\n",
      "include: aggregate_11 -> feature_subset: ['aggregate_11']. Accuracy: 61.5119102464\n",
      "include: bet_500_1000 -> feature_subset: ['aggregate_11', 'bet_500_1000']. Accuracy: 62.8029706922\n",
      "include: aggregate_3 -> feature_subset: ['aggregate_11', 'bet_500_1000', 'aggregate_3']. Accuracy: 62.7851662025\n",
      "include: gt_1000 -> feature_subset: ['aggregate_11', 'bet_500_1000', 'aggregate_3', 'gt_1000']. Accuracy: 63.3069423954\n",
      "include: aggregate_2 -> feature_subset: ['aggregate_11', 'bet_500_1000', 'aggregate_3', 'gt_1000', 'aggregate_2']. Accuracy: 63.1667473159\n",
      "include: area -> feature_subset: ['aggregate_11', 'bet_500_1000', 'aggregate_3', 'gt_1000', 'aggregate_2', 'area']. Accuracy: 62.770890025\n",
      "include: aggregate_1 -> feature_subset: ['aggregate_11', 'bet_500_1000', 'aggregate_3', 'gt_1000', 'aggregate_2', 'area', 'aggregate_1']. Accuracy: 62.9886243707\n",
      "include: aggregate_11 -> feature_subset: ['aggregate_11']. Accuracy: 61.6481384173\n",
      "include: bet_500_1000 -> feature_subset: ['aggregate_11', 'bet_500_1000']. Accuracy: 62.939024669\n",
      "include: aggregate_10 -> feature_subset: ['aggregate_11', 'bet_500_1000', 'aggregate_10']. Accuracy: 63.1860421279\n",
      "include: seasonal_energy_6 -> feature_subset: ['aggregate_11', 'bet_500_1000', 'aggregate_10', 'seasonal_energy_6']. Accuracy: 63.3505778696\n",
      "include: aggregate_5 -> feature_subset: ['aggregate_11', 'bet_500_1000', 'aggregate_10', 'seasonal_energy_6', 'aggregate_5']. Accuracy: 63.0758286864\n",
      "include: aggregate_7 -> feature_subset: ['aggregate_11', 'bet_500_1000', 'aggregate_10', 'seasonal_energy_6', 'aggregate_5', 'aggregate_7']. Accuracy: 63.4629082625\n",
      "include: aggregate_4 -> feature_subset: ['aggregate_11', 'bet_500_1000', 'aggregate_10', 'seasonal_energy_6', 'aggregate_5', 'aggregate_7', 'aggregate_4']. Accuracy: 63.508151338\n",
      "include: cluster_big -> feature_subset: ['cluster_big']. Accuracy: 59.1087564392\n",
      "include: area -> feature_subset: ['cluster_big', 'area']. Accuracy: 60.0429025411\n",
      "include: max_trend_daily -> feature_subset: ['cluster_big', 'area', 'max_trend_daily']. Accuracy: 61.6569492522\n",
      "include: aggregate_4 -> feature_subset: ['cluster_big', 'area', 'max_trend_daily', 'aggregate_4']. Accuracy: 63.0612527062\n",
      "include: bet_500_1000 -> feature_subset: ['cluster_big', 'area', 'max_trend_daily', 'aggregate_4', 'bet_500_1000']. Accuracy: 62.9960599376\n",
      "include: gt_1000 -> feature_subset: ['cluster_big', 'area', 'max_trend_daily', 'aggregate_4', 'bet_500_1000', 'gt_1000']. Accuracy: 62.9592851866\n",
      "include: aggregate_2 -> feature_subset: ['cluster_big', 'area', 'max_trend_daily', 'aggregate_4', 'bet_500_1000', 'gt_1000', 'aggregate_2']. Accuracy: 63.0651281213\n",
      "include: aggregate_7 -> feature_subset: ['aggregate_7']. Accuracy: 57.7565511051\n",
      "include: area -> feature_subset: ['aggregate_7', 'area']. Accuracy: 59.0821185311\n",
      "include: aggregate_4 -> feature_subset: ['aggregate_7', 'area', 'aggregate_4']. Accuracy: 60.8944736633\n",
      "include: bet_500_1000 -> feature_subset: ['aggregate_7', 'area', 'aggregate_4', 'bet_500_1000']. Accuracy: 60.8263096073\n",
      "include: aggregate_1 -> feature_subset: ['aggregate_7', 'area', 'aggregate_4', 'bet_500_1000', 'aggregate_1']. Accuracy: 60.6998473727\n",
      "include: aggregate_2 -> feature_subset: ['aggregate_7', 'area', 'aggregate_4', 'bet_500_1000', 'aggregate_1', 'aggregate_2']. Accuracy: 60.4998767525\n",
      "include: max_trend_daily -> feature_subset: ['aggregate_7', 'area', 'aggregate_4', 'bet_500_1000', 'aggregate_1', 'aggregate_2', 'max_trend_daily']. Accuracy: 60.3823659703\n",
      "include: area -> feature_subset: ['area']. Accuracy: 57.3230664825\n",
      "include: difference_min_max -> feature_subset: ['area', 'difference_min_max']. Accuracy: 59.5706548718\n",
      "include: bet_500_1000 -> feature_subset: ['area', 'difference_min_max', 'bet_500_1000']. Accuracy: 59.7914534079\n",
      "include: ratio_min_max -> feature_subset: ['area', 'difference_min_max', 'bet_500_1000', 'ratio_min_max']. Accuracy: 59.6678720333\n",
      "include: fft_1 -> feature_subset: ['area', 'difference_min_max', 'bet_500_1000', 'ratio_min_max', 'fft_1']. Accuracy: 59.417243015\n",
      "include: fft_5 -> feature_subset: ['area', 'difference_min_max', 'bet_500_1000', 'ratio_min_max', 'fft_1', 'fft_5']. Accuracy: 59.1161640229\n",
      "include: max_seasonal_12 -> feature_subset: ['area', 'difference_min_max', 'bet_500_1000', 'ratio_min_max', 'fft_1', 'fft_5', 'max_seasonal_12']. Accuracy: 60.1870993918\n",
      "include: area -> feature_subset: ['area']. Accuracy: 58.1402838524\n",
      "include: fft_1 -> feature_subset: ['area', 'fft_1']. Accuracy: 58.5637136983\n",
      "include: aggregate_10 -> feature_subset: ['area', 'fft_1', 'aggregate_10']. Accuracy: 58.6605366949\n",
      "include: autocorr -> feature_subset: ['area', 'fft_1', 'aggregate_10', 'autocorr']. Accuracy: 59.0240578992\n",
      "include: bet_500_1000 -> feature_subset: ['area', 'fft_1', 'aggregate_10', 'autocorr', 'bet_500_1000']. Accuracy: 59.1003460516\n",
      "include: gt_1000 -> feature_subset: ['area', 'fft_1', 'aggregate_10', 'autocorr', 'bet_500_1000', 'gt_1000']. Accuracy: 58.9315243768\n",
      "include: total_occupants -> feature_subset: ['area', 'fft_1', 'aggregate_10', 'autocorr', 'bet_500_1000', 'gt_1000', 'total_occupants']. Accuracy: 59.5593994971\n",
      "2 ['aggregate_11', 'bet_500_1000', 'aggregate_10', 'seasonal_energy_6', 'aggregate_5', 'aggregate_7', 'aggregate_4'] 63.508151338\n",
      "--------------------------------------------------------------------------------\n"
     ]
    },
    {
     "data": {
      "text/plain": [
       "({'wm': {'All': {1: {'accuracy': 63.306942395355627,\n",
       "     'f': ['aggregate_11', 'bet_500_1000', 'aggregate_3', 'gt_1000']},\n",
       "    2: {'accuracy': 63.508151338026032,\n",
       "     'f': ['aggregate_11',\n",
       "      'bet_500_1000',\n",
       "      'aggregate_10',\n",
       "      'seasonal_energy_6',\n",
       "      'aggregate_5',\n",
       "      'aggregate_7',\n",
       "      'aggregate_4']},\n",
       "    3: {'accuracy': 63.065128121300177,\n",
       "     'f': ['cluster_big',\n",
       "      'area',\n",
       "      'max_trend_daily',\n",
       "      'aggregate_4',\n",
       "      'bet_500_1000',\n",
       "      'gt_1000',\n",
       "      'aggregate_2']},\n",
       "    4: {'accuracy': 60.894473663311032,\n",
       "     'f': ['aggregate_7', 'area', 'aggregate_4']},\n",
       "    5: {'accuracy': 60.187099391806832,\n",
       "     'f': ['area',\n",
       "      'difference_min_max',\n",
       "      'bet_500_1000',\n",
       "      'ratio_min_max',\n",
       "      'fft_1',\n",
       "      'fft_5',\n",
       "      'max_seasonal_12']},\n",
       "    6: {'accuracy': 59.559399497127401,\n",
       "     'f': ['area',\n",
       "      'fft_1',\n",
       "      'aggregate_10',\n",
       "      'autocorr',\n",
       "      'bet_500_1000',\n",
       "      'gt_1000',\n",
       "      'total_occupants']}}}},\n",
       " {'wm': {'All': {'accuracy': 63.508151338026032,\n",
       "    'f': ['aggregate_11',\n",
       "     'bet_500_1000',\n",
       "     'aggregate_10',\n",
       "     'seasonal_energy_6',\n",
       "     'aggregate_5',\n",
       "     'aggregate_7',\n",
       "     'aggregate_4'],\n",
       "    'k': 2}}})"
      ]
     },
     "execution_count": 254,
     "metadata": {},
     "output_type": "execute_result"
    }
   ],
   "source": [
    "f = ['aggregate_11', 'aggregate_10', 'area', 'aggregate_3']\n",
    "find_optimal_features(df, dfc, all_homes, appliance_min, national_average, [\"wm\"], {\"All\":feature_map[\"All\"]},\n",
    "                          NUM_NEIGHBOURS_MAX=7, F_length_max=7, metric=\"mean\",\n",
    "                          train_outlier=True, test_outlier=True, outlier_features=f, outlier_fraction=0.1,\n",
    "                          print_steps=True)"
   ]
  },
  {
   "cell_type": "code",
   "execution_count": 294,
   "metadata": {
    "collapsed": false
   },
   "outputs": [
    {
     "data": {
      "text/plain": [
       "array([  545.,  9654.])"
      ]
     },
     "execution_count": 294,
     "metadata": {},
     "output_type": "execute_result"
    }
   ],
   "source": [
    "all_true_outliers(df, all_homes, 'wm', .1)"
   ]
  },
  {
   "cell_type": "code",
   "execution_count": 295,
   "metadata": {
    "collapsed": false
   },
   "outputs": [
    {
     "data": {
      "text/plain": [
       "[2242, 5357, 9922, 9934]"
      ]
     },
     "execution_count": 295,
     "metadata": {},
     "output_type": "execute_result"
    }
   ],
   "source": [
    "find_outlier_test_homes(df,all_homes,  appliance, optimal_dict['wm']['All']['f'], outliers_fraction=0.1)"
   ]
  },
  {
   "cell_type": "code",
   "execution_count": 287,
   "metadata": {
    "collapsed": false
   },
   "outputs": [
    {
     "name": "stdout",
     "output_type": "stream",
     "text": [
      "hvac\n",
      "0.5 0.5\n",
      "light\n",
      "0.5 0.5\n",
      "wm\n",
      "0.0 0.0\n",
      "fridge\n",
      "0.0 0.0\n",
      "dw\n",
      "0.333333333333 0.5\n",
      "dr\n",
      "0.0 0.0\n"
     ]
    },
    {
     "data": {
      "text/html": [
       "<div>\n",
       "<table border=\"1\" class=\"dataframe\">\n",
       "  <thead>\n",
       "    <tr style=\"text-align: right;\">\n",
       "      <th></th>\n",
       "      <th>dr</th>\n",
       "      <th>dw</th>\n",
       "      <th>fridge</th>\n",
       "      <th>hvac</th>\n",
       "      <th>light</th>\n",
       "      <th>wm</th>\n",
       "    </tr>\n",
       "  </thead>\n",
       "  <tbody>\n",
       "    <tr>\n",
       "      <th>precision</th>\n",
       "      <td>0</td>\n",
       "      <td>0.333333</td>\n",
       "      <td>0</td>\n",
       "      <td>0.5</td>\n",
       "      <td>0.5</td>\n",
       "      <td>0</td>\n",
       "    </tr>\n",
       "    <tr>\n",
       "      <th>recall</th>\n",
       "      <td>0</td>\n",
       "      <td>0.500000</td>\n",
       "      <td>0</td>\n",
       "      <td>0.5</td>\n",
       "      <td>0.5</td>\n",
       "      <td>0</td>\n",
       "    </tr>\n",
       "  </tbody>\n",
       "</table>\n",
       "</div>"
      ],
      "text/plain": [
       "           dr        dw  fridge  hvac  light  wm\n",
       "precision   0  0.333333       0   0.5    0.5   0\n",
       "recall      0  0.500000       0   0.5    0.5   0"
      ]
     },
     "execution_count": 287,
     "metadata": {},
     "output_type": "execute_result"
    }
   ],
   "source": [
    "pd.DataFrame(find_precision_recall_outlier(df, all_homes, optimal_dict))"
   ]
  },
  {
   "cell_type": "code",
   "execution_count": 261,
   "metadata": {
    "collapsed": false
   },
   "outputs": [
    {
     "data": {
      "text/plain": [
       "{'dr': Int64Index([  94,  370,  410,  624, 1283, 2156, 2242, 2814, 3367, 3456, 3482,\n",
       "             3723, 3967, 4732, 4767, 5746, 5785, 5814, 6072, 6636, 6836, 7016,\n",
       "             7731, 7769, 7866, 8317, 9052, 9654, 9922, 9933, 9934, 9982],\n",
       "            dtype='int64'),\n",
       " 'dw': array([  26,   94,  370,  545,  624, 1334, 1642, 2156, 2242, 2814, 3367,\n",
       "        3456, 3482, 3723, 3967, 4767, 5357, 5746, 6072, 6636, 6836, 6910,\n",
       "        7769, 9922, 9934, 9982]),\n",
       " 'fridge': array([  94,  370,  410,  545,  624, 1953, 2156, 2242, 2814, 3367, 3456,\n",
       "        3723, 3967, 4767, 5357, 5371, 6072, 6636, 6910, 7769, 7866]),\n",
       " 'hvac': array([  26,  370,  410,  545,  624, 1283, 1642, 1953, 2129, 2156, 2242,\n",
       "        2814, 3367, 3456, 3723, 3967, 4767, 5357, 5371, 5746, 5785, 5814,\n",
       "        6072, 6636, 6836, 6910, 7731, 7769, 7866, 9654, 9922, 9933, 9934]),\n",
       " 'light': [624,\n",
       "  1334,\n",
       "  2470,\n",
       "  3367,\n",
       "  3456,\n",
       "  3723,\n",
       "  5814,\n",
       "  6072,\n",
       "  6910,\n",
       "  7769,\n",
       "  7866,\n",
       "  9609,\n",
       "  9654,\n",
       "  9922],\n",
       " 'wm': array([  94,  370,  545,  624, 2156, 2242, 2470, 2814, 3367, 3456, 3723,\n",
       "        3967, 5357, 7769, 9654, 9922, 9934])}"
      ]
     },
     "execution_count": 261,
     "metadata": {},
     "output_type": "execute_result"
    }
   ],
   "source": [
    "all_homes"
   ]
  },
  {
   "cell_type": "code",
   "execution_count": null,
   "metadata": {
    "collapsed": true
   },
   "outputs": [],
   "source": []
  }
 ],
 "metadata": {
  "kernelspec": {
   "display_name": "Python 2",
   "language": "python",
   "name": "python2"
  },
  "language_info": {
   "codemirror_mode": {
    "name": "ipython",
    "version": 2
   },
   "file_extension": ".py",
   "mimetype": "text/x-python",
   "name": "python",
   "nbconvert_exporter": "python",
   "pygments_lexer": "ipython2",
   "version": "2.7.11"
  }
 },
 "nbformat": 4,
 "nbformat_minor": 0
}
