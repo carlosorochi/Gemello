{
 "cells": [
  {
   "cell_type": "markdown",
   "metadata": {},
   "source": [
    "### Load data set with features"
   ]
  },
  {
   "cell_type": "code",
   "execution_count": 6,
   "metadata": {
    "collapsed": false
   },
   "outputs": [],
   "source": [
    "from create_df import read_df\n",
    "df, dfc, all_homes, appliance_min, national_average = read_df()"
   ]
  },
  {
   "cell_type": "code",
   "execution_count": 1,
   "metadata": {
    "collapsed": false
   },
   "outputs": [
    {
     "name": "stderr",
     "output_type": "stream",
     "text": [
      "Vendor:  Continuum Analytics, Inc.\n",
      "Package: mkl\n",
      "Message: trial mode expires in 26 days\n"
     ]
    }
   ],
   "source": [
    "import numpy as np\n",
    "import matplotlib.pyplot as plt\n",
    "%matplotlib inline\n"
   ]
  },
  {
   "cell_type": "code",
   "execution_count": 2,
   "metadata": {
    "collapsed": false
   },
   "outputs": [],
   "source": [
    "run all_functions.py"
   ]
  },
  {
   "cell_type": "code",
   "execution_count": 3,
   "metadata": {
    "collapsed": false
   },
   "outputs": [],
   "source": [
    "run features.py"
   ]
  },
  {
   "cell_type": "code",
   "execution_count": 4,
   "metadata": {
    "collapsed": true
   },
   "outputs": [],
   "source": [
    "appliance_name_map = {\"fridge\":\"Fridge\",\"hvac\":\"HVAC\",\"wm\":\"Washing\\nmachine\",\n",
    "                      \"dr\":\"Dryer\",\"dw\":\"Dish\\nwasher\",\"light\":\"Lights\"}\n",
    "import json"
   ]
  },
  {
   "cell_type": "markdown",
   "metadata": {},
   "source": [
    "### TRAIN ACCURACY"
   ]
  },
  {
   "cell_type": "code",
   "execution_count": 8,
   "metadata": {
    "collapsed": false
   },
   "outputs": [],
   "source": [
    "import json\n",
    "appliances = [\"dr\",\"hvac\",\"wm\",\"dw\",\"fridge\",\"light\"]\n",
    "features = [\"Static\", \"Monthly\", \"Monthly+Static\"]\n",
    "#features=[\"AMI+Static\"]\n",
    "#features=[\"All\"]\n",
    "#appliances=[\"fridge\",\"hvac\",\"dr\",\"dw\"]\n",
    "#features = feature_map.keys()\n",
    "out={}\n",
    "means = {}\n",
    "sems = {}\n",
    "for feature in features:\n",
    "    out[feature]={}\n",
    "    means[feature]={}\n",
    "    sems[feature]={}\n",
    "    for appliance in appliances:\n",
    "    \n",
    "        out[feature][appliance] = {}\n",
    "        for home in all_homes[appliance]:\n",
    "            try:\n",
    "                j = json.load(open(\"../main-out-new/%s_%s_%d.json\" %(appliance, feature, home),'r'))\n",
    "                out[feature][appliance][int(home)] = j['accuracy']\n",
    "            except:\n",
    "                pass\n",
    "                                     \n",
    "                \n",
    "           \n",
    "train_df = pd.DataFrame({k:pd.DataFrame(out[k]).mean() for k in features})\n"
   ]
  },
  {
   "cell_type": "code",
   "execution_count": 9,
   "metadata": {
    "collapsed": false
   },
   "outputs": [],
   "source": [
    "to_use_feature = {}\n",
    "for appliance in [\"dr\",\"hvac\",\"wm\",\"dw\",\"fridge\",\"light\"]:\n",
    "    to_use_feature[appliance] = train_df.ix[appliance].argmax()"
   ]
  },
  {
   "cell_type": "markdown",
   "metadata": {},
   "source": [
    "### TEST"
   ]
  },
  {
   "cell_type": "code",
   "execution_count": 10,
   "metadata": {
    "collapsed": true
   },
   "outputs": [],
   "source": [
    "from constants import APPROACH as APPROACH_NAME"
   ]
  },
  {
   "cell_type": "code",
   "execution_count": 11,
   "metadata": {
    "collapsed": false
   },
   "outputs": [],
   "source": [
    "appliances = [\"dr\",\"hvac\",\"wm\",\"dw\",\"fridge\",\"light\"]\n",
    "#features = [\"Static\",\"Monthly\", \"Monthly+Static\"]\n",
    "#features=[\"AMI+Static\"]\n",
    "\n",
    "#features=[\"All\"]\n",
    "out={}\n",
    "means = {}\n",
    "sems = {}\n",
    "\n",
    "for appliance in appliances:\n",
    "    feature=to_use_feature[appliance]\n",
    "    \n",
    "\n",
    "    out[appliance] = {}\n",
    "    for home in all_homes[appliance]:\n",
    "        try:\n",
    "\n",
    "            out[appliance][int(home)] = pd.read_csv(\"../main-out-new/%s_%s_%d.csv\" %(appliance, feature, home),\n",
    "                                 header=None, index_col=0, names=[\"accuracy\"]).squeeze()\n",
    "        except Exception, e:\n",
    "            print e\n",
    "\n",
    "\n",
    "    means[appliance_name_map[appliance]]=pd.DataFrame(out[appliance]).mean().mean()\n",
    "    sems[appliance_name_map[appliance]]=pd.DataFrame(out[appliance]).mean().sem()\n",
    "\n",
    "            "
   ]
  },
  {
   "cell_type": "code",
   "execution_count": 13,
   "metadata": {
    "collapsed": false
   },
   "outputs": [],
   "source": [
    "feature_accuracies = {APPROACH_NAME:means}\n"
   ]
  },
  {
   "cell_type": "code",
   "execution_count": 17,
   "metadata": {
    "collapsed": false
   },
   "outputs": [],
   "source": [
    "appliances = [\"dr\",\"hvac\",\"wm\",\"dw\",\"fridge\",\"light\"]\n",
    "#features = [\"Static\",\"Monthly\", \"Monthly+Static\"]\n",
    "#features=[\"AMI+Static\"]\n",
    "\n",
    "#features=[\"All\"]\n",
    "out={}\n",
    "means = {}\n",
    "sems = {}\n",
    "\n",
    "for feature in [\"All\",\"AMI\"]:\n",
    "    feature_accuracies[feature] = {}\n",
    "    for appliance in appliances:\n",
    "        \n",
    "    \n",
    "    \n",
    "\n",
    "        out[appliance] = {}\n",
    "        for home in all_homes[appliance]:\n",
    "            try:\n",
    "\n",
    "                out[appliance][int(home)] = pd.read_csv(\"../main-out-new/%s_%s_%d.csv\" %(appliance, feature, home),\n",
    "                                     header=None, index_col=0, names=[\"accuracy\"]).squeeze()\n",
    "            except Exception, e:\n",
    "                print e\n",
    "\n",
    "\n",
    "        means[appliance_name_map[appliance]]=pd.DataFrame(out[appliance]).mean().mean()\n",
    "        sems[appliance_name_map[appliance]]=pd.DataFrame(out[appliance]).mean().sem()\n",
    "        feature_accuracies[feature][appliance_name_map[appliance]]=pd.DataFrame(out[appliance]).mean().mean()\n",
    "    \n",
    "\n",
    "            "
   ]
  },
  {
   "cell_type": "code",
   "execution_count": 64,
   "metadata": {
    "collapsed": false
   },
   "outputs": [],
   "source": [
    "sen=pd.DataFrame(feature_accuracies).T"
   ]
  },
  {
   "cell_type": "code",
   "execution_count": 65,
   "metadata": {
    "collapsed": true
   },
   "outputs": [],
   "source": [
    "sen.loc['Oracle'] = pd.Series({appliance_name_map['dr']: 64.885914164535222,\n",
    " appliance_name_map['dw']: 61.017474093337341,\n",
    " appliance_name_map['fridge']: 91.888765437104055,\n",
    " appliance_name_map['hvac']: 93.195959529260662,\n",
    " appliance_name_map['light']: 77.810755698772141,\n",
    " appliance_name_map['wm']: 80.183453230991176})"
   ]
  },
  {
   "cell_type": "code",
   "execution_count": 66,
   "metadata": {
    "collapsed": true
   },
   "outputs": [],
   "source": [
    "from common_functions import latexify, format_axes, tableau20blind"
   ]
  },
  {
   "cell_type": "code",
   "execution_count": 67,
   "metadata": {
    "collapsed": false
   },
   "outputs": [],
   "source": [
    "latexify()"
   ]
  },
  {
   "cell_type": "code",
   "execution_count": 68,
   "metadata": {
    "collapsed": false
   },
   "outputs": [],
   "source": [
    "sen = sen[['HVAC','Fridge','Washing\\nmachine','Lights','Dryer','Dish\\nwasher']].T"
   ]
  },
  {
   "cell_type": "code",
   "execution_count": 69,
   "metadata": {
    "collapsed": false
   },
   "outputs": [],
   "source": [
    "sen = sen.rename(columns={\"All\":\"All\\nfeatures\"})"
   ]
  },
  {
   "cell_type": "code",
   "execution_count": 70,
   "metadata": {
    "collapsed": false
   },
   "outputs": [
    {
     "data": {
      "image/png": "[encoded data removed]",
      "text/plain": [
       "<matplotlib.figure.Figure at 0x126b989d0>"
      ]
     },
     "metadata": {},
     "output_type": "display_data"
    }
   ],
   "source": [
    "sen.plot(kind=\"bar\",rot=0, colors=tableau20blind[::2])\n",
    "format_axes(plt.gca())\n",
    "plt.legend(loc=3)\n",
    "plt.ylabel(\"Energy Accuracy(\\%)\\n(Higher is better)\");\n",
    "plt.tight_layout()\n",
    "plt.savefig(\"/Users/nipunbatra/git/monthly-disaggregation/results/sensitivity-features.pdf\",bbox_inches=\"tight\")\n",
    "plt.savefig(\"/Users/nipunbatra/git/monthly-disaggregation/results/sensitivity-features.png\",bbox_inches=\"tight\")"
   ]
  },
  {
   "cell_type": "markdown",
   "metadata": {},
   "source": [
    "Why fridge improves with AMI"
   ]
  },
  {
   "cell_type": "code",
   "execution_count": 109,
   "metadata": {
    "collapsed": false
   },
   "outputs": [
    {
     "data": {
      "text/plain": [
       "{'dr': 'Monthly+Static',\n",
       " 'dw': 'Monthly+Static',\n",
       " 'fridge': 'Monthly+Static',\n",
       " 'hvac': 'Monthly',\n",
       " 'light': 'Static',\n",
       " 'wm': 'Static'}"
      ]
     },
     "execution_count": 109,
     "metadata": {},
     "output_type": "execute_result"
    }
   ],
   "source": [
    "to_use_feature"
   ]
  },
  {
   "cell_type": "code",
   "execution_count": 121,
   "metadata": {
    "collapsed": true
   },
   "outputs": [],
   "source": [
    "from collections import Counter\n",
    "import json\n",
    "appliance=\"dr\"\n",
    "feature=\"Monthly+Static\"\n",
    "out={}\n",
    "means = {}\n",
    "sems = {}\n",
    "\n",
    "for appliance, feature in to_use_feature.iteritems():\n",
    "    out[appliance]=Counter()\n",
    "    for home in all_homes[appliance]:\n",
    "        try:\n",
    "            j = json.load(open(\"../main-out-new/%s_%s_%d.json\" %(appliance, feature, home),'r'))\n",
    "            \n",
    "            out[appliance].update(j['f'])\n",
    "        except:\n",
    "            pass\n",
    "                                     \n",
    "                \n",
    "           \n"
   ]
  },
  {
   "cell_type": "code",
   "execution_count": 136,
   "metadata": {
    "collapsed": false
   },
   "outputs": [
    {
     "data": {
      "text/plain": [
       "aggregate_1        20\n",
       "aggregate_10        4\n",
       "aggregate_11       16\n",
       "aggregate_12       24\n",
       "aggregate_5        11\n",
       "aggregate_6         2\n",
       "aggregate_7         6\n",
       "aggregate_8         2\n",
       "num_rooms           1\n",
       "total_occupants    13\n",
       "dtype: int64"
      ]
     },
     "execution_count": 136,
     "metadata": {},
     "output_type": "execute_result"
    }
   ],
   "source": [
    "pd.Series(out['dw'])"
   ]
  },
  {
   "cell_type": "code",
   "execution_count": 139,
   "metadata": {
    "collapsed": false
   },
   "outputs": [
    {
     "data": {
      "text/plain": [
       "0.7692307692307693"
      ]
     },
     "execution_count": 139,
     "metadata": {},
     "output_type": "execute_result"
    }
   ],
   "source": [
    "20./26"
   ]
  },
  {
   "cell_type": "code",
   "execution_count": 185,
   "metadata": {
    "collapsed": false
   },
   "outputs": [
    {
     "data": {
      "text/html": [
       "<div>\n",
       "<table border=\"1\" class=\"dataframe\">\n",
       "  <thead>\n",
       "    <tr style=\"text-align: right;\">\n",
       "      <th></th>\n",
       "      <th>kurtosis</th>\n",
       "      <th>fridge_5</th>\n",
       "    </tr>\n",
       "  </thead>\n",
       "  <tbody>\n",
       "    <tr>\n",
       "      <th>kurtosis</th>\n",
       "      <td>1.000000</td>\n",
       "      <td>0.154295</td>\n",
       "    </tr>\n",
       "    <tr>\n",
       "      <th>fridge_5</th>\n",
       "      <td>0.154295</td>\n",
       "      <td>1.000000</td>\n",
       "    </tr>\n",
       "  </tbody>\n",
       "</table>\n",
       "</div>"
      ],
      "text/plain": [
       "          kurtosis  fridge_5\n",
       "kurtosis  1.000000  0.154295\n",
       "fridge_5  0.154295  1.000000"
      ]
     },
     "execution_count": 185,
     "metadata": {},
     "output_type": "execute_result"
    },
    {
     "data": {
      "image/png": "[encoded data removed]",
      "text/plain": [
       "<matplotlib.figure.Figure at 0x126e0f2d0>"
      ]
     },
     "metadata": {},
     "output_type": "display_data"
    }
   ],
   "source": [
    "fr = 'kurtosis'\n",
    "a = df.ix[all_homes['fridge']][[fr,'fridge_5']]\n",
    "#a = a.query('fridge_7<100')\n",
    "plt.scatter(a[fr],a['fridge_5'])\n",
    "#plt.ylim((0, 100))\n",
    "df.ix[all_homes['fridge']][[fr,'fridge_5']].corr()"
   ]
  },
  {
   "cell_type": "code",
   "execution_count": 177,
   "metadata": {
    "collapsed": false
   },
   "outputs": [],
   "source": [
    "o = {}\n",
    "for f in ['difference_min_max']:\n",
    "    o[f]={}\n",
    "    for month in range(1, 13):\n",
    "        o[f][month] = df.ix[all_homes['fridge']][[f,'fridge_%d' %month]].corr().values[0, 1]\n",
    "    "
   ]
  },
  {
   "cell_type": "code",
   "execution_count": 178,
   "metadata": {
    "collapsed": false
   },
   "outputs": [
    {
     "data": {
      "text/plain": [
       "difference_min_max    0.022031\n",
       "dtype: float64"
      ]
     },
     "execution_count": 178,
     "metadata": {},
     "output_type": "execute_result"
    }
   ],
   "source": [
    "pd.DataFrame(o).mean()"
   ]
  },
  {
   "cell_type": "code",
   "execution_count": 175,
   "metadata": {
    "collapsed": false
   },
   "outputs": [],
   "source": [
    "from collections import Counter\n",
    "import json\n",
    "appliance=\"fridge\"\n",
    "feature=\"Monthly\"\n",
    "out={}\n",
    "means = {}\n",
    "sems = {}\n",
    "\n",
    "c=Counter()\n",
    "for home in all_homes[appliance]:\n",
    "    try:\n",
    "        j = json.load(open(\"../main-out-new/%s_%s_%d.json\" %(appliance, feature, home),'r'))\n",
    "\n",
    "        c.update(j['f'])\n",
    "    except:\n",
    "        pass\n",
    "                                     \n",
    "                \n",
    "           \n"
   ]
  },
  {
   "cell_type": "code",
   "execution_count": 176,
   "metadata": {
    "collapsed": false
   },
   "outputs": [
    {
     "data": {
      "text/plain": [
       "aggregate_10                 1\n",
       "aggregate_11                 4\n",
       "aggregate_4                 15\n",
       "aggregate_5                 10\n",
       "aggregate_6                  4\n",
       "aggregate_9                  6\n",
       "difference_min_max          20\n",
       "kurtosis                     8\n",
       "p_50                         2\n",
       "p_75                         5\n",
       "ratio_difference_min_max     8\n",
       "ratio_min_max                4\n",
       "dtype: int64"
      ]
     },
     "execution_count": 176,
     "metadata": {},
     "output_type": "execute_result"
    }
   ],
   "source": [
    "pd.Series(c)"
   ]
  },
  {
   "cell_type": "code",
   "execution_count": null,
   "metadata": {
    "collapsed": true
   },
   "outputs": [],
   "source": [
    "df"
   ]
  }
 ],
 "metadata": {
  "kernelspec": {
   "display_name": "Python 2",
   "language": "python",
   "name": "python2"
  },
  "language_info": {
   "codemirror_mode": {
    "name": "ipython",
    "version": 2
   },
   "file_extension": ".py",
   "mimetype": "text/x-python",
   "name": "python",
   "nbconvert_exporter": "python",
   "pygments_lexer": "ipython2",
   "version": "2.7.11"
  }
 },
 "nbformat": 4,
 "nbformat_minor": 0
}
