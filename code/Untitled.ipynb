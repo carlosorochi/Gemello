{
 "cells": [
  {
   "cell_type": "code",
   "execution_count": 3,
   "metadata": {
    "collapsed": false
   },
   "outputs": [],
   "source": [
    "import pandas as pd\n",
    "import numpy as np"
   ]
  },
  {
   "cell_type": "code",
   "execution_count": 2,
   "metadata": {
    "collapsed": true
   },
   "outputs": [],
   "source": [
    "st = pd.HDFStore(\"/Users/nipunbatra/Desktop/milan.h5\")"
   ]
  },
  {
   "cell_type": "code",
   "execution_count": null,
   "metadata": {
    "collapsed": true
   },
   "outputs": [],
   "source": [
    "df1 = pd.DataFrame(np.random.randn(100000000,5))"
   ]
  },
  {
   "cell_type": "code",
   "execution_count": 6,
   "metadata": {
    "collapsed": false
   },
   "outputs": [
    {
     "data": {
      "text/html": [
       "<div>\n",
       "<table border=\"1\" class=\"dataframe\">\n",
       "  <thead>\n",
       "    <tr style=\"text-align: right;\">\n",
       "      <th></th>\n",
       "      <th>0</th>\n",
       "      <th>1</th>\n",
       "      <th>2</th>\n",
       "      <th>3</th>\n",
       "      <th>4</th>\n",
       "    </tr>\n",
       "  </thead>\n",
       "  <tbody>\n",
       "    <tr>\n",
       "      <th>count</th>\n",
       "      <td>1000000.000000</td>\n",
       "      <td>1000000.000000</td>\n",
       "      <td>1000000.000000</td>\n",
       "      <td>1000000.000000</td>\n",
       "      <td>1000000.000000</td>\n",
       "    </tr>\n",
       "    <tr>\n",
       "      <th>mean</th>\n",
       "      <td>-0.001351</td>\n",
       "      <td>0.000424</td>\n",
       "      <td>-0.001039</td>\n",
       "      <td>0.001962</td>\n",
       "      <td>0.000696</td>\n",
       "    </tr>\n",
       "    <tr>\n",
       "      <th>std</th>\n",
       "      <td>1.000183</td>\n",
       "      <td>0.999922</td>\n",
       "      <td>0.999538</td>\n",
       "      <td>1.000568</td>\n",
       "      <td>0.999557</td>\n",
       "    </tr>\n",
       "    <tr>\n",
       "      <th>min</th>\n",
       "      <td>-4.922911</td>\n",
       "      <td>-5.124696</td>\n",
       "      <td>-4.889802</td>\n",
       "      <td>-4.910598</td>\n",
       "      <td>-4.927490</td>\n",
       "    </tr>\n",
       "    <tr>\n",
       "      <th>25%</th>\n",
       "      <td>-0.675855</td>\n",
       "      <td>-0.673673</td>\n",
       "      <td>-0.675559</td>\n",
       "      <td>-0.674103</td>\n",
       "      <td>-0.674375</td>\n",
       "    </tr>\n",
       "    <tr>\n",
       "      <th>50%</th>\n",
       "      <td>-0.002464</td>\n",
       "      <td>-0.000809</td>\n",
       "      <td>-0.001126</td>\n",
       "      <td>0.002499</td>\n",
       "      <td>0.000564</td>\n",
       "    </tr>\n",
       "    <tr>\n",
       "      <th>75%</th>\n",
       "      <td>0.673415</td>\n",
       "      <td>0.674903</td>\n",
       "      <td>0.674904</td>\n",
       "      <td>0.677040</td>\n",
       "      <td>0.675521</td>\n",
       "    </tr>\n",
       "    <tr>\n",
       "      <th>max</th>\n",
       "      <td>4.771429</td>\n",
       "      <td>4.742483</td>\n",
       "      <td>5.047047</td>\n",
       "      <td>5.809460</td>\n",
       "      <td>5.213671</td>\n",
       "    </tr>\n",
       "  </tbody>\n",
       "</table>\n",
       "</div>"
      ],
      "text/plain": [
       "                    0               1               2               3  \\\n",
       "count  1000000.000000  1000000.000000  1000000.000000  1000000.000000   \n",
       "mean        -0.001351        0.000424       -0.001039        0.001962   \n",
       "std          1.000183        0.999922        0.999538        1.000568   \n",
       "min         -4.922911       -5.124696       -4.889802       -4.910598   \n",
       "25%         -0.675855       -0.673673       -0.675559       -0.674103   \n",
       "50%         -0.002464       -0.000809       -0.001126        0.002499   \n",
       "75%          0.673415        0.674903        0.674904        0.677040   \n",
       "max          4.771429        4.742483        5.047047        5.809460   \n",
       "\n",
       "                    4  \n",
       "count  1000000.000000  \n",
       "mean         0.000696  \n",
       "std          0.999557  \n",
       "min         -4.927490  \n",
       "25%         -0.674375  \n",
       "50%          0.000564  \n",
       "75%          0.675521  \n",
       "max          5.213671  "
      ]
     },
     "execution_count": 6,
     "metadata": {},
     "output_type": "execute_result"
    }
   ],
   "source": [
    "df1.describe()"
   ]
  },
  {
   "cell_type": "code",
   "execution_count": 7,
   "metadata": {
    "collapsed": true
   },
   "outputs": [],
   "source": [
    "st['/df1'] = df1"
   ]
  },
  {
   "cell_type": "code",
   "execution_count": 9,
   "metadata": {
    "collapsed": false
   },
   "outputs": [
    {
     "name": "stdout",
     "output_type": "stream",
     "text": [
      "-rw-r--r--  1 nipunbatra  staff    46M Jan  4 20:24 /Users/nipunbatra/Desktop/milan.h5\r\n"
     ]
    }
   ],
   "source": [
    "!ls -lah /Users/nipunbatra/Desktop/milan.h5"
   ]
  },
  {
   "cell_type": "code",
   "execution_count": null,
   "metadata": {
    "collapsed": true
   },
   "outputs": [],
   "source": []
  }
 ],
 "metadata": {
  "kernelspec": {
   "display_name": "Python 2",
   "language": "python",
   "name": "python2"
  },
  "language_info": {
   "codemirror_mode": {
    "name": "ipython",
    "version": 2
   },
   "file_extension": ".py",
   "mimetype": "text/x-python",
   "name": "python",
   "nbconvert_exporter": "python",
   "pygments_lexer": "ipython2",
   "version": "2.7.11"
  }
 },
 "nbformat": 4,
 "nbformat_minor": 0
}
