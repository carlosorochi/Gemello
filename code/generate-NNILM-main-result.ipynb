{
 "cells": [
  {
   "cell_type": "markdown",
   "metadata": {},
   "source": [
    "### Load data set with features"
   ]
  },
  {
   "cell_type": "code",
   "execution_count": 1,
   "metadata": {
    "collapsed": false
   },
   "outputs": [
    {
     "name": "stderr",
     "output_type": "stream",
     "text": [
      "Vendor:  Continuum Analytics, Inc.\n",
      "Package: mkl\n",
      "Message: trial mode expires in 29 days\n"
     ]
    }
   ],
   "source": [
    "from create_df import read_df\n",
    "df, dfc, all_homes, appliance_min, national_average = read_df()"
   ]
  },
  {
   "cell_type": "code",
   "execution_count": 2,
   "metadata": {
    "collapsed": false
   },
   "outputs": [],
   "source": [
    "import numpy as np\n",
    "import matplotlib.pyplot as plt\n",
    "%matplotlib inline\n"
   ]
  },
  {
   "cell_type": "code",
   "execution_count": 3,
   "metadata": {
    "collapsed": false
   },
   "outputs": [],
   "source": [
    "run all_functions.py"
   ]
  },
  {
   "cell_type": "code",
   "execution_count": 4,
   "metadata": {
    "collapsed": false
   },
   "outputs": [],
   "source": [
    "run features.py"
   ]
  },
  {
   "cell_type": "code",
   "execution_count": 5,
   "metadata": {
    "collapsed": true
   },
   "outputs": [],
   "source": [
    "import json"
   ]
  },
  {
   "cell_type": "code",
   "execution_count": 8,
   "metadata": {
    "collapsed": false
   },
   "outputs": [
    {
     "name": "stdout",
     "output_type": "stream",
     "text": [
      "hvac Monthly\n",
      "dr Monthly\n",
      "light Monthly\n",
      "fridge Monthly\n",
      "wm Monthly\n",
      "dw Monthly\n"
     ]
    }
   ],
   "source": [
    "appliances = [\"hvac\",\"dr\", \"light\",\"fridge\",\"wm\",\"dw\"]\n",
    "out = {}\n",
    "import json\n",
    "for appliance in appliances:\n",
    "    out[appliance]={}\n",
    "    for feature in [\"Monthly\"]:\n",
    "        print appliance, feature\n",
    "        out[appliance]={}\n",
    "        o = json.load(open(\"../sensitivity-data/%s_%s.json\" %(appliance, feature),'r'))\n",
    "        f = o[appliance][feature]['f']\n",
    "        k = o[appliance][feature]['k']\n",
    "        temp= create_predictions(df, dfc, all_homes, appliance_min, \n",
    "                                              national_average, appliance=appliance,\n",
    "                                                feature=f, NUM_NEIGHBOURS=k,\n",
    "                                                   train_outlier=True, test_outlier=False, \n",
    "                                                outlier_features=None,\n",
    "                                                outlier_fraction=0.1)\n",
    "        errors = {}\n",
    "        if appliance ==\"hvac\":\n",
    "            start_month, end_month = 5, 11\n",
    "        else:\n",
    "            start_month, end_month = 1, 13\n",
    "        for i in range(start_month, end_month):\n",
    "            errors[i] = percentage_error(temp[i][\"gt\"], temp[i][\"pred\"])\n",
    "            error_df = pd.DataFrame(errors)\n",
    "            accur_df = 100-error_df\n",
    "            accur_df[accur_df<0]=0\n",
    "\n",
    "        tdf = accur_df\n",
    "        if appliance ==\"hvac\":\n",
    "            for home in [624, 1953, 6636, 6836, 7769, 9922]:\n",
    "                tdf.loc[home, 5]=np.NaN\n",
    "                tdf.loc[home, 10]=np.NaN\n",
    "\n",
    "        out[appliance]=tdf\n",
    "            \n",
    "            "
   ]
  },
  {
   "cell_type": "code",
   "execution_count": 21,
   "metadata": {
    "collapsed": false
   },
   "outputs": [],
   "source": [
    "p = pd.Panel(out)"
   ]
  },
  {
   "cell_type": "code",
   "execution_count": 22,
   "metadata": {
    "collapsed": false
   },
   "outputs": [
    {
     "data": {
      "text/plain": [
       "<class 'pandas.core.panel.Panel'>\n",
       "Dimensions: 6 (items) x 39 (major_axis) x 12 (minor_axis)\n",
       "Items axis: dr to wm\n",
       "Major_axis axis: 26 to 9982\n",
       "Minor_axis axis: 1 to 12"
      ]
     },
     "execution_count": 22,
     "metadata": {},
     "output_type": "execute_result"
    }
   ],
   "source": [
    "p"
   ]
  },
  {
   "cell_type": "code",
   "execution_count": 14,
   "metadata": {
    "collapsed": false
   },
   "outputs": [
    {
     "data": {
      "text/plain": [
       "77.740659617682553"
      ]
     },
     "execution_count": 14,
     "metadata": {},
     "output_type": "execute_result"
    }
   ],
   "source": [
    "out[\"fridge\"].mean().mean()"
   ]
  },
  {
   "cell_type": "code",
   "execution_count": 15,
   "metadata": {
    "collapsed": false
   },
   "outputs": [],
   "source": [
    "accuracy_store = pd.HDFStore(\"accuracy.h5\")"
   ]
  },
  {
   "cell_type": "code",
   "execution_count": 16,
   "metadata": {
    "collapsed": true
   },
   "outputs": [],
   "source": [
    "accuracy_store.remove('N-NILM')"
   ]
  },
  {
   "cell_type": "code",
   "execution_count": 17,
   "metadata": {
    "collapsed": false
   },
   "outputs": [
    {
     "name": "stderr",
     "output_type": "stream",
     "text": [
      "/Users/nipunbatra/anaconda/lib/python2.7/site-packages/tables/path.py:100: NaturalNameWarning: object name is not a valid Python identifier: 'N-NILM'; it does not match the pattern ``^[a-zA-Z_][a-zA-Z0-9_]*$``; you will not be able to use natural naming to access this object; using ``getattr()`` will still work, though\n",
      "  NaturalNameWarning)\n"
     ]
    }
   ],
   "source": [
    "accuracy_store.append(\"N-NILM\", p)"
   ]
  },
  {
   "cell_type": "code",
   "execution_count": 18,
   "metadata": {
    "collapsed": true
   },
   "outputs": [],
   "source": [
    "accuracy_store.close()"
   ]
  },
  {
   "cell_type": "code",
   "execution_count": null,
   "metadata": {
    "collapsed": true
   },
   "outputs": [],
   "source": []
  }
 ],
 "metadata": {
  "kernelspec": {
   "display_name": "Python 2",
   "language": "python",
   "name": "python2"
  },
  "language_info": {
   "codemirror_mode": {
    "name": "ipython",
    "version": 2
   },
   "file_extension": ".py",
   "mimetype": "text/x-python",
   "name": "python",
   "nbconvert_exporter": "python",
   "pygments_lexer": "ipython2",
   "version": "2.7.11"
  }
 },
 "nbformat": 4,
 "nbformat_minor": 0
}
