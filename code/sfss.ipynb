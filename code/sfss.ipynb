{
 "cells": [
  {
   "cell_type": "code",
   "execution_count": 192,
   "metadata": {
    "collapsed": false
   },
   "outputs": [
    {
     "name": "stdout",
     "output_type": "stream",
     "text": [
      "fridge 34\n",
      "hvac 57\n",
      "dr 35\n",
      "light 24\n",
      "dw 31\n",
      "wm 28\n"
     ]
    }
   ],
   "source": [
    "__author__ = 'nipunbatra'\n",
    "\n",
    "import pandas as pd\n",
    "import os\n",
    "import numpy as np\n",
    "from sklearn.ensemble import RandomForestRegressor\n",
    "from sklearn.neighbors import KNeighborsRegressor\n",
    "\n",
    "df = pd.read_csv(\"../main_15min_decomposition_12_daily_weekly_cluster_diff_frac_temp_weekday.csv\",index_col=0)\n",
    "dfc = df.copy()\n",
    "\n",
    "df = df.drop(871)\n",
    "df = df.drop(1169)\n",
    "\n",
    "\n",
    "\n",
    "w=df[['aggregate_%d' %i for i in range(1,13)]]\n",
    "\n",
    "df = df.ix[w[w>0].dropna().index]\n",
    "\n",
    "\"\"\"\n",
    "features_individual = {#'fraction':[\"fraction_%d\" % i for i in range(1, 25)],\n",
    "                       'area': 'area',\n",
    "                       'autocorr':'autocorr',\n",
    "                       'month': [\"aggregate_%d\" % i for i in range(1, 13)],\n",
    "                       'occupants': 'total_occupants',\n",
    "                       'rooms': 'num_rooms',\n",
    "                       #'seasonal_daily':['stdev_seasonal_daily','max_seasonal_daily'],\n",
    "                       #'trend_daily':['stdev_trend_daily','max_trend_daily'],\n",
    "                       'seasonal_weekly':['stdev_seasonal_weekly','max_seasonal_weekly'],\n",
    "                       'trend_weekly':['stdev_trend_weekly','max_trend_weekly'],}\n",
    "                       #'disag_fridge':'disag_fridge'}\n",
    "                       #'mins_hvac':'mins_hvac',}\n",
    "                       #'month_extract':['variance','ratio_min_max', 'difference_min_max',\n",
    "                        #                'ratio_difference_min_max']}\n",
    "\n",
    "\"\"\"\n",
    "features_individual = {#'fraction':[\"fraction_%d\" % i for i in range(1, 25)],\n",
    "                       'area': 'area',\n",
    "                       'autocorr':'autocorr',\n",
    "                       'month': [\"aggregate_%d\" % i for i in range(1, 13)],\n",
    "                       'occupants': 'total_occupants',\n",
    "                       'rooms': 'num_rooms',\n",
    "                       'seasonal_12':['stdev_seasonal_12','max_seasonal_12'],\n",
    "                       'trend_12':['stdev_trend_12','max_trend_12'],\n",
    "\n",
    "                       'seasonal_daily':['stdev_seasonal_daily','max_seasonal_daily'],\n",
    "                       'trend_daily':['stdev_trend_daily','max_trend_daily'],\n",
    "                       'seasonal_weekly':['stdev_seasonal_weekly','max_seasonal_weekly'],\n",
    "                       'trend_weekly':['stdev_trend_weekly','max_trend_weekly'],\n",
    "                       'cluster_big':'cluster_big',\n",
    "                       'cluster_small':'cluster_small',\n",
    "                       'diff':['lt_500','bet_500_1000','gt_1000'],\n",
    "                       'temp':'temperature_corr',\n",
    "                       #'disag_fridge':'disag_fridge'}\n",
    "                       'mins_hvac':'mins_hvac',\n",
    "                       'month_extract':['variance','ratio_min_max', 'difference_min_max',\n",
    "                                        'ratio_difference_min_max']}\n",
    "\n",
    "### Monthly ONLY\n",
    "\"\"\"\n",
    "features_individual = {#'fraction':[\"fraction_%d\" % i for i in range(1, 25)],\n",
    "                       'area': 'area',\n",
    "                       #'autocorr':'autocorr',\n",
    "                       'month': [\"aggregate_%d\" % i for i in range(1, 13)],\n",
    "                       'occupants': 'total_occupants',\n",
    "                       'rooms': 'num_rooms',\n",
    "                       #'seasonal_12':['stdev_seasonal_12','max_seasonal_12'],\n",
    "                       #'trend_12':['stdev_trend_12','max_trend_12'],\n",
    "                       #'seasonal_daily':['stdev_seasonal_daily','max_seasonal_daily'],\n",
    "                       #'trend_daily':['stdev_trend_daily','max_trend_daily'],\n",
    "                       #'seasonal_weekly':['stdev_seasonal_weekly','max_seasonal_weekly'],\n",
    "                       #'trend_weekly':['stdev_trend_weekly','max_trend_weekly'],}\n",
    "                       #'disag_fridge':'disag_fridge'}\n",
    "                       #'mins_hvac':'mins_hvac',\n",
    "                       #'cluster_big':'cluster_big',\n",
    "                       #'diff':['lt_500','bet_500_1000','gt_1000'],\n",
    "                       'temp':'temperature_corr',\n",
    "                       'month_extract':['variance','ratio_min_max', 'difference_min_max',\n",
    "                                        'ratio_difference_min_max']}\n",
    "\n",
    "\n",
    "\"\"\"\n",
    "\n",
    "from itertools import combinations\n",
    "features_dict = {}\n",
    "for feature_size in range(1,min(4,len(features_individual))):\n",
    "    combinations_size_n = list(combinations(features_individual.keys(), feature_size))\n",
    "    for com in combinations_size_n:\n",
    "        features_dict[com] = np.hstack([features_individual[x] for x in com]).tolist()\n",
    "\n",
    "\n",
    "\n",
    "hvac_fhmm_pred = pd.read_csv(\"../fhmm_disag_new.csv\", index_col=0)\n",
    "fridge_fhmm_pred = pd.read_csv(\"../fridge_fhmm.csv\", index_col=0)\n",
    "appliance_fhmm = {'fridge': fridge_fhmm_pred,\n",
    "                  'hvac': hvac_fhmm_pred}\n",
    "\n",
    "national_average = {\"fridge\": 0.07, \"hvac\": 0.18, 'wm': 0.01, 'furnace': 0.09, 'dw': 0.02, 'dr': 0.04, 'light': .11}\n",
    "\n",
    "\n",
    "#Normalising features\n",
    "max_aggregate = df[[\"aggregate_%d\" % i for i in range(1, 13)]].max().max()\n",
    "df[[\"aggregate_%d\" % i for i in range(1, 13)]] = df[[\"aggregate_%d\" % i for i in range(1, 13)]].div(max_aggregate)\n",
    "\n",
    "max_weekly = df[[\"daily_usage_%d\" % i for i in range(1, 8)]].max().max()\n",
    "df[[\"daily_usage_%d\" % i for i in range(1, 8)]] = df[[\"daily_usage_%d\" % i for i in range(1, 8)]].div(max_weekly)\n",
    "\n",
    "\n",
    "df['area'] = df['area'].div(df['area'].max())\n",
    "\n",
    "df['num_rooms'] = df['num_rooms'].div(df['num_rooms'].max())\n",
    "df['total_occupants'] = df['total_occupants'].div(df['total_occupants'].max())\n",
    "df['mins_hvac'] =  df['mins_hvac'].div(df['mins_hvac'].max())\n",
    "\n",
    "max_cols = {}\n",
    "for col in [\"stdev_trend_12\",\"stdev_seasonal_12\",\"max_seasonal_12\",\"max_trend_12\",\n",
    "            \"stdev_trend_daily\",\"stdev_seasonal_daily\",\"max_seasonal_daily\",\"max_trend_daily\",\n",
    "            \"stdev_trend_weekly\",\"stdev_seasonal_weekly\",\"max_seasonal_weekly\",\"max_trend_weekly\",\"disag_fridge\",\n",
    "            'stdev_trend','stdev_seasonal','max_seasonal','max_trend',\n",
    "            'cluster_small','cluster_big', 'temperature_corr']:\n",
    "    if col in df.columns:\n",
    "        max_cols[col] = dfc[col].max()\n",
    "        df[col] = df[col].div(df[col].max())\n",
    "\n",
    "\n",
    "# Adding new feature\n",
    "aa = df[[\"aggregate_%d\" % i for i in range(1, 13)]].copy()\n",
    "df['variance'] = df[[\"aggregate_%d\" % i for i in range(1, 13)]].var(axis=1)\n",
    "df['ratio_min_max'] = aa.min(axis=1)/aa.max(axis=1)\n",
    "\n",
    "df['difference_min_max'] = aa.max(axis=1)-aa.min(axis=1)\n",
    "df['ratio_difference_min_max'] = (aa.max(axis=1)-aa.min(axis=1)).div(aa.max(axis=1))\n",
    "\n",
    "dfs = {}\n",
    "total = features_dict.values()[np.array(map(len, features_dict.values())).argmax()]\n",
    "for appliance in ['fridge','hvac','dr','light','dw','wm']:\n",
    "    temp=df.ix[df[['%s_%d' %(appliance, i) for i in range(1,13)]].dropna().index]\n",
    "    dfs[appliance] =temp.ix[temp[total].dropna().index]\n",
    "    print appliance, len(dfs[appliance])\n",
    "\n",
    "appliance_min = {'fridge':5,'hvac':5,'wm':0,'dw':0,'dr':0,'light':0}\n",
    "\n",
    "all_homes = {\n",
    "    'dw':[  94,  370,  545,  624, 2156, 2242, 2814, 2829, 3723,\n",
    "            4767, 5357,6636, 6910, 7769, 9934],\n",
    "    'wm':[  94,  370,  545,  624, 2156, 2242, 2814, 3367, 3456, 3723, 3967,\n",
    "            5357, 7769, 9654, 9922, 9934],\n",
    "    'hvac':[  26,   94,  370,  410,  545,  624, 1283, 1642, 1953, 2129,\n",
    "            2156, 2242, 2470, 2814, 2829,  3367, 3456, 3723,\n",
    "            3967, 4767, 5218, 5357, 5371, 5746, 5785, 5814, 6072,\n",
    "            6636, 6836, 6910, 7731, 7769, 7866, 9609, 9654, 9922, 9933, 9934],\n",
    "    'fridge':[  94,  370,  410,  545,  624, 1953, 2156, 2242, 2814, 2829, 3367,\n",
    "            3456, 3723, 3967, 4767, 5357, 5371, 6072, 6636, 6910, 7769, 7866],\n",
    "    'light':df.index.tolist(),\n",
    "        #[ 624, 1334, 2814, 2925, 2986, 3367, 3456, 3482, 3723, 3967, 4732,\n",
    "        #    4767, 5814, 5817, 6072, 6266, 6910, 7016, 7429, 7731, 7769, 7866,\n",
    "        #    8317, 8626, 9052, 9654, 9922],\n",
    "    'dr':[  94,  370,  410, 2156, 2242, 2814, 3456, 3723, 4767,\n",
    "            5785, 5814, 6072, 6636, 6836, 7731, 7769, 7866, 9654, 9922,\n",
    "            9933, 9982]\n",
    "}\n",
    "\n",
    "\n",
    "all_homes = {appliance:dfs[appliance].index for appliance in dfs.keys()}\n",
    "all_homes['fridge'] = np.array(np.setdiff1d(all_homes['fridge'], [2233, 5746, 7016]))\n",
    "all_homes['hvac'] = np.array(np.setdiff1d(all_homes['hvac'], [252, 2925, 2986, 3482, 4732, 5439, 6266,\n",
    "                                                              8626, 1800, 2233, 5817, 7016, 7429, 8317,\n",
    "                                                              9052, 9982]))\n",
    "all_homes['dw'] =  np.array(np.setdiff1d(all_homes['dw'],[2233, 7016, 26, 1334, 1662, 3482, 5746, 6836, 9982]))\n",
    "all_homes['wm'] = np.array([  94,  370,  545,  624, 2156, 2242, 2470, 2814, 3367, 3456, 3723,\n",
    "            3967, 5357, 7769, 9654, 9922, 9934])\n",
    "all_homes['light']=[624, 1334, 3367, 3456, 3723, 5814, 6072, 6910, 7769, 7866, 9654,\n",
    "            9922]\n",
    "\n",
    "def create_predictions(appliance=\"hvac\", feature=['num_rooms', 'total_occupants'],k=2, weights='uniform'):\n",
    "    \n",
    "   \n",
    "    out_month = {}\n",
    "    gt_month = {}\n",
    "    overall_dfs = {}\n",
    "    df_pred_copy = df.copy()\n",
    "    #df_pred_copy = dfs[appliance].copy()\n",
    "    df_pred_copy = df_pred_copy.ix[all_homes[appliance]]\n",
    "    for i, month in enumerate([\"%s_%d\" %(appliance,i) for i in range(1,13)]):\n",
    "        y = df_pred_copy[month]\n",
    "        y2 = y.dropna()\n",
    "        y3 = y2[y2>appliance_min[appliance]].dropna()\n",
    "        df3 = df_pred_copy[feature].ix[y3.index].dropna()\n",
    "        \n",
    "        #df3 = df.ix[y3.index].dropna()\n",
    "        y3 = y3.ix[df3.index]\n",
    "        #df3 = df3.ix[appliance_fhmm[appliance].index].dropna()\n",
    "        #y3 = y3.ix[df3.index]\n",
    "        from sklearn.cross_validation import LeaveOneOut\n",
    "        from sklearn.neighbors import RadiusNeighborsRegressor\n",
    "        #clf = RadiusNeighborsRegressor(radius=k)\n",
    "        clf = KNeighborsRegressor(n_neighbors=k, weights=weights)\n",
    "        #clf = KNeighborsRegressor(n_neighbors=k, weights = 'distance' )\n",
    "        loo = LeaveOneOut(len(df3))\n",
    "        out_pred = []\n",
    "\n",
    "        for train, test in loo:\n",
    "            #clf.fit(preprocessing.normalize(df3[feature_columns[feature]].values[train]), y3.values[train])\n",
    "            clf.fit(df3[feature].values[train], y3.values[train])\n",
    "            #out_pred.append(clf.predict(preprocessing.normalize(df3[feature_columns[feature]].values[test])))\n",
    "            out_pred.append(clf.predict(df3[feature].values[test]))\n",
    "\n",
    "        out_pred = np.hstack(out_pred)\n",
    "\n",
    "        out_month[i+1] = out_pred\n",
    "        gt_month[i+1] = y3.values\n",
    "        overall_dfs[i+1] = pd.DataFrame({\"gt\":y3.values, \"pred\":out_pred,\n",
    "                                              \"gt_total\":dfc.ix[y3.index][\"aggregate_\"+str(i+1)].values}, index=y3.index)\n",
    "        overall_dfs[i+1][\"national average\"] = overall_dfs[i+1][\"gt_total\"]*national_average[appliance]\n",
    "    return overall_dfs\n",
    "\n",
    "def percentage_error(gt, pred):\n",
    "    return 100*np.abs(gt-pred)/(gt)\n",
    "\n",
    "\n",
    "\n",
    "\n",
    "def compute_metrics(df):\n",
    "    temp = df[df.gt_total>0.0]\n",
    "    temp = temp[temp.gt>temp.gt_total]\n",
    "    return {\"Percentage error in appliance energy\":np.median(percentage_error(df[\"gt\"], df[\"pred\"]))\n",
    "            }\n",
    "\n"
   ]
  },
  {
   "cell_type": "code",
   "execution_count": 2,
   "metadata": {
    "collapsed": false
   },
   "outputs": [],
   "source": [
    "def criterion_function(feature_set):\n",
    "    \n",
    "    \n",
    "    temp = create_predictions(appliance, feature_set, k)\n",
    "    errors = {}\n",
    "    for i in range(1, 13):\n",
    "        errors[i] = percentage_error(temp[i][\"gt\"], temp[i][\"pred\"])\n",
    "    error_df = pd.DataFrame(errors)\n",
    "    accur_df = 100-error_df\n",
    "    accur_df[accur_df<0]=0\n",
    "   \n",
    "    if appliance is \"hvac\":\n",
    "         tdf = accur_df[range(5, 11)]\n",
    "    else:\n",
    "        tdf = accur_df\n",
    "    #print tdf.dropna().median().mean(), feature_set\n",
    "    return tdf.dropna().median().mean()"
   ]
  },
  {
   "cell_type": "code",
   "execution_count": 3,
   "metadata": {
    "collapsed": true
   },
   "outputs": [],
   "source": [
    "def seq_forw_select(features, max_k, criterion_func, print_steps=False):\n",
    "    \"\"\"\n",
    "    Implementation of a Sequential Forward Selection algorithm.\n",
    "    \n",
    "    Keyword Arguments:\n",
    "        features (list): The feature space as a list of features.\n",
    "        max_k: Termination criterion; the size of the returned feature subset.\n",
    "        criterion_func (function): Function that is used to evaluate the\n",
    "            performance of the feature subset.\n",
    "        print_steps (bool): Prints the algorithm procedure if True.\n",
    "    \n",
    "    Returns the selected feature subset, a list of features of length max_k.\n",
    "\n",
    "    \"\"\"\n",
    "\n",
    "    # Initialization\n",
    "    feat_sub = []\n",
    "    k = 0\n",
    "    d = len(features)\n",
    "    if max_k > d:\n",
    "        max_k = d\n",
    "\n",
    "    while True:\n",
    "\n",
    "        # Inclusion step\n",
    "        \n",
    "        crit_func_max = criterion_func(feat_sub + [features[0]])\n",
    "        best_feat = features[0]\n",
    "        for x in features[1:]:\n",
    "            crit_func_eval = criterion_func(feat_sub + [x])\n",
    "            if crit_func_eval > crit_func_max:\n",
    "                crit_func_max = crit_func_eval\n",
    "                best_feat = x\n",
    "        feat_sub.append(best_feat)\n",
    "        if print_steps:\n",
    "            print('include: {} -> feature_subset: {}. Accuracy: {}'.format(best_feat, feat_sub, crit_func_max))\n",
    "        features.remove(best_feat)\n",
    "\n",
    "        # Termination condition\n",
    "        k = len(feat_sub)\n",
    "        if k == max_k:\n",
    "            break\n",
    "\n",
    "    return feat_sub"
   ]
  },
  {
   "cell_type": "code",
   "execution_count": 4,
   "metadata": {
    "collapsed": true
   },
   "outputs": [],
   "source": [
    "a = np.hstack([[\"aggregate_%d\" %i for i in range(1,13)],\n",
    "            [\"fraction_%d\" %i for i in range(1,25)],\n",
    "         \"autocorr\",\n",
    "         \"max_seasonal_12\",\n",
    "        \"stdev_seasonal_12\",\n",
    "        \"max_trend_12\",\n",
    "        \"stdev_trend_12\",\n",
    "        \"max_seasonal_daily\",\n",
    "        \"stdev_seasonal_daily\",\n",
    "        \"max_trend_daily\",\n",
    "        \"stdev_trend_daily\",\n",
    "         \"max_seasonal_weekly\",\n",
    "        \"stdev_seasonal_weekly\",\n",
    "        \"max_trend_weekly\",\n",
    "        \"stdev_trend_weekly\",\n",
    "        \"disag_fridge\",\n",
    "        \"cluster_small\",\n",
    "        \"cluster_big\",\n",
    "        \"lt_500\",\n",
    "        \"bet_500_1000\",\n",
    "        \"gt_1000\",\n",
    "        \"temperature_corr\",\n",
    "         [\"daily_usage_%d\" %i for i in range(1,8)],\n",
    "        \"area\",\n",
    "        \"num_rooms\",\n",
    "        \"mins_hvac\",\n",
    "        \"total_occupants\",\n",
    "               ['variance','ratio_min_max', 'difference_min_max',\n",
    "                                        'ratio_difference_min_max']\n",
    "\n",
    "           ])"
   ]
  },
  {
   "cell_type": "code",
   "execution_count": 5,
   "metadata": {
    "collapsed": true
   },
   "outputs": [],
   "source": [
    "only_month = np.hstack([[\"aggregate_%d\" %i for i in range(1,13)],\n",
    "            [\"fraction_%d\" %i for i in range(1,25)],\n",
    "         \"autocorr\",\n",
    "         \"max_seasonal_12\",\n",
    "        \"stdev_seasonal_12\",\n",
    "        \"max_trend_12\",\n",
    "        \"stdev_trend_12\",\n",
    "        \"max_seasonal_daily\",\n",
    "        \"stdev_seasonal_daily\",\n",
    "        \"max_trend_daily\",\n",
    "        \"stdev_trend_daily\",\n",
    "         \"max_seasonal_weekly\",\n",
    "        \"stdev_seasonal_weekly\",\n",
    "        \"max_trend_weekly\",\n",
    "        \"stdev_trend_weekly\",\n",
    "        \"disag_fridge\",\n",
    "        \"cluster_small\",\n",
    "        \"cluster_big\",\n",
    "        \"lt_500\",\n",
    "        \"bet_500_1000\",\n",
    "        \"gt_1000\",\n",
    "        \"temperature_corr\",\n",
    "         [\"daily_usage_%d\" %i for i in range(1,8)],\n",
    "        ['variance','ratio_min_max', 'difference_min_max',\n",
    "                                        'ratio_difference_min_max']\n",
    "\n",
    "           ])"
   ]
  },
  {
   "cell_type": "code",
   "execution_count": 6,
   "metadata": {
    "collapsed": true
   },
   "outputs": [],
   "source": [
    "from copy import deepcopy\n",
    "\n",
    "def plus_L_minus_R(features, max_k, criterion_func, L=3, R=2, print_steps=False):\n",
    "    \"\"\"\n",
    "    Implementation of a \"Plus l take away r\" algorithm.\n",
    "    \n",
    "    Keyword Arguments:\n",
    "        features (list): The feature space as a list of features.\n",
    "        max_k: Termination criterion; the size of the returned feature subset.\n",
    "        criterion_func (function): Function that is used to evaluate the\n",
    "            performance of the feature subset.\n",
    "        L (int): Number of features added per iteration.\n",
    "        R (int): Number of features removed per iteration.\n",
    "        print_steps (bool): Prints the algorithm procedure if True.\n",
    "    \n",
    "    Returns the selected feature subset, a list of features of length max_k.\n",
    "\n",
    "    \"\"\"\n",
    "    assert(L != R), 'L must be != R to avoid an infinite loop'\n",
    "\n",
    "    ############################\n",
    "    ### +L -R for case L > R ###\n",
    "    ############################\n",
    "\n",
    "    if L > R:\n",
    "        feat_sub = []\n",
    "        k = 0\n",
    "\n",
    "        # Initialization\n",
    "        while True:\n",
    "\n",
    "            # +L (Inclusion)\n",
    "            \n",
    "            for i in range(L):\n",
    "                if len(features) > 0:\n",
    "                    crit_func_max = criterion_func(feat_sub + [features[0]])\n",
    "                    best_feat = features[0]\n",
    "                    if len(features) > 1:\n",
    "                        for x in features[1:]:\n",
    "                            crit_func_eval = criterion_func(feat_sub + [x])\n",
    "                            if crit_func_eval > crit_func_max:\n",
    "                                crit_func_max = crit_func_eval\n",
    "                                best_feat = x\n",
    "                    features.remove(best_feat)\n",
    "                    feat_sub.append(best_feat)\n",
    "                    if print_steps:\n",
    "                        print('include: {} -> feature_subset: {} Accuracy: {}'.format(best_feat, feat_sub, crit_func_max))\n",
    "\n",
    "            # -R (Exclusion)\n",
    "            \n",
    "            for i in range(R):\n",
    "                if len(features) + len(feat_sub) > max_k:\n",
    "                    worst_feat = len(feat_sub)-1\n",
    "                    worst_feat_val = feat_sub[worst_feat]\n",
    "                    crit_func_max = criterion_func(feat_sub[:-1])\n",
    "\n",
    "                    for j in reversed(range(0,len(feat_sub)-1)):\n",
    "                        crit_func_eval = criterion_func(feat_sub[:j] + feat_sub[j+1:])\n",
    "                        if crit_func_eval > crit_func_max:\n",
    "                            worst_feat, crit_func_max = j, crit_func_eval\n",
    "                            worst_feat_val = feat_sub[worst_feat]\n",
    "                    del feat_sub[worst_feat]\n",
    "                    if print_steps:\n",
    "                        print('exclude: {} -> feature subset: {} Accuracy: {}'.format(worst_feat_val, feat_sub, crit_func_max))\n",
    "\n",
    "\n",
    "            # Termination condition\n",
    "            k = len(feat_sub)\n",
    "            if k == max_k:\n",
    "                break\n",
    "\n",
    "        return feat_sub\n",
    "\n",
    "    ############################\n",
    "    ### +L -R for case L < R ###\n",
    "    ############################\n",
    "\n",
    "    else:\n",
    "        # Initialization\n",
    "        feat_sub = deepcopy(features)\n",
    "        k = len(feat_sub)\n",
    "        i = 0\n",
    "        count = 0\n",
    "        while True:\n",
    "            count += 1\n",
    "            # Exclusion step\n",
    "            removed_feats = []\n",
    "           \n",
    "            for i in range(R):\n",
    "                if len(feat_sub) > max_k:\n",
    "                    worst_feat = len(feat_sub)-1\n",
    "                    worst_feat_val = feat_sub[worst_feat]\n",
    "                    crit_func_max = criterion_func(feat_sub[:-1])\n",
    "\n",
    "                    for i in reversed(range(0,len(feat_sub)-1)):\n",
    "                        crit_func_eval = criterion_func(feat_sub[:i] + feat_sub[i+1:])\n",
    "                        if crit_func_eval > crit_func_max:\n",
    "                            worst_feat, crit_func_max = i, crit_func_eval\n",
    "                            worst_feat_val = feat_sub[worst_feat]\n",
    "                    removed_feats.append(feat_sub.pop(worst_feat))\n",
    "            if print_steps:\n",
    "                print('exclude: {} -> feature subset: {} Accuracy: {}'.format(removed_feats, feat_sub, crit_func_max))\n",
    "\n",
    "            # +L (Inclusion)\n",
    "            included_feats = []\n",
    "            if len(feat_sub) != max_k:\n",
    "                for i in range(L):\n",
    "                    if len(removed_feats) > 0:\n",
    "                        crit_func_max = criterion_func(feat_sub + [removed_feats[0]])\n",
    "                        best_feat = removed_feats[0]\n",
    "                        if len(removed_feats) > 1:\n",
    "                            for x in removed_feats[1:]:\n",
    "                                crit_func_eval = criterion_func(feat_sub + [x])\n",
    "                                if crit_func_eval > crit_func_max:\n",
    "                                    crit_func_max = crit_func_eval\n",
    "                                    best_feat = x\n",
    "                        removed_feats.remove(best_feat)\n",
    "                        feat_sub.append(best_feat)\n",
    "                        included_feats.append(best_feat)\n",
    "                if print_steps:\n",
    "                    #print('\\nInclusion from removed features', removed_feats)\n",
    "                    print('include: {} -> feature_subset: {} Accuracy: {}'.format(included_feats, feat_sub, crit_func_max))\n",
    "\n",
    "            # Termination condition\n",
    "            k = len(feat_sub)\n",
    "            if k == max_k:\n",
    "                break\n",
    "            if count >= 30:\n",
    "                break\n",
    "        return feat_sub"
   ]
  },
  {
   "cell_type": "code",
   "execution_count": 13,
   "metadata": {
    "collapsed": false
   },
   "outputs": [
    {
     "ename": "KeyboardInterrupt",
     "evalue": "",
     "output_type": "error",
     "traceback": [
      "\u001b[0;31m---------------------------------------------------------------------------\u001b[0m",
      "\u001b[0;31mKeyboardInterrupt\u001b[0m                         Traceback (most recent call last)",
      "\u001b[0;32m<ipython-input-13-9833f5cb6adf>\u001b[0m in \u001b[0;36m<module>\u001b[0;34m()\u001b[0m\n\u001b[1;32m      2\u001b[0m \u001b[0mk\u001b[0m\u001b[0;34m=\u001b[0m\u001b[0;36m2\u001b[0m\u001b[0;34m\u001b[0m\u001b[0m\n\u001b[1;32m      3\u001b[0m best = plus_L_minus_R(features=a.tolist(), max_k=25,L=30, R=5,\n\u001b[0;32m----> 4\u001b[0;31m                       criterion_func=criterion_function, print_steps=True)\n\u001b[0m",
      "\u001b[0;32m<ipython-input-12-a4675ab610ab>\u001b[0m in \u001b[0;36mplus_L_minus_R\u001b[0;34m(features, max_k, criterion_func, L, R, print_steps)\u001b[0m\n\u001b[1;32m     38\u001b[0m                     \u001b[0;32mif\u001b[0m \u001b[0mlen\u001b[0m\u001b[0;34m(\u001b[0m\u001b[0mfeatures\u001b[0m\u001b[0;34m)\u001b[0m \u001b[0;34m>\u001b[0m \u001b[0;36m1\u001b[0m\u001b[0;34m:\u001b[0m\u001b[0;34m\u001b[0m\u001b[0m\n\u001b[1;32m     39\u001b[0m                         \u001b[0;32mfor\u001b[0m \u001b[0mx\u001b[0m \u001b[0;32min\u001b[0m \u001b[0mfeatures\u001b[0m\u001b[0;34m[\u001b[0m\u001b[0;36m1\u001b[0m\u001b[0;34m:\u001b[0m\u001b[0;34m]\u001b[0m\u001b[0;34m:\u001b[0m\u001b[0;34m\u001b[0m\u001b[0m\n\u001b[0;32m---> 40\u001b[0;31m                             \u001b[0mcrit_func_eval\u001b[0m \u001b[0;34m=\u001b[0m \u001b[0mcriterion_func\u001b[0m\u001b[0;34m(\u001b[0m\u001b[0mfeat_sub\u001b[0m \u001b[0;34m+\u001b[0m \u001b[0;34m[\u001b[0m\u001b[0mx\u001b[0m\u001b[0;34m]\u001b[0m\u001b[0;34m)\u001b[0m\u001b[0;34m\u001b[0m\u001b[0m\n\u001b[0m\u001b[1;32m     41\u001b[0m                             \u001b[0;32mif\u001b[0m \u001b[0mcrit_func_eval\u001b[0m \u001b[0;34m>\u001b[0m \u001b[0mcrit_func_max\u001b[0m\u001b[0;34m:\u001b[0m\u001b[0;34m\u001b[0m\u001b[0m\n\u001b[1;32m     42\u001b[0m                                 \u001b[0mcrit_func_max\u001b[0m \u001b[0;34m=\u001b[0m \u001b[0mcrit_func_eval\u001b[0m\u001b[0;34m\u001b[0m\u001b[0m\n",
      "\u001b[0;32m<ipython-input-8-b58d486e6a4f>\u001b[0m in \u001b[0;36mcriterion_function\u001b[0;34m(feature_set)\u001b[0m\n\u001b[1;32m      2\u001b[0m \u001b[0;34m\u001b[0m\u001b[0m\n\u001b[1;32m      3\u001b[0m \u001b[0;34m\u001b[0m\u001b[0m\n\u001b[0;32m----> 4\u001b[0;31m     \u001b[0mtemp\u001b[0m \u001b[0;34m=\u001b[0m \u001b[0mcreate_predictions\u001b[0m\u001b[0;34m(\u001b[0m\u001b[0mappliance\u001b[0m\u001b[0;34m,\u001b[0m \u001b[0mfeature_set\u001b[0m\u001b[0;34m,\u001b[0m \u001b[0mk\u001b[0m\u001b[0;34m)\u001b[0m\u001b[0;34m\u001b[0m\u001b[0m\n\u001b[0m\u001b[1;32m      5\u001b[0m     \u001b[0merrors\u001b[0m \u001b[0;34m=\u001b[0m \u001b[0;34m{\u001b[0m\u001b[0;34m}\u001b[0m\u001b[0;34m\u001b[0m\u001b[0m\n\u001b[1;32m      6\u001b[0m     \u001b[0;32mfor\u001b[0m \u001b[0mi\u001b[0m \u001b[0;32min\u001b[0m \u001b[0mrange\u001b[0m\u001b[0;34m(\u001b[0m\u001b[0;36m1\u001b[0m\u001b[0;34m,\u001b[0m \u001b[0;36m13\u001b[0m\u001b[0;34m)\u001b[0m\u001b[0;34m:\u001b[0m\u001b[0;34m\u001b[0m\u001b[0m\n",
      "\u001b[0;32m<ipython-input-7-31d4641237df>\u001b[0m in \u001b[0;36mcreate_predictions\u001b[0;34m(appliance, feature, k, weights)\u001b[0m\n\u001b[1;32m    205\u001b[0m             \u001b[0mclf\u001b[0m\u001b[0;34m.\u001b[0m\u001b[0mfit\u001b[0m\u001b[0;34m(\u001b[0m\u001b[0mdf3\u001b[0m\u001b[0;34m[\u001b[0m\u001b[0mfeature\u001b[0m\u001b[0;34m]\u001b[0m\u001b[0;34m.\u001b[0m\u001b[0mvalues\u001b[0m\u001b[0;34m[\u001b[0m\u001b[0mtrain\u001b[0m\u001b[0;34m]\u001b[0m\u001b[0;34m,\u001b[0m \u001b[0my3\u001b[0m\u001b[0;34m.\u001b[0m\u001b[0mvalues\u001b[0m\u001b[0;34m[\u001b[0m\u001b[0mtrain\u001b[0m\u001b[0;34m]\u001b[0m\u001b[0;34m)\u001b[0m\u001b[0;34m\u001b[0m\u001b[0m\n\u001b[1;32m    206\u001b[0m             \u001b[0;31m#out_pred.append(clf.predict(preprocessing.normalize(df3[feature_columns[feature]].values[test])))\u001b[0m\u001b[0;34m\u001b[0m\u001b[0;34m\u001b[0m\u001b[0m\n\u001b[0;32m--> 207\u001b[0;31m             \u001b[0mout_pred\u001b[0m\u001b[0;34m.\u001b[0m\u001b[0mappend\u001b[0m\u001b[0;34m(\u001b[0m\u001b[0mclf\u001b[0m\u001b[0;34m.\u001b[0m\u001b[0mpredict\u001b[0m\u001b[0;34m(\u001b[0m\u001b[0mdf3\u001b[0m\u001b[0;34m[\u001b[0m\u001b[0mfeature\u001b[0m\u001b[0;34m]\u001b[0m\u001b[0;34m.\u001b[0m\u001b[0mvalues\u001b[0m\u001b[0;34m[\u001b[0m\u001b[0mtest\u001b[0m\u001b[0;34m]\u001b[0m\u001b[0;34m)\u001b[0m\u001b[0;34m)\u001b[0m\u001b[0;34m\u001b[0m\u001b[0m\n\u001b[0m\u001b[1;32m    208\u001b[0m \u001b[0;34m\u001b[0m\u001b[0m\n\u001b[1;32m    209\u001b[0m         \u001b[0mout_pred\u001b[0m \u001b[0;34m=\u001b[0m \u001b[0mnp\u001b[0m\u001b[0;34m.\u001b[0m\u001b[0mhstack\u001b[0m\u001b[0;34m(\u001b[0m\u001b[0mout_pred\u001b[0m\u001b[0;34m)\u001b[0m\u001b[0;34m\u001b[0m\u001b[0m\n",
      "\u001b[0;32m/Users/nipunbatra/anaconda/lib/python2.7/site-packages/pandas/core/frame.pyc\u001b[0m in \u001b[0;36m__getitem__\u001b[0;34m(self, key)\u001b[0m\n\u001b[1;32m   1789\u001b[0m         \u001b[0;32mif\u001b[0m \u001b[0misinstance\u001b[0m\u001b[0;34m(\u001b[0m\u001b[0mkey\u001b[0m\u001b[0;34m,\u001b[0m \u001b[0;34m(\u001b[0m\u001b[0mSeries\u001b[0m\u001b[0;34m,\u001b[0m \u001b[0mnp\u001b[0m\u001b[0;34m.\u001b[0m\u001b[0mndarray\u001b[0m\u001b[0;34m,\u001b[0m \u001b[0mIndex\u001b[0m\u001b[0;34m,\u001b[0m \u001b[0mlist\u001b[0m\u001b[0;34m)\u001b[0m\u001b[0;34m)\u001b[0m\u001b[0;34m:\u001b[0m\u001b[0;34m\u001b[0m\u001b[0m\n\u001b[1;32m   1790\u001b[0m             \u001b[0;31m# either boolean or fancy integer index\u001b[0m\u001b[0;34m\u001b[0m\u001b[0;34m\u001b[0m\u001b[0m\n\u001b[0;32m-> 1791\u001b[0;31m             \u001b[0;32mreturn\u001b[0m \u001b[0mself\u001b[0m\u001b[0;34m.\u001b[0m\u001b[0m_getitem_array\u001b[0m\u001b[0;34m(\u001b[0m\u001b[0mkey\u001b[0m\u001b[0;34m)\u001b[0m\u001b[0;34m\u001b[0m\u001b[0m\n\u001b[0m\u001b[1;32m   1792\u001b[0m         \u001b[0;32melif\u001b[0m \u001b[0misinstance\u001b[0m\u001b[0;34m(\u001b[0m\u001b[0mkey\u001b[0m\u001b[0;34m,\u001b[0m \u001b[0mDataFrame\u001b[0m\u001b[0;34m)\u001b[0m\u001b[0;34m:\u001b[0m\u001b[0;34m\u001b[0m\u001b[0m\n\u001b[1;32m   1793\u001b[0m             \u001b[0;32mreturn\u001b[0m \u001b[0mself\u001b[0m\u001b[0;34m.\u001b[0m\u001b[0m_getitem_frame\u001b[0m\u001b[0;34m(\u001b[0m\u001b[0mkey\u001b[0m\u001b[0;34m)\u001b[0m\u001b[0;34m\u001b[0m\u001b[0m\n",
      "\u001b[0;32m/Users/nipunbatra/anaconda/lib/python2.7/site-packages/pandas/core/frame.pyc\u001b[0m in \u001b[0;36m_getitem_array\u001b[0;34m(self, key)\u001b[0m\n\u001b[1;32m   1834\u001b[0m         \u001b[0;32melse\u001b[0m\u001b[0;34m:\u001b[0m\u001b[0;34m\u001b[0m\u001b[0m\n\u001b[1;32m   1835\u001b[0m             \u001b[0mindexer\u001b[0m \u001b[0;34m=\u001b[0m \u001b[0mself\u001b[0m\u001b[0;34m.\u001b[0m\u001b[0mix\u001b[0m\u001b[0;34m.\u001b[0m\u001b[0m_convert_to_indexer\u001b[0m\u001b[0;34m(\u001b[0m\u001b[0mkey\u001b[0m\u001b[0;34m,\u001b[0m \u001b[0maxis\u001b[0m\u001b[0;34m=\u001b[0m\u001b[0;36m1\u001b[0m\u001b[0;34m)\u001b[0m\u001b[0;34m\u001b[0m\u001b[0m\n\u001b[0;32m-> 1836\u001b[0;31m             \u001b[0;32mreturn\u001b[0m \u001b[0mself\u001b[0m\u001b[0;34m.\u001b[0m\u001b[0mtake\u001b[0m\u001b[0;34m(\u001b[0m\u001b[0mindexer\u001b[0m\u001b[0;34m,\u001b[0m \u001b[0maxis\u001b[0m\u001b[0;34m=\u001b[0m\u001b[0;36m1\u001b[0m\u001b[0;34m,\u001b[0m \u001b[0mconvert\u001b[0m\u001b[0;34m=\u001b[0m\u001b[0mTrue\u001b[0m\u001b[0;34m)\u001b[0m\u001b[0;34m\u001b[0m\u001b[0m\n\u001b[0m\u001b[1;32m   1837\u001b[0m \u001b[0;34m\u001b[0m\u001b[0m\n\u001b[1;32m   1838\u001b[0m     \u001b[0;32mdef\u001b[0m \u001b[0m_getitem_multilevel\u001b[0m\u001b[0;34m(\u001b[0m\u001b[0mself\u001b[0m\u001b[0;34m,\u001b[0m \u001b[0mkey\u001b[0m\u001b[0;34m)\u001b[0m\u001b[0;34m:\u001b[0m\u001b[0;34m\u001b[0m\u001b[0m\n",
      "\u001b[0;32m/Users/nipunbatra/anaconda/lib/python2.7/site-packages/pandas/core/generic.pyc\u001b[0m in \u001b[0;36mtake\u001b[0;34m(self, indices, axis, convert, is_copy)\u001b[0m\n\u001b[1;32m   1356\u001b[0m         new_data = self._data.take(indices,\n\u001b[1;32m   1357\u001b[0m                                    \u001b[0maxis\u001b[0m\u001b[0;34m=\u001b[0m\u001b[0mself\u001b[0m\u001b[0;34m.\u001b[0m\u001b[0m_get_block_manager_axis\u001b[0m\u001b[0;34m(\u001b[0m\u001b[0maxis\u001b[0m\u001b[0;34m)\u001b[0m\u001b[0;34m,\u001b[0m\u001b[0;34m\u001b[0m\u001b[0m\n\u001b[0;32m-> 1358\u001b[0;31m                                    convert=True, verify=True)\n\u001b[0m\u001b[1;32m   1359\u001b[0m         \u001b[0mresult\u001b[0m \u001b[0;34m=\u001b[0m \u001b[0mself\u001b[0m\u001b[0;34m.\u001b[0m\u001b[0m_constructor\u001b[0m\u001b[0;34m(\u001b[0m\u001b[0mnew_data\u001b[0m\u001b[0;34m)\u001b[0m\u001b[0;34m.\u001b[0m\u001b[0m__finalize__\u001b[0m\u001b[0;34m(\u001b[0m\u001b[0mself\u001b[0m\u001b[0;34m)\u001b[0m\u001b[0;34m\u001b[0m\u001b[0m\n\u001b[1;32m   1360\u001b[0m \u001b[0;34m\u001b[0m\u001b[0m\n",
      "\u001b[0;32m/Users/nipunbatra/anaconda/lib/python2.7/site-packages/pandas/core/internals.pyc\u001b[0m in \u001b[0;36mtake\u001b[0;34m(self, indexer, axis, verify, convert)\u001b[0m\n\u001b[1;32m   3273\u001b[0m         \u001b[0mnew_labels\u001b[0m \u001b[0;34m=\u001b[0m \u001b[0mself\u001b[0m\u001b[0;34m.\u001b[0m\u001b[0maxes\u001b[0m\u001b[0;34m[\u001b[0m\u001b[0maxis\u001b[0m\u001b[0;34m]\u001b[0m\u001b[0;34m.\u001b[0m\u001b[0mtake\u001b[0m\u001b[0;34m(\u001b[0m\u001b[0mindexer\u001b[0m\u001b[0;34m)\u001b[0m\u001b[0;34m\u001b[0m\u001b[0m\n\u001b[1;32m   3274\u001b[0m         return self.reindex_indexer(new_axis=new_labels, indexer=indexer,\n\u001b[0;32m-> 3275\u001b[0;31m                                     axis=axis, allow_dups=True)\n\u001b[0m\u001b[1;32m   3276\u001b[0m \u001b[0;34m\u001b[0m\u001b[0m\n\u001b[1;32m   3277\u001b[0m     \u001b[0;32mdef\u001b[0m \u001b[0mmerge\u001b[0m\u001b[0;34m(\u001b[0m\u001b[0mself\u001b[0m\u001b[0;34m,\u001b[0m \u001b[0mother\u001b[0m\u001b[0;34m,\u001b[0m \u001b[0mlsuffix\u001b[0m\u001b[0;34m=\u001b[0m\u001b[0;34m''\u001b[0m\u001b[0;34m,\u001b[0m \u001b[0mrsuffix\u001b[0m\u001b[0;34m=\u001b[0m\u001b[0;34m''\u001b[0m\u001b[0;34m)\u001b[0m\u001b[0;34m:\u001b[0m\u001b[0;34m\u001b[0m\u001b[0m\n",
      "\u001b[0;32m/Users/nipunbatra/anaconda/lib/python2.7/site-packages/pandas/core/internals.pyc\u001b[0m in \u001b[0;36mreindex_indexer\u001b[0;34m(self, new_axis, indexer, axis, fill_value, allow_dups, copy)\u001b[0m\n\u001b[1;32m   3155\u001b[0m         \u001b[0;32mif\u001b[0m \u001b[0maxis\u001b[0m \u001b[0;34m==\u001b[0m \u001b[0;36m0\u001b[0m\u001b[0;34m:\u001b[0m\u001b[0;34m\u001b[0m\u001b[0m\n\u001b[1;32m   3156\u001b[0m             new_blocks = self._slice_take_blocks_ax0(\n\u001b[0;32m-> 3157\u001b[0;31m                 indexer, fill_tuple=(fill_value,))\n\u001b[0m\u001b[1;32m   3158\u001b[0m         \u001b[0;32melse\u001b[0m\u001b[0;34m:\u001b[0m\u001b[0;34m\u001b[0m\u001b[0m\n\u001b[1;32m   3159\u001b[0m             new_blocks = [blk.take_nd(indexer, axis=axis,\n",
      "\u001b[0;32m/Users/nipunbatra/anaconda/lib/python2.7/site-packages/pandas/core/internals.pyc\u001b[0m in \u001b[0;36m_slice_take_blocks_ax0\u001b[0;34m(self, slice_or_indexer, fill_tuple)\u001b[0m\n\u001b[1;32m   3203\u001b[0m         \u001b[0;32melse\u001b[0m\u001b[0;34m:\u001b[0m\u001b[0;34m\u001b[0m\u001b[0m\n\u001b[1;32m   3204\u001b[0m             blknos = com.take_1d(self._blknos, slobj, fill_value=-1,\n\u001b[0;32m-> 3205\u001b[0;31m                                  allow_fill=allow_fill)\n\u001b[0m\u001b[1;32m   3206\u001b[0m             blklocs = com.take_1d(self._blklocs, slobj, fill_value=-1,\n\u001b[1;32m   3207\u001b[0m                                   allow_fill=allow_fill)\n",
      "\u001b[0;32m/Users/nipunbatra/anaconda/lib/python2.7/site-packages/pandas/core/common.pyc\u001b[0m in \u001b[0;36mtake_nd\u001b[0;34m(arr, indexer, axis, out, fill_value, mask_info, allow_fill)\u001b[0m\n\u001b[1;32m    794\u001b[0m             \u001b[0;31m# check for promotion based on types only (do this first because\u001b[0m\u001b[0;34m\u001b[0m\u001b[0;34m\u001b[0m\u001b[0m\n\u001b[1;32m    795\u001b[0m             \u001b[0;31m# it's faster than computing a mask)\u001b[0m\u001b[0;34m\u001b[0m\u001b[0;34m\u001b[0m\u001b[0m\n\u001b[0;32m--> 796\u001b[0;31m             \u001b[0mdtype\u001b[0m\u001b[0;34m,\u001b[0m \u001b[0mfill_value\u001b[0m \u001b[0;34m=\u001b[0m \u001b[0m_maybe_promote\u001b[0m\u001b[0;34m(\u001b[0m\u001b[0marr\u001b[0m\u001b[0;34m.\u001b[0m\u001b[0mdtype\u001b[0m\u001b[0;34m,\u001b[0m \u001b[0mfill_value\u001b[0m\u001b[0;34m)\u001b[0m\u001b[0;34m\u001b[0m\u001b[0m\n\u001b[0m\u001b[1;32m    797\u001b[0m             \u001b[0;32mif\u001b[0m \u001b[0mdtype\u001b[0m \u001b[0;34m!=\u001b[0m \u001b[0marr\u001b[0m\u001b[0;34m.\u001b[0m\u001b[0mdtype\u001b[0m \u001b[0;32mand\u001b[0m \u001b[0;34m(\u001b[0m\u001b[0mout\u001b[0m \u001b[0;32mis\u001b[0m \u001b[0mNone\u001b[0m \u001b[0;32mor\u001b[0m \u001b[0mout\u001b[0m\u001b[0;34m.\u001b[0m\u001b[0mdtype\u001b[0m \u001b[0;34m!=\u001b[0m \u001b[0mdtype\u001b[0m\u001b[0;34m)\u001b[0m\u001b[0;34m:\u001b[0m\u001b[0;34m\u001b[0m\u001b[0m\n\u001b[1;32m    798\u001b[0m                 \u001b[0;31m# check if promotion is actually required based on indexer\u001b[0m\u001b[0;34m\u001b[0m\u001b[0;34m\u001b[0m\u001b[0m\n",
      "\u001b[0;32m/Users/nipunbatra/anaconda/lib/python2.7/site-packages/pandas/core/common.pyc\u001b[0m in \u001b[0;36m_maybe_promote\u001b[0;34m(dtype, fill_value)\u001b[0m\n\u001b[1;32m   1159\u001b[0m \u001b[0;34m\u001b[0m\u001b[0m\n\u001b[1;32m   1160\u001b[0m     \u001b[0;31m# in case we have a string that looked like a number\u001b[0m\u001b[0;34m\u001b[0m\u001b[0;34m\u001b[0m\u001b[0m\n\u001b[0;32m-> 1161\u001b[0;31m     \u001b[0;32mif\u001b[0m \u001b[0mis_categorical_dtype\u001b[0m\u001b[0;34m(\u001b[0m\u001b[0mdtype\u001b[0m\u001b[0;34m)\u001b[0m\u001b[0;34m:\u001b[0m\u001b[0;34m\u001b[0m\u001b[0m\n\u001b[0m\u001b[1;32m   1162\u001b[0m         \u001b[0mdtype\u001b[0m \u001b[0;34m=\u001b[0m \u001b[0mdtype\u001b[0m\u001b[0;34m\u001b[0m\u001b[0m\n\u001b[1;32m   1163\u001b[0m     \u001b[0;32melif\u001b[0m \u001b[0missubclass\u001b[0m\u001b[0;34m(\u001b[0m\u001b[0mnp\u001b[0m\u001b[0;34m.\u001b[0m\u001b[0mdtype\u001b[0m\u001b[0;34m(\u001b[0m\u001b[0mdtype\u001b[0m\u001b[0;34m)\u001b[0m\u001b[0;34m.\u001b[0m\u001b[0mtype\u001b[0m\u001b[0;34m,\u001b[0m \u001b[0mcompat\u001b[0m\u001b[0;34m.\u001b[0m\u001b[0mstring_types\u001b[0m\u001b[0;34m)\u001b[0m\u001b[0;34m:\u001b[0m\u001b[0;34m\u001b[0m\u001b[0m\n",
      "\u001b[0;32m/Users/nipunbatra/anaconda/lib/python2.7/site-packages/pandas/core/common.pyc\u001b[0m in \u001b[0;36mis_categorical_dtype\u001b[0;34m(arr_or_dtype)\u001b[0m\n\u001b[1;32m   2574\u001b[0m         \u001b[0;32mreturn\u001b[0m \u001b[0mTrue\u001b[0m\u001b[0;34m\u001b[0m\u001b[0m\n\u001b[1;32m   2575\u001b[0m     \u001b[0;32mtry\u001b[0m\u001b[0;34m:\u001b[0m\u001b[0;34m\u001b[0m\u001b[0m\n\u001b[0;32m-> 2576\u001b[0;31m         \u001b[0;32mreturn\u001b[0m \u001b[0marr_or_dtype\u001b[0m \u001b[0;34m==\u001b[0m \u001b[0;34m'category'\u001b[0m\u001b[0;34m\u001b[0m\u001b[0m\n\u001b[0m\u001b[1;32m   2577\u001b[0m     \u001b[0;32mexcept\u001b[0m\u001b[0;34m:\u001b[0m\u001b[0;34m\u001b[0m\u001b[0m\n\u001b[1;32m   2578\u001b[0m         \u001b[0;32mreturn\u001b[0m \u001b[0mFalse\u001b[0m\u001b[0;34m\u001b[0m\u001b[0m\n",
      "\u001b[0;31mKeyboardInterrupt\u001b[0m: "
     ]
    }
   ],
   "source": [
    "appliance=\"fridge\"\n",
    "k=2\n",
    "best = plus_L_minus_R(features=a.tolist(), max_k=25,L=30, R=5,\n",
    "                      criterion_func=criterion_function, print_steps=True)"
   ]
  },
  {
   "cell_type": "code",
   "execution_count": 148,
   "metadata": {
    "collapsed": false
   },
   "outputs": [
    {
     "data": {
      "text/plain": [
       "155"
      ]
     },
     "execution_count": 148,
     "metadata": {},
     "output_type": "execute_result"
    }
   ],
   "source": [
    "len(df.columns)"
   ]
  },
  {
   "cell_type": "code",
   "execution_count": 130,
   "metadata": {
    "collapsed": false
   },
   "outputs": [
    {
     "name": "stdout",
     "output_type": "stream",
     "text": [
      "********************\n",
      "fridge\n",
      "********************\n",
      "++++++++++++++++++++\n",
      "2\n",
      "include: max_seasonal_weekly -> feature_subset: ['max_seasonal_weekly']. Accuracy: 81.661716114\n",
      "include: daily_usage_5 -> feature_subset: ['max_seasonal_weekly', 'daily_usage_5']. Accuracy: 81.5514360794\n",
      "include: fraction_18 -> feature_subset: ['max_seasonal_weekly', 'daily_usage_5', 'fraction_18']. Accuracy: 82.4842221006\n",
      "include: aggregate_12 -> feature_subset: ['max_seasonal_weekly', 'daily_usage_5', 'fraction_18', 'aggregate_12']. Accuracy: 83.2004881135\n",
      "include: aggregate_1 -> feature_subset: ['max_seasonal_weekly', 'daily_usage_5', 'fraction_18', 'aggregate_12', 'aggregate_1']. Accuracy: 83.2004881135\n",
      "include: variance -> feature_subset: ['max_seasonal_weekly', 'daily_usage_5', 'fraction_18', 'aggregate_12', 'aggregate_1', 'variance']. Accuracy: 83.2004881135\n",
      "include: fraction_22 -> feature_subset: ['max_seasonal_weekly', 'daily_usage_5', 'fraction_18', 'aggregate_12', 'aggregate_1', 'variance', 'fraction_22']. Accuracy: 82.824334128\n",
      "include: max_seasonal_12 -> feature_subset: ['max_seasonal_weekly', 'daily_usage_5', 'fraction_18', 'aggregate_12', 'aggregate_1', 'variance', 'fraction_22', 'max_seasonal_12']. Accuracy: 83.8551075334\n",
      "include: aggregate_5 -> feature_subset: ['max_seasonal_weekly', 'daily_usage_5', 'fraction_18', 'aggregate_12', 'aggregate_1', 'variance', 'fraction_22', 'max_seasonal_12', 'aggregate_5']. Accuracy: 84.8594937031\n",
      "include: aggregate_3 -> feature_subset: ['max_seasonal_weekly', 'daily_usage_5', 'fraction_18', 'aggregate_12', 'aggregate_1', 'variance', 'fraction_22', 'max_seasonal_12', 'aggregate_5', 'aggregate_3']. Accuracy: 85.0716425005\n",
      "include: fraction_12 -> feature_subset: ['max_seasonal_weekly', 'daily_usage_5', 'fraction_18', 'aggregate_12', 'aggregate_1', 'variance', 'fraction_22', 'max_seasonal_12', 'aggregate_5', 'aggregate_3', 'fraction_12']. Accuracy: 85.0736596153\n",
      "include: area -> feature_subset: ['max_seasonal_weekly', 'daily_usage_5', 'fraction_18', 'aggregate_12', 'aggregate_1', 'variance', 'fraction_22', 'max_seasonal_12', 'aggregate_5', 'aggregate_3', 'fraction_12', 'area']. Accuracy: 85.2345773874\n",
      "include: total_occupants -> feature_subset: ['max_seasonal_weekly', 'daily_usage_5', 'fraction_18', 'aggregate_12', 'aggregate_1', 'variance', 'fraction_22', 'max_seasonal_12', 'aggregate_5', 'aggregate_3', 'fraction_12', 'area', 'total_occupants']. Accuracy: 86.1877707132\n",
      "include: aggregate_2 -> feature_subset: ['max_seasonal_weekly', 'daily_usage_5', 'fraction_18', 'aggregate_12', 'aggregate_1', 'variance', 'fraction_22', 'max_seasonal_12', 'aggregate_5', 'aggregate_3', 'fraction_12', 'area', 'total_occupants', 'aggregate_2']. Accuracy: 86.1877707132\n",
      "include: bet_500_1000 -> feature_subset: ['max_seasonal_weekly', 'daily_usage_5', 'fraction_18', 'aggregate_12', 'aggregate_1', 'variance', 'fraction_22', 'max_seasonal_12', 'aggregate_5', 'aggregate_3', 'fraction_12', 'area', 'total_occupants', 'aggregate_2', 'bet_500_1000']. Accuracy: 86.1877707132\n",
      "include: aggregate_4 -> feature_subset: ['max_seasonal_weekly', 'daily_usage_5', 'fraction_18', 'aggregate_12', 'aggregate_1', 'variance', 'fraction_22', 'max_seasonal_12', 'aggregate_5', 'aggregate_3', 'fraction_12', 'area', 'total_occupants', 'aggregate_2', 'bet_500_1000', 'aggregate_4']. Accuracy: 86.0974273352\n",
      "include: stdev_seasonal_weekly -> feature_subset: ['max_seasonal_weekly', 'daily_usage_5', 'fraction_18', 'aggregate_12', 'aggregate_1', 'variance', 'fraction_22', 'max_seasonal_12', 'aggregate_5', 'aggregate_3', 'fraction_12', 'area', 'total_occupants', 'aggregate_2', 'bet_500_1000', 'aggregate_4', 'stdev_seasonal_weekly']. Accuracy: 86.0974273352\n",
      "include: daily_usage_7 -> feature_subset: ['max_seasonal_weekly', 'daily_usage_5', 'fraction_18', 'aggregate_12', 'aggregate_1', 'variance', 'fraction_22', 'max_seasonal_12', 'aggregate_5', 'aggregate_3', 'fraction_12', 'area', 'total_occupants', 'aggregate_2', 'bet_500_1000', 'aggregate_4', 'stdev_seasonal_weekly', 'daily_usage_7']. Accuracy: 86.457820555\n",
      "include: aggregate_11 -> feature_subset: ['max_seasonal_weekly', 'daily_usage_5', 'fraction_18', 'aggregate_12', 'aggregate_1', 'variance', 'fraction_22', 'max_seasonal_12', 'aggregate_5', 'aggregate_3', 'fraction_12', 'area', 'total_occupants', 'aggregate_2', 'bet_500_1000', 'aggregate_4', 'stdev_seasonal_weekly', 'daily_usage_7', 'aggregate_11']. Accuracy: 86.457820555\n",
      "include: max_seasonal_daily -> feature_subset: ['max_seasonal_weekly', 'daily_usage_5', 'fraction_18', 'aggregate_12', 'aggregate_1', 'variance', 'fraction_22', 'max_seasonal_12', 'aggregate_5', 'aggregate_3', 'fraction_12', 'area', 'total_occupants', 'aggregate_2', 'bet_500_1000', 'aggregate_4', 'stdev_seasonal_weekly', 'daily_usage_7', 'aggregate_11', 'max_seasonal_daily']. Accuracy: 86.457820555\n",
      "include: fraction_17 -> feature_subset: ['max_seasonal_weekly', 'daily_usage_5', 'fraction_18', 'aggregate_12', 'aggregate_1', 'variance', 'fraction_22', 'max_seasonal_12', 'aggregate_5', 'aggregate_3', 'fraction_12', 'area', 'total_occupants', 'aggregate_2', 'bet_500_1000', 'aggregate_4', 'stdev_seasonal_weekly', 'daily_usage_7', 'aggregate_11', 'max_seasonal_daily', 'fraction_17']. Accuracy: 86.5400358893\n",
      "include: fraction_13 -> feature_subset: ['max_seasonal_weekly', 'daily_usage_5', 'fraction_18', 'aggregate_12', 'aggregate_1', 'variance', 'fraction_22', 'max_seasonal_12', 'aggregate_5', 'aggregate_3', 'fraction_12', 'area', 'total_occupants', 'aggregate_2', 'bet_500_1000', 'aggregate_4', 'stdev_seasonal_weekly', 'daily_usage_7', 'aggregate_11', 'max_seasonal_daily', 'fraction_17', 'fraction_13']. Accuracy: 86.5400358893\n",
      "include: fraction_19 -> feature_subset: ['max_seasonal_weekly', 'daily_usage_5', 'fraction_18', 'aggregate_12', 'aggregate_1', 'variance', 'fraction_22', 'max_seasonal_12', 'aggregate_5', 'aggregate_3', 'fraction_12', 'area', 'total_occupants', 'aggregate_2', 'bet_500_1000', 'aggregate_4', 'stdev_seasonal_weekly', 'daily_usage_7', 'aggregate_11', 'max_seasonal_daily', 'fraction_17', 'fraction_13', 'fraction_19']. Accuracy: 86.5400358893\n",
      "include: aggregate_10 -> feature_subset: ['max_seasonal_weekly', 'daily_usage_5', 'fraction_18', 'aggregate_12', 'aggregate_1', 'variance', 'fraction_22', 'max_seasonal_12', 'aggregate_5', 'aggregate_3', 'fraction_12', 'area', 'total_occupants', 'aggregate_2', 'bet_500_1000', 'aggregate_4', 'stdev_seasonal_weekly', 'daily_usage_7', 'aggregate_11', 'max_seasonal_daily', 'fraction_17', 'fraction_13', 'fraction_19', 'aggregate_10']. Accuracy: 86.8100857381\n",
      "include: aggregate_9 -> feature_subset: ['max_seasonal_weekly', 'daily_usage_5', 'fraction_18', 'aggregate_12', 'aggregate_1', 'variance', 'fraction_22', 'max_seasonal_12', 'aggregate_5', 'aggregate_3', 'fraction_12', 'area', 'total_occupants', 'aggregate_2', 'bet_500_1000', 'aggregate_4', 'stdev_seasonal_weekly', 'daily_usage_7', 'aggregate_11', 'max_seasonal_daily', 'fraction_17', 'fraction_13', 'fraction_19', 'aggregate_10', 'aggregate_9']. Accuracy: 86.8100857381\n",
      "++++++++++++++++++++\n",
      "3\n",
      "include: aggregate_9 -> feature_subset: ['aggregate_9']. Accuracy: 81.2669240978\n",
      "include: stdev_seasonal_12 -> feature_subset: ['aggregate_9', 'stdev_seasonal_12']. Accuracy: 83.652143808\n",
      "include: total_occupants -> feature_subset: ['aggregate_9', 'stdev_seasonal_12', 'total_occupants']. Accuracy: 83.9714032249\n",
      "include: daily_usage_4 -> feature_subset: ['aggregate_9', 'stdev_seasonal_12', 'total_occupants', 'daily_usage_4']. Accuracy: 85.2378812605\n",
      "include: variance -> feature_subset: ['aggregate_9', 'stdev_seasonal_12', 'total_occupants', 'daily_usage_4', 'variance']. Accuracy: 85.1667997992\n",
      "include: daily_usage_3 -> feature_subset: ['aggregate_9', 'stdev_seasonal_12', 'total_occupants', 'daily_usage_4', 'variance', 'daily_usage_3']. Accuracy: 85.026275341\n",
      "include: fraction_13 -> feature_subset: ['aggregate_9', 'stdev_seasonal_12', 'total_occupants', 'daily_usage_4', 'variance', 'daily_usage_3', 'fraction_13']. Accuracy: 86.4992554376\n",
      "include: daily_usage_5 -> feature_subset: ['aggregate_9', 'stdev_seasonal_12', 'total_occupants', 'daily_usage_4', 'variance', 'daily_usage_3', 'fraction_13', 'daily_usage_5']. Accuracy: 87.1478854822\n",
      "include: daily_usage_6 -> feature_subset: ['aggregate_9', 'stdev_seasonal_12', 'total_occupants', 'daily_usage_4', 'variance', 'daily_usage_3', 'fraction_13', 'daily_usage_5', 'daily_usage_6']. Accuracy: 87.4382080341\n",
      "include: daily_usage_7 -> feature_subset: ['aggregate_9', 'stdev_seasonal_12', 'total_occupants', 'daily_usage_4', 'variance', 'daily_usage_3', 'fraction_13', 'daily_usage_5', 'daily_usage_6', 'daily_usage_7']. Accuracy: 87.6237128783\n",
      "include: aggregate_1 -> feature_subset: ['aggregate_9', 'stdev_seasonal_12', 'total_occupants', 'daily_usage_4', 'variance', 'daily_usage_3', 'fraction_13', 'daily_usage_5', 'daily_usage_6', 'daily_usage_7', 'aggregate_1']. Accuracy: 87.6537604975\n",
      "include: disag_fridge -> feature_subset: ['aggregate_9', 'stdev_seasonal_12', 'total_occupants', 'daily_usage_4', 'variance', 'daily_usage_3', 'fraction_13', 'daily_usage_5', 'daily_usage_6', 'daily_usage_7', 'aggregate_1', 'disag_fridge']. Accuracy: 87.6537604975\n",
      "include: aggregate_2 -> feature_subset: ['aggregate_9', 'stdev_seasonal_12', 'total_occupants', 'daily_usage_4', 'variance', 'daily_usage_3', 'fraction_13', 'daily_usage_5', 'daily_usage_6', 'daily_usage_7', 'aggregate_1', 'disag_fridge', 'aggregate_2']. Accuracy: 87.6537604975\n",
      "include: area -> feature_subset: ['aggregate_9', 'stdev_seasonal_12', 'total_occupants', 'daily_usage_4', 'variance', 'daily_usage_3', 'fraction_13', 'daily_usage_5', 'daily_usage_6', 'daily_usage_7', 'aggregate_1', 'disag_fridge', 'aggregate_2', 'area']. Accuracy: 87.5204280396\n",
      "include: fraction_11 -> feature_subset: ['aggregate_9', 'stdev_seasonal_12', 'total_occupants', 'daily_usage_4', 'variance', 'daily_usage_3', 'fraction_13', 'daily_usage_5', 'daily_usage_6', 'daily_usage_7', 'aggregate_1', 'disag_fridge', 'aggregate_2', 'area', 'fraction_11']. Accuracy: 88.1382913533\n",
      "include: cluster_big -> feature_subset: ['aggregate_9', 'stdev_seasonal_12', 'total_occupants', 'daily_usage_4', 'variance', 'daily_usage_3', 'fraction_13', 'daily_usage_5', 'daily_usage_6', 'daily_usage_7', 'aggregate_1', 'disag_fridge', 'aggregate_2', 'area', 'fraction_11', 'cluster_big']. Accuracy: 88.3473554214\n",
      "include: aggregate_3 -> feature_subset: ['aggregate_9', 'stdev_seasonal_12', 'total_occupants', 'daily_usage_4', 'variance', 'daily_usage_3', 'fraction_13', 'daily_usage_5', 'daily_usage_6', 'daily_usage_7', 'aggregate_1', 'disag_fridge', 'aggregate_2', 'area', 'fraction_11', 'cluster_big', 'aggregate_3']. Accuracy: 88.3473554214\n",
      "include: fraction_12 -> feature_subset: ['aggregate_9', 'stdev_seasonal_12', 'total_occupants', 'daily_usage_4', 'variance', 'daily_usage_3', 'fraction_13', 'daily_usage_5', 'daily_usage_6', 'daily_usage_7', 'aggregate_1', 'disag_fridge', 'aggregate_2', 'area', 'fraction_11', 'cluster_big', 'aggregate_3', 'fraction_12']. Accuracy: 89.0743034392\n",
      "include: cluster_small -> feature_subset: ['aggregate_9', 'stdev_seasonal_12', 'total_occupants', 'daily_usage_4', 'variance', 'daily_usage_3', 'fraction_13', 'daily_usage_5', 'daily_usage_6', 'daily_usage_7', 'aggregate_1', 'disag_fridge', 'aggregate_2', 'area', 'fraction_11', 'cluster_big', 'aggregate_3', 'fraction_12', 'cluster_small']. Accuracy: 89.0887319504\n",
      "include: aggregate_4 -> feature_subset: ['aggregate_9', 'stdev_seasonal_12', 'total_occupants', 'daily_usage_4', 'variance', 'daily_usage_3', 'fraction_13', 'daily_usage_5', 'daily_usage_6', 'daily_usage_7', 'aggregate_1', 'disag_fridge', 'aggregate_2', 'area', 'fraction_11', 'cluster_big', 'aggregate_3', 'fraction_12', 'cluster_small', 'aggregate_4']. Accuracy: 89.2090490873\n",
      "include: aggregate_11 -> feature_subset: ['aggregate_9', 'stdev_seasonal_12', 'total_occupants', 'daily_usage_4', 'variance', 'daily_usage_3', 'fraction_13', 'daily_usage_5', 'daily_usage_6', 'daily_usage_7', 'aggregate_1', 'disag_fridge', 'aggregate_2', 'area', 'fraction_11', 'cluster_big', 'aggregate_3', 'fraction_12', 'cluster_small', 'aggregate_4', 'aggregate_11']. Accuracy: 89.2090490873\n",
      "include: aggregate_5 -> feature_subset: ['aggregate_9', 'stdev_seasonal_12', 'total_occupants', 'daily_usage_4', 'variance', 'daily_usage_3', 'fraction_13', 'daily_usage_5', 'daily_usage_6', 'daily_usage_7', 'aggregate_1', 'disag_fridge', 'aggregate_2', 'area', 'fraction_11', 'cluster_big', 'aggregate_3', 'fraction_12', 'cluster_small', 'aggregate_4', 'aggregate_11', 'aggregate_5']. Accuracy: 89.2090490873\n",
      "include: fraction_17 -> feature_subset: ['aggregate_9', 'stdev_seasonal_12', 'total_occupants', 'daily_usage_4', 'variance', 'daily_usage_3', 'fraction_13', 'daily_usage_5', 'daily_usage_6', 'daily_usage_7', 'aggregate_1', 'disag_fridge', 'aggregate_2', 'area', 'fraction_11', 'cluster_big', 'aggregate_3', 'fraction_12', 'cluster_small', 'aggregate_4', 'aggregate_11', 'aggregate_5', 'fraction_17']. Accuracy: 89.2471479838\n",
      "include: lt_500 -> feature_subset: ['aggregate_9', 'stdev_seasonal_12', 'total_occupants', 'daily_usage_4', 'variance', 'daily_usage_3', 'fraction_13', 'daily_usage_5', 'daily_usage_6', 'daily_usage_7', 'aggregate_1', 'disag_fridge', 'aggregate_2', 'area', 'fraction_11', 'cluster_big', 'aggregate_3', 'fraction_12', 'cluster_small', 'aggregate_4', 'aggregate_11', 'aggregate_5', 'fraction_17', 'lt_500']. Accuracy: 89.3593742785\n",
      "include: bet_500_1000 -> feature_subset: ['aggregate_9', 'stdev_seasonal_12', 'total_occupants', 'daily_usage_4', 'variance', 'daily_usage_3', 'fraction_13', 'daily_usage_5', 'daily_usage_6', 'daily_usage_7', 'aggregate_1', 'disag_fridge', 'aggregate_2', 'area', 'fraction_11', 'cluster_big', 'aggregate_3', 'fraction_12', 'cluster_small', 'aggregate_4', 'aggregate_11', 'aggregate_5', 'fraction_17', 'lt_500', 'bet_500_1000']. Accuracy: 89.3593742785\n",
      "++++++++++++++++++++\n",
      "4\n",
      "include: aggregate_7 -> feature_subset: ['aggregate_7']. Accuracy: 80.1164083044\n",
      "include: temperature_corr -> feature_subset: ['aggregate_7', 'temperature_corr']. Accuracy: 85.594583746\n",
      "include: cluster_small -> feature_subset: ['aggregate_7', 'temperature_corr', 'cluster_small']. Accuracy: 86.4836199999\n",
      "include: gt_1000 -> feature_subset: ['aggregate_7', 'temperature_corr', 'cluster_small', 'gt_1000']. Accuracy: 88.4641482673\n",
      "include: fraction_18 -> feature_subset: ['aggregate_7', 'temperature_corr', 'cluster_small', 'gt_1000', 'fraction_18']. Accuracy: 89.1249841181\n",
      "include: variance -> feature_subset: ['aggregate_7', 'temperature_corr', 'cluster_small', 'gt_1000', 'fraction_18', 'variance']. Accuracy: 89.1249841181\n",
      "include: aggregate_1 -> feature_subset: ['aggregate_7', 'temperature_corr', 'cluster_small', 'gt_1000', 'fraction_18', 'variance', 'aggregate_1']. Accuracy: 89.0620613546\n",
      "include: daily_usage_7 -> feature_subset: ['aggregate_7', 'temperature_corr', 'cluster_small', 'gt_1000', 'fraction_18', 'variance', 'aggregate_1', 'daily_usage_7']. Accuracy: 89.020618083\n",
      "include: aggregate_2 -> feature_subset: ['aggregate_7', 'temperature_corr', 'cluster_small', 'gt_1000', 'fraction_18', 'variance', 'aggregate_1', 'daily_usage_7', 'aggregate_2']. Accuracy: 89.098358339\n",
      "include: aggregate_11 -> feature_subset: ['aggregate_7', 'temperature_corr', 'cluster_small', 'gt_1000', 'fraction_18', 'variance', 'aggregate_1', 'daily_usage_7', 'aggregate_2', 'aggregate_11']. Accuracy: 89.1692779689\n",
      "include: aggregate_4 -> feature_subset: ['aggregate_7', 'temperature_corr', 'cluster_small', 'gt_1000', 'fraction_18', 'variance', 'aggregate_1', 'daily_usage_7', 'aggregate_2', 'aggregate_11', 'aggregate_4']. Accuracy: 89.1692779689\n",
      "include: max_seasonal_12 -> feature_subset: ['aggregate_7', 'temperature_corr', 'cluster_small', 'gt_1000', 'fraction_18', 'variance', 'aggregate_1', 'daily_usage_7', 'aggregate_2', 'aggregate_11', 'aggregate_4', 'max_seasonal_12']. Accuracy: 89.1572024217\n",
      "include: cluster_big -> feature_subset: ['aggregate_7', 'temperature_corr', 'cluster_small', 'gt_1000', 'fraction_18', 'variance', 'aggregate_1', 'daily_usage_7', 'aggregate_2', 'aggregate_11', 'aggregate_4', 'max_seasonal_12', 'cluster_big']. Accuracy: 89.5487040721\n",
      "include: aggregate_5 -> feature_subset: ['aggregate_7', 'temperature_corr', 'cluster_small', 'gt_1000', 'fraction_18', 'variance', 'aggregate_1', 'daily_usage_7', 'aggregate_2', 'aggregate_11', 'aggregate_4', 'max_seasonal_12', 'cluster_big', 'aggregate_5']. Accuracy: 89.8759361029\n",
      "include: aggregate_3 -> feature_subset: ['aggregate_7', 'temperature_corr', 'cluster_small', 'gt_1000', 'fraction_18', 'variance', 'aggregate_1', 'daily_usage_7', 'aggregate_2', 'aggregate_11', 'aggregate_4', 'max_seasonal_12', 'cluster_big', 'aggregate_5', 'aggregate_3']. Accuracy: 90.0390048151\n",
      "include: lt_500 -> feature_subset: ['aggregate_7', 'temperature_corr', 'cluster_small', 'gt_1000', 'fraction_18', 'variance', 'aggregate_1', 'daily_usage_7', 'aggregate_2', 'aggregate_11', 'aggregate_4', 'max_seasonal_12', 'cluster_big', 'aggregate_5', 'aggregate_3', 'lt_500']. Accuracy: 90.0390048151\n",
      "include: aggregate_12 -> feature_subset: ['aggregate_7', 'temperature_corr', 'cluster_small', 'gt_1000', 'fraction_18', 'variance', 'aggregate_1', 'daily_usage_7', 'aggregate_2', 'aggregate_11', 'aggregate_4', 'max_seasonal_12', 'cluster_big', 'aggregate_5', 'aggregate_3', 'lt_500', 'aggregate_12']. Accuracy: 90.2301126754\n",
      "include: disag_fridge -> feature_subset: ['aggregate_7', 'temperature_corr', 'cluster_small', 'gt_1000', 'fraction_18', 'variance', 'aggregate_1', 'daily_usage_7', 'aggregate_2', 'aggregate_11', 'aggregate_4', 'max_seasonal_12', 'cluster_big', 'aggregate_5', 'aggregate_3', 'lt_500', 'aggregate_12', 'disag_fridge']. Accuracy: 90.2301126754\n",
      "include: bet_500_1000 -> feature_subset: ['aggregate_7', 'temperature_corr', 'cluster_small', 'gt_1000', 'fraction_18', 'variance', 'aggregate_1', 'daily_usage_7', 'aggregate_2', 'aggregate_11', 'aggregate_4', 'max_seasonal_12', 'cluster_big', 'aggregate_5', 'aggregate_3', 'lt_500', 'aggregate_12', 'disag_fridge', 'bet_500_1000']. Accuracy: 90.2301126754\n",
      "include: ratio_min_max -> feature_subset: ['aggregate_7', 'temperature_corr', 'cluster_small', 'gt_1000', 'fraction_18', 'variance', 'aggregate_1', 'daily_usage_7', 'aggregate_2', 'aggregate_11', 'aggregate_4', 'max_seasonal_12', 'cluster_big', 'aggregate_5', 'aggregate_3', 'lt_500', 'aggregate_12', 'disag_fridge', 'bet_500_1000', 'ratio_min_max']. Accuracy: 90.2464493968\n",
      "include: ratio_difference_min_max -> feature_subset: ['aggregate_7', 'temperature_corr', 'cluster_small', 'gt_1000', 'fraction_18', 'variance', 'aggregate_1', 'daily_usage_7', 'aggregate_2', 'aggregate_11', 'aggregate_4', 'max_seasonal_12', 'cluster_big', 'aggregate_5', 'aggregate_3', 'lt_500', 'aggregate_12', 'disag_fridge', 'bet_500_1000', 'ratio_min_max', 'ratio_difference_min_max']. Accuracy: 89.955316566\n",
      "include: fraction_19 -> feature_subset: ['aggregate_7', 'temperature_corr', 'cluster_small', 'gt_1000', 'fraction_18', 'variance', 'aggregate_1', 'daily_usage_7', 'aggregate_2', 'aggregate_11', 'aggregate_4', 'max_seasonal_12', 'cluster_big', 'aggregate_5', 'aggregate_3', 'lt_500', 'aggregate_12', 'disag_fridge', 'bet_500_1000', 'ratio_min_max', 'ratio_difference_min_max', 'fraction_19']. Accuracy: 90.3587839369\n",
      "include: daily_usage_1 -> feature_subset: ['aggregate_7', 'temperature_corr', 'cluster_small', 'gt_1000', 'fraction_18', 'variance', 'aggregate_1', 'daily_usage_7', 'aggregate_2', 'aggregate_11', 'aggregate_4', 'max_seasonal_12', 'cluster_big', 'aggregate_5', 'aggregate_3', 'lt_500', 'aggregate_12', 'disag_fridge', 'bet_500_1000', 'ratio_min_max', 'ratio_difference_min_max', 'fraction_19', 'daily_usage_1']. Accuracy: 90.2525128796\n",
      "include: daily_usage_5 -> feature_subset: ['aggregate_7', 'temperature_corr', 'cluster_small', 'gt_1000', 'fraction_18', 'variance', 'aggregate_1', 'daily_usage_7', 'aggregate_2', 'aggregate_11', 'aggregate_4', 'max_seasonal_12', 'cluster_big', 'aggregate_5', 'aggregate_3', 'lt_500', 'aggregate_12', 'disag_fridge', 'bet_500_1000', 'ratio_min_max', 'ratio_difference_min_max', 'fraction_19', 'daily_usage_1', 'daily_usage_5']. Accuracy: 90.176867177\n",
      "include: daily_usage_3 -> feature_subset: ['aggregate_7', 'temperature_corr', 'cluster_small', 'gt_1000', 'fraction_18', 'variance', 'aggregate_1', 'daily_usage_7', 'aggregate_2', 'aggregate_11', 'aggregate_4', 'max_seasonal_12', 'cluster_big', 'aggregate_5', 'aggregate_3', 'lt_500', 'aggregate_12', 'disag_fridge', 'bet_500_1000', 'ratio_min_max', 'ratio_difference_min_max', 'fraction_19', 'daily_usage_1', 'daily_usage_5', 'daily_usage_3']. Accuracy: 90.1877543904\n",
      "++++++++++++++++++++\n",
      "5\n",
      "include: daily_usage_4 -> feature_subset: ['daily_usage_4']. Accuracy: 80.5449773861\n",
      "include: fraction_18 -> feature_subset: ['daily_usage_4', 'fraction_18']. Accuracy: 84.0429866702\n",
      "include: cluster_small -> feature_subset: ['daily_usage_4', 'fraction_18', 'cluster_small']. Accuracy: 87.153503851\n",
      "include: aggregate_11 -> feature_subset: ['daily_usage_4', 'fraction_18', 'cluster_small', 'aggregate_11']. Accuracy: 87.7918547361\n",
      "include: disag_fridge -> feature_subset: ['daily_usage_4', 'fraction_18', 'cluster_small', 'aggregate_11', 'disag_fridge']. Accuracy: 88.156714295\n",
      "include: aggregate_4 -> feature_subset: ['daily_usage_4', 'fraction_18', 'cluster_small', 'aggregate_11', 'disag_fridge', 'aggregate_4']. Accuracy: 88.0085409379\n",
      "include: variance -> feature_subset: ['daily_usage_4', 'fraction_18', 'cluster_small', 'aggregate_11', 'disag_fridge', 'aggregate_4', 'variance']. Accuracy: 87.5523685456\n",
      "include: gt_1000 -> feature_subset: ['daily_usage_4', 'fraction_18', 'cluster_small', 'aggregate_11', 'disag_fridge', 'aggregate_4', 'variance', 'gt_1000']. Accuracy: 87.1620439421\n",
      "include: daily_usage_6 -> feature_subset: ['daily_usage_4', 'fraction_18', 'cluster_small', 'aggregate_11', 'disag_fridge', 'aggregate_4', 'variance', 'gt_1000', 'daily_usage_6']. Accuracy: 87.916664674\n",
      "include: aggregate_2 -> feature_subset: ['daily_usage_4', 'fraction_18', 'cluster_small', 'aggregate_11', 'disag_fridge', 'aggregate_4', 'variance', 'gt_1000', 'daily_usage_6', 'aggregate_2']. Accuracy: 88.046643421\n",
      "include: aggregate_3 -> feature_subset: ['daily_usage_4', 'fraction_18', 'cluster_small', 'aggregate_11', 'disag_fridge', 'aggregate_4', 'variance', 'gt_1000', 'daily_usage_6', 'aggregate_2', 'aggregate_3']. Accuracy: 87.9161044318\n",
      "include: temperature_corr -> feature_subset: ['daily_usage_4', 'fraction_18', 'cluster_small', 'aggregate_11', 'disag_fridge', 'aggregate_4', 'variance', 'gt_1000', 'daily_usage_6', 'aggregate_2', 'aggregate_3', 'temperature_corr']. Accuracy: 87.7054658446\n",
      "include: daily_usage_1 -> feature_subset: ['daily_usage_4', 'fraction_18', 'cluster_small', 'aggregate_11', 'disag_fridge', 'aggregate_4', 'variance', 'gt_1000', 'daily_usage_6', 'aggregate_2', 'aggregate_3', 'temperature_corr', 'daily_usage_1']. Accuracy: 88.9444845368\n",
      "include: bet_500_1000 -> feature_subset: ['daily_usage_4', 'fraction_18', 'cluster_small', 'aggregate_11', 'disag_fridge', 'aggregate_4', 'variance', 'gt_1000', 'daily_usage_6', 'aggregate_2', 'aggregate_3', 'temperature_corr', 'daily_usage_1', 'bet_500_1000']. Accuracy: 88.8437800441\n",
      "include: aggregate_1 -> feature_subset: ['daily_usage_4', 'fraction_18', 'cluster_small', 'aggregate_11', 'disag_fridge', 'aggregate_4', 'variance', 'gt_1000', 'daily_usage_6', 'aggregate_2', 'aggregate_3', 'temperature_corr', 'daily_usage_1', 'bet_500_1000', 'aggregate_1']. Accuracy: 89.2856281788\n",
      "include: lt_500 -> feature_subset: ['daily_usage_4', 'fraction_18', 'cluster_small', 'aggregate_11', 'disag_fridge', 'aggregate_4', 'variance', 'gt_1000', 'daily_usage_6', 'aggregate_2', 'aggregate_3', 'temperature_corr', 'daily_usage_1', 'bet_500_1000', 'aggregate_1', 'lt_500']. Accuracy: 89.0747264006\n",
      "include: cluster_big -> feature_subset: ['daily_usage_4', 'fraction_18', 'cluster_small', 'aggregate_11', 'disag_fridge', 'aggregate_4', 'variance', 'gt_1000', 'daily_usage_6', 'aggregate_2', 'aggregate_3', 'temperature_corr', 'daily_usage_1', 'bet_500_1000', 'aggregate_1', 'lt_500', 'cluster_big']. Accuracy: 89.1487604824\n",
      "include: daily_usage_3 -> feature_subset: ['daily_usage_4', 'fraction_18', 'cluster_small', 'aggregate_11', 'disag_fridge', 'aggregate_4', 'variance', 'gt_1000', 'daily_usage_6', 'aggregate_2', 'aggregate_3', 'temperature_corr', 'daily_usage_1', 'bet_500_1000', 'aggregate_1', 'lt_500', 'cluster_big', 'daily_usage_3']. Accuracy: 89.1231332366\n",
      "include: autocorr -> feature_subset: ['daily_usage_4', 'fraction_18', 'cluster_small', 'aggregate_11', 'disag_fridge', 'aggregate_4', 'variance', 'gt_1000', 'daily_usage_6', 'aggregate_2', 'aggregate_3', 'temperature_corr', 'daily_usage_1', 'bet_500_1000', 'aggregate_1', 'lt_500', 'cluster_big', 'daily_usage_3', 'autocorr']. Accuracy: 89.1702601382\n",
      "include: daily_usage_5 -> feature_subset: ['daily_usage_4', 'fraction_18', 'cluster_small', 'aggregate_11', 'disag_fridge', 'aggregate_4', 'variance', 'gt_1000', 'daily_usage_6', 'aggregate_2', 'aggregate_3', 'temperature_corr', 'daily_usage_1', 'bet_500_1000', 'aggregate_1', 'lt_500', 'cluster_big', 'daily_usage_3', 'autocorr', 'daily_usage_5']. Accuracy: 89.4698256594\n",
      "include: max_seasonal_12 -> feature_subset: ['daily_usage_4', 'fraction_18', 'cluster_small', 'aggregate_11', 'disag_fridge', 'aggregate_4', 'variance', 'gt_1000', 'daily_usage_6', 'aggregate_2', 'aggregate_3', 'temperature_corr', 'daily_usage_1', 'bet_500_1000', 'aggregate_1', 'lt_500', 'cluster_big', 'daily_usage_3', 'autocorr', 'daily_usage_5', 'max_seasonal_12']. Accuracy: 89.4725120613\n",
      "include: aggregate_5 -> feature_subset: ['daily_usage_4', 'fraction_18', 'cluster_small', 'aggregate_11', 'disag_fridge', 'aggregate_4', 'variance', 'gt_1000', 'daily_usage_6', 'aggregate_2', 'aggregate_3', 'temperature_corr', 'daily_usage_1', 'bet_500_1000', 'aggregate_1', 'lt_500', 'cluster_big', 'daily_usage_3', 'autocorr', 'daily_usage_5', 'max_seasonal_12', 'aggregate_5']. Accuracy: 89.4991039605\n",
      "include: aggregate_12 -> feature_subset: ['daily_usage_4', 'fraction_18', 'cluster_small', 'aggregate_11', 'disag_fridge', 'aggregate_4', 'variance', 'gt_1000', 'daily_usage_6', 'aggregate_2', 'aggregate_3', 'temperature_corr', 'daily_usage_1', 'bet_500_1000', 'aggregate_1', 'lt_500', 'cluster_big', 'daily_usage_3', 'autocorr', 'daily_usage_5', 'max_seasonal_12', 'aggregate_5', 'aggregate_12']. Accuracy: 89.4991039605\n",
      "include: daily_usage_7 -> feature_subset: ['daily_usage_4', 'fraction_18', 'cluster_small', 'aggregate_11', 'disag_fridge', 'aggregate_4', 'variance', 'gt_1000', 'daily_usage_6', 'aggregate_2', 'aggregate_3', 'temperature_corr', 'daily_usage_1', 'bet_500_1000', 'aggregate_1', 'lt_500', 'cluster_big', 'daily_usage_3', 'autocorr', 'daily_usage_5', 'max_seasonal_12', 'aggregate_5', 'aggregate_12', 'daily_usage_7']. Accuracy: 89.5113101052\n",
      "include: fraction_17 -> feature_subset: ['daily_usage_4', 'fraction_18', 'cluster_small', 'aggregate_11', 'disag_fridge', 'aggregate_4', 'variance', 'gt_1000', 'daily_usage_6', 'aggregate_2', 'aggregate_3', 'temperature_corr', 'daily_usage_1', 'bet_500_1000', 'aggregate_1', 'lt_500', 'cluster_big', 'daily_usage_3', 'autocorr', 'daily_usage_5', 'max_seasonal_12', 'aggregate_5', 'aggregate_12', 'daily_usage_7', 'fraction_17']. Accuracy: 89.3711010657\n",
      "++++++++++++++++++++\n",
      "6\n",
      "include: lt_500 -> feature_subset: ['lt_500']. Accuracy: 79.9555657034\n",
      "include: fraction_19 -> feature_subset: ['lt_500', 'fraction_19']. Accuracy: 83.1028198649\n",
      "include: daily_usage_5 -> feature_subset: ['lt_500', 'fraction_19', 'daily_usage_5']. Accuracy: 85.466820389\n",
      "include: daily_usage_3 -> feature_subset: ['lt_500', 'fraction_19', 'daily_usage_5', 'daily_usage_3']. Accuracy: 86.4610672514\n",
      "include: aggregate_2 -> feature_subset: ['lt_500', 'fraction_19', 'daily_usage_5', 'daily_usage_3', 'aggregate_2']. Accuracy: 87.7266198677\n",
      "include: aggregate_4 -> feature_subset: ['lt_500', 'fraction_19', 'daily_usage_5', 'daily_usage_3', 'aggregate_2', 'aggregate_4']. Accuracy: 88.0286859152\n",
      "include: variance -> feature_subset: ['lt_500', 'fraction_19', 'daily_usage_5', 'daily_usage_3', 'aggregate_2', 'aggregate_4', 'variance']. Accuracy: 87.8025549162\n",
      "include: bet_500_1000 -> feature_subset: ['lt_500', 'fraction_19', 'daily_usage_5', 'daily_usage_3', 'aggregate_2', 'aggregate_4', 'variance', 'bet_500_1000']. Accuracy: 87.6817593801\n",
      "include: aggregate_11 -> feature_subset: ['lt_500', 'fraction_19', 'daily_usage_5', 'daily_usage_3', 'aggregate_2', 'aggregate_4', 'variance', 'bet_500_1000', 'aggregate_11']. Accuracy: 87.7865738939\n",
      "include: cluster_small -> feature_subset: ['lt_500', 'fraction_19', 'daily_usage_5', 'daily_usage_3', 'aggregate_2', 'aggregate_4', 'variance', 'bet_500_1000', 'aggregate_11', 'cluster_small']. Accuracy: 87.9871521505\n",
      "include: aggregate_5 -> feature_subset: ['lt_500', 'fraction_19', 'daily_usage_5', 'daily_usage_3', 'aggregate_2', 'aggregate_4', 'variance', 'bet_500_1000', 'aggregate_11', 'cluster_small', 'aggregate_5']. Accuracy: 87.2009707038\n",
      "include: temperature_corr -> feature_subset: ['lt_500', 'fraction_19', 'daily_usage_5', 'daily_usage_3', 'aggregate_2', 'aggregate_4', 'variance', 'bet_500_1000', 'aggregate_11', 'cluster_small', 'aggregate_5', 'temperature_corr']. Accuracy: 88.8881121229\n",
      "include: aggregate_1 -> feature_subset: ['lt_500', 'fraction_19', 'daily_usage_5', 'daily_usage_3', 'aggregate_2', 'aggregate_4', 'variance', 'bet_500_1000', 'aggregate_11', 'cluster_small', 'aggregate_5', 'temperature_corr', 'aggregate_1']. Accuracy: 88.9905301403\n",
      "include: disag_fridge -> feature_subset: ['lt_500', 'fraction_19', 'daily_usage_5', 'daily_usage_3', 'aggregate_2', 'aggregate_4', 'variance', 'bet_500_1000', 'aggregate_11', 'cluster_small', 'aggregate_5', 'temperature_corr', 'aggregate_1', 'disag_fridge']. Accuracy: 89.0110190068\n",
      "include: daily_usage_1 -> feature_subset: ['lt_500', 'fraction_19', 'daily_usage_5', 'daily_usage_3', 'aggregate_2', 'aggregate_4', 'variance', 'bet_500_1000', 'aggregate_11', 'cluster_small', 'aggregate_5', 'temperature_corr', 'aggregate_1', 'disag_fridge', 'daily_usage_1']. Accuracy: 88.6341231839\n",
      "include: aggregate_3 -> feature_subset: ['lt_500', 'fraction_19', 'daily_usage_5', 'daily_usage_3', 'aggregate_2', 'aggregate_4', 'variance', 'bet_500_1000', 'aggregate_11', 'cluster_small', 'aggregate_5', 'temperature_corr', 'aggregate_1', 'disag_fridge', 'daily_usage_1', 'aggregate_3']. Accuracy: 88.5557250134\n",
      "include: ratio_min_max -> feature_subset: ['lt_500', 'fraction_19', 'daily_usage_5', 'daily_usage_3', 'aggregate_2', 'aggregate_4', 'variance', 'bet_500_1000', 'aggregate_11', 'cluster_small', 'aggregate_5', 'temperature_corr', 'aggregate_1', 'disag_fridge', 'daily_usage_1', 'aggregate_3', 'ratio_min_max']. Accuracy: 88.6801170991\n",
      "include: daily_usage_4 -> feature_subset: ['lt_500', 'fraction_19', 'daily_usage_5', 'daily_usage_3', 'aggregate_2', 'aggregate_4', 'variance', 'bet_500_1000', 'aggregate_11', 'cluster_small', 'aggregate_5', 'temperature_corr', 'aggregate_1', 'disag_fridge', 'daily_usage_1', 'aggregate_3', 'ratio_min_max', 'daily_usage_4']. Accuracy: 88.5223095858\n",
      "include: fraction_18 -> feature_subset: ['lt_500', 'fraction_19', 'daily_usage_5', 'daily_usage_3', 'aggregate_2', 'aggregate_4', 'variance', 'bet_500_1000', 'aggregate_11', 'cluster_small', 'aggregate_5', 'temperature_corr', 'aggregate_1', 'disag_fridge', 'daily_usage_1', 'aggregate_3', 'ratio_min_max', 'daily_usage_4', 'fraction_18']. Accuracy: 88.8382265748\n",
      "include: daily_usage_2 -> feature_subset: ['lt_500', 'fraction_19', 'daily_usage_5', 'daily_usage_3', 'aggregate_2', 'aggregate_4', 'variance', 'bet_500_1000', 'aggregate_11', 'cluster_small', 'aggregate_5', 'temperature_corr', 'aggregate_1', 'disag_fridge', 'daily_usage_1', 'aggregate_3', 'ratio_min_max', 'daily_usage_4', 'fraction_18', 'daily_usage_2']. Accuracy: 88.9201924297\n",
      "include: gt_1000 -> feature_subset: ['lt_500', 'fraction_19', 'daily_usage_5', 'daily_usage_3', 'aggregate_2', 'aggregate_4', 'variance', 'bet_500_1000', 'aggregate_11', 'cluster_small', 'aggregate_5', 'temperature_corr', 'aggregate_1', 'disag_fridge', 'daily_usage_1', 'aggregate_3', 'ratio_min_max', 'daily_usage_4', 'fraction_18', 'daily_usage_2', 'gt_1000']. Accuracy: 88.9908055859\n",
      "include: max_trend_12 -> feature_subset: ['lt_500', 'fraction_19', 'daily_usage_5', 'daily_usage_3', 'aggregate_2', 'aggregate_4', 'variance', 'bet_500_1000', 'aggregate_11', 'cluster_small', 'aggregate_5', 'temperature_corr', 'aggregate_1', 'disag_fridge', 'daily_usage_1', 'aggregate_3', 'ratio_min_max', 'daily_usage_4', 'fraction_18', 'daily_usage_2', 'gt_1000', 'max_trend_12']. Accuracy: 88.6308476385\n",
      "include: fraction_7 -> feature_subset: ['lt_500', 'fraction_19', 'daily_usage_5', 'daily_usage_3', 'aggregate_2', 'aggregate_4', 'variance', 'bet_500_1000', 'aggregate_11', 'cluster_small', 'aggregate_5', 'temperature_corr', 'aggregate_1', 'disag_fridge', 'daily_usage_1', 'aggregate_3', 'ratio_min_max', 'daily_usage_4', 'fraction_18', 'daily_usage_2', 'gt_1000', 'max_trend_12', 'fraction_7']. Accuracy: 88.6807587083\n",
      "include: fraction_8 -> feature_subset: ['lt_500', 'fraction_19', 'daily_usage_5', 'daily_usage_3', 'aggregate_2', 'aggregate_4', 'variance', 'bet_500_1000', 'aggregate_11', 'cluster_small', 'aggregate_5', 'temperature_corr', 'aggregate_1', 'disag_fridge', 'daily_usage_1', 'aggregate_3', 'ratio_min_max', 'daily_usage_4', 'fraction_18', 'daily_usage_2', 'gt_1000', 'max_trend_12', 'fraction_7', 'fraction_8']. Accuracy: 88.5651220115\n",
      "include: max_trend_daily -> feature_subset: ['lt_500', 'fraction_19', 'daily_usage_5', 'daily_usage_3', 'aggregate_2', 'aggregate_4', 'variance', 'bet_500_1000', 'aggregate_11', 'cluster_small', 'aggregate_5', 'temperature_corr', 'aggregate_1', 'disag_fridge', 'daily_usage_1', 'aggregate_3', 'ratio_min_max', 'daily_usage_4', 'fraction_18', 'daily_usage_2', 'gt_1000', 'max_trend_12', 'fraction_7', 'fraction_8', 'max_trend_daily']. Accuracy: 88.5814858827\n",
      "++++++++++++++++++++\n",
      "7\n",
      "include: max_seasonal_12 -> feature_subset: ['max_seasonal_12']. Accuracy: 80.889849976\n",
      "include: variance -> feature_subset: ['max_seasonal_12', 'variance']. Accuracy: 82.6868681927\n",
      "include: stdev_seasonal_12 -> feature_subset: ['max_seasonal_12', 'variance', 'stdev_seasonal_12']. Accuracy: 81.8790437189\n",
      "include: aggregate_1 -> feature_subset: ['max_seasonal_12', 'variance', 'stdev_seasonal_12', 'aggregate_1']. Accuracy: 83.3390439812\n",
      "include: gt_1000 -> feature_subset: ['max_seasonal_12', 'variance', 'stdev_seasonal_12', 'aggregate_1', 'gt_1000']. Accuracy: 83.6438485956\n",
      "include: fraction_13 -> feature_subset: ['max_seasonal_12', 'variance', 'stdev_seasonal_12', 'aggregate_1', 'gt_1000', 'fraction_13']. Accuracy: 84.9551782562\n",
      "include: cluster_big -> feature_subset: ['max_seasonal_12', 'variance', 'stdev_seasonal_12', 'aggregate_1', 'gt_1000', 'fraction_13', 'cluster_big']. Accuracy: 85.3958634305\n",
      "include: lt_500 -> feature_subset: ['max_seasonal_12', 'variance', 'stdev_seasonal_12', 'aggregate_1', 'gt_1000', 'fraction_13', 'cluster_big', 'lt_500']. Accuracy: 87.1214332566\n",
      "include: autocorr -> feature_subset: ['max_seasonal_12', 'variance', 'stdev_seasonal_12', 'aggregate_1', 'gt_1000', 'fraction_13', 'cluster_big', 'lt_500', 'autocorr']. Accuracy: 86.8395663179\n",
      "include: bet_500_1000 -> feature_subset: ['max_seasonal_12', 'variance', 'stdev_seasonal_12', 'aggregate_1', 'gt_1000', 'fraction_13', 'cluster_big', 'lt_500', 'autocorr', 'bet_500_1000']. Accuracy: 86.7021161345\n",
      "include: fraction_14 -> feature_subset: ['max_seasonal_12', 'variance', 'stdev_seasonal_12', 'aggregate_1', 'gt_1000', 'fraction_13', 'cluster_big', 'lt_500', 'autocorr', 'bet_500_1000', 'fraction_14']. Accuracy: 85.9783916367\n",
      "include: ratio_min_max -> feature_subset: ['max_seasonal_12', 'variance', 'stdev_seasonal_12', 'aggregate_1', 'gt_1000', 'fraction_13', 'cluster_big', 'lt_500', 'autocorr', 'bet_500_1000', 'fraction_14', 'ratio_min_max']. Accuracy: 85.5350579642\n",
      "include: ratio_difference_min_max -> feature_subset: ['max_seasonal_12', 'variance', 'stdev_seasonal_12', 'aggregate_1', 'gt_1000', 'fraction_13', 'cluster_big', 'lt_500', 'autocorr', 'bet_500_1000', 'fraction_14', 'ratio_min_max', 'ratio_difference_min_max']. Accuracy: 85.7249982561\n",
      "include: fraction_24 -> feature_subset: ['max_seasonal_12', 'variance', 'stdev_seasonal_12', 'aggregate_1', 'gt_1000', 'fraction_13', 'cluster_big', 'lt_500', 'autocorr', 'bet_500_1000', 'fraction_14', 'ratio_min_max', 'ratio_difference_min_max', 'fraction_24']. Accuracy: 84.3295228041\n",
      "include: aggregate_12 -> feature_subset: ['max_seasonal_12', 'variance', 'stdev_seasonal_12', 'aggregate_1', 'gt_1000', 'fraction_13', 'cluster_big', 'lt_500', 'autocorr', 'bet_500_1000', 'fraction_14', 'ratio_min_max', 'ratio_difference_min_max', 'fraction_24', 'aggregate_12']. Accuracy: 84.2950743955\n",
      "include: max_trend_12 -> feature_subset: ['max_seasonal_12', 'variance', 'stdev_seasonal_12', 'aggregate_1', 'gt_1000', 'fraction_13', 'cluster_big', 'lt_500', 'autocorr', 'bet_500_1000', 'fraction_14', 'ratio_min_max', 'ratio_difference_min_max', 'fraction_24', 'aggregate_12', 'max_trend_12']. Accuracy: 84.0773329723\n",
      "include: max_trend_daily -> feature_subset: ['max_seasonal_12', 'variance', 'stdev_seasonal_12', 'aggregate_1', 'gt_1000', 'fraction_13', 'cluster_big', 'lt_500', 'autocorr', 'bet_500_1000', 'fraction_14', 'ratio_min_max', 'ratio_difference_min_max', 'fraction_24', 'aggregate_12', 'max_trend_12', 'max_trend_daily']. Accuracy: 84.8997515947\n",
      "include: aggregate_11 -> feature_subset: ['max_seasonal_12', 'variance', 'stdev_seasonal_12', 'aggregate_1', 'gt_1000', 'fraction_13', 'cluster_big', 'lt_500', 'autocorr', 'bet_500_1000', 'fraction_14', 'ratio_min_max', 'ratio_difference_min_max', 'fraction_24', 'aggregate_12', 'max_trend_12', 'max_trend_daily', 'aggregate_11']. Accuracy: 85.4259231128\n",
      "include: cluster_small -> feature_subset: ['max_seasonal_12', 'variance', 'stdev_seasonal_12', 'aggregate_1', 'gt_1000', 'fraction_13', 'cluster_big', 'lt_500', 'autocorr', 'bet_500_1000', 'fraction_14', 'ratio_min_max', 'ratio_difference_min_max', 'fraction_24', 'aggregate_12', 'max_trend_12', 'max_trend_daily', 'aggregate_11', 'cluster_small']. Accuracy: 85.4382103295\n",
      "include: disag_fridge -> feature_subset: ['max_seasonal_12', 'variance', 'stdev_seasonal_12', 'aggregate_1', 'gt_1000', 'fraction_13', 'cluster_big', 'lt_500', 'autocorr', 'bet_500_1000', 'fraction_14', 'ratio_min_max', 'ratio_difference_min_max', 'fraction_24', 'aggregate_12', 'max_trend_12', 'max_trend_daily', 'aggregate_11', 'cluster_small', 'disag_fridge']. Accuracy: 85.4382103295\n",
      "include: fraction_16 -> feature_subset: ['max_seasonal_12', 'variance', 'stdev_seasonal_12', 'aggregate_1', 'gt_1000', 'fraction_13', 'cluster_big', 'lt_500', 'autocorr', 'bet_500_1000', 'fraction_14', 'ratio_min_max', 'ratio_difference_min_max', 'fraction_24', 'aggregate_12', 'max_trend_12', 'max_trend_daily', 'aggregate_11', 'cluster_small', 'disag_fridge', 'fraction_16']. Accuracy: 86.1947359145\n",
      "include: fraction_1 -> feature_subset: ['max_seasonal_12', 'variance', 'stdev_seasonal_12', 'aggregate_1', 'gt_1000', 'fraction_13', 'cluster_big', 'lt_500', 'autocorr', 'bet_500_1000', 'fraction_14', 'ratio_min_max', 'ratio_difference_min_max', 'fraction_24', 'aggregate_12', 'max_trend_12', 'max_trend_daily', 'aggregate_11', 'cluster_small', 'disag_fridge', 'fraction_16', 'fraction_1']. Accuracy: 85.7154839961\n",
      "include: fraction_9 -> feature_subset: ['max_seasonal_12', 'variance', 'stdev_seasonal_12', 'aggregate_1', 'gt_1000', 'fraction_13', 'cluster_big', 'lt_500', 'autocorr', 'bet_500_1000', 'fraction_14', 'ratio_min_max', 'ratio_difference_min_max', 'fraction_24', 'aggregate_12', 'max_trend_12', 'max_trend_daily', 'aggregate_11', 'cluster_small', 'disag_fridge', 'fraction_16', 'fraction_1', 'fraction_9']. Accuracy: 84.0460265417\n",
      "include: daily_usage_2 -> feature_subset: ['max_seasonal_12', 'variance', 'stdev_seasonal_12', 'aggregate_1', 'gt_1000', 'fraction_13', 'cluster_big', 'lt_500', 'autocorr', 'bet_500_1000', 'fraction_14', 'ratio_min_max', 'ratio_difference_min_max', 'fraction_24', 'aggregate_12', 'max_trend_12', 'max_trend_daily', 'aggregate_11', 'cluster_small', 'disag_fridge', 'fraction_16', 'fraction_1', 'fraction_9', 'daily_usage_2']. Accuracy: 85.8674635484\n",
      "include: daily_usage_1 -> feature_subset: ['max_seasonal_12', 'variance', 'stdev_seasonal_12', 'aggregate_1', 'gt_1000', 'fraction_13', 'cluster_big', 'lt_500', 'autocorr', 'bet_500_1000', 'fraction_14', 'ratio_min_max', 'ratio_difference_min_max', 'fraction_24', 'aggregate_12', 'max_trend_12', 'max_trend_daily', 'aggregate_11', 'cluster_small', 'disag_fridge', 'fraction_16', 'fraction_1', 'fraction_9', 'daily_usage_2', 'daily_usage_1']. Accuracy: 86.5398750657\n"
     ]
    }
   ],
   "source": [
    "#for appliance in [\"fridge\",\"wm\",\"light\",\"dr\",\"dw\"]:\n",
    "for appliance in [\"fridge\"]:\n",
    "    print \"*\"*20\n",
    "    print appliance\n",
    "    print \"*\"*20\n",
    "    for k in range(2, 8):\n",
    "        print \"+\"*20\n",
    "        print k\n",
    "        best=seq_forw_select(features=a.tolist(), max_k=25,\n",
    "                      criterion_func=criterion_function, print_steps=True)\n",
    "        \n",
    "        "
   ]
  },
  {
   "cell_type": "code",
   "execution_count": 193,
   "metadata": {
    "collapsed": false
   },
   "outputs": [
    {
     "name": "stdout",
     "output_type": "stream",
     "text": [
      "********************\n",
      "dw\n",
      "********************\n",
      "++++++++++++++++++++\n",
      "2\n",
      "include: fraction_20 -> feature_subset: ['fraction_20']. Accuracy: 37.9745715506\n",
      "include: fraction_10 -> feature_subset: ['fraction_20', 'fraction_10']. Accuracy: 48.369931148\n",
      "include: bet_500_1000 -> feature_subset: ['fraction_20', 'fraction_10', 'bet_500_1000']. Accuracy: 48.7570496946\n",
      "include: fraction_24 -> feature_subset: ['fraction_20', 'fraction_10', 'bet_500_1000', 'fraction_24']. Accuracy: 43.3610871897\n",
      "include: difference_min_max -> feature_subset: ['fraction_20', 'fraction_10', 'bet_500_1000', 'fraction_24', 'difference_min_max']. Accuracy: 54.3902038479\n",
      "include: gt_1000 -> feature_subset: ['fraction_20', 'fraction_10', 'bet_500_1000', 'fraction_24', 'difference_min_max', 'gt_1000']. Accuracy: 54.4627947696\n",
      "include: variance -> feature_subset: ['fraction_20', 'fraction_10', 'bet_500_1000', 'fraction_24', 'difference_min_max', 'gt_1000', 'variance']. Accuracy: 54.4627947696\n",
      "include: fraction_18 -> feature_subset: ['fraction_20', 'fraction_10', 'bet_500_1000', 'fraction_24', 'difference_min_max', 'gt_1000', 'variance', 'fraction_18']. Accuracy: 48.2836870524\n",
      "include: cluster_small -> feature_subset: ['fraction_20', 'fraction_10', 'bet_500_1000', 'fraction_24', 'difference_min_max', 'gt_1000', 'variance', 'fraction_18', 'cluster_small']. Accuracy: 50.4587263529\n",
      "include: daily_usage_2 -> feature_subset: ['fraction_20', 'fraction_10', 'bet_500_1000', 'fraction_24', 'difference_min_max', 'gt_1000', 'variance', 'fraction_18', 'cluster_small', 'daily_usage_2']. Accuracy: 45.9820562867\n",
      "++++++++++++++++++++\n",
      "3\n",
      "include: aggregate_5 -> feature_subset: ['aggregate_5']. Accuracy: 36.450896118\n",
      "include: fraction_20 -> feature_subset: ['aggregate_5', 'fraction_20']. Accuracy: 41.3642037196\n",
      "include: daily_usage_5 -> feature_subset: ['aggregate_5', 'fraction_20', 'daily_usage_5']. Accuracy: 44.7373102046\n",
      "include: total_occupants -> feature_subset: ['aggregate_5', 'fraction_20', 'daily_usage_5', 'total_occupants']. Accuracy: 47.2097264136\n",
      "include: daily_usage_2 -> feature_subset: ['aggregate_5', 'fraction_20', 'daily_usage_5', 'total_occupants', 'daily_usage_2']. Accuracy: 49.2995706327\n",
      "include: daily_usage_4 -> feature_subset: ['aggregate_5', 'fraction_20', 'daily_usage_5', 'total_occupants', 'daily_usage_2', 'daily_usage_4']. Accuracy: 52.0539490285\n",
      "include: aggregate_3 -> feature_subset: ['aggregate_5', 'fraction_20', 'daily_usage_5', 'total_occupants', 'daily_usage_2', 'daily_usage_4', 'aggregate_3']. Accuracy: 52.429830602\n",
      "include: daily_usage_3 -> feature_subset: ['aggregate_5', 'fraction_20', 'daily_usage_5', 'total_occupants', 'daily_usage_2', 'daily_usage_4', 'aggregate_3', 'daily_usage_3']. Accuracy: 53.1765111594\n",
      "include: aggregate_2 -> feature_subset: ['aggregate_5', 'fraction_20', 'daily_usage_5', 'total_occupants', 'daily_usage_2', 'daily_usage_4', 'aggregate_3', 'daily_usage_3', 'aggregate_2']. Accuracy: 53.1765111594\n",
      "include: bet_500_1000 -> feature_subset: ['aggregate_5', 'fraction_20', 'daily_usage_5', 'total_occupants', 'daily_usage_2', 'daily_usage_4', 'aggregate_3', 'daily_usage_3', 'aggregate_2', 'bet_500_1000']. Accuracy: 53.1765111594\n",
      "++++++++++++++++++++\n",
      "4\n",
      "include: mins_hvac -> feature_subset: ['mins_hvac']. Accuracy: 48.5492126724\n",
      "include: variance -> feature_subset: ['mins_hvac', 'variance']. Accuracy: 48.5492126724\n",
      "include: aggregate_1 -> feature_subset: ['mins_hvac', 'variance', 'aggregate_1']. Accuracy: 48.0186286636\n",
      "include: aggregate_2 -> feature_subset: ['mins_hvac', 'variance', 'aggregate_1', 'aggregate_2']. Accuracy: 50.2412049895\n",
      "include: lt_500 -> feature_subset: ['mins_hvac', 'variance', 'aggregate_1', 'aggregate_2', 'lt_500']. Accuracy: 51.8791252462\n",
      "include: aggregate_11 -> feature_subset: ['mins_hvac', 'variance', 'aggregate_1', 'aggregate_2', 'lt_500', 'aggregate_11']. Accuracy: 53.3059083012\n",
      "include: cluster_small -> feature_subset: ['mins_hvac', 'variance', 'aggregate_1', 'aggregate_2', 'lt_500', 'aggregate_11', 'cluster_small']. Accuracy: 51.958396341\n"
     ]
    },
    {
     "ename": "KeyboardInterrupt",
     "evalue": "",
     "output_type": "error",
     "traceback": [
      "\u001b[0;31m---------------------------------------------------------------------------\u001b[0m",
      "\u001b[0;31mKeyboardInterrupt\u001b[0m                         Traceback (most recent call last)",
      "\u001b[0;32m<ipython-input-193-659068cdb88e>\u001b[0m in \u001b[0;36m<module>\u001b[0;34m()\u001b[0m\n\u001b[1;32m      7\u001b[0m         \u001b[0;32mprint\u001b[0m \u001b[0mk\u001b[0m\u001b[0;34m\u001b[0m\u001b[0m\n\u001b[1;32m      8\u001b[0m         best=seq_forw_select(features=a.tolist(), max_k=10,\n\u001b[0;32m----> 9\u001b[0;31m                       criterion_func=criterion_function, print_steps=True)\n\u001b[0m",
      "\u001b[0;32m<ipython-input-3-5e6634faf1e9>\u001b[0m in \u001b[0;36mseq_forw_select\u001b[0;34m(features, max_k, criterion_func, print_steps)\u001b[0m\n\u001b[1;32m     28\u001b[0m         \u001b[0mbest_feat\u001b[0m \u001b[0;34m=\u001b[0m \u001b[0mfeatures\u001b[0m\u001b[0;34m[\u001b[0m\u001b[0;36m0\u001b[0m\u001b[0;34m]\u001b[0m\u001b[0;34m\u001b[0m\u001b[0m\n\u001b[1;32m     29\u001b[0m         \u001b[0;32mfor\u001b[0m \u001b[0mx\u001b[0m \u001b[0;32min\u001b[0m \u001b[0mfeatures\u001b[0m\u001b[0;34m[\u001b[0m\u001b[0;36m1\u001b[0m\u001b[0;34m:\u001b[0m\u001b[0;34m]\u001b[0m\u001b[0;34m:\u001b[0m\u001b[0;34m\u001b[0m\u001b[0m\n\u001b[0;32m---> 30\u001b[0;31m             \u001b[0mcrit_func_eval\u001b[0m \u001b[0;34m=\u001b[0m \u001b[0mcriterion_func\u001b[0m\u001b[0;34m(\u001b[0m\u001b[0mfeat_sub\u001b[0m \u001b[0;34m+\u001b[0m \u001b[0;34m[\u001b[0m\u001b[0mx\u001b[0m\u001b[0;34m]\u001b[0m\u001b[0;34m)\u001b[0m\u001b[0;34m\u001b[0m\u001b[0m\n\u001b[0m\u001b[1;32m     31\u001b[0m             \u001b[0;32mif\u001b[0m \u001b[0mcrit_func_eval\u001b[0m \u001b[0;34m>\u001b[0m \u001b[0mcrit_func_max\u001b[0m\u001b[0;34m:\u001b[0m\u001b[0;34m\u001b[0m\u001b[0m\n\u001b[1;32m     32\u001b[0m                 \u001b[0mcrit_func_max\u001b[0m \u001b[0;34m=\u001b[0m \u001b[0mcrit_func_eval\u001b[0m\u001b[0;34m\u001b[0m\u001b[0m\n",
      "\u001b[0;32m<ipython-input-2-b58d486e6a4f>\u001b[0m in \u001b[0;36mcriterion_function\u001b[0;34m(feature_set)\u001b[0m\n\u001b[1;32m      2\u001b[0m \u001b[0;34m\u001b[0m\u001b[0m\n\u001b[1;32m      3\u001b[0m \u001b[0;34m\u001b[0m\u001b[0m\n\u001b[0;32m----> 4\u001b[0;31m     \u001b[0mtemp\u001b[0m \u001b[0;34m=\u001b[0m \u001b[0mcreate_predictions\u001b[0m\u001b[0;34m(\u001b[0m\u001b[0mappliance\u001b[0m\u001b[0;34m,\u001b[0m \u001b[0mfeature_set\u001b[0m\u001b[0;34m,\u001b[0m \u001b[0mk\u001b[0m\u001b[0;34m)\u001b[0m\u001b[0;34m\u001b[0m\u001b[0m\n\u001b[0m\u001b[1;32m      5\u001b[0m     \u001b[0merrors\u001b[0m \u001b[0;34m=\u001b[0m \u001b[0;34m{\u001b[0m\u001b[0;34m}\u001b[0m\u001b[0;34m\u001b[0m\u001b[0m\n\u001b[1;32m      6\u001b[0m     \u001b[0;32mfor\u001b[0m \u001b[0mi\u001b[0m \u001b[0;32min\u001b[0m \u001b[0mrange\u001b[0m\u001b[0;34m(\u001b[0m\u001b[0;36m1\u001b[0m\u001b[0;34m,\u001b[0m \u001b[0;36m13\u001b[0m\u001b[0;34m)\u001b[0m\u001b[0;34m:\u001b[0m\u001b[0;34m\u001b[0m\u001b[0m\n",
      "\u001b[0;32m<ipython-input-192-4f77ff24bbde>\u001b[0m in \u001b[0;36mcreate_predictions\u001b[0;34m(appliance, feature, k, weights)\u001b[0m\n\u001b[1;32m    203\u001b[0m         \u001b[0;32mfor\u001b[0m \u001b[0mtrain\u001b[0m\u001b[0;34m,\u001b[0m \u001b[0mtest\u001b[0m \u001b[0;32min\u001b[0m \u001b[0mloo\u001b[0m\u001b[0;34m:\u001b[0m\u001b[0;34m\u001b[0m\u001b[0m\n\u001b[1;32m    204\u001b[0m             \u001b[0;31m#clf.fit(preprocessing.normalize(df3[feature_columns[feature]].values[train]), y3.values[train])\u001b[0m\u001b[0;34m\u001b[0m\u001b[0;34m\u001b[0m\u001b[0m\n\u001b[0;32m--> 205\u001b[0;31m             \u001b[0mclf\u001b[0m\u001b[0;34m.\u001b[0m\u001b[0mfit\u001b[0m\u001b[0;34m(\u001b[0m\u001b[0mdf3\u001b[0m\u001b[0;34m[\u001b[0m\u001b[0mfeature\u001b[0m\u001b[0;34m]\u001b[0m\u001b[0;34m.\u001b[0m\u001b[0mvalues\u001b[0m\u001b[0;34m[\u001b[0m\u001b[0mtrain\u001b[0m\u001b[0;34m]\u001b[0m\u001b[0;34m,\u001b[0m \u001b[0my3\u001b[0m\u001b[0;34m.\u001b[0m\u001b[0mvalues\u001b[0m\u001b[0;34m[\u001b[0m\u001b[0mtrain\u001b[0m\u001b[0;34m]\u001b[0m\u001b[0;34m)\u001b[0m\u001b[0;34m\u001b[0m\u001b[0m\n\u001b[0m\u001b[1;32m    206\u001b[0m             \u001b[0;31m#out_pred.append(clf.predict(preprocessing.normalize(df3[feature_columns[feature]].values[test])))\u001b[0m\u001b[0;34m\u001b[0m\u001b[0;34m\u001b[0m\u001b[0m\n\u001b[1;32m    207\u001b[0m             \u001b[0mout_pred\u001b[0m\u001b[0;34m.\u001b[0m\u001b[0mappend\u001b[0m\u001b[0;34m(\u001b[0m\u001b[0mclf\u001b[0m\u001b[0;34m.\u001b[0m\u001b[0mpredict\u001b[0m\u001b[0;34m(\u001b[0m\u001b[0mdf3\u001b[0m\u001b[0;34m[\u001b[0m\u001b[0mfeature\u001b[0m\u001b[0;34m]\u001b[0m\u001b[0;34m.\u001b[0m\u001b[0mvalues\u001b[0m\u001b[0;34m[\u001b[0m\u001b[0mtest\u001b[0m\u001b[0;34m]\u001b[0m\u001b[0;34m)\u001b[0m\u001b[0;34m)\u001b[0m\u001b[0;34m\u001b[0m\u001b[0m\n",
      "\u001b[0;32m/Users/nipunbatra/anaconda/lib/python2.7/site-packages/pandas/core/frame.pyc\u001b[0m in \u001b[0;36m__getitem__\u001b[0;34m(self, key)\u001b[0m\n\u001b[1;32m   1789\u001b[0m         \u001b[0;32mif\u001b[0m \u001b[0misinstance\u001b[0m\u001b[0;34m(\u001b[0m\u001b[0mkey\u001b[0m\u001b[0;34m,\u001b[0m \u001b[0;34m(\u001b[0m\u001b[0mSeries\u001b[0m\u001b[0;34m,\u001b[0m \u001b[0mnp\u001b[0m\u001b[0;34m.\u001b[0m\u001b[0mndarray\u001b[0m\u001b[0;34m,\u001b[0m \u001b[0mIndex\u001b[0m\u001b[0;34m,\u001b[0m \u001b[0mlist\u001b[0m\u001b[0;34m)\u001b[0m\u001b[0;34m)\u001b[0m\u001b[0;34m:\u001b[0m\u001b[0;34m\u001b[0m\u001b[0m\n\u001b[1;32m   1790\u001b[0m             \u001b[0;31m# either boolean or fancy integer index\u001b[0m\u001b[0;34m\u001b[0m\u001b[0;34m\u001b[0m\u001b[0m\n\u001b[0;32m-> 1791\u001b[0;31m             \u001b[0;32mreturn\u001b[0m \u001b[0mself\u001b[0m\u001b[0;34m.\u001b[0m\u001b[0m_getitem_array\u001b[0m\u001b[0;34m(\u001b[0m\u001b[0mkey\u001b[0m\u001b[0;34m)\u001b[0m\u001b[0;34m\u001b[0m\u001b[0m\n\u001b[0m\u001b[1;32m   1792\u001b[0m         \u001b[0;32melif\u001b[0m \u001b[0misinstance\u001b[0m\u001b[0;34m(\u001b[0m\u001b[0mkey\u001b[0m\u001b[0;34m,\u001b[0m \u001b[0mDataFrame\u001b[0m\u001b[0;34m)\u001b[0m\u001b[0;34m:\u001b[0m\u001b[0;34m\u001b[0m\u001b[0m\n\u001b[1;32m   1793\u001b[0m             \u001b[0;32mreturn\u001b[0m \u001b[0mself\u001b[0m\u001b[0;34m.\u001b[0m\u001b[0m_getitem_frame\u001b[0m\u001b[0;34m(\u001b[0m\u001b[0mkey\u001b[0m\u001b[0;34m)\u001b[0m\u001b[0;34m\u001b[0m\u001b[0m\n",
      "\u001b[0;32m/Users/nipunbatra/anaconda/lib/python2.7/site-packages/pandas/core/frame.pyc\u001b[0m in \u001b[0;36m_getitem_array\u001b[0;34m(self, key)\u001b[0m\n\u001b[1;32m   1833\u001b[0m             \u001b[0;32mreturn\u001b[0m \u001b[0mself\u001b[0m\u001b[0;34m.\u001b[0m\u001b[0mtake\u001b[0m\u001b[0;34m(\u001b[0m\u001b[0mindexer\u001b[0m\u001b[0;34m,\u001b[0m \u001b[0maxis\u001b[0m\u001b[0;34m=\u001b[0m\u001b[0;36m0\u001b[0m\u001b[0;34m,\u001b[0m \u001b[0mconvert\u001b[0m\u001b[0;34m=\u001b[0m\u001b[0mFalse\u001b[0m\u001b[0;34m)\u001b[0m\u001b[0;34m\u001b[0m\u001b[0m\n\u001b[1;32m   1834\u001b[0m         \u001b[0;32melse\u001b[0m\u001b[0;34m:\u001b[0m\u001b[0;34m\u001b[0m\u001b[0m\n\u001b[0;32m-> 1835\u001b[0;31m             \u001b[0mindexer\u001b[0m \u001b[0;34m=\u001b[0m \u001b[0mself\u001b[0m\u001b[0;34m.\u001b[0m\u001b[0mix\u001b[0m\u001b[0;34m.\u001b[0m\u001b[0m_convert_to_indexer\u001b[0m\u001b[0;34m(\u001b[0m\u001b[0mkey\u001b[0m\u001b[0;34m,\u001b[0m \u001b[0maxis\u001b[0m\u001b[0;34m=\u001b[0m\u001b[0;36m1\u001b[0m\u001b[0;34m)\u001b[0m\u001b[0;34m\u001b[0m\u001b[0m\n\u001b[0m\u001b[1;32m   1836\u001b[0m             \u001b[0;32mreturn\u001b[0m \u001b[0mself\u001b[0m\u001b[0;34m.\u001b[0m\u001b[0mtake\u001b[0m\u001b[0;34m(\u001b[0m\u001b[0mindexer\u001b[0m\u001b[0;34m,\u001b[0m \u001b[0maxis\u001b[0m\u001b[0;34m=\u001b[0m\u001b[0;36m1\u001b[0m\u001b[0;34m,\u001b[0m \u001b[0mconvert\u001b[0m\u001b[0;34m=\u001b[0m\u001b[0mTrue\u001b[0m\u001b[0;34m)\u001b[0m\u001b[0;34m\u001b[0m\u001b[0m\n\u001b[1;32m   1837\u001b[0m \u001b[0;34m\u001b[0m\u001b[0m\n",
      "\u001b[0;32m/Users/nipunbatra/anaconda/lib/python2.7/site-packages/pandas/core/indexing.pyc\u001b[0m in \u001b[0;36m_convert_to_indexer\u001b[0;34m(self, obj, axis, is_setter)\u001b[0m\n\u001b[1;32m   1100\u001b[0m                     \u001b[0;31m# unique index\u001b[0m\u001b[0;34m\u001b[0m\u001b[0;34m\u001b[0m\u001b[0m\n\u001b[1;32m   1101\u001b[0m                     \u001b[0;32mif\u001b[0m \u001b[0mlabels\u001b[0m\u001b[0;34m.\u001b[0m\u001b[0mis_unique\u001b[0m\u001b[0;34m:\u001b[0m\u001b[0;34m\u001b[0m\u001b[0m\n\u001b[0;32m-> 1102\u001b[0;31m                         \u001b[0mindexer\u001b[0m \u001b[0;34m=\u001b[0m \u001b[0mcheck\u001b[0m \u001b[0;34m=\u001b[0m \u001b[0mlabels\u001b[0m\u001b[0;34m.\u001b[0m\u001b[0mget_indexer\u001b[0m\u001b[0;34m(\u001b[0m\u001b[0mobjarr\u001b[0m\u001b[0;34m)\u001b[0m\u001b[0;34m\u001b[0m\u001b[0m\n\u001b[0m\u001b[1;32m   1103\u001b[0m \u001b[0;34m\u001b[0m\u001b[0m\n\u001b[1;32m   1104\u001b[0m                     \u001b[0;31m# non-unique (dups)\u001b[0m\u001b[0;34m\u001b[0m\u001b[0;34m\u001b[0m\u001b[0m\n",
      "\u001b[0;32m/Users/nipunbatra/anaconda/lib/python2.7/site-packages/pandas/core/index.pyc\u001b[0m in \u001b[0;36mget_indexer\u001b[0;34m(self, target, method, limit)\u001b[0m\n\u001b[1;32m   1673\u001b[0m         \"\"\"\n\u001b[1;32m   1674\u001b[0m         \u001b[0mmethod\u001b[0m \u001b[0;34m=\u001b[0m \u001b[0mcom\u001b[0m\u001b[0;34m.\u001b[0m\u001b[0m_clean_reindex_fill_method\u001b[0m\u001b[0;34m(\u001b[0m\u001b[0mmethod\u001b[0m\u001b[0;34m)\u001b[0m\u001b[0;34m\u001b[0m\u001b[0m\n\u001b[0;32m-> 1675\u001b[0;31m         \u001b[0mtarget\u001b[0m \u001b[0;34m=\u001b[0m \u001b[0m_ensure_index\u001b[0m\u001b[0;34m(\u001b[0m\u001b[0mtarget\u001b[0m\u001b[0;34m)\u001b[0m\u001b[0;34m\u001b[0m\u001b[0m\n\u001b[0m\u001b[1;32m   1676\u001b[0m \u001b[0;34m\u001b[0m\u001b[0m\n\u001b[1;32m   1677\u001b[0m         \u001b[0mpself\u001b[0m\u001b[0;34m,\u001b[0m \u001b[0mptarget\u001b[0m \u001b[0;34m=\u001b[0m \u001b[0mself\u001b[0m\u001b[0;34m.\u001b[0m\u001b[0m_possibly_promote\u001b[0m\u001b[0;34m(\u001b[0m\u001b[0mtarget\u001b[0m\u001b[0;34m)\u001b[0m\u001b[0;34m\u001b[0m\u001b[0m\n",
      "\u001b[0;32m/Users/nipunbatra/anaconda/lib/python2.7/site-packages/pandas/core/index.pyc\u001b[0m in \u001b[0;36m_ensure_index\u001b[0;34m(index_like, copy)\u001b[0m\n\u001b[1;32m   5702\u001b[0m             \u001b[0mindex_like\u001b[0m \u001b[0;34m=\u001b[0m \u001b[0mcopy\u001b[0m\u001b[0;34m(\u001b[0m\u001b[0mindex_like\u001b[0m\u001b[0;34m)\u001b[0m\u001b[0;34m\u001b[0m\u001b[0m\n\u001b[1;32m   5703\u001b[0m \u001b[0;34m\u001b[0m\u001b[0m\n\u001b[0;32m-> 5704\u001b[0;31m     \u001b[0;32mreturn\u001b[0m \u001b[0mIndex\u001b[0m\u001b[0;34m(\u001b[0m\u001b[0mindex_like\u001b[0m\u001b[0;34m)\u001b[0m\u001b[0;34m\u001b[0m\u001b[0m\n\u001b[0m\u001b[1;32m   5705\u001b[0m \u001b[0;34m\u001b[0m\u001b[0m\n\u001b[1;32m   5706\u001b[0m \u001b[0;34m\u001b[0m\u001b[0m\n",
      "\u001b[0;32m/Users/nipunbatra/anaconda/lib/python2.7/site-packages/pandas/core/index.pyc\u001b[0m in \u001b[0;36m__new__\u001b[0;34m(cls, data, dtype, copy, name, fastpath, tupleize_cols, **kwargs)\u001b[0m\n\u001b[1;32m    180\u001b[0m \u001b[0;34m\u001b[0m\u001b[0m\n\u001b[1;32m    181\u001b[0m         \u001b[0;32mif\u001b[0m \u001b[0mdtype\u001b[0m \u001b[0;32mis\u001b[0m \u001b[0mNone\u001b[0m\u001b[0;34m:\u001b[0m\u001b[0;34m\u001b[0m\u001b[0m\n\u001b[0;32m--> 182\u001b[0;31m             \u001b[0minferred\u001b[0m \u001b[0;34m=\u001b[0m \u001b[0mlib\u001b[0m\u001b[0;34m.\u001b[0m\u001b[0minfer_dtype\u001b[0m\u001b[0;34m(\u001b[0m\u001b[0msubarr\u001b[0m\u001b[0;34m)\u001b[0m\u001b[0;34m\u001b[0m\u001b[0m\n\u001b[0m\u001b[1;32m    183\u001b[0m             \u001b[0;32mif\u001b[0m \u001b[0minferred\u001b[0m \u001b[0;34m==\u001b[0m \u001b[0;34m'integer'\u001b[0m\u001b[0;34m:\u001b[0m\u001b[0;34m\u001b[0m\u001b[0m\n\u001b[1;32m    184\u001b[0m                 \u001b[0;32mreturn\u001b[0m \u001b[0mInt64Index\u001b[0m\u001b[0;34m(\u001b[0m\u001b[0msubarr\u001b[0m\u001b[0;34m.\u001b[0m\u001b[0mastype\u001b[0m\u001b[0;34m(\u001b[0m\u001b[0;34m'i8'\u001b[0m\u001b[0;34m)\u001b[0m\u001b[0;34m,\u001b[0m \u001b[0mcopy\u001b[0m\u001b[0;34m=\u001b[0m\u001b[0mcopy\u001b[0m\u001b[0;34m,\u001b[0m \u001b[0mname\u001b[0m\u001b[0;34m=\u001b[0m\u001b[0mname\u001b[0m\u001b[0;34m)\u001b[0m\u001b[0;34m\u001b[0m\u001b[0m\n",
      "\u001b[0;31mKeyboardInterrupt\u001b[0m: "
     ]
    }
   ],
   "source": [
    "for appliance in [\"dw\"]:\n",
    "    print \"*\"*20\n",
    "    print appliance\n",
    "    print \"*\"*20\n",
    "    for k in range(2, 8):\n",
    "        print \"+\"*20\n",
    "        print k\n",
    "        best=seq_forw_select(features=a.tolist(), max_k=10,\n",
    "                      criterion_func=criterion_function, print_steps=True)"
   ]
  },
  {
   "cell_type": "code",
   "execution_count": 217,
   "metadata": {
    "collapsed": true
   },
   "outputs": [],
   "source": [
    "feature = ['bet_500_1000']"
   ]
  },
  {
   "cell_type": "code",
   "execution_count": 218,
   "metadata": {
    "collapsed": true
   },
   "outputs": [],
   "source": [
    "k=2"
   ]
  },
  {
   "cell_type": "code",
   "execution_count": 268,
   "metadata": {
    "collapsed": false
   },
   "outputs": [],
   "source": [
    "temp = create_predictions('dw',feature, 12)"
   ]
  },
  {
   "cell_type": "code",
   "execution_count": 269,
   "metadata": {
    "collapsed": true
   },
   "outputs": [],
   "source": [
    "errors = {}\n",
    "for i in range(1, 13):\n",
    "    errors[i] = percentage_error(temp[i][\"gt\"], temp[i][\"pred\"])\n",
    "error_df = pd.DataFrame(errors)\n",
    "accur_df = 100-error_df\n",
    "accur_df[accur_df<0]=0"
   ]
  },
  {
   "cell_type": "code",
   "execution_count": 270,
   "metadata": {
    "collapsed": false
   },
   "outputs": [
    {
     "data": {
      "text/plain": [
       "19"
      ]
     },
     "execution_count": 270,
     "metadata": {},
     "output_type": "execute_result"
    }
   ],
   "source": [
    "len(accur_df.dropna().mean(axis=1).index)"
   ]
  },
  {
   "cell_type": "code",
   "execution_count": 271,
   "metadata": {
    "collapsed": false
   },
   "outputs": [
    {
     "data": {
      "text/plain": [
       "35.936213091129702"
      ]
     },
     "execution_count": 271,
     "metadata": {},
     "output_type": "execute_result"
    }
   ],
   "source": [
    "accur_df.dropna().median().mean()"
   ]
  },
  {
   "cell_type": "code",
   "execution_count": 188,
   "metadata": {
    "collapsed": false
   },
   "outputs": [
    {
     "data": {
      "text/plain": [
       "Int64Index([624, 1334, 3367, 3456, 3723, 5814, 6072, 6910, 7769, 7866, 9654,\n",
       "            9922],\n",
       "           dtype='int64')"
      ]
     },
     "execution_count": 188,
     "metadata": {},
     "output_type": "execute_result"
    }
   ],
   "source": [
    "accur_df.dropna().mean(axis=1).index"
   ]
  },
  {
   "cell_type": "code",
   "execution_count": 116,
   "metadata": {
    "collapsed": false
   },
   "outputs": [
    {
     "data": {
      "text/plain": [
       "array([  94,  370,  545,  624, 2156, 2242, 2470, 2814, 3367, 3456, 3723,\n",
       "       3967, 5357, 7769, 9654, 9922, 9934])"
      ]
     },
     "execution_count": 116,
     "metadata": {},
     "output_type": "execute_result"
    }
   ],
   "source": [
    "all_homes[\"wm\"]"
   ]
  },
  {
   "cell_type": "code",
   "execution_count": 191,
   "metadata": {
    "collapsed": false
   },
   "outputs": [
    {
     "data": {
      "text/plain": [
       "624     66.338298\n",
       "1334    60.475478\n",
       "3367    40.194637\n",
       "3456    75.321789\n",
       "3723    59.460502\n",
       "5814     8.401583\n",
       "6072    52.053419\n",
       "6910    10.204015\n",
       "7769    42.333597\n",
       "7866     0.000000\n",
       "9654     3.394330\n",
       "9922    74.324162\n",
       "dtype: float64"
      ]
     },
     "execution_count": 191,
     "metadata": {},
     "output_type": "execute_result"
    }
   ],
   "source": [
    "accur_df.dropna().mean(axis=1)"
   ]
  },
  {
   "cell_type": "code",
   "execution_count": 118,
   "metadata": {
    "collapsed": true
   },
   "outputs": [],
   "source": [
    "%matplotlib inline"
   ]
  },
  {
   "cell_type": "code",
   "execution_count": 132,
   "metadata": {
    "collapsed": false
   },
   "outputs": [
    {
     "data": {
      "text/plain": [
       "<matplotlib.axes._subplots.AxesSubplot at 0x11543e350>"
      ]
     },
     "execution_count": 132,
     "metadata": {},
     "output_type": "execute_result"
    },
    {
     "data": {
      "image/png": "[encoded data removed]",
      "text/plain": [
       "<matplotlib.figure.Figure at 0x115448350>"
      ]
     },
     "metadata": {},
     "output_type": "display_data"
    }
   ],
   "source": [
    "m=2\n",
    "wm = 'wm_%d' %m\n",
    "feature_plot=\"area\"\n",
    "df.ix[all_homes[\"wm\"]][[feature_plot,wm]].plot(kind=\"scatter\", x=feature_plot,y=wm)"
   ]
  },
  {
   "cell_type": "code",
   "execution_count": 133,
   "metadata": {
    "collapsed": true
   },
   "outputs": [],
   "source": [
    "temp = create_predictions('wm',['area'],1)\n",
    "errors = {}\n",
    "for i in range(1, 13):\n",
    "    errors[i] = percentage_error(temp[i][\"gt\"], temp[i][\"pred\"])\n",
    "error_df = pd.DataFrame(errors)\n",
    "accur_df = 100-error_df\n",
    "accur_df[accur_df<0]=0"
   ]
  },
  {
   "cell_type": "code",
   "execution_count": 136,
   "metadata": {
    "collapsed": false
   },
   "outputs": [
    {
     "data": {
      "text/plain": [
       "1     75.396849\n",
       "2     54.210730\n",
       "3     70.017919\n",
       "4     76.092595\n",
       "5     67.051359\n",
       "6     72.371640\n",
       "7     61.919578\n",
       "8     52.771398\n",
       "9     49.699680\n",
       "10    49.753408\n",
       "11    51.554367\n",
       "12    57.104109\n",
       "dtype: float64"
      ]
     },
     "execution_count": 136,
     "metadata": {},
     "output_type": "execute_result"
    }
   ],
   "source": [
    "accur_df.dropna().median()"
   ]
  },
  {
   "cell_type": "code",
   "execution_count": 272,
   "metadata": {
    "collapsed": false
   },
   "outputs": [
    {
     "data": {
      "text/plain": [
       "array([  94,  370,  545,  624, 1642, 2156, 2242, 2470, 2814, 2829, 3367,\n",
       "       3456, 3723, 3967, 4767, 5357, 6072, 6636, 6910, 7769, 7850, 9922,\n",
       "       9934])"
      ]
     },
     "execution_count": 272,
     "metadata": {},
     "output_type": "execute_result"
    }
   ],
   "source": [
    "all_homes['dw']"
   ]
  },
  {
   "cell_type": "code",
   "execution_count": 318,
   "metadata": {
    "collapsed": false
   },
   "outputs": [
    {
     "name": "stdout",
     "output_type": "stream",
     "text": [
      "94\n",
      "370\n",
      "545\n",
      "624\n",
      "1642\n",
      "2156\n",
      "2242\n",
      "2470\n",
      "2814\n",
      "2829\n",
      "3367\n",
      "3456\n",
      "3723\n",
      "3967\n",
      "4767\n",
      "5357\n",
      "6072\n",
      "6636\n",
      "6910\n",
      "7769\n",
      "7850\n",
      "9922\n",
      "9934\n"
     ]
    }
   ],
   "source": [
    "st = pd.HDFStore(\"/Users/nipunbatra/Downloads/wiki-temp.h5\")\n",
    "out_dw = {}\n",
    "for home in all_homes['dw']:\n",
    "    a = st['/%d' %home]['2013']['dishwasher1'].resample(\"15T\")\n",
    "    print home\n",
    "    out_dw[home] = {'bet_500_1000':len(a.diff().abs()[(a.diff().abs()>500) & (a.diff().abs()<1000)]),\n",
    "                    'gt_1000':len(a.diff().abs()[(a.diff().abs()>1000)])}"
   ]
  },
  {
   "cell_type": "code",
   "execution_count": 313,
   "metadata": {
    "collapsed": false
   },
   "outputs": [
    {
     "data": {
      "text/plain": [
       "94      0.114616\n",
       "370     0.108364\n",
       "545     0.168227\n",
       "624     0.135370\n",
       "1642    0.116700\n",
       "2156    0.136198\n",
       "2242    0.120325\n",
       "2470    0.094376\n",
       "2814    0.102279\n",
       "2829    0.065801\n",
       "3367    0.134742\n",
       "3456    0.129175\n",
       "3723    0.119355\n",
       "3967    0.105681\n",
       "4767    0.147731\n",
       "5357    0.180274\n",
       "6072    0.088638\n",
       "6636    0.026292\n",
       "6910    0.053754\n",
       "7769    0.070911\n",
       "7850    0.075657\n",
       "9922    0.090751\n",
       "9934    0.208136\n",
       "Name: bet_500_1000, dtype: float64"
      ]
     },
     "execution_count": 313,
     "metadata": {},
     "output_type": "execute_result"
    }
   ],
   "source": [
    "df.ix[all_homes['dw']].bet_500_1000"
   ]
  },
  {
   "cell_type": "code",
   "execution_count": 319,
   "metadata": {
    "collapsed": false
   },
   "outputs": [
    {
     "ename": "TypeError",
     "evalue": "float() argument must be a string or a number",
     "output_type": "error",
     "traceback": [
      "\u001b[0;31m---------------------------------------------------------------------------\u001b[0m",
      "\u001b[0;31mTypeError\u001b[0m                                 Traceback (most recent call last)",
      "\u001b[0;32m<ipython-input-319-d56449781a7f>\u001b[0m in \u001b[0;36m<module>\u001b[0;34m()\u001b[0m\n\u001b[1;32m      1\u001b[0m \u001b[0;32mimport\u001b[0m \u001b[0mmatplotlib\u001b[0m\u001b[0;34m.\u001b[0m\u001b[0mpyplot\u001b[0m \u001b[0;32mas\u001b[0m \u001b[0mplt\u001b[0m\u001b[0;34m\u001b[0m\u001b[0m\n\u001b[1;32m      2\u001b[0m \u001b[0mplt\u001b[0m\u001b[0;34m.\u001b[0m\u001b[0mstyle\u001b[0m\u001b[0;34m.\u001b[0m\u001b[0muse\u001b[0m\u001b[0;34m(\u001b[0m\u001b[0;34m'fivethirtyeight'\u001b[0m\u001b[0;34m)\u001b[0m\u001b[0;34m\u001b[0m\u001b[0m\n\u001b[0;32m----> 3\u001b[0;31m \u001b[0mplt\u001b[0m\u001b[0;34m.\u001b[0m\u001b[0mscatter\u001b[0m\u001b[0;34m(\u001b[0m\u001b[0mpd\u001b[0m\u001b[0;34m.\u001b[0m\u001b[0mSeries\u001b[0m\u001b[0;34m(\u001b[0m\u001b[0mout_dw\u001b[0m\u001b[0;34m)\u001b[0m\u001b[0;34m,\u001b[0m \u001b[0mdf\u001b[0m\u001b[0;34m.\u001b[0m\u001b[0mix\u001b[0m\u001b[0;34m[\u001b[0m\u001b[0mall_homes\u001b[0m\u001b[0;34m[\u001b[0m\u001b[0;34m'dw'\u001b[0m\u001b[0;34m]\u001b[0m\u001b[0;34m]\u001b[0m\u001b[0;34m.\u001b[0m\u001b[0mbet_500_1000\u001b[0m\u001b[0;34m)\u001b[0m\u001b[0;34m\u001b[0m\u001b[0m\n\u001b[0m\u001b[1;32m      4\u001b[0m \u001b[0;31m#.corr(df.ix[all_homes['dw']].bet_500_1000)\u001b[0m\u001b[0;34m\u001b[0m\u001b[0;34m\u001b[0m\u001b[0m\n",
      "\u001b[0;32m/Users/nipunbatra/anaconda/lib/python2.7/site-packages/matplotlib/pyplot.pyc\u001b[0m in \u001b[0;36mscatter\u001b[0;34m(x, y, s, c, marker, cmap, norm, vmin, vmax, alpha, linewidths, verts, hold, **kwargs)\u001b[0m\n\u001b[1;32m   3198\u001b[0m         ret = ax.scatter(x, y, s=s, c=c, marker=marker, cmap=cmap, norm=norm,\n\u001b[1;32m   3199\u001b[0m                          \u001b[0mvmin\u001b[0m\u001b[0;34m=\u001b[0m\u001b[0mvmin\u001b[0m\u001b[0;34m,\u001b[0m \u001b[0mvmax\u001b[0m\u001b[0;34m=\u001b[0m\u001b[0mvmax\u001b[0m\u001b[0;34m,\u001b[0m \u001b[0malpha\u001b[0m\u001b[0;34m=\u001b[0m\u001b[0malpha\u001b[0m\u001b[0;34m,\u001b[0m\u001b[0;34m\u001b[0m\u001b[0m\n\u001b[0;32m-> 3200\u001b[0;31m                          linewidths=linewidths, verts=verts, **kwargs)\n\u001b[0m\u001b[1;32m   3201\u001b[0m         \u001b[0mdraw_if_interactive\u001b[0m\u001b[0;34m(\u001b[0m\u001b[0;34m)\u001b[0m\u001b[0;34m\u001b[0m\u001b[0m\n\u001b[1;32m   3202\u001b[0m     \u001b[0;32mfinally\u001b[0m\u001b[0;34m:\u001b[0m\u001b[0;34m\u001b[0m\u001b[0m\n",
      "\u001b[0;32m/Users/nipunbatra/anaconda/lib/python2.7/site-packages/matplotlib/axes/_axes.pyc\u001b[0m in \u001b[0;36mscatter\u001b[0;34m(self, x, y, s, c, marker, cmap, norm, vmin, vmax, alpha, linewidths, verts, **kwargs)\u001b[0m\n\u001b[1;32m   3672\u001b[0m             \u001b[0mself\u001b[0m\u001b[0;34m.\u001b[0m\u001b[0mset_ymargin\u001b[0m\u001b[0;34m(\u001b[0m\u001b[0;36m0.05\u001b[0m\u001b[0;34m)\u001b[0m\u001b[0;34m\u001b[0m\u001b[0m\n\u001b[1;32m   3673\u001b[0m \u001b[0;34m\u001b[0m\u001b[0m\n\u001b[0;32m-> 3674\u001b[0;31m         \u001b[0mself\u001b[0m\u001b[0;34m.\u001b[0m\u001b[0madd_collection\u001b[0m\u001b[0;34m(\u001b[0m\u001b[0mcollection\u001b[0m\u001b[0;34m)\u001b[0m\u001b[0;34m\u001b[0m\u001b[0m\n\u001b[0m\u001b[1;32m   3675\u001b[0m         \u001b[0mself\u001b[0m\u001b[0;34m.\u001b[0m\u001b[0mautoscale_view\u001b[0m\u001b[0;34m(\u001b[0m\u001b[0;34m)\u001b[0m\u001b[0;34m\u001b[0m\u001b[0m\n\u001b[1;32m   3676\u001b[0m \u001b[0;34m\u001b[0m\u001b[0m\n",
      "\u001b[0;32m/Users/nipunbatra/anaconda/lib/python2.7/site-packages/matplotlib/axes/_base.pyc\u001b[0m in \u001b[0;36madd_collection\u001b[0;34m(self, collection, autolim)\u001b[0m\n\u001b[1;32m   1475\u001b[0m \u001b[0;34m\u001b[0m\u001b[0m\n\u001b[1;32m   1476\u001b[0m         \u001b[0;32mif\u001b[0m \u001b[0mautolim\u001b[0m\u001b[0;34m:\u001b[0m\u001b[0;34m\u001b[0m\u001b[0m\n\u001b[0;32m-> 1477\u001b[0;31m             \u001b[0mself\u001b[0m\u001b[0;34m.\u001b[0m\u001b[0mupdate_datalim\u001b[0m\u001b[0;34m(\u001b[0m\u001b[0mcollection\u001b[0m\u001b[0;34m.\u001b[0m\u001b[0mget_datalim\u001b[0m\u001b[0;34m(\u001b[0m\u001b[0mself\u001b[0m\u001b[0;34m.\u001b[0m\u001b[0mtransData\u001b[0m\u001b[0;34m)\u001b[0m\u001b[0;34m)\u001b[0m\u001b[0;34m\u001b[0m\u001b[0m\n\u001b[0m\u001b[1;32m   1478\u001b[0m \u001b[0;34m\u001b[0m\u001b[0m\n\u001b[1;32m   1479\u001b[0m         \u001b[0mcollection\u001b[0m\u001b[0;34m.\u001b[0m\u001b[0m_remove_method\u001b[0m \u001b[0;34m=\u001b[0m \u001b[0;32mlambda\u001b[0m \u001b[0mh\u001b[0m\u001b[0;34m:\u001b[0m \u001b[0mself\u001b[0m\u001b[0;34m.\u001b[0m\u001b[0mcollections\u001b[0m\u001b[0;34m.\u001b[0m\u001b[0mremove\u001b[0m\u001b[0;34m(\u001b[0m\u001b[0mh\u001b[0m\u001b[0;34m)\u001b[0m\u001b[0;34m\u001b[0m\u001b[0m\n",
      "\u001b[0;32m/Users/nipunbatra/anaconda/lib/python2.7/site-packages/matplotlib/collections.pyc\u001b[0m in \u001b[0;36mget_datalim\u001b[0;34m(self, transData)\u001b[0m\n\u001b[1;32m    190\u001b[0m             \u001b[0mtransOffset\u001b[0m \u001b[0;34m=\u001b[0m \u001b[0mtransOffset\u001b[0m\u001b[0;34m.\u001b[0m\u001b[0mget_affine\u001b[0m\u001b[0;34m(\u001b[0m\u001b[0;34m)\u001b[0m\u001b[0;34m\u001b[0m\u001b[0m\n\u001b[1;32m    191\u001b[0m \u001b[0;34m\u001b[0m\u001b[0m\n\u001b[0;32m--> 192\u001b[0;31m         \u001b[0moffsets\u001b[0m \u001b[0;34m=\u001b[0m \u001b[0mnp\u001b[0m\u001b[0;34m.\u001b[0m\u001b[0masanyarray\u001b[0m\u001b[0;34m(\u001b[0m\u001b[0moffsets\u001b[0m\u001b[0;34m,\u001b[0m \u001b[0mnp\u001b[0m\u001b[0;34m.\u001b[0m\u001b[0mfloat_\u001b[0m\u001b[0;34m)\u001b[0m\u001b[0;34m\u001b[0m\u001b[0m\n\u001b[0m\u001b[1;32m    193\u001b[0m         \u001b[0;32mif\u001b[0m \u001b[0mnp\u001b[0m\u001b[0;34m.\u001b[0m\u001b[0mma\u001b[0m\u001b[0;34m.\u001b[0m\u001b[0misMaskedArray\u001b[0m\u001b[0;34m(\u001b[0m\u001b[0moffsets\u001b[0m\u001b[0;34m)\u001b[0m\u001b[0;34m:\u001b[0m\u001b[0;34m\u001b[0m\u001b[0m\n\u001b[1;32m    194\u001b[0m             \u001b[0moffsets\u001b[0m \u001b[0;34m=\u001b[0m \u001b[0moffsets\u001b[0m\u001b[0;34m.\u001b[0m\u001b[0mfilled\u001b[0m\u001b[0;34m(\u001b[0m\u001b[0mnp\u001b[0m\u001b[0;34m.\u001b[0m\u001b[0mnan\u001b[0m\u001b[0;34m)\u001b[0m\u001b[0;34m\u001b[0m\u001b[0m\n",
      "\u001b[0;32m/Users/nipunbatra/anaconda/lib/python2.7/site-packages/numpy/core/numeric.pyc\u001b[0m in \u001b[0;36masanyarray\u001b[0;34m(a, dtype, order)\u001b[0m\n\u001b[1;32m    523\u001b[0m \u001b[0;34m\u001b[0m\u001b[0m\n\u001b[1;32m    524\u001b[0m     \"\"\"\n\u001b[0;32m--> 525\u001b[0;31m     \u001b[0;32mreturn\u001b[0m \u001b[0marray\u001b[0m\u001b[0;34m(\u001b[0m\u001b[0ma\u001b[0m\u001b[0;34m,\u001b[0m \u001b[0mdtype\u001b[0m\u001b[0;34m,\u001b[0m \u001b[0mcopy\u001b[0m\u001b[0;34m=\u001b[0m\u001b[0mFalse\u001b[0m\u001b[0;34m,\u001b[0m \u001b[0morder\u001b[0m\u001b[0;34m=\u001b[0m\u001b[0morder\u001b[0m\u001b[0;34m,\u001b[0m \u001b[0msubok\u001b[0m\u001b[0;34m=\u001b[0m\u001b[0mTrue\u001b[0m\u001b[0;34m)\u001b[0m\u001b[0;34m\u001b[0m\u001b[0m\n\u001b[0m\u001b[1;32m    526\u001b[0m \u001b[0;34m\u001b[0m\u001b[0m\n\u001b[1;32m    527\u001b[0m \u001b[0;32mdef\u001b[0m \u001b[0mascontiguousarray\u001b[0m\u001b[0;34m(\u001b[0m\u001b[0ma\u001b[0m\u001b[0;34m,\u001b[0m \u001b[0mdtype\u001b[0m\u001b[0;34m=\u001b[0m\u001b[0mNone\u001b[0m\u001b[0;34m)\u001b[0m\u001b[0;34m:\u001b[0m\u001b[0;34m\u001b[0m\u001b[0m\n",
      "\u001b[0;31mTypeError\u001b[0m: float() argument must be a string or a number"
     ]
    },
    {
     "ename": "TypeError",
     "evalue": "float() argument must be a string or a number",
     "output_type": "error",
     "traceback": [
      "\u001b[0;31m---------------------------------------------------------------------------\u001b[0m",
      "\u001b[0;31mTypeError\u001b[0m                                 Traceback (most recent call last)",
      "\u001b[0;32m/Users/nipunbatra/anaconda/lib/python2.7/site-packages/IPython/core/formatters.pyc\u001b[0m in \u001b[0;36m__call__\u001b[0;34m(self, obj)\u001b[0m\n\u001b[1;32m    328\u001b[0m                 \u001b[0;32mpass\u001b[0m\u001b[0;34m\u001b[0m\u001b[0m\n\u001b[1;32m    329\u001b[0m             \u001b[0;32melse\u001b[0m\u001b[0;34m:\u001b[0m\u001b[0;34m\u001b[0m\u001b[0m\n\u001b[0;32m--> 330\u001b[0;31m                 \u001b[0;32mreturn\u001b[0m \u001b[0mprinter\u001b[0m\u001b[0;34m(\u001b[0m\u001b[0mobj\u001b[0m\u001b[0;34m)\u001b[0m\u001b[0;34m\u001b[0m\u001b[0m\n\u001b[0m\u001b[1;32m    331\u001b[0m             \u001b[0;31m# Finally look for special method names\u001b[0m\u001b[0;34m\u001b[0m\u001b[0;34m\u001b[0m\u001b[0m\n\u001b[1;32m    332\u001b[0m             \u001b[0mmethod\u001b[0m \u001b[0;34m=\u001b[0m \u001b[0m_safe_get_formatter_method\u001b[0m\u001b[0;34m(\u001b[0m\u001b[0mobj\u001b[0m\u001b[0;34m,\u001b[0m \u001b[0mself\u001b[0m\u001b[0;34m.\u001b[0m\u001b[0mprint_method\u001b[0m\u001b[0;34m)\u001b[0m\u001b[0;34m\u001b[0m\u001b[0m\n",
      "\u001b[0;32m/Users/nipunbatra/anaconda/lib/python2.7/site-packages/IPython/core/pylabtools.pyc\u001b[0m in \u001b[0;36m<lambda>\u001b[0;34m(fig)\u001b[0m\n\u001b[1;32m    205\u001b[0m \u001b[0;34m\u001b[0m\u001b[0m\n\u001b[1;32m    206\u001b[0m     \u001b[0;32mif\u001b[0m \u001b[0;34m'png'\u001b[0m \u001b[0;32min\u001b[0m \u001b[0mformats\u001b[0m\u001b[0;34m:\u001b[0m\u001b[0;34m\u001b[0m\u001b[0m\n\u001b[0;32m--> 207\u001b[0;31m         \u001b[0mpng_formatter\u001b[0m\u001b[0;34m.\u001b[0m\u001b[0mfor_type\u001b[0m\u001b[0;34m(\u001b[0m\u001b[0mFigure\u001b[0m\u001b[0;34m,\u001b[0m \u001b[0;32mlambda\u001b[0m \u001b[0mfig\u001b[0m\u001b[0;34m:\u001b[0m \u001b[0mprint_figure\u001b[0m\u001b[0;34m(\u001b[0m\u001b[0mfig\u001b[0m\u001b[0;34m,\u001b[0m \u001b[0;34m'png'\u001b[0m\u001b[0;34m,\u001b[0m \u001b[0;34m**\u001b[0m\u001b[0mkwargs\u001b[0m\u001b[0;34m)\u001b[0m\u001b[0;34m)\u001b[0m\u001b[0;34m\u001b[0m\u001b[0m\n\u001b[0m\u001b[1;32m    208\u001b[0m     \u001b[0;32mif\u001b[0m \u001b[0;34m'retina'\u001b[0m \u001b[0;32min\u001b[0m \u001b[0mformats\u001b[0m \u001b[0;32mor\u001b[0m \u001b[0;34m'png2x'\u001b[0m \u001b[0;32min\u001b[0m \u001b[0mformats\u001b[0m\u001b[0;34m:\u001b[0m\u001b[0;34m\u001b[0m\u001b[0m\n\u001b[1;32m    209\u001b[0m         \u001b[0mpng_formatter\u001b[0m\u001b[0;34m.\u001b[0m\u001b[0mfor_type\u001b[0m\u001b[0;34m(\u001b[0m\u001b[0mFigure\u001b[0m\u001b[0;34m,\u001b[0m \u001b[0;32mlambda\u001b[0m \u001b[0mfig\u001b[0m\u001b[0;34m:\u001b[0m \u001b[0mretina_figure\u001b[0m\u001b[0;34m(\u001b[0m\u001b[0mfig\u001b[0m\u001b[0;34m,\u001b[0m \u001b[0;34m**\u001b[0m\u001b[0mkwargs\u001b[0m\u001b[0;34m)\u001b[0m\u001b[0;34m)\u001b[0m\u001b[0;34m\u001b[0m\u001b[0m\n",
      "\u001b[0;32m/Users/nipunbatra/anaconda/lib/python2.7/site-packages/IPython/core/pylabtools.pyc\u001b[0m in \u001b[0;36mprint_figure\u001b[0;34m(fig, fmt, bbox_inches, **kwargs)\u001b[0m\n\u001b[1;32m    115\u001b[0m \u001b[0;34m\u001b[0m\u001b[0m\n\u001b[1;32m    116\u001b[0m     \u001b[0mbytes_io\u001b[0m \u001b[0;34m=\u001b[0m \u001b[0mBytesIO\u001b[0m\u001b[0;34m(\u001b[0m\u001b[0;34m)\u001b[0m\u001b[0;34m\u001b[0m\u001b[0m\n\u001b[0;32m--> 117\u001b[0;31m     \u001b[0mfig\u001b[0m\u001b[0;34m.\u001b[0m\u001b[0mcanvas\u001b[0m\u001b[0;34m.\u001b[0m\u001b[0mprint_figure\u001b[0m\u001b[0;34m(\u001b[0m\u001b[0mbytes_io\u001b[0m\u001b[0;34m,\u001b[0m \u001b[0;34m**\u001b[0m\u001b[0mkw\u001b[0m\u001b[0;34m)\u001b[0m\u001b[0;34m\u001b[0m\u001b[0m\n\u001b[0m\u001b[1;32m    118\u001b[0m     \u001b[0mdata\u001b[0m \u001b[0;34m=\u001b[0m \u001b[0mbytes_io\u001b[0m\u001b[0;34m.\u001b[0m\u001b[0mgetvalue\u001b[0m\u001b[0;34m(\u001b[0m\u001b[0;34m)\u001b[0m\u001b[0;34m\u001b[0m\u001b[0m\n\u001b[1;32m    119\u001b[0m     \u001b[0;32mif\u001b[0m \u001b[0mfmt\u001b[0m \u001b[0;34m==\u001b[0m \u001b[0;34m'svg'\u001b[0m\u001b[0;34m:\u001b[0m\u001b[0;34m\u001b[0m\u001b[0m\n",
      "\u001b[0;32m/Users/nipunbatra/anaconda/lib/python2.7/site-packages/matplotlib/backend_bases.pyc\u001b[0m in \u001b[0;36mprint_figure\u001b[0;34m(self, filename, dpi, facecolor, edgecolor, orientation, format, **kwargs)\u001b[0m\n\u001b[1;32m   2156\u001b[0m                     \u001b[0morientation\u001b[0m\u001b[0;34m=\u001b[0m\u001b[0morientation\u001b[0m\u001b[0;34m,\u001b[0m\u001b[0;34m\u001b[0m\u001b[0m\n\u001b[1;32m   2157\u001b[0m                     \u001b[0mdryrun\u001b[0m\u001b[0;34m=\u001b[0m\u001b[0mTrue\u001b[0m\u001b[0;34m,\u001b[0m\u001b[0;34m\u001b[0m\u001b[0m\n\u001b[0;32m-> 2158\u001b[0;31m                     **kwargs)\n\u001b[0m\u001b[1;32m   2159\u001b[0m                 \u001b[0mrenderer\u001b[0m \u001b[0;34m=\u001b[0m \u001b[0mself\u001b[0m\u001b[0;34m.\u001b[0m\u001b[0mfigure\u001b[0m\u001b[0;34m.\u001b[0m\u001b[0m_cachedRenderer\u001b[0m\u001b[0;34m\u001b[0m\u001b[0m\n\u001b[1;32m   2160\u001b[0m                 \u001b[0mbbox_inches\u001b[0m \u001b[0;34m=\u001b[0m \u001b[0mself\u001b[0m\u001b[0;34m.\u001b[0m\u001b[0mfigure\u001b[0m\u001b[0;34m.\u001b[0m\u001b[0mget_tightbbox\u001b[0m\u001b[0;34m(\u001b[0m\u001b[0mrenderer\u001b[0m\u001b[0;34m)\u001b[0m\u001b[0;34m\u001b[0m\u001b[0m\n",
      "\u001b[0;32m/Users/nipunbatra/anaconda/lib/python2.7/site-packages/matplotlib/backends/backend_agg.pyc\u001b[0m in \u001b[0;36mprint_png\u001b[0;34m(self, filename_or_obj, *args, **kwargs)\u001b[0m\n\u001b[1;32m    519\u001b[0m \u001b[0;34m\u001b[0m\u001b[0m\n\u001b[1;32m    520\u001b[0m     \u001b[0;32mdef\u001b[0m \u001b[0mprint_png\u001b[0m\u001b[0;34m(\u001b[0m\u001b[0mself\u001b[0m\u001b[0;34m,\u001b[0m \u001b[0mfilename_or_obj\u001b[0m\u001b[0;34m,\u001b[0m \u001b[0;34m*\u001b[0m\u001b[0margs\u001b[0m\u001b[0;34m,\u001b[0m \u001b[0;34m**\u001b[0m\u001b[0mkwargs\u001b[0m\u001b[0;34m)\u001b[0m\u001b[0;34m:\u001b[0m\u001b[0;34m\u001b[0m\u001b[0m\n\u001b[0;32m--> 521\u001b[0;31m         \u001b[0mFigureCanvasAgg\u001b[0m\u001b[0;34m.\u001b[0m\u001b[0mdraw\u001b[0m\u001b[0;34m(\u001b[0m\u001b[0mself\u001b[0m\u001b[0;34m)\u001b[0m\u001b[0;34m\u001b[0m\u001b[0m\n\u001b[0m\u001b[1;32m    522\u001b[0m         \u001b[0mrenderer\u001b[0m \u001b[0;34m=\u001b[0m \u001b[0mself\u001b[0m\u001b[0;34m.\u001b[0m\u001b[0mget_renderer\u001b[0m\u001b[0;34m(\u001b[0m\u001b[0;34m)\u001b[0m\u001b[0;34m\u001b[0m\u001b[0m\n\u001b[1;32m    523\u001b[0m         \u001b[0moriginal_dpi\u001b[0m \u001b[0;34m=\u001b[0m \u001b[0mrenderer\u001b[0m\u001b[0;34m.\u001b[0m\u001b[0mdpi\u001b[0m\u001b[0;34m\u001b[0m\u001b[0m\n",
      "\u001b[0;32m/Users/nipunbatra/anaconda/lib/python2.7/site-packages/matplotlib/backends/backend_agg.pyc\u001b[0m in \u001b[0;36mdraw\u001b[0;34m(self)\u001b[0m\n\u001b[1;32m    467\u001b[0m \u001b[0;34m\u001b[0m\u001b[0m\n\u001b[1;32m    468\u001b[0m         \u001b[0;32mtry\u001b[0m\u001b[0;34m:\u001b[0m\u001b[0;34m\u001b[0m\u001b[0m\n\u001b[0;32m--> 469\u001b[0;31m             \u001b[0mself\u001b[0m\u001b[0;34m.\u001b[0m\u001b[0mfigure\u001b[0m\u001b[0;34m.\u001b[0m\u001b[0mdraw\u001b[0m\u001b[0;34m(\u001b[0m\u001b[0mself\u001b[0m\u001b[0;34m.\u001b[0m\u001b[0mrenderer\u001b[0m\u001b[0;34m)\u001b[0m\u001b[0;34m\u001b[0m\u001b[0m\n\u001b[0m\u001b[1;32m    470\u001b[0m         \u001b[0;32mfinally\u001b[0m\u001b[0;34m:\u001b[0m\u001b[0;34m\u001b[0m\u001b[0m\n\u001b[1;32m    471\u001b[0m             \u001b[0mRendererAgg\u001b[0m\u001b[0;34m.\u001b[0m\u001b[0mlock\u001b[0m\u001b[0;34m.\u001b[0m\u001b[0mrelease\u001b[0m\u001b[0;34m(\u001b[0m\u001b[0;34m)\u001b[0m\u001b[0;34m\u001b[0m\u001b[0m\n",
      "\u001b[0;32m/Users/nipunbatra/anaconda/lib/python2.7/site-packages/matplotlib/artist.pyc\u001b[0m in \u001b[0;36mdraw_wrapper\u001b[0;34m(artist, renderer, *args, **kwargs)\u001b[0m\n\u001b[1;32m     57\u001b[0m     \u001b[0;32mdef\u001b[0m \u001b[0mdraw_wrapper\u001b[0m\u001b[0;34m(\u001b[0m\u001b[0martist\u001b[0m\u001b[0;34m,\u001b[0m \u001b[0mrenderer\u001b[0m\u001b[0;34m,\u001b[0m \u001b[0;34m*\u001b[0m\u001b[0margs\u001b[0m\u001b[0;34m,\u001b[0m \u001b[0;34m**\u001b[0m\u001b[0mkwargs\u001b[0m\u001b[0;34m)\u001b[0m\u001b[0;34m:\u001b[0m\u001b[0;34m\u001b[0m\u001b[0m\n\u001b[1;32m     58\u001b[0m         \u001b[0mbefore\u001b[0m\u001b[0;34m(\u001b[0m\u001b[0martist\u001b[0m\u001b[0;34m,\u001b[0m \u001b[0mrenderer\u001b[0m\u001b[0;34m)\u001b[0m\u001b[0;34m\u001b[0m\u001b[0m\n\u001b[0;32m---> 59\u001b[0;31m         \u001b[0mdraw\u001b[0m\u001b[0;34m(\u001b[0m\u001b[0martist\u001b[0m\u001b[0;34m,\u001b[0m \u001b[0mrenderer\u001b[0m\u001b[0;34m,\u001b[0m \u001b[0;34m*\u001b[0m\u001b[0margs\u001b[0m\u001b[0;34m,\u001b[0m \u001b[0;34m**\u001b[0m\u001b[0mkwargs\u001b[0m\u001b[0;34m)\u001b[0m\u001b[0;34m\u001b[0m\u001b[0m\n\u001b[0m\u001b[1;32m     60\u001b[0m         \u001b[0mafter\u001b[0m\u001b[0;34m(\u001b[0m\u001b[0martist\u001b[0m\u001b[0;34m,\u001b[0m \u001b[0mrenderer\u001b[0m\u001b[0;34m)\u001b[0m\u001b[0;34m\u001b[0m\u001b[0m\n\u001b[1;32m     61\u001b[0m \u001b[0;34m\u001b[0m\u001b[0m\n",
      "\u001b[0;32m/Users/nipunbatra/anaconda/lib/python2.7/site-packages/matplotlib/figure.pyc\u001b[0m in \u001b[0;36mdraw\u001b[0;34m(self, renderer)\u001b[0m\n\u001b[1;32m   1083\u001b[0m         \u001b[0mdsu\u001b[0m\u001b[0;34m.\u001b[0m\u001b[0msort\u001b[0m\u001b[0;34m(\u001b[0m\u001b[0mkey\u001b[0m\u001b[0;34m=\u001b[0m\u001b[0mitemgetter\u001b[0m\u001b[0;34m(\u001b[0m\u001b[0;36m0\u001b[0m\u001b[0;34m)\u001b[0m\u001b[0;34m)\u001b[0m\u001b[0;34m\u001b[0m\u001b[0m\n\u001b[1;32m   1084\u001b[0m         \u001b[0;32mfor\u001b[0m \u001b[0mzorder\u001b[0m\u001b[0;34m,\u001b[0m \u001b[0ma\u001b[0m\u001b[0;34m,\u001b[0m \u001b[0mfunc\u001b[0m\u001b[0;34m,\u001b[0m \u001b[0margs\u001b[0m \u001b[0;32min\u001b[0m \u001b[0mdsu\u001b[0m\u001b[0;34m:\u001b[0m\u001b[0;34m\u001b[0m\u001b[0m\n\u001b[0;32m-> 1085\u001b[0;31m             \u001b[0mfunc\u001b[0m\u001b[0;34m(\u001b[0m\u001b[0;34m*\u001b[0m\u001b[0margs\u001b[0m\u001b[0;34m)\u001b[0m\u001b[0;34m\u001b[0m\u001b[0m\n\u001b[0m\u001b[1;32m   1086\u001b[0m \u001b[0;34m\u001b[0m\u001b[0m\n\u001b[1;32m   1087\u001b[0m         \u001b[0mrenderer\u001b[0m\u001b[0;34m.\u001b[0m\u001b[0mclose_group\u001b[0m\u001b[0;34m(\u001b[0m\u001b[0;34m'figure'\u001b[0m\u001b[0;34m)\u001b[0m\u001b[0;34m\u001b[0m\u001b[0m\n",
      "\u001b[0;32m/Users/nipunbatra/anaconda/lib/python2.7/site-packages/matplotlib/artist.pyc\u001b[0m in \u001b[0;36mdraw_wrapper\u001b[0;34m(artist, renderer, *args, **kwargs)\u001b[0m\n\u001b[1;32m     57\u001b[0m     \u001b[0;32mdef\u001b[0m \u001b[0mdraw_wrapper\u001b[0m\u001b[0;34m(\u001b[0m\u001b[0martist\u001b[0m\u001b[0;34m,\u001b[0m \u001b[0mrenderer\u001b[0m\u001b[0;34m,\u001b[0m \u001b[0;34m*\u001b[0m\u001b[0margs\u001b[0m\u001b[0;34m,\u001b[0m \u001b[0;34m**\u001b[0m\u001b[0mkwargs\u001b[0m\u001b[0;34m)\u001b[0m\u001b[0;34m:\u001b[0m\u001b[0;34m\u001b[0m\u001b[0m\n\u001b[1;32m     58\u001b[0m         \u001b[0mbefore\u001b[0m\u001b[0;34m(\u001b[0m\u001b[0martist\u001b[0m\u001b[0;34m,\u001b[0m \u001b[0mrenderer\u001b[0m\u001b[0;34m)\u001b[0m\u001b[0;34m\u001b[0m\u001b[0m\n\u001b[0;32m---> 59\u001b[0;31m         \u001b[0mdraw\u001b[0m\u001b[0;34m(\u001b[0m\u001b[0martist\u001b[0m\u001b[0;34m,\u001b[0m \u001b[0mrenderer\u001b[0m\u001b[0;34m,\u001b[0m \u001b[0;34m*\u001b[0m\u001b[0margs\u001b[0m\u001b[0;34m,\u001b[0m \u001b[0;34m**\u001b[0m\u001b[0mkwargs\u001b[0m\u001b[0;34m)\u001b[0m\u001b[0;34m\u001b[0m\u001b[0m\n\u001b[0m\u001b[1;32m     60\u001b[0m         \u001b[0mafter\u001b[0m\u001b[0;34m(\u001b[0m\u001b[0martist\u001b[0m\u001b[0;34m,\u001b[0m \u001b[0mrenderer\u001b[0m\u001b[0;34m)\u001b[0m\u001b[0;34m\u001b[0m\u001b[0m\n\u001b[1;32m     61\u001b[0m \u001b[0;34m\u001b[0m\u001b[0m\n",
      "\u001b[0;32m/Users/nipunbatra/anaconda/lib/python2.7/site-packages/matplotlib/axes/_base.pyc\u001b[0m in \u001b[0;36mdraw\u001b[0;34m(self, renderer, inframe)\u001b[0m\n\u001b[1;32m   2108\u001b[0m \u001b[0;34m\u001b[0m\u001b[0m\n\u001b[1;32m   2109\u001b[0m         \u001b[0;32mfor\u001b[0m \u001b[0mzorder\u001b[0m\u001b[0;34m,\u001b[0m \u001b[0ma\u001b[0m \u001b[0;32min\u001b[0m \u001b[0mdsu\u001b[0m\u001b[0;34m:\u001b[0m\u001b[0;34m\u001b[0m\u001b[0m\n\u001b[0;32m-> 2110\u001b[0;31m             \u001b[0ma\u001b[0m\u001b[0;34m.\u001b[0m\u001b[0mdraw\u001b[0m\u001b[0;34m(\u001b[0m\u001b[0mrenderer\u001b[0m\u001b[0;34m)\u001b[0m\u001b[0;34m\u001b[0m\u001b[0m\n\u001b[0m\u001b[1;32m   2111\u001b[0m \u001b[0;34m\u001b[0m\u001b[0m\n\u001b[1;32m   2112\u001b[0m         \u001b[0mrenderer\u001b[0m\u001b[0;34m.\u001b[0m\u001b[0mclose_group\u001b[0m\u001b[0;34m(\u001b[0m\u001b[0;34m'axes'\u001b[0m\u001b[0;34m)\u001b[0m\u001b[0;34m\u001b[0m\u001b[0m\n",
      "\u001b[0;32m/Users/nipunbatra/anaconda/lib/python2.7/site-packages/matplotlib/artist.pyc\u001b[0m in \u001b[0;36mdraw_wrapper\u001b[0;34m(artist, renderer, *args, **kwargs)\u001b[0m\n\u001b[1;32m     57\u001b[0m     \u001b[0;32mdef\u001b[0m \u001b[0mdraw_wrapper\u001b[0m\u001b[0;34m(\u001b[0m\u001b[0martist\u001b[0m\u001b[0;34m,\u001b[0m \u001b[0mrenderer\u001b[0m\u001b[0;34m,\u001b[0m \u001b[0;34m*\u001b[0m\u001b[0margs\u001b[0m\u001b[0;34m,\u001b[0m \u001b[0;34m**\u001b[0m\u001b[0mkwargs\u001b[0m\u001b[0;34m)\u001b[0m\u001b[0;34m:\u001b[0m\u001b[0;34m\u001b[0m\u001b[0m\n\u001b[1;32m     58\u001b[0m         \u001b[0mbefore\u001b[0m\u001b[0;34m(\u001b[0m\u001b[0martist\u001b[0m\u001b[0;34m,\u001b[0m \u001b[0mrenderer\u001b[0m\u001b[0;34m)\u001b[0m\u001b[0;34m\u001b[0m\u001b[0m\n\u001b[0;32m---> 59\u001b[0;31m         \u001b[0mdraw\u001b[0m\u001b[0;34m(\u001b[0m\u001b[0martist\u001b[0m\u001b[0;34m,\u001b[0m \u001b[0mrenderer\u001b[0m\u001b[0;34m,\u001b[0m \u001b[0;34m*\u001b[0m\u001b[0margs\u001b[0m\u001b[0;34m,\u001b[0m \u001b[0;34m**\u001b[0m\u001b[0mkwargs\u001b[0m\u001b[0;34m)\u001b[0m\u001b[0;34m\u001b[0m\u001b[0m\n\u001b[0m\u001b[1;32m     60\u001b[0m         \u001b[0mafter\u001b[0m\u001b[0;34m(\u001b[0m\u001b[0martist\u001b[0m\u001b[0;34m,\u001b[0m \u001b[0mrenderer\u001b[0m\u001b[0;34m)\u001b[0m\u001b[0;34m\u001b[0m\u001b[0m\n\u001b[1;32m     61\u001b[0m \u001b[0;34m\u001b[0m\u001b[0m\n",
      "\u001b[0;32m/Users/nipunbatra/anaconda/lib/python2.7/site-packages/matplotlib/collections.pyc\u001b[0m in \u001b[0;36mdraw\u001b[0;34m(self, renderer)\u001b[0m\n\u001b[1;32m    770\u001b[0m     \u001b[0;32mdef\u001b[0m \u001b[0mdraw\u001b[0m\u001b[0;34m(\u001b[0m\u001b[0mself\u001b[0m\u001b[0;34m,\u001b[0m \u001b[0mrenderer\u001b[0m\u001b[0;34m)\u001b[0m\u001b[0;34m:\u001b[0m\u001b[0;34m\u001b[0m\u001b[0m\n\u001b[1;32m    771\u001b[0m         \u001b[0mself\u001b[0m\u001b[0;34m.\u001b[0m\u001b[0mset_sizes\u001b[0m\u001b[0;34m(\u001b[0m\u001b[0mself\u001b[0m\u001b[0;34m.\u001b[0m\u001b[0m_sizes\u001b[0m\u001b[0;34m,\u001b[0m \u001b[0mself\u001b[0m\u001b[0;34m.\u001b[0m\u001b[0mfigure\u001b[0m\u001b[0;34m.\u001b[0m\u001b[0mdpi\u001b[0m\u001b[0;34m)\u001b[0m\u001b[0;34m\u001b[0m\u001b[0m\n\u001b[0;32m--> 772\u001b[0;31m         \u001b[0mCollection\u001b[0m\u001b[0;34m.\u001b[0m\u001b[0mdraw\u001b[0m\u001b[0;34m(\u001b[0m\u001b[0mself\u001b[0m\u001b[0;34m,\u001b[0m \u001b[0mrenderer\u001b[0m\u001b[0;34m)\u001b[0m\u001b[0;34m\u001b[0m\u001b[0m\n\u001b[0m\u001b[1;32m    773\u001b[0m \u001b[0;34m\u001b[0m\u001b[0m\n\u001b[1;32m    774\u001b[0m \u001b[0;34m\u001b[0m\u001b[0m\n",
      "\u001b[0;32m/Users/nipunbatra/anaconda/lib/python2.7/site-packages/matplotlib/artist.pyc\u001b[0m in \u001b[0;36mdraw_wrapper\u001b[0;34m(artist, renderer, *args, **kwargs)\u001b[0m\n\u001b[1;32m     57\u001b[0m     \u001b[0;32mdef\u001b[0m \u001b[0mdraw_wrapper\u001b[0m\u001b[0;34m(\u001b[0m\u001b[0martist\u001b[0m\u001b[0;34m,\u001b[0m \u001b[0mrenderer\u001b[0m\u001b[0;34m,\u001b[0m \u001b[0;34m*\u001b[0m\u001b[0margs\u001b[0m\u001b[0;34m,\u001b[0m \u001b[0;34m**\u001b[0m\u001b[0mkwargs\u001b[0m\u001b[0;34m)\u001b[0m\u001b[0;34m:\u001b[0m\u001b[0;34m\u001b[0m\u001b[0m\n\u001b[1;32m     58\u001b[0m         \u001b[0mbefore\u001b[0m\u001b[0;34m(\u001b[0m\u001b[0martist\u001b[0m\u001b[0;34m,\u001b[0m \u001b[0mrenderer\u001b[0m\u001b[0;34m)\u001b[0m\u001b[0;34m\u001b[0m\u001b[0m\n\u001b[0;32m---> 59\u001b[0;31m         \u001b[0mdraw\u001b[0m\u001b[0;34m(\u001b[0m\u001b[0martist\u001b[0m\u001b[0;34m,\u001b[0m \u001b[0mrenderer\u001b[0m\u001b[0;34m,\u001b[0m \u001b[0;34m*\u001b[0m\u001b[0margs\u001b[0m\u001b[0;34m,\u001b[0m \u001b[0;34m**\u001b[0m\u001b[0mkwargs\u001b[0m\u001b[0;34m)\u001b[0m\u001b[0;34m\u001b[0m\u001b[0m\n\u001b[0m\u001b[1;32m     60\u001b[0m         \u001b[0mafter\u001b[0m\u001b[0;34m(\u001b[0m\u001b[0martist\u001b[0m\u001b[0;34m,\u001b[0m \u001b[0mrenderer\u001b[0m\u001b[0;34m)\u001b[0m\u001b[0;34m\u001b[0m\u001b[0m\n\u001b[1;32m     61\u001b[0m \u001b[0;34m\u001b[0m\u001b[0m\n",
      "\u001b[0;32m/Users/nipunbatra/anaconda/lib/python2.7/site-packages/matplotlib/collections.pyc\u001b[0m in \u001b[0;36mdraw\u001b[0;34m(self, renderer)\u001b[0m\n\u001b[1;32m    259\u001b[0m         \u001b[0mself\u001b[0m\u001b[0;34m.\u001b[0m\u001b[0mupdate_scalarmappable\u001b[0m\u001b[0;34m(\u001b[0m\u001b[0;34m)\u001b[0m\u001b[0;34m\u001b[0m\u001b[0m\n\u001b[1;32m    260\u001b[0m \u001b[0;34m\u001b[0m\u001b[0m\n\u001b[0;32m--> 261\u001b[0;31m         \u001b[0mtransform\u001b[0m\u001b[0;34m,\u001b[0m \u001b[0mtransOffset\u001b[0m\u001b[0;34m,\u001b[0m \u001b[0moffsets\u001b[0m\u001b[0;34m,\u001b[0m \u001b[0mpaths\u001b[0m \u001b[0;34m=\u001b[0m \u001b[0mself\u001b[0m\u001b[0;34m.\u001b[0m\u001b[0m_prepare_points\u001b[0m\u001b[0;34m(\u001b[0m\u001b[0;34m)\u001b[0m\u001b[0;34m\u001b[0m\u001b[0m\n\u001b[0m\u001b[1;32m    262\u001b[0m \u001b[0;34m\u001b[0m\u001b[0m\n\u001b[1;32m    263\u001b[0m         \u001b[0mgc\u001b[0m \u001b[0;34m=\u001b[0m \u001b[0mrenderer\u001b[0m\u001b[0;34m.\u001b[0m\u001b[0mnew_gc\u001b[0m\u001b[0;34m(\u001b[0m\u001b[0;34m)\u001b[0m\u001b[0;34m\u001b[0m\u001b[0m\n",
      "\u001b[0;32m/Users/nipunbatra/anaconda/lib/python2.7/site-packages/matplotlib/collections.pyc\u001b[0m in \u001b[0;36m_prepare_points\u001b[0;34m(self)\u001b[0m\n\u001b[1;32m    232\u001b[0m                 \u001b[0moffsets\u001b[0m \u001b[0;34m=\u001b[0m \u001b[0mlist\u001b[0m\u001b[0;34m(\u001b[0m\u001b[0mzip\u001b[0m\u001b[0;34m(\u001b[0m\u001b[0mxs\u001b[0m\u001b[0;34m,\u001b[0m \u001b[0mys\u001b[0m\u001b[0;34m)\u001b[0m\u001b[0;34m)\u001b[0m\u001b[0;34m\u001b[0m\u001b[0m\n\u001b[1;32m    233\u001b[0m \u001b[0;34m\u001b[0m\u001b[0m\n\u001b[0;32m--> 234\u001b[0;31m         \u001b[0moffsets\u001b[0m \u001b[0;34m=\u001b[0m \u001b[0mnp\u001b[0m\u001b[0;34m.\u001b[0m\u001b[0masanyarray\u001b[0m\u001b[0;34m(\u001b[0m\u001b[0moffsets\u001b[0m\u001b[0;34m,\u001b[0m \u001b[0mnp\u001b[0m\u001b[0;34m.\u001b[0m\u001b[0mfloat_\u001b[0m\u001b[0;34m)\u001b[0m\u001b[0;34m\u001b[0m\u001b[0m\n\u001b[0m\u001b[1;32m    235\u001b[0m         \u001b[0moffsets\u001b[0m\u001b[0;34m.\u001b[0m\u001b[0mshape\u001b[0m \u001b[0;34m=\u001b[0m \u001b[0;34m(\u001b[0m\u001b[0;34m-\u001b[0m\u001b[0;36m1\u001b[0m\u001b[0;34m,\u001b[0m \u001b[0;36m2\u001b[0m\u001b[0;34m)\u001b[0m             \u001b[0;31m# Make it Nx2\u001b[0m\u001b[0;34m\u001b[0m\u001b[0m\n\u001b[1;32m    236\u001b[0m \u001b[0;34m\u001b[0m\u001b[0m\n",
      "\u001b[0;32m/Users/nipunbatra/anaconda/lib/python2.7/site-packages/numpy/core/numeric.pyc\u001b[0m in \u001b[0;36masanyarray\u001b[0;34m(a, dtype, order)\u001b[0m\n\u001b[1;32m    523\u001b[0m \u001b[0;34m\u001b[0m\u001b[0m\n\u001b[1;32m    524\u001b[0m     \"\"\"\n\u001b[0;32m--> 525\u001b[0;31m     \u001b[0;32mreturn\u001b[0m \u001b[0marray\u001b[0m\u001b[0;34m(\u001b[0m\u001b[0ma\u001b[0m\u001b[0;34m,\u001b[0m \u001b[0mdtype\u001b[0m\u001b[0;34m,\u001b[0m \u001b[0mcopy\u001b[0m\u001b[0;34m=\u001b[0m\u001b[0mFalse\u001b[0m\u001b[0;34m,\u001b[0m \u001b[0morder\u001b[0m\u001b[0;34m=\u001b[0m\u001b[0morder\u001b[0m\u001b[0;34m,\u001b[0m \u001b[0msubok\u001b[0m\u001b[0;34m=\u001b[0m\u001b[0mTrue\u001b[0m\u001b[0;34m)\u001b[0m\u001b[0;34m\u001b[0m\u001b[0m\n\u001b[0m\u001b[1;32m    526\u001b[0m \u001b[0;34m\u001b[0m\u001b[0m\n\u001b[1;32m    527\u001b[0m \u001b[0;32mdef\u001b[0m \u001b[0mascontiguousarray\u001b[0m\u001b[0;34m(\u001b[0m\u001b[0ma\u001b[0m\u001b[0;34m,\u001b[0m \u001b[0mdtype\u001b[0m\u001b[0;34m=\u001b[0m\u001b[0mNone\u001b[0m\u001b[0;34m)\u001b[0m\u001b[0;34m:\u001b[0m\u001b[0;34m\u001b[0m\u001b[0m\n",
      "\u001b[0;31mTypeError\u001b[0m: float() argument must be a string or a number"
     ]
    },
    {
     "data": {
      "text/plain": [
       "<matplotlib.figure.Figure at 0x11c8e9650>"
      ]
     },
     "metadata": {},
     "output_type": "display_data"
    }
   ],
   "source": [
    "import matplotlib.pyplot as plt\n",
    "plt.style.use('fivethirtyeight')\n",
    "plt.scatter(pd.Series(out_dw), df.ix[all_homes['dw']].bet_500_1000)\n",
    "#.corr(df.ix[all_homes['dw']].bet_500_1000)"
   ]
  },
  {
   "cell_type": "code",
   "execution_count": 339,
   "metadata": {
    "collapsed": false
   },
   "outputs": [
    {
     "ename": "KeyError",
     "evalue": "'bet_500_1000'",
     "output_type": "error",
     "traceback": [
      "\u001b[0;31m---------------------------------------------------------------------------\u001b[0m",
      "\u001b[0;31mKeyError\u001b[0m                                  Traceback (most recent call last)",
      "\u001b[0;32m<ipython-input-339-5d55ec1a7607>\u001b[0m in \u001b[0;36m<module>\u001b[0;34m()\u001b[0m\n\u001b[0;32m----> 1\u001b[0;31m \u001b[0mpd\u001b[0m\u001b[0;34m.\u001b[0m\u001b[0mSeries\u001b[0m\u001b[0;34m(\u001b[0m\u001b[0mout_dw\u001b[0m\u001b[0;34m[\u001b[0m\u001b[0;34m'bet_500_1000'\u001b[0m\u001b[0;34m]\u001b[0m\u001b[0;34m)\u001b[0m\u001b[0;34m.\u001b[0m\u001b[0mcorr\u001b[0m\u001b[0;34m(\u001b[0m\u001b[0mdf\u001b[0m\u001b[0;34m.\u001b[0m\u001b[0mix\u001b[0m\u001b[0;34m[\u001b[0m\u001b[0mall_homes\u001b[0m\u001b[0;34m[\u001b[0m\u001b[0;34m'dw'\u001b[0m\u001b[0;34m]\u001b[0m\u001b[0;34m]\u001b[0m\u001b[0;34m.\u001b[0m\u001b[0mbet_500_1000\u001b[0m\u001b[0;34m)\u001b[0m\u001b[0;34m\u001b[0m\u001b[0m\n\u001b[0m",
      "\u001b[0;31mKeyError\u001b[0m: 'bet_500_1000'"
     ]
    }
   ],
   "source": [
    "pd.Series(out_dw['bet_500_1000']).corr(df.ix[all_homes['dw']].bet_500_1000)"
   ]
  },
  {
   "cell_type": "code",
   "execution_count": 340,
   "metadata": {
    "collapsed": false
   },
   "outputs": [
    {
     "data": {
      "text/plain": [
       "bet_500_1000    0.631211\n",
       "gt_1000         0.273902\n",
       "dtype: float64"
      ]
     },
     "execution_count": 340,
     "metadata": {},
     "output_type": "execute_result"
    }
   ],
   "source": [
    "pd.DataFrame(out_dw).T.corrwith(df.ix[all_homes['dw']].bet_500_1000)"
   ]
  },
  {
   "cell_type": "code",
   "execution_count": 350,
   "metadata": {
    "collapsed": false
   },
   "outputs": [
    {
     "data": {
      "image/png": "[encoded data removed]",
      "text/plain": [
       "<matplotlib.figure.Figure at 0x116888d50>"
      ]
     },
     "metadata": {},
     "output_type": "display_data"
    }
   ],
   "source": [
    "plt.scatter(df.ix[all_homes['dw']].bet_500_1000, pd.DataFrame(out_dw).T['bet_500_1000'])\n",
    "plt.xlabel(\"Fraction of step changes in \\naggregate between 500 and 1000W\")\n",
    "plt.ylabel(\"#Step changes in Dish washer \\nstream between 500 and 1000W\")\n",
    "plt.title(df.ix[all_homes['dw']].bet_500_1000.corr(pd.DataFrame(out_dw).T['bet_500_1000']))\n",
    "plt.tight_layout()\n",
    "plt.savefig(\"/Users/nipunbatra/git/monthly-disaggregation/figures/new/dw_aggregate_step_changes.png\")"
   ]
  },
  {
   "cell_type": "code",
   "execution_count": 338,
   "metadata": {
    "collapsed": false
   },
   "outputs": [
    {
     "data": {
      "text/plain": [
       "94       4.389723\n",
       "370     26.143587\n",
       "545     18.027090\n",
       "624     20.888189\n",
       "1642     0.000000\n",
       "2156     3.560072\n",
       "2242    19.654873\n",
       "2470     0.012189\n",
       "2814    11.864521\n",
       "2829     7.631028\n",
       "3367     0.244341\n",
       "3456     0.835023\n",
       "3723    35.810143\n",
       "3967     0.048807\n",
       "4767     9.052568\n",
       "5357    16.497515\n",
       "6072     0.008568\n",
       "6636     1.574064\n",
       "6910    13.312785\n",
       "7769     6.195429\n",
       "7850     0.000000\n",
       "9922     0.722194\n",
       "9934    41.853798\n",
       "Name: dw_5, dtype: float64"
      ]
     },
     "execution_count": 338,
     "metadata": {},
     "output_type": "execute_result"
    }
   ],
   "source": [
    "df.ix[all_homes['dw']]['dw_5']"
   ]
  },
  {
   "cell_type": "code",
   "execution_count": null,
   "metadata": {
    "collapsed": true
   },
   "outputs": [],
   "source": []
  }
 ],
 "metadata": {
  "kernelspec": {
   "display_name": "Python 2",
   "language": "python",
   "name": "python2"
  },
  "language_info": {
   "codemirror_mode": {
    "name": "ipython",
    "version": 2
   },
   "file_extension": ".py",
   "mimetype": "text/x-python",
   "name": "python",
   "nbconvert_exporter": "python",
   "pygments_lexer": "ipython2",
   "version": "2.7.11"
  }
 },
 "nbformat": 4,
 "nbformat_minor": 0
}
