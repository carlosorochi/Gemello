{
 "cells": [
  {
   "cell_type": "markdown",
   "metadata": {},
   "source": [
    "### Load data set with features"
   ]
  },
  {
   "cell_type": "code",
   "execution_count": 320,
   "metadata": {
    "collapsed": false
   },
   "outputs": [],
   "source": [
    "from create_df import read_df\n",
    "df, dfc, all_homes, appliance_min, national_average = read_df()"
   ]
  },
  {
   "cell_type": "code",
   "execution_count": 321,
   "metadata": {
    "collapsed": false
   },
   "outputs": [],
   "source": [
    "import numpy as np\n",
    "import matplotlib.pyplot as plt\n",
    "%matplotlib inline\n"
   ]
  },
  {
   "cell_type": "code",
   "execution_count": 322,
   "metadata": {
    "collapsed": false
   },
   "outputs": [],
   "source": [
    "run all_functions.py"
   ]
  },
  {
   "cell_type": "code",
   "execution_count": 323,
   "metadata": {
    "collapsed": false
   },
   "outputs": [],
   "source": [
    "run features.py"
   ]
  },
  {
   "cell_type": "code",
   "execution_count": 324,
   "metadata": {
    "collapsed": true
   },
   "outputs": [],
   "source": [
    "appliance_name_map = {\"fridge\":\"Fridge\",\"hvac\":\"HVAC\",\"wm\":\"Washing\\nmachine\",\n",
    "                      \"dr\":\"Dryer\",\"dw\":\"Dish\\nwasher\",\"light\":\"Lights\"}\n",
    "import json"
   ]
  },
  {
   "cell_type": "code",
   "execution_count": 335,
   "metadata": {
    "collapsed": false
   },
   "outputs": [
    {
     "name": "stdout",
     "output_type": "stream",
     "text": [
      "File ../main-out-new/wm_AMI_2470.csv does not exist\n",
      "File ../main-out-new/light_AMI_2470.csv does not exist\n",
      "File ../main-out-new/light_AMI_9609.csv does not exist\n",
      "File ../main-out-new/wm_All_2470.csv does not exist\n",
      "File ../main-out-new/light_All_2470.csv does not exist\n",
      "File ../main-out-new/light_All_9609.csv does not exist\n",
      "File ../main-out-new/hvac_AMI+Monthly_2129.csv does not exist\n",
      "File ../main-out-new/wm_AMI+Monthly_2470.csv does not exist\n",
      "File ../main-out-new/wm_AMI+Monthly_3723.csv does not exist\n",
      "File ../main-out-new/wm_AMI+Monthly_5357.csv does not exist\n",
      "File ../main-out-new/dw_AMI+Monthly_1334.csv does not exist\n",
      "File ../main-out-new/dw_AMI+Monthly_2242.csv does not exist\n",
      "File ../main-out-new/dw_AMI+Monthly_3456.csv does not exist\n",
      "File ../main-out-new/dw_AMI+Monthly_4767.csv does not exist\n",
      "File ../main-out-new/light_AMI+Monthly_2470.csv does not exist\n",
      "File ../main-out-new/light_AMI+Monthly_9609.csv does not exist\n",
      "File ../main-out-new/wm_Monthly_2470.csv does not exist\n",
      "File ../main-out-new/light_Monthly_2470.csv does not exist\n",
      "File ../main-out-new/light_Monthly_9609.csv does not exist\n",
      "File ../main-out-new/wm_Monthly+Static_2470.csv does not exist\n",
      "File ../main-out-new/light_Monthly+Static_2470.csv does not exist\n",
      "File ../main-out-new/light_Monthly+Static_9609.csv does not exist\n",
      "File ../main-out-new/wm_Static_2470.csv does not exist\n",
      "File ../main-out-new/light_Static_2470.csv does not exist\n",
      "File ../main-out-new/light_Static_9609.csv does not exist\n",
      "File ../main-out-new/wm_AMI+Static_2470.csv does not exist\n",
      "File ../main-out-new/light_AMI+Static_2470.csv does not exist\n",
      "File ../main-out-new/light_AMI+Static_9609.csv does not exist\n"
     ]
    }
   ],
   "source": [
    "appliances = [\"dr\",\"hvac\",\"wm\",\"dw\",\"fridge\",\"light\"]\n",
    "#features = [\"Static\",\"Monthly\", \"Monthly+Static\"]\n",
    "#features=[\"AMI+Static\"]\n",
    "\n",
    "#features=[\"All\"]\n",
    "out={}\n",
    "means = {}\n",
    "sems = {}\n",
    "for feature in features:\n",
    "    out[feature]={}\n",
    "    means[feature]={}\n",
    "    sems[feature]={}\n",
    "    for appliance in appliances:\n",
    "    \n",
    "        out[feature][appliance] = {}\n",
    "        for home in all_homes[appliance]:\n",
    "            try:\n",
    "            \n",
    "                out[feature][appliance][int(home)] = pd.read_csv(\"../main-out-new/%s_%s_%d.csv\" %(appliance, feature, home),\n",
    "                                     header=None, index_col=0, names=[\"accuracy\"]).squeeze()\n",
    "            except Exception, e:\n",
    "                print e\n",
    "                \n",
    "            \n",
    "        means[feature][appliance_name_map[appliance]]=pd.DataFrame(out[feature][appliance]).mean().mean()\n",
    "        sems[feature][appliance_name_map[appliance]]=pd.DataFrame(out[feature][appliance]).mean().sem()\n",
    "\n",
    "            "
   ]
  },
  {
   "cell_type": "code",
   "execution_count": 336,
   "metadata": {
    "collapsed": false
   },
   "outputs": [
    {
     "data": {
      "text/html": [
       "<div>\n",
       "<table border=\"1\" class=\"dataframe\">\n",
       "  <thead>\n",
       "    <tr style=\"text-align: right;\">\n",
       "      <th></th>\n",
       "      <th>AMI</th>\n",
       "      <th>AMI+Monthly</th>\n",
       "      <th>AMI+Static</th>\n",
       "      <th>All</th>\n",
       "      <th>Monthly</th>\n",
       "      <th>Monthly+Static</th>\n",
       "      <th>Static</th>\n",
       "    </tr>\n",
       "  </thead>\n",
       "  <tbody>\n",
       "    <tr>\n",
       "      <th>Dish\\nwasher</th>\n",
       "      <td>27.659256</td>\n",
       "      <td>23.651615</td>\n",
       "      <td>28.091898</td>\n",
       "      <td>24.638568</td>\n",
       "      <td>26.202432</td>\n",
       "      <td>27.333402</td>\n",
       "      <td>26.994961</td>\n",
       "    </tr>\n",
       "    <tr>\n",
       "      <th>Dryer</th>\n",
       "      <td>22.777151</td>\n",
       "      <td>25.811534</td>\n",
       "      <td>25.830667</td>\n",
       "      <td>25.972393</td>\n",
       "      <td>33.899603</td>\n",
       "      <td>33.052222</td>\n",
       "      <td>31.286223</td>\n",
       "    </tr>\n",
       "    <tr>\n",
       "      <th>Fridge</th>\n",
       "      <td>73.275673</td>\n",
       "      <td>66.377698</td>\n",
       "      <td>66.858074</td>\n",
       "      <td>66.410514</td>\n",
       "      <td>48.960244</td>\n",
       "      <td>68.541553</td>\n",
       "      <td>56.928776</td>\n",
       "    </tr>\n",
       "    <tr>\n",
       "      <th>HVAC</th>\n",
       "      <td>73.036422</td>\n",
       "      <td>74.641144</td>\n",
       "      <td>73.538227</td>\n",
       "      <td>75.154290</td>\n",
       "      <td>76.239355</td>\n",
       "      <td>73.939380</td>\n",
       "      <td>69.657454</td>\n",
       "    </tr>\n",
       "    <tr>\n",
       "      <th>Lights</th>\n",
       "      <td>40.015019</td>\n",
       "      <td>33.006726</td>\n",
       "      <td>38.029302</td>\n",
       "      <td>36.418069</td>\n",
       "      <td>42.297681</td>\n",
       "      <td>39.550651</td>\n",
       "      <td>42.757294</td>\n",
       "    </tr>\n",
       "    <tr>\n",
       "      <th>Washing\\nmachine</th>\n",
       "      <td>49.484331</td>\n",
       "      <td>55.858035</td>\n",
       "      <td>46.105097</td>\n",
       "      <td>52.466302</td>\n",
       "      <td>50.359318</td>\n",
       "      <td>54.673530</td>\n",
       "      <td>57.272795</td>\n",
       "    </tr>\n",
       "  </tbody>\n",
       "</table>\n",
       "</div>"
      ],
      "text/plain": [
       "                        AMI  AMI+Monthly  AMI+Static        All    Monthly  \\\n",
       "Dish\\nwasher      27.659256    23.651615   28.091898  24.638568  26.202432   \n",
       "Dryer             22.777151    25.811534   25.830667  25.972393  33.899603   \n",
       "Fridge            73.275673    66.377698   66.858074  66.410514  48.960244   \n",
       "HVAC              73.036422    74.641144   73.538227  75.154290  76.239355   \n",
       "Lights            40.015019    33.006726   38.029302  36.418069  42.297681   \n",
       "Washing\\nmachine  49.484331    55.858035   46.105097  52.466302  50.359318   \n",
       "\n",
       "                  Monthly+Static     Static  \n",
       "Dish\\nwasher           27.333402  26.994961  \n",
       "Dryer                  33.052222  31.286223  \n",
       "Fridge                 68.541553  56.928776  \n",
       "HVAC                   73.939380  69.657454  \n",
       "Lights                 39.550651  42.757294  \n",
       "Washing\\nmachine       54.673530  57.272795  "
      ]
     },
     "execution_count": 336,
     "metadata": {},
     "output_type": "execute_result"
    }
   ],
   "source": [
    "pd.DataFrame(means)"
   ]
  },
  {
   "cell_type": "code",
   "execution_count": 288,
   "metadata": {
    "collapsed": false
   },
   "outputs": [
    {
     "data": {
      "text/html": [
       "<div>\n",
       "<table border=\"1\" class=\"dataframe\">\n",
       "  <thead>\n",
       "    <tr style=\"text-align: right;\">\n",
       "      <th></th>\n",
       "      <th>Monthly</th>\n",
       "      <th>Monthly+Static</th>\n",
       "      <th>Static</th>\n",
       "    </tr>\n",
       "  </thead>\n",
       "  <tbody>\n",
       "    <tr>\n",
       "      <th>Dish\\nwasher</th>\n",
       "      <td>25.268118</td>\n",
       "      <td>27.333402</td>\n",
       "      <td>26.994961</td>\n",
       "    </tr>\n",
       "    <tr>\n",
       "      <th>Dryer</th>\n",
       "      <td>31.432502</td>\n",
       "      <td>33.052222</td>\n",
       "      <td>31.286223</td>\n",
       "    </tr>\n",
       "    <tr>\n",
       "      <th>Fridge</th>\n",
       "      <td>48.960244</td>\n",
       "      <td>68.541553</td>\n",
       "      <td>56.928776</td>\n",
       "    </tr>\n",
       "    <tr>\n",
       "      <th>HVAC</th>\n",
       "      <td>76.673690</td>\n",
       "      <td>73.939380</td>\n",
       "      <td>72.142896</td>\n",
       "    </tr>\n",
       "    <tr>\n",
       "      <th>Lights</th>\n",
       "      <td>39.810615</td>\n",
       "      <td>39.550651</td>\n",
       "      <td>42.757294</td>\n",
       "    </tr>\n",
       "    <tr>\n",
       "      <th>Washing\\nmachine</th>\n",
       "      <td>55.154148</td>\n",
       "      <td>54.673530</td>\n",
       "      <td>57.272795</td>\n",
       "    </tr>\n",
       "  </tbody>\n",
       "</table>\n",
       "</div>"
      ],
      "text/plain": [
       "                    Monthly  Monthly+Static     Static\n",
       "Dish\\nwasher      25.268118       27.333402  26.994961\n",
       "Dryer             31.432502       33.052222  31.286223\n",
       "Fridge            48.960244       68.541553  56.928776\n",
       "HVAC              76.673690       73.939380  72.142896\n",
       "Lights            39.810615       39.550651  42.757294\n",
       "Washing\\nmachine  55.154148       54.673530  57.272795"
      ]
     },
     "execution_count": 288,
     "metadata": {},
     "output_type": "execute_result"
    }
   ],
   "source": [
    "pd.DataFrame(means)"
   ]
  },
  {
   "cell_type": "code",
   "execution_count": 333,
   "metadata": {
    "collapsed": false
   },
   "outputs": [],
   "source": [
    "import json\n",
    "appliances = [\"dr\",\"hvac\",\"wm\",\"dw\",\"fridge\",\"light\"]\n",
    "features = [\"Static\", \"Monthly\", \"Monthly+Static\"]\n",
    "#features=[\"AMI+Static\"]\n",
    "#features=[\"All\"]\n",
    "#appliances=[\"fridge\",\"hvac\",\"dr\",\"dw\"]\n",
    "features = feature_map.keys()\n",
    "out={}\n",
    "means = {}\n",
    "sems = {}\n",
    "for feature in features:\n",
    "    out[feature]={}\n",
    "    means[feature]={}\n",
    "    sems[feature]={}\n",
    "    for appliance in appliances:\n",
    "    \n",
    "        out[feature][appliance] = {}\n",
    "        for home in all_homes[appliance]:\n",
    "            try:\n",
    "                j = json.load(open(\"../main-out-new/%s_%s_%d.json\" %(appliance, feature, home),'r'))\n",
    "                out[feature][appliance][int(home)] = j['accuracy']\n",
    "            except:\n",
    "                pass\n",
    "                                     \n",
    "                \n",
    "           \n",
    "       \n",
    "\n",
    "            "
   ]
  },
  {
   "cell_type": "code",
   "execution_count": 334,
   "metadata": {
    "collapsed": false
   },
   "outputs": [
    {
     "data": {
      "text/html": [
       "<div>\n",
       "<table border=\"1\" class=\"dataframe\">\n",
       "  <thead>\n",
       "    <tr style=\"text-align: right;\">\n",
       "      <th></th>\n",
       "      <th>AMI</th>\n",
       "      <th>AMI+Monthly</th>\n",
       "      <th>AMI+Static</th>\n",
       "      <th>All</th>\n",
       "      <th>Monthly</th>\n",
       "      <th>Monthly+Static</th>\n",
       "      <th>Static</th>\n",
       "    </tr>\n",
       "  </thead>\n",
       "  <tbody>\n",
       "    <tr>\n",
       "      <th>dr</th>\n",
       "      <td>25.235422</td>\n",
       "      <td>24.828798</td>\n",
       "      <td>24.648279</td>\n",
       "      <td>25.194307</td>\n",
       "      <td>27.399581</td>\n",
       "      <td>28.697681</td>\n",
       "      <td>26.140318</td>\n",
       "    </tr>\n",
       "    <tr>\n",
       "      <th>dw</th>\n",
       "      <td>22.326116</td>\n",
       "      <td>21.163047</td>\n",
       "      <td>21.338897</td>\n",
       "      <td>21.226692</td>\n",
       "      <td>21.222768</td>\n",
       "      <td>22.525817</td>\n",
       "      <td>19.941430</td>\n",
       "    </tr>\n",
       "    <tr>\n",
       "      <th>fridge</th>\n",
       "      <td>73.073302</td>\n",
       "      <td>73.228569</td>\n",
       "      <td>72.488021</td>\n",
       "      <td>73.004763</td>\n",
       "      <td>66.048773</td>\n",
       "      <td>68.082701</td>\n",
       "      <td>63.642268</td>\n",
       "    </tr>\n",
       "    <tr>\n",
       "      <th>hvac</th>\n",
       "      <td>74.792478</td>\n",
       "      <td>74.809531</td>\n",
       "      <td>74.773214</td>\n",
       "      <td>74.765245</td>\n",
       "      <td>76.502214</td>\n",
       "      <td>76.081346</td>\n",
       "      <td>68.980325</td>\n",
       "    </tr>\n",
       "    <tr>\n",
       "      <th>light</th>\n",
       "      <td>37.952326</td>\n",
       "      <td>36.055880</td>\n",
       "      <td>38.861374</td>\n",
       "      <td>37.325632</td>\n",
       "      <td>36.843681</td>\n",
       "      <td>36.792903</td>\n",
       "      <td>37.165298</td>\n",
       "    </tr>\n",
       "    <tr>\n",
       "      <th>wm</th>\n",
       "      <td>46.809025</td>\n",
       "      <td>47.046523</td>\n",
       "      <td>48.306685</td>\n",
       "      <td>48.767949</td>\n",
       "      <td>46.280977</td>\n",
       "      <td>47.294136</td>\n",
       "      <td>48.233818</td>\n",
       "    </tr>\n",
       "  </tbody>\n",
       "</table>\n",
       "</div>"
      ],
      "text/plain": [
       "              AMI  AMI+Monthly  AMI+Static        All    Monthly  \\\n",
       "dr      25.235422    24.828798   24.648279  25.194307  27.399581   \n",
       "dw      22.326116    21.163047   21.338897  21.226692  21.222768   \n",
       "fridge  73.073302    73.228569   72.488021  73.004763  66.048773   \n",
       "hvac    74.792478    74.809531   74.773214  74.765245  76.502214   \n",
       "light   37.952326    36.055880   38.861374  37.325632  36.843681   \n",
       "wm      46.809025    47.046523   48.306685  48.767949  46.280977   \n",
       "\n",
       "        Monthly+Static     Static  \n",
       "dr           28.697681  26.140318  \n",
       "dw           22.525817  19.941430  \n",
       "fridge       68.082701  63.642268  \n",
       "hvac         76.081346  68.980325  \n",
       "light        36.792903  37.165298  \n",
       "wm           47.294136  48.233818  "
      ]
     },
     "execution_count": 334,
     "metadata": {},
     "output_type": "execute_result"
    }
   ],
   "source": [
    "pd.DataFrame({k:pd.DataFrame(out[k]).mean() for k in features})\n"
   ]
  },
  {
   "cell_type": "code",
   "execution_count": 284,
   "metadata": {
    "collapsed": false
   },
   "outputs": [
    {
     "data": {
      "text/plain": [
       "{u'fridge': {u'All': {u'accuracy': 78.00477312290393,\n",
       "   u'f': [u'aggregate_3',\n",
       "    u'ratio_min_max',\n",
       "    u'aggregate_7',\n",
       "    u'ratio_difference_min_max',\n",
       "    u'aggregate_4',\n",
       "    u'aggregate_2'],\n",
       "   u'k': 2}}}"
      ]
     },
     "execution_count": 284,
     "metadata": {},
     "output_type": "execute_result"
    }
   ],
   "source": [
    "appliance=\"fridge\"\n",
    "feature=\"Monthly\"\n",
    "\n",
    "json.load(open(\"../main-out/%s_%s_%d.json\" %(appliance, feature, home),'r'))"
   ]
  },
  {
   "cell_type": "code",
   "execution_count": 285,
   "metadata": {
    "collapsed": false
   },
   "outputs": [
    {
     "data": {
      "text/plain": [
       "{u'fridge': {u'All': {u'accuracy': 78.00477312290393,\n",
       "   u'f': [u'aggregate_3',\n",
       "    u'ratio_min_max',\n",
       "    u'aggregate_7',\n",
       "    u'ratio_difference_min_max',\n",
       "    u'aggregate_4',\n",
       "    u'aggregate_2'],\n",
       "   u'k': 2}}}"
      ]
     },
     "execution_count": 285,
     "metadata": {},
     "output_type": "execute_result"
    }
   ],
   "source": [
    "appliance=\"fridge\"\n",
    "feature=\"Monthly+Static\"\n",
    "home =94\n",
    "json.load(open(\"../main-out/%s_%s_%d.json\" %(appliance, feature, home),'r'))"
   ]
  },
  {
   "cell_type": "code",
   "execution_count": 286,
   "metadata": {
    "collapsed": false
   },
   "outputs": [
    {
     "data": {
      "text/plain": [
       "{u'fridge': {u'All': {u'accuracy': 73.96715595544268,\n",
       "   u'f': [u'total_occupants'],\n",
       "   u'k': 5}}}"
      ]
     },
     "execution_count": 286,
     "metadata": {},
     "output_type": "execute_result"
    }
   ],
   "source": [
    "appliance=\"fridge\"\n",
    "feature=\"Static\"\n",
    "home =94\n",
    "json.load(open(\"../main-out/%s_%s_%d.json\" %(appliance, feature, home),'r'))"
   ]
  },
  {
   "cell_type": "code",
   "execution_count": null,
   "metadata": {
    "collapsed": true
   },
   "outputs": [],
   "source": []
  }
 ],
 "metadata": {
  "kernelspec": {
   "display_name": "Python 2",
   "language": "python",
   "name": "python2"
  },
  "language_info": {
   "codemirror_mode": {
    "name": "ipython",
    "version": 2
   },
   "file_extension": ".py",
   "mimetype": "text/x-python",
   "name": "python",
   "nbconvert_exporter": "python",
   "pygments_lexer": "ipython2",
   "version": "2.7.11"
  }
 },
 "nbformat": 4,
 "nbformat_minor": 0
}
