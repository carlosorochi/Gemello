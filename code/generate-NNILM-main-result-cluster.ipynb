{
 "cells": [
  {
   "cell_type": "markdown",
   "metadata": {},
   "source": [
    "### Load data set with features"
   ]
  },
  {
   "cell_type": "code",
   "execution_count": 1,
   "metadata": {
    "collapsed": false
   },
   "outputs": [
    {
     "name": "stderr",
     "output_type": "stream",
     "text": [
      "Vendor:  Continuum Analytics, Inc.\n",
      "Package: mkl\n",
      "Message: trial mode expires in 27 days\n"
     ]
    }
   ],
   "source": [
    "from create_df import read_df\n",
    "df, dfc, all_homes, appliance_min, national_average = read_df()"
   ]
  },
  {
   "cell_type": "code",
   "execution_count": 2,
   "metadata": {
    "collapsed": false
   },
   "outputs": [],
   "source": [
    "import numpy as np\n",
    "import matplotlib.pyplot as plt\n",
    "%matplotlib inline\n"
   ]
  },
  {
   "cell_type": "code",
   "execution_count": 3,
   "metadata": {
    "collapsed": false
   },
   "outputs": [],
   "source": [
    "run all_functions.py"
   ]
  },
  {
   "cell_type": "code",
   "execution_count": 4,
   "metadata": {
    "collapsed": false
   },
   "outputs": [],
   "source": [
    "run features.py"
   ]
  },
  {
   "cell_type": "code",
   "execution_count": 130,
   "metadata": {
    "collapsed": true
   },
   "outputs": [],
   "source": [
    "appliance_name_map = {\"fridge\":\"Fridge\",\"hvac\":\"HVAC\",\"wm\":\"Washing\\nmachine\",\n",
    "                      \"dr\":\"Dryer\",\"dw\":\"Dish\\nwasher\",\"light\":\"Lights\"}\n",
    "import json"
   ]
  },
  {
   "cell_type": "code",
   "execution_count": 273,
   "metadata": {
    "collapsed": false
   },
   "outputs": [],
   "source": [
    "appliances = [\"dr\",\"hvac\",\"wm\",\"dw\",\"fridge\",\"light\"]\n",
    "features = [\"Static\", \"Monthly\", \"Monthly+Static\"]\n",
    "#features=[\"AMI+Static\"]\n",
    "\n",
    "#features=[\"All\"]\n",
    "out={}\n",
    "means = {}\n",
    "sems = {}\n",
    "for feature in features:\n",
    "    out[feature]={}\n",
    "    means[feature]={}\n",
    "    sems[feature]={}\n",
    "    for appliance in appliances:\n",
    "    \n",
    "        out[feature][appliance] = {}\n",
    "        for home in all_homes[appliance]:\n",
    "            try:\n",
    "                out[feature][appliance][int(home)] = pd.read_csv(\"../main-out/%s_%s_%d.csv\" %(appliance, feature, home),\n",
    "                                     header=None, index_col=0, names=[\"accuracy\"]).squeeze()\n",
    "                \n",
    "            except:\n",
    "                pass\n",
    "        means[feature][appliance_name_map[appliance]]=pd.DataFrame(out[feature][appliance]).mean().mean()\n",
    "        sems[feature][appliance_name_map[appliance]]=pd.DataFrame(out[feature][appliance]).mean().sem()\n",
    "\n",
    "            "
   ]
  },
  {
   "cell_type": "code",
   "execution_count": 274,
   "metadata": {
    "collapsed": false
   },
   "outputs": [
    {
     "data": {
      "text/html": [
       "<div>\n",
       "<table border=\"1\" class=\"dataframe\">\n",
       "  <thead>\n",
       "    <tr style=\"text-align: right;\">\n",
       "      <th></th>\n",
       "      <th>Monthly</th>\n",
       "      <th>Monthly+Static</th>\n",
       "      <th>Static</th>\n",
       "    </tr>\n",
       "  </thead>\n",
       "  <tbody>\n",
       "    <tr>\n",
       "      <th>Dish\\nwasher</th>\n",
       "      <td>29.169291</td>\n",
       "      <td>24.017065</td>\n",
       "      <td>28.747570</td>\n",
       "    </tr>\n",
       "    <tr>\n",
       "      <th>Dryer</th>\n",
       "      <td>24.951012</td>\n",
       "      <td>30.509495</td>\n",
       "      <td>30.935077</td>\n",
       "    </tr>\n",
       "    <tr>\n",
       "      <th>Fridge</th>\n",
       "      <td>61.757674</td>\n",
       "      <td>57.947870</td>\n",
       "      <td>73.113063</td>\n",
       "    </tr>\n",
       "    <tr>\n",
       "      <th>HVAC</th>\n",
       "      <td>76.143032</td>\n",
       "      <td>76.143032</td>\n",
       "      <td>68.740471</td>\n",
       "    </tr>\n",
       "    <tr>\n",
       "      <th>Lights</th>\n",
       "      <td>35.627955</td>\n",
       "      <td>38.768641</td>\n",
       "      <td>41.767523</td>\n",
       "    </tr>\n",
       "    <tr>\n",
       "      <th>Washing\\nmachine</th>\n",
       "      <td>54.554867</td>\n",
       "      <td>61.898039</td>\n",
       "      <td>62.331208</td>\n",
       "    </tr>\n",
       "  </tbody>\n",
       "</table>\n",
       "</div>"
      ],
      "text/plain": [
       "                    Monthly  Monthly+Static     Static\n",
       "Dish\\nwasher      29.169291       24.017065  28.747570\n",
       "Dryer             24.951012       30.509495  30.935077\n",
       "Fridge            61.757674       57.947870  73.113063\n",
       "HVAC              76.143032       76.143032  68.740471\n",
       "Lights            35.627955       38.768641  41.767523\n",
       "Washing\\nmachine  54.554867       61.898039  62.331208"
      ]
     },
     "execution_count": 274,
     "metadata": {},
     "output_type": "execute_result"
    }
   ],
   "source": [
    "pd.DataFrame(means)"
   ]
  },
  {
   "cell_type": "code",
   "execution_count": 279,
   "metadata": {
    "collapsed": false
   },
   "outputs": [],
   "source": [
    "import json\n",
    "appliances = [\"dr\",\"hvac\",\"wm\",\"dw\",\"fridge\",\"light\"]\n",
    "features = [\"Static\", \"Monthly\", \"Monthly+Static\"]\n",
    "#features=[\"AMI+Static\"]\n",
    "#features=[\"All\"]\n",
    "out={}\n",
    "means = {}\n",
    "sems = {}\n",
    "for feature in features:\n",
    "    out[feature]={}\n",
    "    means[feature]={}\n",
    "    sems[feature]={}\n",
    "    for appliance in appliances:\n",
    "    \n",
    "        out[feature][appliance] = {}\n",
    "        for home in all_homes[appliance]:\n",
    "            try:\n",
    "                j = json.load(open(\"../main-out/%s_%s_%d.json\" %(appliance, feature, home),'r'))\n",
    "                out[feature][appliance][int(home)] = j[appliance]['All']['accuracy']\n",
    "                                     \n",
    "                \n",
    "            except:\n",
    "                pass\n",
    "       \n",
    "\n",
    "            "
   ]
  },
  {
   "cell_type": "code",
   "execution_count": 276,
   "metadata": {
    "collapsed": false
   },
   "outputs": [
    {
     "data": {
      "text/html": [
       "<div>\n",
       "<table border=\"1\" class=\"dataframe\">\n",
       "  <thead>\n",
       "    <tr style=\"text-align: right;\">\n",
       "      <th></th>\n",
       "      <th>Monthly</th>\n",
       "      <th>Monthly+Static</th>\n",
       "      <th>Static</th>\n",
       "    </tr>\n",
       "  </thead>\n",
       "  <tbody>\n",
       "    <tr>\n",
       "      <th>dr</th>\n",
       "      <td>41.859731</td>\n",
       "      <td>44.297763</td>\n",
       "      <td>41.025507</td>\n",
       "    </tr>\n",
       "    <tr>\n",
       "      <th>dw</th>\n",
       "      <td>43.272156</td>\n",
       "      <td>44.077393</td>\n",
       "      <td>38.845853</td>\n",
       "    </tr>\n",
       "    <tr>\n",
       "      <th>fridge</th>\n",
       "      <td>78.051381</td>\n",
       "      <td>78.472187</td>\n",
       "      <td>75.115708</td>\n",
       "    </tr>\n",
       "    <tr>\n",
       "      <th>hvac</th>\n",
       "      <td>79.945156</td>\n",
       "      <td>79.945156</td>\n",
       "      <td>73.270901</td>\n",
       "    </tr>\n",
       "    <tr>\n",
       "      <th>light</th>\n",
       "      <td>47.608498</td>\n",
       "      <td>49.584553</td>\n",
       "      <td>47.419823</td>\n",
       "    </tr>\n",
       "    <tr>\n",
       "      <th>wm</th>\n",
       "      <td>63.787637</td>\n",
       "      <td>64.544558</td>\n",
       "      <td>59.342603</td>\n",
       "    </tr>\n",
       "  </tbody>\n",
       "</table>\n",
       "</div>"
      ],
      "text/plain": [
       "          Monthly  Monthly+Static     Static\n",
       "dr      41.859731       44.297763  41.025507\n",
       "dw      43.272156       44.077393  38.845853\n",
       "fridge  78.051381       78.472187  75.115708\n",
       "hvac    79.945156       79.945156  73.270901\n",
       "light   47.608498       49.584553  47.419823\n",
       "wm      63.787637       64.544558  59.342603"
      ]
     },
     "execution_count": 276,
     "metadata": {},
     "output_type": "execute_result"
    }
   ],
   "source": [
    "pd.DataFrame({k:pd.DataFrame(out[k]).mean() for k in features})\n"
   ]
  },
  {
   "cell_type": "code",
   "execution_count": 284,
   "metadata": {
    "collapsed": false
   },
   "outputs": [
    {
     "data": {
      "text/plain": [
       "{u'fridge': {u'All': {u'accuracy': 78.00477312290393,\n",
       "   u'f': [u'aggregate_3',\n",
       "    u'ratio_min_max',\n",
       "    u'aggregate_7',\n",
       "    u'ratio_difference_min_max',\n",
       "    u'aggregate_4',\n",
       "    u'aggregate_2'],\n",
       "   u'k': 2}}}"
      ]
     },
     "execution_count": 284,
     "metadata": {},
     "output_type": "execute_result"
    }
   ],
   "source": [
    "appliance=\"fridge\"\n",
    "feature=\"Monthly\"\n",
    "\n",
    "json.load(open(\"../main-out/%s_%s_%d.json\" %(appliance, feature, home),'r'))"
   ]
  },
  {
   "cell_type": "code",
   "execution_count": 285,
   "metadata": {
    "collapsed": false
   },
   "outputs": [
    {
     "data": {
      "text/plain": [
       "{u'fridge': {u'All': {u'accuracy': 78.00477312290393,\n",
       "   u'f': [u'aggregate_3',\n",
       "    u'ratio_min_max',\n",
       "    u'aggregate_7',\n",
       "    u'ratio_difference_min_max',\n",
       "    u'aggregate_4',\n",
       "    u'aggregate_2'],\n",
       "   u'k': 2}}}"
      ]
     },
     "execution_count": 285,
     "metadata": {},
     "output_type": "execute_result"
    }
   ],
   "source": [
    "appliance=\"fridge\"\n",
    "feature=\"Monthly+Static\"\n",
    "home =94\n",
    "json.load(open(\"../main-out/%s_%s_%d.json\" %(appliance, feature, home),'r'))"
   ]
  },
  {
   "cell_type": "code",
   "execution_count": 286,
   "metadata": {
    "collapsed": false
   },
   "outputs": [
    {
     "data": {
      "text/plain": [
       "{u'fridge': {u'All': {u'accuracy': 73.96715595544268,\n",
       "   u'f': [u'total_occupants'],\n",
       "   u'k': 5}}}"
      ]
     },
     "execution_count": 286,
     "metadata": {},
     "output_type": "execute_result"
    }
   ],
   "source": [
    "appliance=\"fridge\"\n",
    "feature=\"Static\"\n",
    "home =94\n",
    "json.load(open(\"../main-out/%s_%s_%d.json\" %(appliance, feature, home),'r'))"
   ]
  },
  {
   "cell_type": "code",
   "execution_count": null,
   "metadata": {
    "collapsed": true
   },
   "outputs": [],
   "source": []
  }
 ],
 "metadata": {
  "kernelspec": {
   "display_name": "Python 2",
   "language": "python",
   "name": "python2"
  },
  "language_info": {
   "codemirror_mode": {
    "name": "ipython",
    "version": 2
   },
   "file_extension": ".py",
   "mimetype": "text/x-python",
   "name": "python",
   "nbconvert_exporter": "python",
   "pygments_lexer": "ipython2",
   "version": "2.7.11"
  }
 },
 "nbformat": 4,
 "nbformat_minor": 0
}
