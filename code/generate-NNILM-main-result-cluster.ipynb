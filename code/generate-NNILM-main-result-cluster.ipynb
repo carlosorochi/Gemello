{
 "cells": [
  {
   "cell_type": "markdown",
   "metadata": {},
   "source": [
    "### Load data set with features"
   ]
  },
  {
   "cell_type": "code",
   "execution_count": 320,
   "metadata": {
    "collapsed": false
   },
   "outputs": [],
   "source": [
    "from create_df import read_df\n",
    "df, dfc, all_homes, appliance_min, national_average = read_df()"
   ]
  },
  {
   "cell_type": "code",
   "execution_count": 321,
   "metadata": {
    "collapsed": false
   },
   "outputs": [],
   "source": [
    "import numpy as np\n",
    "import matplotlib.pyplot as plt\n",
    "%matplotlib inline\n"
   ]
  },
  {
   "cell_type": "code",
   "execution_count": 322,
   "metadata": {
    "collapsed": false
   },
   "outputs": [],
   "source": [
    "run all_functions.py"
   ]
  },
  {
   "cell_type": "code",
   "execution_count": 323,
   "metadata": {
    "collapsed": false
   },
   "outputs": [],
   "source": [
    "run features.py"
   ]
  },
  {
   "cell_type": "code",
   "execution_count": 324,
   "metadata": {
    "collapsed": true
   },
   "outputs": [],
   "source": [
    "appliance_name_map = {\"fridge\":\"Fridge\",\"hvac\":\"HVAC\",\"wm\":\"Washing\\nmachine\",\n",
    "                      \"dr\":\"Dryer\",\"dw\":\"Dish\\nwasher\",\"light\":\"Lights\"}\n",
    "import json"
   ]
  },
  {
   "cell_type": "markdown",
   "metadata": {},
   "source": [
    "### TRAIN ACCURACY"
   ]
  },
  {
   "cell_type": "code",
   "execution_count": 340,
   "metadata": {
    "collapsed": false
   },
   "outputs": [],
   "source": [
    "import json\n",
    "appliances = [\"dr\",\"hvac\",\"wm\",\"dw\",\"fridge\",\"light\"]\n",
    "features = [\"Static\", \"Monthly\", \"Monthly+Static\"]\n",
    "\n",
    "out={}\n",
    "means = {}\n",
    "sems = {}\n",
    "for feature in features:\n",
    "    out[feature]={}\n",
    "    means[feature]={}\n",
    "    sems[feature]={}\n",
    "    for appliance in appliances:\n",
    "    \n",
    "        out[feature][appliance] = {}\n",
    "        for home in all_homes[appliance]:\n",
    "            try:\n",
    "                j = json.load(open(\"../main-out-new/%s_%s_%d.json\" %(appliance, feature, home),'r'))\n",
    "                out[feature][appliance][int(home)] = j['accuracy']\n",
    "            except:\n",
    "                pass\n",
    "                                     \n",
    "                \n",
    "           \n",
    "train_df = pd.DataFrame({k:pd.DataFrame(out[k]).mean() for k in features})\n"
   ]
  },
  {
   "cell_type": "code",
   "execution_count": 348,
   "metadata": {
    "collapsed": false
   },
   "outputs": [],
   "source": [
    "to_use_feature = {}\n",
    "for appliance in [\"dr\",\"hvac\",\"wm\",\"dw\",\"fridge\",\"light\"]:\n",
    "    to_use_feature[appliance] = train_df.ix[appliance].argmax()"
   ]
  },
  {
   "cell_type": "code",
   "execution_count": 370,
   "metadata": {
    "collapsed": false
   },
   "outputs": [
    {
     "data": {
      "text/plain": [
       "{'dr': 'Monthly+Static',\n",
       " 'dw': 'Monthly+Static',\n",
       " 'fridge': 'Monthly+Static',\n",
       " 'hvac': 'Monthly',\n",
       " 'light': 'Static',\n",
       " 'wm': 'Static'}"
      ]
     },
     "execution_count": 370,
     "metadata": {},
     "output_type": "execute_result"
    }
   ],
   "source": [
    "to_use_feature"
   ]
  },
  {
   "cell_type": "markdown",
   "metadata": {},
   "source": [
    "### TEST"
   ]
  },
  {
   "cell_type": "code",
   "execution_count": 369,
   "metadata": {
    "collapsed": true
   },
   "outputs": [],
   "source": [
    "from constants import APPROACH as APPROACH_NAME"
   ]
  },
  {
   "cell_type": "code",
   "execution_count": 363,
   "metadata": {
    "collapsed": false
   },
   "outputs": [
    {
     "name": "stdout",
     "output_type": "stream",
     "text": [
      "File ../main-out-new/wm_Static_2470.csv does not exist\n",
      "File ../main-out-new/light_Static_2470.csv does not exist\n",
      "File ../main-out-new/light_Static_9609.csv does not exist\n"
     ]
    }
   ],
   "source": [
    "appliances = [\"dr\",\"hvac\",\"wm\",\"dw\",\"fridge\",\"light\"]\n",
    "#features = [\"Static\",\"Monthly\", \"Monthly+Static\"]\n",
    "#features=[\"AMI+Static\"]\n",
    "\n",
    "#features=[\"All\"]\n",
    "out={}\n",
    "means = {}\n",
    "sems = {}\n",
    "\n",
    "for appliance in appliances:\n",
    "    feature=to_use_feature[appliance]\n",
    "    \n",
    "\n",
    "    out[appliance] = {}\n",
    "    for home in all_homes[appliance]:\n",
    "        try:\n",
    "\n",
    "            out[appliance][int(home)] = pd.read_csv(\"../main-out-new/%s_%s_%d.csv\" %(appliance, feature, home),\n",
    "                                 header=None, index_col=0, names=[\"accuracy\"]).squeeze()\n",
    "        except Exception, e:\n",
    "            print e\n",
    "\n",
    "\n",
    "    means[appliance_name_map[appliance]]=pd.DataFrame(out[appliance]).mean().mean()\n",
    "    sems[appliance_name_map[appliance]]=pd.DataFrame(out[appliance]).mean().sem()\n",
    "\n",
    "            "
   ]
  },
  {
   "cell_type": "code",
   "execution_count": 367,
   "metadata": {
    "collapsed": false
   },
   "outputs": [
    {
     "data": {
      "text/plain": [
       "{'Dish\\nwasher': 27.333401871684234,\n",
       " 'Dryer': 33.052222078385938,\n",
       " 'Fridge': 68.541552745826976,\n",
       " 'HVAC': 76.239355252614146,\n",
       " 'Lights': 42.757293980395275,\n",
       " 'Washing\\nmachine': 57.272795296939734}"
      ]
     },
     "execution_count": 367,
     "metadata": {},
     "output_type": "execute_result"
    }
   ],
   "source": [
    "pd.Series(means).to_dict()"
   ]
  },
  {
   "cell_type": "code",
   "execution_count": 368,
   "metadata": {
    "collapsed": false
   },
   "outputs": [
    {
     "data": {
      "text/plain": [
       "{'Dish\\nwasher': 4.4952334747643938,\n",
       " 'Dryer': 5.486932783231973,\n",
       " 'Fridge': 4.3774018060910178,\n",
       " 'HVAC': 2.4278829051111015,\n",
       " 'Lights': 6.6281736354818035,\n",
       " 'Washing\\nmachine': 6.9256405458935992}"
      ]
     },
     "execution_count": 368,
     "metadata": {},
     "output_type": "execute_result"
    }
   ],
   "source": [
    "pd.Series(sems).to_dict()"
   ]
  },
  {
   "cell_type": "code",
   "execution_count": 284,
   "metadata": {
    "collapsed": false
   },
   "outputs": [
    {
     "data": {
      "text/plain": [
       "{u'fridge': {u'All': {u'accuracy': 78.00477312290393,\n",
       "   u'f': [u'aggregate_3',\n",
       "    u'ratio_min_max',\n",
       "    u'aggregate_7',\n",
       "    u'ratio_difference_min_max',\n",
       "    u'aggregate_4',\n",
       "    u'aggregate_2'],\n",
       "   u'k': 2}}}"
      ]
     },
     "execution_count": 284,
     "metadata": {},
     "output_type": "execute_result"
    }
   ],
   "source": [
    "appliance=\"fridge\"\n",
    "feature=\"Monthly\"\n",
    "\n",
    "json.load(open(\"../main-out/%s_%s_%d.json\" %(appliance, feature, home),'r'))"
   ]
  },
  {
   "cell_type": "code",
   "execution_count": 285,
   "metadata": {
    "collapsed": false
   },
   "outputs": [
    {
     "data": {
      "text/plain": [
       "{u'fridge': {u'All': {u'accuracy': 78.00477312290393,\n",
       "   u'f': [u'aggregate_3',\n",
       "    u'ratio_min_max',\n",
       "    u'aggregate_7',\n",
       "    u'ratio_difference_min_max',\n",
       "    u'aggregate_4',\n",
       "    u'aggregate_2'],\n",
       "   u'k': 2}}}"
      ]
     },
     "execution_count": 285,
     "metadata": {},
     "output_type": "execute_result"
    }
   ],
   "source": [
    "appliance=\"fridge\"\n",
    "feature=\"Monthly+Static\"\n",
    "home =94\n",
    "json.load(open(\"../main-out/%s_%s_%d.json\" %(appliance, feature, home),'r'))"
   ]
  },
  {
   "cell_type": "code",
   "execution_count": 286,
   "metadata": {
    "collapsed": false
   },
   "outputs": [
    {
     "data": {
      "text/plain": [
       "{u'fridge': {u'All': {u'accuracy': 73.96715595544268,\n",
       "   u'f': [u'total_occupants'],\n",
       "   u'k': 5}}}"
      ]
     },
     "execution_count": 286,
     "metadata": {},
     "output_type": "execute_result"
    }
   ],
   "source": [
    "appliance=\"fridge\"\n",
    "feature=\"Static\"\n",
    "home =94\n",
    "json.load(open(\"../main-out/%s_%s_%d.json\" %(appliance, feature, home),'r'))"
   ]
  },
  {
   "cell_type": "code",
   "execution_count": null,
   "metadata": {
    "collapsed": true
   },
   "outputs": [],
   "source": []
  }
 ],
 "metadata": {
  "kernelspec": {
   "display_name": "Python 2",
   "language": "python",
   "name": "python2"
  },
  "language_info": {
   "codemirror_mode": {
    "name": "ipython",
    "version": 2
   },
   "file_extension": ".py",
   "mimetype": "text/x-python",
   "name": "python",
   "nbconvert_exporter": "python",
   "pygments_lexer": "ipython2",
   "version": "2.7.11"
  }
 },
 "nbformat": 4,
 "nbformat_minor": 0
}
