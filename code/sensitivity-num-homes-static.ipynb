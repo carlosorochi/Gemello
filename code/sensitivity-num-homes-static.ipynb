{
 "cells": [
  {
   "cell_type": "markdown",
   "metadata": {},
   "source": [
    "### Load data set with features"
   ]
  },
  {
   "cell_type": "code",
   "execution_count": 1,
   "metadata": {
    "collapsed": false
   },
   "outputs": [
    {
     "name": "stderr",
     "output_type": "stream",
     "text": [
      "Vendor:  Continuum Analytics, Inc.\n",
      "Package: mkl\n",
      "Message: trial mode expires in 29 days\n"
     ]
    }
   ],
   "source": [
    "from create_df import read_df\n",
    "df, dfc, all_homes, appliance_min, national_average = read_df()"
   ]
  },
  {
   "cell_type": "code",
   "execution_count": 2,
   "metadata": {
    "collapsed": false
   },
   "outputs": [],
   "source": [
    "import numpy as np\n",
    "import pandas as pd\n",
    "import matplotlib.pyplot as plt\n",
    "%matplotlib inline\n"
   ]
  },
  {
   "cell_type": "code",
   "execution_count": 3,
   "metadata": {
    "collapsed": false
   },
   "outputs": [],
   "source": [
    "run all_functions.py"
   ]
  },
  {
   "cell_type": "code",
   "execution_count": 4,
   "metadata": {
    "collapsed": false
   },
   "outputs": [],
   "source": [
    "run features.py"
   ]
  },
  {
   "cell_type": "code",
   "execution_count": 5,
   "metadata": {
    "collapsed": true
   },
   "outputs": [],
   "source": [
    "import json"
   ]
  },
  {
   "cell_type": "code",
   "execution_count": 6,
   "metadata": {
    "collapsed": true
   },
   "outputs": [],
   "source": [
    "from sklearn.cross_validation import KFold\n"
   ]
  },
  {
   "cell_type": "code",
   "execution_count": 13,
   "metadata": {
    "collapsed": false
   },
   "outputs": [
    {
     "name": "stdout",
     "output_type": "stream",
     "text": [
      "%%%%%%%%%%%%%%%%%%%%%%%%%%%%%%%%%%%%%%%%\n",
      "hvac\n",
      "%%%%%%%%%%%%%%%%%%%%%%%%%%%%%%%%%%%%%%%%\n",
      "********************\n",
      "All\n",
      "********************\n",
      "5 ['area'] 74.0302708387\n",
      "--------------------------------------------------------------------------------\n",
      "hvac 22 0 5\n",
      "hvac 22 0 6\n",
      "hvac 22 0 7\n",
      "hvac 22 0 8\n",
      "hvac 22 0 9\n",
      "hvac 22 0 10\n",
      "%%%%%%%%%%%%%%%%%%%%%%%%%%%%%%%%%%%%%%%%\n",
      "hvac\n",
      "%%%%%%%%%%%%%%%%%%%%%%%%%%%%%%%%%%%%%%%%\n",
      "********************\n",
      "All\n",
      "********************\n",
      "6 ['area'] 68.5154617229\n",
      "--------------------------------------------------------------------------------\n",
      "hvac 22 1 5\n",
      "hvac 22 1 6\n",
      "hvac 22 1 7\n",
      "hvac 22 1 8\n",
      "hvac 22 1 9\n",
      "hvac 22 1 10\n",
      "%%%%%%%%%%%%%%%%%%%%%%%%%%%%%%%%%%%%%%%%\n",
      "hvac\n",
      "%%%%%%%%%%%%%%%%%%%%%%%%%%%%%%%%%%%%%%%%\n",
      "********************\n",
      "All\n",
      "********************\n",
      "5 ['area'] 74.5088665187\n",
      "--------------------------------------------------------------------------------\n",
      "hvac 22 2 5\n",
      "hvac 22 2 6\n",
      "hvac 22 2 7\n",
      "hvac 22 2 8\n",
      "hvac 22 2 9\n",
      "hvac 22 2 10\n",
      "%%%%%%%%%%%%%%%%%%%%%%%%%%%%%%%%%%%%%%%%\n",
      "hvac\n",
      "%%%%%%%%%%%%%%%%%%%%%%%%%%%%%%%%%%%%%%%%\n",
      "********************\n",
      "All\n",
      "********************\n",
      "6 ['area'] 71.7968677264\n",
      "--------------------------------------------------------------------------------\n",
      "hvac 22 3 5\n",
      "hvac 22 3 6\n",
      "hvac 22 3 7\n",
      "hvac 22 3 8\n",
      "hvac 22 3 9\n",
      "hvac 22 3 10\n",
      "%%%%%%%%%%%%%%%%%%%%%%%%%%%%%%%%%%%%%%%%\n",
      "hvac\n",
      "%%%%%%%%%%%%%%%%%%%%%%%%%%%%%%%%%%%%%%%%\n",
      "********************\n",
      "All\n",
      "********************\n",
      "5 ['area'] 72.0804689819\n",
      "--------------------------------------------------------------------------------\n",
      "hvac 22 4 5\n",
      "hvac 22 4 6\n",
      "hvac 22 4 7\n",
      "hvac 22 4 8\n",
      "hvac 22 4 9\n",
      "hvac 22 4 10\n",
      "%%%%%%%%%%%%%%%%%%%%%%%%%%%%%%%%%%%%%%%%\n",
      "hvac\n",
      "%%%%%%%%%%%%%%%%%%%%%%%%%%%%%%%%%%%%%%%%\n",
      "********************\n",
      "All\n",
      "********************\n",
      "4 ['area'] 74.8090653223\n",
      "--------------------------------------------------------------------------------\n",
      "hvac 22 5 5\n",
      "hvac 22 5 6\n",
      "hvac 22 5 7\n",
      "hvac 22 5 8\n",
      "hvac 22 5 9\n",
      "hvac 22 5 10\n",
      "%%%%%%%%%%%%%%%%%%%%%%%%%%%%%%%%%%%%%%%%\n",
      "hvac\n",
      "%%%%%%%%%%%%%%%%%%%%%%%%%%%%%%%%%%%%%%%%\n",
      "********************\n",
      "All\n",
      "********************\n",
      "6 ['area'] 69.9402388302\n",
      "--------------------------------------------------------------------------------\n",
      "hvac 22 6 5\n",
      "hvac 22 6 6\n",
      "hvac 22 6 7\n",
      "hvac 22 6 8\n",
      "hvac 22 6 9\n",
      "hvac 22 6 10\n",
      "%%%%%%%%%%%%%%%%%%%%%%%%%%%%%%%%%%%%%%%%\n",
      "hvac\n",
      "%%%%%%%%%%%%%%%%%%%%%%%%%%%%%%%%%%%%%%%%\n",
      "********************\n",
      "All\n",
      "********************\n",
      "2 ['area'] 75.7018554698\n",
      "--------------------------------------------------------------------------------\n",
      "hvac 22 7 5\n",
      "hvac 22 7 6\n",
      "hvac 22 7 7\n",
      "hvac 22 7 8\n",
      "hvac 22 7 9\n",
      "hvac 22 7 10\n",
      "%%%%%%%%%%%%%%%%%%%%%%%%%%%%%%%%%%%%%%%%\n",
      "hvac\n",
      "%%%%%%%%%%%%%%%%%%%%%%%%%%%%%%%%%%%%%%%%\n",
      "********************\n",
      "All\n",
      "********************\n",
      "5 ['area'] 72.9736224494\n",
      "--------------------------------------------------------------------------------\n",
      "hvac 22 8 5\n",
      "hvac 22 8 6\n",
      "hvac 22 8 7\n",
      "hvac 22 8 8\n",
      "hvac 22 8 9\n",
      "hvac 22 8 10\n",
      "%%%%%%%%%%%%%%%%%%%%%%%%%%%%%%%%%%%%%%%%\n",
      "hvac\n",
      "%%%%%%%%%%%%%%%%%%%%%%%%%%%%%%%%%%%%%%%%\n",
      "********************\n",
      "All\n",
      "********************\n",
      "4 ['area'] 74.094191303\n",
      "--------------------------------------------------------------------------------\n",
      "hvac 22 9 5\n",
      "hvac 22 9 6\n",
      "hvac 22 9 7\n",
      "hvac 22 9 8\n",
      "hvac 22 9 9\n",
      "hvac 22 9 10\n",
      "%%%%%%%%%%%%%%%%%%%%%%%%%%%%%%%%%%%%%%%%\n",
      "hvac\n",
      "%%%%%%%%%%%%%%%%%%%%%%%%%%%%%%%%%%%%%%%%\n",
      "********************\n",
      "All\n",
      "********************\n",
      "2 ['area'] 72.4778064925\n",
      "--------------------------------------------------------------------------------\n",
      "hvac 24 0 5\n",
      "hvac 24 0 6\n",
      "hvac 24 0 7\n",
      "hvac 24 0 8\n",
      "hvac 24 0 9\n",
      "hvac 24 0 10\n",
      "%%%%%%%%%%%%%%%%%%%%%%%%%%%%%%%%%%%%%%%%\n",
      "hvac\n",
      "%%%%%%%%%%%%%%%%%%%%%%%%%%%%%%%%%%%%%%%%\n",
      "********************\n",
      "All\n",
      "********************\n",
      "6 ['area', 'total_occupants'] 68.8504870312\n",
      "--------------------------------------------------------------------------------\n",
      "hvac 24 1 5\n",
      "hvac 24 1 6\n",
      "hvac 24 1 7\n",
      "hvac 24 1 8\n",
      "hvac 24 1 9\n",
      "hvac 24 1 10\n",
      "%%%%%%%%%%%%%%%%%%%%%%%%%%%%%%%%%%%%%%%%\n",
      "hvac\n",
      "%%%%%%%%%%%%%%%%%%%%%%%%%%%%%%%%%%%%%%%%\n",
      "********************\n",
      "All\n",
      "********************\n",
      "5 ['area'] 75.8763446918\n",
      "--------------------------------------------------------------------------------\n",
      "hvac 24 2 5\n",
      "hvac 24 2 6\n",
      "hvac 24 2 7\n",
      "hvac 24 2 8\n",
      "hvac 24 2 9\n",
      "hvac 24 2 10\n",
      "%%%%%%%%%%%%%%%%%%%%%%%%%%%%%%%%%%%%%%%%\n",
      "hvac\n",
      "%%%%%%%%%%%%%%%%%%%%%%%%%%%%%%%%%%%%%%%%\n",
      "********************\n",
      "All\n",
      "********************\n",
      "5 ['area'] 72.6614839436\n",
      "--------------------------------------------------------------------------------\n",
      "hvac 24 3 5\n",
      "hvac 24 3 6\n",
      "hvac 24 3 7\n",
      "hvac 24 3 8\n",
      "hvac 24 3 9\n",
      "hvac 24 3 10\n",
      "%%%%%%%%%%%%%%%%%%%%%%%%%%%%%%%%%%%%%%%%\n",
      "hvac\n",
      "%%%%%%%%%%%%%%%%%%%%%%%%%%%%%%%%%%%%%%%%\n",
      "********************\n",
      "All\n",
      "********************\n",
      "6 ['area'] 73.1381308248\n",
      "--------------------------------------------------------------------------------\n",
      "hvac 24 4 5\n",
      "hvac 24 4 6\n",
      "hvac 24 4 7\n",
      "hvac 24 4 8\n",
      "hvac 24 4 9\n",
      "hvac 24 4 10\n",
      "%%%%%%%%%%%%%%%%%%%%%%%%%%%%%%%%%%%%%%%%\n",
      "hvac\n",
      "%%%%%%%%%%%%%%%%%%%%%%%%%%%%%%%%%%%%%%%%\n",
      "********************\n",
      "All\n",
      "********************\n",
      "6 ['area'] 73.7977502563\n",
      "--------------------------------------------------------------------------------\n",
      "hvac 24 5 5\n",
      "hvac 24 5 6\n",
      "hvac 24 5 7\n",
      "hvac 24 5 8\n",
      "hvac 24 5 9\n",
      "hvac 24 5 10\n",
      "%%%%%%%%%%%%%%%%%%%%%%%%%%%%%%%%%%%%%%%%\n",
      "hvac\n",
      "%%%%%%%%%%%%%%%%%%%%%%%%%%%%%%%%%%%%%%%%\n",
      "********************\n",
      "All\n",
      "********************\n",
      "6 ['area'] 70.711740026\n",
      "--------------------------------------------------------------------------------\n",
      "hvac 24 6 5\n",
      "hvac 24 6 6\n",
      "hvac 24 6 7\n",
      "hvac 24 6 8\n",
      "hvac 24 6 9\n",
      "hvac 24 6 10\n",
      "%%%%%%%%%%%%%%%%%%%%%%%%%%%%%%%%%%%%%%%%\n",
      "hvac\n",
      "%%%%%%%%%%%%%%%%%%%%%%%%%%%%%%%%%%%%%%%%\n",
      "********************\n",
      "All\n",
      "********************\n",
      "2 ['area'] 72.5401017496\n",
      "--------------------------------------------------------------------------------\n",
      "hvac 24 7 5\n",
      "hvac 24 7 6\n",
      "hvac 24 7 7\n",
      "hvac 24 7 8\n",
      "hvac 24 7 9\n",
      "hvac 24 7 10\n",
      "%%%%%%%%%%%%%%%%%%%%%%%%%%%%%%%%%%%%%%%%\n",
      "hvac\n",
      "%%%%%%%%%%%%%%%%%%%%%%%%%%%%%%%%%%%%%%%%\n",
      "********************\n",
      "All\n",
      "********************\n",
      "3 ['area'] 74.5592043478\n",
      "--------------------------------------------------------------------------------\n",
      "hvac 24 8 5\n",
      "hvac 24 8 6\n",
      "hvac 24 8 7\n",
      "hvac 24 8 8\n",
      "hvac 24 8 9\n",
      "hvac 24 8 10\n",
      "%%%%%%%%%%%%%%%%%%%%%%%%%%%%%%%%%%%%%%%%\n",
      "hvac\n",
      "%%%%%%%%%%%%%%%%%%%%%%%%%%%%%%%%%%%%%%%%\n",
      "********************\n",
      "All\n",
      "********************\n",
      "4 ['area'] 74.5866611616\n",
      "--------------------------------------------------------------------------------\n",
      "hvac 24 9 5\n",
      "hvac 24 9 6\n",
      "hvac 24 9 7\n",
      "hvac 24 9 8\n",
      "hvac 24 9 9\n",
      "hvac 24 9 10\n",
      "%%%%%%%%%%%%%%%%%%%%%%%%%%%%%%%%%%%%%%%%\n",
      "hvac\n",
      "%%%%%%%%%%%%%%%%%%%%%%%%%%%%%%%%%%%%%%%%\n",
      "********************\n",
      "All\n",
      "********************\n",
      "4 ['area'] 72.8006071887\n",
      "--------------------------------------------------------------------------------\n",
      "hvac 26 0 5\n",
      "hvac 26 0 6\n",
      "hvac 26 0 7\n",
      "hvac 26 0 8\n",
      "hvac 26 0 9\n",
      "hvac 26 0 10\n",
      "%%%%%%%%%%%%%%%%%%%%%%%%%%%%%%%%%%%%%%%%\n",
      "hvac\n",
      "%%%%%%%%%%%%%%%%%%%%%%%%%%%%%%%%%%%%%%%%\n",
      "********************\n",
      "All\n",
      "********************\n",
      "6 ['area', 'total_occupants'] 71.4047415318\n",
      "--------------------------------------------------------------------------------\n",
      "hvac 26 1 5\n",
      "hvac 26 1 6\n",
      "hvac 26 1 7\n",
      "hvac 26 1 8\n",
      "hvac 26 1 9\n",
      "hvac 26 1 10\n",
      "%%%%%%%%%%%%%%%%%%%%%%%%%%%%%%%%%%%%%%%%\n",
      "hvac\n",
      "%%%%%%%%%%%%%%%%%%%%%%%%%%%%%%%%%%%%%%%%\n",
      "********************\n",
      "All\n",
      "********************\n",
      "6 ['area'] 75.5794842149\n",
      "--------------------------------------------------------------------------------\n",
      "hvac 26 2 5\n",
      "hvac 26 2 6\n",
      "hvac 26 2 7\n",
      "hvac 26 2 8\n",
      "hvac 26 2 9\n",
      "hvac 26 2 10\n",
      "%%%%%%%%%%%%%%%%%%%%%%%%%%%%%%%%%%%%%%%%\n",
      "hvac\n",
      "%%%%%%%%%%%%%%%%%%%%%%%%%%%%%%%%%%%%%%%%\n",
      "********************\n",
      "All\n",
      "********************\n",
      "5 ['area'] 72.8628575177\n",
      "--------------------------------------------------------------------------------\n",
      "hvac 26 3 5\n",
      "hvac 26 3 6\n",
      "hvac 26 3 7\n",
      "hvac 26 3 8\n",
      "hvac 26 3 9\n",
      "hvac 26 3 10\n",
      "%%%%%%%%%%%%%%%%%%%%%%%%%%%%%%%%%%%%%%%%\n",
      "hvac\n",
      "%%%%%%%%%%%%%%%%%%%%%%%%%%%%%%%%%%%%%%%%\n",
      "********************\n",
      "All\n",
      "********************\n",
      "4 ['area'] 72.9787029486\n",
      "--------------------------------------------------------------------------------\n",
      "hvac 26 4 5\n",
      "hvac 26 4 6\n",
      "hvac 26 4 7\n",
      "hvac 26 4 8\n",
      "hvac 26 4 9\n",
      "hvac 26 4 10\n",
      "%%%%%%%%%%%%%%%%%%%%%%%%%%%%%%%%%%%%%%%%\n",
      "hvac\n",
      "%%%%%%%%%%%%%%%%%%%%%%%%%%%%%%%%%%%%%%%%\n",
      "********************\n",
      "All\n",
      "********************\n",
      "6 ['area'] 72.4349959932\n",
      "--------------------------------------------------------------------------------\n",
      "hvac 26 5 5\n",
      "hvac 26 5 6\n",
      "hvac 26 5 7\n",
      "hvac 26 5 8\n",
      "hvac 26 5 9\n",
      "hvac 26 5 10\n",
      "%%%%%%%%%%%%%%%%%%%%%%%%%%%%%%%%%%%%%%%%\n",
      "hvac\n",
      "%%%%%%%%%%%%%%%%%%%%%%%%%%%%%%%%%%%%%%%%\n",
      "********************\n",
      "All\n",
      "********************\n",
      "6 ['area'] 72.3091642662\n",
      "--------------------------------------------------------------------------------\n",
      "hvac 26 6 5\n",
      "hvac 26 6 6\n",
      "hvac 26 6 7\n",
      "hvac 26 6 8\n",
      "hvac 26 6 9\n",
      "hvac 26 6 10\n",
      "%%%%%%%%%%%%%%%%%%%%%%%%%%%%%%%%%%%%%%%%\n",
      "hvac\n",
      "%%%%%%%%%%%%%%%%%%%%%%%%%%%%%%%%%%%%%%%%\n",
      "********************\n",
      "All\n",
      "********************\n",
      "6 ['area'] 74.6455897777\n",
      "--------------------------------------------------------------------------------\n",
      "hvac 26 7 5\n",
      "hvac 26 7 6\n",
      "hvac 26 7 7\n",
      "hvac 26 7 8\n",
      "hvac 26 7 9\n",
      "hvac 26 7 10\n",
      "%%%%%%%%%%%%%%%%%%%%%%%%%%%%%%%%%%%%%%%%\n",
      "hvac\n",
      "%%%%%%%%%%%%%%%%%%%%%%%%%%%%%%%%%%%%%%%%\n",
      "********************\n",
      "All\n",
      "********************\n",
      "4 ['area'] 71.910634194\n",
      "--------------------------------------------------------------------------------\n",
      "hvac 26 8 5\n",
      "hvac 26 8 6\n",
      "hvac 26 8 7\n",
      "hvac 26 8 8\n",
      "hvac 26 8 9\n",
      "hvac 26 8 10\n",
      "%%%%%%%%%%%%%%%%%%%%%%%%%%%%%%%%%%%%%%%%\n",
      "hvac\n",
      "%%%%%%%%%%%%%%%%%%%%%%%%%%%%%%%%%%%%%%%%\n",
      "********************\n",
      "All\n",
      "********************\n",
      "4 ['area'] 75.674210877\n",
      "--------------------------------------------------------------------------------\n",
      "hvac 26 9 5\n",
      "hvac 26 9 6\n",
      "hvac 26 9 7\n",
      "hvac 26 9 8\n",
      "hvac 26 9 9\n",
      "hvac 26 9 10\n",
      "%%%%%%%%%%%%%%%%%%%%%%%%%%%%%%%%%%%%%%%%\n",
      "hvac\n",
      "%%%%%%%%%%%%%%%%%%%%%%%%%%%%%%%%%%%%%%%%\n",
      "********************\n",
      "All\n",
      "********************\n",
      "3 ['area'] 73.8326733122\n",
      "--------------------------------------------------------------------------------\n",
      "hvac 28 0 5\n",
      "hvac 28 0 6\n",
      "hvac 28 0 7\n",
      "hvac 28 0 8\n",
      "hvac 28 0 9\n",
      "hvac 28 0 10\n",
      "%%%%%%%%%%%%%%%%%%%%%%%%%%%%%%%%%%%%%%%%\n",
      "hvac\n",
      "%%%%%%%%%%%%%%%%%%%%%%%%%%%%%%%%%%%%%%%%\n",
      "********************\n",
      "All\n",
      "********************\n",
      "6 ['area'] 72.2167600962\n",
      "--------------------------------------------------------------------------------\n",
      "hvac 28 1 5\n",
      "hvac 28 1 6\n",
      "hvac 28 1 7\n",
      "hvac 28 1 8\n",
      "hvac 28 1 9\n",
      "hvac 28 1 10\n",
      "%%%%%%%%%%%%%%%%%%%%%%%%%%%%%%%%%%%%%%%%\n",
      "hvac\n",
      "%%%%%%%%%%%%%%%%%%%%%%%%%%%%%%%%%%%%%%%%\n",
      "********************\n",
      "All\n",
      "********************\n",
      "6 ['area'] 74.9601860446\n",
      "--------------------------------------------------------------------------------\n",
      "hvac 28 2 5\n",
      "hvac 28 2 6\n",
      "hvac 28 2 7\n",
      "hvac 28 2 8\n",
      "hvac 28 2 9\n",
      "hvac 28 2 10\n",
      "%%%%%%%%%%%%%%%%%%%%%%%%%%%%%%%%%%%%%%%%\n",
      "hvac\n",
      "%%%%%%%%%%%%%%%%%%%%%%%%%%%%%%%%%%%%%%%%\n",
      "********************\n",
      "All\n",
      "********************\n"
     ]
    },
    {
     "ename": "KeyboardInterrupt",
     "evalue": "",
     "output_type": "error",
     "traceback": [
      "\u001b[0;31m---------------------------------------------------------------------------\u001b[0m",
      "\u001b[0;31mKeyboardInterrupt\u001b[0m                         Traceback (most recent call last)",
      "\u001b[0;32m<ipython-input-13-aff71f31a5f4>\u001b[0m in \u001b[0;36m<module>\u001b[0;34m()\u001b[0m\n\u001b[1;32m     20\u001b[0m                               \u001b[0mNUM_NEIGHBOURS_MAX\u001b[0m\u001b[0;34m=\u001b[0m\u001b[0;36m7\u001b[0m\u001b[0;34m,\u001b[0m \u001b[0mF_length_max\u001b[0m\u001b[0;34m=\u001b[0m\u001b[0;36m6\u001b[0m\u001b[0;34m,\u001b[0m \u001b[0mmetric\u001b[0m\u001b[0;34m=\u001b[0m\u001b[0;34m\"mean\"\u001b[0m\u001b[0;34m,\u001b[0m\u001b[0;34m\u001b[0m\u001b[0m\n\u001b[1;32m     21\u001b[0m                               \u001b[0mtrain_outlier\u001b[0m\u001b[0;34m=\u001b[0m\u001b[0mTrue\u001b[0m\u001b[0;34m,\u001b[0m \u001b[0mtest_outlier\u001b[0m\u001b[0;34m=\u001b[0m\u001b[0mFalse\u001b[0m\u001b[0;34m,\u001b[0m \u001b[0moutlier_features\u001b[0m\u001b[0;34m=\u001b[0m\u001b[0mNone\u001b[0m\u001b[0;34m,\u001b[0m \u001b[0moutlier_fraction\u001b[0m\u001b[0;34m=\u001b[0m\u001b[0;36m0.1\u001b[0m\u001b[0;34m,\u001b[0m\u001b[0;34m\u001b[0m\u001b[0m\n\u001b[0;32m---> 22\u001b[0;31m                               print_steps=False,random_seed=random_seed, num_homes=num_homes)\n\u001b[0m\u001b[1;32m     23\u001b[0m             \u001b[0mf\u001b[0m \u001b[0;34m=\u001b[0m \u001b[0moptimal_dict\u001b[0m\u001b[0;34m[\u001b[0m\u001b[0mappliance\u001b[0m\u001b[0;34m]\u001b[0m\u001b[0;34m[\u001b[0m\u001b[0;34m'All'\u001b[0m\u001b[0;34m]\u001b[0m\u001b[0;34m[\u001b[0m\u001b[0;34m'f'\u001b[0m\u001b[0;34m]\u001b[0m\u001b[0;34m\u001b[0m\u001b[0m\n\u001b[1;32m     24\u001b[0m             \u001b[0mk\u001b[0m \u001b[0;34m=\u001b[0m \u001b[0moptimal_dict\u001b[0m\u001b[0;34m[\u001b[0m\u001b[0mappliance\u001b[0m\u001b[0;34m]\u001b[0m\u001b[0;34m[\u001b[0m\u001b[0;34m'All'\u001b[0m\u001b[0;34m]\u001b[0m\u001b[0;34m[\u001b[0m\u001b[0;34m'k'\u001b[0m\u001b[0;34m]\u001b[0m\u001b[0;34m\u001b[0m\u001b[0m\n",
      "\u001b[0;32m/Users/nipunbatra/git/monthly-disaggregation/code/all_functions.py\u001b[0m in \u001b[0;36mfind_optimal_features_subset\u001b[0;34m(df, dfc, all_homes, appliance_min, national_average, appliance_list, feature_map, NUM_NEIGHBOURS_MAX, F_length_max, metric, train_outlier, test_outlier, outlier_features, outlier_fraction, print_steps, random_seed, num_homes)\u001b[0m\n\u001b[1;32m    534\u001b[0m                                        \u001b[0mappliance\u001b[0m\u001b[0;34m,\u001b[0m \u001b[0mbest\u001b[0m\u001b[0;34m[\u001b[0m\u001b[0;34m:\u001b[0m\u001b[0mi\u001b[0m\u001b[0;34m]\u001b[0m\u001b[0;34m,\u001b[0m \u001b[0mNUM_NEIGHBOURS\u001b[0m\u001b[0;34m,\u001b[0m\u001b[0;34m\u001b[0m\u001b[0m\n\u001b[1;32m    535\u001b[0m                                        \u001b[0mtrain_outlier\u001b[0m\u001b[0;34m,\u001b[0m \u001b[0mtest_outlier\u001b[0m\u001b[0;34m,\u001b[0m \u001b[0moutlier_features\u001b[0m\u001b[0;34m,\u001b[0m \u001b[0moutlier_fraction\u001b[0m\u001b[0;34m,\u001b[0m\u001b[0;34m\u001b[0m\u001b[0m\n\u001b[0;32m--> 536\u001b[0;31m                                        metric,random_seed, num_homes)\n\u001b[0m\u001b[1;32m    537\u001b[0m                     \u001b[0;32mif\u001b[0m \u001b[0mnow_accur\u001b[0m\u001b[0;34m>\u001b[0m\u001b[0mbest_accur\u001b[0m\u001b[0;34m:\u001b[0m\u001b[0;34m\u001b[0m\u001b[0m\n\u001b[1;32m    538\u001b[0m                         \u001b[0mbest_accur\u001b[0m \u001b[0;34m=\u001b[0m \u001b[0mnow_accur\u001b[0m\u001b[0;34m\u001b[0m\u001b[0m\n",
      "\u001b[0;32m/Users/nipunbatra/git/monthly-disaggregation/code/all_functions.py\u001b[0m in \u001b[0;36mcriterion_function_subset\u001b[0;34m(df, dfc, all_homes, appliance_min, national_average, appliance, feature, NUM_NEIGHBOURS, train_outlier, test_outlier, outlier_features, outlier_fraction, metric, random_seed, num_homes)\u001b[0m\n\u001b[1;32m    214\u001b[0m     temp, train_subset = create_predictions_subset(df, dfc, all_homes, appliance_min, national_average,\n\u001b[1;32m    215\u001b[0m                               \u001b[0mappliance\u001b[0m\u001b[0;34m,\u001b[0m \u001b[0mfeature\u001b[0m\u001b[0;34m,\u001b[0m \u001b[0mNUM_NEIGHBOURS\u001b[0m\u001b[0;34m,\u001b[0m \u001b[0mtrain_outlier\u001b[0m\u001b[0;34m,\u001b[0m \u001b[0mtest_outlier\u001b[0m\u001b[0;34m,\u001b[0m \u001b[0moutlier_features\u001b[0m\u001b[0;34m,\u001b[0m\u001b[0;34m\u001b[0m\u001b[0m\n\u001b[0;32m--> 216\u001b[0;31m                               outlier_fraction, random_seed, num_homes)\n\u001b[0m\u001b[1;32m    217\u001b[0m     \u001b[0merrors\u001b[0m \u001b[0;34m=\u001b[0m \u001b[0;34m{\u001b[0m\u001b[0;34m}\u001b[0m\u001b[0;34m\u001b[0m\u001b[0m\n\u001b[1;32m    218\u001b[0m     \u001b[0;32mif\u001b[0m \u001b[0mappliance\u001b[0m \u001b[0;34m==\u001b[0m\u001b[0;34m\"hvac\"\u001b[0m\u001b[0;34m:\u001b[0m\u001b[0;34m\u001b[0m\u001b[0m\n",
      "\u001b[0;32m/Users/nipunbatra/git/monthly-disaggregation/code/all_functions.py\u001b[0m in \u001b[0;36mcreate_predictions_subset\u001b[0;34m(df, dfc, all_homes, appliance_min, national_average, appliance, feature, NUM_NEIGHBOURS, train_outlier, test_outlier, outlier_features, outlier_fraction, random_seed, num_homes)\u001b[0m\n\u001b[1;32m     78\u001b[0m \u001b[0;34m\u001b[0m\u001b[0m\n\u001b[1;32m     79\u001b[0m             \u001b[0;32mif\u001b[0m \u001b[0mtrain_outlier\u001b[0m\u001b[0;34m:\u001b[0m\u001b[0;34m\u001b[0m\u001b[0m\n\u001b[0;32m---> 80\u001b[0;31m                 \u001b[0moutlier_homes\u001b[0m\u001b[0;34m,\u001b[0m \u001b[0minlier_homes\u001b[0m \u001b[0;34m=\u001b[0m \u001b[0mfind_outlier_train\u001b[0m\u001b[0;34m(\u001b[0m\u001b[0my3\u001b[0m\u001b[0;34m.\u001b[0m\u001b[0mix\u001b[0m\u001b[0;34m[\u001b[0m\u001b[0my3\u001b[0m\u001b[0;34m.\u001b[0m\u001b[0mindex\u001b[0m\u001b[0;34m.\u001b[0m\u001b[0mvalues\u001b[0m\u001b[0;34m[\u001b[0m\u001b[0mtrain\u001b[0m\u001b[0;34m]\u001b[0m\u001b[0;34m]\u001b[0m\u001b[0;34m)\u001b[0m\u001b[0;34m\u001b[0m\u001b[0m\n\u001b[0m\u001b[1;32m     81\u001b[0m \u001b[0;34m\u001b[0m\u001b[0m\n\u001b[1;32m     82\u001b[0m             \u001b[0;32melse\u001b[0m\u001b[0;34m:\u001b[0m\u001b[0;34m\u001b[0m\u001b[0m\n",
      "\u001b[0;32m/Users/nipunbatra/git/monthly-disaggregation/code/all_functions.py\u001b[0m in \u001b[0;36mfind_outlier_train\u001b[0;34m(ser, outliers_fraction, min_units)\u001b[0m\n\u001b[1;32m    411\u001b[0m     \u001b[0;32mfrom\u001b[0m \u001b[0mscipy\u001b[0m \u001b[0;32mimport\u001b[0m \u001b[0mstats\u001b[0m\u001b[0;34m\u001b[0m\u001b[0m\n\u001b[1;32m    412\u001b[0m \u001b[0;34m\u001b[0m\u001b[0m\n\u001b[0;32m--> 413\u001b[0;31m     \u001b[0mclf\u001b[0m\u001b[0;34m.\u001b[0m\u001b[0mfit\u001b[0m\u001b[0;34m(\u001b[0m\u001b[0mX\u001b[0m\u001b[0;34m)\u001b[0m\u001b[0;34m\u001b[0m\u001b[0m\n\u001b[0m\u001b[1;32m    414\u001b[0m     \u001b[0my_pred\u001b[0m \u001b[0;34m=\u001b[0m \u001b[0mclf\u001b[0m\u001b[0;34m.\u001b[0m\u001b[0mdecision_function\u001b[0m\u001b[0;34m(\u001b[0m\u001b[0mX\u001b[0m\u001b[0;34m)\u001b[0m\u001b[0;34m.\u001b[0m\u001b[0mravel\u001b[0m\u001b[0;34m(\u001b[0m\u001b[0;34m)\u001b[0m\u001b[0;34m\u001b[0m\u001b[0m\n\u001b[1;32m    415\u001b[0m     threshold = stats.scoreatpercentile(y_pred,\n",
      "\u001b[0;32m/Users/nipunbatra/anaconda/lib/python2.7/site-packages/sklearn/covariance/outlier_detection.pyc\u001b[0m in \u001b[0;36mfit\u001b[0;34m(self, X, y)\u001b[0m\n\u001b[1;32m    185\u001b[0m \u001b[0;34m\u001b[0m\u001b[0m\n\u001b[1;32m    186\u001b[0m     \u001b[0;32mdef\u001b[0m \u001b[0mfit\u001b[0m\u001b[0;34m(\u001b[0m\u001b[0mself\u001b[0m\u001b[0;34m,\u001b[0m \u001b[0mX\u001b[0m\u001b[0;34m,\u001b[0m \u001b[0my\u001b[0m\u001b[0;34m=\u001b[0m\u001b[0mNone\u001b[0m\u001b[0;34m)\u001b[0m\u001b[0;34m:\u001b[0m\u001b[0;34m\u001b[0m\u001b[0m\n\u001b[0;32m--> 187\u001b[0;31m         \u001b[0mMinCovDet\u001b[0m\u001b[0;34m.\u001b[0m\u001b[0mfit\u001b[0m\u001b[0;34m(\u001b[0m\u001b[0mself\u001b[0m\u001b[0;34m,\u001b[0m \u001b[0mX\u001b[0m\u001b[0;34m)\u001b[0m\u001b[0;34m\u001b[0m\u001b[0m\n\u001b[0m\u001b[1;32m    188\u001b[0m         self.threshold_ = sp.stats.scoreatpercentile(\n\u001b[1;32m    189\u001b[0m             self.dist_, 100. * (1. - self.contamination))\n",
      "\u001b[0;32m/Users/nipunbatra/anaconda/lib/python2.7/site-packages/sklearn/covariance/robust_covariance.pyc\u001b[0m in \u001b[0;36mfit\u001b[0;34m(self, X, y)\u001b[0m\n\u001b[1;32m    632\u001b[0m         \u001b[0mself\u001b[0m\u001b[0;34m.\u001b[0m\u001b[0mdist_\u001b[0m \u001b[0;34m=\u001b[0m \u001b[0mraw_dist\u001b[0m\u001b[0;34m\u001b[0m\u001b[0m\n\u001b[1;32m    633\u001b[0m         \u001b[0;31m# obtain consistency at normal models\u001b[0m\u001b[0;34m\u001b[0m\u001b[0;34m\u001b[0m\u001b[0m\n\u001b[0;32m--> 634\u001b[0;31m         \u001b[0mself\u001b[0m\u001b[0;34m.\u001b[0m\u001b[0mcorrect_covariance\u001b[0m\u001b[0;34m(\u001b[0m\u001b[0mX\u001b[0m\u001b[0;34m)\u001b[0m\u001b[0;34m\u001b[0m\u001b[0m\n\u001b[0m\u001b[1;32m    635\u001b[0m         \u001b[0;31m# re-weight estimator\u001b[0m\u001b[0;34m\u001b[0m\u001b[0;34m\u001b[0m\u001b[0m\n\u001b[1;32m    636\u001b[0m         \u001b[0mself\u001b[0m\u001b[0;34m.\u001b[0m\u001b[0mreweight_covariance\u001b[0m\u001b[0;34m(\u001b[0m\u001b[0mX\u001b[0m\u001b[0;34m)\u001b[0m\u001b[0;34m\u001b[0m\u001b[0m\n",
      "\u001b[0;32m/Users/nipunbatra/anaconda/lib/python2.7/site-packages/sklearn/covariance/robust_covariance.pyc\u001b[0m in \u001b[0;36mcorrect_covariance\u001b[0;34m(self, data)\u001b[0m\n\u001b[1;32m    657\u001b[0m \u001b[0;34m\u001b[0m\u001b[0m\n\u001b[1;32m    658\u001b[0m         \"\"\"\n\u001b[0;32m--> 659\u001b[0;31m         \u001b[0mcorrection\u001b[0m \u001b[0;34m=\u001b[0m \u001b[0mnp\u001b[0m\u001b[0;34m.\u001b[0m\u001b[0mmedian\u001b[0m\u001b[0;34m(\u001b[0m\u001b[0mself\u001b[0m\u001b[0;34m.\u001b[0m\u001b[0mdist_\u001b[0m\u001b[0;34m)\u001b[0m \u001b[0;34m/\u001b[0m \u001b[0mchi2\u001b[0m\u001b[0;34m(\u001b[0m\u001b[0mdata\u001b[0m\u001b[0;34m.\u001b[0m\u001b[0mshape\u001b[0m\u001b[0;34m[\u001b[0m\u001b[0;36m1\u001b[0m\u001b[0;34m]\u001b[0m\u001b[0;34m)\u001b[0m\u001b[0;34m.\u001b[0m\u001b[0misf\u001b[0m\u001b[0;34m(\u001b[0m\u001b[0;36m0.5\u001b[0m\u001b[0;34m)\u001b[0m\u001b[0;34m\u001b[0m\u001b[0m\n\u001b[0m\u001b[1;32m    660\u001b[0m         \u001b[0mcovariance_corrected\u001b[0m \u001b[0;34m=\u001b[0m \u001b[0mself\u001b[0m\u001b[0;34m.\u001b[0m\u001b[0mraw_covariance_\u001b[0m \u001b[0;34m*\u001b[0m \u001b[0mcorrection\u001b[0m\u001b[0;34m\u001b[0m\u001b[0m\n\u001b[1;32m    661\u001b[0m         \u001b[0mself\u001b[0m\u001b[0;34m.\u001b[0m\u001b[0mdist_\u001b[0m \u001b[0;34m/=\u001b[0m \u001b[0mcorrection\u001b[0m\u001b[0;34m\u001b[0m\u001b[0m\n",
      "\u001b[0;32m/Users/nipunbatra/anaconda/lib/python2.7/site-packages/numpy/lib/function_base.pyc\u001b[0m in \u001b[0;36mmedian\u001b[0;34m(a, axis, out, overwrite_input, keepdims)\u001b[0m\n\u001b[1;32m   3082\u001b[0m     \"\"\"\n\u001b[1;32m   3083\u001b[0m     r, k = _ureduce(a, func=_median, axis=axis, out=out,\n\u001b[0;32m-> 3084\u001b[0;31m                     overwrite_input=overwrite_input)\n\u001b[0m\u001b[1;32m   3085\u001b[0m     \u001b[0;32mif\u001b[0m \u001b[0mkeepdims\u001b[0m\u001b[0;34m:\u001b[0m\u001b[0;34m\u001b[0m\u001b[0m\n\u001b[1;32m   3086\u001b[0m         \u001b[0;32mreturn\u001b[0m \u001b[0mr\u001b[0m\u001b[0;34m.\u001b[0m\u001b[0mreshape\u001b[0m\u001b[0;34m(\u001b[0m\u001b[0mk\u001b[0m\u001b[0;34m)\u001b[0m\u001b[0;34m\u001b[0m\u001b[0m\n",
      "\u001b[0;32m/Users/nipunbatra/anaconda/lib/python2.7/site-packages/numpy/lib/function_base.pyc\u001b[0m in \u001b[0;36m_ureduce\u001b[0;34m(a, func, **kwargs)\u001b[0m\n\u001b[1;32m   2995\u001b[0m         \u001b[0mkeepdim\u001b[0m \u001b[0;34m=\u001b[0m \u001b[0;34m[\u001b[0m\u001b[0;36m1\u001b[0m\u001b[0;34m]\u001b[0m \u001b[0;34m*\u001b[0m \u001b[0ma\u001b[0m\u001b[0;34m.\u001b[0m\u001b[0mndim\u001b[0m\u001b[0;34m\u001b[0m\u001b[0m\n\u001b[1;32m   2996\u001b[0m \u001b[0;34m\u001b[0m\u001b[0m\n\u001b[0;32m-> 2997\u001b[0;31m     \u001b[0mr\u001b[0m \u001b[0;34m=\u001b[0m \u001b[0mfunc\u001b[0m\u001b[0;34m(\u001b[0m\u001b[0ma\u001b[0m\u001b[0;34m,\u001b[0m \u001b[0;34m**\u001b[0m\u001b[0mkwargs\u001b[0m\u001b[0;34m)\u001b[0m\u001b[0;34m\u001b[0m\u001b[0m\n\u001b[0m\u001b[1;32m   2998\u001b[0m     \u001b[0;32mreturn\u001b[0m \u001b[0mr\u001b[0m\u001b[0;34m,\u001b[0m \u001b[0mkeepdim\u001b[0m\u001b[0;34m\u001b[0m\u001b[0m\n\u001b[1;32m   2999\u001b[0m \u001b[0;34m\u001b[0m\u001b[0m\n",
      "\u001b[0;32m/Users/nipunbatra/anaconda/lib/python2.7/site-packages/numpy/lib/function_base.pyc\u001b[0m in \u001b[0;36m_median\u001b[0;34m(a, axis, out, overwrite_input)\u001b[0m\n\u001b[1;32m   3132\u001b[0m \u001b[0;34m\u001b[0m\u001b[0m\n\u001b[1;32m   3133\u001b[0m     \u001b[0;31m# Check if the array contains any nan's\u001b[0m\u001b[0;34m\u001b[0m\u001b[0;34m\u001b[0m\u001b[0m\n\u001b[0;32m-> 3134\u001b[0;31m     \u001b[0;32mif\u001b[0m \u001b[0mnp\u001b[0m\u001b[0;34m.\u001b[0m\u001b[0missubdtype\u001b[0m\u001b[0;34m(\u001b[0m\u001b[0ma\u001b[0m\u001b[0;34m.\u001b[0m\u001b[0mdtype\u001b[0m\u001b[0;34m,\u001b[0m \u001b[0mnp\u001b[0m\u001b[0;34m.\u001b[0m\u001b[0minexact\u001b[0m\u001b[0;34m)\u001b[0m \u001b[0;32mand\u001b[0m \u001b[0msz\u001b[0m \u001b[0;34m>\u001b[0m \u001b[0;36m0\u001b[0m\u001b[0;34m:\u001b[0m\u001b[0;34m\u001b[0m\u001b[0m\n\u001b[0m\u001b[1;32m   3135\u001b[0m         \u001b[0;31m# warn and return nans like mean would\u001b[0m\u001b[0;34m\u001b[0m\u001b[0;34m\u001b[0m\u001b[0m\n\u001b[1;32m   3136\u001b[0m         \u001b[0mrout\u001b[0m \u001b[0;34m=\u001b[0m \u001b[0mmean\u001b[0m\u001b[0;34m(\u001b[0m\u001b[0mpart\u001b[0m\u001b[0;34m[\u001b[0m\u001b[0mindexer\u001b[0m\u001b[0;34m]\u001b[0m\u001b[0;34m,\u001b[0m \u001b[0maxis\u001b[0m\u001b[0;34m=\u001b[0m\u001b[0maxis\u001b[0m\u001b[0;34m,\u001b[0m \u001b[0mout\u001b[0m\u001b[0;34m=\u001b[0m\u001b[0mout\u001b[0m\u001b[0;34m)\u001b[0m\u001b[0;34m\u001b[0m\u001b[0m\n",
      "\u001b[0;32m/Users/nipunbatra/anaconda/lib/python2.7/site-packages/numpy/core/numerictypes.pyc\u001b[0m in \u001b[0;36missubdtype\u001b[0;34m(arg1, arg2)\u001b[0m\n\u001b[1;32m    753\u001b[0m     \"\"\"\n\u001b[1;32m    754\u001b[0m     \u001b[0;32mif\u001b[0m \u001b[0missubclass_\u001b[0m\u001b[0;34m(\u001b[0m\u001b[0marg2\u001b[0m\u001b[0;34m,\u001b[0m \u001b[0mgeneric\u001b[0m\u001b[0;34m)\u001b[0m\u001b[0;34m:\u001b[0m\u001b[0;34m\u001b[0m\u001b[0m\n\u001b[0;32m--> 755\u001b[0;31m         \u001b[0;32mreturn\u001b[0m \u001b[0missubclass\u001b[0m\u001b[0;34m(\u001b[0m\u001b[0mdtype\u001b[0m\u001b[0;34m(\u001b[0m\u001b[0marg1\u001b[0m\u001b[0;34m)\u001b[0m\u001b[0;34m.\u001b[0m\u001b[0mtype\u001b[0m\u001b[0;34m,\u001b[0m \u001b[0marg2\u001b[0m\u001b[0;34m)\u001b[0m\u001b[0;34m\u001b[0m\u001b[0m\n\u001b[0m\u001b[1;32m    756\u001b[0m     \u001b[0mmro\u001b[0m \u001b[0;34m=\u001b[0m \u001b[0mdtype\u001b[0m\u001b[0;34m(\u001b[0m\u001b[0marg2\u001b[0m\u001b[0;34m)\u001b[0m\u001b[0;34m.\u001b[0m\u001b[0mtype\u001b[0m\u001b[0;34m.\u001b[0m\u001b[0mmro\u001b[0m\u001b[0;34m(\u001b[0m\u001b[0;34m)\u001b[0m\u001b[0;34m\u001b[0m\u001b[0m\n\u001b[1;32m    757\u001b[0m     \u001b[0;32mif\u001b[0m \u001b[0mlen\u001b[0m\u001b[0;34m(\u001b[0m\u001b[0mmro\u001b[0m\u001b[0;34m)\u001b[0m \u001b[0;34m>\u001b[0m \u001b[0;36m1\u001b[0m\u001b[0;34m:\u001b[0m\u001b[0;34m\u001b[0m\u001b[0m\n",
      "\u001b[0;31mKeyboardInterrupt\u001b[0m: "
     ]
    }
   ],
   "source": [
    "import sys\n",
    "\n",
    "from sklearn.neighbors import KNeighborsRegressor\n",
    "#o = {}\n",
    "for appliance in [\"hvac\"]:\n",
    "    if appliance not in o:\n",
    "        o[appliance] = {}\n",
    "    if appliance==\"hvac\":\n",
    "        start, stop=5, 11\n",
    "    else:\n",
    "        start, stop=1, 13\n",
    "    for num_homes in [22, 24, 26, 28, 30]:\n",
    "        if num_homes not in o[appliance]:\n",
    "            o[appliance][num_homes] = {}\n",
    "        for random_seed in range(10):\n",
    "            o[appliance][num_homes][random_seed] = {}\n",
    "            a,optimal_dict,train_homes = find_optimal_features_subset(df, dfc, all_homes, appliance_min, \n",
    "                                                                          national_average, [appliance], \n",
    "                                 {\"All\":feature_map[\"Static\"]},\n",
    "                              NUM_NEIGHBOURS_MAX=7, F_length_max=6, metric=\"mean\",\n",
    "                              train_outlier=True, test_outlier=False, outlier_features=None, outlier_fraction=0.1,\n",
    "                              print_steps=False,random_seed=random_seed, num_homes=num_homes)\n",
    "            f = optimal_dict[appliance]['All']['f']\n",
    "            k = optimal_dict[appliance]['All']['k']\n",
    "            for month in range(start, stop):   \n",
    "                \n",
    "                print appliance, num_homes, random_seed, month\n",
    "                sys.stdout.flush()\n",
    "                \n",
    "                clf = KNeighborsRegressor(n_neighbors=k)\n",
    "                clf.fit(df.ix[train_homes][f], df.ix[train_homes]['%s_%d' %(appliance, month)])\n",
    "                test_homes = np.setdiff1d(all_homes[appliance], train_homes)\n",
    "                pred = pd.Series(clf.predict(df.ix[test_homes][f]), index=test_homes)\n",
    "                gt = df.ix[test_homes]['%s_%d' %(appliance, month)]\n",
    "                accur = 100-(pred-gt).abs().div(gt).mul(100)\n",
    "                accur[accur<0]=0\n",
    "                o[appliance][num_homes][random_seed][month]=accur.mean().mean()\n",
    "            o[appliance][num_homes][random_seed] = pd.Series(o[appliance][num_homes][random_seed][month]).mean()\n",
    "        o[appliance][num_homes] = o[appliance][num_homes].values()\n",
    "                \n",
    "            "
   ]
  },
  {
   "cell_type": "code",
   "execution_count": 14,
   "metadata": {
    "collapsed": false
   },
   "outputs": [],
   "source": [
    "d = pd.DataFrame({num:o[appliance][num] for num in range(10, 28, 2)})"
   ]
  },
  {
   "cell_type": "code",
   "execution_count": 15,
   "metadata": {
    "collapsed": false
   },
   "outputs": [
    {
     "data": {
      "text/plain": [
       "10    54.843610\n",
       "12    55.200658\n",
       "14    58.065114\n",
       "16    56.878032\n",
       "18    56.123473\n",
       "20    54.168164\n",
       "22    54.134349\n",
       "24    51.146492\n",
       "26    50.301709\n",
       "dtype: float64"
      ]
     },
     "execution_count": 15,
     "metadata": {},
     "output_type": "execute_result"
    }
   ],
   "source": [
    "d.mean()"
   ]
  },
  {
   "cell_type": "code",
   "execution_count": 120,
   "metadata": {
    "collapsed": false
   },
   "outputs": [
    {
     "data": {
      "text/plain": [
       "{10: {0: 64.650257340519772},\n",
       " 15: {0: 59.832796095091076},\n",
       " 20: {0: 70.596354522818601}}"
      ]
     },
     "execution_count": 120,
     "metadata": {},
     "output_type": "execute_result"
    }
   ],
   "source": [
    "o[appliance]"
   ]
  },
  {
   "cell_type": "code",
   "execution_count": 118,
   "metadata": {
    "collapsed": false
   },
   "outputs": [
    {
     "data": {
      "text/plain": [
       "{10: {0: 56.181039909549369},\n",
       " 11: {0: 53.839262737242692},\n",
       " 15: {0: 57.109780976630304},\n",
       " 20: {0: 51.969433707156547}}"
      ]
     },
     "execution_count": 118,
     "metadata": {},
     "output_type": "execute_result"
    }
   ],
   "source": [
    "o[appliance]"
   ]
  },
  {
   "cell_type": "code",
   "execution_count": 125,
   "metadata": {
    "collapsed": false
   },
   "outputs": [
    {
     "data": {
      "text/plain": [
       "15"
      ]
     },
     "execution_count": 125,
     "metadata": {},
     "output_type": "execute_result"
    }
   ],
   "source": [
    "len(feature_map[\"Monthly\"])"
   ]
  },
  {
   "cell_type": "code",
   "execution_count": 55,
   "metadata": {
    "collapsed": true
   },
   "outputs": [],
   "source": [
    "output = {}\n",
    "for appliance_name, appliance_results in out_appliance.iteritems():\n",
    "    output[appliance_name] = pd.Series(appliance_results[0])\n",
    "    tot = len(appliance_results)\n",
    "    for i in range(1, tot):\n",
    "        output[appliance_name] = output[appliance_name] + pd.Series(appliance_results[i])\n",
    "\n",
    "output_df = pd.DataFrame(output)\n",
    "output_df = output_df.div(tot)"
   ]
  },
  {
   "cell_type": "code",
   "execution_count": 2,
   "metadata": {
    "collapsed": false
   },
   "outputs": [],
   "source": [
    "#output_df.to_csv(\"sensitivity_num_homes.csv\")\n",
    "output_df = pd.read_csv(\"sensitivity_num_homes.csv\", index_col=0)"
   ]
  },
  {
   "cell_type": "code",
   "execution_count": 3,
   "metadata": {
    "collapsed": true
   },
   "outputs": [],
   "source": [
    "%matplotlib inline\n",
    "import matplotlib.pyplot as plt"
   ]
  },
  {
   "cell_type": "code",
   "execution_count": 4,
   "metadata": {
    "collapsed": true
   },
   "outputs": [],
   "source": [
    "from common_functions import latexify, format_axes"
   ]
  },
  {
   "cell_type": "code",
   "execution_count": 5,
   "metadata": {
    "collapsed": false
   },
   "outputs": [
    {
     "name": "stderr",
     "output_type": "stream",
     "text": [
      "/Users/nipunbatra/anaconda/lib/python2.7/site-packages/matplotlib/__init__.py:872: UserWarning: axes.color_cycle is deprecated and replaced with axes.prop_cycle; please use the latter.\n",
      "  warnings.warn(self.msg_depr % (key, alt_key))\n",
      "/Users/nipunbatra/anaconda/lib/python2.7/site-packages/matplotlib/__init__.py:872: UserWarning: text.fontsize is deprecated and replaced with font.size; please use the latter.\n",
      "  warnings.warn(self.msg_depr % (key, alt_key))\n"
     ]
    }
   ],
   "source": [
    "latexify()"
   ]
  },
  {
   "cell_type": "code",
   "execution_count": 33,
   "metadata": {
    "collapsed": false
   },
   "outputs": [],
   "source": [
    "tableau20blind =  [(31, 119, 180), (174, 199, 232), (255, 127, 14), (255, 187, 120),  \n",
    "             (44, 160, 44), (152, 223, 138), (214, 39, 40), (255, 152, 150),  \n",
    "             (148, 103, 189), (197, 176, 213), (140, 86, 75), (196, 156, 148),  \n",
    "             (227, 119, 194), (247, 182, 210), (127, 127, 127), (199, 199, 199),  \n",
    "             (188, 189, 34), (219, 219, 141), (23, 190, 207), (158, 218, 229)]\n",
    "  \n",
    "# Rescale to values between 0 and 1\n",
    "for i in range(len(tableau20blind)):  \n",
    "    r, g, b = tableau20blind[i]  \n",
    "    tableau20blind[i] = (r / 255., g / 255., b / 255.)\n",
    "    \n",
    "markers = ['o','^','*','v','.','d']"
   ]
  },
  {
   "cell_type": "code",
   "execution_count": 35,
   "metadata": {
    "collapsed": false
   },
   "outputs": [
    {
     "data": {
      "image/png": "[encoded data removed]",
      "text/plain": [
       "<matplotlib.figure.Figure at 0x115098710>"
      ]
     },
     "metadata": {},
     "output_type": "display_data"
    }
   ],
   "source": [
    "appliance_name_mapping = {\"dr\": \"Dryer\", \"wm\": \"Washing machine\",\n",
    "                          \"fridge\":\"Fridge\",\"light\":\"Lighting\",\n",
    "                          \"hvac\":\"HVAC\",\"dw\":\"Dish washer\"}\n",
    "\n",
    "normalised_output = {}\n",
    "fig, ax = plt.subplots(1,1)\n",
    "for i, appliance_name in enumerate(output_df.columns):\n",
    "    temp = output_df[appliance_name].dropna()\n",
    "    temp.index= np.linspace(0, 1, len(output_df[appliance_name].dropna()))\n",
    "    normalised_output[appliance_name] = temp\n",
    "    pd.Series(normalised_output[appliance_name]).plot(ax=ax, label=appliance_name_mapping[appliance_name], \n",
    "                                                      color=tableau20blind[i*2])\n",
    "plt.xlim((0.1,1.))\n",
    "plt.ylim((0, 100))\n",
    "plt.legend(loc='center left', bbox_to_anchor=(0, 1.1), ncol=2)\n",
    "plt.xlabel(\"Proportion of homes in traning set\")\n",
    "plt.ylabel(\"Accuracy\")\n",
    "format_axes(plt.gca())\n",
    "plt.tight_layout()\n",
    "plt.savefig(\"/Users/nipunbatra/git/monthly-disaggregation/results/sensitivity_num_homes.png\",bbox_inches=\"tight\")\n",
    "plt.savefig(\"/Users/nipunbatra/git/monthly-disaggregation/results/sensitivity_num_homes.pdf\",bbox_inches=\"tight\")"
   ]
  },
  {
   "cell_type": "code",
   "execution_count": 50,
   "metadata": {
    "collapsed": true
   },
   "outputs": [],
   "source": [
    "normalised_output_df = pd.DataFrame(normalised_output)"
   ]
  },
  {
   "cell_type": "code",
   "execution_count": null,
   "metadata": {
    "collapsed": true
   },
   "outputs": [],
   "source": []
  }
 ],
 "metadata": {
  "kernelspec": {
   "display_name": "Python 2",
   "language": "python",
   "name": "python2"
  },
  "language_info": {
   "codemirror_mode": {
    "name": "ipython",
    "version": 2
   },
   "file_extension": ".py",
   "mimetype": "text/x-python",
   "name": "python",
   "nbconvert_exporter": "python",
   "pygments_lexer": "ipython2",
   "version": "2.7.11"
  }
 },
 "nbformat": 4,
 "nbformat_minor": 0
}
