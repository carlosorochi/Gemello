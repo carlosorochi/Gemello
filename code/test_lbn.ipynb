{
 "cells": [
  {
   "cell_type": "code",
   "execution_count": 147,
   "metadata": {
    "collapsed": false
   },
   "outputs": [],
   "source": [
    "from __future__ import print_function, division\n",
    "import unittest\n",
    "from os.path import join\n",
    "from os import remove\n",
    "from nilmtk.datastore import HDFDataStore\n",
    "from nilmtk import DataSet\n",
    "from nilmtk.disaggregate import FHMM\n",
    "\n",
    "import pandas as pd\n",
    "from pandas import HDFStore"
   ]
  },
  {
   "cell_type": "code",
   "execution_count": 148,
   "metadata": {
    "collapsed": true
   },
   "outputs": [],
   "source": [
    "from latent_Bayesian_melding import LatentBayesianMelding"
   ]
  },
  {
   "cell_type": "code",
   "execution_count": 149,
   "metadata": {
    "collapsed": true
   },
   "outputs": [],
   "source": [
    "filename_meterdata_ukdale = join(\"/Users/nipunbatra/Downloads/\", 'meterdata_ukdale.h5')"
   ]
  },
  {
   "cell_type": "code",
   "execution_count": 150,
   "metadata": {
    "collapsed": false
   },
   "outputs": [],
   "source": [
    "%matplotlib inline"
   ]
  },
  {
   "cell_type": "code",
   "execution_count": 151,
   "metadata": {
    "collapsed": true
   },
   "outputs": [],
   "source": [
    "meterdata_ukdale = HDFStore(filename_meterdata_ukdale)"
   ]
  },
  {
   "cell_type": "code",
   "execution_count": 152,
   "metadata": {
    "collapsed": false
   },
   "outputs": [
    {
     "data": {
      "text/html": [
       "<div>\n",
       "<table border=\"1\" class=\"dataframe\">\n",
       "  <thead>\n",
       "    <tr style=\"text-align: right;\">\n",
       "      <th></th>\n",
       "      <th>('laptop computer', 1)</th>\n",
       "      <th>('computer monitor', 1)</th>\n",
       "      <th>('active speaker', 1)</th>\n",
       "      <th>('computer', 1)</th>\n",
       "      <th>('broadband router', 1)</th>\n",
       "      <th>('external hard disk', 1)</th>\n",
       "      <th>('kettle', 1)</th>\n",
       "      <th>('rice cooker', 1)</th>\n",
       "      <th>('running machine', 1)</th>\n",
       "      <th>('laptop computer', 2)</th>\n",
       "      <th>('washing machine', 1)</th>\n",
       "      <th>('dish washer', 1)</th>\n",
       "      <th>('fridge', 1)</th>\n",
       "      <th>('microwave', 1)</th>\n",
       "      <th>('toaster', 1)</th>\n",
       "      <th>('games console', 1)</th>\n",
       "      <th>('modem', 1)</th>\n",
       "      <th>('cooker', 1)</th>\n",
       "      <th>mains</th>\n",
       "      <th>synthetic mains</th>\n",
       "    </tr>\n",
       "  </thead>\n",
       "  <tbody>\n",
       "    <tr>\n",
       "      <th>2013-06-08 00:00:00+01:00</th>\n",
       "      <td>0</td>\n",
       "      <td>0</td>\n",
       "      <td>1</td>\n",
       "      <td>4.701754</td>\n",
       "      <td>2.052632</td>\n",
       "      <td>0.300000</td>\n",
       "      <td>0.280702</td>\n",
       "      <td>0.333333</td>\n",
       "      <td>3.166667</td>\n",
       "      <td>0.000000</td>\n",
       "      <td>1.066667</td>\n",
       "      <td>0.283333</td>\n",
       "      <td>29.250000</td>\n",
       "      <td>0</td>\n",
       "      <td>0.016667</td>\n",
       "      <td>0.300000</td>\n",
       "      <td>3</td>\n",
       "      <td>0</td>\n",
       "      <td>58.117223</td>\n",
       "      <td>45.751754</td>\n",
       "    </tr>\n",
       "    <tr>\n",
       "      <th>2013-06-08 00:02:00+01:00</th>\n",
       "      <td>0</td>\n",
       "      <td>0</td>\n",
       "      <td>1</td>\n",
       "      <td>4.733333</td>\n",
       "      <td>2.033333</td>\n",
       "      <td>0.200000</td>\n",
       "      <td>0.333333</td>\n",
       "      <td>0.333333</td>\n",
       "      <td>3.157895</td>\n",
       "      <td>0.070175</td>\n",
       "      <td>1.052632</td>\n",
       "      <td>0.333333</td>\n",
       "      <td>32.000000</td>\n",
       "      <td>0</td>\n",
       "      <td>0.105263</td>\n",
       "      <td>0.315789</td>\n",
       "      <td>3</td>\n",
       "      <td>0</td>\n",
       "      <td>65.959752</td>\n",
       "      <td>48.668421</td>\n",
       "    </tr>\n",
       "    <tr>\n",
       "      <th>2013-06-08 00:04:00+01:00</th>\n",
       "      <td>0</td>\n",
       "      <td>0</td>\n",
       "      <td>1</td>\n",
       "      <td>4.649123</td>\n",
       "      <td>2.087719</td>\n",
       "      <td>0.228070</td>\n",
       "      <td>0.298246</td>\n",
       "      <td>0.333333</td>\n",
       "      <td>3.166667</td>\n",
       "      <td>0.033333</td>\n",
       "      <td>1.133333</td>\n",
       "      <td>0.298246</td>\n",
       "      <td>30.508771</td>\n",
       "      <td>0</td>\n",
       "      <td>0.100000</td>\n",
       "      <td>0.300000</td>\n",
       "      <td>3</td>\n",
       "      <td>0</td>\n",
       "      <td>64.443502</td>\n",
       "      <td>47.136842</td>\n",
       "    </tr>\n",
       "    <tr>\n",
       "      <th>2013-06-08 00:06:00+01:00</th>\n",
       "      <td>0</td>\n",
       "      <td>0</td>\n",
       "      <td>1</td>\n",
       "      <td>4.300000</td>\n",
       "      <td>2.133333</td>\n",
       "      <td>0.316667</td>\n",
       "      <td>0.333333</td>\n",
       "      <td>0.333333</td>\n",
       "      <td>3.416667</td>\n",
       "      <td>0.033333</td>\n",
       "      <td>1.050000</td>\n",
       "      <td>0.300000</td>\n",
       "      <td>29.633334</td>\n",
       "      <td>0</td>\n",
       "      <td>0.066667</td>\n",
       "      <td>0.245614</td>\n",
       "      <td>3</td>\n",
       "      <td>0</td>\n",
       "      <td>63.058278</td>\n",
       "      <td>46.162281</td>\n",
       "    </tr>\n",
       "    <tr>\n",
       "      <th>2013-06-08 00:08:00+01:00</th>\n",
       "      <td>0</td>\n",
       "      <td>0</td>\n",
       "      <td>1</td>\n",
       "      <td>4.298246</td>\n",
       "      <td>2.035088</td>\n",
       "      <td>0.192982</td>\n",
       "      <td>0.333333</td>\n",
       "      <td>0.333333</td>\n",
       "      <td>3.192982</td>\n",
       "      <td>0.052632</td>\n",
       "      <td>1.087719</td>\n",
       "      <td>0.315789</td>\n",
       "      <td>29.052633</td>\n",
       "      <td>0</td>\n",
       "      <td>0.105263</td>\n",
       "      <td>0.300000</td>\n",
       "      <td>3</td>\n",
       "      <td>0</td>\n",
       "      <td>62.140030</td>\n",
       "      <td>45.300001</td>\n",
       "    </tr>\n",
       "  </tbody>\n",
       "</table>\n",
       "</div>"
      ],
      "text/plain": [
       "                           ('laptop computer', 1)  ('computer monitor', 1)  \\\n",
       "2013-06-08 00:00:00+01:00                       0                        0   \n",
       "2013-06-08 00:02:00+01:00                       0                        0   \n",
       "2013-06-08 00:04:00+01:00                       0                        0   \n",
       "2013-06-08 00:06:00+01:00                       0                        0   \n",
       "2013-06-08 00:08:00+01:00                       0                        0   \n",
       "\n",
       "                           ('active speaker', 1)  ('computer', 1)  \\\n",
       "2013-06-08 00:00:00+01:00                      1         4.701754   \n",
       "2013-06-08 00:02:00+01:00                      1         4.733333   \n",
       "2013-06-08 00:04:00+01:00                      1         4.649123   \n",
       "2013-06-08 00:06:00+01:00                      1         4.300000   \n",
       "2013-06-08 00:08:00+01:00                      1         4.298246   \n",
       "\n",
       "                           ('broadband router', 1)  ('external hard disk', 1)  \\\n",
       "2013-06-08 00:00:00+01:00                 2.052632                   0.300000   \n",
       "2013-06-08 00:02:00+01:00                 2.033333                   0.200000   \n",
       "2013-06-08 00:04:00+01:00                 2.087719                   0.228070   \n",
       "2013-06-08 00:06:00+01:00                 2.133333                   0.316667   \n",
       "2013-06-08 00:08:00+01:00                 2.035088                   0.192982   \n",
       "\n",
       "                           ('kettle', 1)  ('rice cooker', 1)  \\\n",
       "2013-06-08 00:00:00+01:00       0.280702            0.333333   \n",
       "2013-06-08 00:02:00+01:00       0.333333            0.333333   \n",
       "2013-06-08 00:04:00+01:00       0.298246            0.333333   \n",
       "2013-06-08 00:06:00+01:00       0.333333            0.333333   \n",
       "2013-06-08 00:08:00+01:00       0.333333            0.333333   \n",
       "\n",
       "                           ('running machine', 1)  ('laptop computer', 2)  \\\n",
       "2013-06-08 00:00:00+01:00                3.166667                0.000000   \n",
       "2013-06-08 00:02:00+01:00                3.157895                0.070175   \n",
       "2013-06-08 00:04:00+01:00                3.166667                0.033333   \n",
       "2013-06-08 00:06:00+01:00                3.416667                0.033333   \n",
       "2013-06-08 00:08:00+01:00                3.192982                0.052632   \n",
       "\n",
       "                           ('washing machine', 1)  ('dish washer', 1)  \\\n",
       "2013-06-08 00:00:00+01:00                1.066667            0.283333   \n",
       "2013-06-08 00:02:00+01:00                1.052632            0.333333   \n",
       "2013-06-08 00:04:00+01:00                1.133333            0.298246   \n",
       "2013-06-08 00:06:00+01:00                1.050000            0.300000   \n",
       "2013-06-08 00:08:00+01:00                1.087719            0.315789   \n",
       "\n",
       "                           ('fridge', 1)  ('microwave', 1)  ('toaster', 1)  \\\n",
       "2013-06-08 00:00:00+01:00      29.250000                 0        0.016667   \n",
       "2013-06-08 00:02:00+01:00      32.000000                 0        0.105263   \n",
       "2013-06-08 00:04:00+01:00      30.508771                 0        0.100000   \n",
       "2013-06-08 00:06:00+01:00      29.633334                 0        0.066667   \n",
       "2013-06-08 00:08:00+01:00      29.052633                 0        0.105263   \n",
       "\n",
       "                           ('games console', 1)  ('modem', 1)  ('cooker', 1)  \\\n",
       "2013-06-08 00:00:00+01:00              0.300000             3              0   \n",
       "2013-06-08 00:02:00+01:00              0.315789             3              0   \n",
       "2013-06-08 00:04:00+01:00              0.300000             3              0   \n",
       "2013-06-08 00:06:00+01:00              0.245614             3              0   \n",
       "2013-06-08 00:08:00+01:00              0.300000             3              0   \n",
       "\n",
       "                               mains  synthetic mains  \n",
       "2013-06-08 00:00:00+01:00  58.117223        45.751754  \n",
       "2013-06-08 00:02:00+01:00  65.959752        48.668421  \n",
       "2013-06-08 00:04:00+01:00  64.443502        47.136842  \n",
       "2013-06-08 00:06:00+01:00  63.058278        46.162281  \n",
       "2013-06-08 00:08:00+01:00  62.140030        45.300001  "
      ]
     },
     "execution_count": 152,
     "metadata": {},
     "output_type": "execute_result"
    }
   ],
   "source": [
    "meterdata_ukdale['/meterdata'].head()"
   ]
  },
  {
   "cell_type": "code",
   "execution_count": 153,
   "metadata": {
    "collapsed": true
   },
   "outputs": [],
   "source": [
    "sample_seconds = 120"
   ]
  },
  {
   "cell_type": "code",
   "execution_count": 154,
   "metadata": {
    "collapsed": true
   },
   "outputs": [],
   "source": [
    "building_information = 'ukdale/building2/2013-06-08'"
   ]
  },
  {
   "cell_type": "code",
   "execution_count": 155,
   "metadata": {
    "collapsed": true
   },
   "outputs": [],
   "source": [
    "meterdata = meterdata_ukdale['meterdata']"
   ]
  },
  {
   "cell_type": "code",
   "execution_count": 156,
   "metadata": {
    "collapsed": false
   },
   "outputs": [
    {
     "data": {
      "text/html": [
       "<div>\n",
       "<table border=\"1\" class=\"dataframe\">\n",
       "  <thead>\n",
       "    <tr style=\"text-align: right;\">\n",
       "      <th></th>\n",
       "      <th>('laptop computer', 1)</th>\n",
       "      <th>('computer monitor', 1)</th>\n",
       "      <th>('active speaker', 1)</th>\n",
       "      <th>('computer', 1)</th>\n",
       "      <th>('broadband router', 1)</th>\n",
       "      <th>('external hard disk', 1)</th>\n",
       "      <th>('kettle', 1)</th>\n",
       "      <th>('rice cooker', 1)</th>\n",
       "      <th>('running machine', 1)</th>\n",
       "      <th>('laptop computer', 2)</th>\n",
       "      <th>('washing machine', 1)</th>\n",
       "      <th>('dish washer', 1)</th>\n",
       "      <th>('fridge', 1)</th>\n",
       "      <th>('microwave', 1)</th>\n",
       "      <th>('toaster', 1)</th>\n",
       "      <th>('games console', 1)</th>\n",
       "      <th>('modem', 1)</th>\n",
       "      <th>('cooker', 1)</th>\n",
       "      <th>mains</th>\n",
       "      <th>synthetic mains</th>\n",
       "    </tr>\n",
       "  </thead>\n",
       "  <tbody>\n",
       "    <tr>\n",
       "      <th>2013-06-08 00:00:00+01:00</th>\n",
       "      <td>0</td>\n",
       "      <td>0</td>\n",
       "      <td>1</td>\n",
       "      <td>4.701754</td>\n",
       "      <td>2.052632</td>\n",
       "      <td>0.300000</td>\n",
       "      <td>0.280702</td>\n",
       "      <td>0.333333</td>\n",
       "      <td>3.166667</td>\n",
       "      <td>0.000000</td>\n",
       "      <td>1.066667</td>\n",
       "      <td>0.283333</td>\n",
       "      <td>29.250000</td>\n",
       "      <td>0</td>\n",
       "      <td>0.016667</td>\n",
       "      <td>0.300000</td>\n",
       "      <td>3</td>\n",
       "      <td>0</td>\n",
       "      <td>58.117223</td>\n",
       "      <td>45.751754</td>\n",
       "    </tr>\n",
       "    <tr>\n",
       "      <th>2013-06-08 00:02:00+01:00</th>\n",
       "      <td>0</td>\n",
       "      <td>0</td>\n",
       "      <td>1</td>\n",
       "      <td>4.733333</td>\n",
       "      <td>2.033333</td>\n",
       "      <td>0.200000</td>\n",
       "      <td>0.333333</td>\n",
       "      <td>0.333333</td>\n",
       "      <td>3.157895</td>\n",
       "      <td>0.070175</td>\n",
       "      <td>1.052632</td>\n",
       "      <td>0.333333</td>\n",
       "      <td>32.000000</td>\n",
       "      <td>0</td>\n",
       "      <td>0.105263</td>\n",
       "      <td>0.315789</td>\n",
       "      <td>3</td>\n",
       "      <td>0</td>\n",
       "      <td>65.959752</td>\n",
       "      <td>48.668421</td>\n",
       "    </tr>\n",
       "    <tr>\n",
       "      <th>2013-06-08 00:04:00+01:00</th>\n",
       "      <td>0</td>\n",
       "      <td>0</td>\n",
       "      <td>1</td>\n",
       "      <td>4.649123</td>\n",
       "      <td>2.087719</td>\n",
       "      <td>0.228070</td>\n",
       "      <td>0.298246</td>\n",
       "      <td>0.333333</td>\n",
       "      <td>3.166667</td>\n",
       "      <td>0.033333</td>\n",
       "      <td>1.133333</td>\n",
       "      <td>0.298246</td>\n",
       "      <td>30.508771</td>\n",
       "      <td>0</td>\n",
       "      <td>0.100000</td>\n",
       "      <td>0.300000</td>\n",
       "      <td>3</td>\n",
       "      <td>0</td>\n",
       "      <td>64.443502</td>\n",
       "      <td>47.136842</td>\n",
       "    </tr>\n",
       "    <tr>\n",
       "      <th>2013-06-08 00:06:00+01:00</th>\n",
       "      <td>0</td>\n",
       "      <td>0</td>\n",
       "      <td>1</td>\n",
       "      <td>4.300000</td>\n",
       "      <td>2.133333</td>\n",
       "      <td>0.316667</td>\n",
       "      <td>0.333333</td>\n",
       "      <td>0.333333</td>\n",
       "      <td>3.416667</td>\n",
       "      <td>0.033333</td>\n",
       "      <td>1.050000</td>\n",
       "      <td>0.300000</td>\n",
       "      <td>29.633334</td>\n",
       "      <td>0</td>\n",
       "      <td>0.066667</td>\n",
       "      <td>0.245614</td>\n",
       "      <td>3</td>\n",
       "      <td>0</td>\n",
       "      <td>63.058278</td>\n",
       "      <td>46.162281</td>\n",
       "    </tr>\n",
       "    <tr>\n",
       "      <th>2013-06-08 00:08:00+01:00</th>\n",
       "      <td>0</td>\n",
       "      <td>0</td>\n",
       "      <td>1</td>\n",
       "      <td>4.298246</td>\n",
       "      <td>2.035088</td>\n",
       "      <td>0.192982</td>\n",
       "      <td>0.333333</td>\n",
       "      <td>0.333333</td>\n",
       "      <td>3.192982</td>\n",
       "      <td>0.052632</td>\n",
       "      <td>1.087719</td>\n",
       "      <td>0.315789</td>\n",
       "      <td>29.052633</td>\n",
       "      <td>0</td>\n",
       "      <td>0.105263</td>\n",
       "      <td>0.300000</td>\n",
       "      <td>3</td>\n",
       "      <td>0</td>\n",
       "      <td>62.140030</td>\n",
       "      <td>45.300001</td>\n",
       "    </tr>\n",
       "  </tbody>\n",
       "</table>\n",
       "</div>"
      ],
      "text/plain": [
       "                           ('laptop computer', 1)  ('computer monitor', 1)  \\\n",
       "2013-06-08 00:00:00+01:00                       0                        0   \n",
       "2013-06-08 00:02:00+01:00                       0                        0   \n",
       "2013-06-08 00:04:00+01:00                       0                        0   \n",
       "2013-06-08 00:06:00+01:00                       0                        0   \n",
       "2013-06-08 00:08:00+01:00                       0                        0   \n",
       "\n",
       "                           ('active speaker', 1)  ('computer', 1)  \\\n",
       "2013-06-08 00:00:00+01:00                      1         4.701754   \n",
       "2013-06-08 00:02:00+01:00                      1         4.733333   \n",
       "2013-06-08 00:04:00+01:00                      1         4.649123   \n",
       "2013-06-08 00:06:00+01:00                      1         4.300000   \n",
       "2013-06-08 00:08:00+01:00                      1         4.298246   \n",
       "\n",
       "                           ('broadband router', 1)  ('external hard disk', 1)  \\\n",
       "2013-06-08 00:00:00+01:00                 2.052632                   0.300000   \n",
       "2013-06-08 00:02:00+01:00                 2.033333                   0.200000   \n",
       "2013-06-08 00:04:00+01:00                 2.087719                   0.228070   \n",
       "2013-06-08 00:06:00+01:00                 2.133333                   0.316667   \n",
       "2013-06-08 00:08:00+01:00                 2.035088                   0.192982   \n",
       "\n",
       "                           ('kettle', 1)  ('rice cooker', 1)  \\\n",
       "2013-06-08 00:00:00+01:00       0.280702            0.333333   \n",
       "2013-06-08 00:02:00+01:00       0.333333            0.333333   \n",
       "2013-06-08 00:04:00+01:00       0.298246            0.333333   \n",
       "2013-06-08 00:06:00+01:00       0.333333            0.333333   \n",
       "2013-06-08 00:08:00+01:00       0.333333            0.333333   \n",
       "\n",
       "                           ('running machine', 1)  ('laptop computer', 2)  \\\n",
       "2013-06-08 00:00:00+01:00                3.166667                0.000000   \n",
       "2013-06-08 00:02:00+01:00                3.157895                0.070175   \n",
       "2013-06-08 00:04:00+01:00                3.166667                0.033333   \n",
       "2013-06-08 00:06:00+01:00                3.416667                0.033333   \n",
       "2013-06-08 00:08:00+01:00                3.192982                0.052632   \n",
       "\n",
       "                           ('washing machine', 1)  ('dish washer', 1)  \\\n",
       "2013-06-08 00:00:00+01:00                1.066667            0.283333   \n",
       "2013-06-08 00:02:00+01:00                1.052632            0.333333   \n",
       "2013-06-08 00:04:00+01:00                1.133333            0.298246   \n",
       "2013-06-08 00:06:00+01:00                1.050000            0.300000   \n",
       "2013-06-08 00:08:00+01:00                1.087719            0.315789   \n",
       "\n",
       "                           ('fridge', 1)  ('microwave', 1)  ('toaster', 1)  \\\n",
       "2013-06-08 00:00:00+01:00      29.250000                 0        0.016667   \n",
       "2013-06-08 00:02:00+01:00      32.000000                 0        0.105263   \n",
       "2013-06-08 00:04:00+01:00      30.508771                 0        0.100000   \n",
       "2013-06-08 00:06:00+01:00      29.633334                 0        0.066667   \n",
       "2013-06-08 00:08:00+01:00      29.052633                 0        0.105263   \n",
       "\n",
       "                           ('games console', 1)  ('modem', 1)  ('cooker', 1)  \\\n",
       "2013-06-08 00:00:00+01:00              0.300000             3              0   \n",
       "2013-06-08 00:02:00+01:00              0.315789             3              0   \n",
       "2013-06-08 00:04:00+01:00              0.300000             3              0   \n",
       "2013-06-08 00:06:00+01:00              0.245614             3              0   \n",
       "2013-06-08 00:08:00+01:00              0.300000             3              0   \n",
       "\n",
       "                               mains  synthetic mains  \n",
       "2013-06-08 00:00:00+01:00  58.117223        45.751754  \n",
       "2013-06-08 00:02:00+01:00  65.959752        48.668421  \n",
       "2013-06-08 00:04:00+01:00  64.443502        47.136842  \n",
       "2013-06-08 00:06:00+01:00  63.058278        46.162281  \n",
       "2013-06-08 00:08:00+01:00  62.140030        45.300001  "
      ]
     },
     "execution_count": 156,
     "metadata": {},
     "output_type": "execute_result"
    }
   ],
   "source": [
    "meterdata.head()"
   ]
  },
  {
   "cell_type": "code",
   "execution_count": 157,
   "metadata": {
    "collapsed": true
   },
   "outputs": [],
   "source": [
    "appliance_map = {'cooker':\"('cooker', 1)\",\n",
    "                         'kettle':\"('kettle', 1)\",\n",
    "                         'dishwasher':\"('dish washer', 1)\",\n",
    "                         'toaster':\"('toaster', 1)\",\n",
    "                         'washingmachine':\"('washing machine', 1)\",\n",
    "                         'fridgefreezer':\"('fridge', 1)\", \n",
    "                         'microwave':\"('microwave', 1)\"}"
   ]
  },
  {
   "cell_type": "code",
   "execution_count": 158,
   "metadata": {
    "collapsed": true
   },
   "outputs": [],
   "source": [
    "meterlist = ['cooker', 'kettle', 'dishwasher','toaster',\n",
    "                     'washingmachine','fridgefreezer', 'microwave']"
   ]
  },
  {
   "cell_type": "code",
   "execution_count": 159,
   "metadata": {
    "collapsed": true
   },
   "outputs": [],
   "source": [
    "appliancedata = meterdata\n",
    "groundTruthApplianceReading = pd.DataFrame(index=meterdata.index)"
   ]
  },
  {
   "cell_type": "code",
   "execution_count": 160,
   "metadata": {
    "collapsed": false
   },
   "outputs": [
    {
     "data": {
      "text/html": [
       "<div>\n",
       "<table border=\"1\" class=\"dataframe\">\n",
       "  <thead>\n",
       "    <tr style=\"text-align: right;\">\n",
       "      <th></th>\n",
       "    </tr>\n",
       "  </thead>\n",
       "  <tbody>\n",
       "    <tr>\n",
       "      <th>2013-06-08 00:00:00+01:00</th>\n",
       "    </tr>\n",
       "    <tr>\n",
       "      <th>2013-06-08 00:02:00+01:00</th>\n",
       "    </tr>\n",
       "    <tr>\n",
       "      <th>2013-06-08 00:04:00+01:00</th>\n",
       "    </tr>\n",
       "    <tr>\n",
       "      <th>2013-06-08 00:06:00+01:00</th>\n",
       "    </tr>\n",
       "    <tr>\n",
       "      <th>2013-06-08 00:08:00+01:00</th>\n",
       "    </tr>\n",
       "  </tbody>\n",
       "</table>\n",
       "</div>"
      ],
      "text/plain": [
       "Empty DataFrame\n",
       "Columns: []\n",
       "Index: [2013-06-08 00:00:00+01:00, 2013-06-08 00:02:00+01:00, 2013-06-08 00:04:00+01:00, 2013-06-08 00:06:00+01:00, 2013-06-08 00:08:00+01:00]"
      ]
     },
     "execution_count": 160,
     "metadata": {},
     "output_type": "execute_result"
    }
   ],
   "source": [
    "groundTruthApplianceReading.head()"
   ]
  },
  {
   "cell_type": "code",
   "execution_count": 161,
   "metadata": {
    "collapsed": true
   },
   "outputs": [],
   "source": [
    "for meter in appliance_map:\n",
    "    groundTruthApplianceReading[meter] = meterdata[appliance_map[meter]]\n",
    "    appliancedata = appliancedata.drop(appliance_map[meter],axis=1)    \n",
    "## the sum of other meter readings which will not be disaggregated\n",
    "groundTruthApplianceReading['othermeters'] = appliancedata.sum(axis=1)"
   ]
  },
  {
   "cell_type": "code",
   "execution_count": 162,
   "metadata": {
    "collapsed": false
   },
   "outputs": [
    {
     "data": {
      "text/html": [
       "<div>\n",
       "<table border=\"1\" class=\"dataframe\">\n",
       "  <thead>\n",
       "    <tr style=\"text-align: right;\">\n",
       "      <th></th>\n",
       "      <th>fridgefreezer</th>\n",
       "      <th>dishwasher</th>\n",
       "      <th>toaster</th>\n",
       "      <th>cooker</th>\n",
       "      <th>washingmachine</th>\n",
       "      <th>kettle</th>\n",
       "      <th>microwave</th>\n",
       "      <th>othermeters</th>\n",
       "    </tr>\n",
       "  </thead>\n",
       "  <tbody>\n",
       "    <tr>\n",
       "      <th>2013-06-08 00:00:00+01:00</th>\n",
       "      <td>29.250000</td>\n",
       "      <td>0.283333</td>\n",
       "      <td>0.016667</td>\n",
       "      <td>0</td>\n",
       "      <td>1.066667</td>\n",
       "      <td>0.280702</td>\n",
       "      <td>0</td>\n",
       "      <td>118.723363</td>\n",
       "    </tr>\n",
       "    <tr>\n",
       "      <th>2013-06-08 00:02:00+01:00</th>\n",
       "      <td>32.000000</td>\n",
       "      <td>0.333333</td>\n",
       "      <td>0.105263</td>\n",
       "      <td>0</td>\n",
       "      <td>1.052632</td>\n",
       "      <td>0.333333</td>\n",
       "      <td>0</td>\n",
       "      <td>129.472033</td>\n",
       "    </tr>\n",
       "    <tr>\n",
       "      <th>2013-06-08 00:04:00+01:00</th>\n",
       "      <td>30.508771</td>\n",
       "      <td>0.298246</td>\n",
       "      <td>0.100000</td>\n",
       "      <td>0</td>\n",
       "      <td>1.133333</td>\n",
       "      <td>0.298246</td>\n",
       "      <td>0</td>\n",
       "      <td>126.378589</td>\n",
       "    </tr>\n",
       "    <tr>\n",
       "      <th>2013-06-08 00:06:00+01:00</th>\n",
       "      <td>29.633334</td>\n",
       "      <td>0.300000</td>\n",
       "      <td>0.066667</td>\n",
       "      <td>0</td>\n",
       "      <td>1.050000</td>\n",
       "      <td>0.333333</td>\n",
       "      <td>0</td>\n",
       "      <td>123.999507</td>\n",
       "    </tr>\n",
       "    <tr>\n",
       "      <th>2013-06-08 00:08:00+01:00</th>\n",
       "      <td>29.052633</td>\n",
       "      <td>0.315789</td>\n",
       "      <td>0.105263</td>\n",
       "      <td>0</td>\n",
       "      <td>1.087719</td>\n",
       "      <td>0.333333</td>\n",
       "      <td>0</td>\n",
       "      <td>121.845294</td>\n",
       "    </tr>\n",
       "  </tbody>\n",
       "</table>\n",
       "</div>"
      ],
      "text/plain": [
       "                           fridgefreezer  dishwasher   toaster  cooker  \\\n",
       "2013-06-08 00:00:00+01:00      29.250000    0.283333  0.016667       0   \n",
       "2013-06-08 00:02:00+01:00      32.000000    0.333333  0.105263       0   \n",
       "2013-06-08 00:04:00+01:00      30.508771    0.298246  0.100000       0   \n",
       "2013-06-08 00:06:00+01:00      29.633334    0.300000  0.066667       0   \n",
       "2013-06-08 00:08:00+01:00      29.052633    0.315789  0.105263       0   \n",
       "\n",
       "                           washingmachine    kettle  microwave  othermeters  \n",
       "2013-06-08 00:00:00+01:00        1.066667  0.280702          0   118.723363  \n",
       "2013-06-08 00:02:00+01:00        1.052632  0.333333          0   129.472033  \n",
       "2013-06-08 00:04:00+01:00        1.133333  0.298246          0   126.378589  \n",
       "2013-06-08 00:06:00+01:00        1.050000  0.333333          0   123.999507  \n",
       "2013-06-08 00:08:00+01:00        1.087719  0.333333          0   121.845294  "
      ]
     },
     "execution_count": 162,
     "metadata": {},
     "output_type": "execute_result"
    }
   ],
   "source": [
    "groundTruthApplianceReading.head()"
   ]
  },
  {
   "cell_type": "code",
   "execution_count": 163,
   "metadata": {
    "collapsed": true
   },
   "outputs": [],
   "source": [
    "mains = meterdata['mains']"
   ]
  },
  {
   "cell_type": "code",
   "execution_count": 164,
   "metadata": {
    "collapsed": false
   },
   "outputs": [
    {
     "data": {
      "text/plain": [
       "2013-06-08 00:00:00+01:00    58.117223\n",
       "2013-06-08 00:02:00+01:00    65.959752\n",
       "2013-06-08 00:04:00+01:00    64.443502\n",
       "2013-06-08 00:06:00+01:00    63.058278\n",
       "2013-06-08 00:08:00+01:00    62.140030\n",
       "Freq: 120S, Name: mains, dtype: float64"
      ]
     },
     "execution_count": 164,
     "metadata": {},
     "output_type": "execute_result"
    }
   ],
   "source": [
    "mains.head()"
   ]
  },
  {
   "cell_type": "code",
   "execution_count": 165,
   "metadata": {
    "collapsed": false
   },
   "outputs": [
    {
     "data": {
      "text/plain": [
       "<matplotlib.axes._subplots.AxesSubplot at 0x1172efd10>"
      ]
     },
     "execution_count": 165,
     "metadata": {},
     "output_type": "execute_result"
    },
    {
     "data": {
      "image/png": "[encoded data removed]",
      "text/plain": [
       "<matplotlib.figure.Figure at 0x117542f50>"
      ]
     },
     "metadata": {},
     "output_type": "display_data"
    }
   ],
   "source": [
    "mains.plot()"
   ]
  },
  {
   "cell_type": "code",
   "execution_count": 166,
   "metadata": {
    "collapsed": true
   },
   "outputs": [],
   "source": [
    "lbm = LatentBayesianMelding()"
   ]
  },
  {
   "cell_type": "code",
   "execution_count": 167,
   "metadata": {
    "collapsed": false
   },
   "outputs": [
    {
     "name": "stdout",
     "output_type": "stream",
     "text": [
      "The trained meter: cooker\n",
      "The trained meter: kettle\n",
      "The trained meter: dishwasher\n",
      "The trained meter: toaster\n",
      "The trained meter: washingmachine\n",
      "The trained meter: fridgefreezer\n",
      "The trained meter: microwave\n"
     ]
    }
   ],
   "source": [
    "individual_model = lbm.import_model(meterlist,join('.', 'appliance_model_induced_density.json'))"
   ]
  },
  {
   "cell_type": "code",
   "execution_count": 168,
   "metadata": {
    "collapsed": true
   },
   "outputs": [],
   "source": [
    "import time"
   ]
  },
  {
   "cell_type": "code",
   "execution_count": 169,
   "metadata": {
    "collapsed": false
   },
   "outputs": [
    {
     "data": {
      "text/plain": [
       "<matplotlib.axes._subplots.AxesSubplot at 0x1170d9950>"
      ]
     },
     "execution_count": 169,
     "metadata": {},
     "output_type": "execute_result"
    },
    {
     "data": {
      "image/png": "[encoded data removed]",
      "text/plain": [
       "<matplotlib.figure.Figure at 0x116f13d10>"
      ]
     },
     "metadata": {},
     "output_type": "display_data"
    }
   ],
   "source": [
    "mains.plot()"
   ]
  },
  {
   "cell_type": "code",
   "execution_count": 170,
   "metadata": {
    "collapsed": false
   },
   "outputs": [
    {
     "name": "stdout",
     "output_type": "stream",
     "text": [
      "*************Iteration: 1*****************\n",
      "Employing the Mosek solver to solve the problem:\n",
      "\n",
      "Declaring variables and constraints...\n",
      "\n",
      "\n",
      " Solving the problem ...\n",
      "\n",
      "+++++++++++++++optimization status+++++++++++++++++++\n",
      "Number of variables:62677\n",
      "Number of constraints:41070\n",
      "Primal solution status:SolutionStatus.Optimal\n",
      "Primal value:279.011281317\n",
      "Dual solution status:SolutionStatus.Optimal\n",
      "Dual value:279.011217\n",
      "Accepted solution status:AccSolutionStatus.Anything\n",
      "+++++++++++++++optimization status+++++++++++++++++++\n",
      "Solving this problem took '11.595266819' seconds\n",
      "\n",
      " log(datalikelihood*prior)=30701.1653628\n",
      "\n",
      "*************Iteration: 2*****************\n",
      "Employing the Mosek solver to solve the problem:\n",
      "\n",
      "Declaring variables and constraints...\n",
      "\n",
      "\n",
      " Solving the problem ...\n",
      "\n",
      "+++++++++++++++optimization status+++++++++++++++++++\n",
      "Number of variables:62677\n",
      "Number of constraints:41070\n",
      "Primal solution status:SolutionStatus.Optimal\n",
      "Primal value:279.484336861\n",
      "Dual solution status:SolutionStatus.Optimal\n",
      "Dual value:279.484217366\n",
      "Accepted solution status:AccSolutionStatus.Anything\n",
      "+++++++++++++++optimization status+++++++++++++++++++\n",
      "Solving this problem took '11.5994639397' seconds\n",
      "\n",
      " log(datalikelihood*prior)=66437.329761\n",
      "\n",
      "*************Iteration: 3*****************\n",
      "Employing the Mosek solver to solve the problem:\n",
      "\n",
      "Declaring variables and constraints...\n",
      "\n",
      "\n",
      " Solving the problem ...\n",
      "\n",
      "+++++++++++++++optimization status+++++++++++++++++++\n",
      "Number of variables:62677\n",
      "Number of constraints:41070\n",
      "Primal solution status:SolutionStatus.Optimal\n",
      "Primal value:279.695577002\n",
      "Dual solution status:SolutionStatus.Optimal\n",
      "Dual value:279.599306672\n",
      "Accepted solution status:AccSolutionStatus.Anything\n",
      "+++++++++++++++optimization status+++++++++++++++++++\n",
      "Solving this problem took '11.3148310184' seconds\n",
      "\n",
      " log(datalikelihood*prior)=67595.4061181\n",
      "\n",
      "*************Iteration: 4*****************\n",
      "Employing the Mosek solver to solve the problem:\n",
      "\n",
      "Declaring variables and constraints...\n",
      "\n",
      "\n",
      " Solving the problem ...\n",
      "\n",
      "+++++++++++++++optimization status+++++++++++++++++++\n",
      "Number of variables:62677\n",
      "Number of constraints:41070\n",
      "Primal solution status:SolutionStatus.Optimal\n",
      "Primal value:279.851052322\n",
      "Dual solution status:SolutionStatus.Optimal\n",
      "Dual value:279.641684391\n",
      "Accepted solution status:AccSolutionStatus.Anything\n",
      "+++++++++++++++optimization status+++++++++++++++++++\n",
      "Solving this problem took '13.6798300743' seconds\n",
      "\n",
      " log(datalikelihood*prior)=67592.0527495\n",
      "\n"
     ]
    }
   ],
   "source": [
    "a = time.time()\n",
    "results = lbm.disaggregate_chunk(mains)\n",
    "b = time.time()"
   ]
  },
  {
   "cell_type": "code",
   "execution_count": 32,
   "metadata": {
    "collapsed": false
   },
   "outputs": [
    {
     "data": {
      "text/plain": [
       "46.12233901023865"
      ]
     },
     "execution_count": 32,
     "metadata": {},
     "output_type": "execute_result"
    }
   ],
   "source": [
    "b-a"
   ]
  },
  {
   "cell_type": "code",
   "execution_count": 171,
   "metadata": {
    "collapsed": false
   },
   "outputs": [],
   "source": [
    "fr_pred = results['inferred appliance energy']['fridgefreezer']"
   ]
  },
  {
   "cell_type": "code",
   "execution_count": 172,
   "metadata": {
    "collapsed": true
   },
   "outputs": [],
   "source": [
    "fr_gt = groundTruthApplianceReading['fridgefreezer']"
   ]
  },
  {
   "cell_type": "code",
   "execution_count": 173,
   "metadata": {
    "collapsed": false
   },
   "outputs": [
    {
     "data": {
      "text/plain": [
       "<matplotlib.axes._subplots.AxesSubplot at 0x118e7e410>"
      ]
     },
     "execution_count": 173,
     "metadata": {},
     "output_type": "execute_result"
    },
    {
     "data": {
      "image/png": "[encoded data removed]",
      "text/plain": [
       "<matplotlib.figure.Figure at 0x1199e1fd0>"
      ]
     },
     "metadata": {},
     "output_type": "display_data"
    }
   ],
   "source": [
    "fr_gt.plot()\n",
    "fr_pred.plot()"
   ]
  },
  {
   "cell_type": "code",
   "execution_count": 174,
   "metadata": {
    "collapsed": false
   },
   "outputs": [
    {
     "data": {
      "text/plain": [
       "cooker            11626.347254\n",
       "kettle              979.395836\n",
       "dishwasher        15896.989008\n",
       "toaster               2.695045\n",
       "washingmachine     8864.582814\n",
       "fridgefreezer     11152.114510\n",
       "microwave             1.863531\n",
       "dtype: float64"
      ]
     },
     "execution_count": 174,
     "metadata": {},
     "output_type": "execute_result"
    }
   ],
   "source": [
    "results['inferred appliance energy'][meterlist].sum()"
   ]
  },
  {
   "cell_type": "code",
   "execution_count": 177,
   "metadata": {
    "collapsed": false
   },
   "outputs": [
    {
     "data": {
      "text/plain": [
       "720"
      ]
     },
     "execution_count": 177,
     "metadata": {},
     "output_type": "execute_result"
    }
   ],
   "source": [
    "len(mains)"
   ]
  },
  {
   "cell_type": "code",
   "execution_count": 96,
   "metadata": {
    "collapsed": false
   },
   "outputs": [
    {
     "data": {
      "text/plain": [
       "['cooker',\n",
       " 'kettle',\n",
       " 'dishwasher',\n",
       " 'toaster',\n",
       " 'washingmachine',\n",
       " 'fridgefreezer',\n",
       " 'microwave']"
      ]
     },
     "execution_count": 96,
     "metadata": {},
     "output_type": "execute_result"
    }
   ],
   "source": [
    "individual_model.keys()"
   ]
  },
  {
   "cell_type": "code",
   "execution_count": 139,
   "metadata": {
    "collapsed": false
   },
   "outputs": [
    {
     "data": {
      "text/plain": [
       "[u'numberOfCyclesStats',\n",
       " u'induced density of sac',\n",
       " u'means',\n",
       " u'sac',\n",
       " u'startprob',\n",
       " u'transprob',\n",
       " u'appliance code map',\n",
       " 'numberOfStates',\n",
       " u'sac sample',\n",
       " u'induced density of duration']"
      ]
     },
     "execution_count": 139,
     "metadata": {},
     "output_type": "execute_result"
    }
   ],
   "source": [
    "individual_model['fridgefreezer'].keys()"
   ]
  },
  {
   "cell_type": "code",
   "execution_count": 138,
   "metadata": {
    "collapsed": false
   },
   "outputs": [
    {
     "data": {
      "text/plain": [
       "[556.142, 96.66995870960588]"
      ]
     },
     "execution_count": 138,
     "metadata": {},
     "output_type": "execute_result"
    }
   ],
   "source": [
    "individual_model['fridgefreezer']['induced density of duration']"
   ]
  },
  {
   "cell_type": "code",
   "execution_count": 110,
   "metadata": {
    "collapsed": false
   },
   "outputs": [
    {
     "data": {
      "text/plain": [
       "[13.236, 12.1442903369356]"
      ]
     },
     "execution_count": 110,
     "metadata": {},
     "output_type": "execute_result"
    }
   ],
   "source": [
    "individual_model['microwave']['induced density of duration']"
   ]
  },
  {
   "cell_type": "code",
   "execution_count": 132,
   "metadata": {
    "collapsed": false
   },
   "outputs": [],
   "source": [
    "appliance =\"washingmachine\"\n",
    "pred = results['inferred appliance energy'][appliance]\n",
    "gt = groundTruthApplianceReading[appliance]"
   ]
  },
  {
   "cell_type": "code",
   "execution_count": 133,
   "metadata": {
    "collapsed": true
   },
   "outputs": [],
   "source": [
    "import matplotlib.pyplot as plt\n",
    "import numpy as np"
   ]
  },
  {
   "cell_type": "code",
   "execution_count": 134,
   "metadata": {
    "collapsed": false
   },
   "outputs": [
    {
     "data": {
      "text/plain": [
       "59.518598324752787"
      ]
     },
     "execution_count": 134,
     "metadata": {},
     "output_type": "execute_result"
    }
   ],
   "source": [
    "100 - 100*np.abs(pred.sum()-gt.sum())/gt.sum()"
   ]
  },
  {
   "cell_type": "code",
   "execution_count": 93,
   "metadata": {
    "collapsed": false
   },
   "outputs": [
    {
     "name": "stdout",
     "output_type": "stream",
     "text": [
      "1.86353050733 3953.67460934\n"
     ]
    }
   ],
   "source": [
    "print (pred.sum(), gt.sum())"
   ]
  },
  {
   "cell_type": "code",
   "execution_count": 62,
   "metadata": {
    "collapsed": false
   },
   "outputs": [
    {
     "ename": "KeyError",
     "evalue": "\"[('dish washer', 1)] not in index\"",
     "output_type": "error",
     "traceback": [
      "\u001b[0;31m---------------------------------------------------------------------------\u001b[0m",
      "\u001b[0;31mKeyError\u001b[0m                                  Traceback (most recent call last)",
      "\u001b[0;32m<ipython-input-62-21699f25a66a>\u001b[0m in \u001b[0;36m<module>\u001b[0;34m()\u001b[0m\n\u001b[0;32m----> 1\u001b[0;31m \u001b[0mmeterdata\u001b[0m\u001b[0;34m[\u001b[0m\u001b[0;34m[\u001b[0m\u001b[0;34m(\u001b[0m\u001b[0;34m'dish washer'\u001b[0m\u001b[0;34m,\u001b[0m\u001b[0;36m1\u001b[0m\u001b[0;34m)\u001b[0m\u001b[0;34m]\u001b[0m\u001b[0;34m]\u001b[0m\u001b[0;34m\u001b[0m\u001b[0m\n\u001b[0m",
      "\u001b[0;32m/Users/nipunbatra/anaconda/lib/python2.7/site-packages/pandas/core/frame.pyc\u001b[0m in \u001b[0;36m__getitem__\u001b[0;34m(self, key)\u001b[0m\n\u001b[1;32m   1789\u001b[0m         \u001b[0;32mif\u001b[0m \u001b[0misinstance\u001b[0m\u001b[0;34m(\u001b[0m\u001b[0mkey\u001b[0m\u001b[0;34m,\u001b[0m \u001b[0;34m(\u001b[0m\u001b[0mSeries\u001b[0m\u001b[0;34m,\u001b[0m \u001b[0mnp\u001b[0m\u001b[0;34m.\u001b[0m\u001b[0mndarray\u001b[0m\u001b[0;34m,\u001b[0m \u001b[0mIndex\u001b[0m\u001b[0;34m,\u001b[0m \u001b[0mlist\u001b[0m\u001b[0;34m)\u001b[0m\u001b[0;34m)\u001b[0m\u001b[0;34m:\u001b[0m\u001b[0;34m\u001b[0m\u001b[0m\n\u001b[1;32m   1790\u001b[0m             \u001b[0;31m# either boolean or fancy integer index\u001b[0m\u001b[0;34m\u001b[0m\u001b[0;34m\u001b[0m\u001b[0m\n\u001b[0;32m-> 1791\u001b[0;31m             \u001b[0;32mreturn\u001b[0m \u001b[0mself\u001b[0m\u001b[0;34m.\u001b[0m\u001b[0m_getitem_array\u001b[0m\u001b[0;34m(\u001b[0m\u001b[0mkey\u001b[0m\u001b[0;34m)\u001b[0m\u001b[0;34m\u001b[0m\u001b[0m\n\u001b[0m\u001b[1;32m   1792\u001b[0m         \u001b[0;32melif\u001b[0m \u001b[0misinstance\u001b[0m\u001b[0;34m(\u001b[0m\u001b[0mkey\u001b[0m\u001b[0;34m,\u001b[0m \u001b[0mDataFrame\u001b[0m\u001b[0;34m)\u001b[0m\u001b[0;34m:\u001b[0m\u001b[0;34m\u001b[0m\u001b[0m\n\u001b[1;32m   1793\u001b[0m             \u001b[0;32mreturn\u001b[0m \u001b[0mself\u001b[0m\u001b[0;34m.\u001b[0m\u001b[0m_getitem_frame\u001b[0m\u001b[0;34m(\u001b[0m\u001b[0mkey\u001b[0m\u001b[0;34m)\u001b[0m\u001b[0;34m\u001b[0m\u001b[0m\n",
      "\u001b[0;32m/Users/nipunbatra/anaconda/lib/python2.7/site-packages/pandas/core/frame.pyc\u001b[0m in \u001b[0;36m_getitem_array\u001b[0;34m(self, key)\u001b[0m\n\u001b[1;32m   1833\u001b[0m             \u001b[0;32mreturn\u001b[0m \u001b[0mself\u001b[0m\u001b[0;34m.\u001b[0m\u001b[0mtake\u001b[0m\u001b[0;34m(\u001b[0m\u001b[0mindexer\u001b[0m\u001b[0;34m,\u001b[0m \u001b[0maxis\u001b[0m\u001b[0;34m=\u001b[0m\u001b[0;36m0\u001b[0m\u001b[0;34m,\u001b[0m \u001b[0mconvert\u001b[0m\u001b[0;34m=\u001b[0m\u001b[0mFalse\u001b[0m\u001b[0;34m)\u001b[0m\u001b[0;34m\u001b[0m\u001b[0m\n\u001b[1;32m   1834\u001b[0m         \u001b[0;32melse\u001b[0m\u001b[0;34m:\u001b[0m\u001b[0;34m\u001b[0m\u001b[0m\n\u001b[0;32m-> 1835\u001b[0;31m             \u001b[0mindexer\u001b[0m \u001b[0;34m=\u001b[0m \u001b[0mself\u001b[0m\u001b[0;34m.\u001b[0m\u001b[0mix\u001b[0m\u001b[0;34m.\u001b[0m\u001b[0m_convert_to_indexer\u001b[0m\u001b[0;34m(\u001b[0m\u001b[0mkey\u001b[0m\u001b[0;34m,\u001b[0m \u001b[0maxis\u001b[0m\u001b[0;34m=\u001b[0m\u001b[0;36m1\u001b[0m\u001b[0;34m)\u001b[0m\u001b[0;34m\u001b[0m\u001b[0m\n\u001b[0m\u001b[1;32m   1836\u001b[0m             \u001b[0;32mreturn\u001b[0m \u001b[0mself\u001b[0m\u001b[0;34m.\u001b[0m\u001b[0mtake\u001b[0m\u001b[0;34m(\u001b[0m\u001b[0mindexer\u001b[0m\u001b[0;34m,\u001b[0m \u001b[0maxis\u001b[0m\u001b[0;34m=\u001b[0m\u001b[0;36m1\u001b[0m\u001b[0;34m,\u001b[0m \u001b[0mconvert\u001b[0m\u001b[0;34m=\u001b[0m\u001b[0mTrue\u001b[0m\u001b[0;34m)\u001b[0m\u001b[0;34m\u001b[0m\u001b[0m\n\u001b[1;32m   1837\u001b[0m \u001b[0;34m\u001b[0m\u001b[0m\n",
      "\u001b[0;32m/Users/nipunbatra/anaconda/lib/python2.7/site-packages/pandas/core/indexing.pyc\u001b[0m in \u001b[0;36m_convert_to_indexer\u001b[0;34m(self, obj, axis, is_setter)\u001b[0m\n\u001b[1;32m   1110\u001b[0m                 \u001b[0mmask\u001b[0m \u001b[0;34m=\u001b[0m \u001b[0mcheck\u001b[0m \u001b[0;34m==\u001b[0m \u001b[0;34m-\u001b[0m\u001b[0;36m1\u001b[0m\u001b[0;34m\u001b[0m\u001b[0m\n\u001b[1;32m   1111\u001b[0m                 \u001b[0;32mif\u001b[0m \u001b[0mmask\u001b[0m\u001b[0;34m.\u001b[0m\u001b[0many\u001b[0m\u001b[0;34m(\u001b[0m\u001b[0;34m)\u001b[0m\u001b[0;34m:\u001b[0m\u001b[0;34m\u001b[0m\u001b[0m\n\u001b[0;32m-> 1112\u001b[0;31m                     \u001b[0;32mraise\u001b[0m \u001b[0mKeyError\u001b[0m\u001b[0;34m(\u001b[0m\u001b[0;34m'%s not in index'\u001b[0m \u001b[0;34m%\u001b[0m \u001b[0mobjarr\u001b[0m\u001b[0;34m[\u001b[0m\u001b[0mmask\u001b[0m\u001b[0;34m]\u001b[0m\u001b[0;34m)\u001b[0m\u001b[0;34m\u001b[0m\u001b[0m\n\u001b[0m\u001b[1;32m   1113\u001b[0m \u001b[0;34m\u001b[0m\u001b[0m\n\u001b[1;32m   1114\u001b[0m                 \u001b[0;32mreturn\u001b[0m \u001b[0m_values_from_object\u001b[0m\u001b[0;34m(\u001b[0m\u001b[0mindexer\u001b[0m\u001b[0;34m)\u001b[0m\u001b[0;34m\u001b[0m\u001b[0m\n",
      "\u001b[0;31mKeyError\u001b[0m: \"[('dish washer', 1)] not in index\""
     ]
    }
   ],
   "source": []
  },
  {
   "cell_type": "code",
   "execution_count": 68,
   "metadata": {
    "collapsed": false
   },
   "outputs": [
    {
     "data": {
      "text/html": [
       "<div>\n",
       "<table border=\"1\" class=\"dataframe\">\n",
       "  <thead>\n",
       "    <tr style=\"text-align: right;\">\n",
       "      <th></th>\n",
       "      <th>fridgefreezer</th>\n",
       "      <th>dishwasher</th>\n",
       "      <th>toaster</th>\n",
       "      <th>cooker</th>\n",
       "      <th>washingmachine</th>\n",
       "      <th>kettle</th>\n",
       "      <th>microwave</th>\n",
       "      <th>othermeters</th>\n",
       "    </tr>\n",
       "  </thead>\n",
       "  <tbody>\n",
       "    <tr>\n",
       "      <th>2013-06-08 00:00:00+01:00</th>\n",
       "      <td>29.250000</td>\n",
       "      <td>0.283333</td>\n",
       "      <td>0.016667</td>\n",
       "      <td>0</td>\n",
       "      <td>1.066667</td>\n",
       "      <td>0.280702</td>\n",
       "      <td>0</td>\n",
       "      <td>118.723363</td>\n",
       "    </tr>\n",
       "    <tr>\n",
       "      <th>2013-06-08 00:02:00+01:00</th>\n",
       "      <td>32.000000</td>\n",
       "      <td>0.333333</td>\n",
       "      <td>0.105263</td>\n",
       "      <td>0</td>\n",
       "      <td>1.052632</td>\n",
       "      <td>0.333333</td>\n",
       "      <td>0</td>\n",
       "      <td>129.472033</td>\n",
       "    </tr>\n",
       "    <tr>\n",
       "      <th>2013-06-08 00:04:00+01:00</th>\n",
       "      <td>30.508771</td>\n",
       "      <td>0.298246</td>\n",
       "      <td>0.100000</td>\n",
       "      <td>0</td>\n",
       "      <td>1.133333</td>\n",
       "      <td>0.298246</td>\n",
       "      <td>0</td>\n",
       "      <td>126.378589</td>\n",
       "    </tr>\n",
       "    <tr>\n",
       "      <th>2013-06-08 00:06:00+01:00</th>\n",
       "      <td>29.633334</td>\n",
       "      <td>0.300000</td>\n",
       "      <td>0.066667</td>\n",
       "      <td>0</td>\n",
       "      <td>1.050000</td>\n",
       "      <td>0.333333</td>\n",
       "      <td>0</td>\n",
       "      <td>123.999507</td>\n",
       "    </tr>\n",
       "    <tr>\n",
       "      <th>2013-06-08 00:08:00+01:00</th>\n",
       "      <td>29.052633</td>\n",
       "      <td>0.315789</td>\n",
       "      <td>0.105263</td>\n",
       "      <td>0</td>\n",
       "      <td>1.087719</td>\n",
       "      <td>0.333333</td>\n",
       "      <td>0</td>\n",
       "      <td>121.845294</td>\n",
       "    </tr>\n",
       "  </tbody>\n",
       "</table>\n",
       "</div>"
      ],
      "text/plain": [
       "                           fridgefreezer  dishwasher   toaster  cooker  \\\n",
       "2013-06-08 00:00:00+01:00      29.250000    0.283333  0.016667       0   \n",
       "2013-06-08 00:02:00+01:00      32.000000    0.333333  0.105263       0   \n",
       "2013-06-08 00:04:00+01:00      30.508771    0.298246  0.100000       0   \n",
       "2013-06-08 00:06:00+01:00      29.633334    0.300000  0.066667       0   \n",
       "2013-06-08 00:08:00+01:00      29.052633    0.315789  0.105263       0   \n",
       "\n",
       "                           washingmachine    kettle  microwave  othermeters  \n",
       "2013-06-08 00:00:00+01:00        1.066667  0.280702          0   118.723363  \n",
       "2013-06-08 00:02:00+01:00        1.052632  0.333333          0   129.472033  \n",
       "2013-06-08 00:04:00+01:00        1.133333  0.298246          0   126.378589  \n",
       "2013-06-08 00:06:00+01:00        1.050000  0.333333          0   123.999507  \n",
       "2013-06-08 00:08:00+01:00        1.087719  0.333333          0   121.845294  "
      ]
     },
     "execution_count": 68,
     "metadata": {},
     "output_type": "execute_result"
    }
   ],
   "source": [
    "groundTruthApplianceReading.head()"
   ]
  },
  {
   "cell_type": "code",
   "execution_count": 178,
   "metadata": {
    "collapsed": false
   },
   "outputs": [
    {
     "ename": "ValueError",
     "evalue": "Invalid argument list for method. Got\n\tsub(DenseMatrix)",
     "output_type": "error",
     "traceback": [
      "\u001b[0;31m---------------------------------------------------------------------------\u001b[0m",
      "\u001b[0;31mValueError\u001b[0m                                Traceback (most recent call last)",
      "\u001b[0;32m<ipython-input-178-87a5d9eced65>\u001b[0m in \u001b[0;36m<module>\u001b[0;34m()\u001b[0m\n\u001b[1;32m      2\u001b[0m \u001b[0;32mfrom\u001b[0m \u001b[0mmosek\u001b[0m\u001b[0;34m.\u001b[0m\u001b[0marray\u001b[0m \u001b[0;32mimport\u001b[0m \u001b[0;34m*\u001b[0m\u001b[0;34m\u001b[0m\u001b[0m\n\u001b[1;32m      3\u001b[0m \u001b[0mnosOfTimePoints\u001b[0m \u001b[0;34m=\u001b[0m \u001b[0mnosOfTimePoints\u001b[0m \u001b[0;34m=\u001b[0m \u001b[0mint\u001b[0m\u001b[0;34m(\u001b[0m\u001b[0mlen\u001b[0m\u001b[0;34m(\u001b[0m\u001b[0mmains\u001b[0m\u001b[0;34m)\u001b[0m\u001b[0;34m)\u001b[0m\u001b[0;34m\u001b[0m\u001b[0m\n\u001b[0;32m----> 4\u001b[0;31m \u001b[0mExpr\u001b[0m\u001b[0;34m.\u001b[0m\u001b[0msub\u001b[0m\u001b[0;34m(\u001b[0m\u001b[0mDenseMatrix\u001b[0m\u001b[0;34m(\u001b[0m\u001b[0mmains\u001b[0m\u001b[0;34m.\u001b[0m\u001b[0mvalues\u001b[0m\u001b[0;34m.\u001b[0m\u001b[0mravel\u001b[0m\u001b[0;34m(\u001b[0m\u001b[0;34m)\u001b[0m\u001b[0;34m.\u001b[0m\u001b[0mreshape\u001b[0m\u001b[0;34m(\u001b[0m\u001b[0;36m1\u001b[0m\u001b[0;34m,\u001b[0m\u001b[0mnosOfTimePoints\u001b[0m\u001b[0;34m)\u001b[0m\u001b[0;34m)\u001b[0m\u001b[0;34m)\u001b[0m\u001b[0;34m\u001b[0m\u001b[0m\n\u001b[0m",
      "\u001b[0;32m/Users/nipunbatra/.local/lib/python2.7/site-packages/mosek/fusion/__init__.pyc\u001b[0m in \u001b[0;36msub\u001b[0;34m(*args)\u001b[0m\n\u001b[1;32m  40144\u001b[0m          \u001b[0;32mraise\u001b[0m \u001b[0mValueError\u001b[0m\u001b[0;34m(\u001b[0m\u001b[0;34m\"Invalid argument list for method. Got\\n\\t%s\\nExpected:\\n%s\"\u001b[0m \u001b[0;34m%\u001b[0m \u001b[0;34m(\u001b[0m\u001b[0margtypestr\u001b[0m\u001b[0;34m,\u001b[0m\u001b[0mprototypes\u001b[0m\u001b[0;34m)\u001b[0m\u001b[0;34m)\u001b[0m\u001b[0;34m\u001b[0m\u001b[0m\n\u001b[1;32m  40145\u001b[0m       \u001b[0;32melse\u001b[0m\u001b[0;34m:\u001b[0m\u001b[0;34m\u001b[0m\u001b[0m\n\u001b[0;32m> 40146\u001b[0;31m          \u001b[0;32mraise\u001b[0m \u001b[0mValueError\u001b[0m\u001b[0;34m(\u001b[0m\u001b[0;34m\"Invalid argument list for method. Got\\n\\t%s\"\u001b[0m \u001b[0;34m%\u001b[0m \u001b[0;34m(\u001b[0m\u001b[0margtypestr\u001b[0m\u001b[0;34m)\u001b[0m\u001b[0;34m)\u001b[0m\u001b[0;34m\u001b[0m\u001b[0m\n\u001b[0m\u001b[1;32m  40147\u001b[0m   \u001b[0;34m@\u001b[0m\u001b[0mstaticmethod\u001b[0m\u001b[0;34m\u001b[0m\u001b[0m\n\u001b[1;32m  40148\u001b[0m   \u001b[0;34m@\u001b[0m\u001b[0m_cliptrace\u001b[0m\u001b[0;34m\u001b[0m\u001b[0m\n",
      "\u001b[0;31mValueError\u001b[0m: Invalid argument list for method. Got\n\tsub(DenseMatrix)"
     ]
    }
   ],
   "source": [
    "from mosek.fusion import *\n",
    "from mosek.array import *\n",
    "nosOfTimePoints = nosOfTimePoints = int(len(mains)) \n",
    "Expr.sub(DenseMatrix(mains.values.ravel().reshape(1,nosOfTimePoints)))"
   ]
  },
  {
   "cell_type": "code",
   "execution_count": 185,
   "metadata": {
    "collapsed": true
   },
   "outputs": [],
   "source": [
    "mains_chunk = pd.read_csv(\"/Users/nipunbatra/Desktop/mains.csv\", index_col=0).squeeze()"
   ]
  },
  {
   "cell_type": "code",
   "execution_count": 186,
   "metadata": {
    "collapsed": false
   },
   "outputs": [
    {
     "data": {
      "text/plain": [
       "2013-01-01 00:00:00-06:00\n",
       "2013-01-01 00:02:00-06:00    123.500000\n",
       "2013-01-01 00:04:00-06:00    121.550003\n",
       "2013-01-01 00:06:00-06:00    116.900002\n",
       "2013-01-01 00:08:00-06:00    115.550003\n",
       "2013-01-01 00:10:00-06:00     99.099998\n",
       "2013-01-01 00:12:00-06:00     92.599998\n",
       "2013-01-01 00:14:00-06:00     97.150002\n",
       "2013-01-01 00:16:00-06:00    103.849998\n",
       "2013-01-01 00:18:00-06:00     99.550003\n",
       "2013-01-01 00:20:00-06:00    103.300003\n",
       "2013-01-01 00:22:00-06:00    106.050003\n",
       "2013-01-01 00:24:00-06:00    115.900002\n",
       "2013-01-01 00:26:00-06:00    136.949997\n",
       "2013-01-01 00:28:00-06:00    142.000000\n",
       "2013-01-01 00:30:00-06:00    129.600006\n",
       "2013-01-01 00:32:00-06:00    128.800003\n",
       "2013-01-01 00:34:00-06:00    129.400009\n",
       "2013-01-01 00:36:00-06:00    127.700005\n",
       "2013-01-01 00:38:00-06:00    128.600006\n",
       "2013-01-01 00:40:00-06:00    127.650002\n",
       "2013-01-01 00:42:00-06:00    126.750000\n",
       "2013-01-01 00:44:00-06:00    128.400009\n",
       "2013-01-01 00:46:00-06:00    133.650009\n",
       "2013-01-01 00:48:00-06:00    178.050003\n",
       "2013-01-01 00:50:00-06:00    135.350006\n",
       "2013-01-01 00:52:00-06:00    143.050003\n",
       "2013-01-01 00:54:00-06:00    141.199997\n",
       "2013-01-01 00:56:00-06:00    141.150009\n",
       "2013-01-01 00:58:00-06:00    144.500000\n",
       "2013-01-01 01:00:00-06:00    144.500000\n",
       "                                ...    \n",
       "2013-01-01 23:00:00-06:00     59.500000\n",
       "2013-01-01 23:02:00-06:00     59.299999\n",
       "2013-01-01 23:04:00-06:00     54.400002\n",
       "2013-01-01 23:06:00-06:00     43.049999\n",
       "2013-01-01 23:08:00-06:00     43.400002\n",
       "2013-01-01 23:10:00-06:00     42.799999\n",
       "2013-01-01 23:12:00-06:00     43.000000\n",
       "2013-01-01 23:14:00-06:00     42.700001\n",
       "2013-01-01 23:16:00-06:00     44.650002\n",
       "2013-01-01 23:18:00-06:00     42.950001\n",
       "2013-01-01 23:20:00-06:00     42.750000\n",
       "2013-01-01 23:22:00-06:00     42.750000\n",
       "2013-01-01 23:24:00-06:00     42.600002\n",
       "2013-01-01 23:26:00-06:00     42.450001\n",
       "2013-01-01 23:28:00-06:00     42.750000\n",
       "2013-01-01 23:30:00-06:00     43.400002\n",
       "2013-01-01 23:32:00-06:00     44.049999\n",
       "2013-01-01 23:34:00-06:00     53.900002\n",
       "2013-01-01 23:36:00-06:00     71.300003\n",
       "2013-01-01 23:38:00-06:00     67.900002\n",
       "2013-01-01 23:40:00-06:00     68.599998\n",
       "2013-01-01 23:42:00-06:00     68.349998\n",
       "2013-01-01 23:44:00-06:00     69.500000\n",
       "2013-01-01 23:46:00-06:00     68.250000\n",
       "2013-01-01 23:48:00-06:00     78.550003\n",
       "2013-01-01 23:50:00-06:00     78.750000\n",
       "2013-01-01 23:52:00-06:00     78.050003\n",
       "2013-01-01 23:54:00-06:00     78.349998\n",
       "2013-01-01 23:56:00-06:00     77.550003\n",
       "2013-01-01 23:58:00-06:00     77.250000\n",
       "Name: 123.700004578, dtype: float64"
      ]
     },
     "execution_count": 186,
     "metadata": {},
     "output_type": "execute_result"
    }
   ],
   "source": [
    "lbn."
   ]
  },
  {
   "cell_type": "code",
   "execution_count": 201,
   "metadata": {
    "collapsed": true
   },
   "outputs": [],
   "source": [
    "st = pd.HDFStore(\"/Users/nipunbatra/Downloads/wiki-temp.h5\")\n",
    "home=370\n",
    "mains_chunk= st['/%d' %home][['use']]['2013'].resample(\"2T\").head(720).squeeze()"
   ]
  },
  {
   "cell_type": "code",
   "execution_count": 203,
   "metadata": {
    "collapsed": false
   },
   "outputs": [
    {
     "data": {
      "text/plain": [
       "pandas.core.series.Series"
      ]
     },
     "execution_count": 203,
     "metadata": {},
     "output_type": "execute_result"
    }
   ],
   "source": [
    "type(mains_chunk)"
   ]
  },
  {
   "cell_type": "code",
   "execution_count": 204,
   "metadata": {
    "collapsed": false
   },
   "outputs": [
    {
     "name": "stdout",
     "output_type": "stream",
     "text": [
      "The trained meter: dishwasher\n",
      "The trained meter: washingmachine\n",
      "The trained meter: fridgefreezer\n",
      "*************Iteration: 1*****************\n",
      "Employing the Mosek solver to solve the problem:\n",
      "\n",
      "Declaring variables and constraints...\n",
      "\n"
     ]
    },
    {
     "ename": "ValueError",
     "evalue": "Invalid argument list for constructor",
     "output_type": "error",
     "traceback": [
      "\u001b[0;31m---------------------------------------------------------------------------\u001b[0m",
      "\u001b[0;31mValueError\u001b[0m                                Traceback (most recent call last)",
      "\u001b[0;32m<ipython-input-204-d83c090108c0>\u001b[0m in \u001b[0;36m<module>\u001b[0;34m()\u001b[0m\n\u001b[1;32m      1\u001b[0m \u001b[0mmeterlist\u001b[0m \u001b[0;34m=\u001b[0m \u001b[0;34m[\u001b[0m\u001b[0;34m'dishwasher'\u001b[0m\u001b[0;34m,\u001b[0m\u001b[0;34m'washingmachine'\u001b[0m\u001b[0;34m,\u001b[0m\u001b[0;34m'fridgefreezer'\u001b[0m\u001b[0;34m]\u001b[0m\u001b[0;34m\u001b[0m\u001b[0m\n\u001b[1;32m      2\u001b[0m \u001b[0mindividual_model\u001b[0m \u001b[0;34m=\u001b[0m \u001b[0mlbm\u001b[0m\u001b[0;34m.\u001b[0m\u001b[0mimport_model\u001b[0m\u001b[0;34m(\u001b[0m\u001b[0mmeterlist\u001b[0m\u001b[0;34m,\u001b[0m\u001b[0mjoin\u001b[0m\u001b[0;34m(\u001b[0m\u001b[0;34m'.'\u001b[0m\u001b[0;34m,\u001b[0m \u001b[0;34m'appliance_model_induced_density.json'\u001b[0m\u001b[0;34m)\u001b[0m\u001b[0;34m)\u001b[0m\u001b[0;34m\u001b[0m\u001b[0m\n\u001b[0;32m----> 3\u001b[0;31m \u001b[0mresults\u001b[0m \u001b[0;34m=\u001b[0m \u001b[0mlbm\u001b[0m\u001b[0;34m.\u001b[0m\u001b[0mdisaggregate_chunk\u001b[0m\u001b[0;34m(\u001b[0m\u001b[0mmains_chunk\u001b[0m\u001b[0;34m)\u001b[0m\u001b[0;34m\u001b[0m\u001b[0m\n\u001b[0m",
      "\u001b[0;32m/Users/nipunbatra/git/monthly-disaggregation/code/latent_Bayesian_melding.py\u001b[0m in \u001b[0;36mdisaggregate_chunk\u001b[0;34m(self, mains_chunk)\u001b[0m\n\u001b[1;32m    242\u001b[0m             \u001b[0;32mprint\u001b[0m\u001b[0;34m(\u001b[0m\u001b[0;34m\"*************Iteration: {}*****************\"\u001b[0m\u001b[0;34m.\u001b[0m\u001b[0mformat\u001b[0m\u001b[0;34m(\u001b[0m\u001b[0miters\u001b[0m\u001b[0;34m+\u001b[0m\u001b[0;36m1\u001b[0m\u001b[0;34m)\u001b[0m\u001b[0;34m)\u001b[0m\u001b[0;34m\u001b[0m\u001b[0m\n\u001b[1;32m    243\u001b[0m             \u001b[0;31m# infer the model variables\u001b[0m\u001b[0;34m\u001b[0m\u001b[0;34m\u001b[0m\u001b[0m\n\u001b[0;32m--> 244\u001b[0;31m             \u001b[0mprediction\u001b[0m \u001b[0;34m=\u001b[0m \u001b[0mself\u001b[0m\u001b[0;34m.\u001b[0m\u001b[0mdisaggregate_fixedPrecision\u001b[0m\u001b[0;34m(\u001b[0m\u001b[0mmains_chunk\u001b[0m\u001b[0;34m)\u001b[0m\u001b[0;34m\u001b[0m\u001b[0m\n\u001b[0m\u001b[1;32m    245\u001b[0m \u001b[0;34m\u001b[0m\u001b[0m\n\u001b[1;32m    246\u001b[0m             \u001b[0;31m# estimate the regulation parameters - noise variance\u001b[0m\u001b[0;34m\u001b[0m\u001b[0;34m\u001b[0m\u001b[0m\n",
      "\u001b[0;32m/Users/nipunbatra/git/monthly-disaggregation/code/latent_Bayesian_melding.py\u001b[0m in \u001b[0;36mdisaggregate_fixedPrecision\u001b[0;34m(self, mains_chunk)\u001b[0m\n\u001b[1;32m    569\u001b[0m                 Expr.hstack(self.varModel,delta,\n\u001b[1;32m    570\u001b[0m                     Expr.sub(DenseMatrix(\n\u001b[0;32m--> 571\u001b[0;31m                         mains_chunk.values.ravel().reshape(1,nosOfTimePoints)),\n\u001b[0m\u001b[1;32m    572\u001b[0m                              Expr.add(sumLatentVariable,variableOfPiecewise))),\n\u001b[1;32m    573\u001b[0m                 Domain.inRotatedQCone())\n",
      "\u001b[0;32m/Users/nipunbatra/.local/lib/python2.7/site-packages/mosek/fusion/__init__.pyc\u001b[0m in \u001b[0;36m__init__\u001b[0;34m(self, *args)\u001b[0m\n\u001b[1;32m  26032\u001b[0m       \u001b[0mself\u001b[0m\u001b[0;34m.\u001b[0m\u001b[0m__constructor_II_3F\u001b[0m\u001b[0;34m(\u001b[0m\u001b[0;34m*\u001b[0m\u001b[0margs\u001b[0m\u001b[0;34m)\u001b[0m\u001b[0;34m\u001b[0m\u001b[0m\n\u001b[1;32m  26033\u001b[0m     \u001b[0;32melse\u001b[0m\u001b[0;34m:\u001b[0m\u001b[0;34m\u001b[0m\u001b[0m\n\u001b[0;32m> 26034\u001b[0;31m       \u001b[0;32mraise\u001b[0m \u001b[0mValueError\u001b[0m\u001b[0;34m(\u001b[0m\u001b[0;34m\"Invalid argument list for constructor\"\u001b[0m\u001b[0;34m)\u001b[0m\u001b[0;34m\u001b[0m\u001b[0m\n\u001b[0m\u001b[1;32m  26035\u001b[0m   \u001b[0;34m@\u001b[0m\u001b[0mstaticmethod\u001b[0m\u001b[0;34m\u001b[0m\u001b[0m\n\u001b[1;32m  26036\u001b[0m   \u001b[0;32mdef\u001b[0m \u001b[0m_matchargs_numNonzeros_\u001b[0m\u001b[0;34m(\u001b[0m\u001b[0margs\u001b[0m\u001b[0;34m)\u001b[0m\u001b[0;34m:\u001b[0m\u001b[0;34m\u001b[0m\u001b[0m\n",
      "\u001b[0;31mValueError\u001b[0m: Invalid argument list for constructor"
     ]
    }
   ],
   "source": [
    "meterlist = ['dishwasher','washingmachine','fridgefreezer']\n",
    "individual_model = lbm.import_model(meterlist,join('.', 'appliance_model_induced_density.json'))\n",
    "results = lbm.disaggregate_chunk(mains_chunk)"
   ]
  },
  {
   "cell_type": "code",
   "execution_count": 205,
   "metadata": {
    "collapsed": true
   },
   "outputs": [],
   "source": [
    "mains_chunk.to_csv(\"/Users/nipunbatra/Desktop/m.csv\")"
   ]
  },
  {
   "cell_type": "code",
   "execution_count": 210,
   "metadata": {
    "collapsed": false
   },
   "outputs": [
    {
     "data": {
      "text/plain": [
       "pandas.core.series.Series"
      ]
     },
     "execution_count": 210,
     "metadata": {},
     "output_type": "execute_result"
    }
   ],
   "source": [
    "m = pd.read_csv(\"/Users/nipunbatra/Desktop/m.csv\", index_col=0).squeeze()\n",
    "m.index = pd.to_datetime(m.index)\n",
    "type(m)"
   ]
  },
  {
   "cell_type": "code",
   "execution_count": 214,
   "metadata": {
    "collapsed": false
   },
   "outputs": [
    {
     "name": "stdout",
     "output_type": "stream",
     "text": [
      "*************Iteration: 1*****************\n",
      "Employing the Mosek solver to solve the problem:\n",
      "\n",
      "Declaring variables and constraints...\n",
      "\n",
      "\n",
      " Solving the problem ...\n",
      "\n",
      "+++++++++++++++optimization status+++++++++++++++++++\n",
      "Number of variables:25194\n",
      "Number of constraints:17989\n",
      "Primal solution status:SolutionStatus.Optimal\n",
      "Primal value:3550.58167993\n",
      "Dual solution status:SolutionStatus.Optimal\n",
      "Dual value:3550.43918037\n",
      "Accepted solution status:AccSolutionStatus.Anything\n",
      "+++++++++++++++optimization status+++++++++++++++++++\n",
      "Solving this problem took '4.34199881554' seconds\n",
      "\n",
      " log(datalikelihood*prior)=17986.7771393\n",
      "\n",
      "*************Iteration: 2*****************\n",
      "Employing the Mosek solver to solve the problem:\n",
      "\n",
      "Declaring variables and constraints...\n",
      "\n",
      "\n",
      " Solving the problem ...\n",
      "\n",
      "+++++++++++++++optimization status+++++++++++++++++++\n",
      "Number of variables:25194\n",
      "Number of constraints:17989\n",
      "Primal solution status:SolutionStatus.Optimal\n",
      "Primal value:1472.32726827\n",
      "Dual solution status:SolutionStatus.Optimal\n",
      "Dual value:1472.13963263\n",
      "Accepted solution status:AccSolutionStatus.Anything\n",
      "+++++++++++++++optimization status+++++++++++++++++++\n",
      "Solving this problem took '4.3239979744' seconds\n",
      "\n",
      " log(datalikelihood*prior)=17889.5345057\n",
      "\n",
      "*************Iteration: 3*****************\n",
      "Employing the Mosek solver to solve the problem:\n",
      "\n",
      "Declaring variables and constraints...\n",
      "\n",
      "\n",
      " Solving the problem ...\n",
      "\n",
      "+++++++++++++++optimization status+++++++++++++++++++\n",
      "Number of variables:25194\n",
      "Number of constraints:17989\n",
      "Primal solution status:SolutionStatus.Optimal\n",
      "Primal value:1471.97948835\n",
      "Dual solution status:SolutionStatus.Optimal\n",
      "Dual value:1471.83787769\n",
      "Accepted solution status:AccSolutionStatus.Anything\n",
      "+++++++++++++++optimization status+++++++++++++++++++\n",
      "Solving this problem took '4.50795602798' seconds\n",
      "\n",
      " log(datalikelihood*prior)=17977.0620877\n",
      "\n",
      "*************Iteration: 4*****************\n",
      "Employing the Mosek solver to solve the problem:\n",
      "\n",
      "Declaring variables and constraints...\n",
      "\n",
      "\n",
      " Solving the problem ...\n",
      "\n",
      "+++++++++++++++optimization status+++++++++++++++++++\n",
      "Number of variables:25194\n",
      "Number of constraints:17989\n",
      "Primal solution status:SolutionStatus.Optimal\n",
      "Primal value:1471.65032962\n",
      "Dual solution status:SolutionStatus.Optimal\n",
      "Dual value:1471.5155503\n",
      "Accepted solution status:AccSolutionStatus.Anything\n",
      "+++++++++++++++optimization status+++++++++++++++++++\n",
      "Solving this problem took '4.53702902794' seconds\n",
      "\n",
      " log(datalikelihood*prior)=18019.7429218\n",
      "\n"
     ]
    }
   ],
   "source": [
    "results = lbm.disaggregate_chunk(m.mul(0.1))"
   ]
  },
  {
   "cell_type": "code",
   "execution_count": 234,
   "metadata": {
    "collapsed": false
   },
   "outputs": [
    {
     "data": {
      "text/plain": [
       "<matplotlib.axes._subplots.AxesSubplot at 0x11bd9b710>"
      ]
     },
     "execution_count": 234,
     "metadata": {},
     "output_type": "execute_result"
    },
    {
     "data": {
      "image/png": "[encoded data removed]",
      "text/plain": [
       "<matplotlib.figure.Figure at 0x11be2fb90>"
      ]
     },
     "metadata": {},
     "output_type": "display_data"
    }
   ],
   "source": [
    "#m.plot()\n",
    "results['inferred appliance energy']['dishwasher'].mul(10).plot()\n",
    "results['inferred appliance energy']['fridgefreezer'].mul(10).plot()\n",
    "#st['/370']['refrigerator1'].resample(\"2T\").head(720).plot()\n",
    "#results['inferred appliance energy']['washingmachine'].mul(10).plot()\n",
    "#st['/370']['dishwasher1'].resample(\"2T\").head(720).plot()"
   ]
  },
  {
   "cell_type": "code",
   "execution_count": 230,
   "metadata": {
    "collapsed": false
   },
   "outputs": [
    {
     "data": {
      "text/plain": [
       "<matplotlib.axes._subplots.AxesSubplot at 0x11a22de10>"
      ]
     },
     "execution_count": 230,
     "metadata": {},
     "output_type": "execute_result"
    },
    {
     "data": {
      "image/png": "[encoded data removed]",
      "text/plain": [
       "<matplotlib.figure.Figure at 0x11a235ad0>"
      ]
     },
     "metadata": {},
     "output_type": "display_data"
    }
   ],
   "source": [
    "st['/370']['dishwasher1'].resample(\"2T\").head(720).plot()"
   ]
  },
  {
   "cell_type": "code",
   "execution_count": 224,
   "metadata": {
    "collapsed": false
   },
   "outputs": [
    {
     "data": {
      "text/plain": [
       "localminute\n",
       "2012-07-11 05:00:00-05:00      0.0\n",
       "2012-07-11 05:02:00-05:00      0.0\n",
       "2012-07-11 05:04:00-05:00      0.0\n",
       "2012-07-11 05:06:00-05:00     47.0\n",
       "2012-07-11 05:08:00-05:00    151.0\n",
       "2012-07-11 05:10:00-05:00    220.0\n",
       "2012-07-11 05:12:00-05:00    207.0\n",
       "2012-07-11 05:14:00-05:00    205.5\n",
       "2012-07-11 05:16:00-05:00    203.0\n",
       "2012-07-11 05:18:00-05:00    200.0\n",
       "2012-07-11 05:20:00-05:00    195.5\n",
       "2012-07-11 05:22:00-05:00    144.0\n",
       "2012-07-11 05:24:00-05:00     82.0\n",
       "2012-07-11 05:26:00-05:00     61.5\n",
       "2012-07-11 05:28:00-05:00      0.0\n",
       "2012-07-11 05:30:00-05:00      0.0\n",
       "2012-07-11 05:32:00-05:00      0.0\n",
       "2012-07-11 05:34:00-05:00      0.0\n",
       "2012-07-11 05:36:00-05:00      0.0\n",
       "2012-07-11 05:38:00-05:00      0.0\n",
       "2012-07-11 05:40:00-05:00      0.0\n",
       "2012-07-11 05:42:00-05:00      0.0\n",
       "2012-07-11 05:44:00-05:00      0.0\n",
       "2012-07-11 05:46:00-05:00     75.0\n",
       "2012-07-11 05:48:00-05:00     87.5\n",
       "2012-07-11 05:50:00-05:00     86.5\n",
       "2012-07-11 05:52:00-05:00     85.5\n",
       "2012-07-11 05:54:00-05:00     85.0\n",
       "2012-07-11 05:56:00-05:00     84.0\n",
       "2012-07-11 05:58:00-05:00     83.5\n",
       "                             ...  \n",
       "2012-07-12 04:00:00-05:00      0.0\n",
       "2012-07-12 04:02:00-05:00      0.0\n",
       "2012-07-12 04:04:00-05:00     88.5\n",
       "2012-07-12 04:06:00-05:00     86.5\n",
       "2012-07-12 04:08:00-05:00     86.0\n",
       "2012-07-12 04:10:00-05:00     85.0\n",
       "2012-07-12 04:12:00-05:00     84.0\n",
       "2012-07-12 04:14:00-05:00     84.0\n",
       "2012-07-12 04:16:00-05:00     83.0\n",
       "2012-07-12 04:18:00-05:00     83.0\n",
       "2012-07-12 04:20:00-05:00     82.5\n",
       "2012-07-12 04:22:00-05:00      0.0\n",
       "2012-07-12 04:24:00-05:00      0.0\n",
       "2012-07-12 04:26:00-05:00      0.0\n",
       "2012-07-12 04:28:00-05:00      0.0\n",
       "2012-07-12 04:30:00-05:00      0.0\n",
       "2012-07-12 04:32:00-05:00      0.0\n",
       "2012-07-12 04:34:00-05:00      0.0\n",
       "2012-07-12 04:36:00-05:00      0.0\n",
       "2012-07-12 04:38:00-05:00      0.0\n",
       "2012-07-12 04:40:00-05:00     51.0\n",
       "2012-07-12 04:42:00-05:00    229.5\n",
       "2012-07-12 04:44:00-05:00    216.5\n",
       "2012-07-12 04:46:00-05:00    205.5\n",
       "2012-07-12 04:48:00-05:00    202.5\n",
       "2012-07-12 04:50:00-05:00    200.0\n",
       "2012-07-12 04:52:00-05:00    196.5\n",
       "2012-07-12 04:54:00-05:00    194.5\n",
       "2012-07-12 04:56:00-05:00    167.0\n",
       "2012-07-12 04:58:00-05:00     37.0\n",
       "Freq: 2T, Name: refrigerator1, dtype: float32"
      ]
     },
     "execution_count": 224,
     "metadata": {},
     "output_type": "execute_result"
    }
   ],
   "source": [
    "st['/370']['refrigerator1'].resample(\"2T\").head(720)"
   ]
  },
  {
   "cell_type": "code",
   "execution_count": 233,
   "metadata": {
    "collapsed": false
   },
   "outputs": [
    {
     "data": {
      "text/plain": [
       "DatetimeIndex(['2013-01-01 06:02:00', '2013-01-01 06:04:00',\n",
       "               '2013-01-01 06:06:00', '2013-01-01 06:08:00',\n",
       "               '2013-01-01 06:10:00', '2013-01-01 06:12:00',\n",
       "               '2013-01-01 06:14:00', '2013-01-01 06:16:00',\n",
       "               '2013-01-01 06:18:00', '2013-01-01 06:20:00', \n",
       "               ...\n",
       "               '2013-01-02 05:40:00', '2013-01-02 05:42:00',\n",
       "               '2013-01-02 05:44:00', '2013-01-02 05:46:00',\n",
       "               '2013-01-02 05:48:00', '2013-01-02 05:50:00',\n",
       "               '2013-01-02 05:52:00', '2013-01-02 05:54:00',\n",
       "               '2013-01-02 05:56:00', '2013-01-02 05:58:00'],\n",
       "              dtype='datetime64[ns]', length=719, freq=None, tz=None)"
      ]
     },
     "execution_count": 233,
     "metadata": {},
     "output_type": "execute_result"
    }
   ],
   "source": [
    "results['inferred appliance energy']['dishwasher'].mul(10).index"
   ]
  },
  {
   "cell_type": "code",
   "execution_count": null,
   "metadata": {
    "collapsed": true
   },
   "outputs": [],
   "source": []
  }
 ],
 "metadata": {
  "kernelspec": {
   "display_name": "Python 2",
   "language": "python",
   "name": "python2"
  },
  "language_info": {
   "codemirror_mode": {
    "name": "ipython",
    "version": 2
   },
   "file_extension": ".py",
   "mimetype": "text/x-python",
   "name": "python",
   "nbconvert_exporter": "python",
   "pygments_lexer": "ipython2",
   "version": "2.7.11"
  }
 },
 "nbformat": 4,
 "nbformat_minor": 0
}
