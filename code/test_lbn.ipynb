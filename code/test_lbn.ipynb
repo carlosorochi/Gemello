{
 "cells": [
  {
   "cell_type": "code",
   "execution_count": 2,
   "metadata": {
    "collapsed": false
   },
   "outputs": [
    {
     "name": "stderr",
     "output_type": "stream",
     "text": [
      "Vendor:  Continuum Analytics, Inc.\n",
      "Package: mkl\n",
      "Message: trial mode expires in 29 days\n"
     ]
    }
   ],
   "source": [
    "from __future__ import print_function, division\n",
    "import unittest\n",
    "from os.path import join\n",
    "from os import remove\n",
    "from nilmtk.datastore import HDFDataStore\n",
    "from nilmtk import DataSet\n",
    "from nilmtk.disaggregate import FHMM\n",
    "\n",
    "import pandas as pd\n",
    "from pandas import HDFStore"
   ]
  },
  {
   "cell_type": "code",
   "execution_count": 3,
   "metadata": {
    "collapsed": true
   },
   "outputs": [],
   "source": [
    "from latent_Bayesian_melding import LatentBayesianMelding"
   ]
  },
  {
   "cell_type": "code",
   "execution_count": 4,
   "metadata": {
    "collapsed": true
   },
   "outputs": [],
   "source": [
    "filename_meterdata_ukdale = join(\"/Users/nipunbatra/Downloads/\", 'meterdata_ukdale.h5')"
   ]
  },
  {
   "cell_type": "code",
   "execution_count": 8,
   "metadata": {
    "collapsed": false
   },
   "outputs": [
    {
     "name": "stderr",
     "output_type": "stream",
     "text": [
      "/Users/nipunbatra/anaconda/lib/python2.7/site-packages/ipykernel/pylab/config.py:66: DeprecationWarning: metadata {'config': True} was set from the constructor.  Metadata should be set using the .tag() method, e.g., Int().tag(key1='value1', key2='value2')\n",
      "  inline backend.\"\"\"\n",
      "/Users/nipunbatra/anaconda/lib/python2.7/site-packages/ipykernel/pylab/config.py:71: DeprecationWarning: metadata {'config': True} was set from the constructor.  Metadata should be set using the .tag() method, e.g., Int().tag(key1='value1', key2='value2')\n",
      "  'retina', 'jpeg', 'svg', 'pdf'.\"\"\")\n",
      "/Users/nipunbatra/anaconda/lib/python2.7/site-packages/ipykernel/pylab/config.py:85: DeprecationWarning: metadata {'config': True} was set from the constructor.  Metadata should be set using the .tag() method, e.g., Int().tag(key1='value1', key2='value2')\n",
      "  use `figure_formats` instead)\"\"\")\n",
      "/Users/nipunbatra/anaconda/lib/python2.7/site-packages/ipykernel/pylab/config.py:95: DeprecationWarning: metadata {'config': True} was set from the constructor.  Metadata should be set using the .tag() method, e.g., Int().tag(key1='value1', key2='value2')\n",
      "  \"\"\"\n",
      "/Users/nipunbatra/anaconda/lib/python2.7/site-packages/ipykernel/pylab/config.py:114: DeprecationWarning: metadata {'config': True} was set from the constructor.  Metadata should be set using the .tag() method, e.g., Int().tag(key1='value1', key2='value2')\n",
      "  \"\"\")\n",
      "/Users/nipunbatra/anaconda/lib/python2.7/site-packages/ipykernel/pylab/config.py:44: DeprecationWarning: InlineBackend._config_changed is deprecated: use @observe and @unobserve instead.\n",
      "  def _config_changed(self, name, old, new):\n",
      "/Users/nipunbatra/anaconda/lib/python2.7/site-packages/traitlets/traitlets.py:770: DeprecationWarning: A parent of InlineBackend._config_changed has adopted the new @observe(change) API\n",
      "  clsname, change_or_name), DeprecationWarning)\n"
     ]
    }
   ],
   "source": [
    "%matplotlib inline"
   ]
  },
  {
   "cell_type": "code",
   "execution_count": 5,
   "metadata": {
    "collapsed": true
   },
   "outputs": [],
   "source": [
    "meterdata_ukdale = HDFStore(filename_meterdata_ukdale)"
   ]
  },
  {
   "cell_type": "code",
   "execution_count": 11,
   "metadata": {
    "collapsed": false
   },
   "outputs": [
    {
     "data": {
      "text/html": [
       "<div>\n",
       "<table border=\"1\" class=\"dataframe\">\n",
       "  <thead>\n",
       "    <tr style=\"text-align: right;\">\n",
       "      <th></th>\n",
       "      <th>('laptop computer', 1)</th>\n",
       "      <th>('computer monitor', 1)</th>\n",
       "      <th>('active speaker', 1)</th>\n",
       "      <th>('computer', 1)</th>\n",
       "      <th>('broadband router', 1)</th>\n",
       "      <th>('external hard disk', 1)</th>\n",
       "      <th>('kettle', 1)</th>\n",
       "      <th>('rice cooker', 1)</th>\n",
       "      <th>('running machine', 1)</th>\n",
       "      <th>('laptop computer', 2)</th>\n",
       "      <th>('washing machine', 1)</th>\n",
       "      <th>('dish washer', 1)</th>\n",
       "      <th>('fridge', 1)</th>\n",
       "      <th>('microwave', 1)</th>\n",
       "      <th>('toaster', 1)</th>\n",
       "      <th>('games console', 1)</th>\n",
       "      <th>('modem', 1)</th>\n",
       "      <th>('cooker', 1)</th>\n",
       "      <th>mains</th>\n",
       "      <th>synthetic mains</th>\n",
       "    </tr>\n",
       "  </thead>\n",
       "  <tbody>\n",
       "    <tr>\n",
       "      <th>2013-06-08 00:00:00+01:00</th>\n",
       "      <td>0</td>\n",
       "      <td>0</td>\n",
       "      <td>1</td>\n",
       "      <td>4.701754</td>\n",
       "      <td>2.052632</td>\n",
       "      <td>0.300000</td>\n",
       "      <td>0.280702</td>\n",
       "      <td>0.333333</td>\n",
       "      <td>3.166667</td>\n",
       "      <td>0.000000</td>\n",
       "      <td>1.066667</td>\n",
       "      <td>0.283333</td>\n",
       "      <td>29.250000</td>\n",
       "      <td>0</td>\n",
       "      <td>0.016667</td>\n",
       "      <td>0.300000</td>\n",
       "      <td>3</td>\n",
       "      <td>0</td>\n",
       "      <td>58.117223</td>\n",
       "      <td>45.751754</td>\n",
       "    </tr>\n",
       "    <tr>\n",
       "      <th>2013-06-08 00:02:00+01:00</th>\n",
       "      <td>0</td>\n",
       "      <td>0</td>\n",
       "      <td>1</td>\n",
       "      <td>4.733333</td>\n",
       "      <td>2.033333</td>\n",
       "      <td>0.200000</td>\n",
       "      <td>0.333333</td>\n",
       "      <td>0.333333</td>\n",
       "      <td>3.157895</td>\n",
       "      <td>0.070175</td>\n",
       "      <td>1.052632</td>\n",
       "      <td>0.333333</td>\n",
       "      <td>32.000000</td>\n",
       "      <td>0</td>\n",
       "      <td>0.105263</td>\n",
       "      <td>0.315789</td>\n",
       "      <td>3</td>\n",
       "      <td>0</td>\n",
       "      <td>65.959752</td>\n",
       "      <td>48.668421</td>\n",
       "    </tr>\n",
       "    <tr>\n",
       "      <th>2013-06-08 00:04:00+01:00</th>\n",
       "      <td>0</td>\n",
       "      <td>0</td>\n",
       "      <td>1</td>\n",
       "      <td>4.649123</td>\n",
       "      <td>2.087719</td>\n",
       "      <td>0.228070</td>\n",
       "      <td>0.298246</td>\n",
       "      <td>0.333333</td>\n",
       "      <td>3.166667</td>\n",
       "      <td>0.033333</td>\n",
       "      <td>1.133333</td>\n",
       "      <td>0.298246</td>\n",
       "      <td>30.508771</td>\n",
       "      <td>0</td>\n",
       "      <td>0.100000</td>\n",
       "      <td>0.300000</td>\n",
       "      <td>3</td>\n",
       "      <td>0</td>\n",
       "      <td>64.443502</td>\n",
       "      <td>47.136842</td>\n",
       "    </tr>\n",
       "    <tr>\n",
       "      <th>2013-06-08 00:06:00+01:00</th>\n",
       "      <td>0</td>\n",
       "      <td>0</td>\n",
       "      <td>1</td>\n",
       "      <td>4.300000</td>\n",
       "      <td>2.133333</td>\n",
       "      <td>0.316667</td>\n",
       "      <td>0.333333</td>\n",
       "      <td>0.333333</td>\n",
       "      <td>3.416667</td>\n",
       "      <td>0.033333</td>\n",
       "      <td>1.050000</td>\n",
       "      <td>0.300000</td>\n",
       "      <td>29.633334</td>\n",
       "      <td>0</td>\n",
       "      <td>0.066667</td>\n",
       "      <td>0.245614</td>\n",
       "      <td>3</td>\n",
       "      <td>0</td>\n",
       "      <td>63.058278</td>\n",
       "      <td>46.162281</td>\n",
       "    </tr>\n",
       "    <tr>\n",
       "      <th>2013-06-08 00:08:00+01:00</th>\n",
       "      <td>0</td>\n",
       "      <td>0</td>\n",
       "      <td>1</td>\n",
       "      <td>4.298246</td>\n",
       "      <td>2.035088</td>\n",
       "      <td>0.192982</td>\n",
       "      <td>0.333333</td>\n",
       "      <td>0.333333</td>\n",
       "      <td>3.192982</td>\n",
       "      <td>0.052632</td>\n",
       "      <td>1.087719</td>\n",
       "      <td>0.315789</td>\n",
       "      <td>29.052633</td>\n",
       "      <td>0</td>\n",
       "      <td>0.105263</td>\n",
       "      <td>0.300000</td>\n",
       "      <td>3</td>\n",
       "      <td>0</td>\n",
       "      <td>62.140030</td>\n",
       "      <td>45.300001</td>\n",
       "    </tr>\n",
       "  </tbody>\n",
       "</table>\n",
       "</div>"
      ],
      "text/plain": [
       "                           ('laptop computer', 1)  ('computer monitor', 1)  \\\n",
       "2013-06-08 00:00:00+01:00                       0                        0   \n",
       "2013-06-08 00:02:00+01:00                       0                        0   \n",
       "2013-06-08 00:04:00+01:00                       0                        0   \n",
       "2013-06-08 00:06:00+01:00                       0                        0   \n",
       "2013-06-08 00:08:00+01:00                       0                        0   \n",
       "\n",
       "                           ('active speaker', 1)  ('computer', 1)  \\\n",
       "2013-06-08 00:00:00+01:00                      1         4.701754   \n",
       "2013-06-08 00:02:00+01:00                      1         4.733333   \n",
       "2013-06-08 00:04:00+01:00                      1         4.649123   \n",
       "2013-06-08 00:06:00+01:00                      1         4.300000   \n",
       "2013-06-08 00:08:00+01:00                      1         4.298246   \n",
       "\n",
       "                           ('broadband router', 1)  ('external hard disk', 1)  \\\n",
       "2013-06-08 00:00:00+01:00                 2.052632                   0.300000   \n",
       "2013-06-08 00:02:00+01:00                 2.033333                   0.200000   \n",
       "2013-06-08 00:04:00+01:00                 2.087719                   0.228070   \n",
       "2013-06-08 00:06:00+01:00                 2.133333                   0.316667   \n",
       "2013-06-08 00:08:00+01:00                 2.035088                   0.192982   \n",
       "\n",
       "                           ('kettle', 1)  ('rice cooker', 1)  \\\n",
       "2013-06-08 00:00:00+01:00       0.280702            0.333333   \n",
       "2013-06-08 00:02:00+01:00       0.333333            0.333333   \n",
       "2013-06-08 00:04:00+01:00       0.298246            0.333333   \n",
       "2013-06-08 00:06:00+01:00       0.333333            0.333333   \n",
       "2013-06-08 00:08:00+01:00       0.333333            0.333333   \n",
       "\n",
       "                           ('running machine', 1)  ('laptop computer', 2)  \\\n",
       "2013-06-08 00:00:00+01:00                3.166667                0.000000   \n",
       "2013-06-08 00:02:00+01:00                3.157895                0.070175   \n",
       "2013-06-08 00:04:00+01:00                3.166667                0.033333   \n",
       "2013-06-08 00:06:00+01:00                3.416667                0.033333   \n",
       "2013-06-08 00:08:00+01:00                3.192982                0.052632   \n",
       "\n",
       "                           ('washing machine', 1)  ('dish washer', 1)  \\\n",
       "2013-06-08 00:00:00+01:00                1.066667            0.283333   \n",
       "2013-06-08 00:02:00+01:00                1.052632            0.333333   \n",
       "2013-06-08 00:04:00+01:00                1.133333            0.298246   \n",
       "2013-06-08 00:06:00+01:00                1.050000            0.300000   \n",
       "2013-06-08 00:08:00+01:00                1.087719            0.315789   \n",
       "\n",
       "                           ('fridge', 1)  ('microwave', 1)  ('toaster', 1)  \\\n",
       "2013-06-08 00:00:00+01:00      29.250000                 0        0.016667   \n",
       "2013-06-08 00:02:00+01:00      32.000000                 0        0.105263   \n",
       "2013-06-08 00:04:00+01:00      30.508771                 0        0.100000   \n",
       "2013-06-08 00:06:00+01:00      29.633334                 0        0.066667   \n",
       "2013-06-08 00:08:00+01:00      29.052633                 0        0.105263   \n",
       "\n",
       "                           ('games console', 1)  ('modem', 1)  ('cooker', 1)  \\\n",
       "2013-06-08 00:00:00+01:00              0.300000             3              0   \n",
       "2013-06-08 00:02:00+01:00              0.315789             3              0   \n",
       "2013-06-08 00:04:00+01:00              0.300000             3              0   \n",
       "2013-06-08 00:06:00+01:00              0.245614             3              0   \n",
       "2013-06-08 00:08:00+01:00              0.300000             3              0   \n",
       "\n",
       "                               mains  synthetic mains  \n",
       "2013-06-08 00:00:00+01:00  58.117223        45.751754  \n",
       "2013-06-08 00:02:00+01:00  65.959752        48.668421  \n",
       "2013-06-08 00:04:00+01:00  64.443502        47.136842  \n",
       "2013-06-08 00:06:00+01:00  63.058278        46.162281  \n",
       "2013-06-08 00:08:00+01:00  62.140030        45.300001  "
      ]
     },
     "execution_count": 11,
     "metadata": {},
     "output_type": "execute_result"
    }
   ],
   "source": [
    "meterdata_ukdale['/meterdata'].head()"
   ]
  },
  {
   "cell_type": "code",
   "execution_count": 12,
   "metadata": {
    "collapsed": true
   },
   "outputs": [],
   "source": [
    "sample_seconds = 120"
   ]
  },
  {
   "cell_type": "code",
   "execution_count": 13,
   "metadata": {
    "collapsed": true
   },
   "outputs": [],
   "source": [
    "building_information = 'ukdale/building2/2013-06-08'"
   ]
  },
  {
   "cell_type": "code",
   "execution_count": 14,
   "metadata": {
    "collapsed": true
   },
   "outputs": [],
   "source": [
    "meterdata = meterdata_ukdale['meterdata']"
   ]
  },
  {
   "cell_type": "code",
   "execution_count": 16,
   "metadata": {
    "collapsed": false
   },
   "outputs": [
    {
     "data": {
      "text/html": [
       "<div>\n",
       "<table border=\"1\" class=\"dataframe\">\n",
       "  <thead>\n",
       "    <tr style=\"text-align: right;\">\n",
       "      <th></th>\n",
       "      <th>('laptop computer', 1)</th>\n",
       "      <th>('computer monitor', 1)</th>\n",
       "      <th>('active speaker', 1)</th>\n",
       "      <th>('computer', 1)</th>\n",
       "      <th>('broadband router', 1)</th>\n",
       "      <th>('external hard disk', 1)</th>\n",
       "      <th>('kettle', 1)</th>\n",
       "      <th>('rice cooker', 1)</th>\n",
       "      <th>('running machine', 1)</th>\n",
       "      <th>('laptop computer', 2)</th>\n",
       "      <th>('washing machine', 1)</th>\n",
       "      <th>('dish washer', 1)</th>\n",
       "      <th>('fridge', 1)</th>\n",
       "      <th>('microwave', 1)</th>\n",
       "      <th>('toaster', 1)</th>\n",
       "      <th>('games console', 1)</th>\n",
       "      <th>('modem', 1)</th>\n",
       "      <th>('cooker', 1)</th>\n",
       "      <th>mains</th>\n",
       "      <th>synthetic mains</th>\n",
       "    </tr>\n",
       "  </thead>\n",
       "  <tbody>\n",
       "    <tr>\n",
       "      <th>2013-06-08 00:00:00+01:00</th>\n",
       "      <td>0</td>\n",
       "      <td>0</td>\n",
       "      <td>1</td>\n",
       "      <td>4.701754</td>\n",
       "      <td>2.052632</td>\n",
       "      <td>0.300000</td>\n",
       "      <td>0.280702</td>\n",
       "      <td>0.333333</td>\n",
       "      <td>3.166667</td>\n",
       "      <td>0.000000</td>\n",
       "      <td>1.066667</td>\n",
       "      <td>0.283333</td>\n",
       "      <td>29.250000</td>\n",
       "      <td>0</td>\n",
       "      <td>0.016667</td>\n",
       "      <td>0.300000</td>\n",
       "      <td>3</td>\n",
       "      <td>0</td>\n",
       "      <td>58.117223</td>\n",
       "      <td>45.751754</td>\n",
       "    </tr>\n",
       "    <tr>\n",
       "      <th>2013-06-08 00:02:00+01:00</th>\n",
       "      <td>0</td>\n",
       "      <td>0</td>\n",
       "      <td>1</td>\n",
       "      <td>4.733333</td>\n",
       "      <td>2.033333</td>\n",
       "      <td>0.200000</td>\n",
       "      <td>0.333333</td>\n",
       "      <td>0.333333</td>\n",
       "      <td>3.157895</td>\n",
       "      <td>0.070175</td>\n",
       "      <td>1.052632</td>\n",
       "      <td>0.333333</td>\n",
       "      <td>32.000000</td>\n",
       "      <td>0</td>\n",
       "      <td>0.105263</td>\n",
       "      <td>0.315789</td>\n",
       "      <td>3</td>\n",
       "      <td>0</td>\n",
       "      <td>65.959752</td>\n",
       "      <td>48.668421</td>\n",
       "    </tr>\n",
       "    <tr>\n",
       "      <th>2013-06-08 00:04:00+01:00</th>\n",
       "      <td>0</td>\n",
       "      <td>0</td>\n",
       "      <td>1</td>\n",
       "      <td>4.649123</td>\n",
       "      <td>2.087719</td>\n",
       "      <td>0.228070</td>\n",
       "      <td>0.298246</td>\n",
       "      <td>0.333333</td>\n",
       "      <td>3.166667</td>\n",
       "      <td>0.033333</td>\n",
       "      <td>1.133333</td>\n",
       "      <td>0.298246</td>\n",
       "      <td>30.508771</td>\n",
       "      <td>0</td>\n",
       "      <td>0.100000</td>\n",
       "      <td>0.300000</td>\n",
       "      <td>3</td>\n",
       "      <td>0</td>\n",
       "      <td>64.443502</td>\n",
       "      <td>47.136842</td>\n",
       "    </tr>\n",
       "    <tr>\n",
       "      <th>2013-06-08 00:06:00+01:00</th>\n",
       "      <td>0</td>\n",
       "      <td>0</td>\n",
       "      <td>1</td>\n",
       "      <td>4.300000</td>\n",
       "      <td>2.133333</td>\n",
       "      <td>0.316667</td>\n",
       "      <td>0.333333</td>\n",
       "      <td>0.333333</td>\n",
       "      <td>3.416667</td>\n",
       "      <td>0.033333</td>\n",
       "      <td>1.050000</td>\n",
       "      <td>0.300000</td>\n",
       "      <td>29.633334</td>\n",
       "      <td>0</td>\n",
       "      <td>0.066667</td>\n",
       "      <td>0.245614</td>\n",
       "      <td>3</td>\n",
       "      <td>0</td>\n",
       "      <td>63.058278</td>\n",
       "      <td>46.162281</td>\n",
       "    </tr>\n",
       "    <tr>\n",
       "      <th>2013-06-08 00:08:00+01:00</th>\n",
       "      <td>0</td>\n",
       "      <td>0</td>\n",
       "      <td>1</td>\n",
       "      <td>4.298246</td>\n",
       "      <td>2.035088</td>\n",
       "      <td>0.192982</td>\n",
       "      <td>0.333333</td>\n",
       "      <td>0.333333</td>\n",
       "      <td>3.192982</td>\n",
       "      <td>0.052632</td>\n",
       "      <td>1.087719</td>\n",
       "      <td>0.315789</td>\n",
       "      <td>29.052633</td>\n",
       "      <td>0</td>\n",
       "      <td>0.105263</td>\n",
       "      <td>0.300000</td>\n",
       "      <td>3</td>\n",
       "      <td>0</td>\n",
       "      <td>62.140030</td>\n",
       "      <td>45.300001</td>\n",
       "    </tr>\n",
       "  </tbody>\n",
       "</table>\n",
       "</div>"
      ],
      "text/plain": [
       "                           ('laptop computer', 1)  ('computer monitor', 1)  \\\n",
       "2013-06-08 00:00:00+01:00                       0                        0   \n",
       "2013-06-08 00:02:00+01:00                       0                        0   \n",
       "2013-06-08 00:04:00+01:00                       0                        0   \n",
       "2013-06-08 00:06:00+01:00                       0                        0   \n",
       "2013-06-08 00:08:00+01:00                       0                        0   \n",
       "\n",
       "                           ('active speaker', 1)  ('computer', 1)  \\\n",
       "2013-06-08 00:00:00+01:00                      1         4.701754   \n",
       "2013-06-08 00:02:00+01:00                      1         4.733333   \n",
       "2013-06-08 00:04:00+01:00                      1         4.649123   \n",
       "2013-06-08 00:06:00+01:00                      1         4.300000   \n",
       "2013-06-08 00:08:00+01:00                      1         4.298246   \n",
       "\n",
       "                           ('broadband router', 1)  ('external hard disk', 1)  \\\n",
       "2013-06-08 00:00:00+01:00                 2.052632                   0.300000   \n",
       "2013-06-08 00:02:00+01:00                 2.033333                   0.200000   \n",
       "2013-06-08 00:04:00+01:00                 2.087719                   0.228070   \n",
       "2013-06-08 00:06:00+01:00                 2.133333                   0.316667   \n",
       "2013-06-08 00:08:00+01:00                 2.035088                   0.192982   \n",
       "\n",
       "                           ('kettle', 1)  ('rice cooker', 1)  \\\n",
       "2013-06-08 00:00:00+01:00       0.280702            0.333333   \n",
       "2013-06-08 00:02:00+01:00       0.333333            0.333333   \n",
       "2013-06-08 00:04:00+01:00       0.298246            0.333333   \n",
       "2013-06-08 00:06:00+01:00       0.333333            0.333333   \n",
       "2013-06-08 00:08:00+01:00       0.333333            0.333333   \n",
       "\n",
       "                           ('running machine', 1)  ('laptop computer', 2)  \\\n",
       "2013-06-08 00:00:00+01:00                3.166667                0.000000   \n",
       "2013-06-08 00:02:00+01:00                3.157895                0.070175   \n",
       "2013-06-08 00:04:00+01:00                3.166667                0.033333   \n",
       "2013-06-08 00:06:00+01:00                3.416667                0.033333   \n",
       "2013-06-08 00:08:00+01:00                3.192982                0.052632   \n",
       "\n",
       "                           ('washing machine', 1)  ('dish washer', 1)  \\\n",
       "2013-06-08 00:00:00+01:00                1.066667            0.283333   \n",
       "2013-06-08 00:02:00+01:00                1.052632            0.333333   \n",
       "2013-06-08 00:04:00+01:00                1.133333            0.298246   \n",
       "2013-06-08 00:06:00+01:00                1.050000            0.300000   \n",
       "2013-06-08 00:08:00+01:00                1.087719            0.315789   \n",
       "\n",
       "                           ('fridge', 1)  ('microwave', 1)  ('toaster', 1)  \\\n",
       "2013-06-08 00:00:00+01:00      29.250000                 0        0.016667   \n",
       "2013-06-08 00:02:00+01:00      32.000000                 0        0.105263   \n",
       "2013-06-08 00:04:00+01:00      30.508771                 0        0.100000   \n",
       "2013-06-08 00:06:00+01:00      29.633334                 0        0.066667   \n",
       "2013-06-08 00:08:00+01:00      29.052633                 0        0.105263   \n",
       "\n",
       "                           ('games console', 1)  ('modem', 1)  ('cooker', 1)  \\\n",
       "2013-06-08 00:00:00+01:00              0.300000             3              0   \n",
       "2013-06-08 00:02:00+01:00              0.315789             3              0   \n",
       "2013-06-08 00:04:00+01:00              0.300000             3              0   \n",
       "2013-06-08 00:06:00+01:00              0.245614             3              0   \n",
       "2013-06-08 00:08:00+01:00              0.300000             3              0   \n",
       "\n",
       "                               mains  synthetic mains  \n",
       "2013-06-08 00:00:00+01:00  58.117223        45.751754  \n",
       "2013-06-08 00:02:00+01:00  65.959752        48.668421  \n",
       "2013-06-08 00:04:00+01:00  64.443502        47.136842  \n",
       "2013-06-08 00:06:00+01:00  63.058278        46.162281  \n",
       "2013-06-08 00:08:00+01:00  62.140030        45.300001  "
      ]
     },
     "execution_count": 16,
     "metadata": {},
     "output_type": "execute_result"
    }
   ],
   "source": [
    "meterdata.head()"
   ]
  },
  {
   "cell_type": "code",
   "execution_count": 17,
   "metadata": {
    "collapsed": true
   },
   "outputs": [],
   "source": [
    "appliance_map = {'cooker':\"('cooker', 1)\",\n",
    "                         'kettle':\"('kettle', 1)\",\n",
    "                         'dishwasher':\"('dish washer', 1)\",\n",
    "                         'toaster':\"('toaster', 1)\",\n",
    "                         'washingmachine':\"('washing machine', 1)\",\n",
    "                         'fridgefreezer':\"('fridge', 1)\", \n",
    "                         'microwave':\"('microwave', 1)\"}"
   ]
  },
  {
   "cell_type": "code",
   "execution_count": 18,
   "metadata": {
    "collapsed": true
   },
   "outputs": [],
   "source": [
    "meterlist = ['cooker', 'kettle', 'dishwasher','toaster',\n",
    "                     'washingmachine','fridgefreezer', 'microwave']"
   ]
  },
  {
   "cell_type": "code",
   "execution_count": 19,
   "metadata": {
    "collapsed": true
   },
   "outputs": [],
   "source": [
    "appliancedata = meterdata\n",
    "groundTruthApplianceReading = pd.DataFrame(index=meterdata.index)"
   ]
  },
  {
   "cell_type": "code",
   "execution_count": 21,
   "metadata": {
    "collapsed": false
   },
   "outputs": [
    {
     "data": {
      "text/html": [
       "<div>\n",
       "<table border=\"1\" class=\"dataframe\">\n",
       "  <thead>\n",
       "    <tr style=\"text-align: right;\">\n",
       "      <th></th>\n",
       "    </tr>\n",
       "  </thead>\n",
       "  <tbody>\n",
       "    <tr>\n",
       "      <th>2013-06-08 00:00:00+01:00</th>\n",
       "    </tr>\n",
       "    <tr>\n",
       "      <th>2013-06-08 00:02:00+01:00</th>\n",
       "    </tr>\n",
       "    <tr>\n",
       "      <th>2013-06-08 00:04:00+01:00</th>\n",
       "    </tr>\n",
       "    <tr>\n",
       "      <th>2013-06-08 00:06:00+01:00</th>\n",
       "    </tr>\n",
       "    <tr>\n",
       "      <th>2013-06-08 00:08:00+01:00</th>\n",
       "    </tr>\n",
       "  </tbody>\n",
       "</table>\n",
       "</div>"
      ],
      "text/plain": [
       "Empty DataFrame\n",
       "Columns: []\n",
       "Index: [2013-06-08 00:00:00+01:00, 2013-06-08 00:02:00+01:00, 2013-06-08 00:04:00+01:00, 2013-06-08 00:06:00+01:00, 2013-06-08 00:08:00+01:00]"
      ]
     },
     "execution_count": 21,
     "metadata": {},
     "output_type": "execute_result"
    }
   ],
   "source": [
    "groundTruthApplianceReading.head()"
   ]
  },
  {
   "cell_type": "code",
   "execution_count": 22,
   "metadata": {
    "collapsed": true
   },
   "outputs": [],
   "source": [
    "for meter in appliance_map:\n",
    "    groundTruthApplianceReading[meter] = meterdata[appliance_map[meter]]\n",
    "    appliancedata = appliancedata.drop(appliance_map[meter],axis=1)    \n",
    "## the sum of other meter readings which will not be disaggregated\n",
    "groundTruthApplianceReading['othermeters'] = appliancedata.sum(axis=1)"
   ]
  },
  {
   "cell_type": "code",
   "execution_count": 24,
   "metadata": {
    "collapsed": false
   },
   "outputs": [
    {
     "data": {
      "text/html": [
       "<div>\n",
       "<table border=\"1\" class=\"dataframe\">\n",
       "  <thead>\n",
       "    <tr style=\"text-align: right;\">\n",
       "      <th></th>\n",
       "      <th>fridgefreezer</th>\n",
       "      <th>dishwasher</th>\n",
       "      <th>toaster</th>\n",
       "      <th>cooker</th>\n",
       "      <th>washingmachine</th>\n",
       "      <th>kettle</th>\n",
       "      <th>microwave</th>\n",
       "      <th>othermeters</th>\n",
       "    </tr>\n",
       "  </thead>\n",
       "  <tbody>\n",
       "    <tr>\n",
       "      <th>2013-06-08 00:00:00+01:00</th>\n",
       "      <td>29.250000</td>\n",
       "      <td>0.283333</td>\n",
       "      <td>0.016667</td>\n",
       "      <td>0</td>\n",
       "      <td>1.066667</td>\n",
       "      <td>0.280702</td>\n",
       "      <td>0</td>\n",
       "      <td>118.723363</td>\n",
       "    </tr>\n",
       "    <tr>\n",
       "      <th>2013-06-08 00:02:00+01:00</th>\n",
       "      <td>32.000000</td>\n",
       "      <td>0.333333</td>\n",
       "      <td>0.105263</td>\n",
       "      <td>0</td>\n",
       "      <td>1.052632</td>\n",
       "      <td>0.333333</td>\n",
       "      <td>0</td>\n",
       "      <td>129.472033</td>\n",
       "    </tr>\n",
       "    <tr>\n",
       "      <th>2013-06-08 00:04:00+01:00</th>\n",
       "      <td>30.508771</td>\n",
       "      <td>0.298246</td>\n",
       "      <td>0.100000</td>\n",
       "      <td>0</td>\n",
       "      <td>1.133333</td>\n",
       "      <td>0.298246</td>\n",
       "      <td>0</td>\n",
       "      <td>126.378589</td>\n",
       "    </tr>\n",
       "    <tr>\n",
       "      <th>2013-06-08 00:06:00+01:00</th>\n",
       "      <td>29.633334</td>\n",
       "      <td>0.300000</td>\n",
       "      <td>0.066667</td>\n",
       "      <td>0</td>\n",
       "      <td>1.050000</td>\n",
       "      <td>0.333333</td>\n",
       "      <td>0</td>\n",
       "      <td>123.999507</td>\n",
       "    </tr>\n",
       "    <tr>\n",
       "      <th>2013-06-08 00:08:00+01:00</th>\n",
       "      <td>29.052633</td>\n",
       "      <td>0.315789</td>\n",
       "      <td>0.105263</td>\n",
       "      <td>0</td>\n",
       "      <td>1.087719</td>\n",
       "      <td>0.333333</td>\n",
       "      <td>0</td>\n",
       "      <td>121.845294</td>\n",
       "    </tr>\n",
       "  </tbody>\n",
       "</table>\n",
       "</div>"
      ],
      "text/plain": [
       "                           fridgefreezer  dishwasher   toaster  cooker  \\\n",
       "2013-06-08 00:00:00+01:00      29.250000    0.283333  0.016667       0   \n",
       "2013-06-08 00:02:00+01:00      32.000000    0.333333  0.105263       0   \n",
       "2013-06-08 00:04:00+01:00      30.508771    0.298246  0.100000       0   \n",
       "2013-06-08 00:06:00+01:00      29.633334    0.300000  0.066667       0   \n",
       "2013-06-08 00:08:00+01:00      29.052633    0.315789  0.105263       0   \n",
       "\n",
       "                           washingmachine    kettle  microwave  othermeters  \n",
       "2013-06-08 00:00:00+01:00        1.066667  0.280702          0   118.723363  \n",
       "2013-06-08 00:02:00+01:00        1.052632  0.333333          0   129.472033  \n",
       "2013-06-08 00:04:00+01:00        1.133333  0.298246          0   126.378589  \n",
       "2013-06-08 00:06:00+01:00        1.050000  0.333333          0   123.999507  \n",
       "2013-06-08 00:08:00+01:00        1.087719  0.333333          0   121.845294  "
      ]
     },
     "execution_count": 24,
     "metadata": {},
     "output_type": "execute_result"
    }
   ],
   "source": [
    "groundTruthApplianceReading.head()"
   ]
  },
  {
   "cell_type": "code",
   "execution_count": 25,
   "metadata": {
    "collapsed": true
   },
   "outputs": [],
   "source": [
    "mains = meterdata['mains']"
   ]
  },
  {
   "cell_type": "code",
   "execution_count": 26,
   "metadata": {
    "collapsed": false
   },
   "outputs": [
    {
     "data": {
      "text/plain": [
       "2013-06-08 00:00:00+01:00    58.117223\n",
       "2013-06-08 00:02:00+01:00    65.959752\n",
       "2013-06-08 00:04:00+01:00    64.443502\n",
       "2013-06-08 00:06:00+01:00    63.058278\n",
       "2013-06-08 00:08:00+01:00    62.140030\n",
       "Freq: 120S, Name: mains, dtype: float64"
      ]
     },
     "execution_count": 26,
     "metadata": {},
     "output_type": "execute_result"
    }
   ],
   "source": [
    "mains.head()"
   ]
  },
  {
   "cell_type": "code",
   "execution_count": 27,
   "metadata": {
    "collapsed": true
   },
   "outputs": [],
   "source": [
    "lbm = LatentBayesianMelding()"
   ]
  },
  {
   "cell_type": "code",
   "execution_count": 29,
   "metadata": {
    "collapsed": false
   },
   "outputs": [
    {
     "name": "stdout",
     "output_type": "stream",
     "text": [
      "The trained meter: cooker\n",
      "The trained meter: kettle\n",
      "The trained meter: dishwasher\n",
      "The trained meter: toaster\n",
      "The trained meter: washingmachine\n",
      "The trained meter: fridgefreezer\n",
      "The trained meter: microwave\n"
     ]
    }
   ],
   "source": [
    "individual_model = lbm.import_model(meterlist,join('.', 'appliance_model_induced_density.json'))"
   ]
  },
  {
   "cell_type": "code",
   "execution_count": 30,
   "metadata": {
    "collapsed": true
   },
   "outputs": [],
   "source": [
    "import time"
   ]
  },
  {
   "cell_type": "code",
   "execution_count": 31,
   "metadata": {
    "collapsed": false
   },
   "outputs": [
    {
     "name": "stderr",
     "output_type": "stream",
     "text": [
      "/Users/nipunbatra/.local/lib/python2.7/site-packages/mosek/fusion/__init__.py:35823: FutureWarning: comparison to `None` will result in an elementwise object comparison in the future.\n",
      "  if   ((v == None) or (vals == None)):\n",
      "/Users/nipunbatra/.local/lib/python2.7/site-packages/mosek/fusion/__init__.py:35931: FutureWarning: comparison to `None` will result in an elementwise object comparison in the future.\n",
      "  if   ((mx == None) or (v == None)):\n",
      "/Users/nipunbatra/.local/lib/python2.7/site-packages/mosek/fusion/__init__.py:35953: FutureWarning: comparison to `None` will result in an elementwise object comparison in the future.\n",
      "  if   ((mx == None) or (v == None)):\n",
      "/Users/nipunbatra/.local/lib/python2.7/site-packages/mosek/fusion/__init__.py:35320: FutureWarning: comparison to `None` will result in an elementwise object comparison in the future.\n",
      "  if   ((lhs == None) or (rhs == None)):\n",
      "/Users/nipunbatra/.local/lib/python2.7/site-packages/mosek/fusion/__init__.py:26391: FutureWarning: comparison to `None` will result in an elementwise object comparison in the future.\n",
      "  if   (((cof_ == None) or (subj_ == None)) or (int(len(subj_)) != int(len(cof_)))):\n",
      "/Users/nipunbatra/.local/lib/python2.7/site-packages/mosek/fusion/__init__.py:32917: FutureWarning: comparison to `None` will result in an elementwise object comparison in the future.\n",
      "  if   (lhs.cof != None):\n",
      "/Users/nipunbatra/.local/lib/python2.7/site-packages/mosek/fusion/__init__.py:37022: FutureWarning: comparison to `None` will result in an elementwise object comparison in the future.\n",
      "  if   ((mx == None) or (v == None)):\n",
      "/Users/nipunbatra/.local/lib/python2.7/site-packages/mosek/fusion/__init__.py:32919: FutureWarning: comparison to `None` will result in an elementwise object comparison in the future.\n",
      "  if   (rhs.cof != None):\n",
      "/Users/nipunbatra/.local/lib/python2.7/site-packages/mosek/fusion/__init__.py:37044: FutureWarning: comparison to `None` will result in an elementwise object comparison in the future.\n",
      "  if   ((mx == None) or (v == None)):\n"
     ]
    },
    {
     "name": "stdout",
     "output_type": "stream",
     "text": [
      "*************Iteration: 1*****************\n",
      "Employing the Mosek solver to solve the problem:\n",
      "\n",
      "Declaring variables and constraints...\n",
      "\n",
      "\n",
      " Solving the problem ...\n",
      "\n",
      "+++++++++++++++optimization status+++++++++++++++++++\n",
      "Number of variables:62677\n",
      "Number of constraints:41070\n",
      "Primal solution status:SolutionStatus.Optimal\n",
      "Primal value:279.011281317\n",
      "Dual solution status:SolutionStatus.Optimal\n",
      "Dual value:279.011217\n",
      "Accepted solution status:AccSolutionStatus.Anything\n",
      "+++++++++++++++optimization status+++++++++++++++++++\n",
      "Solving this problem took '11.1346809864' seconds\n",
      "\n",
      " log(datalikelihood*prior)=30701.1653628\n",
      "\n",
      "*************Iteration: 2*****************\n",
      "Employing the Mosek solver to solve the problem:\n",
      "\n",
      "Declaring variables and constraints...\n",
      "\n",
      "\n",
      " Solving the problem ...\n",
      "\n",
      "+++++++++++++++optimization status+++++++++++++++++++\n",
      "Number of variables:62677\n",
      "Number of constraints:41070\n",
      "Primal solution status:SolutionStatus.Optimal\n",
      "Primal value:279.484336861\n",
      "Dual solution status:SolutionStatus.Optimal\n",
      "Dual value:279.484217366\n",
      "Accepted solution status:AccSolutionStatus.Anything\n",
      "+++++++++++++++optimization status+++++++++++++++++++\n",
      "Solving this problem took '11.0464918613' seconds\n",
      "\n",
      " log(datalikelihood*prior)=66437.329761\n",
      "\n",
      "*************Iteration: 3*****************\n",
      "Employing the Mosek solver to solve the problem:\n",
      "\n",
      "Declaring variables and constraints...\n",
      "\n",
      "\n",
      " Solving the problem ...\n",
      "\n",
      "+++++++++++++++optimization status+++++++++++++++++++\n",
      "Number of variables:62677\n",
      "Number of constraints:41070\n",
      "Primal solution status:SolutionStatus.Optimal\n",
      "Primal value:279.695577002\n",
      "Dual solution status:SolutionStatus.Optimal\n",
      "Dual value:279.599306672\n",
      "Accepted solution status:AccSolutionStatus.Anything\n",
      "+++++++++++++++optimization status+++++++++++++++++++\n",
      "Solving this problem took '11.6628289223' seconds\n",
      "\n",
      " log(datalikelihood*prior)=67595.4061181\n",
      "\n",
      "*************Iteration: 4*****************\n",
      "Employing the Mosek solver to solve the problem:\n",
      "\n",
      "Declaring variables and constraints...\n",
      "\n",
      "\n",
      " Solving the problem ...\n",
      "\n",
      "+++++++++++++++optimization status+++++++++++++++++++\n",
      "Number of variables:62677\n",
      "Number of constraints:41070\n",
      "Primal solution status:SolutionStatus.Optimal\n",
      "Primal value:279.851052322\n",
      "Dual solution status:SolutionStatus.Optimal\n",
      "Dual value:279.641684391\n",
      "Accepted solution status:AccSolutionStatus.Anything\n",
      "+++++++++++++++optimization status+++++++++++++++++++\n",
      "Solving this problem took '11.3244359493' seconds\n",
      "\n",
      " log(datalikelihood*prior)=67592.0527495\n",
      "\n"
     ]
    }
   ],
   "source": [
    "a = time.time()\n",
    "results = lbm.disaggregate_chunk(mains)\n",
    "b = time.time()"
   ]
  },
  {
   "cell_type": "code",
   "execution_count": 32,
   "metadata": {
    "collapsed": false
   },
   "outputs": [
    {
     "data": {
      "text/plain": [
       "46.12233901023865"
      ]
     },
     "execution_count": 32,
     "metadata": {},
     "output_type": "execute_result"
    }
   ],
   "source": [
    "b-a"
   ]
  },
  {
   "cell_type": "code",
   "execution_count": 37,
   "metadata": {
    "collapsed": false
   },
   "outputs": [
    {
     "data": {
      "text/html": [
       "<div>\n",
       "<table border=\"1\" class=\"dataframe\">\n",
       "  <thead>\n",
       "    <tr style=\"text-align: right;\">\n",
       "      <th></th>\n",
       "      <th>cooker</th>\n",
       "      <th>kettle</th>\n",
       "      <th>dishwasher</th>\n",
       "      <th>toaster</th>\n",
       "      <th>washingmachine</th>\n",
       "      <th>fridgefreezer</th>\n",
       "      <th>microwave</th>\n",
       "      <th>inferred mains</th>\n",
       "      <th>mains</th>\n",
       "    </tr>\n",
       "  </thead>\n",
       "  <tbody>\n",
       "    <tr>\n",
       "      <th>2013-06-08 00:00:00+01:00</th>\n",
       "      <td>16.808375</td>\n",
       "      <td>0.003654</td>\n",
       "      <td>5.646171</td>\n",
       "      <td>0.001531</td>\n",
       "      <td>0.008664</td>\n",
       "      <td>0.000124</td>\n",
       "      <td>0.001055</td>\n",
       "      <td>22.469574</td>\n",
       "      <td>58.117223</td>\n",
       "    </tr>\n",
       "    <tr>\n",
       "      <th>2013-06-08 00:02:00+01:00</th>\n",
       "      <td>16.811284</td>\n",
       "      <td>0.109192</td>\n",
       "      <td>5.647958</td>\n",
       "      <td>0.006600</td>\n",
       "      <td>0.113186</td>\n",
       "      <td>7.620325</td>\n",
       "      <td>0.003559</td>\n",
       "      <td>30.312103</td>\n",
       "      <td>65.959752</td>\n",
       "    </tr>\n",
       "    <tr>\n",
       "      <th>2013-06-08 00:04:00+01:00</th>\n",
       "      <td>15.479611</td>\n",
       "      <td>0.025948</td>\n",
       "      <td>5.554237</td>\n",
       "      <td>0.004360</td>\n",
       "      <td>0.109033</td>\n",
       "      <td>7.619711</td>\n",
       "      <td>0.002954</td>\n",
       "      <td>28.795852</td>\n",
       "      <td>64.443502</td>\n",
       "    </tr>\n",
       "    <tr>\n",
       "      <th>2013-06-08 00:06:00+01:00</th>\n",
       "      <td>14.151393</td>\n",
       "      <td>0.025223</td>\n",
       "      <td>5.504124</td>\n",
       "      <td>0.003915</td>\n",
       "      <td>0.104366</td>\n",
       "      <td>7.618822</td>\n",
       "      <td>0.002786</td>\n",
       "      <td>27.410629</td>\n",
       "      <td>63.058278</td>\n",
       "    </tr>\n",
       "    <tr>\n",
       "      <th>2013-06-08 00:08:00+01:00</th>\n",
       "      <td>13.278102</td>\n",
       "      <td>0.024389</td>\n",
       "      <td>5.466636</td>\n",
       "      <td>0.003758</td>\n",
       "      <td>0.099159</td>\n",
       "      <td>7.617618</td>\n",
       "      <td>0.002719</td>\n",
       "      <td>26.492380</td>\n",
       "      <td>62.140030</td>\n",
       "    </tr>\n",
       "  </tbody>\n",
       "</table>\n",
       "</div>"
      ],
      "text/plain": [
       "                              cooker    kettle  dishwasher   toaster  \\\n",
       "2013-06-08 00:00:00+01:00  16.808375  0.003654    5.646171  0.001531   \n",
       "2013-06-08 00:02:00+01:00  16.811284  0.109192    5.647958  0.006600   \n",
       "2013-06-08 00:04:00+01:00  15.479611  0.025948    5.554237  0.004360   \n",
       "2013-06-08 00:06:00+01:00  14.151393  0.025223    5.504124  0.003915   \n",
       "2013-06-08 00:08:00+01:00  13.278102  0.024389    5.466636  0.003758   \n",
       "\n",
       "                           washingmachine  fridgefreezer  microwave  \\\n",
       "2013-06-08 00:00:00+01:00        0.008664       0.000124   0.001055   \n",
       "2013-06-08 00:02:00+01:00        0.113186       7.620325   0.003559   \n",
       "2013-06-08 00:04:00+01:00        0.109033       7.619711   0.002954   \n",
       "2013-06-08 00:06:00+01:00        0.104366       7.618822   0.002786   \n",
       "2013-06-08 00:08:00+01:00        0.099159       7.617618   0.002719   \n",
       "\n",
       "                           inferred mains      mains  \n",
       "2013-06-08 00:00:00+01:00       22.469574  58.117223  \n",
       "2013-06-08 00:02:00+01:00       30.312103  65.959752  \n",
       "2013-06-08 00:04:00+01:00       28.795852  64.443502  \n",
       "2013-06-08 00:06:00+01:00       27.410629  63.058278  \n",
       "2013-06-08 00:08:00+01:00       26.492380  62.140030  "
      ]
     },
     "execution_count": 37,
     "metadata": {},
     "output_type": "execute_result"
    }
   ],
   "source": [
    "results['inferred appliance energy'].head()"
   ]
  },
  {
   "cell_type": "code",
   "execution_count": 40,
   "metadata": {
    "collapsed": false
   },
   "outputs": [
    {
     "data": {
      "text/plain": [
       "<matplotlib.axes._subplots.AxesSubplot at 0x116cf4e90>"
      ]
     },
     "execution_count": 40,
     "metadata": {},
     "output_type": "execute_result"
    },
    {
     "data": {
      "image/png": "[encoded data removed]",
      "text/plain": [
       "<matplotlib.figure.Figure at 0x116cf4090>"
      ]
     },
     "metadata": {},
     "output_type": "display_data"
    }
   ],
   "source": [
    "results['inferred appliance energy'][meterlist].plot()"
   ]
  },
  {
   "cell_type": "code",
   "execution_count": 44,
   "metadata": {
    "collapsed": false
   },
   "outputs": [
    {
     "data": {
      "text/plain": [
       "Index([u'('laptop computer', 1)', u'('computer monitor', 1)',\n",
       "       u'('active speaker', 1)', u'('computer', 1)',\n",
       "       u'('broadband router', 1)', u'('external hard disk', 1)',\n",
       "       u'('kettle', 1)', u'('rice cooker', 1)', u'('running machine', 1)',\n",
       "       u'('laptop computer', 2)', u'('washing machine', 1)',\n",
       "       u'('dish washer', 1)', u'('fridge', 1)', u'('microwave', 1)',\n",
       "       u'('toaster', 1)', u'('games console', 1)', u'('modem', 1)',\n",
       "       u'('cooker', 1)', u'mains', u'synthetic mains'],\n",
       "      dtype='object')"
      ]
     },
     "execution_count": 44,
     "metadata": {},
     "output_type": "execute_result"
    }
   ],
   "source": [
    "meterdata.columns"
   ]
  },
  {
   "cell_type": "code",
   "execution_count": 96,
   "metadata": {
    "collapsed": false
   },
   "outputs": [
    {
     "data": {
      "text/plain": [
       "['cooker',\n",
       " 'kettle',\n",
       " 'dishwasher',\n",
       " 'toaster',\n",
       " 'washingmachine',\n",
       " 'fridgefreezer',\n",
       " 'microwave']"
      ]
     },
     "execution_count": 96,
     "metadata": {},
     "output_type": "execute_result"
    }
   ],
   "source": [
    "individual_model.keys()"
   ]
  },
  {
   "cell_type": "code",
   "execution_count": 104,
   "metadata": {
    "collapsed": false
   },
   "outputs": [
    {
     "data": {
      "text/plain": [
       "[u'numberOfCyclesStats',\n",
       " u'induced density of sac',\n",
       " u'means',\n",
       " u'sac',\n",
       " u'startprob',\n",
       " u'transprob',\n",
       " u'appliance code map',\n",
       " 'numberOfStates',\n",
       " u'sac sample',\n",
       " u'induced density of duration']"
      ]
     },
     "execution_count": 104,
     "metadata": {},
     "output_type": "execute_result"
    }
   ],
   "source": [
    "individual_model['fridgefreezer'].keys()"
   ]
  },
  {
   "cell_type": "code",
   "execution_count": 110,
   "metadata": {
    "collapsed": false
   },
   "outputs": [
    {
     "data": {
      "text/plain": [
       "[13.236, 12.1442903369356]"
      ]
     },
     "execution_count": 110,
     "metadata": {},
     "output_type": "execute_result"
    }
   ],
   "source": [
    "individual_model['microwave']['induced density of duration']"
   ]
  },
  {
   "cell_type": "code",
   "execution_count": 90,
   "metadata": {
    "collapsed": false
   },
   "outputs": [],
   "source": [
    "appliance =\"microwave\"\n",
    "pred = results['inferred appliance energy'][appliance]\n",
    "gt = groundTruthApplianceReading[appliance]"
   ]
  },
  {
   "cell_type": "code",
   "execution_count": 91,
   "metadata": {
    "collapsed": true
   },
   "outputs": [],
   "source": [
    "import matplotlib.pyplot as plt\n",
    "import numpy as np"
   ]
  },
  {
   "cell_type": "code",
   "execution_count": 92,
   "metadata": {
    "collapsed": false
   },
   "outputs": [
    {
     "data": {
      "text/plain": [
       "99.952865860459838"
      ]
     },
     "execution_count": 92,
     "metadata": {},
     "output_type": "execute_result"
    }
   ],
   "source": [
    "100*np.abs(pred.sum()-gt.sum())/gt.sum()"
   ]
  },
  {
   "cell_type": "code",
   "execution_count": 93,
   "metadata": {
    "collapsed": false
   },
   "outputs": [
    {
     "name": "stdout",
     "output_type": "stream",
     "text": [
      "1.86353050733 3953.67460934\n"
     ]
    }
   ],
   "source": [
    "print (pred.sum(), gt.sum())"
   ]
  },
  {
   "cell_type": "code",
   "execution_count": 62,
   "metadata": {
    "collapsed": false
   },
   "outputs": [
    {
     "ename": "KeyError",
     "evalue": "\"[('dish washer', 1)] not in index\"",
     "output_type": "error",
     "traceback": [
      "\u001b[0;31m---------------------------------------------------------------------------\u001b[0m",
      "\u001b[0;31mKeyError\u001b[0m                                  Traceback (most recent call last)",
      "\u001b[0;32m<ipython-input-62-21699f25a66a>\u001b[0m in \u001b[0;36m<module>\u001b[0;34m()\u001b[0m\n\u001b[0;32m----> 1\u001b[0;31m \u001b[0mmeterdata\u001b[0m\u001b[0;34m[\u001b[0m\u001b[0;34m[\u001b[0m\u001b[0;34m(\u001b[0m\u001b[0;34m'dish washer'\u001b[0m\u001b[0;34m,\u001b[0m\u001b[0;36m1\u001b[0m\u001b[0;34m)\u001b[0m\u001b[0;34m]\u001b[0m\u001b[0;34m]\u001b[0m\u001b[0;34m\u001b[0m\u001b[0m\n\u001b[0m",
      "\u001b[0;32m/Users/nipunbatra/anaconda/lib/python2.7/site-packages/pandas/core/frame.pyc\u001b[0m in \u001b[0;36m__getitem__\u001b[0;34m(self, key)\u001b[0m\n\u001b[1;32m   1789\u001b[0m         \u001b[0;32mif\u001b[0m \u001b[0misinstance\u001b[0m\u001b[0;34m(\u001b[0m\u001b[0mkey\u001b[0m\u001b[0;34m,\u001b[0m \u001b[0;34m(\u001b[0m\u001b[0mSeries\u001b[0m\u001b[0;34m,\u001b[0m \u001b[0mnp\u001b[0m\u001b[0;34m.\u001b[0m\u001b[0mndarray\u001b[0m\u001b[0;34m,\u001b[0m \u001b[0mIndex\u001b[0m\u001b[0;34m,\u001b[0m \u001b[0mlist\u001b[0m\u001b[0;34m)\u001b[0m\u001b[0;34m)\u001b[0m\u001b[0;34m:\u001b[0m\u001b[0;34m\u001b[0m\u001b[0m\n\u001b[1;32m   1790\u001b[0m             \u001b[0;31m# either boolean or fancy integer index\u001b[0m\u001b[0;34m\u001b[0m\u001b[0;34m\u001b[0m\u001b[0m\n\u001b[0;32m-> 1791\u001b[0;31m             \u001b[0;32mreturn\u001b[0m \u001b[0mself\u001b[0m\u001b[0;34m.\u001b[0m\u001b[0m_getitem_array\u001b[0m\u001b[0;34m(\u001b[0m\u001b[0mkey\u001b[0m\u001b[0;34m)\u001b[0m\u001b[0;34m\u001b[0m\u001b[0m\n\u001b[0m\u001b[1;32m   1792\u001b[0m         \u001b[0;32melif\u001b[0m \u001b[0misinstance\u001b[0m\u001b[0;34m(\u001b[0m\u001b[0mkey\u001b[0m\u001b[0;34m,\u001b[0m \u001b[0mDataFrame\u001b[0m\u001b[0;34m)\u001b[0m\u001b[0;34m:\u001b[0m\u001b[0;34m\u001b[0m\u001b[0m\n\u001b[1;32m   1793\u001b[0m             \u001b[0;32mreturn\u001b[0m \u001b[0mself\u001b[0m\u001b[0;34m.\u001b[0m\u001b[0m_getitem_frame\u001b[0m\u001b[0;34m(\u001b[0m\u001b[0mkey\u001b[0m\u001b[0;34m)\u001b[0m\u001b[0;34m\u001b[0m\u001b[0m\n",
      "\u001b[0;32m/Users/nipunbatra/anaconda/lib/python2.7/site-packages/pandas/core/frame.pyc\u001b[0m in \u001b[0;36m_getitem_array\u001b[0;34m(self, key)\u001b[0m\n\u001b[1;32m   1833\u001b[0m             \u001b[0;32mreturn\u001b[0m \u001b[0mself\u001b[0m\u001b[0;34m.\u001b[0m\u001b[0mtake\u001b[0m\u001b[0;34m(\u001b[0m\u001b[0mindexer\u001b[0m\u001b[0;34m,\u001b[0m \u001b[0maxis\u001b[0m\u001b[0;34m=\u001b[0m\u001b[0;36m0\u001b[0m\u001b[0;34m,\u001b[0m \u001b[0mconvert\u001b[0m\u001b[0;34m=\u001b[0m\u001b[0mFalse\u001b[0m\u001b[0;34m)\u001b[0m\u001b[0;34m\u001b[0m\u001b[0m\n\u001b[1;32m   1834\u001b[0m         \u001b[0;32melse\u001b[0m\u001b[0;34m:\u001b[0m\u001b[0;34m\u001b[0m\u001b[0m\n\u001b[0;32m-> 1835\u001b[0;31m             \u001b[0mindexer\u001b[0m \u001b[0;34m=\u001b[0m \u001b[0mself\u001b[0m\u001b[0;34m.\u001b[0m\u001b[0mix\u001b[0m\u001b[0;34m.\u001b[0m\u001b[0m_convert_to_indexer\u001b[0m\u001b[0;34m(\u001b[0m\u001b[0mkey\u001b[0m\u001b[0;34m,\u001b[0m \u001b[0maxis\u001b[0m\u001b[0;34m=\u001b[0m\u001b[0;36m1\u001b[0m\u001b[0;34m)\u001b[0m\u001b[0;34m\u001b[0m\u001b[0m\n\u001b[0m\u001b[1;32m   1836\u001b[0m             \u001b[0;32mreturn\u001b[0m \u001b[0mself\u001b[0m\u001b[0;34m.\u001b[0m\u001b[0mtake\u001b[0m\u001b[0;34m(\u001b[0m\u001b[0mindexer\u001b[0m\u001b[0;34m,\u001b[0m \u001b[0maxis\u001b[0m\u001b[0;34m=\u001b[0m\u001b[0;36m1\u001b[0m\u001b[0;34m,\u001b[0m \u001b[0mconvert\u001b[0m\u001b[0;34m=\u001b[0m\u001b[0mTrue\u001b[0m\u001b[0;34m)\u001b[0m\u001b[0;34m\u001b[0m\u001b[0m\n\u001b[1;32m   1837\u001b[0m \u001b[0;34m\u001b[0m\u001b[0m\n",
      "\u001b[0;32m/Users/nipunbatra/anaconda/lib/python2.7/site-packages/pandas/core/indexing.pyc\u001b[0m in \u001b[0;36m_convert_to_indexer\u001b[0;34m(self, obj, axis, is_setter)\u001b[0m\n\u001b[1;32m   1110\u001b[0m                 \u001b[0mmask\u001b[0m \u001b[0;34m=\u001b[0m \u001b[0mcheck\u001b[0m \u001b[0;34m==\u001b[0m \u001b[0;34m-\u001b[0m\u001b[0;36m1\u001b[0m\u001b[0;34m\u001b[0m\u001b[0m\n\u001b[1;32m   1111\u001b[0m                 \u001b[0;32mif\u001b[0m \u001b[0mmask\u001b[0m\u001b[0;34m.\u001b[0m\u001b[0many\u001b[0m\u001b[0;34m(\u001b[0m\u001b[0;34m)\u001b[0m\u001b[0;34m:\u001b[0m\u001b[0;34m\u001b[0m\u001b[0m\n\u001b[0;32m-> 1112\u001b[0;31m                     \u001b[0;32mraise\u001b[0m \u001b[0mKeyError\u001b[0m\u001b[0;34m(\u001b[0m\u001b[0;34m'%s not in index'\u001b[0m \u001b[0;34m%\u001b[0m \u001b[0mobjarr\u001b[0m\u001b[0;34m[\u001b[0m\u001b[0mmask\u001b[0m\u001b[0;34m]\u001b[0m\u001b[0;34m)\u001b[0m\u001b[0;34m\u001b[0m\u001b[0m\n\u001b[0m\u001b[1;32m   1113\u001b[0m \u001b[0;34m\u001b[0m\u001b[0m\n\u001b[1;32m   1114\u001b[0m                 \u001b[0;32mreturn\u001b[0m \u001b[0m_values_from_object\u001b[0m\u001b[0;34m(\u001b[0m\u001b[0mindexer\u001b[0m\u001b[0;34m)\u001b[0m\u001b[0;34m\u001b[0m\u001b[0m\n",
      "\u001b[0;31mKeyError\u001b[0m: \"[('dish washer', 1)] not in index\""
     ]
    }
   ],
   "source": []
  },
  {
   "cell_type": "code",
   "execution_count": 68,
   "metadata": {
    "collapsed": false
   },
   "outputs": [
    {
     "data": {
      "text/html": [
       "<div>\n",
       "<table border=\"1\" class=\"dataframe\">\n",
       "  <thead>\n",
       "    <tr style=\"text-align: right;\">\n",
       "      <th></th>\n",
       "      <th>fridgefreezer</th>\n",
       "      <th>dishwasher</th>\n",
       "      <th>toaster</th>\n",
       "      <th>cooker</th>\n",
       "      <th>washingmachine</th>\n",
       "      <th>kettle</th>\n",
       "      <th>microwave</th>\n",
       "      <th>othermeters</th>\n",
       "    </tr>\n",
       "  </thead>\n",
       "  <tbody>\n",
       "    <tr>\n",
       "      <th>2013-06-08 00:00:00+01:00</th>\n",
       "      <td>29.250000</td>\n",
       "      <td>0.283333</td>\n",
       "      <td>0.016667</td>\n",
       "      <td>0</td>\n",
       "      <td>1.066667</td>\n",
       "      <td>0.280702</td>\n",
       "      <td>0</td>\n",
       "      <td>118.723363</td>\n",
       "    </tr>\n",
       "    <tr>\n",
       "      <th>2013-06-08 00:02:00+01:00</th>\n",
       "      <td>32.000000</td>\n",
       "      <td>0.333333</td>\n",
       "      <td>0.105263</td>\n",
       "      <td>0</td>\n",
       "      <td>1.052632</td>\n",
       "      <td>0.333333</td>\n",
       "      <td>0</td>\n",
       "      <td>129.472033</td>\n",
       "    </tr>\n",
       "    <tr>\n",
       "      <th>2013-06-08 00:04:00+01:00</th>\n",
       "      <td>30.508771</td>\n",
       "      <td>0.298246</td>\n",
       "      <td>0.100000</td>\n",
       "      <td>0</td>\n",
       "      <td>1.133333</td>\n",
       "      <td>0.298246</td>\n",
       "      <td>0</td>\n",
       "      <td>126.378589</td>\n",
       "    </tr>\n",
       "    <tr>\n",
       "      <th>2013-06-08 00:06:00+01:00</th>\n",
       "      <td>29.633334</td>\n",
       "      <td>0.300000</td>\n",
       "      <td>0.066667</td>\n",
       "      <td>0</td>\n",
       "      <td>1.050000</td>\n",
       "      <td>0.333333</td>\n",
       "      <td>0</td>\n",
       "      <td>123.999507</td>\n",
       "    </tr>\n",
       "    <tr>\n",
       "      <th>2013-06-08 00:08:00+01:00</th>\n",
       "      <td>29.052633</td>\n",
       "      <td>0.315789</td>\n",
       "      <td>0.105263</td>\n",
       "      <td>0</td>\n",
       "      <td>1.087719</td>\n",
       "      <td>0.333333</td>\n",
       "      <td>0</td>\n",
       "      <td>121.845294</td>\n",
       "    </tr>\n",
       "  </tbody>\n",
       "</table>\n",
       "</div>"
      ],
      "text/plain": [
       "                           fridgefreezer  dishwasher   toaster  cooker  \\\n",
       "2013-06-08 00:00:00+01:00      29.250000    0.283333  0.016667       0   \n",
       "2013-06-08 00:02:00+01:00      32.000000    0.333333  0.105263       0   \n",
       "2013-06-08 00:04:00+01:00      30.508771    0.298246  0.100000       0   \n",
       "2013-06-08 00:06:00+01:00      29.633334    0.300000  0.066667       0   \n",
       "2013-06-08 00:08:00+01:00      29.052633    0.315789  0.105263       0   \n",
       "\n",
       "                           washingmachine    kettle  microwave  othermeters  \n",
       "2013-06-08 00:00:00+01:00        1.066667  0.280702          0   118.723363  \n",
       "2013-06-08 00:02:00+01:00        1.052632  0.333333          0   129.472033  \n",
       "2013-06-08 00:04:00+01:00        1.133333  0.298246          0   126.378589  \n",
       "2013-06-08 00:06:00+01:00        1.050000  0.333333          0   123.999507  \n",
       "2013-06-08 00:08:00+01:00        1.087719  0.333333          0   121.845294  "
      ]
     },
     "execution_count": 68,
     "metadata": {},
     "output_type": "execute_result"
    }
   ],
   "source": [
    "groundTruthApplianceReading.head()"
   ]
  },
  {
   "cell_type": "code",
   "execution_count": null,
   "metadata": {
    "collapsed": true
   },
   "outputs": [],
   "source": []
  }
 ],
 "metadata": {
  "kernelspec": {
   "display_name": "Python 2",
   "language": "python",
   "name": "python2"
  },
  "language_info": {
   "codemirror_mode": {
    "name": "ipython",
    "version": 2
   },
   "file_extension": ".py",
   "mimetype": "text/x-python",
   "name": "python",
   "nbconvert_exporter": "python",
   "pygments_lexer": "ipython2",
   "version": "2.7.11"
  }
 },
 "nbformat": 4,
 "nbformat_minor": 0
}
